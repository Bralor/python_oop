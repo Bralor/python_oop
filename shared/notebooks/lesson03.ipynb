{
 "cells": [
  {
   "cell_type": "markdown",
   "metadata": {},
   "source": [
    "# Python objektově orientované programování"
   ]
  },
  {
   "cell_type": "markdown",
   "metadata": {},
   "source": [
    "<br>\n",
    "\n",
    "## Základní pilíře objektově-orientovaného programování\n",
    "\n",
    "---"
   ]
  },
  {
   "cell_type": "markdown",
   "metadata": {},
   "source": [
    "1. [Polymorfismus](#Polymorfismus-(-~polymorphism)),\n",
    "    - [terminologie](#Terminologie),\n",
    "    - [význam v Pythonu](#Význam-v-Pythonu),\n",
    "    - [využití v OOP](#Využití-v-OOP),\n",
    "    - [cvičení 7](#🧠-CVIČENÍ-7-🧠,-Vytvoř-třídy-CsvProcessor-a-TxtProcessor:),\n",
    "2. [zapouzdření](#Zapouzdření-(~encapsulation)),\n",
    "    - [bez zapouzdření](#Bez-konceptu-zapouzdření),\n",
    "    - [privátní objekty](#Privátní-objekty),\n",
    "    - [gettery, settery](#Gettery,-settery),\n",
    "    - [cvičení 8](#🧠-CVIČENÍ-8-🧠,-Vytvoř-třídu-AutomobilTesla-a-doplň-následující:),\n",
    "3. [dědičnost](#Dědičnost-(~inheritence)),\n",
    "    - [význam slova](#Význam-slova),\n",
    "    - [jednoduchá dědičnost](#Jednoduchá-dědičnost),\n",
    "    - [funkce super()](#Funkce-super()),\n",
    "    - [vícenásobné dělení](#Vícenásobné-dědění),\n",
    "    - [zřetězené dělení](#Zřetězené-dědění),\n",
    "    - [method resolution order](MRO-(~Method-resolution-order)),\n",
    "    - [cvičení 9](#🧠-CVIČENÍ-9-🧠,-Vytvoř-třídu-Auto-a-doplň-následující:),\n",
    "4. [abstrakce](#Abstrakce),\n",
    "    - [význam slova](#Význam-pojmu),\n",
    "    - [v praxi](#V-praxi),\n",
    "    - [knihovna ABC](#Knihovna-abc),\n",
    "    - [cvičení 10](#🧠-CVIČENÍ-10-🧠,-Vytvoř-třídu-HerniPostava-a-doplň-následující:)."
   ]
  },
  {
   "cell_type": "code",
   "execution_count": null,
   "metadata": {},
   "outputs": [],
   "source": []
  },
  {
   "cell_type": "markdown",
   "metadata": {},
   "source": [
    "Ve skutečnosti jde o **čtyři teoretické základy**, na kterých OOP stojí."
   ]
  },
  {
   "cell_type": "markdown",
   "metadata": {},
   "source": [
    "<br>\n",
    "\n",
    "\n",
    "## Polymorfismus ( ~polymorphism)\n",
    "\n",
    "---"
   ]
  },
  {
   "cell_type": "markdown",
   "metadata": {},
   "source": [
    "<img src=\"https://i.imgur.com/COUOylr.png\" width=\"1000\" style=\"margin-left:auto; margin-right:auto\">"
   ]
  },
  {
   "cell_type": "markdown",
   "metadata": {},
   "source": [
    "### Terminologie\n",
    "\n",
    "---"
   ]
  },
  {
   "cell_type": "markdown",
   "metadata": {},
   "source": [
    "**Polymorfismus** znamená *mnohotvárnost*.\n",
    "\n",
    "Lidsky si pod tímto můžeš představit situaci, kdy lze jednu věc popsat různými aplikacemi.\n",
    "\n",
    "Například **pozdrav**. Slušný pozdrav můžeš vyjádřit několika způsoby, nebo dokonce různými jazyky.\n",
    "\n",
    "<br>"
   ]
  },
  {
   "cell_type": "markdown",
   "metadata": {},
   "source": [
    "### Význam v Pythonu\n",
    "\n",
    "---"
   ]
  },
  {
   "cell_type": "markdown",
   "metadata": {
    "tags": []
   },
   "source": [
    "Ve světě programování  to zase znamená, že jeden objekt, může plnit různé účely:"
   ]
  },
  {
   "cell_type": "code",
   "execution_count": null,
   "metadata": {
    "tags": []
   },
   "outputs": [],
   "source": [
    "print(\n",
    "    1 + 1,            # operátor '+' s celočíselnými operandy,\n",
    "    \"Lekce\" + \" #02\", # operátor '+' se stringovými operandy,\n",
    "    sep=\"\\n\"\n",
    ")"
   ]
  },
  {
   "cell_type": "markdown",
   "metadata": {},
   "source": [
    "<br>\n",
    "\n",
    "Tento koncept už znáš.\n",
    "\n",
    "Operátor `+` totiž znamená **pro dva odlišné datové typy, dvě odlišné procedůry**:\n",
    "1. `int`, sčítání,\n",
    "2. `str`, spojování (~concatenation)."
   ]
  },
  {
   "cell_type": "markdown",
   "metadata": {},
   "source": [
    "<br>\n",
    "\n",
    "Takovou mnohotvárnost, ale neznáš jen mezi `int` a `str`.\n",
    "\n",
    "Podobného chování si můžeš všimnout i pro uživ. funkci `len`:"
   ]
  },
  {
   "cell_type": "code",
   "execution_count": null,
   "metadata": {},
   "outputs": [],
   "source": [
    "print(\n",
    "    len(\"Matous\"),                                                             # str\n",
    "    len([\"město\", \"moře\", \"kuře\", \"stavení\"]),                                 # list\n",
    "    len({\"jmeno\": \"Matous\", \"prijmeni\": \"Holinka\", \"email\": \"matous@nic.cz\"}), # dict\n",
    "    sep=\"\\n\"\n",
    ")"
   ]
  },
  {
   "cell_type": "code",
   "execution_count": null,
   "metadata": {
    "tags": []
   },
   "outputs": [],
   "source": [
    "\"Matous\".__len__()"
   ]
  },
  {
   "cell_type": "markdown",
   "metadata": {},
   "source": [
    "<br>\n",
    "\n",
    "Vidíš, že funkce `len` umí pracovat s různými datovými typy.\n",
    "\n",
    "<br>\n",
    "\n",
    "Vrací specifickou hodnotu pro každý datový typ zvlášť. Ale pořád používáš jednu a tutéž funkci.\n",
    "1. `str`, délka řetězce,\n",
    "2. `list`, počet údajů v sekvenci,\n",
    "3. `dict`, počet klíčů v objektu\n",
    "\n",
    "<br>"
   ]
  },
  {
   "cell_type": "markdown",
   "metadata": {},
   "source": [
    "### Využití v OOP\n",
    "\n",
    "---"
   ]
  },
  {
   "cell_type": "markdown",
   "metadata": {},
   "source": [
    "Dále tento koncept umožňuje přepisovat jména a použití **metod**:"
   ]
  },
  {
   "cell_type": "code",
   "execution_count": null,
   "metadata": {
    "tags": []
   },
   "outputs": [],
   "source": [
    "class CsvProcessor:\n",
    "    def precti_soubor(self) -> str:\n",
    "        return \"Otevírám CSV soubor...\""
   ]
  },
  {
   "cell_type": "code",
   "execution_count": null,
   "metadata": {
    "tags": []
   },
   "outputs": [],
   "source": [
    "class JsonProcessor:\n",
    "    def precti_soubor(self) -> str:\n",
    "        return \"Otevírám JSON soubor...\""
   ]
  },
  {
   "cell_type": "code",
   "execution_count": null,
   "metadata": {
    "tags": []
   },
   "outputs": [],
   "source": [
    "csv_soubor = CsvProcessor()\n",
    "json_soubor = JsonProcessor()"
   ]
  },
  {
   "cell_type": "code",
   "execution_count": null,
   "metadata": {
    "tags": []
   },
   "outputs": [],
   "source": [
    "for soubor in (csv_soubor, json_soubor):\n",
    "    print(soubor.precti_soubor())"
   ]
  },
  {
   "cell_type": "markdown",
   "metadata": {},
   "source": [
    "<br>\n",
    "\n",
    "Prakticky to tedy znamená, že *polymorfismus* umožní objektům **různých tříd**, pracovat **se stejnojmennými metodami**.\n",
    "\n",
    "S dalším využitím *polymorfismu* se můžeš setkat u dědičnosti (později v materiálech)."
   ]
  },
  {
   "cell_type": "markdown",
   "metadata": {},
   "source": [
    "<br>\n",
    "\n",
    "### 🧠 CVIČENÍ 7 🧠, Vytvoř třídy `CsvProcessor` a `TxtProcessor`:\n",
    "---"
   ]
  },
  {
   "cell_type": "markdown",
   "metadata": {
    "tags": []
   },
   "source": [
    "- Definuj třídu `CsvProcessor`, s metodou `__init__`, která potřebuje jen parametr `jmeno_souboru`,\n",
    "- zadej třídě `CsvProcessor` třídní atribut `ext` s hodnotou `.csv`,\n",
    "- metoda `__init__` sama ověří, jestli proměnná obsahuje správnou příponu,\n",
    "- pokud je přípona `.csv`, definuj instanční atribut, jinak vyvolej výjimku s textem: `Špatný formát souboru`,\n",
    "- vytvoř metodu `nacti_obsah`, která přečte a vrátí obsah **csv** souboru,\n",
    "- definuj třídu `TxtProcessor`, s metodou `__init__`, která potřebuje jen parametr `jmeno_souboru`,\n",
    "- zadej třídě `TxtProcessor` třídní atribut `ext` s hodnotou `.txt`,\n",
    "- metoda `__init__` sama ověří, jestli proměnná obsahuje správnou příponu,\n",
    "- pokud je přípona `.txt`, definuj instanční atribut, jinak vyvolej výjimku s textem: `Špatný formát souboru`,\n",
    "- vytvoř metodu `nacti_obsah`, která přečte a vrátí obsah **txt** souboru.\n",
    "\n",
    "Před spuštěním ukázky si nezapomeň vytvořit pokusné soubory."
   ]
  },
  {
   "cell_type": "code",
   "execution_count": null,
   "metadata": {
    "tags": []
   },
   "outputs": [],
   "source": [
    "csv_1 = CsvProcessor(\"csv_pokus.csv\")\n",
    "txt_1 = TxtProcessor(\"txt_pokus.txt\")"
   ]
  },
  {
   "cell_type": "markdown",
   "metadata": {},
   "source": [
    "<details>\n",
    "    <summary>▶️ Řešení</summary>\n",
    "    \n",
    "    ```\n",
    "    from pathlib import Path\n",
    "\n",
    "    from pandas import read_csv\n",
    "    \n",
    "    \n",
    "    class CsvProcessor:\n",
    "        ext: str = \".csv\"\n",
    "\n",
    "        def __init__(self, jmeno_souboru: str):\n",
    "            if Path(jmeno_souboru).suffix != self.ext:\n",
    "                raise Exception(\"Špatný formát souboru\")\n",
    "            self.jmeno_souboru = jmeno_souboru\n",
    "\n",
    "        def nacti_obsah(self):\n",
    "            return read_csv(self.jmeno_souboru)\n",
    "\n",
    "\n",
    "    class TxtProcessor:\n",
    "        ext: str = \".txt\"\n",
    "\n",
    "        def __init__(self, jmeno_souboru: str):\n",
    "            if Path(jmeno_souboru).suffix != self.ext:\n",
    "                raise Exception(\"Špatný formát souboru\")\n",
    "            self.jmeno_souboru = jmeno_souboru\n",
    "\n",
    "        def nacti_obsah(self):\n",
    "            with open(self.jmeno_souboru) as txt:\n",
    "                return txt.read()\n",
    "    ```\n",
    "</details>"
   ]
  },
  {
   "cell_type": "code",
   "execution_count": null,
   "metadata": {},
   "outputs": [],
   "source": []
  },
  {
   "cell_type": "markdown",
   "metadata": {},
   "source": [
    "<br>\n",
    "\n",
    "## Zapouzdření (~encapsulation)\n",
    "\n",
    "---"
   ]
  },
  {
   "cell_type": "markdown",
   "metadata": {},
   "source": [
    "<img src=\"https://external-content.duckduckgo.com/iu/?u=https%3A%2F%2Ftse1.mm.bing.net%2Fth%3Fid%3DOIP.uDpIgfGQDzGDPvxtzsz-5AHaHa%26pid%3DApi&f=1&ipt=eb0bca94ab317533d3313fe92c84884bff2b45c5ce18cfdb8341427e8a8311fe&ipo=images\" width=\"300\" style=\"margin-left:auto; margin-right:auto\">"
   ]
  },
  {
   "cell_type": "markdown",
   "metadata": {},
   "source": [
    "### Terminologie\n",
    "\n",
    "---"
   ]
  },
  {
   "cell_type": "markdown",
   "metadata": {},
   "source": [
    "Tento pojem obecně označuje **nějaké skrývání**.\n",
    "\n",
    "Jde především o práci **s privátními a chráněnými** atributy nebo metodami.\n",
    "\n",
    "Účelem tohoto skrývání, nebo zapouzdření je ochrana.\n",
    "\n",
    "<br>\n",
    "\n",
    "Aby programátoři nepřepisovali, co nemají a tím nezpůsobili **komplikace** zdrojového kódu."
   ]
  },
  {
   "cell_type": "markdown",
   "metadata": {},
   "source": [
    "### Bez konceptu zapouzdření\n",
    "\n",
    "---"
   ]
  },
  {
   "cell_type": "markdown",
   "metadata": {},
   "source": [
    "V kombinaci s **chráněnými objekty** chceš některé procesy zajistit a současně nekomplikovat uživatelské použití:"
   ]
  },
  {
   "cell_type": "code",
   "execution_count": null,
   "metadata": {
    "tags": []
   },
   "outputs": [],
   "source": [
    "class MojeAplikace:\n",
    "    \n",
    "    def __init__(self, jmeno: str, kredit: int):\n",
    "        self.jmeno = jmeno\n",
    "        self.kredit = kredit\n",
    "        \n",
    "    def vypis_status(self):\n",
    "        return f\"Uživatel: {self.jmeno}, dostupné kredity: {self.kredit}\""
   ]
  },
  {
   "cell_type": "code",
   "execution_count": null,
   "metadata": {
    "tags": []
   },
   "outputs": [],
   "source": [
    "uzivatel_matous = MojeAplikace(\"Matouš\", 100)"
   ]
  },
  {
   "cell_type": "code",
   "execution_count": null,
   "metadata": {
    "tags": []
   },
   "outputs": [],
   "source": [
    "print(uzivatel_matous.vypis_status())"
   ]
  },
  {
   "cell_type": "markdown",
   "metadata": {},
   "source": [
    "<br>\n",
    "\n",
    "V aktuálním stavu třídy může **kdokoliv přistup z venku** naší třídy `MojeAplikace` a nedopatřením přepsat hodnoty:"
   ]
  },
  {
   "cell_type": "code",
   "execution_count": null,
   "metadata": {
    "tags": []
   },
   "outputs": [],
   "source": [
    "uzivatel_matous.kredit = 10_000"
   ]
  },
  {
   "cell_type": "code",
   "execution_count": null,
   "metadata": {
    "tags": []
   },
   "outputs": [],
   "source": [
    "print(10_000)"
   ]
  },
  {
   "cell_type": "code",
   "execution_count": null,
   "metadata": {
    "tags": []
   },
   "outputs": [],
   "source": [
    "print(uzivatel_matous.vypis_status())"
   ]
  },
  {
   "cell_type": "code",
   "execution_count": null,
   "metadata": {
    "tags": []
   },
   "outputs": [],
   "source": [
    "uzivatel_matous.kredit = \"10_000\""
   ]
  },
  {
   "cell_type": "code",
   "execution_count": null,
   "metadata": {
    "tags": []
   },
   "outputs": [],
   "source": [
    "print(uzivatel_matous.vypis_status())"
   ]
  },
  {
   "cell_type": "markdown",
   "metadata": {},
   "source": [
    "### Privátní objekty\n",
    "\n",
    "---"
   ]
  },
  {
   "cell_type": "markdown",
   "metadata": {},
   "source": [
    "<br>\n",
    "\n",
    "Proto je vhodné, zápis doplnit:\n",
    "1. **privátními** `__jmeno`,\n",
    "2. **chráněnými** `_jmeno`."
   ]
  },
  {
   "cell_type": "code",
   "execution_count": null,
   "metadata": {
    "tags": []
   },
   "outputs": [],
   "source": [
    "class MojeAplikace:\n",
    "    \n",
    "    def __init__(self, jmeno: str, kredit: int):\n",
    "        self.jmeno = jmeno\n",
    "        self.__kredit = kredit\n",
    "        \n",
    "    def vypis_status(self):\n",
    "        return f\"Uživatel: {self.jmeno}, dostupné kredity: {self.__kredit}\""
   ]
  },
  {
   "cell_type": "code",
   "execution_count": null,
   "metadata": {
    "tags": []
   },
   "outputs": [],
   "source": [
    "uzivatel_lukas = MojeAplikace(\"Lukáš\", 1000)"
   ]
  },
  {
   "cell_type": "code",
   "execution_count": null,
   "metadata": {
    "tags": []
   },
   "outputs": [],
   "source": [
    "print(uzivatel_lukas.vypis_status())"
   ]
  },
  {
   "cell_type": "code",
   "execution_count": null,
   "metadata": {
    "tags": []
   },
   "outputs": [],
   "source": [
    "uzivatel_lukas.kredit = 1_000_000"
   ]
  },
  {
   "cell_type": "code",
   "execution_count": null,
   "metadata": {
    "tags": []
   },
   "outputs": [],
   "source": [
    "print(uzivatel_lukas.vypis_status())"
   ]
  },
  {
   "cell_type": "code",
   "execution_count": null,
   "metadata": {
    "tags": []
   },
   "outputs": [],
   "source": [
    "uzivatel_lukas.__dict__"
   ]
  },
  {
   "cell_type": "markdown",
   "metadata": {},
   "source": [
    "<br>\n",
    "\n",
    "Koncept, na kterém je *privátní objekt* v Pythonu postavený, se označuje *name mangling* (tedy *komolení* jmen objektů).\n",
    "\n",
    "Ale takové opatření pořád neřeší problém, pokud instance dostane třeba **nevhodný datový typ**:"
   ]
  },
  {
   "cell_type": "code",
   "execution_count": null,
   "metadata": {
    "tags": []
   },
   "outputs": [],
   "source": [
    "uzivatel_lukas._MojeAplikace__kredit = \"1_000_000\""
   ]
  },
  {
   "cell_type": "code",
   "execution_count": null,
   "metadata": {
    "tags": []
   },
   "outputs": [],
   "source": [
    "print(uzivatel_lukas.vypis_status())"
   ]
  },
  {
   "cell_type": "markdown",
   "metadata": {
    "tags": []
   },
   "source": [
    "### Gettery, settery\n",
    "\n",
    "---"
   ]
  },
  {
   "cell_type": "markdown",
   "metadata": {},
   "source": [
    "<br>\n",
    "\n",
    "Pro úplný pořádek je ještě nutné stanovit formu, kterou bude atribut zadáván:"
   ]
  },
  {
   "cell_type": "code",
   "execution_count": null,
   "metadata": {
    "tags": []
   },
   "outputs": [],
   "source": [
    "class MojeAplikace:\n",
    "    \n",
    "    def __init__(self, jmeno: str):\n",
    "        self.jmeno = jmeno\n",
    "        self.__kredit = 0\n",
    "        \n",
    "    @property\n",
    "    def kredit(self):\n",
    "        \"\"\"Getter metoda\"\"\"\n",
    "        return self.__kredit\n",
    "    \n",
    "    @kredit.setter\n",
    "    def kredit(self, hodnota: int) -> None:\n",
    "        \"\"\"Setter metoda\"\"\"\n",
    "        if isinstance(hodnota, int):\n",
    "            self.__kredit = hodnota\n",
    "        else:\n",
    "            raise Exception(\"Zadaná hodnota není celé číslo\")\n",
    "        \n",
    "    def vypis_status(self):\n",
    "        return f\"Uživatel: {self.jmeno}, dostupné kredity: {self.__kredit}\""
   ]
  },
  {
   "cell_type": "code",
   "execution_count": null,
   "metadata": {
    "tags": []
   },
   "outputs": [],
   "source": [
    "uzivatel_lukas = MojeAplikace(\"Lukáš\")"
   ]
  },
  {
   "cell_type": "code",
   "execution_count": null,
   "metadata": {
    "tags": []
   },
   "outputs": [],
   "source": [
    "uzivatel_lukas.kredit = 1000"
   ]
  },
  {
   "cell_type": "code",
   "execution_count": null,
   "metadata": {
    "tags": []
   },
   "outputs": [],
   "source": [
    "print(uzivatel_lukas.vypis_status())"
   ]
  },
  {
   "cell_type": "markdown",
   "metadata": {},
   "source": [
    "<br>\n",
    "\n",
    "Nyní není možné zadat jiný datový typ, než celé číslo:"
   ]
  },
  {
   "cell_type": "code",
   "execution_count": null,
   "metadata": {
    "tags": []
   },
   "outputs": [],
   "source": [
    "uzivatel_lukas.kredit = \"1000\""
   ]
  },
  {
   "cell_type": "markdown",
   "metadata": {},
   "source": [
    "<br>\n",
    "\n",
    "Pomocí defaultní výjimky `Exception` nyní uživatel vidí, že není možné pracovat s jiným datovým typem."
   ]
  },
  {
   "cell_type": "markdown",
   "metadata": {},
   "source": [
    "#### Souhrn k zapouzdření\n",
    "* **bezpečnost**, u privátních objektů je navíc vrstva ochrany proti nechtěnému přepsaní, nebo použití nesprávného datového typu,\n",
    "* **kontrola**, ostatní programátoři musí dodržovat postupy, pro manipulaci s privátními objekty,\n",
    "* **jednoduchost**, rozdělování zadávání a získání hodnot jsou oddělené objekty,\n",
    "* **čitelnost**, spojování objektů k příslušným třídám dělá zápis přehlednější."
   ]
  },
  {
   "cell_type": "markdown",
   "metadata": {},
   "source": []
  },
  {
   "cell_type": "markdown",
   "metadata": {},
   "source": [
    "<br>\n",
    "\n",
    "### 🧠 CVIČENÍ 8 🧠, Vytvoř třídu `AutomobilTesla` a doplň následující:"
   ]
  },
  {
   "cell_type": "markdown",
   "metadata": {
    "tags": []
   },
   "source": [
    "- Definuj třídu `AutomobilTesla`, s metodou `__init__`, která potřebuje jen parametr `uzivatel` a `cislo`,\n",
    "- vytvoř **getter a setter** metody pro atribut `max_rychlost`,\n",
    "- omez zadávání `max_rychlost` jenom pro datový typ `int` z intervalu `0 - 320`,\n",
    "- pokud uživatel nedodrží podmínky, vyvolej výjimku s textem: `Nepřijatelný datový typ nebo hodnota (< 320 km/h)`,\n",
    "- vytvoř **getter a setter** metody pro atribut `max_dojezd`,\n",
    "- omez zadávání `max_dojezd` jenom pro datový typ `int` z intervalu `0 - 590`,\n",
    "- pokud uživatel nedodrží podmínky, vyvolej výjimku s textem: `Nepřijatelný datový typ nebo hodnota (< 600 km)`,\n",
    "- přepiš magickou metodu `__str__`, aby formátovala tento výstup: `Uživatel: <uzivatel>, sériové číslo: <cislo>`."
   ]
  },
  {
   "cell_type": "code",
   "execution_count": null,
   "metadata": {
    "tags": []
   },
   "outputs": [],
   "source": [
    "class AutomobilTesla:\n",
    "    def __init__(self, uzivatel: str, cislo: int):\n",
    "        self.cislo = cislo\n",
    "        self.uzivatel = uzivatel\n",
    "        self.__max_rychlost = 200\n",
    "        \n",
    "    @property\n",
    "    def max_rychlost(self) -> int:\n",
    "        print(\"GETTER: vypisuji rychlost.\")\n",
    "        return self.__max_rychlost\n",
    "    \n",
    "    @max_rychlost.setter\n",
    "    def max_rychlost(self, hodnota: int):\n",
    "        if isinstance(hodnota, int) and 0 < hodnota < 320:\n",
    "            self.__max_rychlost = hodnota\n",
    "            print(\"SETTER: nastavuji rychlost.\")\n",
    "        else:\n",
    "            raise Exception(\"Nepřijatelný datový typ nebo hodnota (< 320 km/h)\")"
   ]
  },
  {
   "cell_type": "code",
   "execution_count": null,
   "metadata": {
    "tags": []
   },
   "outputs": [],
   "source": [
    "tesla_model_s = AutomobilTesla(\"Matouš\", \"1234ABCE5678\")"
   ]
  },
  {
   "cell_type": "code",
   "execution_count": null,
   "metadata": {
    "tags": []
   },
   "outputs": [],
   "source": [
    "tesla_model_s.__dict__"
   ]
  },
  {
   "cell_type": "code",
   "execution_count": null,
   "metadata": {
    "tags": []
   },
   "outputs": [],
   "source": [
    "tesla_model_s.max_rychlost = 250"
   ]
  },
  {
   "cell_type": "code",
   "execution_count": null,
   "metadata": {
    "tags": []
   },
   "outputs": [],
   "source": [
    "tesla_model_s.max_rychlost"
   ]
  },
  {
   "cell_type": "code",
   "execution_count": null,
   "metadata": {
    "tags": []
   },
   "outputs": [],
   "source": [
    "tesla_model_s.__dict__"
   ]
  },
  {
   "cell_type": "markdown",
   "metadata": {},
   "source": [
    "<details>\n",
    "    <summary>▶️ Řešení</summary>\n",
    "    \n",
    "    ```\n",
    "    class AutomobilTesla:\n",
    "        def __init__(self, uzivatel: str, cislo: int):\n",
    "            self.uzivatel = uzivatel\n",
    "            self.cislo = cislo\n",
    "\n",
    "        @property\n",
    "        def max_rychlost(self):\n",
    "            return self.__max_rychlost\n",
    "\n",
    "        @max_rychlost.setter\n",
    "        def max_rychlost(self, hodnota: int):\n",
    "            if isinstance(hodnota, int) and 0 < hodnota < 320:\n",
    "                self.__max_rychlost = hodnota\n",
    "            else:\n",
    "                raise Exception(\"Nepřijatelný datový typ nebo hodnota (< 320 km/h)\")\n",
    "\n",
    "        @property\n",
    "        def max_dojezd(self):\n",
    "            return self.__max_dojezd\n",
    "\n",
    "        @max_dojezd.setter\n",
    "        def max_dojezd(self, hodnota):\n",
    "            if isinstance(hodnota, int) and 0 < hodnota < 590:\n",
    "                self.__max_dojezd = hodnota\n",
    "            else:\n",
    "                raise Exception(\"Nepřijatelný datový typ nebo hodnota (< 600 km)\")\n",
    "\n",
    "\n",
    "        def __str__(self):\n",
    "            return f\"Uživatel: {self.uzivatel}, sériové číslo: {self.cislo}\"\n",
    "    ```\n",
    "</details>"
   ]
  },
  {
   "cell_type": "markdown",
   "metadata": {},
   "source": [
    "<br>\n",
    "\n",
    "## Dědičnost (~inheritence)\n",
    "\n",
    "---"
   ]
  },
  {
   "cell_type": "markdown",
   "metadata": {},
   "source": [
    "<img src=\"https://external-content.duckduckgo.com/iu/?u=https%3A%2F%2Ftse2.mm.bing.net%2Fth%3Fid%3DOIP.aD0kgi7jqG8lF8qMmg7Y9QHaFU%26pid%3DApi&f=1&ipt=8e4df2fb68503c0bea5ff03f29e9ffa108168daeaa6dd66662ab080b7951866e&ipo=images\" width=\"300\" style=\"margin-left:auto; margin-right:auto\">"
   ]
  },
  {
   "cell_type": "markdown",
   "metadata": {},
   "source": [
    "### Význam slova\n",
    "\n",
    "---"
   ]
  },
  {
   "cell_type": "markdown",
   "metadata": {},
   "source": [
    "Obecně řečeno, **dědictví** znamená nějaký odkaz nebo pozůstatek.\n",
    "\n",
    "V OOP **Dědičnost** je prvek, díky kterému můžeš přenášet **atributy** a **metody** jedné třídy (*rodičovské*) na další (*potomky*).\n",
    "\n",
    "V podstatě je každá uživatelem definovaná třída potomkem třídy `object`:"
   ]
  },
  {
   "cell_type": "code",
   "execution_count": null,
   "metadata": {
    "tags": []
   },
   "outputs": [],
   "source": [
    "class MojeTrida(object):\n",
    "    pass"
   ]
  },
  {
   "cell_type": "code",
   "execution_count": null,
   "metadata": {
    "tags": []
   },
   "outputs": [],
   "source": [
    "print(issubclass(MojeTrida, object))  # object --> MojeTrida --> ..."
   ]
  },
  {
   "cell_type": "markdown",
   "metadata": {},
   "source": [
    "<br>\n",
    "\n",
    "V tomto ohledu si ale dědičnosti nevšimneš, protože **interpret** dovoluje rodiče nechat defaultně:"
   ]
  },
  {
   "cell_type": "code",
   "execution_count": null,
   "metadata": {
    "tags": []
   },
   "outputs": [],
   "source": [
    "class Zamestnanec:\n",
    "    pass"
   ]
  },
  {
   "cell_type": "code",
   "execution_count": null,
   "metadata": {
    "tags": []
   },
   "outputs": [],
   "source": [
    "print(issubclass(Zamestnanec, object))"
   ]
  },
  {
   "cell_type": "markdown",
   "metadata": {
    "tags": []
   },
   "source": [
    "<br>\n",
    "\n",
    "Ne vždy se ti hodí **defaultní/standardní** dědičnost.\n",
    "\n",
    "Třeba pokud potřebuješ vytvořit **vlastní třídy** s vlastními rodiči:"
   ]
  },
  {
   "cell_type": "code",
   "execution_count": null,
   "metadata": {
    "tags": []
   },
   "outputs": [],
   "source": [
    "class Zamestnanec:\n",
    "    \"\"\"Objekt pro vytvoření řadového zaměstnance.\"\"\"\n",
    "    \n",
    "    def __init__(self, jmeno: str, vek: int, mzda: int):\n",
    "        self.jmeno = jmeno\n",
    "        self.vek = vek\n",
    "        self.mzda = mzda\n",
    "        \n",
    "    def vytvor_email(self, domena: str) -> str:\n",
    "        self.email = f\"{self.jmeno.lower()}{domena}\"\n",
    "        \n",
    "    # @classmethod\n",
    "    # def from_string(cls):\n",
    "    #     pass"
   ]
  },
  {
   "cell_type": "code",
   "execution_count": null,
   "metadata": {
    "tags": []
   },
   "outputs": [],
   "source": [
    "matous = Zamestnanec(\"Matouš\", 40, 80_000)"
   ]
  },
  {
   "cell_type": "code",
   "execution_count": null,
   "metadata": {
    "tags": []
   },
   "outputs": [],
   "source": [
    "matous.vytvor_email(\"@superdomena.cz\")"
   ]
  },
  {
   "cell_type": "code",
   "execution_count": null,
   "metadata": {
    "tags": []
   },
   "outputs": [],
   "source": [
    "print(\n",
    "    matous.jmeno,\n",
    "    matous.email,\n",
    "    sep=\"\\n\"\n",
    ")"
   ]
  },
  {
   "cell_type": "markdown",
   "metadata": {
    "tags": []
   },
   "source": [
    "<br>\n",
    "\n",
    "Máš třídu, která řídí proces tvoření nových instancní pro zaměstnance.\n",
    "\n",
    "Co, když ale potřebuješ další třídu, tentokrát pro *testery*:"
   ]
  },
  {
   "cell_type": "code",
   "execution_count": null,
   "metadata": {
    "tags": []
   },
   "outputs": [],
   "source": [
    "class Tester:\n",
    "    \"\"\"Objekt pro vytvoření zaměstnance, testera.\"\"\"\n",
    "    \n",
    "    def __init__(self, jmeno: str, vek: int, mzda: int):\n",
    "        self.jmeno = jmeno\n",
    "        self.vek = vek\n",
    "        self.mzda = mzda\n",
    "        self.__pristup_vcs = False\n",
    "\n",
    "    def vytvor_email(self):\n",
    "        self.email = f\"{self.jmeno.lower()}{domena}\"\n",
    "    \n",
    "    @property\n",
    "    def pristup_vcs(self):\n",
    "        return self.__pristup_vcs\n",
    "    \n",
    "    @pristup_vcs.setter\n",
    "    def pristup_vcs(self, hodnota: bool):\n",
    "        if hodnota in {True, False}:\n",
    "            self.__pristup_vcs = hodnota\n",
    "        else:\n",
    "            raise Exception(\"Nelze přiřadit takovou hodnotu\")"
   ]
  },
  {
   "cell_type": "code",
   "execution_count": null,
   "metadata": {
    "tags": []
   },
   "outputs": [],
   "source": [
    "petr = Tester(\"Petr\", 45, 100_000)"
   ]
  },
  {
   "cell_type": "code",
   "execution_count": null,
   "metadata": {
    "tags": []
   },
   "outputs": [],
   "source": [
    "petr.pristup_vcs = True"
   ]
  },
  {
   "cell_type": "code",
   "execution_count": null,
   "metadata": {
    "tags": []
   },
   "outputs": [],
   "source": [
    "petr.pristup_vcs"
   ]
  },
  {
   "cell_type": "markdown",
   "metadata": {},
   "source": [
    "### Jednoduchá dědičnost\n",
    "\n",
    "---"
   ]
  },
  {
   "cell_type": "markdown",
   "metadata": {},
   "source": [
    "<br>\n",
    "\n",
    "Na první pohled ale vidíš, že mít **dvě podobné třídy** pod sebou není efektivní a oponuje to princip vývoje softwaru (DRY).\n",
    "\n",
    "<br>\n",
    "\n",
    "V rámci specifické pozice bylo potřeba hodně přepisování.\n",
    "\n",
    "Velkou část třídy `Tester` opakuješ definici třídy `Zamestnanec`.\n",
    "\n",
    "Z takového důvodu můžeš prakticky použít další, třetí koncept, na kterém OOP stojí. Dědičnost:"
   ]
  },
  {
   "cell_type": "code",
   "execution_count": null,
   "metadata": {
    "tags": []
   },
   "outputs": [],
   "source": [
    "class Tester(Zamestnanec):\n",
    "    \"\"\"Objekt pro vytvoření zaměstnance, testera.\"\"\"\n",
    "    \n",
    "    @property\n",
    "    def pristup_vcs(self):\n",
    "        return self.__pristup_vcs\n",
    "    \n",
    "    @pristup_vcs.setter\n",
    "    def pristup_vcs(self, hodnota: bool):\n",
    "        if hodnota in {True, False}:\n",
    "            self.__pristup_vcs = hodnota\n",
    "        else:\n",
    "            raise Exception(\"Nelze přiřadit takovou hodnotu\")"
   ]
  },
  {
   "cell_type": "code",
   "execution_count": null,
   "metadata": {
    "tags": []
   },
   "outputs": [],
   "source": [
    "petr = Tester(\"Petr\", 45, 100_000)"
   ]
  },
  {
   "cell_type": "code",
   "execution_count": null,
   "metadata": {
    "tags": []
   },
   "outputs": [],
   "source": [
    "petr.pristup_vcs = True"
   ]
  },
  {
   "cell_type": "code",
   "execution_count": null,
   "metadata": {
    "tags": []
   },
   "outputs": [],
   "source": [
    "petr.pristup_vcs"
   ]
  },
  {
   "cell_type": "code",
   "execution_count": null,
   "metadata": {
    "tags": []
   },
   "outputs": [],
   "source": [
    "petr.__dict__"
   ]
  },
  {
   "cell_type": "code",
   "execution_count": null,
   "metadata": {
    "tags": []
   },
   "outputs": [],
   "source": [
    "petr.vytvor_email(\"@superdomena.cz\")"
   ]
  },
  {
   "cell_type": "code",
   "execution_count": null,
   "metadata": {
    "tags": []
   },
   "outputs": [],
   "source": [
    "petr.email"
   ]
  },
  {
   "cell_type": "markdown",
   "metadata": {},
   "source": [
    "<br>\n",
    "\n",
    "Takovým způsobem můžeš přepisovat méně zápisu a využít již existují, rodičovské třídy.\n",
    "\n",
    "Pomocí zabudované funkce můžeš potvrdit, že třída `Tester` je potomkem třídy `Zamestnanec`:"
   ]
  },
  {
   "cell_type": "code",
   "execution_count": null,
   "metadata": {
    "tags": []
   },
   "outputs": [],
   "source": [
    "print(issubclass(Tester, Zamestnanec))"
   ]
  },
  {
   "cell_type": "markdown",
   "metadata": {},
   "source": [
    "### Funkce super()\n",
    "\n",
    "----"
   ]
  },
  {
   "cell_type": "markdown",
   "metadata": {},
   "source": [
    "<br>\n",
    "\n",
    "Co když budeš chtít **upravit stávající objekt u rodiče**:"
   ]
  },
  {
   "cell_type": "code",
   "execution_count": null,
   "metadata": {
    "tags": []
   },
   "outputs": [],
   "source": [
    "class Rodic:\n",
    "    def funkce_x(self, x):\n",
    "        print(\"Rodic\", self, x)"
   ]
  },
  {
   "cell_type": "code",
   "execution_count": null,
   "metadata": {
    "tags": []
   },
   "outputs": [],
   "source": [
    "class Potomek(Rodic):\n",
    "    def funkce_x(self, x):\n",
    "        print(\"Potomek\", self, x)\n",
    "        print(\"Rodic\", self, x)  # chci zabránit dalšímu přepisování\n",
    "        print(\"Konec tř. Potomek\")"
   ]
  },
  {
   "cell_type": "code",
   "execution_count": null,
   "metadata": {
    "tags": []
   },
   "outputs": [],
   "source": [
    "p = Potomek()\n",
    "p.funkce_x(13)"
   ]
  },
  {
   "cell_type": "markdown",
   "metadata": {},
   "source": [
    "<br>\n",
    "\n",
    "U třídy `Potomek` si můžeš povšimnout shodných ohlášení.\n",
    "\n",
    "Současně ale obsahuje také svoje vlastní.\n",
    "\n",
    "Tento zápis můžeš upravit pomocí funkce `super()`:"
   ]
  },
  {
   "cell_type": "code",
   "execution_count": null,
   "metadata": {
    "tags": []
   },
   "outputs": [],
   "source": [
    "class Rodic:\n",
    "    def funkce_y(self, x):\n",
    "        print(\"Rodic\", self, x)"
   ]
  },
  {
   "cell_type": "code",
   "execution_count": null,
   "metadata": {
    "tags": []
   },
   "outputs": [],
   "source": [
    "class Potomek(Rodic):\n",
    "    def funkce_y(self, x):\n",
    "        print(\"Potomek\", self, x)\n",
    "        super().funkce_y(x)  # __init__()\n",
    "        print(\"Konec tř. Potomek\")"
   ]
  },
  {
   "cell_type": "code",
   "execution_count": null,
   "metadata": {
    "tags": []
   },
   "outputs": [],
   "source": [
    "p = Potomek()\n",
    "p.funkce_y(13)"
   ]
  },
  {
   "cell_type": "markdown",
   "metadata": {},
   "source": [
    "<br>\n",
    "\n",
    "Funkce `super()` automaticky odkazuje na posledního předchozího rodiče.\n",
    "\n",
    "Tím se stane zápis méně upovídaný a méně náchylný na chyby.\n",
    "\n",
    "U funkce `super()` není potřeba doplňovat parametr `self` ani `cls` (interpret doplní automaticky)."
   ]
  },
  {
   "cell_type": "markdown",
   "metadata": {
    "tags": []
   },
   "source": [
    "<img src=\"inheritance.png\" width=\"1000\" style=\"margin-left:auto; margin-right:auto\">"
   ]
  },
  {
   "cell_type": "markdown",
   "metadata": {},
   "source": [
    "### Vícenásobné dědění\n",
    "\n",
    "---"
   ]
  },
  {
   "cell_type": "markdown",
   "metadata": {},
   "source": [
    "<img src=\"possibilities.png\" width=\"1000\" style=\"margin-left:auto; margin-right:auto\">"
   ]
  },
  {
   "cell_type": "markdown",
   "metadata": {
    "tags": []
   },
   "source": [
    "Dědění nemusí být jenom jednorázové.\n",
    "\n",
    "Je možné dědit od jednoho rodiče na několik potomků:"
   ]
  },
  {
   "cell_type": "code",
   "execution_count": null,
   "metadata": {
    "tags": []
   },
   "outputs": [],
   "source": [
    "class Zamestnanec:\n",
    "    \"\"\"Objekt pro vytvoření řadového zaměstnance.\"\"\"\n",
    "    \n",
    "    def __init__(self, jmeno: str, vek: int, mzda: int):\n",
    "        self.jmeno = jmeno\n",
    "        self.vek = vek\n",
    "        self.mzda = mzda\n",
    "        \n",
    "    def vytvor_email(self, domena: str) -> str:\n",
    "        self.email = f\"{self.jmeno.lower()}{domena}\""
   ]
  },
  {
   "cell_type": "code",
   "execution_count": null,
   "metadata": {
    "tags": []
   },
   "outputs": [],
   "source": [
    "class Tester(Zamestnanec):\n",
    "    \"\"\"Objekt pro vytvoření zaměstnance, testera.\"\"\"\n",
    "    \n",
    "    @property\n",
    "    def pristup_vcs(self):\n",
    "        return self.__pristup_vcs\n",
    "    \n",
    "    @pristup_vcs.setter\n",
    "    def pristup_vcs(self, hodnota: bool):\n",
    "        if hodnota in {True, False}:\n",
    "            self.__pristup_vcs = hodnota\n",
    "        else:\n",
    "            raise Exception(\"Nelze přiřadit takovou hodnotu\")"
   ]
  },
  {
   "cell_type": "markdown",
   "metadata": {},
   "source": [
    "<br>\n",
    "\n",
    "Navíc přidej další třídu, která se jmenuje `BigDataInzenyr` a stejně jako `Tester` dědí objekty od `Zamestnanec`:"
   ]
  },
  {
   "cell_type": "code",
   "execution_count": null,
   "metadata": {
    "tags": []
   },
   "outputs": [],
   "source": [
    "class BigDataInzenyr(Zamestnanec):\n",
    "    \"\"\"Objekt pro vytvoření zaměstnance, big data inženýra.\"\"\"\n",
    "    \n",
    "    @property\n",
    "    def pristup_db(self):\n",
    "        return self.__pristup_db\n",
    "    \n",
    "    @pristup_db.setter\n",
    "    def pristup_db(self, hodnota: bool):\n",
    "        if hodnota in {True, False}:\n",
    "            self.__pristup_db = hodnota\n",
    "        else:\n",
    "            raise Exception(\"Nelze přiřadit takovou hodnotu\")"
   ]
  },
  {
   "cell_type": "code",
   "execution_count": null,
   "metadata": {
    "tags": []
   },
   "outputs": [],
   "source": [
    "filip = BigDataInzenyr(\"Filip\", 40, 120_000)"
   ]
  },
  {
   "cell_type": "code",
   "execution_count": null,
   "metadata": {
    "tags": []
   },
   "outputs": [],
   "source": [
    "filip.pristup_db = True"
   ]
  },
  {
   "cell_type": "code",
   "execution_count": null,
   "metadata": {
    "tags": []
   },
   "outputs": [],
   "source": [
    "filip.vytvor_email(\"@gmail.com\")"
   ]
  },
  {
   "cell_type": "code",
   "execution_count": null,
   "metadata": {
    "tags": []
   },
   "outputs": [],
   "source": [
    "filip.__dict__"
   ]
  },
  {
   "cell_type": "code",
   "execution_count": null,
   "metadata": {},
   "outputs": [],
   "source": []
  },
  {
   "cell_type": "markdown",
   "metadata": {},
   "source": [
    "<br>\n",
    "\n",
    "V tomto okamžiku pracuje potomek `BigDataInzenyr` jen se svými metodami, případně s metodami jeho rodiče.\n",
    "\n",
    "Co když budeš chtít pracovat s metodami **svého sourozence**:"
   ]
  },
  {
   "cell_type": "code",
   "execution_count": null,
   "metadata": {
    "tags": []
   },
   "outputs": [],
   "source": [
    "filip.pristup_vcs = True"
   ]
  },
  {
   "cell_type": "code",
   "execution_count": null,
   "metadata": {
    "tags": []
   },
   "outputs": [],
   "source": [
    "filip.pristup_vcs"
   ]
  },
  {
   "cell_type": "markdown",
   "metadata": {},
   "source": [
    "<br>\n",
    "\n",
    "Jak je to možné? Že sourozenci vidí na svoje objekty:"
   ]
  },
  {
   "cell_type": "code",
   "execution_count": null,
   "metadata": {
    "tags": []
   },
   "outputs": [],
   "source": [
    "filip.ma_dovolenou = True"
   ]
  },
  {
   "cell_type": "code",
   "execution_count": null,
   "metadata": {
    "tags": []
   },
   "outputs": [],
   "source": [
    "filip.__dict__"
   ]
  },
  {
   "cell_type": "code",
   "execution_count": null,
   "metadata": {
    "tags": []
   },
   "outputs": [],
   "source": [
    "print(\n",
    "    issubclass(BigDataInzenyr, Zamestnanec),\n",
    "    issubclass(Tester, Zamestnanec),\n",
    "    issubclass(BigDataInzenyr, Tester),\n",
    "    sep=\"\\n\"\n",
    ")"
   ]
  },
  {
   "cell_type": "markdown",
   "metadata": {},
   "source": [
    "<br>\n",
    "\n",
    "Zápisem výše v podstatě vytvoříš nový instanční atribut.\n",
    "\n",
    "To samozřejmě nemá význam a navíc můžeš uškodit funkcionalitě tříd."
   ]
  },
  {
   "cell_type": "markdown",
   "metadata": {},
   "source": [
    "### Zřetězené dědění\n",
    "\n",
    "---"
   ]
  },
  {
   "cell_type": "markdown",
   "metadata": {
    "tags": []
   },
   "source": [
    "<img src=\"chain_inh.png\" width=\"1000\" style=\"margin-left:auto; margin-right:auto\">"
   ]
  },
  {
   "cell_type": "markdown",
   "metadata": {},
   "source": [
    "Narozdíl od vícenásobného dědění, bývá zřetězené málokdy žádoucí."
   ]
  },
  {
   "cell_type": "code",
   "execution_count": null,
   "metadata": {
    "tags": []
   },
   "outputs": [],
   "source": [
    "class Prarodic:\n",
    "    def funkce(self, x):\n",
    "        print(\"Prarodic\", self, x)"
   ]
  },
  {
   "cell_type": "code",
   "execution_count": null,
   "metadata": {
    "tags": []
   },
   "outputs": [],
   "source": [
    "class Rodic(Prarodic):\n",
    "    def funkce(self, x):\n",
    "        print(\"Rodic\", self, x)\n",
    "        super().funkce(x)"
   ]
  },
  {
   "cell_type": "code",
   "execution_count": null,
   "metadata": {
    "tags": []
   },
   "outputs": [],
   "source": [
    "class Potomek(Rodic):\n",
    "    def funkce(self, x):\n",
    "        print(\"Potomek\", self, x)\n",
    "        super().funkce(x)"
   ]
  },
  {
   "cell_type": "code",
   "execution_count": null,
   "metadata": {
    "tags": []
   },
   "outputs": [],
   "source": [
    "p = Potomek()\n",
    "p.funkce(14)"
   ]
  },
  {
   "cell_type": "markdown",
   "metadata": {},
   "source": [
    "<br>\n",
    "\n",
    "Lineární zřetězene dědění je sice možné, ale pomalu přestává být přehledné a únosné.\n",
    "\n",
    "Pokud potřebuješ využít takový princip, dobře rozmysli, jestli je zápis ještě průhledný a pochopitelný."
   ]
  },
  {
   "cell_type": "markdown",
   "metadata": {},
   "source": [
    "<br>\n",
    "\n",
    "V průběhu času budeš chtít přidat nový typ zaměstnance, opět můžeš aplikovat dědičnost:"
   ]
  },
  {
   "cell_type": "code",
   "execution_count": null,
   "metadata": {
    "tags": []
   },
   "outputs": [],
   "source": [
    "class Zamestnanec:\n",
    "    \"\"\"Objekt pro vytvoření řadového zaměstnance.\"\"\"\n",
    "    \n",
    "    def __init__(self, jmeno: str, vek: int, mzda: int):\n",
    "        self.jmeno = jmeno\n",
    "        self.vek = vek\n",
    "        self.mzda = mzda\n",
    "        \n",
    "    def vytvor_email(self, domena: str) -> str:\n",
    "        self.email = f\"{self.jmeno.lower()}{domena}\""
   ]
  },
  {
   "cell_type": "code",
   "execution_count": null,
   "metadata": {
    "tags": []
   },
   "outputs": [],
   "source": [
    "class Tester(Zamestnanec):\n",
    "    \"\"\"Objekt pro vytvoření zaměstnance, testera.\"\"\"\n",
    "    \n",
    "    @property\n",
    "    def pristup_vcs(self):\n",
    "        return self.__pristup_vcs\n",
    "    \n",
    "    @pristup_vcs.setter\n",
    "    def pristup_vcs(self, hodnota: bool):\n",
    "        if hodnota in {True, False}:\n",
    "            self.__pristup_vcs = hodnota\n",
    "        else:\n",
    "            raise Exception(\"Nelze přiřadit takovou hodnotu\")"
   ]
  },
  {
   "cell_type": "code",
   "execution_count": null,
   "metadata": {},
   "outputs": [],
   "source": [
    "class BigDataInzenyr(Tester):\n",
    "    \"\"\"Objekt pro vytvoření zaměstnance, big data inženýra.\"\"\"\n",
    "    \n",
    "    @property\n",
    "    def pristup_db(self):\n",
    "        return self.__pristup_db\n",
    "    \n",
    "    @pristup_db.setter\n",
    "    def pristup_db(self, hodnota: bool):\n",
    "        if hodnota in {True, False}:\n",
    "            self.__pristup_db = hodnota\n",
    "        else:\n",
    "            raise Exception(\"Nelze přiřadit takovou hodnotu\")"
   ]
  },
  {
   "cell_type": "code",
   "execution_count": null,
   "metadata": {},
   "outputs": [],
   "source": [
    "tomas = BigDataInzenyr(\"Tomáš\", 31, 70_000)"
   ]
  },
  {
   "cell_type": "code",
   "execution_count": null,
   "metadata": {
    "tags": []
   },
   "outputs": [],
   "source": [
    "tomas.pristup_db = True"
   ]
  },
  {
   "cell_type": "code",
   "execution_count": null,
   "metadata": {
    "tags": []
   },
   "outputs": [],
   "source": [
    "tomas.pristup_vcs = True"
   ]
  },
  {
   "cell_type": "code",
   "execution_count": null,
   "metadata": {
    "tags": []
   },
   "outputs": [],
   "source": [
    "print(\n",
    "    tomas.jmeno,\n",
    "    tomas.pristup_db,\n",
    "    tomas.pristup_vcs,\n",
    "    sep=\"\\n\"\n",
    ")"
   ]
  },
  {
   "cell_type": "code",
   "execution_count": null,
   "metadata": {
    "tags": []
   },
   "outputs": [],
   "source": [
    "tomas.__dict__"
   ]
  },
  {
   "cell_type": "code",
   "execution_count": null,
   "metadata": {
    "tags": []
   },
   "outputs": [],
   "source": [
    "tomas.vytvor_email(\"@gmail.com\")"
   ]
  },
  {
   "cell_type": "code",
   "execution_count": null,
   "metadata": {
    "tags": []
   },
   "outputs": [],
   "source": [
    "tomas.__dict__"
   ]
  },
  {
   "cell_type": "markdown",
   "metadata": {},
   "source": [
    "<br>\n",
    "\n",
    "Opravdu už není jednoduché, sledovat původ změn.\n",
    "\n",
    "A v této ukázce jde o triviální třídy."
   ]
  },
  {
   "cell_type": "markdown",
   "metadata": {},
   "source": [
    "<br>\n",
    "\n",
    "Co když se potom dědičnost ještě zkomplikuje?"
   ]
  },
  {
   "cell_type": "markdown",
   "metadata": {},
   "source": [
    "<img src=\"https://i.imgur.com/HgQpT9I.png\" width=\"1000\" style=\"margin-left:auto; margin-right:auto\">"
   ]
  },
  {
   "cell_type": "markdown",
   "metadata": {
    "tags": []
   },
   "source": [
    "### MRO (~Method resolution order)\n",
    "\n",
    "---"
   ]
  },
  {
   "cell_type": "markdown",
   "metadata": {},
   "source": [
    "Pokud je systému dědičnosti větší počet úrovní, nebylo by snadné sledovat rodiče.\n",
    "\n",
    "Z takového důvodu existuje metoda, která označí cestu, kterou jsou objekty sbírány:"
   ]
  },
  {
   "cell_type": "code",
   "execution_count": null,
   "metadata": {
    "tags": []
   },
   "outputs": [],
   "source": [
    "class Employee:\n",
    "    def f(self):\n",
    "        print(\"Employee\", self)\n",
    "\n",
    "class FrontendDev(Employee):\n",
    "    def f(self):\n",
    "        print(\"FronendDev\", self)\n",
    "        super().f()\n",
    "\n",
    "class BackendDev(Employee):\n",
    "    def f(self):\n",
    "        print(\"BackendDev\", self)\n",
    "        super().f()\n",
    "        \n",
    "class FullstackDev(FrontendDev, BackendDev):\n",
    "    def f(self):\n",
    "        print(\"FullstackDev\", self)\n",
    "        super().f()"
   ]
  },
  {
   "cell_type": "code",
   "execution_count": null,
   "metadata": {
    "tags": []
   },
   "outputs": [],
   "source": [
    "fdev = FullstackDev()"
   ]
  },
  {
   "cell_type": "code",
   "execution_count": null,
   "metadata": {
    "tags": []
   },
   "outputs": [],
   "source": [
    "fdev.f()"
   ]
  },
  {
   "cell_type": "markdown",
   "metadata": {},
   "source": [
    "<br>\n",
    "\n",
    "MRO je také jedna z magických metod, takže můžeš pracovat i pomocí ní:"
   ]
  },
  {
   "cell_type": "code",
   "execution_count": null,
   "metadata": {
    "tags": []
   },
   "outputs": [],
   "source": [
    "FullstackDev.__mro__"
   ]
  },
  {
   "cell_type": "markdown",
   "metadata": {},
   "source": [
    "<br>\n",
    "\n",
    "Proč je tedy MRO tak podstatné?\n",
    "\n",
    "Podívej se na drobnou změnu v zápise:"
   ]
  },
  {
   "cell_type": "code",
   "execution_count": null,
   "metadata": {
    "tags": []
   },
   "outputs": [],
   "source": [
    "class Employee:\n",
    "    def f(self):\n",
    "        print(\"Employee\", self)\n",
    "\n",
    "class FrontendDev(Employee):\n",
    "    def f(self):\n",
    "        print(\"FronendDev\", self)\n",
    "        super().f()\n",
    "\n",
    "class BackendDev(Employee):\n",
    "    def f(self):\n",
    "        print(\"BackendDev\", self)\n",
    "        # Chybí \"super()\"\n",
    "        \n",
    "class FullstackDev(FrontendDev, BackendDev):\n",
    "    def f(self):\n",
    "        print(\"FullstackDev\", self)\n",
    "        super().f()"
   ]
  },
  {
   "cell_type": "code",
   "execution_count": null,
   "metadata": {
    "tags": []
   },
   "outputs": [],
   "source": [
    "fdev = FullstackDev()"
   ]
  },
  {
   "cell_type": "code",
   "execution_count": null,
   "metadata": {
    "tags": []
   },
   "outputs": [],
   "source": [
    "fdev.f()"
   ]
  },
  {
   "cell_type": "markdown",
   "metadata": {},
   "source": [
    "<br>\n",
    "\n",
    "Z toho vyplývá, že `super()` nepracuje přímo s rodičem, nebo sourozence.\n",
    "\n",
    "Pracuje s předchůdcem, kterého stanoví MRO:"
   ]
  },
  {
   "cell_type": "code",
   "execution_count": null,
   "metadata": {
    "tags": []
   },
   "outputs": [],
   "source": [
    "class Employee:\n",
    "    atr = \"E\"\n",
    "\n",
    "class FrontendDev(Employee):\n",
    "    atri = \"Fr\"\n",
    "\n",
    "class BackendDev(Employee):\n",
    "    atri = \"B\"\n",
    "        \n",
    "class FullstackDev(FrontendDev, BackendDev):\n",
    "    atri = \"Fu\""
   ]
  },
  {
   "cell_type": "code",
   "execution_count": null,
   "metadata": {
    "tags": []
   },
   "outputs": [],
   "source": [
    "f = FullstackDev()"
   ]
  },
  {
   "cell_type": "code",
   "execution_count": null,
   "metadata": {
    "tags": []
   },
   "outputs": [],
   "source": [
    "f.atr"
   ]
  },
  {
   "cell_type": "markdown",
   "metadata": {},
   "source": [
    "<br>\n",
    "\n",
    "MRO neplatí ovšem **jen pro metody**.\n",
    "\n",
    "Jeho znalost lze aplikovat také na vlastnosti jednotlivých tříd."
   ]
  },
  {
   "cell_type": "markdown",
   "metadata": {},
   "source": [
    "### Souhrn\n",
    "\n",
    "---"
   ]
  },
  {
   "cell_type": "markdown",
   "metadata": {},
   "source": [
    "<br>\n",
    "\n",
    "Dědičnost ale stejně jako ostatní koncepty nesmí být **zneužívána**.\n",
    "\n",
    "<br>\n",
    "\n",
    "Zřetězené odkazování přestává být **zřetelné** a program se stává příliš komplexní.\n",
    "\n",
    "<br>\n",
    "\n",
    "Nejprve interpret vyhledává **metody nebo atributy** v aktuální třídě (potomkovi) a potom teprve začíná sledovat MRO."
   ]
  },
  {
   "cell_type": "markdown",
   "metadata": {},
   "source": [
    "<br>\n",
    "\n",
    "### 🧠 CVIČENÍ 9 🧠, Vytvoř třídu `Auto` a doplň následující:"
   ]
  },
  {
   "cell_type": "markdown",
   "metadata": {
    "tags": []
   },
   "source": [
    "- Definuj třídu `Auto`, s metodou `__init__`, která potřebuje jen parametr `znacka`, `barva`,\n",
    "- vytvoř getter a setter metody pro atribut `max_rychlost` (maximum 200 km/h) a `hmotnost` (maximum 2 tuny),\n",
    "- vytvoř třídu `OsobniAuto`, která dědí (`Auto`) atributy `znacka`, `barva` a navíc potřebuje instanční atribut `mista_k_sezeni`,\n",
    "- pro `OsobniAuto` vytvoř getter a setter, který omezuje `max_rychlost` na 300 km/h a hodnota je vedená jako celé číslo,\n",
    "- vytvoř třídu `NakladniAuto`, která dědí (`Auto`) atributy `znacka`, `barva` a navíc potřebuje instanční atribut `nostnost`,\n",
    "- pro `NakladniAuto` vytvoř getter a setter, který omezuje `max_rychlost` na 100 km/h a hodnota je vedená jako celé číslo."
   ]
  },
  {
   "cell_type": "code",
   "execution_count": null,
   "metadata": {
    "tags": []
   },
   "outputs": [],
   "source": [
    "class Auto:\n",
    "    def __init__(self, znacka: str, barva: str):\n",
    "        self.znacka = znacka\n",
    "        self.barva = barva\n",
    "        \n",
    "    @property\n",
    "    def max_rychlost(self) -> int:\n",
    "        return self.__max_rychlost\n",
    "    \n",
    "    @max_rychlost.setter\n",
    "    def max_rychlost(self, hodnota: int):\n",
    "        if isinstance(hodnota, int) and hodnota <= 200:\n",
    "            self.__max_rychlost = hodnota\n",
    "        else:\n",
    "            print(\"Neodpovídající datový typ nebo hodnota <200 km/h\")\n",
    "            \n",
    "            \n",
    "class OsobniAuto(Auto):\n",
    "    \n",
    "    def __init__(self, znacka: str, barva: str, mista_k_sezeni: int):\n",
    "        super().__init__(znacka, barva)\n",
    "        self.mista_k_sezeni = mista_k_sezeni\n",
    "        \n",
    "    @property\n",
    "    def max_rychlost(self) -> int:\n",
    "        return self.__max_rychlost\n",
    "    \n",
    "    @max_rychlost.setter\n",
    "    def max_rychlost(self, hodnota: int):\n",
    "        if isinstance(hodnota, int) and hodnota <= 300:\n",
    "            self.__max_rychlost = hodnota\n",
    "        else:\n",
    "            print(\"Neodpovídající datový typ nebo hodnota <300 km/h\")"
   ]
  },
  {
   "cell_type": "code",
   "execution_count": null,
   "metadata": {
    "tags": []
   },
   "outputs": [],
   "source": [
    "automobil_1 = Auto(\"BMW\", \"modrá\")\n",
    "automobil_2 = OsobniAuto(\"Audi\", \"bílá\", 5)"
   ]
  },
  {
   "cell_type": "code",
   "execution_count": null,
   "metadata": {
    "tags": []
   },
   "outputs": [],
   "source": [
    "automobil_1.max_rychlost = 200"
   ]
  },
  {
   "cell_type": "code",
   "execution_count": null,
   "metadata": {
    "tags": []
   },
   "outputs": [],
   "source": [
    "automobil_1.__dict__"
   ]
  },
  {
   "cell_type": "code",
   "execution_count": null,
   "metadata": {
    "tags": []
   },
   "outputs": [],
   "source": [
    "automobil_2.max_rychlost = 300"
   ]
  },
  {
   "cell_type": "code",
   "execution_count": null,
   "metadata": {
    "tags": []
   },
   "outputs": [],
   "source": [
    "automobil_2.__dict__"
   ]
  },
  {
   "cell_type": "code",
   "execution_count": null,
   "metadata": {
    "tags": []
   },
   "outputs": [],
   "source": [
    "# tranzit = NakladniAuto(\"Ford\", \"šedá\", 1.5)"
   ]
  },
  {
   "cell_type": "code",
   "execution_count": null,
   "metadata": {
    "tags": []
   },
   "outputs": [],
   "source": [
    "tranzit.max_rychlost = 99"
   ]
  },
  {
   "cell_type": "markdown",
   "metadata": {},
   "source": [
    "<details>\n",
    "    <summary>▶️ Řešení</summary>\n",
    "    \n",
    "    ```\n",
    "    class Auto:\n",
    "    def __init__(self, znacka: str, barva: str):\n",
    "        self.znacka = znacka\n",
    "        self.barva = barva\n",
    "        self.__hmotnost = 0\n",
    "        self.__max_rychlost = 0\n",
    "    \n",
    "    @property\n",
    "    def hmotnost(self):\n",
    "        return self.__hmotnost\n",
    "\n",
    "    @hmotnost.setter\n",
    "    def hmotnost(self, hodnota: int) -> None:\n",
    "        if isinstance(hodnota, int) and 0 < hodnota < 2:\n",
    "            self.__hmotnost = hodnota\n",
    "        else:\n",
    "            raise Exception(\"Špatný datový typ, nebo hodnota (<2 tun)\")\n",
    "    \n",
    "    @property\n",
    "    def max_rychlost(self):\n",
    "        return self.__max_rychlost\n",
    "\n",
    "    @max_rychlost.setter\n",
    "    def max_rychlost(self, hodnota: float) -> None:\n",
    "        if isinstance(hodnota, int) and 0 < hodnota < 200:\n",
    "            self.__max_rychlost = hodnota\n",
    "        else:\n",
    "            raise Exception(\"Špatný datový typ, nebo hodnota (<200 km/h)\")\n",
    "\n",
    "\n",
    "    class OsobniAuto(Auto):\n",
    "        def __init__(self, znacka: str, barva: str, mista_k_sezeni: int):\n",
    "            super().__init__(znacka, barva)\n",
    "            self.mista_k_sezeni = mista_k_sezeni\n",
    "\n",
    "        @property\n",
    "        def max_rychlost(self):\n",
    "            return self.__max_rychlost\n",
    "\n",
    "        @max_rychlost.setter\n",
    "        def max_rychlost(self, hodnota: float) -> None:\n",
    "            if isinstance(hodnota, int) and 0 < hodnota < 300:\n",
    "                self.__max_rychlost = hodnota\n",
    "            else:\n",
    "                raise Exception(\"Špatný datový typ, nebo hodnota (<300 km/h)\")\n",
    "\n",
    "\n",
    "    class NakladniAuto(Auto):\n",
    "        def __init__(self, znacka: str, barva: str, nostnost: float):\n",
    "            super().__init__(znacka, barva)\n",
    "            self.nostnost = nostnost\n",
    "\n",
    "        @property\n",
    "        def max_rychlost(self):\n",
    "            return self.__max_rychlost\n",
    "\n",
    "        @max_rychlost.setter\n",
    "        def max_rychlost(self, hodnota: int) -> None:\n",
    "            if isinstance(hodnota, int) and 0 < hodnota < 100:\n",
    "                self.__max_rychlost = hodnota\n",
    "            else:\n",
    "                raise Exception(\"Špatný datový typ, nebo hodnota (<100 km/h)\")\n",
    "    ```\n",
    "</details>"
   ]
  },
  {
   "cell_type": "markdown",
   "metadata": {},
   "source": [
    "<br>\n",
    "\n",
    "## Abstrakce\n",
    "\n",
    "---"
   ]
  },
  {
   "cell_type": "markdown",
   "metadata": {},
   "source": [
    "<img src=\"https://external-content.duckduckgo.com/iu/?u=https%3A%2F%2Ftse1.mm.bing.net%2Fth%3Fid%3DOIP.CFwkjtcCFee-YqXbmNDmxAHaHa%26pid%3DApi&f=1&ipt=b4737f334dd002ab30b8da0699a297e413334fd0ea059deb6cf4a6a0087b3f6b&ipo=images\" width=\"300\" style=\"margin-left:auto; margin-right:auto\">"
   ]
  },
  {
   "cell_type": "markdown",
   "metadata": {},
   "source": [
    "### Význam pojmu\n",
    "\n",
    "---"
   ]
  },
  {
   "cell_type": "markdown",
   "metadata": {},
   "source": [
    "Abstrakce je o redukci množství detailů.\n",
    "\n",
    "V OOP stojí na tom, že uživatel nemusí znát všechny implementace, ale pouze jména objektů."
   ]
  },
  {
   "cell_type": "markdown",
   "metadata": {},
   "source": [
    "<br>\n",
    "\n",
    "Stejně jako v praxi nevíš, co se všechno děje, pokud na chytrém telefonu zmáčkneš tlačítko pro vytvoření fotky.\n",
    "\n",
    "Tak ani v Pythonu nepotřebuješ vědět všechny detaily:"
   ]
  },
  {
   "cell_type": "code",
   "execution_count": null,
   "metadata": {
    "tags": []
   },
   "outputs": [],
   "source": [
    "\"matous\".title()"
   ]
  },
  {
   "cell_type": "code",
   "execution_count": null,
   "metadata": {
    "tags": []
   },
   "outputs": [],
   "source": [
    "\"OOP\".lower()"
   ]
  },
  {
   "cell_type": "markdown",
   "metadata": {},
   "source": [
    "### V praxi\n",
    "\n",
    "---"
   ]
  },
  {
   "cell_type": "markdown",
   "metadata": {},
   "source": [
    "<br>\n",
    "\n",
    "Podobně můžeš vidět *abstrakci* v OOP.\n",
    "\n",
    "Jak autor svojí knihovny se snažíš usnadnit práci ostatní uživatelům knihovny.\n",
    "\n",
    "Proto jim stačí vytvoření přehledného atributu `typ_uctu`, který už si sám dohledá a zavolá konkrétní funkce/metody."
   ]
  },
  {
   "cell_type": "markdown",
   "metadata": {},
   "source": [
    "<!-- \n",
    "```python\n",
    "class GooglePaymentProcessor:\n",
    "    \n",
    "    def __init__(self, order: int):\n",
    "        self.order = order\n",
    "\n",
    "    def pay(self):\n",
    "        print(\n",
    "            f\"Nr.order: {self.order}\",\n",
    "            \"Processing GooglePay..\",\n",
    "            \"Verifying security code..\",\n",
    "            \"Changing order status..\",\n",
    "            \"-\" * 25,\n",
    "            sep=\"\\n\"\n",
    "        )\n",
    "```\n",
    "\n",
    "```python\n",
    "order_1 = GooglePaymentProcessor(\"1234567890\")\n",
    "order_1.pay()\n",
    "``` -->"
   ]
  },
  {
   "cell_type": "code",
   "execution_count": null,
   "metadata": {},
   "outputs": [],
   "source": [
    "class Uzivatel:\n",
    "    def __init__(self, jmeno: str, email: str):\n",
    "        self.email = email\n",
    "        self.jmeno = jmeno\n",
    "\n",
    "    @property\n",
    "    def typ_uctu(self):\n",
    "        return self.__typ_uctu\n",
    "    \n",
    "    @typ_uctu.setter\n",
    "    def typ_uctu(self, typ: str):\n",
    "        if isinstance(typ, str) \\\n",
    "            and typ.title() in (\"Gold\", \"Platinum\", \"Diamond\"):\n",
    "            self.__typ_uctu = typ\n",
    "            print(\"Chystám nový účet...\")\n",
    "        else:\n",
    "            raise Exception()"
   ]
  },
  {
   "cell_type": "code",
   "execution_count": null,
   "metadata": {},
   "outputs": [],
   "source": [
    "user_1 = Uzivatel(\"Matouš\", \"matous@gmail.com\")"
   ]
  },
  {
   "cell_type": "code",
   "execution_count": null,
   "metadata": {
    "tags": []
   },
   "outputs": [],
   "source": [
    "user_1.typ_uctu = \"gold\""
   ]
  },
  {
   "cell_type": "markdown",
   "metadata": {},
   "source": [
    "<br>\n",
    "\n",
    "Jako uživatel takové knihovny, potom neřeším implementaci těchto pomocných funkcí.\n",
    "\n",
    "Nemusím je testovat, ani dokumentovat, protože to je starost autora knihovny.\n",
    "\n",
    "Stačí knihovnu a objekt aplikovat pro svoje účely."
   ]
  },
  {
   "cell_type": "markdown",
   "metadata": {},
   "source": [
    "### Knihovna abc\n",
    "\n",
    "---"
   ]
  },
  {
   "cell_type": "code",
   "execution_count": null,
   "metadata": {
    "tags": []
   },
   "outputs": [],
   "source": [
    "from abc import ABC, abstractmethod"
   ]
  },
  {
   "cell_type": "markdown",
   "metadata": {},
   "source": [
    "<br>\n",
    "\n",
    "Pro chystání užitečnějších abstrakcí můžeš pracovat s knihovnou `abc`:"
   ]
  },
  {
   "cell_type": "code",
   "execution_count": null,
   "metadata": {
    "tags": []
   },
   "outputs": [],
   "source": [
    "class Uzivatel(ABC):\n",
    "    def __init__(self, jmeno: str, email: str):\n",
    "        self.email = email\n",
    "        self.jmeno = jmeno\n",
    "\n",
    "    @abstractmethod\n",
    "    def typ_uctu(self):\n",
    "        \"\"\"Zprocesuje mi nastavení správného typu účtu.\"\"\"\n",
    "        pass"
   ]
  },
  {
   "cell_type": "markdown",
   "metadata": {},
   "source": [
    "Nyní potřebuješ vytvořit různé **typy účtů**.\n",
    "\n",
    "<br>\n",
    "\n",
    "Např. 3 různé předplatitelné scénaře typu:\n",
    "1. **Gold**, (100 CZK/mo)\n",
    "2. **Platinum**, (200 CZK/mo),\n",
    "3. **Diamond**, (300 CZK/mo)."
   ]
  },
  {
   "cell_type": "code",
   "execution_count": null,
   "metadata": {
    "tags": []
   },
   "outputs": [],
   "source": [
    "class GoldUcet(Uzivatel):\n",
    "    CENA_GOLD_UCTU: int = 100\n",
    "        \n",
    "    def typ_uctu(self):\n",
    "        print(f\"Uživatel: {self.jmeno} zvolil účet Gold, cena: {self.CENA_GOLD_UCTU}.\")"
   ]
  },
  {
   "cell_type": "code",
   "execution_count": null,
   "metadata": {
    "tags": []
   },
   "outputs": [],
   "source": [
    "class PlatinumUcet(Uzivatel):\n",
    "    CENA_PLATINUM_UCTU: int = 200\n",
    "        \n",
    "    def typ_uctu(self):\n",
    "        print( f\"Uživatel: {self.jmeno} zvolil účet Platinum, cena: {self.CENA_PLATINUM_UCTU}.\")"
   ]
  },
  {
   "cell_type": "code",
   "execution_count": null,
   "metadata": {
    "tags": []
   },
   "outputs": [],
   "source": [
    "class DiamondUcet(Uzivatel):\n",
    "    CENA_DIAMOND_UCTU: int = 300\n",
    "        \n",
    "    def typ_uctu(self):\n",
    "        print( f\"Uživatel: {self.jmeno} zvolil účet Diamond, cena: {self.CENA_DIAMOND_UCTU}.\")"
   ]
  },
  {
   "cell_type": "code",
   "execution_count": null,
   "metadata": {
    "tags": []
   },
   "outputs": [],
   "source": [
    "user_2 = GoldUcet(\"Lukáš\", \"lukas.gulas@email.cz\")\n",
    "user_2.typ_uctu()"
   ]
  },
  {
   "cell_type": "code",
   "execution_count": null,
   "metadata": {
    "tags": []
   },
   "outputs": [],
   "source": [
    "user_3 = PlatinumUcet(\"Jan\", \"jan.adam@email.cz\")\n",
    "user_3.typ_uctu()"
   ]
  },
  {
   "cell_type": "code",
   "execution_count": null,
   "metadata": {
    "tags": []
   },
   "outputs": [],
   "source": [
    "user_4 = DiamondUcet(\"Marek\", \"marek.honza@email.cz\")\n",
    "user_4.typ_uctu()"
   ]
  },
  {
   "cell_type": "markdown",
   "metadata": {},
   "source": [
    "<br>\n",
    "\n",
    "`ABC` je objekt, kterou musíš zdědit z modulu `abc`. Python defaultně nepracuje s konceptem **abstraktních tříd jako jiné jazyky**.\n",
    "\n",
    "<br>\n",
    "\n",
    "Dále musíš označit metodu jako abstraktní metodu. Použij dekorátor `@abstractmethod`.\n",
    "\n",
    "<br>\n",
    "\n",
    "V abstraktní metodě nepíšeš žádné ohlášení, pouze dokumentaci abstraktní metody a ohlášení `pass`.\n",
    "\n",
    "Dále také nemůžeš tvořit instance pro abstraktní třídu. Složí pouze jako nějaký odkaz."
   ]
  },
  {
   "cell_type": "code",
   "execution_count": null,
   "metadata": {},
   "outputs": [],
   "source": []
  },
  {
   "cell_type": "markdown",
   "metadata": {},
   "source": [
    "<br>\n",
    "\n",
    "### 🧠 CVIČENÍ 10 🧠, Vytvoř třídu `HerniPostava` a doplň následující:"
   ]
  },
  {
   "cell_type": "markdown",
   "metadata": {
    "tags": []
   },
   "source": [
    "- Definuj abstraktní třídu `HerniPostava`, která dědí objekt `ABC` z knihovny `abc`,\n",
    "- třída`HerniPostava` pracuje s instanční atributem `_zivoty` s hodnotou `100`,\n",
    "- třída`HerniPostava` pracuje se dvěma abstraktními metodami `utok` a `obrana`,\n",
    "- definuj třídu `Rytir`, který dědí od třídy `HerniPostava` a pracuje s vlastním atributem `_zivoty` s hodnotou `150`,\n",
    "- definuj metodu `utok` pro třídu `Rytir` s vypisovanou zprávou:`Rytíř útočí mečem!`,\n",
    "- definuj metodu `obrana` pro třídu `Rytir` s vypisovanou zprávou:`Rytíř se brání štítem!`,\n",
    "- definuj třídu `Mag`, který dědí od třídy `HerniPostava` a pracuje s vlastním atributem `_zivoty` s hodnotou `80`,\n",
    "- definuj metodu `utok` pro třídu `Mag` s vypisovanou zprávou:`Mag útočí kouzlem!`,\n",
    "- definuj metodu `obrana` pro třídu `Mag` s vypisovanou zprávou:`Mag se brání magickým štítem!`."
   ]
  },
  {
   "cell_type": "code",
   "execution_count": null,
   "metadata": {
    "tags": []
   },
   "outputs": [],
   "source": []
  },
  {
   "cell_type": "code",
   "execution_count": null,
   "metadata": {
    "tags": []
   },
   "outputs": [],
   "source": [
    "matous_rytir = Rytir()\n",
    "lukas_mag = Mag()"
   ]
  },
  {
   "cell_type": "markdown",
   "metadata": {},
   "source": [
    "<details>\n",
    "    <summary>▶️ Řešení</summary>\n",
    "    \n",
    "    ```\n",
    "    from abc import ABC, abstractmethod\n",
    "\n",
    "\n",
    "    class HerniPostava(ABC):\n",
    "        def __init__(self):\n",
    "            self._zivoty = 100\n",
    "\n",
    "        @abstractmethod\n",
    "        def utok(self):\n",
    "            pass\n",
    "\n",
    "        @abstractmethod\n",
    "        def obrana(self):\n",
    "            pass\n",
    "\n",
    "\n",
    "    class Rytir(HerniPostava):\n",
    "        def __init__(self):\n",
    "            super().__init__()\n",
    "            self._zivoty = 150\n",
    "\n",
    "        def utok(self):\n",
    "            print(\"Rytíř útočí mečem!\")\n",
    "\n",
    "        def obrana(self):\n",
    "            print(\"Rytíř se brání štítem!\")\n",
    "\n",
    "\n",
    "    class Mag(HerniPostava):\n",
    "        def __init__(self):\n",
    "            super().__init__()\n",
    "            self._zivoty = 80\n",
    "\n",
    "        def utok(self):\n",
    "            print(\"Mag útočí kouzlem!\")\n",
    "\n",
    "        def obrana(self):\n",
    "            print(\"Mag se brání magickým štítem!\")\n",
    "    ```\n",
    "</details>"
   ]
  },
  {
   "cell_type": "markdown",
   "metadata": {},
   "source": [
    "---"
   ]
  }
 ],
 "metadata": {
  "kernelspec": {
   "display_name": "Python 3 (ipykernel)",
   "language": "python",
   "name": "python3"
  },
  "language_info": {
   "codemirror_mode": {
    "name": "ipython",
    "version": 3
   },
   "file_extension": ".py",
   "mimetype": "text/x-python",
   "name": "python",
   "nbconvert_exporter": "python",
   "pygments_lexer": "ipython3",
   "version": "3.8.10"
  }
 },
 "nbformat": 4,
 "nbformat_minor": 4
}
