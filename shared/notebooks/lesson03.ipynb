{
 "cells": [
  {
   "cell_type": "markdown",
   "metadata": {},
   "source": [
    "# Python objektově orientované programování\n",
    "\n",
    "---"
   ]
  },
  {
   "cell_type": "markdown",
   "metadata": {},
   "source": [
    "1. [Vlastnosti třídy](),\n",
    "    - [řešení metodou](),\n",
    "    - [řešení funkcí property](),\n",
    "    - [getter, setter, deleter](),\n",
    "2. [polymorfismus](#Polymorfismus-(-~polymorphism)),\n",
    "    - [terminologie](#Terminologie),\n",
    "    - [význam v Pythonu](#Význam-v-Pythonu),\n",
    "    - [využití v OOP](#Využití-v-OOP),\n",
    "3. [zapouzdření](#Zapouzdření-(~encapsulation)),\n",
    "    - [bez zapouzdření](#Bez-konceptu-zapouzdření),\n",
    "    - [privátní objekty](#Privátní-objekty),\n",
    "    - [gettery, settery](#Gettery,-settery)\n",
    "    \n",
    "---"
   ]
  },
  {
   "cell_type": "markdown",
   "metadata": {},
   "source": [
    "<img src=\"https://external-content.duckduckgo.com/iu/?u=https%3A%2F%2Ftse1.mm.bing.net%2Fth%3Fid%3DOIP.P14PbLzZfDCpGX8hFnK74wHaHa%26pid%3DApi&f=1&ipt=de07e3110c5b46007e138de2aa1ddf169453c6bdf583d56537c3c749b7cf2055&ipo=images\" width=\"250\" style=\"margin-left:auto; margin-right:auto\"/>"
   ]
  },
  {
   "cell_type": "markdown",
   "metadata": {
    "tags": []
   },
   "source": [
    "## Vlastnosti třídy\n",
    "\n",
    "---\n",
    "\n",
    "\n",
    "V některých programovacích jazycích se k atributům **nepřistupuje přímo**.\n",
    "\n",
    "Je to z toho důvodu, že by uživatel nechtěně pracoval se špatným datovým typem, případně nevalidní hodnotou.\n",
    "\n",
    "V Pythonu tato funkcionalita **není podporovaná přímo**, ale existuje *workaround*."
   ]
  },
  {
   "cell_type": "markdown",
   "metadata": {},
   "source": [
    "<br>\n",
    "\n",
    "Představ si situaci, kdy máš napsat **převodník jednotek objemu**.\n",
    "\n",
    "Z **litrů** na **pinty**(UK):"
   ]
  },
  {
   "cell_type": "markdown",
   "metadata": {},
   "source": [
    "<img src=\"https://external-content.duckduckgo.com/iu/?u=https%3A%2F%2Ftse2.mm.bing.net%2Fth%3Fid%3DOIP.FCRrMRa9SQrNjgFSKfKP6AHaHa%26pid%3DApi&f=1&ipt=f45d961e5b9d1d428a1c59180cd22f9c6a298a6a8ccaa753d86ca54f906f045b&ipo=images\" width=\"200\" style=\"margin-left:auto; margin-right:auto\"/>"
   ]
  },
  {
   "cell_type": "code",
   "execution_count": 1,
   "metadata": {},
   "outputs": [],
   "source": [
    "class ObjemovyKonvertor:\n",
    "    def __init__(self, litr: int):\n",
    "        self.litr = litr\n",
    "        self.koeficient_pinta = 1.7598\n",
    "        self.pinty = self.litr * self.koeficient_pinta"
   ]
  },
  {
   "cell_type": "code",
   "execution_count": 2,
   "metadata": {},
   "outputs": [],
   "source": [
    "dva_litry = ObjemovyKonvertor(2)"
   ]
  },
  {
   "cell_type": "code",
   "execution_count": 3,
   "metadata": {
    "tags": []
   },
   "outputs": [
    {
     "data": {
      "text/plain": [
       "3.5196"
      ]
     },
     "execution_count": 3,
     "metadata": {},
     "output_type": "execute_result"
    }
   ],
   "source": [
    "dva_litry.pinty"
   ]
  },
  {
   "cell_type": "markdown",
   "metadata": {},
   "source": [
    "<br>\n",
    "\n",
    "Jako uživatel ale můžeš zadat **nesprávný argument** pro tvoji třídu:"
   ]
  },
  {
   "cell_type": "code",
   "execution_count": 4,
   "metadata": {
    "tags": []
   },
   "outputs": [
    {
     "ename": "TypeError",
     "evalue": "can't multiply sequence by non-int of type 'float'",
     "output_type": "error",
     "traceback": [
      "\u001b[0;31m---------------------------------------------------------------------------\u001b[0m",
      "\u001b[0;31mTypeError\u001b[0m                                 Traceback (most recent call last)",
      "Cell \u001b[0;32mIn[4], line 1\u001b[0m\n\u001b[0;32m----> 1\u001b[0m tri_litry \u001b[38;5;241m=\u001b[39m \u001b[43mObjemovyKonvertor\u001b[49m\u001b[43m(\u001b[49m\u001b[38;5;124;43m\"\u001b[39;49m\u001b[38;5;124;43mtři\u001b[39;49m\u001b[38;5;124;43m\"\u001b[39;49m\u001b[43m)\u001b[49m\n",
      "Cell \u001b[0;32mIn[1], line 5\u001b[0m, in \u001b[0;36mObjemovyKonvertor.__init__\u001b[0;34m(self, litr)\u001b[0m\n\u001b[1;32m      3\u001b[0m \u001b[38;5;28mself\u001b[39m\u001b[38;5;241m.\u001b[39mlitr \u001b[38;5;241m=\u001b[39m litr\n\u001b[1;32m      4\u001b[0m \u001b[38;5;28mself\u001b[39m\u001b[38;5;241m.\u001b[39mkoeficient_pinta \u001b[38;5;241m=\u001b[39m \u001b[38;5;241m1.7598\u001b[39m\n\u001b[0;32m----> 5\u001b[0m \u001b[38;5;28mself\u001b[39m\u001b[38;5;241m.\u001b[39mpinty \u001b[38;5;241m=\u001b[39m \u001b[38;5;28;43mself\u001b[39;49m\u001b[38;5;241;43m.\u001b[39;49m\u001b[43mlitr\u001b[49m\u001b[43m \u001b[49m\u001b[38;5;241;43m*\u001b[39;49m\u001b[43m \u001b[49m\u001b[38;5;28;43mself\u001b[39;49m\u001b[38;5;241;43m.\u001b[39;49m\u001b[43mkoeficient_pinta\u001b[49m\n",
      "\u001b[0;31mTypeError\u001b[0m: can't multiply sequence by non-int of type 'float'"
     ]
    }
   ],
   "source": [
    "tri_litry = ObjemovyKonvertor(\"tři\")"
   ]
  },
  {
   "cell_type": "markdown",
   "metadata": {},
   "source": [
    "<br>\n",
    "\n",
    "Případně pokud potřebuješ přepočet takové instance, *interpret* nebude na tvoji úpravu reagovat:"
   ]
  },
  {
   "cell_type": "code",
   "execution_count": 5,
   "metadata": {},
   "outputs": [],
   "source": [
    "dva_litry.litr = 3"
   ]
  },
  {
   "cell_type": "code",
   "execution_count": 6,
   "metadata": {
    "tags": []
   },
   "outputs": [
    {
     "data": {
      "text/plain": [
       "3.5196"
      ]
     },
     "execution_count": 6,
     "metadata": {},
     "output_type": "execute_result"
    }
   ],
   "source": [
    "dva_litry.pinty"
   ]
  },
  {
   "cell_type": "code",
   "execution_count": 7,
   "metadata": {
    "tags": []
   },
   "outputs": [
    {
     "data": {
      "text/plain": [
       "3"
      ]
     },
     "execution_count": 7,
     "metadata": {},
     "output_type": "execute_result"
    }
   ],
   "source": [
    "dva_litry.litr"
   ]
  },
  {
   "cell_type": "markdown",
   "metadata": {},
   "source": [
    "<br>\n",
    "\n",
    "*Intepret* v takovém případě pracuje **z první hodnotou**, kterou dostal při *instancování*.\n",
    "\n",
    "Následná změna má vliv pouze na instanční atribut `litr` nikoliv na již dříve nachystaný `pinta`."
   ]
  },
  {
   "cell_type": "markdown",
   "metadata": {},
   "source": [
    "### Řešení pomocí metody\n",
    "\n",
    "---"
   ]
  },
  {
   "cell_type": "markdown",
   "metadata": {},
   "source": [
    "Tvoje první reakce může být doplnění **vhodné metody**.\n",
    "\n",
    "Tady je situace samozřejmě schůdná, ale musíš **rozbít stávající zápis**.\n",
    "\n",
    "Resp. každý kdo s takovým skriptem pracuje, bude mít zápis rozházený:"
   ]
  },
  {
   "cell_type": "code",
   "execution_count": 8,
   "metadata": {
    "tags": []
   },
   "outputs": [],
   "source": [
    "class ObjemovyKonvertor:\n",
    "\n",
    "    def __init__(self, litr: int):\n",
    "        self.litr = litr\n",
    "        self.koeficient_pinta = 1.7598\n",
    "        \n",
    "    def pinty(self) -> float:\n",
    "        return self.litr * self.koeficient_pinta"
   ]
  },
  {
   "cell_type": "code",
   "execution_count": 9,
   "metadata": {
    "tags": []
   },
   "outputs": [],
   "source": [
    "dva_litry = ObjemovyKonvertor(2)"
   ]
  },
  {
   "cell_type": "code",
   "execution_count": 10,
   "metadata": {
    "tags": []
   },
   "outputs": [
    {
     "data": {
      "text/plain": [
       "3.5196"
      ]
     },
     "execution_count": 10,
     "metadata": {},
     "output_type": "execute_result"
    }
   ],
   "source": [
    "dva_litry.pinty()"
   ]
  },
  {
   "cell_type": "markdown",
   "metadata": {},
   "source": [
    "<br>\n",
    "\n",
    "Všude, kde uživatel pracoval **s instancemi a atributy**, bude muset najednou upravovat zápis:"
   ]
  },
  {
   "cell_type": "code",
   "execution_count": 11,
   "metadata": {},
   "outputs": [],
   "source": [
    "dva_litry.litr = 5"
   ]
  },
  {
   "cell_type": "code",
   "execution_count": 12,
   "metadata": {
    "tags": []
   },
   "outputs": [
    {
     "data": {
      "text/plain": [
       "5"
      ]
     },
     "execution_count": 12,
     "metadata": {},
     "output_type": "execute_result"
    }
   ],
   "source": [
    "dva_litry.litr"
   ]
  },
  {
   "cell_type": "code",
   "execution_count": 13,
   "metadata": {
    "tags": []
   },
   "outputs": [
    {
     "data": {
      "text/plain": [
       "8.799"
      ]
     },
     "execution_count": 13,
     "metadata": {},
     "output_type": "execute_result"
    }
   ],
   "source": [
    "dva_litry.pinty()"
   ]
  },
  {
   "cell_type": "markdown",
   "metadata": {},
   "source": [
    "<br>\n",
    "\n",
    "Výsledek je nyní tedy správný.\n",
    "\n",
    "Ale oprava stávajícího zápisu může být **náročná**. Obzvlášť, pokud třída nebude takhle jednoduchá."
   ]
  },
  {
   "cell_type": "markdown",
   "metadata": {},
   "source": [
    "<br>\n",
    "\n",
    "### Řešení pomocí funkce `property`\n",
    "\n",
    "---\n",
    "\n",
    "V jiných jazycích takhle uživatelé sahají ihned po:\n",
    "1. `setter`,\n",
    "2. `getter`,\n",
    "3. `deleter`.\n",
    "\n",
    "Tedy objekty, které umožní správně zasahovat a nastavovat atributy.\n",
    "\n",
    "Python v tomto ohledu nabízí několik šidítek, nejprve funkce `property`:"
   ]
  },
  {
   "cell_type": "code",
   "execution_count": 14,
   "metadata": {
    "tags": []
   },
   "outputs": [],
   "source": [
    "class ObjemovyKonvertor:\n",
    "\n",
    "    def __init__(self, litr: int):\n",
    "        self.litr = litr\n",
    "        self.__koeficient_pinta = 1.7598\n",
    "        \n",
    "    @property\n",
    "    def pinty(self):\n",
    "        return self.litr * self.__koeficient_pinta"
   ]
  },
  {
   "cell_type": "markdown",
   "metadata": {},
   "source": [
    "<br>\n",
    "\n",
    "Velmi zjednoduššeně vytvoříš prakticky metody, ale *interpret* ti k nim dovolí přistoupit jako k atributu."
   ]
  },
  {
   "cell_type": "code",
   "execution_count": 15,
   "metadata": {
    "tags": []
   },
   "outputs": [],
   "source": [
    "dva_litry = ObjemovyKonvertor(2)"
   ]
  },
  {
   "cell_type": "code",
   "execution_count": 16,
   "metadata": {
    "tags": []
   },
   "outputs": [
    {
     "data": {
      "text/plain": [
       "3.5196"
      ]
     },
     "execution_count": 16,
     "metadata": {},
     "output_type": "execute_result"
    }
   ],
   "source": [
    "dva_litry.pinty"
   ]
  },
  {
   "cell_type": "code",
   "execution_count": 17,
   "metadata": {
    "tags": []
   },
   "outputs": [
    {
     "ename": "TypeError",
     "evalue": "'float' object is not callable",
     "output_type": "error",
     "traceback": [
      "\u001b[0;31m---------------------------------------------------------------------------\u001b[0m",
      "\u001b[0;31mTypeError\u001b[0m                                 Traceback (most recent call last)",
      "Cell \u001b[0;32mIn[17], line 1\u001b[0m\n\u001b[0;32m----> 1\u001b[0m \u001b[43mdva_litry\u001b[49m\u001b[38;5;241;43m.\u001b[39;49m\u001b[43mpinty\u001b[49m\u001b[43m(\u001b[49m\u001b[43m)\u001b[49m\n",
      "\u001b[0;31mTypeError\u001b[0m: 'float' object is not callable"
     ]
    }
   ],
   "source": [
    "dva_litry.pinty()"
   ]
  },
  {
   "cell_type": "markdown",
   "metadata": {},
   "source": [
    "<br>\n",
    "\n",
    "V aktuálním zápise už **nepoužíváš explicitně metodu a závorky**.\n",
    "\n",
    "Ale jen přístup přes *atribut* `pinty`."
   ]
  },
  {
   "cell_type": "code",
   "execution_count": 18,
   "metadata": {
    "tags": []
   },
   "outputs": [],
   "source": [
    "dva_litry.litr = 3"
   ]
  },
  {
   "cell_type": "code",
   "execution_count": 19,
   "metadata": {
    "tags": []
   },
   "outputs": [
    {
     "data": {
      "text/plain": [
       "5.2794"
      ]
     },
     "execution_count": 19,
     "metadata": {},
     "output_type": "execute_result"
    }
   ],
   "source": [
    "dva_litry.pinty"
   ]
  },
  {
   "cell_type": "markdown",
   "metadata": {},
   "source": [
    "<br>\n",
    "\n",
    "Co když ale budeš chtít zadat **přímo pinty** a ty převádět na litry:"
   ]
  },
  {
   "cell_type": "code",
   "execution_count": 20,
   "metadata": {
    "tags": []
   },
   "outputs": [
    {
     "ename": "AttributeError",
     "evalue": "can't set attribute",
     "output_type": "error",
     "traceback": [
      "\u001b[0;31m---------------------------------------------------------------------------\u001b[0m",
      "\u001b[0;31mAttributeError\u001b[0m                            Traceback (most recent call last)",
      "Cell \u001b[0;32mIn[20], line 1\u001b[0m\n\u001b[0;32m----> 1\u001b[0m \u001b[43mdva_litry\u001b[49m\u001b[38;5;241;43m.\u001b[39;49m\u001b[43mpinty\u001b[49m \u001b[38;5;241m=\u001b[39m \u001b[38;5;241m2\u001b[39m\n",
      "\u001b[0;31mAttributeError\u001b[0m: can't set attribute"
     ]
    }
   ],
   "source": [
    "dva_litry.pinty = 2"
   ]
  },
  {
   "cell_type": "markdown",
   "metadata": {},
   "source": [
    "<br>\n",
    "\n",
    "*Interpret* tě nenechá zadat výraz pro atribut instance."
   ]
  },
  {
   "cell_type": "markdown",
   "metadata": {},
   "source": [
    "<br>\n",
    "\n",
    "### Dekorátory setter, getter\n",
    "\n",
    "---"
   ]
  },
  {
   "cell_type": "markdown",
   "metadata": {},
   "source": [
    "Pokud budeš chtít zadávat **zvlášť litry** a **zvlášť pinty**, potřebuješ svoji třídu správně rozdělit:"
   ]
  },
  {
   "cell_type": "code",
   "execution_count": 21,
   "metadata": {
    "tags": []
   },
   "outputs": [],
   "source": [
    "class ObjemovyKonvertor:\n",
    "\n",
    "    def __init__(self):\n",
    "        self._litr  = 0\n",
    "        self._pinta = 0\n",
    "        self.__koeficient_pinta = 1.7598\n",
    "        \n",
    "    @property\n",
    "    def litr(self):\n",
    "        print(\"GETTER: odebírám hodnotu 'litr'.\")\n",
    "        return self._litr\n",
    "    \n",
    "    @property\n",
    "    def pinta(self):\n",
    "        print(\"GETTER: odebírám hodnotu 'pinta'.\")\n",
    "        return self._pinta"
   ]
  },
  {
   "cell_type": "markdown",
   "metadata": {},
   "source": [
    "<br>\n",
    "\n",
    "Pomocí tzv. *getterů* nachystáš atributy `pinta` a `litr`, které budeš nyní použít pokaždé, když atribut vypíšeš:"
   ]
  },
  {
   "cell_type": "code",
   "execution_count": 22,
   "metadata": {
    "tags": []
   },
   "outputs": [],
   "source": [
    "prevodnik_1 = ObjemovyKonvertor()"
   ]
  },
  {
   "cell_type": "code",
   "execution_count": 23,
   "metadata": {
    "tags": []
   },
   "outputs": [
    {
     "name": "stdout",
     "output_type": "stream",
     "text": [
      "GETTER: odebírám hodnotu 'litr'.\n",
      "GETTER: odebírám hodnotu 'pinta'.\n",
      "0\n",
      "0\n"
     ]
    }
   ],
   "source": [
    "print(\n",
    "    prevodnik_1.litr,\n",
    "    prevodnik_1.pinta,\n",
    "    sep=\"\\n\"\n",
    ")"
   ]
  },
  {
   "cell_type": "markdown",
   "metadata": {},
   "source": [
    "<br>\n",
    "\n",
    "**Gettery** slouží jenom k dotazování a je potřeba je označit jako chráněné proměnné (*weak private*): "
   ]
  },
  {
   "cell_type": "code",
   "execution_count": 24,
   "metadata": {
    "tags": []
   },
   "outputs": [
    {
     "ename": "AttributeError",
     "evalue": "can't set attribute",
     "output_type": "error",
     "traceback": [
      "\u001b[0;31m---------------------------------------------------------------------------\u001b[0m",
      "\u001b[0;31mAttributeError\u001b[0m                            Traceback (most recent call last)",
      "Cell \u001b[0;32mIn[24], line 1\u001b[0m\n\u001b[0;32m----> 1\u001b[0m \u001b[43mprevodnik_1\u001b[49m\u001b[38;5;241;43m.\u001b[39;49m\u001b[43mlitr\u001b[49m \u001b[38;5;241m=\u001b[39m \u001b[38;5;241m2\u001b[39m\n",
      "\u001b[0;31mAttributeError\u001b[0m: can't set attribute"
     ]
    }
   ],
   "source": [
    "prevodnik_1.litr = 2"
   ]
  },
  {
   "cell_type": "markdown",
   "metadata": {},
   "source": [
    "Teď, ale nemáš připravený způsob, jak hodnoty nastavovat.\n",
    "\n",
    "Nyní můžeš hodnoty **pouze odebírat**."
   ]
  },
  {
   "cell_type": "markdown",
   "metadata": {},
   "source": [
    "<br>\n",
    "\n",
    "Ať můžeš pohodlně měnit hodnoty atributů, potřebuješ nastavit dekorátor `setter`:"
   ]
  },
  {
   "cell_type": "code",
   "execution_count": 25,
   "metadata": {
    "tags": []
   },
   "outputs": [],
   "source": [
    "class ObjemovyKonvertor:\n",
    "\n",
    "    def __init__(self):\n",
    "        self._litr = 0\n",
    "        self._pinta = 0\n",
    "        self.__koeficient_pinta = 1.7598\n",
    "\n",
    "    @property\n",
    "    def litr(self):\n",
    "        print(\"GETTER: odebírám hodnotu 'litr'.\")   # POUZE PRO ZNAZORNENI\n",
    "        return self._litr\n",
    "\n",
    "    @property\n",
    "    def pinta(self):\n",
    "        print(\"GETTER: odebírám hodnotu 'pinta'.\")  # POUZE PRO ZNAZORNENI\n",
    "        return self._pinta\n",
    "    \n",
    "    @litr.setter\n",
    "    def litr(self, hodnota: float):\n",
    "        print(\"SETTER: nastavuji hodnotu 'litr'.\")  # POUZE PRO ZNAZORNENI\n",
    "        self._litr = hodnota  \n",
    "\n",
    "    @pinta.setter\n",
    "    def pinta(self, hodnota: float):\n",
    "        print(\"SETTER: nastavuji hodnotu 'pinta'.\") # POUZE PRO ZNAZORNENI\n",
    "        self._pinta = hodnota"
   ]
  },
  {
   "cell_type": "code",
   "execution_count": 26,
   "metadata": {
    "tags": []
   },
   "outputs": [],
   "source": [
    "prevodnik_1 = ObjemovyKonvertor()"
   ]
  },
  {
   "cell_type": "code",
   "execution_count": 27,
   "metadata": {
    "tags": []
   },
   "outputs": [
    {
     "name": "stdout",
     "output_type": "stream",
     "text": [
      "GETTER: odebírám hodnotu 'litr'.\n",
      "0\n"
     ]
    }
   ],
   "source": [
    "print(prevodnik_1.litr)"
   ]
  },
  {
   "cell_type": "code",
   "execution_count": 28,
   "metadata": {
    "tags": []
   },
   "outputs": [
    {
     "name": "stdout",
     "output_type": "stream",
     "text": [
      "SETTER: nastavuji hodnotu 'litr'.\n"
     ]
    }
   ],
   "source": [
    "prevodnik_1.litr = 2"
   ]
  },
  {
   "cell_type": "code",
   "execution_count": 29,
   "metadata": {
    "tags": []
   },
   "outputs": [
    {
     "name": "stdout",
     "output_type": "stream",
     "text": [
      "SETTER: nastavuji hodnotu 'pinta'.\n"
     ]
    }
   ],
   "source": [
    "prevodnik_1.pinta = 2"
   ]
  },
  {
   "cell_type": "code",
   "execution_count": 30,
   "metadata": {
    "tags": []
   },
   "outputs": [
    {
     "name": "stdout",
     "output_type": "stream",
     "text": [
      "GETTER: odebírám hodnotu 'litr'.\n",
      "GETTER: odebírám hodnotu 'pinta'.\n",
      "2\n",
      "2\n"
     ]
    }
   ],
   "source": [
    "print(\n",
    "    prevodnik_1.litr,\n",
    "    prevodnik_1.pinta,\n",
    "    sep='\\n'\n",
    ")"
   ]
  },
  {
   "cell_type": "markdown",
   "metadata": {},
   "source": [
    "<br>\n",
    "\n",
    "V tomto případě Python nejprve spustí `prevodnik_1.litr` a `prevodnik_1.pinta`. Proto vidíš:\n",
    "```\n",
    "GETTER: odebírám hodnotu 'litr'.\n",
    "GETTER: odebírám hodnotu 'pinta'.\n",
    "```"
   ]
  },
  {
   "cell_type": "markdown",
   "metadata": {},
   "source": [
    "Teprve později, samotná funkce `print` vypisuje výstupy:\n",
    "```\n",
    "2\n",
    "2\n",
    "```"
   ]
  },
  {
   "cell_type": "markdown",
   "metadata": {},
   "source": [
    "<br>\n",
    "\n",
    "Teď když můžeš elegantně zadávat jak pinty, tak litry, můžeš doplnit metody pro přepočty:"
   ]
  },
  {
   "cell_type": "code",
   "execution_count": 33,
   "metadata": {
    "tags": []
   },
   "outputs": [],
   "source": [
    "class ObjemovyKonvertor:\n",
    "\n",
    "    def __init__(self):\n",
    "        self._litr = 0\n",
    "        self._pinta = 0\n",
    "        self.__koeficient_pinta = 1.7598\n",
    "        \n",
    "    @property\n",
    "    def pinta(self):\n",
    "        print(\"GETTER: odebírám hodnotu 'pinta'.\")\n",
    "        return self._pinta\n",
    "    \n",
    "    @property\n",
    "    def litr(self):\n",
    "        print(\"GETTER: odebírám hodnotu 'litr'.\")\n",
    "        return self._litr\n",
    "    \n",
    "    @pinta.setter\n",
    "    def pinta(self, hodnota: float):\n",
    "        print(\"SETTER: nastavuji hodnotu 'pinta'.\")\n",
    "        self._pinta = hodnota\n",
    "        \n",
    "    @litr.setter\n",
    "    def litr(self, hodnota: float):\n",
    "        print(\"SETTER: nastavuji hodnotu 'litr'.\")\n",
    "        self._litr = hodnota\n",
    "        \n",
    "    def na_pinty(self):\n",
    "        if self._litr:\n",
    "            return self.__koeficient_pinta * self._litr   # round()\n",
    "        else:\n",
    "            print(\"Nenastavená hodnota pro 'litr'\")\n",
    "    \n",
    "    def na_litry(self):\n",
    "        if self._pinta:\n",
    "            return self._pinta / self.__koeficient_pinta  # round()\n",
    "        else:\n",
    "            print(\"Nenastavená hodnota pro 'pinta'\")"
   ]
  },
  {
   "cell_type": "code",
   "execution_count": 34,
   "metadata": {
    "tags": []
   },
   "outputs": [],
   "source": [
    "prevodnik_1 = ObjemovyKonvertor()"
   ]
  },
  {
   "cell_type": "code",
   "execution_count": 35,
   "metadata": {
    "tags": []
   },
   "outputs": [
    {
     "name": "stdout",
     "output_type": "stream",
     "text": [
      "Nenastavená hodnota pro 'litr'\n"
     ]
    }
   ],
   "source": [
    "prevodnik_1.na_pinty()"
   ]
  },
  {
   "cell_type": "code",
   "execution_count": 36,
   "metadata": {
    "tags": []
   },
   "outputs": [
    {
     "name": "stdout",
     "output_type": "stream",
     "text": [
      "GETTER: odebírám hodnotu 'litr'.\n"
     ]
    },
    {
     "data": {
      "text/plain": [
       "0"
      ]
     },
     "execution_count": 36,
     "metadata": {},
     "output_type": "execute_result"
    }
   ],
   "source": [
    "prevodnik_1.litr"
   ]
  },
  {
   "cell_type": "code",
   "execution_count": 37,
   "metadata": {
    "tags": []
   },
   "outputs": [
    {
     "name": "stdout",
     "output_type": "stream",
     "text": [
      "SETTER: nastavuji hodnotu 'litr'.\n"
     ]
    }
   ],
   "source": [
    "prevodnik_1.litr = 3"
   ]
  },
  {
   "cell_type": "code",
   "execution_count": 38,
   "metadata": {
    "tags": []
   },
   "outputs": [
    {
     "name": "stdout",
     "output_type": "stream",
     "text": [
      "GETTER: odebírám hodnotu 'litr'.\n"
     ]
    },
    {
     "data": {
      "text/plain": [
       "3"
      ]
     },
     "execution_count": 38,
     "metadata": {},
     "output_type": "execute_result"
    }
   ],
   "source": [
    "prevodnik_1.litr"
   ]
  },
  {
   "cell_type": "code",
   "execution_count": 39,
   "metadata": {
    "tags": []
   },
   "outputs": [
    {
     "data": {
      "text/plain": [
       "5.2794"
      ]
     },
     "execution_count": 39,
     "metadata": {},
     "output_type": "execute_result"
    }
   ],
   "source": [
    "prevodnik_1.na_pinty()"
   ]
  },
  {
   "cell_type": "code",
   "execution_count": 40,
   "metadata": {
    "tags": []
   },
   "outputs": [
    {
     "name": "stdout",
     "output_type": "stream",
     "text": [
      "SETTER: nastavuji hodnotu 'pinta'.\n"
     ]
    }
   ],
   "source": [
    "prevodnik_1.pinta = 3"
   ]
  },
  {
   "cell_type": "code",
   "execution_count": 41,
   "metadata": {
    "tags": []
   },
   "outputs": [
    {
     "data": {
      "text/plain": [
       "1.7047391749062393"
      ]
     },
     "execution_count": 41,
     "metadata": {},
     "output_type": "execute_result"
    }
   ],
   "source": [
    "prevodnik_1.na_litry()"
   ]
  },
  {
   "cell_type": "markdown",
   "metadata": {},
   "source": [
    "<br>\n",
    "\n",
    "Je poměrně běžné, že v rámci `setteru` uvádíš ověřovací podmínky:"
   ]
  },
  {
   "cell_type": "code",
   "execution_count": 51,
   "metadata": {
    "tags": []
   },
   "outputs": [],
   "source": [
    "class ObjemovyKonvertor:\n",
    "\n",
    "    def __init__(self, litr: int = 0, pinta: int = 0):\n",
    "        self._litr = 0\n",
    "        self._pinta = 0\n",
    "        self.__koeficient_pinta = 1.7598\n",
    "        \n",
    "    @property\n",
    "    def pinta(self):\n",
    "        print(\"GETTER: odebírám hodnotu 'pinta'.\")\n",
    "        return self.pinta\n",
    "    \n",
    "    @property\n",
    "    def litr(self):\n",
    "        print(\"GETTER: odebírám hodnotu 'litr'.\")\n",
    "        return self.litr\n",
    "    \n",
    "    @pinta.setter\n",
    "    def pinta(self, hodnota: int):\n",
    "        print(\"SETTER: nastavuji hodnotu 'pinta'.\")\n",
    "        \n",
    "        if not isinstance(hodnota, int):\n",
    "            print(\"Špatný datový typ pro 'pinta'\")\n",
    "        else:\n",
    "            self.pinta = hodnota\n",
    "        \n",
    "    @litr.setter\n",
    "    def litr(self, hodnota: int):\n",
    "        print(\"SETTER: nastavuji hodnotu 'litr'.\")\n",
    "        \n",
    "        if not isinstance(hodnota, int):\n",
    "            print(\"Špatný datový typ pro 'litr'\")\n",
    "        else:\n",
    "            self.litr = hodnota\n",
    "        \n",
    "#     def na_pinty(self):\n",
    "#         if self._litr > 0:\n",
    "#             return self.__koeficient_pinta * self._litr\n",
    "#         else:\n",
    "#             print(\"Nenastavená hodnota pro 'litr'\")\n",
    "    \n",
    "#     def na_litry(self):\n",
    "#         if self._pinta > 0:\n",
    "#             return self._pinta / self.__koeficient_pinta \n",
    "#         else:\n",
    "#             print(\"Nenastavená hodnota pro 'pinta'\")"
   ]
  },
  {
   "cell_type": "code",
   "execution_count": 53,
   "metadata": {
    "tags": []
   },
   "outputs": [],
   "source": [
    "# prevodnik_1 = ObjemovyKonvertor()"
   ]
  },
  {
   "cell_type": "code",
   "execution_count": 44,
   "metadata": {
    "tags": []
   },
   "outputs": [
    {
     "name": "stdout",
     "output_type": "stream",
     "text": [
      "SETTER: nastavuji hodnotu 'litr'.\n",
      "Špatný datový typ pro 'litr'\n"
     ]
    }
   ],
   "source": [
    "prevodnik_1.litr = \"5\""
   ]
  },
  {
   "cell_type": "code",
   "execution_count": 45,
   "metadata": {
    "tags": []
   },
   "outputs": [
    {
     "data": {
      "text/plain": [
       "0"
      ]
     },
     "execution_count": 45,
     "metadata": {},
     "output_type": "execute_result"
    }
   ],
   "source": [
    "prevodnik_1.litr"
   ]
  },
  {
   "cell_type": "code",
   "execution_count": 46,
   "metadata": {
    "tags": []
   },
   "outputs": [
    {
     "name": "stdout",
     "output_type": "stream",
     "text": [
      "SETTER: nastavuji hodnotu 'litr'.\n"
     ]
    }
   ],
   "source": [
    "prevodnik_1.litr = 5"
   ]
  },
  {
   "cell_type": "code",
   "execution_count": 47,
   "metadata": {
    "tags": []
   },
   "outputs": [
    {
     "data": {
      "text/plain": [
       "8.799"
      ]
     },
     "execution_count": 47,
     "metadata": {},
     "output_type": "execute_result"
    }
   ],
   "source": [
    "prevodnik_1.na_pinty()"
   ]
  },
  {
   "cell_type": "markdown",
   "metadata": {
    "tags": []
   },
   "source": [
    "<br>\n",
    "\n",
    "Podobným způsobem můžeš definovat také dekorátor `deleter`, který hodnotu odstraní:\n",
    "```python\n",
    "    @litr.deleter\n",
    "    def litr(self):\n",
    "        del self._litr\n",
    "\n",
    "```"
   ]
  },
  {
   "cell_type": "code",
   "execution_count": 48,
   "metadata": {},
   "outputs": [],
   "source": [
    "a = {'a': 1, 'b': 2}"
   ]
  },
  {
   "cell_type": "code",
   "execution_count": 49,
   "metadata": {
    "tags": []
   },
   "outputs": [],
   "source": [
    "del a['a']"
   ]
  },
  {
   "cell_type": "code",
   "execution_count": 50,
   "metadata": {
    "tags": []
   },
   "outputs": [
    {
     "data": {
      "text/plain": [
       "{'b': 2}"
      ]
     },
     "execution_count": 50,
     "metadata": {},
     "output_type": "execute_result"
    }
   ],
   "source": [
    "a"
   ]
  },
  {
   "cell_type": "code",
   "execution_count": null,
   "metadata": {},
   "outputs": [],
   "source": [
    "# note. Myslet na ukázku RecursionError (nesprávné instancování s kolizí jmen atributu a metody)"
   ]
  },
  {
   "cell_type": "markdown",
   "metadata": {},
   "source": [
    "<br>\n",
    "\n",
    "### 🧠 CVIČENÍ 🧠, Vytvoř třídu `Plocha`, která bude tvořena následovným:\n",
    "---"
   ]
  },
  {
   "cell_type": "markdown",
   "metadata": {},
   "source": [
    "1. Definuj třídu `Plocha`,\n",
    "2. vytvoř *instanční konstruktor*, který nepotřebuje parametry,\n",
    "3. *instanční konstruktor* udává pouze *weak private* atribut `self._prumer_cm` nastavený na nulu,\n",
    "4. vytvoř metodu `getter` (pomocí dekorátoru) se jménem `prumer_cm`,\n",
    "5. vytvoř metodu `setter` (pomocí dekorátoru), která ověří, že zadaný parametr `hodnota` je buď `int` nebo `float`, jinak vypíše `\"Špatný datový typ pro 'prumer_cm'\"`\n",
    "6. vytvoř *instanční metodu* `vypocitej_plochu_kruhu`, která pomocí konstanty `math.pi` (z knihovny `math`) vrátí plochu kruhu,\n",
    "7. vytvoř statickou metodu `vypocitej_obvod_kruhu`, která za pomoci parametru `polomer` vrátí obvod kružnice,\n",
    "8. vytvoř magickou metodu `__str__`, která naformátuje výstup do stringu: `Kruh s průměrem: <polomer>, plochou: <plocha>.`"
   ]
  },
  {
   "cell_type": "code",
   "execution_count": 66,
   "metadata": {},
   "outputs": [],
   "source": [
    "import math"
   ]
  },
  {
   "cell_type": "code",
   "execution_count": 56,
   "metadata": {
    "tags": []
   },
   "outputs": [
    {
     "data": {
      "text/plain": [
       "False"
      ]
     },
     "execution_count": 56,
     "metadata": {},
     "output_type": "execute_result"
    }
   ],
   "source": [
    "isinstance(\"1\", (int, float))"
   ]
  },
  {
   "cell_type": "code",
   "execution_count": 71,
   "metadata": {},
   "outputs": [],
   "source": [
    "class Plocha:\n",
    "    \n",
    "    def __init__(self):\n",
    "        self._prumer_cm = \"\"\n",
    "    \n",
    "    @property\n",
    "    def prumer_cm(self):\n",
    "        return self._prumer_cm\n",
    "    \n",
    "    @prumer_cm.setter\n",
    "    def prumer_cm(self, hodnota):\n",
    "        if isinstance(hodnota, int) or isinstance(hodnota, float):  # (int, float, decimal.Decimal)\n",
    "            self._prumer_cm = hodnota\n",
    "        else:\n",
    "            # logging.warning()\n",
    "            raise TypeError(\"Špatný datový typ pro 'prumer_cm'\")\n",
    "    \n",
    "    def vypocitej_plochu_kruhu(self):\n",
    "        polomer = self._prumer_cm / 2\n",
    "        return math.pi * ((polomer)**2)\n",
    "\n",
    "    def vypocitej_obvod_kruhu(self, polomer):\n",
    "        return 2* math.pi * polomer\n",
    "    \n",
    "    def __str__(self):\n",
    "        return f\"Kruh s průměrem: {self._prumer_cm}, plochou: {round(self.vypocitej_plochu_kruhu(), 3)}.\""
   ]
  },
  {
   "cell_type": "code",
   "execution_count": 72,
   "metadata": {
    "tags": []
   },
   "outputs": [],
   "source": [
    "p1 = Plocha()"
   ]
  },
  {
   "cell_type": "code",
   "execution_count": 73,
   "metadata": {
    "tags": []
   },
   "outputs": [],
   "source": [
    "p1.prumer_cm = 10"
   ]
  },
  {
   "cell_type": "code",
   "execution_count": 69,
   "metadata": {
    "tags": []
   },
   "outputs": [
    {
     "data": {
      "text/plain": [
       "10"
      ]
     },
     "execution_count": 69,
     "metadata": {},
     "output_type": "execute_result"
    }
   ],
   "source": [
    "p1.prumer_cm"
   ]
  },
  {
   "cell_type": "code",
   "execution_count": 61,
   "metadata": {
    "tags": []
   },
   "outputs": [
    {
     "ename": "TypeError",
     "evalue": "Špatný datový typ pro 'prumer_cm'",
     "output_type": "error",
     "traceback": [
      "\u001b[0;31m---------------------------------------------------------------------------\u001b[0m",
      "\u001b[0;31mTypeError\u001b[0m                                 Traceback (most recent call last)",
      "Cell \u001b[0;32mIn[61], line 1\u001b[0m\n\u001b[0;32m----> 1\u001b[0m \u001b[43mp1\u001b[49m\u001b[38;5;241;43m.\u001b[39;49m\u001b[43mprumer_cm\u001b[49m \u001b[38;5;241m=\u001b[39m \u001b[38;5;124m\"\u001b[39m\u001b[38;5;124m10\u001b[39m\u001b[38;5;124m\"\u001b[39m\n",
      "Cell \u001b[0;32mIn[57], line 15\u001b[0m, in \u001b[0;36mPlocha.prumer_cm\u001b[0;34m(self, hodnota)\u001b[0m\n\u001b[1;32m     13\u001b[0m     \u001b[38;5;28mself\u001b[39m\u001b[38;5;241m.\u001b[39m_prumer_cm \u001b[38;5;241m=\u001b[39m hodnota\n\u001b[1;32m     14\u001b[0m \u001b[38;5;28;01melse\u001b[39;00m:\n\u001b[0;32m---> 15\u001b[0m     \u001b[38;5;28;01mraise\u001b[39;00m \u001b[38;5;167;01mTypeError\u001b[39;00m(\u001b[38;5;124m\"\u001b[39m\u001b[38;5;124mŠpatný datový typ pro \u001b[39m\u001b[38;5;124m'\u001b[39m\u001b[38;5;124mprumer_cm\u001b[39m\u001b[38;5;124m'\u001b[39m\u001b[38;5;124m\"\u001b[39m)\n",
      "\u001b[0;31mTypeError\u001b[0m: Špatný datový typ pro 'prumer_cm'"
     ]
    }
   ],
   "source": [
    "p1.prumer_cm = \"10\""
   ]
  },
  {
   "cell_type": "code",
   "execution_count": 74,
   "metadata": {
    "tags": []
   },
   "outputs": [
    {
     "name": "stdout",
     "output_type": "stream",
     "text": [
      "Kruh s průměrem: 5.0, plochou: 78.54.\n",
      "Kruh s průměrem: 5.0, plochou: 78.54.\n"
     ]
    }
   ],
   "source": [
    "print(\n",
    "    p1,\n",
    "    str(p1),\n",
    "    sep='\\n'\n",
    ")"
   ]
  },
  {
   "cell_type": "markdown",
   "metadata": {},
   "source": [
    "<details>\n",
    "    <summary>▶️ Řešení</summary>\n",
    "    \n",
    "```python\n",
    "class Plocha:\n",
    "    def __init__(self):\n",
    "        self._prumer_cm = 0.0\n",
    "\n",
    "    @property\n",
    "    def prumer_cm(self):\n",
    "        return self._prumer_cm\n",
    "\n",
    "    @prumer_cm.setter\n",
    "    def prumer_cm(self, hodnota: float):\n",
    "        if not isinstance(hodnota, (float, int)):\n",
    "            print(\"Atribut 'hodnota' není číselný datový typ.\")\n",
    "        else:\n",
    "            self._prumer_cm = hodnota\n",
    "\n",
    "    def vypocitej_plochu_kruhu(self) -> float:\n",
    "        return math.pi * (self._prumer_cm ** 2)\n",
    "\n",
    "    @staticmethod\n",
    "    def vypocitej_obvod_kruhu(polomer) -> float:\n",
    "        return 2 * math.pi * polomer\n",
    "\n",
    "    def __str__(self) -> str:\n",
    "        return f\"Kruh s průměrem: {self._prumer_cm}, plochou: {self.vypocitej_plochu_kruhu()}.\"\n",
    "```\n",
    "</details>"
   ]
  },
  {
   "cell_type": "markdown",
   "metadata": {},
   "source": [
    "<br>\n",
    "\n",
    "### 🧠 CVIČENÍ 🧠, Vytvoř třídu `TeplotniPrevodnik`, která bude tvořena následovným:\n",
    "---"
   ]
  },
  {
   "cell_type": "markdown",
   "metadata": {},
   "source": [
    "1. **Definuj novou třídu** `TeplotniPrevodnik`,\n",
    "2. definuj instanční konstruktor `__init__`, který vytvoří **jeden instanční atribut**: `self._teplota_celsia` (defaultně 0.0),\n",
    "3. definuj `@property` se jménem `teplota_celsia` s příslušným *getterem*, který vrátí hodnotu `self._teplota_celsia`,\n",
    "4. definuj `@property` se jménem `teplota_celsia` s příslušným *setterem*, který provede kontrolu, že hodnota není nižší než **-273.15 stupňů Celsia** (jinak `ValueError`),\n",
    "5. definuj `@property` se jménem `teplota_fahrenheit` s příslušným *getterem*, který vrátí hodnotu `self._teplota_fahrenheit`,\n",
    "6. definuj `@property` se jménem `teplota_fahrenheit` s příslušným *setterem*,\n",
    "7. definuj **statickou metodu** `celsia_na_fahrenheit`, která přijme teplotu **v stupních Celsia** a vrátí odpovídající teplotu **ve stupních Fahrenheit**,\n",
    "8. definuj **statickou metodu** `fahrenheit_na_celsia`, která přijme teplotu **ve stupních Fahrenheit** a vrátí odpovídající teplotu **v stupních Celsia**."
   ]
  },
  {
   "cell_type": "code",
   "execution_count": 76,
   "metadata": {
    "tags": []
   },
   "outputs": [],
   "source": [
    "class TeplotniPrevodnik:\n",
    "    def __init__(self):\n",
    "        self._teplota_celsia = 0.0\n",
    "\n",
    "    @property\n",
    "    def teplota_celsia(self):\n",
    "        return self._teplota_celsia\n",
    "\n",
    "    @teplota_celsia.setter\n",
    "    def teplota_celsia(self, value):\n",
    "        # logger.info(\"Prevadni na stupne Celsia..\")\n",
    "        if value < -273.15:\n",
    "            # logger.warning(\"...\")\n",
    "            raise ValueError(\"Teplota nemůže být nižší než -273.15 stupňů Celsia.\")\n",
    "        self._teplota_celsia = value\n",
    "        # logger.info(\"Hodnota ulozena jako 'teplota_celsia'\")\n",
    "\n",
    "    @property\n",
    "    def teplota_fahrenheit(self):\n",
    "        return TeplotniPrevodnik.celsia_na_fahrenheit(self._teplota_celsia)  # \n",
    "\n",
    "    @teplota_fahrenheit.setter\n",
    "    def teplota_fahrenheit(self, value):\n",
    "        self._teplota_celsia = TeplotniPrevodnik.fahrenheit_na_celsia(value) # \n",
    "\n",
    "    @staticmethod\n",
    "    def celsia_na_fahrenheit(teplota_celsia):\n",
    "        return teplota_celsia * 9 / 5 + 32\n",
    "\n",
    "    @staticmethod\n",
    "    def fahrenheit_na_celsia(teplota_fahrenheit):\n",
    "        return (teplota_fahrenheit - 32) * 5 / 9\n",
    "\n",
    "    def __str__(self):\n",
    "        return f\"Teplota: {self._teplota_celsia}°C, {self.teplota_fahrenheit}°F\""
   ]
  },
  {
   "cell_type": "code",
   "execution_count": 77,
   "metadata": {
    "tags": []
   },
   "outputs": [],
   "source": [
    "prevodnik = TeplotniPrevodnik()"
   ]
  },
  {
   "cell_type": "code",
   "execution_count": 78,
   "metadata": {
    "tags": []
   },
   "outputs": [
    {
     "data": {
      "text/plain": [
       "0.0"
      ]
     },
     "execution_count": 78,
     "metadata": {},
     "output_type": "execute_result"
    }
   ],
   "source": [
    "prevodnik.teplota_celsia"
   ]
  },
  {
   "cell_type": "code",
   "execution_count": 82,
   "metadata": {
    "tags": []
   },
   "outputs": [],
   "source": [
    "prevodnik.teplota_celsia = 25"
   ]
  },
  {
   "cell_type": "code",
   "execution_count": 83,
   "metadata": {
    "tags": []
   },
   "outputs": [
    {
     "data": {
      "text/plain": [
       "25"
      ]
     },
     "execution_count": 83,
     "metadata": {},
     "output_type": "execute_result"
    }
   ],
   "source": [
    "prevodnik.teplota_celsia"
   ]
  },
  {
   "cell_type": "code",
   "execution_count": 84,
   "metadata": {
    "tags": []
   },
   "outputs": [
    {
     "data": {
      "text/plain": [
       "77.0"
      ]
     },
     "execution_count": 84,
     "metadata": {},
     "output_type": "execute_result"
    }
   ],
   "source": [
    "prevodnik.teplota_fahrenheit"
   ]
  },
  {
   "cell_type": "markdown",
   "metadata": {},
   "source": [
    "<details>\n",
    "    <summary>▶️ Řešení</summary>\n",
    "    \n",
    "```python\n",
    "class TeplotniPrevodnik:\n",
    "    def __init__(self, teplota: float = 0.0) -> None:\n",
    "        \"\"\"\n",
    "        Vytvoří novou instanci třídy, s defaultní hodnotou\n",
    "        teploty ve stupních Celsia.\n",
    "        \"\"\"\n",
    "        self._teplota_celsia = teplota\n",
    "\n",
    "    @property\n",
    "    def teplota_celsia(self):\n",
    "        return self._teplota_celsia\n",
    "\n",
    "    @teplota_celsia.setter\n",
    "    def teplota_celsia(self, hodnota: float):\n",
    "        if hodnota < -273.15:\n",
    "            raise ValueError(\"Teplota nemůže být nižší než absolutní nula!\")\n",
    "        self._teplota_celsia = hodnota\n",
    "\n",
    "    @property\n",
    "    def teplota_fahrenheit(self):\n",
    "        return TeplotniPrevodnik.celsia_na_fahrenheit(self._teplota_celsia)\n",
    "\n",
    "    @teplota_fahrenheit.setter\n",
    "    def teplota_fahrenheit(self, hodnota):\n",
    "        self._teplota_celsia = TeplotniPrevodnik.fahrenheit_na_celsia(hodnota)\n",
    "\n",
    "    @staticmethod\n",
    "    def celsia_na_fahrenheit(celsia):\n",
    "        return celsia * 9 / 5 + 32\n",
    "\n",
    "    @staticmethod\n",
    "    def fahrenheit_na_celsia(fahrenheit):\n",
    "        return (fahrenheit - 32) * 5 / 9\n",
    "```\n",
    "</details>"
   ]
  },
  {
   "cell_type": "markdown",
   "metadata": {},
   "source": [
    "<img src=\"pillars.png\" width=\"900\" style=\"margin-left:auto; margin-right:auto\"/>"
   ]
  },
  {
   "cell_type": "markdown",
   "metadata": {},
   "source": [
    "OOP je *paradigma*, které používá \"objekty\" – struktury, návody obsahující:\n",
    "1. **Atributy**, tedy *argumenty* (popisují, jaký objekt je, jak vypadá),\n",
    "2. **vlastnosti**, tedy *metody* (popisují, co objekt umí).\n",
    "\n",
    "**Efektivní využití OOP** může vést k software, který je snadněji pochopitelný, flexibilnější a údržba, což přináší řadu výhod při vývoji složitých aplikací.\n",
    "\n",
    "Proto je ale nutné vědět, na čem všem toto *paradigma* stojí.\n",
    "\n",
    "<br>"
   ]
  },
  {
   "cell_type": "markdown",
   "metadata": {},
   "source": [
    "Mezi **4 základní koncepty OOP** je patří:\n",
    "1. **Polymorfismus**,\n",
    "2. **zapouzdření**,\n",
    "3. **dědičnost**,\n",
    "4. **abstrakce**."
   ]
  },
  {
   "cell_type": "markdown",
   "metadata": {},
   "source": [
    "## Polymorfismus ( ~polymorphism)\n",
    "\n",
    "---"
   ]
  },
  {
   "cell_type": "markdown",
   "metadata": {},
   "source": [
    "<img href=\"https://i.imgur.com/COUOylr.png\" width=\"1000\" style=\"margin-left:auto; margin-right:auto\">"
   ]
  },
  {
   "cell_type": "markdown",
   "metadata": {},
   "source": [
    "### Terminologie\n",
    "\n",
    "---"
   ]
  },
  {
   "cell_type": "markdown",
   "metadata": {},
   "source": [
    "**Polymorfismus** znamená *mnohotvárnost*.\n",
    "\n",
    "Lidsky si pod tímto můžeš představit situaci, kdy lze jednu věc popsat různými aplikacemi.\n",
    "\n",
    "Například **pozdrav**. Slušný pozdrav můžeš vyjádřit několika způsoby, nebo dokonce různými jazyky.\n",
    "\n",
    "<br>"
   ]
  },
  {
   "cell_type": "markdown",
   "metadata": {},
   "source": [
    "*Polymorfismus* přispívá k flexibilitě a rozšířitelnosti kódu tím, že umožňuje programátorům používat **objekty různých tříd zaměnitelně**."
   ]
  },
  {
   "cell_type": "markdown",
   "metadata": {},
   "source": [
    "### Význam v Pythonu\n",
    "\n",
    "---"
   ]
  },
  {
   "cell_type": "markdown",
   "metadata": {
    "tags": []
   },
   "source": [
    "Ve světě programování  to zase znamená, že jeden objekt, může plnit různé účely:"
   ]
  },
  {
   "cell_type": "code",
   "execution_count": 85,
   "metadata": {
    "tags": []
   },
   "outputs": [
    {
     "name": "stdout",
     "output_type": "stream",
     "text": [
      "<class 'int'>\n"
     ]
    }
   ],
   "source": [
    "print(type(1))"
   ]
  },
  {
   "cell_type": "code",
   "execution_count": 87,
   "metadata": {
    "tags": []
   },
   "outputs": [],
   "source": [
    "a = 1"
   ]
  },
  {
   "cell_type": "code",
   "execution_count": 89,
   "metadata": {
    "tags": []
   },
   "outputs": [
    {
     "name": "stdout",
     "output_type": "stream",
     "text": [
      "10\n"
     ]
    }
   ],
   "source": [
    "print(a.__add__(9))"
   ]
  },
  {
   "cell_type": "code",
   "execution_count": 91,
   "metadata": {
    "tags": []
   },
   "outputs": [
    {
     "name": "stdout",
     "output_type": "stream",
     "text": [
      "2\n",
      "Lekce #03\n"
     ]
    }
   ],
   "source": [
    "print(\n",
    "    1 + 1,            # operátor '+' s celočíselnými operandy,\n",
    "    \"Lekce\" + \" #03\", # operátor '+' se stringovými operandy,\n",
    "    sep=\"\\n\"\n",
    ")"
   ]
  },
  {
   "cell_type": "markdown",
   "metadata": {},
   "source": [
    "<br>\n",
    "\n",
    "Tento koncept už znáš.\n",
    "\n",
    "Operátor `+` totiž znamená **pro dva odlišné datové typy, dvě odlišné procedůry**:\n",
    "1. `int`, sčítání,\n",
    "2. `str`, spojování (~concatenation)."
   ]
  },
  {
   "cell_type": "markdown",
   "metadata": {},
   "source": [
    "<br>\n",
    "\n",
    "Takovou mnohotvárnost, ale neznáš jen mezi `int` a `str`.\n",
    "\n",
    "Podobného chování si můžeš všimnout i pro uživ. funkci `len`:"
   ]
  },
  {
   "cell_type": "code",
   "execution_count": 92,
   "metadata": {},
   "outputs": [
    {
     "name": "stdout",
     "output_type": "stream",
     "text": [
      "6\n",
      "4\n",
      "3\n"
     ]
    }
   ],
   "source": [
    "print(\n",
    "    len(\"Matous\"),                                                             # str\n",
    "    len([\"město\", \"moře\", \"kuře\", \"stavení\"]),                                 # list\n",
    "    len({\"jmeno\": \"Matous\", \"prijmeni\": \"Holinka\", \"email\": \"matous@nic.cz\"}), # dict\n",
    "    sep=\"\\n\"\n",
    ")"
   ]
  },
  {
   "cell_type": "code",
   "execution_count": null,
   "metadata": {
    "tags": []
   },
   "outputs": [],
   "source": [
    "\"Matous\".__len__()"
   ]
  },
  {
   "cell_type": "markdown",
   "metadata": {},
   "source": [
    "<br>\n",
    "\n",
    "Vidíš, že funkce `len` umí pracovat s různými datovými typy.\n",
    "\n",
    "<br>\n",
    "\n",
    "Vrací specifickou hodnotu pro každý datový typ zvlášť. Ale pořád používáš jednu a tutéž funkci.\n",
    "1. `str`, délka řetězce,\n",
    "2. `list`, počet údajů v sekvenci,\n",
    "3. `dict`, počet klíčů v objektu\n",
    "\n",
    "<br>"
   ]
  },
  {
   "cell_type": "markdown",
   "metadata": {},
   "source": [
    "### Využití v OOP\n",
    "\n",
    "---"
   ]
  },
  {
   "cell_type": "markdown",
   "metadata": {},
   "source": [
    "Dále tento koncept umožňuje přepisovat jména a použití **metod**:"
   ]
  },
  {
   "cell_type": "code",
   "execution_count": 93,
   "metadata": {
    "tags": []
   },
   "outputs": [],
   "source": [
    "class CsvProcessor:\n",
    "    def precti_soubor(self) -> str:\n",
    "        return \"Otevírám CSV soubor...\""
   ]
  },
  {
   "cell_type": "code",
   "execution_count": 94,
   "metadata": {
    "tags": []
   },
   "outputs": [],
   "source": [
    "class JsonProcessor:\n",
    "    def precti_soubor(self) -> str:\n",
    "        return \"Otevírám JSON soubor...\""
   ]
  },
  {
   "cell_type": "code",
   "execution_count": 98,
   "metadata": {
    "tags": []
   },
   "outputs": [],
   "source": [
    "csv_soubor = CsvProcessor()\n",
    "json_soubor = JsonProcessor()"
   ]
  },
  {
   "cell_type": "code",
   "execution_count": 99,
   "metadata": {
    "tags": []
   },
   "outputs": [
    {
     "name": "stdout",
     "output_type": "stream",
     "text": [
      "Otevírám CSV soubor...\n",
      "Otevírám JSON soubor...\n"
     ]
    }
   ],
   "source": [
    "for soubor in (csv_soubor, json_soubor):\n",
    "    print(soubor.precti_soubor())"
   ]
  },
  {
   "cell_type": "markdown",
   "metadata": {},
   "source": [
    "<br>\n",
    "\n",
    "Prakticky to tedy znamená, že *polymorfismus* umožní objektům **různých tříd**, pracovat **se stejnojmennými metodami**.\n",
    "\n",
    "S dalším využitím *polymorfismu* se můžeš setkat u dědičnosti (později v materiálech)."
   ]
  },
  {
   "cell_type": "markdown",
   "metadata": {},
   "source": [
    "<br>\n",
    "\n",
    "### 🧠 CVIČENÍ 7 🧠, Vytvoř třídy `CsvProcessor` a `TxtProcessor`:\n",
    "---"
   ]
  },
  {
   "cell_type": "markdown",
   "metadata": {
    "tags": []
   },
   "source": [
    "- Definuj třídu `CsvProcessor`, s metodou `__init__`, která potřebuje jen parametr `jmeno_souboru`,\n",
    "- zadej třídě `CsvProcessor` třídní atribut `ext` s hodnotou `.csv`,\n",
    "- metoda `__init__` sama ověří, jestli proměnná obsahuje správnou příponu,\n",
    "- pokud je přípona `.csv`, definuj instanční atribut, jinak vyvolej výjimku s textem: `Špatný formát souboru`,\n",
    "- vytvoř metodu `nacti_obsah`, která přečte a vrátí obsah **csv** souboru,\n",
    "- definuj třídu `TxtProcessor`, s metodou `__init__`, která potřebuje jen parametr `jmeno_souboru`,\n",
    "- zadej třídě `TxtProcessor` třídní atribut `ext` s hodnotou `.txt`,\n",
    "- metoda `__init__` sama ověří, jestli proměnná obsahuje správnou příponu,\n",
    "- pokud je přípona `.txt`, definuj instanční atribut, jinak vyvolej výjimku s textem: `Špatný formát souboru`,\n",
    "- vytvoř metodu `nacti_obsah`, která přečte a vrátí obsah **txt** souboru.\n",
    "\n",
    "Před spuštěním ukázky si nezapomeň vytvořit pokusné soubory."
   ]
  },
  {
   "cell_type": "code",
   "execution_count": 100,
   "metadata": {
    "tags": []
   },
   "outputs": [],
   "source": [
    "from pathlib import Path"
   ]
  },
  {
   "cell_type": "code",
   "execution_count": 102,
   "metadata": {
    "tags": []
   },
   "outputs": [
    {
     "data": {
      "text/plain": [
       "'.txt'"
      ]
     },
     "execution_count": 102,
     "metadata": {},
     "output_type": "execute_result"
    }
   ],
   "source": [
    "Path(\"/home/matous/t1.txt\").suffix"
   ]
  },
  {
   "cell_type": "code",
   "execution_count": 103,
   "metadata": {
    "tags": []
   },
   "outputs": [],
   "source": [
    "import os"
   ]
  },
  {
   "cell_type": "code",
   "execution_count": 105,
   "metadata": {
    "tags": []
   },
   "outputs": [],
   "source": [
    "# dir(os.path)"
   ]
  },
  {
   "cell_type": "code",
   "execution_count": 116,
   "metadata": {
    "tags": []
   },
   "outputs": [],
   "source": [
    "from pathlib import Path\n",
    "from pandas import read_csv\n",
    "\n",
    "class CsvProcessor:\n",
    "    ext: str = \".csv\"\n",
    "\n",
    "    def __init__(self, jmeno_souboru):\n",
    "        # self.ext = \".csv\"\n",
    "        if Path(jmeno_souboru).suffix == self.ext:  # os.path.\n",
    "            self.jmeno_souboru = jmeno_souboru\n",
    "        else:\n",
    "            raise ValueError(\"Špatný formát souboru\")\n",
    "\n",
    "    def nacti_obsah(self):\n",
    "        return read_csv(self.jmeno_souboru, sep=\";\")\n",
    "\n",
    "class TxtProcessor:\n",
    "    def __init__(self, jmeno_souboru):\n",
    "        self.jmeno_souboru = jmeno_souboru\n",
    "        self.ext = \".txt\"\n",
    "        if self.jmeno_souboru.endswith(self.ext):\n",
    "            pass\n",
    "        else:\n",
    "            raise ValueError(\"Špatný formát souboru\")\n",
    "\n",
    "    def nacti_obsah(self):\n",
    "        with open(self.jmeno_souboru, \"r\", encoding=\"utf-8\") as f:\n",
    "            return f.read()"
   ]
  },
  {
   "cell_type": "code",
   "execution_count": null,
   "metadata": {
    "tags": []
   },
   "outputs": [],
   "source": [
    "csv_1 = CsvProcessor(\"csv_pokus.csv\")\n",
    "txt_1 = TxtProcessor(\"txt_pokus.txt\")"
   ]
  },
  {
   "cell_type": "code",
   "execution_count": 107,
   "metadata": {
    "tags": []
   },
   "outputs": [
    {
     "name": "stdout",
     "output_type": "stream",
     "text": [
      "-rw-rw-r-- 1 matous matous     51 lis 22 20:32 test_csv.csv\n"
     ]
    }
   ],
   "source": [
    "!ls -l | grep \"csv\""
   ]
  },
  {
   "cell_type": "code",
   "execution_count": 117,
   "metadata": {
    "tags": []
   },
   "outputs": [],
   "source": [
    "csv_2 = CsvProcessor(\"test_csv.csv\")"
   ]
  },
  {
   "cell_type": "code",
   "execution_count": 118,
   "metadata": {
    "tags": []
   },
   "outputs": [
    {
     "data": {
      "text/plain": [
       "{'jmeno_souboru': 'test_csv.csv'}"
      ]
     },
     "execution_count": 118,
     "metadata": {},
     "output_type": "execute_result"
    }
   ],
   "source": [
    "csv_2.__dict__"
   ]
  },
  {
   "cell_type": "code",
   "execution_count": 119,
   "metadata": {
    "tags": []
   },
   "outputs": [],
   "source": [
    "obsah = csv_2.nacti_obsah()"
   ]
  },
  {
   "cell_type": "code",
   "execution_count": 122,
   "metadata": {
    "tags": []
   },
   "outputs": [
    {
     "data": {
      "text/plain": [
       "0    Matous\n",
       "1      Adam\n",
       "Name: jmeno, dtype: object"
      ]
     },
     "execution_count": 122,
     "metadata": {},
     "output_type": "execute_result"
    }
   ],
   "source": [
    "obsah['jmeno']"
   ]
  },
  {
   "cell_type": "markdown",
   "metadata": {},
   "source": [
    "<details>\n",
    "    <summary>▶️ Řešení</summary>\n",
    "    \n",
    "```python\n",
    "from pathlib import Path\n",
    "\n",
    "from pandas import read_csv\n",
    "\n",
    "\n",
    "class CsvProcessor:\n",
    "    ext: str = \".csv\"\n",
    "\n",
    "    def __init__(self, jmeno_souboru: str):\n",
    "        if Path(jmeno_souboru).suffix != self.ext:\n",
    "            raise Exception(\"Špatný formát souboru\")\n",
    "        self.jmeno_souboru = jmeno_souboru\n",
    "\n",
    "    def nacti_obsah(self):\n",
    "        return read_csv(self.jmeno_souboru)\n",
    "\n",
    "\n",
    "class TxtProcessor:\n",
    "    ext: str = \".txt\"\n",
    "\n",
    "    def __init__(self, jmeno_souboru: str):\n",
    "        if Path(jmeno_souboru).suffix != self.ext:\n",
    "            raise Exception(\"Špatný formát souboru\")\n",
    "        self.jmeno_souboru = jmeno_souboru\n",
    "\n",
    "    def nacti_obsah(self):\n",
    "        with open(self.jmeno_souboru) as txt:\n",
    "            return txt.read()\n",
    "```\n",
    "</details>"
   ]
  },
  {
   "cell_type": "code",
   "execution_count": null,
   "metadata": {},
   "outputs": [],
   "source": []
  },
  {
   "cell_type": "markdown",
   "metadata": {},
   "source": [
    "<br>\n",
    "\n",
    "## Zapouzdření (~encapsulation)\n",
    "\n",
    "---"
   ]
  },
  {
   "cell_type": "markdown",
   "metadata": {},
   "source": [
    "<img src=\"https://external-content.duckduckgo.com/iu/?u=https%3A%2F%2Ftse1.mm.bing.net%2Fth%3Fid%3DOIP.uDpIgfGQDzGDPvxtzsz-5AHaHa%26pid%3DApi&f=1&ipt=eb0bca94ab317533d3313fe92c84884bff2b45c5ce18cfdb8341427e8a8311fe&ipo=images\" width=\"300\" style=\"margin-left:auto; margin-right:auto\">"
   ]
  },
  {
   "cell_type": "markdown",
   "metadata": {},
   "source": [
    "### Terminologie\n",
    "\n",
    "---"
   ]
  },
  {
   "cell_type": "markdown",
   "metadata": {},
   "source": [
    "Tento pojem obecně označuje **nějaké skrývání**.\n",
    "\n",
    "Jde především o práci **s privátními a chráněnými** atributy nebo metodami.\n",
    "\n",
    "Účelem tohoto skrývání, nebo zapouzdření je ochrana.\n",
    "\n",
    "<br>\n",
    "\n",
    "Aby programátoři nepřepisovali, co nemají a tím nezpůsobili **komplikace** zdrojového kódu."
   ]
  },
  {
   "cell_type": "markdown",
   "metadata": {},
   "source": [
    "### Bez konceptu zapouzdření\n",
    "\n",
    "---"
   ]
  },
  {
   "cell_type": "markdown",
   "metadata": {},
   "source": [
    "V kombinaci s **chráněnými objekty** chceš některé procesy zajistit a současně nekomplikovat uživatelské použití:"
   ]
  },
  {
   "cell_type": "code",
   "execution_count": 123,
   "metadata": {
    "tags": []
   },
   "outputs": [],
   "source": [
    "class MojeAplikace:\n",
    "    \n",
    "    def __init__(self, jmeno: str, kredit: int):\n",
    "        self.jmeno = jmeno\n",
    "        self.kredit = kredit\n",
    "        \n",
    "    def vypis_status(self):\n",
    "        return f\"Uživatel: {self.jmeno}, dostupné kredity: {self.kredit}\""
   ]
  },
  {
   "cell_type": "code",
   "execution_count": 124,
   "metadata": {
    "tags": []
   },
   "outputs": [],
   "source": [
    "uzivatel_matous = MojeAplikace(\"Matouš\", 100)"
   ]
  },
  {
   "cell_type": "code",
   "execution_count": 125,
   "metadata": {
    "tags": []
   },
   "outputs": [
    {
     "name": "stdout",
     "output_type": "stream",
     "text": [
      "Uživatel: Matouš, dostupné kredity: 100\n"
     ]
    }
   ],
   "source": [
    "print(uzivatel_matous.vypis_status())"
   ]
  },
  {
   "cell_type": "markdown",
   "metadata": {},
   "source": [
    "<br>\n",
    "\n",
    "V aktuálním stavu třídy může **kdokoliv přistup z venku** naší třídy `MojeAplikace` a nedopatřením přepsat hodnoty:"
   ]
  },
  {
   "cell_type": "code",
   "execution_count": 126,
   "metadata": {
    "tags": []
   },
   "outputs": [],
   "source": [
    "uzivatel_matous.kredit = 10_000"
   ]
  },
  {
   "cell_type": "code",
   "execution_count": 127,
   "metadata": {
    "tags": []
   },
   "outputs": [
    {
     "name": "stdout",
     "output_type": "stream",
     "text": [
      "Uživatel: Matouš, dostupné kredity: 10000\n"
     ]
    }
   ],
   "source": [
    "print(uzivatel_matous.vypis_status())"
   ]
  },
  {
   "cell_type": "code",
   "execution_count": 128,
   "metadata": {
    "tags": []
   },
   "outputs": [],
   "source": [
    "uzivatel_matous.kredit = \"10_000\""
   ]
  },
  {
   "cell_type": "code",
   "execution_count": 129,
   "metadata": {
    "tags": []
   },
   "outputs": [
    {
     "name": "stdout",
     "output_type": "stream",
     "text": [
      "Uživatel: Matouš, dostupné kredity: 10_000\n"
     ]
    }
   ],
   "source": [
    "print(uzivatel_matous.vypis_status())"
   ]
  },
  {
   "cell_type": "code",
   "execution_count": 130,
   "metadata": {
    "tags": []
   },
   "outputs": [
    {
     "ename": "TypeError",
     "evalue": "can only concatenate str (not \"int\") to str",
     "output_type": "error",
     "traceback": [
      "\u001b[0;31m---------------------------------------------------------------------------\u001b[0m",
      "\u001b[0;31mTypeError\u001b[0m                                 Traceback (most recent call last)",
      "Cell \u001b[0;32mIn[130], line 1\u001b[0m\n\u001b[0;32m----> 1\u001b[0m uzivatel_matous\u001b[38;5;241m.\u001b[39mkredit \u001b[38;5;241m+\u001b[39m\u001b[38;5;241m=\u001b[39m \u001b[38;5;241m5_000\u001b[39m\n",
      "\u001b[0;31mTypeError\u001b[0m: can only concatenate str (not \"int\") to str"
     ]
    }
   ],
   "source": [
    "uzivatel_matous.kredit += 5_000"
   ]
  },
  {
   "cell_type": "markdown",
   "metadata": {},
   "source": [
    "<br>\n",
    "\n",
    "### Privátní objekty\n",
    "\n",
    "---"
   ]
  },
  {
   "cell_type": "markdown",
   "metadata": {},
   "source": [
    "<br>\n",
    "\n",
    "Proto je vhodné, zápis doplnit:\n",
    "1. **chráněnými** `__jmeno`,\n",
    "2. **privátními** `_jmeno`."
   ]
  },
  {
   "cell_type": "code",
   "execution_count": 131,
   "metadata": {
    "tags": []
   },
   "outputs": [],
   "source": [
    "class MojeAplikace:\n",
    "    \n",
    "    def __init__(self, jmeno: str, kredit: int):\n",
    "        self.jmeno = jmeno\n",
    "        self.__kredit = kredit\n",
    "        \n",
    "    def vypis_status(self):\n",
    "        return f\"Uživatel: {self.jmeno}, dostupné kredity: {self.__kredit}\""
   ]
  },
  {
   "cell_type": "code",
   "execution_count": 132,
   "metadata": {
    "tags": []
   },
   "outputs": [],
   "source": [
    "uzivatel_lukas = MojeAplikace(\"Lukáš\", 1000)"
   ]
  },
  {
   "cell_type": "code",
   "execution_count": 133,
   "metadata": {
    "tags": []
   },
   "outputs": [
    {
     "name": "stdout",
     "output_type": "stream",
     "text": [
      "Uživatel: Lukáš, dostupné kredity: 1000\n"
     ]
    }
   ],
   "source": [
    "print(uzivatel_lukas.vypis_status())"
   ]
  },
  {
   "cell_type": "code",
   "execution_count": 134,
   "metadata": {
    "tags": []
   },
   "outputs": [],
   "source": [
    "uzivatel_lukas.kredit = 1_000_000"
   ]
  },
  {
   "cell_type": "code",
   "execution_count": 135,
   "metadata": {
    "tags": []
   },
   "outputs": [
    {
     "name": "stdout",
     "output_type": "stream",
     "text": [
      "Uživatel: Lukáš, dostupné kredity: 1000\n"
     ]
    }
   ],
   "source": [
    "print(uzivatel_lukas.vypis_status())"
   ]
  },
  {
   "cell_type": "code",
   "execution_count": 136,
   "metadata": {
    "tags": []
   },
   "outputs": [
    {
     "data": {
      "text/plain": [
       "{'jmeno': 'Lukáš', '_MojeAplikace__kredit': 1000, 'kredit': 1000000}"
      ]
     },
     "execution_count": 136,
     "metadata": {},
     "output_type": "execute_result"
    }
   ],
   "source": [
    "uzivatel_lukas.__dict__"
   ]
  },
  {
   "cell_type": "markdown",
   "metadata": {},
   "source": [
    "<br>\n",
    "\n",
    "Koncept, na kterém je *privátní objekt* v Pythonu postavený, se označuje *name mangling* (tedy *komolení* jmen objektů).\n",
    "\n",
    "Ale takové opatření pořád neřeší problém, pokud instance dostane třeba **nevhodný datový typ**:"
   ]
  },
  {
   "cell_type": "code",
   "execution_count": null,
   "metadata": {
    "tags": []
   },
   "outputs": [],
   "source": [
    "uzivatel_lukas._MojeAplikace__kredit = \"1_000_000\""
   ]
  },
  {
   "cell_type": "code",
   "execution_count": null,
   "metadata": {
    "tags": []
   },
   "outputs": [],
   "source": [
    "print(uzivatel_lukas.vypis_status())"
   ]
  },
  {
   "cell_type": "markdown",
   "metadata": {
    "tags": []
   },
   "source": [
    "<br>\n",
    "\n",
    "### Gettery, settery\n",
    "\n",
    "---"
   ]
  },
  {
   "cell_type": "markdown",
   "metadata": {},
   "source": [
    "<br>\n",
    "\n",
    "Pro úplný pořádek je ještě nutné stanovit formu, kterou bude atribut zadáván:"
   ]
  },
  {
   "cell_type": "code",
   "execution_count": 137,
   "metadata": {
    "tags": []
   },
   "outputs": [],
   "source": [
    "class MojeAplikace:\n",
    "    \n",
    "    def __init__(self, jmeno: str):\n",
    "        self.jmeno = jmeno\n",
    "        self.__kredit = 0\n",
    "        \n",
    "    @property\n",
    "    def kredit(self):\n",
    "        \"\"\"Getter metoda\"\"\"\n",
    "        return self.__kredit\n",
    "    \n",
    "    @kredit.setter\n",
    "    def kredit(self, hodnota: int) -> None:\n",
    "        \"\"\"Setter metoda\"\"\"\n",
    "        if isinstance(hodnota, int):\n",
    "            self.__kredit = hodnota\n",
    "        else:\n",
    "            raise Exception(\"Zadaná hodnota není celé číslo\")\n",
    "        \n",
    "    def vypis_status(self):\n",
    "        return f\"Uživatel: {self.jmeno}, dostupné kredity: {self.__kredit}\""
   ]
  },
  {
   "cell_type": "code",
   "execution_count": 138,
   "metadata": {
    "tags": []
   },
   "outputs": [],
   "source": [
    "uzivatel_lukas = MojeAplikace(\"Lukáš\")"
   ]
  },
  {
   "cell_type": "code",
   "execution_count": 139,
   "metadata": {
    "tags": []
   },
   "outputs": [],
   "source": [
    "uzivatel_lukas.kredit = 1000"
   ]
  },
  {
   "cell_type": "code",
   "execution_count": 140,
   "metadata": {
    "tags": []
   },
   "outputs": [
    {
     "name": "stdout",
     "output_type": "stream",
     "text": [
      "Uživatel: Lukáš, dostupné kredity: 1000\n"
     ]
    }
   ],
   "source": [
    "print(uzivatel_lukas.vypis_status())"
   ]
  },
  {
   "cell_type": "markdown",
   "metadata": {},
   "source": [
    "<br>\n",
    "\n",
    "Nyní není možné zadat jiný datový typ, než celé číslo:"
   ]
  },
  {
   "cell_type": "code",
   "execution_count": 141,
   "metadata": {
    "tags": []
   },
   "outputs": [
    {
     "ename": "Exception",
     "evalue": "Zadaná hodnota není celé číslo",
     "output_type": "error",
     "traceback": [
      "\u001b[0;31m---------------------------------------------------------------------------\u001b[0m",
      "\u001b[0;31mException\u001b[0m                                 Traceback (most recent call last)",
      "Cell \u001b[0;32mIn[141], line 1\u001b[0m\n\u001b[0;32m----> 1\u001b[0m \u001b[43muzivatel_lukas\u001b[49m\u001b[38;5;241;43m.\u001b[39;49m\u001b[43mkredit\u001b[49m \u001b[38;5;241m=\u001b[39m \u001b[38;5;124m\"\u001b[39m\u001b[38;5;124m1000\u001b[39m\u001b[38;5;124m\"\u001b[39m\n",
      "Cell \u001b[0;32mIn[137], line 18\u001b[0m, in \u001b[0;36mMojeAplikace.kredit\u001b[0;34m(self, hodnota)\u001b[0m\n\u001b[1;32m     16\u001b[0m     \u001b[38;5;28mself\u001b[39m\u001b[38;5;241m.\u001b[39m__kredit \u001b[38;5;241m=\u001b[39m hodnota\n\u001b[1;32m     17\u001b[0m \u001b[38;5;28;01melse\u001b[39;00m:\n\u001b[0;32m---> 18\u001b[0m     \u001b[38;5;28;01mraise\u001b[39;00m \u001b[38;5;167;01mException\u001b[39;00m(\u001b[38;5;124m\"\u001b[39m\u001b[38;5;124mZadaná hodnota není celé číslo\u001b[39m\u001b[38;5;124m\"\u001b[39m)\n",
      "\u001b[0;31mException\u001b[0m: Zadaná hodnota není celé číslo"
     ]
    }
   ],
   "source": [
    "uzivatel_lukas.kredit = \"1000\""
   ]
  },
  {
   "cell_type": "markdown",
   "metadata": {},
   "source": [
    "<br>\n",
    "\n",
    "Pomocí defaultní výjimky `Exception` nyní uživatel vidí, že není možné pracovat s jiným datovým typem."
   ]
  },
  {
   "cell_type": "markdown",
   "metadata": {},
   "source": [
    "#### Souhrn k zapouzdření\n",
    "* **bezpečnost**, u privátních objektů je navíc vrstva ochrany proti nechtěnému přepsaní, nebo použití nesprávného datového typu,\n",
    "* **kontrola**, ostatní programátoři musí dodržovat postupy, pro manipulaci s privátními objekty,\n",
    "* **jednoduchost**, rozdělování zadávání a získání hodnot jsou oddělené objekty,\n",
    "* **čitelnost**, spojování objektů k příslušným třídám dělá zápis přehlednější."
   ]
  },
  {
   "cell_type": "markdown",
   "metadata": {},
   "source": []
  },
  {
   "cell_type": "markdown",
   "metadata": {},
   "source": [
    "<br>\n",
    "\n",
    "### 🧠 CVIČENÍ 8 🧠, Vytvoř třídu `AutomobilTesla` a doplň následující:"
   ]
  },
  {
   "cell_type": "markdown",
   "metadata": {
    "tags": []
   },
   "source": [
    "- Definuj třídu `AutomobilTesla`, s metodou `__init__`, která potřebuje jen parametr `uzivatel` a `cislo`,\n",
    "- vytvoř **getter a setter** metody pro atribut `max_rychlost`,\n",
    "- omez zadávání `max_rychlost` jenom pro datový typ `int` z intervalu `0 - 320`,\n",
    "- pokud uživatel nedodrží podmínky, vyvolej výjimku s textem: `Nepřijatelný datový typ nebo hodnota (< 320 km/h)`,\n",
    "- vytvoř **getter a setter** metody pro atribut `max_dojezd`,\n",
    "- omez zadávání `max_dojezd` jenom pro datový typ `int` z intervalu `0 - 590`,\n",
    "- pokud uživatel nedodrží podmínky, vyvolej výjimku s textem: `Nepřijatelný datový typ nebo hodnota (< 600 km)`,\n",
    "- přepiš magickou metodu `__str__`, aby formátovala tento výstup: `Uživatel: <uzivatel>, sériové číslo: <cislo>`."
   ]
  },
  {
   "cell_type": "code",
   "execution_count": null,
   "metadata": {
    "tags": []
   },
   "outputs": [],
   "source": []
  },
  {
   "cell_type": "code",
   "execution_count": null,
   "metadata": {
    "tags": []
   },
   "outputs": [],
   "source": [
    "tesla_model_s = AutomobilTesla(\"Matouš\", \"1234ABCE5678\")"
   ]
  },
  {
   "cell_type": "code",
   "execution_count": null,
   "metadata": {
    "tags": []
   },
   "outputs": [],
   "source": [
    "tesla_model_s.__dict__"
   ]
  },
  {
   "cell_type": "code",
   "execution_count": null,
   "metadata": {
    "tags": []
   },
   "outputs": [],
   "source": [
    "tesla_model_s.max_rychlost = 250"
   ]
  },
  {
   "cell_type": "code",
   "execution_count": null,
   "metadata": {
    "tags": []
   },
   "outputs": [],
   "source": [
    "tesla_model_s.max_rychlost"
   ]
  },
  {
   "cell_type": "code",
   "execution_count": null,
   "metadata": {
    "tags": []
   },
   "outputs": [],
   "source": [
    "tesla_model_s.__dict__"
   ]
  },
  {
   "cell_type": "markdown",
   "metadata": {},
   "source": [
    "<details>\n",
    "    <summary>▶️ Řešení</summary>\n",
    "    \n",
    "```python\n",
    "class AutomobilTesla:\n",
    "    def __init__(self, uzivatel: str, cislo: int):\n",
    "        self.uzivatel = uzivatel\n",
    "        self.cislo = cislo\n",
    "\n",
    "    @property\n",
    "    def max_rychlost(self):\n",
    "        return self.__max_rychlost\n",
    "\n",
    "    @max_rychlost.setter\n",
    "    def max_rychlost(self, hodnota: int):\n",
    "        if isinstance(hodnota, int) and 0 < hodnota < 320:\n",
    "            self.__max_rychlost = hodnota\n",
    "        else:\n",
    "            raise Exception(\"Nepřijatelný datový typ nebo hodnota (< 320 km/h)\")\n",
    "\n",
    "    @property\n",
    "    def max_dojezd(self):\n",
    "        return self.__max_dojezd\n",
    "\n",
    "    @max_dojezd.setter\n",
    "    def max_dojezd(self, hodnota):\n",
    "        if isinstance(hodnota, int) and 0 < hodnota < 590:\n",
    "            self.__max_dojezd = hodnota\n",
    "        else:\n",
    "            raise Exception(\"Nepřijatelný datový typ nebo hodnota (< 600 km)\")\n",
    "\n",
    "\n",
    "    def __str__(self):\n",
    "        return f\"Uživatel: {self.uzivatel}, sériové číslo: {self.cislo}\"\n",
    "```\n",
    "</details>"
   ]
  },
  {
   "cell_type": "markdown",
   "metadata": {},
   "source": [
    "[Formulář po třetí lekci](https://forms.gle/6kLQ1mEpXXHZUbgB8)"
   ]
  },
  {
   "cell_type": "markdown",
   "metadata": {},
   "source": [
    "---"
   ]
  }
 ],
 "metadata": {
  "kernelspec": {
   "display_name": "Python 3 (ipykernel)",
   "language": "python",
   "name": "python3"
  },
  "language_info": {
   "codemirror_mode": {
    "name": "ipython",
    "version": 3
   },
   "file_extension": ".py",
   "mimetype": "text/x-python",
   "name": "python",
   "nbconvert_exporter": "python",
   "pygments_lexer": "ipython3",
   "version": "3.8.10"
  }
 },
 "nbformat": 4,
 "nbformat_minor": 4
}
