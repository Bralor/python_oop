{
 "cells": [
  {
   "cell_type": "markdown",
   "metadata": {},
   "source": [
    "# Python objektově orientované programování\n",
    "\n",
    "---"
   ]
  },
  {
   "cell_type": "markdown",
   "metadata": {},
   "source": [
    "1. [Vlastnosti třídy](),\n",
    "    - [řešení metodou](),\n",
    "    - [řešení funkcí property](),\n",
    "    - [getter, setter, deleter](),\n",
    "2. [Polymorfismus](#Polymorfismus-(-~polymorphism)),\n",
    "    - [terminologie](#Terminologie),\n",
    "    - [význam v Pythonu](#Význam-v-Pythonu),\n",
    "    - [využití v OOP](#Využití-v-OOP),\n",
    "3. [zapouzdření](#Zapouzdření-(~encapsulation)),\n",
    "    - [bez zapouzdření](#Bez-konceptu-zapouzdření),\n",
    "    - [privátní objekty](#Privátní-objekty),\n",
    "    - [gettery, settery](#Gettery,-settery)\n",
    "    \n",
    "---"
   ]
  },
  {
   "cell_type": "markdown",
   "metadata": {},
   "source": [
    "<img src=\"https://external-content.duckduckgo.com/iu/?u=https%3A%2F%2Ftse1.mm.bing.net%2Fth%3Fid%3DOIP.P14PbLzZfDCpGX8hFnK74wHaHa%26pid%3DApi&f=1&ipt=de07e3110c5b46007e138de2aa1ddf169453c6bdf583d56537c3c749b7cf2055&ipo=images\" width=\"250\" style=\"margin-left:auto; margin-right:auto\"/>"
   ]
  },
  {
   "cell_type": "markdown",
   "metadata": {
    "tags": []
   },
   "source": [
    "## Vlastnosti třídy\n",
    "\n",
    "---\n",
    "\n",
    "\n",
    "V některých programovacích jazycích se k atributům **nepřistupuje přímo**.\n",
    "\n",
    "Je to z toho důvodu, že by uživatel nechtěně pracoval se špatným datovým typem, případně nevalidní hodnotou.\n",
    "\n",
    "V Pythonu tato funkcionalita **není podporovaná přímo**, ale existuje *workaround*."
   ]
  },
  {
   "cell_type": "markdown",
   "metadata": {},
   "source": [
    "<br>\n",
    "\n",
    "Představ si situaci, kdy máš napsat **převodník jednotek objemu**.\n",
    "\n",
    "Z **litrů** na **pinty**(UK):"
   ]
  },
  {
   "cell_type": "markdown",
   "metadata": {},
   "source": [
    "<img src=\"https://external-content.duckduckgo.com/iu/?u=https%3A%2F%2Ftse2.mm.bing.net%2Fth%3Fid%3DOIP.FCRrMRa9SQrNjgFSKfKP6AHaHa%26pid%3DApi&f=1&ipt=f45d961e5b9d1d428a1c59180cd22f9c6a298a6a8ccaa753d86ca54f906f045b&ipo=images\" width=\"200\" style=\"margin-left:auto; margin-right:auto\"/>"
   ]
  },
  {
   "cell_type": "code",
   "execution_count": null,
   "metadata": {},
   "outputs": [],
   "source": []
  },
  {
   "cell_type": "code",
   "execution_count": null,
   "metadata": {},
   "outputs": [],
   "source": [
    "class ObjemovyKonvertor:\n",
    "    def __init__(self, litr: int):\n",
    "        self.litr = litr\n",
    "        self.koeficient_pinta = 1.7598\n",
    "        self.pinty = self.litr * self.koeficient_pinta"
   ]
  },
  {
   "cell_type": "code",
   "execution_count": null,
   "metadata": {},
   "outputs": [],
   "source": [
    "dva_litry = ObjemovyKonvertor(2)"
   ]
  },
  {
   "cell_type": "code",
   "execution_count": null,
   "metadata": {
    "tags": []
   },
   "outputs": [],
   "source": [
    "dva_litry.pinty"
   ]
  },
  {
   "cell_type": "markdown",
   "metadata": {},
   "source": [
    "<br>\n",
    "\n",
    "Jako uživatel ale můžeš zadat **nesprávný argument** pro tvoji třídu:"
   ]
  },
  {
   "cell_type": "code",
   "execution_count": null,
   "metadata": {
    "tags": []
   },
   "outputs": [],
   "source": [
    "tri_litry = ObjemovyKonvertor(\"tři\")"
   ]
  },
  {
   "cell_type": "markdown",
   "metadata": {},
   "source": [
    "<br>\n",
    "\n",
    "Případně pokud potřebuješ přepočet takové instance, *interpret* nebude na tvoji úpravu reagovat:"
   ]
  },
  {
   "cell_type": "code",
   "execution_count": null,
   "metadata": {},
   "outputs": [],
   "source": [
    "dva_litry.litr = 3"
   ]
  },
  {
   "cell_type": "code",
   "execution_count": null,
   "metadata": {
    "tags": []
   },
   "outputs": [],
   "source": [
    "dva_litry.pinty"
   ]
  },
  {
   "cell_type": "code",
   "execution_count": null,
   "metadata": {
    "tags": []
   },
   "outputs": [],
   "source": [
    "dva_litry.litr"
   ]
  },
  {
   "cell_type": "markdown",
   "metadata": {},
   "source": [
    "<br>\n",
    "\n",
    "*Intepret* v takovém případě pracuje **z první hodnotou**, kterou dostal při *instancování*.\n",
    "\n",
    "Následná změna má vliv pouze na instanční atribut `litr` nikoliv na již dříve nachystaný `pinta`."
   ]
  },
  {
   "cell_type": "markdown",
   "metadata": {},
   "source": [
    "### Řešení pomocí metody\n",
    "\n",
    "---"
   ]
  },
  {
   "cell_type": "markdown",
   "metadata": {},
   "source": [
    "Tvoje první reakce může být doplnění **vhodné metody**.\n",
    "\n",
    "Tady je situace samozřejmě schůdná, ale musíš **rozbít stávající zápis**.\n",
    "\n",
    "Resp. každý kdo s takovým skriptem pracuje, bude mít zápis rozházený:"
   ]
  },
  {
   "cell_type": "code",
   "execution_count": null,
   "metadata": {
    "tags": []
   },
   "outputs": [],
   "source": [
    "class ObjemovyKonvertor:\n",
    "\n",
    "    def __init__(self, litr: int):\n",
    "        self.litr = litr\n",
    "        self.koeficient_pinta = 1.7598\n",
    "        \n",
    "    def pinty(self):\n",
    "        return self.litr * self.koeficient_pinta"
   ]
  },
  {
   "cell_type": "code",
   "execution_count": null,
   "metadata": {
    "tags": []
   },
   "outputs": [],
   "source": [
    "dva_litry = ObjemovyKonvertor(2)\n",
    "dva_litry.pinty()"
   ]
  },
  {
   "cell_type": "markdown",
   "metadata": {},
   "source": [
    "<br>\n",
    "\n",
    "Všude, kde uživatel pracoval **s instancemi a atributy**, bude muset najednou upravovat zápis:"
   ]
  },
  {
   "cell_type": "code",
   "execution_count": null,
   "metadata": {
    "tags": []
   },
   "outputs": [],
   "source": [
    "dva_litry = ObjemovyKonvertor(2)\n",
    "dva_litry.pinty()"
   ]
  },
  {
   "cell_type": "code",
   "execution_count": null,
   "metadata": {},
   "outputs": [],
   "source": [
    "dva_litry.litr = 5"
   ]
  },
  {
   "cell_type": "code",
   "execution_count": null,
   "metadata": {
    "tags": []
   },
   "outputs": [],
   "source": [
    "dva_litry.pinty()"
   ]
  },
  {
   "cell_type": "markdown",
   "metadata": {},
   "source": [
    "<br>\n",
    "\n",
    "Výsledek je nyní tedy správný.\n",
    "\n",
    "Ale oprava stávajícího zápisu může být **náročná**. Obzvlášť, pokud třída nebude takhle jednoduchá."
   ]
  },
  {
   "cell_type": "markdown",
   "metadata": {},
   "source": [
    "<br>\n",
    "\n",
    "### Řešení pomocí funkce `property`\n",
    "\n",
    "---\n",
    "\n",
    "V jiných jazycích takhle uživatelé sahají ihned po:\n",
    "1. `setter`,\n",
    "2. `getter`,\n",
    "3. `deleter`.\n",
    "\n",
    "Tedy objekty, které umožní správně zasahovat a nastavovat atributy.\n",
    "\n",
    "Python v tomto ohledu nabízí několik šidítek, nejprve funkce `property`:"
   ]
  },
  {
   "cell_type": "code",
   "execution_count": null,
   "metadata": {
    "tags": []
   },
   "outputs": [],
   "source": [
    "class ObjemovyKonvertor:\n",
    "\n",
    "    def __init__(self, litr: int):\n",
    "        self.litr = litr\n",
    "        self.__koeficient_pinta = 1.7598\n",
    "        \n",
    "    @property\n",
    "    def pinty(self):\n",
    "        return self.litr * self.__koeficient_pinta"
   ]
  },
  {
   "cell_type": "markdown",
   "metadata": {},
   "source": [
    "<br>\n",
    "\n",
    "Velmi zjednoduššeně vytvoříš prakticky metody, ale *interpret* ti k nim dovolí přistoupit jako k atributu."
   ]
  },
  {
   "cell_type": "code",
   "execution_count": null,
   "metadata": {
    "tags": []
   },
   "outputs": [],
   "source": [
    "dva_litry = ObjemovyKonvertor(2)"
   ]
  },
  {
   "cell_type": "code",
   "execution_count": null,
   "metadata": {
    "tags": []
   },
   "outputs": [],
   "source": [
    "dva_litry.pinty"
   ]
  },
  {
   "cell_type": "code",
   "execution_count": null,
   "metadata": {
    "tags": []
   },
   "outputs": [],
   "source": [
    "dva_litry.pinty()"
   ]
  },
  {
   "cell_type": "markdown",
   "metadata": {},
   "source": [
    "<br>\n",
    "\n",
    "V aktuálním zápise už **nepoužíváš explicitně metodu a závorky**.\n",
    "\n",
    "Ale jen přístup přes *atribut* `pinty`."
   ]
  },
  {
   "cell_type": "code",
   "execution_count": null,
   "metadata": {
    "tags": []
   },
   "outputs": [],
   "source": [
    "dva_litry = ObjemovyKonvertor(2)"
   ]
  },
  {
   "cell_type": "code",
   "execution_count": null,
   "metadata": {
    "tags": []
   },
   "outputs": [],
   "source": [
    "dva_litry.litr = 3"
   ]
  },
  {
   "cell_type": "code",
   "execution_count": null,
   "metadata": {
    "tags": []
   },
   "outputs": [],
   "source": [
    "dva_litry.pinty"
   ]
  },
  {
   "cell_type": "markdown",
   "metadata": {},
   "source": [
    "<br>\n",
    "\n",
    "Co když ale budeš chtít zadat přímo pinty a ty převádět na litry:"
   ]
  },
  {
   "cell_type": "code",
   "execution_count": null,
   "metadata": {
    "tags": []
   },
   "outputs": [],
   "source": [
    "dva_litry.pinty = 2"
   ]
  },
  {
   "cell_type": "markdown",
   "metadata": {},
   "source": [
    "<br>\n",
    "\n",
    "*Interpret* tě nenechá zadat výraz pro atribut instance."
   ]
  },
  {
   "cell_type": "markdown",
   "metadata": {},
   "source": [
    "<br>\n",
    "\n",
    "### Dekorátory setter, getter\n",
    "\n",
    "---"
   ]
  },
  {
   "cell_type": "markdown",
   "metadata": {},
   "source": [
    "Pokud budeš chtít zadávat **zvlášť litry** a **zvlášť pinty**, potřebuješ svoji třídu správně rozdělit:"
   ]
  },
  {
   "cell_type": "code",
   "execution_count": null,
   "metadata": {
    "tags": []
   },
   "outputs": [],
   "source": [
    "class ObjemovyKonvertor:\n",
    "\n",
    "    def __init__(self):\n",
    "        self._litr = 0\n",
    "        self._pinta = 0\n",
    "        self.__koeficient_pinta = 1.7598\n",
    "        \n",
    "    @property\n",
    "    def pinta(self):\n",
    "        print(\"GETTER: odebírám hodnotu 'pinta'.\")\n",
    "        return self._pinta\n",
    "    \n",
    "    @property\n",
    "    def litr(self):\n",
    "        print(\"GETTER: odebírám hodnotu 'litr'.\")\n",
    "        return self._litr"
   ]
  },
  {
   "cell_type": "markdown",
   "metadata": {},
   "source": [
    "<br>\n",
    "\n",
    "Pomocí tzv. *getterů* nachystáš atributy `pinta` a `litr`, které budeš nyní použít pokaždé, když atribut vypíšeš:"
   ]
  },
  {
   "cell_type": "code",
   "execution_count": null,
   "metadata": {
    "tags": []
   },
   "outputs": [],
   "source": [
    "prevodnik_1 = ObjemovyKonvertor()"
   ]
  },
  {
   "cell_type": "code",
   "execution_count": null,
   "metadata": {
    "tags": []
   },
   "outputs": [],
   "source": [
    "print(\n",
    "    prevodnik_1.litr,\n",
    "    prevodnik_1.pinta,\n",
    "    sep=\"\\n\"\n",
    ")"
   ]
  },
  {
   "cell_type": "markdown",
   "metadata": {},
   "source": [
    "<br>\n",
    "\n",
    "**Gettery** slouží jenom k dotazování a je potřeba je označit jako chráněné proměnné (*weak private*): "
   ]
  },
  {
   "cell_type": "code",
   "execution_count": null,
   "metadata": {
    "tags": []
   },
   "outputs": [],
   "source": [
    "prevodnik_1.litr = 2"
   ]
  },
  {
   "cell_type": "markdown",
   "metadata": {},
   "source": [
    "Teď, ale nemáš připravený způsob, jak hodnoty nastavovat.\n",
    "\n",
    "Nyní můžeš hodnoty **pouze odebírat**."
   ]
  },
  {
   "cell_type": "markdown",
   "metadata": {},
   "source": [
    "<br>\n",
    "\n",
    "Ať můžeš pohodlně měnit hodnoty atributů, potřebuješ nastavit dekorátor `setter`:"
   ]
  },
  {
   "cell_type": "code",
   "execution_count": null,
   "metadata": {
    "tags": []
   },
   "outputs": [],
   "source": [
    "class ObjemovyKonvertor:\n",
    "\n",
    "    def __init__(self):\n",
    "        self._litr = 0\n",
    "        self._pinta = 0\n",
    "        self.__koeficient_pinta = 1.7598\n",
    "        \n",
    "    @property\n",
    "    def pinta(self):\n",
    "        print(\"GETTER: odebírám hodnotu 'pinta'.\")  # POUZE PRO ZNAZORNENI\n",
    "        return self._pinta\n",
    "    \n",
    "    \n",
    "    @property\n",
    "    def litr(self):\n",
    "        print(\"GETTER: odebírám hodnotu 'litr'.\")   # POUZE PRO ZNAZORNENI\n",
    "        return self._litr\n",
    "    \n",
    "    \n",
    "    @pinta.setter\n",
    "    def pinta(self, hodnota: float):\n",
    "        print(\"SETTER: nastavuji hodnotu 'pinta'.\") # POUZE PRO ZNAZORNENI\n",
    "        self._pinta = hodnota\n",
    "        \n",
    "    @litr.setter\n",
    "    def litr(self, hodnota: float):\n",
    "        print(\"SETTER: nastavuji hodnotu 'litr'.\")  # POUZE PRO ZNAZORNENI\n",
    "        self._litr = hodnota"
   ]
  },
  {
   "cell_type": "code",
   "execution_count": null,
   "metadata": {
    "tags": []
   },
   "outputs": [],
   "source": [
    "prevodnik_1 = ObjemovyKonvertor()"
   ]
  },
  {
   "cell_type": "code",
   "execution_count": null,
   "metadata": {
    "tags": []
   },
   "outputs": [],
   "source": [
    "print(prevodnik_1.litr)"
   ]
  },
  {
   "cell_type": "code",
   "execution_count": null,
   "metadata": {
    "tags": []
   },
   "outputs": [],
   "source": [
    "prevodnik_1.litr = 2"
   ]
  },
  {
   "cell_type": "code",
   "execution_count": null,
   "metadata": {
    "tags": []
   },
   "outputs": [],
   "source": [
    "prevodnik_1.pinta = 2"
   ]
  },
  {
   "cell_type": "code",
   "execution_count": null,
   "metadata": {
    "tags": []
   },
   "outputs": [],
   "source": [
    "print(\n",
    "    prevodnik_1.litr,\n",
    "    prevodnik_1.pinta,\n",
    "    sep='\\n'\n",
    ")"
   ]
  },
  {
   "cell_type": "markdown",
   "metadata": {},
   "source": [
    "<br>\n",
    "\n",
    "V tomto případě Python nejprve spustí `prevodnik_1.litr` a `prevodnik_1.pinta`. Proto vidíš:\n",
    "```\n",
    "GETTER: odebírám hodnotu 'litr'.\n",
    "GETTER: odebírám hodnotu 'pinta'.\n",
    "```"
   ]
  },
  {
   "cell_type": "markdown",
   "metadata": {},
   "source": [
    "Teprve později, samotná funkce `print` vypisuje výstupy:\n",
    "```\n",
    "2\n",
    "2\n",
    "```"
   ]
  },
  {
   "cell_type": "code",
   "execution_count": null,
   "metadata": {
    "tags": []
   },
   "outputs": [],
   "source": [
    "prevodnik_1.litr\n",
    "prevodnik_1.pinta"
   ]
  },
  {
   "cell_type": "markdown",
   "metadata": {},
   "source": [
    "<br>\n",
    "\n",
    "Teď když můžeš elegantně zadávat jak pinty, tak litry, můžeš doplnit metody pro přepočty:"
   ]
  },
  {
   "cell_type": "code",
   "execution_count": null,
   "metadata": {
    "tags": []
   },
   "outputs": [],
   "source": [
    "class ObjemovyKonvertor:\n",
    "\n",
    "    def __init__(self):\n",
    "        self._litr = 0\n",
    "        self._pinta = 0\n",
    "        self.__koeficient_pinta = 1.7598\n",
    "        \n",
    "    @property\n",
    "    def pinta(self):\n",
    "        print(\"GETTER: odebírám hodnotu 'pinta'.\")\n",
    "        return self._pinta\n",
    "    \n",
    "    @property\n",
    "    def litr(self):\n",
    "        print(\"GETTER: odebírám hodnotu 'litr'.\")\n",
    "        return self._litr\n",
    "    \n",
    "    @pinta.setter\n",
    "    def pinta(self, hodnota: float):\n",
    "        print(\"SETTER: nastavuji hodnotu 'pinta'.\")\n",
    "        self._pinta = hodnota\n",
    "        \n",
    "    @litr.setter\n",
    "    def litr(self, hodnota: float):\n",
    "        print(\"SETTER: nastavuji hodnotu 'litr'.\")\n",
    "        self._litr = hodnota\n",
    "        \n",
    "    def na_pinty(self):\n",
    "        if self._litr:\n",
    "            return self.__koeficient_pinta * self._litr  # round()\n",
    "        else:\n",
    "            print(\"Nenastavená hodnota pro 'litr'\")\n",
    "    \n",
    "    def na_litry(self):\n",
    "        if self._pinta:\n",
    "            return self._pinta / self.__koeficient_pinta  # round()\n",
    "        else:\n",
    "            print(\"Nenastavená hodnota pro 'pinta'\")"
   ]
  },
  {
   "cell_type": "code",
   "execution_count": null,
   "metadata": {
    "tags": []
   },
   "outputs": [],
   "source": [
    "prevodnik_1 = ObjemovyKonvertor()"
   ]
  },
  {
   "cell_type": "code",
   "execution_count": null,
   "metadata": {
    "tags": []
   },
   "outputs": [],
   "source": [
    "prevodnik_1.na_pinty()"
   ]
  },
  {
   "cell_type": "code",
   "execution_count": null,
   "metadata": {
    "tags": []
   },
   "outputs": [],
   "source": [
    "prevodnik_1.litr"
   ]
  },
  {
   "cell_type": "code",
   "execution_count": null,
   "metadata": {
    "tags": []
   },
   "outputs": [],
   "source": [
    "prevodnik_1.litr = 3"
   ]
  },
  {
   "cell_type": "code",
   "execution_count": null,
   "metadata": {
    "tags": []
   },
   "outputs": [],
   "source": [
    "prevodnik_1.litr"
   ]
  },
  {
   "cell_type": "code",
   "execution_count": null,
   "metadata": {
    "tags": []
   },
   "outputs": [],
   "source": [
    "prevodnik_1.na_pinty()"
   ]
  },
  {
   "cell_type": "code",
   "execution_count": null,
   "metadata": {
    "tags": []
   },
   "outputs": [],
   "source": [
    "prevodnik_1.pinta = 3"
   ]
  },
  {
   "cell_type": "code",
   "execution_count": null,
   "metadata": {
    "tags": []
   },
   "outputs": [],
   "source": [
    "prevodnik_1.na_litry()"
   ]
  },
  {
   "cell_type": "markdown",
   "metadata": {},
   "source": [
    "<br>\n",
    "\n",
    "Je poměrně běžné, že v rámci `setteru` uvádíš ověřovací podmínky:"
   ]
  },
  {
   "cell_type": "code",
   "execution_count": null,
   "metadata": {
    "tags": []
   },
   "outputs": [],
   "source": [
    "class ObjemovyKonvertor:\n",
    "\n",
    "    def __init__(self):\n",
    "        self._litr = 0\n",
    "        self._pinta = 0\n",
    "        self.__koeficient_pinta = 1.7598\n",
    "        \n",
    "    @property\n",
    "    def pinta(self):\n",
    "        print(\"GETTER: odebírám hodnotu 'pinta'.\")\n",
    "        return self._pinta\n",
    "    \n",
    "    @property\n",
    "    def litr(self):\n",
    "        print(\"GETTER: odebírám hodnotu 'litr'.\")\n",
    "        return self._litr\n",
    "    \n",
    "    @pinta.setter\n",
    "    def pinta(self, hodnota: int):\n",
    "        print(\"SETTER: nastavuji hodnotu 'pinta'.\")\n",
    "        \n",
    "        if not isinstance(hodnota, int):\n",
    "            print(\"Špatný datový typ pro 'pinta'\")\n",
    "        else:\n",
    "            self._pinta = hodnota\n",
    "        \n",
    "    @litr.setter\n",
    "    def litr(self, hodnota: int):\n",
    "        print(\"SETTER: nastavuji hodnotu 'litr'.\")\n",
    "        \n",
    "        if not isinstance(hodnota, int):\n",
    "            print(\"Špatný datový typ pro 'litr'\")\n",
    "        else:\n",
    "            self._litr = hodnota\n",
    "        \n",
    "    def na_pinty(self):\n",
    "        if self._litr > 0:\n",
    "            return self.__koeficient_pinta * self._litr\n",
    "        else:\n",
    "            print(\"Nenastavená hodnota pro 'litr'\")\n",
    "    \n",
    "    def na_litry(self):\n",
    "        if self._pinta > 0:\n",
    "            return self._pinta / self.__koeficient_pinta \n",
    "        else:\n",
    "            print(\"Nenastavená hodnota pro 'pinta'\")"
   ]
  },
  {
   "cell_type": "code",
   "execution_count": null,
   "metadata": {
    "tags": []
   },
   "outputs": [],
   "source": [
    "prevodnik_1 = ObjemovyKonvertor()"
   ]
  },
  {
   "cell_type": "code",
   "execution_count": null,
   "metadata": {
    "tags": []
   },
   "outputs": [],
   "source": [
    "prevodnik_1.litr = \"5\""
   ]
  },
  {
   "cell_type": "code",
   "execution_count": null,
   "metadata": {
    "tags": []
   },
   "outputs": [],
   "source": [
    "prevodnik_1.litr"
   ]
  },
  {
   "cell_type": "code",
   "execution_count": null,
   "metadata": {
    "tags": []
   },
   "outputs": [],
   "source": [
    "prevodnik_1.litr = 5"
   ]
  },
  {
   "cell_type": "code",
   "execution_count": null,
   "metadata": {
    "tags": []
   },
   "outputs": [],
   "source": [
    "prevodnik_1.na_pinty()"
   ]
  },
  {
   "cell_type": "markdown",
   "metadata": {
    "tags": []
   },
   "source": [
    "<br>\n",
    "\n",
    "Podobným způsobem můžeš definovat také dekorátor `deleter`, který hodnotu odstraní:\n",
    "```python\n",
    "    @litr.deleter\n",
    "    def litr(self):\n",
    "        del self._litr\n",
    "\n",
    "```"
   ]
  },
  {
   "cell_type": "code",
   "execution_count": null,
   "metadata": {},
   "outputs": [],
   "source": []
  },
  {
   "cell_type": "markdown",
   "metadata": {},
   "source": [
    "<br>\n",
    "\n",
    "### 🧠 CVIČENÍ 🧠, Vytvoř třídu `Plocha`, která bude tvořena následovným:\n",
    "---"
   ]
  },
  {
   "cell_type": "markdown",
   "metadata": {},
   "source": [
    "1. Definuj třídu `Plocha`,\n",
    "2. vytvoř *instanční konstruktor*, který nepotřebuje parametry,\n",
    "3. *instanční konstruktor* udává pouze *weak private* atribut `self._prumer_cm` nastavený na nulu,\n",
    "4. vytvoř metodu `getter` (pomocí dekorátoru) se jménem `prumer_cm`,\n",
    "5. vytvoř metodu `setter` (pomocí dekorátoru), která ověří, že zadaný parametr `hodnota` je buď `int` nebo `float`, jinak vypíše `\"Špatný datový typ pro 'prumer_cm'\"`\n",
    "6. vytvoř *instanční metodu* `vypocitej_plochu_kruhu`, která pomocí konstanty `math.pi` (z knihovny `math`) vrátí plochu kruhu,\n",
    "7. vytvoř statickou metodu `vypocitej_obvod_kruhu`, která za pomoci parametru `polomer` vrátí obvod kružnice,\n",
    "8. vytvoř magickou metodu `__str__`, která naformátuje výstup do stringu: `Kruh s průměrem: <polomer>, plochou: <plocha>.`"
   ]
  },
  {
   "cell_type": "code",
   "execution_count": null,
   "metadata": {},
   "outputs": [],
   "source": [
    "import math"
   ]
  },
  {
   "cell_type": "code",
   "execution_count": null,
   "metadata": {},
   "outputs": [],
   "source": []
  },
  {
   "cell_type": "code",
   "execution_count": null,
   "metadata": {
    "tags": []
   },
   "outputs": [],
   "source": [
    "p1 = Plocha()"
   ]
  },
  {
   "cell_type": "code",
   "execution_count": null,
   "metadata": {
    "tags": []
   },
   "outputs": [],
   "source": [
    "p1.prumer_cm = 10"
   ]
  },
  {
   "cell_type": "code",
   "execution_count": null,
   "metadata": {
    "tags": []
   },
   "outputs": [],
   "source": [
    "p1.prumer_cm"
   ]
  },
  {
   "cell_type": "code",
   "execution_count": null,
   "metadata": {
    "tags": []
   },
   "outputs": [],
   "source": [
    "p1.prumer_cm = \"10\""
   ]
  },
  {
   "cell_type": "code",
   "execution_count": null,
   "metadata": {
    "tags": []
   },
   "outputs": [],
   "source": [
    "print(p1)"
   ]
  },
  {
   "cell_type": "markdown",
   "metadata": {},
   "source": [
    "<details>\n",
    "    <summary>▶️ Řešení</summary>\n",
    "    \n",
    "```python\n",
    "class Plocha:\n",
    "    def __init__(self):\n",
    "        self._prumer_cm = 0.0\n",
    "\n",
    "    @property\n",
    "    def prumer_cm(self):\n",
    "        return self._prumer_cm\n",
    "\n",
    "    @prumer_cm.setter\n",
    "    def prumer_cm(self, hodnota: float):\n",
    "        if not isinstance(hodnota, (float, int)):\n",
    "            print(\"Atribut 'hodnota' není číselný datový typ.\")\n",
    "        else:\n",
    "            self._prumer_cm = hodnota\n",
    "\n",
    "    def vypocitej_plochu_kruhu(self) -> float:\n",
    "        return math.pi * (self._prumer_cm ** 2)\n",
    "\n",
    "    @staticmethod\n",
    "    def vypocitej_obvod_kruhu(polomer) -> float:\n",
    "        return 2 * math.pi * polomer\n",
    "\n",
    "    def __str__(self) -> str:\n",
    "        return f\"Kruh s průměrem: {self._prumer_cm}, plochou: {self.vypocitej_plochu_kruhu()}.\"\n",
    "```\n",
    "</details>"
   ]
  },
  {
   "cell_type": "markdown",
   "metadata": {},
   "source": [
    "<br>\n",
    "\n",
    "### 🧠 CVIČENÍ 🧠, Vytvoř třídu `TeplotniPrevodnik`, která bude tvořena následovným:\n",
    "---"
   ]
  },
  {
   "cell_type": "markdown",
   "metadata": {},
   "source": [
    "1. **Definuj novou třídu** `TeplotniPrevodnik`,\n",
    "2. definuj instanční konstruktor `__init__`, který vytvoří **jeden instanční atribut**: `self._teplota_celsia` (defaultně 0.0),\n",
    "3. definuj `@property` se jménem `teplota_celsia` s příslušným *getterem*, který vrátí hodnotu `self._teplota_celsia`,\n",
    "4. definuj `@property` se jménem `teplota_celsia` s příslušným *setterem*, který provede kontrolu, že hodnota není nižší než **-273.15 stupňů Celsia** (jinak `ValueError`),\n",
    "5. definuj `@property` se jménem `teplota_fahrenheit` s příslušným *getterem*, který vrátí hodnotu `self._teplota_fahrenheit`,\n",
    "6. definuj `@property` se jménem `teplota_fahrenheit` s příslušným *setterem*,\n",
    "7. definuj **statickou metodu** `celsia_na_fahrenheit`, která přijme teplotu **v stupních Celsia** a vrátí odpovídající teplotu **ve stupních Fahrenheit**,\n",
    "8. definuj **statickou metodu** `fahrenheit_na_celsia`, která přijme teplotu **ve stupních Fahrenheit** a vrátí odpovídající teplotu **v stupních Celsia**."
   ]
  },
  {
   "cell_type": "code",
   "execution_count": 2,
   "metadata": {
    "tags": []
   },
   "outputs": [],
   "source": []
  },
  {
   "cell_type": "code",
   "execution_count": 3,
   "metadata": {
    "tags": []
   },
   "outputs": [],
   "source": [
    "prevodnik = TeplotniPrevodnik()"
   ]
  },
  {
   "cell_type": "code",
   "execution_count": 4,
   "metadata": {
    "tags": []
   },
   "outputs": [
    {
     "data": {
      "text/plain": [
       "0.0"
      ]
     },
     "execution_count": 4,
     "metadata": {},
     "output_type": "execute_result"
    }
   ],
   "source": [
    "prevodnik.teplota_celsia"
   ]
  },
  {
   "cell_type": "code",
   "execution_count": 5,
   "metadata": {
    "tags": []
   },
   "outputs": [],
   "source": [
    "prevodnik.teplota_celsia = 20"
   ]
  },
  {
   "cell_type": "code",
   "execution_count": 6,
   "metadata": {
    "tags": []
   },
   "outputs": [
    {
     "data": {
      "text/plain": [
       "20"
      ]
     },
     "execution_count": 6,
     "metadata": {},
     "output_type": "execute_result"
    }
   ],
   "source": [
    "prevodnik.teplota_celsia"
   ]
  },
  {
   "cell_type": "code",
   "execution_count": 7,
   "metadata": {
    "tags": []
   },
   "outputs": [
    {
     "data": {
      "text/plain": [
       "68.0"
      ]
     },
     "execution_count": 7,
     "metadata": {},
     "output_type": "execute_result"
    }
   ],
   "source": [
    "prevodnik.teplota_fahrenheit"
   ]
  },
  {
   "cell_type": "markdown",
   "metadata": {},
   "source": [
    "<details>\n",
    "    <summary>▶️ Řešení</summary>\n",
    "    \n",
    "```python\n",
    "class TeplotniPrevodnik:\n",
    "    def __init__(self, teplota: float = 0.0) -> None:\n",
    "        \"\"\"\n",
    "        Vytvoří novou instanci třídy, s defaultní hodnotou\n",
    "        teploty ve stupních Celsia.\n",
    "        \"\"\"\n",
    "        self._teplota_celsia = teplota\n",
    "\n",
    "    @property\n",
    "    def teplota_celsia(self):\n",
    "        return self._teplota_celsia\n",
    "\n",
    "    @teplota_celsia.setter\n",
    "    def teplota_celsia(self, hodnota: float):\n",
    "        if hodnota < -273.15:\n",
    "            raise ValueError(\"Teplota nemůže být nižší než absolutní nula!\")\n",
    "        self._teplota_celsia = hodnota\n",
    "\n",
    "    @property\n",
    "    def teplota_fahrenheit(self):\n",
    "        return TeplotniPrevodnik.celsia_na_fahrenheit(self._teplota_celsia)\n",
    "\n",
    "    @teplota_fahrenheit.setter\n",
    "    def teplota_fahrenheit(self, hodnota):\n",
    "        self._teplota_celsia = TeplotniPrevodnik.fahrenheit_na_celsia(hodnota)\n",
    "\n",
    "    @staticmethod\n",
    "    def celsia_na_fahrenheit(celsia):\n",
    "        return celsia * 9 / 5 + 32\n",
    "\n",
    "    @staticmethod\n",
    "    def fahrenheit_na_celsia(fahrenheit):\n",
    "        return (fahrenheit - 32) * 5 / 9\n",
    "```\n",
    "</details>"
   ]
  },
  {
   "cell_type": "markdown",
   "metadata": {},
   "source": [
    "<img src=\"https://i.imgur.com/vDfnqAp.png\" width=\"1200\" style=\"margin-left:auto; margin-right:auto\"/>"
   ]
  },
  {
   "cell_type": "markdown",
   "metadata": {},
   "source": [
    "OOP je *paradigma*, které používá \"objekty\" – struktury, návody obsahující:\n",
    "1. **Atributy**, tedy *argumenty* (popisují, jaký objekt je, jak vypadá),\n",
    "2. **vlastnosti**, tedy *metody* (popisují, co objekt umí).\n",
    "\n",
    "Efektivní využití OOP může vést k software, který je snadněji pochopitelný, flexibilnější a údržba, což přináší řadu výhod při vývoji složitých aplikací.\n",
    "\n",
    "Proto je ale nutné vědět, na čem všem toto *paradigma* stojí.\n",
    "\n",
    "<br>"
   ]
  },
  {
   "cell_type": "markdown",
   "metadata": {},
   "source": [
    "Mezi 4 základní koncepty OOP je patří:\n",
    "1. **Polymorfismus**,\n",
    "2. **zapouzdření**,\n",
    "3. **dědičnost**,\n",
    "4. **abstrakce**."
   ]
  },
  {
   "cell_type": "markdown",
   "metadata": {},
   "source": [
    "## Polymorfismus ( ~polymorphism)\n",
    "\n",
    "---"
   ]
  },
  {
   "cell_type": "markdown",
   "metadata": {},
   "source": [
    "<img src=\"https://i.imgur.com/COUOylr.png\" width=\"1000\" style=\"margin-left:auto; margin-right:auto\">"
   ]
  },
  {
   "cell_type": "markdown",
   "metadata": {},
   "source": [
    "### Terminologie\n",
    "\n",
    "---"
   ]
  },
  {
   "cell_type": "markdown",
   "metadata": {},
   "source": [
    "**Polymorfismus** znamená *mnohotvárnost*.\n",
    "\n",
    "Lidsky si pod tímto můžeš představit situaci, kdy lze jednu věc popsat různými aplikacemi.\n",
    "\n",
    "Například **pozdrav**. Slušný pozdrav můžeš vyjádřit několika způsoby, nebo dokonce různými jazyky.\n",
    "\n",
    "<br>"
   ]
  },
  {
   "cell_type": "markdown",
   "metadata": {},
   "source": [
    "*Polymorfismus* přispívá k flexibilitě a rozšiřitelnosti kódu tím, že umožňuje programátorům používat **objekty různých tříd zaměnitelně**."
   ]
  },
  {
   "cell_type": "markdown",
   "metadata": {},
   "source": [
    "### Význam v Pythonu\n",
    "\n",
    "---"
   ]
  },
  {
   "cell_type": "markdown",
   "metadata": {
    "tags": []
   },
   "source": [
    "Ve světě programování  to zase znamená, že jeden objekt, může plnit různé účely:"
   ]
  },
  {
   "cell_type": "code",
   "execution_count": null,
   "metadata": {
    "tags": []
   },
   "outputs": [],
   "source": [
    "print(\n",
    "    1 + 1,            # operátor '+' s celočíselnými operandy,\n",
    "    \"Lekce\" + \" #02\", # operátor '+' se stringovými operandy,\n",
    "    sep=\"\\n\"\n",
    ")"
   ]
  },
  {
   "cell_type": "markdown",
   "metadata": {},
   "source": [
    "<br>\n",
    "\n",
    "Tento koncept už znáš.\n",
    "\n",
    "Operátor `+` totiž znamená **pro dva odlišné datové typy, dvě odlišné procedůry**:\n",
    "1. `int`, sčítání,\n",
    "2. `str`, spojování (~concatenation)."
   ]
  },
  {
   "cell_type": "markdown",
   "metadata": {},
   "source": [
    "<br>\n",
    "\n",
    "Takovou mnohotvárnost, ale neznáš jen mezi `int` a `str`.\n",
    "\n",
    "Podobného chování si můžeš všimnout i pro uživ. funkci `len`:"
   ]
  },
  {
   "cell_type": "code",
   "execution_count": null,
   "metadata": {},
   "outputs": [],
   "source": [
    "print(\n",
    "    len(\"Matous\"),                                                             # str\n",
    "    len([\"město\", \"moře\", \"kuře\", \"stavení\"]),                                 # list\n",
    "    len({\"jmeno\": \"Matous\", \"prijmeni\": \"Holinka\", \"email\": \"matous@nic.cz\"}), # dict\n",
    "    sep=\"\\n\"\n",
    ")"
   ]
  },
  {
   "cell_type": "code",
   "execution_count": null,
   "metadata": {
    "tags": []
   },
   "outputs": [],
   "source": [
    "\"Matous\".__len__()"
   ]
  },
  {
   "cell_type": "markdown",
   "metadata": {},
   "source": [
    "<br>\n",
    "\n",
    "Vidíš, že funkce `len` umí pracovat s různými datovými typy.\n",
    "\n",
    "<br>\n",
    "\n",
    "Vrací specifickou hodnotu pro každý datový typ zvlášť. Ale pořád používáš jednu a tutéž funkci.\n",
    "1. `str`, délka řetězce,\n",
    "2. `list`, počet údajů v sekvenci,\n",
    "3. `dict`, počet klíčů v objektu\n",
    "\n",
    "<br>"
   ]
  },
  {
   "cell_type": "markdown",
   "metadata": {},
   "source": [
    "### Využití v OOP\n",
    "\n",
    "---"
   ]
  },
  {
   "cell_type": "markdown",
   "metadata": {},
   "source": [
    "Dále tento koncept umožňuje přepisovat jména a použití **metod**:"
   ]
  },
  {
   "cell_type": "code",
   "execution_count": null,
   "metadata": {
    "tags": []
   },
   "outputs": [],
   "source": [
    "class CsvProcessor:\n",
    "    def precti_soubor(self) -> str:\n",
    "        return \"Otevírám CSV soubor...\""
   ]
  },
  {
   "cell_type": "code",
   "execution_count": null,
   "metadata": {
    "tags": []
   },
   "outputs": [],
   "source": [
    "class JsonProcessor:\n",
    "    def precti_soubor(self) -> str:\n",
    "        return \"Otevírám JSON soubor...\""
   ]
  },
  {
   "cell_type": "code",
   "execution_count": null,
   "metadata": {
    "tags": []
   },
   "outputs": [],
   "source": [
    "csv_soubor = CsvProcessor()\n",
    "json_soubor = JsonProcessor()"
   ]
  },
  {
   "cell_type": "code",
   "execution_count": null,
   "metadata": {
    "tags": []
   },
   "outputs": [],
   "source": [
    "for soubor in (csv_soubor, json_soubor):\n",
    "    print(soubor.precti_soubor())"
   ]
  },
  {
   "cell_type": "markdown",
   "metadata": {},
   "source": [
    "<br>\n",
    "\n",
    "Prakticky to tedy znamená, že *polymorfismus* umožní objektům **různých tříd**, pracovat **se stejnojmennými metodami**.\n",
    "\n",
    "S dalším využitím *polymorfismu* se můžeš setkat u dědičnosti (později v materiálech)."
   ]
  },
  {
   "cell_type": "markdown",
   "metadata": {},
   "source": [
    "<br>\n",
    "\n",
    "### 🧠 CVIČENÍ 7 🧠, Vytvoř třídy `CsvProcessor` a `TxtProcessor`:\n",
    "---"
   ]
  },
  {
   "cell_type": "markdown",
   "metadata": {
    "tags": []
   },
   "source": [
    "- Definuj třídu `CsvProcessor`, s metodou `__init__`, která potřebuje jen parametr `jmeno_souboru`,\n",
    "- zadej třídě `CsvProcessor` třídní atribut `ext` s hodnotou `.csv`,\n",
    "- metoda `__init__` sama ověří, jestli proměnná obsahuje správnou příponu,\n",
    "- pokud je přípona `.csv`, definuj instanční atribut, jinak vyvolej výjimku s textem: `Špatný formát souboru`,\n",
    "- vytvoř metodu `nacti_obsah`, která přečte a vrátí obsah **csv** souboru,\n",
    "- definuj třídu `TxtProcessor`, s metodou `__init__`, která potřebuje jen parametr `jmeno_souboru`,\n",
    "- zadej třídě `TxtProcessor` třídní atribut `ext` s hodnotou `.txt`,\n",
    "- metoda `__init__` sama ověří, jestli proměnná obsahuje správnou příponu,\n",
    "- pokud je přípona `.txt`, definuj instanční atribut, jinak vyvolej výjimku s textem: `Špatný formát souboru`,\n",
    "- vytvoř metodu `nacti_obsah`, která přečte a vrátí obsah **txt** souboru.\n",
    "\n",
    "Před spuštěním ukázky si nezapomeň vytvořit pokusné soubory."
   ]
  },
  {
   "cell_type": "code",
   "execution_count": null,
   "metadata": {
    "tags": []
   },
   "outputs": [],
   "source": [
    "csv_1 = CsvProcessor(\"csv_pokus.csv\")\n",
    "txt_1 = TxtProcessor(\"txt_pokus.txt\")"
   ]
  },
  {
   "cell_type": "markdown",
   "metadata": {},
   "source": [
    "<details>\n",
    "    <summary>▶️ Řešení</summary>\n",
    "    \n",
    "```python\n",
    "from pathlib import Path\n",
    "\n",
    "from pandas import read_csv\n",
    "\n",
    "\n",
    "class CsvProcessor:\n",
    "    ext: str = \".csv\"\n",
    "\n",
    "    def __init__(self, jmeno_souboru: str):\n",
    "        if Path(jmeno_souboru).suffix != self.ext:\n",
    "            raise Exception(\"Špatný formát souboru\")\n",
    "        self.jmeno_souboru = jmeno_souboru\n",
    "\n",
    "    def nacti_obsah(self):\n",
    "        return read_csv(self.jmeno_souboru)\n",
    "\n",
    "\n",
    "class TxtProcessor:\n",
    "    ext: str = \".txt\"\n",
    "\n",
    "    def __init__(self, jmeno_souboru: str):\n",
    "        if Path(jmeno_souboru).suffix != self.ext:\n",
    "            raise Exception(\"Špatný formát souboru\")\n",
    "        self.jmeno_souboru = jmeno_souboru\n",
    "\n",
    "    def nacti_obsah(self):\n",
    "        with open(self.jmeno_souboru) as txt:\n",
    "            return txt.read()\n",
    "```\n",
    "</details>"
   ]
  },
  {
   "cell_type": "code",
   "execution_count": null,
   "metadata": {},
   "outputs": [],
   "source": []
  },
  {
   "cell_type": "markdown",
   "metadata": {},
   "source": [
    "<br>\n",
    "\n",
    "## Zapouzdření (~encapsulation)\n",
    "\n",
    "---"
   ]
  },
  {
   "cell_type": "markdown",
   "metadata": {},
   "source": [
    "<img src=\"https://external-content.duckduckgo.com/iu/?u=https%3A%2F%2Ftse1.mm.bing.net%2Fth%3Fid%3DOIP.uDpIgfGQDzGDPvxtzsz-5AHaHa%26pid%3DApi&f=1&ipt=eb0bca94ab317533d3313fe92c84884bff2b45c5ce18cfdb8341427e8a8311fe&ipo=images\" width=\"300\" style=\"margin-left:auto; margin-right:auto\">"
   ]
  },
  {
   "cell_type": "markdown",
   "metadata": {},
   "source": [
    "### Terminologie\n",
    "\n",
    "---"
   ]
  },
  {
   "cell_type": "markdown",
   "metadata": {},
   "source": [
    "Tento pojem obecně označuje **nějaké skrývání**.\n",
    "\n",
    "Jde především o práci **s privátními a chráněnými** atributy nebo metodami.\n",
    "\n",
    "Účelem tohoto skrývání, nebo zapouzdření je ochrana.\n",
    "\n",
    "<br>\n",
    "\n",
    "Aby programátoři nepřepisovali, co nemají a tím nezpůsobili **komplikace** zdrojového kódu."
   ]
  },
  {
   "cell_type": "markdown",
   "metadata": {},
   "source": [
    "### Bez konceptu zapouzdření\n",
    "\n",
    "---"
   ]
  },
  {
   "cell_type": "markdown",
   "metadata": {},
   "source": [
    "V kombinaci s **chráněnými objekty** chceš některé procesy zajistit a současně nekomplikovat uživatelské použití:"
   ]
  },
  {
   "cell_type": "code",
   "execution_count": null,
   "metadata": {
    "tags": []
   },
   "outputs": [],
   "source": [
    "class MojeAplikace:\n",
    "    \n",
    "    def __init__(self, jmeno: str, kredit: int):\n",
    "        self.jmeno = jmeno\n",
    "        self.kredit = kredit\n",
    "        \n",
    "    def vypis_status(self):\n",
    "        return f\"Uživatel: {self.jmeno}, dostupné kredity: {self.kredit}\""
   ]
  },
  {
   "cell_type": "code",
   "execution_count": null,
   "metadata": {
    "tags": []
   },
   "outputs": [],
   "source": [
    "uzivatel_matous = MojeAplikace(\"Matouš\", 100)"
   ]
  },
  {
   "cell_type": "code",
   "execution_count": null,
   "metadata": {
    "tags": []
   },
   "outputs": [],
   "source": [
    "print(uzivatel_matous.vypis_status())"
   ]
  },
  {
   "cell_type": "markdown",
   "metadata": {},
   "source": [
    "<br>\n",
    "\n",
    "V aktuálním stavu třídy může **kdokoliv přistup z venku** naší třídy `MojeAplikace` a nedopatřením přepsat hodnoty:"
   ]
  },
  {
   "cell_type": "code",
   "execution_count": null,
   "metadata": {
    "tags": []
   },
   "outputs": [],
   "source": [
    "uzivatel_matous.kredit = 10_000"
   ]
  },
  {
   "cell_type": "code",
   "execution_count": null,
   "metadata": {
    "tags": []
   },
   "outputs": [],
   "source": [
    "print(10_000)"
   ]
  },
  {
   "cell_type": "code",
   "execution_count": null,
   "metadata": {
    "tags": []
   },
   "outputs": [],
   "source": [
    "print(uzivatel_matous.vypis_status())"
   ]
  },
  {
   "cell_type": "code",
   "execution_count": null,
   "metadata": {
    "tags": []
   },
   "outputs": [],
   "source": [
    "uzivatel_matous.kredit = \"10_000\""
   ]
  },
  {
   "cell_type": "code",
   "execution_count": null,
   "metadata": {
    "tags": []
   },
   "outputs": [],
   "source": [
    "print(uzivatel_matous.vypis_status())"
   ]
  },
  {
   "cell_type": "markdown",
   "metadata": {},
   "source": [
    "<br>\n",
    "\n",
    "### Privátní objekty\n",
    "\n",
    "---"
   ]
  },
  {
   "cell_type": "markdown",
   "metadata": {},
   "source": [
    "<br>\n",
    "\n",
    "Proto je vhodné, zápis doplnit:\n",
    "1. **chráněnými** `__jmeno`,\n",
    "2. **privátními** `_jmeno`."
   ]
  },
  {
   "cell_type": "code",
   "execution_count": null,
   "metadata": {
    "tags": []
   },
   "outputs": [],
   "source": [
    "class MojeAplikace:\n",
    "    \n",
    "    def __init__(self, jmeno: str, kredit: int):\n",
    "        self.jmeno = jmeno\n",
    "        self.__kredit = kredit\n",
    "        \n",
    "    def vypis_status(self):\n",
    "        return f\"Uživatel: {self.jmeno}, dostupné kredity: {self.__kredit}\""
   ]
  },
  {
   "cell_type": "code",
   "execution_count": null,
   "metadata": {
    "tags": []
   },
   "outputs": [],
   "source": [
    "uzivatel_lukas = MojeAplikace(\"Lukáš\", 1000)"
   ]
  },
  {
   "cell_type": "code",
   "execution_count": null,
   "metadata": {
    "tags": []
   },
   "outputs": [],
   "source": [
    "print(uzivatel_lukas.vypis_status())"
   ]
  },
  {
   "cell_type": "code",
   "execution_count": null,
   "metadata": {
    "tags": []
   },
   "outputs": [],
   "source": [
    "uzivatel_lukas.kredit = 1_000_000"
   ]
  },
  {
   "cell_type": "code",
   "execution_count": null,
   "metadata": {
    "tags": []
   },
   "outputs": [],
   "source": [
    "print(uzivatel_lukas.vypis_status())"
   ]
  },
  {
   "cell_type": "code",
   "execution_count": null,
   "metadata": {
    "tags": []
   },
   "outputs": [],
   "source": [
    "uzivatel_lukas.__dict__"
   ]
  },
  {
   "cell_type": "markdown",
   "metadata": {},
   "source": [
    "<br>\n",
    "\n",
    "Koncept, na kterém je *privátní objekt* v Pythonu postavený, se označuje *name mangling* (tedy *komolení* jmen objektů).\n",
    "\n",
    "Ale takové opatření pořád neřeší problém, pokud instance dostane třeba **nevhodný datový typ**:"
   ]
  },
  {
   "cell_type": "code",
   "execution_count": null,
   "metadata": {
    "tags": []
   },
   "outputs": [],
   "source": [
    "uzivatel_lukas._MojeAplikace__kredit = \"1_000_000\""
   ]
  },
  {
   "cell_type": "code",
   "execution_count": null,
   "metadata": {
    "tags": []
   },
   "outputs": [],
   "source": [
    "print(uzivatel_lukas.vypis_status())"
   ]
  },
  {
   "cell_type": "markdown",
   "metadata": {
    "tags": []
   },
   "source": [
    "<br>\n",
    "\n",
    "### Gettery, settery\n",
    "\n",
    "---"
   ]
  },
  {
   "cell_type": "markdown",
   "metadata": {},
   "source": [
    "<br>\n",
    "\n",
    "Pro úplný pořádek je ještě nutné stanovit formu, kterou bude atribut zadáván:"
   ]
  },
  {
   "cell_type": "code",
   "execution_count": null,
   "metadata": {
    "tags": []
   },
   "outputs": [],
   "source": [
    "class MojeAplikace:\n",
    "    \n",
    "    def __init__(self, jmeno: str):\n",
    "        self.jmeno = jmeno\n",
    "        self.__kredit = 0\n",
    "        \n",
    "    @property\n",
    "    def kredit(self):\n",
    "        \"\"\"Getter metoda\"\"\"\n",
    "        return self.__kredit\n",
    "    \n",
    "    @kredit.setter\n",
    "    def kredit(self, hodnota: int) -> None:\n",
    "        \"\"\"Setter metoda\"\"\"\n",
    "        if isinstance(hodnota, int):\n",
    "            self.__kredit = hodnota\n",
    "        else:\n",
    "            raise Exception(\"Zadaná hodnota není celé číslo\")\n",
    "        \n",
    "    def vypis_status(self):\n",
    "        return f\"Uživatel: {self.jmeno}, dostupné kredity: {self.__kredit}\""
   ]
  },
  {
   "cell_type": "code",
   "execution_count": null,
   "metadata": {
    "tags": []
   },
   "outputs": [],
   "source": [
    "uzivatel_lukas = MojeAplikace(\"Lukáš\")"
   ]
  },
  {
   "cell_type": "code",
   "execution_count": null,
   "metadata": {
    "tags": []
   },
   "outputs": [],
   "source": [
    "uzivatel_lukas.kredit = 1000"
   ]
  },
  {
   "cell_type": "code",
   "execution_count": null,
   "metadata": {
    "tags": []
   },
   "outputs": [],
   "source": [
    "print(uzivatel_lukas.vypis_status())"
   ]
  },
  {
   "cell_type": "markdown",
   "metadata": {},
   "source": [
    "<br>\n",
    "\n",
    "Nyní není možné zadat jiný datový typ, než celé číslo:"
   ]
  },
  {
   "cell_type": "code",
   "execution_count": null,
   "metadata": {
    "tags": []
   },
   "outputs": [],
   "source": [
    "uzivatel_lukas.kredit = \"1000\""
   ]
  },
  {
   "cell_type": "markdown",
   "metadata": {},
   "source": [
    "<br>\n",
    "\n",
    "Pomocí defaultní výjimky `Exception` nyní uživatel vidí, že není možné pracovat s jiným datovým typem."
   ]
  },
  {
   "cell_type": "markdown",
   "metadata": {},
   "source": [
    "#### Souhrn k zapouzdření\n",
    "* **bezpečnost**, u privátních objektů je navíc vrstva ochrany proti nechtěnému přepsaní, nebo použití nesprávného datového typu,\n",
    "* **kontrola**, ostatní programátoři musí dodržovat postupy, pro manipulaci s privátními objekty,\n",
    "* **jednoduchost**, rozdělování zadávání a získání hodnot jsou oddělené objekty,\n",
    "* **čitelnost**, spojování objektů k příslušným třídám dělá zápis přehlednější."
   ]
  },
  {
   "cell_type": "markdown",
   "metadata": {},
   "source": []
  },
  {
   "cell_type": "markdown",
   "metadata": {},
   "source": [
    "<br>\n",
    "\n",
    "### 🧠 CVIČENÍ 8 🧠, Vytvoř třídu `AutomobilTesla` a doplň následující:"
   ]
  },
  {
   "cell_type": "markdown",
   "metadata": {
    "tags": []
   },
   "source": [
    "- Definuj třídu `AutomobilTesla`, s metodou `__init__`, která potřebuje jen parametr `uzivatel` a `cislo`,\n",
    "- vytvoř **getter a setter** metody pro atribut `max_rychlost`,\n",
    "- omez zadávání `max_rychlost` jenom pro datový typ `int` z intervalu `0 - 320`,\n",
    "- pokud uživatel nedodrží podmínky, vyvolej výjimku s textem: `Nepřijatelný datový typ nebo hodnota (< 320 km/h)`,\n",
    "- vytvoř **getter a setter** metody pro atribut `max_dojezd`,\n",
    "- omez zadávání `max_dojezd` jenom pro datový typ `int` z intervalu `0 - 590`,\n",
    "- pokud uživatel nedodrží podmínky, vyvolej výjimku s textem: `Nepřijatelný datový typ nebo hodnota (< 600 km)`,\n",
    "- přepiš magickou metodu `__str__`, aby formátovala tento výstup: `Uživatel: <uzivatel>, sériové číslo: <cislo>`."
   ]
  },
  {
   "cell_type": "code",
   "execution_count": null,
   "metadata": {
    "tags": []
   },
   "outputs": [],
   "source": [
    "class AutomobilTesla:\n",
    "    def __init__(self, uzivatel: str, cislo: int):\n",
    "        self.cislo = cislo\n",
    "        self.uzivatel = uzivatel\n",
    "        self.__max_rychlost = 200\n",
    "        \n",
    "    @property\n",
    "    def max_rychlost(self) -> int:\n",
    "        print(\"GETTER: vypisuji rychlost.\")\n",
    "        return self.__max_rychlost\n",
    "    \n",
    "    @max_rychlost.setter\n",
    "    def max_rychlost(self, hodnota: int):\n",
    "        if isinstance(hodnota, int) and 0 < hodnota < 320:\n",
    "            self.__max_rychlost = hodnota\n",
    "            print(\"SETTER: nastavuji rychlost.\")\n",
    "        else:\n",
    "            raise Exception(\"Nepřijatelný datový typ nebo hodnota (< 320 km/h)\")"
   ]
  },
  {
   "cell_type": "code",
   "execution_count": null,
   "metadata": {
    "tags": []
   },
   "outputs": [],
   "source": [
    "tesla_model_s = AutomobilTesla(\"Matouš\", \"1234ABCE5678\")"
   ]
  },
  {
   "cell_type": "code",
   "execution_count": null,
   "metadata": {
    "tags": []
   },
   "outputs": [],
   "source": [
    "tesla_model_s.__dict__"
   ]
  },
  {
   "cell_type": "code",
   "execution_count": null,
   "metadata": {
    "tags": []
   },
   "outputs": [],
   "source": [
    "tesla_model_s.max_rychlost = 250"
   ]
  },
  {
   "cell_type": "code",
   "execution_count": null,
   "metadata": {
    "tags": []
   },
   "outputs": [],
   "source": [
    "tesla_model_s.max_rychlost"
   ]
  },
  {
   "cell_type": "code",
   "execution_count": null,
   "metadata": {
    "tags": []
   },
   "outputs": [],
   "source": [
    "tesla_model_s.__dict__"
   ]
  },
  {
   "cell_type": "markdown",
   "metadata": {},
   "source": [
    "<details>\n",
    "    <summary>▶️ Řešení</summary>\n",
    "    \n",
    "    ```\n",
    "    class AutomobilTesla:\n",
    "        def __init__(self, uzivatel: str, cislo: int):\n",
    "            self.uzivatel = uzivatel\n",
    "            self.cislo = cislo\n",
    "\n",
    "        @property\n",
    "        def max_rychlost(self):\n",
    "            return self.__max_rychlost\n",
    "\n",
    "        @max_rychlost.setter\n",
    "        def max_rychlost(self, hodnota: int):\n",
    "            if isinstance(hodnota, int) and 0 < hodnota < 320:\n",
    "                self.__max_rychlost = hodnota\n",
    "            else:\n",
    "                raise Exception(\"Nepřijatelný datový typ nebo hodnota (< 320 km/h)\")\n",
    "\n",
    "        @property\n",
    "        def max_dojezd(self):\n",
    "            return self.__max_dojezd\n",
    "\n",
    "        @max_dojezd.setter\n",
    "        def max_dojezd(self, hodnota):\n",
    "            if isinstance(hodnota, int) and 0 < hodnota < 590:\n",
    "                self.__max_dojezd = hodnota\n",
    "            else:\n",
    "                raise Exception(\"Nepřijatelný datový typ nebo hodnota (< 600 km)\")\n",
    "\n",
    "\n",
    "        def __str__(self):\n",
    "            return f\"Uživatel: {self.uzivatel}, sériové číslo: {self.cislo}\"\n",
    "    ```\n",
    "</details>"
   ]
  },
  {
   "cell_type": "markdown",
   "metadata": {},
   "source": [
    "---"
   ]
  }
 ],
 "metadata": {
  "kernelspec": {
   "display_name": "Python 3 (ipykernel)",
   "language": "python",
   "name": "python3"
  },
  "language_info": {
   "codemirror_mode": {
    "name": "ipython",
    "version": 3
   },
   "file_extension": ".py",
   "mimetype": "text/x-python",
   "name": "python",
   "nbconvert_exporter": "python",
   "pygments_lexer": "ipython3",
   "version": "3.8.10"
  }
 },
 "nbformat": 4,
 "nbformat_minor": 4
}
