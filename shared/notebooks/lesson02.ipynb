{
 "cells": [
  {
   "cell_type": "markdown",
   "metadata": {},
   "source": [
    "# Python objektově orientované programování\n",
    "\n",
    "---"
   ]
  },
  {
   "cell_type": "markdown",
   "metadata": {},
   "source": [
    "1. [Rozdělení metod](#Metody-v-OOP),\n",
    "    - [instanční metoda](#Metody-v-OOP),\n",
    "    - [statická metoda](#Statická-metoda),\n",
    "    - [třídní metoda](#Třídní-metoda),\n",
    "    - [cvičení 3](#🧠-CVIČENÍ-🧠,-Vytvoř-třídu-Product,-která-bude-tvořena-následovným:),\n",
    "2. [podtržítka v Pythonu](#Funkce-podtržítek-v-Pythonu),\n",
    "    - [poslední výraz](#Poslední-výraz),\n",
    "    - [přeskoč výraz](#Izoluj-výraz),\n",
    "    - [privátní proměnné](#Privátní-proměnná-(~weak-private)),\n",
    "    - [chráněné proměnné](#Chráněná-proměnná-(~strong-private)),\n",
    "    - [přepis klíčového slova](#Přepis-klíčového-pojmu),\n",
    "    - [magická metoda](#Magické-metody),\n",
    "    - [cvičení 4](#🧠-CVIČENÍ-🧠,-Vytvoř-třídu-Uzivatel,-která-bude-tvořena-následovným:),\n",
    "3. [vlastnosti třídy](#Vlastnosti-třídy),\n",
    "    - [řešení metodou](#Řešení-pomocí-metody),\n",
    "    - [řešení funkcí property](#Řešení-pomocí-funkce-property),\n",
    "    - [getter, setter, deleter](#Dekorátory-setter,-getter),\n",
    "    - [cvičení 5](#🧠-CVIČENÍ-🧠,-Vytvoř-třídu-Plocha,-která-bude-tvořena-následovným:),\n",
    "    - [cvičení 6](#🧠-CVIČENÍ-🧠,-Vytvoř-třídu-KindleNoteProcessor,-TxtParser-a-KindleNot-která-bude-tvořena-následovným:)."
   ]
  },
  {
   "cell_type": "code",
   "execution_count": null,
   "metadata": {},
   "outputs": [],
   "source": []
  },
  {
   "cell_type": "markdown",
   "metadata": {},
   "source": [
    "<br>\n",
    "\n",
    "\n",
    "## Metody v OOP\n",
    "\n",
    "---\n",
    "\n",
    "<img src=\"https://external-content.duckduckgo.com/iu/?u=https%3A%2F%2Ftse1.mm.bing.net%2Fth%3Fid%3DOIP.6MU4ScqH-1D93XRpyEYF4AHaHa%26pid%3DApi&f=1&ipt=03e1caf2482e1b90758340dcb676d181c012a20af163e9308f80f29ae4f6cc27&ipo=images\" width=\"250\" style=\"margin-left:auto; margin-right:auto\"/>\n",
    "\n",
    "Klasickou metodu můžeš popsat jak uživatelskou funkci:"
   ]
  },
  {
   "cell_type": "code",
   "execution_count": 1,
   "metadata": {
    "tags": []
   },
   "outputs": [],
   "source": [
    "class Zamestnanec:\n",
    "    cislo_zamestnance: int = 0\n",
    "    \n",
    "    def __init__(self, jmeno: str, prijmeni: str):\n",
    "        self.jmeno = jmeno\n",
    "        self.prijmeni = prijmeni\n",
    "        \n",
    "    def vytvor_cele_jmeno(self) -> str:\n",
    "        return f\"{self.jmeno} {self.prijmeni}\""
   ]
  },
  {
   "cell_type": "markdown",
   "metadata": {},
   "source": [
    "<br>\n",
    "\n",
    "...která spadá nebo také náleží **třídě samotné**."
   ]
  },
  {
   "cell_type": "code",
   "execution_count": 2,
   "metadata": {
    "tags": []
   },
   "outputs": [
    {
     "ename": "NameError",
     "evalue": "name 'vytvor_cele_jmeno' is not defined",
     "output_type": "error",
     "traceback": [
      "\u001b[0;31m---------------------------------------------------------------------------\u001b[0m",
      "\u001b[0;31mNameError\u001b[0m                                 Traceback (most recent call last)",
      "Cell \u001b[0;32mIn[2], line 1\u001b[0m\n\u001b[0;32m----> 1\u001b[0m \u001b[43mvytvor_cele_jmeno\u001b[49m()\n",
      "\u001b[0;31mNameError\u001b[0m: name 'vytvor_cele_jmeno' is not defined"
     ]
    }
   ],
   "source": [
    "vytvor_cele_jmeno()"
   ]
  },
  {
   "cell_type": "code",
   "execution_count": 3,
   "metadata": {
    "tags": []
   },
   "outputs": [],
   "source": [
    "matous = Zamestnanec(\"Matouš\", \"Holinka\")"
   ]
  },
  {
   "cell_type": "code",
   "execution_count": 4,
   "metadata": {
    "tags": []
   },
   "outputs": [
    {
     "data": {
      "text/plain": [
       "'Matouš Holinka'"
      ]
     },
     "execution_count": 4,
     "metadata": {},
     "output_type": "execute_result"
    }
   ],
   "source": [
    "matous.vytvor_cele_jmeno()"
   ]
  },
  {
   "cell_type": "markdown",
   "metadata": {},
   "source": [
    "<br>\n",
    "\n",
    "Metoda, která má mj. mezi parametry klíčový výraz `self`.\n",
    "\n",
    "Tím dovede zpřístupnit jak třídu (a její *atributy*), tak *instance*:"
   ]
  },
  {
   "cell_type": "code",
   "execution_count": 5,
   "metadata": {
    "tags": []
   },
   "outputs": [
    {
     "data": {
      "text/plain": [
       "0"
      ]
     },
     "execution_count": 5,
     "metadata": {},
     "output_type": "execute_result"
    }
   ],
   "source": [
    "matous.cislo_zamestnance"
   ]
  },
  {
   "cell_type": "code",
   "execution_count": 7,
   "metadata": {
    "tags": []
   },
   "outputs": [
    {
     "data": {
      "text/plain": [
       "'Matouš'"
      ]
     },
     "execution_count": 7,
     "metadata": {},
     "output_type": "execute_result"
    }
   ],
   "source": [
    "matous.jmeno"
   ]
  },
  {
   "cell_type": "code",
   "execution_count": 6,
   "metadata": {
    "tags": []
   },
   "outputs": [
    {
     "data": {
      "text/plain": [
       "0"
      ]
     },
     "execution_count": 6,
     "metadata": {},
     "output_type": "execute_result"
    }
   ],
   "source": [
    "Zamestnanec.cislo_zamestnance"
   ]
  },
  {
   "cell_type": "markdown",
   "metadata": {},
   "source": [
    "<br>\n",
    "\n",
    "Zápis metod se může ovšem lišit.\n",
    "\n",
    "Existuje několik variant použití metod:\n",
    "1. **Klasická** metoda,\n",
    "2. **statická** metoda,\n",
    "3. **třídní** metoda."
   ]
  },
  {
   "cell_type": "markdown",
   "metadata": {},
   "source": [
    "<br>\n",
    "\n",
    "### Statická metoda\n",
    "\n",
    "---"
   ]
  },
  {
   "cell_type": "markdown",
   "metadata": {},
   "source": [
    "Tento typ metody poznáš na první pohled:"
   ]
  },
  {
   "cell_type": "code",
   "execution_count": 8,
   "metadata": {
    "tags": []
   },
   "outputs": [],
   "source": [
    "from pathlib import Path"
   ]
  },
  {
   "cell_type": "code",
   "execution_count": 9,
   "metadata": {
    "tags": []
   },
   "outputs": [],
   "source": [
    "class GeneratorTextovehoSouboru:\n",
    "\n",
    "    def __init__(self, jmeno_souboru: str):\n",
    "        self.obsah = list()\n",
    "        self.jmeno_souboru = jmeno_souboru\n",
    "\n",
    "    def pridej_obsah(self, obsah: str) -> None:\n",
    "        self.obsah.append(obsah)\n",
    "            \n",
    "    @staticmethod\n",
    "    def existuje_soubor(jmeno_souboru: str) -> bool:\n",
    "        return Path(jmeno_souboru).is_file()"
   ]
  },
  {
   "cell_type": "markdown",
   "metadata": {},
   "source": [
    "<br>\n",
    "\n",
    "U statické metody si můžeš všimnout podle:\n",
    "1. Dekorátoru `@staticmethod`,\n",
    "2. chybějícího parametru `self`."
   ]
  },
  {
   "cell_type": "markdown",
   "metadata": {},
   "source": [
    "Jedná o takovou metodu, která má logickou vazbu (je zapouzdřená) na **konkrétní třídu** nebo **instanci**:"
   ]
  },
  {
   "cell_type": "code",
   "execution_count": 10,
   "metadata": {
    "tags": []
   },
   "outputs": [],
   "source": [
    "poznamky = GeneratorTextovehoSouboru(\"moje_poznamky.txt\")"
   ]
  },
  {
   "cell_type": "code",
   "execution_count": 11,
   "metadata": {
    "tags": []
   },
   "outputs": [
    {
     "data": {
      "text/plain": [
       "True"
      ]
     },
     "execution_count": 11,
     "metadata": {},
     "output_type": "execute_result"
    }
   ],
   "source": [
    "poznamky.existuje_soubor(\"moje_poznamky.txt\")"
   ]
  },
  {
   "cell_type": "code",
   "execution_count": 12,
   "metadata": {
    "tags": []
   },
   "outputs": [
    {
     "data": {
      "text/plain": [
       "True"
      ]
     },
     "execution_count": 12,
     "metadata": {},
     "output_type": "execute_result"
    }
   ],
   "source": [
    "GeneratorTextovehoSouboru.existuje_soubor(\"moje_poznamky.txt\")"
   ]
  },
  {
   "cell_type": "code",
   "execution_count": 13,
   "metadata": {
    "tags": []
   },
   "outputs": [
    {
     "data": {
      "text/plain": [
       "False"
      ]
     },
     "execution_count": 13,
     "metadata": {},
     "output_type": "execute_result"
    }
   ],
   "source": [
    "poznamky.existuje_soubor(\"moje_dalsi_poznamky.txt\")"
   ]
  },
  {
   "cell_type": "code",
   "execution_count": 14,
   "metadata": {
    "tags": []
   },
   "outputs": [
    {
     "ename": "NameError",
     "evalue": "name 'existuje_soubor' is not defined",
     "output_type": "error",
     "traceback": [
      "\u001b[0;31m---------------------------------------------------------------------------\u001b[0m",
      "\u001b[0;31mNameError\u001b[0m                                 Traceback (most recent call last)",
      "Cell \u001b[0;32mIn[14], line 1\u001b[0m\n\u001b[0;32m----> 1\u001b[0m \u001b[43mexistuje_soubor\u001b[49m(\u001b[38;5;124m\"\u001b[39m\u001b[38;5;124mmoje_dalsi_poznamky.txt\u001b[39m\u001b[38;5;124m\"\u001b[39m)\n",
      "\u001b[0;31mNameError\u001b[0m: name 'existuje_soubor' is not defined"
     ]
    }
   ],
   "source": [
    "existuje_soubor(\"moje_dalsi_poznamky.txt\")"
   ]
  },
  {
   "cell_type": "markdown",
   "metadata": {},
   "source": [
    "...ale tyto metody nemají přístup **ani k instančním, ani k třídním atributům**:"
   ]
  },
  {
   "cell_type": "code",
   "execution_count": 15,
   "metadata": {
    "tags": []
   },
   "outputs": [],
   "source": [
    "class GeneratorTextovehoSouboru:\n",
    "\n",
    "    def __init__(self, jmeno_souboru: str):\n",
    "        self.obsah = list()\n",
    "        self.jmeno_souboru = jmeno_souboru\n",
    "\n",
    "    def pridej_obsah(self, obsah: str) -> None:\n",
    "        self.obsah.append(obsah)\n",
    "            \n",
    "    @staticmethod\n",
    "    def existuje_soubor(jmeno_souboru: str) -> bool:\n",
    "        return Path(self.jmeno_souboru).is_file()"
   ]
  },
  {
   "cell_type": "code",
   "execution_count": 16,
   "metadata": {
    "tags": []
   },
   "outputs": [],
   "source": [
    "poznamky = GeneratorTextovehoSouboru(\"moje_poznamky.txt\")"
   ]
  },
  {
   "cell_type": "code",
   "execution_count": 17,
   "metadata": {
    "tags": []
   },
   "outputs": [
    {
     "ename": "NameError",
     "evalue": "name 'self' is not defined",
     "output_type": "error",
     "traceback": [
      "\u001b[0;31m---------------------------------------------------------------------------\u001b[0m",
      "\u001b[0;31mNameError\u001b[0m                                 Traceback (most recent call last)",
      "Cell \u001b[0;32mIn[17], line 1\u001b[0m\n\u001b[0;32m----> 1\u001b[0m \u001b[43mpoznamky\u001b[49m\u001b[38;5;241;43m.\u001b[39;49m\u001b[43mexistuje_soubor\u001b[49m\u001b[43m(\u001b[49m\u001b[38;5;124;43m\"\u001b[39;49m\u001b[38;5;124;43mmoje_poznamky.txt\u001b[39;49m\u001b[38;5;124;43m\"\u001b[39;49m\u001b[43m)\u001b[49m\n",
      "Cell \u001b[0;32mIn[15], line 12\u001b[0m, in \u001b[0;36mGeneratorTextovehoSouboru.existuje_soubor\u001b[0;34m(jmeno_souboru)\u001b[0m\n\u001b[1;32m     10\u001b[0m \u001b[38;5;129m@staticmethod\u001b[39m\n\u001b[1;32m     11\u001b[0m \u001b[38;5;28;01mdef\u001b[39;00m \u001b[38;5;21mexistuje_soubor\u001b[39m(jmeno_souboru: \u001b[38;5;28mstr\u001b[39m) \u001b[38;5;241m-\u001b[39m\u001b[38;5;241m>\u001b[39m \u001b[38;5;28mbool\u001b[39m:\n\u001b[0;32m---> 12\u001b[0m     \u001b[38;5;28;01mreturn\u001b[39;00m Path(\u001b[38;5;28;43mself\u001b[39;49m\u001b[38;5;241m.\u001b[39mjmeno_souboru)\u001b[38;5;241m.\u001b[39mis_file()\n",
      "\u001b[0;31mNameError\u001b[0m: name 'self' is not defined"
     ]
    }
   ],
   "source": [
    "poznamky.existuje_soubor(\"moje_poznamky.txt\")"
   ]
  },
  {
   "cell_type": "markdown",
   "metadata": {},
   "source": [
    "<br>\n",
    "\n",
    "Pokud budeš **podobných tříd chystat víc** (pro `txt`, `json`, `csv`, `parquet`,... atd.)."
   ]
  },
  {
   "cell_type": "code",
   "execution_count": 18,
   "metadata": {
    "tags": []
   },
   "outputs": [],
   "source": [
    "class GeneratorTextovehoSouboru:\n",
    "    def __init__(self, jmeno_souboru: str):\n",
    "        self.obsah = list()\n",
    "        self.jmeno_souboru = jmeno_souboru\n",
    "\n",
    "    def pridej_obsah(self, obsah: str) -> None:\n",
    "        self.obsah.append(obsah)"
   ]
  },
  {
   "cell_type": "code",
   "execution_count": 20,
   "metadata": {
    "tags": []
   },
   "outputs": [],
   "source": [
    "poznamky = GeneratorTextovehoSouboru(\"moje_poznamky.txt\")"
   ]
  },
  {
   "cell_type": "markdown",
   "metadata": {},
   "source": [
    "<br>\n",
    "\n",
    "Je vhodnější udělat z ní oddělenou obecnou *uživatelskou funkci*:"
   ]
  },
  {
   "cell_type": "code",
   "execution_count": 19,
   "metadata": {
    "tags": []
   },
   "outputs": [],
   "source": [
    "def existuje_soubor(jmeno_souboru: str) -> bool:\n",
    "    return Path(jmeno_souboru).is_file()"
   ]
  },
  {
   "cell_type": "code",
   "execution_count": 21,
   "metadata": {
    "tags": []
   },
   "outputs": [
    {
     "data": {
      "text/plain": [
       "'moje_poznamky.txt'"
      ]
     },
     "execution_count": 21,
     "metadata": {},
     "output_type": "execute_result"
    }
   ],
   "source": [
    "poznamky.jmeno_souboru"
   ]
  },
  {
   "cell_type": "code",
   "execution_count": 22,
   "metadata": {
    "tags": []
   },
   "outputs": [
    {
     "data": {
      "text/plain": [
       "True"
      ]
     },
     "execution_count": 22,
     "metadata": {},
     "output_type": "execute_result"
    }
   ],
   "source": [
    "existuje_soubor(\"moje_poznamky.txt\")"
   ]
  },
  {
   "cell_type": "code",
   "execution_count": 23,
   "metadata": {
    "tags": []
   },
   "outputs": [
    {
     "data": {
      "text/plain": [
       "True"
      ]
     },
     "execution_count": 23,
     "metadata": {},
     "output_type": "execute_result"
    }
   ],
   "source": [
    "existuje_soubor(poznamky.jmeno_souboru)"
   ]
  },
  {
   "cell_type": "code",
   "execution_count": 24,
   "metadata": {
    "tags": []
   },
   "outputs": [
    {
     "data": {
      "text/plain": [
       "False"
      ]
     },
     "execution_count": 24,
     "metadata": {},
     "output_type": "execute_result"
    }
   ],
   "source": [
    "existuje_soubor(\"lesson11.ipynb\")"
   ]
  },
  {
   "cell_type": "markdown",
   "metadata": {},
   "source": [
    "<br>\n",
    "\n",
    "V takovém případě si můžeš říct, jaký má význam vůbec zapisovat **statickou metodu**.\n",
    "\n",
    "Pokud tebou vytvořená metoda **nebude mít uplatnění u jiných tříd**, nebo bude **logickou svázaná s účelem třídy**, je lepší ji zahrnout:"
   ]
  },
  {
   "cell_type": "code",
   "execution_count": null,
   "metadata": {
    "tags": []
   },
   "outputs": [],
   "source": [
    "class MatematickeOperace:\n",
    "    \"\"\"Objekt zahrnující různé matematické operace\"\"\"\n",
    "\n",
    "    @staticmethod\n",
    "    def secti_dve_cisla(x: int, y: int) -> int:\n",
    "        return x + y\n",
    "    \n",
    "    @staticmethod\n",
    "    def odecti_dve_cisla(x: int, y: int) -> int:\n",
    "        return x - y"
   ]
  },
  {
   "cell_type": "markdown",
   "metadata": {},
   "source": [
    "<br>\n",
    "\n",
    "### 🧠 CVIČENÍ 🧠, Vytvoř třídu `Produkt`, která bude tvořena následovným:\n",
    "---"
   ]
  },
  {
   "cell_type": "code",
   "execution_count": null,
   "metadata": {},
   "outputs": [],
   "source": []
  },
  {
   "cell_type": "markdown",
   "metadata": {},
   "source": [
    "<br>\n",
    "\n",
    "### Třídní metoda\n",
    "\n",
    "---"
   ]
  },
  {
   "cell_type": "markdown",
   "metadata": {},
   "source": [
    "Pokud potřebuješ v rámci metody odkazovat na jinou třídu nebo instanci, může to být indikátor pro **třídní metodu**:"
   ]
  },
  {
   "cell_type": "code",
   "execution_count": 26,
   "metadata": {
    "tags": []
   },
   "outputs": [],
   "source": [
    "class Zamestnanec:\n",
    "    zvyseni_mzdy = 1.06\n",
    "\n",
    "    def __init__(self, jmeno: str, prijmeni: str, mzda: int):\n",
    "        self.jmeno = jmeno\n",
    "        self.prijmeni = prijmeni\n",
    "        self.mzda = mzda\n",
    "\n",
    "    @classmethod\n",
    "    def zvys_mzdu(cls, hodnota: int):\n",
    "        \"\"\"\n",
    "        Přepíše hodnotu třídního atributu \"zvyseni_mzdy\".\n",
    "        \"\"\"\n",
    "        cls.zvyseni_mzdy = hodnota"
   ]
  },
  {
   "cell_type": "markdown",
   "metadata": {
    "tags": []
   },
   "source": [
    "<br>\n",
    "\n",
    "Třídní metoda je na první pohled patrná:\n",
    "1. Dekorátor `@classmethod`,\n",
    "2. chybí pomocný parametr `self`,\n",
    "3. objevuje se nový pomocný parametr `cls`."
   ]
  },
  {
   "cell_type": "code",
   "execution_count": 27,
   "metadata": {
    "tags": []
   },
   "outputs": [],
   "source": [
    "matous = Zamestnanec('Matouš', 'Holinka', 80_000)\n",
    "karolina = Zamestnanec('Karolína', 'Šikovná', 100_000)"
   ]
  },
  {
   "cell_type": "code",
   "execution_count": 28,
   "metadata": {
    "tags": []
   },
   "outputs": [
    {
     "name": "stdout",
     "output_type": "stream",
     "text": [
      "1.06\n",
      "1.06\n"
     ]
    }
   ],
   "source": [
    "print(\n",
    "    matous.zvyseni_mzdy,\n",
    "    karolina.zvyseni_mzdy,\n",
    "    sep=\"\\n\"\n",
    ")"
   ]
  },
  {
   "cell_type": "code",
   "execution_count": 29,
   "metadata": {},
   "outputs": [],
   "source": [
    "Zamestnanec.zvys_mzdu(1.1)"
   ]
  },
  {
   "cell_type": "code",
   "execution_count": 30,
   "metadata": {
    "tags": []
   },
   "outputs": [
    {
     "name": "stdout",
     "output_type": "stream",
     "text": [
      "1.1\n",
      "1.1\n"
     ]
    }
   ],
   "source": [
    "print(\n",
    "    matous.zvyseni_mzdy,\n",
    "    karolina.zvyseni_mzdy,\n",
    "    sep=\"\\n\"\n",
    ")"
   ]
  },
  {
   "cell_type": "markdown",
   "metadata": {},
   "source": [
    "<br>\n",
    "\n",
    "Použití třídních metod je vhodné tehdy, pokud potřebuješ uchopit instance, nebo třídní atributy.\n",
    "\n",
    "Můžeš použít metodu i přes jméno instance, ale obvykle se to nedělá.\n",
    "\n",
    "V naprosté většině případů budeš pracovat přímo s třídou."
   ]
  },
  {
   "cell_type": "markdown",
   "metadata": {},
   "source": [
    "<br>\n",
    "\n",
    "Zvýšení mzdy ovšem můžeš provést také přímo:"
   ]
  },
  {
   "cell_type": "code",
   "execution_count": 31,
   "metadata": {},
   "outputs": [],
   "source": [
    "Zamestnanec.zvyseni_mzdy = 1.11"
   ]
  },
  {
   "cell_type": "code",
   "execution_count": 32,
   "metadata": {
    "tags": []
   },
   "outputs": [
    {
     "name": "stdout",
     "output_type": "stream",
     "text": [
      "1.11\n",
      "1.11\n"
     ]
    }
   ],
   "source": [
    "print(\n",
    "    matous.zvyseni_mzdy,\n",
    "    karolina.zvyseni_mzdy,\n",
    "    sep=\"\\n\"\n",
    ")"
   ]
  },
  {
   "cell_type": "markdown",
   "metadata": {},
   "source": [
    "<br>\n",
    "\n",
    "Kde je tedy výhoda nyní, pokud mám kratší a čistší zápis.\n",
    "\n",
    "Skutečný benefit spočívá ve **vytvoření alternativního třídního konstruktoru**.\n",
    "\n",
    "<br>\n",
    "\n",
    "Představ si, že dostaneš zadané zaměstnance v externím souboru, mj:"
   ]
  },
  {
   "cell_type": "code",
   "execution_count": 33,
   "metadata": {
    "tags": []
   },
   "outputs": [],
   "source": [
    "zamestnanec_3 = \"Petr;Svetr;110_000\""
   ]
  },
  {
   "cell_type": "markdown",
   "metadata": {},
   "source": [
    "<br>\n",
    "\n",
    "Nyní budeš muset zdrojový kód **přepisovat a hodnoty rozdělovat**:"
   ]
  },
  {
   "cell_type": "code",
   "execution_count": 34,
   "metadata": {
    "tags": []
   },
   "outputs": [],
   "source": [
    "petr = Zamestnanec(*zamestnanec_3.split(\";\"))"
   ]
  },
  {
   "cell_type": "code",
   "execution_count": 35,
   "metadata": {
    "tags": []
   },
   "outputs": [
    {
     "name": "stdout",
     "output_type": "stream",
     "text": [
      "Petr\n",
      "Svetr\n",
      "110_000\n"
     ]
    }
   ],
   "source": [
    "print(\n",
    "    petr.jmeno,\n",
    "    petr.prijmeni,\n",
    "    petr.mzda,\n",
    "    sep=\"\\n\"\n",
    ")"
   ]
  },
  {
   "cell_type": "markdown",
   "metadata": {},
   "source": [
    "Dekorátor `@classmethod` uvidíš v maximální míře u metod, pojmenovaných jako:\n",
    "- `from_`,\n",
    "- `make_`,\n",
    "- `create_`.\n",
    "\n",
    "Jejich účel je jednoduše **zefektivnit tvoření nových instancí** (z různých souborů, vstupů obecně)."
   ]
  },
  {
   "cell_type": "code",
   "execution_count": 36,
   "metadata": {
    "tags": []
   },
   "outputs": [],
   "source": [
    "class Zamestnanec:\n",
    "    zvyseni_mzdy = 1.06\n",
    "\n",
    "    def __init__(self, jmeno: str, prijmeni: str, mzda: int):\n",
    "        self.jmeno = jmeno\n",
    "        self.prijmeni = prijmeni\n",
    "        self.mzda = mzda\n",
    "\n",
    "    @classmethod\n",
    "    def from_string(cls, zadany_str: str):\n",
    "        \"\"\"\n",
    "        Vytvoří novou instanci třídy 'Zamestnanec' ze zadaného stringu.\n",
    "        \"\"\"\n",
    "        try:\n",
    "            jmeno, prijmeni, mzda = zadany_str.split(\";\")\n",
    "            \n",
    "        except Exception:\n",
    "            # logging.WARNING()\n",
    "            instance = None\n",
    "        else:\n",
    "            instance = cls(jmeno, prijmeni, mzda)\n",
    "        finally:\n",
    "            return instance"
   ]
  },
  {
   "cell_type": "code",
   "execution_count": 37,
   "metadata": {},
   "outputs": [],
   "source": [
    "filip = Zamestnanec.from_string(\"Filip;Svědomitý;90_000\")"
   ]
  },
  {
   "cell_type": "code",
   "execution_count": 38,
   "metadata": {
    "tags": []
   },
   "outputs": [
    {
     "name": "stdout",
     "output_type": "stream",
     "text": [
      "Filip\n",
      "Svědomitý\n",
      "90_000\n"
     ]
    }
   ],
   "source": [
    "print(\n",
    "    filip.jmeno,\n",
    "    filip.prijmeni,\n",
    "    filip.mzda,\n",
    "    sep=\"\\n\"\n",
    ")"
   ]
  },
  {
   "cell_type": "markdown",
   "metadata": {
    "tags": []
   },
   "source": [
    "<br>\n",
    "\n",
    "Praktická ukázka pro modul `datetime`.\n",
    "\n",
    "### Shrnutí k metodám\n",
    "1. **instanční metoda** - může upravit **nejenom objekty instance, ale i třídy** (na začátku vidí jak třídu, tak instanci),\n",
    "2. **statická metoda (`@staticmethod`)** - nemůže upravovat **ani objekty instancí, ani objekty třídy** (nevidí ani třídu, ani instanci),\n",
    "3. **třídní metoda (`@classmethod`)** - může upravit objekty třídy, ale nemůže upravovat objekty instancí (vidí třídu, ale ne instanci),\n"
   ]
  },
  {
   "cell_type": "markdown",
   "metadata": {},
   "source": [
    "<br>\n",
    "\n",
    "### 🧠 CVIČENÍ 🧠, Vytvoř třídu `Produkt`, která bude tvořena následovným:\n",
    "---"
   ]
  },
  {
   "cell_type": "markdown",
   "metadata": {},
   "source": [
    "- Definujte třídu `Produkt` s třídním atributem `pocet_produktu`,\n",
    "- v instančním kontruktoru zadej postupně parametry `nazev`, `cena` a `skladem`,\n",
    "- pro každou instanci, inkrementuj hodnotu v `pocet_produktu` o 1,\n",
    "- vytvoř metodu `naskladni_produkt`, která pracuje s jediným parametrem `mnoztsvi`,\n",
    "- vytvoř metody `prodej`, která ověřuje, zda je parametr `mnozstvi` možné prodat,\n",
    "- vytvoř statickou metodu `vypocet_ceny_vc_dane`, která upraví cenu s 21% daní,\n",
    "- vytvoř třídní metodu `from_json`, která přečte JSON soubor a nachystá instanci sama."
   ]
  },
  {
   "cell_type": "code",
   "execution_count": 39,
   "metadata": {},
   "outputs": [],
   "source": [
    "class Produkt:\n",
    "    pocet_produktu = 0\n",
    "\n",
    "    def __init__(self, nazev: str, cena: int, skladem: int):\n",
    "        self.nazev = nazev\n",
    "        self.cena = cena\n",
    "        self.skladem = skladem\n",
    "        # inkrementuj hodnotu\n",
    "\n",
    "    def naskladni_produkt(self, mnozstvi: int) -> None:\n",
    "        self.skladem += mnozstvi\n",
    "\n",
    "    def prodej(self, mnozstvi: int) -> bool:  # True/False\n",
    "        return self.skladem >= mnozstvi\n",
    "\n",
    "    @staticmethod\n",
    "    def vypocet_cenu_vc_dane(cena: int):\n",
    "        return cena * 1.21"
   ]
  },
  {
   "cell_type": "code",
   "execution_count": 40,
   "metadata": {},
   "outputs": [],
   "source": [
    "produkt1 = Produkt(\"Notebook\", 20000, 10)\n",
    "produkt2 = Produkt(\"Telefon\", 15000, 15)\n",
    "produkt3 = Produkt(\"Sluchátka\", 2000, 50)"
   ]
  },
  {
   "cell_type": "code",
   "execution_count": 41,
   "metadata": {},
   "outputs": [],
   "source": [
    "produkt1.naskladni_produkt(5)"
   ]
  },
  {
   "cell_type": "code",
   "execution_count": 42,
   "metadata": {
    "tags": []
   },
   "outputs": [
    {
     "data": {
      "text/plain": [
       "15"
      ]
     },
     "execution_count": 42,
     "metadata": {},
     "output_type": "execute_result"
    }
   ],
   "source": [
    "produkt1.skladem"
   ]
  },
  {
   "cell_type": "code",
   "execution_count": 43,
   "metadata": {
    "tags": []
   },
   "outputs": [
    {
     "data": {
      "text/plain": [
       "True"
      ]
     },
     "execution_count": 43,
     "metadata": {},
     "output_type": "execute_result"
    }
   ],
   "source": [
    "produkt1.prodej(10)"
   ]
  },
  {
   "cell_type": "code",
   "execution_count": 44,
   "metadata": {
    "tags": []
   },
   "outputs": [
    {
     "data": {
      "text/plain": [
       "False"
      ]
     },
     "execution_count": 44,
     "metadata": {},
     "output_type": "execute_result"
    }
   ],
   "source": [
    "produkt1.prodej(20)"
   ]
  },
  {
   "cell_type": "markdown",
   "metadata": {},
   "source": [
    "<details>\n",
    "    <summary>▶️ Řešení</summary>\n",
    "    \n",
    "    ```\n",
    "    class Produkt:\n",
    "        pocet_produktu: int = 0\n",
    "\n",
    "        def __init__(self, nazev: str, cena: str, skladem: int = 0):\n",
    "            self.nazev = nazev\n",
    "            self.cena = cena\n",
    "            self.skladem = skladem\n",
    "            Produkt.pocet_produktu += 1\n",
    "\n",
    "        def naskladni(self, mnozstvi: int) -> None:\n",
    "            self.skladem += mnozstvi\n",
    "\n",
    "        def prodej(self, mnozstvi: int) -> None:\n",
    "            if mnozstvi <= self.skladem:\n",
    "                self.skladem -= mnozstvi\n",
    "            else:\n",
    "                print(f\"Na skladě není dostatečné množství produktu {self.name}.\")\n",
    "\n",
    "        @classmethod\n",
    "        def from_json(cls, jmeno_souboru: str) -> dict:\n",
    "            try:\n",
    "                obsah_json = read_json(jmeno_souboru, orient=\"index\")\n",
    "\n",
    "            except Exception:\n",
    "                content_dict = {}\n",
    "            else:\n",
    "                content = obsah_json.to_dict()\n",
    "                content_dict = cls(\n",
    "                    content[0][\"nazev\"],\n",
    "                    content[0][\"cena\"],\n",
    "                    content[0][\"mnozstvi\"]\n",
    "                )\n",
    "            finally:\n",
    "                return content_dict\n",
    "\n",
    "        @staticmethod\n",
    "        def vypocet_cenu_vc_dane(cena: float) -> float:\n",
    "            \"\"\"\n",
    "            Vrať hodnotu ceny produktu vč. 21% daně.\n",
    "\n",
    "            :param cena: cena bez daně,\n",
    "            :type cena: float\n",
    "            :return: cena vč. daně,\n",
    "            :rtype: float\n",
    "            \"\"\"\n",
    "            return cena * 1.21\n",
    "    ```\n",
    "</details>"
   ]
  },
  {
   "cell_type": "markdown",
   "metadata": {
    "tags": []
   },
   "source": [
    "<br>\n",
    "\n",
    "\n",
    "## Funkce podtržítek v Pythonu\n",
    "\n",
    "---\n",
    "\n",
    "<img src=\"https://external-content.duckduckgo.com/iu/?u=https%3A%2F%2Ftse1.mm.bing.net%2Fth%3Fid%3DOIP.8ObUIt44K49qv0G2eYdmqAAAAA%26pid%3DApi&f=1&ipt=4ef5166c4d2c904e5726bfa4fc6a86083ba591dd1ca94a892a7fb32e47629016&ipo=images\" width=\"250\" style=\"margin-left:auto; margin-right:auto\"/>\n",
    "\n",
    "Podtržítko je **syntaktický znak** v Pythonu, který má nejeden důležitý význam:\n",
    "1. Poslední výraz `_`,\n",
    "2. izoluj výraz `_`,\n",
    "2. privátní proměnná  `_jmeno`,\n",
    "3. chráněná proměnná `__jmeno`,\n",
    "4. přepis pro klíčové slovo `class_`,\n",
    "5. magická metoda `__init__`."
   ]
  },
  {
   "cell_type": "markdown",
   "metadata": {},
   "source": [
    "<br>\n",
    "\n",
    "### Poslední výraz\n",
    "\n",
    "---"
   ]
  },
  {
   "cell_type": "code",
   "execution_count": 45,
   "metadata": {
    "tags": []
   },
   "outputs": [
    {
     "data": {
      "text/plain": [
       "'Marek'"
      ]
     },
     "execution_count": 45,
     "metadata": {},
     "output_type": "execute_result"
    }
   ],
   "source": [
    "\"Marek\""
   ]
  },
  {
   "cell_type": "code",
   "execution_count": 46,
   "metadata": {
    "tags": []
   },
   "outputs": [
    {
     "data": {
      "text/plain": [
       "'Marek'"
      ]
     },
     "execution_count": 46,
     "metadata": {},
     "output_type": "execute_result"
    }
   ],
   "source": [
    "_"
   ]
  },
  {
   "cell_type": "code",
   "execution_count": 47,
   "metadata": {
    "tags": []
   },
   "outputs": [
    {
     "data": {
      "text/plain": [
       "'MAREK'"
      ]
     },
     "execution_count": 47,
     "metadata": {},
     "output_type": "execute_result"
    }
   ],
   "source": [
    "_.upper()"
   ]
  },
  {
   "cell_type": "code",
   "execution_count": 48,
   "metadata": {
    "tags": []
   },
   "outputs": [
    {
     "data": {
      "text/plain": [
       "120"
      ]
     },
     "execution_count": 48,
     "metadata": {},
     "output_type": "execute_result"
    }
   ],
   "source": [
    "1 + 119"
   ]
  },
  {
   "cell_type": "code",
   "execution_count": 49,
   "metadata": {
    "tags": []
   },
   "outputs": [
    {
     "data": {
      "text/plain": [
       "120"
      ]
     },
     "execution_count": 49,
     "metadata": {},
     "output_type": "execute_result"
    }
   ],
   "source": [
    "_"
   ]
  },
  {
   "cell_type": "markdown",
   "metadata": {},
   "source": [
    "<br>\n",
    "\n",
    "Takové chování ale oceníš především v prostředích *notebooků* a *interpretu*.\n",
    "\n",
    "Ve zdrojovém souboru nemá prakticky tímto způsobem použití."
   ]
  },
  {
   "cell_type": "markdown",
   "metadata": {},
   "source": [
    "<br>\n",
    "\n",
    "### Izoluj výraz\n",
    "\n",
    "---"
   ]
  },
  {
   "cell_type": "markdown",
   "metadata": {},
   "source": [
    "Praktické použití nabývá samotné podtržítko ve skriptu jako **izolátor nepodstatných hodnot**:"
   ]
  },
  {
   "cell_type": "code",
   "execution_count": 50,
   "metadata": {
    "tags": []
   },
   "outputs": [],
   "source": [
    "import time"
   ]
  },
  {
   "cell_type": "code",
   "execution_count": 51,
   "metadata": {
    "tags": []
   },
   "outputs": [
    {
     "name": "stdout",
     "output_type": "stream",
     "text": [
      "Kontroluji status..\n",
      "Kontroluji status..\n",
      "Kontroluji status..\n",
      "Kontroluji status..\n",
      "Kontroluji status..\n"
     ]
    }
   ],
   "source": [
    "for _ in range(5):\n",
    "    print(\"Kontroluji status..\")\n",
    "    time.sleep(1)"
   ]
  },
  {
   "cell_type": "markdown",
   "metadata": {},
   "source": [
    "<br>\n",
    "\n",
    "Označená výrazu v předpisu smyčky v takovém případě nemá smysl.\n",
    "\n",
    "Jelikož ji v celém těle smyčky **nepotřebuješ používat**:"
   ]
  },
  {
   "cell_type": "code",
   "execution_count": 52,
   "metadata": {
    "tags": []
   },
   "outputs": [
    {
     "name": "stdout",
     "output_type": "stream",
     "text": [
      "0\n",
      "1\n",
      "2\n"
     ]
    }
   ],
   "source": [
    "for index, _ in enumerate((\"Matouš\", \"Marcel\", \"Filip\")):\n",
    "    print(index)"
   ]
  },
  {
   "cell_type": "markdown",
   "metadata": {},
   "source": [
    "<br>\n",
    "\n",
    "Případně pro **vícenásobné přiřazování proměnných**:"
   ]
  },
  {
   "cell_type": "code",
   "execution_count": 53,
   "metadata": {
    "tags": []
   },
   "outputs": [],
   "source": [
    "jmeno, _, _ = \"Filip;Svědomitý;90_000\".split(\";\")"
   ]
  },
  {
   "cell_type": "code",
   "execution_count": 54,
   "metadata": {
    "tags": []
   },
   "outputs": [
    {
     "data": {
      "text/plain": [
       "'Filip'"
      ]
     },
     "execution_count": 54,
     "metadata": {},
     "output_type": "execute_result"
    }
   ],
   "source": [
    "jmeno"
   ]
  },
  {
   "cell_type": "code",
   "execution_count": 55,
   "metadata": {},
   "outputs": [],
   "source": [
    "jmeno, *_ = \"Filip;Svědomitý;90_000\".split(\";\")"
   ]
  },
  {
   "cell_type": "code",
   "execution_count": 56,
   "metadata": {
    "tags": []
   },
   "outputs": [
    {
     "data": {
      "text/plain": [
       "'Filip'"
      ]
     },
     "execution_count": 56,
     "metadata": {},
     "output_type": "execute_result"
    }
   ],
   "source": [
    "jmeno"
   ]
  },
  {
   "cell_type": "code",
   "execution_count": 57,
   "metadata": {
    "tags": []
   },
   "outputs": [
    {
     "data": {
      "text/plain": [
       "['Svědomitý', '90_000']"
      ]
     },
     "execution_count": 57,
     "metadata": {},
     "output_type": "execute_result"
    }
   ],
   "source": [
    "_"
   ]
  },
  {
   "cell_type": "markdown",
   "metadata": {},
   "source": [
    "<br>\n",
    "\n",
    "### Privátní proměnná (~weak private)\n",
    "\n",
    "---"
   ]
  },
  {
   "cell_type": "markdown",
   "metadata": {},
   "source": [
    "Další použití podtržítka je **v rámci jména**:\n",
    "1. *uživatelské funkce*,\n",
    "2. *metody*."
   ]
  },
  {
   "cell_type": "markdown",
   "metadata": {},
   "source": [
    "Některé jazyky dále umožňují práci s pomocí **privátních** (*soukromých*) proměnných (př. Java):"
   ]
  },
  {
   "cell_type": "code",
   "execution_count": 58,
   "metadata": {},
   "outputs": [],
   "source": [
    "import time"
   ]
  },
  {
   "cell_type": "code",
   "execution_count": 59,
   "metadata": {},
   "outputs": [],
   "source": [
    "class VerifikatorLogu:\n",
    "    \"\"\"Objekt, který představuje reprezentaci souboru logů.\"\"\"\n",
    "    \n",
    "    def __init__(self, jmeno: str):\n",
    "        self.jmeno = jmeno\n",
    "        self._limit = 3\n",
    "        \n",
    "    def kontroluj_log(self) -> None:\n",
    "        for _ in range(self._limit):\n",
    "            print(f\"Kontroluji soubor logu..\")\n",
    "            time.sleep(1)\n",
    "        else:\n",
    "            print(f\"Soubor: '{self.jmeno}' je v pořádku.\")"
   ]
  },
  {
   "cell_type": "markdown",
   "metadata": {},
   "source": [
    "<br>\n",
    "\n",
    "Jedno podtržítko tady funguje **pouze jako indikátor**.\n",
    "\n",
    "Ten ostatním uživatelům zdrojového kódu dává vědět, že je **privátní proměnnou**.\n",
    "\n",
    "Jinými slovy je to interní objekt, NEUPRAVUJ jej."
   ]
  },
  {
   "cell_type": "code",
   "execution_count": 60,
   "metadata": {},
   "outputs": [],
   "source": [
    "protokol_1 = VerifikatorLogu(\"protokol_1.log\")\n",
    "protokol_2 = VerifikatorLogu(\"protokol_2.log\")"
   ]
  },
  {
   "cell_type": "code",
   "execution_count": 63,
   "metadata": {},
   "outputs": [
    {
     "name": "stdout",
     "output_type": "stream",
     "text": [
      "3\n",
      "3\n"
     ]
    }
   ],
   "source": [
    "print(\n",
    "    protokol_1._limit,\n",
    "    protokol_2._limit,\n",
    "    sep=\"\\n\"\n",
    ")"
   ]
  },
  {
   "cell_type": "code",
   "execution_count": 64,
   "metadata": {},
   "outputs": [
    {
     "name": "stdout",
     "output_type": "stream",
     "text": [
      "Kontroluji soubor logu..\n",
      "Kontroluji soubor logu..\n",
      "Kontroluji soubor logu..\n",
      "Soubor: 'protokol_2.log' je v pořádku.\n"
     ]
    }
   ],
   "source": [
    "protokol_2.kontroluj_log()"
   ]
  },
  {
   "cell_type": "markdown",
   "metadata": {},
   "source": [
    "<br>\n",
    "\n",
    "Obvykle je vhodné v dokumentaci doplnit, k jakému účelu atribut slouží a jak pracovat mimo něj.\n",
    "\n",
    "Python je ovšem až moc tolerantní a *intepret* ti dovolí proměnou používat a přepisovat."
   ]
  },
  {
   "cell_type": "code",
   "execution_count": 65,
   "metadata": {
    "tags": []
   },
   "outputs": [],
   "source": [
    "protokol_1._limit = 2"
   ]
  },
  {
   "cell_type": "code",
   "execution_count": 66,
   "metadata": {
    "tags": []
   },
   "outputs": [
    {
     "name": "stdout",
     "output_type": "stream",
     "text": [
      "2\n",
      "3\n"
     ]
    }
   ],
   "source": [
    "print(\n",
    "    protokol_1._limit,\n",
    "    protokol_2._limit,\n",
    "    sep=\"\\n\"\n",
    ")"
   ]
  },
  {
   "cell_type": "markdown",
   "metadata": {
    "tags": []
   },
   "source": [
    "<br>\n",
    "\n",
    "Pokud takovou hodnotu přepíšeš, můžeš pozměnit funkcionalitu skriptu, což není žádoucí.\n",
    "\n",
    "V ukázce výš by nemusela kratší doba pro kontrolu logu stačit."
   ]
  },
  {
   "cell_type": "markdown",
   "metadata": {},
   "source": [
    "<br>\n",
    "\n",
    "### Chráněná proměnná (~strong private)\n",
    "\n",
    "---"
   ]
  },
  {
   "cell_type": "markdown",
   "metadata": {},
   "source": [
    "Pomocí **dvou podtržítek** může uživatel definovat **chráněné** proměnné:"
   ]
  },
  {
   "cell_type": "code",
   "execution_count": 67,
   "metadata": {},
   "outputs": [],
   "source": [
    "import time"
   ]
  },
  {
   "cell_type": "code",
   "execution_count": 68,
   "metadata": {},
   "outputs": [],
   "source": [
    "class VerifikatorLogu:\n",
    "    \"\"\"Objekt, který představuje reprezentaci souboru logů.\"\"\"\n",
    "    \n",
    "    def __init__(self, jmeno: str):\n",
    "        self.jmeno = jmeno\n",
    "        self.__limit = 3  # strong private\n",
    "        \n",
    "    def kontroluj_log(self) -> None:\n",
    "        for _ in range(self.__limit):\n",
    "            print(f\"Kontroluji soubor logu..\")\n",
    "            time.sleep(1)\n",
    "        else:\n",
    "            print(f\"Soubor: '{self.jmeno}' je v pořádku.\")"
   ]
  },
  {
   "cell_type": "markdown",
   "metadata": {},
   "source": [
    "<br>\n",
    "\n",
    "Takové zadání ještě zdůrazňuje důležitost proměnné.\n",
    "\n",
    "Uživateli znemožní výraz jednodušše přepsat, přetypovat (přistoupit k němu obecně):"
   ]
  },
  {
   "cell_type": "code",
   "execution_count": 69,
   "metadata": {},
   "outputs": [],
   "source": [
    "protokol_1 = VerifikatorLogu(\"protokol_1.log\")\n",
    "protokol_2 = VerifikatorLogu(\"protokol_2.log\")"
   ]
  },
  {
   "cell_type": "code",
   "execution_count": 70,
   "metadata": {},
   "outputs": [
    {
     "ename": "AttributeError",
     "evalue": "'VerifikatorLogu' object has no attribute '__limit'",
     "output_type": "error",
     "traceback": [
      "\u001b[0;31m---------------------------------------------------------------------------\u001b[0m",
      "\u001b[0;31mAttributeError\u001b[0m                            Traceback (most recent call last)",
      "Cell \u001b[0;32mIn[70], line 1\u001b[0m\n\u001b[0;32m----> 1\u001b[0m \u001b[38;5;28mprint\u001b[39m(\u001b[43mprotokol_1\u001b[49m\u001b[38;5;241;43m.\u001b[39;49m\u001b[43m__limit\u001b[49m)\n",
      "\u001b[0;31mAttributeError\u001b[0m: 'VerifikatorLogu' object has no attribute '__limit'"
     ]
    }
   ],
   "source": [
    "print(protokol_1.__limit)"
   ]
  },
  {
   "cell_type": "markdown",
   "metadata": {},
   "source": [
    "<br>\n",
    "\n",
    "Takhle jej uživatel nenajde tak snadno.\n",
    "\n",
    "Pořád je ale možné, výraz ručně vyhledat a dát si práci s přepsaním:"
   ]
  },
  {
   "cell_type": "code",
   "execution_count": 71,
   "metadata": {
    "tags": []
   },
   "outputs": [
    {
     "name": "stdout",
     "output_type": "stream",
     "text": [
      "{'jmeno': 'protokol_1.log', '_VerifikatorLogu__limit': 3}\n"
     ]
    }
   ],
   "source": [
    "print(protokol_1.__dict__)"
   ]
  },
  {
   "cell_type": "markdown",
   "metadata": {},
   "source": [
    "<br>\n",
    "\n",
    "Magická metoda `__dict__` ti dovolí vypsat všechny instanční atributy, kde najdeš i chráněné proměnné:"
   ]
  },
  {
   "cell_type": "code",
   "execution_count": 72,
   "metadata": {
    "tags": []
   },
   "outputs": [
    {
     "name": "stdout",
     "output_type": "stream",
     "text": [
      "3\n"
     ]
    }
   ],
   "source": [
    "print(protokol_1._VerifikatorLogu__limit)"
   ]
  },
  {
   "cell_type": "code",
   "execution_count": 73,
   "metadata": {
    "tags": []
   },
   "outputs": [],
   "source": [
    "protokol_1._VerifikatorLogu__limit = 10"
   ]
  },
  {
   "cell_type": "code",
   "execution_count": 74,
   "metadata": {
    "tags": []
   },
   "outputs": [
    {
     "name": "stdout",
     "output_type": "stream",
     "text": [
      "10\n"
     ]
    }
   ],
   "source": [
    "print(protokol_1._VerifikatorLogu__limit)"
   ]
  },
  {
   "cell_type": "markdown",
   "metadata": {},
   "source": [
    "<br>\n",
    "\n",
    "*Interpret* takový atribut chrání jeho **implicitním přejmenování**.\n",
    "\n",
    "Takže druhé podtržítko v podstatě znamená další vrstvu ochrany."
   ]
  },
  {
   "cell_type": "markdown",
   "metadata": {},
   "source": [
    "<br>\n",
    "\n",
    "### Přepis klíčového pojmu\n",
    "\n",
    "---"
   ]
  },
  {
   "cell_type": "markdown",
   "metadata": {},
   "source": [
    "Pokud se ti bude krýt **klíčové slovo** se jménem proměnné, *interpret* ti bude vracet **syntaktickou výjimku**:"
   ]
  },
  {
   "cell_type": "code",
   "execution_count": 75,
   "metadata": {},
   "outputs": [],
   "source": [
    "class Zamestnanec:\n",
    "\n",
    "    def __init__(self, jmeno: str, email: str):\n",
    "        self.jmeno = jmeno\n",
    "        self.email = email"
   ]
  },
  {
   "cell_type": "code",
   "execution_count": 76,
   "metadata": {},
   "outputs": [
    {
     "ename": "SyntaxError",
     "evalue": "invalid syntax (901670304.py, line 1)",
     "output_type": "error",
     "traceback": [
      "\u001b[0;36m  Cell \u001b[0;32mIn[76], line 1\u001b[0;36m\u001b[0m\n\u001b[0;31m    class = Employee(\"Matous\", \"matous@gmail.com\")  # rezervovaný výraz 'class'\u001b[0m\n\u001b[0m          ^\u001b[0m\n\u001b[0;31mSyntaxError\u001b[0m\u001b[0;31m:\u001b[0m invalid syntax\n"
     ]
    }
   ],
   "source": [
    "class = Employee(\"Matous\", \"matous@gmail.com\")  # rezervovaný výraz 'class'"
   ]
  },
  {
   "cell_type": "markdown",
   "metadata": {},
   "source": [
    "<br>\n",
    "\n",
    "Pokud tomu chceš zabránit, můžeš použít podtržítko jako příponu za klíčovým výrazem:"
   ]
  },
  {
   "cell_type": "code",
   "execution_count": 77,
   "metadata": {},
   "outputs": [],
   "source": [
    "class_ = Zamestnanec(\"Matous\", \"matous@gmail.com\")"
   ]
  },
  {
   "cell_type": "code",
   "execution_count": 78,
   "metadata": {
    "tags": []
   },
   "outputs": [
    {
     "name": "stdout",
     "output_type": "stream",
     "text": [
      "Matous\n",
      "matous@gmail.com\n"
     ]
    }
   ],
   "source": [
    "print(\n",
    "    class_.jmeno,\n",
    "    class_.email,\n",
    "    sep=\"\\n\"\n",
    ")"
   ]
  },
  {
   "cell_type": "markdown",
   "metadata": {},
   "source": [
    "<br>\n",
    "\n",
    "### Magické metody\n",
    "\n",
    "---"
   ]
  },
  {
   "cell_type": "markdown",
   "metadata": {},
   "source": [
    "Magické metody jsou **speciální metody** v Pythonu (~double-underscore methods = dunder methods).\n",
    "\n",
    "Mezi magické metody patří i `__init__`, tedy instanční konstruktor.\n",
    "\n",
    "<br>\n",
    "\n",
    "Tyto metody jsou v podstatě ozubenými kolečky, které pohání soustrojí Pythonu:"
   ]
  },
  {
   "cell_type": "code",
   "execution_count": 79,
   "metadata": {
    "tags": []
   },
   "outputs": [
    {
     "data": {
      "text/plain": [
       "3"
      ]
     },
     "execution_count": 79,
     "metadata": {},
     "output_type": "execute_result"
    }
   ],
   "source": [
    "len((0.1, 0.2, 0.3))"
   ]
  },
  {
   "cell_type": "code",
   "execution_count": 80,
   "metadata": {
    "tags": []
   },
   "outputs": [
    {
     "data": {
      "text/plain": [
       "3"
      ]
     },
     "execution_count": 80,
     "metadata": {},
     "output_type": "execute_result"
    }
   ],
   "source": [
    "(0.1, 0.2, 0.3).__len__()  # len()"
   ]
  },
  {
   "cell_type": "code",
   "execution_count": 81,
   "metadata": {
    "tags": []
   },
   "outputs": [],
   "source": [
    "cislo = 3"
   ]
  },
  {
   "cell_type": "code",
   "execution_count": 82,
   "metadata": {
    "tags": []
   },
   "outputs": [
    {
     "data": {
      "text/plain": [
       "True"
      ]
     },
     "execution_count": 82,
     "metadata": {},
     "output_type": "execute_result"
    }
   ],
   "source": [
    "cislo.__eq__(3)  # =="
   ]
  },
  {
   "cell_type": "code",
   "execution_count": null,
   "metadata": {
    "tags": []
   },
   "outputs": [],
   "source": [
    "cislo.__eq__(4)  # =="
   ]
  },
  {
   "cell_type": "code",
   "execution_count": 83,
   "metadata": {
    "tags": []
   },
   "outputs": [
    {
     "data": {
      "text/plain": [
       "10"
      ]
     },
     "execution_count": 83,
     "metadata": {},
     "output_type": "execute_result"
    }
   ],
   "source": [
    "cislo.__add__(7) # +"
   ]
  },
  {
   "cell_type": "markdown",
   "metadata": {},
   "source": [
    "<br>\n",
    "\n",
    "Na funkcionalitě těchto metod závisí na pozadí prakticky celá řada objektů."
   ]
  },
  {
   "cell_type": "code",
   "execution_count": 84,
   "metadata": {
    "tags": []
   },
   "outputs": [],
   "source": [
    "class Zamestnanec:\n",
    "\n",
    "    def __init__(self, jmeno: str, email: str):\n",
    "        self.jmeno = jmeno\n",
    "        self.email = email"
   ]
  },
  {
   "cell_type": "code",
   "execution_count": 85,
   "metadata": {
    "tags": []
   },
   "outputs": [],
   "source": [
    "matous = Zamestnanec(\"Matous\", \"matous@gmail.com\")"
   ]
  },
  {
   "cell_type": "code",
   "execution_count": 86,
   "metadata": {
    "tags": []
   },
   "outputs": [
    {
     "name": "stdout",
     "output_type": "stream",
     "text": [
      "<__main__.Zamestnanec object at 0x7fa174091460>\n",
      "<__main__.Zamestnanec object at 0x7fa174091460>\n",
      "<__main__.Zamestnanec object at 0x7fa174091460>\n"
     ]
    }
   ],
   "source": [
    "print(\n",
    "    matous,\n",
    "    str(matous),\n",
    "    repr(matous),\n",
    "    sep=\"\\n\"\n",
    ")"
   ]
  },
  {
   "cell_type": "markdown",
   "metadata": {},
   "source": [
    "<br>\n",
    "\n",
    "Pokud potřebuješ upravit informativní výstup ohledně instance třídy `Zamestnanec`, můžeš přepsat (~overloadovat) metodu `__str__`:"
   ]
  },
  {
   "cell_type": "code",
   "execution_count": 88,
   "metadata": {
    "tags": []
   },
   "outputs": [],
   "source": [
    "class Zamestnanec:\n",
    "\n",
    "    def __init__(self, jmeno: str, email: str):\n",
    "        self.jmeno = jmeno\n",
    "        self.email = email\n",
    "        \n",
    "    def __str__(self) -> str:\n",
    "        return f\"Jméno zaměstnance: {self.jmeno}\""
   ]
  },
  {
   "cell_type": "code",
   "execution_count": 89,
   "metadata": {
    "tags": []
   },
   "outputs": [],
   "source": [
    "matous = Zamestnanec(\"Matous\", \"matous@gmail.com\")"
   ]
  },
  {
   "cell_type": "code",
   "execution_count": 91,
   "metadata": {
    "tags": []
   },
   "outputs": [
    {
     "name": "stdout",
     "output_type": "stream",
     "text": [
      "Jméno zaměstnance: Matous\n",
      "Jméno zaměstnance: Matous\n"
     ]
    }
   ],
   "source": [
    "print(\n",
    "    matous,\n",
    "    str(matous),\n",
    "    sep=\"\\n\"\n",
    ")"
   ]
  },
  {
   "cell_type": "markdown",
   "metadata": {},
   "source": [
    "<br>\n",
    "\n",
    "Reprezentovat objekt lze dvěma metodami:\n",
    "1. Přepsání metody `__str__` (neformální, slouží hlavně uživateli),\n",
    "2. přepsání metody `__repr__` (formální, logy a debuggování)."
   ]
  },
  {
   "cell_type": "code",
   "execution_count": 92,
   "metadata": {
    "tags": []
   },
   "outputs": [],
   "source": [
    "import datetime"
   ]
  },
  {
   "cell_type": "code",
   "execution_count": 93,
   "metadata": {
    "tags": []
   },
   "outputs": [],
   "source": [
    "aktualni_datum_cas = datetime.datetime.now()"
   ]
  },
  {
   "cell_type": "code",
   "execution_count": 94,
   "metadata": {
    "tags": []
   },
   "outputs": [
    {
     "data": {
      "text/plain": [
       "datetime.datetime(2023, 5, 19, 11, 5, 35, 867862)"
      ]
     },
     "execution_count": 94,
     "metadata": {},
     "output_type": "execute_result"
    }
   ],
   "source": [
    "aktualni_datum_cas        # __repr__"
   ]
  },
  {
   "cell_type": "code",
   "execution_count": 95,
   "metadata": {
    "tags": []
   },
   "outputs": [
    {
     "name": "stdout",
     "output_type": "stream",
     "text": [
      "2023-05-19 11:05:35.867862\n"
     ]
    }
   ],
   "source": [
    "print(aktualni_datum_cas) # __str__"
   ]
  },
  {
   "cell_type": "code",
   "execution_count": 96,
   "metadata": {
    "tags": []
   },
   "outputs": [
    {
     "data": {
      "text/plain": [
       "datetime.datetime"
      ]
     },
     "execution_count": 96,
     "metadata": {},
     "output_type": "execute_result"
    }
   ],
   "source": [
    "type(aktualni_datum_cas)"
   ]
  },
  {
   "cell_type": "markdown",
   "metadata": {},
   "source": [
    "<br>\n",
    "\n",
    "Pokud budeš chtít aplikovat vlastní metody u svojí třídy:"
   ]
  },
  {
   "cell_type": "code",
   "execution_count": 97,
   "metadata": {
    "tags": []
   },
   "outputs": [],
   "source": [
    "class Zamestnanec:\n",
    "\n",
    "    def __init__(self, jmeno: str, email: str):\n",
    "        self.jmeno = jmeno\n",
    "        self.email = email\n",
    "        \n",
    "    def __str__(self) -> str:\n",
    "        return f\"Jméno zaměstnance: {self.jmeno}\"\n",
    "    \n",
    "    def __repr__(self):\n",
    "        return f\"{type(self).__name__}(jmeno={self.jmeno!r})\""
   ]
  },
  {
   "cell_type": "code",
   "execution_count": 98,
   "metadata": {
    "tags": []
   },
   "outputs": [],
   "source": [
    "matous = Zamestnanec(\"Matous\", \"matous@gmail.com\")"
   ]
  },
  {
   "cell_type": "code",
   "execution_count": 99,
   "metadata": {
    "tags": []
   },
   "outputs": [
    {
     "name": "stdout",
     "output_type": "stream",
     "text": [
      "Jméno zaměstnance: Matous\n",
      "Zamestnanec(jmeno='Matous')\n"
     ]
    }
   ],
   "source": [
    "print(\n",
    "    str(matous),\n",
    "    repr(matous),\n",
    "    sep=\"\\n\"\n",
    ")"
   ]
  },
  {
   "cell_type": "code",
   "execution_count": 100,
   "metadata": {
    "tags": []
   },
   "outputs": [
    {
     "data": {
      "text/plain": [
       "{'jmeno': 'Matous', 'email': 'matous@gmail.com'}"
      ]
     },
     "execution_count": 100,
     "metadata": {},
     "output_type": "execute_result"
    }
   ],
   "source": [
    "matous.__dict__"
   ]
  },
  {
   "cell_type": "markdown",
   "metadata": {},
   "source": [
    "<br>\n",
    "\n",
    "Použití **magických metod** je jeden z pokročilejších prvků OOP."
   ]
  },
  {
   "cell_type": "markdown",
   "metadata": {},
   "source": [
    "<br>\n",
    "\n",
    "### 🧠 CVIČENÍ 🧠, Vytvoř třídu `Uzivatel`, která bude tvořena následovným:\n",
    "---"
   ]
  },
  {
   "cell_type": "markdown",
   "metadata": {},
   "source": [
    "- Definujte třídu `Uzivatel`,\n",
    "- nachystej instanční konstruktor, který potřebuje parametry `vlastnik` a `naposledy_aktivni`,\n",
    "- uprav instanční atribut `vlastnik` jako protected atribut,\n",
    "- vytvoř metodu `zobraz_uzivatele`, která vrací výraz se jménem uživatele,\n",
    "- vytvoř metodu `prihlaseni_uzivatele`, která vytvoří **private instanční atribut** `nyni_aktivni`, kam se uloží aktuální datum a čas,\n",
    "- vytvoř metodu `zobraz_prihlaseni`, která vypíše aktuální čas uživatele (nenaformátovaný),\n",
    "- vytvoř magickou metodu `__str__`, která naformátuj `str` podle:`Uživatel: <vlastnik> je aktivní od: <dd/mm/YYYY HH:MM:SS>.`,\n",
    "- vytvoř statickou metodu `je_aktivni`, která pracuje s parametry `posledni_prihlaseni` a `aktualni_prihlaseni`,\n",
    "- metoda `je_aktivni` vrací `True`/`False`, pokud rozdíl mezi parametry `_nyni_aktivni` a `naposledy_aktivni` je menší než 365 dní."
   ]
  },
  {
   "cell_type": "code",
   "execution_count": null,
   "metadata": {
    "tags": []
   },
   "outputs": [],
   "source": [
    "from pandas import to_datetime, Timestamp"
   ]
  },
  {
   "cell_type": "code",
   "execution_count": null,
   "metadata": {},
   "outputs": [],
   "source": []
  },
  {
   "cell_type": "markdown",
   "metadata": {},
   "source": [
    "<details>\n",
    "    <summary>▶️ Řešení</summary>\n",
    "    \n",
    "    ```\n",
    "    class Uzivatel:\n",
    "        \"\"\"\n",
    "        Objekt reprezentující uživ. účet pro fiktivní\n",
    "        web. projekt s nákupem knih.\n",
    "        \"\"\"\n",
    "\n",
    "        def __init__(self, vlastnik: str):\n",
    "            self.__vlastnik = vlastnik\n",
    "            self.naposledy_aktivni = Timestamp(2021, 4, 5, 11, 11, 11)\n",
    "\n",
    "        def prihlaseni_uzivatele(self):\n",
    "            self._nyni_aktivni = to_datetime('today')\n",
    "\n",
    "        def zobraz_prihlaseni(self):\n",
    "            return self._nyni_aktivni\n",
    "\n",
    "        def zobraz_uzivatele(self):\n",
    "            return self.__vlastnik\n",
    "\n",
    "        def __str__(self) -> str:\n",
    "            return f\"Uživatel: {self.zobraz_uzivatele()} je aktivní od: {self.zobraz_prihlaseni().strftime('%d/%m/%Y %H:%M:%S')}.\"\n",
    "\n",
    "        @staticmethod\n",
    "        def je_aktivni(posledni_prihlaseni, aktualni_prihlaseni: str) -> bool:\n",
    "            \"\"\"\n",
    "            Vrať boolean hodnotu True, pokud se uživatel naposledy přihlásil méně než před 365 dny.\n",
    "            Jinak vrať False.\n",
    "            \"\"\"\n",
    "            return (Timestamp(aktualni_prihlaseni) - Timestamp(posledni_prihlaseni)).days < 365\n",
    "    ```\n",
    "</details>"
   ]
  },
  {
   "cell_type": "markdown",
   "metadata": {},
   "source": [
    "## Vlastnosti třídy\n",
    "\n",
    "---\n",
    "\n",
    "\n",
    "<img src=\"https://external-content.duckduckgo.com/iu/?u=https%3A%2F%2Ftse1.mm.bing.net%2Fth%3Fid%3DOIP.P14PbLzZfDCpGX8hFnK74wHaHa%26pid%3DApi&f=1&ipt=de07e3110c5b46007e138de2aa1ddf169453c6bdf583d56537c3c749b7cf2055&ipo=images\" width=\"250\" style=\"margin-left:auto; margin-right:auto\"/>\n",
    "\n",
    "\n",
    "V některých programovacích jazycích se k atributům **nepřistupuje přímo**.\n",
    "\n",
    "Je to z toho důvodu, že by uživatel nechtěně pracoval se špatným datovým typem\n",
    "\n",
    "V Pythonu tato funkcionalita není podporovaná napřímo, ale existuje *workaround*."
   ]
  },
  {
   "cell_type": "markdown",
   "metadata": {},
   "source": [
    "<br>\n",
    "\n",
    "Představ si situaci, kdy máš napsat převodník jednotek objemu.\n",
    "\n",
    "Z **litrů** na **pinty**(UK):"
   ]
  },
  {
   "cell_type": "code",
   "execution_count": 104,
   "metadata": {},
   "outputs": [],
   "source": [
    "class ObjemovyKonvertor:\n",
    "\n",
    "    def __init__(self, litr: int):\n",
    "        self.litr = litr\n",
    "        self.koeficient_pinta = 1.7598\n",
    "        self.na_pinty = self.litr * self.koeficient_pinta"
   ]
  },
  {
   "cell_type": "code",
   "execution_count": 105,
   "metadata": {},
   "outputs": [],
   "source": [
    "dva_litry = ObjemovyKonvertor(2)"
   ]
  },
  {
   "cell_type": "code",
   "execution_count": 106,
   "metadata": {
    "tags": []
   },
   "outputs": [
    {
     "data": {
      "text/plain": [
       "3.5196"
      ]
     },
     "execution_count": 106,
     "metadata": {},
     "output_type": "execute_result"
    }
   ],
   "source": [
    "dva_litry.na_pinty"
   ]
  },
  {
   "cell_type": "markdown",
   "metadata": {},
   "source": [
    "<br>\n",
    "\n",
    "Jako uživatel ale můžeš zadat nesprávný argument pro tvoji třídu:"
   ]
  },
  {
   "cell_type": "code",
   "execution_count": 107,
   "metadata": {
    "tags": []
   },
   "outputs": [
    {
     "ename": "TypeError",
     "evalue": "can't multiply sequence by non-int of type 'float'",
     "output_type": "error",
     "traceback": [
      "\u001b[0;31m---------------------------------------------------------------------------\u001b[0m",
      "\u001b[0;31mTypeError\u001b[0m                                 Traceback (most recent call last)",
      "Cell \u001b[0;32mIn[107], line 1\u001b[0m\n\u001b[0;32m----> 1\u001b[0m tri_litry \u001b[38;5;241m=\u001b[39m \u001b[43mObjemovyKonvertor\u001b[49m\u001b[43m(\u001b[49m\u001b[38;5;124;43m\"\u001b[39;49m\u001b[38;5;124;43mtři\u001b[39;49m\u001b[38;5;124;43m\"\u001b[39;49m\u001b[43m)\u001b[49m\n",
      "Cell \u001b[0;32mIn[104], line 6\u001b[0m, in \u001b[0;36mObjemovyKonvertor.__init__\u001b[0;34m(self, litr)\u001b[0m\n\u001b[1;32m      4\u001b[0m \u001b[38;5;28mself\u001b[39m\u001b[38;5;241m.\u001b[39mlitr \u001b[38;5;241m=\u001b[39m litr\n\u001b[1;32m      5\u001b[0m \u001b[38;5;28mself\u001b[39m\u001b[38;5;241m.\u001b[39mkoeficient_pinta \u001b[38;5;241m=\u001b[39m \u001b[38;5;241m1.7598\u001b[39m\n\u001b[0;32m----> 6\u001b[0m \u001b[38;5;28mself\u001b[39m\u001b[38;5;241m.\u001b[39mna_pinty \u001b[38;5;241m=\u001b[39m \u001b[38;5;28;43mself\u001b[39;49m\u001b[38;5;241;43m.\u001b[39;49m\u001b[43mlitr\u001b[49m\u001b[43m \u001b[49m\u001b[38;5;241;43m*\u001b[39;49m\u001b[43m \u001b[49m\u001b[38;5;28;43mself\u001b[39;49m\u001b[38;5;241;43m.\u001b[39;49m\u001b[43mkoeficient_pinta\u001b[49m\n",
      "\u001b[0;31mTypeError\u001b[0m: can't multiply sequence by non-int of type 'float'"
     ]
    }
   ],
   "source": [
    "tri_litry = ObjemovyKonvertor(\"tři\")"
   ]
  },
  {
   "cell_type": "markdown",
   "metadata": {},
   "source": [
    "<br>\n",
    "\n",
    "Případně pokud potřebuješ přepočet takové instance, *interpret* nebude na tvoji úpravu reagovat:"
   ]
  },
  {
   "cell_type": "code",
   "execution_count": 108,
   "metadata": {},
   "outputs": [],
   "source": [
    "dva_litry.litr = 3"
   ]
  },
  {
   "cell_type": "code",
   "execution_count": 109,
   "metadata": {
    "tags": []
   },
   "outputs": [
    {
     "data": {
      "text/plain": [
       "3.5196"
      ]
     },
     "execution_count": 109,
     "metadata": {},
     "output_type": "execute_result"
    }
   ],
   "source": [
    "dva_litry.na_pinty"
   ]
  },
  {
   "cell_type": "code",
   "execution_count": 110,
   "metadata": {
    "tags": []
   },
   "outputs": [
    {
     "data": {
      "text/plain": [
       "3"
      ]
     },
     "execution_count": 110,
     "metadata": {},
     "output_type": "execute_result"
    }
   ],
   "source": [
    "dva_litry.litr"
   ]
  },
  {
   "cell_type": "markdown",
   "metadata": {},
   "source": [
    "<br>\n",
    "\n",
    "*Intepret* v takovém případě pracuje z první hodnotou, kterou dostal při instancování.\n",
    "\n",
    "Následná změna má vliv pouze na instanční atribut `litr` nikoliv na již dříve nachystaný `pinta`."
   ]
  },
  {
   "cell_type": "code",
   "execution_count": null,
   "metadata": {},
   "outputs": [],
   "source": []
  },
  {
   "cell_type": "markdown",
   "metadata": {},
   "source": [
    "### Řešení pomocí metody"
   ]
  },
  {
   "cell_type": "markdown",
   "metadata": {},
   "source": [
    "Tvoje první reakce může být doplnění vhodné metody.\n",
    "\n",
    "Tady je situace samozřejmě schůdná, ale musíš rozbít stávající zápis.\n",
    "\n",
    "Resp. každý kdo s takovým skriptem pracuje, bude mít zápis rozházený:"
   ]
  },
  {
   "cell_type": "code",
   "execution_count": 111,
   "metadata": {
    "tags": []
   },
   "outputs": [],
   "source": [
    "class ObjemovyKonvertor:\n",
    "\n",
    "    def __init__(self, litr: int):\n",
    "        self.litr = litr\n",
    "        self.koeficient_pinta = 1.7598\n",
    "        \n",
    "    def na_pinty(self):\n",
    "        return self.litr * self.koeficient_pinta"
   ]
  },
  {
   "cell_type": "code",
   "execution_count": 112,
   "metadata": {
    "tags": []
   },
   "outputs": [
    {
     "data": {
      "text/plain": [
       "<bound method ObjemovyKonvertor.na_pinty of <__main__.ObjemovyKonvertor object at 0x7fa17409de50>>"
      ]
     },
     "execution_count": 112,
     "metadata": {},
     "output_type": "execute_result"
    }
   ],
   "source": [
    "dva_litry = ObjemovyKonvertor(2)\n",
    "dva_litry.na_pinty"
   ]
  },
  {
   "cell_type": "markdown",
   "metadata": {},
   "source": [
    "<br>\n",
    "\n",
    "Všude, kde uživatel pracoval s instancemi a atributy, bude muset najednou upravovat zápis:"
   ]
  },
  {
   "cell_type": "code",
   "execution_count": 113,
   "metadata": {
    "tags": []
   },
   "outputs": [
    {
     "data": {
      "text/plain": [
       "3.5196"
      ]
     },
     "execution_count": 113,
     "metadata": {},
     "output_type": "execute_result"
    }
   ],
   "source": [
    "dva_litry = ObjemovyKonvertor(2)\n",
    "dva_litry.na_pinty()"
   ]
  },
  {
   "cell_type": "code",
   "execution_count": 114,
   "metadata": {},
   "outputs": [],
   "source": [
    "dva_litry.litr = 5"
   ]
  },
  {
   "cell_type": "code",
   "execution_count": 115,
   "metadata": {
    "tags": []
   },
   "outputs": [
    {
     "data": {
      "text/plain": [
       "8.799"
      ]
     },
     "execution_count": 115,
     "metadata": {},
     "output_type": "execute_result"
    }
   ],
   "source": [
    "dva_litry.na_pinty()"
   ]
  },
  {
   "cell_type": "markdown",
   "metadata": {},
   "source": [
    "### Řešení pomocí funkce `property`\n",
    "\n",
    "---\n",
    "\n",
    "V jiných jazycích takhle uživatelé sahají ihned po:\n",
    "1. `setter`,\n",
    "2. `getter`,\n",
    "3. `deleter`.\n",
    "\n",
    "Tedy objekty, které umožní správně zasahovat a nastavovat atributy.\n",
    "\n",
    "Python v tomto ohledu nabízí několik šidítek, nejprve funkce `property`:"
   ]
  },
  {
   "cell_type": "code",
   "execution_count": 116,
   "metadata": {
    "tags": []
   },
   "outputs": [],
   "source": [
    "class ObjemovyKonvertor:\n",
    "\n",
    "    def __init__(self, litr: int):\n",
    "        self.litr = litr\n",
    "        self.__koeficient_pinta = 1.7598\n",
    "        \n",
    "    @property\n",
    "    def na_pinty(self):\n",
    "        return self.litr * self.__koeficient_pinta"
   ]
  },
  {
   "cell_type": "markdown",
   "metadata": {},
   "source": [
    "<br>\n",
    "\n",
    "Velmi zjednoduššeně vytvoříš prakticky metody, ale *interpret* ti k nim dovolí přistoupit jako k atributu."
   ]
  },
  {
   "cell_type": "code",
   "execution_count": 117,
   "metadata": {
    "tags": []
   },
   "outputs": [],
   "source": [
    "dva_litry = ObjemovyKonvertor(2)"
   ]
  },
  {
   "cell_type": "code",
   "execution_count": 118,
   "metadata": {
    "tags": []
   },
   "outputs": [
    {
     "data": {
      "text/plain": [
       "3.5196"
      ]
     },
     "execution_count": 118,
     "metadata": {},
     "output_type": "execute_result"
    }
   ],
   "source": [
    "dva_litry.na_pinty"
   ]
  },
  {
   "cell_type": "code",
   "execution_count": 119,
   "metadata": {
    "tags": []
   },
   "outputs": [
    {
     "ename": "TypeError",
     "evalue": "'float' object is not callable",
     "output_type": "error",
     "traceback": [
      "\u001b[0;31m---------------------------------------------------------------------------\u001b[0m",
      "\u001b[0;31mTypeError\u001b[0m                                 Traceback (most recent call last)",
      "Cell \u001b[0;32mIn[119], line 1\u001b[0m\n\u001b[0;32m----> 1\u001b[0m \u001b[43mdva_litry\u001b[49m\u001b[38;5;241;43m.\u001b[39;49m\u001b[43mna_pinty\u001b[49m\u001b[43m(\u001b[49m\u001b[43m)\u001b[49m\n",
      "\u001b[0;31mTypeError\u001b[0m: 'float' object is not callable"
     ]
    }
   ],
   "source": [
    "dva_litry.na_pinty()"
   ]
  },
  {
   "cell_type": "markdown",
   "metadata": {},
   "source": [
    "<br>\n",
    "\n",
    "V aktuálním zápise už **není nutné používat explicitně metodu a závorky**:"
   ]
  },
  {
   "cell_type": "code",
   "execution_count": 120,
   "metadata": {
    "tags": []
   },
   "outputs": [],
   "source": [
    "dva_litry = ObjemovyKonvertor(2)"
   ]
  },
  {
   "cell_type": "code",
   "execution_count": 121,
   "metadata": {
    "tags": []
   },
   "outputs": [],
   "source": [
    "dva_litry.litr = 3"
   ]
  },
  {
   "cell_type": "code",
   "execution_count": 122,
   "metadata": {
    "tags": []
   },
   "outputs": [
    {
     "data": {
      "text/plain": [
       "5.2794"
      ]
     },
     "execution_count": 122,
     "metadata": {},
     "output_type": "execute_result"
    }
   ],
   "source": [
    "dva_litry.na_pinty"
   ]
  },
  {
   "cell_type": "markdown",
   "metadata": {},
   "source": [
    "<br>\n",
    "\n",
    "Co když ale budeš chtít zadat přímo pinty a ty převádět na litry:"
   ]
  },
  {
   "cell_type": "code",
   "execution_count": 123,
   "metadata": {
    "tags": []
   },
   "outputs": [
    {
     "ename": "AttributeError",
     "evalue": "can't set attribute",
     "output_type": "error",
     "traceback": [
      "\u001b[0;31m---------------------------------------------------------------------------\u001b[0m",
      "\u001b[0;31mAttributeError\u001b[0m                            Traceback (most recent call last)",
      "Cell \u001b[0;32mIn[123], line 1\u001b[0m\n\u001b[0;32m----> 1\u001b[0m \u001b[43mdva_litry\u001b[49m\u001b[38;5;241;43m.\u001b[39;49m\u001b[43mna_pinty\u001b[49m \u001b[38;5;241m=\u001b[39m \u001b[38;5;241m2\u001b[39m\n",
      "\u001b[0;31mAttributeError\u001b[0m: can't set attribute"
     ]
    }
   ],
   "source": [
    "dva_litry.na_pinty = 2"
   ]
  },
  {
   "cell_type": "markdown",
   "metadata": {},
   "source": [
    "<br>\n",
    "\n",
    "*Interpret* tě nenechá zadat výraz pro atribut instance."
   ]
  },
  {
   "cell_type": "markdown",
   "metadata": {},
   "source": [
    "### Dekorátory setter, getter\n",
    "\n",
    "---"
   ]
  },
  {
   "cell_type": "markdown",
   "metadata": {},
   "source": [
    "Pokud budeš chtít zadávat zvlášť litry a zvlášť pinty, potřebuješ svoji třídu správně rozdělit:"
   ]
  },
  {
   "cell_type": "code",
   "execution_count": 124,
   "metadata": {
    "tags": []
   },
   "outputs": [],
   "source": [
    "class ObjemovyKonvertor:\n",
    "\n",
    "    def __init__(self):\n",
    "        self._litr = 0\n",
    "        self._pinta = 0\n",
    "        self.__koeficient_pinta = 1.7598\n",
    "        \n",
    "    @property\n",
    "    def pinta(self):\n",
    "        print(\"GETTER: odebírám hodnotu 'pinta'.\")\n",
    "        return self._pinta\n",
    "    \n",
    "    @property\n",
    "    def litr(self):\n",
    "        print(\"GETTER: odebírám hodnotu 'litr'.\")\n",
    "        return self._litr"
   ]
  },
  {
   "cell_type": "markdown",
   "metadata": {},
   "source": [
    "<br>\n",
    "\n",
    "Pomocí tzv. *getterů* nachystáš atributy `pinta` a `litr`, které budeš nyní použít pokaždé, když atribut vypíšeš:"
   ]
  },
  {
   "cell_type": "code",
   "execution_count": 125,
   "metadata": {
    "tags": []
   },
   "outputs": [],
   "source": [
    "prevodnik_1 = ObjemovyKonvertor()"
   ]
  },
  {
   "cell_type": "code",
   "execution_count": 126,
   "metadata": {
    "tags": []
   },
   "outputs": [
    {
     "name": "stdout",
     "output_type": "stream",
     "text": [
      "GETTER: odebírám hodnotu 'litr'.\n",
      "GETTER: odebírám hodnotu 'pinta'.\n",
      "0\n",
      "0\n"
     ]
    }
   ],
   "source": [
    "print(\n",
    "    prevodnik_1.litr,\n",
    "    prevodnik_1.pinta,\n",
    "    sep=\"\\n\"\n",
    ")"
   ]
  },
  {
   "cell_type": "markdown",
   "metadata": {},
   "source": [
    "<br>\n",
    "\n",
    "**Gettery** slouží jenom k dotazování a je potřeba je označit jako privátní proměnné: "
   ]
  },
  {
   "cell_type": "code",
   "execution_count": 127,
   "metadata": {
    "tags": []
   },
   "outputs": [
    {
     "ename": "AttributeError",
     "evalue": "can't set attribute",
     "output_type": "error",
     "traceback": [
      "\u001b[0;31m---------------------------------------------------------------------------\u001b[0m",
      "\u001b[0;31mAttributeError\u001b[0m                            Traceback (most recent call last)",
      "Cell \u001b[0;32mIn[127], line 1\u001b[0m\n\u001b[0;32m----> 1\u001b[0m \u001b[43mprevodnik_1\u001b[49m\u001b[38;5;241;43m.\u001b[39;49m\u001b[43mlitr\u001b[49m \u001b[38;5;241m=\u001b[39m \u001b[38;5;241m2\u001b[39m\n",
      "\u001b[0;31mAttributeError\u001b[0m: can't set attribute"
     ]
    }
   ],
   "source": [
    "prevodnik_1.litr = 2"
   ]
  },
  {
   "cell_type": "markdown",
   "metadata": {},
   "source": [
    "<br>\n",
    "\n",
    "Ať můžeš pohodlně měnit hodnoty atributů, potřebuješ nastavit dekorátor `setter`:"
   ]
  },
  {
   "cell_type": "code",
   "execution_count": 128,
   "metadata": {
    "tags": []
   },
   "outputs": [],
   "source": [
    "class ObjemovyKonvertor:\n",
    "\n",
    "    def __init__(self):\n",
    "        self._litr = 0\n",
    "        self._pinta = 0\n",
    "        self.__koeficient_pinta = 1.7598\n",
    "        \n",
    "    @property\n",
    "    def pinta(self):\n",
    "        print(\"GETTER: odebírám hodnotu 'pinta'.\")\n",
    "        return self._pinta\n",
    "    \n",
    "    \n",
    "    @property\n",
    "    def litr(self):\n",
    "        print(\"GETTER: odebírám hodnotu 'litr'.\")\n",
    "        return self._litr\n",
    "    \n",
    "    \n",
    "    @pinta.setter\n",
    "    def pinta(self, hodnota: float):\n",
    "        print(\"SETTER: nastavuji hodnotu 'pinta'.\")\n",
    "        self._pinta = hodnota\n",
    "        \n",
    "    @litr.setter\n",
    "    def litr(self, hodnota: float):\n",
    "        print(\"SETTER: nastavuji hodnotu 'litr'.\")\n",
    "        self._litr = hodnota"
   ]
  },
  {
   "cell_type": "code",
   "execution_count": 129,
   "metadata": {
    "tags": []
   },
   "outputs": [],
   "source": [
    "prevodnik_1 = ObjemovyKonvertor()"
   ]
  },
  {
   "cell_type": "code",
   "execution_count": 130,
   "metadata": {
    "tags": []
   },
   "outputs": [
    {
     "name": "stdout",
     "output_type": "stream",
     "text": [
      "GETTER: odebírám hodnotu 'litr'.\n",
      "0\n"
     ]
    }
   ],
   "source": [
    "print(prevodnik_1.litr)"
   ]
  },
  {
   "cell_type": "code",
   "execution_count": 131,
   "metadata": {
    "tags": []
   },
   "outputs": [
    {
     "name": "stdout",
     "output_type": "stream",
     "text": [
      "SETTER: nastavuji hodnotu 'litr'.\n"
     ]
    }
   ],
   "source": [
    "prevodnik_1.litr = 2"
   ]
  },
  {
   "cell_type": "code",
   "execution_count": 132,
   "metadata": {
    "tags": []
   },
   "outputs": [
    {
     "name": "stdout",
     "output_type": "stream",
     "text": [
      "SETTER: nastavuji hodnotu 'pinta'.\n"
     ]
    }
   ],
   "source": [
    "prevodnik_1.pinta = 2"
   ]
  },
  {
   "cell_type": "code",
   "execution_count": null,
   "metadata": {
    "tags": []
   },
   "outputs": [],
   "source": [
    "print(prevodnik_1.litr)"
   ]
  },
  {
   "cell_type": "markdown",
   "metadata": {},
   "source": [
    "<br>\n",
    "\n",
    "Teď když můžeš elegantně zadávat jak pinty, tak litry, můžeš doplnit metody pro přepočty:"
   ]
  },
  {
   "cell_type": "code",
   "execution_count": 135,
   "metadata": {
    "tags": []
   },
   "outputs": [],
   "source": [
    "class ObjemovyKonvertor:\n",
    "\n",
    "    def __init__(self):\n",
    "        self._litr = 0\n",
    "        self._pinta = 0\n",
    "        self.__koeficient_pinta = 1.7598\n",
    "        \n",
    "    @property\n",
    "    def pinta(self):\n",
    "        print(\"GETTER: odebírám hodnotu 'pinta'.\")\n",
    "        return self._pinta\n",
    "    \n",
    "    @property\n",
    "    def litr(self):\n",
    "        print(\"GETTER: odebírám hodnotu 'litr'.\")\n",
    "        return self._litr\n",
    "    \n",
    "    @pinta.setter\n",
    "    def pinta(self, hodnota: float):\n",
    "        print(\"SETTER: nastavuji hodnotu 'pinta'.\")\n",
    "        self._pinta = hodnota\n",
    "        \n",
    "    @litr.setter\n",
    "    def litr(self, hodnota: float):\n",
    "        print(\"SETTER: nastavuji hodnotu 'litr'.\")\n",
    "        self._litr = hodnota\n",
    "        \n",
    "    def na_pinty(self):\n",
    "        if self._litr:\n",
    "            return self.__koeficient_pinta * self._litr  # round()\n",
    "        else:\n",
    "            print(\"Nenastavená hodnota pro 'litr'\")\n",
    "    \n",
    "    def na_litry(self):\n",
    "        if self._pinta:\n",
    "            return self._pinta / self.__koeficient_pinta  # round()\n",
    "        else:\n",
    "            print(\"Nenastavená hodnota pro 'pinta'\")"
   ]
  },
  {
   "cell_type": "code",
   "execution_count": 136,
   "metadata": {
    "tags": []
   },
   "outputs": [],
   "source": [
    "prevodnik_1 = ObjemovyKonvertor()"
   ]
  },
  {
   "cell_type": "code",
   "execution_count": 137,
   "metadata": {
    "tags": []
   },
   "outputs": [
    {
     "name": "stdout",
     "output_type": "stream",
     "text": [
      "Nenastavená hodnota pro 'litr'\n"
     ]
    }
   ],
   "source": [
    "prevodnik_1.na_pinty()"
   ]
  },
  {
   "cell_type": "code",
   "execution_count": 138,
   "metadata": {
    "tags": []
   },
   "outputs": [
    {
     "name": "stdout",
     "output_type": "stream",
     "text": [
      "GETTER: odebírám hodnotu 'litr'.\n"
     ]
    },
    {
     "data": {
      "text/plain": [
       "0"
      ]
     },
     "execution_count": 138,
     "metadata": {},
     "output_type": "execute_result"
    }
   ],
   "source": [
    "prevodnik_1.litr"
   ]
  },
  {
   "cell_type": "code",
   "execution_count": 139,
   "metadata": {
    "tags": []
   },
   "outputs": [
    {
     "name": "stdout",
     "output_type": "stream",
     "text": [
      "SETTER: nastavuji hodnotu 'litr'.\n"
     ]
    }
   ],
   "source": [
    "prevodnik_1.litr = 3"
   ]
  },
  {
   "cell_type": "code",
   "execution_count": 140,
   "metadata": {
    "tags": []
   },
   "outputs": [
    {
     "name": "stdout",
     "output_type": "stream",
     "text": [
      "GETTER: odebírám hodnotu 'litr'.\n"
     ]
    },
    {
     "data": {
      "text/plain": [
       "3"
      ]
     },
     "execution_count": 140,
     "metadata": {},
     "output_type": "execute_result"
    }
   ],
   "source": [
    "prevodnik_1.litr"
   ]
  },
  {
   "cell_type": "code",
   "execution_count": 141,
   "metadata": {
    "tags": []
   },
   "outputs": [
    {
     "data": {
      "text/plain": [
       "5.2794"
      ]
     },
     "execution_count": 141,
     "metadata": {},
     "output_type": "execute_result"
    }
   ],
   "source": [
    "prevodnik_1.na_pinty()"
   ]
  },
  {
   "cell_type": "code",
   "execution_count": 142,
   "metadata": {
    "tags": []
   },
   "outputs": [
    {
     "name": "stdout",
     "output_type": "stream",
     "text": [
      "SETTER: nastavuji hodnotu 'pinta'.\n"
     ]
    }
   ],
   "source": [
    "prevodnik_1.pinta = 3"
   ]
  },
  {
   "cell_type": "code",
   "execution_count": 143,
   "metadata": {
    "tags": []
   },
   "outputs": [
    {
     "data": {
      "text/plain": [
       "1.7047391749062393"
      ]
     },
     "execution_count": 143,
     "metadata": {},
     "output_type": "execute_result"
    }
   ],
   "source": [
    "prevodnik_1.na_litry()"
   ]
  },
  {
   "cell_type": "markdown",
   "metadata": {},
   "source": [
    "<br>\n",
    "\n",
    "Je poměrně běžné, že v rámci `setteru` uvádíš ověřovací podmínky:"
   ]
  },
  {
   "cell_type": "code",
   "execution_count": 144,
   "metadata": {
    "tags": []
   },
   "outputs": [],
   "source": [
    "class ObjemovyKonvertor:\n",
    "\n",
    "    def __init__(self):\n",
    "        self._litr = 0\n",
    "        self._pinta = 0\n",
    "        self.__koeficient_pinta = 1.7598\n",
    "        \n",
    "    @property\n",
    "    def pinta(self):\n",
    "        print(\"GETTER: odebírám hodnotu 'pinta'.\")\n",
    "        return self._pinta\n",
    "    \n",
    "    @property\n",
    "    def litr(self):\n",
    "        print(\"GETTER: odebírám hodnotu 'litr'.\")\n",
    "        return self._litr\n",
    "    \n",
    "    @pinta.setter\n",
    "    def pinta(self, hodnota: int):\n",
    "        print(\"SETTER: nastavuji hodnotu 'pinta'.\")\n",
    "        \n",
    "        if not isinstance(hodnota, int):\n",
    "            print(\"Špatný datový typ pro 'pinta'\")\n",
    "        else:\n",
    "            self._pinta = hodnota\n",
    "        \n",
    "    @litr.setter\n",
    "    def litr(self, hodnota: int):\n",
    "        print(\"SETTER: nastavuji hodnotu 'litr'.\")\n",
    "        \n",
    "        if not isinstance(hodnota, int):\n",
    "            print(\"Špatný datový typ pro 'litr'\")\n",
    "        else:\n",
    "            self._litr = hodnota\n",
    "        \n",
    "    def na_pinty(self):\n",
    "        if self._litr > 0:\n",
    "            return self.__koeficient_pinta * self._litr\n",
    "        else:\n",
    "            print(\"Nenastavená hodnota pro 'litr'\")\n",
    "    \n",
    "    def na_litry(self):\n",
    "        if self._pinta > 0:\n",
    "            return self._pinta / self.__koeficient_pinta \n",
    "        else:\n",
    "            print(\"Nenastavená hodnota pro 'pinta'\")"
   ]
  },
  {
   "cell_type": "code",
   "execution_count": 145,
   "metadata": {
    "tags": []
   },
   "outputs": [],
   "source": [
    "prevodnik_1 = ObjemovyKonvertor()"
   ]
  },
  {
   "cell_type": "code",
   "execution_count": 146,
   "metadata": {
    "tags": []
   },
   "outputs": [
    {
     "name": "stdout",
     "output_type": "stream",
     "text": [
      "SETTER: nastavuji hodnotu 'litr'.\n",
      "Špatný datový typ pro 'litr'\n"
     ]
    }
   ],
   "source": [
    "prevodnik_1.litr = \"5\""
   ]
  },
  {
   "cell_type": "code",
   "execution_count": null,
   "metadata": {
    "tags": []
   },
   "outputs": [],
   "source": [
    "prevodnik_1.litr"
   ]
  },
  {
   "cell_type": "code",
   "execution_count": 147,
   "metadata": {
    "tags": []
   },
   "outputs": [
    {
     "name": "stdout",
     "output_type": "stream",
     "text": [
      "SETTER: nastavuji hodnotu 'litr'.\n"
     ]
    }
   ],
   "source": [
    "prevodnik_1.litr = 5"
   ]
  },
  {
   "cell_type": "code",
   "execution_count": 148,
   "metadata": {
    "tags": []
   },
   "outputs": [
    {
     "data": {
      "text/plain": [
       "8.799"
      ]
     },
     "execution_count": 148,
     "metadata": {},
     "output_type": "execute_result"
    }
   ],
   "source": [
    "prevodnik_1.na_pinty()"
   ]
  },
  {
   "cell_type": "markdown",
   "metadata": {
    "tags": []
   },
   "source": [
    "<br>\n",
    "\n",
    "Podobným způsobem můžeš definovat také dekorátor `deleter`, který hodnotu odstraní:\n",
    "```python\n",
    "    @litr.deleter\n",
    "    def litr(self):\n",
    "        del self._litr\n",
    "\n",
    "```"
   ]
  },
  {
   "cell_type": "code",
   "execution_count": null,
   "metadata": {},
   "outputs": [],
   "source": []
  },
  {
   "cell_type": "markdown",
   "metadata": {},
   "source": [
    "<br>\n",
    "\n",
    "### 🧠 CVIČENÍ 🧠, Vytvoř třídu `Plocha`, která bude tvořena následovným:\n",
    "---"
   ]
  },
  {
   "cell_type": "markdown",
   "metadata": {},
   "source": [
    "- Definuj třídu `Plocha`,\n",
    "- vytvoř instanční konstruktor, který nepotřebuje parametry,\n",
    "- instanční konstruktor udává pouze privátní atribut `self._prumer_cm` nastavený na nulu,\n",
    "- vytvoř metodu getter (pomocí dekorátoru),\n",
    "- vytvoř metodu setter (pomocí dekorátoru), která ověří, že zadaný parametr `hodnota` je buď `int` nebo `float`,\n",
    "- vytvoř metodu `vypocitej_plochu_kruhu`, která pomocí konstanty `math.pi` (z knihovny `math`) vrátí plochu kruhu,\n",
    "- vytvoř statickou metodu `vypocitej_obvod_kruhu`, která za pomoci parametru `polomer` vrátí obvod kružnice,\n",
    "- vytvoř magickou metodu `__str__`, která naformátuje výstup do stringu: `Kruh s průměrem: <polomer>, plochou: <plocha>.`"
   ]
  },
  {
   "cell_type": "code",
   "execution_count": 157,
   "metadata": {},
   "outputs": [],
   "source": [
    "import math"
   ]
  },
  {
   "cell_type": "code",
   "execution_count": 150,
   "metadata": {},
   "outputs": [],
   "source": [
    "class Plocha:\n",
    "    \n",
    "    def __init__(self):\n",
    "        self._prumer_cm = 0\n",
    "    \n",
    "    @property\n",
    "    def prumer_cm(self):  # getter\n",
    "        return self._prumer_cm\n",
    "\n",
    "    @prumer_cm.setter     # setter\n",
    "    def prumer_cm(self, hodnota: int):\n",
    "        if isinstance(hodnota, int) or isinstance(hodnota, float):\n",
    "            # isinstance(hodnota, (int, float))\n",
    "            self._prumer_cm = hodnota\n",
    "        else:\n",
    "            print(\"Špatný datový typ pro 'prumer_cm'\")\n",
    "    \n",
    "    def vypocitej_plochu_kruhu(self):\n",
    "        return math.pi * (self._prumer_cm ** 2)\n",
    "\n",
    "    @staticmethod\n",
    "    def vypocitej_obvod_kruhu(polomer):\n",
    "        return 2 * math.pi * polomer\n",
    "\n",
    "    def __str__(self) -> str: # Kruh s průměrem: <polomer>, plochou: <plocha>.\n",
    "        return f\"Kruh s průměrem:  {self._prumer_cm}, plochou {self.vypocitej_plochu_kruhu()}\""
   ]
  },
  {
   "cell_type": "code",
   "execution_count": 151,
   "metadata": {
    "tags": []
   },
   "outputs": [],
   "source": [
    "p1 = Plocha()"
   ]
  },
  {
   "cell_type": "code",
   "execution_count": 153,
   "metadata": {
    "tags": []
   },
   "outputs": [],
   "source": [
    "p1.prumer_cm = 10"
   ]
  },
  {
   "cell_type": "code",
   "execution_count": 154,
   "metadata": {
    "tags": []
   },
   "outputs": [
    {
     "data": {
      "text/plain": [
       "10"
      ]
     },
     "execution_count": 154,
     "metadata": {},
     "output_type": "execute_result"
    }
   ],
   "source": [
    "p1.prumer_cm"
   ]
  },
  {
   "cell_type": "code",
   "execution_count": 155,
   "metadata": {
    "tags": []
   },
   "outputs": [
    {
     "name": "stdout",
     "output_type": "stream",
     "text": [
      "Špatný datový typ pro 'prumer_cm'\n"
     ]
    }
   ],
   "source": [
    "p1.prumer_cm = \"10\""
   ]
  },
  {
   "cell_type": "code",
   "execution_count": 158,
   "metadata": {
    "tags": []
   },
   "outputs": [
    {
     "name": "stdout",
     "output_type": "stream",
     "text": [
      "Kruh s průměrem:  10, plochou 314.1592653589793\n"
     ]
    }
   ],
   "source": [
    "print(p1)"
   ]
  },
  {
   "cell_type": "markdown",
   "metadata": {},
   "source": [
    "<details>\n",
    "    <summary>▶️ Řešení</summary>\n",
    "    \n",
    "    ```\n",
    "    class Plocha:\n",
    "        def __init__(self):\n",
    "            self._prumer_cm = 0.0\n",
    "\n",
    "        @property\n",
    "        def prumer_cm(self):\n",
    "            return self._prumer_cm\n",
    "\n",
    "        @prumer_cm.setter\n",
    "        def prumer_cm(self, hodnota: float):\n",
    "            if not isinstance(hodnota, (float, int)):\n",
    "                print(\"Atribut 'hodnota' není číselný datový typ.\")\n",
    "            else:\n",
    "                self._prumer_cm = hodnota\n",
    "\n",
    "        def vypocitej_plochu_kruhu(self) -> float:\n",
    "            return math.pi * (self._prumer_cm ** 2)\n",
    "\n",
    "        @staticmethod\n",
    "        def vypocitej_obvod_kruhu(polomer) -> float:\n",
    "            return 2 * math.pi * polomer\n",
    "\n",
    "        def __str__(self) -> str:\n",
    "            return f\"Kruh s průměrem: {self._prumer_cm}, plochou: {self.vypocitej_plochu_kruhu()}.\"\n",
    "    ```\n",
    "</details>"
   ]
  },
  {
   "cell_type": "markdown",
   "metadata": {
    "tags": []
   },
   "source": [
    "<br>\n",
    "\n",
    "### 🧠 CVIČENÍ 🧠, Vytvoř třídu `KindleNoteProcessor`, `TxtParser` a `KindleNot` která bude tvořena následovným:\n",
    "---\n",
    "\n",
    "- vytvoř třídu `KindleNoteProcessor`,\n",
    "- instanční konstruktor obsahuje parametry `notes` (prázdný list) a `\n",
    "\n"
   ]
  },
  {
   "cell_type": "code",
   "execution_count": null,
   "metadata": {},
   "outputs": [],
   "source": []
  },
  {
   "cell_type": "code",
   "execution_count": null,
   "metadata": {},
   "outputs": [],
   "source": [
    "text = \"\"\"\n",
    "==========\n",
    "Faktomluva (Hans Rosling;Ola Rosling;Anna Roslingová Rönnlundová)\n",
    "- Your Highlight on Location 2724-2728 | Added on Wednesday, July 24, 2019 8:41:27 AM\n",
    "\n",
    "Největším orgánem našeho těla je kůže. Před objevem moderních léků patřila k nejhorším kožním nemocem syfilis. Začínala jako svědivé vřídky a pak si prokousala cestu do kostí, až postihla celou kostru. Nemoc způsobující ohavný vzhled a nesnesitelnou bolest měla v různých zemích různá jména. V Rusku chorobě říkali „polská nemoc“. V Polsku to byla „německá nemoc“, v Německu „francouzská nemoc“ a ve Francii „italská nemoc“. Italové vinu házeli zpátky a nazývali ji „francouzská nemoc“.\n",
    "==========\n",
    "Life Is What You Make It (Peter Buffett)\n",
    "- Your Highlight on Location 233-234 | Added on Monday, August 19, 2019 2:07:48 PM\n",
    "\n",
    "The problem with honoring the rewards of work rather than the work itself is that the rewards can always be taken away.\n",
    "==========\n",
    "Elon Musk (Ashlee Vance)\n",
    "- Your Highlight on page 127 | location 1943-1944 | Added on Thursday, 31 May 2018 19:38:29\n",
    "\n",
    "v oblasti rovníku, kde se planeta otáčí rychleji a pomáhá raketám v letu.\n",
    "==========\n",
    "Linux Pocket Guide, 3E (Daniel J. Barrett)\n",
    "- Your Highlight on Location 2310-2314 | Added on Monday, February 18, 2019 10:09:26 AM\n",
    "\n",
    "Viewing Processes ps List process. uptime View the system load. w List active processes for all users. top Monitor resource-intensive processes interactively. free Display free memory.\n",
    "==========\n",
    "Introducing Python (Bill Lubanovic)\n",
    "- Your Highlight on Location 6170-6171 | Added on Wednesday, June 26, 2019 10:18:02 AM\n",
    "\n",
    "Do not set debug = True in production web servers. It exposes too much information about your server to potential intruders.\n",
    "==========\n",
    "\"\"\""
   ]
  },
  {
   "cell_type": "code",
   "execution_count": null,
   "metadata": {},
   "outputs": [],
   "source": [
    "# rozděl zadaný text pomocí definovaného oddělovače\n",
    "txt = TxtParser(text)\n",
    "txt.separator = \"==========\\n\"\n",
    "\n",
    "# zpracuj rozdělený text na jednotlivé atributy\n",
    "app = KindleNoteProcessor()\n",
    "app.parsed_txt = txt.split_text_into_lines()\n",
    "\n",
    "# zapiš všechny poznámky\n",
    "app.create_all_notes()"
   ]
  },
  {
   "cell_type": "markdown",
   "metadata": {},
   "source": [
    "<details>\n",
    "    <summary>▶️ Řešení</summary>\n",
    "    \n",
    "    ```\n",
    "    import logging\n",
    "    from typing import List, Dict\n",
    "\n",
    "\n",
    "    class KindleNoteProcessor:\n",
    "        \"\"\"Process the .txt file and create new notes.\"\"\"\n",
    "\n",
    "        def __init__(self, parsed_txt: list = []):\n",
    "            self.notes: list = []\n",
    "            self.parsed_txt = parsed_txt\n",
    "\n",
    "            fmt=\"[%(levelname)s] %(asctime)s - %(message)s\"\n",
    "            logging.basicConfig(level=logging.DEBUG, format=fmt)\n",
    "\n",
    "        @property\n",
    "        def parsed_txt(self) -> str:\n",
    "            return self._parsed_txt\n",
    "\n",
    "        @parsed_txt.setter\n",
    "        def parsed_txt(self, text: List[Dict[str, str]]) -> List[Dict[str, str]]:\n",
    "            if not isinstance(text, list):\n",
    "                raise ValueError(\"Cannot process empty obj. str\")\n",
    "            self._parsed_txt = text\n",
    "\n",
    "        def create_note(self, attrs: dict):\n",
    "            self.notes.append(\n",
    "                KindleNote(\n",
    "                    title=attrs.get(\"title\"),\n",
    "                    author=attrs.get(\"author\"),\n",
    "                    loc=attrs.get(\"location\"),\n",
    "                    desc=attrs.get(\"description\"),\n",
    "                    date=attrs.get(\"date\"),\n",
    "                )\n",
    "            )\n",
    "\n",
    "        def create_all_notes(self) -> None:\n",
    "            for note in self._parsed_txt:\n",
    "                if len(note.keys()) == 5:\n",
    "                    logging.info(f\"Note added {note['title']}..\")\n",
    "                    self.create_note(note)\n",
    "\n",
    "\n",
    "    class TxtParser:\n",
    "        \"\"\"Parse the data from the given .txt file.\"\"\"\n",
    "\n",
    "        def __init__(self, text, separator = \"\"):\n",
    "            self.text = text\n",
    "            self.separator = separator\n",
    "\n",
    "        @property\n",
    "        def separator(self) -> str:\n",
    "            return self._separator\n",
    "\n",
    "        @separator.setter\n",
    "        def separator(self, sep: str):\n",
    "            if not isinstance(sep, str):\n",
    "                raise ValueError(\"Separator attribute has to be type 'str'.\")\n",
    "            self._separator = sep\n",
    "\n",
    "        def split_text_into_lines(self) -> List[str]:\n",
    "            \"\"\"Split .txt file into individual parsed notes.\"\"\"\n",
    "            return [\n",
    "                self.process_note_content(note.splitlines())\n",
    "                for note in self.text.split(self.separator)\n",
    "                if note\n",
    "            ]\n",
    "\n",
    "        @staticmethod\n",
    "        def process_note_content(note: List[str]) -> Dict[str, str]:\n",
    "            \"\"\"Try to select attributes title, date and description.\"\"\"\n",
    "            try:\n",
    "                title_line: str = note[0]\n",
    "                location_line: str = note[1]\n",
    "                description: str = note[3]\n",
    "\n",
    "            except IndexError:\n",
    "                results: dict = {}\n",
    "            else:\n",
    "                title, author = note[0].split(\" (\", maxsplit=1)\n",
    "                location, date = note[1].split(\"|\", maxsplit=1)\n",
    "                results: dict = {\n",
    "                    \"date\": date,\n",
    "                    \"title\": title,\n",
    "                    \"location\": location,\n",
    "                    \"description\": description,\n",
    "                    \"author\": author.rstrip(\")\"),\n",
    "                }\n",
    "            finally:\n",
    "                return results\n",
    "\n",
    "\n",
    "    class KindleNote:\n",
    "        \"\"\"Create a note with proper attributes.\"\"\"\n",
    "\n",
    "        def __init__(self, title: str, loc: str, desc: str, date: str, author: str):\n",
    "            self.desc = desc\n",
    "            self.date = date\n",
    "            self.title = title\n",
    "            self.location = loc\n",
    "            self.author = author\n",
    "\n",
    "        def __repr__(self) -> str:\n",
    "            return str(self.title)\n",
    "    ```\n",
    "</details>"
   ]
  },
  {
   "cell_type": "markdown",
   "metadata": {},
   "source": [
    "---"
   ]
  }
 ],
 "metadata": {
  "kernelspec": {
   "display_name": "Python 3 (ipykernel)",
   "language": "python",
   "name": "python3"
  },
  "language_info": {
   "codemirror_mode": {
    "name": "ipython",
    "version": 3
   },
   "file_extension": ".py",
   "mimetype": "text/x-python",
   "name": "python",
   "nbconvert_exporter": "python",
   "pygments_lexer": "ipython3",
   "version": "3.8.10"
  }
 },
 "nbformat": 4,
 "nbformat_minor": 4
}
