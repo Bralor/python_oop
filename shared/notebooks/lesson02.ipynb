{
 "cells": [
  {
   "cell_type": "markdown",
   "metadata": {},
   "source": [
    "# Python objektově orientované programování\n",
    "\n",
    "---"
   ]
  },
  {
   "cell_type": "markdown",
   "metadata": {},
   "source": [
    "1. [Rozdělení metod](#Metody-v-OOP),\n",
    "    - [statická metoda](#Statická-metoda),\n",
    "    - [třídní metoda](#Třídní-metoda),\n",
    "2. [podtržítka v Pythonu](#Funkce-podtržítek-v-Pythonu),\n",
    "    - [poslední výraz & přeskoč výraz](#Poslední-výraz),\n",
    "    - [privátní proměnné](#Privátní-proměnná-(~weak-private)),\n",
    "    - [chráněné proměnné](#Chráněná-proměnná-(~strong-private)),\n",
    "    - [přepis klíčového slova](#Přepis-klíčového-pojmu),\n",
    "    - [magická metoda](#Magické-metody)."
   ]
  },
  {
   "cell_type": "markdown",
   "metadata": {},
   "source": [
    "<img src=\"https://external-content.duckduckgo.com/iu/?u=https%3A%2F%2Ftse1.mm.bing.net%2Fth%3Fid%3DOIP.6MU4ScqH-1D93XRpyEYF4AHaHa%26pid%3DApi&f=1&ipt=03e1caf2482e1b90758340dcb676d181c012a20af163e9308f80f29ae4f6cc27&ipo=images\" width=\"250\" style=\"margin-left:auto; margin-right:auto\"/>"
   ]
  },
  {
   "cell_type": "markdown",
   "metadata": {},
   "source": [
    "## Metody v OOP\n",
    "\n",
    "---\n",
    "**Klasickou metodu** (nebo také *instanční metodu*) můžeš popsat jak *uživatelskou funkci*.."
   ]
  },
  {
   "cell_type": "code",
   "execution_count": null,
   "metadata": {
    "tags": []
   },
   "outputs": [],
   "source": [
    "class Zamestnanec:\n",
    "    \n",
    "    def __init__(self, jmeno: str, prijmeni: str):\n",
    "        self.jmeno = jmeno\n",
    "        self.prijmeni = prijmeni\n",
    "        \n",
    "    def vytvor_cele_jmeno(self) -> str:\n",
    "        return f\"{self.jmeno} {self.prijmeni}\""
   ]
  },
  {
   "cell_type": "markdown",
   "metadata": {},
   "source": [
    "<br>\n",
    "\n",
    "...která patří nebo také náleží **třídě samotné**.\n",
    "\n",
    "Není tedy možné, pracovat s *instanční metodou* jako se samostatnou funkcí:"
   ]
  },
  {
   "cell_type": "code",
   "execution_count": null,
   "metadata": {
    "tags": []
   },
   "outputs": [],
   "source": [
    "vytvor_cele_jmeno()"
   ]
  },
  {
   "cell_type": "code",
   "execution_count": null,
   "metadata": {
    "tags": []
   },
   "outputs": [],
   "source": [
    "matous = Zamestnanec(\"Matouš\", \"Holinka\")"
   ]
  },
  {
   "cell_type": "code",
   "execution_count": null,
   "metadata": {
    "tags": []
   },
   "outputs": [],
   "source": [
    "matous.vytvor_cele_jmeno()"
   ]
  },
  {
   "cell_type": "markdown",
   "metadata": {},
   "source": [
    "<br>\n",
    "\n",
    "Metoda, která má mj. mezi parametry klíčový výraz `self`.\n",
    "\n",
    "Tím dovede zpřístupnit jak třídu (a její *atributy*), tak *instance*:"
   ]
  },
  {
   "cell_type": "code",
   "execution_count": null,
   "metadata": {
    "tags": []
   },
   "outputs": [],
   "source": [
    "matous.cislo_zamestnance"
   ]
  },
  {
   "cell_type": "code",
   "execution_count": null,
   "metadata": {
    "tags": []
   },
   "outputs": [],
   "source": [
    "matous.jmeno"
   ]
  },
  {
   "cell_type": "code",
   "execution_count": null,
   "metadata": {
    "tags": []
   },
   "outputs": [],
   "source": [
    "Zamestnanec.cislo_zamestnance"
   ]
  },
  {
   "cell_type": "markdown",
   "metadata": {},
   "source": [
    "<br>\n",
    "\n",
    "Zápis metod se může ovšem lišit.\n",
    "\n",
    "Existuje několik variant použití metod:\n",
    "1. **Klasická** metoda,\n",
    "2. **statická** metoda,\n",
    "3. **třídní** metoda."
   ]
  },
  {
   "cell_type": "markdown",
   "metadata": {},
   "source": [
    "<br>\n",
    "\n",
    "### Statická metoda\n",
    "\n",
    "---"
   ]
  },
  {
   "cell_type": "markdown",
   "metadata": {},
   "source": [
    "Ovšem ne nutně každá metoda, musí patřit nějaké třídě:"
   ]
  },
  {
   "cell_type": "code",
   "execution_count": null,
   "metadata": {
    "tags": []
   },
   "outputs": [],
   "source": [
    "class GeneratorTextovehoSouboru:\n",
    "    def __init__(self, jmeno_souboru: str):\n",
    "        self.jmeno_souboru = jmeno_souboru\n",
    "        self.obsah_souboru = list()\n",
    "\n",
    "    def spoj_zadany_obsah(self, spojovac: str = '-', *obsah) -> str:\n",
    "        return spojovac.join(obsah)"
   ]
  },
  {
   "cell_type": "markdown",
   "metadata": {},
   "source": [
    "V takovém případě je zbytečné, uvádět parametr `self`, protože se v metodě `spoj_zadany_obsah` nikde nevyskytuje."
   ]
  },
  {
   "cell_type": "markdown",
   "metadata": {},
   "source": [
    "Potom je dobré, položit si dvě jednoduché otázky:\n",
    "1. **Je nutné, aby byla součástí třídy?**\n",
    "2. **Kam mám správně takovou metodu napsat?**\n",
    "\n",
    "<br>"
   ]
  },
  {
   "cell_type": "markdown",
   "metadata": {},
   "source": [
    "#### Umístění metody mimo třídu\n",
    "\n",
    "---"
   ]
  },
  {
   "cell_type": "markdown",
   "metadata": {},
   "source": [
    "Pokud jde o takový *objekt*, který může posloužit na **různých třídách** nebo **modulech**, vytáhni *metodu* mimo *třídu*.\n",
    "\n",
    "Je vhodnější udělat z něj samostatnou *uživatelskou funkci*:"
   ]
  },
  {
   "cell_type": "code",
   "execution_count": null,
   "metadata": {
    "tags": []
   },
   "outputs": [],
   "source": [
    "def spoj_zadany_obsah(*obsah, spojovac: str = '-') -> str:\n",
    "    return spojovac.join(obsah)\n",
    "\n",
    "\n",
    "class GeneratorTextovehoSouboru:\n",
    "    def __init__(self, jmeno_souboru: str):\n",
    "        self.jmeno_souboru = jmeno_souboru\n",
    "        self.obsah_souboru = list()"
   ]
  },
  {
   "cell_type": "code",
   "execution_count": null,
   "metadata": {
    "tags": []
   },
   "outputs": [],
   "source": [
    "muj_txt_soubor = GeneratorTextovehoSouboru(\"muj_soubor.txt\")"
   ]
  },
  {
   "cell_type": "code",
   "execution_count": null,
   "metadata": {
    "tags": []
   },
   "outputs": [],
   "source": [
    "obsah_1 = spoj_zadany_obsah(\"a\", \"b\", \"c\")"
   ]
  },
  {
   "cell_type": "code",
   "execution_count": null,
   "metadata": {
    "tags": []
   },
   "outputs": [],
   "source": [
    "print(\n",
    "    muj_txt_soubor.jmeno_souboru,\n",
    "    obsah_1,\n",
    "    sep='\\n'\n",
    ")"
   ]
  },
  {
   "cell_type": "markdown",
   "metadata": {},
   "source": [
    "<br>\n",
    "\n",
    "Pokud budeš potřebovat změnit spojovací znak, definuj jej nakonec (jako *klíčový argument*)."
   ]
  },
  {
   "cell_type": "code",
   "execution_count": null,
   "metadata": {
    "tags": []
   },
   "outputs": [],
   "source": [
    "obsah_2 = spoj_zadany_obsah(\"a\", \"b\", \"c\", spojovac='#')"
   ]
  },
  {
   "cell_type": "code",
   "execution_count": null,
   "metadata": {
    "tags": []
   },
   "outputs": [],
   "source": [
    "print(obsah_2)"
   ]
  },
  {
   "cell_type": "code",
   "execution_count": null,
   "metadata": {
    "tags": []
   },
   "outputs": [],
   "source": [
    "existuje_soubor(\"moje_poznamky.txt\")"
   ]
  },
  {
   "cell_type": "code",
   "execution_count": null,
   "metadata": {
    "tags": []
   },
   "outputs": [],
   "source": [
    "existuje_soubor(poznamky.jmeno_souboru)"
   ]
  },
  {
   "cell_type": "code",
   "execution_count": null,
   "metadata": {
    "tags": []
   },
   "outputs": [],
   "source": [
    "existuje_soubor(\"lesson11.ipynb\")"
   ]
  },
  {
   "cell_type": "markdown",
   "metadata": {},
   "source": [
    "<br>\n",
    "\n",
    "#### Umístění metody ve třídě s dekorátorem\n",
    "\n",
    "---"
   ]
  },
  {
   "cell_type": "markdown",
   "metadata": {},
   "source": [
    "Pokud ovšem chceš, aby byla taková metoda **součástí třídy** (nebo logicky souvisí), můžeš ji ponechat **ve třídě**.\n",
    "\n",
    "V takovém případě je ale dobré, oznámit ostatním, **pomocí dekorátoru**, že jde o *statickou metodu*."
   ]
  },
  {
   "cell_type": "code",
   "execution_count": null,
   "metadata": {
    "tags": []
   },
   "outputs": [],
   "source": [
    "from pathlib import Path"
   ]
  },
  {
   "cell_type": "code",
   "execution_count": null,
   "metadata": {
    "tags": []
   },
   "outputs": [],
   "source": [
    "class GeneratorTextovehoSouboru:\n",
    "\n",
    "    def __init__(self, jmeno_souboru: str):\n",
    "        self.obsah = list()\n",
    "        self.jmeno_souboru = jmeno_souboru\n",
    "            \n",
    "    @staticmethod\n",
    "    def existuje_soubor(jmeno_souboru: str) -> bool:\n",
    "        return Path(jmeno_souboru).is_file()"
   ]
  },
  {
   "cell_type": "markdown",
   "metadata": {},
   "source": [
    "<br>\n",
    "\n",
    "U *statické metody* si můžeš ihned všimnout podle:\n",
    "1. **Dekorátoru** `@staticmethod`,\n",
    "2. **chybějícího** parametru `self`."
   ]
  },
  {
   "cell_type": "markdown",
   "metadata": {},
   "source": [
    "Jedná o takovou metodu, která má logickou vazbu (je zapouzdřená) na **konkrétní třídu** nebo **instanci** (snazší dohledání, testování, dokumentace)."
   ]
  },
  {
   "cell_type": "code",
   "execution_count": null,
   "metadata": {
    "tags": []
   },
   "outputs": [],
   "source": [
    "poznamky = GeneratorTextovehoSouboru(\"moje_poznamky.txt\")"
   ]
  },
  {
   "cell_type": "code",
   "execution_count": null,
   "metadata": {
    "tags": []
   },
   "outputs": [],
   "source": [
    "poznamky.existuje_soubor(\"moje_poznamky.txt\")"
   ]
  },
  {
   "cell_type": "markdown",
   "metadata": {},
   "source": [
    "V takovém případě tvoje statická metoda perfektně funguje.\n",
    "\n",
    "Totiž žádný soubor `moje_poznamky.txt` v aktuálním adresáři **neexistuje**!"
   ]
  },
  {
   "cell_type": "code",
   "execution_count": null,
   "metadata": {
    "tags": []
   },
   "outputs": [],
   "source": [
    "!ls -l  # Unixový příkaz"
   ]
  },
  {
   "cell_type": "markdown",
   "metadata": {},
   "source": [
    "<br>\n",
    "\n",
    "Jakmile jej ale **vytvoříš**:"
   ]
  },
  {
   "cell_type": "code",
   "execution_count": null,
   "metadata": {
    "tags": []
   },
   "outputs": [],
   "source": [
    "!touch moje_poznamky.txt"
   ]
  },
  {
   "cell_type": "code",
   "execution_count": null,
   "metadata": {
    "tags": []
   },
   "outputs": [],
   "source": [
    "poznamky.existuje_soubor(\"moje_poznamky.txt\")"
   ]
  },
  {
   "cell_type": "markdown",
   "metadata": {},
   "source": [
    "Tak ti soubor spolehlivě dohledá.\n",
    "\n",
    "Můžeš takové pracovat bez **založení instance třídy**.\n",
    "\n",
    "Tedy jen pomocí jména samotné třídy, kde se *statická metoda* nachází."
   ]
  },
  {
   "cell_type": "code",
   "execution_count": null,
   "metadata": {
    "tags": []
   },
   "outputs": [],
   "source": [
    "GeneratorTextovehoSouboru.existuje_soubor(\"moje_poznamky.txt\")"
   ]
  },
  {
   "cell_type": "markdown",
   "metadata": {},
   "source": [
    "<br>\n",
    "\n",
    "**Pozor**, tentokrát ale nemůžeš pracovat jenom se jménem metody!"
   ]
  },
  {
   "cell_type": "code",
   "execution_count": null,
   "metadata": {
    "tags": []
   },
   "outputs": [],
   "source": [
    "existuje_soubor(\"moje_poznamky.txt\")"
   ]
  },
  {
   "cell_type": "markdown",
   "metadata": {},
   "source": [
    "...protože samotná *statická metody* **nemá** přístup **ani k instančním, ani k třídním atributům**:"
   ]
  },
  {
   "cell_type": "code",
   "execution_count": null,
   "metadata": {
    "tags": []
   },
   "outputs": [],
   "source": [
    "class GeneratorTextovehoSouboru:\n",
    "\n",
    "    def __init__(self, jmeno_souboru: str):\n",
    "        self.obsah = list()\n",
    "        self.jmeno_souboru = jmeno_souboru\n",
    "           \n",
    "    @staticmethod\n",
    "    def existuje_soubor(jmeno_souboru: str) -> bool:\n",
    "        return Path(self.jmeno_souboru).is_file()   # chybně umístěný parametr \"self\""
   ]
  },
  {
   "cell_type": "code",
   "execution_count": null,
   "metadata": {
    "tags": []
   },
   "outputs": [],
   "source": [
    "poznamky_dalsi = GeneratorTextovehoSouboru(\"moje_poznamky.txt\")"
   ]
  },
  {
   "cell_type": "code",
   "execution_count": null,
   "metadata": {
    "tags": []
   },
   "outputs": [],
   "source": [
    "poznamky_dalsi.existuje_soubor(\"moje_poznamky.txt\")"
   ]
  },
  {
   "cell_type": "markdown",
   "metadata": {},
   "source": [
    "<br>\n",
    "\n",
    "#### Rekapitulace ke statickým metodám\n",
    "\n",
    "---"
   ]
  },
  {
   "cell_type": "markdown",
   "metadata": {},
   "source": [
    "Kdy použít dekorátor `@staticmethod`:\n",
    "\n",
    "1. Pokud tebou vytvořená metoda **nebude mít uplatnění u jiných tříd**,\n",
    "2. pokud bude **logicky svázaná s účelem třídy**."
   ]
  },
  {
   "cell_type": "code",
   "execution_count": null,
   "metadata": {
    "tags": []
   },
   "outputs": [],
   "source": [
    "class MatematickeOperace:\n",
    "    \"\"\"Objekt zahrnující různé matematické operace\"\"\"\n",
    "\n",
    "    @staticmethod\n",
    "    def secti_dve_cisla(x: int, y: int) -> int:\n",
    "        return x + y\n",
    "    \n",
    "    @staticmethod\n",
    "    def odecti_dve_cisla(x: int, y: int) -> int:\n",
    "        return x - y"
   ]
  },
  {
   "cell_type": "code",
   "execution_count": null,
   "metadata": {
    "tags": []
   },
   "outputs": [],
   "source": [
    "soucet_1 = MatematickeOperace.secti_dve_cisla(4, 6)"
   ]
  },
  {
   "cell_type": "code",
   "execution_count": null,
   "metadata": {
    "tags": []
   },
   "outputs": [],
   "source": [
    "rozdil_1 = MatematickeOperace.odecti_dve_cisla(121, 31)"
   ]
  },
  {
   "cell_type": "code",
   "execution_count": null,
   "metadata": {
    "tags": []
   },
   "outputs": [],
   "source": [
    "print(soucet_1, rozdil_1, sep='\\n')"
   ]
  },
  {
   "cell_type": "markdown",
   "metadata": {},
   "source": [
    "<br>\n",
    "\n",
    "### 🧠 CVIČENÍ 🧠, Vytvoř třídu `GeneratorTextovehoSouboru`, která ověří suffix jména souboru:\n",
    "---"
   ]
  },
  {
   "cell_type": "markdown",
   "metadata": {},
   "source": [
    "1. Zkopíruj si třídu `GeneratorTextovehoSouboru`,\n",
    "2. ponech ji pouze instanční atribut `jmeno_souboru`,\n",
    "3. zapiš **statickou metodu** `je_soubor_txt`,\n",
    "4. ověř, jestli zadaný parametr `jmeno` obsahuje příponu `\".txt\"` nebo ne,\n",
    "5. pokud obsahuje `txt`, vrať `True`, jinak vrať `False`."
   ]
  },
  {
   "cell_type": "code",
   "execution_count": null,
   "metadata": {},
   "outputs": [],
   "source": [
    "# Sem zapiš tvoje řešení"
   ]
  },
  {
   "cell_type": "markdown",
   "metadata": {},
   "source": [
    "<details>\n",
    "    <summary>▶️ Řešení</summary>\n",
    "    \n",
    "```python\n",
    "class GeneratorTextovehoSouboru:\n",
    "\n",
    "    def __init__(self, jmeno_souboru: str):\n",
    "        self.obsah = list()\n",
    "        self.jmeno_souboru = jmeno_souboru\n",
    "\n",
    "    @staticmethod\n",
    "    def je_soubor_txt(jmeno_souboru: str, suffix: str = '.txt') -> bool:\n",
    "        return Path(jmeno_souboru).suffix == suffix\n",
    "\n",
    "\n",
    "GeneratorTextovehoSouboru.je_soubor_txt(\"soubor.txt\")\n",
    "```\n",
    "</details>"
   ]
  },
  {
   "cell_type": "markdown",
   "metadata": {},
   "source": [
    "<br>\n",
    "\n",
    "### Třídní metoda\n",
    "\n",
    "---"
   ]
  },
  {
   "cell_type": "markdown",
   "metadata": {},
   "source": [
    "Občas potřebuješ upravit **standardní chování** tvojí třídy."
   ]
  },
  {
   "cell_type": "code",
   "execution_count": null,
   "metadata": {
    "tags": []
   },
   "outputs": [],
   "source": [
    "class Zamestnanec:\n",
    "    def __init__(self, jmeno: str, prijmeni: str, mzda: int):\n",
    "        self.jmeno = jmeno\n",
    "        self.prijmeni = prijmeni\n",
    "        self.mzda = mzda"
   ]
  },
  {
   "cell_type": "markdown",
   "metadata": {},
   "source": [
    "<br>\n",
    "\n",
    "Běžné tvoření instance nového zaměstnance potom vypadá následovně:"
   ]
  },
  {
   "cell_type": "code",
   "execution_count": null,
   "metadata": {
    "tags": []
   },
   "outputs": [],
   "source": [
    "matous = Zamestnanec('Matouš', 'Holinka', 80_000)\n",
    "karolina = Zamestnanec('Karolína', 'Šikovná', 100_000)"
   ]
  },
  {
   "cell_type": "code",
   "execution_count": null,
   "metadata": {
    "tags": []
   },
   "outputs": [],
   "source": [
    "print(matous.mzda, karolina.mzda, sep='\\n')"
   ]
  },
  {
   "cell_type": "markdown",
   "metadata": {},
   "source": [
    "<br>\n",
    "\n",
    "Někdy, ale není jednoduché, napojit se na stávající systém.\n",
    "\n",
    "Třeba pokud ti někdo začne posílat údaje o nových zaměstnancích jako *tabulkoidní* nebo *textový soubor*."
   ]
  },
  {
   "cell_type": "code",
   "execution_count": null,
   "metadata": {
    "tags": []
   },
   "outputs": [],
   "source": [
    "petr = \"Petr;Svetr;110_000\"\n",
    "jan = \"Jan;Novák;140_000\""
   ]
  },
  {
   "cell_type": "markdown",
   "metadata": {},
   "source": [
    "<br>\n",
    "\n",
    "Jak potom můžu takové vstupy podsunout již existující třídě `Zamestnanec`?\n",
    "\n",
    "Přesně toto může být scénář pro použití dalšího dekorátoru, tentokrát `@classmethod`."
   ]
  },
  {
   "cell_type": "code",
   "execution_count": null,
   "metadata": {
    "tags": []
   },
   "outputs": [],
   "source": [
    "class Zamestnanec:\n",
    "    def __init__(self, jmeno: str, prijmeni: str, mzda: int):\n",
    "        self.jmeno = jmeno\n",
    "        self.prijmeni = prijmeni\n",
    "        self.mzda = mzda\n",
    "        \n",
    "    @classmethod\n",
    "    def from_separated_string(cls, zadany_str: str, oddelovac: str = ';'):\n",
    "        \"\"\"\n",
    "        Vytvoří novou instanci třídy 'Zamestnanec' ze zadaného stringu.\n",
    "        \"\"\"\n",
    "        try:\n",
    "            jmeno, prijmeni, mzda = zadany_str.split(oddelovac)\n",
    "            \n",
    "        except Exception:\n",
    "            # logging.WARNING()\n",
    "            instance = None\n",
    "        else:\n",
    "            instance = cls(jmeno, prijmeni, mzda)\n",
    "        finally:\n",
    "            return instance"
   ]
  },
  {
   "cell_type": "markdown",
   "metadata": {
    "tags": []
   },
   "source": [
    "<br>\n",
    "\n",
    "**Třídní metoda** je na první pohled patrná:\n",
    "1. **Dekorátor** `@classmethod`,\n",
    "2. **chybí** pomocný parametr `self`,\n",
    "3. objevuje se **nový pomocný parametr** `cls`.\n",
    "\n",
    "Místo nového pomocného parametru můžeš použít cokoliv.\n",
    "\n",
    "Ale opět jde o konvenci, aby i ostatní programátoři snadno pochopili, že jde o *třídní metodu*."
   ]
  },
  {
   "cell_type": "code",
   "execution_count": null,
   "metadata": {
    "tags": []
   },
   "outputs": [],
   "source": [
    "petr = \"Petr;Svetr;110_000\"\n",
    "jan = \"Jan;Novák;140_000\""
   ]
  },
  {
   "cell_type": "code",
   "execution_count": null,
   "metadata": {
    "tags": []
   },
   "outputs": [],
   "source": [
    "petr_i = Zamestnanec.from_separated_string(petr)"
   ]
  },
  {
   "cell_type": "code",
   "execution_count": null,
   "metadata": {
    "tags": []
   },
   "outputs": [],
   "source": [
    "jan_i = Zamestnanec.from_separated_string(jan)"
   ]
  },
  {
   "cell_type": "code",
   "execution_count": null,
   "metadata": {
    "tags": []
   },
   "outputs": [],
   "source": [
    "print(\n",
    "    petr_i.jmeno,\n",
    "    jan_i.jmeno,\n",
    "    sep='\\n'\n",
    ")"
   ]
  },
  {
   "cell_type": "markdown",
   "metadata": {},
   "source": [
    "Skutečný benefit dekorátoru `@classmethod` spočívá ve **vytvoření alternativního třídního konstruktoru**."
   ]
  },
  {
   "cell_type": "markdown",
   "metadata": {},
   "source": [
    "<br>\n",
    "\n",
    "Alternativně musíš zápis neprakticky **přepisovat a hodnoty rozdělovat**:"
   ]
  },
  {
   "cell_type": "code",
   "execution_count": null,
   "metadata": {
    "tags": []
   },
   "outputs": [],
   "source": [
    "lukas = \"Lukáš;Nový;90_000\""
   ]
  },
  {
   "cell_type": "code",
   "execution_count": null,
   "metadata": {
    "tags": []
   },
   "outputs": [],
   "source": [
    "lukas = Zamestnanec(*lukas.split(\";\"))"
   ]
  },
  {
   "cell_type": "code",
   "execution_count": null,
   "metadata": {
    "tags": []
   },
   "outputs": [],
   "source": [
    "print(\n",
    "    lukas.jmeno,\n",
    "    lukas.prijmeni,\n",
    "    lukas.mzda,\n",
    "    sep=\"\\n\"\n",
    ")"
   ]
  },
  {
   "cell_type": "code",
   "execution_count": null,
   "metadata": {
    "tags": []
   },
   "outputs": [],
   "source": [
    "class Zamestnanec:\n",
    "    zvyseni_mzdy = 1.06\n",
    "\n",
    "    def __init__(self, jmeno: str, prijmeni: str, mzda: int):\n",
    "        self.jmeno = jmeno\n",
    "        self.prijmeni = prijmeni\n",
    "        self.mzda = mzda\n",
    "\n",
    "    @classmethod\n",
    "    def zvys_mzdu(cls, hodnota: int):\n",
    "        \"\"\"\n",
    "        Přepíše hodnotu třídního atributu \"zvyseni_mzdy\".\n",
    "        \"\"\"\n",
    "        cls.zvyseni_mzdy = hodnota"
   ]
  },
  {
   "cell_type": "code",
   "execution_count": null,
   "metadata": {
    "tags": []
   },
   "outputs": [],
   "source": [
    "matous = Zamestnanec('Matouš', 'Holinka', 80_000)\n",
    "karolina = Zamestnanec('Karolína', 'Šikovná', 100_000)"
   ]
  },
  {
   "cell_type": "code",
   "execution_count": null,
   "metadata": {
    "tags": []
   },
   "outputs": [],
   "source": [
    "print(\n",
    "    matous.zvyseni_mzdy,\n",
    "    karolina.zvyseni_mzdy,\n",
    "    sep=\"\\n\"\n",
    ")"
   ]
  },
  {
   "cell_type": "code",
   "execution_count": null,
   "metadata": {
    "tags": []
   },
   "outputs": [],
   "source": [
    "Zamestnanec.zvys_mzdu(1.1)"
   ]
  },
  {
   "cell_type": "code",
   "execution_count": null,
   "metadata": {
    "tags": []
   },
   "outputs": [],
   "source": [
    "print(\n",
    "    matous.zvyseni_mzdy,\n",
    "    karolina.zvyseni_mzdy,\n",
    "    sep=\"\\n\"\n",
    ")"
   ]
  },
  {
   "cell_type": "markdown",
   "metadata": {},
   "source": [
    "Dekorátor `@classmethod` uvidíš v maximální míře u metod, pojmenovaných jako:\n",
    "- `from_`,\n",
    "- `make_`,\n",
    "- `create_`.\n",
    "\n",
    "Jejich účel je jednoduše **zefektivnit tvoření nových instancí** (z různých souborů, vstupů obecně).\n",
    "\n",
    "[Odkaz, knihovna pandas](https://github.com/pandas-dev/pandas/blob/55d78caa38925e8cf94623adcd0721cc15a56bdd/pandas/core/indexes/range.py#L171)\n",
    "\n",
    "[Odkaz, modul datetime](https://github.com/python/cpython/blob/main/Lib/_pydatetime.py#L983)"
   ]
  },
  {
   "cell_type": "markdown",
   "metadata": {
    "tags": []
   },
   "source": [
    "### Shrnutí k metodám\n",
    "\n",
    "---\n",
    "\n",
    "1. **instanční metoda** - může upravit **nejenom objekty instance, ale i třídy** (na začátku vidí jak třídu, tak instanci),\n",
    "2. **statická metoda (`@staticmethod`)** - nemůže upravovat **ani objekty instancí, ani objekty třídy** (nevidí ani třídu, ani instanci),\n",
    "3. **třídní metoda (`@classmethod`)** - může upravit objekty třídy, ale nemůže upravovat objekty instancí (vidí třídu, ale ne instanci),\n"
   ]
  },
  {
   "cell_type": "markdown",
   "metadata": {},
   "source": [
    "<br>\n",
    "\n",
    "### 🧠 CVIČENÍ 🧠, Vytvoř třídu `Produkt`, která bude tvořena následovným:\n",
    "---"
   ]
  },
  {
   "cell_type": "markdown",
   "metadata": {},
   "source": [
    "- Definujte třídu `Produkt` s třídním atributem `pocet_produktu`,\n",
    "- v instančním kontruktoru zadej postupně parametry `nazev`, `cena` a `skladem`,\n",
    "- pro každou instanci, inkrementuj hodnotu v `pocet_produktu` o 1,\n",
    "- vytvoř metodu `naskladni_produkt`, která pracuje s jediným parametrem `mnoztsvi`,\n",
    "- vytvoř metody `prodej`, která ověřuje, zda je parametr `mnozstvi` možné prodat,\n",
    "- vytvoř statickou metodu `vypocet_ceny_vc_dane`, která upraví cenu s 21% daní,\n",
    "- vytvoř třídní metodu `from_json`, která přečte JSON soubor a nachystá instanci sama."
   ]
  },
  {
   "cell_type": "code",
   "execution_count": null,
   "metadata": {},
   "outputs": [],
   "source": []
  },
  {
   "cell_type": "code",
   "execution_count": null,
   "metadata": {},
   "outputs": [],
   "source": [
    "produkt1 = Produkt(\"Notebook\", 20000, 10)\n",
    "produkt2 = Produkt(\"Telefon\", 15000, 15)\n",
    "produkt3 = Produkt(\"Sluchátka\", 2000, 50)"
   ]
  },
  {
   "cell_type": "markdown",
   "metadata": {},
   "source": [
    "<details>\n",
    "    <summary>▶️ Řešení</summary>\n",
    "    \n",
    "```python\n",
    "class Produkt:\n",
    "    pocet_produktu: int = 0\n",
    "\n",
    "    def __init__(self, nazev: str, cena: str, skladem: int = 0):\n",
    "        self.nazev = nazev\n",
    "        self.cena = cena\n",
    "        self.skladem = skladem\n",
    "        Produkt.pocet_produktu += 1\n",
    "\n",
    "    def naskladni(self, mnozstvi: int) -> None:\n",
    "        self.skladem += mnozstvi\n",
    "\n",
    "    def prodej(self, mnozstvi: int) -> None:\n",
    "        if mnozstvi <= self.skladem:\n",
    "            self.skladem -= mnozstvi\n",
    "        else:\n",
    "            print(f\"Na skladě není dostatečné množství produktu {self.name}.\")\n",
    "\n",
    "    @classmethod\n",
    "    def from_json(cls, jmeno_souboru: str) -> dict:\n",
    "        try:\n",
    "            obsah_json = read_json(jmeno_souboru, orient=\"index\")\n",
    "\n",
    "        except Exception:\n",
    "            content_dict = {}\n",
    "        else:\n",
    "            content = obsah_json.to_dict()\n",
    "            content_dict = cls(\n",
    "                content[0][\"nazev\"],\n",
    "                content[0][\"cena\"],\n",
    "                content[0][\"mnozstvi\"]\n",
    "            )\n",
    "        finally:\n",
    "            return content_dict\n",
    "\n",
    "    @staticmethod\n",
    "    def vypocet_cenu_vc_dane(cena: float) -> float:\n",
    "        \"\"\"\n",
    "        Vrať hodnotu ceny produktu vč. 21% daně.\n",
    "\n",
    "        :param cena: cena bez daně,\n",
    "        :type cena: float\n",
    "        :return: cena vč. daně,\n",
    "        :rtype: float\n",
    "        \"\"\"\n",
    "        return cena * 1.21\n",
    "```\n",
    "</details>"
   ]
  },
  {
   "cell_type": "markdown",
   "metadata": {
    "tags": []
   },
   "source": [
    "<img src=\"https://external-content.duckduckgo.com/iu/?u=https%3A%2F%2Ftse1.mm.bing.net%2Fth%3Fid%3DOIP.W1bO-UE-mgx7us8eNrJTsQHaHa%26pid%3DApi&f=1&ipt=eaddf3d0ad49228dbd8d3a969c2c025036cee17f5c70daad917debf57a2f743e&ipo=images\" width=\"250\" style=\"margin-left:auto; margin-right:auto\"/>"
   ]
  },
  {
   "cell_type": "markdown",
   "metadata": {
    "tags": []
   },
   "source": [
    "## Funkce podtržítek v Pythonu\n",
    "\n",
    "---\n",
    "\n",
    "Podtržítko je **syntaktický znak** v Pythonu, který má nejeden důležitý význam:\n",
    "1. Poslední výraz `_`,\n",
    "2. izoluj výraz `_`,\n",
    "3. privátní proměnná  `_jmeno`,\n",
    "4. chráněná proměnná `__jmeno`,\n",
    "5. přepis pro klíčové slovo `class_`,\n",
    "6. magická metoda `__init__`."
   ]
  },
  {
   "cell_type": "markdown",
   "metadata": {},
   "source": [
    "<br>\n",
    "\n",
    "### Poslední výraz\n",
    "\n",
    "---\n",
    "\n",
    "První variantou zápis (ačkoliv ne zcela praktickou) je zpřístupnit poslední hodnotu:"
   ]
  },
  {
   "cell_type": "code",
   "execution_count": null,
   "metadata": {
    "tags": []
   },
   "outputs": [],
   "source": [
    "\"Marek\""
   ]
  },
  {
   "cell_type": "code",
   "execution_count": null,
   "metadata": {
    "tags": []
   },
   "outputs": [],
   "source": [
    "_"
   ]
  },
  {
   "cell_type": "code",
   "execution_count": null,
   "metadata": {
    "tags": []
   },
   "outputs": [],
   "source": [
    "_.upper()"
   ]
  },
  {
   "cell_type": "code",
   "execution_count": null,
   "metadata": {
    "tags": []
   },
   "outputs": [],
   "source": [
    "1 + 119"
   ]
  },
  {
   "cell_type": "code",
   "execution_count": null,
   "metadata": {
    "tags": []
   },
   "outputs": [],
   "source": [
    "_"
   ]
  },
  {
   "cell_type": "code",
   "execution_count": null,
   "metadata": {
    "tags": []
   },
   "outputs": [],
   "source": [
    "_ + 30"
   ]
  },
  {
   "cell_type": "markdown",
   "metadata": {},
   "source": [
    "<br>\n",
    "\n",
    "Takové chování ale oceníš především v prostředích *notebooků* a *interpretu*.\n",
    "\n",
    "Ve zdrojovém souboru nemá prakticky tímto způsobem použití."
   ]
  },
  {
   "cell_type": "markdown",
   "metadata": {},
   "source": [
    "\n",
    "### Izoluj výraz\n",
    "\n",
    "---"
   ]
  },
  {
   "cell_type": "markdown",
   "metadata": {},
   "source": [
    "Praktické použití nabývá **samotné podtržítko** ve skriptu jako **izolátor nevyžitých hodnot**:"
   ]
  },
  {
   "cell_type": "code",
   "execution_count": null,
   "metadata": {
    "tags": []
   },
   "outputs": [],
   "source": [
    "import time"
   ]
  },
  {
   "cell_type": "code",
   "execution_count": null,
   "metadata": {
    "tags": []
   },
   "outputs": [],
   "source": [
    "for item in range(5):  # BAD\n",
    "    print(\"Kontroluji status..\")\n",
    "    time.sleep(1)"
   ]
  },
  {
   "cell_type": "code",
   "execution_count": null,
   "metadata": {
    "tags": []
   },
   "outputs": [],
   "source": [
    "for _ in range(5):     # EXCELLENT\n",
    "    print(\"Kontroluji status..\")\n",
    "    time.sleep(1)"
   ]
  },
  {
   "cell_type": "markdown",
   "metadata": {},
   "source": [
    "<br>\n",
    "\n",
    "Označení výrazu v předpisu smyčky pomocí proměnné, v ukázce výše, nemá smysl.\n",
    "\n",
    "Jelikož ji v celém těle smyčky **nepotřebuješ používat**.\n",
    "\n",
    "Proto je vhodné na to upozornit i další čtenáře takového zápisu.\n",
    "\n",
    "<br>\n",
    "\n",
    "Další variantou je *iterace* přes víc objektů, kde potřebuji **pouze specifickou hodnotu**:"
   ]
  },
  {
   "cell_type": "code",
   "execution_count": null,
   "metadata": {
    "tags": []
   },
   "outputs": [],
   "source": [
    "for index, name in enumerate((\"Matouš\", \"Marcel\", \"Filip\")):  # BAD\n",
    "    print(index)"
   ]
  },
  {
   "cell_type": "code",
   "execution_count": null,
   "metadata": {
    "tags": []
   },
   "outputs": [],
   "source": [
    "for index, _ in enumerate((\"Matouš\", \"Marcel\", \"Filip\")):  # EXCELLENT\n",
    "    print(index)"
   ]
  },
  {
   "cell_type": "markdown",
   "metadata": {},
   "source": [
    "<br>\n",
    "\n",
    "Opět ostatní programátoři nyní vědí, že v odsazeném zápise smyčky je zásadní práce s indexem."
   ]
  },
  {
   "cell_type": "markdown",
   "metadata": {},
   "source": [
    "<br>\n",
    "\n",
    "Posledním způsobem je aplikace pro **vícenásobné přiřazování proměnných**:"
   ]
  },
  {
   "cell_type": "code",
   "execution_count": null,
   "metadata": {
    "tags": []
   },
   "outputs": [],
   "source": [
    "jmeno, prijmeni, mzda = \"Filip;Svědomitý;90_000\".split(\";\")  # BAD"
   ]
  },
  {
   "cell_type": "markdown",
   "metadata": {},
   "source": [
    "<br>\n",
    "\n",
    "Opět na takovém zápise není v zásadě nic špatného.\n",
    "\n",
    "Pokud ale potřebuješ rozbalit jen hodnotu do proměnné `jmeno`:"
   ]
  },
  {
   "cell_type": "code",
   "execution_count": null,
   "metadata": {
    "tags": []
   },
   "outputs": [],
   "source": [
    "jmeno, _, _ = \"Filip;Svědomitý;90_000\".split(\";\")            # EXCELLENT"
   ]
  },
  {
   "cell_type": "code",
   "execution_count": null,
   "metadata": {
    "tags": []
   },
   "outputs": [],
   "source": [
    "print(jmeno)"
   ]
  },
  {
   "cell_type": "markdown",
   "metadata": {},
   "source": [
    "<br>\n",
    "\n",
    "Případně máš možnost zabalit zbytek nevyužitých hodnot do objektu typu `list`:"
   ]
  },
  {
   "cell_type": "code",
   "execution_count": null,
   "metadata": {},
   "outputs": [],
   "source": [
    "jmeno, *_ = \"Filip;Svědomitý;90_000\".split(\";\")"
   ]
  },
  {
   "cell_type": "code",
   "execution_count": null,
   "metadata": {
    "tags": []
   },
   "outputs": [],
   "source": [
    "print(jmeno)"
   ]
  },
  {
   "cell_type": "code",
   "execution_count": null,
   "metadata": {
    "tags": []
   },
   "outputs": [],
   "source": [
    "print(_)"
   ]
  },
  {
   "cell_type": "markdown",
   "metadata": {},
   "source": [
    "<br>\n",
    "\n",
    "### Chráněná proměnná (~weak private)\n",
    "\n",
    "---"
   ]
  },
  {
   "cell_type": "markdown",
   "metadata": {},
   "source": [
    "Možná znáš z ostatních jazyků pojem **chráněná** (*protected*) a **veřejná proměnná** (*public*)."
   ]
  },
  {
   "cell_type": "markdown",
   "metadata": {},
   "source": [
    "Některé jazyky umožňují práci s pomocí **interních** (*soukromých*) proměnných (př. **Java**, **C#**):"
   ]
  },
  {
   "cell_type": "code",
   "execution_count": null,
   "metadata": {
    "tags": []
   },
   "outputs": [],
   "source": [
    "class VerifikatorLogu:\n",
    "    def __init__(self, jmeno_souboru: str):\n",
    "        self.jmeno_souboru = jmeno_souboru\n",
    "        self.aktivni = True\n",
    "\n",
    "    def oznam_stav(self):\n",
    "        if self.aktivni:\n",
    "            print(f\"Kontroluji soubor logu: {self.jmeno_souboru}\")"
   ]
  },
  {
   "cell_type": "code",
   "execution_count": null,
   "metadata": {
    "tags": []
   },
   "outputs": [],
   "source": [
    "verifikator_1 = VerifikatorLogu(\"muj_soubor.log\")"
   ]
  },
  {
   "cell_type": "code",
   "execution_count": null,
   "metadata": {
    "tags": []
   },
   "outputs": [],
   "source": [
    "verifikator_1.oznam_stav()"
   ]
  },
  {
   "cell_type": "markdown",
   "metadata": {},
   "source": [
    "<br>\n",
    "\n",
    "Pokud k jménu objektu přidáš jako *prefix* jedno podtržítko, označíš jej jako *chráněný objekt*.\n",
    "\n",
    "Python nepracuje s chráněnými proměnnými objekty jako ostatní jazyky.\n",
    "\n",
    "Bere toto označení pouze **jako indikátor**, příp. náznak."
   ]
  },
  {
   "cell_type": "code",
   "execution_count": null,
   "metadata": {
    "tags": []
   },
   "outputs": [],
   "source": [
    "class VerifikatorLogu:\n",
    "    def __init__(self, jmeno_souboru: str):\n",
    "        self.jmeno_souboru = jmeno_souboru\n",
    "        self._aktivni = True\n",
    "\n",
    "    def oznam_stav(self):\n",
    "        if self._aktivni:\n",
    "            print(f\"Kontroluji soubor logu: {self.jmeno_souboru}\")\n",
    "        else:\n",
    "            raise Exception(\"Ouou, nějaké neočekávané chování\")"
   ]
  },
  {
   "cell_type": "code",
   "execution_count": null,
   "metadata": {
    "tags": []
   },
   "outputs": [],
   "source": [
    "verifikator_2 = VerifikatorLogu(\"muj_soubor.log\")"
   ]
  },
  {
   "cell_type": "code",
   "execution_count": null,
   "metadata": {
    "tags": []
   },
   "outputs": [],
   "source": [
    "verifikator_2.oznam_stav()"
   ]
  },
  {
   "cell_type": "code",
   "execution_count": null,
   "metadata": {
    "tags": []
   },
   "outputs": [],
   "source": [
    "print(verifikator_2._aktivni)"
   ]
  },
  {
   "cell_type": "code",
   "execution_count": null,
   "metadata": {
    "tags": []
   },
   "outputs": [],
   "source": [
    "print(verifikator_2.aktivni)"
   ]
  },
  {
   "cell_type": "markdown",
   "metadata": {},
   "source": [
    "<br>\n",
    "\n",
    "Jedno podtržítko tady funguje **pouze jako indikátor**.\n",
    "\n",
    "Ten ostatním uživatelům zdrojového kódu dává vědět, že je **chráněnou proměnnou**.\n",
    "\n",
    "Jinými slovy je to interní objekt, NEUPRAVUJ jej.\n",
    "\n",
    "Smíš jej používat, ale jen v rámci **jedné třídy (dokonce podtříd), jednoho modulu**."
   ]
  },
  {
   "cell_type": "markdown",
   "metadata": {},
   "source": [
    "<br>\n",
    "\n",
    "Obvykle je vhodné v dokumentaci doplnit, k jakému účelu atribut slouží a jak pracovat mimo něj.\n",
    "\n",
    "Python je ovšem až moc tolerantní a *intepret* ti dovolí proměnou **používat a přepisovat**."
   ]
  },
  {
   "cell_type": "code",
   "execution_count": null,
   "metadata": {
    "tags": []
   },
   "outputs": [],
   "source": [
    "verifikator_2._aktivni = False  # BAD"
   ]
  },
  {
   "cell_type": "code",
   "execution_count": null,
   "metadata": {
    "tags": []
   },
   "outputs": [],
   "source": [
    "verifikator_2.oznam_stav()"
   ]
  },
  {
   "cell_type": "markdown",
   "metadata": {
    "tags": []
   },
   "source": [
    "<br>\n",
    "\n",
    "Pokud takovou hodnotu přepíšeš, můžeš pozměnit funkcionalitu skriptu, což není žádoucí.\n",
    "\n",
    "V ukázce výš by nemusela kratší doba pro kontrolu logu stačit."
   ]
  },
  {
   "cell_type": "markdown",
   "metadata": {},
   "source": [
    "<br>\n",
    "\n",
    "### Privátní proměnná (~strong private)\n",
    "\n",
    "---"
   ]
  },
  {
   "cell_type": "markdown",
   "metadata": {},
   "source": [
    "Pomocí **dvou podtržítek** může uživatel definovat **privátní** proměnné.\n",
    "\n",
    "Taková proměnná (objekt) by měl být používaný **pouze v rámci třídy**:"
   ]
  },
  {
   "cell_type": "code",
   "execution_count": null,
   "metadata": {},
   "outputs": [],
   "source": [
    "from time import sleep"
   ]
  },
  {
   "cell_type": "code",
   "execution_count": null,
   "metadata": {},
   "outputs": [],
   "source": [
    "class VerifikatorLogu:\n",
    "    \"\"\"Objekt, který představuje reprezentaci souboru logů.\"\"\"\n",
    "    \n",
    "    def __init__(self, jmeno: str):\n",
    "        self.jmeno = jmeno\n",
    "        self._limit = 3                           # WEAK PRIVATE\n",
    "        self.oznameni = self.__nastav_oznameni()  # STRONG PRIVATE\n",
    "        \n",
    "    def kontroluj_log(self) -> None:\n",
    "        print(self.oznameni)\n",
    "\n",
    "        for _ in range(self._limit):\n",
    "            print(f\"Kontroluji soubor logu..\")\n",
    "            sleep(1)\n",
    "        else:\n",
    "            print(f\"Soubor: '{self.jmeno}' je v pořádku.\")\n",
    "            \n",
    "    def __nastav_oznameni(self):\n",
    "        return \"Nastavené oznámení\""
   ]
  },
  {
   "cell_type": "markdown",
   "metadata": {},
   "source": [
    "<br>\n",
    "\n",
    "Takové zadání ještě zdůrazňuje důležitost proměnné.\n",
    "\n",
    "Uživateli znemožní výraz jednodušše přepsat, přetypovat (přistoupit k němu obecně):"
   ]
  },
  {
   "cell_type": "code",
   "execution_count": null,
   "metadata": {},
   "outputs": [],
   "source": [
    "verifikator_3 = VerifikatorLogu(\"protokol_1.log\")"
   ]
  },
  {
   "cell_type": "code",
   "execution_count": null,
   "metadata": {},
   "outputs": [],
   "source": [
    "print(verifikator_3.__limit)"
   ]
  },
  {
   "cell_type": "code",
   "execution_count": null,
   "metadata": {
    "tags": []
   },
   "outputs": [],
   "source": [
    "verifikator_3.kontroluj_log()"
   ]
  },
  {
   "cell_type": "markdown",
   "metadata": {},
   "source": [
    "<br>\n",
    "\n",
    "Takhle jej uživatel nenajde tak snadno.\n",
    "\n",
    "Na pozadí totiž pracuje tzv. *name mangeling* (něco jako **komolení jména**).\n",
    "\n",
    "Pořád je ale možné, výraz ručně vyhledat a dát si práci s přepsaním:"
   ]
  },
  {
   "cell_type": "code",
   "execution_count": null,
   "metadata": {
    "tags": []
   },
   "outputs": [],
   "source": [
    "print(verifikator_3.oznameni)"
   ]
  },
  {
   "cell_type": "markdown",
   "metadata": {},
   "source": [
    "<br>\n",
    "\n",
    "Magická metoda `__dict__` ti dovolí vypsat všechny instanční atributy, kde najdeš i chráněné proměnné:"
   ]
  },
  {
   "cell_type": "code",
   "execution_count": null,
   "metadata": {
    "tags": []
   },
   "outputs": [],
   "source": [
    "class VerifikatorLogu:\n",
    "    \"\"\"Objekt, který představuje reprezentaci souboru logů.\"\"\"\n",
    "    \n",
    "    def __init__(self, jmeno: str):\n",
    "        self.jmeno = jmeno\n",
    "        self.__limit = 3  # STRONG PRIVATE\n",
    "        \n",
    "    def kontroluj_log(self) -> None:\n",
    "        for _ in range(self.__limit):\n",
    "            print(f\"Kontroluji soubor logu..\")\n",
    "            sleep(1)\n",
    "        else:\n",
    "            print(f\"Soubor: '{self.jmeno}' je v pořádku.\")"
   ]
  },
  {
   "cell_type": "code",
   "execution_count": null,
   "metadata": {
    "tags": []
   },
   "outputs": [],
   "source": [
    "verifikator_4 = VerifikatorLogu(\"protokol_2.log\")"
   ]
  },
  {
   "cell_type": "code",
   "execution_count": null,
   "metadata": {
    "tags": []
   },
   "outputs": [],
   "source": [
    "print(verifikator_4.__limit)"
   ]
  },
  {
   "cell_type": "code",
   "execution_count": null,
   "metadata": {
    "tags": []
   },
   "outputs": [],
   "source": [
    "print(verifikator_4.__dict__)"
   ]
  },
  {
   "cell_type": "code",
   "execution_count": null,
   "metadata": {
    "tags": []
   },
   "outputs": [],
   "source": [
    "verifikator_4._VerifikatorLogu__limit = 10"
   ]
  },
  {
   "cell_type": "code",
   "execution_count": null,
   "metadata": {
    "tags": []
   },
   "outputs": [],
   "source": [
    "print(verifikator_4._VerifikatorLogu__limit)"
   ]
  },
  {
   "cell_type": "markdown",
   "metadata": {},
   "source": [
    "<br>\n",
    "\n",
    "*Interpret* takový atribut chrání jeho **implicitním přejmenování**."
   ]
  },
  {
   "cell_type": "markdown",
   "metadata": {
    "tags": []
   },
   "source": [
    "🧠 CVIČENÍ 🧠, Vytvoř třídu `Zamestnanec`, která obsahuje:\n",
    "\n",
    "1. Kontrukční metoda `__init__` nastaví pouze instanční atribut `jmeno`,\n",
    "2. dále `__init__` zapíše instanční *weak private* atribut `vek` a *strong private* atribut `plat`, obojí jako `None`,\n",
    "3. zapiš metodu `nastav_vek`, která pracuje s parametrem `vek: int`,\n",
    "4. metoda `nastav_vek`, nastaví *weak private* atribut `vek`, pokud je argument hodnota 18 < x < 65 (jinak vyvolá výjimku `Exception`),\n",
    "5. zapiš metodu `nastav_plat`, která pracuje s parametrem `plat: int`,\n",
    "6. metoda `nastav_plat`, nastaví *strong private* atribut `plat`, pokud je argument hodnota x > 34_000 (jinak vyvolá výjimku `Exception`),\n",
    "7. vytvoř instanční metodu `zobraz_info`, která vypisuje výstup: `\"Jméno: <JMENO>, Věk: <VEK>\"`,\n",
    "8. vytvoř *weak private* instanční metodu `vypocitej_dan` jako 20% z platu."
   ]
  },
  {
   "cell_type": "code",
   "execution_count": null,
   "metadata": {
    "tags": []
   },
   "outputs": [],
   "source": []
  },
  {
   "cell_type": "markdown",
   "metadata": {},
   "source": [
    "<details>\n",
    "    <summary>▶️ Řešení</summary>\n",
    "    \n",
    "```python\n",
    "class Zamestnanec:\n",
    "    \n",
    "    def __init__(self, jmeno):\n",
    "        self.jmeno = jmeno\n",
    "        self._vek = None\n",
    "        self.__plat = None\n",
    "\n",
    "    def nastav_vek(self, vek: int) -> None:\n",
    "        if 18 <= vek <= 65:\n",
    "            self._vek = vek\n",
    "        else:\n",
    "            raise Exception(\n",
    "                \"Hodnota parametru 'vek' nesmí být menší než 18 a větší než 65.\"\n",
    "            )\n",
    "    \n",
    "    def nastav_plat(self, plat: int) -> None:\n",
    "        if plat >= 34_000:\n",
    "            self.__plat = plat\n",
    "        else:\n",
    "            raise Exception(\n",
    "                \"Minimální mzda činí 35.000,- Kč.\"\n",
    "            )\n",
    "\n",
    "    def zobraz_info(self):\n",
    "        print(f\"Jméno: {self.jmeno}, Věk: {self._vek}\")\n",
    "\n",
    "    def _vypocitej_dan(self):\n",
    "        return self.__plat * 0.20\n",
    "```\n",
    "    \n",
    "</details>"
   ]
  },
  {
   "cell_type": "markdown",
   "metadata": {},
   "source": [
    "<br>\n",
    "\n",
    "### Přepis klíčového pojmu\n",
    "\n",
    "---"
   ]
  },
  {
   "cell_type": "markdown",
   "metadata": {},
   "source": [
    "Pokud se ti bude krýt **klíčové slovo** se jménem proměnné, *interpret* ti bude vracet **syntaktickou výjimku**:"
   ]
  },
  {
   "cell_type": "code",
   "execution_count": null,
   "metadata": {},
   "outputs": [],
   "source": [
    "class Zamestnanec:\n",
    "\n",
    "    def __init__(self, jmeno: str, email: str):\n",
    "        self.jmeno = jmeno\n",
    "        self.email = email"
   ]
  },
  {
   "cell_type": "code",
   "execution_count": null,
   "metadata": {},
   "outputs": [],
   "source": [
    "class = Employee(\"Matous\", \"matous@gmail.com\")  # rezervovaný výraz 'class'"
   ]
  },
  {
   "cell_type": "markdown",
   "metadata": {},
   "source": [
    "<br>\n",
    "\n",
    "Pokud tomu chceš zabránit, můžeš použít podtržítko jako příponu za klíčovým výrazem:"
   ]
  },
  {
   "cell_type": "code",
   "execution_count": null,
   "metadata": {},
   "outputs": [],
   "source": [
    "class_ = Zamestnanec(\"Matous\", \"matous@gmail.com\")"
   ]
  },
  {
   "cell_type": "code",
   "execution_count": null,
   "metadata": {
    "tags": []
   },
   "outputs": [],
   "source": [
    "print(\n",
    "    class_.jmeno,\n",
    "    class_.email,\n",
    "    sep=\"\\n\"\n",
    ")"
   ]
  },
  {
   "cell_type": "markdown",
   "metadata": {},
   "source": [
    "<br>\n",
    "\n",
    "### Magické metody\n",
    "\n",
    "---"
   ]
  },
  {
   "cell_type": "markdown",
   "metadata": {},
   "source": [
    "Magické metody jsou **speciální metody** v Pythonu (~double-underscore methods = dunder methods).\n",
    "\n",
    "Mezi magické metody patří i `__init__`, tedy instanční konstruktor.\n",
    "\n",
    "<br>\n",
    "\n",
    "Tyto metody jsou v podstatě ozubenými kolečky, které pohání soustrojí Pythonu:"
   ]
  },
  {
   "cell_type": "code",
   "execution_count": null,
   "metadata": {
    "tags": []
   },
   "outputs": [],
   "source": [
    "len((0.1, 0.2, 0.3))"
   ]
  },
  {
   "cell_type": "code",
   "execution_count": null,
   "metadata": {
    "tags": []
   },
   "outputs": [],
   "source": [
    "(0.1, 0.2, 0.3).__len__()  # len()"
   ]
  },
  {
   "cell_type": "code",
   "execution_count": null,
   "metadata": {
    "tags": []
   },
   "outputs": [],
   "source": [
    "cislo = 3"
   ]
  },
  {
   "cell_type": "code",
   "execution_count": null,
   "metadata": {
    "tags": []
   },
   "outputs": [],
   "source": [
    "cislo.__eq__(3)  # =="
   ]
  },
  {
   "cell_type": "code",
   "execution_count": null,
   "metadata": {
    "tags": []
   },
   "outputs": [],
   "source": [
    "cislo.__eq__(4)  # =="
   ]
  },
  {
   "cell_type": "code",
   "execution_count": null,
   "metadata": {
    "tags": []
   },
   "outputs": [],
   "source": [
    "cislo.__add__(7) # +"
   ]
  },
  {
   "cell_type": "markdown",
   "metadata": {},
   "source": [
    "<br>\n",
    "\n",
    "Na funkcionalitě těchto metod závisí na pozadí prakticky celá řada objektů."
   ]
  },
  {
   "cell_type": "code",
   "execution_count": null,
   "metadata": {
    "tags": []
   },
   "outputs": [],
   "source": [
    "class Zamestnanec:\n",
    "\n",
    "    def __init__(self, jmeno: str, email: str):\n",
    "        self.jmeno = jmeno\n",
    "        self.email = email"
   ]
  },
  {
   "cell_type": "code",
   "execution_count": null,
   "metadata": {
    "tags": []
   },
   "outputs": [],
   "source": [
    "matous = Zamestnanec(\"Matous\", \"matous@gmail.com\")"
   ]
  },
  {
   "cell_type": "code",
   "execution_count": null,
   "metadata": {
    "tags": []
   },
   "outputs": [],
   "source": [
    "print(\n",
    "    matous,\n",
    "    str(matous),\n",
    "    repr(matous),\n",
    "    sep=\"\\n\"\n",
    ")"
   ]
  },
  {
   "cell_type": "markdown",
   "metadata": {},
   "source": [
    "<br>\n",
    "\n",
    "Pokud potřebuješ upravit **informativní výstup** ohledně instance třídy `Zamestnanec`, můžeš přepsat (~overloadovat) metodu `__str__`:"
   ]
  },
  {
   "cell_type": "code",
   "execution_count": null,
   "metadata": {
    "tags": []
   },
   "outputs": [],
   "source": [
    "class Zamestnanec:\n",
    "\n",
    "    def __init__(self, jmeno: str, email: str):\n",
    "        self.jmeno = jmeno\n",
    "        self.email = email\n",
    "        \n",
    "    def __str__(self) -> str:\n",
    "        return f\"Jméno zaměstnance: {self.jmeno}\""
   ]
  },
  {
   "cell_type": "code",
   "execution_count": null,
   "metadata": {
    "tags": []
   },
   "outputs": [],
   "source": [
    "matous = Zamestnanec(\"Matous\", \"matous@gmail.com\")"
   ]
  },
  {
   "cell_type": "code",
   "execution_count": null,
   "metadata": {
    "tags": []
   },
   "outputs": [],
   "source": [
    "print(\n",
    "    matous,\n",
    "    str(matous),\n",
    "    sep=\"\\n\"\n",
    ")"
   ]
  },
  {
   "cell_type": "markdown",
   "metadata": {},
   "source": [
    "<br>\n",
    "\n",
    "Reprezentovat objekt lze dvěma metodami:\n",
    "1. Přepsání metody `__str__` (neformální, slouží hlavně uživateli),\n",
    "2. přepsání metody `__repr__` (formální, logy a debuggování)."
   ]
  },
  {
   "cell_type": "code",
   "execution_count": null,
   "metadata": {
    "tags": []
   },
   "outputs": [],
   "source": [
    "import datetime"
   ]
  },
  {
   "cell_type": "code",
   "execution_count": null,
   "metadata": {
    "tags": []
   },
   "outputs": [],
   "source": [
    "aktualni_datum_cas = datetime.datetime.now()"
   ]
  },
  {
   "cell_type": "code",
   "execution_count": null,
   "metadata": {
    "tags": []
   },
   "outputs": [],
   "source": [
    "aktualni_datum_cas        # __repr__"
   ]
  },
  {
   "cell_type": "code",
   "execution_count": null,
   "metadata": {
    "tags": []
   },
   "outputs": [],
   "source": [
    "print(aktualni_datum_cas) # __str__"
   ]
  },
  {
   "cell_type": "code",
   "execution_count": null,
   "metadata": {
    "tags": []
   },
   "outputs": [],
   "source": [
    "type(aktualni_datum_cas)"
   ]
  },
  {
   "cell_type": "markdown",
   "metadata": {},
   "source": [
    "<br>\n",
    "\n",
    "Pokud budeš chtít aplikovat vlastní metody u svojí třídy:"
   ]
  },
  {
   "cell_type": "code",
   "execution_count": null,
   "metadata": {
    "tags": []
   },
   "outputs": [],
   "source": [
    "class Zamestnanec:\n",
    "\n",
    "    def __init__(self, jmeno: str, email: str):\n",
    "        self.jmeno = jmeno\n",
    "        self.email = email\n",
    "        \n",
    "    def __str__(self) -> str:\n",
    "        return f\"Jméno zaměstnance: {self.jmeno}\"\n",
    "    \n",
    "    def __repr__(self):\n",
    "        return f\"{type(self).__name__}(jmeno={self.jmeno!r})\""
   ]
  },
  {
   "cell_type": "code",
   "execution_count": null,
   "metadata": {
    "tags": []
   },
   "outputs": [],
   "source": [
    "matous = Zamestnanec(\"Matous\", \"matous@gmail.com\")"
   ]
  },
  {
   "cell_type": "code",
   "execution_count": null,
   "metadata": {
    "tags": []
   },
   "outputs": [],
   "source": [
    "print(\n",
    "    str(matous),\n",
    "    repr(matous),\n",
    "    sep=\"\\n\"\n",
    ")"
   ]
  },
  {
   "cell_type": "code",
   "execution_count": null,
   "metadata": {
    "tags": []
   },
   "outputs": [],
   "source": [
    "matous.__dict__"
   ]
  },
  {
   "cell_type": "markdown",
   "metadata": {},
   "source": [
    "<br>\n",
    "\n",
    "Použití **magických metod** je jeden z pokročilejších prvků OOP."
   ]
  },
  {
   "cell_type": "markdown",
   "metadata": {},
   "source": [
    "#### Další přetěžování magických metod\n",
    "\n",
    "---"
   ]
  },
  {
   "cell_type": "markdown",
   "metadata": {},
   "source": [
    "Sčítání celých a desetinných čísel je dobře známé:"
   ]
  },
  {
   "cell_type": "code",
   "execution_count": null,
   "metadata": {
    "tags": []
   },
   "outputs": [],
   "source": [
    "print(11 + 9)"
   ]
  },
  {
   "cell_type": "markdown",
   "metadata": {},
   "source": [
    "<br>\n",
    "\n",
    "Stejně tak si umíš představit *konkatenaci* stringů:"
   ]
  },
  {
   "cell_type": "code",
   "execution_count": null,
   "metadata": {
    "tags": []
   },
   "outputs": [],
   "source": [
    "print('Matouš' + ' Holinka')"
   ]
  },
  {
   "cell_type": "markdown",
   "metadata": {},
   "source": [
    "<br>\n",
    "\n",
    "Co když ale budeš potřebovat **sčítat dvoudimenzionální vektory**:"
   ]
  },
  {
   "cell_type": "code",
   "execution_count": null,
   "metadata": {
    "tags": []
   },
   "outputs": [],
   "source": [
    "class Vektor2D:\n",
    "    def __init__(self, rozmer_x: int, rozmer_y: int):\n",
    "        self.rozmer_x = rozmer_x\n",
    "        self.rozmer_y = rozmer_y"
   ]
  },
  {
   "cell_type": "code",
   "execution_count": null,
   "metadata": {
    "tags": []
   },
   "outputs": [],
   "source": [
    "v1 = Vektor2D(rozmer_x=5, rozmer_y=4)\n",
    "v2 = Vektor2D(rozmer_x=7, rozmer_y=6)"
   ]
  },
  {
   "cell_type": "code",
   "execution_count": null,
   "metadata": {
    "tags": []
   },
   "outputs": [],
   "source": [
    "print(v1 + v2)"
   ]
  },
  {
   "cell_type": "markdown",
   "metadata": {},
   "source": [
    "<br>\n",
    "\n",
    "V takovém případě sčítání není možné.\n",
    "\n",
    "Pro objekt `Vektor2D`, není sčítání podporováno."
   ]
  },
  {
   "cell_type": "code",
   "execution_count": null,
   "metadata": {
    "tags": []
   },
   "outputs": [],
   "source": [
    "class Vektor2D:\n",
    "    def __init__(self, rozmer_x: int, rozmer_y: int):\n",
    "        self.rozmer_x = rozmer_x\n",
    "        self.rozmer_y = rozmer_y\n",
    "        \n",
    "    def __add__(self, druhy_vektor: Vektor2D):\n",
    "        return [self.rozmer_x + druhy_vektor.rozmer_x, self.rozmer_y + druhy_vektor.rozmer_y]"
   ]
  },
  {
   "cell_type": "code",
   "execution_count": null,
   "metadata": {
    "tags": []
   },
   "outputs": [],
   "source": [
    "v1 = Vektor2D(rozmer_x=5, rozmer_y=4)\n",
    "v2 = Vektor2D(rozmer_x=7, rozmer_y=6)"
   ]
  },
  {
   "cell_type": "code",
   "execution_count": null,
   "metadata": {
    "tags": []
   },
   "outputs": [],
   "source": [
    "print(v1 + v2)"
   ]
  },
  {
   "cell_type": "markdown",
   "metadata": {},
   "source": [
    "<br>\n",
    "\n",
    "### 🧠 CVIČENÍ 🧠, Vytvoř třídu `NakupniKosik` a následující:\n",
    "---"
   ]
  },
  {
   "cell_type": "markdown",
   "metadata": {},
   "source": [
    "1. Definuj| třídu `NakupniKosik`,\n",
    "2. nachystej instanční konstruktor, který potřebuje **nemá parametry**,\n",
    "3. uprav instanční konstruktor, aby nachystal *weak private* atribut `polozky` jako `dict`,\n",
    "4. definuj magickou metodu `__str__`, která vrací `\"Nákupní košík: <POLOZKY_NAKUPNIHO_KOSIKU>\"`,\n",
    "5. vytvoř instanční metodu `pridat_polozku` s parametry `nazev: str` a `mnozstvi: int`,\n",
    "6. instanční metoda `pridat_polozku` nejprve ověří parametr `nazev` pomocí další statické metody `overit_polozku`,\n",
    "7. pokud `nazev` ve `overit_polozku` statické metodě potvrdí, že je argument `str` a současně není prázdný, vrací `True`, jinak `False`,\n",
    "8. pokud statická metoda `overit_polozku` vrací `True`, tak instanční metoda `pridat_polozku`, založí hodnotu v `polozky` jako `polozky[nazev] = mnozstvi`,\n",
    "9. pokud už daný produkt máš v `polozky`, potom **inkrementuj** původní hodnotu a novou hodnotu,\n",
    "10. vytvoř instanční metodu `odebrat_polozku` s parametry `nazev: str`,\n",
    "11. pokud je argument v `nazev` součástí `polozky`, odstraň jej,\n",
    "12. vytvoř třídní metodu `vytvorit_s_ukazkovymi_polozkami`,\n",
    "13. metoda `vytvorit_s_ukazkovymi_polozkami` do původního prázdného `dict` se jménem `polozky` sama přidá **5 jablek** a **3 hrušky**."
   ]
  },
  {
   "cell_type": "code",
   "execution_count": null,
   "metadata": {
    "tags": []
   },
   "outputs": [],
   "source": []
  },
  {
   "cell_type": "code",
   "execution_count": null,
   "metadata": {
    "tags": []
   },
   "outputs": [],
   "source": [
    "kosik = NakupniKosik.vytvorit_s_ukazkovymi_polozkami()"
   ]
  },
  {
   "cell_type": "code",
   "execution_count": null,
   "metadata": {
    "tags": []
   },
   "outputs": [],
   "source": [
    "print(kosik)"
   ]
  },
  {
   "cell_type": "code",
   "execution_count": null,
   "metadata": {
    "tags": []
   },
   "outputs": [],
   "source": [
    "kosik.pridat_polozku(\"banány\", 2)"
   ]
  },
  {
   "cell_type": "code",
   "execution_count": null,
   "metadata": {
    "tags": []
   },
   "outputs": [],
   "source": [
    "print(kosik)"
   ]
  },
  {
   "cell_type": "code",
   "execution_count": null,
   "metadata": {
    "tags": []
   },
   "outputs": [],
   "source": [
    "kosik.odebrat_polozku(\"hrušky\")"
   ]
  },
  {
   "cell_type": "code",
   "execution_count": null,
   "metadata": {
    "tags": []
   },
   "outputs": [],
   "source": [
    "print(kosik)"
   ]
  },
  {
   "cell_type": "markdown",
   "metadata": {},
   "source": [
    "<details>\n",
    "    <summary>▶️ Řešení</summary>\n",
    "    \n",
    "```python\n",
    "class NakupniKosik:\n",
    "    def __init__(self):\n",
    "        self._polozky = {}\n",
    "\n",
    "    def __str__(self):\n",
    "        return f\"Nákupní košík: {self._polozky}\"\n",
    "\n",
    "    def pridat_polozku(self, nazev: str, mnozstvi: int) -> None:\n",
    "        if self.overit_polozku(nazev):\n",
    "            self._polozky[nazev] = self._polozky.get(nazev, 0) + mnozstvi\n",
    "\n",
    "    def odebrat_polozku(self, nazev: str):\n",
    "        if nazev in self._polozky:\n",
    "            del self._polozky[nazev]\n",
    "\n",
    "    @staticmethod\n",
    "    def overit_polozku(nazev: str):\n",
    "        return isinstance(nazev, str) and nazev != \"\"\n",
    "\n",
    "    @classmethod\n",
    "    def vytvorit_s_ukazkovymi_polozkami(cls):\n",
    "        kosik = cls()\n",
    "        kosik.pridat_polozku(\"jablka\", 5)\n",
    "        kosik.pridat_polozku(\"hrušky\", 3)\n",
    "        return kosik\n",
    "```\n",
    "</details>"
   ]
  },
  {
   "cell_type": "markdown",
   "metadata": {},
   "source": [
    "<br>\n",
    "\n",
    "### 🧠 CVIČENÍ 🧠, Vytvoř třídu `Uzivatel`, která bude tvořena následovným:\n",
    "---"
   ]
  },
  {
   "cell_type": "markdown",
   "metadata": {},
   "source": [
    "- Definujte třídu `Uzivatel`,\n",
    "- nachystej instanční konstruktor, který potřebuje parametry `vlastnik` a `naposledy_aktivni`,\n",
    "- uprav instanční atribut `vlastnik` jako protected atribut,\n",
    "- vytvoř metodu `zobraz_uzivatele`, která vrací výraz se jménem uživatele,\n",
    "- vytvoř metodu `prihlaseni_uzivatele`, která vytvoří **private instanční atribut** `nyni_aktivni`, kam se uloží aktuální datum a čas,\n",
    "- vytvoř metodu `zobraz_prihlaseni`, která vypíše aktuální čas uživatele (nenaformátovaný),\n",
    "- vytvoř magickou metodu `__str__`, která naformátuj `str` podle:`Uživatel: <vlastnik> je aktivní od: <dd/mm/YYYY HH:MM:SS>.`,\n",
    "- vytvoř statickou metodu `je_aktivni`, která pracuje s parametry `posledni_prihlaseni` a `aktualni_prihlaseni`,\n",
    "- metoda `je_aktivni` vrací `True`/`False`, pokud rozdíl mezi parametry `_nyni_aktivni` a `naposledy_aktivni` je menší než 365 dní."
   ]
  },
  {
   "cell_type": "code",
   "execution_count": null,
   "metadata": {
    "tags": []
   },
   "outputs": [],
   "source": [
    "from pandas import to_datetime, Timestamp"
   ]
  },
  {
   "cell_type": "code",
   "execution_count": null,
   "metadata": {},
   "outputs": [],
   "source": []
  },
  {
   "cell_type": "markdown",
   "metadata": {},
   "source": [
    "<details>\n",
    "    <summary>▶️ Řešení</summary>\n",
    "    \n",
    "```python\n",
    "class Uzivatel:\n",
    "    \"\"\"\n",
    "    Objekt reprezentující uživ. účet pro fiktivní\n",
    "    web. projekt s nákupem knih.\n",
    "    \"\"\"\n",
    "\n",
    "    def __init__(self, vlastnik: str):\n",
    "        self.__vlastnik = vlastnik\n",
    "        self.naposledy_aktivni = Timestamp(2021, 4, 5, 11, 11, 11)\n",
    "\n",
    "    def prihlaseni_uzivatele(self):\n",
    "        self._nyni_aktivni = to_datetime('today')\n",
    "\n",
    "    def zobraz_prihlaseni(self):\n",
    "        return self._nyni_aktivni\n",
    "\n",
    "    def zobraz_uzivatele(self):\n",
    "        return self.__vlastnik\n",
    "\n",
    "    def __str__(self) -> str:\n",
    "        return f\"Uživatel: {self.zobraz_uzivatele()} je aktivní od: {self.zobraz_prihlaseni().strftime('%d/%m/%Y %H:%M:%S')}.\"\n",
    "\n",
    "    @staticmethod\n",
    "    def je_aktivni(posledni_prihlaseni, aktualni_prihlaseni: str) -> bool:\n",
    "        \"\"\"\n",
    "        Vrať boolean hodnotu True, pokud se uživatel naposledy přihlásil méně než před 365 dny.\n",
    "        Jinak vrať False.\n",
    "        \"\"\"\n",
    "        return (Timestamp(aktualni_prihlaseni) - Timestamp(posledni_prihlaseni)).days < 365\n",
    "```\n",
    "</details>"
   ]
  },
  {
   "cell_type": "markdown",
   "metadata": {},
   "source": [
    "[Formulář, zpětná vazba po druhé lekci](https://forms.gle/Y2bKaUkHPtAK299s5)"
   ]
  },
  {
   "cell_type": "markdown",
   "metadata": {},
   "source": [
    "---"
   ]
  }
 ],
 "metadata": {
  "kernelspec": {
   "display_name": "Python 3 (ipykernel)",
   "language": "python",
   "name": "python3"
  },
  "language_info": {
   "codemirror_mode": {
    "name": "ipython",
    "version": 3
   },
   "file_extension": ".py",
   "mimetype": "text/x-python",
   "name": "python",
   "nbconvert_exporter": "python",
   "pygments_lexer": "ipython3",
   "version": "3.8.10"
  }
 },
 "nbformat": 4,
 "nbformat_minor": 4
}
