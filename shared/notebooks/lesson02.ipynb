{
 "cells": [
  {
   "cell_type": "markdown",
   "metadata": {},
   "source": [
    "# Python objektově orientované programování\n",
    "\n",
    "---"
   ]
  },
  {
   "cell_type": "markdown",
   "metadata": {},
   "source": [
    "1. [Rozdělení metod](),\n",
    "    - [instanční metoda](),\n",
    "    - [statická metoda](),\n",
    "    - [třídní metoda](),\n",
    "    - [cvičení 3](),\n",
    "2. [podtržítka v Pythonu](),\n",
    "    - [přeskoč](),\n",
    "    - [privátní proměnné](),\n",
    "    - [chráněné proměnné](),\n",
    "    - [přepis klíčového slova](),\n",
    "    - [magická metoda](),\n",
    "    - [cvičení 4](),\n",
    "3. [vlastnosti třídy](),\n",
    "    - [setter](),\n",
    "    - [getter](),\n",
    "    - [deleter](),\n",
    "    - [cvičení 5](),"
   ]
  },
  {
   "cell_type": "code",
   "execution_count": null,
   "metadata": {},
   "outputs": [],
   "source": []
  },
  {
   "cell_type": "markdown",
   "metadata": {},
   "source": [
    "<br>\n",
    "\n",
    "\n",
    "## Metody v OOP\n",
    "\n",
    "---\n",
    "\n",
    "<img src=\"https://external-content.duckduckgo.com/iu/?u=https%3A%2F%2Ftse1.mm.bing.net%2Fth%3Fid%3DOIP.6MU4ScqH-1D93XRpyEYF4AHaHa%26pid%3DApi&f=1&ipt=03e1caf2482e1b90758340dcb676d181c012a20af163e9308f80f29ae4f6cc27&ipo=images\" width=\"250\" style=\"margin-left:auto; margin-right:auto\"/>\n",
    "\n",
    "Klasickou metodu můžeš popsat jak uživatelskou funkci:"
   ]
  },
  {
   "cell_type": "code",
   "execution_count": 11,
   "metadata": {
    "tags": []
   },
   "outputs": [],
   "source": [
    "class Zamestnanec:\n",
    "    cislo_zamestnance: int = 0\n",
    "    \n",
    "    def __init__(self, jmeno: str, prijmeni: str):\n",
    "        self.jmeno = jmeno\n",
    "        self.prijmeni = prijmeni\n",
    "        \n",
    "    def vytvor_cele_jmeno(self) -> str:\n",
    "        return f\"{self.jmeno} {self.prijmeni}\""
   ]
  },
  {
   "cell_type": "markdown",
   "metadata": {},
   "source": [
    "<br>\n",
    "\n",
    "...která spadá nebo také náleží **třídě samotné**."
   ]
  },
  {
   "cell_type": "code",
   "execution_count": 6,
   "metadata": {
    "tags": []
   },
   "outputs": [
    {
     "ename": "NameError",
     "evalue": "name 'vytvor_cele_jmeno' is not defined",
     "output_type": "error",
     "traceback": [
      "\u001b[0;31m---------------------------------------------------------------------------\u001b[0m",
      "\u001b[0;31mNameError\u001b[0m                                 Traceback (most recent call last)",
      "Cell \u001b[0;32mIn[6], line 1\u001b[0m\n\u001b[0;32m----> 1\u001b[0m \u001b[43mvytvor_cele_jmeno\u001b[49m()\n",
      "\u001b[0;31mNameError\u001b[0m: name 'vytvor_cele_jmeno' is not defined"
     ]
    }
   ],
   "source": [
    "vytvor_cele_jmeno()"
   ]
  },
  {
   "cell_type": "code",
   "execution_count": 12,
   "metadata": {
    "tags": []
   },
   "outputs": [],
   "source": [
    "matous = Zamestnanec(\"Matouš\", \"Holinka\")"
   ]
  },
  {
   "cell_type": "code",
   "execution_count": 13,
   "metadata": {
    "tags": []
   },
   "outputs": [
    {
     "data": {
      "text/plain": [
       "'Matouš Holinka'"
      ]
     },
     "execution_count": 13,
     "metadata": {},
     "output_type": "execute_result"
    }
   ],
   "source": [
    "matous.vytvor_cele_jmeno()"
   ]
  },
  {
   "cell_type": "markdown",
   "metadata": {},
   "source": [
    "<br>\n",
    "\n",
    "Metoda, která má mj. mezi parametry klíčový výraz `self`.\n",
    "\n",
    "Tím dovede zpřístupnit jak třídu (a její *atributy*), tak *instance*:"
   ]
  },
  {
   "cell_type": "code",
   "execution_count": 14,
   "metadata": {
    "tags": []
   },
   "outputs": [
    {
     "data": {
      "text/plain": [
       "0"
      ]
     },
     "execution_count": 14,
     "metadata": {},
     "output_type": "execute_result"
    }
   ],
   "source": [
    "matous.cislo_zamestnance"
   ]
  },
  {
   "cell_type": "code",
   "execution_count": 15,
   "metadata": {
    "tags": []
   },
   "outputs": [
    {
     "data": {
      "text/plain": [
       "0"
      ]
     },
     "execution_count": 15,
     "metadata": {},
     "output_type": "execute_result"
    }
   ],
   "source": [
    "Zamestnanec.cislo_zamestnance"
   ]
  },
  {
   "cell_type": "markdown",
   "metadata": {},
   "source": [
    "<br>\n",
    "\n",
    "Zápis metod se může ovšem lišit.\n",
    "\n",
    "Existuje několik variant použití metod:\n",
    "1. **Klasická** metoda,\n",
    "2. **statická** metoda,\n",
    "3. **třídní** metoda."
   ]
  },
  {
   "cell_type": "markdown",
   "metadata": {},
   "source": [
    "<br>\n",
    "\n",
    "### Statická metoda\n",
    "\n",
    "---"
   ]
  },
  {
   "cell_type": "markdown",
   "metadata": {},
   "source": [
    "Tento typ metody poznáš na první pohled:"
   ]
  },
  {
   "cell_type": "code",
   "execution_count": 16,
   "metadata": {
    "tags": []
   },
   "outputs": [],
   "source": [
    "from pathlib import Path"
   ]
  },
  {
   "cell_type": "code",
   "execution_count": 30,
   "metadata": {
    "tags": []
   },
   "outputs": [],
   "source": [
    "class GeneratorTextovehoSouboru:\n",
    "    def __init__(self, jmeno_souboru: str):\n",
    "        self.obsah = list()\n",
    "        self.jmeno_souboru = jmeno_souboru\n",
    "\n",
    "    def pridej_obsah(self, obsah: str) -> None:\n",
    "        self.obsah.append(obsah)\n",
    "            \n",
    "    @staticmethod\n",
    "    def existuje_soubor(jmeno_souboru: str) -> bool:\n",
    "        return Path(jmeno_souboru).is_file()"
   ]
  },
  {
   "cell_type": "markdown",
   "metadata": {},
   "source": [
    "<br>\n",
    "\n",
    "U statické metody si můžeš všimnout podle:\n",
    "1. Dekorátoru `@staticmethod`,\n",
    "2. chybějícího parametru `self`."
   ]
  },
  {
   "cell_type": "markdown",
   "metadata": {},
   "source": [
    "Jedná o takovou metodu, která má logickou vazbu (je zapouzdřená) na **konkrétní třídu** nebo **instanci**:"
   ]
  },
  {
   "cell_type": "code",
   "execution_count": 31,
   "metadata": {
    "tags": []
   },
   "outputs": [],
   "source": [
    "poznamky = GeneratorTextovehoSouboru(\"moje_poznamky.txt\")"
   ]
  },
  {
   "cell_type": "code",
   "execution_count": 32,
   "metadata": {
    "tags": []
   },
   "outputs": [
    {
     "data": {
      "text/plain": [
       "True"
      ]
     },
     "execution_count": 32,
     "metadata": {},
     "output_type": "execute_result"
    }
   ],
   "source": [
    "poznamky.existuje_soubor(\"moje_poznamky.txt\")"
   ]
  },
  {
   "cell_type": "code",
   "execution_count": 33,
   "metadata": {
    "tags": []
   },
   "outputs": [
    {
     "data": {
      "text/plain": [
       "True"
      ]
     },
     "execution_count": 33,
     "metadata": {},
     "output_type": "execute_result"
    }
   ],
   "source": [
    "GeneratorTextovehoSouboru.existuje_soubor(\"moje_poznamky.txt\")"
   ]
  },
  {
   "cell_type": "markdown",
   "metadata": {},
   "source": [
    "...ale tyto metody nemají přístup **ani k instančním, ani k třídním atributům**:"
   ]
  },
  {
   "cell_type": "code",
   "execution_count": 26,
   "metadata": {
    "tags": []
   },
   "outputs": [],
   "source": [
    "class GeneratorTextovehoSouboru:\n",
    "    def __init__(self, jmeno_souboru: str):\n",
    "        self.obsah = list()\n",
    "        self.jmeno_souboru = jmeno_souboru\n",
    "\n",
    "    def pridej_obsah(self, obsah: str) -> None:\n",
    "        self.obsah.append(obsah)\n",
    "            \n",
    "    @staticmethod\n",
    "    def existuje_soubor(jmeno_souboru: str) -> bool:\n",
    "        return Path(self.jmeno_souboru).is_file()"
   ]
  },
  {
   "cell_type": "code",
   "execution_count": 27,
   "metadata": {
    "tags": []
   },
   "outputs": [],
   "source": [
    "poznamky = GeneratorTextovehoSouboru(\"moje_poznamky.txt\")"
   ]
  },
  {
   "cell_type": "code",
   "execution_count": 28,
   "metadata": {
    "tags": []
   },
   "outputs": [
    {
     "ename": "NameError",
     "evalue": "name 'self' is not defined",
     "output_type": "error",
     "traceback": [
      "\u001b[0;31m---------------------------------------------------------------------------\u001b[0m",
      "\u001b[0;31mNameError\u001b[0m                                 Traceback (most recent call last)",
      "Cell \u001b[0;32mIn[28], line 1\u001b[0m\n\u001b[0;32m----> 1\u001b[0m \u001b[43mpoznamky\u001b[49m\u001b[38;5;241;43m.\u001b[39;49m\u001b[43mexistuje_soubor\u001b[49m\u001b[43m(\u001b[49m\u001b[38;5;124;43m\"\u001b[39;49m\u001b[38;5;124;43mmoje_poznamky.txt\u001b[39;49m\u001b[38;5;124;43m\"\u001b[39;49m\u001b[43m)\u001b[49m\n",
      "Cell \u001b[0;32mIn[26], line 11\u001b[0m, in \u001b[0;36mGeneratorTextovehoSouboru.existuje_soubor\u001b[0;34m(jmeno_souboru)\u001b[0m\n\u001b[1;32m      9\u001b[0m \u001b[38;5;129m@staticmethod\u001b[39m\n\u001b[1;32m     10\u001b[0m \u001b[38;5;28;01mdef\u001b[39;00m \u001b[38;5;21mexistuje_soubor\u001b[39m(jmeno_souboru: \u001b[38;5;28mstr\u001b[39m) \u001b[38;5;241m-\u001b[39m\u001b[38;5;241m>\u001b[39m \u001b[38;5;28mbool\u001b[39m:\n\u001b[0;32m---> 11\u001b[0m     \u001b[38;5;28;01mreturn\u001b[39;00m Path(\u001b[38;5;28;43mself\u001b[39;49m\u001b[38;5;241m.\u001b[39mjmeno_souboru)\u001b[38;5;241m.\u001b[39mis_file()\n",
      "\u001b[0;31mNameError\u001b[0m: name 'self' is not defined"
     ]
    }
   ],
   "source": [
    "poznamky.existuje_soubor(\"moje_poznamky.txt\")"
   ]
  },
  {
   "cell_type": "markdown",
   "metadata": {},
   "source": [
    "<br>\n",
    "\n",
    "Pokud budeš **podobných tříd chystat víc** (pro `txt`, `json`, `csv`, `parquet`,... atd.)."
   ]
  },
  {
   "cell_type": "code",
   "execution_count": 29,
   "metadata": {
    "tags": []
   },
   "outputs": [],
   "source": [
    "class GeneratorTextovehoSouboru:\n",
    "    def __init__(self, jmeno_souboru: str):\n",
    "        self.obsah = list()\n",
    "        self.jmeno_souboru = jmeno_souboru\n",
    "\n",
    "    def pridej_obsah(self, obsah: str) -> None:\n",
    "        self.obsah.append(obsah)"
   ]
  },
  {
   "cell_type": "markdown",
   "metadata": {},
   "source": [
    "<br>\n",
    "\n",
    "Je vhodnější udělat z ní oddělenou obecnou *uživatelskou funkci*:"
   ]
  },
  {
   "cell_type": "code",
   "execution_count": 21,
   "metadata": {
    "tags": []
   },
   "outputs": [],
   "source": [
    "def existuje_soubor(jmeno_souboru: str) -> bool:\n",
    "    return Path(jmeno_souboru).is_file()"
   ]
  },
  {
   "cell_type": "code",
   "execution_count": 22,
   "metadata": {
    "tags": []
   },
   "outputs": [
    {
     "data": {
      "text/plain": [
       "'moje_poznamky.txt'"
      ]
     },
     "execution_count": 22,
     "metadata": {},
     "output_type": "execute_result"
    }
   ],
   "source": [
    "poznamky.jmeno_souboru"
   ]
  },
  {
   "cell_type": "code",
   "execution_count": 23,
   "metadata": {
    "tags": []
   },
   "outputs": [
    {
     "data": {
      "text/plain": [
       "True"
      ]
     },
     "execution_count": 23,
     "metadata": {},
     "output_type": "execute_result"
    }
   ],
   "source": [
    "existuje_soubor(\"moje_poznamky.txt\")"
   ]
  },
  {
   "cell_type": "code",
   "execution_count": 24,
   "metadata": {
    "tags": []
   },
   "outputs": [
    {
     "data": {
      "text/plain": [
       "True"
      ]
     },
     "execution_count": 24,
     "metadata": {},
     "output_type": "execute_result"
    }
   ],
   "source": [
    "existuje_soubor(\"lesson02.ipynb\")"
   ]
  },
  {
   "cell_type": "markdown",
   "metadata": {},
   "source": [
    "<br>\n",
    "\n",
    "V takovém případě si můžeš říct, jaký má význam vůbec zapisovat **statickou metodu**.\n",
    "\n",
    "Pokud tebou vytvořená metoda **nebude mít uplatnění u jiných tříd**, nebo bude **logickou svázaná s účelem třídy**, je lepší ji zahrnout:"
   ]
  },
  {
   "cell_type": "code",
   "execution_count": 25,
   "metadata": {
    "tags": []
   },
   "outputs": [],
   "source": [
    "class MatematickeOperace:\n",
    "    \"\"\"Objekt zahrnující různé matematické operace\"\"\"\n",
    "\n",
    "    @staticmethod\n",
    "    def secti_dve_cisla(x: int, y: int) -> int:\n",
    "        return x + y\n",
    "    \n",
    "    @staticmethod\n",
    "    def odecti_dve_cisla(x: int, y: int) -> int:\n",
    "        return x - y"
   ]
  },
  {
   "cell_type": "markdown",
   "metadata": {},
   "source": [
    "<br>\n",
    "\n",
    "### Třídní metoda\n",
    "\n",
    "---"
   ]
  },
  {
   "cell_type": "markdown",
   "metadata": {},
   "source": [
    "Pokud potřebuješ v rámci metody odkazovat na jinou třídu nebo instanci, může to být indikátor pro **třídní metodu**:"
   ]
  },
  {
   "cell_type": "code",
   "execution_count": 11,
   "metadata": {
    "tags": []
   },
   "outputs": [],
   "source": [
    "class Zamestnanec:\n",
    "    zvyseni_mzdy = 1.06\n",
    "\n",
    "    def __init__(self, jmeno: str, prijmeni: str, mzda: int):\n",
    "        self.jmeno = jmeno\n",
    "        self.prijmeni = prijmeni\n",
    "        self.mzda = mzda\n",
    "\n",
    "    @classmethod\n",
    "    def zvys_mzdu(cls, hodnota: int):\n",
    "        \"\"\"\n",
    "        Přepíše hodnotu třídního atributu \"zvyseni_mzdy\".\n",
    "        \"\"\"\n",
    "        cls.zvyseni_mzdy = hodnota"
   ]
  },
  {
   "cell_type": "markdown",
   "metadata": {
    "tags": []
   },
   "source": [
    "<br>\n",
    "\n",
    "Třídní metoda je na první pohled patrná:\n",
    "1. Dekorátor `@classmethod`,\n",
    "2. chybí pomocný parametr `self`,\n",
    "3. objevuje se nový pomocný parametr `cls`."
   ]
  },
  {
   "cell_type": "code",
   "execution_count": 13,
   "metadata": {
    "tags": []
   },
   "outputs": [],
   "source": [
    "matous = Zamestnanec('Matouš', 'Holinka', 80_000)\n",
    "karolina = Zamestnanec('Karolína', 'Šikovná', 100_000)"
   ]
  },
  {
   "cell_type": "code",
   "execution_count": 17,
   "metadata": {
    "tags": []
   },
   "outputs": [
    {
     "name": "stdout",
     "output_type": "stream",
     "text": [
      "1.06\n",
      "1.06\n"
     ]
    }
   ],
   "source": [
    "print(\n",
    "    matous.zvyseni_mzdy,\n",
    "    karolina.zvyseni_mzdy,\n",
    "    sep=\"\\n\"\n",
    ")"
   ]
  },
  {
   "cell_type": "code",
   "execution_count": 18,
   "metadata": {},
   "outputs": [],
   "source": [
    "Zamestnanec.zvys_mzdu(1.1)"
   ]
  },
  {
   "cell_type": "code",
   "execution_count": 19,
   "metadata": {
    "tags": []
   },
   "outputs": [
    {
     "name": "stdout",
     "output_type": "stream",
     "text": [
      "1.1\n",
      "1.1\n"
     ]
    }
   ],
   "source": [
    "print(\n",
    "    matous.zvyseni_mzdy,\n",
    "    karolina.zvyseni_mzdy,\n",
    "    sep=\"\\n\"\n",
    ")"
   ]
  },
  {
   "cell_type": "markdown",
   "metadata": {},
   "source": [
    "<br>\n",
    "\n",
    "Použití třídních metod je vhodné tehdy, pokud potřebuješ uchopit instance, nebo třídní atributy.\n",
    "\n",
    "Můžeš použít metodu i přes jméno instance, ale obvykle se to nedělá.\n",
    "\n",
    "V naprosté většině případů budeš pracovat přímo s třídou."
   ]
  },
  {
   "cell_type": "markdown",
   "metadata": {},
   "source": [
    "<br>\n",
    "\n",
    "Zvýšení mzdy ovšem můžeš provést také přímo:"
   ]
  },
  {
   "cell_type": "code",
   "execution_count": 20,
   "metadata": {},
   "outputs": [],
   "source": [
    "Zamestnanec.zvyseni_mzdy = 1.11"
   ]
  },
  {
   "cell_type": "code",
   "execution_count": 21,
   "metadata": {
    "tags": []
   },
   "outputs": [
    {
     "name": "stdout",
     "output_type": "stream",
     "text": [
      "1.11\n",
      "1.11\n"
     ]
    }
   ],
   "source": [
    "print(\n",
    "    matous.zvyseni_mzdy,\n",
    "    karolina.zvyseni_mzdy,\n",
    "    sep=\"\\n\"\n",
    ")"
   ]
  },
  {
   "cell_type": "markdown",
   "metadata": {},
   "source": [
    "<br>\n",
    "\n",
    "Kde je tedy výhoda nyní, pokud mám kratší a čistší zápis.\n",
    "\n",
    "Skutečný benefit spočívá ve **vytvoření alternativního třídního konstruktoru**.\n",
    "\n",
    "<br>\n",
    "\n",
    "Představ si, že dostaneš zadané zaměstnance v externím souboru, mj:"
   ]
  },
  {
   "cell_type": "code",
   "execution_count": 22,
   "metadata": {
    "tags": []
   },
   "outputs": [],
   "source": [
    "zamestnanec_3 = \"Petr;Svetr;110_000\""
   ]
  },
  {
   "cell_type": "markdown",
   "metadata": {},
   "source": [
    "<br>\n",
    "\n",
    "Nyní budeš muset zdrojový kód **přepisovat a hodnoty rozdělovat**:"
   ]
  },
  {
   "cell_type": "code",
   "execution_count": 24,
   "metadata": {
    "tags": []
   },
   "outputs": [],
   "source": [
    "petr = Zamestnanec(*zamestnanec_3.split(\";\"))"
   ]
  },
  {
   "cell_type": "code",
   "execution_count": 26,
   "metadata": {
    "tags": []
   },
   "outputs": [
    {
     "name": "stdout",
     "output_type": "stream",
     "text": [
      "Petr\n",
      "Svetr\n",
      "110_000\n"
     ]
    }
   ],
   "source": [
    "print(\n",
    "    petr.jmeno,\n",
    "    petr.prijmeni,\n",
    "    petr.mzda,\n",
    "    sep=\"\\n\"\n",
    ")"
   ]
  },
  {
   "cell_type": "markdown",
   "metadata": {},
   "source": [
    "Dekorátor `@classmethod` uvidíš v maximální míře u metod, pojmenovaných jako:\n",
    "- `from_`,\n",
    "- `make_`,\n",
    "- `create_`.\n",
    "\n",
    "Jejich účel je jednoduše **zefektivnit tvoření nových instancí** (z různých souborů, vstupů obecně)."
   ]
  },
  {
   "cell_type": "code",
   "execution_count": 27,
   "metadata": {
    "tags": []
   },
   "outputs": [],
   "source": [
    "class Zamestnanec:\n",
    "    zvyseni_mzdy = 1.06\n",
    "\n",
    "    def __init__(self, jmeno: str, prijmeni: str, mzda: int):\n",
    "        self.jmeno = jmeno\n",
    "        self.prijmeni = prijmeni\n",
    "        self.mzda = mzda\n",
    "\n",
    "    @classmethod\n",
    "    def from_string(cls, zadany_str: str):\n",
    "        \"\"\"\n",
    "        Vytvoří novou instanci třídy 'Zamestnanec' ze zadaného stringu.\n",
    "        \"\"\"\n",
    "        try:\n",
    "            jmeno, prijmeni, mzda = zadany_str.split(\";\")\n",
    "            \n",
    "        except Exception:\n",
    "            instance = None\n",
    "        else:\n",
    "            instance = cls(jmeno, prijmeni, mzda)\n",
    "        finally:\n",
    "            return instance"
   ]
  },
  {
   "cell_type": "code",
   "execution_count": 30,
   "metadata": {},
   "outputs": [],
   "source": [
    "filip = Zamestnanec.from_string(\"Filip;Svědomitý;90_000\")"
   ]
  },
  {
   "cell_type": "code",
   "execution_count": 31,
   "metadata": {
    "tags": []
   },
   "outputs": [
    {
     "name": "stdout",
     "output_type": "stream",
     "text": [
      "Filip\n",
      "Svědomitý\n",
      "90_000\n"
     ]
    }
   ],
   "source": [
    "print(\n",
    "    filip.jmeno,\n",
    "    filip.prijmeni,\n",
    "    filip.mzda,\n",
    "    sep=\"\\n\"\n",
    ")"
   ]
  },
  {
   "cell_type": "markdown",
   "metadata": {
    "tags": []
   },
   "source": [
    "<br>\n",
    "\n",
    "Praktická ukázka pro modul `datetime`.\n",
    "\n",
    "### Shrnutí k metodám\n",
    "1. **instanční metoda** - může upravit **nejenom objekty instance, ale i třídy** (na začátku vidí jak třídu, tak instanci),\n",
    "2. **statická metoda (`@staticmethod`)** - nemůže upravovat **ani objekty instancí, ani objekty třídy** (nevidí ani třídu, ani instanci),\n",
    "3. **třídní metoda (`@classmethod`)** - může upravit objekty třídy, ale nemůže upravovat objekty instancí (vidí třídu, ale ne instanci),\n"
   ]
  },
  {
   "cell_type": "markdown",
   "metadata": {},
   "source": [
    "<br>\n",
    "\n",
    "### 🧠 CVIČENÍ 🧠, Vytvoř třídu `CustomerSupport`, která bude tvořena následovným\n",
    "---"
   ]
  },
  {
   "cell_type": "markdown",
   "metadata": {},
   "source": [
    "Jste správce obchodní společnosti a potřebujete spravovat detaily svých produktů. Vytvořte třídu Product, která bude mít následující instanční atributy: name (název), price (cena) a stock (skladová zásoba). Tato třída by měla také obsahovat instanční metody restock(navýšení skladu) a sell(prodej). Restock metoda by měla zvýšit skladovou zásobu o zadaný počet kusů a sell metoda by měla snížit skladovou zásobu o zadaný počet kusů.\n",
    "\n",
    "Dále by třída měla mít třídní metodu product_count, která by vracela celkový počet vytvořených produktů.\n",
    "\n",
    "A konečně třída by měla mít statickou metodu vat, která by přijímala cenu produktu a vracela cenu produktu s daní (předpokládejte daň 21 %):\n",
    "- Definujte třídu Product s požadovanými atributy a metodami.\n",
    "- Vytvořte tři různé instance třídy Product.\n",
    "- Uplatněte instanční metody restock a sell na instancích.\n",
    "- Vypište celkový počet produktů pomocí třídní metody.\n",
    "- Vypočítejte cenu produktu s daní pomocí statické metody vat."
   ]
  },
  {
   "cell_type": "code",
   "execution_count": null,
   "metadata": {},
   "outputs": [],
   "source": [
    "class Product:\n",
    "    product_counter = 0\n",
    "\n",
    "    def __init__(self, name, price, stock=0):\n",
    "        self.name = name\n",
    "        self.price = price\n",
    "        self.stock = stock\n",
    "        Product.product_counter += 1\n",
    "\n",
    "    def restock(self, quantity):\n",
    "        self.stock += quantity\n",
    "\n",
    "    def sell(self, quantity):\n",
    "        if quantity <= self.stock:\n",
    "            self.stock -= quantity\n",
    "        else:\n",
    "            print(f\"Na skladě není dostatečné množství produktu {self.name}.\")\n",
    "\n",
    "    @classmethod\n",
    "    def product_count(cls):\n",
    "        return cls.product_counter\n",
    "\n",
    "    @staticmethod\n",
    "    def vat(price):\n",
    "        return price * 1.21\n",
    "\n",
    "\n",
    "# Vytvoření instancí třídy Product\n",
    "product1 = Product(\"Notebook\", 20000, 10)\n",
    "product2 = Product(\"Telefon\", 15000, 15)\n",
    "product3 = Product(\"Sluchátka\", 2000, 50)\n",
    "\n",
    "# Uplatnění instančních metod\n",
    "product1.restock(5)\n",
    "product2.sell(2)\n",
    "\n",
    "# Vypsání celkového počtu produktů\n",
    "print(f\"Celkový počet produktů: {Product.product_count()}\")\n",
    "\n",
    "# Výpočet ceny s daní\n",
    "print(f\"Cena notebooku s DPH: {Product.vat(product1.price)}\")\n"
   ]
  },
  {
   "cell_type": "markdown",
   "metadata": {},
   "source": [
    "<details>\n",
    "    <summary>▶️ Řešení</summary>\n",
    "    \n",
    "    ```\n",
    "    import uuid\n",
    "    import random\n",
    "    import datetime\n",
    "\n",
    "\n",
    "    class TicketGenerator:\n",
    "        \"\"\"Create tickets from the given parameters.\"\"\"\n",
    "        fmt: str = \"%d/%m/%y, %H:%M:%S\"\n",
    "\n",
    "        def __init__(self, user: str, issue: str):\n",
    "            self.user = user\n",
    "            self.issue = issue\n",
    "            self.uuid: uuid.UUID = uuid.uuid4()\n",
    "            self.date: str = datetime.datetime.now().strftime(self.fmt)\n",
    "\n",
    "\n",
    "    class CustomerSupport:\n",
    "        \"\"\"Process the tickets\"\"\"\n",
    "\n",
    "        def __init__(self, priority: range):\n",
    "            self.priority = priority\n",
    "            self.tickets: list = []\n",
    "\n",
    "        def create_ticket(self, user: str, issue: str) -> None:\n",
    "            self.tickets.append(TicketGenerator(user, issue))\n",
    "\n",
    "        def process_ticket(self) -> None:\n",
    "            if not self.tickets:\n",
    "                print(\"There are no unresolved tickets, well done..\")\n",
    "            else:\n",
    "                for ticket in self.tickets:\n",
    "                    importance: int = random.choice(self.priority) # add specific value as parameter\n",
    "                    self.show_status(ticket, importance)\n",
    "\n",
    "        def show_status(self, ticket: TicketGenerator, priority: int) -> None:\n",
    "            print(\n",
    "                f\"Created: {ticket.date}\",\n",
    "                f\"Processing ticket id: {ticket.uuid}\",\n",
    "                f\"Issue: {ticket.issue}\",\n",
    "                f\"Customer: {ticket.user}\",\n",
    "                f\"Importance: {priority}\",\n",
    "                \"=\" * 58,\n",
    "                sep=\"\\n\"\n",
    "            )\n",
    "    ```\n",
    "</details>"
   ]
  },
  {
   "cell_type": "markdown",
   "metadata": {},
   "source": [
    "<br>\n",
    "\n",
    "\n",
    "## Funkce podtržítek v Pythonu\n",
    "\n",
    "---\n",
    "\n",
    "<img src=\"https://external-content.duckduckgo.com/iu/?u=https%3A%2F%2Ftse1.mm.bing.net%2Fth%3Fid%3DOIP.8ObUIt44K49qv0G2eYdmqAAAAA%26pid%3DApi&f=1&ipt=4ef5166c4d2c904e5726bfa4fc6a86083ba591dd1ca94a892a7fb32e47629016&ipo=images\" width=\"250\" style=\"margin-left:auto; margin-right:auto\"/>\n",
    "\n",
    "Podtržítko je **syntaktický znak** v Pythonu, který má nejeden důležitý význam:\n",
    "1. Poslední výraz `_`,\n",
    "2. izoluj výraz `_`,\n",
    "2. privátní proměnná  `_jmeno`,\n",
    "3. chráněná proměnná `__jmeno`,\n",
    "4. přepis pro klíčové slovo `class_`,\n",
    "5. magická metoda `__init__`."
   ]
  },
  {
   "cell_type": "markdown",
   "metadata": {},
   "source": [
    "<br>\n",
    "\n",
    "### Poslední výraz\n",
    "\n",
    "---"
   ]
  },
  {
   "cell_type": "code",
   "execution_count": 38,
   "metadata": {
    "tags": []
   },
   "outputs": [
    {
     "data": {
      "text/plain": [
       "'Marek'"
      ]
     },
     "execution_count": 38,
     "metadata": {},
     "output_type": "execute_result"
    }
   ],
   "source": [
    "\"Marek\""
   ]
  },
  {
   "cell_type": "code",
   "execution_count": 39,
   "metadata": {
    "tags": []
   },
   "outputs": [
    {
     "data": {
      "text/plain": [
       "'Marek'"
      ]
     },
     "execution_count": 39,
     "metadata": {},
     "output_type": "execute_result"
    }
   ],
   "source": [
    "_"
   ]
  },
  {
   "cell_type": "code",
   "execution_count": 40,
   "metadata": {
    "tags": []
   },
   "outputs": [
    {
     "data": {
      "text/plain": [
       "120"
      ]
     },
     "execution_count": 40,
     "metadata": {},
     "output_type": "execute_result"
    }
   ],
   "source": [
    "1 + 119"
   ]
  },
  {
   "cell_type": "code",
   "execution_count": 41,
   "metadata": {
    "tags": []
   },
   "outputs": [
    {
     "data": {
      "text/plain": [
       "120"
      ]
     },
     "execution_count": 41,
     "metadata": {},
     "output_type": "execute_result"
    }
   ],
   "source": [
    "_"
   ]
  },
  {
   "cell_type": "markdown",
   "metadata": {},
   "source": [
    "<br>\n",
    "\n",
    "Takové chování ale oceníš především v prostředích *notebooků* a *interpretu*.\n",
    "\n",
    "Ve zdrojovém souboru nemá prakticky tímto způsobem použití."
   ]
  },
  {
   "cell_type": "markdown",
   "metadata": {},
   "source": [
    "<br>\n",
    "\n",
    "### Izoluj výraz\n",
    "\n",
    "---"
   ]
  },
  {
   "cell_type": "markdown",
   "metadata": {},
   "source": [
    "Praktické použití nabývá samotné podtržítko ve skriptu jako **izolátor nepodstatných hodnot**:"
   ]
  },
  {
   "cell_type": "code",
   "execution_count": 43,
   "metadata": {
    "tags": []
   },
   "outputs": [],
   "source": [
    "import time"
   ]
  },
  {
   "cell_type": "code",
   "execution_count": 44,
   "metadata": {
    "tags": []
   },
   "outputs": [
    {
     "name": "stdout",
     "output_type": "stream",
     "text": [
      "Kontroluji status..\n",
      "Kontroluji status..\n",
      "Kontroluji status..\n",
      "Kontroluji status..\n",
      "Kontroluji status..\n"
     ]
    }
   ],
   "source": [
    "for _ in range(5):\n",
    "    print(\"Kontroluji status..\")\n",
    "    time.sleep(1)"
   ]
  },
  {
   "cell_type": "markdown",
   "metadata": {},
   "source": [
    "<br>\n",
    "\n",
    "Označená výrazu v předpisu smyčky v takovém případě nemá smysl.\n",
    "\n",
    "Jelikož ji v celém těle smyčky **nepotřebuješ používat**:"
   ]
  },
  {
   "cell_type": "code",
   "execution_count": 45,
   "metadata": {
    "tags": []
   },
   "outputs": [
    {
     "name": "stdout",
     "output_type": "stream",
     "text": [
      "0\n",
      "1\n",
      "2\n"
     ]
    }
   ],
   "source": [
    "for index, _ in enumerate((\"Matouš\", \"Marcel\", \"Filip\")):\n",
    "    print(index)"
   ]
  },
  {
   "cell_type": "markdown",
   "metadata": {},
   "source": [
    "<br>\n",
    "\n",
    "Případně pro **vícenásobné přiřazování proměnných**:"
   ]
  },
  {
   "cell_type": "code",
   "execution_count": 46,
   "metadata": {
    "tags": []
   },
   "outputs": [],
   "source": [
    "jmeno, _, _ = \"Filip;Svědomitý;90_000\".split(\";\")"
   ]
  },
  {
   "cell_type": "code",
   "execution_count": 47,
   "metadata": {
    "tags": []
   },
   "outputs": [
    {
     "data": {
      "text/plain": [
       "'Filip'"
      ]
     },
     "execution_count": 47,
     "metadata": {},
     "output_type": "execute_result"
    }
   ],
   "source": [
    "jmeno"
   ]
  },
  {
   "cell_type": "code",
   "execution_count": null,
   "metadata": {},
   "outputs": [],
   "source": []
  },
  {
   "cell_type": "markdown",
   "metadata": {},
   "source": [
    "<br>\n",
    "\n",
    "### Privátní proměnná (~weak private)\n",
    "\n",
    "---"
   ]
  },
  {
   "cell_type": "markdown",
   "metadata": {},
   "source": [
    "Další použití podtržítka je **v rámci jména**:\n",
    "1. *uživatelské funkce*,\n",
    "2. *metody*."
   ]
  },
  {
   "cell_type": "markdown",
   "metadata": {},
   "source": [
    "Některé jazyky dále umožňují práci s pomocí **privátních** (*soukromých*) proměnných (př. Java):"
   ]
  },
  {
   "cell_type": "code",
   "execution_count": 48,
   "metadata": {},
   "outputs": [],
   "source": [
    "import time"
   ]
  },
  {
   "cell_type": "code",
   "execution_count": 61,
   "metadata": {},
   "outputs": [],
   "source": [
    "class VerifikatorLogu:\n",
    "    \"\"\"Objekt, který představuje reprezentaci souboru logů.\"\"\"\n",
    "    \n",
    "    def __init__(self, jmeno: str):\n",
    "        self.jmeno = jmeno\n",
    "        self._limit = 3\n",
    "        \n",
    "    def kontroluj_log(self) -> None:\n",
    "        for _ in range(self._limit):\n",
    "            print(f\"Kontroluji soubor logu..\")\n",
    "            time.sleep(1)\n",
    "        else:\n",
    "            print(f\"Soubor: '{self.jmeno}' je v pořádku.\")"
   ]
  },
  {
   "cell_type": "markdown",
   "metadata": {},
   "source": [
    "<br>\n",
    "\n",
    "Jedno podtržítko tady funguje pouze jako indikátor.\n",
    "\n",
    "Ten ostatním uživatelům zdrojového kódu dává vědět, že je **privátní proměnnou**.\n",
    "\n",
    "Jinými slovy je to interní objekt, NEUPRAVUJ jej."
   ]
  },
  {
   "cell_type": "code",
   "execution_count": 62,
   "metadata": {},
   "outputs": [],
   "source": [
    "protokol_1 = VerifikatorLogu(\"protokol_1.log\")\n",
    "protokol_2 = VerifikatorLogu(\"protokol_2.log\")"
   ]
  },
  {
   "cell_type": "code",
   "execution_count": 63,
   "metadata": {},
   "outputs": [
    {
     "name": "stdout",
     "output_type": "stream",
     "text": [
      "3\n",
      "3\n"
     ]
    }
   ],
   "source": [
    "print(\n",
    "    protokol_1._limit,\n",
    "    protokol_2._limit,\n",
    "    sep=\"\\n\"\n",
    ")"
   ]
  },
  {
   "cell_type": "code",
   "execution_count": 64,
   "metadata": {},
   "outputs": [
    {
     "name": "stdout",
     "output_type": "stream",
     "text": [
      "Kontroluji soubor logu..\n",
      "Kontroluji soubor logu..\n",
      "Kontroluji soubor logu..\n",
      "Soubor: protokol_2.log je v pořádku.\n"
     ]
    }
   ],
   "source": [
    "protokol_2.kontroluj_log()"
   ]
  },
  {
   "cell_type": "markdown",
   "metadata": {},
   "source": [
    "<br>\n",
    "\n",
    "Obvykle je vhodné v dokumentaci doplnit, k jakému účelu atribut slouží a jak pracovat mimo něj.\n",
    "\n",
    "Python je ovšem až moc tolerantní a *intepret* ti dovolí proměnou používat a přepisovat."
   ]
  },
  {
   "cell_type": "code",
   "execution_count": 65,
   "metadata": {
    "tags": []
   },
   "outputs": [],
   "source": [
    "protokol_1._limit = 2"
   ]
  },
  {
   "cell_type": "code",
   "execution_count": 66,
   "metadata": {
    "tags": []
   },
   "outputs": [
    {
     "name": "stdout",
     "output_type": "stream",
     "text": [
      "2\n",
      "3\n"
     ]
    }
   ],
   "source": [
    "print(\n",
    "    protokol_1._limit,\n",
    "    protokol_2._limit,\n",
    "    sep=\"\\n\"\n",
    ")"
   ]
  },
  {
   "cell_type": "markdown",
   "metadata": {
    "tags": []
   },
   "source": [
    "<br>\n",
    "\n",
    "Pokud takovou hodnotu přepíšeš, můžeš pozměnit funkcionalitu skriptu, což není žádoucí.\n",
    "\n",
    "V ukázce výš by nemusela kratší doba pro kontrolu logu stačit."
   ]
  },
  {
   "cell_type": "markdown",
   "metadata": {},
   "source": [
    "<br>\n",
    "\n",
    "### Chráněná proměnná (~strong private)\n",
    "\n",
    "---"
   ]
  },
  {
   "cell_type": "markdown",
   "metadata": {},
   "source": [
    "Pomocí **dvou podtržítek** může uživatel definovat **chráněné** proměnné:"
   ]
  },
  {
   "cell_type": "code",
   "execution_count": null,
   "metadata": {},
   "outputs": [],
   "source": [
    "import time"
   ]
  },
  {
   "cell_type": "code",
   "execution_count": 72,
   "metadata": {},
   "outputs": [],
   "source": [
    "class VerifikatorLogu:\n",
    "    \"\"\"Objekt, který představuje reprezentaci souboru logů.\"\"\"\n",
    "    \n",
    "    def __init__(self, jmeno: str):\n",
    "        self.jmeno = jmeno\n",
    "        self.__limit = 3\n",
    "        \n",
    "    def kontroluj_log(self) -> None:\n",
    "        for _ in range(self.__limit):\n",
    "            print(f\"Kontroluji soubor logu..\")\n",
    "            time.sleep(1)\n",
    "        else:\n",
    "            print(f\"Soubor: '{self.jmeno}' je v pořádku.\")"
   ]
  },
  {
   "cell_type": "markdown",
   "metadata": {},
   "source": [
    "<br>\n",
    "\n",
    "Takové zadání ještě zdůrazňuje důležitost proměnné.\n",
    "\n",
    "Uživateli znemožní výraz jednodušše přepsat, přetypovat (přistoupit k němu obecně):"
   ]
  },
  {
   "cell_type": "code",
   "execution_count": 73,
   "metadata": {},
   "outputs": [],
   "source": [
    "protokol_1 = VerifikatorLogu(\"protokol_1.log\")\n",
    "protokol_2 = VerifikatorLogu(\"protokol_2.log\")"
   ]
  },
  {
   "cell_type": "code",
   "execution_count": 74,
   "metadata": {},
   "outputs": [
    {
     "ename": "AttributeError",
     "evalue": "'VerifikatorLogu' object has no attribute '__limit'",
     "output_type": "error",
     "traceback": [
      "\u001b[0;31m---------------------------------------------------------------------------\u001b[0m",
      "\u001b[0;31mAttributeError\u001b[0m                            Traceback (most recent call last)",
      "Cell \u001b[0;32mIn[74], line 1\u001b[0m\n\u001b[0;32m----> 1\u001b[0m \u001b[38;5;28mprint\u001b[39m(\u001b[43mprotokol_1\u001b[49m\u001b[38;5;241;43m.\u001b[39;49m\u001b[43m__limit\u001b[49m)\n",
      "\u001b[0;31mAttributeError\u001b[0m: 'VerifikatorLogu' object has no attribute '__limit'"
     ]
    }
   ],
   "source": [
    "print(protokol_1.__limit)"
   ]
  },
  {
   "cell_type": "markdown",
   "metadata": {},
   "source": [
    "<br>\n",
    "\n",
    "Takhle jej uživatel nenajde tak snadno.\n",
    "\n",
    "Pořád je ale možné, výraz ručně vyhledat a dát si práci s přepsaním:"
   ]
  },
  {
   "cell_type": "code",
   "execution_count": 75,
   "metadata": {
    "tags": []
   },
   "outputs": [
    {
     "name": "stdout",
     "output_type": "stream",
     "text": [
      "{'jmeno': 'protokol_1.log', '_VerifikatorLogu__limit': 3}\n"
     ]
    }
   ],
   "source": [
    "print(protokol_1.__dict__)"
   ]
  },
  {
   "cell_type": "markdown",
   "metadata": {},
   "source": [
    "<br>\n",
    "\n",
    "Magická metoda `__dict__` ti dovolí vypsat všechny instanční atributy, kde najdeš i chráněné proměnné:"
   ]
  },
  {
   "cell_type": "code",
   "execution_count": 77,
   "metadata": {
    "tags": []
   },
   "outputs": [
    {
     "name": "stdout",
     "output_type": "stream",
     "text": [
      "3\n"
     ]
    }
   ],
   "source": [
    "print(protokol_1._VerifikatorLogu__limit)"
   ]
  },
  {
   "cell_type": "code",
   "execution_count": 78,
   "metadata": {
    "tags": []
   },
   "outputs": [],
   "source": [
    "protokol_1._VerifikatorLogu__limit = 10"
   ]
  },
  {
   "cell_type": "code",
   "execution_count": 79,
   "metadata": {
    "tags": []
   },
   "outputs": [
    {
     "name": "stdout",
     "output_type": "stream",
     "text": [
      "10\n"
     ]
    }
   ],
   "source": [
    "print(protokol_1._VerifikatorLogu__limit)"
   ]
  },
  {
   "cell_type": "markdown",
   "metadata": {},
   "source": [
    "<br>\n",
    "\n",
    "*Interpret* takový atribut chrání jeho **implicitním přejmenování**.\n",
    "\n",
    "Takže druhé podtržítko v podstatě znamená další vrstvu ochrany."
   ]
  },
  {
   "cell_type": "markdown",
   "metadata": {},
   "source": [
    "<br>\n",
    "\n",
    "### Přepis klíčového pojmu\n",
    "\n",
    "---"
   ]
  },
  {
   "cell_type": "markdown",
   "metadata": {},
   "source": [
    "Pokud se ti bude krýt **klíčové slovo** se jménem proměnné, *interpret* ti bude vracet **syntaktickou výjimku**:"
   ]
  },
  {
   "cell_type": "code",
   "execution_count": 83,
   "metadata": {},
   "outputs": [],
   "source": [
    "class Zamestnanec:\n",
    "    def __init__(self, jmeno: str, email: str):\n",
    "        self.jmeno = jmeno\n",
    "        self.email = email"
   ]
  },
  {
   "cell_type": "code",
   "execution_count": 84,
   "metadata": {},
   "outputs": [
    {
     "ename": "SyntaxError",
     "evalue": "invalid syntax (901670304.py, line 1)",
     "output_type": "error",
     "traceback": [
      "\u001b[0;36m  Cell \u001b[0;32mIn[84], line 1\u001b[0;36m\u001b[0m\n\u001b[0;31m    class = Employee(\"Matous\", \"matous@gmail.com\")  # rezervovaný výraz 'class'\u001b[0m\n\u001b[0m          ^\u001b[0m\n\u001b[0;31mSyntaxError\u001b[0m\u001b[0;31m:\u001b[0m invalid syntax\n"
     ]
    }
   ],
   "source": [
    "class = Employee(\"Matous\", \"matous@gmail.com\")  # rezervovaný výraz 'class'"
   ]
  },
  {
   "cell_type": "markdown",
   "metadata": {},
   "source": [
    "<br>\n",
    "\n",
    "Pokud tomu chceš zabránit, můžeš použít podtržítko jako příponu za klíčovým výrazem:"
   ]
  },
  {
   "cell_type": "code",
   "execution_count": 85,
   "metadata": {},
   "outputs": [],
   "source": [
    "class_ = Zamestnanec(\"Matous\", \"matous@gmail.com\")"
   ]
  },
  {
   "cell_type": "code",
   "execution_count": 86,
   "metadata": {
    "tags": []
   },
   "outputs": [
    {
     "name": "stdout",
     "output_type": "stream",
     "text": [
      "Matous\n",
      "matous@gmail.com\n"
     ]
    }
   ],
   "source": [
    "print(\n",
    "    class_.jmeno,\n",
    "    class_.email,\n",
    "    sep=\"\\n\"\n",
    ")"
   ]
  },
  {
   "cell_type": "markdown",
   "metadata": {},
   "source": [
    "<br>\n",
    "\n",
    "### Magické metody\n",
    "\n",
    "---"
   ]
  },
  {
   "cell_type": "markdown",
   "metadata": {},
   "source": [
    "Magické metody jsou **speciální metody** v Pythonu (~double-underscore methods = dunder methods).\n",
    "\n",
    "Mezi magické metody patří i `__init__`, tedy instanční konstruktor.\n",
    "\n",
    "<br>\n",
    "\n",
    "Tyto metody jsou v podstatě ozubenými kolečky, které pohání soustrojí Pythonu:"
   ]
  },
  {
   "cell_type": "code",
   "execution_count": 87,
   "metadata": {
    "tags": []
   },
   "outputs": [
    {
     "data": {
      "text/plain": [
       "3"
      ]
     },
     "execution_count": 87,
     "metadata": {},
     "output_type": "execute_result"
    }
   ],
   "source": [
    "len((0.1, 0.2, 0.3))"
   ]
  },
  {
   "cell_type": "code",
   "execution_count": 89,
   "metadata": {
    "tags": []
   },
   "outputs": [
    {
     "data": {
      "text/plain": [
       "3"
      ]
     },
     "execution_count": 89,
     "metadata": {},
     "output_type": "execute_result"
    }
   ],
   "source": [
    "(0.1, 0.2, 0.3).__len__()  # len()"
   ]
  },
  {
   "cell_type": "code",
   "execution_count": 97,
   "metadata": {
    "tags": []
   },
   "outputs": [],
   "source": [
    "cislo = 3"
   ]
  },
  {
   "cell_type": "code",
   "execution_count": 98,
   "metadata": {
    "tags": []
   },
   "outputs": [
    {
     "data": {
      "text/plain": [
       "True"
      ]
     },
     "execution_count": 98,
     "metadata": {},
     "output_type": "execute_result"
    }
   ],
   "source": [
    "cislo.__eq__(3)  # =="
   ]
  },
  {
   "cell_type": "code",
   "execution_count": 99,
   "metadata": {
    "tags": []
   },
   "outputs": [
    {
     "data": {
      "text/plain": [
       "False"
      ]
     },
     "execution_count": 99,
     "metadata": {},
     "output_type": "execute_result"
    }
   ],
   "source": [
    "cislo.__eq__(4)  # =="
   ]
  },
  {
   "cell_type": "code",
   "execution_count": 100,
   "metadata": {
    "tags": []
   },
   "outputs": [
    {
     "data": {
      "text/plain": [
       "10"
      ]
     },
     "execution_count": 100,
     "metadata": {},
     "output_type": "execute_result"
    }
   ],
   "source": [
    "cislo.__add__(7) # +"
   ]
  },
  {
   "cell_type": "markdown",
   "metadata": {},
   "source": [
    "<br>\n",
    "\n",
    "Na funkcionalitě těchto metod závisí na pozadí prakticky celá řada objektů."
   ]
  },
  {
   "cell_type": "code",
   "execution_count": null,
   "metadata": {},
   "outputs": [],
   "source": []
  },
  {
   "cell_type": "code",
   "execution_count": 101,
   "metadata": {
    "tags": []
   },
   "outputs": [],
   "source": [
    "class Zamestnanec:\n",
    "    def __init__(self, jmeno: str, email: str):\n",
    "        self.jmeno = jmeno\n",
    "        self.email = email"
   ]
  },
  {
   "cell_type": "code",
   "execution_count": 102,
   "metadata": {
    "tags": []
   },
   "outputs": [],
   "source": [
    "matous = Zamestnanec(\"Matous\", \"matous@gmail.com\")"
   ]
  },
  {
   "cell_type": "code",
   "execution_count": 116,
   "metadata": {
    "tags": []
   },
   "outputs": [
    {
     "name": "stdout",
     "output_type": "stream",
     "text": [
      "Jméno zaměstnance: Matous\n",
      "Jméno zaměstnance: Matous\n",
      "Zamestnanec(jmeno='Matous')\n"
     ]
    }
   ],
   "source": [
    "print(\n",
    "    matous,\n",
    "    str(matous),\n",
    "    repr(matous),\n",
    "    sep=\"\\n\"\n",
    ")"
   ]
  },
  {
   "cell_type": "markdown",
   "metadata": {},
   "source": [
    "<br>\n",
    "\n",
    "Pokud potřebuješ upravit informativní výstup ohledně instance třídy `Zamestnanec`, můžeš přepsat (~overloadovat) metodu `__str__`:"
   ]
  },
  {
   "cell_type": "code",
   "execution_count": 104,
   "metadata": {
    "tags": []
   },
   "outputs": [],
   "source": [
    "class Zamestnanec:\n",
    "\n",
    "    def __init__(self, jmeno: str, email: str):\n",
    "        self.jmeno = jmeno\n",
    "        self.email = email\n",
    "        \n",
    "    def __str__(self) -> str:\n",
    "        return f\"Jméno zaměstnance: {self.jmeno}\""
   ]
  },
  {
   "cell_type": "code",
   "execution_count": 105,
   "metadata": {
    "tags": []
   },
   "outputs": [],
   "source": [
    "matous = Zamestnanec(\"Matous\", \"matous@gmail.com\")"
   ]
  },
  {
   "cell_type": "code",
   "execution_count": 106,
   "metadata": {
    "tags": []
   },
   "outputs": [
    {
     "name": "stdout",
     "output_type": "stream",
     "text": [
      "Jméno zaměstnance: Matous\n"
     ]
    }
   ],
   "source": [
    "print(matous)"
   ]
  },
  {
   "cell_type": "markdown",
   "metadata": {},
   "source": [
    "<br>\n",
    "\n",
    "Reprezentovat objekt lze dvěma metodami:\n",
    "1. Přepsání metody `__str__` (neformální, slouží hlavně uživateli),\n",
    "2. přepsání metody `__repr__` (formální, logy a debuggování)."
   ]
  },
  {
   "cell_type": "code",
   "execution_count": 107,
   "metadata": {
    "tags": []
   },
   "outputs": [],
   "source": [
    "import datetime"
   ]
  },
  {
   "cell_type": "code",
   "execution_count": 110,
   "metadata": {
    "tags": []
   },
   "outputs": [],
   "source": [
    "aktualni_datum_cas = datetime.datetime.now()"
   ]
  },
  {
   "cell_type": "code",
   "execution_count": 111,
   "metadata": {
    "tags": []
   },
   "outputs": [
    {
     "data": {
      "text/plain": [
       "datetime.datetime(2023, 5, 18, 10, 3, 38, 129728)"
      ]
     },
     "execution_count": 111,
     "metadata": {},
     "output_type": "execute_result"
    }
   ],
   "source": [
    "aktualni_datum_cas"
   ]
  },
  {
   "cell_type": "code",
   "execution_count": 112,
   "metadata": {
    "tags": []
   },
   "outputs": [
    {
     "name": "stdout",
     "output_type": "stream",
     "text": [
      "2023-05-18 10:03:38.129728\n"
     ]
    }
   ],
   "source": [
    "print(aktualni_datum_cas)"
   ]
  },
  {
   "cell_type": "code",
   "execution_count": 113,
   "metadata": {
    "tags": []
   },
   "outputs": [
    {
     "data": {
      "text/plain": [
       "datetime.datetime"
      ]
     },
     "execution_count": 113,
     "metadata": {},
     "output_type": "execute_result"
    }
   ],
   "source": [
    "type(aktualni_datum_cas)"
   ]
  },
  {
   "cell_type": "markdown",
   "metadata": {},
   "source": [
    "<br>\n",
    "\n",
    "Pokud budeš chtít aplikovat vlastní metody u svojí třídy:"
   ]
  },
  {
   "cell_type": "code",
   "execution_count": 117,
   "metadata": {
    "tags": []
   },
   "outputs": [],
   "source": [
    "class Zamestnanec:\n",
    "\n",
    "    def __init__(self, jmeno: str, email: str):\n",
    "        self.jmeno = jmeno\n",
    "        self.email = email\n",
    "        \n",
    "    def __str__(self) -> str:\n",
    "        return f\"Jméno zaměstnance: {self.jmeno}\"\n",
    "    \n",
    "    def __repr__(self):\n",
    "        return f\"{type(self).__name__}(jmeno={self.jmeno!r})\""
   ]
  },
  {
   "cell_type": "code",
   "execution_count": 118,
   "metadata": {
    "tags": []
   },
   "outputs": [],
   "source": [
    "matous = Zamestnanec(\"Matous\", \"matous@gmail.com\")"
   ]
  },
  {
   "cell_type": "code",
   "execution_count": 120,
   "metadata": {
    "tags": []
   },
   "outputs": [
    {
     "name": "stdout",
     "output_type": "stream",
     "text": [
      "Jméno zaměstnance: Matous\n",
      "Zamestnanec(jmeno='Matous')\n"
     ]
    }
   ],
   "source": [
    "print(\n",
    "    str(matous),\n",
    "    repr(matous),\n",
    "    sep=\"\\n\"\n",
    ")"
   ]
  },
  {
   "cell_type": "markdown",
   "metadata": {},
   "source": [
    "<br>\n",
    "\n",
    "Použití **magických metod** je jeden z pokročilejších prvků OOP."
   ]
  },
  {
   "cell_type": "markdown",
   "metadata": {},
   "source": [
    "#### Vlastnosti třídy\n",
    "\n",
    "---\n",
    "Kdy a kde používat **privátní** a **chráněné** proměnné a proč?\n",
    "\n",
    "<br>\n",
    "\n",
    "Představ si situaci, kdy máš napsat převodník jednotek objemu.\n",
    "\n",
    "<br>\n",
    "\n",
    "Z **litrů** na **pinty**(UK):"
   ]
  },
  {
   "cell_type": "code",
   "execution_count": null,
   "metadata": {},
   "outputs": [],
   "source": [
    "class LiterConvertor:\n",
    "\n",
    "    def __init__(self, liter: int = 0):\n",
    "        self.liter = liter\n",
    "        self.pint_uk_coef: float = 1.759754\n",
    "        self.to_pints: float = self.liter * self.pint_uk_coef"
   ]
  },
  {
   "cell_type": "code",
   "execution_count": null,
   "metadata": {},
   "outputs": [],
   "source": [
    "bottle_volume = LiterConvertor()"
   ]
  },
  {
   "cell_type": "markdown",
   "metadata": {},
   "source": [
    "<br>\n",
    "\n",
    "Hodnotu můžeš nastavit jako **defaultní**, s tím že její hodnotu si uživatel nastaví později sám:"
   ]
  },
  {
   "cell_type": "code",
   "execution_count": null,
   "metadata": {},
   "outputs": [],
   "source": [
    "bottle_volume.liter = 0.75\n",
    "print(bottle_volume.liter)"
   ]
  },
  {
   "cell_type": "code",
   "execution_count": null,
   "metadata": {},
   "outputs": [],
   "source": [
    "print(bottle_volume.to_pints)"
   ]
  },
  {
   "cell_type": "markdown",
   "metadata": {},
   "source": [
    "<br>\n",
    "\n",
    "Interpret použil pro vytvoření hodnoty v proměnné `bottle_volume.pints_uk` původní **defaultní** hodnotu `0` a na přepsání nereaguje.\n",
    "\n",
    "<br>\n",
    "\n",
    "Celý proces můžeš zkontrolovat magickou metodou `__dict__`:"
   ]
  },
  {
   "cell_type": "code",
   "execution_count": null,
   "metadata": {},
   "outputs": [],
   "source": [
    " print(bottle_volume.__dict__)"
   ]
  },
  {
   "cell_type": "markdown",
   "metadata": {},
   "source": [
    "<br>\n",
    "\n",
    "Momentálně uživatel změní hodnotu instančního atributu `liter`, ale to nemá vliv na výpočet, který je stále nulový.\n",
    "\n",
    "<br>\n",
    "\n",
    "Současně se podívej na ostatní atributy, která hodnota je pro tebe kritická?\n",
    "```python\n",
    "self.liter = liter\n",
    "self.pint_uk_coef: float = 1.759754\n",
    "self.to_pints: float = self.liter * self.pint_uk_coef\n",
    "```\n",
    "\n",
    "<br>\n",
    "\n",
    "Programátoři z jiných jazyků, např. Java, by napsali jiné řešení:"
   ]
  },
  {
   "cell_type": "code",
   "execution_count": null,
   "metadata": {},
   "outputs": [],
   "source": [
    "class LiterConvertor:\n",
    "\n",
    "    def __init__(self, liter: int = 0):\n",
    "        self.set_volume_in_liter(liter)\n",
    "        self.pint_uk_coef: float = 1.759754\n",
    "        \n",
    "    def to_pints(self):\n",
    "        return self._liter * self.pint_uk_coef\n",
    "    \n",
    "    def get_volume_in_liter(self):                # getter\n",
    "        return self._liter\n",
    "    \n",
    "    def set_volume_in_liter(self, value: float):  # setter\n",
    "        if value < 0:                             # doplňující podmínka (volitelné)\n",
    "            raise ValueError(\"Cannot process negative number\")\n",
    "        self._liter = value                       # privátní proměnná"
   ]
  },
  {
   "cell_type": "code",
   "execution_count": null,
   "metadata": {},
   "outputs": [],
   "source": [
    "bottle_volume_1 = LiterConvertor()"
   ]
  },
  {
   "cell_type": "code",
   "execution_count": null,
   "metadata": {},
   "outputs": [],
   "source": [
    "bottle_volume_2 = LiterConvertor(0.75)\n",
    "print(\n",
    "    bottle_volume_2.get_volume_in_liter(),  # pro hodnotu musím použít metodu\n",
    "    bottle_volume_2.to_pints(),\n",
    "    sep=\"\\n\"\n",
    ")"
   ]
  },
  {
   "cell_type": "markdown",
   "metadata": {},
   "source": [
    "<br>\n",
    "\n",
    "V tento moment pracujeme s **privátní** proměnnou, tak jak v jiných jazycích."
   ]
  },
  {
   "cell_type": "code",
   "execution_count": null,
   "metadata": {},
   "outputs": [],
   "source": [
    "print(bottle_volume_2.set_volume_in_liter(-1))"
   ]
  },
  {
   "cell_type": "markdown",
   "metadata": {},
   "source": [
    "<br>\n",
    "\n",
    "Podívej se na \"nePythonovské\" řešení a promysli, které objekty jsou pro funkci programu kritické.\n",
    "\n",
    "<br>\n",
    "\n",
    "V tento moment bychom provedli příliš mnoho zásahů do původního zápisu.\n",
    "\n",
    "<br>\n",
    "\n",
    "U každého nového spuštění, bych potřeboval doplnit **kulatou** závorku.\n",
    "\n",
    "<br>\n",
    "\n",
    "Všechny ohlášení `obj.liter` je nutné přepsat na `obj.get_volume_in_liter()` a `obj.liter = val` na `obj.set_volume(val)`.\n",
    "\n",
    "<br>\n",
    "\n",
    "Taková úprava řešení může znamenat problémy na desítky, stovky řádků, protože přidáme nové metody, které je potřeba použít.\n",
    "\n",
    "<br>\n",
    "\n",
    "Pro jednodušší manipulaci do budoucna vyzkoušej práci s **vlastnostmi třídy** pomocí funkce `property`:"
   ]
  },
  {
   "cell_type": "code",
   "execution_count": null,
   "metadata": {},
   "outputs": [],
   "source": [
    "class LiterConvertor:\n",
    "    def __init__(self, liter: float = 0.0):\n",
    "        self.liter = liter\n",
    "        self.pint_uk_coef: float = 1.759754\n",
    "        \n",
    "    def to_pints(self):\n",
    "        return self._liter * self.pint_uk_coef\n",
    "    \n",
    "    def get_volume_in_liter(self):\n",
    "        print(\"Getting..\")\n",
    "        return self._liter\n",
    "    \n",
    "    def set_volume_in_liter(self, value: float):\n",
    "        print(\"Setting..\")\n",
    "        if value < 0:\n",
    "            raise ValueError(\"Cannot process negative number\")\n",
    "        self._liter = value\n",
    "        \n",
    "    liter = property(get_volume_in_liter, set_volume_in_liter)"
   ]
  },
  {
   "cell_type": "code",
   "execution_count": null,
   "metadata": {},
   "outputs": [],
   "source": [
    "volume_1 = LiterConvertor()"
   ]
  },
  {
   "cell_type": "code",
   "execution_count": null,
   "metadata": {},
   "outputs": [],
   "source": [
    "print(volume_1.liter)"
   ]
  },
  {
   "cell_type": "code",
   "execution_count": null,
   "metadata": {},
   "outputs": [],
   "source": [
    "volume_2 = LiterConvertor(0.75)\n",
    "print(\n",
    "    volume_2.liter,      # opět stačí aplikovat jen atribut metody (privátní atribut)\n",
    "    volume_2.to_pints(),\n",
    "    sep=\"\\n\"\n",
    ")"
   ]
  },
  {
   "cell_type": "markdown",
   "metadata": {},
   "source": [
    "<br>\n",
    "\n",
    "Pokaždé, co tentokrát použijeme proměnnou `liter` dojde automaticky k zavolání metody `get_volume_in_liter()`.\n",
    "\n",
    "<br>\n",
    "\n",
    "Stejně tak, pokud budeš chtít přepsat hodnotu v proměnné `liter`, tak dojde ke spuštění metody `set_volume_in_liter()`.\n",
    "\n",
    "<br>\n",
    "\n",
    "Takže pokud použiješ funkci `property()`, nemusíš se omezovat na potřebné úpravy tvého stávajícího skriptu na tolika místech.\n",
    "\n",
    "<br>\n",
    "\n",
    "\n",
    "#### Dekorátory setter, getter, deleter\n",
    "\n",
    "---\n",
    "\n",
    "<br>\n",
    "\n",
    "Zabudovaná funkce `property` při spuštění vytváří objekt `property`. V dokumentaci uvidíš syntaxi:\n",
    "```python\n",
    "property(fget=None, fset=None, fdel=None, doc=None)\n",
    "```\n",
    "\n",
    "<br>\n",
    "\n",
    "V předchozí ukázce jsme zapisovali ručně metody `set_volume` a `get_volume`, které odpovídají volitelným argumentém u funkce `property`.\n",
    "\n",
    "<br>\n",
    "\n",
    "Zkušenější programátoři s těmito atributy pracují pomocí **dekorátorů** `@property` a `@setter`.\n",
    "\n",
    "<br>\n",
    "\n",
    "Pokud **neznáš dekorátory**, nic si z toho nedělej. Pro použití dekorátoru pro `@property` není nutné znát tuto funkcionalitu:"
   ]
  },
  {
   "cell_type": "code",
   "execution_count": null,
   "metadata": {},
   "outputs": [],
   "source": [
    "# možné použití dekorátoru\n",
    "def is_authorized(func):\n",
    "    \n",
    "    def wrapper(user, cmd):      \n",
    "        if user == \"root\":\n",
    "            return func(user, cmd)\n",
    "        else:\n",
    "            print(f\"{user} is not authorized!\")\n",
    "    return wrapper\n",
    "\n",
    "\n",
    "@is_authorized\n",
    "def run_cmd(user: str, cmd: str):\n",
    "    return f\"{user} is running cmd: {cmd}\"\n",
    "    \n",
    "run_cmd(\"root\", \"apt update\")"
   ]
  },
  {
   "cell_type": "markdown",
   "metadata": {},
   "source": [
    "<br>\n",
    "\n",
    "<!-- # def is_authorized(func):\n",
    "    \n",
    "#     def wrapper(user, cmd):      \n",
    "#         if user == \"root\":\n",
    "#             return func(user, cmd)\n",
    "#         else:\n",
    "#             print(f\"{user} is not authorized!\")\n",
    "#     return wrapper\n",
    "\n",
    "# @is_authorized\n",
    "# def run_cmd(user, cmd):\n",
    "#     return f\"{user} is running cmd: {cmd}\"\n",
    "\n",
    "# run_cmd(\"root\", \"apt update\") -->\n",
    "\n",
    "Původní zápis pomocí **dekorátorů** upravíme následovně:"
   ]
  },
  {
   "cell_type": "code",
   "execution_count": null,
   "metadata": {},
   "outputs": [],
   "source": [
    "class LiterConvertor:\n",
    "    def __init__(self, liter: float = 0.0):\n",
    "        self.liter = liter\n",
    "        self.__pint_uk_coef: float = 1.759754\n",
    "        \n",
    "    def to_pints(self):\n",
    "        return self._liter * self.__pint_uk_coef\n",
    "    \n",
    "    @property                       # označíme jako vlastnost pomocí dekorátoru\n",
    "    def liter(self):                # jméno metody nezačíná slovesem\n",
    "        print(\"Getting..\")\n",
    "        return self._liter\n",
    "    \n",
    "    @liter.setter                   # dekorátor pro nastavení hodnoty \n",
    "    def liter(self, value: float):  # stejnojmenná metoda\n",
    "        print(\"Setting..\")\n",
    "        if value < 0:\n",
    "            raise ValueError(\"Cannot process negative number\")\n",
    "        self._liter = value"
   ]
  },
  {
   "cell_type": "code",
   "execution_count": null,
   "metadata": {},
   "outputs": [],
   "source": [
    "volume_1 = LiterConvertor()"
   ]
  },
  {
   "cell_type": "code",
   "execution_count": null,
   "metadata": {},
   "outputs": [],
   "source": [
    "volume_2 = LiterConvertor(0.75)\n",
    "print(volume_2.liter)\n",
    "print(volume_2.to_pints())"
   ]
  },
  {
   "cell_type": "markdown",
   "metadata": {},
   "source": [
    "<br>\n",
    "\n",
    "Dnes jde o nejrozšířenější implementaci nastavení **vlastostni třídy**, která vyplývá z funkce `property`. Výsledné řešení je poměrně jednoduché, přehledné a dá se pochopit bez podrobné znalosti dekorátorů."
   ]
  },
  {
   "cell_type": "markdown",
   "metadata": {},
   "source": [
    "<br>\n",
    "\n",
    "#### Metody v OOP\n",
    "\n",
    "---\n",
    "\n",
    "Jako ucelený seznam metod, které můžeme použít v rámci OOP se podívej na tyto metody:\n",
    "1. **Instanční** metoda,\n",
    "2. **třídní** metoda,\n",
    "3. **statická** metoda.\n",
    "\n",
    "<br>\n",
    "\n",
    "Celou situaci lze vysvětlit na teoretické ukázce:"
   ]
  },
  {
   "cell_type": "code",
   "execution_count": null,
   "metadata": {},
   "outputs": [],
   "source": [
    "class KindleNotesParser:\n",
    "    \"\"\"Parse the data in the .txt file\"\"\"\n",
    "    \n",
    "    def load_data(self):     # klasická metoda instance\n",
    "        return \"Calling instance method..\", self\n",
    "    \n",
    "    @classmethod\n",
    "    def parsing_files(cls):  # třídní metoda\n",
    "        return \"Calling class method..\", cls\n",
    "    \n",
    "    @staticmethod\n",
    "    def is_there_file():     # statická metoda\n",
    "        return \"Calling static method..\""
   ]
  },
  {
   "cell_type": "code",
   "execution_count": null,
   "metadata": {},
   "outputs": [],
   "source": [
    "reader = KindleNotesParser()"
   ]
  },
  {
   "cell_type": "markdown",
   "metadata": {},
   "source": [
    "<br>\n",
    "\n",
    "##### Instační metoda\n",
    "Metoda, která má mj. mezi parametry klíčový výraz `self`. Tím dovede zpřístupnit jak třídu (a její atributy), tak instance."
   ]
  },
  {
   "cell_type": "code",
   "execution_count": null,
   "metadata": {},
   "outputs": [],
   "source": [
    "print(\n",
    "    reader,              # adresa objektu instance 'reader'\n",
    "    reader.load_data,    # popis metody patřící instanci 'reader'\n",
    "    reader.load_data(),  # spuštění, opět adresa\n",
    "    sep=\"\\n\"\n",
    ")"
   ]
  },
  {
   "cell_type": "markdown",
   "metadata": {},
   "source": [
    "<br>\n",
    "\n",
    "Takže pomocí předchozí ukázky můžeme říct, že **instanční metoda** je schopna zpřístupnit *původní třídu* a případně pracovat s jejími *atributy*.\n",
    "\n",
    "<br>\n",
    "\n",
    "##### Třídní metoda\n",
    "Podobný zápis jako pro instační metodu, ale liší se dvěma zásadním rozdíly:\n",
    "1. Dekorátor `@classmethod`,\n",
    "2. parametr `cls`."
   ]
  },
  {
   "cell_type": "code",
   "execution_count": null,
   "metadata": {},
   "outputs": [],
   "source": [
    "print(\n",
    "    reader.parsing_files,    # adresa objektu instance nyní chybí\n",
    "    reader.parsing_files(),  # metodu spouští, třídy zpřístupní, ale instanci nezná\n",
    "    sep=\"\\n\"\n",
    ")"
   ]
  },
  {
   "cell_type": "markdown",
   "metadata": {},
   "source": [
    "<br>\n",
    "\n",
    "Jakmile použiješ **třídní metodu**, vidíš že máš přístup k objektu *původní třídy*, ale tentokrát není k dispozici odkaz (adresa) *instance*.\n",
    "\n",
    "```\n",
    "('Reading .txt file..', <__main__.KindleParser object at 0x7f0ed30782e0>)\n",
    "('Spoustim metodu tridy', <class '__main__.KindleParser'>)\n",
    "```\n",
    "\n",
    "<br>\n",
    "\n",
    "##### Statická metoda\n",
    "\n",
    "1. Dekorátor `@staticmethod`,\n",
    "2. chybí parametr `self`,\n",
    "3. chybí parametr `cls`."
   ]
  },
  {
   "cell_type": "code",
   "execution_count": null,
   "metadata": {},
   "outputs": [],
   "source": [
    "print(\n",
    "    reader.is_there_file,\n",
    "    reader.is_there_file(),\n",
    "    sep=\"\\n\"\n",
    ")"
   ]
  },
  {
   "cell_type": "code",
   "execution_count": null,
   "metadata": {},
   "outputs": [],
   "source": [
    "print(KindleNotesParser.is_there_file())"
   ]
  },
  {
   "cell_type": "code",
   "execution_count": null,
   "metadata": {},
   "outputs": [],
   "source": [
    "print(KindleNotesParser.parsing_files())"
   ]
  },
  {
   "cell_type": "markdown",
   "metadata": {},
   "source": [
    "<br>\n",
    "\n",
    "Pokud spustíš a prozkoumáš **statickou metodu**, můžeš si ověřit, že tato metoda nemá přístup ani k *původní třídě*, ani k její *instanci*.\n",
    "\n",
    "<br>\n",
    "\n",
    "##### Shrnutí k metodám\n",
    "\n",
    "---\n",
    "1. **instanční metoda** - může upravit nejenom objekty instance, ale i třídy (na začátku vidí jak třídu, tak instanci),\n",
    "2. **třídní metoda (@classmethod)** - může upravit objekty třídy, ale nemůže upravovat objekty instancí (vidí třídu, ale ne instanci),\n",
    "3. **statická metoda (@staticmethod)** - nemůže upravovat ani objekty instancí, ani objekty třídy (nevidí ani třídu, ani instanci).\n",
    "\n",
    "<br>\n",
    "\n",
    "##### Praktické ukázky\n",
    "\n",
    "---\n",
    "\n",
    "###### Instanční metoda"
   ]
  },
  {
   "cell_type": "code",
   "execution_count": null,
   "metadata": {},
   "outputs": [],
   "source": [
    "class KindleNotesParser:\n",
    "    \"\"\"Parse the data in the .txt file\"\"\"\n",
    "#     notes: list = []  # upravení třídního atributu\n",
    "    \n",
    "    def __init__(self, file: str, data: str):\n",
    "        self.file = file\n",
    "        self.data = data\n",
    "        self.notes = list()  # upravení instance atributu\n",
    "        \n",
    "    def load_data(self):\n",
    "        return self.notes.append(self.data)"
   ]
  },
  {
   "cell_type": "code",
   "execution_count": null,
   "metadata": {},
   "outputs": [],
   "source": [
    "first_note = KindleNotesParser(\"poznamky.txt\", \"Moje první poznámka k ...\")\n",
    "second_note = KindleNotesParser(\"poznamky_nove.txt\", \"Druhá poznámka ke knížce ...\")\n",
    "\n",
    "first_note.load_data()\n",
    "second_note.load_data()\n",
    "\n",
    "print(first_note.notes, second_note.notes, sep=\"\\n\")"
   ]
  },
  {
   "cell_type": "markdown",
   "metadata": {},
   "source": [
    "<br>\n",
    "\n",
    "Je jedno, který atribut budeš chtít upravit. Díky **instanční metodě** můžeš pracovat jak s třídními, tak s instančními objekty.\n",
    "<br>\n",
    "\n",
    "###### Třídní metoda"
   ]
  },
  {
   "cell_type": "code",
   "execution_count": null,
   "metadata": {},
   "outputs": [],
   "source": [
    "class KindleNotesParser:\n",
    "    \"\"\"Parse the data in the .txt file\"\"\"\n",
    "    readed_files: int = 0\n",
    "    \n",
    "    def __init__(self, filename: str):\n",
    "        self.filename = filename\n",
    "\n",
    "\n",
    "    @classmethod\n",
    "    def parsing_files(cls, filename: str):\n",
    "        instance = cls(filename)\n",
    "        cls.readed_files += 1  \n",
    "        print(f\"Parsing data from: {filename}\")"
   ]
  },
  {
   "cell_type": "code",
   "execution_count": null,
   "metadata": {},
   "outputs": [],
   "source": [
    "print(KindleNotesParser.readed_files)"
   ]
  },
  {
   "cell_type": "code",
   "execution_count": null,
   "metadata": {},
   "outputs": [],
   "source": [
    "KindleNotesParser.parsing_files(\"poznamky.txt\")\n",
    "KindleNotesParser.parsing_files(\"nove_poznamky.txt\")\n",
    "KindleNotesParser.parsing_files(\"poznpozn.txt\")"
   ]
  },
  {
   "cell_type": "code",
   "execution_count": null,
   "metadata": {},
   "outputs": [],
   "source": [
    "print(KindleNotesParser.readed_files)"
   ]
  },
  {
   "cell_type": "markdown",
   "metadata": {},
   "source": [
    "<br>\n",
    "\n",
    "Pokud budeš chtít použít **třídní metody**, potom dávej pozor na to, že můžeš spravovat pouze třídní atributy.\n",
    "<br>\n",
    "\n",
    "###### Statická metoda"
   ]
  },
  {
   "cell_type": "code",
   "execution_count": null,
   "metadata": {},
   "outputs": [],
   "source": [
    "import os\n",
    "\n",
    "class KindleNotesParser:\n",
    "    \"\"\"Parse the data in the .txt file\"\"\"\n",
    "    \n",
    "    def __init__(self, file: str):\n",
    "        self.file = file\n",
    "    \n",
    "    @staticmethod\n",
    "    def is_there_file(name):\n",
    "        print(\"The file exists!\") if os.path.exists(name) else print(\"Does not exist!\")"
   ]
  },
  {
   "cell_type": "code",
   "execution_count": null,
   "metadata": {},
   "outputs": [],
   "source": [
    "parser = KindleNotesParser(\"\")\n",
    "parser.is_there_file(\"lesson01.ipynb\")"
   ]
  },
  {
   "cell_type": "code",
   "execution_count": null,
   "metadata": {},
   "outputs": [],
   "source": [
    "KindleNotesParser.is_there_file(\"lesson01.ipynb\")"
   ]
  },
  {
   "cell_type": "code",
   "execution_count": null,
   "metadata": {},
   "outputs": [],
   "source": [
    "is_there_file(\"lesson01.ipynb\")"
   ]
  },
  {
   "cell_type": "code",
   "execution_count": null,
   "metadata": {},
   "outputs": [],
   "source": [
    "parser.is_there_file(\"lesson11.ipynb\")"
   ]
  },
  {
   "cell_type": "code",
   "execution_count": null,
   "metadata": {},
   "outputs": [],
   "source": [
    "KindleNotesParser.is_there_file(\"lesson11.ipynb\")"
   ]
  },
  {
   "cell_type": "markdown",
   "metadata": {},
   "source": [
    "<br>\n",
    "\n",
    "**Statická metoda** nepotřebuje vědět nic ani o třídě, ani o instanci. Pracuje s parametrem jako klasická funkce. Ale svým účelem spadá jako nástroj ke konkrétní třídě.\n",
    "\n",
    "<br>\n",
    "\n",
    "Možná se ptáš, jestli je potom potřeba psát třídu a nenapsat **obyčejnou funkci**.\n",
    "\n",
    "<br>\n",
    "\n",
    "Je to často řešením, obzvlášť pokud je metoda obecná a může posloužit více objektům.\n",
    "\n",
    "<br>\n",
    "\n",
    "Pokud spadá funkcionalita statické metody k třídě, je vhodnější ji k ní přidružit.\n",
    "\n",
    "<br>\n",
    "\n",
    "#### Úloha\n",
    "----\n",
    "\n",
    "Druhou úlohou bude napsat skript, který zpracovává poznámky z Kindlu.\n",
    "\n",
    "<br>\n",
    "\n",
    "Průběh souboru:\n",
    "```\n",
    "\"\"\"\n",
    "1. Zpracuj zadaný objekt (text, string, soubor, ..),\n",
    "2. načti zpracovaná (rozdělená) data,\n",
    "3. vytvoř z nich nový objekt 'KindleNote',\n",
    "4. ulož nový objekt.\n",
    "\"\"\"\n",
    "```\n",
    "\n",
    "<br>\n",
    "\n",
    "Následný výstup:\n",
    "```\n",
    "[INFO] 2021-11-29 09:20:17,645 - Note added Faktomluva..\n",
    "[INFO] 2021-11-29 09:20:17,650 - Note added Life Is What You Make It..\n",
    "[INFO] 2021-11-29 09:20:17,653 - Note added Elon Musk..\n",
    "[INFO] 2021-11-29 09:20:17,655 - Note added Linux Pocket Guide, 3E..\n",
    "[INFO] 2021-11-29 09:20:17,657 - Note added Introducing Python..\n",
    "```"
   ]
  },
  {
   "cell_type": "code",
   "execution_count": 11,
   "metadata": {},
   "outputs": [],
   "source": [
    "import logging\n",
    "from typing import List, Dict\n",
    "\n",
    "\n",
    "class KindleNoteProcessor:\n",
    "    \"\"\"Process the .txt file and create new notes.\"\"\"\n",
    "    \n",
    "    def __init__(self, parsed_txt: list = []):\n",
    "        self.notes: list = []\n",
    "        self.parsed_txt = parsed_txt\n",
    "\n",
    "        fmt=\"[%(levelname)s] %(asctime)s - %(message)s\"\n",
    "        logging.basicConfig(level=logging.DEBUG, format=fmt)\n",
    "\n",
    "    @property\n",
    "    def parsed_txt(self) -> str:\n",
    "        return self._parsed_txt\n",
    "    \n",
    "    @parsed_txt.setter\n",
    "    def parsed_txt(self, text: List[Dict[str, str]]) -> List[Dict[str, str]]:\n",
    "        if not isinstance(text, list):\n",
    "            raise ValueError(\"Cannot process empty obj. str\")\n",
    "        self._parsed_txt = text\n",
    "    \n",
    "    def create_note(self, attrs: dict):\n",
    "        self.notes.append(\n",
    "            KindleNote(\n",
    "                title=attrs.get(\"title\"),\n",
    "                author=attrs.get(\"author\"),\n",
    "                loc=attrs.get(\"location\"),\n",
    "                desc=attrs.get(\"description\"),\n",
    "                date=attrs.get(\"date\"),\n",
    "            )\n",
    "        )\n",
    "        \n",
    "    def create_all_notes(self) -> None:\n",
    "        for note in self._parsed_txt:\n",
    "            if len(note.keys()) == 5:\n",
    "                logging.info(f\"Note added {note['title']}..\")\n",
    "                self.create_note(note)\n",
    "\n",
    "\n",
    "class TxtParser:\n",
    "    \"\"\"Parse the data from the given .txt file.\"\"\"\n",
    "    \n",
    "    def __init__(self, text, separator = \"\"):\n",
    "        self.text = text\n",
    "        self.separator = separator\n",
    "        \n",
    "    @property\n",
    "    def separator(self) -> str:\n",
    "        return self._separator\n",
    "    \n",
    "    @separator.setter\n",
    "    def separator(self, sep: str):\n",
    "        if not isinstance(sep, str):\n",
    "            raise ValueError(\"Separator attribute has to be type 'str'.\")\n",
    "        self._separator = sep\n",
    "           \n",
    "    def split_text_into_lines(self) -> List[str]:\n",
    "        \"\"\"Split .txt file into individual parsed notes.\"\"\"\n",
    "        return [\n",
    "            self.process_note_content(note.splitlines())\n",
    "            for note in self.text.split(self.separator)\n",
    "            if note\n",
    "        ]\n",
    "                \n",
    "    @staticmethod\n",
    "    def process_note_content(note: List[str]) -> Dict[str, str]:\n",
    "        \"\"\"Try to select attributes title, date and description.\"\"\"\n",
    "        try:\n",
    "            title_line: str = note[0]\n",
    "            location_line: str = note[1]\n",
    "            description: str = note[3]\n",
    "        \n",
    "        except IndexError:\n",
    "            results: dict = {}\n",
    "        else:\n",
    "            title, author = note[0].split(\" (\", maxsplit=1)\n",
    "            location, date = note[1].split(\"|\", maxsplit=1)\n",
    "            results: dict = {\n",
    "                \"date\": date,\n",
    "                \"title\": title,\n",
    "                \"location\": location,\n",
    "                \"description\": description,\n",
    "                \"author\": author.rstrip(\")\"),\n",
    "            }\n",
    "        finally:\n",
    "            return results\n",
    "\n",
    "\n",
    "class KindleNote:\n",
    "    \"\"\"Create a note with proper attributes.\"\"\"\n",
    "    \n",
    "    def __init__(self, title: str, loc: str, desc: str, date: str, author: str):\n",
    "        self.desc = desc\n",
    "        self.date = date\n",
    "        self.title = title\n",
    "        self.location = loc\n",
    "        self.author = author\n",
    "        \n",
    "    def __repr__(self) -> str:\n",
    "        return str(self.title)"
   ]
  },
  {
   "cell_type": "code",
   "execution_count": 12,
   "metadata": {},
   "outputs": [
    {
     "name": "stderr",
     "output_type": "stream",
     "text": [
      "[INFO] 2021-12-06 11:00:15,385 - Note added Faktomluva..\n",
      "[INFO] 2021-12-06 11:00:15,386 - Note added Life Is What You Make It..\n",
      "[INFO] 2021-12-06 11:00:15,387 - Note added Elon Musk..\n",
      "[INFO] 2021-12-06 11:00:15,388 - Note added Linux Pocket Guide, 3E..\n",
      "[INFO] 2021-12-06 11:00:15,390 - Note added Introducing Python..\n"
     ]
    }
   ],
   "source": [
    "text = \"\"\"\n",
    "==========\n",
    "Faktomluva (Hans Rosling;Ola Rosling;Anna Roslingová Rönnlundová)\n",
    "- Your Highlight on Location 2724-2728 | Added on Wednesday, July 24, 2019 8:41:27 AM\n",
    "\n",
    "Největším orgánem našeho těla je kůže. Před objevem moderních léků patřila k nejhorším kožním nemocem syfilis. Začínala jako svědivé vřídky a pak si prokousala cestu do kostí, až postihla celou kostru. Nemoc způsobující ohavný vzhled a nesnesitelnou bolest měla v různých zemích různá jména. V Rusku chorobě říkali „polská nemoc“. V Polsku to byla „německá nemoc“, v Německu „francouzská nemoc“ a ve Francii „italská nemoc“. Italové vinu házeli zpátky a nazývali ji „francouzská nemoc“.\n",
    "==========\n",
    "Life Is What You Make It (Peter Buffett)\n",
    "- Your Highlight on Location 233-234 | Added on Monday, August 19, 2019 2:07:48 PM\n",
    "\n",
    "The problem with honoring the rewards of work rather than the work itself is that the rewards can always be taken away.\n",
    "==========\n",
    "Elon Musk (Ashlee Vance)\n",
    "- Your Highlight on page 127 | location 1943-1944 | Added on Thursday, 31 May 2018 19:38:29\n",
    "\n",
    "v oblasti rovníku, kde se planeta otáčí rychleji a pomáhá raketám v letu.\n",
    "==========\n",
    "Linux Pocket Guide, 3E (Daniel J. Barrett)\n",
    "- Your Highlight on Location 2310-2314 | Added on Monday, February 18, 2019 10:09:26 AM\n",
    "\n",
    "Viewing Processes ps List process. uptime View the system load. w List active processes for all users. top Monitor resource-intensive processes interactively. free Display free memory.\n",
    "==========\n",
    "Introducing Python (Bill Lubanovic)\n",
    "- Your Highlight on Location 6170-6171 | Added on Wednesday, June 26, 2019 10:18:02 AM\n",
    "\n",
    "Do not set debug = True in production web servers. It exposes too much information about your server to potential intruders.\n",
    "==========\n",
    "\"\"\"\n",
    "\n",
    "# rozděl zadaný text pomocí definovaného oddělovače\n",
    "txt = TxtParser(text)\n",
    "txt.separator = \"==========\\n\"\n",
    "\n",
    "# zpracuj rozdělený text na jednotlivé atributy\n",
    "app = KindleNoteProcessor()\n",
    "app.parsed_txt = txt.split_text_into_lines()\n",
    "\n",
    "# zapiš všechny poznámky\n",
    "app.create_all_notes()"
   ]
  },
  {
   "cell_type": "markdown",
   "metadata": {},
   "source": [
    "---"
   ]
  }
 ],
 "metadata": {
  "kernelspec": {
   "display_name": "Python 3 (ipykernel)",
   "language": "python",
   "name": "python3"
  },
  "language_info": {
   "codemirror_mode": {
    "name": "ipython",
    "version": 3
   },
   "file_extension": ".py",
   "mimetype": "text/x-python",
   "name": "python",
   "nbconvert_exporter": "python",
   "pygments_lexer": "ipython3",
   "version": "3.8.10"
  }
 },
 "nbformat": 4,
 "nbformat_minor": 4
}
