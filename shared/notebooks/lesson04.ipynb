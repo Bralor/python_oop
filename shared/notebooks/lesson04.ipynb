{
 "cells": [
  {
   "cell_type": "markdown",
   "id": "5b8f54d7-394a-4669-8f23-64f0aae7ca92",
   "metadata": {},
   "source": [
    "# Python objektově orientované programování\n",
    "\n",
    "---"
   ]
  },
  {
   "cell_type": "markdown",
   "id": "16d10869-9245-4972-a011-1ffceaf8f4ad",
   "metadata": {},
   "source": [
    "1. [Dědičnost](),\n",
    "    - [význam slova](),\n",
    "    - [jednoduchá dědičnost](),\n",
    "    - [funkce super()](),\n",
    "    - [vícenásobné dělení](),\n",
    "    - [zřetězené dělení](),\n",
    "    - [method resolution order](),\n",
    "2. [Abstrakce](),\n",
    "    - [význam slova](),\n",
    "    - [v praxi](),\n",
    "    - [knihovna ABC](),\n",
    "3. [Datové třídy](),\n",
    "    - [defaultní hodnoty](),\n",
    "    - [kontrola magickou metodou]().\n",
    "\n",
    "<br>\n",
    "\n",
    "---"
   ]
  },
  {
   "cell_type": "markdown",
   "id": "6ce81f16-d237-4ee1-95f4-ae60b8e6a9b8",
   "metadata": {},
   "source": [
    "<img src=\"https://external-content.duckduckgo.com/iu/?u=https%3A%2F%2Ftse2.mm.bing.net%2Fth%3Fid%3DOIP.aD0kgi7jqG8lF8qMmg7Y9QHaFU%26pid%3DApi&f=1&ipt=8e4df2fb68503c0bea5ff03f29e9ffa108168daeaa6dd66662ab080b7951866e&ipo=images\" width=\"300\" style=\"margin-left:auto; margin-right:auto\">"
   ]
  },
  {
   "cell_type": "markdown",
   "id": "a4bdb345-54d1-419b-b158-aca2552d2adb",
   "metadata": {},
   "source": [
    "<br>\n",
    "\n",
    "## Dědičnost (~inheritence)\n",
    "\n",
    "---"
   ]
  },
  {
   "cell_type": "markdown",
   "id": "d1c396d9-5ebb-4dd1-8f97-7edc35c08508",
   "metadata": {},
   "source": [
    "### Význam slova\n",
    "\n",
    "---"
   ]
  },
  {
   "cell_type": "markdown",
   "id": "ec848939-3601-44f0-9174-27db000ae73f",
   "metadata": {},
   "source": [
    "Obecně řečeno, **dědictví** znamená nějaký odkaz nebo pozůstatek.\n",
    "\n",
    "V OOP **Dědičnost** je prvek, díky kterému můžeš přenášet *atributy* a *metody* **jedné třídy** (*rodičovské*) na **jiné třídy** (*potomky*).\n",
    "\n",
    "<br>\n",
    "\n",
    "V podstatě je každá uživatelem definovaná třída potomkem třídy `object`:"
   ]
  },
  {
   "cell_type": "code",
   "execution_count": null,
   "id": "8da2981d-8198-4615-9a7c-1804e1e3380f",
   "metadata": {
    "tags": []
   },
   "outputs": [],
   "source": [
    "class MojeTrida:\n",
    "    pass"
   ]
  },
  {
   "cell_type": "code",
   "execution_count": null,
   "id": "6b21e94c-c46a-4846-bab6-10a7a9f4e0e3",
   "metadata": {
    "tags": []
   },
   "outputs": [],
   "source": [
    "class MojeTrida(object):\n",
    "    pass"
   ]
  },
  {
   "cell_type": "code",
   "execution_count": null,
   "id": "28d13663-08a7-40e6-9881-62f071606a70",
   "metadata": {
    "tags": []
   },
   "outputs": [],
   "source": [
    "print(issubclass(MojeTrida, object))  # object --> MojeTrida --> bool"
   ]
  },
  {
   "cell_type": "markdown",
   "id": "203b814b-4b62-4702-9118-4d16e2739a17",
   "metadata": {},
   "source": [
    "<br>\n",
    "\n",
    "V tomto ohledu si ale dědičnosti nevšimneš, protože **interpret** dovoluje rodiče nechat defaultně:"
   ]
  },
  {
   "cell_type": "code",
   "execution_count": null,
   "id": "6d494f0d-99de-48f4-8ec1-706b5f123e91",
   "metadata": {
    "tags": []
   },
   "outputs": [],
   "source": [
    "class Zamestnanec:\n",
    "    pass"
   ]
  },
  {
   "cell_type": "code",
   "execution_count": null,
   "id": "e4eae4ad-b4d7-4d33-88e5-c053db736484",
   "metadata": {
    "tags": []
   },
   "outputs": [],
   "source": [
    "print(issubclass(Zamestnanec, object))"
   ]
  },
  {
   "cell_type": "markdown",
   "id": "04916ea2-68f3-4488-8d51-5c99ded25b6b",
   "metadata": {
    "tags": []
   },
   "source": [
    "<br>\n",
    "\n",
    "Ne vždy se ti hodí **standardní dědičnost**.\n",
    "\n",
    "Třeba pokud potřebuješ vytvořit **vlastní třídy** s vlastními rodiči:"
   ]
  },
  {
   "cell_type": "code",
   "execution_count": null,
   "id": "21794465-aa84-46b9-92b7-d2105a3dca84",
   "metadata": {
    "tags": []
   },
   "outputs": [],
   "source": [
    "class Zamestnanec:\n",
    "    \"\"\"Objekt pro vytvoření řadového zaměstnance.\"\"\"\n",
    "    \n",
    "    def __init__(self, jmeno: str, vek: int, mzda: int):\n",
    "        self.jmeno = jmeno\n",
    "        self.vek = vek\n",
    "        self.mzda = mzda\n",
    "        \n",
    "    def vytvor_email(self, domena: str) -> str:\n",
    "        self.email = f\"{self.jmeno.lower()}{domena}\""
   ]
  },
  {
   "cell_type": "code",
   "execution_count": null,
   "id": "31bdc464-a5f7-4c54-a88d-47d6b042288b",
   "metadata": {
    "tags": []
   },
   "outputs": [],
   "source": [
    "matous = Zamestnanec(\"Matouš\", 40, 80_000)"
   ]
  },
  {
   "cell_type": "code",
   "execution_count": null,
   "id": "247a387d-1285-401d-a3b5-a56091c044a1",
   "metadata": {
    "tags": []
   },
   "outputs": [],
   "source": [
    "matous.vytvor_email(\"@superdomena.cz\")"
   ]
  },
  {
   "cell_type": "code",
   "execution_count": null,
   "id": "86ce5df5-ef8d-480f-a6e1-1436ddd6037b",
   "metadata": {
    "tags": []
   },
   "outputs": [],
   "source": [
    "print(matous.__dict__)"
   ]
  },
  {
   "cell_type": "markdown",
   "id": "18dcaaaf-e8a2-49ba-9547-a5920533edcf",
   "metadata": {
    "tags": []
   },
   "source": [
    "<br>\n",
    "\n",
    "Máš třídu, která řídí proces tvoření nových instancní **pro zaměstnance**.\n",
    "\n",
    "Co, když ale potřebuješ další třídu, tentokrát pro *testery*:"
   ]
  },
  {
   "cell_type": "code",
   "execution_count": null,
   "id": "59127da3-a34b-4bc6-b204-8c2f0504a49c",
   "metadata": {
    "tags": []
   },
   "outputs": [],
   "source": [
    "class Tester:\n",
    "    \"\"\"Objekt pro vytvoření zaměstnance, testera.\"\"\"\n",
    "    \n",
    "    def __init__(self, jmeno: str, vek: int, mzda: int):\n",
    "        self.jmeno = jmeno\n",
    "        self.vek = vek\n",
    "        self.mzda = mzda\n",
    "        self.__pristup_vcs = False\n",
    "\n",
    "    def vytvor_email(self):\n",
    "        self.email = f\"{self.jmeno.lower()}{domena}\"\n",
    "    \n",
    "    @property\n",
    "    def pristup_vcs(self):\n",
    "        return self.__pristup_vcs\n",
    "    \n",
    "    @pristup_vcs.setter\n",
    "    def pristup_vcs(self, hodnota: bool):\n",
    "        if hodnota in {True, False}:\n",
    "            self.__pristup_vcs = hodnota\n",
    "        else:\n",
    "            raise Exception(\"Nelze přiřadit takovou hodnotu\")"
   ]
  },
  {
   "cell_type": "code",
   "execution_count": null,
   "id": "0a9f7b50-53f4-4516-9686-0b3005b408c1",
   "metadata": {
    "tags": []
   },
   "outputs": [],
   "source": [
    "petr = Tester(\"Petr\", 45, 100_000)"
   ]
  },
  {
   "cell_type": "code",
   "execution_count": null,
   "id": "095ac496-4c50-47d7-8f1b-931073a7c9a5",
   "metadata": {
    "tags": []
   },
   "outputs": [],
   "source": [
    "petr.pristup_vcs = True"
   ]
  },
  {
   "cell_type": "code",
   "execution_count": null,
   "id": "10d926f8-0ccb-483f-9ae6-230168e02093",
   "metadata": {
    "tags": []
   },
   "outputs": [],
   "source": [
    "petr.pristup_vcs"
   ]
  },
  {
   "cell_type": "code",
   "execution_count": null,
   "id": "25f07843-8884-47b7-93a8-c0b75a7af1b2",
   "metadata": {
    "tags": []
   },
   "outputs": [],
   "source": [
    "print(petr.__dict__)"
   ]
  },
  {
   "cell_type": "markdown",
   "id": "7bc3c3bd-3a66-42b0-b79f-391891a5d4c0",
   "metadata": {},
   "source": [
    "### Jednoduchá dědičnost\n",
    "\n",
    "---"
   ]
  },
  {
   "cell_type": "markdown",
   "id": "e11268bf-96c1-4e5f-a459-0b2d9a56c44b",
   "metadata": {},
   "source": [
    "<br>\n",
    "\n",
    "Na první pohled ale vidíš, že mít **dvě podobné třídy** (`Zamestnanec` a `Tester`) pod sebou není efektivní.\n",
    "\n",
    "Oponuje to princip vývoje softwaru (*DRY - don't repeat yourself*).\n",
    "\n",
    "<br>\n",
    "\n",
    "V rámci specifické pozice bylo potřeba hodně přepisování.\n",
    "\n",
    "Velkou část třídy `Tester` opakuješ definici třídy `Zamestnanec`.\n",
    "\n",
    "Z takového důvodu můžeš prakticky použít další, třetí koncept, na kterém OOP stojí. *Dědičnost*:"
   ]
  },
  {
   "cell_type": "code",
   "execution_count": null,
   "id": "634377a2-cfa0-4909-8af7-5ee7238135bd",
   "metadata": {
    "tags": []
   },
   "outputs": [],
   "source": [
    "class Tester(Zamestnanec):\n",
    "    \"\"\"Objekt pro vytvoření zaměstnance, testera.\"\"\"\n",
    "    \n",
    "    @property\n",
    "    def pristup_vcs(self):\n",
    "        return self.__pristup_vcs\n",
    "    \n",
    "    @pristup_vcs.setter\n",
    "    def pristup_vcs(self, hodnota: bool):\n",
    "        if hodnota in {True, False}:\n",
    "            self.__pristup_vcs = hodnota\n",
    "        else:\n",
    "            raise Exception(\"Nelze přiřadit takovou hodnotu\")"
   ]
  },
  {
   "cell_type": "code",
   "execution_count": null,
   "id": "617f43f4-41ba-4ddc-8401-e009bff11db1",
   "metadata": {
    "tags": []
   },
   "outputs": [],
   "source": [
    "lukas = Tester(\"Lukáš\", 35, 75_000)"
   ]
  },
  {
   "cell_type": "code",
   "execution_count": null,
   "id": "e9c52a9a-4856-4db0-b38f-135d62c1ab4b",
   "metadata": {
    "tags": []
   },
   "outputs": [],
   "source": [
    "lukas.pristup_vcs = True"
   ]
  },
  {
   "cell_type": "code",
   "execution_count": null,
   "id": "63871f3f-519c-42e0-b87e-7a567adb1241",
   "metadata": {
    "tags": []
   },
   "outputs": [],
   "source": [
    "print(lukas.pristup_vcs)"
   ]
  },
  {
   "cell_type": "code",
   "execution_count": null,
   "id": "98a9a2d4-be75-484a-866b-6fbd94b0fbc3",
   "metadata": {
    "tags": []
   },
   "outputs": [],
   "source": [
    "lukas.__dict__"
   ]
  },
  {
   "cell_type": "code",
   "execution_count": null,
   "id": "79c84e70-8adf-4f65-ac71-1677124f4022",
   "metadata": {
    "tags": []
   },
   "outputs": [],
   "source": [
    "email = lukas.vytvor_email(\"@superdomena.cz\")"
   ]
  },
  {
   "cell_type": "code",
   "execution_count": null,
   "id": "003fe1c9-8cc1-46b8-b307-3e950d4f4796",
   "metadata": {
    "tags": []
   },
   "outputs": [],
   "source": [
    "print(lukas.email)"
   ]
  },
  {
   "cell_type": "markdown",
   "id": "eb004838-4d53-4022-87f7-2eb4c569db97",
   "metadata": {},
   "source": [
    "<br>\n",
    "\n",
    "Takovým způsobem můžeš přepisovat méně zápisu a využít již existují, rodičovské třídy.\n",
    "\n",
    "Pomocí zabudované funkce můžeš potvrdit, že třída `Tester` je potomkem třídy `Zamestnanec`:"
   ]
  },
  {
   "cell_type": "code",
   "execution_count": null,
   "id": "4e645ea1-30f2-4152-afd9-514d7ee50289",
   "metadata": {
    "tags": []
   },
   "outputs": [],
   "source": [
    "print(issubclass(Tester, Zamestnanec))"
   ]
  },
  {
   "cell_type": "markdown",
   "id": "f5e618f2-2508-41a4-9bf4-08813cb5accc",
   "metadata": {},
   "source": [
    "<br>\n",
    "\n",
    "Dále si můžeš všimnout, že není potřeba opakovat zápis *instančních atributů*."
   ]
  },
  {
   "cell_type": "code",
   "execution_count": null,
   "id": "ea75d1f6-4892-45be-8db7-8370806eecb9",
   "metadata": {
    "tags": []
   },
   "outputs": [],
   "source": [
    "class Zamestnanec:\n",
    "    \n",
    "    def __init__(self, jmeno: str, vek: int, mzda: int) -> None:\n",
    "        self.jmeno = jmeno\n",
    "        self.vek = vek\n",
    "        self.mzda = mzda"
   ]
  },
  {
   "cell_type": "code",
   "execution_count": null,
   "id": "5d7c5056-f99b-45b3-b8ea-a51f0099e340",
   "metadata": {
    "tags": []
   },
   "outputs": [],
   "source": [
    "class Tester(Zamestnanec):\n",
    "    pass"
   ]
  },
  {
   "cell_type": "code",
   "execution_count": null,
   "id": "e10c362e-d83c-4efe-a94f-9e4080e5bbdc",
   "metadata": {
    "tags": []
   },
   "outputs": [],
   "source": [
    "tester_matous = Tester(\"Matouš\", 51, 50_000)"
   ]
  },
  {
   "cell_type": "code",
   "execution_count": null,
   "id": "b5e19121-71ab-416b-9dfd-967056b65882",
   "metadata": {
    "tags": []
   },
   "outputs": [],
   "source": [
    "print(tester_matous.__dict__)"
   ]
  },
  {
   "cell_type": "markdown",
   "id": "15d844e3-5f43-4525-8c81-42d7088e86c0",
   "metadata": {},
   "source": [
    "<br>\n",
    "\n",
    "Pokud budeš potřebovat doplnit **specifický instanční atribut** pro dceřinnou třídu `Tester`, musíš s ní pracovat opatrně:"
   ]
  },
  {
   "cell_type": "code",
   "execution_count": null,
   "id": "0e0e05f4-b171-4aee-a784-e3cf9d5acada",
   "metadata": {
    "tags": []
   },
   "outputs": [],
   "source": [
    "class Zamestnanec:\n",
    "    \n",
    "    def __init__(self, jmeno: str, vek: int, mzda: int) -> None:\n",
    "        self.jmeno = jmeno\n",
    "        self.vek = vek\n",
    "        self.mzda = mzda"
   ]
  },
  {
   "cell_type": "code",
   "execution_count": null,
   "id": "818813c8-96a3-4c2b-af8f-2ff93d7aacb5",
   "metadata": {
    "tags": []
   },
   "outputs": [],
   "source": [
    "class Tester(Zamestnanec):\n",
    "    \n",
    "    def __init__(self, pristup_vcs: bool):\n",
    "        self.pristup_vcs = pristup_vcs"
   ]
  },
  {
   "cell_type": "code",
   "execution_count": null,
   "id": "953aa750-79be-4eea-9858-b4d25952f8a2",
   "metadata": {
    "tags": []
   },
   "outputs": [],
   "source": [
    "tester_petr = Tester(\"Petr\", 50, 55_000)"
   ]
  },
  {
   "cell_type": "code",
   "execution_count": null,
   "id": "bb2efb2e-8a0b-43b5-9968-20ac81b54e95",
   "metadata": {
    "tags": []
   },
   "outputs": [],
   "source": [
    "tester_petr = Tester(False)"
   ]
  },
  {
   "cell_type": "markdown",
   "id": "407ccdb3-81ee-4b8a-b421-5afeea63e427",
   "metadata": {},
   "source": [
    "Takhle zapsaného potomka s pomocí části atributů z rodiče, části atributů z potomka, nelze použít.\n",
    "\n",
    "Nový konstruktor `__init__` kompletně rodiče přepíše:"
   ]
  },
  {
   "cell_type": "code",
   "execution_count": null,
   "id": "7ac0daf7-b6a8-49d4-acbd-cfe4c1197b58",
   "metadata": {
    "tags": []
   },
   "outputs": [],
   "source": [
    "class Tester(Zamestnanec):\n",
    "    def __init__(self, jmeno: str, vek: int, mzda: str, pristup_vcs: bool):\n",
    "        self.jmeno = jmeno\n",
    "        self.vek = vek\n",
    "        self.mzda = mzda\n",
    "        self.pristup_vcs = pristup_vcs"
   ]
  },
  {
   "cell_type": "code",
   "execution_count": null,
   "id": "db0aa82c-f2bf-4b89-a8ec-1e5fec729a88",
   "metadata": {
    "tags": []
   },
   "outputs": [],
   "source": [
    "tester_petr = Tester(\"Petr\", 50, 55_000, True)"
   ]
  },
  {
   "cell_type": "code",
   "execution_count": null,
   "id": "3cc7b141-d2a9-4f16-9abc-753908d6dd55",
   "metadata": {
    "tags": []
   },
   "outputs": [],
   "source": [
    "print(tester_petr.__dict__)"
   ]
  },
  {
   "cell_type": "markdown",
   "id": "2b202304-950c-48dc-8ad4-71cf83b43467",
   "metadata": {},
   "source": [
    "Existuje ovšem přívětivější a čitelnější řešení."
   ]
  },
  {
   "cell_type": "markdown",
   "id": "4bf5a60b-5cc0-4d8a-9a0f-1eebcca7f383",
   "metadata": {},
   "source": [
    "### Funkce super()\n",
    "\n",
    "----"
   ]
  },
  {
   "cell_type": "markdown",
   "id": "2ae0a1ef-1e27-4e67-b9c8-ab0160c33884",
   "metadata": {},
   "source": [
    "<br>\n",
    "\n",
    "Co když budeš chtít **upravit stávající objekt u rodiče**:"
   ]
  },
  {
   "cell_type": "code",
   "execution_count": null,
   "id": "7fa286c6-fa94-481a-a7a7-86c3029b5de7",
   "metadata": {
    "tags": []
   },
   "outputs": [],
   "source": [
    "class Rodic:\n",
    "    def funkce_x(self, x):\n",
    "        print(\"Rodic\", self, x)"
   ]
  },
  {
   "cell_type": "code",
   "execution_count": null,
   "id": "fdb5a958-0971-4fbc-9e9c-44b12e1556cc",
   "metadata": {
    "tags": []
   },
   "outputs": [],
   "source": [
    "class Potomek(Rodic):\n",
    "    def funkce_x(self, x):\n",
    "        print(\"Potomek\", self, x)\n",
    "        print(\"Rodic\", self, x)  # chci zabránit dalšímu přepisování\n",
    "        print(\"Konec tř. Potomek\")"
   ]
  },
  {
   "cell_type": "code",
   "execution_count": null,
   "id": "3047d1a3-7988-4310-910e-38ae56234fcc",
   "metadata": {
    "tags": []
   },
   "outputs": [],
   "source": [
    "p = Potomek()\n",
    "p.funkce_x(13)"
   ]
  },
  {
   "cell_type": "markdown",
   "id": "67772e7c-1ea5-4655-801a-a6bc597e2df7",
   "metadata": {},
   "source": [
    "<br>\n",
    "\n",
    "U třídy `Potomek` si můžeš povšimnout shodných ohlášení.\n",
    "\n",
    "Současně ale obsahuje také svoje vlastní.\n",
    "\n",
    "Tento zápis můžeš upravit pomocí funkce `super()`:"
   ]
  },
  {
   "cell_type": "code",
   "execution_count": null,
   "id": "e42a8a97-d7fe-49ba-b195-7dd307e1e2bc",
   "metadata": {
    "tags": []
   },
   "outputs": [],
   "source": [
    "class Rodic:\n",
    "    def funkce_x(self, x):\n",
    "        print(\"Rodic\", self, x)"
   ]
  },
  {
   "cell_type": "code",
   "execution_count": null,
   "id": "1db67d3b-b0fc-4a31-8398-9410ce242c16",
   "metadata": {
    "tags": []
   },
   "outputs": [],
   "source": [
    "class Potomek(Rodic):\n",
    "    def funkce_x(self, x):\n",
    "        print(\"Potomek\", self, x)\n",
    "        super().funkce_x(x)  # __init__()\n",
    "        print(\"Konec tř. Potomek\")"
   ]
  },
  {
   "cell_type": "code",
   "execution_count": null,
   "id": "d9538017-7b70-4811-8c63-b758b2c41251",
   "metadata": {
    "tags": []
   },
   "outputs": [],
   "source": [
    "p = Potomek()"
   ]
  },
  {
   "cell_type": "code",
   "execution_count": null,
   "id": "f9a9994f-efc1-454b-9d3f-74efb94fa29f",
   "metadata": {
    "tags": []
   },
   "outputs": [],
   "source": [
    "p.funkce_x(13)"
   ]
  },
  {
   "cell_type": "markdown",
   "id": "b162a8a4-e77a-445b-be87-1a860ad5cd06",
   "metadata": {},
   "source": [
    "<br>\n",
    "\n",
    "Funkce `super()` automaticky odkazuje na posledního předchozího rodiče.\n",
    "\n",
    "Tím se stane zápis méně upovídaný a méně náchylný na chyby.\n",
    "\n",
    "U funkce `super()` není potřeba doplňovat parametr `self` ani `cls` (interpret doplní automaticky)."
   ]
  },
  {
   "cell_type": "markdown",
   "id": "f8d90c07-ef5f-46e1-bf2b-2ca4e4570b5d",
   "metadata": {
    "tags": []
   },
   "source": [
    "<img src=\"../images/inheritance.png\" width=\"1000\" style=\"margin-left:auto; margin-right:auto\">"
   ]
  },
  {
   "cell_type": "markdown",
   "id": "3a6cb54e-6fa1-4441-b215-584a4240f6f5",
   "metadata": {},
   "source": [
    "K předchozí ukázce se třídami `Zamestnanec` a `Tester`:"
   ]
  },
  {
   "cell_type": "code",
   "execution_count": null,
   "id": "e48f2e81-5937-44b8-988b-ae65185d26cb",
   "metadata": {
    "tags": []
   },
   "outputs": [],
   "source": [
    "class Tester(Zamestnanec):\n",
    "    def __init__(self, jmeno: str, vek: int, mzda: str, pristup_vcs: bool):\n",
    "        super().__init__(jmeno, vek, mzda)\n",
    "        self.pristup_vcs = pristup_vcs"
   ]
  },
  {
   "cell_type": "code",
   "execution_count": null,
   "id": "d11edf73-0540-49b4-ae18-d098b6873f8d",
   "metadata": {
    "tags": []
   },
   "outputs": [],
   "source": [
    "tester_petr = Tester(\"Petr\", 50, 55_000, True)"
   ]
  },
  {
   "cell_type": "code",
   "execution_count": null,
   "id": "e2adcc5c-c93d-4f4d-99a9-0dc837100854",
   "metadata": {
    "tags": []
   },
   "outputs": [],
   "source": [
    "print(tester_petr.__dict__)"
   ]
  },
  {
   "cell_type": "markdown",
   "id": "ed8a5fa0-996e-475c-aad7-a605788c6b80",
   "metadata": {},
   "source": [
    "### Vícenásobné dědění\n",
    "\n",
    "---"
   ]
  },
  {
   "cell_type": "markdown",
   "id": "1eae2fe3-312e-457e-86d1-ce04bb3c7b87",
   "metadata": {},
   "source": [
    "<img src=\"../images/possibilities.png\" width=\"1000\" style=\"margin-left:auto; margin-right:auto\">"
   ]
  },
  {
   "cell_type": "markdown",
   "id": "05748d22-76e8-48ef-a6f8-28599d0df675",
   "metadata": {
    "tags": []
   },
   "source": [
    "Dědění nemusí být jenom **jednorázové**.\n",
    "\n",
    "Je možné dědit od jednoho rodiče **na několik potomků**:"
   ]
  },
  {
   "cell_type": "code",
   "execution_count": 1,
   "id": "ab0ea124-0453-44f4-bbb0-a590c37cf6d4",
   "metadata": {
    "tags": []
   },
   "outputs": [],
   "source": [
    "class Zamestnanec:\n",
    "    \"\"\"Objekt pro vytvoření řadového zaměstnance.\"\"\"\n",
    "    \n",
    "    def __init__(self, jmeno: str, vek: int, mzda: int):\n",
    "        self.jmeno = jmeno\n",
    "        self.vek = vek\n",
    "        self.mzda = mzda\n",
    "        \n",
    "    def vytvor_email(self, domena: str) -> str:\n",
    "        self.email = f\"{self.jmeno.lower()}{domena}\""
   ]
  },
  {
   "cell_type": "code",
   "execution_count": 2,
   "id": "41f57546-a2bc-4777-84cc-cc03ee8285d4",
   "metadata": {
    "tags": []
   },
   "outputs": [],
   "source": [
    "class Tester(Zamestnanec):\n",
    "    \"\"\"Objekt pro vytvoření zaměstnance, testera.\"\"\"\n",
    "    \n",
    "    @property\n",
    "    def pristup_vcs(self):\n",
    "        return self.__pristup_vcs\n",
    "    \n",
    "    @pristup_vcs.setter\n",
    "    def pristup_vcs(self, hodnota: bool):\n",
    "        if hodnota in {True, False}:\n",
    "            self.__pristup_vcs = hodnota\n",
    "        else:\n",
    "            raise Exception(\"Nelze přiřadit takovou hodnotu\")"
   ]
  },
  {
   "cell_type": "markdown",
   "id": "cdb0ca20-05f5-4330-87af-88d8a11f6bba",
   "metadata": {},
   "source": [
    "<br>\n",
    "\n",
    "Navíc přidej další třídu, která se jmenuje `BigDataInzenyr` a stejně jako `Tester` dědí objekty od `Zamestnanec`:"
   ]
  },
  {
   "cell_type": "code",
   "execution_count": 3,
   "id": "b26aebf4-d454-4d09-b486-e541a5c95622",
   "metadata": {
    "tags": []
   },
   "outputs": [],
   "source": [
    "class BigDataInzenyr(Zamestnanec):\n",
    "    \"\"\"Objekt pro vytvoření zaměstnance, big data inženýra.\"\"\"\n",
    "    \n",
    "    @property\n",
    "    def pristup_db(self):\n",
    "        return self.__pristup_db\n",
    "    \n",
    "    @pristup_db.setter\n",
    "    def pristup_db(self, hodnota: bool):\n",
    "        if hodnota in {True, False}:\n",
    "            self.__pristup_db = hodnota\n",
    "        else:\n",
    "            raise Exception(\"Nelze přiřadit takovou hodnotu\")"
   ]
  },
  {
   "cell_type": "code",
   "execution_count": 4,
   "id": "60502ded-0a15-4b66-9708-15f080497767",
   "metadata": {
    "tags": []
   },
   "outputs": [],
   "source": [
    "filip = BigDataInzenyr(\"Filip\", 40, 120_000)"
   ]
  },
  {
   "cell_type": "code",
   "execution_count": 5,
   "id": "341c86f4-8fe6-483e-a918-6a6db1c42f47",
   "metadata": {
    "tags": []
   },
   "outputs": [],
   "source": [
    "filip.pristup_db = True"
   ]
  },
  {
   "cell_type": "code",
   "execution_count": 6,
   "id": "54f30985-1396-4b8b-aabc-4ee444fe3577",
   "metadata": {
    "tags": []
   },
   "outputs": [],
   "source": [
    "filip.vytvor_email(\"@gmail.com\")"
   ]
  },
  {
   "cell_type": "code",
   "execution_count": null,
   "id": "87501544-af24-4cc9-ac20-9761033c1e85",
   "metadata": {
    "tags": []
   },
   "outputs": [],
   "source": [
    "print(filip.__dict__)"
   ]
  },
  {
   "cell_type": "markdown",
   "id": "99966e46-0188-4a64-89f8-6fb8714533e1",
   "metadata": {},
   "source": [
    "<br>\n",
    "\n",
    "V tomto okamžiku pracuje potomek `BigDataInzenyr` jen se svými metodami, případně s metodami jeho rodiče.\n",
    "\n",
    "Co když budeš chtít pracovat s metodami **svého sourozence**:"
   ]
  },
  {
   "cell_type": "code",
   "execution_count": 7,
   "id": "c6fc6b26-db6a-4fcd-9f1f-94a6ca6635bb",
   "metadata": {
    "tags": []
   },
   "outputs": [],
   "source": [
    "filip.pristup_vcs = True"
   ]
  },
  {
   "cell_type": "code",
   "execution_count": 8,
   "id": "7bd1e29c-1bd7-42df-b40c-4bed87061d13",
   "metadata": {
    "tags": []
   },
   "outputs": [
    {
     "data": {
      "text/plain": [
       "True"
      ]
     },
     "execution_count": 8,
     "metadata": {},
     "output_type": "execute_result"
    }
   ],
   "source": [
    "filip.pristup_vcs"
   ]
  },
  {
   "cell_type": "markdown",
   "id": "c43a1468-e634-4ce0-a31a-b60baef4248c",
   "metadata": {},
   "source": [
    "<br>\n",
    "\n",
    "Jak je to možné? Že sourozenci vidí na svoje objekty:"
   ]
  },
  {
   "cell_type": "code",
   "execution_count": 9,
   "id": "da15c64a-44f0-4bd3-bcad-1528c15bafdb",
   "metadata": {
    "tags": []
   },
   "outputs": [
    {
     "name": "stdout",
     "output_type": "stream",
     "text": [
      "{'jmeno': 'Filip', 'vek': 40, 'mzda': 120000, '_BigDataInzenyr__pristup_db': True, 'email': 'filip@gmail.com', 'pristup_vcs': True}\n"
     ]
    }
   ],
   "source": [
    "print(filip.__dict__)"
   ]
  },
  {
   "cell_type": "code",
   "execution_count": 11,
   "id": "835e1d51-bb86-4e98-aaeb-2eca88a21f5e",
   "metadata": {
    "tags": []
   },
   "outputs": [
    {
     "name": "stdout",
     "output_type": "stream",
     "text": [
      "True\n",
      "True\n",
      "False\n",
      "False\n"
     ]
    }
   ],
   "source": [
    "print(\n",
    "    issubclass(BigDataInzenyr, Zamestnanec),\n",
    "    issubclass(Tester, Zamestnanec),\n",
    "    issubclass(BigDataInzenyr, Tester),\n",
    "    issubclass(Tester, BigDataInzenyr),\n",
    "    sep=\"\\n\"\n",
    ")"
   ]
  },
  {
   "cell_type": "markdown",
   "id": "254775c3-5add-4ff7-8228-493e31404589",
   "metadata": {},
   "source": [
    "<br>\n",
    "\n",
    "Zápisem výše v podstatě vytvoříš **nový instanční atribut**:"
   ]
  },
  {
   "cell_type": "code",
   "execution_count": 12,
   "id": "5aeb4113-d885-4a7a-8990-58599036f5fc",
   "metadata": {
    "tags": []
   },
   "outputs": [],
   "source": [
    "filip.pristup_cloud = True"
   ]
  },
  {
   "cell_type": "code",
   "execution_count": 13,
   "id": "32968efd-4215-49ab-ad0f-c3599d4fdeeb",
   "metadata": {
    "tags": []
   },
   "outputs": [
    {
     "name": "stdout",
     "output_type": "stream",
     "text": [
      "{'jmeno': 'Filip', 'vek': 40, 'mzda': 120000, '_BigDataInzenyr__pristup_db': True, 'email': 'filip@gmail.com', 'pristup_vcs': True, 'pristup_cloud': True}\n"
     ]
    }
   ],
   "source": [
    "print(filip.__dict__)"
   ]
  },
  {
   "cell_type": "markdown",
   "id": "3bb18290-2bd8-4e31-b1c4-4d5df50320d4",
   "metadata": {},
   "source": [
    "<br>\n",
    "\n",
    "To samozřejmě nemá význam a navíc můžeš uškodit funkcionalitě tříd."
   ]
  },
  {
   "cell_type": "markdown",
   "id": "dcb80c1a-ec9f-468a-8229-0147372b4ab6",
   "metadata": {},
   "source": [
    "### Zřetězené dědění\n",
    "\n",
    "---"
   ]
  },
  {
   "cell_type": "markdown",
   "id": "c296c995-4fc5-43a3-94a9-38136bd13b05",
   "metadata": {
    "tags": []
   },
   "source": [
    "<img src=\"../images/chain_inh.png\" width=\"1000\" style=\"margin-left:auto; margin-right:auto\">"
   ]
  },
  {
   "cell_type": "markdown",
   "id": "46c26c1d-83ee-4803-b790-d8a1492688c7",
   "metadata": {},
   "source": [
    "Narozdíl **od vícenásobného dědění**, bývá zřetězené málokdy žádoucí:"
   ]
  },
  {
   "cell_type": "code",
   "execution_count": 20,
   "id": "01cd7c77-c548-49b7-9118-6fc135b6375c",
   "metadata": {
    "tags": []
   },
   "outputs": [],
   "source": [
    "class Prarodic:\n",
    "    def funkce_x(self, x):\n",
    "        print(\"Prarodic\", self, x)"
   ]
  },
  {
   "cell_type": "code",
   "execution_count": 21,
   "id": "347baa4c-a4da-4e49-a1b1-7e13d91bd95c",
   "metadata": {
    "tags": []
   },
   "outputs": [],
   "source": [
    "class Rodic(Prarodic):\n",
    "    def funkce_x(self, x):\n",
    "        print(\"Rodic\", self, x)\n",
    "        super().funkce_x(x)"
   ]
  },
  {
   "cell_type": "code",
   "execution_count": 22,
   "id": "cce139ab-bb0e-4217-9963-a445d8dfe722",
   "metadata": {
    "tags": []
   },
   "outputs": [],
   "source": [
    "class Potomek(Rodic):\n",
    "    def funkce_x(self, x):\n",
    "        print(\"Potomek\", self, x)\n",
    "        super().funkce_x(x)"
   ]
  },
  {
   "cell_type": "code",
   "execution_count": 23,
   "id": "a1f4a4cd-c693-40ef-9e6e-a90518095903",
   "metadata": {
    "tags": []
   },
   "outputs": [],
   "source": [
    "p = Potomek()"
   ]
  },
  {
   "cell_type": "code",
   "execution_count": 24,
   "id": "8e7abfcd-ba83-4197-96bf-b08ca6394892",
   "metadata": {
    "tags": []
   },
   "outputs": [
    {
     "name": "stdout",
     "output_type": "stream",
     "text": [
      "Potomek <__main__.Potomek object at 0x7fa5dc4003d0> 14\n",
      "Rodic <__main__.Potomek object at 0x7fa5dc4003d0> 14\n",
      "Prarodic <__main__.Potomek object at 0x7fa5dc4003d0> 14\n"
     ]
    }
   ],
   "source": [
    "p.funkce_x(14)"
   ]
  },
  {
   "cell_type": "markdown",
   "id": "037c42e8-37a4-4bdf-a0bf-3a30530e01a5",
   "metadata": {},
   "source": [
    "<br>\n",
    "\n",
    "*Lineární zřetězene dědění* je sice možné, ale pomalu přestává být **přehledné a únosné**.\n",
    "\n",
    "Pokud potřebuješ využít takový princip, dobře rozmysli, jestli je zápis ještě **průhledný a pochopitelný**."
   ]
  },
  {
   "cell_type": "markdown",
   "id": "85848a2d-68af-46bc-a961-57c3362dd4dd",
   "metadata": {},
   "source": [
    "<br>\n",
    "\n",
    "V průběhu času budeš chtít přidat nový typ zaměstnance, opět můžeš aplikovat dědičnost:"
   ]
  },
  {
   "cell_type": "code",
   "execution_count": 25,
   "id": "cf034d0e-29a6-4f65-afcf-e72b3cdbfd55",
   "metadata": {
    "tags": []
   },
   "outputs": [],
   "source": [
    "class Zamestnanec:\n",
    "    \"\"\"Objekt pro vytvoření řadového zaměstnance.\"\"\"\n",
    "    \n",
    "    def __init__(self, jmeno: str, vek: int, mzda: int):\n",
    "        self.jmeno = jmeno\n",
    "        self.vek = vek\n",
    "        self.mzda = mzda\n",
    "        \n",
    "    def vytvor_email(self, domena: str) -> str:\n",
    "        self.email = f\"{self.jmeno.lower()}{domena}\""
   ]
  },
  {
   "cell_type": "code",
   "execution_count": 26,
   "id": "e06f8ada-280f-4f97-bdc3-eb77dbf985e1",
   "metadata": {
    "tags": []
   },
   "outputs": [],
   "source": [
    "class Tester(Zamestnanec):\n",
    "    \"\"\"Objekt pro vytvoření zaměstnance, testera.\"\"\"\n",
    "    \n",
    "    @property\n",
    "    def pristup_vcs(self):\n",
    "        return self.__pristup_vcs\n",
    "    \n",
    "    @pristup_vcs.setter\n",
    "    def pristup_vcs(self, hodnota: bool):\n",
    "        if hodnota in {True, False}:\n",
    "            self.__pristup_vcs = hodnota\n",
    "        else:\n",
    "            raise Exception(\"Nelze přiřadit takovou hodnotu\")"
   ]
  },
  {
   "cell_type": "code",
   "execution_count": 27,
   "id": "3394b99b-639b-46f9-be17-5a61c884e2f8",
   "metadata": {},
   "outputs": [],
   "source": [
    "class BigDataInzenyr(Tester):\n",
    "    \"\"\"Objekt pro vytvoření zaměstnance, big data inženýra.\"\"\"\n",
    "    \n",
    "    @property\n",
    "    def pristup_db(self):\n",
    "        return self.__pristup_db\n",
    "    \n",
    "    @pristup_db.setter\n",
    "    def pristup_db(self, hodnota: bool):\n",
    "        if hodnota in {True, False}:\n",
    "            self.__pristup_db = hodnota\n",
    "        else:\n",
    "            raise Exception(\"Nelze přiřadit takovou hodnotu\")"
   ]
  },
  {
   "cell_type": "code",
   "execution_count": 28,
   "id": "95ac8248-11d8-4e71-b7a5-62ec8cc0044f",
   "metadata": {},
   "outputs": [],
   "source": [
    "tomas = BigDataInzenyr(\"Tomáš\", 31, 70_000)"
   ]
  },
  {
   "cell_type": "code",
   "execution_count": 29,
   "id": "fdd4dcd8-2ef8-4b19-bc81-9874ef7a4304",
   "metadata": {
    "tags": []
   },
   "outputs": [],
   "source": [
    "tomas.pristup_db = True"
   ]
  },
  {
   "cell_type": "code",
   "execution_count": 30,
   "id": "485d542d-5b8c-4acd-a3f1-012f27d41ed2",
   "metadata": {
    "tags": []
   },
   "outputs": [],
   "source": [
    "tomas.pristup_vcs = True"
   ]
  },
  {
   "cell_type": "code",
   "execution_count": 31,
   "id": "f14c64ee-5027-47fa-a307-9232ead123aa",
   "metadata": {
    "tags": []
   },
   "outputs": [
    {
     "name": "stdout",
     "output_type": "stream",
     "text": [
      "Tomáš\n",
      "True\n",
      "True\n"
     ]
    }
   ],
   "source": [
    "print(\n",
    "    tomas.jmeno,\n",
    "    tomas.pristup_db,\n",
    "    tomas.pristup_vcs,\n",
    "    sep=\"\\n\"\n",
    ")"
   ]
  },
  {
   "cell_type": "code",
   "execution_count": 32,
   "id": "74e4036f-4c4a-475d-bdaa-58cbf74810f7",
   "metadata": {
    "tags": []
   },
   "outputs": [
    {
     "name": "stdout",
     "output_type": "stream",
     "text": [
      "{'jmeno': 'Tomáš', 'vek': 31, 'mzda': 70000, '_BigDataInzenyr__pristup_db': True, '_Tester__pristup_vcs': True}\n"
     ]
    }
   ],
   "source": [
    "print(tomas.__dict__)"
   ]
  },
  {
   "cell_type": "code",
   "execution_count": 33,
   "id": "64326c42-795e-4ed6-8354-9f9dfc711341",
   "metadata": {
    "tags": []
   },
   "outputs": [],
   "source": [
    "tomas.vytvor_email(\"@gmail.com\")"
   ]
  },
  {
   "cell_type": "code",
   "execution_count": 34,
   "id": "12f34891-0a97-465f-82f4-df0b6de7c1ba",
   "metadata": {
    "tags": []
   },
   "outputs": [
    {
     "name": "stdout",
     "output_type": "stream",
     "text": [
      "{'jmeno': 'Tomáš', 'vek': 31, 'mzda': 70000, '_BigDataInzenyr__pristup_db': True, '_Tester__pristup_vcs': True, 'email': 'tomáš@gmail.com'}\n"
     ]
    }
   ],
   "source": [
    "print(tomas.__dict__)"
   ]
  },
  {
   "cell_type": "markdown",
   "id": "c6508b9a-4aa5-40cf-b703-1d3130f5a021",
   "metadata": {},
   "source": [
    "<br>\n",
    "\n",
    "Opravdu už není jednoduché, sledovat původ změn.\n",
    "\n",
    "A v této ukázce jde o triviální třídy."
   ]
  },
  {
   "cell_type": "markdown",
   "id": "939a0da8-d5e9-4a14-b961-ef4eb02d3d2a",
   "metadata": {},
   "source": [
    "<br>\n",
    "\n",
    "Co když se potom dědičnost ještě zkomplikuje?"
   ]
  },
  {
   "cell_type": "markdown",
   "id": "02e0f538-9302-4eaa-8405-8a1c01552c82",
   "metadata": {},
   "source": [
    "<img src=\"https://i.imgur.com/HgQpT9I.png\" width=\"1000\" style=\"margin-left:auto; margin-right:auto\">"
   ]
  },
  {
   "cell_type": "markdown",
   "id": "ab9a7bf6-0cf4-47c0-bb04-06dbfc7c972c",
   "metadata": {
    "tags": []
   },
   "source": [
    "### MRO (~Method resolution order)\n",
    "\n",
    "---"
   ]
  },
  {
   "cell_type": "markdown",
   "id": "02e914c3-8b27-4ad0-a3fb-8a88b3e5012c",
   "metadata": {},
   "source": [
    "Pokud je systému dědičnosti větší počet úrovní, nebylo by snadné sledovat rodiče.\n",
    "\n",
    "Z takového důvodu existuje metoda, která označí cestu, kterou jsou objekty sbírány:"
   ]
  },
  {
   "cell_type": "code",
   "execution_count": 35,
   "id": "fdc1ad29-6a01-460f-b016-11cac7068c32",
   "metadata": {
    "tags": []
   },
   "outputs": [],
   "source": [
    "class Employee:\n",
    "    def f(self):\n",
    "        print(\"Employee\", self)\n",
    "\n",
    "class FrontendDev(Employee):\n",
    "    def f(self):\n",
    "        print(\"FrontendDev\", self)\n",
    "        super().f()\n",
    "\n",
    "class BackendDev(Employee):\n",
    "    def f(self):\n",
    "        print(\"BackendDev\", self)\n",
    "        super().f()\n",
    "        \n",
    "class FullstackDev(FrontendDev, BackendDev):\n",
    "    def f(self):\n",
    "        print(\"FullstackDev\", self)\n",
    "        super().f()"
   ]
  },
  {
   "cell_type": "code",
   "execution_count": 36,
   "id": "b4defc90-efb2-46eb-bf7e-b8da9b0a17df",
   "metadata": {
    "tags": []
   },
   "outputs": [],
   "source": [
    "fdev = FullstackDev()"
   ]
  },
  {
   "cell_type": "code",
   "execution_count": 37,
   "id": "ba46ffba-69d1-4bfb-8274-8abf34839d08",
   "metadata": {
    "tags": []
   },
   "outputs": [
    {
     "name": "stdout",
     "output_type": "stream",
     "text": [
      "FullstackDev <__main__.FullstackDev object at 0x7fa5dc679c70>\n",
      "FrontendDev <__main__.FullstackDev object at 0x7fa5dc679c70>\n",
      "BackendDev <__main__.FullstackDev object at 0x7fa5dc679c70>\n",
      "Employee <__main__.FullstackDev object at 0x7fa5dc679c70>\n"
     ]
    }
   ],
   "source": [
    "fdev.f()"
   ]
  },
  {
   "cell_type": "markdown",
   "id": "b1530ecc-002a-42aa-8a58-7004abd8e93b",
   "metadata": {},
   "source": [
    "<br>\n",
    "\n",
    "**MRO** je také jedna z *magických metod*, takže můžeš pracovat i pomocí ní:"
   ]
  },
  {
   "cell_type": "code",
   "execution_count": 38,
   "id": "118aa84d-6c29-43c5-8f4a-e348b0baa4fc",
   "metadata": {
    "tags": []
   },
   "outputs": [
    {
     "data": {
      "text/plain": [
       "(__main__.FullstackDev,\n",
       " __main__.FrontendDev,\n",
       " __main__.BackendDev,\n",
       " __main__.Employee,\n",
       " object)"
      ]
     },
     "execution_count": 38,
     "metadata": {},
     "output_type": "execute_result"
    }
   ],
   "source": [
    "FullstackDev.__mro__"
   ]
  },
  {
   "cell_type": "markdown",
   "id": "05a07710-b1a9-4a4c-af39-08ab9bb52908",
   "metadata": {},
   "source": [
    "<br>\n",
    "\n",
    "Proč je tedy MRO tak podstatné?\n",
    "\n",
    "Podívej se na drobnou změnu v zápise:"
   ]
  },
  {
   "cell_type": "code",
   "execution_count": 42,
   "id": "cd8d64a4-c1a8-4f19-9cdd-536c6d17de09",
   "metadata": {
    "tags": []
   },
   "outputs": [],
   "source": [
    "class Employee:\n",
    "    def f(self):\n",
    "        print(\"Employee\", self)\n",
    "\n",
    "class FrontendDev(Employee):\n",
    "    def f(self):\n",
    "        print(\"FrontendDev\", self)\n",
    "        super().f()\n",
    "\n",
    "class BackendDev(Employee):\n",
    "    def f(self):\n",
    "        print(\"BackendDev\", self)\n",
    "        # super().f()\n",
    "                \n",
    "class FullstackDev(FrontendDev, BackendDev):\n",
    "    def f(self):\n",
    "        print(\"FullstackDev\", self)\n",
    "        super().f()"
   ]
  },
  {
   "cell_type": "code",
   "execution_count": 43,
   "id": "8b202732-a1ed-4dd5-b431-c11fd55c66a9",
   "metadata": {
    "tags": []
   },
   "outputs": [],
   "source": [
    "fdev = FullstackDev()"
   ]
  },
  {
   "cell_type": "code",
   "execution_count": 44,
   "id": "964ddf94-afb7-4afc-bff8-f8e974bfc7c6",
   "metadata": {
    "tags": []
   },
   "outputs": [
    {
     "name": "stdout",
     "output_type": "stream",
     "text": [
      "FullstackDev <__main__.FullstackDev object at 0x7fa5dc6682e0>\n",
      "FrontendDev <__main__.FullstackDev object at 0x7fa5dc6682e0>\n"
     ]
    }
   ],
   "source": [
    "fdev.f()"
   ]
  },
  {
   "cell_type": "markdown",
   "id": "852feae0-5fe8-41ef-80ef-2fb5ee5566cb",
   "metadata": {},
   "source": [
    "<br>\n",
    "\n",
    "Z toho vyplývá, že `super()` nepracuje přímo s rodičem, nebo sourozence.\n",
    "\n",
    "Pracuje s předchůdcem, kterého stanoví MRO:"
   ]
  },
  {
   "cell_type": "code",
   "execution_count": 53,
   "id": "f83dfa68-2e55-4ae4-8f69-2f73ae70226a",
   "metadata": {
    "tags": []
   },
   "outputs": [],
   "source": [
    "class Employee:\n",
    "    atri = \"E\"\n",
    "\n",
    "class FrontendDev(Employee):\n",
    "    # pass\n",
    "    atri = \"Fr\"\n",
    "\n",
    "class BackendDev(Employee):\n",
    "    atri = \"B\"\n",
    "        \n",
    "class FullstackDev(FrontendDev, BackendDev):\n",
    "    # pass\n",
    "    atri = \"Fu\""
   ]
  },
  {
   "cell_type": "code",
   "execution_count": 54,
   "id": "58fee1ea-8ffa-45f2-be5c-7f35893579d9",
   "metadata": {
    "tags": []
   },
   "outputs": [],
   "source": [
    "f = FullstackDev()"
   ]
  },
  {
   "cell_type": "code",
   "execution_count": 55,
   "id": "48f7df78-8386-4100-a6b9-90906790e349",
   "metadata": {
    "tags": []
   },
   "outputs": [
    {
     "data": {
      "text/plain": [
       "'B'"
      ]
     },
     "execution_count": 55,
     "metadata": {},
     "output_type": "execute_result"
    }
   ],
   "source": [
    "f.atri"
   ]
  },
  {
   "cell_type": "markdown",
   "id": "af597ac7-c102-4b40-8e77-044a7de2133b",
   "metadata": {},
   "source": [
    "<br>\n",
    "\n",
    "MRO neplatí ovšem **jen pro metody**.\n",
    "\n",
    "Jeho znalost lze aplikovat také na vlastnosti jednotlivých tříd."
   ]
  },
  {
   "cell_type": "markdown",
   "id": "6731e59e-ddf1-4c86-9e24-ed5bd1618bda",
   "metadata": {},
   "source": [
    "### Souhrn\n",
    "\n",
    "---"
   ]
  },
  {
   "cell_type": "markdown",
   "id": "fa5b6ebf-51d6-43cd-878e-2d31227e15c6",
   "metadata": {},
   "source": [
    "<br>\n",
    "\n",
    "*Dědičnost* ale stejně jako ostatní koncepty nesmí být **zneužívána**.\n",
    "\n",
    "<br>\n",
    "\n",
    "*Zřetězené dědičnost* odkazování přestává být **zřetelné** a program se stává příliš komplexní.\n",
    "\n",
    "<br>\n",
    "\n",
    "Nejprve interpret vyhledává **metody nebo atributy** v aktuální třídě (potomkovi) a potom teprve začíná sledovat MRO."
   ]
  },
  {
   "cell_type": "markdown",
   "id": "fc980572-9160-4a47-baaa-1b81cad22618",
   "metadata": {},
   "source": [
    "<br>\n",
    "\n",
    "### 🧠 CVIČENÍ 🧠, Vytvoř třídu `Auto` a doplň následující:"
   ]
  },
  {
   "cell_type": "markdown",
   "id": "cc650c9c-e31b-4883-9035-873a01a6385e",
   "metadata": {
    "tags": []
   },
   "source": [
    "- Definuj třídu `Auto`, s metodou `__init__`, která potřebuje jen parametr `znacka`, `barva`,\n",
    "- vytvoř *getter* a *setter* metody pro atribut `max_rychlost` (maximum 200 km/h) a `hmotnost` (maximum 2 tuny),\n",
    "- vytvoř třídu `OsobniAuto`, která dědí (`Auto`) atributy `znacka`, `barva` a navíc potřebuje instanční atribut `mista_k_sezeni`,\n",
    "- pro `OsobniAuto` vytvoř *getter* a *setter*, který omezuje `max_rychlost` na 300 km/h a hodnota je vedená jako celé číslo,\n",
    "- vytvoř třídu `NakladniAuto`, která dědí (`Auto`) atributy `znacka`, `barva` a navíc potřebuje instanční atribut `nostnost`,\n",
    "- pro `NakladniAuto` vytvoř getter a setter, který omezuje `max_rychlost` na 100 km/h a hodnota je vedená jako celé číslo."
   ]
  },
  {
   "cell_type": "code",
   "execution_count": 56,
   "id": "d372df98-5a0c-4d42-a119-82e9f4feb064",
   "metadata": {
    "tags": []
   },
   "outputs": [],
   "source": [
    "class Auto:\n",
    "    def __init__(self, znacka, barva):\n",
    "        self.znacka = znacka\n",
    "        self.barva = barva\n",
    "        \n",
    "    @property\n",
    "    def max_rychlost(self):\n",
    "        return self._max_rychlost\n",
    "        \n",
    "    @max_rychlost.setter\n",
    "    def max_rychlost(self, hodnota):\n",
    "        if hodnota <= 200:\n",
    "            self._max_rychlost = hodnota\n",
    "        else:\n",
    "            raise ValueError(\"Rychlost nesmí být větší než 200 km/h!\")\n",
    "            \n",
    "    @property\n",
    "    def hmotnost(self):\n",
    "        return self._hmotnost\n",
    "        \n",
    "    @hmotnost.setter\n",
    "    def hmotnost(self, hodnota):\n",
    "        if hodnota <= 2:\n",
    "            self._hmotnost = hodnota\n",
    "        else:\n",
    "            raise ValueError(\"Hmotnost nesmí být větší než 2 tuny!\") \n",
    "\n",
    "            \n",
    "class OsobniAuto(Auto):\n",
    "    def __init__(self, znacka, barva, mista_k_sezeni):\n",
    "        super().__init__(znacka, barva)\n",
    "        self.mista_k_sezeni = mista_k_sezeni\n",
    "    \n",
    "    @property\n",
    "    def max_rychlost(self):\n",
    "        return self._max_rychlost\n",
    "        \n",
    "    @max_rychlost.setter\n",
    "    def max_rychlost(self, hodnota):\n",
    "        if isinstance(hodnota, int) and hodnota <= 300:\n",
    "            self._max_rychlost = hodnota\n",
    "        else:\n",
    "            raise ValueError(\n",
    "                \"Rychlost nesmí být větší než 300 km/h\"\n",
    "                \" nebo hodnota není celé číslo!\"\n",
    "            ) \n",
    "            \n",
    "class NakladniAuto(Auto):\n",
    "    def __init__(self, znacka, barva, nosnost):\n",
    "        super().__init__(znacka, barva)\n",
    "        self.nosnost = nosnost\n",
    "    \n",
    "    @property\n",
    "    def max_rychlost(self):\n",
    "        return self._max_rychlost\n",
    "        \n",
    "    @max_rychlost.setter\n",
    "    def max_rychlost(self, hodnota):\n",
    "        if isinstance(hodnota, int) and hodnota <= 100:\n",
    "            self._max_rychlost = hodnota\n",
    "        else:\n",
    "            raise ValueError(\n",
    "                \"Rychlost nesmí být větší než 100 km/h\"\n",
    "                \" nebo hodnota není celé číslo!\"\n",
    "            )"
   ]
  },
  {
   "cell_type": "code",
   "execution_count": 57,
   "id": "c31ad921-c4f1-4734-8f1b-944acac9ccf5",
   "metadata": {
    "tags": []
   },
   "outputs": [],
   "source": [
    "automobil_1 = Auto(\"BMW\", \"modrá\")\n",
    "automobil_2 = OsobniAuto(\"Audi\", \"bílá\", 5)"
   ]
  },
  {
   "cell_type": "code",
   "execution_count": 58,
   "id": "a038a662-df1f-4b5b-926c-e124f808671c",
   "metadata": {
    "tags": []
   },
   "outputs": [],
   "source": [
    "automobil_1.max_rychlost = 200"
   ]
  },
  {
   "cell_type": "code",
   "execution_count": 61,
   "id": "eb3d82a7-ddce-4c57-ad09-6b9b6be66c0b",
   "metadata": {
    "tags": []
   },
   "outputs": [
    {
     "name": "stdout",
     "output_type": "stream",
     "text": [
      "{'znacka': 'BMW', 'barva': 'modrá', '_max_rychlost': 200}\n"
     ]
    }
   ],
   "source": [
    "print(automobil_1.__dict__)"
   ]
  },
  {
   "cell_type": "code",
   "execution_count": 59,
   "id": "57d33bee-42a9-4e8c-9414-53705cbd96c8",
   "metadata": {
    "tags": []
   },
   "outputs": [],
   "source": [
    "automobil_2.max_rychlost = 300"
   ]
  },
  {
   "cell_type": "code",
   "execution_count": 62,
   "id": "e2382a0d-f97c-4f71-9faf-1b804a7e1445",
   "metadata": {
    "tags": []
   },
   "outputs": [
    {
     "name": "stdout",
     "output_type": "stream",
     "text": [
      "{'znacka': 'Audi', 'barva': 'bílá', 'mista_k_sezeni': 5, '_max_rychlost': 300}\n"
     ]
    }
   ],
   "source": [
    "print(automobil_2.__dict__)"
   ]
  },
  {
   "cell_type": "code",
   "execution_count": 63,
   "id": "867e95f6-6c12-469e-bfa7-35a8a6ed369f",
   "metadata": {
    "tags": []
   },
   "outputs": [],
   "source": [
    "tranzit = NakladniAuto(\"Ford\", \"šedá\", 1.5)"
   ]
  },
  {
   "cell_type": "code",
   "execution_count": 64,
   "id": "0be4ae9f-a41b-4b59-941a-c32f56bf5812",
   "metadata": {
    "tags": []
   },
   "outputs": [],
   "source": [
    "tranzit.max_rychlost = 99"
   ]
  },
  {
   "cell_type": "code",
   "execution_count": 65,
   "id": "dcdfc648-88b3-4f1b-94ed-62451af79b40",
   "metadata": {
    "tags": []
   },
   "outputs": [
    {
     "name": "stdout",
     "output_type": "stream",
     "text": [
      "{'znacka': 'Ford', 'barva': 'šedá', 'nosnost': 1.5, '_max_rychlost': 99}\n"
     ]
    }
   ],
   "source": [
    "print(tranzit.__dict__)"
   ]
  },
  {
   "cell_type": "markdown",
   "id": "86f6cff4-1c8b-49f7-a94d-9cd3210fed1f",
   "metadata": {},
   "source": [
    "<details>\n",
    "    <summary>▶️ Řešení</summary>\n",
    "    \n",
    "```python\n",
    "class Auto:\n",
    "def __init__(self, znacka: str, barva: str):\n",
    "    self.znacka = znacka\n",
    "    self.barva = barva\n",
    "    self.__hmotnost = 0\n",
    "    self.__max_rychlost = 0\n",
    "\n",
    "@property\n",
    "def hmotnost(self):\n",
    "    return self.__hmotnost\n",
    "\n",
    "@hmotnost.setter\n",
    "def hmotnost(self, hodnota: int) -> None:\n",
    "    if isinstance(hodnota, int) and 0 < hodnota < 2:\n",
    "        self.__hmotnost = hodnota\n",
    "    else:\n",
    "        raise Exception(\"Špatný datový typ, nebo hodnota (<2 tun)\")\n",
    "\n",
    "@property\n",
    "def max_rychlost(self):\n",
    "    return self.__max_rychlost\n",
    "\n",
    "@max_rychlost.setter\n",
    "def max_rychlost(self, hodnota: float) -> None:\n",
    "    if isinstance(hodnota, int) and 0 < hodnota < 200:\n",
    "        self.__max_rychlost = hodnota\n",
    "    else:\n",
    "        raise Exception(\"Špatný datový typ, nebo hodnota (<200 km/h)\")\n",
    "\n",
    "\n",
    "class OsobniAuto(Auto):\n",
    "    def __init__(self, znacka: str, barva: str, mista_k_sezeni: int):\n",
    "        super().__init__(znacka, barva)\n",
    "        self.mista_k_sezeni = mista_k_sezeni\n",
    "\n",
    "    @property\n",
    "    def max_rychlost(self):\n",
    "        return self.__max_rychlost\n",
    "\n",
    "    @max_rychlost.setter\n",
    "    def max_rychlost(self, hodnota: float) -> None:\n",
    "        if isinstance(hodnota, int) and 0 < hodnota < 300:\n",
    "            self.__max_rychlost = hodnota\n",
    "        else:\n",
    "            raise Exception(\"Špatný datový typ, nebo hodnota (<300 km/h)\")\n",
    "\n",
    "\n",
    "class NakladniAuto(Auto):\n",
    "    def __init__(self, znacka: str, barva: str, nostnost: float):\n",
    "        super().__init__(znacka, barva)\n",
    "        self.nostnost = nostnost\n",
    "\n",
    "    @property\n",
    "    def max_rychlost(self):\n",
    "        return self.__max_rychlost\n",
    "\n",
    "    @max_rychlost.setter\n",
    "    def max_rychlost(self, hodnota: int) -> None:\n",
    "        if isinstance(hodnota, int) and 0 < hodnota < 100:\n",
    "            self.__max_rychlost = hodnota\n",
    "        else:\n",
    "            raise Exception(\"Špatný datový typ, nebo hodnota (<100 km/h)\")\n",
    "```\n",
    "</details>"
   ]
  },
  {
   "cell_type": "markdown",
   "id": "cccfed0f-3bdc-4613-9a9e-d3085723b88d",
   "metadata": {},
   "source": [
    "<br>\n",
    "\n",
    "## Abstrakce\n",
    "\n",
    "---"
   ]
  },
  {
   "cell_type": "markdown",
   "id": "07e159b6-d2c4-484f-836c-9c2847106c1a",
   "metadata": {},
   "source": [
    "<img src=\"https://external-content.duckduckgo.com/iu/?u=https%3A%2F%2Ftse1.mm.bing.net%2Fth%3Fid%3DOIP.CFwkjtcCFee-YqXbmNDmxAHaHa%26pid%3DApi&f=1&ipt=b4737f334dd002ab30b8da0699a297e413334fd0ea059deb6cf4a6a0087b3f6b&ipo=images\" width=\"250\" style=\"margin-left:auto; margin-right:auto\">"
   ]
  },
  {
   "cell_type": "markdown",
   "id": "b24c98e9-e7fa-4a9c-b93e-e2487fb05baa",
   "metadata": {},
   "source": [
    "### Význam pojmu\n",
    "\n",
    "---"
   ]
  },
  {
   "cell_type": "markdown",
   "id": "13fb2c94-e92c-4e63-92f2-4fb8170605ef",
   "metadata": {},
   "source": [
    "Abstrakce je o **redukci množství detailů**.\n",
    "\n",
    "V OOP stojí na tom, že uživatel nemusí znát všechny implementace, ale pouze **jména objektů**."
   ]
  },
  {
   "cell_type": "markdown",
   "id": "6375cc91-c286-42f4-9483-3148cf9a02a5",
   "metadata": {},
   "source": [
    "<br>\n",
    "\n",
    "Stejně jako v praxi nevíš, co se všechno děje, pokud na chytrém telefonu zmáčkneš tlačítko pro vytvoření fotky.\n",
    "\n",
    "Tak ani v Pythonu nepotřebuješ vědět všechny detaily:"
   ]
  },
  {
   "cell_type": "code",
   "execution_count": 66,
   "id": "6ef62bfb-83f5-4f71-80b4-576ab2434d91",
   "metadata": {
    "tags": []
   },
   "outputs": [
    {
     "data": {
      "text/plain": [
       "'Matous'"
      ]
     },
     "execution_count": 66,
     "metadata": {},
     "output_type": "execute_result"
    }
   ],
   "source": [
    "\"matous\".title()"
   ]
  },
  {
   "cell_type": "code",
   "execution_count": 67,
   "id": "54906ca0-4ed4-4fd4-8158-5227efac8795",
   "metadata": {
    "tags": []
   },
   "outputs": [
    {
     "data": {
      "text/plain": [
       "'oop'"
      ]
     },
     "execution_count": 67,
     "metadata": {},
     "output_type": "execute_result"
    }
   ],
   "source": [
    "\"OOP\".lower()"
   ]
  },
  {
   "cell_type": "markdown",
   "id": "21577667-27fb-4611-aa01-a1e113038c1a",
   "metadata": {},
   "source": [
    "### V praxi\n",
    "\n",
    "---"
   ]
  },
  {
   "cell_type": "markdown",
   "id": "d67086af-0c7f-4e31-bb05-6cf1707c25ee",
   "metadata": {},
   "source": [
    "<br>\n",
    "\n",
    "Podobně můžeš vidět *abstrakci* v OOP.\n",
    "\n",
    "Jak autor svojí knihovny se snažíš usnadnit práci ostatní uživatelům knihovny.\n",
    "\n",
    "Proto jim stačí vytvoření přehledného atributu `typ_uctu`, který už si sám dohledá a zavolá konkrétní funkce/metody."
   ]
  },
  {
   "cell_type": "markdown",
   "id": "a47637e0-44ec-4a35-b1c0-b7505c861397",
   "metadata": {},
   "source": [
    "<!-- \n",
    "```python\n",
    "class GooglePaymentProcessor:\n",
    "    \n",
    "    def __init__(self, order: int):\n",
    "        self.order = order\n",
    "\n",
    "    def pay(self):\n",
    "        print(\n",
    "            f\"Nr.order: {self.order}\",\n",
    "            \"Processing GooglePay..\",\n",
    "            \"Verifying security code..\",\n",
    "            \"Changing order status..\",\n",
    "            \"-\" * 25,\n",
    "            sep=\"\\n\"\n",
    "        )\n",
    "```\n",
    "\n",
    "```python\n",
    "order_1 = GooglePaymentProcessor(\"1234567890\")\n",
    "order_1.pay()\n",
    "``` -->"
   ]
  },
  {
   "cell_type": "code",
   "execution_count": 68,
   "id": "ec1e9c8a-06c6-475d-9d59-de9e13ea4264",
   "metadata": {},
   "outputs": [],
   "source": [
    "class Uzivatel:\n",
    "    def __init__(self, jmeno: str, email: str):\n",
    "        self.email = email\n",
    "        self.jmeno = jmeno\n",
    "\n",
    "    @property\n",
    "    def typ_uctu(self):\n",
    "        return self.__typ_uctu\n",
    "    \n",
    "    @typ_uctu.setter\n",
    "    def typ_uctu(self, typ: str):\n",
    "        \"\"\"docstring\"\"\"\n",
    "        if isinstance(typ, str) \\\n",
    "            and typ.title() in (\"Gold\", \"Platinum\", \"Diamond\"):\n",
    "            self.__typ_uctu = typ\n",
    "            print(\"Chystám nový účet...\")\n",
    "        else:\n",
    "            raise Exception()"
   ]
  },
  {
   "cell_type": "code",
   "execution_count": 69,
   "id": "324ff39f-4cc4-48a5-834c-73ca88beb927",
   "metadata": {},
   "outputs": [],
   "source": [
    "user_1 = Uzivatel(\"Matouš\", \"matous@gmail.com\")"
   ]
  },
  {
   "cell_type": "code",
   "execution_count": 70,
   "id": "69098ebe-2b72-42e9-89b8-9d670b5416ff",
   "metadata": {
    "tags": []
   },
   "outputs": [
    {
     "name": "stdout",
     "output_type": "stream",
     "text": [
      "Chystám nový účet...\n"
     ]
    }
   ],
   "source": [
    "user_1.typ_uctu = \"gold\""
   ]
  },
  {
   "cell_type": "markdown",
   "id": "0f508a73-d82c-4855-a6c3-81ea6b2fae72",
   "metadata": {},
   "source": [
    "<br>\n",
    "\n",
    "Jako uživatel takové knihovny, potom neřešíš implementaci těchto pomocných funkcí.\n",
    "\n",
    "Nemusíš je testovat, ani dokumentovat, protože to je starost *autora knihovny*.\n",
    "\n",
    "Ideálně stačí **knihovnu nebo objekt** aplikovat pro svoje účely."
   ]
  },
  {
   "cell_type": "markdown",
   "id": "0666c62a-bd33-4664-af52-3a089ca6a5a9",
   "metadata": {},
   "source": [
    "### Knihovna abc\n",
    "\n",
    "---"
   ]
  },
  {
   "cell_type": "markdown",
   "id": "01e94d18-624d-43df-bb8d-e1d43ff4b94f",
   "metadata": {},
   "source": [
    "Další z aplikací je nejenom schování logiky specifického objektu, ale také **celé třídy**:"
   ]
  },
  {
   "cell_type": "code",
   "execution_count": 10,
   "id": "046fbdeb-9630-4f3c-9a44-7fab3edb05ec",
   "metadata": {
    "tags": []
   },
   "outputs": [],
   "source": [
    "class Uzivatel:\n",
    "    def privitani(self):\n",
    "        print(\"Vítáme Tě na tvém účtu\")\n",
    "    \n",
    "class GoldUcet(Uzivatel):\n",
    "    pass\n",
    "        \n",
    "        \n",
    "class PlatinumUcet(Uzivatel):\n",
    "    pass"
   ]
  },
  {
   "cell_type": "code",
   "execution_count": 11,
   "id": "e398f561-c587-49de-be6f-f985245cf60e",
   "metadata": {
    "tags": []
   },
   "outputs": [],
   "source": [
    "uzivatel_1 = Uzivatel()\n",
    "uzivatel_2 = GoldUcet()\n",
    "uzivatel_3 = PlatinumUcet()"
   ]
  },
  {
   "cell_type": "code",
   "execution_count": 12,
   "id": "600c415c-d973-4aed-8200-47607e51fe62",
   "metadata": {
    "tags": []
   },
   "outputs": [
    {
     "name": "stdout",
     "output_type": "stream",
     "text": [
      "Vítáme Tě na tvém účtu\n",
      "Vítáme Tě na tvém účtu\n",
      "Vítáme Tě na tvém účtu\n"
     ]
    }
   ],
   "source": [
    "uzivatel_1.privitani()\n",
    "uzivatel_2.privitani()\n",
    "uzivatel_3.privitani()"
   ]
  },
  {
   "cell_type": "markdown",
   "id": "16499474-8341-4e1a-a38e-203eb884913a",
   "metadata": {},
   "source": [
    "Pomocí *vícenásobné dědičnosti* můžeš využít metodu rodiče `privitani`.\n",
    "\n",
    "V některých situacích takový krok dává smysl, ale každý typ účtu by měl dostat odpovídající uvítání.\n",
    "\n",
    "Nakonec tedy potřebuješ přepsat původní metodu `privitani` tak, aby seděla **do jednotlivých tříd potomků**:"
   ]
  },
  {
   "cell_type": "code",
   "execution_count": 7,
   "id": "63bab471-d2a9-4a10-a45a-521e7eea8434",
   "metadata": {
    "tags": []
   },
   "outputs": [],
   "source": [
    "class Uzivatel:\n",
    "    def privitani(self):\n",
    "        pass\n",
    "    \n",
    "class GoldUcet(Uzivatel):\n",
    "    def privitani(self):\n",
    "        print(\"Vítáme Tě na tvém Gold účtu\")\n",
    "        \n",
    "        \n",
    "class PlatinumUcet(Uzivatel):\n",
    "    def privitani(self):\n",
    "        print(\"Vítáme Tě na tvém Platinum účtu\")"
   ]
  },
  {
   "cell_type": "code",
   "execution_count": 8,
   "id": "e270024f-27ac-4aa5-856c-30c72244c3ce",
   "metadata": {
    "tags": []
   },
   "outputs": [],
   "source": [
    "uzivatel_1 = Uzivatel()\n",
    "uzivatel_2 = GoldUcet()\n",
    "uzivatel_3 = PlatinumUcet()"
   ]
  },
  {
   "cell_type": "code",
   "execution_count": 9,
   "id": "762936b7-23cd-4264-8659-bf4267bae37c",
   "metadata": {
    "tags": []
   },
   "outputs": [
    {
     "name": "stdout",
     "output_type": "stream",
     "text": [
      "Vítáme Tě na tvém Gold účtu\n",
      "Vítáme Tě na tvém Platinum účtu\n"
     ]
    }
   ],
   "source": [
    "uzivatel_1.privitani()\n",
    "uzivatel_2.privitani()\n",
    "uzivatel_3.privitani()"
   ]
  },
  {
   "cell_type": "markdown",
   "id": "4fbb9c2e-3799-4280-8e2c-1e54c9c8de7f",
   "metadata": {},
   "source": [
    "V takové situaci se můžeš pozastavit nad tím, proč tedy pořád nechávat metodu `privitani` u rodiče `Uzivatel`?"
   ]
  },
  {
   "cell_type": "code",
   "execution_count": 13,
   "id": "c2d3bc8d-4579-4eec-8f6e-a533ba0442e2",
   "metadata": {
    "tags": []
   },
   "outputs": [],
   "source": [
    "class Uzivatel:\n",
    "    pass  # odebereme metodu\n",
    "    \n",
    "class GoldUcet(Uzivatel):\n",
    "    def privitani(self):\n",
    "        print(\"Vítáme Tě na tvém Gold účtu\")\n",
    "        \n",
    "        \n",
    "class PlatinumUcet(Uzivatel):\n",
    "    def privitani(self):\n",
    "        print(\"Vítáme Tě na tvém Platinum účtu\")"
   ]
  },
  {
   "cell_type": "code",
   "execution_count": 14,
   "id": "7f1107c4-00c9-4f70-b142-95e7dc8cc45a",
   "metadata": {
    "tags": []
   },
   "outputs": [],
   "source": [
    "uzivatel_1 = Uzivatel()\n",
    "uzivatel_2 = GoldUcet()\n",
    "uzivatel_3 = PlatinumUcet()"
   ]
  },
  {
   "cell_type": "code",
   "execution_count": 16,
   "id": "3519eb90-ac7e-4d8d-98cb-52171b2c9135",
   "metadata": {
    "tags": []
   },
   "outputs": [
    {
     "name": "stdout",
     "output_type": "stream",
     "text": [
      "Vítáme Tě na tvém Gold účtu\n",
      "Vítáme Tě na tvém Platinum účtu\n"
     ]
    }
   ],
   "source": [
    "# uzivatel_1.privitani()\n",
    "uzivatel_2.privitani()\n",
    "uzivatel_3.privitani()"
   ]
  },
  {
   "cell_type": "markdown",
   "id": "a025255a-eca8-41ea-8f25-11a2155a47ad",
   "metadata": {},
   "source": [
    "Nyní třídy potomků `GoldUcet` a `PlatinumUcet` pracují přece stejně. Není to tak?"
   ]
  },
  {
   "cell_type": "code",
   "execution_count": 17,
   "id": "635b2df9-cb3f-4564-bc22-140404ece13e",
   "metadata": {
    "tags": []
   },
   "outputs": [],
   "source": [
    "class Uzivatel:\n",
    "    pass\n",
    "    \n",
    "class GoldUcet(Uzivatel):\n",
    "    def privitani(self):\n",
    "        print(\"Vítáme Tě na tvém Gold účtu\")\n",
    "        \n",
    "        \n",
    "class PlatinumUcet(Uzivatel):\n",
    "    pass"
   ]
  },
  {
   "cell_type": "code",
   "execution_count": 18,
   "id": "73633bee-a1ab-49c1-aa8a-781d1c198586",
   "metadata": {
    "tags": []
   },
   "outputs": [],
   "source": [
    "uzivatel_1 = Uzivatel()\n",
    "uzivatel_2 = GoldUcet()\n",
    "uzivatel_3 = PlatinumUcet()"
   ]
  },
  {
   "cell_type": "code",
   "execution_count": 19,
   "id": "b530f8af-48d9-4215-ba67-01f1f199ce82",
   "metadata": {
    "tags": []
   },
   "outputs": [
    {
     "name": "stdout",
     "output_type": "stream",
     "text": [
      "Vítáme Tě na tvém Gold účtu\n"
     ]
    },
    {
     "ename": "AttributeError",
     "evalue": "'PlatinumUcet' object has no attribute 'privitani'",
     "output_type": "error",
     "traceback": [
      "\u001b[0;31m---------------------------------------------------------------------------\u001b[0m",
      "\u001b[0;31mAttributeError\u001b[0m                            Traceback (most recent call last)",
      "Cell \u001b[0;32mIn[19], line 3\u001b[0m\n\u001b[1;32m      1\u001b[0m \u001b[38;5;66;03m# uzivatel_1.privitani()\u001b[39;00m\n\u001b[1;32m      2\u001b[0m uzivatel_2\u001b[38;5;241m.\u001b[39mprivitani()\n\u001b[0;32m----> 3\u001b[0m \u001b[43muzivatel_3\u001b[49m\u001b[38;5;241;43m.\u001b[39;49m\u001b[43mprivitani\u001b[49m()\n",
      "\u001b[0;31mAttributeError\u001b[0m: 'PlatinumUcet' object has no attribute 'privitani'"
     ]
    }
   ],
   "source": [
    "# uzivatel_1.privitani()\n",
    "uzivatel_2.privitani()\n",
    "uzivatel_3.privitani()"
   ]
  },
  {
   "cell_type": "markdown",
   "id": "1a424d1c-4e06-41db-a18a-35da8b2cb2e3",
   "metadata": {},
   "source": [
    "Nicméně, co když budeš potřebovat \"vynutit\" od uživatele, aby všichni potomci používali nějakou variantu metody `privitani`?\n",
    "\n",
    "V této situaci to nedokážeš.\n",
    "\n",
    "<br>"
   ]
  },
  {
   "cell_type": "markdown",
   "id": "333a0d7f-8481-45e3-80d0-e890107950e9",
   "metadata": {},
   "source": [
    "Jako možné řešení je vytvořit návod pro třídy `GoldUcet` a `PlatinumUcet`.\n",
    "\n",
    "Tento návod jim nařizuje, které metody musí používat.\n",
    "\n",
    "Tím si předchází komplikacím, které způsobuje nešikovné **vícenásobně dědění**:"
   ]
  },
  {
   "cell_type": "code",
   "execution_count": 21,
   "id": "2d5edbe6-18ac-448a-babc-d84ca3e86ad3",
   "metadata": {
    "tags": []
   },
   "outputs": [],
   "source": [
    "from abc import ABC, abstractmethod"
   ]
  },
  {
   "cell_type": "code",
   "execution_count": 25,
   "id": "079c450d-91c4-4b89-ada0-ece696d51f22",
   "metadata": {
    "tags": []
   },
   "outputs": [],
   "source": [
    "class Uzivatel(ABC):\n",
    "    \n",
    "    @abstractmethod\n",
    "    def privitani(self):\n",
    "        pass\n",
    "\n",
    "\n",
    "class GoldUcet(Uzivatel):\n",
    "    \n",
    "    def privitani(self):\n",
    "        print(\"Vítáme Tě na tvém Gold účtu\")\n",
    "        \n",
    "        \n",
    "class PlatinumUcet(Uzivatel):\n",
    "    \n",
    "    def privitani(self):\n",
    "        print(\"Vítáme Tě na tvém Platinum účtu\")"
   ]
  },
  {
   "cell_type": "code",
   "execution_count": 26,
   "id": "a185a353-ca5b-48f4-937a-35cdb7a6a6f3",
   "metadata": {
    "tags": []
   },
   "outputs": [
    {
     "ename": "TypeError",
     "evalue": "Can't instantiate abstract class Uzivatel with abstract methods privitani",
     "output_type": "error",
     "traceback": [
      "\u001b[0;31m---------------------------------------------------------------------------\u001b[0m",
      "\u001b[0;31mTypeError\u001b[0m                                 Traceback (most recent call last)",
      "Cell \u001b[0;32mIn[26], line 1\u001b[0m\n\u001b[0;32m----> 1\u001b[0m uzivatel_1 \u001b[38;5;241m=\u001b[39m \u001b[43mUzivatel\u001b[49m\u001b[43m(\u001b[49m\u001b[43m)\u001b[49m\n\u001b[1;32m      2\u001b[0m uzivatel_2 \u001b[38;5;241m=\u001b[39m GoldUcet()\n\u001b[1;32m      3\u001b[0m uzivatel_3 \u001b[38;5;241m=\u001b[39m PlatinumUcet()\n",
      "\u001b[0;31mTypeError\u001b[0m: Can't instantiate abstract class Uzivatel with abstract methods privitani"
     ]
    }
   ],
   "source": [
    "uzivatel_1 = Uzivatel()\n",
    "uzivatel_2 = GoldUcet()\n",
    "uzivatel_3 = PlatinumUcet()"
   ]
  },
  {
   "cell_type": "markdown",
   "id": "4a0d87b5-b271-4750-9b8e-0e9349c2181d",
   "metadata": {},
   "source": [
    "Narozdíl od rodiče **u dědičnosti**, u abstrakce nejsi schopen **instancovat abstraktní třídy**.\n",
    "\n",
    "Pouze je používat jako vzor:"
   ]
  },
  {
   "cell_type": "code",
   "execution_count": 27,
   "id": "6ba6fc2d-5e6d-41cf-8508-c682fb61a7d2",
   "metadata": {
    "tags": []
   },
   "outputs": [],
   "source": [
    "uzivatel_2 = GoldUcet()\n",
    "uzivatel_3 = PlatinumUcet()"
   ]
  },
  {
   "cell_type": "code",
   "execution_count": 28,
   "id": "e4ec36ab-6bae-4140-973f-1c811f05cf25",
   "metadata": {
    "tags": []
   },
   "outputs": [
    {
     "name": "stdout",
     "output_type": "stream",
     "text": [
      "Vítáme Tě na tvém Gold účtu\n",
      "Vítáme Tě na tvém Platinum účtu\n"
     ]
    }
   ],
   "source": [
    "uzivatel_2.privitani()\n",
    "uzivatel_3.privitani()"
   ]
  },
  {
   "cell_type": "markdown",
   "id": "c65d941b-8bb5-43e5-ae93-328d46dd6b86",
   "metadata": {},
   "source": [
    "Další výhodou oproti dědičnosti je, že nemůžeš vynechávat přepisování metod implicitně:"
   ]
  },
  {
   "cell_type": "code",
   "execution_count": 29,
   "id": "34c1e67d-20cc-4fac-9847-7ea1f915e865",
   "metadata": {
    "tags": []
   },
   "outputs": [],
   "source": [
    "class Uzivatel(ABC):\n",
    "    \n",
    "    @abstractmethod\n",
    "    def privitani(self):\n",
    "        pass\n",
    "\n",
    "\n",
    "class GoldUcet(Uzivatel):\n",
    "    \n",
    "    def privitani(self):\n",
    "        print(\"Vítáme Tě na tvém Gold účtu\")\n",
    "        \n",
    "        \n",
    "class PlatinumUcet(Uzivatel):\n",
    "    pass"
   ]
  },
  {
   "cell_type": "code",
   "execution_count": 30,
   "id": "5b647725-badf-4f69-b991-bbca1c1654d4",
   "metadata": {
    "tags": []
   },
   "outputs": [
    {
     "ename": "TypeError",
     "evalue": "Can't instantiate abstract class PlatinumUcet with abstract methods privitani",
     "output_type": "error",
     "traceback": [
      "\u001b[0;31m---------------------------------------------------------------------------\u001b[0m",
      "\u001b[0;31mTypeError\u001b[0m                                 Traceback (most recent call last)",
      "Cell \u001b[0;32mIn[30], line 2\u001b[0m\n\u001b[1;32m      1\u001b[0m uzivatel_2 \u001b[38;5;241m=\u001b[39m GoldUcet()\n\u001b[0;32m----> 2\u001b[0m uzivatel_3 \u001b[38;5;241m=\u001b[39m \u001b[43mPlatinumUcet\u001b[49m\u001b[43m(\u001b[49m\u001b[43m)\u001b[49m\n",
      "\u001b[0;31mTypeError\u001b[0m: Can't instantiate abstract class PlatinumUcet with abstract methods privitani"
     ]
    }
   ],
   "source": [
    "uzivatel_2 = GoldUcet()\n",
    "uzivatel_3 = PlatinumUcet()"
   ]
  },
  {
   "cell_type": "markdown",
   "id": "b2226df7-0bd8-4cce-b25b-e3101c99a9d1",
   "metadata": {},
   "source": [
    "*Interpret* tě ihned upozorní, že u abstraktní třídy je metoda `privitani` a ty ji musíš u své třídy také specifikovat."
   ]
  },
  {
   "cell_type": "markdown",
   "id": "7fb28f10-e3dd-47d4-bfaa-867a5ecb2af4",
   "metadata": {},
   "source": [
    "<br>\n",
    "\n",
    "### Abstraktní třídy jako vzor i předpis\n",
    "\n",
    "---"
   ]
  },
  {
   "cell_type": "code",
   "execution_count": 79,
   "id": "66876c1e-c3b4-470e-92a9-419512f8f297",
   "metadata": {
    "tags": []
   },
   "outputs": [],
   "source": [
    "class Uzivatel(ABC):\n",
    "    def __init__(self, jmeno: str, email: str):\n",
    "        self.email = email\n",
    "        self.jmeno = jmeno\n",
    "\n",
    "    @abstractmethod\n",
    "    def typ_uctu(self):\n",
    "        \"\"\"Zprocesuje mi nastavení správného typu účtu.\"\"\"\n",
    "        pass"
   ]
  },
  {
   "cell_type": "markdown",
   "id": "b9ea6c55-f32b-4c1c-9132-199550282878",
   "metadata": {},
   "source": [
    "Nyní potřebuješ vytvořit různé **typy účtů**.\n",
    "\n",
    "<br>\n",
    "\n",
    "Např. 3 různé předplatitelné scénaře typu:\n",
    "1. **Gold**, (100 CZK/mo)\n",
    "2. **Platinum**, (200 CZK/mo),\n",
    "3. **Diamond**, (300 CZK/mo)."
   ]
  },
  {
   "cell_type": "code",
   "execution_count": 80,
   "id": "9e784fbc-3c58-48f9-96b6-b3de3e15267b",
   "metadata": {
    "tags": []
   },
   "outputs": [],
   "source": [
    "class GoldUcet(Uzivatel):\n",
    "    CENA_GOLD_UCTU: int = 100\n",
    "        \n",
    "    def typ_uctu(self):\n",
    "        print(f\"Uživatel: {self.jmeno} zvolil účet Gold, cena: {self.CENA_GOLD_UCTU}.\")"
   ]
  },
  {
   "cell_type": "code",
   "execution_count": 81,
   "id": "fc312cf9-4884-43b4-84d5-89f1e8b21951",
   "metadata": {
    "tags": []
   },
   "outputs": [],
   "source": [
    "class PlatinumUcet(Uzivatel):\n",
    "    CENA_PLATINUM_UCTU: int = 200\n",
    "        \n",
    "    def typ_uctu(self):\n",
    "        print(f\"Uživatel: {self.jmeno} zvolil účet Platinum, cena: {self.CENA_PLATINUM_UCTU}.\")"
   ]
  },
  {
   "cell_type": "code",
   "execution_count": 82,
   "id": "4d40b708-29ad-4e33-ba6f-4492e0413d4a",
   "metadata": {
    "tags": []
   },
   "outputs": [],
   "source": [
    "class DiamondUcet(Uzivatel):\n",
    "    CENA_DIAMOND_UCTU: int = 300\n",
    "\n",
    "    def typ_uctu(self):\n",
    "        print(f\"Uživatel: {self.jmeno} zvolil účet Diamond, cena: {self.CENA_DIAMOND_UCTU}.\")"
   ]
  },
  {
   "cell_type": "code",
   "execution_count": 83,
   "id": "e09d194b-1b8d-4313-9779-14c63ac29e0f",
   "metadata": {
    "tags": []
   },
   "outputs": [
    {
     "name": "stdout",
     "output_type": "stream",
     "text": [
      "Uživatel: Lukáš zvolil účet Gold, cena: 100.\n"
     ]
    }
   ],
   "source": [
    "user_2 = GoldUcet(\"Lukáš\", \"lukas.gulas@email.cz\")\n",
    "user_2.typ_uctu()"
   ]
  },
  {
   "cell_type": "code",
   "execution_count": 77,
   "id": "335f49b1-7bfe-41e2-a659-e43d3bd16637",
   "metadata": {
    "tags": []
   },
   "outputs": [
    {
     "name": "stdout",
     "output_type": "stream",
     "text": [
      "Uživatel: Jan zvolil účet Platinum, cena: 200.\n"
     ]
    }
   ],
   "source": [
    "user_3 = PlatinumUcet(\"Jan\", \"jan.adam@email.cz\")\n",
    "user_3.typ_uctu()"
   ]
  },
  {
   "cell_type": "code",
   "execution_count": 78,
   "id": "0727dd16-7ff0-4e31-84eb-f217c858735f",
   "metadata": {
    "tags": []
   },
   "outputs": [
    {
     "name": "stdout",
     "output_type": "stream",
     "text": [
      "Uživatel: Marek zvolil účet Diamond, cena: 300.\n"
     ]
    }
   ],
   "source": [
    "user_4 = DiamondUcet(\"Marek\", \"marek.honza@email.cz\")\n",
    "user_4.typ_uctu()"
   ]
  },
  {
   "cell_type": "code",
   "execution_count": 84,
   "id": "95a2f980-9df1-40a4-a411-6d061fa1a24a",
   "metadata": {
    "tags": []
   },
   "outputs": [
    {
     "ename": "TypeError",
     "evalue": "Can't instantiate abstract class Uzivatel with abstract methods typ_uctu",
     "output_type": "error",
     "traceback": [
      "\u001b[0;31m---------------------------------------------------------------------------\u001b[0m",
      "\u001b[0;31mTypeError\u001b[0m                                 Traceback (most recent call last)",
      "Cell \u001b[0;32mIn[84], line 1\u001b[0m\n\u001b[0;32m----> 1\u001b[0m user_5 \u001b[38;5;241m=\u001b[39m \u001b[43mUzivatel\u001b[49m\u001b[43m(\u001b[49m\u001b[38;5;124;43m\"\u001b[39;49m\u001b[38;5;124;43mDavid\u001b[39;49m\u001b[38;5;124;43m\"\u001b[39;49m\u001b[43m,\u001b[49m\u001b[43m \u001b[49m\u001b[38;5;124;43m\"\u001b[39;49m\u001b[38;5;124;43mdavid@novak.cz\u001b[39;49m\u001b[38;5;124;43m\"\u001b[39;49m\u001b[43m)\u001b[49m\n",
      "\u001b[0;31mTypeError\u001b[0m: Can't instantiate abstract class Uzivatel with abstract methods typ_uctu"
     ]
    }
   ],
   "source": [
    "user_5 = Uzivatel(\"David\", \"david@novak.cz\")"
   ]
  },
  {
   "cell_type": "markdown",
   "id": "bb35f04a-e34b-4700-914b-4d3efe405db6",
   "metadata": {},
   "source": [
    "<br>\n",
    "\n",
    "`ABC` je objekt, kterou musíš zdědit z modulu `abc`. Python defaultně nepracuje s konceptem **abstraktních tříd jako jiné jazyky**.\n",
    "\n",
    "<br>\n",
    "\n",
    "Dále musíš označit metodu jako abstraktní metodu. Použij dekorátor `@abstractmethod`.\n",
    "\n",
    "<br>\n",
    "\n",
    "V abstraktní metodě nepíšeš žádné ohlášení, pouze dokumentaci abstraktní metody a ohlášení `pass`.\n",
    "\n",
    "Dále také nemůžeš tvořit instance pro abstraktní třídu. Složí pouze jako nějaký odkaz."
   ]
  },
  {
   "cell_type": "code",
   "execution_count": null,
   "id": "8dba3239-e113-40ea-b618-9aa8fc403c30",
   "metadata": {},
   "outputs": [],
   "source": [
    "class Auto(ABC):\n",
    "    def __init__(self, x, y):\n",
    "        self.x = x\n",
    "        self.y = y\n",
    "        \n",
    "    @abstractmethod\n",
    "    def nastartuj_motor(self):\n",
    "        \"\"\"docstring\"\"\"\n",
    "        pass\n",
    "    \n",
    "    @abstractmethod\n",
    "    def zapni_sterace(self):\n",
    "        \"\"\"docstring\"\"\"\n",
    "        pass"
   ]
  },
  {
   "cell_type": "code",
   "execution_count": null,
   "id": "2f0a1401-61af-4c66-a3da-e89eafc73637",
   "metadata": {},
   "outputs": [],
   "source": [
    "class OsobniAutomobil(Auto):\n",
    "    pass\n",
    "\n",
    "class NakladniAuto(Auto):\n",
    "    pass"
   ]
  },
  {
   "cell_type": "markdown",
   "id": "adc1fa2d-d695-4087-8b82-604a9eefd132",
   "metadata": {},
   "source": [
    "<br>\n",
    "\n",
    "### 🧠 CVIČENÍ 🧠, Vytvoř abstraktní třídu `Parsovac`:\n",
    "\n",
    "1. Definuj abstraktní třídu `Parsovac`, ta má dvě abstraktní metody: `over_priponu`, `vrat_obsah`,\n",
    "2. Vytvoř třídy `TXTParsovac`, `CSVParsovac` a `JSONParsovac`,\n",
    "3. všechny tři třídy implementují svým způsobem metody: `over_priponu`, `vrat_obsah`,\n",
    "4. metoda `over_priponu` vratí hodnotu `True`, pokud jde o žádanou příponu (typickou pro každý parser) nebo `False`,\n",
    "5. metoda `vrat_obsah` ověří nejprve, že jméno soubor existuje, že jde o soubor se správnou příponou a poté vrací obsah."
   ]
  },
  {
   "cell_type": "code",
   "execution_count": null,
   "id": "d0ea0abd-a855-41b8-8206-2bea72681958",
   "metadata": {},
   "outputs": [],
   "source": []
  },
  {
   "cell_type": "code",
   "execution_count": null,
   "id": "69784e0f-fec6-43d6-9c39-7e7ee07b4957",
   "metadata": {
    "tags": []
   },
   "outputs": [],
   "source": [
    "txt_parser = TxtParsovac()\n",
    "poznamky = txt_parser.vrat_obsah('moje_poznamky.txt')"
   ]
  },
  {
   "cell_type": "markdown",
   "id": "332abc7f-03b9-40ad-8800-0c52fa6f06f5",
   "metadata": {},
   "source": [
    "<details>\n",
    "    <summary>▶️ Řešení</summary>\n",
    "    \n",
    "```python\n",
    "import abc\n",
    "import csv\n",
    "import json\n",
    "import pathlib\n",
    "\n",
    "from pandas import read_csv\n",
    "\n",
    "\n",
    "class Parsovac(abc.ABC):\n",
    "    \n",
    "    @abc.abstractmethod\n",
    "    def over_priponu(self, soubor: str):\n",
    "        pass\n",
    "    \n",
    "    @abc.abstractmethod\n",
    "    def vrat_obsah(self, zdroj):\n",
    "        pass\n",
    "\n",
    "\n",
    "class TXTParsovac(Parsovac):\n",
    "\n",
    "    def over_priponu(self, soubor: str) -> bool:\n",
    "        return pathlib.Path(soubor).suffix == '.txt'\n",
    "        \n",
    "    def vrat_obsah(self, soubor: str):\n",
    "        if soubor and self.over_priponu(soubor):\n",
    "            with open(soubor) as txt:\n",
    "                return txt.readlines()\n",
    "        else:\n",
    "            raise Exception(\"Nelze načíst zadaný TXT soubor.\")\n",
    "    \n",
    "    \n",
    "class CSVParsovac(Parsovac):\n",
    "\n",
    "    def over_priponu(self, soubor: str) -> bool:\n",
    "        return pathlib.Path(soubor).suffix == '.csv'\n",
    "        \n",
    "    def vrat_obsah(self, soubor: str):\n",
    "        if soubor and self.over_priponu(soubor):\n",
    "            return read_csv(soubor, sep=';')\n",
    "        else:\n",
    "            raise Exception(\"Nelze načíst zadaný CSV soubor.\")\n",
    "\n",
    "\n",
    "class JSONParsovac(Parsovac):\n",
    "    \n",
    "    def over_priponu(self, soubor: str) -> bool:\n",
    "        return pathlib.Path(soubor).suffix == '.json'\n",
    "        \n",
    "    def vrat_obsah(self, soubor: str):\n",
    "        if soubor and self.over_priponu(soubor):\n",
    "            return json.load(soubor)\n",
    "        else:\n",
    "            raise Exception(\"Nelze načíst zadaný JSON soubor.\")\n",
    "```\n",
    "</details>"
   ]
  },
  {
   "cell_type": "markdown",
   "id": "d502b8f6-fcc7-4d2c-9d94-1cbd33f48a68",
   "metadata": {},
   "source": [
    "<br>\n",
    "\n",
    "### 🧠 CVIČENÍ 🧠, Vytvoř třídu `HerniPostava` a doplň následující:"
   ]
  },
  {
   "cell_type": "markdown",
   "id": "efb76a74-6bcd-46c5-9676-9eb2b113d1f6",
   "metadata": {
    "tags": []
   },
   "source": [
    "- Definuj abstraktní třídu `HerniPostava`, která dědí objekt `ABC` z knihovny `abc`,\n",
    "- třída`HerniPostava` pracuje s instanční atributem `_zivoty` s hodnotou `100`,\n",
    "- třída`HerniPostava` pracuje se dvěma abstraktními metodami `utok` a `obrana`,\n",
    "- definuj třídu `Rytir`, který dědí od třídy `HerniPostava` a pracuje s vlastním atributem `_zivoty` s hodnotou `150`,\n",
    "- definuj metodu `utok` pro třídu `Rytir` s vypisovanou zprávou:`Rytíř útočí mečem!`,\n",
    "- definuj metodu `obrana` pro třídu `Rytir` s vypisovanou zprávou:`Rytíř se brání štítem!`,\n",
    "- definuj třídu `Mag`, který dědí od třídy `HerniPostava` a pracuje s vlastním atributem `_zivoty` s hodnotou `80`,\n",
    "- definuj metodu `utok` pro třídu `Mag` s vypisovanou zprávou:`Mag útočí kouzlem!`,\n",
    "- definuj metodu `obrana` pro třídu `Mag` s vypisovanou zprávou:`Mag se brání magickým štítem!`."
   ]
  },
  {
   "cell_type": "code",
   "execution_count": null,
   "id": "ab32825b-c633-43f1-81bf-ac3dd0959677",
   "metadata": {
    "tags": []
   },
   "outputs": [],
   "source": []
  },
  {
   "cell_type": "code",
   "execution_count": null,
   "id": "ae315090-1249-4416-859c-ec8167fc5f56",
   "metadata": {
    "tags": []
   },
   "outputs": [],
   "source": [
    "matous_rytir = Rytir()\n",
    "lukas_mag = Mag()"
   ]
  },
  {
   "cell_type": "markdown",
   "id": "2efa5e0e-bf4f-41a9-a592-e16c2f8df0f6",
   "metadata": {},
   "source": [
    "<details>\n",
    "    <summary>▶️ Řešení</summary>\n",
    "    \n",
    "```python\n",
    "from abc import ABC, abstractmethod\n",
    "\n",
    "\n",
    "class HerniPostava(ABC):\n",
    "    def __init__(self):\n",
    "        self._zivoty = 100\n",
    "\n",
    "    @abstractmethod\n",
    "    def utok(self):\n",
    "        pass\n",
    "\n",
    "    @abstractmethod\n",
    "    def obrana(self):\n",
    "        pass\n",
    "\n",
    "\n",
    "class Rytir(HerniPostava):\n",
    "    def __init__(self):\n",
    "        super().__init__()\n",
    "        self._zivoty = 150\n",
    "\n",
    "    def utok(self):\n",
    "        print(\"Rytíř útočí mečem!\")\n",
    "\n",
    "    def obrana(self):\n",
    "        print(\"Rytíř se brání štítem!\")\n",
    "\n",
    "\n",
    "class Mag(HerniPostava):\n",
    "    def __init__(self):\n",
    "        super().__init__()\n",
    "        self._zivoty = 80\n",
    "\n",
    "    def utok(self):\n",
    "        print(\"Mag útočí kouzlem!\")\n",
    "\n",
    "    def obrana(self):\n",
    "        print(\"Mag se brání magickým štítem!\")\n",
    "```\n",
    "</details>"
   ]
  },
  {
   "cell_type": "markdown",
   "id": "02885c20-e908-4f65-930c-c9e9ba8c011a",
   "metadata": {},
   "source": [
    "## Různé typy tříd\n",
    "\n",
    "---"
   ]
  },
  {
   "cell_type": "markdown",
   "id": "731cd189-28e0-4041-a999-2949692627af",
   "metadata": {},
   "source": [
    "Ne každá třída je stejná, jako ta předchozí.\n",
    "\n",
    "Velmi často se setkáš se třídami, které se zaměřují na:\n",
    "1. **data**, *atributy*,\n",
    "2. **schopnosti**, *metody* tříd.\n",
    "\n",
    "Existují definitivně i různé kombinace, tedy třídy, které znáš doposud."
   ]
  },
  {
   "cell_type": "markdown",
   "id": "7617552c-f857-414e-90ec-9e6fb748052e",
   "metadata": {
    "tags": []
   },
   "source": [
    "<img src=\"https://external-content.duckduckgo.com/iu/?u=https%3A%2F%2Ftse1.mm.bing.net%2Fth%3Fid%3DOIP.JQOcRw8TY0x1Rq5YzqzECAHaHa%26pid%3DApi&f=1&ipt=c632d7f3d5fad7ee0b75e0b50a42b7310978676ead0a911de8fbf1fb96f3b854&ipo=images\" width=\"200\" style=\"margin-left:auto; margin-right:auto\">"
   ]
  },
  {
   "cell_type": "markdown",
   "id": "2c3258d5-291c-4c38-9732-fde55f100922",
   "metadata": {},
   "source": [
    "## Třídy orientované na data\n",
    "\n",
    "---"
   ]
  },
  {
   "cell_type": "markdown",
   "id": "cb26ed0b-7ef2-4ddf-8f55-4a60e358e2c2",
   "metadata": {},
   "source": [
    "Podívej se na takovou třídu, která kromě atributů **nebude mít žádné metody**:"
   ]
  },
  {
   "cell_type": "code",
   "execution_count": 85,
   "id": "a0c43948-f6c1-45d8-a8cb-c7d1de1b22a4",
   "metadata": {
    "tags": []
   },
   "outputs": [],
   "source": [
    "class Kniha:\n",
    "    def __init__(self, autor: str, titulek: str, rok_vydani: int) -> None:\n",
    "        self.autor = autor\n",
    "        self.titulek = titulek\n",
    "        self.rok_vydani = rok_vydani"
   ]
  },
  {
   "cell_type": "code",
   "execution_count": 86,
   "id": "0e11b5e2-899b-4587-b633-badd9b70b41c",
   "metadata": {
    "tags": []
   },
   "outputs": [],
   "source": [
    "dedic_imperia = Kniha(\"Timothy Zahn\", \"Dědic impéria\", 1993)"
   ]
  },
  {
   "cell_type": "code",
   "execution_count": 87,
   "id": "d46eb845-0166-4674-8948-5d4caa17c215",
   "metadata": {
    "tags": []
   },
   "outputs": [
    {
     "name": "stdout",
     "output_type": "stream",
     "text": [
      "Timothy Zahn\n"
     ]
    }
   ],
   "source": [
    "print(dedic_imperia.autor)"
   ]
  },
  {
   "cell_type": "code",
   "execution_count": 88,
   "id": "a9834106-7675-4334-9e33-93faf394e880",
   "metadata": {
    "tags": []
   },
   "outputs": [
    {
     "name": "stdout",
     "output_type": "stream",
     "text": [
      "{'autor': 'Timothy Zahn', 'titulek': 'Dědic impéria', 'rok_vydani': 1993}\n"
     ]
    }
   ],
   "source": [
    "print(dedic_imperia.__dict__)"
   ]
  },
  {
   "cell_type": "markdown",
   "id": "ca80e547-d6d0-4b3a-a415-2471c5716b57",
   "metadata": {},
   "source": [
    "Je-li tvůj program založen na manipulaci s daty a jejich ukládání, **datové třídy**."
   ]
  },
  {
   "cell_type": "markdown",
   "id": "f9d5ed1b-d005-41f1-90bf-d8043f94a72c",
   "metadata": {},
   "source": [
    "Je jedno jestli *serializuješ* data nebo pracuješ s daty z databáze, souborů případně jiných zdrojů, *datové třídy* umožňují snadno manipulovat s těmito daty v strukturovaném a efektivním formátu."
   ]
  },
  {
   "cell_type": "markdown",
   "id": "2eb05d28-a772-4350-bf7a-549dd6992c2c",
   "metadata": {},
   "source": [
    "<br>\n",
    "\n",
    "Přepsání třídy `Kniha` jako *datové třídy*:"
   ]
  },
  {
   "cell_type": "code",
   "execution_count": 89,
   "id": "38ab7bf5-c2c6-42c2-b9b8-509322e9f692",
   "metadata": {
    "tags": []
   },
   "outputs": [],
   "source": [
    "from dataclasses import dataclass"
   ]
  },
  {
   "cell_type": "code",
   "execution_count": 90,
   "id": "c3cb6755-ff93-427c-ac17-a703e89dd03b",
   "metadata": {
    "tags": []
   },
   "outputs": [],
   "source": [
    "@dataclass\n",
    "class Kniha:\n",
    "    autor: str\n",
    "    titulek: str\n",
    "    rok: int"
   ]
  },
  {
   "cell_type": "code",
   "execution_count": 91,
   "id": "013b1bb0-c920-4785-9de6-d350f7bef890",
   "metadata": {
    "tags": []
   },
   "outputs": [],
   "source": [
    "dedic_imperia = Kniha(\"Timothy Zahn\", \"Dědic impéria\", 1993)"
   ]
  },
  {
   "cell_type": "code",
   "execution_count": 92,
   "id": "d454c3d7-bea2-42c1-bee0-e12bcdfb6647",
   "metadata": {
    "tags": []
   },
   "outputs": [
    {
     "name": "stdout",
     "output_type": "stream",
     "text": [
      "{'autor': 'Timothy Zahn', 'titulek': 'Dědic impéria', 'rok': 1993}\n"
     ]
    }
   ],
   "source": [
    "print(dedic_imperia.__dict__)"
   ]
  },
  {
   "cell_type": "code",
   "execution_count": 93,
   "id": "016e5b0d-9fba-4e0b-8a18-18dcd6aee488",
   "metadata": {
    "tags": []
   },
   "outputs": [],
   "source": [
    "myslet_jako_vcela  = Kniha(\"Roman Linhart\", \"Myslet jako včela\", 2021)"
   ]
  },
  {
   "cell_type": "code",
   "execution_count": 94,
   "id": "a4fb5590-d678-454d-bf25-7993e484fd3f",
   "metadata": {
    "tags": []
   },
   "outputs": [
    {
     "name": "stdout",
     "output_type": "stream",
     "text": [
      "Timothy Zahn\n",
      "2021\n"
     ]
    }
   ],
   "source": [
    "print(\n",
    "    dedic_imperia.autor,\n",
    "    myslet_jako_vcela.rok,\n",
    "    sep='\\n'\n",
    ")"
   ]
  },
  {
   "cell_type": "markdown",
   "id": "d620ca0d-4bc8-4bbb-89b1-e09a04fb4571",
   "metadata": {},
   "source": [
    "*Datové třídy* dokonce samotné chystají magickou metodu `__repr__`:"
   ]
  },
  {
   "cell_type": "code",
   "execution_count": 95,
   "id": "d6fc325e-a8ea-4ace-a1de-7fb5113fb364",
   "metadata": {
    "tags": []
   },
   "outputs": [
    {
     "name": "stdout",
     "output_type": "stream",
     "text": [
      "Kniha(autor='Timothy Zahn', titulek='Dědic impéria', rok=1993)\n",
      "Kniha(autor='Roman Linhart', titulek='Myslet jako včela', rok=2021)\n"
     ]
    }
   ],
   "source": [
    "print(dedic_imperia, myslet_jako_vcela, sep='\\n')"
   ]
  },
  {
   "cell_type": "markdown",
   "id": "8589a6ee-a1a7-4e15-a4b1-4a66ec9a5276",
   "metadata": {},
   "source": [
    "Jediným **očividným nedostatkem** může být trochu zmatené pojetí atributů.\n",
    "\n",
    "*Datové třídy* totiž dělají z třídní atributů *atributy instanční*."
   ]
  },
  {
   "cell_type": "markdown",
   "id": "e2345cbe-f817-40d0-a547-c7a16eb9c440",
   "metadata": {},
   "source": [
    "### Defaultní hodnoty\n",
    "\n",
    "---"
   ]
  },
  {
   "cell_type": "markdown",
   "id": "c823684b-4d5c-442f-bb93-c3853a5dae51",
   "metadata": {},
   "source": [
    "Pro *datové třídy* můžeš doplnit takové *defaultní hodnoty*:"
   ]
  },
  {
   "cell_type": "code",
   "execution_count": 96,
   "id": "80b9191c-38fe-410c-a7cc-7c78a1a01fc9",
   "metadata": {
    "tags": []
   },
   "outputs": [],
   "source": [
    "@dataclass\n",
    "class Kniha:\n",
    "    autor: str\n",
    "    titulek: str\n",
    "    rok: int\n",
    "    papirova: bool = True"
   ]
  },
  {
   "cell_type": "code",
   "execution_count": 97,
   "id": "022ca09d-93c7-4c8d-bfc8-e6202408ae4b",
   "metadata": {
    "tags": []
   },
   "outputs": [],
   "source": [
    "dedic_imperia = Kniha(\"Timothy Zahn\", \"Dědic impéria\", 1993)"
   ]
  },
  {
   "cell_type": "code",
   "execution_count": 98,
   "id": "cd4c2059-ba25-4a16-8680-86b1709d3a16",
   "metadata": {
    "tags": []
   },
   "outputs": [
    {
     "name": "stdout",
     "output_type": "stream",
     "text": [
      "Kniha(autor='Timothy Zahn', titulek='Dědic impéria', rok=1993, papirova=True)\n"
     ]
    }
   ],
   "source": [
    "print(dedic_imperia)"
   ]
  },
  {
   "cell_type": "markdown",
   "id": "42d6cc2b-2f4a-4680-b2b9-42e8c04d51b4",
   "metadata": {},
   "source": [
    "Pro jednodušší datové typy jako `bool`, `int`, `float` a `str` se nic nemění."
   ]
  },
  {
   "cell_type": "code",
   "execution_count": 99,
   "id": "7ac8a710-81e0-4954-a853-d539782469ab",
   "metadata": {
    "tags": []
   },
   "outputs": [
    {
     "ename": "ValueError",
     "evalue": "mutable default <class 'list'> for field tagy is not allowed: use default_factory",
     "output_type": "error",
     "traceback": [
      "\u001b[0;31m---------------------------------------------------------------------------\u001b[0m",
      "\u001b[0;31mValueError\u001b[0m                                Traceback (most recent call last)",
      "Cell \u001b[0;32mIn[99], line 2\u001b[0m\n\u001b[1;32m      1\u001b[0m \u001b[38;5;129;43m@dataclass\u001b[39;49m\n\u001b[0;32m----> 2\u001b[0m \u001b[38;5;28;43;01mclass\u001b[39;49;00m\u001b[43m \u001b[49m\u001b[38;5;21;43;01mKniha\u001b[39;49;00m\u001b[43m:\u001b[49m\n\u001b[1;32m      3\u001b[0m \u001b[43m    \u001b[49m\u001b[43mautor\u001b[49m\u001b[43m:\u001b[49m\u001b[43m \u001b[49m\u001b[38;5;28;43mstr\u001b[39;49m\n\u001b[1;32m      4\u001b[0m \u001b[43m    \u001b[49m\u001b[43mtitulek\u001b[49m\u001b[43m:\u001b[49m\u001b[43m \u001b[49m\u001b[38;5;28;43mstr\u001b[39;49m\n",
      "File \u001b[0;32m/usr/lib/python3.8/dataclasses.py:1019\u001b[0m, in \u001b[0;36mdataclass\u001b[0;34m(cls, init, repr, eq, order, unsafe_hash, frozen)\u001b[0m\n\u001b[1;32m   1016\u001b[0m     \u001b[38;5;28;01mreturn\u001b[39;00m wrap\n\u001b[1;32m   1018\u001b[0m \u001b[38;5;66;03m# We're called as @dataclass without parens.\u001b[39;00m\n\u001b[0;32m-> 1019\u001b[0m \u001b[38;5;28;01mreturn\u001b[39;00m \u001b[43mwrap\u001b[49m\u001b[43m(\u001b[49m\u001b[38;5;28;43mcls\u001b[39;49m\u001b[43m)\u001b[49m\n",
      "File \u001b[0;32m/usr/lib/python3.8/dataclasses.py:1011\u001b[0m, in \u001b[0;36mdataclass.<locals>.wrap\u001b[0;34m(cls)\u001b[0m\n\u001b[1;32m   1010\u001b[0m \u001b[38;5;28;01mdef\u001b[39;00m \u001b[38;5;21mwrap\u001b[39m(\u001b[38;5;28mcls\u001b[39m):\n\u001b[0;32m-> 1011\u001b[0m     \u001b[38;5;28;01mreturn\u001b[39;00m \u001b[43m_process_class\u001b[49m\u001b[43m(\u001b[49m\u001b[38;5;28;43mcls\u001b[39;49m\u001b[43m,\u001b[49m\u001b[43m \u001b[49m\u001b[43minit\u001b[49m\u001b[43m,\u001b[49m\u001b[43m \u001b[49m\u001b[38;5;28;43mrepr\u001b[39;49m\u001b[43m,\u001b[49m\u001b[43m \u001b[49m\u001b[43meq\u001b[49m\u001b[43m,\u001b[49m\u001b[43m \u001b[49m\u001b[43morder\u001b[49m\u001b[43m,\u001b[49m\u001b[43m \u001b[49m\u001b[43munsafe_hash\u001b[49m\u001b[43m,\u001b[49m\u001b[43m \u001b[49m\u001b[43mfrozen\u001b[49m\u001b[43m)\u001b[49m\n",
      "File \u001b[0;32m/usr/lib/python3.8/dataclasses.py:861\u001b[0m, in \u001b[0;36m_process_class\u001b[0;34m(cls, init, repr, eq, order, unsafe_hash, frozen)\u001b[0m\n\u001b[1;32m    856\u001b[0m cls_annotations \u001b[38;5;241m=\u001b[39m \u001b[38;5;28mcls\u001b[39m\u001b[38;5;241m.\u001b[39m\u001b[38;5;18m__dict__\u001b[39m\u001b[38;5;241m.\u001b[39mget(\u001b[38;5;124m'\u001b[39m\u001b[38;5;124m__annotations__\u001b[39m\u001b[38;5;124m'\u001b[39m, {})\n\u001b[1;32m    858\u001b[0m \u001b[38;5;66;03m# Now find fields in our class.  While doing so, validate some\u001b[39;00m\n\u001b[1;32m    859\u001b[0m \u001b[38;5;66;03m# things, and set the default values (as class attributes) where\u001b[39;00m\n\u001b[1;32m    860\u001b[0m \u001b[38;5;66;03m# we can.\u001b[39;00m\n\u001b[0;32m--> 861\u001b[0m cls_fields \u001b[38;5;241m=\u001b[39m [_get_field(\u001b[38;5;28mcls\u001b[39m, name, \u001b[38;5;28mtype\u001b[39m)\n\u001b[1;32m    862\u001b[0m               \u001b[38;5;28;01mfor\u001b[39;00m name, \u001b[38;5;28mtype\u001b[39m \u001b[38;5;129;01min\u001b[39;00m cls_annotations\u001b[38;5;241m.\u001b[39mitems()]\n\u001b[1;32m    863\u001b[0m \u001b[38;5;28;01mfor\u001b[39;00m f \u001b[38;5;129;01min\u001b[39;00m cls_fields:\n\u001b[1;32m    864\u001b[0m     fields[f\u001b[38;5;241m.\u001b[39mname] \u001b[38;5;241m=\u001b[39m f\n",
      "File \u001b[0;32m/usr/lib/python3.8/dataclasses.py:861\u001b[0m, in \u001b[0;36m<listcomp>\u001b[0;34m(.0)\u001b[0m\n\u001b[1;32m    856\u001b[0m cls_annotations \u001b[38;5;241m=\u001b[39m \u001b[38;5;28mcls\u001b[39m\u001b[38;5;241m.\u001b[39m\u001b[38;5;18m__dict__\u001b[39m\u001b[38;5;241m.\u001b[39mget(\u001b[38;5;124m'\u001b[39m\u001b[38;5;124m__annotations__\u001b[39m\u001b[38;5;124m'\u001b[39m, {})\n\u001b[1;32m    858\u001b[0m \u001b[38;5;66;03m# Now find fields in our class.  While doing so, validate some\u001b[39;00m\n\u001b[1;32m    859\u001b[0m \u001b[38;5;66;03m# things, and set the default values (as class attributes) where\u001b[39;00m\n\u001b[1;32m    860\u001b[0m \u001b[38;5;66;03m# we can.\u001b[39;00m\n\u001b[0;32m--> 861\u001b[0m cls_fields \u001b[38;5;241m=\u001b[39m [\u001b[43m_get_field\u001b[49m\u001b[43m(\u001b[49m\u001b[38;5;28;43mcls\u001b[39;49m\u001b[43m,\u001b[49m\u001b[43m \u001b[49m\u001b[43mname\u001b[49m\u001b[43m,\u001b[49m\u001b[43m \u001b[49m\u001b[38;5;28;43mtype\u001b[39;49m\u001b[43m)\u001b[49m\n\u001b[1;32m    862\u001b[0m               \u001b[38;5;28;01mfor\u001b[39;00m name, \u001b[38;5;28mtype\u001b[39m \u001b[38;5;129;01min\u001b[39;00m cls_annotations\u001b[38;5;241m.\u001b[39mitems()]\n\u001b[1;32m    863\u001b[0m \u001b[38;5;28;01mfor\u001b[39;00m f \u001b[38;5;129;01min\u001b[39;00m cls_fields:\n\u001b[1;32m    864\u001b[0m     fields[f\u001b[38;5;241m.\u001b[39mname] \u001b[38;5;241m=\u001b[39m f\n",
      "File \u001b[0;32m/usr/lib/python3.8/dataclasses.py:745\u001b[0m, in \u001b[0;36m_get_field\u001b[0;34m(cls, a_name, a_type)\u001b[0m\n\u001b[1;32m    737\u001b[0m     \u001b[38;5;66;03m# Should I check for other field settings? default_factory\u001b[39;00m\n\u001b[1;32m    738\u001b[0m     \u001b[38;5;66;03m# seems the most serious to check for.  Maybe add others.  For\u001b[39;00m\n\u001b[1;32m    739\u001b[0m     \u001b[38;5;66;03m# example, how about init=False (or really,\u001b[39;00m\n\u001b[0;32m   (...)\u001b[0m\n\u001b[1;32m    742\u001b[0m \n\u001b[1;32m    743\u001b[0m \u001b[38;5;66;03m# For real fields, disallow mutable defaults for known types.\u001b[39;00m\n\u001b[1;32m    744\u001b[0m \u001b[38;5;28;01mif\u001b[39;00m f\u001b[38;5;241m.\u001b[39m_field_type \u001b[38;5;129;01mis\u001b[39;00m _FIELD \u001b[38;5;129;01mand\u001b[39;00m \u001b[38;5;28misinstance\u001b[39m(f\u001b[38;5;241m.\u001b[39mdefault, (\u001b[38;5;28mlist\u001b[39m, \u001b[38;5;28mdict\u001b[39m, \u001b[38;5;28mset\u001b[39m)):\n\u001b[0;32m--> 745\u001b[0m     \u001b[38;5;28;01mraise\u001b[39;00m \u001b[38;5;167;01mValueError\u001b[39;00m(\u001b[38;5;124mf\u001b[39m\u001b[38;5;124m'\u001b[39m\u001b[38;5;124mmutable default \u001b[39m\u001b[38;5;132;01m{\u001b[39;00m\u001b[38;5;28mtype\u001b[39m(f\u001b[38;5;241m.\u001b[39mdefault)\u001b[38;5;132;01m}\u001b[39;00m\u001b[38;5;124m for field \u001b[39m\u001b[38;5;124m'\u001b[39m\n\u001b[1;32m    746\u001b[0m                      \u001b[38;5;124mf\u001b[39m\u001b[38;5;124m'\u001b[39m\u001b[38;5;132;01m{\u001b[39;00mf\u001b[38;5;241m.\u001b[39mname\u001b[38;5;132;01m}\u001b[39;00m\u001b[38;5;124m is not allowed: use default_factory\u001b[39m\u001b[38;5;124m'\u001b[39m)\n\u001b[1;32m    748\u001b[0m \u001b[38;5;28;01mreturn\u001b[39;00m f\n",
      "\u001b[0;31mValueError\u001b[0m: mutable default <class 'list'> for field tagy is not allowed: use default_factory"
     ]
    }
   ],
   "source": [
    "@dataclass\n",
    "class Kniha:\n",
    "    autor: str\n",
    "    titulek: str\n",
    "    rok: int\n",
    "    papirova: bool = True\n",
    "    tagy: list = ['sci-fi', 'star wars']"
   ]
  },
  {
   "cell_type": "markdown",
   "id": "0d43e8ab-8137-47cf-84bd-e0700ce2cc03",
   "metadata": {},
   "source": [
    "Pracovat se **změnitelnou hodnotou** v rámci datové třídy není možné.\n",
    "\n",
    "Nachystaná výjimka ti zabrání interpretovat skript, který by všem *instancím* nachystal stejnou hodnotou."
   ]
  },
  {
   "cell_type": "markdown",
   "id": "5346c7ba-f57d-44d7-96a7-c92c1ff13046",
   "metadata": {},
   "source": [
    "Pokud ovšem chceš pracovat se sekvenčním datovým typem, můžeš použít objekt `field`:"
   ]
  },
  {
   "cell_type": "code",
   "execution_count": 100,
   "id": "957e9e7e-5b9b-4a48-b721-25f0f0359c44",
   "metadata": {
    "tags": []
   },
   "outputs": [],
   "source": [
    "from dataclasses import dataclass, field"
   ]
  },
  {
   "cell_type": "code",
   "execution_count": 101,
   "id": "31a10f24-b83e-42d1-a993-4af7d916a4a0",
   "metadata": {
    "tags": []
   },
   "outputs": [],
   "source": [
    "@dataclass\n",
    "class Kniha:\n",
    "    autor: str\n",
    "    titulek: str\n",
    "    rok: int\n",
    "    papirova: bool = True\n",
    "    tagy: list = field(default_factory=list)"
   ]
  },
  {
   "cell_type": "code",
   "execution_count": 102,
   "id": "b6193ef1-2780-4695-ab89-704e58d9b864",
   "metadata": {
    "tags": []
   },
   "outputs": [],
   "source": [
    "dedic_imperia = Kniha(\"Timothy Zahn\", \"Dědic impéria\", 1993)"
   ]
  },
  {
   "cell_type": "code",
   "execution_count": 103,
   "id": "96cada9f-9930-4c11-9984-f1fe33654ad6",
   "metadata": {
    "tags": []
   },
   "outputs": [],
   "source": [
    "dedic_imperia.tagy.append('sci-fi')"
   ]
  },
  {
   "cell_type": "code",
   "execution_count": 104,
   "id": "318c6b88-0b93-4fc0-b12e-dcd1618d81bf",
   "metadata": {
    "tags": []
   },
   "outputs": [
    {
     "name": "stdout",
     "output_type": "stream",
     "text": [
      "Kniha(autor='Timothy Zahn', titulek='Dědic impéria', rok=1993, papirova=True, tagy=['sci-fi'])\n"
     ]
    }
   ],
   "source": [
    "print(dedic_imperia)"
   ]
  },
  {
   "cell_type": "markdown",
   "id": "ab40c26f-8415-43b2-961f-f5627ed76e9e",
   "metadata": {
    "tags": []
   },
   "source": [
    "Dále můžeš kombinovat defaultní argumenty s vlastními objekty.\n",
    "\n",
    "Třeba pokud budeš chtít vygenerovat unikátní `id` znak pro každou knihu:"
   ]
  },
  {
   "cell_type": "code",
   "execution_count": 105,
   "id": "2a54333a-25c4-4728-b4eb-3f99b16a6df0",
   "metadata": {
    "tags": []
   },
   "outputs": [],
   "source": [
    "@dataclass\n",
    "class Kniha:\n",
    "    autor: str\n",
    "    titulek: str\n",
    "    rok: int\n",
    "    papirova: bool = True\n",
    "    tagy: list = field(default_factory=list)\n",
    "    id_knihy: str = 'ACBDE123'"
   ]
  },
  {
   "cell_type": "code",
   "execution_count": 106,
   "id": "31bae9fa-c861-4125-8671-b22aeb589545",
   "metadata": {
    "tags": []
   },
   "outputs": [],
   "source": [
    "dedic_imperia = Kniha(\"Timothy Zahn\", \"Dědic impéria\", 1993)\n",
    "myslet_jako_vcela  = Kniha(\"Roman Linhart\", \"Myslet jako včela\", 2021)"
   ]
  },
  {
   "cell_type": "code",
   "execution_count": 107,
   "id": "c80e1980-b5d0-47f6-a0f2-1078d7513a74",
   "metadata": {
    "tags": []
   },
   "outputs": [
    {
     "name": "stdout",
     "output_type": "stream",
     "text": [
      "Kniha(autor='Timothy Zahn', titulek='Dědic impéria', rok=1993, papirova=True, tagy=[], id_knihy='ACBDE123')\n",
      "Kniha(autor='Roman Linhart', titulek='Myslet jako včela', rok=2021, papirova=True, tagy=[], id_knihy='ACBDE123')\n"
     ]
    }
   ],
   "source": [
    "print(dedic_imperia, myslet_jako_vcela, sep='\\n')"
   ]
  },
  {
   "cell_type": "markdown",
   "id": "87118b86-259b-43c0-8132-b147ac7047cc",
   "metadata": {},
   "source": [
    "Takhle by ale zápis nebyl praktický, protože je lepší, použít třeba uživatelskou funkci:"
   ]
  },
  {
   "cell_type": "code",
   "execution_count": 108,
   "id": "d0d500f5-8c2c-48d1-a8d6-d780872fa534",
   "metadata": {
    "tags": []
   },
   "outputs": [],
   "source": [
    "import uuid\n",
    "\n",
    "\n",
    "def vrat_id() -> uuid.UUID:\n",
    "    return uuid.uuid1()"
   ]
  },
  {
   "cell_type": "code",
   "execution_count": 109,
   "id": "82721a08-4f93-4141-8ae6-e3311ff56b7c",
   "metadata": {
    "tags": []
   },
   "outputs": [],
   "source": [
    "moje_id = vrat_id()"
   ]
  },
  {
   "cell_type": "code",
   "execution_count": 110,
   "id": "7a6297e3-eb00-421e-9ed9-00f0cadae97c",
   "metadata": {
    "tags": []
   },
   "outputs": [
    {
     "name": "stdout",
     "output_type": "stream",
     "text": [
      "32f4220c-8eef-11ee-b8be-61878c7c1d70\n"
     ]
    }
   ],
   "source": [
    "print(moje_id)"
   ]
  },
  {
   "cell_type": "code",
   "execution_count": 111,
   "id": "c5d0c135-94d2-4340-9262-1887d2f6b1ee",
   "metadata": {
    "tags": []
   },
   "outputs": [],
   "source": [
    "@dataclass\n",
    "class Kniha:\n",
    "    autor: str\n",
    "    titulek: str\n",
    "    rok: int\n",
    "    papirova: bool = True\n",
    "    tagy: list = field(default_factory=list)\n",
    "    id_knihy: str = field(default_factory=vrat_id)"
   ]
  },
  {
   "cell_type": "code",
   "execution_count": 112,
   "id": "3fdc238b-bfc3-4982-9627-72629eccd847",
   "metadata": {
    "tags": []
   },
   "outputs": [],
   "source": [
    "dedic_imperia      = Kniha(\"Timothy Zahn\", \"Dědic impéria\", 1993)\n",
    "myslet_jako_vcela  = Kniha(\"Roman Linhart\", \"Myslet jako včela\", 2021)"
   ]
  },
  {
   "cell_type": "code",
   "execution_count": 113,
   "id": "e934d9b8-e394-4689-809e-504647826613",
   "metadata": {
    "tags": []
   },
   "outputs": [
    {
     "name": "stdout",
     "output_type": "stream",
     "text": [
      "Kniha(autor='Timothy Zahn', titulek='Dědic impéria', rok=1993, papirova=True, tagy=[], id_knihy=UUID('4ad2a272-8eef-11ee-b8be-61878c7c1d70'))\n",
      "Kniha(autor='Roman Linhart', titulek='Myslet jako včela', rok=2021, papirova=True, tagy=[], id_knihy=UUID('4ad2a273-8eef-11ee-b8be-61878c7c1d70'))\n"
     ]
    }
   ],
   "source": [
    "print(dedic_imperia, myslet_jako_vcela, sep='\\n')"
   ]
  },
  {
   "cell_type": "markdown",
   "id": "ec82b9a0-3fde-4b41-9efe-1239dd24bf7b",
   "metadata": {},
   "source": [
    "V tomto okamžiku je ale pro tebe parametr `id_knihy` přepisovatelné:"
   ]
  },
  {
   "cell_type": "code",
   "execution_count": 114,
   "id": "0675825e-7c55-4b5e-9ebb-75043b87c447",
   "metadata": {
    "tags": []
   },
   "outputs": [],
   "source": [
    "dedic_imperia = Kniha(\"Timothy Zahn\", \"Dědic impéria\", 1993, id_knihy=\"123456\")"
   ]
  },
  {
   "cell_type": "code",
   "execution_count": 115,
   "id": "97000058-8ed2-4b55-b667-f332bf623470",
   "metadata": {
    "tags": []
   },
   "outputs": [
    {
     "name": "stdout",
     "output_type": "stream",
     "text": [
      "Kniha(autor='Timothy Zahn', titulek='Dědic impéria', rok=1993, papirova=True, tagy=[], id_knihy='123456')\n"
     ]
    }
   ],
   "source": [
    "print(dedic_imperia)"
   ]
  },
  {
   "cell_type": "markdown",
   "id": "bfa799c9-979e-434e-bd46-d8c4c3d05936",
   "metadata": {},
   "source": [
    "To ovšem není zcela praktické, protože nesprávnou manipulací s datovou třídou `Kniha` můžeš dostat do patové situace."
   ]
  },
  {
   "cell_type": "code",
   "execution_count": 116,
   "id": "1e670180-f42c-4da4-8953-295dffb59835",
   "metadata": {
    "tags": []
   },
   "outputs": [],
   "source": [
    "@dataclass\n",
    "class Kniha:\n",
    "    autor: str\n",
    "    titulek: str\n",
    "    rok: int\n",
    "    papirova: bool = True\n",
    "    tagy: list = field(default_factory=list)\n",
    "    id_knihy: str = field(init=False, default_factory=vrat_id)"
   ]
  },
  {
   "cell_type": "code",
   "execution_count": 117,
   "id": "f272c5db-0768-4b01-bbcb-77ac94257b1b",
   "metadata": {
    "tags": []
   },
   "outputs": [
    {
     "ename": "TypeError",
     "evalue": "__init__() got an unexpected keyword argument 'id_knihy'",
     "output_type": "error",
     "traceback": [
      "\u001b[0;31m---------------------------------------------------------------------------\u001b[0m",
      "\u001b[0;31mTypeError\u001b[0m                                 Traceback (most recent call last)",
      "Cell \u001b[0;32mIn[117], line 1\u001b[0m\n\u001b[0;32m----> 1\u001b[0m dedic_imperia \u001b[38;5;241m=\u001b[39m \u001b[43mKniha\u001b[49m\u001b[43m(\u001b[49m\u001b[38;5;124;43m\"\u001b[39;49m\u001b[38;5;124;43mTimothy Zahn\u001b[39;49m\u001b[38;5;124;43m\"\u001b[39;49m\u001b[43m,\u001b[49m\u001b[43m \u001b[49m\u001b[38;5;124;43m\"\u001b[39;49m\u001b[38;5;124;43mDědic impéria\u001b[39;49m\u001b[38;5;124;43m\"\u001b[39;49m\u001b[43m,\u001b[49m\u001b[43m \u001b[49m\u001b[38;5;241;43m1993\u001b[39;49m\u001b[43m,\u001b[49m\u001b[43m \u001b[49m\u001b[43mid_knihy\u001b[49m\u001b[38;5;241;43m=\u001b[39;49m\u001b[38;5;124;43m\"\u001b[39;49m\u001b[38;5;124;43m123456\u001b[39;49m\u001b[38;5;124;43m\"\u001b[39;49m\u001b[43m)\u001b[49m\n",
      "\u001b[0;31mTypeError\u001b[0m: __init__() got an unexpected keyword argument 'id_knihy'"
     ]
    }
   ],
   "source": [
    "dedic_imperia = Kniha(\"Timothy Zahn\", \"Dědic impéria\", 1993, id_knihy=\"123456\")"
   ]
  },
  {
   "cell_type": "markdown",
   "id": "9ca51c0b-8239-4e0f-98e9-1631a9c9e1d5",
   "metadata": {},
   "source": [
    "*Interpret* tě v této chvíli zastaví, protože při instancování ti nedovolí přepsat defaultní hodnotu."
   ]
  },
  {
   "cell_type": "markdown",
   "id": "e7ad5ec4-891e-4b10-abe7-5c6ba933b7a0",
   "metadata": {},
   "source": [
    "### Kontrola pomocí magické metody\n",
    "\n",
    "---"
   ]
  },
  {
   "cell_type": "markdown",
   "id": "31e329d8-2555-46ef-8f3e-f319fb02e5e1",
   "metadata": {
    "tags": []
   },
   "source": [
    "Pokud budeš potřebovat doplnit **kontrolní metodu**, můžeš datové třídě přidat takový objekt:"
   ]
  },
  {
   "cell_type": "code",
   "execution_count": 118,
   "id": "92508cd4-368d-46fc-86be-281b8bd7eba3",
   "metadata": {
    "tags": []
   },
   "outputs": [],
   "source": [
    "@dataclass\n",
    "class Kniha:\n",
    "    autor: str\n",
    "    titulek: str\n",
    "    rok: int\n",
    "    papirova: bool = True\n",
    "    tagy: list = field(default_factory=list)\n",
    "    id_knihy: str = field(init=False, default_factory=vrat_id)\n",
    "    \n",
    "    def kontrola(self):\n",
    "        if not isinstance(self.rok, int):\n",
    "            raise Exception(\"Parametr 'vek' neobsahuje celé číslo\")"
   ]
  },
  {
   "cell_type": "code",
   "execution_count": 120,
   "id": "05eebcb0-becf-465e-85bb-58e0f7e53736",
   "metadata": {},
   "outputs": [],
   "source": [
    "dedic_imperia = Kniha(\"Timothy Zahn\", \"Dědic impéria\", 1993)"
   ]
  },
  {
   "cell_type": "code",
   "execution_count": 121,
   "id": "8e1b32ef-9342-49e7-9b09-d0c58461f0db",
   "metadata": {
    "tags": []
   },
   "outputs": [],
   "source": [
    "dedic_imperia.kontrola()"
   ]
  },
  {
   "cell_type": "code",
   "execution_count": 122,
   "id": "dc05ff52-10d1-4d42-a1a2-b7e74919e991",
   "metadata": {
    "tags": []
   },
   "outputs": [],
   "source": [
    "dedic_imperia = Kniha(\"Timothy Zahn\", \"Dědic impéria\", \"1993\")"
   ]
  },
  {
   "cell_type": "code",
   "execution_count": 123,
   "id": "079aa47d-3a64-4886-a88f-bde17842a5fd",
   "metadata": {
    "tags": []
   },
   "outputs": [
    {
     "ename": "Exception",
     "evalue": "",
     "output_type": "error",
     "traceback": [
      "\u001b[0;31m---------------------------------------------------------------------------\u001b[0m",
      "\u001b[0;31mException\u001b[0m                                 Traceback (most recent call last)",
      "Cell \u001b[0;32mIn[123], line 1\u001b[0m\n\u001b[0;32m----> 1\u001b[0m \u001b[43mdedic_imperia\u001b[49m\u001b[38;5;241;43m.\u001b[39;49m\u001b[43mkontrola\u001b[49m\u001b[43m(\u001b[49m\u001b[43m)\u001b[49m\n",
      "Cell \u001b[0;32mIn[118], line 12\u001b[0m, in \u001b[0;36mKniha.kontrola\u001b[0;34m(self)\u001b[0m\n\u001b[1;32m     10\u001b[0m \u001b[38;5;28;01mdef\u001b[39;00m \u001b[38;5;21mkontrola\u001b[39m(\u001b[38;5;28mself\u001b[39m):\n\u001b[1;32m     11\u001b[0m     \u001b[38;5;28;01mif\u001b[39;00m \u001b[38;5;129;01mnot\u001b[39;00m \u001b[38;5;28misinstance\u001b[39m(\u001b[38;5;28mself\u001b[39m\u001b[38;5;241m.\u001b[39mrok, \u001b[38;5;28mint\u001b[39m):\n\u001b[0;32m---> 12\u001b[0m         \u001b[38;5;28;01mraise\u001b[39;00m \u001b[38;5;167;01mException\u001b[39;00m()\n",
      "\u001b[0;31mException\u001b[0m: "
     ]
    }
   ],
   "source": [
    "dedic_imperia.kontrola()"
   ]
  },
  {
   "cell_type": "markdown",
   "id": "a5d52924-907d-4e90-8748-0d211fe40fdd",
   "metadata": {},
   "source": [
    "Pokud budeš potřebovat plynulejší zápis, vyzkoušej metodu `__post_init__`:"
   ]
  },
  {
   "cell_type": "code",
   "execution_count": 124,
   "id": "54748406-625f-4144-bda3-3aed135bcb98",
   "metadata": {
    "tags": []
   },
   "outputs": [],
   "source": [
    "@dataclass\n",
    "class Kniha:\n",
    "    autor: str\n",
    "    titulek: str\n",
    "    rok: int\n",
    "    papirova: bool = True\n",
    "    tagy: list = field(default_factory=list)\n",
    "    id_knihy: str = field(init=False, default_factory=vrat_id)\n",
    "    \n",
    "    def __post_init__(self):\n",
    "        if not isinstance(self.rok, int):\n",
    "            raise Exception(\"Parametr 'vek' neobsahuje celé číslo\")"
   ]
  },
  {
   "cell_type": "code",
   "execution_count": 125,
   "id": "fbce3be5-58ad-4dc0-ac56-e7bc23dc54f8",
   "metadata": {
    "tags": []
   },
   "outputs": [
    {
     "ename": "Exception",
     "evalue": "Parametr 'vek' neobsahuje celé číslo",
     "output_type": "error",
     "traceback": [
      "\u001b[0;31m---------------------------------------------------------------------------\u001b[0m",
      "\u001b[0;31mException\u001b[0m                                 Traceback (most recent call last)",
      "Cell \u001b[0;32mIn[125], line 1\u001b[0m\n\u001b[0;32m----> 1\u001b[0m dedic_imperia \u001b[38;5;241m=\u001b[39m \u001b[43mKniha\u001b[49m\u001b[43m(\u001b[49m\u001b[38;5;124;43m\"\u001b[39;49m\u001b[38;5;124;43mTimothy Zahn\u001b[39;49m\u001b[38;5;124;43m\"\u001b[39;49m\u001b[43m,\u001b[49m\u001b[43m \u001b[49m\u001b[38;5;124;43m\"\u001b[39;49m\u001b[38;5;124;43mDědic impéria\u001b[39;49m\u001b[38;5;124;43m\"\u001b[39;49m\u001b[43m,\u001b[49m\u001b[43m \u001b[49m\u001b[38;5;124;43m\"\u001b[39;49m\u001b[38;5;124;43m1993\u001b[39;49m\u001b[38;5;124;43m\"\u001b[39;49m\u001b[43m)\u001b[49m\n",
      "File \u001b[0;32m<string>:9\u001b[0m, in \u001b[0;36m__init__\u001b[0;34m(self, autor, titulek, rok, papirova, tagy)\u001b[0m\n",
      "Cell \u001b[0;32mIn[124], line 12\u001b[0m, in \u001b[0;36mKniha.__post_init__\u001b[0;34m(self)\u001b[0m\n\u001b[1;32m     10\u001b[0m \u001b[38;5;28;01mdef\u001b[39;00m \u001b[38;5;21m__post_init__\u001b[39m(\u001b[38;5;28mself\u001b[39m):\n\u001b[1;32m     11\u001b[0m     \u001b[38;5;28;01mif\u001b[39;00m \u001b[38;5;129;01mnot\u001b[39;00m \u001b[38;5;28misinstance\u001b[39m(\u001b[38;5;28mself\u001b[39m\u001b[38;5;241m.\u001b[39mrok, \u001b[38;5;28mint\u001b[39m):\n\u001b[0;32m---> 12\u001b[0m         \u001b[38;5;28;01mraise\u001b[39;00m \u001b[38;5;167;01mException\u001b[39;00m(\u001b[38;5;124m\"\u001b[39m\u001b[38;5;124mParametr \u001b[39m\u001b[38;5;124m'\u001b[39m\u001b[38;5;124mvek\u001b[39m\u001b[38;5;124m'\u001b[39m\u001b[38;5;124m neobsahuje celé číslo\u001b[39m\u001b[38;5;124m\"\u001b[39m)\n",
      "\u001b[0;31mException\u001b[0m: Parametr 'vek' neobsahuje celé číslo"
     ]
    }
   ],
   "source": [
    "dedic_imperia = Kniha(\"Timothy Zahn\", \"Dědic impéria\", \"1993\")"
   ]
  },
  {
   "cell_type": "code",
   "execution_count": 126,
   "id": "a9e1fecc-39c6-4144-ad27-d20ac464d0f1",
   "metadata": {
    "tags": []
   },
   "outputs": [],
   "source": [
    "dedic_imperia = Kniha(\"Timothy Zahn\", \"Dědic impéria\", 1993)"
   ]
  },
  {
   "cell_type": "markdown",
   "id": "a87629bb-aeaf-4380-a483-51e150dc69bc",
   "metadata": {},
   "source": [
    "<br>\n",
    "\n",
    "### 🧠 CVIČENÍ 🧠, Vytvoř třídu `Uzivatel`:"
   ]
  },
  {
   "cell_type": "markdown",
   "id": "faf17d3c-c713-444f-bd9a-8f7a1873d347",
   "metadata": {
    "tags": []
   },
   "source": [
    "1. Definuj datovou třídu `Uzivatel`,\n",
    "2. třída Uzivatel má atributy: `vek`, `email`, `jmeno`, `prijmeni`, `vytvoreno` a `stari_uctu`,\n",
    "3. atribut `stari_uctu` nastav jako *defaultní parametr* s hodnotou `None`,\n",
    "4. vytvoř magickou metodou `__post_init__`, kde ověří, jestli je parametr vek celé číslo, větší než 0,\n",
    "5. dále nech magickou metodou `__post_init__` spočítat, kolik dní je účet k aktuálnímu datu a času starý,\n",
    "6. vytvoř metodu status, která naformátuje string `<JMENO> <PRIJMENI>, stáří účtu: <STARI>`,\n",
    "7. pracuj s předchystanými uživateli níže, pomocí smyčky vypiš statusy všech uživatelů."
   ]
  },
  {
   "cell_type": "code",
   "execution_count": null,
   "id": "4759c381-aedf-4a45-a283-598f59967447",
   "metadata": {},
   "outputs": [],
   "source": []
  },
  {
   "cell_type": "code",
   "execution_count": null,
   "id": "51d85a79-8916-4be6-ae91-296f8b11986a",
   "metadata": {},
   "outputs": [],
   "source": [
    "uzivatel_1 = Uzivatel(jmeno='Matouš', vek=21, prijmeni='Holinka', vytvoreno='22/2/2021', email='matous@holinka.com')\n",
    "uzivatel_2 = Uzivatel(jmeno='Petr', vek=20, prijmeni='Svetr', vytvoreno='19/5/2021', email='p.svetr@gmail.com')\n",
    "uzivatel_3 = Uzivatel(jmeno='Lucie', vek=20, prijmeni='Pohodová', vytvoreno='8/3/2020', email='pohodova.lucie@email.com')"
   ]
  },
  {
   "cell_type": "markdown",
   "id": "c2342e70-f038-4eb2-8793-e3d6cea5fa4b",
   "metadata": {},
   "source": [
    "<details>\n",
    "    <summary>▶️ Řešení</summary>\n",
    "    \n",
    "```python\n",
    "import pandas\n",
    "from dataclasses import dataclass, field\n",
    "\n",
    "@dataclass\n",
    "class Uzivatel:\n",
    "    vek: int\n",
    "    email: str\n",
    "    jmeno: str\n",
    "    prijmeni: str\n",
    "    vytvoreno: str\n",
    "    stari_uctu: int = field(default=None)\n",
    "\n",
    "    def __post_init__(self):\n",
    "        if self.vek is not None and self.vek < 0:\n",
    "            raise ValueError(\"Věk musí být kladné číslo\")\n",
    "                            \n",
    "        rozdil = pandas.Timestamp.now() - pandas.Timestamp(\n",
    "            pandas.to_datetime(self.vytvoreno, format='%d/%m/%Y')\n",
    "        )\n",
    "        self.stari_uctu = rozdil.days\n",
    "\n",
    "    def status(self):\n",
    "        return f\"{self.jmeno} {self.prijmeni}, stáří účtu {self.stari_uctu}\"\n",
    "```\n",
    "</details>"
   ]
  },
  {
   "cell_type": "markdown",
   "id": "02c200d4-a348-410a-97eb-5e9cd69179d3",
   "metadata": {},
   "source": [
    "<br>\n",
    "\n",
    "[Dotazník po čtvrté lekci](https://forms.gle/Db2vba9W7riTCPF29)"
   ]
  },
  {
   "cell_type": "markdown",
   "id": "79925fb3-d7ca-4829-89c7-c87dd190cddd",
   "metadata": {},
   "source": [
    "---"
   ]
  }
 ],
 "metadata": {
  "kernelspec": {
   "display_name": "Python 3 (ipykernel)",
   "language": "python",
   "name": "python3"
  },
  "language_info": {
   "codemirror_mode": {
    "name": "ipython",
    "version": 3
   },
   "file_extension": ".py",
   "mimetype": "text/x-python",
   "name": "python",
   "nbconvert_exporter": "python",
   "pygments_lexer": "ipython3",
   "version": "3.8.10"
  }
 },
 "nbformat": 4,
 "nbformat_minor": 5
}
