{
 "cells": [
  {
   "cell_type": "markdown",
   "id": "2c7a174e-2bd3-41f9-94cf-a3671df0a4c0",
   "metadata": {},
   "source": [
    "### DOCASNE\n",
    "\n",
    "---"
   ]
  },
  {
   "cell_type": "code",
   "execution_count": null,
   "id": "76e666d4-28a2-4978-90fc-34681748f000",
   "metadata": {},
   "outputs": [],
   "source": []
  },
  {
   "cell_type": "markdown",
   "id": "06e43e20-46dc-4323-9131-17f62a9893f7",
   "metadata": {
    "tags": []
   },
   "source": [
    "<br>\n",
    "\n",
    "### 🧠 CVIČENÍ 🧠, Vytvoř třídu `KindleNoteProcessor`, `TxtParser` a `KindleNot` která bude tvořena následovným:\n",
    "---\n",
    "\n",
    "- vytvoř třídu `KindleNoteProcessor`,\n",
    "- instanční konstruktor obsahuje parametry `notes` (prázdný list) a `\n",
    "\n"
   ]
  },
  {
   "cell_type": "code",
   "execution_count": null,
   "id": "2145751b-b419-487b-977f-c1b1a693a36f",
   "metadata": {},
   "outputs": [],
   "source": []
  },
  {
   "cell_type": "code",
   "execution_count": null,
   "id": "d3cf8f3f-bfe0-4dc3-b650-06fb74f2f52e",
   "metadata": {},
   "outputs": [],
   "source": [
    "text = \"\"\"\n",
    "==========\n",
    "Faktomluva (Hans Rosling;Ola Rosling;Anna Roslingová Rönnlundová)\n",
    "- Your Highlight on Location 2724-2728 | Added on Wednesday, July 24, 2019 8:41:27 AM\n",
    "\n",
    "Největším orgánem našeho těla je kůže. Před objevem moderních léků patřila k nejhorším kožním nemocem syfilis. Začínala jako svědivé vřídky a pak si prokousala cestu do kostí, až postihla celou kostru. Nemoc způsobující ohavný vzhled a nesnesitelnou bolest měla v různých zemích různá jména. V Rusku chorobě říkali „polská nemoc“. V Polsku to byla „německá nemoc“, v Německu „francouzská nemoc“ a ve Francii „italská nemoc“. Italové vinu házeli zpátky a nazývali ji „francouzská nemoc“.\n",
    "==========\n",
    "Life Is What You Make It (Peter Buffett)\n",
    "- Your Highlight on Location 233-234 | Added on Monday, August 19, 2019 2:07:48 PM\n",
    "\n",
    "The problem with honoring the rewards of work rather than the work itself is that the rewards can always be taken away.\n",
    "==========\n",
    "Elon Musk (Ashlee Vance)\n",
    "- Your Highlight on page 127 | location 1943-1944 | Added on Thursday, 31 May 2018 19:38:29\n",
    "\n",
    "v oblasti rovníku, kde se planeta otáčí rychleji a pomáhá raketám v letu.\n",
    "==========\n",
    "Linux Pocket Guide, 3E (Daniel J. Barrett)\n",
    "- Your Highlight on Location 2310-2314 | Added on Monday, February 18, 2019 10:09:26 AM\n",
    "\n",
    "Viewing Processes ps List process. uptime View the system load. w List active processes for all users. top Monitor resource-intensive processes interactively. free Display free memory.\n",
    "==========\n",
    "Introducing Python (Bill Lubanovic)\n",
    "- Your Highlight on Location 6170-6171 | Added on Wednesday, June 26, 2019 10:18:02 AM\n",
    "\n",
    "Do not set debug = True in production web servers. It exposes too much information about your server to potential intruders.\n",
    "==========\n",
    "\"\"\""
   ]
  },
  {
   "cell_type": "code",
   "execution_count": null,
   "id": "6d825271-26f5-4857-aa4e-fa565d90a8d9",
   "metadata": {},
   "outputs": [],
   "source": [
    "# rozděl zadaný text pomocí definovaného oddělovače\n",
    "txt = TxtParser(text)\n",
    "txt.separator = \"==========\\n\"\n",
    "\n",
    "# zpracuj rozdělený text na jednotlivé atributy\n",
    "app = KindleNoteProcessor()\n",
    "app.parsed_txt = txt.split_text_into_lines()\n",
    "\n",
    "# zapiš všechny poznámky\n",
    "app.create_all_notes()"
   ]
  },
  {
   "cell_type": "markdown",
   "id": "7bc7b8b4-6730-400c-afc4-0c86b185641a",
   "metadata": {},
   "source": [
    "<details>\n",
    "    <summary>▶️ Řešení</summary>\n",
    "    \n",
    "    ```\n",
    "    import logging\n",
    "    from typing import List, Dict\n",
    "\n",
    "\n",
    "    class KindleNoteProcessor:\n",
    "        \"\"\"Process the .txt file and create new notes.\"\"\"\n",
    "\n",
    "        def __init__(self, parsed_txt: list = []):\n",
    "            self.notes: list = []\n",
    "            self.parsed_txt = parsed_txt\n",
    "\n",
    "            fmt=\"[%(levelname)s] %(asctime)s - %(message)s\"\n",
    "            logging.basicConfig(level=logging.DEBUG, format=fmt)\n",
    "\n",
    "        @property\n",
    "        def parsed_txt(self) -> str:\n",
    "            return self._parsed_txt\n",
    "\n",
    "        @parsed_txt.setter\n",
    "        def parsed_txt(self, text: List[Dict[str, str]]) -> List[Dict[str, str]]:\n",
    "            if not isinstance(text, list):\n",
    "                raise ValueError(\"Cannot process empty obj. str\")\n",
    "            self._parsed_txt = text\n",
    "\n",
    "        def create_note(self, attrs: dict):\n",
    "            self.notes.append(\n",
    "                KindleNote(\n",
    "                    title=attrs.get(\"title\"),\n",
    "                    author=attrs.get(\"author\"),\n",
    "                    loc=attrs.get(\"location\"),\n",
    "                    desc=attrs.get(\"description\"),\n",
    "                    date=attrs.get(\"date\"),\n",
    "                )\n",
    "            )\n",
    "\n",
    "        def create_all_notes(self) -> None:\n",
    "            for note in self._parsed_txt:\n",
    "                if len(note.keys()) == 5:\n",
    "                    logging.info(f\"Note added {note['title']}..\")\n",
    "                    self.create_note(note)\n",
    "\n",
    "\n",
    "    class TxtParser:\n",
    "        \"\"\"Parse the data from the given .txt file.\"\"\"\n",
    "\n",
    "        def __init__(self, text, separator = \"\"):\n",
    "            self.text = text\n",
    "            self.separator = separator\n",
    "\n",
    "        @property\n",
    "        def separator(self) -> str:\n",
    "            return self._separator\n",
    "\n",
    "        @separator.setter\n",
    "        def separator(self, sep: str):\n",
    "            if not isinstance(sep, str):\n",
    "                raise ValueError(\"Separator attribute has to be type 'str'.\")\n",
    "            self._separator = sep\n",
    "\n",
    "        def split_text_into_lines(self) -> List[str]:\n",
    "            \"\"\"Split .txt file into individual parsed notes.\"\"\"\n",
    "            return [\n",
    "                self.process_note_content(note.splitlines())\n",
    "                for note in self.text.split(self.separator)\n",
    "                if note\n",
    "            ]\n",
    "\n",
    "        @staticmethod\n",
    "        def process_note_content(note: List[str]) -> Dict[str, str]:\n",
    "            \"\"\"Try to select attributes title, date and description.\"\"\"\n",
    "            try:\n",
    "                title_line: str = note[0]\n",
    "                location_line: str = note[1]\n",
    "                description: str = note[3]\n",
    "\n",
    "            except IndexError:\n",
    "                results: dict = {}\n",
    "            else:\n",
    "                title, author = note[0].split(\" (\", maxsplit=1)\n",
    "                location, date = note[1].split(\"|\", maxsplit=1)\n",
    "                results: dict = {\n",
    "                    \"date\": date,\n",
    "                    \"title\": title,\n",
    "                    \"location\": location,\n",
    "                    \"description\": description,\n",
    "                    \"author\": author.rstrip(\")\"),\n",
    "                }\n",
    "            finally:\n",
    "                return results\n",
    "\n",
    "\n",
    "    class KindleNote:\n",
    "        \"\"\"Create a note with proper attributes.\"\"\"\n",
    "\n",
    "        def __init__(self, title: str, loc: str, desc: str, date: str, author: str):\n",
    "            self.desc = desc\n",
    "            self.date = date\n",
    "            self.title = title\n",
    "            self.location = loc\n",
    "            self.author = author\n",
    "\n",
    "        def __repr__(self) -> str:\n",
    "            return str(self.title)\n",
    "    ```\n",
    "</details>"
   ]
  },
  {
   "cell_type": "code",
   "execution_count": null,
   "id": "3d5ad194-a0de-4ac9-a0cf-edf3c6a2f5ba",
   "metadata": {},
   "outputs": [],
   "source": []
  },
  {
   "cell_type": "code",
   "execution_count": null,
   "id": "6b51944f-8d68-4433-86fb-5305f9539aa4",
   "metadata": {},
   "outputs": [],
   "source": []
  },
  {
   "cell_type": "code",
   "execution_count": null,
   "id": "d190b743-edd8-417e-bbf1-e5a52c270e4f",
   "metadata": {},
   "outputs": [],
   "source": []
  },
  {
   "cell_type": "markdown",
   "id": "289348e4-f959-45cb-b8d4-d16c6bc7904e",
   "metadata": {},
   "source": [
    "<details>\n",
    "    <summary>▶️ Řešení</summary>\n",
    "    \n",
    "    ```\n",
    "    class Plocha:\n",
    "        def __init__(self):\n",
    "            self._prumer_cm = 0.0\n",
    "\n",
    "        @property\n",
    "        def prumer_cm(self):\n",
    "            return self._prumer_cm\n",
    "\n",
    "        @prumer_cm.setter\n",
    "        def prumer_cm(self, hodnota: float):\n",
    "            if not isinstance(hodnota, (float, int)):\n",
    "                print(\"Atribut 'hodnota' není číselný datový typ.\")\n",
    "            else:\n",
    "                self._prumer_cm = hodnota\n",
    "\n",
    "        def vypocitej_plochu_kruhu(self) -> float:\n",
    "            return math.pi * (self._prumer_cm ** 2)\n",
    "\n",
    "        @staticmethod\n",
    "        def vypocitej_obvod_kruhu(polomer) -> float:\n",
    "            return 2 * math.pi * polomer\n",
    "\n",
    "        def __str__(self) -> str:\n",
    "            return f\"Kruh s průměrem: {self._prumer_cm}, plochou: {self.vypocitej_plochu_kruhu()}.\"\n",
    "    ```\n",
    "</details>"
   ]
  },
  {
   "cell_type": "markdown",
   "id": "da108522-8d01-4283-aa5b-b5469080edd4",
   "metadata": {},
   "source": [
    "4. [dědičnost](#Dědičnost-(~inheritence)),\n",
    "    - [význam slova](#Význam-slova),\n",
    "    - [jednoduchá dědičnost](#Jednoduchá-dědičnost),\n",
    "    - [funkce super()](#Funkce-super()),\n",
    "    - [vícenásobné dělení](#Vícenásobné-dědění),\n",
    "    - [zřetězené dělení](#Zřetězené-dědění),\n",
    "    - [method resolution order](MRO-(~Method-resolution-order)),\n",
    "    - [cvičení 9](#🧠-CVIČENÍ-9-🧠,-Vytvoř-třídu-Auto-a-doplň-následující:),\n",
    "4. [abstrakce](#Abstrakce),\n",
    "    - [význam slova](#Význam-pojmu),\n",
    "    - [v praxi](#V-praxi),\n",
    "    - [knihovna ABC](#Knihovna-abc),\n",
    "    - [cvičení 10](#🧠-CVIČENÍ-10-🧠,-Vytvoř-třídu-HerniPostava-a-doplň-následující:)."
   ]
  },
  {
   "cell_type": "markdown",
   "id": "a4bdb345-54d1-419b-b158-aca2552d2adb",
   "metadata": {},
   "source": [
    "<br>\n",
    "\n",
    "## Dědičnost (~inheritence)\n",
    "\n",
    "---"
   ]
  },
  {
   "cell_type": "markdown",
   "id": "6ce81f16-d237-4ee1-95f4-ae60b8e6a9b8",
   "metadata": {},
   "source": [
    "<img src=\"https://external-content.duckduckgo.com/iu/?u=https%3A%2F%2Ftse2.mm.bing.net%2Fth%3Fid%3DOIP.aD0kgi7jqG8lF8qMmg7Y9QHaFU%26pid%3DApi&f=1&ipt=8e4df2fb68503c0bea5ff03f29e9ffa108168daeaa6dd66662ab080b7951866e&ipo=images\" width=\"300\" style=\"margin-left:auto; margin-right:auto\">"
   ]
  },
  {
   "cell_type": "markdown",
   "id": "d1c396d9-5ebb-4dd1-8f97-7edc35c08508",
   "metadata": {},
   "source": [
    "### Význam slova\n",
    "\n",
    "---"
   ]
  },
  {
   "cell_type": "markdown",
   "id": "ec848939-3601-44f0-9174-27db000ae73f",
   "metadata": {},
   "source": [
    "Obecně řečeno, **dědictví** znamená nějaký odkaz nebo pozůstatek.\n",
    "\n",
    "V OOP **Dědičnost** je prvek, díky kterému můžeš přenášet **atributy** a **metody** jedné třídy (*rodičovské*) na další (*potomky*).\n",
    "\n",
    "V podstatě je každá uživatelem definovaná třída potomkem třídy `object`:"
   ]
  },
  {
   "cell_type": "code",
   "execution_count": null,
   "id": "6b21e94c-c46a-4846-bab6-10a7a9f4e0e3",
   "metadata": {
    "tags": []
   },
   "outputs": [],
   "source": [
    "class MojeTrida(object):\n",
    "    pass"
   ]
  },
  {
   "cell_type": "code",
   "execution_count": null,
   "id": "28d13663-08a7-40e6-9881-62f071606a70",
   "metadata": {
    "tags": []
   },
   "outputs": [],
   "source": [
    "print(issubclass(MojeTrida, object))  # object --> MojeTrida --> ..."
   ]
  },
  {
   "cell_type": "markdown",
   "id": "203b814b-4b62-4702-9118-4d16e2739a17",
   "metadata": {},
   "source": [
    "<br>\n",
    "\n",
    "V tomto ohledu si ale dědičnosti nevšimneš, protože **interpret** dovoluje rodiče nechat defaultně:"
   ]
  },
  {
   "cell_type": "code",
   "execution_count": null,
   "id": "6d494f0d-99de-48f4-8ec1-706b5f123e91",
   "metadata": {
    "tags": []
   },
   "outputs": [],
   "source": [
    "class Zamestnanec:\n",
    "    pass"
   ]
  },
  {
   "cell_type": "code",
   "execution_count": null,
   "id": "e4eae4ad-b4d7-4d33-88e5-c053db736484",
   "metadata": {
    "tags": []
   },
   "outputs": [],
   "source": [
    "print(issubclass(Zamestnanec, object))"
   ]
  },
  {
   "cell_type": "markdown",
   "id": "04916ea2-68f3-4488-8d51-5c99ded25b6b",
   "metadata": {
    "tags": []
   },
   "source": [
    "<br>\n",
    "\n",
    "Ne vždy se ti hodí **defaultní/standardní** dědičnost.\n",
    "\n",
    "Třeba pokud potřebuješ vytvořit **vlastní třídy** s vlastními rodiči:"
   ]
  },
  {
   "cell_type": "code",
   "execution_count": null,
   "id": "21794465-aa84-46b9-92b7-d2105a3dca84",
   "metadata": {
    "tags": []
   },
   "outputs": [],
   "source": [
    "class Zamestnanec:\n",
    "    \"\"\"Objekt pro vytvoření řadového zaměstnance.\"\"\"\n",
    "    \n",
    "    def __init__(self, jmeno: str, vek: int, mzda: int):\n",
    "        self.jmeno = jmeno\n",
    "        self.vek = vek\n",
    "        self.mzda = mzda\n",
    "        \n",
    "    def vytvor_email(self, domena: str) -> str:\n",
    "        self.email = f\"{self.jmeno.lower()}{domena}\"\n",
    "        \n",
    "    # @classmethod\n",
    "    # def from_string(cls):\n",
    "    #     pass"
   ]
  },
  {
   "cell_type": "code",
   "execution_count": null,
   "id": "31bdc464-a5f7-4c54-a88d-47d6b042288b",
   "metadata": {
    "tags": []
   },
   "outputs": [],
   "source": [
    "matous = Zamestnanec(\"Matouš\", 40, 80_000)"
   ]
  },
  {
   "cell_type": "code",
   "execution_count": null,
   "id": "247a387d-1285-401d-a3b5-a56091c044a1",
   "metadata": {
    "tags": []
   },
   "outputs": [],
   "source": [
    "matous.vytvor_email(\"@superdomena.cz\")"
   ]
  },
  {
   "cell_type": "code",
   "execution_count": null,
   "id": "86ce5df5-ef8d-480f-a6e1-1436ddd6037b",
   "metadata": {
    "tags": []
   },
   "outputs": [],
   "source": [
    "print(\n",
    "    matous.jmeno,\n",
    "    matous.email,\n",
    "    sep=\"\\n\"\n",
    ")"
   ]
  },
  {
   "cell_type": "markdown",
   "id": "18dcaaaf-e8a2-49ba-9547-a5920533edcf",
   "metadata": {
    "tags": []
   },
   "source": [
    "<br>\n",
    "\n",
    "Máš třídu, která řídí proces tvoření nových instancní pro zaměstnance.\n",
    "\n",
    "Co, když ale potřebuješ další třídu, tentokrát pro *testery*:"
   ]
  },
  {
   "cell_type": "code",
   "execution_count": null,
   "id": "59127da3-a34b-4bc6-b204-8c2f0504a49c",
   "metadata": {
    "tags": []
   },
   "outputs": [],
   "source": [
    "class Tester:\n",
    "    \"\"\"Objekt pro vytvoření zaměstnance, testera.\"\"\"\n",
    "    \n",
    "    def __init__(self, jmeno: str, vek: int, mzda: int):\n",
    "        self.jmeno = jmeno\n",
    "        self.vek = vek\n",
    "        self.mzda = mzda\n",
    "        self.__pristup_vcs = False\n",
    "\n",
    "    def vytvor_email(self):\n",
    "        self.email = f\"{self.jmeno.lower()}{domena}\"\n",
    "    \n",
    "    @property\n",
    "    def pristup_vcs(self):\n",
    "        return self.__pristup_vcs\n",
    "    \n",
    "    @pristup_vcs.setter\n",
    "    def pristup_vcs(self, hodnota: bool):\n",
    "        if hodnota in {True, False}:\n",
    "            self.__pristup_vcs = hodnota\n",
    "        else:\n",
    "            raise Exception(\"Nelze přiřadit takovou hodnotu\")"
   ]
  },
  {
   "cell_type": "code",
   "execution_count": null,
   "id": "0a9f7b50-53f4-4516-9686-0b3005b408c1",
   "metadata": {
    "tags": []
   },
   "outputs": [],
   "source": [
    "petr = Tester(\"Petr\", 45, 100_000)"
   ]
  },
  {
   "cell_type": "code",
   "execution_count": null,
   "id": "095ac496-4c50-47d7-8f1b-931073a7c9a5",
   "metadata": {
    "tags": []
   },
   "outputs": [],
   "source": [
    "petr.pristup_vcs = True"
   ]
  },
  {
   "cell_type": "code",
   "execution_count": null,
   "id": "10d926f8-0ccb-483f-9ae6-230168e02093",
   "metadata": {
    "tags": []
   },
   "outputs": [],
   "source": [
    "petr.pristup_vcs"
   ]
  },
  {
   "cell_type": "markdown",
   "id": "7bc3c3bd-3a66-42b0-b79f-391891a5d4c0",
   "metadata": {},
   "source": [
    "### Jednoduchá dědičnost\n",
    "\n",
    "---"
   ]
  },
  {
   "cell_type": "markdown",
   "id": "e11268bf-96c1-4e5f-a459-0b2d9a56c44b",
   "metadata": {},
   "source": [
    "<br>\n",
    "\n",
    "Na první pohled ale vidíš, že mít **dvě podobné třídy** pod sebou není efektivní a oponuje to princip vývoje softwaru (DRY).\n",
    "\n",
    "<br>\n",
    "\n",
    "V rámci specifické pozice bylo potřeba hodně přepisování.\n",
    "\n",
    "Velkou část třídy `Tester` opakuješ definici třídy `Zamestnanec`.\n",
    "\n",
    "Z takového důvodu můžeš prakticky použít další, třetí koncept, na kterém OOP stojí. Dědičnost:"
   ]
  },
  {
   "cell_type": "code",
   "execution_count": null,
   "id": "634377a2-cfa0-4909-8af7-5ee7238135bd",
   "metadata": {
    "tags": []
   },
   "outputs": [],
   "source": [
    "class Tester(Zamestnanec):\n",
    "    \"\"\"Objekt pro vytvoření zaměstnance, testera.\"\"\"\n",
    "    \n",
    "    @property\n",
    "    def pristup_vcs(self):\n",
    "        return self.__pristup_vcs\n",
    "    \n",
    "    @pristup_vcs.setter\n",
    "    def pristup_vcs(self, hodnota: bool):\n",
    "        if hodnota in {True, False}:\n",
    "            self.__pristup_vcs = hodnota\n",
    "        else:\n",
    "            raise Exception(\"Nelze přiřadit takovou hodnotu\")"
   ]
  },
  {
   "cell_type": "code",
   "execution_count": null,
   "id": "617f43f4-41ba-4ddc-8401-e009bff11db1",
   "metadata": {
    "tags": []
   },
   "outputs": [],
   "source": [
    "petr = Tester(\"Petr\", 45, 100_000)"
   ]
  },
  {
   "cell_type": "code",
   "execution_count": null,
   "id": "e9c52a9a-4856-4db0-b38f-135d62c1ab4b",
   "metadata": {
    "tags": []
   },
   "outputs": [],
   "source": [
    "petr.pristup_vcs = True"
   ]
  },
  {
   "cell_type": "code",
   "execution_count": null,
   "id": "63871f3f-519c-42e0-b87e-7a567adb1241",
   "metadata": {
    "tags": []
   },
   "outputs": [],
   "source": [
    "petr.pristup_vcs"
   ]
  },
  {
   "cell_type": "code",
   "execution_count": null,
   "id": "98a9a2d4-be75-484a-866b-6fbd94b0fbc3",
   "metadata": {
    "tags": []
   },
   "outputs": [],
   "source": [
    "petr.__dict__"
   ]
  },
  {
   "cell_type": "code",
   "execution_count": null,
   "id": "79c84e70-8adf-4f65-ac71-1677124f4022",
   "metadata": {
    "tags": []
   },
   "outputs": [],
   "source": [
    "petr.vytvor_email(\"@superdomena.cz\")"
   ]
  },
  {
   "cell_type": "code",
   "execution_count": null,
   "id": "003fe1c9-8cc1-46b8-b307-3e950d4f4796",
   "metadata": {
    "tags": []
   },
   "outputs": [],
   "source": [
    "petr.email"
   ]
  },
  {
   "cell_type": "markdown",
   "id": "eb004838-4d53-4022-87f7-2eb4c569db97",
   "metadata": {},
   "source": [
    "<br>\n",
    "\n",
    "Takovým způsobem můžeš přepisovat méně zápisu a využít již existují, rodičovské třídy.\n",
    "\n",
    "Pomocí zabudované funkce můžeš potvrdit, že třída `Tester` je potomkem třídy `Zamestnanec`:"
   ]
  },
  {
   "cell_type": "code",
   "execution_count": null,
   "id": "4e645ea1-30f2-4152-afd9-514d7ee50289",
   "metadata": {
    "tags": []
   },
   "outputs": [],
   "source": [
    "print(issubclass(Tester, Zamestnanec))"
   ]
  },
  {
   "cell_type": "markdown",
   "id": "4bf5a60b-5cc0-4d8a-9a0f-1eebcca7f383",
   "metadata": {},
   "source": [
    "### Funkce super()\n",
    "\n",
    "----"
   ]
  },
  {
   "cell_type": "markdown",
   "id": "2ae0a1ef-1e27-4e67-b9c8-ab0160c33884",
   "metadata": {},
   "source": [
    "<br>\n",
    "\n",
    "Co když budeš chtít **upravit stávající objekt u rodiče**:"
   ]
  },
  {
   "cell_type": "code",
   "execution_count": null,
   "id": "7fa286c6-fa94-481a-a7a7-86c3029b5de7",
   "metadata": {
    "tags": []
   },
   "outputs": [],
   "source": [
    "class Rodic:\n",
    "    def funkce_x(self, x):\n",
    "        print(\"Rodic\", self, x)"
   ]
  },
  {
   "cell_type": "code",
   "execution_count": null,
   "id": "fdb5a958-0971-4fbc-9e9c-44b12e1556cc",
   "metadata": {
    "tags": []
   },
   "outputs": [],
   "source": [
    "class Potomek(Rodic):\n",
    "    def funkce_x(self, x):\n",
    "        print(\"Potomek\", self, x)\n",
    "        print(\"Rodic\", self, x)  # chci zabránit dalšímu přepisování\n",
    "        print(\"Konec tř. Potomek\")"
   ]
  },
  {
   "cell_type": "code",
   "execution_count": null,
   "id": "3047d1a3-7988-4310-910e-38ae56234fcc",
   "metadata": {
    "tags": []
   },
   "outputs": [],
   "source": [
    "p = Potomek()\n",
    "p.funkce_x(13)"
   ]
  },
  {
   "cell_type": "markdown",
   "id": "67772e7c-1ea5-4655-801a-a6bc597e2df7",
   "metadata": {},
   "source": [
    "<br>\n",
    "\n",
    "U třídy `Potomek` si můžeš povšimnout shodných ohlášení.\n",
    "\n",
    "Současně ale obsahuje také svoje vlastní.\n",
    "\n",
    "Tento zápis můžeš upravit pomocí funkce `super()`:"
   ]
  },
  {
   "cell_type": "code",
   "execution_count": null,
   "id": "e42a8a97-d7fe-49ba-b195-7dd307e1e2bc",
   "metadata": {
    "tags": []
   },
   "outputs": [],
   "source": [
    "class Rodic:\n",
    "    def funkce_y(self, x):\n",
    "        print(\"Rodic\", self, x)"
   ]
  },
  {
   "cell_type": "code",
   "execution_count": null,
   "id": "1db67d3b-b0fc-4a31-8398-9410ce242c16",
   "metadata": {
    "tags": []
   },
   "outputs": [],
   "source": [
    "class Potomek(Rodic):\n",
    "    def funkce_y(self, x):\n",
    "        print(\"Potomek\", self, x)\n",
    "        super().funkce_y(x)  # __init__()\n",
    "        print(\"Konec tř. Potomek\")"
   ]
  },
  {
   "cell_type": "code",
   "execution_count": null,
   "id": "8aabd8c9-7748-4b96-8aab-5cb4ff06be7e",
   "metadata": {
    "tags": []
   },
   "outputs": [],
   "source": [
    "p = Potomek()\n",
    "p.funkce_y(13)"
   ]
  },
  {
   "cell_type": "markdown",
   "id": "b162a8a4-e77a-445b-be87-1a860ad5cd06",
   "metadata": {},
   "source": [
    "<br>\n",
    "\n",
    "Funkce `super()` automaticky odkazuje na posledního předchozího rodiče.\n",
    "\n",
    "Tím se stane zápis méně upovídaný a méně náchylný na chyby.\n",
    "\n",
    "U funkce `super()` není potřeba doplňovat parametr `self` ani `cls` (interpret doplní automaticky)."
   ]
  },
  {
   "cell_type": "markdown",
   "id": "f8d90c07-ef5f-46e1-bf2b-2ca4e4570b5d",
   "metadata": {
    "tags": []
   },
   "source": [
    "<img src=\"../images/inheritance.png\" width=\"1000\" style=\"margin-left:auto; margin-right:auto\">"
   ]
  },
  {
   "cell_type": "markdown",
   "id": "ed8a5fa0-996e-475c-aad7-a605788c6b80",
   "metadata": {},
   "source": [
    "### Vícenásobné dědění\n",
    "\n",
    "---"
   ]
  },
  {
   "cell_type": "markdown",
   "id": "1eae2fe3-312e-457e-86d1-ce04bb3c7b87",
   "metadata": {},
   "source": [
    "<img src=\"../images/possibilities.png\" width=\"1000\" style=\"margin-left:auto; margin-right:auto\">"
   ]
  },
  {
   "cell_type": "markdown",
   "id": "05748d22-76e8-48ef-a6f8-28599d0df675",
   "metadata": {
    "tags": []
   },
   "source": [
    "Dědění nemusí být jenom jednorázové.\n",
    "\n",
    "Je možné dědit od jednoho rodiče na několik potomků:"
   ]
  },
  {
   "cell_type": "code",
   "execution_count": null,
   "id": "ab0ea124-0453-44f4-bbb0-a590c37cf6d4",
   "metadata": {
    "tags": []
   },
   "outputs": [],
   "source": [
    "class Zamestnanec:\n",
    "    \"\"\"Objekt pro vytvoření řadového zaměstnance.\"\"\"\n",
    "    \n",
    "    def __init__(self, jmeno: str, vek: int, mzda: int):\n",
    "        self.jmeno = jmeno\n",
    "        self.vek = vek\n",
    "        self.mzda = mzda\n",
    "        \n",
    "    def vytvor_email(self, domena: str) -> str:\n",
    "        self.email = f\"{self.jmeno.lower()}{domena}\""
   ]
  },
  {
   "cell_type": "code",
   "execution_count": null,
   "id": "41f57546-a2bc-4777-84cc-cc03ee8285d4",
   "metadata": {
    "tags": []
   },
   "outputs": [],
   "source": [
    "class Tester(Zamestnanec):\n",
    "    \"\"\"Objekt pro vytvoření zaměstnance, testera.\"\"\"\n",
    "    \n",
    "    @property\n",
    "    def pristup_vcs(self):\n",
    "        return self.__pristup_vcs\n",
    "    \n",
    "    @pristup_vcs.setter\n",
    "    def pristup_vcs(self, hodnota: bool):\n",
    "        if hodnota in {True, False}:\n",
    "            self.__pristup_vcs = hodnota\n",
    "        else:\n",
    "            raise Exception(\"Nelze přiřadit takovou hodnotu\")"
   ]
  },
  {
   "cell_type": "markdown",
   "id": "cdb0ca20-05f5-4330-87af-88d8a11f6bba",
   "metadata": {},
   "source": [
    "<br>\n",
    "\n",
    "Navíc přidej další třídu, která se jmenuje `BigDataInzenyr` a stejně jako `Tester` dědí objekty od `Zamestnanec`:"
   ]
  },
  {
   "cell_type": "code",
   "execution_count": null,
   "id": "b26aebf4-d454-4d09-b486-e541a5c95622",
   "metadata": {
    "tags": []
   },
   "outputs": [],
   "source": [
    "class BigDataInzenyr(Zamestnanec):\n",
    "    \"\"\"Objekt pro vytvoření zaměstnance, big data inženýra.\"\"\"\n",
    "    \n",
    "    @property\n",
    "    def pristup_db(self):\n",
    "        return self.__pristup_db\n",
    "    \n",
    "    @pristup_db.setter\n",
    "    def pristup_db(self, hodnota: bool):\n",
    "        if hodnota in {True, False}:\n",
    "            self.__pristup_db = hodnota\n",
    "        else:\n",
    "            raise Exception(\"Nelze přiřadit takovou hodnotu\")"
   ]
  },
  {
   "cell_type": "code",
   "execution_count": null,
   "id": "60502ded-0a15-4b66-9708-15f080497767",
   "metadata": {
    "tags": []
   },
   "outputs": [],
   "source": [
    "filip = BigDataInzenyr(\"Filip\", 40, 120_000)"
   ]
  },
  {
   "cell_type": "code",
   "execution_count": null,
   "id": "341c86f4-8fe6-483e-a918-6a6db1c42f47",
   "metadata": {
    "tags": []
   },
   "outputs": [],
   "source": [
    "filip.pristup_db = True"
   ]
  },
  {
   "cell_type": "code",
   "execution_count": null,
   "id": "54f30985-1396-4b8b-aabc-4ee444fe3577",
   "metadata": {
    "tags": []
   },
   "outputs": [],
   "source": [
    "filip.vytvor_email(\"@gmail.com\")"
   ]
  },
  {
   "cell_type": "code",
   "execution_count": null,
   "id": "87501544-af24-4cc9-ac20-9761033c1e85",
   "metadata": {
    "tags": []
   },
   "outputs": [],
   "source": [
    "filip.__dict__"
   ]
  },
  {
   "cell_type": "code",
   "execution_count": null,
   "id": "cdbd7494-b630-4802-ae5d-57082c1c8b6f",
   "metadata": {},
   "outputs": [],
   "source": []
  },
  {
   "cell_type": "markdown",
   "id": "99966e46-0188-4a64-89f8-6fb8714533e1",
   "metadata": {},
   "source": [
    "<br>\n",
    "\n",
    "V tomto okamžiku pracuje potomek `BigDataInzenyr` jen se svými metodami, případně s metodami jeho rodiče.\n",
    "\n",
    "Co když budeš chtít pracovat s metodami **svého sourozence**:"
   ]
  },
  {
   "cell_type": "code",
   "execution_count": null,
   "id": "c6fc6b26-db6a-4fcd-9f1f-94a6ca6635bb",
   "metadata": {
    "tags": []
   },
   "outputs": [],
   "source": [
    "filip.pristup_vcs = True"
   ]
  },
  {
   "cell_type": "code",
   "execution_count": null,
   "id": "7bd1e29c-1bd7-42df-b40c-4bed87061d13",
   "metadata": {
    "tags": []
   },
   "outputs": [],
   "source": [
    "filip.pristup_vcs"
   ]
  },
  {
   "cell_type": "markdown",
   "id": "c43a1468-e634-4ce0-a31a-b60baef4248c",
   "metadata": {},
   "source": [
    "<br>\n",
    "\n",
    "Jak je to možné? Že sourozenci vidí na svoje objekty:"
   ]
  },
  {
   "cell_type": "code",
   "execution_count": null,
   "id": "4b70d4e5-67f4-4c39-a434-ad19a98317b2",
   "metadata": {
    "tags": []
   },
   "outputs": [],
   "source": [
    "filip.ma_dovolenou = True"
   ]
  },
  {
   "cell_type": "code",
   "execution_count": null,
   "id": "da15c64a-44f0-4bd3-bcad-1528c15bafdb",
   "metadata": {
    "tags": []
   },
   "outputs": [],
   "source": [
    "filip.__dict__"
   ]
  },
  {
   "cell_type": "code",
   "execution_count": null,
   "id": "835e1d51-bb86-4e98-aaeb-2eca88a21f5e",
   "metadata": {
    "tags": []
   },
   "outputs": [],
   "source": [
    "print(\n",
    "    issubclass(BigDataInzenyr, Zamestnanec),\n",
    "    issubclass(Tester, Zamestnanec),\n",
    "    issubclass(BigDataInzenyr, Tester),\n",
    "    sep=\"\\n\"\n",
    ")"
   ]
  },
  {
   "cell_type": "markdown",
   "id": "3bb18290-2bd8-4e31-b1c4-4d5df50320d4",
   "metadata": {},
   "source": [
    "<br>\n",
    "\n",
    "Zápisem výše v podstatě vytvoříš nový instanční atribut.\n",
    "\n",
    "To samozřejmě nemá význam a navíc můžeš uškodit funkcionalitě tříd."
   ]
  },
  {
   "cell_type": "markdown",
   "id": "dcb80c1a-ec9f-468a-8229-0147372b4ab6",
   "metadata": {},
   "source": [
    "### Zřetězené dědění\n",
    "\n",
    "---"
   ]
  },
  {
   "cell_type": "markdown",
   "id": "c296c995-4fc5-43a3-94a9-38136bd13b05",
   "metadata": {
    "tags": []
   },
   "source": [
    "<img src=\"../images/chain_inh.png\" width=\"1000\" style=\"margin-left:auto; margin-right:auto\">"
   ]
  },
  {
   "cell_type": "markdown",
   "id": "46c26c1d-83ee-4803-b790-d8a1492688c7",
   "metadata": {},
   "source": [
    "Narozdíl od vícenásobného dědění, bývá zřetězené málokdy žádoucí."
   ]
  },
  {
   "cell_type": "code",
   "execution_count": null,
   "id": "01cd7c77-c548-49b7-9118-6fc135b6375c",
   "metadata": {
    "tags": []
   },
   "outputs": [],
   "source": [
    "class Prarodic:\n",
    "    def funkce(self, x):\n",
    "        print(\"Prarodic\", self, x)"
   ]
  },
  {
   "cell_type": "code",
   "execution_count": null,
   "id": "347baa4c-a4da-4e49-a1b1-7e13d91bd95c",
   "metadata": {
    "tags": []
   },
   "outputs": [],
   "source": [
    "class Rodic(Prarodic):\n",
    "    def funkce(self, x):\n",
    "        print(\"Rodic\", self, x)\n",
    "        super().funkce(x)"
   ]
  },
  {
   "cell_type": "code",
   "execution_count": null,
   "id": "cce139ab-bb0e-4217-9963-a445d8dfe722",
   "metadata": {
    "tags": []
   },
   "outputs": [],
   "source": [
    "class Potomek(Rodic):\n",
    "    def funkce(self, x):\n",
    "        print(\"Potomek\", self, x)\n",
    "        super().funkce(x)"
   ]
  },
  {
   "cell_type": "code",
   "execution_count": null,
   "id": "98c3a73e-e644-4e04-98c9-feb194ab1c81",
   "metadata": {
    "tags": []
   },
   "outputs": [],
   "source": [
    "p = Potomek()\n",
    "p.funkce(14)"
   ]
  },
  {
   "cell_type": "markdown",
   "id": "037c42e8-37a4-4bdf-a0bf-3a30530e01a5",
   "metadata": {},
   "source": [
    "<br>\n",
    "\n",
    "Lineární zřetězene dědění je sice možné, ale pomalu přestává být přehledné a únosné.\n",
    "\n",
    "Pokud potřebuješ využít takový princip, dobře rozmysli, jestli je zápis ještě průhledný a pochopitelný."
   ]
  },
  {
   "cell_type": "markdown",
   "id": "85848a2d-68af-46bc-a961-57c3362dd4dd",
   "metadata": {},
   "source": [
    "<br>\n",
    "\n",
    "V průběhu času budeš chtít přidat nový typ zaměstnance, opět můžeš aplikovat dědičnost:"
   ]
  },
  {
   "cell_type": "code",
   "execution_count": null,
   "id": "cf034d0e-29a6-4f65-afcf-e72b3cdbfd55",
   "metadata": {
    "tags": []
   },
   "outputs": [],
   "source": [
    "class Zamestnanec:\n",
    "    \"\"\"Objekt pro vytvoření řadového zaměstnance.\"\"\"\n",
    "    \n",
    "    def __init__(self, jmeno: str, vek: int, mzda: int):\n",
    "        self.jmeno = jmeno\n",
    "        self.vek = vek\n",
    "        self.mzda = mzda\n",
    "        \n",
    "    def vytvor_email(self, domena: str) -> str:\n",
    "        self.email = f\"{self.jmeno.lower()}{domena}\""
   ]
  },
  {
   "cell_type": "code",
   "execution_count": null,
   "id": "e06f8ada-280f-4f97-bdc3-eb77dbf985e1",
   "metadata": {
    "tags": []
   },
   "outputs": [],
   "source": [
    "class Tester(Zamestnanec):\n",
    "    \"\"\"Objekt pro vytvoření zaměstnance, testera.\"\"\"\n",
    "    \n",
    "    @property\n",
    "    def pristup_vcs(self):\n",
    "        return self.__pristup_vcs\n",
    "    \n",
    "    @pristup_vcs.setter\n",
    "    def pristup_vcs(self, hodnota: bool):\n",
    "        if hodnota in {True, False}:\n",
    "            self.__pristup_vcs = hodnota\n",
    "        else:\n",
    "            raise Exception(\"Nelze přiřadit takovou hodnotu\")"
   ]
  },
  {
   "cell_type": "code",
   "execution_count": null,
   "id": "3394b99b-639b-46f9-be17-5a61c884e2f8",
   "metadata": {},
   "outputs": [],
   "source": [
    "class BigDataInzenyr(Tester):\n",
    "    \"\"\"Objekt pro vytvoření zaměstnance, big data inženýra.\"\"\"\n",
    "    \n",
    "    @property\n",
    "    def pristup_db(self):\n",
    "        return self.__pristup_db\n",
    "    \n",
    "    @pristup_db.setter\n",
    "    def pristup_db(self, hodnota: bool):\n",
    "        if hodnota in {True, False}:\n",
    "            self.__pristup_db = hodnota\n",
    "        else:\n",
    "            raise Exception(\"Nelze přiřadit takovou hodnotu\")"
   ]
  },
  {
   "cell_type": "code",
   "execution_count": null,
   "id": "95ac8248-11d8-4e71-b7a5-62ec8cc0044f",
   "metadata": {},
   "outputs": [],
   "source": [
    "tomas = BigDataInzenyr(\"Tomáš\", 31, 70_000)"
   ]
  },
  {
   "cell_type": "code",
   "execution_count": null,
   "id": "fdd4dcd8-2ef8-4b19-bc81-9874ef7a4304",
   "metadata": {
    "tags": []
   },
   "outputs": [],
   "source": [
    "tomas.pristup_db = True"
   ]
  },
  {
   "cell_type": "code",
   "execution_count": null,
   "id": "485d542d-5b8c-4acd-a3f1-012f27d41ed2",
   "metadata": {
    "tags": []
   },
   "outputs": [],
   "source": [
    "tomas.pristup_vcs = True"
   ]
  },
  {
   "cell_type": "code",
   "execution_count": null,
   "id": "f14c64ee-5027-47fa-a307-9232ead123aa",
   "metadata": {
    "tags": []
   },
   "outputs": [],
   "source": [
    "print(\n",
    "    tomas.jmeno,\n",
    "    tomas.pristup_db,\n",
    "    tomas.pristup_vcs,\n",
    "    sep=\"\\n\"\n",
    ")"
   ]
  },
  {
   "cell_type": "code",
   "execution_count": null,
   "id": "74e4036f-4c4a-475d-bdaa-58cbf74810f7",
   "metadata": {
    "tags": []
   },
   "outputs": [],
   "source": [
    "tomas.__dict__"
   ]
  },
  {
   "cell_type": "code",
   "execution_count": null,
   "id": "64326c42-795e-4ed6-8354-9f9dfc711341",
   "metadata": {
    "tags": []
   },
   "outputs": [],
   "source": [
    "tomas.vytvor_email(\"@gmail.com\")"
   ]
  },
  {
   "cell_type": "code",
   "execution_count": null,
   "id": "12f34891-0a97-465f-82f4-df0b6de7c1ba",
   "metadata": {
    "tags": []
   },
   "outputs": [],
   "source": [
    "tomas.__dict__"
   ]
  },
  {
   "cell_type": "markdown",
   "id": "c6508b9a-4aa5-40cf-b703-1d3130f5a021",
   "metadata": {},
   "source": [
    "<br>\n",
    "\n",
    "Opravdu už není jednoduché, sledovat původ změn.\n",
    "\n",
    "A v této ukázce jde o triviální třídy."
   ]
  },
  {
   "cell_type": "markdown",
   "id": "939a0da8-d5e9-4a14-b961-ef4eb02d3d2a",
   "metadata": {},
   "source": [
    "<br>\n",
    "\n",
    "Co když se potom dědičnost ještě zkomplikuje?"
   ]
  },
  {
   "cell_type": "markdown",
   "id": "02e0f538-9302-4eaa-8405-8a1c01552c82",
   "metadata": {},
   "source": [
    "<img src=\"https://i.imgur.com/HgQpT9I.png\" width=\"1000\" style=\"margin-left:auto; margin-right:auto\">"
   ]
  },
  {
   "cell_type": "markdown",
   "id": "ab9a7bf6-0cf4-47c0-bb04-06dbfc7c972c",
   "metadata": {
    "tags": []
   },
   "source": [
    "### MRO (~Method resolution order)\n",
    "\n",
    "---"
   ]
  },
  {
   "cell_type": "markdown",
   "id": "02e914c3-8b27-4ad0-a3fb-8a88b3e5012c",
   "metadata": {},
   "source": [
    "Pokud je systému dědičnosti větší počet úrovní, nebylo by snadné sledovat rodiče.\n",
    "\n",
    "Z takového důvodu existuje metoda, která označí cestu, kterou jsou objekty sbírány:"
   ]
  },
  {
   "cell_type": "code",
   "execution_count": null,
   "id": "fdc1ad29-6a01-460f-b016-11cac7068c32",
   "metadata": {
    "tags": []
   },
   "outputs": [],
   "source": [
    "class Employee:\n",
    "    def f(self):\n",
    "        print(\"Employee\", self)\n",
    "\n",
    "class FrontendDev(Employee):\n",
    "    def f(self):\n",
    "        print(\"FronendDev\", self)\n",
    "        super().f()\n",
    "\n",
    "class BackendDev(Employee):\n",
    "    def f(self):\n",
    "        print(\"BackendDev\", self)\n",
    "        super().f()\n",
    "        \n",
    "class FullstackDev(FrontendDev, BackendDev):\n",
    "    def f(self):\n",
    "        print(\"FullstackDev\", self)\n",
    "        super().f()"
   ]
  },
  {
   "cell_type": "code",
   "execution_count": null,
   "id": "b4defc90-efb2-46eb-bf7e-b8da9b0a17df",
   "metadata": {
    "tags": []
   },
   "outputs": [],
   "source": [
    "fdev = FullstackDev()"
   ]
  },
  {
   "cell_type": "code",
   "execution_count": null,
   "id": "ba46ffba-69d1-4bfb-8274-8abf34839d08",
   "metadata": {
    "tags": []
   },
   "outputs": [],
   "source": [
    "fdev.f()"
   ]
  },
  {
   "cell_type": "markdown",
   "id": "b1530ecc-002a-42aa-8a58-7004abd8e93b",
   "metadata": {},
   "source": [
    "<br>\n",
    "\n",
    "MRO je také jedna z magických metod, takže můžeš pracovat i pomocí ní:"
   ]
  },
  {
   "cell_type": "code",
   "execution_count": null,
   "id": "118aa84d-6c29-43c5-8f4a-e348b0baa4fc",
   "metadata": {
    "tags": []
   },
   "outputs": [],
   "source": [
    "FullstackDev.__mro__"
   ]
  },
  {
   "cell_type": "markdown",
   "id": "05a07710-b1a9-4a4c-af39-08ab9bb52908",
   "metadata": {},
   "source": [
    "<br>\n",
    "\n",
    "Proč je tedy MRO tak podstatné?\n",
    "\n",
    "Podívej se na drobnou změnu v zápise:"
   ]
  },
  {
   "cell_type": "code",
   "execution_count": null,
   "id": "cd8d64a4-c1a8-4f19-9cdd-536c6d17de09",
   "metadata": {
    "tags": []
   },
   "outputs": [],
   "source": [
    "class Employee:\n",
    "    def f(self):\n",
    "        print(\"Employee\", self)\n",
    "\n",
    "class FrontendDev(Employee):\n",
    "    def f(self):\n",
    "        print(\"FronendDev\", self)\n",
    "        super().f()\n",
    "\n",
    "class BackendDev(Employee):\n",
    "    def f(self):\n",
    "        print(\"BackendDev\", self)\n",
    "        # Chybí \"super()\"\n",
    "        \n",
    "class FullstackDev(FrontendDev, BackendDev):\n",
    "    def f(self):\n",
    "        print(\"FullstackDev\", self)\n",
    "        super().f()"
   ]
  },
  {
   "cell_type": "code",
   "execution_count": null,
   "id": "8b202732-a1ed-4dd5-b431-c11fd55c66a9",
   "metadata": {
    "tags": []
   },
   "outputs": [],
   "source": [
    "fdev = FullstackDev()"
   ]
  },
  {
   "cell_type": "code",
   "execution_count": null,
   "id": "964ddf94-afb7-4afc-bff8-f8e974bfc7c6",
   "metadata": {
    "tags": []
   },
   "outputs": [],
   "source": [
    "fdev.f()"
   ]
  },
  {
   "cell_type": "markdown",
   "id": "852feae0-5fe8-41ef-80ef-2fb5ee5566cb",
   "metadata": {},
   "source": [
    "<br>\n",
    "\n",
    "Z toho vyplývá, že `super()` nepracuje přímo s rodičem, nebo sourozence.\n",
    "\n",
    "Pracuje s předchůdcem, kterého stanoví MRO:"
   ]
  },
  {
   "cell_type": "code",
   "execution_count": null,
   "id": "f83dfa68-2e55-4ae4-8f69-2f73ae70226a",
   "metadata": {
    "tags": []
   },
   "outputs": [],
   "source": [
    "class Employee:\n",
    "    atr = \"E\"\n",
    "\n",
    "class FrontendDev(Employee):\n",
    "    atri = \"Fr\"\n",
    "\n",
    "class BackendDev(Employee):\n",
    "    atri = \"B\"\n",
    "        \n",
    "class FullstackDev(FrontendDev, BackendDev):\n",
    "    atri = \"Fu\""
   ]
  },
  {
   "cell_type": "code",
   "execution_count": null,
   "id": "58fee1ea-8ffa-45f2-be5c-7f35893579d9",
   "metadata": {
    "tags": []
   },
   "outputs": [],
   "source": [
    "f = FullstackDev()"
   ]
  },
  {
   "cell_type": "code",
   "execution_count": null,
   "id": "48f7df78-8386-4100-a6b9-90906790e349",
   "metadata": {
    "tags": []
   },
   "outputs": [],
   "source": [
    "f.atr"
   ]
  },
  {
   "cell_type": "markdown",
   "id": "af597ac7-c102-4b40-8e77-044a7de2133b",
   "metadata": {},
   "source": [
    "<br>\n",
    "\n",
    "MRO neplatí ovšem **jen pro metody**.\n",
    "\n",
    "Jeho znalost lze aplikovat také na vlastnosti jednotlivých tříd."
   ]
  },
  {
   "cell_type": "markdown",
   "id": "6731e59e-ddf1-4c86-9e24-ed5bd1618bda",
   "metadata": {},
   "source": [
    "### Souhrn\n",
    "\n",
    "---"
   ]
  },
  {
   "cell_type": "markdown",
   "id": "fa5b6ebf-51d6-43cd-878e-2d31227e15c6",
   "metadata": {},
   "source": [
    "<br>\n",
    "\n",
    "Dědičnost ale stejně jako ostatní koncepty nesmí být **zneužívána**.\n",
    "\n",
    "<br>\n",
    "\n",
    "Zřetězené odkazování přestává být **zřetelné** a program se stává příliš komplexní.\n",
    "\n",
    "<br>\n",
    "\n",
    "Nejprve interpret vyhledává **metody nebo atributy** v aktuální třídě (potomkovi) a potom teprve začíná sledovat MRO."
   ]
  },
  {
   "cell_type": "markdown",
   "id": "fc980572-9160-4a47-baaa-1b81cad22618",
   "metadata": {},
   "source": [
    "<br>\n",
    "\n",
    "### 🧠 CVIČENÍ 9 🧠, Vytvoř třídu `Auto` a doplň následující:"
   ]
  },
  {
   "cell_type": "markdown",
   "id": "cc650c9c-e31b-4883-9035-873a01a6385e",
   "metadata": {
    "tags": []
   },
   "source": [
    "- Definuj třídu `Auto`, s metodou `__init__`, která potřebuje jen parametr `znacka`, `barva`,\n",
    "- vytvoř getter a setter metody pro atribut `max_rychlost` (maximum 200 km/h) a `hmotnost` (maximum 2 tuny),\n",
    "- vytvoř třídu `OsobniAuto`, která dědí (`Auto`) atributy `znacka`, `barva` a navíc potřebuje instanční atribut `mista_k_sezeni`,\n",
    "- pro `OsobniAuto` vytvoř getter a setter, který omezuje `max_rychlost` na 300 km/h a hodnota je vedená jako celé číslo,\n",
    "- vytvoř třídu `NakladniAuto`, která dědí (`Auto`) atributy `znacka`, `barva` a navíc potřebuje instanční atribut `nostnost`,\n",
    "- pro `NakladniAuto` vytvoř getter a setter, který omezuje `max_rychlost` na 100 km/h a hodnota je vedená jako celé číslo."
   ]
  },
  {
   "cell_type": "code",
   "execution_count": null,
   "id": "d372df98-5a0c-4d42-a119-82e9f4feb064",
   "metadata": {
    "tags": []
   },
   "outputs": [],
   "source": [
    "class Auto:\n",
    "    def __init__(self, znacka: str, barva: str):\n",
    "        self.znacka = znacka\n",
    "        self.barva = barva\n",
    "        \n",
    "    @property\n",
    "    def max_rychlost(self) -> int:\n",
    "        return self.__max_rychlost\n",
    "    \n",
    "    @max_rychlost.setter\n",
    "    def max_rychlost(self, hodnota: int):\n",
    "        if isinstance(hodnota, int) and hodnota <= 200:\n",
    "            self.__max_rychlost = hodnota\n",
    "        else:\n",
    "            print(\"Neodpovídající datový typ nebo hodnota <200 km/h\")\n",
    "            \n",
    "            \n",
    "class OsobniAuto(Auto):\n",
    "    \n",
    "    def __init__(self, znacka: str, barva: str, mista_k_sezeni: int):\n",
    "        super().__init__(znacka, barva)\n",
    "        self.mista_k_sezeni = mista_k_sezeni\n",
    "        \n",
    "    @property\n",
    "    def max_rychlost(self) -> int:\n",
    "        return self.__max_rychlost\n",
    "    \n",
    "    @max_rychlost.setter\n",
    "    def max_rychlost(self, hodnota: int):\n",
    "        if isinstance(hodnota, int) and hodnota <= 300:\n",
    "            self.__max_rychlost = hodnota\n",
    "        else:\n",
    "            print(\"Neodpovídající datový typ nebo hodnota <300 km/h\")"
   ]
  },
  {
   "cell_type": "code",
   "execution_count": null,
   "id": "c31ad921-c4f1-4734-8f1b-944acac9ccf5",
   "metadata": {
    "tags": []
   },
   "outputs": [],
   "source": [
    "automobil_1 = Auto(\"BMW\", \"modrá\")\n",
    "automobil_2 = OsobniAuto(\"Audi\", \"bílá\", 5)"
   ]
  },
  {
   "cell_type": "code",
   "execution_count": null,
   "id": "a038a662-df1f-4b5b-926c-e124f808671c",
   "metadata": {
    "tags": []
   },
   "outputs": [],
   "source": [
    "automobil_1.max_rychlost = 200"
   ]
  },
  {
   "cell_type": "code",
   "execution_count": null,
   "id": "eb3d82a7-ddce-4c57-ad09-6b9b6be66c0b",
   "metadata": {
    "tags": []
   },
   "outputs": [],
   "source": [
    "automobil_1.__dict__"
   ]
  },
  {
   "cell_type": "code",
   "execution_count": null,
   "id": "57d33bee-42a9-4e8c-9414-53705cbd96c8",
   "metadata": {
    "tags": []
   },
   "outputs": [],
   "source": [
    "automobil_2.max_rychlost = 300"
   ]
  },
  {
   "cell_type": "code",
   "execution_count": null,
   "id": "e2382a0d-f97c-4f71-9faf-1b804a7e1445",
   "metadata": {
    "tags": []
   },
   "outputs": [],
   "source": [
    "automobil_2.__dict__"
   ]
  },
  {
   "cell_type": "code",
   "execution_count": null,
   "id": "867e95f6-6c12-469e-bfa7-35a8a6ed369f",
   "metadata": {
    "tags": []
   },
   "outputs": [],
   "source": [
    "# tranzit = NakladniAuto(\"Ford\", \"šedá\", 1.5)"
   ]
  },
  {
   "cell_type": "code",
   "execution_count": null,
   "id": "0be4ae9f-a41b-4b59-941a-c32f56bf5812",
   "metadata": {
    "tags": []
   },
   "outputs": [],
   "source": [
    "tranzit.max_rychlost = 99"
   ]
  },
  {
   "cell_type": "markdown",
   "id": "86f6cff4-1c8b-49f7-a94d-9cd3210fed1f",
   "metadata": {},
   "source": [
    "<details>\n",
    "    <summary>▶️ Řešení</summary>\n",
    "    \n",
    "    ```\n",
    "    class Auto:\n",
    "    def __init__(self, znacka: str, barva: str):\n",
    "        self.znacka = znacka\n",
    "        self.barva = barva\n",
    "        self.__hmotnost = 0\n",
    "        self.__max_rychlost = 0\n",
    "    \n",
    "    @property\n",
    "    def hmotnost(self):\n",
    "        return self.__hmotnost\n",
    "\n",
    "    @hmotnost.setter\n",
    "    def hmotnost(self, hodnota: int) -> None:\n",
    "        if isinstance(hodnota, int) and 0 < hodnota < 2:\n",
    "            self.__hmotnost = hodnota\n",
    "        else:\n",
    "            raise Exception(\"Špatný datový typ, nebo hodnota (<2 tun)\")\n",
    "    \n",
    "    @property\n",
    "    def max_rychlost(self):\n",
    "        return self.__max_rychlost\n",
    "\n",
    "    @max_rychlost.setter\n",
    "    def max_rychlost(self, hodnota: float) -> None:\n",
    "        if isinstance(hodnota, int) and 0 < hodnota < 200:\n",
    "            self.__max_rychlost = hodnota\n",
    "        else:\n",
    "            raise Exception(\"Špatný datový typ, nebo hodnota (<200 km/h)\")\n",
    "\n",
    "\n",
    "    class OsobniAuto(Auto):\n",
    "        def __init__(self, znacka: str, barva: str, mista_k_sezeni: int):\n",
    "            super().__init__(znacka, barva)\n",
    "            self.mista_k_sezeni = mista_k_sezeni\n",
    "\n",
    "        @property\n",
    "        def max_rychlost(self):\n",
    "            return self.__max_rychlost\n",
    "\n",
    "        @max_rychlost.setter\n",
    "        def max_rychlost(self, hodnota: float) -> None:\n",
    "            if isinstance(hodnota, int) and 0 < hodnota < 300:\n",
    "                self.__max_rychlost = hodnota\n",
    "            else:\n",
    "                raise Exception(\"Špatný datový typ, nebo hodnota (<300 km/h)\")\n",
    "\n",
    "\n",
    "    class NakladniAuto(Auto):\n",
    "        def __init__(self, znacka: str, barva: str, nostnost: float):\n",
    "            super().__init__(znacka, barva)\n",
    "            self.nostnost = nostnost\n",
    "\n",
    "        @property\n",
    "        def max_rychlost(self):\n",
    "            return self.__max_rychlost\n",
    "\n",
    "        @max_rychlost.setter\n",
    "        def max_rychlost(self, hodnota: int) -> None:\n",
    "            if isinstance(hodnota, int) and 0 < hodnota < 100:\n",
    "                self.__max_rychlost = hodnota\n",
    "            else:\n",
    "                raise Exception(\"Špatný datový typ, nebo hodnota (<100 km/h)\")\n",
    "    ```\n",
    "</details>"
   ]
  },
  {
   "cell_type": "markdown",
   "id": "cccfed0f-3bdc-4613-9a9e-d3085723b88d",
   "metadata": {},
   "source": [
    "<br>\n",
    "\n",
    "## Abstrakce\n",
    "\n",
    "---"
   ]
  },
  {
   "cell_type": "markdown",
   "id": "07e159b6-d2c4-484f-836c-9c2847106c1a",
   "metadata": {},
   "source": [
    "<img src=\"https://external-content.duckduckgo.com/iu/?u=https%3A%2F%2Ftse1.mm.bing.net%2Fth%3Fid%3DOIP.CFwkjtcCFee-YqXbmNDmxAHaHa%26pid%3DApi&f=1&ipt=b4737f334dd002ab30b8da0699a297e413334fd0ea059deb6cf4a6a0087b3f6b&ipo=images\" width=\"300\" style=\"margin-left:auto; margin-right:auto\">"
   ]
  },
  {
   "cell_type": "markdown",
   "id": "b24c98e9-e7fa-4a9c-b93e-e2487fb05baa",
   "metadata": {},
   "source": [
    "### Význam pojmu\n",
    "\n",
    "---"
   ]
  },
  {
   "cell_type": "markdown",
   "id": "13fb2c94-e92c-4e63-92f2-4fb8170605ef",
   "metadata": {},
   "source": [
    "Abstrakce je o redukci množství detailů.\n",
    "\n",
    "V OOP stojí na tom, že uživatel nemusí znát všechny implementace, ale pouze jména objektů."
   ]
  },
  {
   "cell_type": "markdown",
   "id": "6375cc91-c286-42f4-9483-3148cf9a02a5",
   "metadata": {},
   "source": [
    "<br>\n",
    "\n",
    "Stejně jako v praxi nevíš, co se všechno děje, pokud na chytrém telefonu zmáčkneš tlačítko pro vytvoření fotky.\n",
    "\n",
    "Tak ani v Pythonu nepotřebuješ vědět všechny detaily:"
   ]
  },
  {
   "cell_type": "code",
   "execution_count": null,
   "id": "6ef62bfb-83f5-4f71-80b4-576ab2434d91",
   "metadata": {
    "tags": []
   },
   "outputs": [],
   "source": [
    "\"matous\".title()"
   ]
  },
  {
   "cell_type": "code",
   "execution_count": null,
   "id": "54906ca0-4ed4-4fd4-8158-5227efac8795",
   "metadata": {
    "tags": []
   },
   "outputs": [],
   "source": [
    "\"OOP\".lower()"
   ]
  },
  {
   "cell_type": "markdown",
   "id": "21577667-27fb-4611-aa01-a1e113038c1a",
   "metadata": {},
   "source": [
    "### V praxi\n",
    "\n",
    "---"
   ]
  },
  {
   "cell_type": "markdown",
   "id": "d67086af-0c7f-4e31-bb05-6cf1707c25ee",
   "metadata": {},
   "source": [
    "<br>\n",
    "\n",
    "Podobně můžeš vidět *abstrakci* v OOP.\n",
    "\n",
    "Jak autor svojí knihovny se snažíš usnadnit práci ostatní uživatelům knihovny.\n",
    "\n",
    "Proto jim stačí vytvoření přehledného atributu `typ_uctu`, který už si sám dohledá a zavolá konkrétní funkce/metody."
   ]
  },
  {
   "cell_type": "markdown",
   "id": "a47637e0-44ec-4a35-b1c0-b7505c861397",
   "metadata": {},
   "source": [
    "<!-- \n",
    "```python\n",
    "class GooglePaymentProcessor:\n",
    "    \n",
    "    def __init__(self, order: int):\n",
    "        self.order = order\n",
    "\n",
    "    def pay(self):\n",
    "        print(\n",
    "            f\"Nr.order: {self.order}\",\n",
    "            \"Processing GooglePay..\",\n",
    "            \"Verifying security code..\",\n",
    "            \"Changing order status..\",\n",
    "            \"-\" * 25,\n",
    "            sep=\"\\n\"\n",
    "        )\n",
    "```\n",
    "\n",
    "```python\n",
    "order_1 = GooglePaymentProcessor(\"1234567890\")\n",
    "order_1.pay()\n",
    "``` -->"
   ]
  },
  {
   "cell_type": "code",
   "execution_count": null,
   "id": "ec1e9c8a-06c6-475d-9d59-de9e13ea4264",
   "metadata": {},
   "outputs": [],
   "source": [
    "class Uzivatel:\n",
    "    def __init__(self, jmeno: str, email: str):\n",
    "        self.email = email\n",
    "        self.jmeno = jmeno\n",
    "\n",
    "    @property\n",
    "    def typ_uctu(self):\n",
    "        return self.__typ_uctu\n",
    "    \n",
    "    @typ_uctu.setter\n",
    "    def typ_uctu(self, typ: str):\n",
    "        if isinstance(typ, str) \\\n",
    "            and typ.title() in (\"Gold\", \"Platinum\", \"Diamond\"):\n",
    "            self.__typ_uctu = typ\n",
    "            print(\"Chystám nový účet...\")\n",
    "        else:\n",
    "            raise Exception()"
   ]
  },
  {
   "cell_type": "code",
   "execution_count": null,
   "id": "324ff39f-4cc4-48a5-834c-73ca88beb927",
   "metadata": {},
   "outputs": [],
   "source": [
    "user_1 = Uzivatel(\"Matouš\", \"matous@gmail.com\")"
   ]
  },
  {
   "cell_type": "code",
   "execution_count": null,
   "id": "69098ebe-2b72-42e9-89b8-9d670b5416ff",
   "metadata": {
    "tags": []
   },
   "outputs": [],
   "source": [
    "user_1.typ_uctu = \"gold\""
   ]
  },
  {
   "cell_type": "markdown",
   "id": "0f508a73-d82c-4855-a6c3-81ea6b2fae72",
   "metadata": {},
   "source": [
    "<br>\n",
    "\n",
    "Jako uživatel takové knihovny, potom neřeším implementaci těchto pomocných funkcí.\n",
    "\n",
    "Nemusím je testovat, ani dokumentovat, protože to je starost autora knihovny.\n",
    "\n",
    "Stačí knihovnu a objekt aplikovat pro svoje účely."
   ]
  },
  {
   "cell_type": "markdown",
   "id": "0666c62a-bd33-4664-af52-3a089ca6a5a9",
   "metadata": {},
   "source": [
    "### Knihovna abc\n",
    "\n",
    "---"
   ]
  },
  {
   "cell_type": "code",
   "execution_count": null,
   "id": "2d5edbe6-18ac-448a-babc-d84ca3e86ad3",
   "metadata": {
    "tags": []
   },
   "outputs": [],
   "source": [
    "from abc import ABC, abstractmethod"
   ]
  },
  {
   "cell_type": "markdown",
   "id": "7fb28f10-e3dd-47d4-bfaa-867a5ecb2af4",
   "metadata": {},
   "source": [
    "<br>\n",
    "\n",
    "Pro chystání užitečnějších abstrakcí můžeš pracovat s knihovnou `abc`:"
   ]
  },
  {
   "cell_type": "code",
   "execution_count": null,
   "id": "66876c1e-c3b4-470e-92a9-419512f8f297",
   "metadata": {
    "tags": []
   },
   "outputs": [],
   "source": [
    "class Uzivatel(ABC):\n",
    "    def __init__(self, jmeno: str, email: str):\n",
    "        self.email = email\n",
    "        self.jmeno = jmeno\n",
    "\n",
    "    @abstractmethod\n",
    "    def typ_uctu(self):\n",
    "        \"\"\"Zprocesuje mi nastavení správného typu účtu.\"\"\"\n",
    "        pass"
   ]
  },
  {
   "cell_type": "markdown",
   "id": "b9ea6c55-f32b-4c1c-9132-199550282878",
   "metadata": {},
   "source": [
    "Nyní potřebuješ vytvořit různé **typy účtů**.\n",
    "\n",
    "<br>\n",
    "\n",
    "Např. 3 různé předplatitelné scénaře typu:\n",
    "1. **Gold**, (100 CZK/mo)\n",
    "2. **Platinum**, (200 CZK/mo),\n",
    "3. **Diamond**, (300 CZK/mo)."
   ]
  },
  {
   "cell_type": "code",
   "execution_count": null,
   "id": "9e784fbc-3c58-48f9-96b6-b3de3e15267b",
   "metadata": {
    "tags": []
   },
   "outputs": [],
   "source": [
    "class GoldUcet(Uzivatel):\n",
    "    CENA_GOLD_UCTU: int = 100\n",
    "        \n",
    "    def typ_uctu(self):\n",
    "        print(f\"Uživatel: {self.jmeno} zvolil účet Gold, cena: {self.CENA_GOLD_UCTU}.\")"
   ]
  },
  {
   "cell_type": "code",
   "execution_count": null,
   "id": "fc312cf9-4884-43b4-84d5-89f1e8b21951",
   "metadata": {
    "tags": []
   },
   "outputs": [],
   "source": [
    "class PlatinumUcet(Uzivatel):\n",
    "    CENA_PLATINUM_UCTU: int = 200\n",
    "        \n",
    "    def typ_uctu(self):\n",
    "        print( f\"Uživatel: {self.jmeno} zvolil účet Platinum, cena: {self.CENA_PLATINUM_UCTU}.\")"
   ]
  },
  {
   "cell_type": "code",
   "execution_count": null,
   "id": "4d40b708-29ad-4e33-ba6f-4492e0413d4a",
   "metadata": {
    "tags": []
   },
   "outputs": [],
   "source": [
    "class DiamondUcet(Uzivatel):\n",
    "    CENA_DIAMOND_UCTU: int = 300\n",
    "        \n",
    "    def typ_uctu(self):\n",
    "        print( f\"Uživatel: {self.jmeno} zvolil účet Diamond, cena: {self.CENA_DIAMOND_UCTU}.\")"
   ]
  },
  {
   "cell_type": "code",
   "execution_count": null,
   "id": "e09d194b-1b8d-4313-9779-14c63ac29e0f",
   "metadata": {
    "tags": []
   },
   "outputs": [],
   "source": [
    "user_2 = GoldUcet(\"Lukáš\", \"lukas.gulas@email.cz\")\n",
    "user_2.typ_uctu()"
   ]
  },
  {
   "cell_type": "code",
   "execution_count": null,
   "id": "335f49b1-7bfe-41e2-a659-e43d3bd16637",
   "metadata": {
    "tags": []
   },
   "outputs": [],
   "source": [
    "user_3 = PlatinumUcet(\"Jan\", \"jan.adam@email.cz\")\n",
    "user_3.typ_uctu()"
   ]
  },
  {
   "cell_type": "code",
   "execution_count": null,
   "id": "0727dd16-7ff0-4e31-84eb-f217c858735f",
   "metadata": {
    "tags": []
   },
   "outputs": [],
   "source": [
    "user_4 = DiamondUcet(\"Marek\", \"marek.honza@email.cz\")\n",
    "user_4.typ_uctu()"
   ]
  },
  {
   "cell_type": "markdown",
   "id": "bb35f04a-e34b-4700-914b-4d3efe405db6",
   "metadata": {},
   "source": [
    "<br>\n",
    "\n",
    "`ABC` je objekt, kterou musíš zdědit z modulu `abc`. Python defaultně nepracuje s konceptem **abstraktních tříd jako jiné jazyky**.\n",
    "\n",
    "<br>\n",
    "\n",
    "Dále musíš označit metodu jako abstraktní metodu. Použij dekorátor `@abstractmethod`.\n",
    "\n",
    "<br>\n",
    "\n",
    "V abstraktní metodě nepíšeš žádné ohlášení, pouze dokumentaci abstraktní metody a ohlášení `pass`.\n",
    "\n",
    "Dále také nemůžeš tvořit instance pro abstraktní třídu. Složí pouze jako nějaký odkaz."
   ]
  },
  {
   "cell_type": "code",
   "execution_count": null,
   "id": "3c721847-3166-43a6-91c6-e55888469150",
   "metadata": {},
   "outputs": [],
   "source": []
  },
  {
   "cell_type": "markdown",
   "id": "d502b8f6-fcc7-4d2c-9d94-1cbd33f48a68",
   "metadata": {},
   "source": [
    "<br>\n",
    "\n",
    "### 🧠 CVIČENÍ 10 🧠, Vytvoř třídu `HerniPostava` a doplň následující:"
   ]
  },
  {
   "cell_type": "markdown",
   "id": "efb76a74-6bcd-46c5-9676-9eb2b113d1f6",
   "metadata": {
    "tags": []
   },
   "source": [
    "- Definuj abstraktní třídu `HerniPostava`, která dědí objekt `ABC` z knihovny `abc`,\n",
    "- třída`HerniPostava` pracuje s instanční atributem `_zivoty` s hodnotou `100`,\n",
    "- třída`HerniPostava` pracuje se dvěma abstraktními metodami `utok` a `obrana`,\n",
    "- definuj třídu `Rytir`, který dědí od třídy `HerniPostava` a pracuje s vlastním atributem `_zivoty` s hodnotou `150`,\n",
    "- definuj metodu `utok` pro třídu `Rytir` s vypisovanou zprávou:`Rytíř útočí mečem!`,\n",
    "- definuj metodu `obrana` pro třídu `Rytir` s vypisovanou zprávou:`Rytíř se brání štítem!`,\n",
    "- definuj třídu `Mag`, který dědí od třídy `HerniPostava` a pracuje s vlastním atributem `_zivoty` s hodnotou `80`,\n",
    "- definuj metodu `utok` pro třídu `Mag` s vypisovanou zprávou:`Mag útočí kouzlem!`,\n",
    "- definuj metodu `obrana` pro třídu `Mag` s vypisovanou zprávou:`Mag se brání magickým štítem!`."
   ]
  },
  {
   "cell_type": "code",
   "execution_count": null,
   "id": "ab32825b-c633-43f1-81bf-ac3dd0959677",
   "metadata": {
    "tags": []
   },
   "outputs": [],
   "source": []
  },
  {
   "cell_type": "code",
   "execution_count": null,
   "id": "ae315090-1249-4416-859c-ec8167fc5f56",
   "metadata": {
    "tags": []
   },
   "outputs": [],
   "source": [
    "matous_rytir = Rytir()\n",
    "lukas_mag = Mag()"
   ]
  },
  {
   "cell_type": "markdown",
   "id": "2efa5e0e-bf4f-41a9-a592-e16c2f8df0f6",
   "metadata": {},
   "source": [
    "<details>\n",
    "    <summary>▶️ Řešení</summary>\n",
    "    \n",
    "    ```\n",
    "    from abc import ABC, abstractmethod\n",
    "\n",
    "\n",
    "    class HerniPostava(ABC):\n",
    "        def __init__(self):\n",
    "            self._zivoty = 100\n",
    "\n",
    "        @abstractmethod\n",
    "        def utok(self):\n",
    "            pass\n",
    "\n",
    "        @abstractmethod\n",
    "        def obrana(self):\n",
    "            pass\n",
    "\n",
    "\n",
    "    class Rytir(HerniPostava):\n",
    "        def __init__(self):\n",
    "            super().__init__()\n",
    "            self._zivoty = 150\n",
    "\n",
    "        def utok(self):\n",
    "            print(\"Rytíř útočí mečem!\")\n",
    "\n",
    "        def obrana(self):\n",
    "            print(\"Rytíř se brání štítem!\")\n",
    "\n",
    "\n",
    "    class Mag(HerniPostava):\n",
    "        def __init__(self):\n",
    "            super().__init__()\n",
    "            self._zivoty = 80\n",
    "\n",
    "        def utok(self):\n",
    "            print(\"Mag útočí kouzlem!\")\n",
    "\n",
    "        def obrana(self):\n",
    "            print(\"Mag se brání magickým štítem!\")\n",
    "    ```\n",
    "</details>"
   ]
  },
  {
   "cell_type": "markdown",
   "id": "79925fb3-d7ca-4829-89c7-c87dd190cddd",
   "metadata": {},
   "source": [
    "---"
   ]
  }
 ],
 "metadata": {
  "kernelspec": {
   "display_name": "Python 3 (ipykernel)",
   "language": "python",
   "name": "python3"
  },
  "language_info": {
   "codemirror_mode": {
    "name": "ipython",
    "version": 3
   },
   "file_extension": ".py",
   "mimetype": "text/x-python",
   "name": "python",
   "nbconvert_exporter": "python",
   "pygments_lexer": "ipython3",
   "version": "3.8.10"
  }
 },
 "nbformat": 4,
 "nbformat_minor": 5
}
