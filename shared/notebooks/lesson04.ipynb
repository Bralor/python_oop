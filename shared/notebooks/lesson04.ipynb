{
 "cells": [
  {
   "cell_type": "markdown",
   "id": "973d2f49-9b12-4b37-b622-f5b9ed6c53dd",
   "metadata": {},
   "source": [
    "# Python objektově orientované programování"
   ]
  },
  {
   "cell_type": "markdown",
   "id": "2f1cc17d-1f49-4c5f-8521-1948ebbd1919",
   "metadata": {},
   "source": [
    "<br>\n",
    "\n",
    "## Pokročilé koncepty\n",
    "\n",
    "---"
   ]
  },
  {
   "cell_type": "markdown",
   "id": "3e27f997-c2d4-4a74-ae0d-356778449342",
   "metadata": {},
   "source": [
    "1. [SOLID principy](),\n",
    "    - [cvičení 11](#🧠-CVIČENÍ-7-🧠,-Vytvoř-třídy-CsvProcessor-a-TxtProcessor:),\n",
    "2. [zapouzdření](#Zapouzdření-(~encapsulation)),\n",
    "    - [bez zapouzdření](#Bez-konceptu-zapouzdření),\n",
    "    - [privátní objekty](#Privátní-objekty),\n",
    "    - [gettery, settery](#Gettery,-settery),\n",
    "    - [cvičení 12](#🧠-CVIČENÍ-8-🧠,-Vytvoř-třídu-AutomobilTesla-a-doplň-následující:),\n",
    "3. [dědičnost](#Dědičnost-(~inheritence)),\n",
    "    - [význam slova](#Význam-slova),\n",
    "    - [jednoduchá dědičnost](#Jednoduchá-dědičnost),\n",
    "    - [funkce super()](#Funkce-super()),\n",
    "    - [vícenásobné dělení](#Vícenásobné-dědění),\n",
    "    - [zřetězené dělení](#Zřetězené-dědění),\n",
    "    - [method resolution order](MRO-(~Method-resolution-order)),\n",
    "    - [cvičení 13](#🧠-CVIČENÍ-9-🧠,-Vytvoř-třídu-Auto-a-doplň-následující:),"
   ]
  },
  {
   "cell_type": "markdown",
   "id": "88e33367-0461-44bd-ad72-bfc8a6393e50",
   "metadata": {},
   "source": [
    "## SOLID principy\n",
    "\n",
    "---\n",
    "\n",
    "<pic>"
   ]
  },
  {
   "cell_type": "markdown",
   "id": "fe79c39e-b692-4c6c-adb8-0c73ee6a30a6",
   "metadata": {},
   "source": [
    "<img src=\"https://external-content.duckduckgo.com/iu/?u=https%3A%2F%2Ftse1.mm.bing.net%2Fth%3Fid%3DOIP.Mdjx0MdXHoH3yZPd-jadRgHaGy%26pid%3DApi&f=1&ipt=442a54ac189061e1752310f8c3f7258d868ebc936973a92c8cb43d2421934b14&ipo=image\" width=\"200\" style=\"margin-left:auto; margin-right:auto\">"
   ]
  },
  {
   "cell_type": "markdown",
   "id": "b2652399-4337-48a0-bd63-2b03a5a4fb51",
   "metadata": {},
   "source": [
    "**SOLID** je v tomto případě [akronym](https://cs.wikipedia.org/wiki/Akronym).\n",
    "\n",
    "Tato zkratka představuje **pět návrhových principů**.\n",
    "\n",
    "Jde o principy, které pomáhají vývojářům vytvářet systémy, které jsou snadno udržovatelné, robustní a škálovatelné.\n",
    "\n",
    "<br>\n",
    "\n",
    "Jde o tyto principy:\n",
    "1. **S**-ingle Responsibility,\n",
    "2. **O**-pen-Closed,\n",
    "3. **L**-iskov Substitution,\n",
    "4. **I**-nterface Segregation,\n",
    "5. **D**-ependency Inversion."
   ]
  },
  {
   "cell_type": "markdown",
   "id": "d3d1b43a-53dd-4b4f-b74a-1ec26abc046e",
   "metadata": {},
   "source": [
    "Dodržování těchto principů **není povinné**.\n",
    "\n",
    "Nevyžaduje je od tebe ani *interpret*, ani nikdo jiný.\n",
    "\n",
    "Takže není nutné, je aplikovat u každého skriptu nebo knihovny, které sám používáš.\n",
    "\n",
    "Určitě je **ale zásadní**, uvědomovat si tyto souvislosti, pokud nepíšeš skripty sám pro sebe, **ale v kolektivu**."
   ]
  },
  {
   "cell_type": "markdown",
   "id": "bff32820-c625-4527-819e-03f285053933",
   "metadata": {},
   "source": [
    "### S-ingle-Responsibility princip\n",
    "\n",
    "---"
   ]
  },
  {
   "cell_type": "markdown",
   "id": "6b6c761c-3b0b-4a8c-bfa0-c9ea385b4e5a",
   "metadata": {
    "tags": []
   },
   "source": [
    "<img src=\"https://external-content.duckduckgo.com/iu/?u=https%3A%2F%2Ftse2.mm.bing.net%2Fth%3Fid%3DOIP.nt83enlMM75FdkPBiqur4wHaJ_%26pid%3DApi&f=1&ipt=b8f020f73f5f6bfaa1807815d70f2eb1aa42a1d03340be5b03cb6d5e94c5b24e&ipo=images\" width=\"100\" style=\"margin-left:auto; margin-right:auto\">"
   ]
  },
  {
   "cell_type": "markdown",
   "id": "c444915d-eaa7-4e7d-959b-2a0aafa4675e",
   "metadata": {},
   "source": [
    "První princip se jmenuje **single responsibility**.\n",
    "\n",
    "Říká prakticky to, co nese jeho název.\n",
    "\n",
    "V ideálním scénaři by tedy měla mít **jedna třída, jednu zodpovědnost**."
   ]
  },
  {
   "cell_type": "code",
   "execution_count": 10,
   "id": "476e476a-f362-4ffe-b84a-5aef4da10124",
   "metadata": {
    "tags": []
   },
   "outputs": [],
   "source": [
    "class Kniha:\n",
    "    knihovna = list()\n",
    "    \n",
    "    def __init__(self, autor: str, titulek: str, rok_vydani: int):\n",
    "        self.autor = autor\n",
    "        self.titulek = titulek\n",
    "        self.rok_vydani = rok_vydani\n",
    "        \n",
    "    def vytvor_poznamku(self):\n",
    "        pass\n",
    "\n",
    "    def odstran_poznamku(self):\n",
    "        pass\n",
    "\n",
    "    def __str__(self) -> str:\n",
    "        pass\n",
    "\n",
    "    def pridej_do_knihovny(self) -> None:\n",
    "        self.knihovna.append(f\"{self.autor}: {self.titulek}\")"
   ]
  },
  {
   "cell_type": "markdown",
   "id": "8e1744b9-9f99-4171-ae57-b0dd17a31a71",
   "metadata": {},
   "source": [
    "<br>\n",
    "\n",
    "Třída `Kniha`, tento princip nesplňuje.\n",
    "\n",
    "Koncepčně totiž řeší problematiku jedné specifické knihy a celé poličky s knihami.\n",
    "\n",
    "Metoda `pridej_do_knihovny`, tvoří tvoji virtuální poličku, kde reprezentuje jednotlivé knížky pomocí autora a jména knihy.\n",
    "\n",
    "Tato metoda se může snadno změnit, pokud do budoucna nebudu chtít poličku ukládat jako `list` (ale třeba `dict`, `json` nebo relační databázi)."
   ]
  },
  {
   "cell_type": "code",
   "execution_count": 11,
   "id": "11c4e354-32b6-4345-a417-5c3f4372cec4",
   "metadata": {
    "tags": []
   },
   "outputs": [],
   "source": [
    "dedic_imperia = Kniha(\"Timothy Zahn\", \"Dědic impéria\", 1993)"
   ]
  },
  {
   "cell_type": "code",
   "execution_count": 12,
   "id": "3cd02c0e-94c6-4bd1-9000-f1b6115a2044",
   "metadata": {
    "tags": []
   },
   "outputs": [],
   "source": [
    "mec_osudu = Kniha(\"Andrzej Sapkowski\", \"Meč osudu\", 1992)"
   ]
  },
  {
   "cell_type": "code",
   "execution_count": 13,
   "id": "65f242ae-8ade-4f62-99cb-647d723d9ae8",
   "metadata": {
    "tags": []
   },
   "outputs": [
    {
     "data": {
      "text/plain": [
       "[]"
      ]
     },
     "execution_count": 13,
     "metadata": {},
     "output_type": "execute_result"
    }
   ],
   "source": [
    "Kniha.knihovna"
   ]
  },
  {
   "cell_type": "code",
   "execution_count": 14,
   "id": "ff8ba2be-52d6-428a-b014-e06b462303fa",
   "metadata": {
    "tags": []
   },
   "outputs": [],
   "source": [
    "dedic_imperia.pridej_do_knihovny()"
   ]
  },
  {
   "cell_type": "code",
   "execution_count": 15,
   "id": "b5ba9512-92cc-45c7-94b3-87db7111fd9e",
   "metadata": {
    "tags": []
   },
   "outputs": [],
   "source": [
    "mec_osudu.pridej_do_knihovny()"
   ]
  },
  {
   "cell_type": "code",
   "execution_count": 16,
   "id": "5eff8559-3a77-4f71-8387-9a6f1a584beb",
   "metadata": {
    "tags": []
   },
   "outputs": [
    {
     "data": {
      "text/plain": [
       "['Timothy Zahn: Dědic impéria', 'Andrzej Sapkowski: Meč osudu']"
      ]
     },
     "execution_count": 16,
     "metadata": {},
     "output_type": "execute_result"
    }
   ],
   "source": [
    "Kniha.knihovna"
   ]
  },
  {
   "cell_type": "markdown",
   "id": "64ea2ecf-5da3-4c40-9990-44b72ef5d82a",
   "metadata": {},
   "source": [
    "<br>\n",
    "\n",
    "Nyní, pokud potřebuješ upravit objekt samotné knihovny, nemáš možnost, jak ji uchopit.\n",
    "\n",
    "Pokud jí budeš chtít změnit, potřebuješ modifikovat třídu `Kniha`."
   ]
  },
  {
   "cell_type": "code",
   "execution_count": 42,
   "id": "43f8f4b2-d1ee-4ed8-8fdf-ac8eae935ae7",
   "metadata": {
    "tags": []
   },
   "outputs": [],
   "source": [
    "class Kniha:\n",
    "    \n",
    "    def __init__(self, autor: str, titulek: str, rok_vydani: int):\n",
    "        self.autor = autor\n",
    "        self.titulek = titulek\n",
    "        self.rok_vydani = rok_vydani\n",
    "        \n",
    "    def vytvor_poznamku(self):\n",
    "        pass\n",
    "\n",
    "    def odstran_poznamku(self):\n",
    "        pass\n",
    "\n",
    "    def __str__(self) -> str:\n",
    "        pass\n",
    "\n",
    "\n",
    "class Knihovna:\n",
    "    def vytvor_knihovnu(self):\n",
    "        self.knihovna = list()\n",
    "\n",
    "    def pridej_do_knihovny(self, kniha: Kniha):\n",
    "        if hasattr(self, \"knihovna\"):\n",
    "            self.knihovna.append(kniha)\n",
    "        else:\n",
    "            raise Exception(\"Knihovna neexistuje! Vytvoř ji\")\n",
    "    \n",
    "    def odstran_z_knihovny(self, kniha: Kniha):\n",
    "        if self.knihovna and kniha in self.knihovna:\n",
    "            self.knihovna.remove(kniha)\n",
    "        else:\n",
    "            raise Exception()"
   ]
  },
  {
   "cell_type": "markdown",
   "id": "6f1fdb3d-7bbb-42c3-8bd6-089008af68f7",
   "metadata": {},
   "source": [
    "<br>\n",
    "\n",
    "Tentokrát vytvoříš dva objekty s knihami:"
   ]
  },
  {
   "cell_type": "code",
   "execution_count": 43,
   "id": "97530174-3400-48eb-8cf6-162e329a0c0c",
   "metadata": {
    "tags": []
   },
   "outputs": [],
   "source": [
    "dedic_imperia = Kniha(\"Timothy Zahn\", \"Dědic impéria\", 1993)"
   ]
  },
  {
   "cell_type": "code",
   "execution_count": 44,
   "id": "320cc022-6260-49b6-9091-d864cdee0952",
   "metadata": {
    "tags": []
   },
   "outputs": [],
   "source": [
    "mec_osudu = Kniha(\"Andrzej Sapkowski\", \"Meč osudu\", 1992)"
   ]
  },
  {
   "cell_type": "markdown",
   "id": "ace0cf55-aae0-4ea3-897d-1492250a6ff1",
   "metadata": {},
   "source": [
    "<br>\n",
    "\n",
    "Nachystáš novou knihovnu, kam chceš virtuální knihy uložit:"
   ]
  },
  {
   "cell_type": "code",
   "execution_count": 45,
   "id": "3e9db489-5a2a-48c7-b44e-8d11c60eff9c",
   "metadata": {
    "tags": []
   },
   "outputs": [],
   "source": [
    "moje_policka = Knihovna()"
   ]
  },
  {
   "cell_type": "code",
   "execution_count": 46,
   "id": "63fe3ac9-6cbd-4e87-a5de-eb3d1f881bd8",
   "metadata": {
    "tags": []
   },
   "outputs": [],
   "source": [
    "moje_policka.vytvor_knihovnu()"
   ]
  },
  {
   "cell_type": "code",
   "execution_count": 49,
   "id": "16fc0963-e60a-4370-970e-aa473fc167b9",
   "metadata": {
    "tags": []
   },
   "outputs": [
    {
     "data": {
      "text/plain": [
       "{'knihovna': [<__main__.Kniha at 0x7ffb4e7a28b0>]}"
      ]
     },
     "execution_count": 49,
     "metadata": {},
     "output_type": "execute_result"
    }
   ],
   "source": [
    "moje_policka.__dict__"
   ]
  },
  {
   "cell_type": "code",
   "execution_count": 48,
   "id": "23960174-43ad-49ff-aa1a-7ea85b9804ba",
   "metadata": {
    "tags": []
   },
   "outputs": [],
   "source": [
    "moje_policka.pridej_do_knihovny(dedic_imperia)"
   ]
  },
  {
   "cell_type": "code",
   "execution_count": 50,
   "id": "56f64622-705b-4835-86ee-c98cc5046563",
   "metadata": {
    "tags": []
   },
   "outputs": [],
   "source": [
    "moje_policka.pridej_do_knihovny(mec_osudu)"
   ]
  },
  {
   "cell_type": "code",
   "execution_count": 51,
   "id": "ff1e32da-eecc-4a43-8d3b-50c39de302e3",
   "metadata": {
    "tags": []
   },
   "outputs": [
    {
     "data": {
      "text/plain": [
       "{'knihovna': [<__main__.Kniha at 0x7ffb4e7a28b0>,\n",
       "  <__main__.Kniha at 0x7ffb4e7a2550>]}"
      ]
     },
     "execution_count": 51,
     "metadata": {},
     "output_type": "execute_result"
    }
   ],
   "source": [
    "moje_policka.__dict__"
   ]
  },
  {
   "cell_type": "markdown",
   "id": "d3dce981-a460-4191-9e59-3af519ac5fac",
   "metadata": {},
   "source": [
    "<br>\n",
    "\n",
    "Zvlášť zpracováváš objekty typu:\n",
    "- `Kniha`,\n",
    "- `Knihovna`."
   ]
  },
  {
   "cell_type": "code",
   "execution_count": 55,
   "id": "fef09b1a-43a0-4abc-aecd-5bd4b0b7f366",
   "metadata": {
    "tags": []
   },
   "outputs": [
    {
     "data": {
      "text/plain": [
       "{'autor': 'Timothy Zahn', 'titulek': 'Dědic impéria', 'rok_vydani': 1993}"
      ]
     },
     "execution_count": 55,
     "metadata": {},
     "output_type": "execute_result"
    }
   ],
   "source": [
    "moje_policka.knihovna[0].__dict__"
   ]
  },
  {
   "cell_type": "markdown",
   "id": "e265e3bf-18e3-475c-839d-5a6d18bed366",
   "metadata": {},
   "source": [
    "<br>\n",
    "\n",
    "Pochopení, co má která třída provádět, může být v rámci **single responsibility** subjektivní.\n",
    "\n",
    "Dále neznamená, že pokud má mít třída **jednu zodpovědnost**, má být spojována **s počtem metod**.\n",
    "\n",
    "Jednodušše z metodiky vyplývá, že třída, její metody a atributy, se mají držet toho objektu, na který jsou chystané."
   ]
  },
  {
   "cell_type": "markdown",
   "id": "a1d9b746-29da-4c83-8f65-e760836a36e0",
   "metadata": {},
   "source": [
    "Odpovědnost není přímo spojena s počtem metod, ale s hlavním úkolem, za který je vaše třída zodpovědná, v závislosti na vaší představě o tom, co třída v kódu představuje. Tato subjektivita by vám však neměla bránit ve snaze používat SRP."
   ]
  },
  {
   "cell_type": "markdown",
   "id": "be95e7e4-8106-4d19-88fe-ecf927a1e8ed",
   "metadata": {},
   "source": [
    "Tento princip říká, že třída by měla mít jen jednu zodpovědnost.\n",
    "Například v Pythonu by třída Auto měla mít pouze funkce týkající se auta (jízda, parkování, oprava...), ale neměla by mít funkce týkající se řidiče (řízení, jídlo, spánek...)."
   ]
  },
  {
   "cell_type": "code",
   "execution_count": null,
   "id": "2e1552e1-5c5a-43ce-a261-87c2d40e25de",
   "metadata": {},
   "outputs": [],
   "source": [
    "### O-pen-Closed princip\n",
    "\n",
    "---\n"
   ]
  },
  {
   "cell_type": "code",
   "execution_count": null,
   "id": "940528b8-b002-4be8-84b9-27a4794919e8",
   "metadata": {},
   "outputs": [],
   "source": [
    "### Liskov Substitution princip\n",
    "\n",
    "---"
   ]
  },
  {
   "cell_type": "code",
   "execution_count": null,
   "id": "788dfd3f-fc96-4c49-b5a1-26a3802f362a",
   "metadata": {},
   "outputs": [],
   "source": [
    "### Interface Segregation princip\n",
    "\n",
    "---"
   ]
  },
  {
   "cell_type": "code",
   "execution_count": null,
   "id": "c4e7a780-1d14-45f8-be4c-c43041d55ce6",
   "metadata": {},
   "outputs": [],
   "source": [
    "### Dependency Inversion princip\n",
    "\n",
    "---"
   ]
  },
  {
   "cell_type": "code",
   "execution_count": null,
   "id": "244bf8b4-078e-4e5e-88be-c80ddbd4c209",
   "metadata": {},
   "outputs": [],
   "source": [
    "### Souhrn k SOLID principům\n",
    "\n",
    "---"
   ]
  },
  {
   "cell_type": "code",
   "execution_count": null,
   "id": "72c3a069-2688-468e-8951-0c05a7788643",
   "metadata": {},
   "outputs": [],
   "source": []
  },
  {
   "cell_type": "code",
   "execution_count": null,
   "id": "2f5c90c1-cb6f-412b-8e4b-21ed57ab1107",
   "metadata": {},
   "outputs": [],
   "source": [
    "## Datové třídy\n",
    "\n",
    "---"
   ]
  },
  {
   "cell_type": "code",
   "execution_count": null,
   "id": "d66bf3cd-1539-42a0-82f1-ff8e2fd0a9da",
   "metadata": {},
   "outputs": [],
   "source": []
  },
  {
   "cell_type": "code",
   "execution_count": null,
   "id": "44ebbed9-1ab1-4a83-bfec-e2ae252281df",
   "metadata": {},
   "outputs": [],
   "source": []
  },
  {
   "cell_type": "code",
   "execution_count": null,
   "id": "36c6f364-e8d1-4cec-bf05-0d9eed46fd70",
   "metadata": {},
   "outputs": [],
   "source": [
    "## OOP nejčastější úskalí\n",
    "\n",
    "---"
   ]
  }
 ],
 "metadata": {
  "kernelspec": {
   "display_name": "Python 3 (ipykernel)",
   "language": "python",
   "name": "python3"
  },
  "language_info": {
   "codemirror_mode": {
    "name": "ipython",
    "version": 3
   },
   "file_extension": ".py",
   "mimetype": "text/x-python",
   "name": "python",
   "nbconvert_exporter": "python",
   "pygments_lexer": "ipython3",
   "version": "3.8.10"
  }
 },
 "nbformat": 4,
 "nbformat_minor": 5
}
