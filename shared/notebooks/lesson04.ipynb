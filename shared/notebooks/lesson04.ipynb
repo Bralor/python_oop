{
 "cells": [
  {
   "cell_type": "markdown",
   "id": "973d2f49-9b12-4b37-b622-f5b9ed6c53dd",
   "metadata": {},
   "source": [
    "# Python objektově orientované programování"
   ]
  },
  {
   "cell_type": "markdown",
   "id": "2f1cc17d-1f49-4c5f-8521-1948ebbd1919",
   "metadata": {},
   "source": [
    "<br>\n",
    "\n",
    "## Pokročilé koncepty\n",
    "\n",
    "---"
   ]
  },
  {
   "cell_type": "markdown",
   "id": "3e27f997-c2d4-4a74-ae0d-356778449342",
   "metadata": {},
   "source": [
    "1. [SOLID principy](),\n",
    "    - [cvičení 11](#🧠-CVIČENÍ-7-🧠,-Vytvoř-třídy-CsvProcessor-a-TxtProcessor:),\n",
    "2. [zapouzdření](#Zapouzdření-(~encapsulation)),\n",
    "    - [bez zapouzdření](#Bez-konceptu-zapouzdření),\n",
    "    - [privátní objekty](#Privátní-objekty),\n",
    "    - [gettery, settery](#Gettery,-settery),\n",
    "    - [cvičení 12](#🧠-CVIČENÍ-8-🧠,-Vytvoř-třídu-AutomobilTesla-a-doplň-následující:),\n",
    "3. [dědičnost](#Dědičnost-(~inheritence)),\n",
    "    - [význam slova](#Význam-slova),\n",
    "    - [jednoduchá dědičnost](#Jednoduchá-dědičnost),\n",
    "    - [funkce super()](#Funkce-super()),\n",
    "    - [vícenásobné dělení](#Vícenásobné-dědění),\n",
    "    - [zřetězené dělení](#Zřetězené-dědění),\n",
    "    - [method resolution order](MRO-(~Method-resolution-order)),\n",
    "    - [cvičení 13](#🧠-CVIČENÍ-9-🧠,-Vytvoř-třídu-Auto-a-doplň-následující:),"
   ]
  },
  {
   "cell_type": "markdown",
   "id": "88e33367-0461-44bd-ad72-bfc8a6393e50",
   "metadata": {},
   "source": [
    "## SOLID principy\n",
    "\n",
    "---\n",
    "\n",
    "<pic>"
   ]
  },
  {
   "cell_type": "markdown",
   "id": "fe79c39e-b692-4c6c-adb8-0c73ee6a30a6",
   "metadata": {},
   "source": [
    "<img src=\"https://external-content.duckduckgo.com/iu/?u=https%3A%2F%2Ftse1.mm.bing.net%2Fth%3Fid%3DOIP.Mdjx0MdXHoH3yZPd-jadRgHaGy%26pid%3DApi&f=1&ipt=442a54ac189061e1752310f8c3f7258d868ebc936973a92c8cb43d2421934b14&ipo=image\" width=\"200\" style=\"margin-left:auto; margin-right:auto\">"
   ]
  },
  {
   "cell_type": "markdown",
   "id": "b2652399-4337-48a0-bd63-2b03a5a4fb51",
   "metadata": {},
   "source": [
    "**SOLID** je v tomto případě [akronym](https://cs.wikipedia.org/wiki/Akronym).\n",
    "\n",
    "Tato zkratka představuje **pět návrhových principů**.\n",
    "\n",
    "Jde o principy, které pomáhají vývojářům vytvářet systémy, které jsou snadno udržovatelné, robustní a škálovatelné.\n",
    "\n",
    "<br>\n",
    "\n",
    "Jde o tyto principy:\n",
    "1. **S**-ingle Responsibility,\n",
    "2. **O**-pen-Closed,\n",
    "3. **L**-iskov Substitution,\n",
    "4. **I**-nterface Segregation,\n",
    "5. **D**-ependency Inversion."
   ]
  },
  {
   "cell_type": "markdown",
   "id": "d3d1b43a-53dd-4b4f-b74a-1ec26abc046e",
   "metadata": {},
   "source": [
    "Dodržování těchto principů **není povinné**.\n",
    "\n",
    "Nevyžaduje je od tebe ani *interpret*, ani nikdo jiný.\n",
    "\n",
    "Takže není nutné, je aplikovat u každého skriptu nebo knihovny, které sám používáš.\n",
    "\n",
    "Určitě je **ale zásadní**, uvědomovat si tyto souvislosti, pokud nepíšeš skripty sám pro sebe, **ale v kolektivu**."
   ]
  },
  {
   "cell_type": "markdown",
   "id": "bff32820-c625-4527-819e-03f285053933",
   "metadata": {},
   "source": [
    "### S-ingle-Responsibility princip\n",
    "\n",
    "---"
   ]
  },
  {
   "cell_type": "markdown",
   "id": "6b6c761c-3b0b-4a8c-bfa0-c9ea385b4e5a",
   "metadata": {
    "tags": []
   },
   "source": [
    "<img src=\"https://external-content.duckduckgo.com/iu/?u=https%3A%2F%2Ftse2.mm.bing.net%2Fth%3Fid%3DOIP.nt83enlMM75FdkPBiqur4wHaJ_%26pid%3DApi&f=1&ipt=b8f020f73f5f6bfaa1807815d70f2eb1aa42a1d03340be5b03cb6d5e94c5b24e&ipo=images\" width=\"100\" style=\"margin-left:auto; margin-right:auto\">"
   ]
  },
  {
   "cell_type": "markdown",
   "id": "c444915d-eaa7-4e7d-959b-2a0aafa4675e",
   "metadata": {},
   "source": [
    "První princip se jmenuje **single responsibility**.\n",
    "\n",
    "Říká prakticky to, co nese jeho název.\n",
    "\n",
    "V ideálním scénaři by tedy měla mít **jedna třída, jednu zodpovědnost**."
   ]
  },
  {
   "cell_type": "code",
   "execution_count": 10,
   "id": "476e476a-f362-4ffe-b84a-5aef4da10124",
   "metadata": {
    "tags": []
   },
   "outputs": [],
   "source": [
    "class Kniha:\n",
    "    knihovna = list()\n",
    "    \n",
    "    def __init__(self, autor: str, titulek: str, rok_vydani: int):\n",
    "        self.autor = autor\n",
    "        self.titulek = titulek\n",
    "        self.rok_vydani = rok_vydani\n",
    "        \n",
    "    def vytvor_poznamku(self):\n",
    "        pass\n",
    "\n",
    "    def odstran_poznamku(self):\n",
    "        pass\n",
    "\n",
    "    def __str__(self) -> str:\n",
    "        pass\n",
    "\n",
    "    def pridej_do_knihovny(self) -> None:\n",
    "        self.knihovna.append(f\"{self.autor}: {self.titulek}\")"
   ]
  },
  {
   "cell_type": "markdown",
   "id": "8e1744b9-9f99-4171-ae57-b0dd17a31a71",
   "metadata": {},
   "source": [
    "<br>\n",
    "\n",
    "Třída `Kniha`, tento princip nesplňuje.\n",
    "\n",
    "Koncepčně totiž řeší problematiku jedné specifické knihy a celé poličky s knihami.\n",
    "\n",
    "Metoda `pridej_do_knihovny`, tvoří tvoji virtuální poličku, kde reprezentuje jednotlivé knížky pomocí autora a jména knihy.\n",
    "\n",
    "Tato metoda se může snadno změnit, pokud do budoucna nebudu chtít poličku ukládat jako `list` (ale třeba `dict`, `json` nebo relační databázi)."
   ]
  },
  {
   "cell_type": "code",
   "execution_count": 11,
   "id": "11c4e354-32b6-4345-a417-5c3f4372cec4",
   "metadata": {
    "tags": []
   },
   "outputs": [],
   "source": [
    "dedic_imperia = Kniha(\"Timothy Zahn\", \"Dědic impéria\", 1993)"
   ]
  },
  {
   "cell_type": "code",
   "execution_count": 12,
   "id": "3cd02c0e-94c6-4bd1-9000-f1b6115a2044",
   "metadata": {
    "tags": []
   },
   "outputs": [],
   "source": [
    "mec_osudu = Kniha(\"Andrzej Sapkowski\", \"Meč osudu\", 1992)"
   ]
  },
  {
   "cell_type": "code",
   "execution_count": 13,
   "id": "65f242ae-8ade-4f62-99cb-647d723d9ae8",
   "metadata": {
    "tags": []
   },
   "outputs": [
    {
     "data": {
      "text/plain": [
       "[]"
      ]
     },
     "execution_count": 13,
     "metadata": {},
     "output_type": "execute_result"
    }
   ],
   "source": [
    "Kniha.knihovna"
   ]
  },
  {
   "cell_type": "code",
   "execution_count": 14,
   "id": "ff8ba2be-52d6-428a-b014-e06b462303fa",
   "metadata": {
    "tags": []
   },
   "outputs": [],
   "source": [
    "dedic_imperia.pridej_do_knihovny()"
   ]
  },
  {
   "cell_type": "code",
   "execution_count": 15,
   "id": "b5ba9512-92cc-45c7-94b3-87db7111fd9e",
   "metadata": {
    "tags": []
   },
   "outputs": [],
   "source": [
    "mec_osudu.pridej_do_knihovny()"
   ]
  },
  {
   "cell_type": "code",
   "execution_count": 16,
   "id": "5eff8559-3a77-4f71-8387-9a6f1a584beb",
   "metadata": {
    "tags": []
   },
   "outputs": [
    {
     "data": {
      "text/plain": [
       "['Timothy Zahn: Dědic impéria', 'Andrzej Sapkowski: Meč osudu']"
      ]
     },
     "execution_count": 16,
     "metadata": {},
     "output_type": "execute_result"
    }
   ],
   "source": [
    "Kniha.knihovna"
   ]
  },
  {
   "cell_type": "markdown",
   "id": "64ea2ecf-5da3-4c40-9990-44b72ef5d82a",
   "metadata": {},
   "source": [
    "<br>\n",
    "\n",
    "Nyní, pokud potřebuješ upravit objekt samotné knihovny, nemáš možnost, jak ji uchopit.\n",
    "\n",
    "Pokud jí budeš chtít změnit, potřebuješ modifikovat třídu `Kniha`."
   ]
  },
  {
   "cell_type": "code",
   "execution_count": 42,
   "id": "43f8f4b2-d1ee-4ed8-8fdf-ac8eae935ae7",
   "metadata": {
    "tags": []
   },
   "outputs": [],
   "source": [
    "class Kniha:\n",
    "    \n",
    "    def __init__(self, autor: str, titulek: str, rok_vydani: int):\n",
    "        self.autor = autor\n",
    "        self.titulek = titulek\n",
    "        self.rok_vydani = rok_vydani\n",
    "        \n",
    "    def vytvor_poznamku(self):\n",
    "        pass\n",
    "\n",
    "    def odstran_poznamku(self):\n",
    "        pass\n",
    "\n",
    "    def __str__(self) -> str:\n",
    "        pass\n",
    "\n",
    "\n",
    "class Knihovna:\n",
    "    def vytvor_knihovnu(self):\n",
    "        self.knihovna = list()\n",
    "\n",
    "    def pridej_do_knihovny(self, kniha: Kniha):\n",
    "        if hasattr(self, \"knihovna\"):\n",
    "            self.knihovna.append(kniha)\n",
    "        else:\n",
    "            raise Exception(\"Knihovna neexistuje! Vytvoř ji\")\n",
    "    \n",
    "    def odstran_z_knihovny(self, kniha: Kniha):\n",
    "        if self.knihovna and kniha in self.knihovna:\n",
    "            self.knihovna.remove(kniha)\n",
    "        else:\n",
    "            raise Exception()"
   ]
  },
  {
   "cell_type": "markdown",
   "id": "6f1fdb3d-7bbb-42c3-8bd6-089008af68f7",
   "metadata": {},
   "source": [
    "<br>\n",
    "\n",
    "Tentokrát vytvoříš dva objekty s knihami:"
   ]
  },
  {
   "cell_type": "code",
   "execution_count": 43,
   "id": "97530174-3400-48eb-8cf6-162e329a0c0c",
   "metadata": {
    "tags": []
   },
   "outputs": [],
   "source": [
    "dedic_imperia = Kniha(\"Timothy Zahn\", \"Dědic impéria\", 1993)"
   ]
  },
  {
   "cell_type": "code",
   "execution_count": 44,
   "id": "320cc022-6260-49b6-9091-d864cdee0952",
   "metadata": {
    "tags": []
   },
   "outputs": [],
   "source": [
    "mec_osudu = Kniha(\"Andrzej Sapkowski\", \"Meč osudu\", 1992)"
   ]
  },
  {
   "cell_type": "markdown",
   "id": "ace0cf55-aae0-4ea3-897d-1492250a6ff1",
   "metadata": {},
   "source": [
    "<br>\n",
    "\n",
    "Nachystáš novou knihovnu, kam chceš virtuální knihy uložit:"
   ]
  },
  {
   "cell_type": "code",
   "execution_count": 45,
   "id": "3e9db489-5a2a-48c7-b44e-8d11c60eff9c",
   "metadata": {
    "tags": []
   },
   "outputs": [],
   "source": [
    "moje_policka = Knihovna()"
   ]
  },
  {
   "cell_type": "code",
   "execution_count": 46,
   "id": "63fe3ac9-6cbd-4e87-a5de-eb3d1f881bd8",
   "metadata": {
    "tags": []
   },
   "outputs": [],
   "source": [
    "moje_policka.vytvor_knihovnu()"
   ]
  },
  {
   "cell_type": "code",
   "execution_count": 49,
   "id": "16fc0963-e60a-4370-970e-aa473fc167b9",
   "metadata": {
    "tags": []
   },
   "outputs": [
    {
     "data": {
      "text/plain": [
       "{'knihovna': [<__main__.Kniha at 0x7ffb4e7a28b0>]}"
      ]
     },
     "execution_count": 49,
     "metadata": {},
     "output_type": "execute_result"
    }
   ],
   "source": [
    "moje_policka.__dict__"
   ]
  },
  {
   "cell_type": "code",
   "execution_count": 48,
   "id": "23960174-43ad-49ff-aa1a-7ea85b9804ba",
   "metadata": {
    "tags": []
   },
   "outputs": [],
   "source": [
    "moje_policka.pridej_do_knihovny(dedic_imperia)"
   ]
  },
  {
   "cell_type": "code",
   "execution_count": 50,
   "id": "56f64622-705b-4835-86ee-c98cc5046563",
   "metadata": {
    "tags": []
   },
   "outputs": [],
   "source": [
    "moje_policka.pridej_do_knihovny(mec_osudu)"
   ]
  },
  {
   "cell_type": "code",
   "execution_count": 51,
   "id": "ff1e32da-eecc-4a43-8d3b-50c39de302e3",
   "metadata": {
    "tags": []
   },
   "outputs": [
    {
     "data": {
      "text/plain": [
       "{'knihovna': [<__main__.Kniha at 0x7ffb4e7a28b0>,\n",
       "  <__main__.Kniha at 0x7ffb4e7a2550>]}"
      ]
     },
     "execution_count": 51,
     "metadata": {},
     "output_type": "execute_result"
    }
   ],
   "source": [
    "moje_policka.__dict__"
   ]
  },
  {
   "cell_type": "markdown",
   "id": "d3dce981-a460-4191-9e59-3af519ac5fac",
   "metadata": {},
   "source": [
    "<br>\n",
    "\n",
    "Zvlášť zpracováváš objekty typu:\n",
    "- `Kniha`,\n",
    "- `Knihovna`."
   ]
  },
  {
   "cell_type": "code",
   "execution_count": 55,
   "id": "fef09b1a-43a0-4abc-aecd-5bd4b0b7f366",
   "metadata": {
    "tags": []
   },
   "outputs": [
    {
     "data": {
      "text/plain": [
       "{'autor': 'Timothy Zahn', 'titulek': 'Dědic impéria', 'rok_vydani': 1993}"
      ]
     },
     "execution_count": 55,
     "metadata": {},
     "output_type": "execute_result"
    }
   ],
   "source": [
    "moje_policka.knihovna[0].__dict__"
   ]
  },
  {
   "cell_type": "markdown",
   "id": "e265e3bf-18e3-475c-839d-5a6d18bed366",
   "metadata": {},
   "source": [
    "<br>\n",
    "\n",
    "Pochopení, co má která třída provádět, může být v rámci **single responsibility** subjektivní.\n",
    "\n",
    "Dále neznamená, že pokud má mít třída **jednu zodpovědnost**, má být spojována **s počtem metod**.\n",
    "\n",
    "Jednodušše z metodiky vyplývá, že třída, její metody a atributy, se mají držet toho objektu, na který jsou chystané."
   ]
  },
  {
   "cell_type": "markdown",
   "id": "ecbd90aa-9f92-44e9-b372-030675387f35",
   "metadata": {},
   "source": [
    "### O-pen-Closed princip\n",
    "\n",
    "---\n"
   ]
  },
  {
   "cell_type": "markdown",
   "id": "8d824724-ed71-43f7-9012-c54fd3a75b63",
   "metadata": {},
   "source": [
    "<img src=\"https://external-content.duckduckgo.com/iu/?u=https%3A%2F%2Ftse1.mm.bing.net%2Fth%3Fid%3DOIP.b-OdCeOgBOuOYA3qP7EBLAHaHB%26pid%3DApi&f=1&ipt=32e2df49cd840d60bf66a77e78735ad33ef0e1e3cec95cb489089007285fd215&ipo=images\" width=\"200\" style=\"margin-left:auto; margin-right:auto\">"
   ]
  },
  {
   "cell_type": "markdown",
   "id": "3c8c8d14-0302-41fc-83ae-bf0e10d3cd97",
   "metadata": {},
   "source": [
    "Druhý princip *SOLID* se jmenuje **open-closed**.\n",
    "\n",
    "Oficiální znění:\n",
    "*Software entities (classes, modules, functions, etc.) should be open for extension, but closed for modification.*\n",
    "\n",
    "Jednodušeji řečeno: **třídy lze rozšiřovat, ale ne upravovat**:"
   ]
  },
  {
   "cell_type": "code",
   "execution_count": 4,
   "id": "246843f4-cfaf-42af-bdf4-3258ee088e38",
   "metadata": {
    "tags": []
   },
   "outputs": [],
   "source": [
    "from random import choices\n",
    "import string"
   ]
  },
  {
   "cell_type": "code",
   "execution_count": 13,
   "id": "e4987278-cc97-4a0c-b556-44f4cfc63513",
   "metadata": {
    "tags": []
   },
   "outputs": [
    {
     "data": {
      "text/plain": [
       "'9017579312'"
      ]
     },
     "execution_count": 13,
     "metadata": {},
     "output_type": "execute_result"
    }
   ],
   "source": [
    "\"\".join(choices(string.digits, k=10))"
   ]
  },
  {
   "cell_type": "code",
   "execution_count": 18,
   "id": "c3c1ffb4-9214-488e-9e31-bf98ce1c9693",
   "metadata": {
    "tags": []
   },
   "outputs": [],
   "source": [
    "class ObjednavkovyProcesor:\n",
    "    def __init__(self, jmeno: str, email: str):\n",
    "        self.jmeno = jmeno\n",
    "        self.email = email\n",
    "        \n",
    "    def vygeneruj_id(self):\n",
    "        self.objednavka_id = \"\".join(choices(string.digits, k=10))\n",
    "        \n",
    "\n",
    "class DopravniProcesor:\n",
    "    def prevoz_Balikovna(self, objednavka: ObjednavkovyProcesor) -> None:\n",
    "        print(\"Navazuji spojení na službu Balíkovna..\")\n",
    "        print(f\"Posílám email: {objednavka.email}\")\n",
    "        objednavka.doprava = True\n",
    "\n",
    "    def prevoz_Zasilkovna(self, objednavka: str):\n",
    "        print(\"Navazuji spojení na službu Zásilkovna..\")\n",
    "        print(\"Připojuji na API služby..\")\n",
    "        print(\"Probíhá výběr pobočky..\")\n",
    "        print(f\"Posílám email: {objednavka.email}\")\n",
    "        objednavka.doprava = True"
   ]
  },
  {
   "cell_type": "code",
   "execution_count": 19,
   "id": "cbb0cc74-2853-49df-8374-ad30d8035221",
   "metadata": {
    "tags": []
   },
   "outputs": [],
   "source": [
    "objednavka_matous = ObjednavkovyProcesor(\"Matouš\", \"matous@holinka.cz\")\n",
    "objednavka_matous.vygeneruj_id()"
   ]
  },
  {
   "cell_type": "code",
   "execution_count": 20,
   "id": "5b860a58-8577-4611-93a0-c2b65d50fd44",
   "metadata": {
    "tags": []
   },
   "outputs": [
    {
     "data": {
      "text/plain": [
       "{'jmeno': 'Matouš',\n",
       " 'email': 'matous@holinka.cz',\n",
       " 'objednavka_id': '7849070583'}"
      ]
     },
     "execution_count": 20,
     "metadata": {},
     "output_type": "execute_result"
    }
   ],
   "source": [
    "objednavka_matous.__dict__"
   ]
  },
  {
   "cell_type": "code",
   "execution_count": 22,
   "id": "16cb71e8-8b3e-4262-986d-60ff99b03428",
   "metadata": {
    "tags": []
   },
   "outputs": [
    {
     "name": "stdout",
     "output_type": "stream",
     "text": [
      "Navazuji spojení na službu Zásilkovna..\n",
      "Připojuji na API služby..\n",
      "Probíhá výběr pobočky..\n",
      "Posílám email: matous@holinka.cz\n"
     ]
    }
   ],
   "source": [
    "doprava_matous = DopravniProcesor()\n",
    "doprava_matous.prevoz_Zasilkovna(objednavka_matous)"
   ]
  },
  {
   "cell_type": "markdown",
   "id": "4d3a280d-18c7-4a3d-81c6-b0a990bc2b72",
   "metadata": {},
   "source": [
    "<br>\n",
    "\n",
    "Prakticky to znamená následující:\n",
    "1. Chceš **dopisovat další objekty** pro práci ve stávajícím modulu,\n",
    "2. nechceš **upravovat existující objekty**."
   ]
  },
  {
   "cell_type": "markdown",
   "id": "7bcde08c-a39c-4744-8128-cc66444ba1cd",
   "metadata": {},
   "source": [
    "Ukázku výše lze upravovat jen těžko.\n",
    "\n",
    "Pokud potřebuješ přidat **další způsob dopravy**, musíš upravit samotnou třídu `DopravniProcesor`.\n",
    "\n",
    "Obvykle je lepším řešením pro takovou situaci aplikovat abstraktní třídy:"
   ]
  },
  {
   "cell_type": "code",
   "execution_count": 25,
   "id": "2bec34ca-d458-4fc9-b354-d77649d6e153",
   "metadata": {
    "tags": []
   },
   "outputs": [],
   "source": [
    "from abc import abstractmethod, ABC"
   ]
  },
  {
   "cell_type": "code",
   "execution_count": 32,
   "id": "86e85e62-89ad-4361-8352-e67011f251db",
   "metadata": {
    "tags": []
   },
   "outputs": [],
   "source": [
    "class DopravniProcesor(ABC):\n",
    "    @abstractmethod\n",
    "    def prevoz_objednavky(self, objednavka: ObjednavkovyProcesor):\n",
    "        \"\"\"Abstraktní metoda pro výběr způsobu dopravy objednávky.\"\"\"\n",
    "        pass\n",
    "\n",
    "\n",
    "class DopravaBalikovna(DopravniProcesor):\n",
    "    def prevoz_objednavky(self, objednavka: ObjednavkovyProcesor) -> None:\n",
    "        print(\"Navazuji spojení na službu Balíkovna..\")\n",
    "        print(f\"Posílám email: {objednavka.email}\")\n",
    "        objednavka.doprava = True\n",
    "\n",
    "\n",
    "class DopravaZasilkovna(DopravniProcesor):\n",
    "    def prevoz_objednavky(self, objednavka: ObjednavkovyProcesor):\n",
    "        print(\"Navazuji spojení na službu Zásilkovna..\")\n",
    "        print(\"Připojuji na API služby..\")\n",
    "        print(\"Probíhá výběr pobočky..\")\n",
    "        print(f\"Posílám email: {objednavka.email}\")\n",
    "        objednavka.doprava = True"
   ]
  },
  {
   "cell_type": "code",
   "execution_count": 33,
   "id": "36f40daf-e412-4af7-bdfe-538a36434dcc",
   "metadata": {
    "tags": []
   },
   "outputs": [],
   "source": [
    "objednavka_matous = ObjednavkovyProcesor(\"Matouš\", \"matous@holinka.cz\")\n",
    "objednavka_matous.vygeneruj_id()"
   ]
  },
  {
   "cell_type": "code",
   "execution_count": 34,
   "id": "0196a48f-290a-48c1-b7fc-9c2000b78696",
   "metadata": {
    "tags": []
   },
   "outputs": [
    {
     "data": {
      "text/plain": [
       "{'jmeno': 'Matouš',\n",
       " 'email': 'matous@holinka.cz',\n",
       " 'objednavka_id': '3585951565'}"
      ]
     },
     "execution_count": 34,
     "metadata": {},
     "output_type": "execute_result"
    }
   ],
   "source": [
    "objednavka_matous.__dict__"
   ]
  },
  {
   "cell_type": "code",
   "execution_count": 35,
   "id": "4c295285-4fc4-4673-83ef-303012b6de79",
   "metadata": {
    "tags": []
   },
   "outputs": [
    {
     "name": "stdout",
     "output_type": "stream",
     "text": [
      "Navazuji spojení na službu Zásilkovna..\n",
      "Připojuji na API služby..\n",
      "Probíhá výběr pobočky..\n",
      "Posílám email: matous@holinka.cz\n"
     ]
    }
   ],
   "source": [
    "doprava_matous = DopravaZasilkovna()\n",
    "doprava_matous.prevoz_objednavky(objednavka_matous)"
   ]
  },
  {
   "cell_type": "markdown",
   "id": "2c201653-633e-4479-b927-913a23b94c60",
   "metadata": {},
   "source": [
    "<br>\n",
    "\n",
    "V tomto ohledu máš nachystaný prostor pro doplňování **dalších způsobů dopravy**.\n",
    "\n",
    "Dále se vyhneš zásahům **do stávajících objektů**."
   ]
  },
  {
   "cell_type": "markdown",
   "id": "df8ec96b-cd76-4070-a1c2-2860e4f6cb83",
   "metadata": {},
   "source": [
    "### Liskov Substitution princip\n",
    "\n",
    "---"
   ]
  },
  {
   "cell_type": "markdown",
   "id": "a2370c60-b5d1-4310-8221-53f8669aba86",
   "metadata": {},
   "source": [
    "<img src=\"https://external-content.duckduckgo.com/iu/?u=https%3A%2F%2Ftse4.mm.bing.net%2Fth%3Fid%3DOIP.WKUSirAjrvTsZSUQZT33TQHaHa%26pid%3DApi&f=1&ipt=b00e46b718f54560657071768bbc396942c45556df505d53c5a17adb0bc30c35&ipo=images\" width=\"200\" style=\"margin-left:auto; margin-right:auto\">"
   ]
  },
  {
   "cell_type": "markdown",
   "id": "03c933c6-d309-4583-b0c5-8180ce5ab5a3",
   "metadata": {},
   "source": [
    "[Barbara Liskova](https://en.wikipedia.org/wiki/Barbara_Liskov) v roce 1987 na konferenci [OOPSLA](https://en.wikipedia.org/wiki/OOPSLA) představila následující koncept:\n",
    "*Subtypes must be substitutable for their base types.*\n",
    "\n",
    "Prakticky lze celou teorii aplikovat na poměrně jednoduchém přirovnání:"
   ]
  },
  {
   "cell_type": "markdown",
   "id": "5b7b9284-1a9b-4f19-9878-9b36427028a3",
   "metadata": {
    "tags": []
   },
   "source": [
    "<img src=\"https://i.stack.imgur.com/ilxzO.jpg\" width=\"800\" style=\"margin-left:auto; margin-right:auto\">"
   ]
  },
  {
   "cell_type": "markdown",
   "id": "b686be2a-c74c-4e02-9ad8-5ba6985283d2",
   "metadata": {},
   "source": [
    "Obecně princip vypadá příliš vágně, ale v Pythonu můžeš rozumnět následující:\n",
    "\n",
    "Pokud máš třídu `Rodic` a potomka třídu `Potomek`, potom je proveditelné, nahradit třídu `Rodic` třídou `Potomek`, aniž by program vykazoval selhání:"
   ]
  },
  {
   "cell_type": "code",
   "execution_count": 61,
   "id": "54e606db-b730-4635-9e9d-0dab44f18bfa",
   "metadata": {
    "tags": []
   },
   "outputs": [],
   "source": [
    "class Zvire:\n",
    "    def pocet_nohou(self):\n",
    "        return 4\n",
    "\n",
    "class Kocka(Zvire):\n",
    "    pass\n",
    "    \n",
    "class Kure(Zvire):\n",
    "    def pocet_nohou(self):\n",
    "        return 2\n",
    "    \n",
    "class Had(Zvire):\n",
    "    def pocet_nohou(self):\n",
    "        return 0"
   ]
  },
  {
   "cell_type": "code",
   "execution_count": 64,
   "id": "0ea9b4b0-ca90-4afe-9cd3-9ff4653b0054",
   "metadata": {
    "tags": []
   },
   "outputs": [],
   "source": [
    "moje_nezname_zvire = Zvire()\n",
    "print(moje_nezname_zvire.pocet_nohou())"
   ]
  },
  {
   "cell_type": "markdown",
   "id": "822000e8-4ee5-45df-b5f6-8571aa19a9ae",
   "metadata": {},
   "source": [
    "<br>\n",
    "\n",
    "Všechny třídy jsou podtřídou, nebo také potomkem třídy `Zvire`.\n",
    "\n",
    "Takže pokud kdekoliv ve skriptu pracuješ se třídou `Zvire`, musíš umět tuto třídu nahradit jejími potomky.\n",
    "\n",
    "V této ukázce pomocí tříd `Kocka`, `Kure` a `Had`:"
   ]
  },
  {
   "cell_type": "code",
   "execution_count": 66,
   "id": "4ebb8df2-18d0-4080-ad48-cc865a67e711",
   "metadata": {
    "tags": []
   },
   "outputs": [
    {
     "name": "stdout",
     "output_type": "stream",
     "text": [
      "2\n"
     ]
    }
   ],
   "source": [
    "moje_nezname_zvire = Kure()\n",
    "print(moje_nezname_zvire.pocet_nohou())"
   ]
  },
  {
   "cell_type": "code",
   "execution_count": 62,
   "id": "acfc6be8-1d97-4e87-a296-23e06d1f626c",
   "metadata": {
    "tags": []
   },
   "outputs": [],
   "source": [
    "moje_kocka = Kocka()\n",
    "moje_kure = Kure()\n",
    "muj_had = Had()"
   ]
  },
  {
   "cell_type": "code",
   "execution_count": 63,
   "id": "7d923485-9e67-40a2-8ac3-f5995e2dd5dd",
   "metadata": {
    "tags": []
   },
   "outputs": [
    {
     "name": "stdout",
     "output_type": "stream",
     "text": [
      "4\n",
      "2\n",
      "0\n"
     ]
    }
   ],
   "source": [
    "print(\n",
    "    moje_kocka.pocet_nohou(),\n",
    "    moje_kure.pocet_nohou(),\n",
    "    muj_had.pocet_nohou(),\n",
    "    sep=\"\\n\"\n",
    ")"
   ]
  },
  {
   "cell_type": "code",
   "execution_count": null,
   "id": "e5746984-1eb0-4778-8462-822c19cf72fa",
   "metadata": {},
   "outputs": [],
   "source": []
  },
  {
   "cell_type": "markdown",
   "id": "3715118c-9617-420b-bc78-cfe3a303c6cf",
   "metadata": {},
   "source": [
    "### Interface Segregation princip\n",
    "\n",
    "---"
   ]
  },
  {
   "cell_type": "markdown",
   "id": "ea3c540a-4bcf-4cb8-a9de-d1b63d3bda5b",
   "metadata": {},
   "source": [
    "<img src=\"https://external-content.duckduckgo.com/iu/?u=https%3A%2F%2Ftse1.mm.bing.net%2Fth%3Fid%3DOIP.AWykJlLJFaiTthcYReAgtQHaHa%26pid%3DApi&f=1&ipt=dd3ec9af7c209cd700873d7e72f9d3f463cdefba06e1194086bdaa45265bfa35&ipo=images\" width=\"200\" style=\"margin-left:auto; margin-right:auto\">"
   ]
  },
  {
   "cell_type": "markdown",
   "id": "e2242236-ad0e-44f9-bd0f-6b338981a3ea",
   "metadata": {
    "tags": []
   },
   "source": [
    "Čtvrtý princip v pořadí zní oficiálně:"
   ]
  },
  {
   "cell_type": "markdown",
   "id": "f93e12e5-c0a8-4045-8ea7-3895f2702a62",
   "metadata": {},
   "source": [
    "*Clients should not be forced to depend upon methods that they do not use.*\n",
    "Převedeno do jednodušší řeči:\n",
    "\n",
    "Pokud má **rodičovská třída spousty objektů** (*atributů* a *metod*), **její potomci je nebudou pravděpodobně potřebovat všechny**.\n",
    "\n",
    "<br>\n",
    "\n",
    "Kvůli dědičnosti by bylo takhle možné, u potomků pracovat s objekty rodičů, které potomek nepotřebuje.\n",
    "\n",
    "Takové chování by často vedlo ke **zmatení, nepochopení nebo chybám**."
   ]
  },
  {
   "cell_type": "code",
   "execution_count": 48,
   "id": "75a759f7-baad-428c-86ad-909c005ea1c4",
   "metadata": {
    "tags": []
   },
   "outputs": [],
   "source": [
    "class Ptak:\n",
    "    def chodi(self):\n",
    "        print(\"Chodí..\")\n",
    "        \n",
    "    def leta(self):\n",
    "        print(\"Létá..\")\n",
    "        \n",
    "    def plave(self):\n",
    "        print(\"Plave..\")"
   ]
  },
  {
   "cell_type": "code",
   "execution_count": 49,
   "id": "fee55446-811e-4960-934e-535279ba273a",
   "metadata": {
    "tags": []
   },
   "outputs": [],
   "source": [
    "class Kachna(Ptak):\n",
    "    pass"
   ]
  },
  {
   "cell_type": "markdown",
   "id": "6ee67d1d-4833-4be8-aa7e-2aa94dd25130",
   "metadata": {},
   "source": [
    "<br>\n",
    "\n",
    "Třída `Kachna` je potomek třídy `Ptak` a ve všech ohledech vykazuje logické chování:"
   ]
  },
  {
   "cell_type": "code",
   "execution_count": 44,
   "id": "88724c80-a863-4ad9-be67-8a1314551b88",
   "metadata": {
    "tags": []
   },
   "outputs": [
    {
     "name": "stdout",
     "output_type": "stream",
     "text": [
      "Chodí..\n",
      "Létá..\n",
      "Plave..\n"
     ]
    }
   ],
   "source": [
    "kachna_1 = Kachna()\n",
    "kachna_1.chodi()\n",
    "kachna_1.leta()\n",
    "kachna_1.plave()"
   ]
  },
  {
   "cell_type": "markdown",
   "id": "97c5a632-eb4a-42a6-9b53-6978ea7aacdb",
   "metadata": {},
   "source": [
    "<br>\n",
    "\n",
    "Problém nastává, pokud vytvoříš nového potomka.\n",
    "\n",
    "U kterého některá z metod není logické, případně kritická:"
   ]
  },
  {
   "cell_type": "code",
   "execution_count": 45,
   "id": "7b000f02-96a2-4791-917c-5e73aea65d8e",
   "metadata": {
    "tags": []
   },
   "outputs": [],
   "source": [
    "class Tucnak(Ptak):\n",
    "    pass"
   ]
  },
  {
   "cell_type": "code",
   "execution_count": 47,
   "id": "4e726597-2791-49e5-940b-efbf502efbeb",
   "metadata": {
    "tags": []
   },
   "outputs": [
    {
     "name": "stdout",
     "output_type": "stream",
     "text": [
      "Chodí..\n",
      "Létá..\n",
      "Plave..\n"
     ]
    }
   ],
   "source": [
    "tucnak = Tucnak()\n",
    "tucnak.chodi()\n",
    "tucnak.leta()\n",
    "tucnak.plave()"
   ]
  },
  {
   "cell_type": "markdown",
   "id": "a39da510-d41a-4d9c-8d49-27a023653a6b",
   "metadata": {},
   "source": [
    "<br>\n",
    "\n",
    "**Tučňák** zcela očividně není typ ptáka, který dovede létat.\n",
    "\n",
    "U takové třídy to samozřejmě není komplikace.\n",
    "\n",
    "Jsou ale mnohem komplikovanější situace a mnohem rozsáhlejší dopady v praxi napsaných tříd."
   ]
  },
  {
   "cell_type": "code",
   "execution_count": 50,
   "id": "1e67272f-7646-4da3-b5f2-22799e6b1ee4",
   "metadata": {
    "tags": []
   },
   "outputs": [],
   "source": [
    "from abc import ABC, abstractmethod"
   ]
  },
  {
   "cell_type": "code",
   "execution_count": 51,
   "id": "27743782-6b1b-46ba-8b45-ae7db6f1203b",
   "metadata": {
    "tags": []
   },
   "outputs": [],
   "source": [
    "class Ptak(ABC):\n",
    "    \n",
    "    @abstractmethod\n",
    "    def chodi(self):\n",
    "        print(\"Chodí..\")\n",
    "\n",
    "    @abstractmethod\n",
    "    def leta(self):\n",
    "        print(\"Létá..\")\n",
    "    \n",
    "    @abstractmethod\n",
    "    def plave(self):\n",
    "        print(\"Plave..\")"
   ]
  },
  {
   "cell_type": "code",
   "execution_count": 52,
   "id": "e5b06edb-3e43-4979-900c-25fcc9e5baa9",
   "metadata": {
    "tags": []
   },
   "outputs": [],
   "source": [
    "class Kachna(Ptak):\n",
    "    def chodi(self):\n",
    "        print(\"Chodí..\")\n",
    "\n",
    "    def leta(self):\n",
    "        print(\"Létá..\")\n",
    "    \n",
    "    def plave(self):\n",
    "        print(\"Plave..\")\n",
    "\n",
    "\n",
    "class Tucnak(Ptak):\n",
    "    def chodi(self):\n",
    "        print(\"Chodí..\")\n",
    "\n",
    "    def leta(self):\n",
    "        raise NotImplementedError(\"Neumí létat\")\n",
    "    \n",
    "    def plave(self):\n",
    "        print(\"Plave..\")"
   ]
  },
  {
   "cell_type": "code",
   "execution_count": 53,
   "id": "afe89b2d-f7e4-470e-b63f-581fe671f434",
   "metadata": {
    "tags": []
   },
   "outputs": [],
   "source": [
    "kachna = Kachna()\n",
    "tucnak = Tucnak()"
   ]
  },
  {
   "cell_type": "code",
   "execution_count": 54,
   "id": "7ea472c0-814a-448f-ba35-8fc7fa43c7fd",
   "metadata": {
    "tags": []
   },
   "outputs": [
    {
     "name": "stdout",
     "output_type": "stream",
     "text": [
      "Chodí..\n",
      "Létá..\n",
      "Plave..\n"
     ]
    }
   ],
   "source": [
    "kachna.chodi()\n",
    "kachna.leta()\n",
    "kachna.plave()"
   ]
  },
  {
   "cell_type": "code",
   "execution_count": 55,
   "id": "c3e8d33c-3994-44ff-8474-0373d5360523",
   "metadata": {
    "tags": []
   },
   "outputs": [
    {
     "name": "stdout",
     "output_type": "stream",
     "text": [
      "Chodí..\n"
     ]
    },
    {
     "ename": "NotImplementedError",
     "evalue": "Neumí létat",
     "output_type": "error",
     "traceback": [
      "\u001b[0;31m---------------------------------------------------------------------------\u001b[0m",
      "\u001b[0;31mNotImplementedError\u001b[0m                       Traceback (most recent call last)",
      "Cell \u001b[0;32mIn[55], line 2\u001b[0m\n\u001b[1;32m      1\u001b[0m tucnak\u001b[38;5;241m.\u001b[39mchodi()\n\u001b[0;32m----> 2\u001b[0m \u001b[43mtucnak\u001b[49m\u001b[38;5;241;43m.\u001b[39;49m\u001b[43mleta\u001b[49m\u001b[43m(\u001b[49m\u001b[43m)\u001b[49m\n\u001b[1;32m      3\u001b[0m tucnak\u001b[38;5;241m.\u001b[39mplave()\n",
      "Cell \u001b[0;32mIn[52], line 17\u001b[0m, in \u001b[0;36mTucnak.leta\u001b[0;34m(self)\u001b[0m\n\u001b[1;32m     16\u001b[0m \u001b[38;5;28;01mdef\u001b[39;00m \u001b[38;5;21mleta\u001b[39m(\u001b[38;5;28mself\u001b[39m):\n\u001b[0;32m---> 17\u001b[0m     \u001b[38;5;28;01mraise\u001b[39;00m \u001b[38;5;167;01mNotImplementedError\u001b[39;00m(\u001b[38;5;124m\"\u001b[39m\u001b[38;5;124mNeumí létat\u001b[39m\u001b[38;5;124m\"\u001b[39m)\n",
      "\u001b[0;31mNotImplementedError\u001b[0m: Neumí létat"
     ]
    }
   ],
   "source": [
    "tucnak.chodi()\n",
    "tucnak.leta()\n",
    "tucnak.plave()"
   ]
  },
  {
   "cell_type": "markdown",
   "id": "cd2d1160-a749-4002-b023-752654e6394b",
   "metadata": {},
   "source": [
    "<br>\n",
    "\n",
    "Díky poslední úpravě, můžeš pracovat jak s rodičovskou třídou `Ptak`, tak s podtřídou `Kachna` a `Tucnak`.\n",
    "\n",
    "Přitom jejich objekty neporušují Liskovu substituci.\n",
    "\n",
    "Dále objekty, které nelze logicky aplikovat obsahují defaultní výjimku `NotImplementedError`."
   ]
  },
  {
   "cell_type": "markdown",
   "id": "cbe6bb22-9a5a-40ad-b310-00fb99096baf",
   "metadata": {},
   "source": [
    "### Dependency Inversion princip\n",
    "\n",
    "---"
   ]
  },
  {
   "cell_type": "markdown",
   "id": "9f112b62-cbfa-439e-b97f-15f211c3a66a",
   "metadata": {},
   "source": [
    "<img src=\"https://external-content.duckduckgo.com/iu/?u=https%3A%2F%2Ftse2.mm.bing.net%2Fth%3Fid%3DOIP.ElRuiSC0jD4U92GbKK7tKQHaHa%26pid%3DApi&f=1&ipt=c07283025cf1bdc16c1881fa5e49ce590b471ca9160ab4b26dddcbab30c28fe6&ipo=images\" width=\"200\" style=\"margin-left:auto; margin-right:auto\">"
   ]
  },
  {
   "cell_type": "markdown",
   "id": "96f1aafc-27c6-46cb-895a-d499fc053a61",
   "metadata": {},
   "source": [
    "Opět nejprve oficiální znění tohoto konceptu:\n",
    "*Abstractions should not depend upon details. Details should depend upon abstractions.*\n",
    "\n",
    "Tento popis ale dělá z pátého pravidla docela vágní terminologii.\n",
    "\n",
    "<br>\n",
    "\n",
    "Prakticky a lidsky můžeš konstantovat:<br>\n",
    "**Závislosti nebo také vztahy by se měly odvíjet od abstrakcí. Ne od konkrétních tříd či modulů**."
   ]
  },
  {
   "cell_type": "code",
   "execution_count": 75,
   "id": "46485ddd-b149-4601-98f9-5ed3f51ad4a3",
   "metadata": {
    "tags": []
   },
   "outputs": [],
   "source": [
    "class Kniha:\n",
    "    def __init__(self, obsah):\n",
    "        self.obsah = obsah\n",
    "\n",
    "class Tiskarna:\n",
    "    def __init__(self, kniha: Kniha):\n",
    "        self.nacteny_obsah = kniha.obsah\n",
    "\n",
    "    def vytiskni(self):\n",
    "        return f\"Tisknu obsah: {self.nacteny_obsah}\""
   ]
  },
  {
   "cell_type": "code",
   "execution_count": 84,
   "id": "7fb9eed2-5134-416a-b35c-10b273b6e7a6",
   "metadata": {
    "tags": []
   },
   "outputs": [],
   "source": [
    "class Displej:\n",
    "    def __init__(self, nactena_data):\n",
    "        self.nactena_data = nactena_data\n",
    "\n",
    "    def zobraz_nactena_data(self):\n",
    "        data = self.nactena_data.ziskej_data_ze_souboru()\n",
    "        print(f\"Display: {data.upper()}\")\n",
    "\n",
    "class ZdrojDat:\n",
    "    def ziskej_data_ze_souboru(self):\n",
    "        return \"Data z mého lokálního souboru\""
   ]
  },
  {
   "cell_type": "code",
   "execution_count": 85,
   "id": "95167b52-03de-4431-810d-38a542b66cfd",
   "metadata": {
    "tags": []
   },
   "outputs": [],
   "source": [
    "datovy_zdroj = ZdrojDat()\n",
    "muj_fe = Displej(datovy_zdroj)"
   ]
  },
  {
   "cell_type": "code",
   "execution_count": 87,
   "id": "ed324f87-e2d9-41bf-b789-557c8ec5581a",
   "metadata": {
    "tags": []
   },
   "outputs": [
    {
     "name": "stdout",
     "output_type": "stream",
     "text": [
      "Display: DATA Z MÉHO LOKÁLNÍ SOUBORU\n"
     ]
    }
   ],
   "source": [
    "muj_fe.zobraz_nactena_data()"
   ]
  },
  {
   "cell_type": "markdown",
   "id": "b555b05c-a488-4f30-90e2-20c5705520e7",
   "metadata": {},
   "source": [
    "<br>\n",
    "\n",
    "V ukázce výše můžeš vidět prohřešek oproti principu *dependency inversion*.\n",
    "\n",
    "Na první pohled můžeš říct, že třídy `Displej` a `ZdrojDat` jsou úzce provázané.\n",
    "\n",
    "Takové chování může v budoucnu omezovat programátory v dalším škálováním (růstu projektu).\n",
    "\n",
    "Třeba pokud budeš potřebovat načíst data z relační databáze:"
   ]
  },
  {
   "cell_type": "code",
   "execution_count": 88,
   "id": "df28a14a-255a-4d73-967e-913d6901bfc2",
   "metadata": {
    "tags": []
   },
   "outputs": [],
   "source": [
    "from abc import ABC, abstractmethod\n",
    "\n",
    "\n",
    "class Displej:\n",
    "    def __init__(self, nactena_data):\n",
    "        self.nactena_data = nactena_data\n",
    "\n",
    "    def zobraz_nactena_data(self):\n",
    "        data = self.nactena_data.ziskej_data_ze_souboru()\n",
    "        print(f\"Display: {data.upper()}\")\n",
    "\n",
    "\n",
    "class ZdrojDat(ABC):\n",
    "    \n",
    "    @abstractmethod\n",
    "    def ziskej_data(self):\n",
    "        pass\n",
    "\n",
    "\n",
    "class ZdrojDatJakoDatabaze(ZdrojDat):\n",
    "    def ziskej_data(self):\n",
    "        return \"Data z relační databáze.\"\n",
    "        \n",
    "class ZdrojDatJakoDatabaze(ZdrojDat):\n",
    "    def ziskej_data(self):\n",
    "        return \"Data z mého lokálního souboru\""
   ]
  },
  {
   "cell_type": "code",
   "execution_count": 76,
   "id": "2a556e4b-543e-4258-b61b-58f9337b51c4",
   "metadata": {
    "tags": []
   },
   "outputs": [],
   "source": [
    "moje_kniha = Kniha(\"abcd\")"
   ]
  },
  {
   "cell_type": "code",
   "execution_count": 77,
   "id": "e344bd51-cfb6-4f36-a613-118436896ee6",
   "metadata": {
    "tags": []
   },
   "outputs": [
    {
     "data": {
      "text/plain": [
       "'Tisknu obsah: abcd'"
      ]
     },
     "execution_count": 77,
     "metadata": {},
     "output_type": "execute_result"
    }
   ],
   "source": [
    "moje_tiskarna = Tiskarna(moje_kniha)\n",
    "moje_tiskarna.vytiskni()"
   ]
  },
  {
   "cell_type": "code",
   "execution_count": null,
   "id": "e21008fb-6150-44c2-8e63-0dee466f79a6",
   "metadata": {},
   "outputs": [],
   "source": []
  },
  {
   "cell_type": "markdown",
   "id": "d5d1263d-b7fa-4c08-bf8f-94d6fb74ab88",
   "metadata": {},
   "source": [
    "Princip obrácené závislosti, nebo také Dependency Inversion Principle (DIP), je jedním ze základních principů SOLID. Tento princip říká, že \"\". Co to v praxi znamená?"
   ]
  },
  {
   "cell_type": "code",
   "execution_count": null,
   "id": "78fd05ce-af50-493d-a400-eee93312e5e7",
   "metadata": {},
   "outputs": [],
   "source": []
  },
  {
   "cell_type": "code",
   "execution_count": null,
   "id": "93a02f5c-ce3f-4eec-926d-ed2f58cc879c",
   "metadata": {},
   "outputs": [],
   "source": []
  },
  {
   "cell_type": "code",
   "execution_count": null,
   "id": "244bf8b4-078e-4e5e-88be-c80ddbd4c209",
   "metadata": {},
   "outputs": [],
   "source": [
    "### Souhrn k SOLID principům\n",
    "\n",
    "---"
   ]
  },
  {
   "cell_type": "code",
   "execution_count": null,
   "id": "72c3a069-2688-468e-8951-0c05a7788643",
   "metadata": {},
   "outputs": [],
   "source": []
  },
  {
   "cell_type": "code",
   "execution_count": null,
   "id": "2f5c90c1-cb6f-412b-8e4b-21ed57ab1107",
   "metadata": {},
   "outputs": [],
   "source": [
    "## Datové třídy\n",
    "\n",
    "---"
   ]
  },
  {
   "cell_type": "code",
   "execution_count": null,
   "id": "d66bf3cd-1539-42a0-82f1-ff8e2fd0a9da",
   "metadata": {},
   "outputs": [],
   "source": []
  },
  {
   "cell_type": "code",
   "execution_count": null,
   "id": "44ebbed9-1ab1-4a83-bfec-e2ae252281df",
   "metadata": {},
   "outputs": [],
   "source": []
  },
  {
   "cell_type": "code",
   "execution_count": null,
   "id": "36c6f364-e8d1-4cec-bf05-0d9eed46fd70",
   "metadata": {},
   "outputs": [],
   "source": [
    "## OOP nejčastější úskalí\n",
    "\n",
    "---"
   ]
  }
 ],
 "metadata": {
  "kernelspec": {
   "display_name": "Python 3 (ipykernel)",
   "language": "python",
   "name": "python3"
  },
  "language_info": {
   "codemirror_mode": {
    "name": "ipython",
    "version": 3
   },
   "file_extension": ".py",
   "mimetype": "text/x-python",
   "name": "python",
   "nbconvert_exporter": "python",
   "pygments_lexer": "ipython3",
   "version": "3.8.10"
  }
 },
 "nbformat": 4,
 "nbformat_minor": 5
}
