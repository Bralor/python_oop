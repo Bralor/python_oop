{
 "cells": [
  {
   "cell_type": "markdown",
   "metadata": {},
   "source": [
    "# Python objektově orientované programování"
   ]
  },
  {
   "cell_type": "markdown",
   "metadata": {},
   "source": [
    "## Úvod do objektově-orientovaného programování\n",
    "---"
   ]
  },
  {
   "cell_type": "markdown",
   "metadata": {},
   "source": [
    "Ve zbytku materiálu už nebudeš dál pracovat s pojmem *objektově orientované programování*, ale pouze s jeho zkratkou **OOP**."
   ]
  },
  {
   "cell_type": "markdown",
   "metadata": {
    "tags": []
   },
   "source": [
    "1. [Úvodní prezentace](https://docs.google.com/presentation/d/1D1qXvIKM_bHSQJUUZh09ascurgroYXJtuMsgNOb8pKY/edit?usp=sharing)\n",
    "1. [Motivace OOP (FAQ)](),\n",
    "    - [co je OOP](#Co-je-objektově-orientované-programování),\n",
    "    - [proč umět OOP](#Proč-umět-OOP),\n",
    "    - [jak OOP vypadá](#Jak-OOP-vlastně-vypadá),\n",
    "    - [OOP v Pythonu](#OOP-v-Pythonu),\n",
    "2. [co je to třída](#Vytvoření-nové-třídy),\n",
    "3. [co je to instance třídy](#Instance-třídy),\n",
    "4. [vlastnosti a dovednosti](#Vlastnosti-a-dovednosti),\n",
    "    - [třídní atribut](#Třídní-atribut),\n",
    "    - [instanční atribut](#Instanční-atribut),\n",
    "    - [metoda instance](#Metoda-instance),\n",
    "    - [cvičení 1](#🧠-CVIČENÍ-🧠,-Vytvoř-třídu-BankAccount,-která-bude-mít-následující-atributy-a-metody),\n",
    "    - [cvičení 2](#🧠-CVIČENÍ-🧠,-Vytvoř-třídu-CustomerSupport,-která-bude-tvořena-následovným).\n",
    "\n",
    "<br>"
   ]
  },
  {
   "cell_type": "markdown",
   "metadata": {},
   "source": [
    "### Co je objektově orientované programování\n",
    "\n",
    "---\n",
    "\n",
    "OOP je jedno ze **základních programovacích paradigmat**.\n",
    "\n",
    "Programovací *paradigma* je v podstatě **programovací styl**.\n",
    "\n",
    "Každý programovací jazyk může podporovat dokonce **několik programovacích stylů**.\n",
    "\n",
    "Jazyk Python podporuje také několik různých stylů, tedy *paradigmat*:\n",
    "* imperativní,\n",
    "* funkcionální 🤏,\n",
    "* procedurální,\n",
    "* OOP.\n",
    "\n",
    "<br>\n",
    "\n",
    "Pokud jsou na tebe tyto pojmy zbytečně komplikované představ si, že jsi na dovolené a ptáš se na cestu:"
   ]
  },
  {
   "cell_type": "markdown",
   "metadata": {},
   "source": [
    "<img src=\"https://i.imgur.com/XY3Obww.png\" width=\"800\" style=\"margin-left:auto; margin-right:auto\"/>"
   ]
  },
  {
   "cell_type": "markdown",
   "metadata": {},
   "source": [
    "### Proč umět OOP\n",
    "\n",
    "---"
   ]
  },
  {
   "cell_type": "markdown",
   "metadata": {},
   "source": [
    "Programovací styly mezi sebou porovnávat nemůžeš. Každý se totiž lépe hodí k něčemu jinému.\n",
    "\n",
    "Můžeš na něj narazit v:\n",
    "* dokumentaci,\n",
    "* projektu,\n",
    "* knihovnách.\n",
    "\n",
    "Později tě samotného začnou napadat scénaře, kde by OOP dávalo větší smysl."
   ]
  },
  {
   "cell_type": "markdown",
   "metadata": {},
   "source": [
    "<br>\n",
    "\n",
    "K jednomu zadání, případně problém se dá ale přistoupit **různými způsoby** (viz. jazyky).\n",
    "\n",
    "Představ si programátorskou situaci, kde řídíš společnost a chceš zvýšit mzdu všem svým zaměstnancům."
   ]
  },
  {
   "cell_type": "markdown",
   "metadata": {},
   "source": [
    "#### Funkcionální řešení\n",
    "```python\n",
    "zamestnanci = [{\n",
    "   \"jmeno\": \"Matouš\",\n",
    "   \"email\": \"matous@holinka.com\",\n",
    "   \"mzda\": 99_999\n",
    "},\n",
    "{\n",
    "   \"jmeno\": \"Petr\",\n",
    "   \"email\": \"petr@svetr.com\",\n",
    "   \"mzda\": 999_999\n",
    "},\n",
    "]\n",
    "```"
   ]
  },
  {
   "cell_type": "code",
   "execution_count": null,
   "metadata": {},
   "outputs": [],
   "source": [
    "def zmen_vyplatu_zamestnance():\n",
    "    \"\"\"\n",
    "    Vyberu objekt zamestnance\n",
    "    \"\"\"\n",
    "    pass\n",
    "\n",
    "\n",
    "def projdi_vsechny_zamestnance():\n",
    "    \"\"\"\n",
    "    For cyklus\n",
    "    \"\"\"\n",
    "    pass"
   ]
  },
  {
   "cell_type": "markdown",
   "metadata": {},
   "source": [
    "* Vytvoříš sekvenci, která obsahuje **nestované slovníky** s klíči a hodnotami jako v předchozím řešení,\n",
    "* vytvoříš **uživatelskou funkci** pro úpravu výplaty `zmen_vyplatu_zamestnance(udaje_zamestnanec: dict, zmena: int)`, která vrátí kopii původního objektu s aktualizovanými hodnotami,\n",
    "* vytvoříš **uživ. funkci** pro úpravu **VŠECH výplat** `zmen_davku_vyplat(davka: list)`, ta namapuje **dávku zaměstnanců** na předchozí funkci `zmen_vyplatu_zamestnance()`\n",
    "* nakonec uložíš **nový objekt** `spokojenejsi_zamestnanci`, který obsahuje aktuální výplaty zaměstnanců.\n",
    "\n",
    "#### OOP řešení\n",
    "* Vytvoříš *model* představující `zaměstnance`,\n",
    "* přidáš modelu atributy `jméno`, `email`, `mzda`,\n",
    "* z obecného vzoru nachystáš konkrétní *instance zaměstnanců* (pro každého zaměstnance),\n",
    "* přidáš **modelu** metody *pro zvýšení mzdy* hodnoty atributu mzda."
   ]
  },
  {
   "cell_type": "markdown",
   "metadata": {},
   "source": [
    "Nicméně stejně jako u *cizích jazyků* můžeš říct, že kolik programovacích stylů ovládáš, takovým jsi programátorem."
   ]
  },
  {
   "cell_type": "code",
   "execution_count": null,
   "metadata": {},
   "outputs": [],
   "source": []
  },
  {
   "cell_type": "markdown",
   "metadata": {},
   "source": [
    "### Jak OOP vlastně vypadá\n",
    "\n",
    "---"
   ]
  },
  {
   "cell_type": "markdown",
   "metadata": {},
   "source": [
    "Jak název celého stylu napovídá, jde o práci **s objekty**.\n",
    "\n",
    "Ve *skutečném světě* je ti určitě jasné, **co je objekt**.\n",
    "\n",
    "*Objekt* je nějaká hmatatelná věc, na kterou můžeme sáhnout, cítit, k něčemu použít.\n",
    "\n",
    "<br>\n",
    "\n",
    "V programování objekt není hmatatelný předmět, ale spíše nějaký **model**.\n",
    "\n",
    "Tento model má:\n",
    "1. **vlastnosti**, pro jednoduchost jak takový model vypadá, jak jej popsat,\n",
    "2. **dovednosti**, jaké má schopnosti, co s ním můžeš provést.\n",
    "\n",
    "<br>\n",
    "\n",
    "Takže **programování orientované na objekty** směřuje k tomu, že jako programátor se snažíš zapisovat instrukce pro počítač pomocí *objektů* - *modelů*, které mají své vlastnosti a svoje dovednosti. "
   ]
  },
  {
   "cell_type": "markdown",
   "metadata": {},
   "source": [
    "<br>\n",
    "\n",
    "### OOP v Pythonu\n",
    "\n",
    "---"
   ]
  },
  {
   "cell_type": "markdown",
   "metadata": {},
   "source": [
    "<img src=\"https://external-content.duckduckgo.com/iu/?u=https%3A%2F%2Ftse1.mm.bing.net%2Fth%3Fid%3DOIP.Xm04EMVRlrlC3vSti_MHYQHaHZ%26pid%3DApi&f=1&ipt=b501297f5cc43cd0f118a6c425754c59ba3bc1032dc3ec85d8bfa735298a99c2&ipo=images\" width=\"250\" style=\"margin-left:auto; margin-right:auto\"/>"
   ]
  },
  {
   "cell_type": "markdown",
   "metadata": {},
   "source": [
    "První setkání s **OOP v Pythonu** není úplně patrné:"
   ]
  },
  {
   "cell_type": "code",
   "execution_count": 1,
   "metadata": {},
   "outputs": [
    {
     "name": "stdout",
     "output_type": "stream",
     "text": [
      "<class 'int'>\n",
      "<class 'str'>\n",
      "<class 'list'>\n",
      "<class 'dict'>\n"
     ]
    }
   ],
   "source": [
    "print(\n",
    "    type(1),\n",
    "    type(\"\"),\n",
    "    type([]),\n",
    "    type({}),\n",
    "    sep=\"\\n\"\n",
    ")"
   ]
  },
  {
   "cell_type": "markdown",
   "metadata": {},
   "source": [
    "<br>\n",
    "\n",
    "Zabudovaná funkce `type()` ti vrací ve všech případech různé **datové typy**.\n",
    "\n",
    "Současně všem těmto datovým typům předchází [klíčový výraz](https://docs.python.org/3/reference/compound_stmts.html#class-definitions) `class`, tedy **třída**.\n",
    "\n",
    "<br>\n",
    "\n",
    "\n",
    "Takže klíčové slovo `class`, nebo **třída** slouží tomu, ať můžeš vytvořit nový **třídní objekt**.\n",
    "\n",
    "A právě o práci s takovými objekty, potažmo *třídními objekty* je OOP."
   ]
  },
  {
   "cell_type": "markdown",
   "metadata": {},
   "source": [
    "## Vytvoření nové třídy\n",
    "\n",
    "---"
   ]
  },
  {
   "cell_type": "markdown",
   "metadata": {},
   "source": [
    "Následující předpis je pouze ilustrativní (ne praktický):"
   ]
  },
  {
   "cell_type": "code",
   "execution_count": 4,
   "metadata": {},
   "outputs": [],
   "source": [
    "class Zamestnanec:\n",
    "    \"\"\"Třídní objekt představující vzor zaměstnance.\"\"\"\n",
    "    pass"
   ]
  },
  {
   "cell_type": "code",
   "execution_count": 6,
   "metadata": {
    "tags": []
   },
   "outputs": [],
   "source": [
    "def zvys_mzdu():\n",
    "    pass"
   ]
  },
  {
   "cell_type": "markdown",
   "metadata": {},
   "source": [
    "<br>\n",
    "\n",
    "Na předchozím zápisu si můžeš všimnout několika rysů:\n",
    "1. `class`, klíčové slovo pro definici nového třídní objektu,\n",
    "2. `Zamestnanec`, jméno třídy, formát *CapWord* nebo také *CamelCase*, vždy jednotné číslo ([zdroj](https://www.python.org/dev/peps/pep-0008/#naming-conventions)),\n",
    "3. `:` dvojtečka, ukončující předpis,\n",
    "4. `\"\"\"Třídní objekt představující vzor zaměstnance.\"\"\"` dokumentace, popisek třídy,\n",
    "5. `pass`, prázdné ohlášení (*placeholder*) ([zdroj](https://docs.python.org/3/reference/simple_stmts.html#the-pass-statement))."
   ]
  },
  {
   "cell_type": "code",
   "execution_count": 7,
   "metadata": {
    "tags": []
   },
   "outputs": [],
   "source": [
    "class Zamestnanec:\n",
    "    \"\"\"Třídní objekt představující vzor zaměstnance.\"\"\"\n",
    "    pass"
   ]
  },
  {
   "cell_type": "code",
   "execution_count": 8,
   "metadata": {
    "tags": []
   },
   "outputs": [
    {
     "name": "stdout",
     "output_type": "stream",
     "text": [
      "<class '__main__.Zamestnanec'>\n",
      "52834992\n"
     ]
    }
   ],
   "source": [
    "print(Zamestnanec, id(Zamestnanec), sep=\"\\n\")"
   ]
  },
  {
   "cell_type": "code",
   "execution_count": 9,
   "metadata": {
    "tags": []
   },
   "outputs": [
    {
     "name": "stdout",
     "output_type": "stream",
     "text": [
      "<function zvys_mzdu at 0x7f5a6c3814c0>\n"
     ]
    }
   ],
   "source": [
    "print(zvys_mzdu)"
   ]
  },
  {
   "cell_type": "markdown",
   "metadata": {},
   "source": [
    "Tvoje třída `Zamestnanec` bohužel není příliš užitečná, ale přece existuje!\n",
    "\n",
    "<br>\n",
    "\n",
    "V ukázce výš vidíš, že funkce `type` ti vrací **různé datové typy**. Tyto *datové typy* jsou také **objekty**."
   ]
  },
  {
   "cell_type": "code",
   "execution_count": 10,
   "metadata": {
    "tags": []
   },
   "outputs": [
    {
     "name": "stdout",
     "output_type": "stream",
     "text": [
      "<class 'type'>\n"
     ]
    }
   ],
   "source": [
    "print(type(Zamestnanec))"
   ]
  },
  {
   "cell_type": "markdown",
   "metadata": {},
   "source": [
    "Pokud si budeš chtít ověřit o jaký datový typ v případě tvé **vlastní třídy**, dostaneš netradiční výstup `<class 'type'>`.\n",
    "\n",
    "Jak je to ale možné?\n",
    "\n",
    "Pro vzorový **text** dostaneš jasný výstup `str`:"
   ]
  },
  {
   "cell_type": "code",
   "execution_count": 11,
   "metadata": {
    "tags": []
   },
   "outputs": [],
   "source": [
    "jmeno = \"Matouš\""
   ]
  },
  {
   "cell_type": "code",
   "execution_count": 12,
   "metadata": {
    "tags": []
   },
   "outputs": [
    {
     "name": "stdout",
     "output_type": "stream",
     "text": [
      "<class 'str'>\n",
      "<class 'str'>\n"
     ]
    }
   ],
   "source": [
    "print(\n",
    "    type(jmeno),\n",
    "    jmeno.__class__,\n",
    "    sep=\"\\n\"\n",
    ")"
   ]
  },
  {
   "cell_type": "markdown",
   "metadata": {},
   "source": [
    "<br>\n",
    "\n",
    "Pro vzorové **desetinné číslo**, dostaneš výstup `float`: "
   ]
  },
  {
   "cell_type": "code",
   "execution_count": 13,
   "metadata": {
    "tags": []
   },
   "outputs": [],
   "source": [
    "vaha = 77.7"
   ]
  },
  {
   "cell_type": "code",
   "execution_count": 14,
   "metadata": {
    "tags": []
   },
   "outputs": [
    {
     "name": "stdout",
     "output_type": "stream",
     "text": [
      "<class 'float'>\n",
      "<class 'float'>\n"
     ]
    }
   ],
   "source": [
    "print(\n",
    "    type(vaha),\n",
    "    vaha.__class__,\n",
    "    sep=\"\\n\"\n",
    ")"
   ]
  },
  {
   "cell_type": "markdown",
   "metadata": {},
   "source": [
    "<br>\n",
    "\n",
    "Vzorec, který nyní sleduješ vypadá tak, že u konkrétní hodnoty, kterou použiješ `\"Matouš\"`, `77.7`, ti funkce `type` vrací jakéhosi **předka nebo rodiče**.\n",
    "\n",
    "To stejné platí i pro datový typ tvojí třídy `Zamestnanec`.\n",
    "\n",
    "Aby Python dovedl tebou zapsané hodnoty zapracovat, musí k nim mít nějakou předlohu:\n",
    "* `str` --> `\"Matouš\"`,\n",
    "* `float` --> `77.7`,\n",
    "* `type` --> `Zamestnanec`."
   ]
  },
  {
   "cell_type": "markdown",
   "metadata": {},
   "source": [
    "<img src=\"https://i.imgur.com/z0XN2Gh.png\" width=\"800\" style=\"margin-left:auto; margin-right:auto\">"
   ]
  },
  {
   "cell_type": "markdown",
   "metadata": {},
   "source": [
    "([zdroj](https://www.python.org/download/releases/2.2/descrintro/))"
   ]
  },
  {
   "cell_type": "markdown",
   "metadata": {},
   "source": [
    "## Instance třídy\n",
    "\n",
    "---\n",
    "\n",
    "Takže **třída** je v podstatě **vzor**.\n",
    "\n",
    "K čemu ti ale takové *vzory* jsou?\n",
    "\n",
    "Stejně jako pro `str` nebo `float` ti tento vzor umožní vytvořit skutečný, použitelný předmět, tzv. **instanci**."
   ]
  },
  {
   "cell_type": "markdown",
   "metadata": {},
   "source": [
    "<img src=\"https://i.imgur.com/hFOhwwV.png\" width=\"800\" style=\"margin-left:auto; margin-right:auto\">"
   ]
  },
  {
   "cell_type": "markdown",
   "metadata": {},
   "source": [
    "Podle třídy v první ukázce `Zamestnanec` schéma vypadá následovně:\n",
    "* **Třída**, nebo také předloha, vzor: `class Zamestnanec`,\n",
    "* **Instancování**, proces k vytvoření jednotlivých *zaměstnanců* podle *předlohy* (př. Matouš, Petr),\n",
    "* **Produkt**, nebo také **instance**: `matous = Zamestnanec()`, `petr = Zamestnanec()`."
   ]
  },
  {
   "cell_type": "markdown",
   "metadata": {},
   "source": [
    "Jednotlivé objekty vytvořené při procesu *instancování* jsou potom produkty (*~instance*) konkrétní mateřské třídy:"
   ]
  },
  {
   "cell_type": "code",
   "execution_count": 15,
   "metadata": {
    "tags": []
   },
   "outputs": [
    {
     "data": {
      "text/plain": [
       "set"
      ]
     },
     "execution_count": 15,
     "metadata": {},
     "output_type": "execute_result"
    }
   ],
   "source": [
    "names = {\"Matous\", \"Marek\", \"Lukas\", \"Jan\"}  # instance\n",
    "names.__class__                              # původní třída"
   ]
  },
  {
   "cell_type": "code",
   "execution_count": 16,
   "metadata": {
    "tags": []
   },
   "outputs": [
    {
     "data": {
      "text/plain": [
       "str"
      ]
     },
     "execution_count": 16,
     "metadata": {},
     "output_type": "execute_result"
    }
   ],
   "source": [
    "name = \"Matous\"                              # instance třídy\n",
    "name.__class__                               # třída, ze které jsem instanci vytvořil"
   ]
  },
  {
   "cell_type": "markdown",
   "metadata": {},
   "source": [
    "<br>\n",
    "\n",
    "### Vytvoř instanci třídy\n",
    "\n",
    "---\n",
    "\n",
    "Tvorba *instance* je proces (*instancování*), kdy použiju **jméno třídy** (*vzor*) a vytvořím **produkt** (*instanci*)."
   ]
  },
  {
   "cell_type": "code",
   "execution_count": 17,
   "metadata": {
    "tags": []
   },
   "outputs": [],
   "source": [
    "class Zamestnanec:\n",
    "    \"\"\"Třídní objekt představující vzor zaměstnance.\"\"\"\n",
    "    pass"
   ]
  },
  {
   "cell_type": "code",
   "execution_count": 18,
   "metadata": {
    "tags": []
   },
   "outputs": [],
   "source": [
    "matous = Zamestnanec()\n",
    "petr = Zamestnanec()"
   ]
  },
  {
   "cell_type": "code",
   "execution_count": 19,
   "metadata": {
    "tags": []
   },
   "outputs": [
    {
     "name": "stdout",
     "output_type": "stream",
     "text": [
      "140026339797744\n",
      "140026339797792\n",
      "<class '__main__.Zamestnanec'>\n",
      "<class '__main__.Zamestnanec'>\n"
     ]
    }
   ],
   "source": [
    "print(\n",
    "    id(matous),\n",
    "    id(petr),\n",
    "    type(matous),\n",
    "    type(petr),\n",
    "    sep=\"\\n\"\n",
    ")"
   ]
  },
  {
   "cell_type": "markdown",
   "metadata": {},
   "source": [
    "Pomocí *zabudované funkce* `isinstance` můžeš zkontrolovat, jestli *instance* patří **ke konkrétní předloze**:"
   ]
  },
  {
   "cell_type": "code",
   "execution_count": 20,
   "metadata": {
    "tags": []
   },
   "outputs": [
    {
     "name": "stdout",
     "output_type": "stream",
     "text": [
      "True\n",
      "True\n",
      "False\n"
     ]
    }
   ],
   "source": [
    "print(\n",
    "    isinstance(1, int),\n",
    "    isinstance(\"Matouš\", str),\n",
    "    isinstance(\"Matouš\", bool),\n",
    "    sep=\"\\n\"\n",
    ")"
   ]
  },
  {
   "cell_type": "code",
   "execution_count": 21,
   "metadata": {
    "tags": []
   },
   "outputs": [
    {
     "name": "stdout",
     "output_type": "stream",
     "text": [
      "True\n",
      "True\n"
     ]
    }
   ],
   "source": [
    "print(\n",
    "    isinstance(matous, Zamestnanec),\n",
    "    isinstance(petr, Zamestnanec),\n",
    "    sep=\"\\n\"\n",
    ")"
   ]
  },
  {
   "cell_type": "markdown",
   "metadata": {},
   "source": [
    "## Vlastnosti a dovednosti\n",
    "\n",
    "---"
   ]
  },
  {
   "cell_type": "markdown",
   "metadata": {},
   "source": [
    "<img src=\"https://external-content.duckduckgo.com/iu/?u=https%3A%2F%2Ftse2.mm.bing.net%2Fth%3Fid%3DOIP.9xXypbdorrZ5pQMzzrCPIgHaHa%26pid%3DApi&f=1&ipt=3d4036d594df8987445ce1ca48326993a878801b5097d772a4585d42824937ab&ipo=images\" width=\"250\" style=\"margin-left:auto; margin-right:auto\">"
   ]
  },
  {
   "cell_type": "markdown",
   "metadata": {},
   "source": [
    "V úvodu zaznělo, že objekt má:\n",
    "* **vlastnosti**, rysy, specifika, něco podle čeho jej poznáš,\n",
    "* **schopnosti**, něco dovede, něco umí.\n",
    "\n",
    "<br>\n",
    "\n",
    "V Pythonu se používají pojmy:\n",
    "* **atributy** (místo *vlastnosti*),\n",
    "* **metody** (místo *schopnosti* nebo *chování*)."
   ]
  },
  {
   "cell_type": "markdown",
   "metadata": {},
   "source": [
    "### Atributy\n",
    "\n",
    "---\n",
    "\n",
    "Jsou dva typy *atributů*:\n",
    "* **třídní**,\n",
    "* **instanční**.\n",
    "\n",
    "<br>\n",
    "\n",
    "### Třídní atribut\n",
    "\n",
    "**Třídní atribut** nebo také **třídní proměnná** je proměnná (~vlastnost), která náleží třídě samotné.\n",
    "\n",
    "Protože *třídní atribut* náleží třídě, mohu jej spřístupnit **bez vytvoření samotné instance**."
   ]
  },
  {
   "cell_type": "code",
   "execution_count": 22,
   "metadata": {
    "tags": []
   },
   "outputs": [],
   "source": [
    "class Zamestnanec:\n",
    "    \"\"\"Třídní objekt představující vzor zaměstnance.\"\"\"\n",
    "    max_dni_dovolene = 20"
   ]
  },
  {
   "cell_type": "code",
   "execution_count": 23,
   "metadata": {
    "tags": []
   },
   "outputs": [],
   "source": [
    "matous = Zamestnanec()\n",
    "petr = Zamestnanec()"
   ]
  },
  {
   "cell_type": "code",
   "execution_count": 24,
   "metadata": {
    "tags": []
   },
   "outputs": [
    {
     "name": "stdout",
     "output_type": "stream",
     "text": [
      "20\n"
     ]
    }
   ],
   "source": [
    "print(matous.max_dni_dovolene)"
   ]
  },
  {
   "cell_type": "code",
   "execution_count": 25,
   "metadata": {
    "tags": []
   },
   "outputs": [
    {
     "name": "stdout",
     "output_type": "stream",
     "text": [
      "20\n"
     ]
    }
   ],
   "source": [
    "print(petr.max_dni_dovolene)"
   ]
  },
  {
   "cell_type": "markdown",
   "metadata": {},
   "source": [
    "<br>\n",
    "\n",
    "Bez přístupu k samotné *instanci*:"
   ]
  },
  {
   "cell_type": "code",
   "execution_count": 26,
   "metadata": {
    "tags": []
   },
   "outputs": [
    {
     "name": "stdout",
     "output_type": "stream",
     "text": [
      "20\n"
     ]
    }
   ],
   "source": [
    "print(Zamestnanec.max_dni_dovolene)"
   ]
  },
  {
   "cell_type": "markdown",
   "metadata": {},
   "source": [
    "Pokud je *třídní atribut* **nezměnitelný** (tedy *immutable*), můžeš přepsat jeho hodnotu **POUZE v rámci instance**."
   ]
  },
  {
   "cell_type": "code",
   "execution_count": 27,
   "metadata": {},
   "outputs": [],
   "source": [
    "matous.max_dni_dovolene = 25"
   ]
  },
  {
   "cell_type": "code",
   "execution_count": 28,
   "metadata": {},
   "outputs": [
    {
     "name": "stdout",
     "output_type": "stream",
     "text": [
      "25\n",
      "20\n",
      "20\n"
     ]
    }
   ],
   "source": [
    "print(\n",
    "    matous.max_dni_dovolene,\n",
    "    petr.max_dni_dovolene,\n",
    "    Zamestnanec.max_dni_dovolene,\n",
    "    sep=\"\\n\"\n",
    ")"
   ]
  },
  {
   "cell_type": "markdown",
   "metadata": {},
   "source": [
    "Všimni si, že úprava hodnoty v rámci instance `matous` nemá vliv ani na původní třídů, ani na instanci `petr`."
   ]
  },
  {
   "cell_type": "markdown",
   "metadata": {},
   "source": [
    "Pouze pokud přepíšeš původní hodnotu přímo **v definici třídy**, potom změníš hodnotu *třídního atributu* také pro **instance třídy**."
   ]
  },
  {
   "cell_type": "code",
   "execution_count": 29,
   "metadata": {},
   "outputs": [],
   "source": [
    "Zamestnanec.max_dni_dovolene = 30"
   ]
  },
  {
   "cell_type": "code",
   "execution_count": 30,
   "metadata": {},
   "outputs": [],
   "source": [
    "matous = Zamestnanec()\n",
    "petr = Zamestnanec()"
   ]
  },
  {
   "cell_type": "code",
   "execution_count": 31,
   "metadata": {},
   "outputs": [
    {
     "name": "stdout",
     "output_type": "stream",
     "text": [
      "30\n",
      "30\n",
      "30\n"
     ]
    }
   ],
   "source": [
    "print(\n",
    "    matous.max_dni_dovolene,\n",
    "    petr.max_dni_dovolene,\n",
    "    Zamestnanec.max_dni_dovolene,\n",
    "    sep=\"\\n\"\n",
    ")"
   ]
  },
  {
   "cell_type": "markdown",
   "metadata": {},
   "source": [
    "Když vytvoříš *třídní atribut*, který **je změnitelný** (*mutable*), dávej pozor na to, jak pracuje:"
   ]
  },
  {
   "cell_type": "code",
   "execution_count": 32,
   "metadata": {},
   "outputs": [],
   "source": [
    "class Zamestnanec:\n",
    "    \"\"\"Třídní objekt představující vzor zaměstnance.\"\"\"\n",
    "    benefity = list()"
   ]
  },
  {
   "cell_type": "code",
   "execution_count": 33,
   "metadata": {},
   "outputs": [],
   "source": [
    "matous = Zamestnanec()\n",
    "petr = Zamestnanec()"
   ]
  },
  {
   "cell_type": "code",
   "execution_count": 34,
   "metadata": {},
   "outputs": [
    {
     "name": "stdout",
     "output_type": "stream",
     "text": [
      "[]\n",
      "[]\n",
      "[]\n"
     ]
    }
   ],
   "source": [
    "print(\n",
    "    matous.benefity,\n",
    "    petr.benefity,\n",
    "    Zamestnanec.benefity,\n",
    "    sep=\"\\n\"\n",
    ")"
   ]
  },
  {
   "cell_type": "markdown",
   "metadata": {},
   "source": [
    "..jakmile tentokrát upravíš *třídní atribut* v rámci **jedinné instance**.."
   ]
  },
  {
   "cell_type": "code",
   "execution_count": 35,
   "metadata": {},
   "outputs": [],
   "source": [
    "matous.benefity.append(\"Sodexo\")"
   ]
  },
  {
   "cell_type": "code",
   "execution_count": 36,
   "metadata": {},
   "outputs": [
    {
     "name": "stdout",
     "output_type": "stream",
     "text": [
      "['Sodexo']\n",
      "['Sodexo']\n",
      "['Sodexo']\n"
     ]
    }
   ],
   "source": [
    "print(\n",
    "    matous.benefity,\n",
    "    petr.benefity,\n",
    "    Zamestnanec.benefity,\n",
    "    sep=\"\\n\"\n",
    ")"
   ]
  },
  {
   "cell_type": "markdown",
   "metadata": {},
   "source": [
    "..dostaneš změněnou hodnotu v rámci **všech instancí** A TAKÉ **u vlastní třídy**.\n",
    "\n",
    "### Souhrn\n",
    "\n",
    "Pokud tedy pracuješ s *třídními atributy*, jako:\n",
    "1. **immutable** datový typ, přepis v rámci *instance* **neovlivní původní třídu** (nebo jiné *instance*),\n",
    "2. **mutable** datový typ, přepis v rámci *instance* **ovlivní původní třídu** (nebo jiné *instance*).\n",
    "\n",
    "V Pythonu se více pracuje s druhým typem atributů, tedy **instančními atributy**.\n",
    "\n",
    "*Třídní atributy* většinou slouží jako možnost napsat společnou konstantu, pomocný objekt v rámci třídy."
   ]
  },
  {
   "cell_type": "markdown",
   "metadata": {},
   "source": [
    "### Instanční atribut\n",
    "\n",
    "---\n",
    "\n",
    "**Instanční atribut**, na druhou stranu, je proměnná, která náleží **pouze vytvořené instanci**.\n",
    "\n",
    "Samotná třída k nemá přístup."
   ]
  },
  {
   "cell_type": "markdown",
   "metadata": {},
   "source": [
    "<br>\n",
    "\n",
    "#### Vytvoření třídní instance\n",
    "\n",
    "Doposud si tvořil *instance* **jen prázdné**:"
   ]
  },
  {
   "cell_type": "code",
   "execution_count": 37,
   "metadata": {},
   "outputs": [],
   "source": [
    "class Zamestnanec:\n",
    "    \"\"\"Třídní objekt představující vzor zaměstnance.\"\"\"\n",
    "    benefity = list()"
   ]
  },
  {
   "cell_type": "markdown",
   "metadata": {},
   "source": [
    "Protože nepoužíváš **instanční konstuktor**, `__init__`, vytvoříš instanci pomocí tzv. **prázdného konstruktoru**.\n",
    "\n",
    "Ovšem pokud budeš potřebovat, aby každá instance nesla odlišné atributy, budeš muset použít **speciální instační konstruktor**, metodu `__init__`."
   ]
  },
  {
   "cell_type": "markdown",
   "metadata": {},
   "source": [
    "Obecně Python používá dvě speciální metody pro tvorbu instance.\n",
    "\n",
    "Metody, které interpret potřebuje pro **vytvoření nové instance** jsou:\n",
    "1. `__new__`, *vytvoří* nový objekt (netřeba definovat),\n",
    "2. `__init__`, *inicializuje* nový objekt."
   ]
  },
  {
   "cell_type": "code",
   "execution_count": 38,
   "metadata": {},
   "outputs": [],
   "source": [
    "class Zamestnanec:\n",
    "    \"\"\"Třídní objekt představující vzor zaměstnance.\"\"\"\n",
    "\n",
    "    def __init__(self, jmeno, prijmeni):  # konstruktor nových instancí\n",
    "        self.jmeno = jmeno                # 1. instanční atribut\n",
    "        self.prijmeni = prijmeni          # 2. instanční atribut"
   ]
  },
  {
   "cell_type": "code",
   "execution_count": 39,
   "metadata": {
    "tags": []
   },
   "outputs": [
    {
     "data": {
      "text/plain": [
       "'ABC'"
      ]
     },
     "execution_count": 39,
     "metadata": {},
     "output_type": "execute_result"
    }
   ],
   "source": [
    "\"abc\".upper()"
   ]
  },
  {
   "cell_type": "markdown",
   "metadata": {},
   "source": [
    "Všimni si, že konstuktor `__init__` je nazýváný *metodou*, ale přesto vypadá jako obyčejná uživatelská funkce.\n",
    "\n",
    "V každé metodě `__init__` se definují takové atributy, které budou pro potenciální instance individuální.\n",
    "\n",
    "<br>\n",
    "\n",
    "Pokud víš, že instance zaměstnanců budou obsahovat jméno a příjmení, musíš je této metodě ukázat.\n",
    "\n",
    "Uvedeš je do parametrů a metoda `__init__` ti je přidá do *instance*."
   ]
  },
  {
   "cell_type": "code",
   "execution_count": 40,
   "metadata": {},
   "outputs": [
    {
     "name": "stdout",
     "output_type": "stream",
     "text": [
      "<__main__.Zamestnanec object at 0x7f5a6c3e2a60>\n",
      "<__main__.Zamestnanec object at 0x7f5a6c3e28b0>\n"
     ]
    }
   ],
   "source": [
    "print(\n",
    "    Zamestnanec(\"Matouš\", \"Holinka\"),\n",
    "    Zamestnanec(\"Petr\", \"Svetr\"),\n",
    "    sep=\"\\n\"\n",
    ")"
   ]
  },
  {
   "cell_type": "code",
   "execution_count": 41,
   "metadata": {},
   "outputs": [],
   "source": [
    "matous = Zamestnanec(\"Matouš\", \"Holinka\")\n",
    "petr = Zamestnanec(\"Petr\", \"Svetr\")"
   ]
  },
  {
   "cell_type": "code",
   "execution_count": 42,
   "metadata": {},
   "outputs": [
    {
     "name": "stdout",
     "output_type": "stream",
     "text": [
      "<__main__.Zamestnanec object at 0x7f5a6c3ecd30>\n",
      "<__main__.Zamestnanec object at 0x7f5a6c3ecee0>\n"
     ]
    }
   ],
   "source": [
    "print(matous, petr, sep=\"\\n\")"
   ]
  },
  {
   "cell_type": "code",
   "execution_count": 43,
   "metadata": {},
   "outputs": [
    {
     "name": "stdout",
     "output_type": "stream",
     "text": [
      "Matouš\n",
      "Holinka\n"
     ]
    }
   ],
   "source": [
    "print(\n",
    "    matous.jmeno,\n",
    "    matous.prijmeni,\n",
    "    sep=\"\\n\"\n",
    ")"
   ]
  },
  {
   "cell_type": "code",
   "execution_count": 44,
   "metadata": {},
   "outputs": [
    {
     "name": "stdout",
     "output_type": "stream",
     "text": [
      "Petr\n",
      "Svetr\n"
     ]
    }
   ],
   "source": [
    "print(\n",
    "    petr.jmeno,\n",
    "    petr.prijmeni,\n",
    "    sep=\"\\n\"\n",
    ")"
   ]
  },
  {
   "cell_type": "code",
   "execution_count": 45,
   "metadata": {
    "tags": []
   },
   "outputs": [],
   "source": [
    "def fce(x1, x2, x3):\n",
    "    pass"
   ]
  },
  {
   "cell_type": "code",
   "execution_count": 46,
   "metadata": {
    "tags": []
   },
   "outputs": [
    {
     "ename": "TypeError",
     "evalue": "fce() missing 1 required positional argument: 'x3'",
     "output_type": "error",
     "traceback": [
      "\u001b[0;31m---------------------------------------------------------------------------\u001b[0m",
      "\u001b[0;31mTypeError\u001b[0m                                 Traceback (most recent call last)",
      "Cell \u001b[0;32mIn[46], line 1\u001b[0m\n\u001b[0;32m----> 1\u001b[0m \u001b[43mfce\u001b[49m\u001b[43m(\u001b[49m\u001b[38;5;241;43m1\u001b[39;49m\u001b[43m,\u001b[49m\u001b[43m \u001b[49m\u001b[38;5;241;43m2\u001b[39;49m\u001b[43m)\u001b[49m\n",
      "\u001b[0;31mTypeError\u001b[0m: fce() missing 1 required positional argument: 'x3'"
     ]
    }
   ],
   "source": [
    "fce(1, 2)"
   ]
  },
  {
   "cell_type": "markdown",
   "metadata": {},
   "source": [
    "<br>\n",
    "\n",
    "Takže metoda `__init__` v definici třídy potřebuje parametry `self`, `jmeno`, `prijmeni`.\n",
    "\n",
    "Ale pro vytvoření **nové instance** třídy `Zamestnanec` stačilo zapsat **pouze dva argumenty**."
   ]
  },
  {
   "cell_type": "markdown",
   "metadata": {},
   "source": [
    "<br>\n",
    "\n",
    "Co potom představuje *parametr* `self`?\n",
    "\n",
    "`self` je v podstatě **pomocný odkaz**, který *interpret* pomáhá nasměřovat v okamžiku vytvoření instance:"
   ]
  },
  {
   "cell_type": "code",
   "execution_count": 38,
   "metadata": {},
   "outputs": [],
   "source": [
    "class Zamestnanec:\n",
    "    \"\"\"Třídní objekt představující vzor zaměstnance.\"\"\"\n",
    "\n",
    "    def __init__(matous, jmeno, prijmeni):  # konstruktor nových instancí\n",
    "        matous.jmeno = jmeno                # 1. instanční atribut\n",
    "        matous.prijmeni = prijmeni          # 2. instanční atribut"
   ]
  },
  {
   "cell_type": "code",
   "execution_count": 47,
   "metadata": {},
   "outputs": [],
   "source": [
    "matous = Zamestnanec(\"Matouš\", \"Holinka\")  # validní zápis pro novou instanci,\n",
    "                                           # \"matous\" je jméno instance a argument \"self\" vynecháš"
   ]
  },
  {
   "cell_type": "code",
   "execution_count": 48,
   "metadata": {},
   "outputs": [
    {
     "ename": "TypeError",
     "evalue": "__init__() takes 3 positional arguments but 4 were given",
     "output_type": "error",
     "traceback": [
      "\u001b[0;31m---------------------------------------------------------------------------\u001b[0m",
      "\u001b[0;31mTypeError\u001b[0m                                 Traceback (most recent call last)",
      "Cell \u001b[0;32mIn[48], line 2\u001b[0m\n\u001b[1;32m      1\u001b[0m \u001b[38;5;66;03m# V ukázce níže je pouze PSEUDOKÓD, pro lepší pochopení,\u001b[39;00m\n\u001b[0;32m----> 2\u001b[0m \u001b[43mZamestnanec\u001b[49m\u001b[43m(\u001b[49m\u001b[43mmatous\u001b[49m\u001b[43m,\u001b[49m\u001b[43m \u001b[49m\u001b[38;5;124;43m\"\u001b[39;49m\u001b[38;5;124;43mMatouš\u001b[39;49m\u001b[38;5;124;43m\"\u001b[39;49m\u001b[43m,\u001b[49m\u001b[43m \u001b[49m\u001b[38;5;124;43m\"\u001b[39;49m\u001b[38;5;124;43mHolinka\u001b[39;49m\u001b[38;5;124;43m\"\u001b[39;49m\u001b[43m)\u001b[49m   \u001b[38;5;66;03m# pseudokód, kde místo \"self\"\u001b[39;00m\n\u001b[1;32m      3\u001b[0m                                            \u001b[38;5;66;03m# ..uvedu jméno instance, self = \"Matouš\"\u001b[39;00m\n",
      "\u001b[0;31mTypeError\u001b[0m: __init__() takes 3 positional arguments but 4 were given"
     ]
    }
   ],
   "source": [
    "# V ukázce níže je pouze PSEUDOKÓD, pro lepší pochopení,\n",
    "Zamestnanec(matous, \"Matouš\", \"Holinka\")   # pseudokód, kde místo \"self\"\n",
    "                                           # ..uvedu jméno instance, self = \"Matouš\""
   ]
  },
  {
   "cell_type": "markdown",
   "metadata": {},
   "source": [
    "`self` je tedy nachystaný ve tvém předpisu, ve třídě `Zamestnanec` a čeká, až si budeš chtít vytvořit novou instanci.\n",
    "\n",
    "<br>\n",
    "\n",
    "Pár detailů k `self`:\n",
    "1. Záměrně se zapisuje jako **první parametr**,\n",
    "2. v jiných jazycích se označuje i jinými slovy, př. *Java* používá výraz `this`,\n",
    "3. součástí všech metod, kde chceš **zpřístupnit instanční atributy**,\n",
    "4. můžeš použít i jiný výraz než `self`, ale jako konvence se mezi ostatními programátory používá `self`."
   ]
  },
  {
   "cell_type": "markdown",
   "metadata": {},
   "source": [
    "### Metoda instance\n",
    "\n",
    "---"
   ]
  },
  {
   "cell_type": "code",
   "execution_count": 57,
   "metadata": {},
   "outputs": [],
   "source": [
    "class Zamestnanec:\n",
    "    \"\"\"Třídní objekt představující vzor zaměstnance.\"\"\"\n",
    "\n",
    "    def __init__(self, jmeno, prijmeni):  # konstruktor nových instancí\n",
    "        self.jmeno = jmeno                # 1. instanční atribut\n",
    "        self.prijmeni = prijmeni          # 2. instanční atribut\n",
    "        self.email = \"\"\n",
    "        \n",
    "    def vytvor_email(self, domena: str = \"superfirma.cz\"):\n",
    "        return f\"{self.jmeno[0].lower()}.{self.prijmeni.lower()}@{domena}\""
   ]
  },
  {
   "cell_type": "code",
   "execution_count": 58,
   "metadata": {},
   "outputs": [],
   "source": [
    "matous = Zamestnanec(\"Matouš\", \"Holinka\")"
   ]
  },
  {
   "cell_type": "code",
   "execution_count": 62,
   "metadata": {
    "tags": []
   },
   "outputs": [
    {
     "data": {
      "text/plain": [
       "'m.holinka@superfirma.cz'"
      ]
     },
     "execution_count": 62,
     "metadata": {},
     "output_type": "execute_result"
    }
   ],
   "source": [
    "matous.email"
   ]
  },
  {
   "cell_type": "code",
   "execution_count": 54,
   "metadata": {},
   "outputs": [
    {
     "name": "stdout",
     "output_type": "stream",
     "text": [
      "m.holinka@superfirma.cz\n"
     ]
    }
   ],
   "source": [
    "print(matous.vytvor_email())"
   ]
  },
  {
   "cell_type": "code",
   "execution_count": 63,
   "metadata": {},
   "outputs": [],
   "source": [
    "class Zamestnanec:\n",
    "    \"\"\"Třídní objekt představující vzor zaměstnance.\"\"\"\n",
    "\n",
    "    def __init__(self, jmeno, prijmeni):  # konstruktor nových instancí\n",
    "        self.jmeno = jmeno                # 1. instanční atribut\n",
    "        self.prijmeni = prijmeni          # 2. instanční atribut\n",
    "        self.email = self.vytvor_email()\n",
    "        \n",
    "    def vytvor_email(self, domena: str = \"superfirma.cz\"):\n",
    "        return f\"{self.jmeno[0].lower()}.{self.prijmeni.lower()}@{domena}\""
   ]
  },
  {
   "cell_type": "code",
   "execution_count": 70,
   "metadata": {},
   "outputs": [],
   "source": [
    "class Zamestnanec:\n",
    "    \"\"\"Třídní objekt představující vzor zaměstnance.\"\"\"\n",
    "\n",
    "    def __init__(self, jmeno, prijmeni):  # konstruktor nových instancí\n",
    "        self.jmeno = jmeno                # 1. instanční atribut\n",
    "        self.prijmeni = prijmeni          # 2. instanční atribut\n",
    "        \n",
    "    def vytvor_email(self, domena: str):\n",
    "        return f\"{self.jmeno[0].lower()}.{self.prijmeni.lower()}@{domena}\""
   ]
  },
  {
   "cell_type": "code",
   "execution_count": 71,
   "metadata": {},
   "outputs": [],
   "source": [
    "petr = Zamestnanec(\"Petr\", \"Svetr\")"
   ]
  },
  {
   "cell_type": "code",
   "execution_count": 73,
   "metadata": {},
   "outputs": [
    {
     "name": "stdout",
     "output_type": "stream",
     "text": [
      "p.svetr@gmail.com\n"
     ]
    }
   ],
   "source": [
    "print(petr.vytvor_email(\"gmail.com\"))"
   ]
  },
  {
   "cell_type": "markdown",
   "metadata": {},
   "source": [
    "<br>\n",
    "\n",
    "Pokud potřebuješ vytvořit novou instanci, ale **nevyžaduješ** od ní žádné konkrétní **instanční argumenty**, můžeš použít defaultní metodu `__init__` (nezapíšeš ji do třídy)."
   ]
  },
  {
   "cell_type": "code",
   "execution_count": 66,
   "metadata": {},
   "outputs": [],
   "source": [
    "class Image:\n",
    "    pass\n",
    "\n",
    "\n",
    "class ImageGenerator:\n",
    "    \"\"\"Generate images in specific resolutions.\"\"\"\n",
    "    \n",
    "    # Metoda '__init__' chybí\n",
    "    \n",
    "    def generate_low_resolution(self, content: Image, x: int = 320, y: int = 180):\n",
    "        print(f\"Generating picture (resolution:{x}x{y})\")\n",
    "    \n",
    "    def generate_medium_resolution(self, content: Image, x: int = 1200, y: int = 800):\n",
    "        print(f\"Generating picture (resolution:{x}x{y})\")\n",
    "        \n",
    "    def generate_high_resolution(self, content: Image, x: int = 3840, y: int = 2160):\n",
    "        print(f\"Generating picture (resolution:{x}x{y})\")"
   ]
  },
  {
   "cell_type": "code",
   "execution_count": 67,
   "metadata": {},
   "outputs": [],
   "source": [
    "low_res_image = ImageGenerator()"
   ]
  },
  {
   "cell_type": "code",
   "execution_count": 68,
   "metadata": {},
   "outputs": [
    {
     "name": "stdout",
     "output_type": "stream",
     "text": [
      "Generating picture (resolution:320x180)\n"
     ]
    }
   ],
   "source": [
    "low_res_image.generate_low_resolution(\"a/b/c\")"
   ]
  },
  {
   "cell_type": "code",
   "execution_count": 69,
   "metadata": {},
   "outputs": [
    {
     "name": "stdout",
     "output_type": "stream",
     "text": [
      "Generating picture (resolution:1200x800)\n"
     ]
    }
   ],
   "source": [
    "med_res_image = ImageGenerator()\n",
    "med_res_image.generate_medium_resolution(Image())"
   ]
  },
  {
   "cell_type": "code",
   "execution_count": null,
   "metadata": {},
   "outputs": [],
   "source": []
  },
  {
   "cell_type": "markdown",
   "metadata": {},
   "source": [
    "<br>\n",
    "\n",
    "### 🧠 CVIČENÍ 🧠, Vytvoř třídu `BankAccount`, která bude mít následující **atributy a metody**\n",
    "---"
   ]
  },
  {
   "cell_type": "markdown",
   "metadata": {},
   "source": [
    "- Atribut `total_accounts` (třídní atribut): celkový počet vytvořených účtů (začíná na 0)\n",
    "- atribut `account_number` (instancní atribut): jedinečné číslo účtu (např. generované automaticky nebo zadáno uživatelem)\n",
    "- atribut `balance` (instancní atribut): aktuální zůstatek na účtu (začíná na 0)\n",
    "- metoda `deposit`(požaduje parametr `amount`): vkládá zadané množství peněz na účet a aktualizuje zůstatek\n",
    "- metoda `withdraw`(požaduje parametr `amount`): vybírá zadané množství peněz z účtu a aktualizuje zůstatek (pokud je dostatek peněz na účtu)\n",
    "- metoda `get_balance()`: vrací aktuální zůstatek na účtu s časovým údajem,\n",
    "- metoda `get_total_accounts()`: vrací celkový počet vytvořených účtů\n",
    "- při vytvoření nové instance `BankAccount` automaticky inkrementuj `total_accounts` o 1.\n",
    "- vytvoř několik instancí třídy `BankAccount` s různými čísly účtů a proveď několik vkladů a výběrů.\n",
    "- zobraz zůstatek jednotlivých účtů a celkový počet vytvořených účtů."
   ]
  },
  {
   "cell_type": "markdown",
   "metadata": {},
   "source": [
    "<details>\n",
    "    <summary>▶️ Řešení</summary>\n",
    "    \n",
    "    ```\n",
    "    class BankAccount:\n",
    "        total_accounts = 0\n",
    "\n",
    "        def __init__(self, account_number):\n",
    "            self.account_number = account_number\n",
    "            self.balance = 0\n",
    "            BankAccount.total_accounts += 1\n",
    "\n",
    "        def deposit(self, amount):\n",
    "            self.balance += amount\n",
    "\n",
    "        def withdraw(self, amount):\n",
    "            if self.balance >= amount:\n",
    "                self.balance -= amount\n",
    "            else:\n",
    "                print(\"Nedostatek prostředků na účtu\")\n",
    "\n",
    "        def get_balance(self):\n",
    "            return self.balance\n",
    "    ```\n",
    "</details>"
   ]
  },
  {
   "cell_type": "markdown",
   "metadata": {},
   "source": [
    "<br>\n",
    "\n",
    "### 🧠 CVIČENÍ 🧠, Vytvoř třídu `CustomerSupport`, která bude tvořena následovným\n",
    "---"
   ]
  },
  {
   "cell_type": "markdown",
   "metadata": {},
   "source": [
    "1. Inicializace aplikace (zadáš škálu důležitosti priorit),\n",
    "2. zadáš několik nových ticketů (jméno, zpráva),\n",
    "3. zpracuješ tickety."
   ]
  },
  {
   "cell_type": "markdown",
   "metadata": {},
   "source": [
    "<br>\n",
    "\n",
    "Následný výstup:\n",
    "```\n",
    "Created: 01/12/21, 10:49:07\n",
    "Processing ticket id: 282870ec-1d00-4a5b-a57a-64219c18876f\n",
    "Issue: Klimatizace v kanceláři A123 je rozbitá!\n",
    "Customer: Petr Svetr\n",
    "Importance: 6\n",
    "==========================================================\n",
    "Created: 01/12/21, 10:49:07\n",
    "Processing ticket id: 59159bc4-f097-42f8-ad63-1ea856fabc73\n",
    "Issue: Na záchodě je pouze dvouvrstvý toaletní papír.\n",
    "Customer: Matouš Nepříjemný\n",
    "Importance: 8\n",
    "==========================================================\n",
    "Created: 01/12/21, 10:49:07\n",
    "Processing ticket id: f3cb6cac-1360-4243-a71f-a95ab188c87c\n",
    "Issue: Indexování v PyCharmu trvá hrozně dlouho\n",
    "Customer: Tereza Netrpělivá\n",
    "Importance: 7\n",
    "==========================================================\n",
    "```"
   ]
  },
  {
   "cell_type": "code",
   "execution_count": null,
   "metadata": {},
   "outputs": [],
   "source": [
    "# Iniciace aplikace (zadáme škálu důležitosti priorit),\n",
    "app = CustomerSupport(range(1, 11))\n",
    "\n",
    "# zadáme několik nových ticketů (jméno, zpráva),\n",
    "app.create_ticket(\"Petr Svetr\", \"Klimatizace v kanceláři A123 je rozbitá!\")\n",
    "app.create_ticket(\"Matouš Nepříjemný\", \"Na záchodě je pouze dvouvrstvý toaletní papír.\")\n",
    "app.create_ticket(\"Tereza Netrpělivá\", \"Indexování v PyCharmu trvá hrozně dlouho\")\n",
    "\n",
    "# zpracujeme tickety,\n",
    "app.process_ticket()"
   ]
  },
  {
   "cell_type": "markdown",
   "metadata": {},
   "source": [
    "<details>\n",
    "    <summary>▶️ Řešení</summary>\n",
    "    \n",
    "    ```\n",
    "    import uuid\n",
    "    import random\n",
    "    import datetime\n",
    "\n",
    "\n",
    "    class TicketGenerator:\n",
    "        \"\"\"Create tickets from the given parameters.\"\"\"\n",
    "        fmt: str = \"%d/%m/%y, %H:%M:%S\"\n",
    "\n",
    "        def __init__(self, user: str, issue: str):\n",
    "            self.user = user\n",
    "            self.issue = issue\n",
    "            self.uuid: uuid.UUID = uuid.uuid4()\n",
    "            self.date: str = datetime.datetime.now().strftime(self.fmt)\n",
    "\n",
    "\n",
    "    class CustomerSupport:\n",
    "        \"\"\"Process the tickets\"\"\"\n",
    "\n",
    "        def __init__(self, priority: range):\n",
    "            self.priority = priority\n",
    "            self.tickets: list = []\n",
    "\n",
    "        def create_ticket(self, user: str, issue: str) -> None:\n",
    "            self.tickets.append(TicketGenerator(user, issue))\n",
    "\n",
    "        def process_ticket(self) -> None:\n",
    "            if not self.tickets:\n",
    "                print(\"There are no unresolved tickets, well done..\")\n",
    "            else:\n",
    "                for ticket in self.tickets:\n",
    "                    importance: int = random.choice(self.priority) # add specific value as parameter\n",
    "                    self.show_status(ticket, importance)\n",
    "\n",
    "        def show_status(self, ticket: TicketGenerator, priority: int) -> None:\n",
    "            print(\n",
    "                f\"Created: {ticket.date}\",\n",
    "                f\"Processing ticket id: {ticket.uuid}\",\n",
    "                f\"Issue: {ticket.issue}\",\n",
    "                f\"Customer: {ticket.user}\",\n",
    "                f\"Importance: {priority}\",\n",
    "                \"=\" * 58,\n",
    "                sep=\"\\n\"\n",
    "            )\n",
    "    ```\n",
    "</details>"
   ]
  },
  {
   "cell_type": "markdown",
   "metadata": {},
   "source": [
    "---"
   ]
  }
 ],
 "metadata": {
  "kernelspec": {
   "display_name": "Python 3 (ipykernel)",
   "language": "python",
   "name": "python3"
  },
  "language_info": {
   "codemirror_mode": {
    "name": "ipython",
    "version": 3
   },
   "file_extension": ".py",
   "mimetype": "text/x-python",
   "name": "python",
   "nbconvert_exporter": "python",
   "pygments_lexer": "ipython3",
   "version": "3.8.10"
  }
 },
 "nbformat": 4,
 "nbformat_minor": 4
}
