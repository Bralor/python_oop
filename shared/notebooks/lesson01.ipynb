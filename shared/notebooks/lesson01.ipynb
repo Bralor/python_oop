{
 "cells": [
  {
   "cell_type": "markdown",
   "metadata": {},
   "source": [
    "# Úvod do objektově-orientovaného programování\n",
    "---"
   ]
  },
  {
   "cell_type": "markdown",
   "metadata": {},
   "source": [
    "Ve zbytku materiálu už nebudeš dál pracovat s pojmem *objektově orientované programování*, ale pouze s jeho zkratkou **OOP**."
   ]
  },
  {
   "cell_type": "markdown",
   "metadata": {},
   "source": [
    "## Co je objektově orientované programování?\n",
    "\n",
    "OOP je jedno ze **základních programovacích paradigmat**.\n",
    "\n",
    "Programovací *paradigma* je tedy v podstatě nějaký **programovací styl**.\n",
    "\n",
    "Každý programovací jazyk může podporovat dokonce **několik programovacích stylů**.\n",
    "\n",
    "Jazyk Python podporuje také několik různých stylů, tedy *paradigmat*:\n",
    "* imperativní,\n",
    "* funkcionální 🤏,\n",
    "* procedurální,\n",
    "* OOP.\n",
    "\n",
    "Pokud jsou na tebe tyto pojmy zbytečně komplikované představ si, že jsi na dovolené a ptáš se na cestu:"
   ]
  },
  {
   "cell_type": "markdown",
   "metadata": {},
   "source": [
    "<img src=\"https://i.imgur.com/XY3Obww.png\" title=\"source: imgur.com\" width=\"800\"/>"
   ]
  },
  {
   "cell_type": "markdown",
   "metadata": {},
   "source": [
    "## Proč umět OOP?"
   ]
  },
  {
   "cell_type": "markdown",
   "metadata": {},
   "source": [
    "Programovací styly mezi sebou porovnávat nemůžeš. Každý se totiž lépe hodí k něčemu jinému.\n",
    "\n",
    "Nejprve jen můžeš narazit na dokumentaci, projekt, nebo knihovnu, která s OOP pracuje.\n",
    "\n",
    "Později tě samotného začnou napadat scénaře, kde by OOP dávalo větší smysl."
   ]
  },
  {
   "cell_type": "markdown",
   "metadata": {},
   "source": [
    "<br>\n",
    "\n",
    "K jednomu zadání, případně problém se dá ale přistoupit **různými způsoby** (viz. jazyky).\n",
    "\n",
    "Představ si programátorskou situaci, kde řídíš společnost a chceš zvýšit mzdu všem svým zaměstnancům.\n",
    "\n",
    "\n",
    "#### Funkcionální řešení\n",
    "```python\n",
    "zamestnanci = [{\n",
    "   \"jmeno\": \"Matouš\",\n",
    "   \"email\": \"matous@holinka.com\",\n",
    "   \"mzda\": 99_999\n",
    "},\n",
    "{\n",
    "   \"jmeno\": \"Petr\",\n",
    "   \"email\": \"petr@svetr.com\",\n",
    "   \"mzda\": 999_999\n",
    "},\n",
    "]\n",
    "```\n",
    "* Vytvoříš sekvenci, která obsahuje **nestované slovníky** s klíči a hodnotami jako v předchozím řešení,\n",
    "* vytvoříš **uživatelskou funkci** pro úpravu výplaty `zmen_vyplatu_zamestnance(udaje_zamestnanec: dict, zmena: int)`, která vrátí kopii původního objektu s aktualizovanými hodnotami,\n",
    "* vytvoříš **uživ. funkci** pro úpravu **VŠECH výplat** `zmen_davku_vyplat(davka: list)`, ta namapuje **dávku zaměstnanců** na předchozí funkci `zmen_vyplatu_zamestnance()`\n",
    "* nakonec uložíš **nový objekt** `spokojenejsi_zamestnanci`, který obsahuje aktuální výplaty zaměstnanců.\n",
    "\n",
    "#### OOP řešení\n",
    "* Vytvoříš *model* představující `zaměstnance`,\n",
    "* přidáš modelu atributy `jméno`, `email`, `mzda`,\n",
    "* z obecného vzoru nachystáš konkrétní *instance zaměstnanců* (pro každého zaměstnance),\n",
    "* přidáš **modelu** metody *pro zvýšení mzdy* hodnoty atributu mzda."
   ]
  },
  {
   "cell_type": "markdown",
   "metadata": {},
   "source": [
    "Nicméně stejně jako u *cizích jazyků* můžeš říct, že kolik programovacích stylů ovládáš, takovým jsi programátorem."
   ]
  },
  {
   "cell_type": "code",
   "execution_count": null,
   "metadata": {},
   "outputs": [],
   "source": []
  },
  {
   "cell_type": "markdown",
   "metadata": {},
   "source": [
    "## Jak OOP vlastně vypadá?"
   ]
  },
  {
   "cell_type": "markdown",
   "metadata": {},
   "source": [
    "Jak název celého stylu napovídá, jde o práci **s objekty**.\n",
    "\n",
    "Ve *skutečném světě* je ti určitě jasné, **co je objekt**.\n",
    "\n",
    "*Objekt* je nějaká hmatatelná věc, na kterou můžeme sáhnout, cítit, k něčemu použít.\n",
    "\n",
    "<br>\n",
    "\n",
    "V programování objekt není hmatatelný předmět, ale spíše nějaký **model**.\n",
    "\n",
    "Tento model má:\n",
    "1. **vlastnosti**, pro jednoduchost jak takový model vypadá, jak jej popsat,\n",
    "2. **dovednosti**, jaké má schopnosti, co s ním můžeš provést.\n",
    "\n",
    "<br>\n",
    "\n",
    "Takže **programování orientované na objekty** směřuje k tomu, že jako programátor se snažíš zapisovat instrukce pro počítač pomocí *objektů* - *modelů*, které mají své vlastnosti a svoje dovednosti. "
   ]
  },
  {
   "cell_type": "markdown",
   "metadata": {},
   "source": [
    "<br>\n",
    "\n",
    "## OOP v Pythonu\n",
    "\n",
    "První setkání s **OOP v Pythonu&& není úplně patrné:"
   ]
  },
  {
   "cell_type": "code",
   "execution_count": 1,
   "metadata": {},
   "outputs": [
    {
     "name": "stdout",
     "output_type": "stream",
     "text": [
      "<class 'int'>\n",
      "<class 'str'>\n",
      "<class 'list'>\n",
      "<class 'dict'>\n"
     ]
    }
   ],
   "source": [
    "print(\n",
    "    type(1),\n",
    "    type(\"\"),\n",
    "    type([]),\n",
    "    type({}),\n",
    "    sep=\"\\n\"\n",
    ")"
   ]
  },
  {
   "cell_type": "markdown",
   "metadata": {},
   "source": [
    "<br>\n",
    "\n",
    "Zabudovaná funkce `type()` ti vrací ve všech případech různé **datové typy**.\n",
    "\n",
    "Současně všem těmto datovým typům předchází [klíčový výraz](https://docs.python.org/3/reference/compound_stmts.html#class-definitions) `class`, tedy **třída**.\n",
    "\n",
    "<br>\n",
    "\n",
    "\n",
    "Takže klíčové slovo `class`, nebo **třída** slouží tomu, ať můžeš vytvořit nový **třídní objekt**.\n",
    "\n",
    "A právě o práci s takovými objekty, potažmo *třídními objekty* je OOP."
   ]
  },
  {
   "cell_type": "markdown",
   "metadata": {},
   "source": [
    "## Vytvoření nové třídy\n",
    "\n",
    "---"
   ]
  },
  {
   "cell_type": "markdown",
   "metadata": {},
   "source": [
    "Následující předpis je pouze ilustrativní (ne praktický):"
   ]
  },
  {
   "cell_type": "code",
   "execution_count": null,
   "metadata": {},
   "outputs": [],
   "source": [
    "class Zamestnanec:\n",
    "    \"\"\"Třídní objekt představující vzor zaměstnance.\"\"\"\n",
    "    pass"
   ]
  },
  {
   "cell_type": "markdown",
   "metadata": {},
   "source": [
    "<br>\n",
    "\n",
    "Na předchozím zápisu si můžeš všimnout několika rysů:\n",
    "1. `class`, klíčové slovo pro definici nového třídní objektu,\n",
    "2. `Zamestnanec`, jméno třídy, formát *CapWord* nebo také *CamelCase*, vždy jednotné číslo ([zdroj](https://www.python.org/dev/peps/pep-0008/#naming-conventions)),\n",
    "3. `:` dvojtečka, ukončující předpis,\n",
    "4. `\"\"\"Třídní objekt představující vzor zaměstnance.\"\"\"` dokumentace, popisek třídy,\n",
    "5. `pass`, prázdné ohlášení (*placeholder*) ([zdroj](https://docs.python.org/3/reference/simple_stmts.html#the-pass-statement))."
   ]
  },
  {
   "cell_type": "code",
   "execution_count": 2,
   "metadata": {},
   "outputs": [],
   "source": [
    "class Zamestnanec:\n",
    "    \"\"\"Třídní objekt představující vzor zaměstnance.\"\"\"\n",
    "    pass"
   ]
  },
  {
   "cell_type": "code",
   "execution_count": 6,
   "metadata": {},
   "outputs": [
    {
     "name": "stdout",
     "output_type": "stream",
     "text": [
      "<class '__main__.Zamestnanec'>\n",
      "94425753189952\n"
     ]
    }
   ],
   "source": [
    "print(Zamestnanec, id(Zamestnanec), sep=\"\\n\")"
   ]
  },
  {
   "cell_type": "markdown",
   "metadata": {},
   "source": [
    "Tvoje třída `Zamestnanec` bohužel není příliš užitečná, ale přece existuje!\n",
    "\n",
    "<br>\n",
    "\n",
    "V ukázce výš vidíš, že funkce `type` ti vrací **různé datové typy**. Tyto *datové typy* jsou také **objekty**."
   ]
  },
  {
   "cell_type": "code",
   "execution_count": 7,
   "metadata": {},
   "outputs": [
    {
     "name": "stdout",
     "output_type": "stream",
     "text": [
      "<class 'type'>\n"
     ]
    }
   ],
   "source": [
    "print(type(Zamestnanec))"
   ]
  },
  {
   "cell_type": "markdown",
   "metadata": {},
   "source": [
    "Pokud si budeš chtít ověřit o jaký datový typ v případě tvé **vlastní třídy**, dostaneš netradiční výstup `<class 'type'>`.\n",
    "\n",
    "Jak je to ale možné?\n",
    "\n",
    "Pro vzorový **text** dostaneš jasný výstup `str`:"
   ]
  },
  {
   "cell_type": "code",
   "execution_count": 14,
   "metadata": {},
   "outputs": [],
   "source": [
    "jmeno = \"Matouš\""
   ]
  },
  {
   "cell_type": "code",
   "execution_count": 15,
   "metadata": {},
   "outputs": [
    {
     "name": "stdout",
     "output_type": "stream",
     "text": [
      "<class 'str'>\n",
      "<class 'str'>\n"
     ]
    }
   ],
   "source": [
    "print(\n",
    "    type(jmeno),\n",
    "    jmeno.__class__,\n",
    "    sep=\"\\n\"\n",
    ")"
   ]
  },
  {
   "cell_type": "markdown",
   "metadata": {},
   "source": [
    "<br>\n",
    "\n",
    "Pro vzorové **desetinné číslo**, dostaneš výstup `float`: "
   ]
  },
  {
   "cell_type": "code",
   "execution_count": 17,
   "metadata": {},
   "outputs": [],
   "source": [
    "vaha = 77.7"
   ]
  },
  {
   "cell_type": "code",
   "execution_count": 18,
   "metadata": {},
   "outputs": [
    {
     "name": "stdout",
     "output_type": "stream",
     "text": [
      "<class 'float'>\n",
      "<class 'float'>\n"
     ]
    }
   ],
   "source": [
    "print(\n",
    "    type(vaha),\n",
    "    vaha.__class__,\n",
    "    sep=\"\\n\"\n",
    ")"
   ]
  },
  {
   "cell_type": "markdown",
   "metadata": {},
   "source": [
    "Vzorec, který nyní sleduješ vypadá tak, že u konkrétní hodnoty, kterou použiješ `\"Matouš\"`, `77.7`, ti funkce `type` vrací jakéhosi **předka nebo rodiče**.\n",
    "\n",
    "To stejné platí i pro datový typ tvojí třídy `Zamestnanec`.\n",
    "\n",
    "Aby Python dovedl tebou zapsané hodnoty zapracovat, musí k nim mít nějakou předlohu:\n",
    "* `str` --> `\"Matouš\"`,\n",
    "* `float` --> `77.7`,\n",
    "* `type` --> `Zamestnanec`."
   ]
  },
  {
   "cell_type": "markdown",
   "metadata": {},
   "source": [
    "<img src=\"https://i.imgur.com/z0XN2Gh.png\" width=\"800\">"
   ]
  },
  {
   "cell_type": "markdown",
   "metadata": {},
   "source": [
    "([zdroj](https://www.python.org/download/releases/2.2/descrintro/))"
   ]
  },
  {
   "cell_type": "markdown",
   "metadata": {},
   "source": [
    "## Instance třídy\n",
    "\n",
    "---\n",
    "\n",
    "Takže **třída** je v podstatě **vzor**.\n",
    "\n",
    "K čemu ti ale takové *vzory* jsou?\n",
    "\n",
    "Stejně jako pro `str` nebo `float` ti tento vzor umožní vytvořit skutečný, použitelný předmět, tzv. **instanci**."
   ]
  },
  {
   "cell_type": "markdown",
   "metadata": {},
   "source": [
    "<img src=\"https://i.imgur.com/hFOhwwV.png\" width=\"800\">"
   ]
  },
  {
   "cell_type": "markdown",
   "metadata": {},
   "source": [
    "Podle třídy v první ukázce `Zamestnanec` schéma vypadá následovně:\n",
    "* **Třída**, nebo také předloha, vzor: `Zamestnanec`,\n",
    "* **Instancování**, proces k vytvoření jednotlivých *zaměstnanců* podle *předlohy* (př. Matouš, Petr),\n",
    "* **Produkt**, nebo také **instance**: `matous = Zamestnanec()`, `petr = Zamestnanec()`."
   ]
  },
  {
   "cell_type": "markdown",
   "metadata": {},
   "source": [
    "Jednotlivé objekty vytvořené při procesu *instancování* jsou potom produkty (*~instance*) konkrétní mateřské třídy:"
   ]
  },
  {
   "cell_type": "code",
   "execution_count": null,
   "metadata": {},
   "outputs": [],
   "source": [
    "names = {\"Matous\", \"Marek\", \"Lukas\", \"Jan\"}  # instance\n",
    "names.__class__                              # původní třída"
   ]
  },
  {
   "cell_type": "code",
   "execution_count": null,
   "metadata": {},
   "outputs": [],
   "source": [
    "name = \"Matous\"                              # instance třídy\n",
    "name.__class__                               # třída, ze které jsem instanci vytvořil"
   ]
  },
  {
   "cell_type": "markdown",
   "metadata": {},
   "source": [
    "<br>\n",
    "\n",
    "### Vytvoř instanci třídy\n",
    "\n",
    "---\n",
    "\n",
    "Tvorba *instance* je proces (*instancování*), kdy použiju **jméno třídy** (*vzor*) a vytvořím **produkt** (*instanci*)."
   ]
  },
  {
   "cell_type": "code",
   "execution_count": 19,
   "metadata": {},
   "outputs": [],
   "source": [
    "class Zamestnanec:\n",
    "    \"\"\"Třídní objekt představující vzor zaměstnance.\"\"\"\n",
    "    pass"
   ]
  },
  {
   "cell_type": "code",
   "execution_count": 20,
   "metadata": {},
   "outputs": [],
   "source": [
    "matous = Zamestnanec()\n",
    "petr = Zamestnanec()"
   ]
  },
  {
   "cell_type": "code",
   "execution_count": 21,
   "metadata": {},
   "outputs": [
    {
     "name": "stdout",
     "output_type": "stream",
     "text": [
      "140713537161344\n",
      "140713537162016\n",
      "<class '__main__.Zamestnanec'>\n",
      "<class '__main__.Zamestnanec'>\n"
     ]
    }
   ],
   "source": [
    "print(\n",
    "    id(matous),\n",
    "    id(petr),\n",
    "    type(matous),\n",
    "    type(petr),\n",
    "    sep=\"\\n\"\n",
    ")"
   ]
  },
  {
   "cell_type": "markdown",
   "metadata": {},
   "source": [
    "Pomocí *zabudované funkce* `isinstance` můžeš zkontrolovat, jestli *instance* patří **ke konkrétní předloze**:"
   ]
  },
  {
   "cell_type": "code",
   "execution_count": 27,
   "metadata": {},
   "outputs": [
    {
     "name": "stdout",
     "output_type": "stream",
     "text": [
      "True\n",
      "True\n",
      "False\n"
     ]
    }
   ],
   "source": [
    "print(\n",
    "    isinstance(1, int),\n",
    "    isinstance(\"Matouš\", str),\n",
    "    isinstance(\"Matouš\", bool),\n",
    "    sep=\"\\n\"\n",
    ")"
   ]
  },
  {
   "cell_type": "code",
   "execution_count": 25,
   "metadata": {},
   "outputs": [
    {
     "name": "stdout",
     "output_type": "stream",
     "text": [
      "True\n",
      "True\n"
     ]
    }
   ],
   "source": [
    "print(\n",
    "    isinstance(matous, Zamestnanec),\n",
    "    isinstance(petr, Zamestnanec),\n",
    "    sep=\"\\n\"\n",
    ")"
   ]
  },
  {
   "cell_type": "markdown",
   "metadata": {},
   "source": [
    "## Vlastnosti a dovednosti\n",
    "\n",
    "---\n",
    "\n",
    "V úvodu zaznělo, že objekt má:\n",
    "* vlastnosti,\n",
    "* schopnosti.\n",
    "\n",
    "<br>\n",
    "\n",
    "V Pythonu se používají pojmy:\n",
    "* **atributy** (místo *vlastnosti*),\n",
    "* **metody** (místo *schopnosti* nebo *chování*)."
   ]
  },
  {
   "cell_type": "markdown",
   "metadata": {},
   "source": [
    "### Atributy\n",
    "\n",
    "Jsou dva typy *atributů*:\n",
    "* **třídní**,\n",
    "* **instanční**.\n",
    "\n",
    "<br>\n",
    "\n",
    "### Třídní atribut\n",
    "\n",
    "**Třídní atribut** nebo také **třídní proměnná** je proměnná (~vlastnost), která náleží třídě samotné.\n",
    "\n",
    "Protože *třídní atribut* náleží třídě, mohu jej spřístupnit **bez vytvoření samotné instance**."
   ]
  },
  {
   "cell_type": "code",
   "execution_count": 34,
   "metadata": {},
   "outputs": [],
   "source": [
    "class Zamestnanec:\n",
    "    \"\"\"Třídní objekt představující vzor zaměstnance.\"\"\"\n",
    "    max_dni_dovolene = 20"
   ]
  },
  {
   "cell_type": "code",
   "execution_count": 35,
   "metadata": {},
   "outputs": [],
   "source": [
    "matous = Zamestnanec()\n",
    "petr = Zamestnanec()"
   ]
  },
  {
   "cell_type": "code",
   "execution_count": 36,
   "metadata": {},
   "outputs": [
    {
     "name": "stdout",
     "output_type": "stream",
     "text": [
      "20\n"
     ]
    }
   ],
   "source": [
    "print(matous.max_dni_dovolene)"
   ]
  },
  {
   "cell_type": "code",
   "execution_count": 37,
   "metadata": {},
   "outputs": [
    {
     "name": "stdout",
     "output_type": "stream",
     "text": [
      "20\n"
     ]
    }
   ],
   "source": [
    "print(petr.max_dni_dovolene)"
   ]
  },
  {
   "cell_type": "markdown",
   "metadata": {},
   "source": [
    "Bez přístupu k samotné *instanci*:"
   ]
  },
  {
   "cell_type": "code",
   "execution_count": 38,
   "metadata": {},
   "outputs": [
    {
     "name": "stdout",
     "output_type": "stream",
     "text": [
      "20\n"
     ]
    }
   ],
   "source": [
    "print(Zamestnanec.max_dni_dovolene)"
   ]
  },
  {
   "cell_type": "markdown",
   "metadata": {},
   "source": [
    "Pokud je *třídní atribut* **nezměnitelný** (tedy *immutable*), můžeš přepsat jeho hodnotu **POUZE v rámci instance**."
   ]
  },
  {
   "cell_type": "code",
   "execution_count": 39,
   "metadata": {},
   "outputs": [],
   "source": [
    "matous.max_dni_dovolene = 25"
   ]
  },
  {
   "cell_type": "code",
   "execution_count": 40,
   "metadata": {},
   "outputs": [
    {
     "name": "stdout",
     "output_type": "stream",
     "text": [
      "25\n",
      "20\n",
      "20\n"
     ]
    }
   ],
   "source": [
    "print(\n",
    "    matous.max_dni_dovolene,\n",
    "    petr.max_dni_dovolene,\n",
    "    Zamestnanec.max_dni_dovolene,\n",
    "    sep=\"\\n\"\n",
    ")"
   ]
  },
  {
   "cell_type": "markdown",
   "metadata": {},
   "source": [
    "Všimni si, že úprava hodnoty v rámci instance `matous` nemá vliv ani na původní třídů, ani na instanci `petr`."
   ]
  },
  {
   "cell_type": "markdown",
   "metadata": {},
   "source": [
    "Pouze pokud přepíšeš původní hodnotu přímo **v definici třídy**, potom změníš hodnotu *třídního atributu* také pro **instance třídy**."
   ]
  },
  {
   "cell_type": "code",
   "execution_count": 41,
   "metadata": {},
   "outputs": [],
   "source": [
    "Zamestnanec.max_dni_dovolene = 30"
   ]
  },
  {
   "cell_type": "code",
   "execution_count": 43,
   "metadata": {},
   "outputs": [],
   "source": [
    "matous = Zamestnanec()\n",
    "petr = Zamestnanec()"
   ]
  },
  {
   "cell_type": "code",
   "execution_count": 44,
   "metadata": {},
   "outputs": [
    {
     "name": "stdout",
     "output_type": "stream",
     "text": [
      "30\n",
      "30\n",
      "30\n"
     ]
    }
   ],
   "source": [
    "print(\n",
    "    matous.max_dni_dovolene,\n",
    "    petr.max_dni_dovolene,\n",
    "    Zamestnanec.max_dni_dovolene,\n",
    "    sep=\"\\n\"\n",
    ")"
   ]
  },
  {
   "cell_type": "markdown",
   "metadata": {},
   "source": [
    "Když vytvoříš *třídní atribut*, který **je změnitelný** (*mutable*), dávej pozor na to, jak pracuje:"
   ]
  },
  {
   "cell_type": "code",
   "execution_count": 45,
   "metadata": {},
   "outputs": [],
   "source": [
    "class Zamestnanec:\n",
    "    \"\"\"Třídní objekt představující vzor zaměstnance.\"\"\"\n",
    "    benefity = list()"
   ]
  },
  {
   "cell_type": "code",
   "execution_count": 46,
   "metadata": {},
   "outputs": [],
   "source": [
    "matous = Zamestnanec()\n",
    "petr = Zamestnanec()"
   ]
  },
  {
   "cell_type": "code",
   "execution_count": 47,
   "metadata": {},
   "outputs": [
    {
     "name": "stdout",
     "output_type": "stream",
     "text": [
      "[]\n",
      "[]\n",
      "[]\n"
     ]
    }
   ],
   "source": [
    "print(\n",
    "    matous.benefity,\n",
    "    petr.benefity,\n",
    "    Zamestnanec.benefity,\n",
    "    sep=\"\\n\"\n",
    ")"
   ]
  },
  {
   "cell_type": "markdown",
   "metadata": {},
   "source": [
    "..jakmile tentokrát upravíš *třídní atribut* v rámci **jedinné instance**.."
   ]
  },
  {
   "cell_type": "code",
   "execution_count": 48,
   "metadata": {},
   "outputs": [],
   "source": [
    "matous.benefity.append(\"Sodexo\")"
   ]
  },
  {
   "cell_type": "code",
   "execution_count": 49,
   "metadata": {},
   "outputs": [
    {
     "name": "stdout",
     "output_type": "stream",
     "text": [
      "['Sodexo']\n",
      "['Sodexo']\n",
      "['Sodexo']\n"
     ]
    }
   ],
   "source": [
    "print(\n",
    "    matous.benefity,\n",
    "    petr.benefity,\n",
    "    Zamestnanec.benefity,\n",
    "    sep=\"\\n\"\n",
    ")"
   ]
  },
  {
   "cell_type": "markdown",
   "metadata": {},
   "source": [
    "..dostaneš změněnou hodnotu v rámci **všech instancí** A TAKÉ **u vlastní třídy**.\n",
    "\n",
    "### Souhrn\n",
    "\n",
    "Pokud tedy pracuješ s třídními atributy, jako:\n",
    "1. **immutable** datový typ, přepis v rámci *instance* **neovlivní původní třídu** (nebo jiné *instance*),\n",
    "2. **mutable** datový typ, přepis v rámci *instance* **ovlivní původní třídu** (nebo jiné *instance*).\n",
    "\n",
    "V Pythonu se více pracuje s druhým typem atributů, tedy **instančními atributy**.\n",
    "\n",
    "*Třídní atributy* většinou slouží jako možnost napsat společnou konstantu, pomocný objekt v rámci třídy."
   ]
  },
  {
   "cell_type": "markdown",
   "metadata": {},
   "source": [
    "### Instanční atribut\n",
    "\n",
    "**Instanční atribut**, na druhou stranu, je proměnná, která náleží **pouze vytvořené instanci**.\n",
    "\n",
    "Samotná třída k nemá přístup."
   ]
  },
  {
   "cell_type": "markdown",
   "metadata": {},
   "source": [
    "<br>\n",
    "\n",
    "#### Vytvoření třídní instance\n",
    "\n",
    "Doposud si tvořil *instance* **jen prázdné**:"
   ]
  },
  {
   "cell_type": "code",
   "execution_count": null,
   "metadata": {},
   "outputs": [],
   "source": [
    "class Zamestnanec:\n",
    "    \"\"\"Třídní objekt představující vzor zaměstnance.\"\"\"\n",
    "    benefity = list()"
   ]
  },
  {
   "cell_type": "markdown",
   "metadata": {},
   "source": [
    "Protože nepoužíváš **instanční konstuktor**, `__init__`, vytvoříš instanci pomocí tzv. **prázdného konstruktoru**.\n",
    "\n",
    "Ovšem pokud budeš potřebovat, aby každá instance nesla odlišné atributy, budeš muset použít speciální instační konstruktor, metodu `__init__`."
   ]
  },
  {
   "cell_type": "markdown",
   "metadata": {},
   "source": [
    "Obecně Python používá dvě speciální metody pro tvorbu instance.\n",
    "\n",
    "Metody, které interpret potřebuje pro **vytvoření nové instance** jsou:\n",
    "1. `__new__`, *vytvoří* nový objekt (netřeba definovat),\n",
    "2. `__init__`, *inicializuje* nový objekt."
   ]
  },
  {
   "cell_type": "code",
   "execution_count": 58,
   "metadata": {},
   "outputs": [],
   "source": [
    "class Zamestnanec:\n",
    "    \"\"\"Třídní objekt představující vzor zaměstnance.\"\"\"\n",
    "\n",
    "    def __init__(self, jmeno, prijmeni):  # konstruktor nových instancí\n",
    "        self.jmeno = jmeno                # 1. instanční atribut\n",
    "        self.prijmeni = prijmeni          # 2. instanční atribut"
   ]
  },
  {
   "cell_type": "markdown",
   "metadata": {},
   "source": [
    "Všimni si, že konstuktor `__init__` je nazýváný *metodou*, ale přesto vypadá jako obyčejná uživatelská funkce.\n",
    "\n",
    "V každé metodě `__init__` se definují takové atributy, které budou pro potenciální instance individuální.\n",
    "\n",
    "<br>\n",
    "\n",
    "Pokud víš, že instance zaměstnanců budou obsahovat jméno a příjmení, musíš je této metodě ukázat.\n",
    "\n",
    "Uvedeš je do parametrů a metoda `__init__` ti je přidá do *instance*."
   ]
  },
  {
   "cell_type": "code",
   "execution_count": 62,
   "metadata": {},
   "outputs": [],
   "source": [
    "# print(\n",
    "#     Zamestnanec(\"Matouš\", \"Holinka\"),\n",
    "#     Zamestnanec(\"Petr\", \"Svetr\"),\n",
    "#     sep=\"\\n\"\n",
    "# )"
   ]
  },
  {
   "cell_type": "code",
   "execution_count": 63,
   "metadata": {},
   "outputs": [],
   "source": [
    "matous = Zamestnanec(\"Matouš\", \"Holinka\")\n",
    "petr = Zamestnanec(\"Petr\", \"Svetr\")"
   ]
  },
  {
   "cell_type": "code",
   "execution_count": 64,
   "metadata": {},
   "outputs": [
    {
     "name": "stdout",
     "output_type": "stream",
     "text": [
      "<__main__.Zamestnanec object at 0x7ffa6c65cf70>\n",
      "<__main__.Zamestnanec object at 0x7ffa6c65c130>\n"
     ]
    }
   ],
   "source": [
    "print(matous, petr, sep=\"\\n\")"
   ]
  },
  {
   "cell_type": "code",
   "execution_count": 54,
   "metadata": {},
   "outputs": [
    {
     "name": "stdout",
     "output_type": "stream",
     "text": [
      "Matouš\n",
      "Holinka\n"
     ]
    }
   ],
   "source": [
    "print(\n",
    "    matous.jmeno,\n",
    "    matous.prijmeni,\n",
    "    sep=\"\\n\"\n",
    ")"
   ]
  },
  {
   "cell_type": "code",
   "execution_count": 55,
   "metadata": {},
   "outputs": [
    {
     "name": "stdout",
     "output_type": "stream",
     "text": [
      "Petr\n",
      "Svetr\n"
     ]
    }
   ],
   "source": [
    "print(\n",
    "    petr.jmeno,\n",
    "    petr.prijmeni,\n",
    "    sep=\"\\n\"\n",
    ")"
   ]
  },
  {
   "cell_type": "markdown",
   "metadata": {},
   "source": [
    "<br>\n",
    "\n",
    "Takže metoda `__init__` v definici třídy potřebuje parametry `self`, `jmeno`, `prijmeni`.\n",
    "\n",
    "Ale pro vytvoření **nové instance** třídy `Zamestnanec` stačilo zapsat **pouze dva argumenty**."
   ]
  },
  {
   "cell_type": "markdown",
   "metadata": {},
   "source": [
    "<br>\n",
    "\n",
    "Co potom představuje *parametr* `self`?\n",
    "\n",
    "`self` je v podstatě **pomocný odkaz**, který *interpret* pomáhá nasměřovat v okamžiku vytvoření instance:"
   ]
  },
  {
   "cell_type": "code",
   "execution_count": null,
   "metadata": {},
   "outputs": [],
   "source": [
    "matous = Zamestnanec(\"Matouš\", \"Holinka\")  # validní zápis pro novou instanci,\n",
    "                                           # \"matous\" je jméno instance a argument \"self\" vynecháš"
   ]
  },
  {
   "cell_type": "code",
   "execution_count": null,
   "metadata": {},
   "outputs": [],
   "source": [
    "# V ukázce níže je pouze PSEUDOKÓD, pro lepší pochopení,\n",
    "\n",
    "Zamestnanec(matous, \"Matouš\", \"Holinka\")   # pseudokód, kde místo \"self\"\n",
    "                                           # ..uvedu jméno instance, self = \"Matouš\""
   ]
  },
  {
   "cell_type": "markdown",
   "metadata": {},
   "source": [
    "`self` je tedy nachystaný ve tvém předpisu, ve třídě `Zamestnanec` a čeká, až si budeš chtít vytvořit novou instanci.\n",
    "\n",
    "<br>\n",
    "\n",
    "Pár detailů k `self`:\n",
    "1. Záměrně se zapisuje jako **první parametr**,\n",
    "2. v jiných jazycích se označuje i jinými slovy, př. *Java* používá výraz `this`,\n",
    "3. součástí všech metod, kde chceš **zpřístupnit instanční atributy**,\n",
    "4. můžeš použít i jiný výraz než `self`, ale jako konvence se mezi ostatními programátory používá `self`."
   ]
  },
  {
   "cell_type": "code",
   "execution_count": 68,
   "metadata": {},
   "outputs": [],
   "source": [
    "class Zamestnanec:\n",
    "    \"\"\"Třídní objekt představující vzor zaměstnance.\"\"\"\n",
    "\n",
    "    def __init__(self, jmeno, prijmeni):  # konstruktor nových instancí\n",
    "        self.jmeno = jmeno                # 1. instanční atribut\n",
    "        self.prijmeni = prijmeni          # 2. instanční atribut\n",
    "        \n",
    "    def vytvor_email(self, domena: str = \"superfirma.cz\"):\n",
    "        return f\"{self.jmeno[0].lower()}.{self.prijmeni.lower()}@{domena}\""
   ]
  },
  {
   "cell_type": "code",
   "execution_count": 69,
   "metadata": {},
   "outputs": [],
   "source": [
    "matous = Zamestnanec(\"Matouš\", \"Holinka\")"
   ]
  },
  {
   "cell_type": "code",
   "execution_count": 70,
   "metadata": {},
   "outputs": [
    {
     "name": "stdout",
     "output_type": "stream",
     "text": [
      "m.holinka@superfirma.cz\n"
     ]
    }
   ],
   "source": [
    "print(matous.vytvor_email())"
   ]
  },
  {
   "cell_type": "code",
   "execution_count": 75,
   "metadata": {},
   "outputs": [],
   "source": [
    "class Zamestnanec:\n",
    "    \"\"\"Třídní objekt představující vzor zaměstnance.\"\"\"\n",
    "\n",
    "    def __init__(self, jmeno, prijmeni):  # konstruktor nových instancí\n",
    "        self.jmeno = jmeno                # 1. instanční atribut\n",
    "        self.prijmeni = prijmeni          # 2. instanční atribut\n",
    "        self.email = self.vytvor_email()\n",
    "        \n",
    "    def vytvor_email(self, domena: str = \"superfirma.cz\"):\n",
    "        return f\"{self.jmeno[0].lower()}.{self.prijmeni.lower()}@{domena}\""
   ]
  },
  {
   "cell_type": "code",
   "execution_count": 76,
   "metadata": {},
   "outputs": [],
   "source": [
    "petr = Zamestnanec(\"Petr\", \"Svetr\")"
   ]
  },
  {
   "cell_type": "code",
   "execution_count": 78,
   "metadata": {},
   "outputs": [
    {
     "name": "stdout",
     "output_type": "stream",
     "text": [
      "p.svetr@superfirma.cz\n"
     ]
    }
   ],
   "source": [
    "print(petr.email)"
   ]
  },
  {
   "cell_type": "markdown",
   "metadata": {},
   "source": [
    "<br>\n",
    "\n",
    "Pokud potřebuješ vytvořit novou instanci, ale **nevyžaduješ** od ní žádné konkrétní **instanční argumenty**, můžeš použít defaultní metodu `__init__` (nezapíšeš ji do třídy)."
   ]
  },
  {
   "cell_type": "code",
   "execution_count": null,
   "metadata": {},
   "outputs": [],
   "source": [
    "class Image:\n",
    "    pass\n",
    "\n",
    "\n",
    "class ImageGenerator:\n",
    "    \"\"\"Generate images in specific resolutions.\"\"\"\n",
    "    \n",
    "    # Metoda '__init__' chybí\n",
    "    \n",
    "    def generate_low_resolution(self, content: Image, x: int = 320, y: int = 180):\n",
    "        print(f\"Generating picture (resolution:{x}x{y})\")\n",
    "    \n",
    "    def generate_medium_resolution(self, content: Image, x: int = 1200, y: int = 800):\n",
    "        print(f\"Generating picture (resolution:{x}x{y})\")\n",
    "        \n",
    "    def generate_high_resolution(self, content: Image, x: int = 3840, y: int = 2160):\n",
    "        print(f\"Generating picture (resolution:{x}x{y})\")"
   ]
  },
  {
   "cell_type": "code",
   "execution_count": null,
   "metadata": {},
   "outputs": [],
   "source": [
    "low_res_image = ImageGenerator()\n",
    "low_res_image.generate_low_resolution(Image())\n",
    "\n",
    "med_res_image = ImageGenerator()\n",
    "med_res_image.generate_medium_resolution(Image())"
   ]
  },
  {
   "cell_type": "markdown",
   "metadata": {},
   "source": [
    "#### Úloha\n",
    "\n",
    "---\n",
    "První úlohou bude napsat službu zpracovávající firemní tickety.\n",
    "\n",
    "<br>\n",
    "\n",
    "Průběh celé aplikace:\n",
    "```python\n",
    "\"\"\"\n",
    "Iniciace aplikace (zadáme škálu důležitosti priorit),\n",
    "zadáme několik nových ticketů (jméno, zpráva),\n",
    "zpracujeme tickety,\n",
    "\"\"\"\n",
    "```\n",
    "\n",
    "<br>\n",
    "\n",
    "Následný výstup:\n",
    "```\n",
    "Created: 01/12/21, 10:49:07\n",
    "Processing ticket id: 282870ec-1d00-4a5b-a57a-64219c18876f\n",
    "Issue: Klimatizace v kanceláři A123 je rozbitá!\n",
    "Customer: Petr Svetr\n",
    "Importance: 6\n",
    "==========================================================\n",
    "Created: 01/12/21, 10:49:07\n",
    "Processing ticket id: 59159bc4-f097-42f8-ad63-1ea856fabc73\n",
    "Issue: Na záchodě je pouze dvouvrstvý toaletní papír.\n",
    "Customer: Matouš Nepříjemný\n",
    "Importance: 8\n",
    "==========================================================\n",
    "Created: 01/12/21, 10:49:07\n",
    "Processing ticket id: f3cb6cac-1360-4243-a71f-a95ab188c87c\n",
    "Issue: Indexování v PyCharmu trvá hrozně dlouho\n",
    "Customer: Tereza Netrpělivá\n",
    "Importance: 7\n",
    "==========================================================\n",
    "```"
   ]
  },
  {
   "cell_type": "code",
   "execution_count": null,
   "metadata": {},
   "outputs": [],
   "source": [
    "import uuid\n",
    "import random\n",
    "import datetime\n",
    "\n",
    "\n",
    "class TicketGenerator:\n",
    "    \"\"\"Create tickets from the given parameters.\"\"\"\n",
    "    fmt: str = \"%d/%m/%y, %H:%M:%S\"\n",
    "        \n",
    "    def __init__(self, user: str, issue: str):\n",
    "        self.user = user\n",
    "        self.issue = issue\n",
    "        self.uuid: uuid.UUID = uuid.uuid4()\n",
    "        self.date: str = datetime.datetime.now().strftime(self.fmt)\n",
    "\n",
    "\n",
    "class CustomerSupport:\n",
    "    \"\"\"Process the tickets\"\"\"\n",
    "    \n",
    "    def __init__(self, priority: range):\n",
    "        self.priority = priority\n",
    "        self.tickets: list = []\n",
    "            \n",
    "    def create_ticket(self, user: str, issue: str) -> None:\n",
    "        self.tickets.append(TicketGenerator(user, issue))\n",
    "        \n",
    "    def process_ticket(self) -> None:\n",
    "        if not self.tickets:\n",
    "            print(\"There are no unresolved tickets, well done..\")\n",
    "        else:\n",
    "            for ticket in self.tickets:\n",
    "                importance: int = random.choice(self.priority) # add specific value as parameter\n",
    "                self.show_status(ticket, importance)\n",
    "                \n",
    "    def show_status(self, ticket: TicketGenerator, priority: int) -> None:\n",
    "        print(\n",
    "            f\"Created: {ticket.date}\",\n",
    "            f\"Processing ticket id: {ticket.uuid}\",\n",
    "            f\"Issue: {ticket.issue}\",\n",
    "            f\"Customer: {ticket.user}\",\n",
    "            f\"Importance: {priority}\",\n",
    "            \"=\" * 58,\n",
    "            sep=\"\\n\"\n",
    "        )"
   ]
  },
  {
   "cell_type": "code",
   "execution_count": null,
   "metadata": {},
   "outputs": [],
   "source": [
    "# Iniciace aplikace (zadáme škálu důležitosti priorit),\n",
    "app = CustomerSupport(range(1, 11))\n",
    "\n",
    "# zadáme několik nových ticketů (jméno, zpráva),\n",
    "app.create_ticket(\"Petr Svetr\", \"Klimatizace v kanceláři A123 je rozbitá!\")\n",
    "app.create_ticket(\"Matouš Nepříjemný\", \"Na záchodě je pouze dvouvrstvý toaletní papír.\")\n",
    "app.create_ticket(\"Tereza Netrpělivá\", \"Indexování v PyCharmu trvá hrozně dlouho\")\n",
    "\n",
    "# zpracujeme tickety,\n",
    "app.process_ticket()"
   ]
  },
  {
   "cell_type": "markdown",
   "metadata": {},
   "source": [
    "---"
   ]
  }
 ],
 "metadata": {
  "kernelspec": {
   "display_name": "Python 3",
   "language": "python",
   "name": "python3"
  },
  "language_info": {
   "codemirror_mode": {
    "name": "ipython",
    "version": 3
   },
   "file_extension": ".py",
   "mimetype": "text/x-python",
   "name": "python",
   "nbconvert_exporter": "python",
   "pygments_lexer": "ipython3",
   "version": "3.8.6"
  }
 },
 "nbformat": 4,
 "nbformat_minor": 4
}
