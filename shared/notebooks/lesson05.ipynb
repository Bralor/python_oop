{
 "cells": [
  {
   "cell_type": "markdown",
   "id": "973d2f49-9b12-4b37-b622-f5b9ed6c53dd",
   "metadata": {},
   "source": [
    "# Python objektově orientované programování\n",
    "\n",
    "---"
   ]
  },
  {
   "cell_type": "markdown",
   "id": "3e27f997-c2d4-4a74-ae0d-356778449342",
   "metadata": {},
   "source": [
    "1. [SOLID principy](),\n",
    "    - [single responsibility](#),\n",
    "    - [cvičení 11](#),\n",
    "    - [open-closed](#),\n",
    "    - [cvičení 12](#)\n",
    "    - [Liskov substitution](#),\n",
    "    - [cvičení 13](#)\n",
    "    - [interface segregration](#),\n",
    "    - [cvičení 14](#)\n",
    "    - [dependency inversion](#),\n",
    "    - [cvičení 15](#)\n",
    "3. [OOP, na co myslet](#),\n",
    "    - [OOP je možné kombinovat](),\n",
    "    - [Třídy mají jak vlastnosti, tak schopnosti](),\n",
    "    - [Opatrně na dědičnost](),\n",
    "    - [Dependecy injection](),\n",
    "    - [cvičení 16](#)\n",
    "    "
   ]
  },
  {
   "cell_type": "markdown",
   "id": "fe79c39e-b692-4c6c-adb8-0c73ee6a30a6",
   "metadata": {},
   "source": [
    "<img src=\"https://external-content.duckduckgo.com/iu/?u=https%3A%2F%2Ftse1.mm.bing.net%2Fth%3Fid%3DOIP.Mdjx0MdXHoH3yZPd-jadRgHaGy%26pid%3DApi&f=1&ipt=442a54ac189061e1752310f8c3f7258d868ebc936973a92c8cb43d2421934b14&ipo=image\" width=\"200\" style=\"margin-left:auto; margin-right:auto\">"
   ]
  },
  {
   "cell_type": "markdown",
   "id": "88e33367-0461-44bd-ad72-bfc8a6393e50",
   "metadata": {},
   "source": [
    "## SOLID principy\n",
    "\n",
    "---\n",
    "\n",
    "<pic>"
   ]
  },
  {
   "cell_type": "markdown",
   "id": "b2652399-4337-48a0-bd63-2b03a5a4fb51",
   "metadata": {},
   "source": [
    "**SOLID** je v tomto případě [akronym](https://cs.wikipedia.org/wiki/Akronym).\n",
    "\n",
    "Tato zkratka představuje **pět návrhových principů**.\n",
    "\n",
    "Jde o principy, které pomáhají vývojářům vytvářet systémy, které jsou snadno udržovatelné, robustní a škálovatelné.\n",
    "\n",
    "<br>\n",
    "\n",
    "Jde o tyto principy:\n",
    "1. **S**ingle Responsibility,\n",
    "2. **O**pen-Closed,\n",
    "3. **L**iskov Substitution,\n",
    "4. **I**nterface Segregation,\n",
    "5. **D**ependency Inversion."
   ]
  },
  {
   "cell_type": "markdown",
   "id": "d3d1b43a-53dd-4b4f-b74a-1ec26abc046e",
   "metadata": {},
   "source": [
    "Dodržování těchto principů **není povinné**.\n",
    "\n",
    "Nevyžaduje je od tebe ani *interpret*, ani nikdo jiný.\n",
    "\n",
    "Takže není nutné, je aplikovat u každého skriptu nebo knihovny, které sám používáš.\n",
    "\n",
    "Určitě je **ale zásadní**, uvědomovat si tyto souvislosti, pokud nepíšeš skripty sám pro sebe, **ale v kolektivu**.\n",
    "\n",
    "Případně na již běžících prostředích!"
   ]
  },
  {
   "cell_type": "markdown",
   "id": "bff32820-c625-4527-819e-03f285053933",
   "metadata": {},
   "source": [
    "<br>\n",
    "\n",
    "### S-ingle-Responsibility princip\n",
    "\n",
    "---"
   ]
  },
  {
   "cell_type": "markdown",
   "id": "6b6c761c-3b0b-4a8c-bfa0-c9ea385b4e5a",
   "metadata": {
    "tags": []
   },
   "source": [
    "<img src=\"https://external-content.duckduckgo.com/iu/?u=https%3A%2F%2Ftse2.mm.bing.net%2Fth%3Fid%3DOIP.nt83enlMM75FdkPBiqur4wHaJ_%26pid%3DApi&f=1&ipt=b8f020f73f5f6bfaa1807815d70f2eb1aa42a1d03340be5b03cb6d5e94c5b24e&ipo=images\" width=\"100\" style=\"margin-left:auto; margin-right:auto\">"
   ]
  },
  {
   "cell_type": "markdown",
   "id": "c444915d-eaa7-4e7d-959b-2a0aafa4675e",
   "metadata": {},
   "source": [
    "První princip se jmenuje **single responsibility**.\n",
    "\n",
    "Říká prakticky to, co nese jeho název, *jediná zodpovědnost*.\n",
    "\n",
    "V ideálním scénaři by tedy měla mít **jedna třída, jednu zodpovědnost**:"
   ]
  },
  {
   "cell_type": "code",
   "execution_count": null,
   "id": "476e476a-f362-4ffe-b84a-5aef4da10124",
   "metadata": {
    "tags": []
   },
   "outputs": [],
   "source": [
    "class Kniha:\n",
    "    knihovna = list()\n",
    "    \n",
    "    def __init__(self, autor: str, titulek: str, rok_vydani: int):\n",
    "        self.autor = autor\n",
    "        self.titulek = titulek\n",
    "        self.rok_vydani = rok_vydani\n",
    "        \n",
    "    def vytvor_poznamku(self):\n",
    "        pass\n",
    "\n",
    "    def odstran_poznamku(self):\n",
    "        pass\n",
    "\n",
    "    def __str__(self) -> str:\n",
    "        pass\n",
    "\n",
    "    def pridej_do_knihovny(self) -> None:\n",
    "        self.knihovna.append(f\"{self.autor}: {self.titulek}\")"
   ]
  },
  {
   "cell_type": "code",
   "execution_count": null,
   "id": "11c4e354-32b6-4345-a417-5c3f4372cec4",
   "metadata": {
    "tags": []
   },
   "outputs": [],
   "source": [
    "dedic_imperia = Kniha(\"Timothy Zahn\", \"Dědic impéria\", 1993)\n",
    "mec_osudu     = Kniha(\"Andrzej Sapkowski\", \"Meč osudu\", 1992)"
   ]
  },
  {
   "cell_type": "code",
   "execution_count": null,
   "id": "65f242ae-8ade-4f62-99cb-647d723d9ae8",
   "metadata": {
    "tags": []
   },
   "outputs": [],
   "source": [
    "Kniha.knihovna"
   ]
  },
  {
   "cell_type": "markdown",
   "id": "4d7a8a18-8d83-45c6-9e36-4185557f7223",
   "metadata": {},
   "source": [
    "<br>\n",
    "\n",
    "Třída `Kniha`, tento princip nesplňuje.\n",
    "\n",
    "Koncepčně totiž řeší problematiku:\n",
    "1. jedné specifické knihy,\n",
    "2. celé poličky s knihami."
   ]
  },
  {
   "cell_type": "markdown",
   "id": "bad2f420-1a05-4032-9cd6-4da3a58f7a37",
   "metadata": {},
   "source": [
    "Metoda `pridej_do_knihovny`, tvoří tvoji virtuální poličku, kde reprezentuje jednotlivé knížky pomocí autora a jména knihy.\n",
    "\n",
    "Tato metoda se může snadno změnit, pokud do budoucna nebudu chtít poličku ukládat jako `list` (ale třeba `dict`, `json` nebo relační databázi)."
   ]
  },
  {
   "cell_type": "code",
   "execution_count": null,
   "id": "ff8ba2be-52d6-428a-b014-e06b462303fa",
   "metadata": {
    "tags": []
   },
   "outputs": [],
   "source": [
    "dedic_imperia.pridej_do_knihovny()"
   ]
  },
  {
   "cell_type": "code",
   "execution_count": null,
   "id": "b5ba9512-92cc-45c7-94b3-87db7111fd9e",
   "metadata": {
    "tags": []
   },
   "outputs": [],
   "source": [
    "mec_osudu.pridej_do_knihovny()"
   ]
  },
  {
   "cell_type": "code",
   "execution_count": null,
   "id": "5eff8559-3a77-4f71-8387-9a6f1a584beb",
   "metadata": {
    "tags": []
   },
   "outputs": [],
   "source": [
    "Kniha.knihovna"
   ]
  },
  {
   "cell_type": "markdown",
   "id": "64ea2ecf-5da3-4c40-9990-44b72ef5d82a",
   "metadata": {},
   "source": [
    "<br>\n",
    "\n",
    "Nyní, pokud potřebuješ upravit objekt samotné knihovny, nemáš možnost, jak ji uchopit.\n",
    "\n",
    "Pokud jí budeš chtít změnit, potřebuješ modifikovat třídu `Kniha`."
   ]
  },
  {
   "cell_type": "code",
   "execution_count": null,
   "id": "43f8f4b2-d1ee-4ed8-8fdf-ac8eae935ae7",
   "metadata": {
    "tags": []
   },
   "outputs": [],
   "source": [
    "class Kniha:\n",
    "    \n",
    "    def __init__(self, autor: str, titulek: str, rok_vydani: int):\n",
    "        self.autor = autor\n",
    "        self.titulek = titulek\n",
    "        self.rok_vydani = rok_vydani\n",
    "        \n",
    "    def vytvor_poznamku(self):\n",
    "        pass\n",
    "\n",
    "    def odstran_poznamku(self):\n",
    "        pass\n",
    "\n",
    "    def __str__(self) -> str:\n",
    "        pass\n",
    "\n",
    "\n",
    "class Knihovna:\n",
    "    def vytvor_knihovnu(self):\n",
    "        self.knihovna = list()\n",
    "\n",
    "    def pridej_do_knihovny(self, kniha: Kniha):\n",
    "        if hasattr(self, \"knihovna\"):\n",
    "            self.knihovna.append(kniha)\n",
    "        else:\n",
    "            raise Exception(\"Knihovna neexistuje! Vytvoř ji\")\n",
    "    \n",
    "    def odstran_z_knihovny(self, kniha: Kniha):\n",
    "        if self.knihovna and kniha in self.knihovna:\n",
    "            self.knihovna.remove(kniha)\n",
    "        else:\n",
    "            raise Exception()"
   ]
  },
  {
   "cell_type": "markdown",
   "id": "6f1fdb3d-7bbb-42c3-8bd6-089008af68f7",
   "metadata": {},
   "source": [
    "<br>\n",
    "\n",
    "Tentokrát vytvoříš dva objekty s knihami:"
   ]
  },
  {
   "cell_type": "code",
   "execution_count": null,
   "id": "97530174-3400-48eb-8cf6-162e329a0c0c",
   "metadata": {
    "tags": []
   },
   "outputs": [],
   "source": [
    "dedic_imperia = Kniha(\"Timothy Zahn\", \"Dědic impéria\", 1993)\n",
    "mec_osudu     = Kniha(\"Andrzej Sapkowski\", \"Meč osudu\", 1992)"
   ]
  },
  {
   "cell_type": "markdown",
   "id": "ace0cf55-aae0-4ea3-897d-1492250a6ff1",
   "metadata": {},
   "source": [
    "<br>\n",
    "\n",
    "Nachystáš novou knihovnu, kam chceš virtuální knihy uložit:"
   ]
  },
  {
   "cell_type": "code",
   "execution_count": null,
   "id": "3e9db489-5a2a-48c7-b44e-8d11c60eff9c",
   "metadata": {
    "tags": []
   },
   "outputs": [],
   "source": [
    "moje_policka = Knihovna()"
   ]
  },
  {
   "cell_type": "code",
   "execution_count": null,
   "id": "63fe3ac9-6cbd-4e87-a5de-eb3d1f881bd8",
   "metadata": {
    "tags": []
   },
   "outputs": [],
   "source": [
    "moje_policka.vytvor_knihovnu()"
   ]
  },
  {
   "cell_type": "code",
   "execution_count": null,
   "id": "16fc0963-e60a-4370-970e-aa473fc167b9",
   "metadata": {
    "tags": []
   },
   "outputs": [],
   "source": [
    "moje_policka.__dict__"
   ]
  },
  {
   "cell_type": "code",
   "execution_count": null,
   "id": "23960174-43ad-49ff-aa1a-7ea85b9804ba",
   "metadata": {
    "tags": []
   },
   "outputs": [],
   "source": [
    "moje_policka.pridej_do_knihovny(dedic_imperia)"
   ]
  },
  {
   "cell_type": "code",
   "execution_count": null,
   "id": "56f64622-705b-4835-86ee-c98cc5046563",
   "metadata": {
    "tags": []
   },
   "outputs": [],
   "source": [
    "moje_policka.pridej_do_knihovny(mec_osudu)"
   ]
  },
  {
   "cell_type": "code",
   "execution_count": null,
   "id": "ff1e32da-eecc-4a43-8d3b-50c39de302e3",
   "metadata": {
    "tags": []
   },
   "outputs": [],
   "source": [
    "moje_policka.__dict__"
   ]
  },
  {
   "cell_type": "markdown",
   "id": "d3dce981-a460-4191-9e59-3af519ac5fac",
   "metadata": {},
   "source": [
    "<br>\n",
    "\n",
    "Zvlášť zpracováváš objekty typu:\n",
    "- `Kniha`,\n",
    "- `Knihovna`."
   ]
  },
  {
   "cell_type": "code",
   "execution_count": null,
   "id": "fef09b1a-43a0-4abc-aecd-5bd4b0b7f366",
   "metadata": {
    "tags": []
   },
   "outputs": [],
   "source": [
    "moje_policka.knihovna[0]"
   ]
  },
  {
   "cell_type": "code",
   "execution_count": null,
   "id": "3d2df8e1-8c10-4b0d-85f1-b0f0f0326984",
   "metadata": {
    "tags": []
   },
   "outputs": [],
   "source": [
    "moje_policka.knihovna[0].__dict__"
   ]
  },
  {
   "cell_type": "markdown",
   "id": "e265e3bf-18e3-475c-839d-5a6d18bed366",
   "metadata": {},
   "source": [
    "<br>\n",
    "\n",
    "Pochopení, co má která třída provádět, může být v rámci **single responsibility** subjektivní.\n",
    "\n",
    "Dále neznamená, že pokud má mít třída **jednu zodpovědnost**, má být spojována **s počtem metod**.\n",
    "\n",
    "Jednodušše z metodiky vyplývá, že třída, její metody a atributy, se mají držet toho objektu, na který jsou chystané."
   ]
  },
  {
   "cell_type": "markdown",
   "id": "465bc43f-fb12-4c5f-a2ed-f1888ee90f7c",
   "metadata": {},
   "source": [
    "<br>\n",
    "\n",
    "### 🧠 CVIČENÍ 11 🧠, Vyzkoušej si první princip *single responsibility*:\n",
    "---"
   ]
  },
  {
   "cell_type": "markdown",
   "id": "5caae7ca-1804-44e4-a460-26e5852b9abc",
   "metadata": {},
   "source": [
    "1. Máš třídu `Student` s atributy `jmeno` a `znamky`,\n",
    "2. uprav třídu tak, ať nese pouze informace týkající se studenta a jeho studia (tedy **jednu zodpovědnost**)."
   ]
  },
  {
   "cell_type": "code",
   "execution_count": null,
   "id": "4e69b733-8c18-4dd7-a0c0-73591fc74fd1",
   "metadata": {
    "tags": []
   },
   "outputs": [],
   "source": [
    "class Student:\n",
    "    def __init__(self, jmeno: str, znamky: tuple):\n",
    "        self.jmeno = jmeno\n",
    "        self.znamky = znamky\n",
    "    \n",
    "    def ziskej_prumer_znamek(self):\n",
    "        return sum(self.znamky) / len(self.znamky)\n",
    "    \n",
    "    def vypis_hodnoceni(self):\n",
    "        print(f\"Student: {self.jmeno}\")\n",
    "        print(f\"Průměrná známka: {self.ziskej_prumer_znamek()}\")"
   ]
  },
  {
   "cell_type": "markdown",
   "id": "fd8cd2b7-cbea-4e3d-9c8a-7916fbcd3291",
   "metadata": {},
   "source": [
    "<details>\n",
    "    <summary>▶️ Řešení</summary>\n",
    "    \n",
    "```python\n",
    "class Student:\n",
    "    def __init__(self, jmeno: str, znamky: tuple):\n",
    "        self.jmeno = name\n",
    "        self.znamky = znamky\n",
    "\n",
    "    def ziskej_prumer_znamek(self):\n",
    "        return sum(self.znamky) / len(self.znamky)\n",
    "\n",
    "class Hodnoceni:\n",
    "    def __init__(self, student: Student):\n",
    "        self.student = student\n",
    "\n",
    "    def vypis_hodnoceni(self):\n",
    "        print(f\"Student: {self.jmeno}\")\n",
    "        print(f\"Průměrná známka: {self.ziskej_prumer_znamek()}\")\n",
    "```\n",
    "</details>"
   ]
  },
  {
   "cell_type": "markdown",
   "id": "ecbd90aa-9f92-44e9-b372-030675387f35",
   "metadata": {},
   "source": [
    "### O-pen-Closed princip\n",
    "\n",
    "---\n"
   ]
  },
  {
   "cell_type": "markdown",
   "id": "8d824724-ed71-43f7-9012-c54fd3a75b63",
   "metadata": {},
   "source": [
    "<img src=\"https://external-content.duckduckgo.com/iu/?u=https%3A%2F%2Ftse1.mm.bing.net%2Fth%3Fid%3DOIP.b-OdCeOgBOuOYA3qP7EBLAHaHB%26pid%3DApi&f=1&ipt=32e2df49cd840d60bf66a77e78735ad33ef0e1e3cec95cb489089007285fd215&ipo=images\" width=\"200\" style=\"margin-left:auto; margin-right:auto\">"
   ]
  },
  {
   "cell_type": "markdown",
   "id": "3c8c8d14-0302-41fc-83ae-bf0e10d3cd97",
   "metadata": {},
   "source": [
    "Druhý princip *SOLID* se jmenuje **open-closed**.\n",
    "\n",
    "Oficiální znění:\n",
    "*Software entities (classes, modules, functions, etc.) should be open for extension, but closed for modification.*\n",
    "\n",
    "Jednodušeji řečeno: **třídy lze rozšiřovat, ale ne upravovat**:"
   ]
  },
  {
   "cell_type": "code",
   "execution_count": null,
   "id": "246843f4-cfaf-42af-bdf4-3258ee088e38",
   "metadata": {
    "tags": []
   },
   "outputs": [],
   "source": [
    "from random import choices\n",
    "import string"
   ]
  },
  {
   "cell_type": "code",
   "execution_count": null,
   "id": "c3c1ffb4-9214-488e-9e31-bf98ce1c9693",
   "metadata": {
    "tags": []
   },
   "outputs": [],
   "source": [
    "class ObjednavkovyProcesor:\n",
    "    def __init__(self, jmeno: str, email: str):\n",
    "        self.jmeno = jmeno\n",
    "        self.email = email\n",
    "        \n",
    "    def vygeneruj_id(self):\n",
    "        self.objednavka_id = \"\".join(choices(string.digits, k=10))\n",
    "        \n",
    "\n",
    "class DopravniProcesor:\n",
    "    def prevoz_Balikovna(self, objednavka: ObjednavkovyProcesor) -> None:\n",
    "        print(\"Navazuji spojení na službu Balíkovna..\")\n",
    "        print(f\"Posílám email: {objednavka.email}\")\n",
    "        objednavka.doprava = True\n",
    "\n",
    "    def prevoz_Zasilkovna(self, objednavka: str):\n",
    "        print(\"Navazuji spojení na službu Zásilkovna..\")\n",
    "        print(\"Připojuji na API služby..\")\n",
    "        print(\"Probíhá výběr pobočky..\")\n",
    "        print(f\"Posílám email: {objednavka.email}\")\n",
    "        objednavka.doprava = True"
   ]
  },
  {
   "cell_type": "code",
   "execution_count": null,
   "id": "cbb0cc74-2853-49df-8374-ad30d8035221",
   "metadata": {
    "tags": []
   },
   "outputs": [],
   "source": [
    "objednavka_matous = ObjednavkovyProcesor(\"Matouš\", \"matous@holinka.cz\")\n",
    "objednavka_matous.vygeneruj_id()"
   ]
  },
  {
   "cell_type": "code",
   "execution_count": null,
   "id": "5b860a58-8577-4611-93a0-c2b65d50fd44",
   "metadata": {
    "tags": []
   },
   "outputs": [],
   "source": [
    "objednavka_matous.__dict__"
   ]
  },
  {
   "cell_type": "code",
   "execution_count": null,
   "id": "16cb71e8-8b3e-4262-986d-60ff99b03428",
   "metadata": {
    "tags": []
   },
   "outputs": [],
   "source": [
    "doprava_matous = DopravniProcesor()\n",
    "doprava_matous.prevoz_Zasilkovna(objednavka_matous)"
   ]
  },
  {
   "cell_type": "markdown",
   "id": "4d3a280d-18c7-4a3d-81c6-b0a990bc2b72",
   "metadata": {},
   "source": [
    "<br>\n",
    "\n",
    "Prakticky to znamená následující:\n",
    "1. Chceš **dopisovat další objekty** pro práci ve stávajícím modulu,\n",
    "2. nechceš **upravovat existující objekty**."
   ]
  },
  {
   "cell_type": "markdown",
   "id": "7bcde08c-a39c-4744-8128-cc66444ba1cd",
   "metadata": {},
   "source": [
    "Ukázku výše lze upravovat jen těžko.\n",
    "\n",
    "Pokud potřebuješ přidat **další způsob dopravy**, musíš upravit samotnou třídu `DopravniProcesor`.\n",
    "\n",
    "Obvykle je lepším řešením pro takovou situaci aplikovat abstraktní třídy:"
   ]
  },
  {
   "cell_type": "code",
   "execution_count": null,
   "id": "2bec34ca-d458-4fc9-b354-d77649d6e153",
   "metadata": {
    "tags": []
   },
   "outputs": [],
   "source": [
    "from abc import abstractmethod, ABC"
   ]
  },
  {
   "cell_type": "code",
   "execution_count": null,
   "id": "86e85e62-89ad-4361-8352-e67011f251db",
   "metadata": {
    "tags": []
   },
   "outputs": [],
   "source": [
    "class DopravniProcesor(ABC):\n",
    "    @abstractmethod\n",
    "    def prevoz_objednavky(self, objednavka: ObjednavkovyProcesor):\n",
    "        \"\"\"Abstraktní metoda pro výběr způsobu dopravy objednávky.\"\"\"\n",
    "        pass\n",
    "\n",
    "\n",
    "class DopravaBalikovna(DopravniProcesor):\n",
    "    def prevoz_objednavky(self, objednavka: ObjednavkovyProcesor) -> None:\n",
    "        print(\"Navazuji spojení na službu Balíkovna..\")\n",
    "        print(f\"Posílám email: {objednavka.email}\")\n",
    "        objednavka.doprava = True\n",
    "\n",
    "\n",
    "class DopravaZasilkovna(DopravniProcesor):\n",
    "    def prevoz_objednavky(self, objednavka: ObjednavkovyProcesor):\n",
    "        print(\"Navazuji spojení na službu Zásilkovna..\")\n",
    "        print(\"Připojuji na API služby..\")\n",
    "        print(\"Probíhá výběr pobočky..\")\n",
    "        print(f\"Posílám email: {objednavka.email}\")\n",
    "        objednavka.doprava = True\n",
    "        \n",
    "class DopravaDHL(DopravniProcesor):\n",
    "    pass\n",
    "\n",
    "class DopravaPPL(DopravniProcesor):\n",
    "    pass"
   ]
  },
  {
   "cell_type": "code",
   "execution_count": null,
   "id": "36f40daf-e412-4af7-bdfe-538a36434dcc",
   "metadata": {
    "tags": []
   },
   "outputs": [],
   "source": [
    "objednavka_matous = ObjednavkovyProcesor(\"Matouš\", \"matous@holinka.cz\")\n",
    "objednavka_matous.vygeneruj_id()"
   ]
  },
  {
   "cell_type": "code",
   "execution_count": null,
   "id": "0196a48f-290a-48c1-b7fc-9c2000b78696",
   "metadata": {
    "tags": []
   },
   "outputs": [],
   "source": [
    "objednavka_matous.__dict__"
   ]
  },
  {
   "cell_type": "code",
   "execution_count": null,
   "id": "4c295285-4fc4-4673-83ef-303012b6de79",
   "metadata": {
    "tags": []
   },
   "outputs": [],
   "source": [
    "doprava_matous = DopravaZasilkovna()\n",
    "doprava_matous.prevoz_objednavky(objednavka_matous)"
   ]
  },
  {
   "cell_type": "markdown",
   "id": "2c201653-633e-4479-b927-913a23b94c60",
   "metadata": {},
   "source": [
    "<br>\n",
    "\n",
    "V tomto ohledu máš nachystaný prostor pro doplňování **dalších způsobů dopravy**.\n",
    "\n",
    "Dále se vyhneš zásahům **do stávajících objektů**."
   ]
  },
  {
   "cell_type": "markdown",
   "id": "3d730179-778e-4bf0-a883-11580398d6b9",
   "metadata": {},
   "source": [
    "<br>\n",
    "\n",
    "### 🧠 CVIČENÍ 12 🧠, Vyzkoušej si první princip *open-closed*:\n",
    "---"
   ]
  },
  {
   "cell_type": "markdown",
   "id": "943b01b3-4071-4529-a4c2-87068364ba1e",
   "metadata": {},
   "source": [
    "1. Máš třídu `Notifikace` s atributem `neaktivni`, což je hodnota představující **absenci ve dnech**,\n",
    "2. uprav třídu tak, ať splňuje podmínky druhého principu SOLID, tedy je otevřená pro rozšíření, ale neupravuje stávající objekty."
   ]
  },
  {
   "cell_type": "code",
   "execution_count": null,
   "id": "563504d3-ba95-4903-ac74-4995286d38ce",
   "metadata": {
    "tags": []
   },
   "outputs": [],
   "source": [
    "class Notifikace:\n",
    "    def __init__(self, neaktivni: int):\n",
    "        self.neaktivni = neaktivni\n",
    "    \n",
    "    def posli_notifikaci(self):\n",
    "        if self.neaktivni == 1:\n",
    "            return \"Jeden den neaktivní..\"\n",
    "        elif self.neaktivni == 7:\n",
    "            return \"Sedm dní neaktivní..\"\n",
    "        elif self.neaktivni == 31:\n",
    "            return \"Celý měsíc neaktivní..\""
   ]
  },
  {
   "cell_type": "markdown",
   "id": "f11df35a-5fa0-4f80-a95e-f9dc11aa6b7d",
   "metadata": {},
   "source": [
    "<details>\n",
    "    <summary>▶️ Řešení</summary>\n",
    "    \n",
    "```python\n",
    "from abc import ABC, abstractmethod\n",
    "\n",
    "class Notifikace(ABC):\n",
    "    def __init__(self, neaktivni: int):\n",
    "        self.neaktivni = neaktivni\n",
    "    \n",
    "    @abstractmethod\n",
    "    def posli_notifikaci(self):\n",
    "        pass\n",
    "    \n",
    "class NotifikaceDenni(Notifikace):\n",
    "    def posli_notifikaci(self):\n",
    "        return \"Jeden den neaktivní..\"\n",
    "\n",
    "class NotifikaceTydenni(Notifikace):\n",
    "    def posli_notifikaci(self):\n",
    "        return \"Sedm dní neaktivní..\"\n",
    "    \n",
    "class NotifikaceMesicni(Notifikace):\n",
    "    def posli_notifikaci(self):\n",
    "        return \"Celý měsíc neaktivní..\"\n",
    "```\n",
    "</details>"
   ]
  },
  {
   "cell_type": "markdown",
   "id": "df8ec96b-cd76-4070-a1c2-2860e4f6cb83",
   "metadata": {},
   "source": [
    "### Liskov Substitution princip\n",
    "\n",
    "---"
   ]
  },
  {
   "cell_type": "markdown",
   "id": "a2370c60-b5d1-4310-8221-53f8669aba86",
   "metadata": {},
   "source": [
    "<img src=\"https://external-content.duckduckgo.com/iu/?u=https%3A%2F%2Ftse4.mm.bing.net%2Fth%3Fid%3DOIP.WKUSirAjrvTsZSUQZT33TQHaHa%26pid%3DApi&f=1&ipt=b00e46b718f54560657071768bbc396942c45556df505d53c5a17adb0bc30c35&ipo=images\" width=\"200\" style=\"margin-left:auto; margin-right:auto\">"
   ]
  },
  {
   "cell_type": "markdown",
   "id": "03c933c6-d309-4583-b0c5-8180ce5ab5a3",
   "metadata": {},
   "source": [
    "[Barbara Liskova](https://en.wikipedia.org/wiki/Barbara_Liskov) v roce 1987 na konferenci [OOPSLA](https://en.wikipedia.org/wiki/OOPSLA) představila následující koncept:\n",
    "*Subtypes must be substitutable for their base types.*\n",
    "\n",
    "Prakticky lze celou teorii aplikovat na poměrně jednoduchém přirovnání:"
   ]
  },
  {
   "cell_type": "markdown",
   "id": "5b7b9284-1a9b-4f19-9878-9b36427028a3",
   "metadata": {
    "tags": []
   },
   "source": [
    "<img src=\"https://i.stack.imgur.com/ilxzO.jpg\" width=\"800\" style=\"margin-left:auto; margin-right:auto\">"
   ]
  },
  {
   "cell_type": "markdown",
   "id": "b686be2a-c74c-4e02-9ad8-5ba6985283d2",
   "metadata": {},
   "source": [
    "Obecně princip vypadá příliš vágně, ale v Pythonu můžeš rozumnět následující:\n",
    "\n",
    "Pokud máš třídu `Rodic` a potomka třídu `Potomek`, potom je proveditelné, nahradit třídu `Rodic` třídou `Potomek`, aniž by program vykazoval selhání:"
   ]
  },
  {
   "cell_type": "code",
   "execution_count": null,
   "id": "54e606db-b730-4635-9e9d-0dab44f18bfa",
   "metadata": {
    "tags": []
   },
   "outputs": [],
   "source": [
    "class Zvire:\n",
    "    def pocet_nohou(self):\n",
    "        return 4\n",
    "\n",
    "class Kocka(CtyrnoheZvire):\n",
    "    pass\n",
    "    \n",
    "class Kure(Zvire):\n",
    "    def pocet_nohou(self):\n",
    "        return 2\n",
    "    \n",
    "class Had(Zvire):\n",
    "    def pocet_nohou(self):\n",
    "        return 0"
   ]
  },
  {
   "cell_type": "code",
   "execution_count": null,
   "id": "345479ef-43d8-4c40-b2d9-7ee773c7e5d1",
   "metadata": {
    "tags": []
   },
   "outputs": [],
   "source": [
    "moje_nezname_zvire = Zvire()"
   ]
  },
  {
   "cell_type": "code",
   "execution_count": null,
   "id": "cdb3ca30-9948-47f6-9ffd-9efa9ccf6f7c",
   "metadata": {
    "tags": []
   },
   "outputs": [],
   "source": [
    "if isinstance(moje_nezname_zvire, Zvire):\n",
    "    print(moje_nezname_zvire.pocet_nohou())\n",
    "    # ..."
   ]
  },
  {
   "cell_type": "code",
   "execution_count": null,
   "id": "908214a7-7efb-439b-b609-558f252ffef3",
   "metadata": {
    "tags": []
   },
   "outputs": [],
   "source": [
    "had = Had()\n",
    "if isinstance(had, Zvire):\n",
    "    print(had.pocet_nohou())\n",
    "    # ..."
   ]
  },
  {
   "cell_type": "code",
   "execution_count": null,
   "id": "eebd0dbb-a1f6-4b47-ba23-d4c4d1b1a769",
   "metadata": {},
   "outputs": [],
   "source": [
    "class CtyrnoheZvire:\n",
    "    pass\n",
    "\n",
    "class DvounoheZvire:\n",
    "    pass\n",
    "\n",
    "class BeznoheZvire:\n",
    "    pass"
   ]
  },
  {
   "cell_type": "markdown",
   "id": "822000e8-4ee5-45df-b5f6-8571aa19a9ae",
   "metadata": {},
   "source": [
    "<br>\n",
    "\n",
    "Všechny třídy jsou podtřídou, nebo také potomkem třídy `Zvire`.\n",
    "\n",
    "Takže pokud kdekoliv ve skriptu pracuješ se třídou `Zvire`, musíš umět tuto třídu nahradit jejími potomky.\n",
    "\n",
    "V této ukázce pomocí tříd `Kocka`, `Kure` a `Had`:"
   ]
  },
  {
   "cell_type": "code",
   "execution_count": null,
   "id": "4ebb8df2-18d0-4080-ad48-cc865a67e711",
   "metadata": {
    "tags": []
   },
   "outputs": [],
   "source": [
    "moje_nezname_zvire = Kure()\n",
    "print(moje_nezname_zvire.pocet_nohou())"
   ]
  },
  {
   "cell_type": "code",
   "execution_count": null,
   "id": "acfc6be8-1d97-4e87-a296-23e06d1f626c",
   "metadata": {
    "tags": []
   },
   "outputs": [],
   "source": [
    "moje_kocka = Kocka()\n",
    "moje_kure = Kure()\n",
    "muj_had = Had()"
   ]
  },
  {
   "cell_type": "code",
   "execution_count": null,
   "id": "7d923485-9e67-40a2-8ac3-f5995e2dd5dd",
   "metadata": {
    "tags": []
   },
   "outputs": [],
   "source": [
    "print(\n",
    "    moje_kocka.pocet_nohou(),\n",
    "    moje_kure.pocet_nohou(),\n",
    "    muj_had.pocet_nohou(),\n",
    "    sep=\"\\n\"\n",
    ")"
   ]
  },
  {
   "cell_type": "code",
   "execution_count": null,
   "id": "e5746984-1eb0-4778-8462-822c19cf72fa",
   "metadata": {},
   "outputs": [],
   "source": []
  },
  {
   "cell_type": "markdown",
   "id": "6f44ddc6-d776-45fa-87ac-0908bd8dbbff",
   "metadata": {},
   "source": [
    "<br>\n",
    "\n",
    "### 🧠 CVIČENÍ 13 🧠, Vyzkoušej si princip *Liskov substitution*:\n",
    "---"
   ]
  },
  {
   "cell_type": "markdown",
   "id": "2cf28b3f-5b80-4fb8-9d92-3757e1068141",
   "metadata": {},
   "source": [
    "1. Máš třídu `Ptak` a podtřídu `Tucnak`, která dědí od třídy `Ptak`,\n",
    "2. uprav třídy `Ptak` a `Tucnak` tak, ať splňuje podmínky třetího principu SOLID, tedy možnost nahradit **rodiče jeho potomky**."
   ]
  },
  {
   "cell_type": "code",
   "execution_count": null,
   "id": "727b7e4b-53cd-4417-b052-fdc16669b7a9",
   "metadata": {
    "tags": []
   },
   "outputs": [],
   "source": [
    "class Ptak:\n",
    "    def leta(self):\n",
    "        return \"Umím létat!\"\n",
    "\n",
    "class Tucnak(Ptak):\n",
    "    pass"
   ]
  },
  {
   "cell_type": "code",
   "execution_count": null,
   "id": "df494a43-691a-4edc-9628-20b654411d5a",
   "metadata": {
    "tags": []
   },
   "outputs": [],
   "source": [
    "pingu = Tucnak()\n",
    "pingu.leta()"
   ]
  },
  {
   "cell_type": "markdown",
   "id": "3f5f0375-9651-4430-b028-079734344218",
   "metadata": {},
   "source": [
    "<details>\n",
    "    <summary>▶️ Řešení</summary>\n",
    "    \n",
    "```python\n",
    "class LetavyPtak:\n",
    "    def leta(self):\n",
    "        return \"Umím létat!\"\n",
    "    \n",
    "class NeletavyPtak:\n",
    "    def leta(self):\n",
    "        return \"Neumím létat!\"\n",
    "\n",
    "class Tucnak(NeletavyPtak):\n",
    "    pass\n",
    "```\n",
    "</details>"
   ]
  },
  {
   "cell_type": "markdown",
   "id": "3715118c-9617-420b-bc78-cfe3a303c6cf",
   "metadata": {},
   "source": [
    "### Interface Segregation princip\n",
    "\n",
    "---"
   ]
  },
  {
   "cell_type": "markdown",
   "id": "ea3c540a-4bcf-4cb8-a9de-d1b63d3bda5b",
   "metadata": {},
   "source": [
    "<img src=\"https://external-content.duckduckgo.com/iu/?u=https%3A%2F%2Ftse1.mm.bing.net%2Fth%3Fid%3DOIP.AWykJlLJFaiTthcYReAgtQHaHa%26pid%3DApi&f=1&ipt=dd3ec9af7c209cd700873d7e72f9d3f463cdefba06e1194086bdaa45265bfa35&ipo=images\" width=\"200\" style=\"margin-left:auto; margin-right:auto\">"
   ]
  },
  {
   "cell_type": "markdown",
   "id": "e2242236-ad0e-44f9-bd0f-6b338981a3ea",
   "metadata": {
    "tags": []
   },
   "source": [
    "Čtvrtý princip v pořadí zní oficiálně:"
   ]
  },
  {
   "cell_type": "markdown",
   "id": "f93e12e5-c0a8-4045-8ea7-3895f2702a62",
   "metadata": {},
   "source": [
    "*Clients should not be forced to depend upon methods that they do not use.*<br>\n",
    "Převedeno do jednodušší řeči:\n",
    "\n",
    "Pokud má **rodičovská třída spousty objektů** (*atributů* a *metod*), **její potomci je nebudou pravděpodobně potřebovat všechny**.\n",
    "\n",
    "<br>\n",
    "\n",
    "Kvůli dědičnosti by bylo takhle možné, u potomků pracovat s objekty rodičů, které potomek nepotřebuje.\n",
    "\n",
    "Takové chování by často vedlo ke **zmatení, nepochopení nebo chybám**."
   ]
  },
  {
   "cell_type": "code",
   "execution_count": null,
   "id": "75a759f7-baad-428c-86ad-909c005ea1c4",
   "metadata": {
    "tags": []
   },
   "outputs": [],
   "source": [
    "class Ptak:\n",
    "    def chodi(self):\n",
    "        print(\"Chodí..\")\n",
    "        \n",
    "    def leta(self):\n",
    "        print(\"Létá..\")\n",
    "        \n",
    "    def plave(self):\n",
    "        print(\"Plave..\")"
   ]
  },
  {
   "cell_type": "code",
   "execution_count": null,
   "id": "fee55446-811e-4960-934e-535279ba273a",
   "metadata": {
    "tags": []
   },
   "outputs": [],
   "source": [
    "class Kachna(Ptak):\n",
    "    pass"
   ]
  },
  {
   "cell_type": "markdown",
   "id": "6ee67d1d-4833-4be8-aa7e-2aa94dd25130",
   "metadata": {},
   "source": [
    "<br>\n",
    "\n",
    "Třída `Kachna` je potomek třídy `Ptak` a ve všech ohledech vykazuje logické chování:"
   ]
  },
  {
   "cell_type": "code",
   "execution_count": null,
   "id": "88724c80-a863-4ad9-be67-8a1314551b88",
   "metadata": {
    "tags": []
   },
   "outputs": [],
   "source": [
    "kachna_1 = Kachna()\n",
    "kachna_1.chodi()\n",
    "kachna_1.leta()\n",
    "kachna_1.plave()"
   ]
  },
  {
   "cell_type": "markdown",
   "id": "97c5a632-eb4a-42a6-9b53-6978ea7aacdb",
   "metadata": {},
   "source": [
    "<br>\n",
    "\n",
    "Problém nastává, pokud vytvoříš nového potomka.\n",
    "\n",
    "U kterého některá z metod není logické, případně kritická:"
   ]
  },
  {
   "cell_type": "code",
   "execution_count": null,
   "id": "7b000f02-96a2-4791-917c-5e73aea65d8e",
   "metadata": {
    "tags": []
   },
   "outputs": [],
   "source": [
    "class Tucnak(Ptak):\n",
    "    pass"
   ]
  },
  {
   "cell_type": "code",
   "execution_count": null,
   "id": "4e726597-2791-49e5-940b-efbf502efbeb",
   "metadata": {
    "tags": []
   },
   "outputs": [],
   "source": [
    "tucnak = Tucnak()\n",
    "tucnak.chodi()\n",
    "tucnak.leta()\n",
    "tucnak.plave()"
   ]
  },
  {
   "cell_type": "markdown",
   "id": "a39da510-d41a-4d9c-8d49-27a023653a6b",
   "metadata": {},
   "source": [
    "<br>\n",
    "\n",
    "**Tučňák** zcela očividně není typ ptáka, který dovede létat.\n",
    "\n",
    "U takové třídy to samozřejmě není komplikace.\n",
    "\n",
    "Jsou ale mnohem komplikovanější situace a mnohem rozsáhlejší dopady v praxi napsaných tříd."
   ]
  },
  {
   "cell_type": "code",
   "execution_count": null,
   "id": "1e67272f-7646-4da3-b5f2-22799e6b1ee4",
   "metadata": {
    "tags": []
   },
   "outputs": [],
   "source": [
    "from abc import ABC, abstractmethod"
   ]
  },
  {
   "cell_type": "code",
   "execution_count": null,
   "id": "27743782-6b1b-46ba-8b45-ae7db6f1203b",
   "metadata": {
    "tags": []
   },
   "outputs": [],
   "source": [
    "class Ptak(ABC):\n",
    "    \n",
    "    @abstractmethod\n",
    "    def chodi(self):\n",
    "        print(\"Chodí..\")\n",
    "\n",
    "    @abstractmethod\n",
    "    def leta(self):\n",
    "        print(\"Létá..\")\n",
    "    \n",
    "    @abstractmethod\n",
    "    def plave(self):\n",
    "        print(\"Plave..\")"
   ]
  },
  {
   "cell_type": "code",
   "execution_count": null,
   "id": "e5b06edb-3e43-4979-900c-25fcc9e5baa9",
   "metadata": {
    "tags": []
   },
   "outputs": [],
   "source": [
    "class Kachna(Ptak):\n",
    "    def chodi(self):\n",
    "        print(\"Chodí..\")\n",
    "\n",
    "    def leta(self):\n",
    "        print(\"Létá..\")\n",
    "    \n",
    "    def plave(self):\n",
    "        print(\"Plave..\")\n",
    "\n",
    "\n",
    "class Tucnak(Ptak):\n",
    "    def chodi(self):\n",
    "        print(\"Chodí..\")\n",
    "\n",
    "    def leta(self):\n",
    "        raise NotImplementedError(\"Neumí létat\")\n",
    "    \n",
    "    def plave(self):\n",
    "        print(\"Plave..\")"
   ]
  },
  {
   "cell_type": "code",
   "execution_count": null,
   "id": "afe89b2d-f7e4-470e-b63f-581fe671f434",
   "metadata": {
    "tags": []
   },
   "outputs": [],
   "source": [
    "kachna = Kachna()\n",
    "tucnak = Tucnak()"
   ]
  },
  {
   "cell_type": "code",
   "execution_count": null,
   "id": "7ea472c0-814a-448f-ba35-8fc7fa43c7fd",
   "metadata": {
    "tags": []
   },
   "outputs": [],
   "source": [
    "kachna.chodi()\n",
    "kachna.leta()\n",
    "kachna.plave()"
   ]
  },
  {
   "cell_type": "code",
   "execution_count": null,
   "id": "c3e8d33c-3994-44ff-8474-0373d5360523",
   "metadata": {
    "tags": []
   },
   "outputs": [],
   "source": [
    "tucnak.chodi()\n",
    "tucnak.leta()\n",
    "tucnak.plave()"
   ]
  },
  {
   "cell_type": "markdown",
   "id": "cd2d1160-a749-4002-b023-752654e6394b",
   "metadata": {},
   "source": [
    "<br>\n",
    "\n",
    "Díky poslední úpravě, můžeš pracovat jak s rodičovskou třídou `Ptak`, tak s podtřídou `Kachna` a `Tucnak`.\n",
    "\n",
    "Přitom jejich objekty neporušují Liskovu substituci.\n",
    "\n",
    "Dále objekty, které nelze logicky aplikovat obsahují defaultní výjimku `NotImplementedError`."
   ]
  },
  {
   "cell_type": "markdown",
   "id": "6c560307-9145-4bc7-bddc-68e453d6b885",
   "metadata": {},
   "source": [
    "<br>\n",
    "\n",
    "### 🧠 CVIČENÍ 14 🧠, Vyzkoušej si princip *interface segregation*:\n",
    "---"
   ]
  },
  {
   "cell_type": "markdown",
   "id": "6a72c166-83ec-4b54-bb7f-70ea6ec68543",
   "metadata": {},
   "source": [
    "1. Máš třídu `Zvire`\n",
    "2. vytvor instance `ptak` a `ryba`, pro obě uprav objekty tak, ať splňuje podmínky čtvrtého principu SOLID, tedy redukce jednotlivých metod."
   ]
  },
  {
   "cell_type": "code",
   "execution_count": null,
   "id": "e99aefd9-550b-4a84-9d3f-8ed8689a034c",
   "metadata": {
    "tags": []
   },
   "outputs": [],
   "source": [
    "class Zvire:\n",
    "    def zere(self):\n",
    "        pass\n",
    "\n",
    "    def leta(self):\n",
    "        pass\n",
    "\n",
    "    def plave(self):\n",
    "        pass"
   ]
  },
  {
   "cell_type": "code",
   "execution_count": null,
   "id": "56efdcc1-e37a-4d77-a111-9930ea5fef4b",
   "metadata": {
    "tags": []
   },
   "outputs": [],
   "source": [
    "ptak = Ptak()    # neplave\n",
    "ryba = Ryba()    # neleta"
   ]
  },
  {
   "cell_type": "markdown",
   "id": "c0488726-4ba8-4b25-b120-7e3efb0c3e05",
   "metadata": {},
   "source": [
    "<details>\n",
    "    <summary>▶️ Řešení</summary>\n",
    "    \n",
    "```python\n",
    "from abc import ABC, abstractmethod\n",
    "\n",
    "class Zvire(ABC):\n",
    "    \n",
    "    @abstractmethod\n",
    "    def zere(self):\n",
    "        pass\n",
    "    \n",
    "    @abstractmethod\n",
    "    def leta(self):\n",
    "        pass\n",
    "    \n",
    "    @abstractmethod\n",
    "    def plave(self):\n",
    "        pass\n",
    "        \n",
    "    \n",
    "class Ryba(Zvire):\n",
    "    def zere(self):\n",
    "        print(\"Zrovna žeru\")\n",
    "    \n",
    "    def leta(self):\n",
    "        raise NotImplementedError(\"Nelétám\")\n",
    "    \n",
    "    def plave(self):\n",
    "        print(\"Zrovna plavu\")\n",
    "\n",
    "    \n",
    "class Ptak(Zvire):\n",
    "    def zere(self):\n",
    "        print(\"Zrovna žeru\")\n",
    "    \n",
    "    def leta(self):\n",
    "        print(\"Zrovna letím\")\n",
    "        \n",
    "    def plave(self):\n",
    "        raise NotImplementedError(\"Neplavu\")\n",
    "```\n",
    "</details>"
   ]
  },
  {
   "cell_type": "markdown",
   "id": "cbe6bb22-9a5a-40ad-b310-00fb99096baf",
   "metadata": {},
   "source": [
    "### Dependency Inversion princip\n",
    "\n",
    "---"
   ]
  },
  {
   "cell_type": "markdown",
   "id": "9f112b62-cbfa-439e-b97f-15f211c3a66a",
   "metadata": {},
   "source": [
    "<img src=\"https://external-content.duckduckgo.com/iu/?u=https%3A%2F%2Ftse2.mm.bing.net%2Fth%3Fid%3DOIP.ElRuiSC0jD4U92GbKK7tKQHaHa%26pid%3DApi&f=1&ipt=c07283025cf1bdc16c1881fa5e49ce590b471ca9160ab4b26dddcbab30c28fe6&ipo=images\" width=\"200\" style=\"margin-left:auto; margin-right:auto\">"
   ]
  },
  {
   "cell_type": "markdown",
   "id": "96f1aafc-27c6-46cb-895a-d499fc053a61",
   "metadata": {},
   "source": [
    "Opět nejprve oficiální znění tohoto konceptu:\n",
    "*Abstractions should not depend upon details. Details should depend upon abstractions.*\n",
    "\n",
    "Tento popis ale dělá z pátého pravidla docela vágní terminologii.\n",
    "\n",
    "<br>\n",
    "\n",
    "Prakticky a lidsky můžeš konstantovat:<br>\n",
    "**Závislosti nebo také vztahy by se měly odvíjet od abstrakcí. Ne od konkrétních tříd či modulů**."
   ]
  },
  {
   "cell_type": "code",
   "execution_count": null,
   "id": "74779a3a-3fac-4887-bf08-0848de461d0a",
   "metadata": {
    "tags": []
   },
   "outputs": [],
   "source": [
    "import time"
   ]
  },
  {
   "cell_type": "code",
   "execution_count": null,
   "id": "7f333e03-ce70-4289-8110-b95fd58401e5",
   "metadata": {
    "tags": []
   },
   "outputs": [],
   "source": [
    "class Displej:\n",
    "    def zobraz_nactena_data(self):\n",
    "        moje_data = ZdrojDat()\n",
    "        hruba_data = moje_data.ziskej_data_ze_souboru()\n",
    "        print(f\"Display: {hruba_data.upper()}\")"
   ]
  },
  {
   "cell_type": "code",
   "execution_count": null,
   "id": "4ca079f1-0f93-408d-b553-ec211206c9ca",
   "metadata": {
    "tags": []
   },
   "outputs": [],
   "source": [
    "class ZdrojDat:\n",
    "    def ziskej_data_ze_souboru(self):\n",
    "        time.sleep(4)\n",
    "        return \"Data z mého lokálního souboru\""
   ]
  },
  {
   "cell_type": "code",
   "execution_count": null,
   "id": "14202b31-aaf5-433a-96c4-59e1a17062c1",
   "metadata": {
    "tags": []
   },
   "outputs": [],
   "source": [
    "muj_frontend = Displej()"
   ]
  },
  {
   "cell_type": "code",
   "execution_count": null,
   "id": "ed324f87-e2d9-41bf-b789-557c8ec5581a",
   "metadata": {
    "tags": []
   },
   "outputs": [],
   "source": [
    "muj_frontend.zobraz_nactena_data()"
   ]
  },
  {
   "cell_type": "markdown",
   "id": "b555b05c-a488-4f30-90e2-20c5705520e7",
   "metadata": {},
   "source": [
    "<br>\n",
    "\n",
    "V ukázce výše můžeš vidět prohřešek oproti principu *dependency inversion*.\n",
    "\n",
    "Na první pohled můžeš říct, že třídy `Displej` a `ZdrojDat` jsou úzce provázané.\n",
    "\n",
    "Takové chování může v budoucnu omezovat programátory v dalším škálováním (růstu projektu).\n",
    "\n",
    "Třeba pokud budeš potřebovat načíst data z relační databáze:"
   ]
  },
  {
   "cell_type": "code",
   "execution_count": null,
   "id": "df28a14a-255a-4d73-967e-913d6901bfc2",
   "metadata": {
    "tags": []
   },
   "outputs": [],
   "source": [
    "from abc import ABC, abstractmethod\n",
    "\n",
    "class Displej:\n",
    "    def __init__(self, nactena_data: ZdrojDat):\n",
    "        self.nactena_data = nactena_data\n",
    "\n",
    "    def zobraz_nactena_data(self):\n",
    "        data = self.nactena_data.ziskej_data()\n",
    "        print(f\"Display: {data.upper()}\")\n",
    "\n",
    "class ZdrojDat(ABC):\n",
    "    @abstractmethod\n",
    "    def ziskej_data(self):\n",
    "        pass\n",
    "\n",
    "class ZdrojDatJakoDatabaze(ZdrojDat):\n",
    "    def ziskej_data(self):\n",
    "        return \"Data z relační databáze.\"\n",
    "        \n",
    "class ZdrojDatJakoSoubor(ZdrojDat):\n",
    "    def ziskej_data(self):\n",
    "        return \"Data z mého lokálního souboru\""
   ]
  },
  {
   "cell_type": "markdown",
   "id": "5b1b98f7-fdf9-4292-94bf-25071755a5ea",
   "metadata": {},
   "source": [
    "<br>\n",
    "\n",
    "V takovém případě můžeš definovat různé zdroje.\n",
    "\n",
    "Pokud potřebuješ soubor, nebo pokud potřebuješ databázi.\n",
    "\n",
    "Důležité je, že závislosti nyní převádíš na abstrace.\n",
    "\n",
    "Nikoliv na konkrétní třídy a moduly:"
   ]
  },
  {
   "cell_type": "code",
   "execution_count": null,
   "id": "e344bd51-cfb6-4f36-a613-118436896ee6",
   "metadata": {
    "tags": []
   },
   "outputs": [],
   "source": [
    "data_z_db = ZdrojDatJakoDatabaze()\n",
    "data_z_so = ZdrojDatJakoSoubor()"
   ]
  },
  {
   "cell_type": "markdown",
   "id": "f858161e-8eba-4f4c-a7b0-8fe0bba7f86d",
   "metadata": {},
   "source": [
    "<br>\n",
    "\n",
    "Vytvořené instance mají nachystané data.\n",
    "\n",
    "Ta potom přenáším do třídy `Displej`:"
   ]
  },
  {
   "cell_type": "code",
   "execution_count": null,
   "id": "e21008fb-6150-44c2-8e63-0dee466f79a6",
   "metadata": {
    "tags": []
   },
   "outputs": [],
   "source": [
    "zobrazeni_1 = Displej(data_z_db)\n",
    "zobrazeni_2 = Displej(data_z_so)"
   ]
  },
  {
   "cell_type": "markdown",
   "id": "8975a1b1-210c-48d3-9b6e-448af4c8cf61",
   "metadata": {},
   "source": [
    "<br>\n",
    "\n",
    "Nyní třída `Displej` nezávísí na konkrétní třídě, ale pouze její abstrakci `ZdrojDat`:"
   ]
  },
  {
   "cell_type": "code",
   "execution_count": null,
   "id": "bf5538b8-bbd8-4b46-a23c-83fae7e21435",
   "metadata": {
    "tags": []
   },
   "outputs": [],
   "source": [
    "zobrazeni_1.zobraz_nactena_data()\n",
    "zobrazeni_2.zobraz_nactena_data()"
   ]
  },
  {
   "cell_type": "markdown",
   "id": "3af9da08-2c48-41f3-86a8-940cdb64fa7c",
   "metadata": {},
   "source": [
    "<br>\n",
    "\n",
    "### 🧠 CVIČENÍ 15 🧠, Vyzkoušej si princip *dependency inversion*:\n",
    "---"
   ]
  },
  {
   "cell_type": "markdown",
   "id": "8eddd086-fc27-41f1-9e06-6152a9e718da",
   "metadata": {},
   "source": [
    "1. Máš třídu `MySQLDatabaze` a třídu `MojeAplikace`,\n",
    "2. podívej se na řešení úlohy a zamysli se, jestli na něm není něco chybného,\n",
    "3. pokud ano, navrhi jak takovou situaci řešit."
   ]
  },
  {
   "cell_type": "code",
   "execution_count": null,
   "id": "8c1b04a0-9e48-4579-922b-0930c833572f",
   "metadata": {
    "tags": []
   },
   "outputs": [],
   "source": [
    "class MySQLDatabaze:\n",
    "    def vytvor_pripojovaci_object(self):\n",
    "        pass\n",
    "    def posli_dotaz(self):\n",
    "        pass\n",
    "\n",
    "class MojeAplikace:\n",
    "    def __init__(self):\n",
    "        self.databaze = MySQLDatabase()  # <-- zde\n",
    "        self.databaze.vytvor_pripojovaci_object()"
   ]
  },
  {
   "cell_type": "code",
   "execution_count": null,
   "id": "6e1bb9bc-1b8a-424a-bc77-6060ff76aea1",
   "metadata": {
    "tags": []
   },
   "outputs": [],
   "source": [
    "class ZdrojDat(ABC):\n",
    "    @abstractmethod\n",
    "    def vytvor_pripojovaci_object(self):\n",
    "        pass\n",
    "\n",
    "class MySQLDatabaze(ZdrojDat):\n",
    "    def vytvor_pripojovaci_object(self):\n",
    "        pass\n",
    "    \n",
    "class MongoDatabaze(ZdrojDat):\n",
    "    def vytvor_pripojovaci_object(self):\n",
    "        pass\n",
    "\n",
    "class MojeAplikace:\n",
    "    def __init__(self, zdroj_dat: ZdrojDat): # dep. inversion\n",
    "        self.zdroj_dat = zdroj_dat\n",
    "        self.zdroj_dat.vytvor_pripojovaci_object()"
   ]
  },
  {
   "cell_type": "code",
   "execution_count": null,
   "id": "5d7513d2-e00e-40a8-8fc9-f8be06e08467",
   "metadata": {
    "tags": []
   },
   "outputs": [],
   "source": [
    "mongo_data = MongoDatabaze()"
   ]
  },
  {
   "cell_type": "code",
   "execution_count": null,
   "id": "506bc66c-430a-48c5-a660-7b86093a88dc",
   "metadata": {
    "tags": []
   },
   "outputs": [],
   "source": [
    "moje_app = MojeAplikace(mongo_data)"
   ]
  },
  {
   "cell_type": "markdown",
   "id": "d2879688-7bcf-47a1-b7b0-c94a3fd2109f",
   "metadata": {},
   "source": [
    "<details>\n",
    "    <summary>▶️ Řešení</summary>\n",
    "    \n",
    "```python\n",
    "from abc import ABC, abstractmethod\n",
    "\n",
    "class Databaze(ABC):\n",
    "    @abstractmethod\n",
    "    def pripojeni_db(self):\n",
    "        pass\n",
    "\n",
    "    @abstractmethod\n",
    "    def posli_dotaz(self):\n",
    "        pass\n",
    "\n",
    "class MySQLDatabase(Databaze):\n",
    "    def pripojeni_db(self):\n",
    "        pass\n",
    "    def posli_dotaz(self):\n",
    "        pass\n",
    "\n",
    "class MyApp:\n",
    "    def __init__(self, db: Databaze):\n",
    "        self.database = db\n",
    "        self.db.pripojeni_db()\n",
    "```\n",
    "</details>"
   ]
  },
  {
   "cell_type": "markdown",
   "id": "2a495fee-d075-4388-8fa3-8e2b32373654",
   "metadata": {},
   "source": [
    "<br>\n",
    "\n",
    "### Souhrn k SOLID principům\n",
    "\n",
    "---"
   ]
  },
  {
   "cell_type": "markdown",
   "id": "977dc49b-8a3a-4f99-8817-a2bdc0ef465b",
   "metadata": {},
   "source": [
    "Principy *SOLID* nejsou *dogma*.\n",
    "\n",
    "Patří k solidnímu **úvodu do návrhových vzorů**.\n",
    "\n",
    "Jedná se tedy o jednu z těch **náročnějších problematik**.\n",
    "\n",
    "Jedná se také ale o *cílovou rovinku* v pochopení **konceptů OOP** a současně začátků do koncepce **struktury softwaru**.\n",
    "\n",
    "Každý, kdo se podílí na kolektivním projektu by měl vědět, jak se tyto principy podepisují na zdrojovém kódu."
   ]
  },
  {
   "cell_type": "markdown",
   "id": "7fe283a4-10ba-41fd-bd5c-7c061353aa3a",
   "metadata": {},
   "source": [
    "<br>\n",
    "\n",
    "## OOP nejčastější úskalí\n",
    "\n",
    "---"
   ]
  },
  {
   "cell_type": "markdown",
   "id": "1a9720b0-968b-43f0-a169-85a0a98e00a0",
   "metadata": {
    "tags": []
   },
   "source": [
    "<img src=\"https://external-content.duckduckgo.com/iu/?u=https%3A%2F%2Ftse1.mm.bing.net%2Fth%3Fid%3DOIP.E4_gsFboQHKn-Ihj9aqbDQHaHd%26pid%3DApi&f=1&ipt=9e628c52ea5a7f32a4a10089f9545e9dd1b3958f42cc6e63985b83e7fd9ae124&ipo=images\" width=\"200\" style=\"margin-left:auto; margin-right:auto\">"
   ]
  },
  {
   "cell_type": "markdown",
   "id": "c366fc6a-ef5a-499c-a9ee-3c57b94fa1fd",
   "metadata": {},
   "source": [
    "### OOP je možné kombinovat\n",
    "\n",
    "---"
   ]
  },
  {
   "cell_type": "markdown",
   "id": "df4eb747-7a71-422d-9429-e51eb942c367",
   "metadata": {},
   "source": [
    "Častým omylem, je upřednostnění jediného *paradigmatu*.\n",
    "\n",
    "Funkce i třídy jsou objekty.\n",
    "\n",
    "Proto je jenom samozřejmé, že tyto prostředí je možné vzájemně kombinovat:"
   ]
  },
  {
   "cell_type": "code",
   "execution_count": null,
   "id": "013d6e8e-25d5-4538-ac73-5fe44af96240",
   "metadata": {
    "tags": []
   },
   "outputs": [],
   "source": [
    "class Kniha:\n",
    "    \n",
    "    def __init__(self, autor: str, titulek: str, rok_vydani: int):\n",
    "        self.autor = autor\n",
    "        self.titulek = titulek\n",
    "        self.rok_vydani = rok_vydani\n",
    "    \n",
    "    @classmethod\n",
    "    def from_dict(cls, hodnota: dict) -> Kniha:\n",
    "        return cls(hodnota.get(\"autor\"), hodnota.get(\"titulek\"), hodnota.get(\"rok\"))"
   ]
  },
  {
   "cell_type": "code",
   "execution_count": null,
   "id": "1c26e5e4-fa9f-4d7b-b88a-57f7cbcb9c24",
   "metadata": {
    "tags": []
   },
   "outputs": [],
   "source": [
    "def zavolej_api_sluzbu(dotaz: str) -> dict:\n",
    "    if dotaz == \"<url>/GET?Meč-osudu-sapkowski\":\n",
    "        return {\n",
    "            \"autor\": \"Timothy Zahn\",\n",
    "            \"titulek\": \"Dědic impéria\",\n",
    "            \"rok\": 199\n",
    "        }\n",
    "    else:\n",
    "        raise NotImplementedError(\"Tento typ dotazu není možné zpracovat\")"
   ]
  },
  {
   "cell_type": "markdown",
   "id": "bc40ccec-37c6-473d-8a9f-8103ff02016c",
   "metadata": {},
   "source": [
    "<br>\n",
    "\n",
    "V ukázce výše je pěkná kombinace uživ. funkce a třídy.\n",
    "\n",
    "Není nutné držet se čistě OOP nebo uživ. funkcí.\n",
    "\n",
    "Spíš optimální kombinace obou prostředí: "
   ]
  },
  {
   "cell_type": "code",
   "execution_count": null,
   "id": "23af21ed-8327-40ee-a298-07cdcfaa2b24",
   "metadata": {
    "tags": []
   },
   "outputs": [],
   "source": [
    "odpoved = zavolej_api_sluzbu(\"<url>/GET?Meč-osudu-sapkowski\")"
   ]
  },
  {
   "cell_type": "code",
   "execution_count": null,
   "id": "638c1af2-3f48-462f-983b-a9faf5c08c05",
   "metadata": {
    "tags": []
   },
   "outputs": [],
   "source": [
    "odpoved"
   ]
  },
  {
   "cell_type": "code",
   "execution_count": null,
   "id": "dcf20fba-3136-452d-89c4-5bc58215549f",
   "metadata": {
    "tags": []
   },
   "outputs": [],
   "source": [
    "moje_kniha = Kniha.from_dict(odpoved)"
   ]
  },
  {
   "cell_type": "code",
   "execution_count": null,
   "id": "d6df672f-83f1-4597-b5db-aba167f79d97",
   "metadata": {
    "tags": []
   },
   "outputs": [],
   "source": [
    "moje_kniha.__dict__"
   ]
  },
  {
   "cell_type": "markdown",
   "id": "e7d9aece-4af7-4641-b8f0-29db9196cb72",
   "metadata": {},
   "source": [
    "<br>\n",
    "\n",
    "Už víš, že Python je jazyk, který podporuje různé styly programování.\n",
    "\n",
    "Každé paradigma má své silné stránky.\n",
    "\n",
    "Kombinuj tyto silné stránky a mysli na to, že je důležité dbát na čitelnost a pochopitelnost."
   ]
  },
  {
   "cell_type": "markdown",
   "id": "60400bee-f062-47d6-b02e-8fd481fcd4b1",
   "metadata": {},
   "source": [
    "### Třídy mají jak vlastnosti, tak schopnosti\n",
    "\n",
    "---"
   ]
  },
  {
   "cell_type": "markdown",
   "id": "168e6c73-97db-4972-9e03-dded17b83eab",
   "metadata": {},
   "source": [
    "Třída může mít jak vlastnosti (*atributy*), tak schopnosti (*metody*).\n",
    "\n",
    "Občas je vhodné, vytvořit takovou třídu, která je orientovaná na:\n",
    "1. **data**, *atributy*,\n",
    "2. **schopnosti**, *metody* tříd.\n",
    "\n",
    "Tedy třídy, které něco:\n",
    "1. **data**,  ~popisují,\n",
    "2. **schopnosti**, ~dělají."
   ]
  },
  {
   "cell_type": "markdown",
   "id": "dede5405-37d2-4ef1-a5ec-3eaaaa794f32",
   "metadata": {
    "tags": []
   },
   "source": [
    "#### Třídy orientované na data\n",
    "\n",
    "---"
   ]
  },
  {
   "cell_type": "markdown",
   "id": "b5dd8de7-89f3-4609-9e9d-636b094200bb",
   "metadata": {},
   "source": [
    "Třída z předchozí ukázky měla více vlastností než dovedností:"
   ]
  },
  {
   "cell_type": "code",
   "execution_count": null,
   "id": "963ef954-62f0-4980-bb32-b97a6e6909f1",
   "metadata": {
    "tags": []
   },
   "outputs": [],
   "source": [
    "class Kniha:\n",
    "    \n",
    "    def __init__(self, autor: str, titulek: str, rok_vydani: int):\n",
    "        self.autor = autor\n",
    "        self.titulek = titulek\n",
    "        self.rok_vydani = rok_vydani"
   ]
  },
  {
   "cell_type": "code",
   "execution_count": null,
   "id": "dd04136f-4cff-4343-b198-5edd56783015",
   "metadata": {
    "tags": []
   },
   "outputs": [],
   "source": [
    "dedic_imperia = Kniha(\"Timothy Zahn\", \"Dědic impéria\", 1993)"
   ]
  },
  {
   "cell_type": "markdown",
   "id": "43b0c7f8-dfe7-4d08-a6e5-9d17f05bd595",
   "metadata": {},
   "source": [
    "<br>\n",
    "\n",
    "V takovém ohledu bývá užitečnější, podobnou třídu vytvořit jako **datovou třídu**:"
   ]
  },
  {
   "cell_type": "code",
   "execution_count": null,
   "id": "56958063-deda-41db-8c81-23ca40816b12",
   "metadata": {
    "tags": []
   },
   "outputs": [],
   "source": [
    "from dataclasses import dataclass, astuple, asdict"
   ]
  },
  {
   "cell_type": "code",
   "execution_count": null,
   "id": "c3cb6755-ff93-427c-ac17-a703e89dd03b",
   "metadata": {
    "tags": []
   },
   "outputs": [],
   "source": [
    "@dataclass\n",
    "class Kniha:\n",
    "    autor: str\n",
    "    titulek: str\n",
    "    rok: int"
   ]
  },
  {
   "cell_type": "code",
   "execution_count": null,
   "id": "8dd1f1c5-597e-46e9-a63a-ef0c88748a9e",
   "metadata": {
    "tags": []
   },
   "outputs": [],
   "source": [
    "dedic_imperia = Kniha(\"Timothy Zahn\", \"Dědic impéria\", 1993)"
   ]
  },
  {
   "cell_type": "code",
   "execution_count": null,
   "id": "a4fb5590-d678-454d-bf25-7993e484fd3f",
   "metadata": {
    "tags": []
   },
   "outputs": [],
   "source": [
    "dedic_imperia.autor"
   ]
  },
  {
   "cell_type": "code",
   "execution_count": null,
   "id": "6a5a5fc6-9567-46c6-add8-0b0abda713db",
   "metadata": {
    "tags": []
   },
   "outputs": [],
   "source": [
    "dedic_imperia.rok"
   ]
  },
  {
   "cell_type": "markdown",
   "id": "a62fc28f-a9de-4a42-ac2b-d1033be3a7de",
   "metadata": {},
   "source": [
    "<br>\n",
    "\n",
    "V porovnání s klasickou *instancí* třídy je to podstatě méně vypisování při *instancování*.\n",
    "\n",
    "Dále jsou automaticky nachystané některé magické metody:"
   ]
  },
  {
   "cell_type": "code",
   "execution_count": null,
   "id": "cd646937-b8de-4d83-ba1d-129c90617c86",
   "metadata": {
    "tags": []
   },
   "outputs": [],
   "source": [
    "print(dedic_imperia)"
   ]
  },
  {
   "cell_type": "markdown",
   "id": "e2db34bd-6994-4169-b8de-1e19c8de8c26",
   "metadata": {},
   "source": [
    "<br>\n",
    "\n",
    "Ve zkratce jsou tedy datové třídy prakticky běžné třídy.\n",
    "\n",
    "Jedinný rozdíl je v tom, že obsahují předchystané magické metody.\n",
    "\n",
    "Ty je u klasické třídy potřeba definovat ručně."
   ]
  },
  {
   "cell_type": "code",
   "execution_count": null,
   "id": "fe54e7b0-27e5-41ea-ab7c-b1d126a7b349",
   "metadata": {
    "tags": []
   },
   "outputs": [],
   "source": [
    "@dataclass\n",
    "class Kniha:\n",
    "    autor: str\n",
    "    titulek: str\n",
    "    rok: int\n",
    "    \n",
    "    def vytvor_poznamku(self, jmeno: str, text: str):\n",
    "        return f\"{jmeno} - {self.titulek}: {text}\""
   ]
  },
  {
   "cell_type": "code",
   "execution_count": null,
   "id": "fcc0c434-2628-46ab-9e96-527744689a47",
   "metadata": {
    "tags": []
   },
   "outputs": [],
   "source": [
    "dedic_imperia = Kniha(\"Timothy Zahn\", \"Dědic impéria\", 1993)"
   ]
  },
  {
   "cell_type": "code",
   "execution_count": null,
   "id": "f8b53bcb-6f86-4482-b50d-5f8106bc402b",
   "metadata": {
    "tags": []
   },
   "outputs": [],
   "source": [
    "print(dedic_imperia.vytvor_poznamku(\"Moje poznámka #1\", \"Toto je super část!\"))"
   ]
  },
  {
   "cell_type": "markdown",
   "id": "9db39f12-75d9-4117-a86f-2099e40b207f",
   "metadata": {},
   "source": [
    "<br>\n",
    "\n",
    "Pokud potřebuješ některou funkcionalitu doplnit, můžeš také."
   ]
  },
  {
   "cell_type": "code",
   "execution_count": null,
   "id": "cf5ff772-09ca-4af0-b839-de28a7a60353",
   "metadata": {
    "tags": []
   },
   "outputs": [],
   "source": [
    "@dataclass(frozen=True)\n",
    "class Kniha:\n",
    "    autor: str\n",
    "    titulek: str\n",
    "    rok: int"
   ]
  },
  {
   "cell_type": "code",
   "execution_count": null,
   "id": "4f49b38e-3898-410a-974b-8e9451b1696d",
   "metadata": {
    "tags": []
   },
   "outputs": [],
   "source": [
    "dedic_imperia = Kniha(\"Timothy Zahn\", \"Dědic impéria\", 1993)"
   ]
  },
  {
   "cell_type": "code",
   "execution_count": null,
   "id": "a6d49ee0-fc3e-45da-b1d2-6c6e7c9d3a98",
   "metadata": {
    "tags": []
   },
   "outputs": [],
   "source": [
    "dedic_imperia.autor = \"Matouš Holinka\""
   ]
  },
  {
   "cell_type": "markdown",
   "id": "65e317c4-1deb-4300-8047-3356acaa4666",
   "metadata": {},
   "source": [
    "<br>\n",
    "\n",
    "Nežádoucí přepisování můžeš zamezit pomocí parametru `frozen`.\n",
    "\n",
    "Potom není možné, přepisovat atributy, jakmile je instance vytvořená."
   ]
  },
  {
   "cell_type": "code",
   "execution_count": null,
   "id": "5af25fa1-61eb-448a-9bfb-12cb35589780",
   "metadata": {
    "tags": []
   },
   "outputs": [],
   "source": [
    "@dataclass(frozen=True)\n",
    "class Kniha:\n",
    "    autor: str\n",
    "    titulek: str\n",
    "    rok: int"
   ]
  },
  {
   "cell_type": "code",
   "execution_count": null,
   "id": "7cacde66-418a-4a83-aee8-cb361d9cbe82",
   "metadata": {
    "tags": []
   },
   "outputs": [],
   "source": [
    "dedic_imperia = Kniha(\"Timothy Zahn\", \"Dědic impéria\", 1993)"
   ]
  },
  {
   "cell_type": "code",
   "execution_count": null,
   "id": "8915b25e-23e1-45c7-8a07-df8381098e6c",
   "metadata": {
    "tags": []
   },
   "outputs": [],
   "source": [
    "astuple(dedic_imperia)"
   ]
  },
  {
   "cell_type": "code",
   "execution_count": null,
   "id": "4b0babe1-46e9-4018-ad75-4da354540554",
   "metadata": {
    "tags": []
   },
   "outputs": [],
   "source": [
    "asdict(dedic_imperia)"
   ]
  },
  {
   "cell_type": "markdown",
   "id": "3f38b863-1ae7-43c2-afe0-1da4ed4ec387",
   "metadata": {},
   "source": [
    "<br>\n",
    "\n",
    "Nakonec, pokud budeš potřebovat objekt elegantně přetypovat, můžeš vyzkoušet funkce:\n",
    "- `astuple`,\n",
    "- `asdict`."
   ]
  },
  {
   "cell_type": "markdown",
   "id": "451645f1-dce9-4e5b-b0a0-724ab40de390",
   "metadata": {
    "tags": []
   },
   "source": [
    "## ENUM, očíslované třídy\n",
    "\n",
    "---"
   ]
  },
  {
   "cell_type": "markdown",
   "id": "b29f0a25-236a-4c0f-bc8c-46ff2105a115",
   "metadata": {},
   "source": [
    "Jiné programovací jazyky podporují datový typ `Enum`.\n",
    "\n",
    "Jeho účel je vytvořit **množinu pojmenovaných konstant**.\n",
    "\n",
    "Python standardně takové chování nepovoluje, ale existuje elegantní řešení, pomocí dostupné knihovny:"
   ]
  },
  {
   "cell_type": "code",
   "execution_count": 15,
   "id": "abb54da4-6c3b-484c-9df0-910bf3ef74bb",
   "metadata": {
    "tags": []
   },
   "outputs": [],
   "source": [
    "from enum import Enum"
   ]
  },
  {
   "cell_type": "markdown",
   "id": "3964170d-f0f9-42c1-ad02-ee6cf25ace53",
   "metadata": {},
   "source": [
    "Objekty typu `Enum` jsou nachystané na to, aby ti umožnili vytvořit **logicky související konstanty**."
   ]
  },
  {
   "cell_type": "markdown",
   "id": "a37a830d-7e18-4b43-b2df-da00394a62e6",
   "metadata": {},
   "source": [
    "<br>\n",
    "\n",
    "Pomocí knihovny `enum` můžeš nachystat Enum-like objekt také v Pythonu:"
   ]
  },
  {
   "cell_type": "code",
   "execution_count": null,
   "id": "7b729da8-c376-4d17-925f-090f5db40b3d",
   "metadata": {
    "tags": []
   },
   "outputs": [],
   "source": [
    "class HttpStatusCode(Enum):\n",
    "    INFORMATIONAL: int = 100\n",
    "    SUCCESSFUL: int    = 200\n",
    "    REDIRECTION: int   = 300\n",
    "    CLIENT_ERROR: int  = 400\n",
    "    SERVER_ERROR: int  = 500"
   ]
  },
  {
   "cell_type": "code",
   "execution_count": null,
   "id": "d9986da9-4c57-4a2e-bb2a-1c80be6da7d1",
   "metadata": {
    "tags": []
   },
   "outputs": [],
   "source": [
    "print(HttpStatusCode.INFORMATIONAL)"
   ]
  },
  {
   "cell_type": "code",
   "execution_count": null,
   "id": "44c5a488-28e3-4f6d-b553-51e1e924f516",
   "metadata": {
    "tags": []
   },
   "outputs": [],
   "source": [
    "print(HttpStatusCode.INFORMATIONAL.name)"
   ]
  },
  {
   "cell_type": "code",
   "execution_count": null,
   "id": "e3b83891-a11a-4bc2-ad06-b6305f5391ec",
   "metadata": {
    "tags": []
   },
   "outputs": [],
   "source": [
    "print(HttpStatusCode.INFORMATIONAL.value)"
   ]
  },
  {
   "cell_type": "markdown",
   "id": "43bea529-7d79-4619-b911-5727eab5e141",
   "metadata": {},
   "source": [
    "### Ukázka na datech\n",
    "\n",
    "---"
   ]
  },
  {
   "cell_type": "markdown",
   "id": "2ff488d0-507a-4c6b-abf8-a491883003d7",
   "metadata": {},
   "source": [
    "Představ si situaci, kdy organizuješ objednávky ve firmě:"
   ]
  },
  {
   "cell_type": "code",
   "execution_count": 6,
   "id": "85c1d068-2d2b-4e29-9145-f78dcab23e4f",
   "metadata": {
    "tags": []
   },
   "outputs": [],
   "source": [
    "nahodna_id = [\n",
    "    '1000111',\n",
    "    '1000112',\n",
    "    '1000113',\n",
    "    '1000114',\n",
    "    '1000115',\n",
    "    '1000116',\n",
    "    '1000117',\n",
    "    '1000118',\n",
    "    '1000119',\n",
    "    '1000120',\n",
    "    '1000121',\n",
    "    '1000122',\n",
    "    '1000123',\n",
    "    '1000124',\n",
    "    '1000125',\n",
    "    '1000126',\n",
    "    '1000127',\n",
    "    '1000128',\n",
    "    '1000129',\n",
    "    '1000130'\n",
    "]"
   ]
  },
  {
   "cell_type": "code",
   "execution_count": 7,
   "id": "c73c1986-4da2-411b-9bf6-7933264e9df5",
   "metadata": {
    "tags": []
   },
   "outputs": [],
   "source": [
    "nahodna_data = [\n",
    "    \"2023-01-05\",\n",
    "    \"2023-02-15\",\n",
    "    \"2023-03-20\",\n",
    "    \"2023-04-10\",\n",
    "    \"2023-05-25\",\n",
    "    \"2023-06-08\",\n",
    "    \"2023-07-12\",\n",
    "    \"2023-08-29\",\n",
    "    \"2023-09-18\",\n",
    "    \"2023-10-03\",\n",
    "    \"2023-11-21\",\n",
    "    \"2023-12-09\",\n",
    "    \"2023-01-29\",\n",
    "    \"2023-02-03\",\n",
    "    \"2023-03-14\",\n",
    "    \"2023-04-22\",\n",
    "    \"2023-05-09\",\n",
    "    \"2023-06-30\",\n",
    "    \"2023-07-24\",\n",
    "    \"2023-08-12\"\n",
    "]"
   ]
  },
  {
   "cell_type": "code",
   "execution_count": 8,
   "id": "a3c34787-2b05-4db4-a274-72349d4edcf5",
   "metadata": {
    "tags": []
   },
   "outputs": [],
   "source": [
    "produkty = [\n",
    "    \"Mobilní telefon\",\n",
    "    \"Televize\",\n",
    "    \"Notebook\",\n",
    "    \"Kávovar\",\n",
    "    \"Chladnička\",\n",
    "    \"Mikrovlnná trouba\",\n",
    "    \"Rasový mixér\",\n",
    "    \"Žehlička\",\n",
    "    \"Vysavač\",\n",
    "    \"Herní konzole\",\n",
    "    \"Tablet\",\n",
    "    \"Sluchátka\",\n",
    "    \"Kniha\",\n",
    "    \"Pánská košile\",\n",
    "    \"Dámská sukni\",\n",
    "    \"Tenisová raketa\",\n",
    "    \"Fotokamera\",\n",
    "    \"Stůl\",\n",
    "    \"Židle\",\n",
    "    \"Laptop\"\n",
    "]"
   ]
  },
  {
   "cell_type": "code",
   "execution_count": 9,
   "id": "d86234bb-6ce5-4f47-a4da-fecb7427bee5",
   "metadata": {
    "tags": []
   },
   "outputs": [],
   "source": [
    "stavy_objednavky = [5, 6, 4, 3, 6, 4, 4, 6, 6, 7, 5, 5, 1, 5, 1, 3, 2, 2, 5, 3]"
   ]
  },
  {
   "cell_type": "code",
   "execution_count": 10,
   "id": "9725bcd3-14d7-4e63-8b63-940dd3c2c8bb",
   "metadata": {
    "tags": []
   },
   "outputs": [],
   "source": [
    "from pandas import DataFrame"
   ]
  },
  {
   "cell_type": "code",
   "execution_count": 11,
   "id": "ce6030e4-dfcd-4ede-8925-84f64a5f9840",
   "metadata": {
    "tags": []
   },
   "outputs": [],
   "source": [
    "objednavky_df = DataFrame({\"ID\": nahodna_id, \"vytvořeno\": nahodna_data, \"produkt\": produkty, \"stav\": stavy_objednavky})"
   ]
  },
  {
   "cell_type": "code",
   "execution_count": 13,
   "id": "72808e43-0a02-40c0-84a3-ae5bf48e95fb",
   "metadata": {
    "tags": []
   },
   "outputs": [
    {
     "data": {
      "text/html": [
       "<div>\n",
       "<style scoped>\n",
       "    .dataframe tbody tr th:only-of-type {\n",
       "        vertical-align: middle;\n",
       "    }\n",
       "\n",
       "    .dataframe tbody tr th {\n",
       "        vertical-align: top;\n",
       "    }\n",
       "\n",
       "    .dataframe thead th {\n",
       "        text-align: right;\n",
       "    }\n",
       "</style>\n",
       "<table border=\"1\" class=\"dataframe\">\n",
       "  <thead>\n",
       "    <tr style=\"text-align: right;\">\n",
       "      <th></th>\n",
       "      <th>ID</th>\n",
       "      <th>vytvořeno</th>\n",
       "      <th>produkt</th>\n",
       "      <th>stav</th>\n",
       "    </tr>\n",
       "  </thead>\n",
       "  <tbody>\n",
       "    <tr>\n",
       "      <th>0</th>\n",
       "      <td>1000111</td>\n",
       "      <td>2023-01-05</td>\n",
       "      <td>Mobilní telefon</td>\n",
       "      <td>5</td>\n",
       "    </tr>\n",
       "    <tr>\n",
       "      <th>1</th>\n",
       "      <td>1000112</td>\n",
       "      <td>2023-02-15</td>\n",
       "      <td>Televize</td>\n",
       "      <td>6</td>\n",
       "    </tr>\n",
       "    <tr>\n",
       "      <th>2</th>\n",
       "      <td>1000113</td>\n",
       "      <td>2023-03-20</td>\n",
       "      <td>Notebook</td>\n",
       "      <td>4</td>\n",
       "    </tr>\n",
       "    <tr>\n",
       "      <th>3</th>\n",
       "      <td>1000114</td>\n",
       "      <td>2023-04-10</td>\n",
       "      <td>Kávovar</td>\n",
       "      <td>3</td>\n",
       "    </tr>\n",
       "    <tr>\n",
       "      <th>4</th>\n",
       "      <td>1000115</td>\n",
       "      <td>2023-05-25</td>\n",
       "      <td>Chladnička</td>\n",
       "      <td>6</td>\n",
       "    </tr>\n",
       "    <tr>\n",
       "      <th>5</th>\n",
       "      <td>1000116</td>\n",
       "      <td>2023-06-08</td>\n",
       "      <td>Mikrovlnná trouba</td>\n",
       "      <td>4</td>\n",
       "    </tr>\n",
       "    <tr>\n",
       "      <th>6</th>\n",
       "      <td>1000117</td>\n",
       "      <td>2023-07-12</td>\n",
       "      <td>Rasový mixér</td>\n",
       "      <td>4</td>\n",
       "    </tr>\n",
       "    <tr>\n",
       "      <th>7</th>\n",
       "      <td>1000118</td>\n",
       "      <td>2023-08-29</td>\n",
       "      <td>Žehlička</td>\n",
       "      <td>6</td>\n",
       "    </tr>\n",
       "    <tr>\n",
       "      <th>8</th>\n",
       "      <td>1000119</td>\n",
       "      <td>2023-09-18</td>\n",
       "      <td>Vysavač</td>\n",
       "      <td>6</td>\n",
       "    </tr>\n",
       "    <tr>\n",
       "      <th>9</th>\n",
       "      <td>1000120</td>\n",
       "      <td>2023-10-03</td>\n",
       "      <td>Herní konzole</td>\n",
       "      <td>7</td>\n",
       "    </tr>\n",
       "  </tbody>\n",
       "</table>\n",
       "</div>"
      ],
      "text/plain": [
       "        ID   vytvořeno            produkt  stav\n",
       "0  1000111  2023-01-05    Mobilní telefon     5\n",
       "1  1000112  2023-02-15           Televize     6\n",
       "2  1000113  2023-03-20           Notebook     4\n",
       "3  1000114  2023-04-10            Kávovar     3\n",
       "4  1000115  2023-05-25         Chladnička     6\n",
       "5  1000116  2023-06-08  Mikrovlnná trouba     4\n",
       "6  1000117  2023-07-12       Rasový mixér     4\n",
       "7  1000118  2023-08-29           Žehlička     6\n",
       "8  1000119  2023-09-18            Vysavač     6\n",
       "9  1000120  2023-10-03      Herní konzole     7"
      ]
     },
     "execution_count": 13,
     "metadata": {},
     "output_type": "execute_result"
    }
   ],
   "source": [
    "objednavky_df.head(10)"
   ]
  },
  {
   "cell_type": "markdown",
   "id": "cb812585-3bce-4352-82aa-365689e12803",
   "metadata": {},
   "source": [
    "V tomto okamžiku je práce náročná, protože si *konstanty* **jednotlivých stavů objednávky** umíš jen s potížemi přiradit."
   ]
  },
  {
   "cell_type": "markdown",
   "id": "3a732ef4-69e1-4555-a37f-356388cf7aa4",
   "metadata": {},
   "source": [
    "V ukázce jde samozřejmě o zjednodušená data. Skutečná data mohou být ještě méně přehledná.\n",
    "\n",
    "Přesto lze v takové situaci globálně nahradit hodnoty pomocí datového typu `Enum`."
   ]
  },
  {
   "cell_type": "code",
   "execution_count": 18,
   "id": "9e6b3363-bcc4-4469-87e3-d41b1f9a915c",
   "metadata": {
    "tags": []
   },
   "outputs": [],
   "source": [
    "class StavObjednavky(Enum):\n",
    "    NOVA = 1\n",
    "    ZPRACOVANA = 2\n",
    "    DOPLNENA = 3\n",
    "    STORNOVANA = 4\n",
    "    REKLAMACE = 5\n",
    "    ODESLANA = 6\n",
    "    PRIJATA = 7"
   ]
  },
  {
   "cell_type": "markdown",
   "id": "416fe945-0bd5-4937-93a5-b421e49eaa2b",
   "metadata": {},
   "source": [
    "Pomocí takového `Enum` objektu můžeš snadno stavy nahradit:"
   ]
  },
  {
   "cell_type": "code",
   "execution_count": 19,
   "id": "6b147d27-5645-443b-9a4f-becbb292cfde",
   "metadata": {
    "tags": []
   },
   "outputs": [],
   "source": [
    "objednavky_df['stav'] = [StavObjednavky(cislo_obj) for cislo_obj in objednavky_df['stav']]"
   ]
  },
  {
   "cell_type": "code",
   "execution_count": 20,
   "id": "9a550953-1793-4066-810f-697aa98e2fc3",
   "metadata": {
    "tags": []
   },
   "outputs": [
    {
     "data": {
      "text/html": [
       "<div>\n",
       "<style scoped>\n",
       "    .dataframe tbody tr th:only-of-type {\n",
       "        vertical-align: middle;\n",
       "    }\n",
       "\n",
       "    .dataframe tbody tr th {\n",
       "        vertical-align: top;\n",
       "    }\n",
       "\n",
       "    .dataframe thead th {\n",
       "        text-align: right;\n",
       "    }\n",
       "</style>\n",
       "<table border=\"1\" class=\"dataframe\">\n",
       "  <thead>\n",
       "    <tr style=\"text-align: right;\">\n",
       "      <th></th>\n",
       "      <th>ID</th>\n",
       "      <th>vytvořeno</th>\n",
       "      <th>produkt</th>\n",
       "      <th>stav</th>\n",
       "    </tr>\n",
       "  </thead>\n",
       "  <tbody>\n",
       "    <tr>\n",
       "      <th>0</th>\n",
       "      <td>1000111</td>\n",
       "      <td>2023-01-05</td>\n",
       "      <td>Mobilní telefon</td>\n",
       "      <td>StavObjednavky.REKLAMACE</td>\n",
       "    </tr>\n",
       "    <tr>\n",
       "      <th>1</th>\n",
       "      <td>1000112</td>\n",
       "      <td>2023-02-15</td>\n",
       "      <td>Televize</td>\n",
       "      <td>StavObjednavky.ODESLANA</td>\n",
       "    </tr>\n",
       "    <tr>\n",
       "      <th>2</th>\n",
       "      <td>1000113</td>\n",
       "      <td>2023-03-20</td>\n",
       "      <td>Notebook</td>\n",
       "      <td>StavObjednavky.STORNOVANA</td>\n",
       "    </tr>\n",
       "    <tr>\n",
       "      <th>3</th>\n",
       "      <td>1000114</td>\n",
       "      <td>2023-04-10</td>\n",
       "      <td>Kávovar</td>\n",
       "      <td>StavObjednavky.DOPLNENA</td>\n",
       "    </tr>\n",
       "    <tr>\n",
       "      <th>4</th>\n",
       "      <td>1000115</td>\n",
       "      <td>2023-05-25</td>\n",
       "      <td>Chladnička</td>\n",
       "      <td>StavObjednavky.ODESLANA</td>\n",
       "    </tr>\n",
       "    <tr>\n",
       "      <th>5</th>\n",
       "      <td>1000116</td>\n",
       "      <td>2023-06-08</td>\n",
       "      <td>Mikrovlnná trouba</td>\n",
       "      <td>StavObjednavky.STORNOVANA</td>\n",
       "    </tr>\n",
       "    <tr>\n",
       "      <th>6</th>\n",
       "      <td>1000117</td>\n",
       "      <td>2023-07-12</td>\n",
       "      <td>Rasový mixér</td>\n",
       "      <td>StavObjednavky.STORNOVANA</td>\n",
       "    </tr>\n",
       "    <tr>\n",
       "      <th>7</th>\n",
       "      <td>1000118</td>\n",
       "      <td>2023-08-29</td>\n",
       "      <td>Žehlička</td>\n",
       "      <td>StavObjednavky.ODESLANA</td>\n",
       "    </tr>\n",
       "    <tr>\n",
       "      <th>8</th>\n",
       "      <td>1000119</td>\n",
       "      <td>2023-09-18</td>\n",
       "      <td>Vysavač</td>\n",
       "      <td>StavObjednavky.ODESLANA</td>\n",
       "    </tr>\n",
       "    <tr>\n",
       "      <th>9</th>\n",
       "      <td>1000120</td>\n",
       "      <td>2023-10-03</td>\n",
       "      <td>Herní konzole</td>\n",
       "      <td>StavObjednavky.PRIJATA</td>\n",
       "    </tr>\n",
       "  </tbody>\n",
       "</table>\n",
       "</div>"
      ],
      "text/plain": [
       "        ID   vytvořeno            produkt                       stav\n",
       "0  1000111  2023-01-05    Mobilní telefon   StavObjednavky.REKLAMACE\n",
       "1  1000112  2023-02-15           Televize    StavObjednavky.ODESLANA\n",
       "2  1000113  2023-03-20           Notebook  StavObjednavky.STORNOVANA\n",
       "3  1000114  2023-04-10            Kávovar    StavObjednavky.DOPLNENA\n",
       "4  1000115  2023-05-25         Chladnička    StavObjednavky.ODESLANA\n",
       "5  1000116  2023-06-08  Mikrovlnná trouba  StavObjednavky.STORNOVANA\n",
       "6  1000117  2023-07-12       Rasový mixér  StavObjednavky.STORNOVANA\n",
       "7  1000118  2023-08-29           Žehlička    StavObjednavky.ODESLANA\n",
       "8  1000119  2023-09-18            Vysavač    StavObjednavky.ODESLANA\n",
       "9  1000120  2023-10-03      Herní konzole     StavObjednavky.PRIJATA"
      ]
     },
     "execution_count": 20,
     "metadata": {},
     "output_type": "execute_result"
    }
   ],
   "source": [
    "objednavky_df.head(10)"
   ]
  },
  {
   "cell_type": "markdown",
   "id": "4d3c6fa7-eaba-45c2-9373-0390e9c519dc",
   "metadata": {},
   "source": [
    "*Seskupovat* a *filtrovat* můžeš také celočíselné hodnoty, ale v tomto případě okamžitě vidíš stav:"
   ]
  },
  {
   "cell_type": "code",
   "execution_count": 21,
   "id": "aed13188-36e9-4574-9647-d52fc5b0dfb5",
   "metadata": {
    "tags": []
   },
   "outputs": [
    {
     "data": {
      "text/html": [
       "<div>\n",
       "<style scoped>\n",
       "    .dataframe tbody tr th:only-of-type {\n",
       "        vertical-align: middle;\n",
       "    }\n",
       "\n",
       "    .dataframe tbody tr th {\n",
       "        vertical-align: top;\n",
       "    }\n",
       "\n",
       "    .dataframe thead th {\n",
       "        text-align: right;\n",
       "    }\n",
       "</style>\n",
       "<table border=\"1\" class=\"dataframe\">\n",
       "  <thead>\n",
       "    <tr style=\"text-align: right;\">\n",
       "      <th></th>\n",
       "      <th>ID</th>\n",
       "      <th>vytvořeno</th>\n",
       "      <th>produkt</th>\n",
       "      <th>stav</th>\n",
       "    </tr>\n",
       "  </thead>\n",
       "  <tbody>\n",
       "    <tr>\n",
       "      <th>12</th>\n",
       "      <td>1000123</td>\n",
       "      <td>2023-01-29</td>\n",
       "      <td>Kniha</td>\n",
       "      <td>StavObjednavky.NOVA</td>\n",
       "    </tr>\n",
       "    <tr>\n",
       "      <th>14</th>\n",
       "      <td>1000125</td>\n",
       "      <td>2023-03-14</td>\n",
       "      <td>Dámská sukni</td>\n",
       "      <td>StavObjednavky.NOVA</td>\n",
       "    </tr>\n",
       "  </tbody>\n",
       "</table>\n",
       "</div>"
      ],
      "text/plain": [
       "         ID   vytvořeno       produkt                 stav\n",
       "12  1000123  2023-01-29         Kniha  StavObjednavky.NOVA\n",
       "14  1000125  2023-03-14  Dámská sukni  StavObjednavky.NOVA"
      ]
     },
     "execution_count": 21,
     "metadata": {},
     "output_type": "execute_result"
    }
   ],
   "source": [
    "objednavky_df[objednavky_df['stav'] == StavObjednavky.NOVA]"
   ]
  },
  {
   "cell_type": "markdown",
   "id": "85ce40ee-9d25-45f7-b848-421fdb90aca1",
   "metadata": {},
   "source": [
    "Takhle se můžeš **rychleji a příjemněji** začít orientovat v datech."
   ]
  },
  {
   "cell_type": "markdown",
   "id": "f863b024-3d12-4171-a250-85605fad0c70",
   "metadata": {},
   "source": [
    "Nové očíslované objekty můžeš snadno vytvořit ihned pomocí celého čísla:"
   ]
  },
  {
   "cell_type": "code",
   "execution_count": 22,
   "id": "fe603a7f-8a90-460d-af5c-7a4c5bd37a63",
   "metadata": {
    "tags": []
   },
   "outputs": [],
   "source": [
    "objednavka_111 = StavObjednavky(2)"
   ]
  },
  {
   "cell_type": "code",
   "execution_count": 23,
   "id": "8b293d39-cb7a-456e-a5c0-9e0439375e56",
   "metadata": {
    "tags": []
   },
   "outputs": [
    {
     "name": "stdout",
     "output_type": "stream",
     "text": [
      "StavObjednavky.ZPRACOVANA\n"
     ]
    }
   ],
   "source": [
    "print(objednavka_111)"
   ]
  },
  {
   "cell_type": "markdown",
   "id": "57993df3-cb00-4058-a2eb-b96e37114778",
   "metadata": {},
   "source": [
    "Pokud nepoužiješ validní hodnotu z definice `StavObjednavky`, dostaneš příslušnou výjimku:"
   ]
  },
  {
   "cell_type": "code",
   "execution_count": 24,
   "id": "272c0865-d8d3-4c23-bfc0-749bf21e05b8",
   "metadata": {
    "tags": []
   },
   "outputs": [
    {
     "ename": "ValueError",
     "evalue": "10 is not a valid StavObjednavky",
     "output_type": "error",
     "traceback": [
      "\u001b[0;31m---------------------------------------------------------------------------\u001b[0m",
      "\u001b[0;31mValueError\u001b[0m                                Traceback (most recent call last)",
      "Cell \u001b[0;32mIn[24], line 1\u001b[0m\n\u001b[0;32m----> 1\u001b[0m objednavka_112 \u001b[38;5;241m=\u001b[39m \u001b[43mStavObjednavky\u001b[49m\u001b[43m(\u001b[49m\u001b[38;5;241;43m10\u001b[39;49m\u001b[43m)\u001b[49m\n",
      "File \u001b[0;32m/usr/lib/python3.8/enum.py:339\u001b[0m, in \u001b[0;36mEnumMeta.__call__\u001b[0;34m(cls, value, names, module, qualname, type, start)\u001b[0m\n\u001b[1;32m    314\u001b[0m \u001b[38;5;250m\u001b[39m\u001b[38;5;124;03m\"\"\"\u001b[39;00m\n\u001b[1;32m    315\u001b[0m \u001b[38;5;124;03mEither returns an existing member, or creates a new enum class.\u001b[39;00m\n\u001b[1;32m    316\u001b[0m \n\u001b[0;32m   (...)\u001b[0m\n\u001b[1;32m    336\u001b[0m \u001b[38;5;124;03m`type`, if set, will be mixed in as the first base class.\u001b[39;00m\n\u001b[1;32m    337\u001b[0m \u001b[38;5;124;03m\"\"\"\u001b[39;00m\n\u001b[1;32m    338\u001b[0m \u001b[38;5;28;01mif\u001b[39;00m names \u001b[38;5;129;01mis\u001b[39;00m \u001b[38;5;28;01mNone\u001b[39;00m:  \u001b[38;5;66;03m# simple value lookup\u001b[39;00m\n\u001b[0;32m--> 339\u001b[0m     \u001b[38;5;28;01mreturn\u001b[39;00m \u001b[38;5;28;43mcls\u001b[39;49m\u001b[38;5;241;43m.\u001b[39;49m\u001b[38;5;21;43m__new__\u001b[39;49m\u001b[43m(\u001b[49m\u001b[38;5;28;43mcls\u001b[39;49m\u001b[43m,\u001b[49m\u001b[43m \u001b[49m\u001b[43mvalue\u001b[49m\u001b[43m)\u001b[49m\n\u001b[1;32m    340\u001b[0m \u001b[38;5;66;03m# otherwise, functional API: we're creating a new Enum type\u001b[39;00m\n\u001b[1;32m    341\u001b[0m \u001b[38;5;28;01mreturn\u001b[39;00m \u001b[38;5;28mcls\u001b[39m\u001b[38;5;241m.\u001b[39m_create_(\n\u001b[1;32m    342\u001b[0m         value,\n\u001b[1;32m    343\u001b[0m         names,\n\u001b[0;32m   (...)\u001b[0m\n\u001b[1;32m    347\u001b[0m         start\u001b[38;5;241m=\u001b[39mstart,\n\u001b[1;32m    348\u001b[0m         )\n",
      "File \u001b[0;32m/usr/lib/python3.8/enum.py:663\u001b[0m, in \u001b[0;36mEnum.__new__\u001b[0;34m(cls, value)\u001b[0m\n\u001b[1;32m    661\u001b[0m ve_exc \u001b[38;5;241m=\u001b[39m \u001b[38;5;167;01mValueError\u001b[39;00m(\u001b[38;5;124m\"\u001b[39m\u001b[38;5;132;01m%r\u001b[39;00m\u001b[38;5;124m is not a valid \u001b[39m\u001b[38;5;132;01m%s\u001b[39;00m\u001b[38;5;124m\"\u001b[39m \u001b[38;5;241m%\u001b[39m (value, \u001b[38;5;28mcls\u001b[39m\u001b[38;5;241m.\u001b[39m\u001b[38;5;18m__name__\u001b[39m))\n\u001b[1;32m    662\u001b[0m \u001b[38;5;28;01mif\u001b[39;00m result \u001b[38;5;129;01mis\u001b[39;00m \u001b[38;5;28;01mNone\u001b[39;00m \u001b[38;5;129;01mand\u001b[39;00m exc \u001b[38;5;129;01mis\u001b[39;00m \u001b[38;5;28;01mNone\u001b[39;00m:\n\u001b[0;32m--> 663\u001b[0m     \u001b[38;5;28;01mraise\u001b[39;00m ve_exc\n\u001b[1;32m    664\u001b[0m \u001b[38;5;28;01melif\u001b[39;00m exc \u001b[38;5;129;01mis\u001b[39;00m \u001b[38;5;28;01mNone\u001b[39;00m:\n\u001b[1;32m    665\u001b[0m     exc \u001b[38;5;241m=\u001b[39m \u001b[38;5;167;01mTypeError\u001b[39;00m(\n\u001b[1;32m    666\u001b[0m             \u001b[38;5;124m'\u001b[39m\u001b[38;5;124merror in \u001b[39m\u001b[38;5;132;01m%s\u001b[39;00m\u001b[38;5;124m._missing_: returned \u001b[39m\u001b[38;5;132;01m%r\u001b[39;00m\u001b[38;5;124m instead of None or a valid member\u001b[39m\u001b[38;5;124m'\u001b[39m\n\u001b[1;32m    667\u001b[0m             \u001b[38;5;241m%\u001b[39m (\u001b[38;5;28mcls\u001b[39m\u001b[38;5;241m.\u001b[39m\u001b[38;5;18m__name__\u001b[39m, result)\n\u001b[1;32m    668\u001b[0m             )\n",
      "\u001b[0;31mValueError\u001b[0m: 10 is not a valid StavObjednavky"
     ]
    }
   ],
   "source": [
    "objednavka_112 = StavObjednavky(10)"
   ]
  },
  {
   "cell_type": "markdown",
   "id": "6604e18c-b5af-4a30-b838-4dc67d6ea133",
   "metadata": {},
   "source": [
    "<br>\n",
    "\n",
    "Pomocí atributů `name` a `value` dovedeš přistupovatk hodnotám, jako klasickým proměnným.\n",
    "\n",
    "Jde o *iterovatelný* objekt, takže jej pomocí *iterátoru* dovedeš procházet:"
   ]
  },
  {
   "cell_type": "code",
   "execution_count": null,
   "id": "f25f1850-45e9-4e27-a6f0-695dc0384ede",
   "metadata": {
    "tags": []
   },
   "outputs": [],
   "source": [
    "for status_code in HttpStatusCode:\n",
    "    print(status_code)"
   ]
  },
  {
   "cell_type": "markdown",
   "id": "b2fde9db-4c4d-4f60-b2c4-55adb5f52a44",
   "metadata": {
    "tags": []
   },
   "source": [
    "<br>\n",
    "\n",
    "Alternativně můžeš procházet `Enum` objekt pomocí magické metody `__members__`.\n",
    "\n",
    "Ta dovede manipulovat s metodami `keys`, `values` a `items` jako u pythonovského slovníku:"
   ]
  },
  {
   "cell_type": "code",
   "execution_count": null,
   "id": "aa06ceab-737b-45c3-988a-684aa0bb77cb",
   "metadata": {
    "tags": []
   },
   "outputs": [],
   "source": [
    "for status_code in HttpStatusCode.__members__.items():\n",
    "    print(status_code)"
   ]
  },
  {
   "cell_type": "markdown",
   "id": "04791eac-6873-4409-8de0-3faddd00f379",
   "metadata": {},
   "source": [
    "<br>\n",
    "\n",
    "Potom můžeš aplikovat nové objekt třeba u podmínkového zápisu:"
   ]
  },
  {
   "cell_type": "code",
   "execution_count": null,
   "id": "a056c5ea-b4e5-49d4-8302-bcbb8a3f0d92",
   "metadata": {
    "tags": []
   },
   "outputs": [],
   "source": [
    "def rendruj_zpravu_uzivateli(status_code: HttpStatusCode) -> None:\n",
    "    if status_code is HttpStatusCode.SUCCESSFUL:\n",
    "        print(\"Rendruji obsah..\")\n",
    "    elif status_code is HttpStatusCode.CLIENT_ERROR:\n",
    "        print(\"Zobrazuji oznámení o problému na straně uživatele..\")"
   ]
  },
  {
   "cell_type": "code",
   "execution_count": null,
   "id": "136dbc18-9a43-4cce-8ded-1b21a593ac8b",
   "metadata": {
    "tags": []
   },
   "outputs": [],
   "source": [
    "rendruj_zpravu_uzivateli(HttpStatusCode.SUCCESSFUL)"
   ]
  },
  {
   "cell_type": "code",
   "execution_count": null,
   "id": "f4d75803-2d2c-4043-890d-393d6e96082f",
   "metadata": {
    "tags": []
   },
   "outputs": [],
   "source": [
    "rendruj_zpravu_uzivateli(HttpStatusCode.CLIENT_ERROR)"
   ]
  },
  {
   "cell_type": "code",
   "execution_count": null,
   "id": "dae8c5fb-f97d-49ba-89cb-ae25dfc458e8",
   "metadata": {},
   "outputs": [],
   "source": []
  },
  {
   "cell_type": "markdown",
   "id": "5a1a7ae2-1856-47b8-b5a8-da583ba5979f",
   "metadata": {},
   "source": [
    "<br>\n",
    "\n",
    "Jak tedy vidíš, celou řadu tříd je možné označit a doplnit.\n",
    "\n",
    "Jak `Enum`, tak datové třídy, jsou třídy orientované na hodnoty, atributy, data.\n",
    "\n",
    "Obráceně je naprosto běžné mít třídu, která má jen málo atributů, ale spousty metod:"
   ]
  },
  {
   "cell_type": "code",
   "execution_count": null,
   "id": "2107b1c0-7d8b-44f6-baa2-4b47864e55ad",
   "metadata": {
    "tags": []
   },
   "outputs": [],
   "source": [
    "class PlatebniProcesor:\n",
    "    def __init__(self, API_klic: str):\n",
    "        self.API_klic = API_klic\n",
    "    \n",
    "    def je_api_klic_platny(self):\n",
    "        pass\n",
    "    \n",
    "    def proved_platbu(self):\n",
    "        pass\n",
    "    \n",
    "    def je_karta_platna(self):\n",
    "        pass\n",
    "    \n",
    "    def odesli_notifikaci(self):\n",
    "        pass"
   ]
  },
  {
   "cell_type": "markdown",
   "id": "5acda2f9-27ae-428c-87b2-ad2821c8931d",
   "metadata": {},
   "source": [
    "<br>\n",
    "\n",
    "### Opatrně na dědičnost\n",
    "\n",
    "---"
   ]
  },
  {
   "cell_type": "markdown",
   "id": "008cbc2f-c0e9-4c01-afac-c5097617b8da",
   "metadata": {},
   "source": [
    "Ačkoliv je *dědičnost* jedním z milníků, na kterých OOP stojí, neměla by být zneužívána.\n",
    "\n",
    "Jednoduchá dědičnost je v pořádku, jeden rodič a několik stejnoúrovňových potomků je v pořádku.\n",
    "\n",
    "Určitě ale není v pořádku, pokud budeš tvořit několik vrstev dědičnosti.\n",
    "\n",
    "To s sebou nese komplikace, které představuje každá další podtřída."
   ]
  },
  {
   "cell_type": "code",
   "execution_count": null,
   "id": "805a508a-dd8b-4906-a030-829632a8caf6",
   "metadata": {
    "tags": []
   },
   "outputs": [],
   "source": [
    "class Employee:\n",
    "    atr = \"E\"\n",
    "\n",
    "class FrontendDev(Employee):\n",
    "    atri = \"Fr\"\n",
    "\n",
    "class BackendDev(Employee):\n",
    "    atri = \"B\"\n",
    "        \n",
    "class FullstackDev(FrontendDev, BackendDev):\n",
    "    atri = \"Fu\""
   ]
  },
  {
   "cell_type": "code",
   "execution_count": null,
   "id": "a8d8b4ff-ab0f-494c-a71e-319468ed3a06",
   "metadata": {
    "tags": []
   },
   "outputs": [],
   "source": [
    "f = FullstackDev()"
   ]
  },
  {
   "cell_type": "code",
   "execution_count": null,
   "id": "e2b5e6da-548e-4218-a7a8-946e69720395",
   "metadata": {
    "tags": []
   },
   "outputs": [],
   "source": [
    "FullstackDev.__mro__"
   ]
  },
  {
   "cell_type": "code",
   "execution_count": null,
   "id": "b737c034-0ad9-4df9-97d4-2f11b57257ea",
   "metadata": {
    "tags": []
   },
   "outputs": [],
   "source": [
    "f.atr"
   ]
  },
  {
   "cell_type": "markdown",
   "id": "0a6b86fb-7273-4295-b29b-e6404f6c3c3f",
   "metadata": {},
   "source": [
    "<br>\n",
    "\n",
    "Vždy nutně nejde o selhání nebo chybu.\n",
    "\n",
    "Ale nedomyšlení spojitostí, kde můžeš mít třídy a potřídy v různých modulech.\n",
    "\n",
    "Potom i takhle jednoduché třídy, které pracují s atributem `atr`, můžou přinášet komplikace."
   ]
  },
  {
   "cell_type": "code",
   "execution_count": null,
   "id": "f183fb5a-d34b-4f9d-9082-d71c514418f7",
   "metadata": {},
   "outputs": [],
   "source": []
  },
  {
   "cell_type": "markdown",
   "id": "1f610c0f-0ed1-48f5-86bf-6b3e829caa75",
   "metadata": {},
   "source": [
    "### Dependecy injection\n",
    "\n",
    "---"
   ]
  },
  {
   "cell_type": "markdown",
   "id": "65d3f461-8fce-4163-b5a5-0202cdbda56e",
   "metadata": {},
   "source": [
    "Poslední varování přichází od nevhodného tvoření *instancí*.\n",
    "\n"
   ]
  },
  {
   "cell_type": "code",
   "execution_count": null,
   "id": "438f7fde-90fd-4ec0-8d52-28e98e6c2beb",
   "metadata": {
    "tags": []
   },
   "outputs": [],
   "source": [
    "class PlatebniProcesor:\n",
    "    def __init__(self, objednavka: str, castka: float):\n",
    "        self.castka = castka\n",
    "        self.objednavka = objednavka\n",
    "        \n",
    "    def zajisti_platbu(self):\n",
    "        pass\n",
    "\n",
    "def zpracuj_objednavku(udaje: dict, platba: PlatebniProcesor):\n",
    "    suma = sum(udaje.get(\"cena\") * udaje.get(\"pocet\"))\n",
    "    # platba = PlatebniProcesor(udaje.get(\"id\"), suma)\n",
    "    platba.zajisti_platbu()\n",
    "    print(\"Děkujeme, že u nás nakupujete\")"
   ]
  },
  {
   "cell_type": "code",
   "execution_count": null,
   "id": "a631d55c-19d0-4186-a9cc-38992505963c",
   "metadata": {},
   "outputs": [],
   "source": [
    "zpracuj_objednavku({\"id\": \"123\", \"pocet\": 8, \"cena\": 20}, PlatebniProcesor)"
   ]
  },
  {
   "cell_type": "markdown",
   "id": "9a164527-a3ab-447b-8ddb-c28eb35e3fa0",
   "metadata": {},
   "source": [
    "<br>\n",
    "\n",
    "Takovou funkci je velmi těžké a nebezpečné testovat.\n",
    "\n",
    "Pokud manipuluješ s *instancí* uvnitř funkce, můžeš omylem samotnou funkci provolat.\n",
    "\n",
    "To je samozřejmě nežádoucí, protože to může vést k řadě komplikací."
   ]
  },
  {
   "cell_type": "code",
   "execution_count": null,
   "id": "a52a9cd7-3456-43d0-9661-54a728bf4f04",
   "metadata": {},
   "outputs": [],
   "source": [
    "class PlatebniProcesor:\n",
    "    def __init__(self, objednavka: str, castka: float):\n",
    "        self.castka = castka\n",
    "        self.objednavka = objednavka\n",
    "        \n",
    "    def zajisti_platbu(self):\n",
    "        pass\n",
    "\n",
    "def zpracuj_objednavku(udaje: dict, platba: PlatebniProcessor):\n",
    "    suma = sum(udaje.get(\"cena\") * udaje.get(\"pocet\"))\n",
    "    platba.zajisti_platbu()\n",
    "    print(\"Děkujeme, že u nás nakupujete\")"
   ]
  },
  {
   "cell_type": "markdown",
   "id": "6d368ad0-a5f3-4fa7-b3f4-465ef921e1e5",
   "metadata": {},
   "source": [
    "<br>\n",
    "\n",
    "V rámci konceptu *dependency injection* v podstatě výjmeš krok *instancování* z funkce.\n",
    "\n",
    "Tvým cílem je zadat jako argument již samotnou *instanci*.\n",
    "\n",
    "Pro testování tady nastává okamžik, kde místo zamýšlené komplexní funkce, můžeš použít dvojníka."
   ]
  },
  {
   "cell_type": "markdown",
   "id": "29a42269-a6fc-44fe-a46d-37adc9e3dc77",
   "metadata": {},
   "source": [
    "<br>\n",
    "\n",
    "Dalším krokem by mohlo být použití 5. principu SOLID.\n",
    "\n",
    "Kde místo skutečné třídy `PlatebniProcesor` použiješ abstraktní třídu."
   ]
  },
  {
   "cell_type": "markdown",
   "id": "616bfae1-eb2d-49a8-b771-b44b5ec96266",
   "metadata": {},
   "source": [
    "<br>\n",
    "\n",
    "### 🧠 CVIČENÍ 16 🧠, Vyzkoušej si datové třídy a další koncepty na úloze:\n",
    "---"
   ]
  },
  {
   "cell_type": "markdown",
   "id": "233522bf-3f3c-4f67-b8a4-bcc2c7f5416a",
   "metadata": {},
   "source": [
    "1. Máš třídu `Uzivatel` s atributy `jmeno`, `prijmeni` a `email`,\n",
    "2. doplň metodu, která zavolá třídu `Uzivatel` pro zadání ze slovníku,\n",
    "3. doplň magickou metodu, která zformátuje stringový výstup jako `\"Uživatel: <jmeno> <prijmeni>, email: <email>,\"`,\n",
    "4. přepiš třídu `Uzivatel` jako datovou třídu,\n",
    "4. podle prvního principu SOLID, uprav řešení této úlohy."
   ]
  },
  {
   "cell_type": "code",
   "execution_count": null,
   "id": "ac7ae003-a6ee-47db-86fc-1b141e260e54",
   "metadata": {
    "tags": []
   },
   "outputs": [],
   "source": [
    "class Uzivatel:\n",
    "    def __init__(self, jmeno: str, prijmeni: str, email: str):\n",
    "        self.jmeno = jmeno\n",
    "        self.prijmeni = prijmeni\n",
    "        self.email = email\n",
    "\n",
    "    # Doplň načítání ze slovníků\n",
    "    # ...\n",
    "    \n",
    "    # Doplň metodu __str__\n",
    "    # ...\n",
    "    \n",
    "    def uloz_do_souboru(self, jmeno_souboru: str, obsah: list) -> None:\n",
    "        with open(jmeno_souboru, mode='w') as file:\n",
    "            file.writelines(obsah)"
   ]
  },
  {
   "cell_type": "markdown",
   "id": "65866ed4-197b-454b-b6e9-0a6708b5eab9",
   "metadata": {},
   "source": [
    "<details>\n",
    "    <summary>▶️ Řešení</summary>\n",
    "    \n",
    "```python\n",
    "from dataclasses import dataclass\n",
    "\n",
    "@dataclass\n",
    "class Uzivatel:\n",
    "    jmeno: str\n",
    "    prijmeni: str\n",
    "    email: str\n",
    "\n",
    "    # Doplň načítání ze slovníků\n",
    "    @classmethod\n",
    "    def from_dict(cls, hodnota):\n",
    "        pass\n",
    "    \n",
    "    # Doplň metodu __str__\n",
    "\n",
    "    def __str__(self):\n",
    "        return f\"Uživatel: {self.jmeno} {self.prijmeni}, email: {self.email},\"\n",
    "\n",
    "\n",
    "class ZapisovacTxt:\n",
    "    def uloz_do_souboru(self, jmeno_souboru: str, obsah: list) -> None:\n",
    "        with open(jmeno_souboru, mode='w') as file:\n",
    "            file.writelines(obsah)\n",
    "```\n",
    "</details>"
   ]
  },
  {
   "cell_type": "markdown",
   "id": "933b9ee3-833c-4b97-837b-4d5ce73da730",
   "metadata": {},
   "source": [
    "---"
   ]
  }
 ],
 "metadata": {
  "kernelspec": {
   "display_name": "Python 3 (ipykernel)",
   "language": "python",
   "name": "python3"
  },
  "language_info": {
   "codemirror_mode": {
    "name": "ipython",
    "version": 3
   },
   "file_extension": ".py",
   "mimetype": "text/x-python",
   "name": "python",
   "nbconvert_exporter": "python",
   "pygments_lexer": "ipython3",
   "version": "3.8.10"
  }
 },
 "nbformat": 4,
 "nbformat_minor": 5
}
