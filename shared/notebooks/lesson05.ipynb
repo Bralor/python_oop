{
 "cells": [
  {
   "cell_type": "markdown",
   "id": "973d2f49-9b12-4b37-b622-f5b9ed6c53dd",
   "metadata": {},
   "source": [
    "# Python objektově orientované programování\n",
    "\n",
    "---"
   ]
  },
  {
   "cell_type": "markdown",
   "id": "3e27f997-c2d4-4a74-ae0d-356778449342",
   "metadata": {},
   "source": [
    "1. [SOLID principy](),\n",
    "    - [single responsibility](#),\n",
    "    - [open-closed](#),\n",
    "    - [Liskov substitution](#),\n",
    "    - [interface segregration](#),\n",
    "    - [dependency inversion](#)."
   ]
  },
  {
   "cell_type": "markdown",
   "id": "fe79c39e-b692-4c6c-adb8-0c73ee6a30a6",
   "metadata": {},
   "source": [
    "<img src=\"https://external-content.duckduckgo.com/iu/?u=https%3A%2F%2Ftse1.mm.bing.net%2Fth%3Fid%3DOIP.Mdjx0MdXHoH3yZPd-jadRgHaGy%26pid%3DApi&f=1&ipt=442a54ac189061e1752310f8c3f7258d868ebc936973a92c8cb43d2421934b14&ipo=image\" width=\"200\" style=\"margin-left:auto; margin-right:auto\">"
   ]
  },
  {
   "cell_type": "markdown",
   "id": "88e33367-0461-44bd-ad72-bfc8a6393e50",
   "metadata": {},
   "source": [
    "## SOLID principy\n",
    "\n",
    "---\n",
    "\n",
    "<pic>"
   ]
  },
  {
   "cell_type": "markdown",
   "id": "b2652399-4337-48a0-bd63-2b03a5a4fb51",
   "metadata": {},
   "source": [
    "**SOLID** je v tomto případě [akronym](https://cs.wikipedia.org/wiki/Akronym).\n",
    "\n",
    "Tato zkratka představuje **pět návrhových principů**.\n",
    "\n",
    "Jde o principy, které pomáhají vývojářům vytvářet systémy, které jsou snadno udržovatelné, robustní a škálovatelné.\n",
    "\n",
    "<br>\n",
    "\n",
    "Jde o tyto principy:\n",
    "1. **S**ingle Responsibility,\n",
    "2. **O**pen-Closed,\n",
    "3. **L**iskov Substitution,\n",
    "4. **I**nterface Segregation,\n",
    "5. **D**ependency Inversion."
   ]
  },
  {
   "cell_type": "markdown",
   "id": "d3d1b43a-53dd-4b4f-b74a-1ec26abc046e",
   "metadata": {},
   "source": [
    "Dodržování těchto principů **není povinné**.\n",
    "\n",
    "Nevyžaduje je od tebe ani *interpret*, ani nikdo jiný.\n",
    "\n",
    "Takže není nutné, je aplikovat u každého skriptu nebo knihovny, které sám používáš.\n",
    "\n",
    "Určitě je **ale zásadní**, uvědomovat si tyto souvislosti, pokud nepíšeš skripty sám pro sebe, **ale v kolektivu**.\n",
    "\n",
    "Případně na již běžících prostředích!"
   ]
  },
  {
   "cell_type": "markdown",
   "id": "bff32820-c625-4527-819e-03f285053933",
   "metadata": {},
   "source": [
    "<br>\n",
    "\n",
    "### S-ingle-Responsibility princip\n",
    "\n",
    "---"
   ]
  },
  {
   "cell_type": "markdown",
   "id": "6b6c761c-3b0b-4a8c-bfa0-c9ea385b4e5a",
   "metadata": {
    "tags": []
   },
   "source": [
    "<img src=\"https://external-content.duckduckgo.com/iu/?u=https%3A%2F%2Ftse2.mm.bing.net%2Fth%3Fid%3DOIP.nt83enlMM75FdkPBiqur4wHaJ_%26pid%3DApi&f=1&ipt=b8f020f73f5f6bfaa1807815d70f2eb1aa42a1d03340be5b03cb6d5e94c5b24e&ipo=images\" width=\"100\" style=\"margin-left:auto; margin-right:auto\">"
   ]
  },
  {
   "cell_type": "markdown",
   "id": "c444915d-eaa7-4e7d-959b-2a0aafa4675e",
   "metadata": {},
   "source": [
    "První princip se jmenuje **single responsibility**.\n",
    "\n",
    "Říká prakticky to, co nese jeho název, *jediná zodpovědnost*.\n",
    "\n",
    "V ideálním scénaři by tedy měla mít **jedna třída, jednu zodpovědnost**:"
   ]
  },
  {
   "cell_type": "code",
   "execution_count": null,
   "id": "476e476a-f362-4ffe-b84a-5aef4da10124",
   "metadata": {
    "tags": []
   },
   "outputs": [],
   "source": [
    "class Kniha:\n",
    "    knihovna = list()\n",
    "    \n",
    "    def __init__(self, autor: str, titulek: str, rok_vydani: int):\n",
    "        self.autor = autor\n",
    "        self.titulek = titulek\n",
    "        self.rok_vydani = rok_vydani\n",
    "        \n",
    "    def vytvor_poznamku(self):\n",
    "        pass\n",
    "\n",
    "    def odstran_poznamku(self):\n",
    "        pass\n",
    "\n",
    "    def __str__(self) -> str:\n",
    "        pass\n",
    "\n",
    "    def pridej_do_knihovny(self) -> None:  # --> class Knihovna\n",
    "        self.knihovna.append(f\"{self.autor}: {self.titulek}\")"
   ]
  },
  {
   "cell_type": "code",
   "execution_count": null,
   "id": "11c4e354-32b6-4345-a417-5c3f4372cec4",
   "metadata": {
    "tags": []
   },
   "outputs": [],
   "source": [
    "dedic_imperia = Kniha(\"Timothy Zahn\", \"Dědic impéria\", 1993)\n",
    "mec_osudu     = Kniha(\"Andrzej Sapkowski\", \"Meč osudu\", 1992)"
   ]
  },
  {
   "cell_type": "code",
   "execution_count": null,
   "id": "65f242ae-8ade-4f62-99cb-647d723d9ae8",
   "metadata": {
    "tags": []
   },
   "outputs": [],
   "source": [
    "print(Kniha.knihovna)"
   ]
  },
  {
   "cell_type": "code",
   "execution_count": null,
   "id": "ce227307-990f-4b38-9fb8-2ec7ecbbbf98",
   "metadata": {
    "tags": []
   },
   "outputs": [],
   "source": [
    "dedic_imperia.pridej_do_knihovny()"
   ]
  },
  {
   "cell_type": "code",
   "execution_count": null,
   "id": "5bbf640a-0974-4e63-ab70-255316f4cfe0",
   "metadata": {
    "tags": []
   },
   "outputs": [],
   "source": [
    "print(Kniha.knihovna)"
   ]
  },
  {
   "cell_type": "code",
   "execution_count": null,
   "id": "9a02786b-082a-4fd0-8c8b-18790c91e346",
   "metadata": {
    "tags": []
   },
   "outputs": [],
   "source": [
    "mec_osudu.pridej_do_knihovny()"
   ]
  },
  {
   "cell_type": "code",
   "execution_count": null,
   "id": "1ab12fee-7baf-4c51-9b35-620e9e86dde0",
   "metadata": {
    "tags": []
   },
   "outputs": [],
   "source": [
    "print(Kniha.knihovna)"
   ]
  },
  {
   "cell_type": "markdown",
   "id": "4d7a8a18-8d83-45c6-9e36-4185557f7223",
   "metadata": {},
   "source": [
    "<br>\n",
    "\n",
    "Třída `Kniha`, tento princip nesplňuje.\n",
    "\n",
    "Koncepčně totiž řeší problematiku:\n",
    "1. jedné specifické knihy,\n",
    "2. celé poličky s knihami."
   ]
  },
  {
   "cell_type": "markdown",
   "id": "bad2f420-1a05-4032-9cd6-4da3a58f7a37",
   "metadata": {},
   "source": [
    "Metoda `pridej_do_knihovny`, tvoří tvoji virtuální poličku, kde reprezentuje jednotlivé knížky pomocí autora a jména knihy.\n",
    "\n",
    "Tato metoda se může snadno změnit, pokud do budoucna nebudu chtít poličku ukládat jako `list` (ale třeba `dict`, `json` nebo relační databázi)."
   ]
  },
  {
   "cell_type": "code",
   "execution_count": null,
   "id": "5eff8559-3a77-4f71-8387-9a6f1a584beb",
   "metadata": {
    "tags": []
   },
   "outputs": [],
   "source": [
    "print(Kniha.knihovna)"
   ]
  },
  {
   "cell_type": "markdown",
   "id": "64ea2ecf-5da3-4c40-9990-44b72ef5d82a",
   "metadata": {},
   "source": [
    "<br>\n",
    "\n",
    "Nyní, pokud potřebuješ upravit objekt samotné knihovny, **nemáš možnost**, jak ji uchopit.\n",
    "\n",
    "Pokud jí budeš chtít změnit, potřebuješ vytvořit:\n",
    "1. třídu `Kniha`,\n",
    "2. třídu `Knihovna`."
   ]
  },
  {
   "cell_type": "code",
   "execution_count": null,
   "id": "43f8f4b2-d1ee-4ed8-8fdf-ac8eae935ae7",
   "metadata": {
    "tags": []
   },
   "outputs": [],
   "source": [
    "class Kniha:\n",
    "    \n",
    "    def __init__(self, autor: str, titulek: str, rok_vydani: int):\n",
    "        self.autor = autor\n",
    "        self.titulek = titulek\n",
    "        self.rok_vydani = rok_vydani\n",
    "        \n",
    "    def vytvor_poznamku(self):\n",
    "        pass\n",
    "\n",
    "    def odstran_poznamku(self):\n",
    "        pass\n",
    "\n",
    "    def __str__(self) -> str:\n",
    "        pass\n",
    "\n",
    "\n",
    "class Knihovna:\n",
    "    def vytvor_knihovnu(self):\n",
    "        self.knihovna = list()\n",
    "\n",
    "    def pridej_do_knihovny(self, kniha: Kniha):\n",
    "        if hasattr(self, \"knihovna\"):\n",
    "            self.knihovna.append(kniha)\n",
    "        else:\n",
    "            raise Exception(\"Knihovna neexistuje! Vytvoř ji\")\n",
    "    \n",
    "    def odstran_z_knihovny(self, kniha: Kniha):\n",
    "        if self.knihovna and kniha in self.knihovna:\n",
    "            self.knihovna.remove(kniha)\n",
    "        else:\n",
    "            raise Exception()"
   ]
  },
  {
   "cell_type": "markdown",
   "id": "6f1fdb3d-7bbb-42c3-8bd6-089008af68f7",
   "metadata": {},
   "source": [
    "<br>\n",
    "\n",
    "Tentokrát vytvoříš dva objekty s knihami:"
   ]
  },
  {
   "cell_type": "code",
   "execution_count": null,
   "id": "97530174-3400-48eb-8cf6-162e329a0c0c",
   "metadata": {
    "tags": []
   },
   "outputs": [],
   "source": [
    "dedic_imperia = Kniha(\"Timothy Zahn\", \"Dědic impéria\", 1993)\n",
    "mec_osudu     = Kniha(\"Andrzej Sapkowski\", \"Meč osudu\", 1992)"
   ]
  },
  {
   "cell_type": "markdown",
   "id": "ace0cf55-aae0-4ea3-897d-1492250a6ff1",
   "metadata": {},
   "source": [
    "<br>\n",
    "\n",
    "Nachystáš novou knihovnu, kam chceš virtuální knihy uložit:"
   ]
  },
  {
   "cell_type": "code",
   "execution_count": null,
   "id": "3e9db489-5a2a-48c7-b44e-8d11c60eff9c",
   "metadata": {
    "tags": []
   },
   "outputs": [],
   "source": [
    "moje_policka = Knihovna()"
   ]
  },
  {
   "cell_type": "code",
   "execution_count": null,
   "id": "63fe3ac9-6cbd-4e87-a5de-eb3d1f881bd8",
   "metadata": {
    "tags": []
   },
   "outputs": [],
   "source": [
    "moje_policka.vytvor_knihovnu()"
   ]
  },
  {
   "cell_type": "code",
   "execution_count": null,
   "id": "16fc0963-e60a-4370-970e-aa473fc167b9",
   "metadata": {
    "tags": []
   },
   "outputs": [],
   "source": [
    "print(moje_policka.__dict__)"
   ]
  },
  {
   "cell_type": "code",
   "execution_count": null,
   "id": "23960174-43ad-49ff-aa1a-7ea85b9804ba",
   "metadata": {
    "tags": []
   },
   "outputs": [],
   "source": [
    "moje_policka.pridej_do_knihovny(dedic_imperia)"
   ]
  },
  {
   "cell_type": "code",
   "execution_count": null,
   "id": "56f64622-705b-4835-86ee-c98cc5046563",
   "metadata": {
    "tags": []
   },
   "outputs": [],
   "source": [
    "moje_policka.pridej_do_knihovny(mec_osudu)"
   ]
  },
  {
   "cell_type": "code",
   "execution_count": null,
   "id": "ff1e32da-eecc-4a43-8d3b-50c39de302e3",
   "metadata": {
    "tags": []
   },
   "outputs": [],
   "source": [
    "print(moje_policka.__dict__)"
   ]
  },
  {
   "cell_type": "markdown",
   "id": "d3dce981-a460-4191-9e59-3af519ac5fac",
   "metadata": {},
   "source": [
    "<br>\n",
    "\n",
    "Zvlášť zpracováváš objekty typu:\n",
    "- `Kniha`,\n",
    "- `Knihovna`."
   ]
  },
  {
   "cell_type": "code",
   "execution_count": null,
   "id": "fef09b1a-43a0-4abc-aecd-5bd4b0b7f366",
   "metadata": {
    "tags": []
   },
   "outputs": [],
   "source": [
    "print(moje_policka.__dict__['knihovna'])"
   ]
  },
  {
   "cell_type": "markdown",
   "id": "609543a2-51bf-4f9d-ac6a-f98c5167a698",
   "metadata": {},
   "source": [
    "### Souhrn\n",
    "\n",
    "---"
   ]
  },
  {
   "cell_type": "markdown",
   "id": "e265e3bf-18e3-475c-839d-5a6d18bed366",
   "metadata": {},
   "source": [
    "<br>\n",
    "\n",
    "Pochopení, co má která třída provádět, může být v rámci **single responsibility** subjektivní.\n",
    "\n",
    "Dále neznamená, že pokud má mít třída **jednu zodpovědnost**, má být spojována **s počtem metod**.\n",
    "\n",
    "Jednodušše z metodiky vyplývá, že třída, její metody a atributy, se mají držet toho objektu, na který jsou chystané."
   ]
  },
  {
   "cell_type": "markdown",
   "id": "465bc43f-fb12-4c5f-a2ed-f1888ee90f7c",
   "metadata": {},
   "source": [
    "<br>\n",
    "\n",
    "### 🧠 CVIČENÍ 🧠, Vyzkoušej si první princip *single responsibility*:\n",
    "---"
   ]
  },
  {
   "cell_type": "markdown",
   "id": "5caae7ca-1804-44e4-a460-26e5852b9abc",
   "metadata": {},
   "source": [
    "1. Máš třídu `Student` s instanční atributy `jmeno` a `znamky`,\n",
    "2. uprav třídu tak, ať nese pouze informace týkající se studenta a jeho studia (tedy **jednu zodpovědnost**)."
   ]
  },
  {
   "cell_type": "code",
   "execution_count": null,
   "id": "4e69b733-8c18-4dd7-a0c0-73591fc74fd1",
   "metadata": {
    "tags": []
   },
   "outputs": [],
   "source": [
    "class Student:\n",
    "    def __init__(self, jmeno: str, znamky: tuple):\n",
    "        self.jmeno = jmeno\n",
    "        self.znamky = znamky\n",
    "    \n",
    "    def ziskej_prumer_znamek(self):\n",
    "        return sum(self.znamky) / len(self.znamky)\n",
    "    \n",
    "    def vypis_hodnoceni(self):\n",
    "        print(f\"Student: {self.jmeno}\")\n",
    "        print(f\"Průměrná známka: {self.ziskej_prumer_znamek()}\")"
   ]
  },
  {
   "cell_type": "code",
   "execution_count": null,
   "id": "ec139659-7b60-44a3-a6f0-92433247c3d3",
   "metadata": {},
   "outputs": [],
   "source": [
    "class Student:\n",
    "    def __init__(self, jmeno: str):\n",
    "        self.jmeno = jmeno\n",
    "        \n",
    "\n",
    "class Hodnoceni:\n",
    "    def __init__(self, znamky: tuple, student: Student):\n",
    "        self.znamky = znamky\n",
    "        self.student = student\n",
    "        \n",
    "    def ziskej_prumer_znamek(self):\n",
    "        pass\n",
    "    \n",
    "    def vypis_hodnoceni(self):\n",
    "        pass"
   ]
  },
  {
   "cell_type": "markdown",
   "id": "fd8cd2b7-cbea-4e3d-9c8a-7916fbcd3291",
   "metadata": {},
   "source": [
    "<details>\n",
    "    <summary>▶️ Řešení</summary>\n",
    "    \n",
    "```python\n",
    "class Student:\n",
    "    def __init__(self, jmeno: str, znamky: tuple):\n",
    "        self.jmeno = name\n",
    "        self.znamky = znamky\n",
    "\n",
    "    def ziskej_prumer_znamek(self):\n",
    "        return sum(self.znamky) / len(self.znamky)\n",
    "\n",
    "class Hodnoceni:\n",
    "    def __init__(self, student: Student):\n",
    "        self.student = student\n",
    "\n",
    "    def vypis_hodnoceni(self):\n",
    "        print(f\"Student: {self.jmeno}\")\n",
    "        print(f\"Průměrná známka: {self.ziskej_prumer_znamek()}\")\n",
    "```\n",
    "</details>"
   ]
  },
  {
   "cell_type": "markdown",
   "id": "ecbd90aa-9f92-44e9-b372-030675387f35",
   "metadata": {},
   "source": [
    "### O-pen-Closed princip\n",
    "\n",
    "---\n"
   ]
  },
  {
   "cell_type": "markdown",
   "id": "8d824724-ed71-43f7-9012-c54fd3a75b63",
   "metadata": {},
   "source": [
    "<img src=\"https://external-content.duckduckgo.com/iu/?u=https%3A%2F%2Ftse1.mm.bing.net%2Fth%3Fid%3DOIP.b-OdCeOgBOuOYA3qP7EBLAHaHB%26pid%3DApi&f=1&ipt=32e2df49cd840d60bf66a77e78735ad33ef0e1e3cec95cb489089007285fd215&ipo=images\" width=\"200\" style=\"margin-left:auto; margin-right:auto\">"
   ]
  },
  {
   "cell_type": "markdown",
   "id": "3c8c8d14-0302-41fc-83ae-bf0e10d3cd97",
   "metadata": {},
   "source": [
    "Druhý princip *SOLID* se jmenuje **open-closed**.\n",
    "\n",
    "Oficiální znění:\n",
    "*Software entities (classes, modules, functions, etc.) should be open for extension, but closed for modification.*\n",
    "\n",
    "Jednodušeji řečeno: **třídy lze rozšiřovat, ale ne upravovat**:"
   ]
  },
  {
   "cell_type": "code",
   "execution_count": null,
   "id": "246843f4-cfaf-42af-bdf4-3258ee088e38",
   "metadata": {
    "tags": []
   },
   "outputs": [],
   "source": [
    "import string\n",
    "from random import choices"
   ]
  },
  {
   "cell_type": "code",
   "execution_count": null,
   "id": "3af195b9-421c-4e26-8659-5d011503cfdd",
   "metadata": {
    "tags": []
   },
   "outputs": [],
   "source": [
    "class ObjednavkovyProcesor:\n",
    "    def __init__(self, jmeno: str, email: str):\n",
    "        self.jmeno = jmeno\n",
    "        self.email = email\n",
    "        \n",
    "    def vygeneruj_id(self):\n",
    "        self.objednavka_id = \"\".join(choices(string.digits, k=10))"
   ]
  },
  {
   "cell_type": "code",
   "execution_count": null,
   "id": "b2356911-2242-42e5-9d3d-924dc8830a8e",
   "metadata": {
    "tags": []
   },
   "outputs": [],
   "source": [
    "class DopravniProcesor:\n",
    "    def prevoz_Balikovna(self, objednavka: ObjednavkovyProcesor) -> None:\n",
    "        print(\"Navazuji spojení na službu Balíkovna..\")\n",
    "        print(f\"Posílám email: {objednavka.email}\")\n",
    "        objednavka.doprava = True\n",
    "\n",
    "    def prevoz_Zasilkovna(self, objednavka: str):\n",
    "        print(\"Navazuji spojení na službu Zásilkovna..\")\n",
    "        print(\"Připojuji na API služby..\")\n",
    "        print(\"Probíhá výběr pobočky..\")\n",
    "        print(f\"Posílám email: {objednavka.email}\")\n",
    "        objednavka.doprava = True\n",
    "        \n",
    "    # def prevoz_PPL"
   ]
  },
  {
   "cell_type": "code",
   "execution_count": null,
   "id": "cbb0cc74-2853-49df-8374-ad30d8035221",
   "metadata": {
    "tags": []
   },
   "outputs": [],
   "source": [
    "objednavka_matous = ObjednavkovyProcesor(\"Matouš\", \"matous@holinka.cz\")\n",
    "objednavka_matous.vygeneruj_id()"
   ]
  },
  {
   "cell_type": "code",
   "execution_count": null,
   "id": "5b860a58-8577-4611-93a0-c2b65d50fd44",
   "metadata": {
    "tags": []
   },
   "outputs": [],
   "source": [
    "print(objednavka_matous.__dict__)"
   ]
  },
  {
   "cell_type": "code",
   "execution_count": null,
   "id": "f7312487-c250-4352-87d0-a0ae8f0eb493",
   "metadata": {
    "tags": []
   },
   "outputs": [],
   "source": [
    "doprava_matous = DopravniProcesor()"
   ]
  },
  {
   "cell_type": "code",
   "execution_count": null,
   "id": "351717e0-2824-4ba3-93ad-7275781fc8ed",
   "metadata": {
    "tags": []
   },
   "outputs": [],
   "source": [
    "doprava_matous.prevoz_Zasilkovna(objednavka_matous)"
   ]
  },
  {
   "cell_type": "markdown",
   "id": "4d3a280d-18c7-4a3d-81c6-b0a990bc2b72",
   "metadata": {},
   "source": [
    "<br>\n",
    "\n",
    "Prakticky to znamená následující:\n",
    "1. Chceš **dopisovat další objekty** pro práci ve stávajícím modulu,\n",
    "2. nechceš **upravovat existující objekty**."
   ]
  },
  {
   "cell_type": "markdown",
   "id": "7bcde08c-a39c-4744-8128-cc66444ba1cd",
   "metadata": {},
   "source": [
    "Ukázku výše lze upravovat jen těžko.\n",
    "\n",
    "Pokud potřebuješ přidat **další způsob dopravy**, musíš upravit samotnou třídu `DopravniProcesor`.\n",
    "\n",
    "Obvykle je lepším řešením pro takovou situaci aplikovat *abstraktní třídy*:"
   ]
  },
  {
   "cell_type": "code",
   "execution_count": null,
   "id": "2bec34ca-d458-4fc9-b354-d77649d6e153",
   "metadata": {
    "tags": []
   },
   "outputs": [],
   "source": [
    "from abc import ABC, abstractmethod"
   ]
  },
  {
   "cell_type": "code",
   "execution_count": null,
   "id": "3217b005-607b-4e9a-9874-4966867452f0",
   "metadata": {
    "tags": []
   },
   "outputs": [],
   "source": [
    "class DopravniProcesor(ABC):\n",
    "\n",
    "    @abstractmethod\n",
    "    def prevoz_objednavky(self, objednavka: ObjednavkovyProcesor):\n",
    "        \"\"\"Abstraktní metoda pro výběr způsobu dopravy objednávky.\"\"\"\n",
    "        pass"
   ]
  },
  {
   "cell_type": "code",
   "execution_count": null,
   "id": "2ce50370-f838-444a-a423-43a0ba5e8dcd",
   "metadata": {
    "tags": []
   },
   "outputs": [],
   "source": [
    "class DopravaBalikovna(DopravniProcesor):\n",
    "    def prevoz_objednavky(self, objednavka: ObjednavkovyProcesor) -> None:\n",
    "        print(\"Navazuji spojení na službu Balíkovna..\")\n",
    "        print(f\"Posílám email: {objednavka.email}\")\n",
    "        objednavka.doprava = True"
   ]
  },
  {
   "cell_type": "code",
   "execution_count": null,
   "id": "9169fe4f-892f-4080-b517-66d509e84537",
   "metadata": {
    "tags": []
   },
   "outputs": [],
   "source": [
    "class DopravaZasilkovna(DopravniProcesor):\n",
    "    def prevoz_objednavky(self, objednavka: ObjednavkovyProcesor):\n",
    "        print(\"Navazuji spojení na službu Zásilkovna..\")\n",
    "        print(\"Připojuji na API služby..\")\n",
    "        print(\"Probíhá výběr pobočky..\")\n",
    "        print(f\"Posílám email: {objednavka.email}\")\n",
    "        objednavka.doprava = True\n",
    "        \n",
    "    def vyhodnot_datum_dodani(self):\n",
    "        pass"
   ]
  },
  {
   "cell_type": "code",
   "execution_count": null,
   "id": "09afcf66-4864-4abd-8e49-084a0a2c00c3",
   "metadata": {
    "tags": []
   },
   "outputs": [],
   "source": [
    "class DopravaDHL(DopravniProcesor):\n",
    "    pass\n",
    "\n",
    "class DopravaPPL(DopravniProcesor):\n",
    "    pass"
   ]
  },
  {
   "cell_type": "code",
   "execution_count": null,
   "id": "36f40daf-e412-4af7-bdfe-538a36434dcc",
   "metadata": {
    "tags": []
   },
   "outputs": [],
   "source": [
    "objednavka_matous = ObjednavkovyProcesor(\"Matouš\", \"matous@holinka.cz\")\n",
    "objednavka_matous.vygeneruj_id()"
   ]
  },
  {
   "cell_type": "code",
   "execution_count": null,
   "id": "0196a48f-290a-48c1-b7fc-9c2000b78696",
   "metadata": {
    "tags": []
   },
   "outputs": [],
   "source": [
    "print(objednavka_matous.__dict__)"
   ]
  },
  {
   "cell_type": "code",
   "execution_count": null,
   "id": "4c295285-4fc4-4673-83ef-303012b6de79",
   "metadata": {
    "tags": []
   },
   "outputs": [],
   "source": [
    "doprava_matous = DopravaZasilkovna()\n",
    "doprava_matous.prevoz_objednavky(objednavka_matous)"
   ]
  },
  {
   "cell_type": "code",
   "execution_count": null,
   "id": "8941f4bb-8602-4f1d-a0b0-193edadfc53f",
   "metadata": {},
   "outputs": [],
   "source": []
  },
  {
   "cell_type": "markdown",
   "id": "2c201653-633e-4479-b927-913a23b94c60",
   "metadata": {},
   "source": [
    "<br>\n",
    "\n",
    "V tomto ohledu máš nachystaný prostor pro doplňování **dalších způsobů dopravy**.\n",
    "\n",
    "Dále se vyhneš zásahům **do stávajících objektů**."
   ]
  },
  {
   "cell_type": "markdown",
   "id": "3d730179-778e-4bf0-a883-11580398d6b9",
   "metadata": {},
   "source": [
    "<br>\n",
    "\n",
    "### 🧠 CVIČENÍ 🧠, Vyzkoušej si první princip *open-closed*:\n",
    "---"
   ]
  },
  {
   "cell_type": "markdown",
   "id": "943b01b3-4071-4529-a4c2-87068364ba1e",
   "metadata": {},
   "source": [
    "1. Máš třídu `Notifikace` s atributem `neaktivni`, což je hodnota představující **absenci ve dnech**,\n",
    "2. uprav třídu tak, ať splňuje podmínky druhého principu SOLID, tedy je otevřená pro rozšíření, ale neupravuje stávající objekty."
   ]
  },
  {
   "cell_type": "code",
   "execution_count": null,
   "id": "563504d3-ba95-4903-ac74-4995286d38ce",
   "metadata": {
    "tags": []
   },
   "outputs": [],
   "source": [
    "class Notifikace:\n",
    "    def __init__(self, neaktivni: int):\n",
    "        self.neaktivni = neaktivni\n",
    "    \n",
    "    def posli_notifikaci(self):\n",
    "        if self.neaktivni == 1:\n",
    "            return \"Jeden den neaktivní..\"\n",
    "        elif self.neaktivni == 7:\n",
    "            return \"Sedm dní neaktivní..\"\n",
    "        elif self.neaktivni == 31:\n",
    "            return \"Celý měsíc neaktivní..\""
   ]
  },
  {
   "cell_type": "code",
   "execution_count": null,
   "id": "4a5cad1f-82f8-4803-850e-678ee2a4094d",
   "metadata": {
    "tags": []
   },
   "outputs": [],
   "source": [
    "from abc import ABC, abstractmethod\n",
    "\n",
    "class Notifikace(ABC):\n",
    "    def __init__(self, neaktivni: int):\n",
    "        self.neaktivni = neaktivni\n",
    "        \n",
    "    @abstractmethod\n",
    "    def posli_notifikaci(self):\n",
    "        pass"
   ]
  },
  {
   "cell_type": "code",
   "execution_count": null,
   "id": "65098ce8-bffd-4805-979d-c7f75dd7f799",
   "metadata": {
    "tags": []
   },
   "outputs": [],
   "source": [
    "class DenniNotifikace(Notifikace):\n",
    "    def posli_notifikaci(self):\n",
    "        return \"Jeden den neaktivní..\"\n",
    "    \n",
    "    def naformatuj_obsah_zpravy(self):\n",
    "        raise NotImplementedError('Tato funkcionalita zatím není podporovaná')"
   ]
  },
  {
   "cell_type": "code",
   "execution_count": null,
   "id": "c95b3265-debd-4601-82de-fa7c3c896f95",
   "metadata": {},
   "outputs": [],
   "source": [
    "class TydenniNotifikace(Notifikace):\n",
    "    def posli_notifikaci(self):\n",
    "        return \"Sedm dní neaktivní..\""
   ]
  },
  {
   "cell_type": "markdown",
   "id": "f11df35a-5fa0-4f80-a95e-f9dc11aa6b7d",
   "metadata": {},
   "source": [
    "<details>\n",
    "    <summary>▶️ Řešení</summary>\n",
    "    \n",
    "```python\n",
    "from abc import ABC, abstractmethod\n",
    "\n",
    "class Notifikace(ABC):\n",
    "    def __init__(self, neaktivni: int):\n",
    "        self.neaktivni = neaktivni\n",
    "    \n",
    "    @abstractmethod\n",
    "    def posli_notifikaci(self):\n",
    "        pass\n",
    "    \n",
    "class NotifikaceDenni(Notifikace):\n",
    "    def posli_notifikaci(self):\n",
    "        return \"Jeden den neaktivní..\"\n",
    "\n",
    "class NotifikaceTydenni(Notifikace):\n",
    "    def posli_notifikaci(self):\n",
    "        return \"Sedm dní neaktivní..\"\n",
    "    \n",
    "class NotifikaceMesicni(Notifikace):\n",
    "    def posli_notifikaci(self):\n",
    "        return \"Celý měsíc neaktivní..\"\n",
    "```\n",
    "</details>"
   ]
  },
  {
   "cell_type": "markdown",
   "id": "df8ec96b-cd76-4070-a1c2-2860e4f6cb83",
   "metadata": {},
   "source": [
    "### Liskov Substitution princip\n",
    "\n",
    "---"
   ]
  },
  {
   "cell_type": "markdown",
   "id": "a2370c60-b5d1-4310-8221-53f8669aba86",
   "metadata": {},
   "source": [
    "<img src=\"https://external-content.duckduckgo.com/iu/?u=https%3A%2F%2Ftse4.mm.bing.net%2Fth%3Fid%3DOIP.WKUSirAjrvTsZSUQZT33TQHaHa%26pid%3DApi&f=1&ipt=b00e46b718f54560657071768bbc396942c45556df505d53c5a17adb0bc30c35&ipo=images\" width=\"200\" style=\"margin-left:auto; margin-right:auto\">"
   ]
  },
  {
   "cell_type": "markdown",
   "id": "03c933c6-d309-4583-b0c5-8180ce5ab5a3",
   "metadata": {},
   "source": [
    "[Barbara Liskova](https://en.wikipedia.org/wiki/Barbara_Liskov) v roce 1987 na konferenci [OOPSLA](https://en.wikipedia.org/wiki/OOPSLA) představila následující koncept:\n",
    "*Subtypes must be substitutable for their base types.*\n",
    "\n",
    "Prakticky lze celou teorii aplikovat na poměrně **jednoduchém přirovnání**:"
   ]
  },
  {
   "cell_type": "markdown",
   "id": "5b7b9284-1a9b-4f19-9878-9b36427028a3",
   "metadata": {
    "tags": []
   },
   "source": [
    "<img src=\"https://i.stack.imgur.com/ilxzO.jpg\" width=\"800\" style=\"margin-left:auto; margin-right:auto\">"
   ]
  },
  {
   "cell_type": "markdown",
   "id": "b686be2a-c74c-4e02-9ad8-5ba6985283d2",
   "metadata": {},
   "source": [
    "Obecně princip vypadá příliš vágně, ale v Pythonu můžeš rozumnět následující:\n",
    "\n",
    "Pokud máš třídu `Rodic` a potomka třídu `Potomek`, potom je proveditelné, nahradit třídu `Rodic` třídou `Potomek`, aniž by program vykazoval selhání:"
   ]
  },
  {
   "cell_type": "code",
   "execution_count": null,
   "id": "54e606db-b730-4635-9e9d-0dab44f18bfa",
   "metadata": {
    "tags": []
   },
   "outputs": [],
   "source": [
    "class Zvire:\n",
    "    def pocet_nohou(self):\n",
    "        return 4\n",
    "\n",
    "class Kocka(Zvire):\n",
    "    pass\n",
    "    \n",
    "class Kure(Zvire):\n",
    "    def pocet_nohou(self):\n",
    "        return 2\n",
    "    \n",
    "class Had(Zvire):\n",
    "    def pocet_nohou(self):\n",
    "        return 0"
   ]
  },
  {
   "cell_type": "code",
   "execution_count": null,
   "id": "345479ef-43d8-4c40-b2d9-7ee773c7e5d1",
   "metadata": {
    "tags": []
   },
   "outputs": [],
   "source": [
    "nezname_zvire = Zvire()"
   ]
  },
  {
   "cell_type": "code",
   "execution_count": null,
   "id": "cdb3ca30-9948-47f6-9ffd-9efa9ccf6f7c",
   "metadata": {
    "tags": []
   },
   "outputs": [],
   "source": [
    "if isinstance(nezname_zvire, Zvire):\n",
    "    print(nezname_zvire.pocet_nohou())\n",
    "    # ..."
   ]
  },
  {
   "cell_type": "code",
   "execution_count": null,
   "id": "4b65e40d-901b-43da-9ae7-191434380620",
   "metadata": {
    "tags": []
   },
   "outputs": [],
   "source": [
    "had = Had()"
   ]
  },
  {
   "cell_type": "code",
   "execution_count": null,
   "id": "3f0716e8-5d08-476f-a238-5c783cf2f8b6",
   "metadata": {
    "tags": []
   },
   "outputs": [],
   "source": [
    "if isinstance(had, Zvire):\n",
    "    print(had.pocet_nohou())\n",
    "    # ..."
   ]
  },
  {
   "cell_type": "code",
   "execution_count": null,
   "id": "eebd0dbb-a1f6-4b47-ba23-d4c4d1b1a769",
   "metadata": {},
   "outputs": [],
   "source": [
    "class CtyrnoheZvire:\n",
    "    pass\n",
    "\n",
    "class DvounoheZvire:\n",
    "    pass\n",
    "\n",
    "class BeznoheZvire:\n",
    "    pass"
   ]
  },
  {
   "cell_type": "code",
   "execution_count": 1,
   "id": "f6279071-5c60-4a62-bf00-3f8a88c35409",
   "metadata": {
    "tags": []
   },
   "outputs": [],
   "source": [
    "class CtyrnoheZvire:\n",
    "    def pocet_nohou(self):\n",
    "        return 4"
   ]
  },
  {
   "cell_type": "code",
   "execution_count": 2,
   "id": "2c408679-1147-4cd9-89a9-f7b1bc045c94",
   "metadata": {
    "tags": []
   },
   "outputs": [],
   "source": [
    "class Pes(CtyrnoheZvire):\n",
    "    pass"
   ]
  },
  {
   "cell_type": "code",
   "execution_count": 3,
   "id": "02ef9c9e-3725-405a-91c6-aef31818e62f",
   "metadata": {
    "tags": []
   },
   "outputs": [],
   "source": [
    "class Kocka(CtyrnoheZvire):\n",
    "    pass"
   ]
  },
  {
   "cell_type": "code",
   "execution_count": 5,
   "id": "1aeb3168-7314-42d9-9449-63cfdcad4659",
   "metadata": {
    "tags": []
   },
   "outputs": [
    {
     "name": "stdout",
     "output_type": "stream",
     "text": [
      "True\n"
     ]
    }
   ],
   "source": [
    "print(issubclass(Pes, CtyrnoheZvire))"
   ]
  },
  {
   "cell_type": "code",
   "execution_count": 6,
   "id": "251ee5ba-5993-4e1f-b7f0-3c2761dbc57d",
   "metadata": {
    "tags": []
   },
   "outputs": [],
   "source": [
    "pes_domaci = Pes()"
   ]
  },
  {
   "cell_type": "code",
   "execution_count": 7,
   "id": "b141c99e-aa2d-42db-a00f-0813bcf8e588",
   "metadata": {
    "tags": []
   },
   "outputs": [
    {
     "data": {
      "text/plain": [
       "4"
      ]
     },
     "execution_count": 7,
     "metadata": {},
     "output_type": "execute_result"
    }
   ],
   "source": [
    "pes_domaci.pocet_nohou()"
   ]
  },
  {
   "cell_type": "markdown",
   "id": "822000e8-4ee5-45df-b5f6-8571aa19a9ae",
   "metadata": {},
   "source": [
    "<br>\n",
    "\n",
    "Všechny třídy jsou podtřídou, nebo také potomkem třídy `Zvire`.\n",
    "\n",
    "Takže pokud kdekoliv ve skriptu pracuješ se třídou `Zvire`, musíš umět tuto třídu nahradit jejími potomky.\n",
    "\n",
    "V této ukázce pomocí tříd `Kocka`, `Kure` a `Had`:"
   ]
  },
  {
   "cell_type": "code",
   "execution_count": null,
   "id": "4ebb8df2-18d0-4080-ad48-cc865a67e711",
   "metadata": {
    "tags": []
   },
   "outputs": [],
   "source": [
    "moje_nezname_zvire = Kure()\n",
    "print(moje_nezname_zvire.pocet_nohou())"
   ]
  },
  {
   "cell_type": "code",
   "execution_count": null,
   "id": "acfc6be8-1d97-4e87-a296-23e06d1f626c",
   "metadata": {
    "tags": []
   },
   "outputs": [],
   "source": [
    "moje_kocka = Kocka()\n",
    "moje_kure = Kure()\n",
    "muj_had = Had()"
   ]
  },
  {
   "cell_type": "code",
   "execution_count": null,
   "id": "7d923485-9e67-40a2-8ac3-f5995e2dd5dd",
   "metadata": {
    "tags": []
   },
   "outputs": [],
   "source": [
    "print(\n",
    "    moje_kocka.pocet_nohou(),\n",
    "    moje_kure.pocet_nohou(),\n",
    "    muj_had.pocet_nohou(),\n",
    "    sep=\"\\n\"\n",
    ")"
   ]
  },
  {
   "cell_type": "code",
   "execution_count": null,
   "id": "e5746984-1eb0-4778-8462-822c19cf72fa",
   "metadata": {},
   "outputs": [],
   "source": []
  },
  {
   "cell_type": "markdown",
   "id": "6f44ddc6-d776-45fa-87ac-0908bd8dbbff",
   "metadata": {},
   "source": [
    "<br>\n",
    "\n",
    "### 🧠 CVIČENÍ 🧠, Vyzkoušej si princip *Liskov substitution*:\n",
    "---"
   ]
  },
  {
   "cell_type": "markdown",
   "id": "2cf28b3f-5b80-4fb8-9d92-3757e1068141",
   "metadata": {},
   "source": [
    "1. Máš třídu `Ptak` a podtřídu `Tucnak`, která dědí od třídy `Ptak`,\n",
    "2. uprav třídy `Ptak` a `Tucnak` tak, ať splňuje podmínky třetího principu SOLID, tedy možnost nahradit **rodiče jeho potomky**."
   ]
  },
  {
   "cell_type": "code",
   "execution_count": null,
   "id": "727b7e4b-53cd-4417-b052-fdc16669b7a9",
   "metadata": {
    "tags": []
   },
   "outputs": [],
   "source": [
    "class Ptak:\n",
    "    def leta(self):\n",
    "        return \"Umím létat!\"\n",
    "\n",
    "class Tucnak(Ptak):\n",
    "    pass"
   ]
  },
  {
   "cell_type": "code",
   "execution_count": null,
   "id": "df494a43-691a-4edc-9628-20b654411d5a",
   "metadata": {
    "tags": []
   },
   "outputs": [],
   "source": [
    "pingu = Tucnak()\n",
    "pingu.leta()"
   ]
  },
  {
   "cell_type": "code",
   "execution_count": null,
   "id": "31d993cb-ba79-483c-954b-3ce516103324",
   "metadata": {},
   "outputs": [],
   "source": [
    "from abc import ABC, abstractmethod\n",
    "\n",
    "class Ptak(ABC):\n",
    "    def umi_letat(self):\n",
    "        pass\n",
    "    \n",
    "class Tucnak(Ptak):\n",
    "    def umi_letat(self):\n",
    "        return \"neumí\""
   ]
  },
  {
   "cell_type": "code",
   "execution_count": null,
   "id": "2502c437-02a2-45a3-ae53-b825c26eee33",
   "metadata": {},
   "outputs": [],
   "source": [
    "pingu = Tucnak()\n",
    "print(pingu.umi_letat())"
   ]
  },
  {
   "cell_type": "code",
   "execution_count": 10,
   "id": "9536566b-7a0f-46d8-a2b0-e5a7e9cf8b30",
   "metadata": {
    "tags": []
   },
   "outputs": [],
   "source": [
    "class NeletavyPtak:\n",
    "    def umi_letat(self):\n",
    "        return \"Neumím létat!\"\n",
    "\n",
    "class LetavyPtak:\n",
    "    def umi_letat(self):\n",
    "        return \"Umím létat!\""
   ]
  },
  {
   "cell_type": "code",
   "execution_count": 11,
   "id": "5dbe4a28-da57-4bbe-ad05-ca0037752750",
   "metadata": {
    "tags": []
   },
   "outputs": [],
   "source": [
    "class Tucnak(NeletavyPtak):\n",
    "    pass"
   ]
  },
  {
   "cell_type": "code",
   "execution_count": 13,
   "id": "95862f21-0cac-45b4-82f2-4eb2bc7e451d",
   "metadata": {
    "tags": []
   },
   "outputs": [],
   "source": [
    "class Kachna(LetavyPtak):\n",
    "    pass"
   ]
  },
  {
   "cell_type": "code",
   "execution_count": 12,
   "id": "1a6ebedc-e4c5-4a89-9610-a5ef8c1b446b",
   "metadata": {
    "tags": []
   },
   "outputs": [
    {
     "name": "stdout",
     "output_type": "stream",
     "text": [
      "Neumím létat!\n"
     ]
    }
   ],
   "source": [
    "pingu = Tucnak()\n",
    "print(pingu.umi_letat())"
   ]
  },
  {
   "cell_type": "code",
   "execution_count": 14,
   "id": "1aec826d-c36b-4a2a-b0cc-dc7268e7f302",
   "metadata": {
    "tags": []
   },
   "outputs": [
    {
     "name": "stdout",
     "output_type": "stream",
     "text": [
      "Umím létat!\n"
     ]
    }
   ],
   "source": [
    "kachna = Kachna()\n",
    "print(kachna.umi_letat())"
   ]
  },
  {
   "cell_type": "markdown",
   "id": "3f5f0375-9651-4430-b028-079734344218",
   "metadata": {},
   "source": [
    "<details>\n",
    "    <summary>▶️ Řešení</summary>\n",
    "    \n",
    "```python\n",
    "class LetavyPtak:\n",
    "    def leta(self):\n",
    "        return \"Umím létat!\"\n",
    "    \n",
    "class NeletavyPtak:\n",
    "    def leta(self):\n",
    "        return \"Neumím létat!\"\n",
    "\n",
    "class Tucnak(NeletavyPtak):\n",
    "    pass\n",
    "```\n",
    "</details>"
   ]
  },
  {
   "cell_type": "markdown",
   "id": "3715118c-9617-420b-bc78-cfe3a303c6cf",
   "metadata": {},
   "source": [
    "### Interface Segregation princip\n",
    "\n",
    "---"
   ]
  },
  {
   "cell_type": "markdown",
   "id": "ea3c540a-4bcf-4cb8-a9de-d1b63d3bda5b",
   "metadata": {},
   "source": [
    "<img src=\"https://external-content.duckduckgo.com/iu/?u=https%3A%2F%2Ftse1.mm.bing.net%2Fth%3Fid%3DOIP.AWykJlLJFaiTthcYReAgtQHaHa%26pid%3DApi&f=1&ipt=dd3ec9af7c209cd700873d7e72f9d3f463cdefba06e1194086bdaa45265bfa35&ipo=images\" width=\"200\" style=\"margin-left:auto; margin-right:auto\">"
   ]
  },
  {
   "cell_type": "markdown",
   "id": "e2242236-ad0e-44f9-bd0f-6b338981a3ea",
   "metadata": {
    "tags": []
   },
   "source": [
    "Čtvrtý princip v pořadí zní oficiálně:"
   ]
  },
  {
   "cell_type": "markdown",
   "id": "f93e12e5-c0a8-4045-8ea7-3895f2702a62",
   "metadata": {},
   "source": [
    "*Clients should not be forced to depend upon methods that they do not use.*<br>\n",
    "Převedeno do jednodušší řeči:\n",
    "\n",
    "Pokud má **rodičovská třída spousty objektů** (*atributů* a *metod*), **její potomci je nebudou pravděpodobně potřebovat všechny**.\n",
    "\n",
    "<br>\n",
    "\n",
    "Kvůli dědičnosti by bylo takhle možné, u potomků pracovat s objekty rodičů, které potomek nepotřebuje.\n",
    "\n",
    "Takové chování by často vedlo ke **zmatení, nepochopení nebo chybám**."
   ]
  },
  {
   "cell_type": "code",
   "execution_count": 15,
   "id": "75a759f7-baad-428c-86ad-909c005ea1c4",
   "metadata": {
    "tags": []
   },
   "outputs": [],
   "source": [
    "class Ptak:\n",
    "    def chodi(self):\n",
    "        print(\"Chodí..\")\n",
    "        \n",
    "    def leta(self):\n",
    "        print(\"Létá..\")\n",
    "        \n",
    "    def plave(self):\n",
    "        print(\"Plave..\")"
   ]
  },
  {
   "cell_type": "code",
   "execution_count": 16,
   "id": "fee55446-811e-4960-934e-535279ba273a",
   "metadata": {
    "tags": []
   },
   "outputs": [],
   "source": [
    "class Kachna(Ptak):\n",
    "    pass"
   ]
  },
  {
   "cell_type": "markdown",
   "id": "6ee67d1d-4833-4be8-aa7e-2aa94dd25130",
   "metadata": {},
   "source": [
    "<br>\n",
    "\n",
    "Třída `Kachna` je potomek třídy `Ptak` a ve všech ohledech vykazuje logické chování:"
   ]
  },
  {
   "cell_type": "code",
   "execution_count": 17,
   "id": "88724c80-a863-4ad9-be67-8a1314551b88",
   "metadata": {
    "tags": []
   },
   "outputs": [
    {
     "name": "stdout",
     "output_type": "stream",
     "text": [
      "Chodí..\n",
      "Létá..\n",
      "Plave..\n"
     ]
    }
   ],
   "source": [
    "kachna_1 = Kachna()\n",
    "kachna_1.chodi()\n",
    "kachna_1.leta()\n",
    "kachna_1.plave()"
   ]
  },
  {
   "cell_type": "markdown",
   "id": "97c5a632-eb4a-42a6-9b53-6978ea7aacdb",
   "metadata": {},
   "source": [
    "<br>\n",
    "\n",
    "Problém nastává, pokud vytvoříš nového potomka.\n",
    "\n",
    "U kterého některá z metod není logické, případně kritická:"
   ]
  },
  {
   "cell_type": "code",
   "execution_count": 18,
   "id": "7b000f02-96a2-4791-917c-5e73aea65d8e",
   "metadata": {
    "tags": []
   },
   "outputs": [],
   "source": [
    "class Tucnak(Ptak):\n",
    "    pass"
   ]
  },
  {
   "cell_type": "code",
   "execution_count": 19,
   "id": "4e726597-2791-49e5-940b-efbf502efbeb",
   "metadata": {
    "tags": []
   },
   "outputs": [
    {
     "name": "stdout",
     "output_type": "stream",
     "text": [
      "Chodí..\n",
      "Létá..\n",
      "Plave..\n"
     ]
    }
   ],
   "source": [
    "tucnak = Tucnak()\n",
    "tucnak.chodi()\n",
    "tucnak.leta()  # --> nedává smysl pracovat s touto metodou\n",
    "tucnak.plave()"
   ]
  },
  {
   "cell_type": "markdown",
   "id": "a39da510-d41a-4d9c-8d49-27a023653a6b",
   "metadata": {},
   "source": [
    "<br>\n",
    "\n",
    "**Tučňák** zcela očividně není typ ptáka, který dovede létat.\n",
    "\n",
    "U takové třídy to samozřejmě není komplikace.\n",
    "\n",
    "Jsou ale mnohem komplikovanější situace a mnohem rozsáhlejší dopady v praxi napsaných tříd."
   ]
  },
  {
   "cell_type": "code",
   "execution_count": 20,
   "id": "1e67272f-7646-4da3-b5f2-22799e6b1ee4",
   "metadata": {
    "tags": []
   },
   "outputs": [],
   "source": [
    "from abc import ABC, abstractmethod"
   ]
  },
  {
   "cell_type": "code",
   "execution_count": 21,
   "id": "27743782-6b1b-46ba-8b45-ae7db6f1203b",
   "metadata": {
    "tags": []
   },
   "outputs": [],
   "source": [
    "class Ptak(ABC):\n",
    "    \n",
    "    @abstractmethod\n",
    "    def chodi(self):\n",
    "        print(\"Chodí..\")\n",
    "\n",
    "    @abstractmethod\n",
    "    def leta(self):\n",
    "        print(\"Létá..\")\n",
    "    \n",
    "    @abstractmethod\n",
    "    def plave(self):\n",
    "        print(\"Plave..\")"
   ]
  },
  {
   "cell_type": "code",
   "execution_count": 22,
   "id": "fa08ab1f-cb25-48fd-9cd5-49df854a74e2",
   "metadata": {
    "tags": []
   },
   "outputs": [],
   "source": [
    "class Kachna(Ptak):\n",
    "    def chodi(self):\n",
    "        print(\"Chodí..\")\n",
    "\n",
    "    def leta(self):\n",
    "        print(\"Létá..\")\n",
    "    \n",
    "    def plave(self):\n",
    "        print(\"Plave..\")"
   ]
  },
  {
   "cell_type": "code",
   "execution_count": 23,
   "id": "bfa67662-636a-4c62-b024-c39cc69e63a9",
   "metadata": {
    "tags": []
   },
   "outputs": [],
   "source": [
    "class Tucnak(Ptak):\n",
    "    def chodi(self):\n",
    "        print(\"Chodí..\")\n",
    "\n",
    "    def leta(self):\n",
    "        raise NotImplementedError(\"Neumí létat\")\n",
    "    \n",
    "    def plave(self):\n",
    "        print(\"Plave..\")"
   ]
  },
  {
   "cell_type": "code",
   "execution_count": 24,
   "id": "afe89b2d-f7e4-470e-b63f-581fe671f434",
   "metadata": {
    "tags": []
   },
   "outputs": [],
   "source": [
    "kachna = Kachna()\n",
    "tucnak = Tucnak()"
   ]
  },
  {
   "cell_type": "code",
   "execution_count": 25,
   "id": "7ea472c0-814a-448f-ba35-8fc7fa43c7fd",
   "metadata": {
    "tags": []
   },
   "outputs": [
    {
     "name": "stdout",
     "output_type": "stream",
     "text": [
      "Chodí..\n",
      "Létá..\n",
      "Plave..\n"
     ]
    }
   ],
   "source": [
    "kachna.chodi()\n",
    "kachna.leta()\n",
    "kachna.plave()"
   ]
  },
  {
   "cell_type": "code",
   "execution_count": 26,
   "id": "c3e8d33c-3994-44ff-8474-0373d5360523",
   "metadata": {
    "tags": []
   },
   "outputs": [
    {
     "name": "stdout",
     "output_type": "stream",
     "text": [
      "Chodí..\n"
     ]
    },
    {
     "ename": "NotImplementedError",
     "evalue": "Neumí létat",
     "output_type": "error",
     "traceback": [
      "\u001b[0;31m---------------------------------------------------------------------------\u001b[0m",
      "\u001b[0;31mNotImplementedError\u001b[0m                       Traceback (most recent call last)",
      "Cell \u001b[0;32mIn[26], line 2\u001b[0m\n\u001b[1;32m      1\u001b[0m tucnak\u001b[38;5;241m.\u001b[39mchodi()\n\u001b[0;32m----> 2\u001b[0m \u001b[43mtucnak\u001b[49m\u001b[38;5;241;43m.\u001b[39;49m\u001b[43mleta\u001b[49m\u001b[43m(\u001b[49m\u001b[43m)\u001b[49m\n\u001b[1;32m      3\u001b[0m tucnak\u001b[38;5;241m.\u001b[39mplave()\n",
      "Cell \u001b[0;32mIn[23], line 6\u001b[0m, in \u001b[0;36mTucnak.leta\u001b[0;34m(self)\u001b[0m\n\u001b[1;32m      5\u001b[0m \u001b[38;5;28;01mdef\u001b[39;00m \u001b[38;5;21mleta\u001b[39m(\u001b[38;5;28mself\u001b[39m):\n\u001b[0;32m----> 6\u001b[0m     \u001b[38;5;28;01mraise\u001b[39;00m \u001b[38;5;167;01mNotImplementedError\u001b[39;00m(\u001b[38;5;124m\"\u001b[39m\u001b[38;5;124mNeumí létat\u001b[39m\u001b[38;5;124m\"\u001b[39m)\n",
      "\u001b[0;31mNotImplementedError\u001b[0m: Neumí létat"
     ]
    }
   ],
   "source": [
    "tucnak.chodi()\n",
    "tucnak.leta()\n",
    "tucnak.plave()"
   ]
  },
  {
   "cell_type": "markdown",
   "id": "cd2d1160-a749-4002-b023-752654e6394b",
   "metadata": {},
   "source": [
    "<br>\n",
    "\n",
    "Díky poslední úpravě, můžeš pracovat jak s rodičovskou třídou `Ptak`, tak s podtřídou `Kachna` a `Tucnak`.\n",
    "\n",
    "Přitom jejich objekty neporušují Liskovu substituci.\n",
    "\n",
    "Dále objekty, které nelze logicky aplikovat obsahují defaultní výjimku `NotImplementedError`."
   ]
  },
  {
   "cell_type": "markdown",
   "id": "6c560307-9145-4bc7-bddc-68e453d6b885",
   "metadata": {},
   "source": [
    "<br>\n",
    "\n",
    "### 🧠 CVIČENÍ 🧠, Vyzkoušej si princip *interface segregation*:\n",
    "---"
   ]
  },
  {
   "cell_type": "markdown",
   "id": "6a72c166-83ec-4b54-bb7f-70ea6ec68543",
   "metadata": {},
   "source": [
    "1. Máš třídu `Zvire`\n",
    "2. vytvor instance `ptak` a `ryba`, pro obě uprav objekty tak, ať splňuje podmínky čtvrtého principu SOLID, tedy redukce jednotlivých metod."
   ]
  },
  {
   "cell_type": "code",
   "execution_count": null,
   "id": "e99aefd9-550b-4a84-9d3f-8ed8689a034c",
   "metadata": {
    "tags": []
   },
   "outputs": [],
   "source": [
    "class Zvire:\n",
    "    def zere(self):\n",
    "        pass\n",
    "\n",
    "    def leta(self):\n",
    "        pass\n",
    "\n",
    "    def plave(self):\n",
    "        pass"
   ]
  },
  {
   "cell_type": "code",
   "execution_count": null,
   "id": "56efdcc1-e37a-4d77-a111-9930ea5fef4b",
   "metadata": {
    "tags": []
   },
   "outputs": [],
   "source": [
    "ptak = Ptak()    # neplave\n",
    "ryba = Ryba()    # neleta"
   ]
  },
  {
   "cell_type": "markdown",
   "id": "c0488726-4ba8-4b25-b120-7e3efb0c3e05",
   "metadata": {},
   "source": [
    "<details>\n",
    "    <summary>▶️ Řešení</summary>\n",
    "    \n",
    "```python\n",
    "from abc import ABC, abstractmethod\n",
    "\n",
    "class Zvire(ABC):\n",
    "    \n",
    "    @abstractmethod\n",
    "    def zere(self):\n",
    "        pass\n",
    "    \n",
    "    @abstractmethod\n",
    "    def leta(self):\n",
    "        pass\n",
    "    \n",
    "    @abstractmethod\n",
    "    def plave(self):\n",
    "        pass\n",
    "        \n",
    "    \n",
    "class Ryba(Zvire):\n",
    "    def zere(self):\n",
    "        print(\"Zrovna žeru\")\n",
    "    \n",
    "    def leta(self):\n",
    "        raise NotImplementedError(\"Nelétám\")\n",
    "    \n",
    "    def plave(self):\n",
    "        print(\"Zrovna plavu\")\n",
    "\n",
    "    \n",
    "class Ptak(Zvire):\n",
    "    def zere(self):\n",
    "        print(\"Zrovna žeru\")\n",
    "    \n",
    "    def leta(self):\n",
    "        print(\"Zrovna letím\")\n",
    "        \n",
    "    def plave(self):\n",
    "        raise NotImplementedError(\"Neplavu\")\n",
    "```\n",
    "</details>"
   ]
  },
  {
   "cell_type": "markdown",
   "id": "cbe6bb22-9a5a-40ad-b310-00fb99096baf",
   "metadata": {},
   "source": [
    "### Dependency Inversion princip\n",
    "\n",
    "---"
   ]
  },
  {
   "cell_type": "markdown",
   "id": "9f112b62-cbfa-439e-b97f-15f211c3a66a",
   "metadata": {},
   "source": [
    "<img src=\"https://external-content.duckduckgo.com/iu/?u=https%3A%2F%2Ftse2.mm.bing.net%2Fth%3Fid%3DOIP.ElRuiSC0jD4U92GbKK7tKQHaHa%26pid%3DApi&f=1&ipt=c07283025cf1bdc16c1881fa5e49ce590b471ca9160ab4b26dddcbab30c28fe6&ipo=images\" width=\"200\" style=\"margin-left:auto; margin-right:auto\">"
   ]
  },
  {
   "cell_type": "markdown",
   "id": "96f1aafc-27c6-46cb-895a-d499fc053a61",
   "metadata": {},
   "source": [
    "Opět nejprve oficiální znění tohoto konceptu:\n",
    "*Abstractions should not depend upon details. Details should depend upon abstractions.*\n",
    "\n",
    "Tento popis ale dělá z pátého pravidla docela vágní terminologii.\n",
    "\n",
    "<br>\n",
    "\n",
    "Prakticky a lidsky můžeš konstantovat:<br>\n",
    "**Závislosti nebo také vztahy by se měly odvíjet od abstrakcí. Ne od konkrétních tříd či modulů**."
   ]
  },
  {
   "cell_type": "code",
   "execution_count": 27,
   "id": "74779a3a-3fac-4887-bf08-0848de461d0a",
   "metadata": {
    "tags": []
   },
   "outputs": [],
   "source": [
    "import time"
   ]
  },
  {
   "cell_type": "code",
   "execution_count": 28,
   "id": "7f333e03-ce70-4289-8110-b95fd58401e5",
   "metadata": {
    "tags": []
   },
   "outputs": [],
   "source": [
    "class Zobrazeni:\n",
    "    def zobraz_nactena_data(self):\n",
    "        moje_data = ZdrojDat()\n",
    "        hruba_data = moje_data.ziskej_data_ze_souboru()\n",
    "        print(f\"Display: {hruba_data.upper()}\")"
   ]
  },
  {
   "cell_type": "code",
   "execution_count": 29,
   "id": "4ca079f1-0f93-408d-b553-ec211206c9ca",
   "metadata": {
    "tags": []
   },
   "outputs": [],
   "source": [
    "class ZdrojDat:\n",
    "    def ziskej_data_ze_souboru(self):\n",
    "        time.sleep(4)\n",
    "        return \"Data z mého lokálního souboru\""
   ]
  },
  {
   "cell_type": "code",
   "execution_count": 31,
   "id": "14202b31-aaf5-433a-96c4-59e1a17062c1",
   "metadata": {
    "tags": []
   },
   "outputs": [],
   "source": [
    "muj_frontend = Zobrazeni()"
   ]
  },
  {
   "cell_type": "code",
   "execution_count": 32,
   "id": "ed324f87-e2d9-41bf-b789-557c8ec5581a",
   "metadata": {
    "tags": []
   },
   "outputs": [
    {
     "name": "stdout",
     "output_type": "stream",
     "text": [
      "Display: DATA Z MÉHO LOKÁLNÍHO SOUBORU\n"
     ]
    }
   ],
   "source": [
    "muj_frontend.zobraz_nactena_data()"
   ]
  },
  {
   "cell_type": "markdown",
   "id": "b555b05c-a488-4f30-90e2-20c5705520e7",
   "metadata": {},
   "source": [
    "<br>\n",
    "\n",
    "V ukázce výše můžeš vidět prohřešek oproti principu *dependency inversion*.\n",
    "\n",
    "Na první pohled můžeš říct, že třídy `Displej` a `ZdrojDat` jsou úzce provázané.\n",
    "\n",
    "Takové chování může v budoucnu omezovat programátory v dalším škálováním (růstu projektu).\n",
    "\n",
    "Třeba pokud budeš potřebovat načíst data z relační databáze:"
   ]
  },
  {
   "cell_type": "code",
   "execution_count": null,
   "id": "0ec71420-40d5-4ea7-a587-372febb65c45",
   "metadata": {},
   "outputs": [],
   "source": [
    "def func_1(pomocna_fce: callable):  # func_2\n",
    "    vysledek = pomocna_fce\n",
    "    return vysledek.upper()\n",
    "\n",
    "\n",
    "def func_2():\n",
    "    return \"Aaa\""
   ]
  },
  {
   "cell_type": "code",
   "execution_count": null,
   "id": "9620a8d3-3e1f-405f-9ac9-9885af9a42f1",
   "metadata": {},
   "outputs": [],
   "source": [
    "class ZdrojDat:\n",
    "    def ziskej_data_ze_souboru(self):\n",
    "        time.sleep(4)\n",
    "        return \"Data z mého lokálního souboru\""
   ]
  },
  {
   "cell_type": "code",
   "execution_count": null,
   "id": "b583ba67-4a37-41b3-b8cd-7a8d9fb8c0f1",
   "metadata": {},
   "outputs": [],
   "source": [
    "class Zobrazeni:  # Inversion\n",
    "    def zobraz_nactena_data(self, moje_data: ZdrojDat):\n",
    "        hruba_data = moje_data.ziskej_data_ze_souboru()  # instanci\n",
    "        print(f\"Display: {hruba_data.upper()}\")"
   ]
  },
  {
   "cell_type": "code",
   "execution_count": null,
   "id": "955a4f49-62f0-4b7f-abef-3bd650b40b7a",
   "metadata": {},
   "outputs": [],
   "source": [
    "class Zobrazeni:  # Injection\n",
    "    def zobraz_nactena_data(self, moje_data: ZdrojDat):\n",
    "        hruba_data = moje_data  # instanci.ziskej_data_ze_souboru()\n",
    "        print(f\"Display: {hruba_data.upper()}\")"
   ]
  },
  {
   "cell_type": "code",
   "execution_count": null,
   "id": "882d378f-6f14-4a05-ac24-7732ce71473d",
   "metadata": {},
   "outputs": [],
   "source": [
    "# nachystana_data = ZdrojDat().ziskej_data_ze_souboru()\n",
    "# zobrazovac = Zobrazeni()\n",
    "# zobrazovac.zobraz_nactena_data(nachystana_data)\n",
    "\n",
    "# nachystana_data = ZdrojDat()\n",
    "# zobrazovac = Zobrazeni()\n",
    "# zobrazovac.zobraz_nactena_data(nachystana_data)"
   ]
  },
  {
   "cell_type": "markdown",
   "id": "5b1b98f7-fdf9-4292-94bf-25071755a5ea",
   "metadata": {},
   "source": [
    "<br>\n",
    "\n",
    "V takovém případě můžeš definovat různé zdroje.\n",
    "\n",
    "Pokud potřebuješ soubor, nebo pokud potřebuješ databázi.\n",
    "\n",
    "Důležité je, že závislosti nyní převádíš na abstrace.\n",
    "\n",
    "Nikoliv na konkrétní třídy a moduly:"
   ]
  },
  {
   "cell_type": "code",
   "execution_count": null,
   "id": "e344bd51-cfb6-4f36-a613-118436896ee6",
   "metadata": {
    "tags": []
   },
   "outputs": [],
   "source": [
    "data_z_db = ZdrojDatJakoDatabaze()\n",
    "data_z_so = ZdrojDatJakoSoubor()"
   ]
  },
  {
   "cell_type": "markdown",
   "id": "f858161e-8eba-4f4c-a7b0-8fe0bba7f86d",
   "metadata": {},
   "source": [
    "<br>\n",
    "\n",
    "Vytvořené instance mají nachystané data.\n",
    "\n",
    "Ta potom přenáším do třídy `Displej`:"
   ]
  },
  {
   "cell_type": "code",
   "execution_count": null,
   "id": "e21008fb-6150-44c2-8e63-0dee466f79a6",
   "metadata": {
    "tags": []
   },
   "outputs": [],
   "source": [
    "zobrazeni_1 = Displej(data_z_db)\n",
    "zobrazeni_2 = Displej(data_z_so)"
   ]
  },
  {
   "cell_type": "markdown",
   "id": "8975a1b1-210c-48d3-9b6e-448af4c8cf61",
   "metadata": {},
   "source": [
    "<br>\n",
    "\n",
    "Nyní třída `Displej` nezávísí na konkrétní třídě, ale pouze její abstrakci `ZdrojDat`:"
   ]
  },
  {
   "cell_type": "code",
   "execution_count": null,
   "id": "bf5538b8-bbd8-4b46-a23c-83fae7e21435",
   "metadata": {
    "tags": []
   },
   "outputs": [],
   "source": [
    "zobrazeni_1.zobraz_nactena_data()\n",
    "zobrazeni_2.zobraz_nactena_data()"
   ]
  },
  {
   "cell_type": "markdown",
   "id": "3af9da08-2c48-41f3-86a8-940cdb64fa7c",
   "metadata": {},
   "source": [
    "<br>\n",
    "\n",
    "### 🧠 CVIČENÍ 🧠, Vyzkoušej si princip *dependency inversion*:\n",
    "---"
   ]
  },
  {
   "cell_type": "markdown",
   "id": "8eddd086-fc27-41f1-9e06-6152a9e718da",
   "metadata": {},
   "source": [
    "1. Máš třídu `MySQLDatabaze` a třídu `MojeAplikace`,\n",
    "2. podívej se na řešení úlohy a zamysli se, jestli na něm není něco chybného,\n",
    "3. pokud ano, navrhi jak takovou situaci řešit."
   ]
  },
  {
   "cell_type": "code",
   "execution_count": null,
   "id": "8c1b04a0-9e48-4579-922b-0930c833572f",
   "metadata": {
    "tags": []
   },
   "outputs": [],
   "source": [
    "class MySQLDatabaze:\n",
    "    def vytvor_pripojovaci_object(self):\n",
    "        pass\n",
    "    def posli_dotaz(self):\n",
    "        pass\n",
    "\n",
    "class MojeAplikace:\n",
    "    def __init__(self):\n",
    "        self.databaze = MySQLDatabase()\n",
    "        self.databaze.vytvor_pripojovaci_object()"
   ]
  },
  {
   "cell_type": "code",
   "execution_count": null,
   "id": "6e1bb9bc-1b8a-424a-bc77-6060ff76aea1",
   "metadata": {
    "tags": []
   },
   "outputs": [],
   "source": [
    "class ZdrojDat(ABC):\n",
    "    @abstractmethod\n",
    "    def vytvor_pripojovaci_object(self):\n",
    "        pass\n",
    "\n",
    "class MySQLDatabaze(ZdrojDat):\n",
    "    def vytvor_pripojovaci_object(self):\n",
    "        pass\n",
    "    \n",
    "class MongoDatabaze(ZdrojDat):\n",
    "    def vytvor_pripojovaci_object(self):\n",
    "        pass\n",
    "\n",
    "class MojeAplikace:\n",
    "    def __init__(self, zdroj_dat: ZdrojDat): # dep. inversion\n",
    "        self.zdroj_dat = zdroj_dat\n",
    "        self.zdroj_dat.vytvor_pripojovaci_object()"
   ]
  },
  {
   "cell_type": "code",
   "execution_count": null,
   "id": "5d7513d2-e00e-40a8-8fc9-f8be06e08467",
   "metadata": {
    "tags": []
   },
   "outputs": [],
   "source": [
    "mongo_data = MongoDatabaze()"
   ]
  },
  {
   "cell_type": "code",
   "execution_count": null,
   "id": "506bc66c-430a-48c5-a660-7b86093a88dc",
   "metadata": {
    "tags": []
   },
   "outputs": [],
   "source": [
    "moje_app = MojeAplikace(mongo_data)"
   ]
  },
  {
   "cell_type": "markdown",
   "id": "d2879688-7bcf-47a1-b7b0-c94a3fd2109f",
   "metadata": {},
   "source": [
    "<details>\n",
    "    <summary>▶️ Řešení</summary>\n",
    "    \n",
    "```python\n",
    "from abc import ABC, abstractmethod\n",
    "\n",
    "class Databaze(ABC):\n",
    "    @abstractmethod\n",
    "    def pripojeni_db(self):\n",
    "        pass\n",
    "\n",
    "    @abstractmethod\n",
    "    def posli_dotaz(self):\n",
    "        pass\n",
    "\n",
    "class MySQLDatabase(Databaze):\n",
    "    def pripojeni_db(self):\n",
    "        pass\n",
    "    def posli_dotaz(self):\n",
    "        pass\n",
    "\n",
    "class MyApp:\n",
    "    def __init__(self, db: Databaze):\n",
    "        self.database = db\n",
    "        self.db.pripojeni_db()\n",
    "```\n",
    "</details>"
   ]
  },
  {
   "cell_type": "markdown",
   "id": "2a495fee-d075-4388-8fa3-8e2b32373654",
   "metadata": {},
   "source": [
    "<br>\n",
    "\n",
    "### Souhrn k SOLID principům\n",
    "\n",
    "---"
   ]
  },
  {
   "cell_type": "markdown",
   "id": "977dc49b-8a3a-4f99-8817-a2bdc0ef465b",
   "metadata": {},
   "source": [
    "Principy *SOLID* nejsou *dogma*.\n",
    "\n",
    "Patří k solidnímu **úvodu do návrhových vzorů**.\n",
    "\n",
    "Jedná se tedy o jednu z těch **náročnějších problematik**.\n",
    "\n",
    "Jedná se také ale o *cílovou rovinku* v pochopení **konceptů OOP** a současně začátků do koncepce **struktury softwaru**.\n",
    "\n",
    "Každý, kdo se podílí na kolektivním projektu by měl vědět, jak se tyto principy podepisují na zdrojovém kódu."
   ]
  },
  {
   "cell_type": "code",
   "execution_count": null,
   "id": "651ee9d5-da96-4665-a46c-6db79df69b8c",
   "metadata": {},
   "outputs": [],
   "source": []
  },
  {
   "cell_type": "markdown",
   "id": "cea26d9e-bb85-4427-a1d4-0658a44babca",
   "metadata": {},
   "source": [
    "[Formulář po páté lekci](https://forms.gle/4StnRmZPnRs8rBxw9)"
   ]
  },
  {
   "cell_type": "markdown",
   "id": "933b9ee3-833c-4b97-837b-4d5ce73da730",
   "metadata": {},
   "source": [
    "---"
   ]
  }
 ],
 "metadata": {
  "kernelspec": {
   "display_name": "Python 3 (ipykernel)",
   "language": "python",
   "name": "python3"
  },
  "language_info": {
   "codemirror_mode": {
    "name": "ipython",
    "version": 3
   },
   "file_extension": ".py",
   "mimetype": "text/x-python",
   "name": "python",
   "nbconvert_exporter": "python",
   "pygments_lexer": "ipython3",
   "version": "3.8.10"
  }
 },
 "nbformat": 4,
 "nbformat_minor": 5
}
