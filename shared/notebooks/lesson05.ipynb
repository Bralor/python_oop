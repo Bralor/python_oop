{
 "cells": [
  {
   "cell_type": "markdown",
   "id": "973d2f49-9b12-4b37-b622-f5b9ed6c53dd",
   "metadata": {},
   "source": [
    "# Python objektově orientované programování\n",
    "\n",
    "---"
   ]
  },
  {
   "cell_type": "markdown",
   "id": "3e27f997-c2d4-4a74-ae0d-356778449342",
   "metadata": {},
   "source": [
    "1. [SOLID principy](),\n",
    "    - [single responsibility](#),\n",
    "    - [cvičení 11](#),\n",
    "    - [open-closed](#),\n",
    "    - [cvičení 12](#)\n",
    "    - [Liskov substitution](#),\n",
    "    - [cvičení 13](#)\n",
    "    - [interface segregration](#),\n",
    "    - [cvičení 14](#)\n",
    "    - [dependency inversion](#),\n",
    "    - [cvičení 15](#)\n",
    "3. [OOP, na co myslet](#),\n",
    "    - [OOP je možné kombinovat](),\n",
    "    - [Třídy mají jak vlastnosti, tak schopnosti](),\n",
    "    - [Opatrně na dědičnost](),\n",
    "    - [Dependecy injection](),\n",
    "    - [cvičení 16](#)\n",
    "    "
   ]
  },
  {
   "cell_type": "markdown",
   "id": "fe79c39e-b692-4c6c-adb8-0c73ee6a30a6",
   "metadata": {},
   "source": [
    "<img src=\"https://external-content.duckduckgo.com/iu/?u=https%3A%2F%2Ftse1.mm.bing.net%2Fth%3Fid%3DOIP.Mdjx0MdXHoH3yZPd-jadRgHaGy%26pid%3DApi&f=1&ipt=442a54ac189061e1752310f8c3f7258d868ebc936973a92c8cb43d2421934b14&ipo=image\" width=\"200\" style=\"margin-left:auto; margin-right:auto\">"
   ]
  },
  {
   "cell_type": "markdown",
   "id": "88e33367-0461-44bd-ad72-bfc8a6393e50",
   "metadata": {},
   "source": [
    "## SOLID principy\n",
    "\n",
    "---\n",
    "\n",
    "<pic>"
   ]
  },
  {
   "cell_type": "markdown",
   "id": "b2652399-4337-48a0-bd63-2b03a5a4fb51",
   "metadata": {},
   "source": [
    "**SOLID** je v tomto případě [akronym](https://cs.wikipedia.org/wiki/Akronym).\n",
    "\n",
    "Tato zkratka představuje **pět návrhových principů**.\n",
    "\n",
    "Jde o principy, které pomáhají vývojářům vytvářet systémy, které jsou snadno udržovatelné, robustní a škálovatelné.\n",
    "\n",
    "<br>\n",
    "\n",
    "Jde o tyto principy:\n",
    "1. **S**ingle Responsibility,\n",
    "2. **O**pen-Closed,\n",
    "3. **L**iskov Substitution,\n",
    "4. **I**nterface Segregation,\n",
    "5. **D**ependency Inversion."
   ]
  },
  {
   "cell_type": "markdown",
   "id": "d3d1b43a-53dd-4b4f-b74a-1ec26abc046e",
   "metadata": {},
   "source": [
    "Dodržování těchto principů **není povinné**.\n",
    "\n",
    "Nevyžaduje je od tebe ani *interpret*, ani nikdo jiný.\n",
    "\n",
    "Takže není nutné, je aplikovat u každého skriptu nebo knihovny, které sám používáš.\n",
    "\n",
    "Určitě je **ale zásadní**, uvědomovat si tyto souvislosti, pokud nepíšeš skripty sám pro sebe, **ale v kolektivu**.\n",
    "\n",
    "Případně na již běžících prostředích!"
   ]
  },
  {
   "cell_type": "markdown",
   "id": "bff32820-c625-4527-819e-03f285053933",
   "metadata": {},
   "source": [
    "<br>\n",
    "\n",
    "### S-ingle-Responsibility princip\n",
    "\n",
    "---"
   ]
  },
  {
   "cell_type": "markdown",
   "id": "6b6c761c-3b0b-4a8c-bfa0-c9ea385b4e5a",
   "metadata": {
    "tags": []
   },
   "source": [
    "<img src=\"https://external-content.duckduckgo.com/iu/?u=https%3A%2F%2Ftse2.mm.bing.net%2Fth%3Fid%3DOIP.nt83enlMM75FdkPBiqur4wHaJ_%26pid%3DApi&f=1&ipt=b8f020f73f5f6bfaa1807815d70f2eb1aa42a1d03340be5b03cb6d5e94c5b24e&ipo=images\" width=\"100\" style=\"margin-left:auto; margin-right:auto\">"
   ]
  },
  {
   "cell_type": "markdown",
   "id": "c444915d-eaa7-4e7d-959b-2a0aafa4675e",
   "metadata": {},
   "source": [
    "První princip se jmenuje **single responsibility**.\n",
    "\n",
    "Říká prakticky to, co nese jeho název, *jediná zodpovědnost*.\n",
    "\n",
    "V ideálním scénaři by tedy měla mít **jedna třída, jednu zodpovědnost**:"
   ]
  },
  {
   "cell_type": "code",
   "execution_count": null,
   "id": "476e476a-f362-4ffe-b84a-5aef4da10124",
   "metadata": {
    "tags": []
   },
   "outputs": [],
   "source": [
    "class Kniha:\n",
    "    knihovna = list()\n",
    "    \n",
    "    def __init__(self, autor: str, titulek: str, rok_vydani: int):\n",
    "        self.autor = autor\n",
    "        self.titulek = titulek\n",
    "        self.rok_vydani = rok_vydani\n",
    "        \n",
    "    def vytvor_poznamku(self):\n",
    "        pass\n",
    "\n",
    "    def odstran_poznamku(self):\n",
    "        pass\n",
    "\n",
    "    def __str__(self) -> str:\n",
    "        pass\n",
    "\n",
    "    def pridej_do_knihovny(self) -> None:\n",
    "        self.knihovna.append(f\"{self.autor}: {self.titulek}\")"
   ]
  },
  {
   "cell_type": "code",
   "execution_count": null,
   "id": "11c4e354-32b6-4345-a417-5c3f4372cec4",
   "metadata": {
    "tags": []
   },
   "outputs": [],
   "source": [
    "dedic_imperia = Kniha(\"Timothy Zahn\", \"Dědic impéria\", 1993)\n",
    "mec_osudu     = Kniha(\"Andrzej Sapkowski\", \"Meč osudu\", 1992)"
   ]
  },
  {
   "cell_type": "code",
   "execution_count": null,
   "id": "65f242ae-8ade-4f62-99cb-647d723d9ae8",
   "metadata": {
    "tags": []
   },
   "outputs": [],
   "source": [
    "Kniha.knihovna"
   ]
  },
  {
   "cell_type": "markdown",
   "id": "4d7a8a18-8d83-45c6-9e36-4185557f7223",
   "metadata": {},
   "source": [
    "<br>\n",
    "\n",
    "Třída `Kniha`, tento princip nesplňuje.\n",
    "\n",
    "Koncepčně totiž řeší problematiku:\n",
    "1. jedné specifické knihy,\n",
    "2. celé poličky s knihami."
   ]
  },
  {
   "cell_type": "markdown",
   "id": "bad2f420-1a05-4032-9cd6-4da3a58f7a37",
   "metadata": {},
   "source": [
    "Metoda `pridej_do_knihovny`, tvoří tvoji virtuální poličku, kde reprezentuje jednotlivé knížky pomocí autora a jména knihy.\n",
    "\n",
    "Tato metoda se může snadno změnit, pokud do budoucna nebudu chtít poličku ukládat jako `list` (ale třeba `dict`, `json` nebo relační databázi)."
   ]
  },
  {
   "cell_type": "code",
   "execution_count": null,
   "id": "ff8ba2be-52d6-428a-b014-e06b462303fa",
   "metadata": {
    "tags": []
   },
   "outputs": [],
   "source": [
    "dedic_imperia.pridej_do_knihovny()"
   ]
  },
  {
   "cell_type": "code",
   "execution_count": null,
   "id": "b5ba9512-92cc-45c7-94b3-87db7111fd9e",
   "metadata": {
    "tags": []
   },
   "outputs": [],
   "source": [
    "mec_osudu.pridej_do_knihovny()"
   ]
  },
  {
   "cell_type": "code",
   "execution_count": null,
   "id": "5eff8559-3a77-4f71-8387-9a6f1a584beb",
   "metadata": {
    "tags": []
   },
   "outputs": [],
   "source": [
    "Kniha.knihovna"
   ]
  },
  {
   "cell_type": "markdown",
   "id": "64ea2ecf-5da3-4c40-9990-44b72ef5d82a",
   "metadata": {},
   "source": [
    "<br>\n",
    "\n",
    "Nyní, pokud potřebuješ upravit objekt samotné knihovny, nemáš možnost, jak ji uchopit.\n",
    "\n",
    "Pokud jí budeš chtít změnit, potřebuješ modifikovat třídu `Kniha`."
   ]
  },
  {
   "cell_type": "code",
   "execution_count": null,
   "id": "43f8f4b2-d1ee-4ed8-8fdf-ac8eae935ae7",
   "metadata": {
    "tags": []
   },
   "outputs": [],
   "source": [
    "class Kniha:\n",
    "    \n",
    "    def __init__(self, autor: str, titulek: str, rok_vydani: int):\n",
    "        self.autor = autor\n",
    "        self.titulek = titulek\n",
    "        self.rok_vydani = rok_vydani\n",
    "        \n",
    "    def vytvor_poznamku(self):\n",
    "        pass\n",
    "\n",
    "    def odstran_poznamku(self):\n",
    "        pass\n",
    "\n",
    "    def __str__(self) -> str:\n",
    "        pass\n",
    "\n",
    "\n",
    "class Knihovna:\n",
    "    def vytvor_knihovnu(self):\n",
    "        self.knihovna = list()\n",
    "\n",
    "    def pridej_do_knihovny(self, kniha: Kniha):\n",
    "        if hasattr(self, \"knihovna\"):\n",
    "            self.knihovna.append(kniha)\n",
    "        else:\n",
    "            raise Exception(\"Knihovna neexistuje! Vytvoř ji\")\n",
    "    \n",
    "    def odstran_z_knihovny(self, kniha: Kniha):\n",
    "        if self.knihovna and kniha in self.knihovna:\n",
    "            self.knihovna.remove(kniha)\n",
    "        else:\n",
    "            raise Exception()"
   ]
  },
  {
   "cell_type": "markdown",
   "id": "6f1fdb3d-7bbb-42c3-8bd6-089008af68f7",
   "metadata": {},
   "source": [
    "<br>\n",
    "\n",
    "Tentokrát vytvoříš dva objekty s knihami:"
   ]
  },
  {
   "cell_type": "code",
   "execution_count": null,
   "id": "97530174-3400-48eb-8cf6-162e329a0c0c",
   "metadata": {
    "tags": []
   },
   "outputs": [],
   "source": [
    "dedic_imperia = Kniha(\"Timothy Zahn\", \"Dědic impéria\", 1993)\n",
    "mec_osudu     = Kniha(\"Andrzej Sapkowski\", \"Meč osudu\", 1992)"
   ]
  },
  {
   "cell_type": "markdown",
   "id": "ace0cf55-aae0-4ea3-897d-1492250a6ff1",
   "metadata": {},
   "source": [
    "<br>\n",
    "\n",
    "Nachystáš novou knihovnu, kam chceš virtuální knihy uložit:"
   ]
  },
  {
   "cell_type": "code",
   "execution_count": null,
   "id": "3e9db489-5a2a-48c7-b44e-8d11c60eff9c",
   "metadata": {
    "tags": []
   },
   "outputs": [],
   "source": [
    "moje_policka = Knihovna()"
   ]
  },
  {
   "cell_type": "code",
   "execution_count": null,
   "id": "63fe3ac9-6cbd-4e87-a5de-eb3d1f881bd8",
   "metadata": {
    "tags": []
   },
   "outputs": [],
   "source": [
    "moje_policka.vytvor_knihovnu()"
   ]
  },
  {
   "cell_type": "code",
   "execution_count": null,
   "id": "16fc0963-e60a-4370-970e-aa473fc167b9",
   "metadata": {
    "tags": []
   },
   "outputs": [],
   "source": [
    "moje_policka.__dict__"
   ]
  },
  {
   "cell_type": "code",
   "execution_count": null,
   "id": "23960174-43ad-49ff-aa1a-7ea85b9804ba",
   "metadata": {
    "tags": []
   },
   "outputs": [],
   "source": [
    "moje_policka.pridej_do_knihovny(dedic_imperia)"
   ]
  },
  {
   "cell_type": "code",
   "execution_count": null,
   "id": "56f64622-705b-4835-86ee-c98cc5046563",
   "metadata": {
    "tags": []
   },
   "outputs": [],
   "source": [
    "moje_policka.pridej_do_knihovny(mec_osudu)"
   ]
  },
  {
   "cell_type": "code",
   "execution_count": null,
   "id": "ff1e32da-eecc-4a43-8d3b-50c39de302e3",
   "metadata": {
    "tags": []
   },
   "outputs": [],
   "source": [
    "moje_policka.__dict__"
   ]
  },
  {
   "cell_type": "markdown",
   "id": "d3dce981-a460-4191-9e59-3af519ac5fac",
   "metadata": {},
   "source": [
    "<br>\n",
    "\n",
    "Zvlášť zpracováváš objekty typu:\n",
    "- `Kniha`,\n",
    "- `Knihovna`."
   ]
  },
  {
   "cell_type": "code",
   "execution_count": null,
   "id": "fef09b1a-43a0-4abc-aecd-5bd4b0b7f366",
   "metadata": {
    "tags": []
   },
   "outputs": [],
   "source": [
    "moje_policka.knihovna[0]"
   ]
  },
  {
   "cell_type": "code",
   "execution_count": null,
   "id": "3d2df8e1-8c10-4b0d-85f1-b0f0f0326984",
   "metadata": {
    "tags": []
   },
   "outputs": [],
   "source": [
    "moje_policka.knihovna[0].__dict__"
   ]
  },
  {
   "cell_type": "markdown",
   "id": "e265e3bf-18e3-475c-839d-5a6d18bed366",
   "metadata": {},
   "source": [
    "<br>\n",
    "\n",
    "Pochopení, co má která třída provádět, může být v rámci **single responsibility** subjektivní.\n",
    "\n",
    "Dále neznamená, že pokud má mít třída **jednu zodpovědnost**, má být spojována **s počtem metod**.\n",
    "\n",
    "Jednodušše z metodiky vyplývá, že třída, její metody a atributy, se mají držet toho objektu, na který jsou chystané."
   ]
  },
  {
   "cell_type": "markdown",
   "id": "465bc43f-fb12-4c5f-a2ed-f1888ee90f7c",
   "metadata": {},
   "source": [
    "<br>\n",
    "\n",
    "### 🧠 CVIČENÍ 11 🧠, Vyzkoušej si první princip *single responsibility*:\n",
    "---"
   ]
  },
  {
   "cell_type": "markdown",
   "id": "5caae7ca-1804-44e4-a460-26e5852b9abc",
   "metadata": {},
   "source": [
    "1. Máš třídu `Student` s atributy `jmeno` a `znamky`,\n",
    "2. uprav třídu tak, ať nese pouze informace týkající se studenta a jeho studia (tedy **jednu zodpovědnost**)."
   ]
  },
  {
   "cell_type": "code",
   "execution_count": null,
   "id": "4e69b733-8c18-4dd7-a0c0-73591fc74fd1",
   "metadata": {
    "tags": []
   },
   "outputs": [],
   "source": [
    "class Student:\n",
    "    def __init__(self, jmeno: str, znamky: tuple):\n",
    "        self.jmeno = jmeno\n",
    "        self.znamky = znamky\n",
    "    \n",
    "    def ziskej_prumer_znamek(self):\n",
    "        return sum(self.znamky) / len(self.znamky)\n",
    "    \n",
    "    def vypis_hodnoceni(self):\n",
    "        print(f\"Student: {self.jmeno}\")\n",
    "        print(f\"Průměrná známka: {self.ziskej_prumer_znamek()}\")"
   ]
  },
  {
   "cell_type": "markdown",
   "id": "fd8cd2b7-cbea-4e3d-9c8a-7916fbcd3291",
   "metadata": {},
   "source": [
    "<details>\n",
    "    <summary>▶️ Řešení</summary>\n",
    "    \n",
    "```python\n",
    "class Student:\n",
    "    def __init__(self, jmeno: str, znamky: tuple):\n",
    "        self.jmeno = name\n",
    "        self.znamky = znamky\n",
    "\n",
    "    def ziskej_prumer_znamek(self):\n",
    "        return sum(self.znamky) / len(self.znamky)\n",
    "\n",
    "class Hodnoceni:\n",
    "    def __init__(self, student: Student):\n",
    "        self.student = student\n",
    "\n",
    "    def vypis_hodnoceni(self):\n",
    "        print(f\"Student: {self.jmeno}\")\n",
    "        print(f\"Průměrná známka: {self.ziskej_prumer_znamek()}\")\n",
    "```\n",
    "</details>"
   ]
  },
  {
   "cell_type": "markdown",
   "id": "ecbd90aa-9f92-44e9-b372-030675387f35",
   "metadata": {},
   "source": [
    "### O-pen-Closed princip\n",
    "\n",
    "---\n"
   ]
  },
  {
   "cell_type": "markdown",
   "id": "8d824724-ed71-43f7-9012-c54fd3a75b63",
   "metadata": {},
   "source": [
    "<img src=\"https://external-content.duckduckgo.com/iu/?u=https%3A%2F%2Ftse1.mm.bing.net%2Fth%3Fid%3DOIP.b-OdCeOgBOuOYA3qP7EBLAHaHB%26pid%3DApi&f=1&ipt=32e2df49cd840d60bf66a77e78735ad33ef0e1e3cec95cb489089007285fd215&ipo=images\" width=\"200\" style=\"margin-left:auto; margin-right:auto\">"
   ]
  },
  {
   "cell_type": "markdown",
   "id": "3c8c8d14-0302-41fc-83ae-bf0e10d3cd97",
   "metadata": {},
   "source": [
    "Druhý princip *SOLID* se jmenuje **open-closed**.\n",
    "\n",
    "Oficiální znění:\n",
    "*Software entities (classes, modules, functions, etc.) should be open for extension, but closed for modification.*\n",
    "\n",
    "Jednodušeji řečeno: **třídy lze rozšiřovat, ale ne upravovat**:"
   ]
  },
  {
   "cell_type": "code",
   "execution_count": null,
   "id": "246843f4-cfaf-42af-bdf4-3258ee088e38",
   "metadata": {
    "tags": []
   },
   "outputs": [],
   "source": [
    "from random import choices\n",
    "import string"
   ]
  },
  {
   "cell_type": "code",
   "execution_count": null,
   "id": "c3c1ffb4-9214-488e-9e31-bf98ce1c9693",
   "metadata": {
    "tags": []
   },
   "outputs": [],
   "source": [
    "class ObjednavkovyProcesor:\n",
    "    def __init__(self, jmeno: str, email: str):\n",
    "        self.jmeno = jmeno\n",
    "        self.email = email\n",
    "        \n",
    "    def vygeneruj_id(self):\n",
    "        self.objednavka_id = \"\".join(choices(string.digits, k=10))\n",
    "        \n",
    "\n",
    "class DopravniProcesor:\n",
    "    def prevoz_Balikovna(self, objednavka: ObjednavkovyProcesor) -> None:\n",
    "        print(\"Navazuji spojení na službu Balíkovna..\")\n",
    "        print(f\"Posílám email: {objednavka.email}\")\n",
    "        objednavka.doprava = True\n",
    "\n",
    "    def prevoz_Zasilkovna(self, objednavka: str):\n",
    "        print(\"Navazuji spojení na službu Zásilkovna..\")\n",
    "        print(\"Připojuji na API služby..\")\n",
    "        print(\"Probíhá výběr pobočky..\")\n",
    "        print(f\"Posílám email: {objednavka.email}\")\n",
    "        objednavka.doprava = True"
   ]
  },
  {
   "cell_type": "code",
   "execution_count": null,
   "id": "cbb0cc74-2853-49df-8374-ad30d8035221",
   "metadata": {
    "tags": []
   },
   "outputs": [],
   "source": [
    "objednavka_matous = ObjednavkovyProcesor(\"Matouš\", \"matous@holinka.cz\")\n",
    "objednavka_matous.vygeneruj_id()"
   ]
  },
  {
   "cell_type": "code",
   "execution_count": null,
   "id": "5b860a58-8577-4611-93a0-c2b65d50fd44",
   "metadata": {
    "tags": []
   },
   "outputs": [],
   "source": [
    "objednavka_matous.__dict__"
   ]
  },
  {
   "cell_type": "code",
   "execution_count": null,
   "id": "16cb71e8-8b3e-4262-986d-60ff99b03428",
   "metadata": {
    "tags": []
   },
   "outputs": [],
   "source": [
    "doprava_matous = DopravniProcesor()\n",
    "doprava_matous.prevoz_Zasilkovna(objednavka_matous)"
   ]
  },
  {
   "cell_type": "markdown",
   "id": "4d3a280d-18c7-4a3d-81c6-b0a990bc2b72",
   "metadata": {},
   "source": [
    "<br>\n",
    "\n",
    "Prakticky to znamená následující:\n",
    "1. Chceš **dopisovat další objekty** pro práci ve stávajícím modulu,\n",
    "2. nechceš **upravovat existující objekty**."
   ]
  },
  {
   "cell_type": "markdown",
   "id": "7bcde08c-a39c-4744-8128-cc66444ba1cd",
   "metadata": {},
   "source": [
    "Ukázku výše lze upravovat jen těžko.\n",
    "\n",
    "Pokud potřebuješ přidat **další způsob dopravy**, musíš upravit samotnou třídu `DopravniProcesor`.\n",
    "\n",
    "Obvykle je lepším řešením pro takovou situaci aplikovat abstraktní třídy:"
   ]
  },
  {
   "cell_type": "code",
   "execution_count": null,
   "id": "2bec34ca-d458-4fc9-b354-d77649d6e153",
   "metadata": {
    "tags": []
   },
   "outputs": [],
   "source": [
    "from abc import abstractmethod, ABC"
   ]
  },
  {
   "cell_type": "code",
   "execution_count": null,
   "id": "86e85e62-89ad-4361-8352-e67011f251db",
   "metadata": {
    "tags": []
   },
   "outputs": [],
   "source": [
    "class DopravniProcesor(ABC):\n",
    "    @abstractmethod\n",
    "    def prevoz_objednavky(self, objednavka: ObjednavkovyProcesor):\n",
    "        \"\"\"Abstraktní metoda pro výběr způsobu dopravy objednávky.\"\"\"\n",
    "        pass\n",
    "\n",
    "\n",
    "class DopravaBalikovna(DopravniProcesor):\n",
    "    def prevoz_objednavky(self, objednavka: ObjednavkovyProcesor) -> None:\n",
    "        print(\"Navazuji spojení na službu Balíkovna..\")\n",
    "        print(f\"Posílám email: {objednavka.email}\")\n",
    "        objednavka.doprava = True\n",
    "\n",
    "\n",
    "class DopravaZasilkovna(DopravniProcesor):\n",
    "    def prevoz_objednavky(self, objednavka: ObjednavkovyProcesor):\n",
    "        print(\"Navazuji spojení na službu Zásilkovna..\")\n",
    "        print(\"Připojuji na API služby..\")\n",
    "        print(\"Probíhá výběr pobočky..\")\n",
    "        print(f\"Posílám email: {objednavka.email}\")\n",
    "        objednavka.doprava = True\n",
    "        \n",
    "class DopravaDHL(DopravniProcesor):\n",
    "    pass\n",
    "\n",
    "class DopravaPPL(DopravniProcesor):\n",
    "    pass"
   ]
  },
  {
   "cell_type": "code",
   "execution_count": null,
   "id": "36f40daf-e412-4af7-bdfe-538a36434dcc",
   "metadata": {
    "tags": []
   },
   "outputs": [],
   "source": [
    "objednavka_matous = ObjednavkovyProcesor(\"Matouš\", \"matous@holinka.cz\")\n",
    "objednavka_matous.vygeneruj_id()"
   ]
  },
  {
   "cell_type": "code",
   "execution_count": null,
   "id": "0196a48f-290a-48c1-b7fc-9c2000b78696",
   "metadata": {
    "tags": []
   },
   "outputs": [],
   "source": [
    "objednavka_matous.__dict__"
   ]
  },
  {
   "cell_type": "code",
   "execution_count": null,
   "id": "4c295285-4fc4-4673-83ef-303012b6de79",
   "metadata": {
    "tags": []
   },
   "outputs": [],
   "source": [
    "doprava_matous = DopravaZasilkovna()\n",
    "doprava_matous.prevoz_objednavky(objednavka_matous)"
   ]
  },
  {
   "cell_type": "markdown",
   "id": "2c201653-633e-4479-b927-913a23b94c60",
   "metadata": {},
   "source": [
    "<br>\n",
    "\n",
    "V tomto ohledu máš nachystaný prostor pro doplňování **dalších způsobů dopravy**.\n",
    "\n",
    "Dále se vyhneš zásahům **do stávajících objektů**."
   ]
  },
  {
   "cell_type": "markdown",
   "id": "3d730179-778e-4bf0-a883-11580398d6b9",
   "metadata": {},
   "source": [
    "<br>\n",
    "\n",
    "### 🧠 CVIČENÍ 12 🧠, Vyzkoušej si první princip *open-closed*:\n",
    "---"
   ]
  },
  {
   "cell_type": "markdown",
   "id": "943b01b3-4071-4529-a4c2-87068364ba1e",
   "metadata": {},
   "source": [
    "1. Máš třídu `Notifikace` s atributem `neaktivni`, což je hodnota představující **absenci ve dnech**,\n",
    "2. uprav třídu tak, ať splňuje podmínky druhého principu SOLID, tedy je otevřená pro rozšíření, ale neupravuje stávající objekty."
   ]
  },
  {
   "cell_type": "code",
   "execution_count": null,
   "id": "563504d3-ba95-4903-ac74-4995286d38ce",
   "metadata": {
    "tags": []
   },
   "outputs": [],
   "source": [
    "class Notifikace:\n",
    "    def __init__(self, neaktivni: int):\n",
    "        self.neaktivni = neaktivni\n",
    "    \n",
    "    def posli_notifikaci(self):\n",
    "        if self.neaktivni == 1:\n",
    "            return \"Jeden den neaktivní..\"\n",
    "        elif self.neaktivni == 7:\n",
    "            return \"Sedm dní neaktivní..\"\n",
    "        elif self.neaktivni == 31:\n",
    "            return \"Celý měsíc neaktivní..\""
   ]
  },
  {
   "cell_type": "markdown",
   "id": "f11df35a-5fa0-4f80-a95e-f9dc11aa6b7d",
   "metadata": {},
   "source": [
    "<details>\n",
    "    <summary>▶️ Řešení</summary>\n",
    "    \n",
    "```python\n",
    "from abc import ABC, abstractmethod\n",
    "\n",
    "class Notifikace(ABC):\n",
    "    def __init__(self, neaktivni: int):\n",
    "        self.neaktivni = neaktivni\n",
    "    \n",
    "    @abstractmethod\n",
    "    def posli_notifikaci(self):\n",
    "        pass\n",
    "    \n",
    "class NotifikaceDenni(Notifikace):\n",
    "    def posli_notifikaci(self):\n",
    "        return \"Jeden den neaktivní..\"\n",
    "\n",
    "class NotifikaceTydenni(Notifikace):\n",
    "    def posli_notifikaci(self):\n",
    "        return \"Sedm dní neaktivní..\"\n",
    "    \n",
    "class NotifikaceMesicni(Notifikace):\n",
    "    def posli_notifikaci(self):\n",
    "        return \"Celý měsíc neaktivní..\"\n",
    "```\n",
    "</details>"
   ]
  },
  {
   "cell_type": "markdown",
   "id": "df8ec96b-cd76-4070-a1c2-2860e4f6cb83",
   "metadata": {},
   "source": [
    "### Liskov Substitution princip\n",
    "\n",
    "---"
   ]
  },
  {
   "cell_type": "markdown",
   "id": "a2370c60-b5d1-4310-8221-53f8669aba86",
   "metadata": {},
   "source": [
    "<img src=\"https://external-content.duckduckgo.com/iu/?u=https%3A%2F%2Ftse4.mm.bing.net%2Fth%3Fid%3DOIP.WKUSirAjrvTsZSUQZT33TQHaHa%26pid%3DApi&f=1&ipt=b00e46b718f54560657071768bbc396942c45556df505d53c5a17adb0bc30c35&ipo=images\" width=\"200\" style=\"margin-left:auto; margin-right:auto\">"
   ]
  },
  {
   "cell_type": "markdown",
   "id": "03c933c6-d309-4583-b0c5-8180ce5ab5a3",
   "metadata": {},
   "source": [
    "[Barbara Liskova](https://en.wikipedia.org/wiki/Barbara_Liskov) v roce 1987 na konferenci [OOPSLA](https://en.wikipedia.org/wiki/OOPSLA) představila následující koncept:\n",
    "*Subtypes must be substitutable for their base types.*\n",
    "\n",
    "Prakticky lze celou teorii aplikovat na poměrně jednoduchém přirovnání:"
   ]
  },
  {
   "cell_type": "markdown",
   "id": "5b7b9284-1a9b-4f19-9878-9b36427028a3",
   "metadata": {
    "tags": []
   },
   "source": [
    "<img src=\"https://i.stack.imgur.com/ilxzO.jpg\" width=\"800\" style=\"margin-left:auto; margin-right:auto\">"
   ]
  },
  {
   "cell_type": "markdown",
   "id": "b686be2a-c74c-4e02-9ad8-5ba6985283d2",
   "metadata": {},
   "source": [
    "Obecně princip vypadá příliš vágně, ale v Pythonu můžeš rozumnět následující:\n",
    "\n",
    "Pokud máš třídu `Rodic` a potomka třídu `Potomek`, potom je proveditelné, nahradit třídu `Rodic` třídou `Potomek`, aniž by program vykazoval selhání:"
   ]
  },
  {
   "cell_type": "code",
   "execution_count": null,
   "id": "54e606db-b730-4635-9e9d-0dab44f18bfa",
   "metadata": {
    "tags": []
   },
   "outputs": [],
   "source": [
    "class Zvire:\n",
    "    def pocet_nohou(self):\n",
    "        return 4\n",
    "\n",
    "class Kocka(CtyrnoheZvire):\n",
    "    pass\n",
    "    \n",
    "class Kure(Zvire):\n",
    "    def pocet_nohou(self):\n",
    "        return 2\n",
    "    \n",
    "class Had(Zvire):\n",
    "    def pocet_nohou(self):\n",
    "        return 0"
   ]
  },
  {
   "cell_type": "code",
   "execution_count": null,
   "id": "345479ef-43d8-4c40-b2d9-7ee773c7e5d1",
   "metadata": {
    "tags": []
   },
   "outputs": [],
   "source": [
    "moje_nezname_zvire = Zvire()"
   ]
  },
  {
   "cell_type": "code",
   "execution_count": null,
   "id": "cdb3ca30-9948-47f6-9ffd-9efa9ccf6f7c",
   "metadata": {
    "tags": []
   },
   "outputs": [],
   "source": [
    "if isinstance(moje_nezname_zvire, Zvire):\n",
    "    print(moje_nezname_zvire.pocet_nohou())\n",
    "    # ..."
   ]
  },
  {
   "cell_type": "code",
   "execution_count": null,
   "id": "908214a7-7efb-439b-b609-558f252ffef3",
   "metadata": {
    "tags": []
   },
   "outputs": [],
   "source": [
    "had = Had()\n",
    "if isinstance(had, Zvire):\n",
    "    print(had.pocet_nohou())\n",
    "    # ..."
   ]
  },
  {
   "cell_type": "code",
   "execution_count": null,
   "id": "eebd0dbb-a1f6-4b47-ba23-d4c4d1b1a769",
   "metadata": {},
   "outputs": [],
   "source": [
    "class CtyrnoheZvire:\n",
    "    pass\n",
    "\n",
    "class DvounoheZvire:\n",
    "    pass\n",
    "\n",
    "class BeznoheZvire:\n",
    "    pass"
   ]
  },
  {
   "cell_type": "markdown",
   "id": "822000e8-4ee5-45df-b5f6-8571aa19a9ae",
   "metadata": {},
   "source": [
    "<br>\n",
    "\n",
    "Všechny třídy jsou podtřídou, nebo také potomkem třídy `Zvire`.\n",
    "\n",
    "Takže pokud kdekoliv ve skriptu pracuješ se třídou `Zvire`, musíš umět tuto třídu nahradit jejími potomky.\n",
    "\n",
    "V této ukázce pomocí tříd `Kocka`, `Kure` a `Had`:"
   ]
  },
  {
   "cell_type": "code",
   "execution_count": null,
   "id": "4ebb8df2-18d0-4080-ad48-cc865a67e711",
   "metadata": {
    "tags": []
   },
   "outputs": [],
   "source": [
    "moje_nezname_zvire = Kure()\n",
    "print(moje_nezname_zvire.pocet_nohou())"
   ]
  },
  {
   "cell_type": "code",
   "execution_count": null,
   "id": "acfc6be8-1d97-4e87-a296-23e06d1f626c",
   "metadata": {
    "tags": []
   },
   "outputs": [],
   "source": [
    "moje_kocka = Kocka()\n",
    "moje_kure = Kure()\n",
    "muj_had = Had()"
   ]
  },
  {
   "cell_type": "code",
   "execution_count": null,
   "id": "7d923485-9e67-40a2-8ac3-f5995e2dd5dd",
   "metadata": {
    "tags": []
   },
   "outputs": [],
   "source": [
    "print(\n",
    "    moje_kocka.pocet_nohou(),\n",
    "    moje_kure.pocet_nohou(),\n",
    "    muj_had.pocet_nohou(),\n",
    "    sep=\"\\n\"\n",
    ")"
   ]
  },
  {
   "cell_type": "code",
   "execution_count": null,
   "id": "e5746984-1eb0-4778-8462-822c19cf72fa",
   "metadata": {},
   "outputs": [],
   "source": []
  },
  {
   "cell_type": "markdown",
   "id": "6f44ddc6-d776-45fa-87ac-0908bd8dbbff",
   "metadata": {},
   "source": [
    "<br>\n",
    "\n",
    "### 🧠 CVIČENÍ 13 🧠, Vyzkoušej si princip *Liskov substitution*:\n",
    "---"
   ]
  },
  {
   "cell_type": "markdown",
   "id": "2cf28b3f-5b80-4fb8-9d92-3757e1068141",
   "metadata": {},
   "source": [
    "1. Máš třídu `Ptak` a podtřídu `Tucnak`, která dědí od třídy `Ptak`,\n",
    "2. uprav třídy `Ptak` a `Tucnak` tak, ať splňuje podmínky třetího principu SOLID, tedy možnost nahradit **rodiče jeho potomky**."
   ]
  },
  {
   "cell_type": "code",
   "execution_count": null,
   "id": "727b7e4b-53cd-4417-b052-fdc16669b7a9",
   "metadata": {
    "tags": []
   },
   "outputs": [],
   "source": [
    "class Ptak:\n",
    "    def leta(self):\n",
    "        return \"Umím létat!\"\n",
    "\n",
    "class Tucnak(Ptak):\n",
    "    pass"
   ]
  },
  {
   "cell_type": "code",
   "execution_count": null,
   "id": "df494a43-691a-4edc-9628-20b654411d5a",
   "metadata": {
    "tags": []
   },
   "outputs": [],
   "source": [
    "pingu = Tucnak()\n",
    "pingu.leta()"
   ]
  },
  {
   "cell_type": "markdown",
   "id": "3f5f0375-9651-4430-b028-079734344218",
   "metadata": {},
   "source": [
    "<details>\n",
    "    <summary>▶️ Řešení</summary>\n",
    "    \n",
    "```python\n",
    "class LetavyPtak:\n",
    "    def leta(self):\n",
    "        return \"Umím létat!\"\n",
    "    \n",
    "class NeletavyPtak:\n",
    "    def leta(self):\n",
    "        return \"Neumím létat!\"\n",
    "\n",
    "class Tucnak(NeletavyPtak):\n",
    "    pass\n",
    "```\n",
    "</details>"
   ]
  },
  {
   "cell_type": "markdown",
   "id": "3715118c-9617-420b-bc78-cfe3a303c6cf",
   "metadata": {},
   "source": [
    "### Interface Segregation princip\n",
    "\n",
    "---"
   ]
  },
  {
   "cell_type": "markdown",
   "id": "ea3c540a-4bcf-4cb8-a9de-d1b63d3bda5b",
   "metadata": {},
   "source": [
    "<img src=\"https://external-content.duckduckgo.com/iu/?u=https%3A%2F%2Ftse1.mm.bing.net%2Fth%3Fid%3DOIP.AWykJlLJFaiTthcYReAgtQHaHa%26pid%3DApi&f=1&ipt=dd3ec9af7c209cd700873d7e72f9d3f463cdefba06e1194086bdaa45265bfa35&ipo=images\" width=\"200\" style=\"margin-left:auto; margin-right:auto\">"
   ]
  },
  {
   "cell_type": "markdown",
   "id": "e2242236-ad0e-44f9-bd0f-6b338981a3ea",
   "metadata": {
    "tags": []
   },
   "source": [
    "Čtvrtý princip v pořadí zní oficiálně:"
   ]
  },
  {
   "cell_type": "markdown",
   "id": "f93e12e5-c0a8-4045-8ea7-3895f2702a62",
   "metadata": {},
   "source": [
    "*Clients should not be forced to depend upon methods that they do not use.*<br>\n",
    "Převedeno do jednodušší řeči:\n",
    "\n",
    "Pokud má **rodičovská třída spousty objektů** (*atributů* a *metod*), **její potomci je nebudou pravděpodobně potřebovat všechny**.\n",
    "\n",
    "<br>\n",
    "\n",
    "Kvůli dědičnosti by bylo takhle možné, u potomků pracovat s objekty rodičů, které potomek nepotřebuje.\n",
    "\n",
    "Takové chování by často vedlo ke **zmatení, nepochopení nebo chybám**."
   ]
  },
  {
   "cell_type": "code",
   "execution_count": null,
   "id": "75a759f7-baad-428c-86ad-909c005ea1c4",
   "metadata": {
    "tags": []
   },
   "outputs": [],
   "source": [
    "class Ptak:\n",
    "    def chodi(self):\n",
    "        print(\"Chodí..\")\n",
    "        \n",
    "    def leta(self):\n",
    "        print(\"Létá..\")\n",
    "        \n",
    "    def plave(self):\n",
    "        print(\"Plave..\")"
   ]
  },
  {
   "cell_type": "code",
   "execution_count": null,
   "id": "fee55446-811e-4960-934e-535279ba273a",
   "metadata": {
    "tags": []
   },
   "outputs": [],
   "source": [
    "class Kachna(Ptak):\n",
    "    pass"
   ]
  },
  {
   "cell_type": "markdown",
   "id": "6ee67d1d-4833-4be8-aa7e-2aa94dd25130",
   "metadata": {},
   "source": [
    "<br>\n",
    "\n",
    "Třída `Kachna` je potomek třídy `Ptak` a ve všech ohledech vykazuje logické chování:"
   ]
  },
  {
   "cell_type": "code",
   "execution_count": null,
   "id": "88724c80-a863-4ad9-be67-8a1314551b88",
   "metadata": {
    "tags": []
   },
   "outputs": [],
   "source": [
    "kachna_1 = Kachna()\n",
    "kachna_1.chodi()\n",
    "kachna_1.leta()\n",
    "kachna_1.plave()"
   ]
  },
  {
   "cell_type": "markdown",
   "id": "97c5a632-eb4a-42a6-9b53-6978ea7aacdb",
   "metadata": {},
   "source": [
    "<br>\n",
    "\n",
    "Problém nastává, pokud vytvoříš nového potomka.\n",
    "\n",
    "U kterého některá z metod není logické, případně kritická:"
   ]
  },
  {
   "cell_type": "code",
   "execution_count": null,
   "id": "7b000f02-96a2-4791-917c-5e73aea65d8e",
   "metadata": {
    "tags": []
   },
   "outputs": [],
   "source": [
    "class Tucnak(Ptak):\n",
    "    pass"
   ]
  },
  {
   "cell_type": "code",
   "execution_count": null,
   "id": "4e726597-2791-49e5-940b-efbf502efbeb",
   "metadata": {
    "tags": []
   },
   "outputs": [],
   "source": [
    "tucnak = Tucnak()\n",
    "tucnak.chodi()\n",
    "tucnak.leta()\n",
    "tucnak.plave()"
   ]
  },
  {
   "cell_type": "markdown",
   "id": "a39da510-d41a-4d9c-8d49-27a023653a6b",
   "metadata": {},
   "source": [
    "<br>\n",
    "\n",
    "**Tučňák** zcela očividně není typ ptáka, který dovede létat.\n",
    "\n",
    "U takové třídy to samozřejmě není komplikace.\n",
    "\n",
    "Jsou ale mnohem komplikovanější situace a mnohem rozsáhlejší dopady v praxi napsaných tříd."
   ]
  },
  {
   "cell_type": "code",
   "execution_count": null,
   "id": "1e67272f-7646-4da3-b5f2-22799e6b1ee4",
   "metadata": {
    "tags": []
   },
   "outputs": [],
   "source": [
    "from abc import ABC, abstractmethod"
   ]
  },
  {
   "cell_type": "code",
   "execution_count": null,
   "id": "27743782-6b1b-46ba-8b45-ae7db6f1203b",
   "metadata": {
    "tags": []
   },
   "outputs": [],
   "source": [
    "class Ptak(ABC):\n",
    "    \n",
    "    @abstractmethod\n",
    "    def chodi(self):\n",
    "        print(\"Chodí..\")\n",
    "\n",
    "    @abstractmethod\n",
    "    def leta(self):\n",
    "        print(\"Létá..\")\n",
    "    \n",
    "    @abstractmethod\n",
    "    def plave(self):\n",
    "        print(\"Plave..\")"
   ]
  },
  {
   "cell_type": "code",
   "execution_count": null,
   "id": "e5b06edb-3e43-4979-900c-25fcc9e5baa9",
   "metadata": {
    "tags": []
   },
   "outputs": [],
   "source": [
    "class Kachna(Ptak):\n",
    "    def chodi(self):\n",
    "        print(\"Chodí..\")\n",
    "\n",
    "    def leta(self):\n",
    "        print(\"Létá..\")\n",
    "    \n",
    "    def plave(self):\n",
    "        print(\"Plave..\")\n",
    "\n",
    "\n",
    "class Tucnak(Ptak):\n",
    "    def chodi(self):\n",
    "        print(\"Chodí..\")\n",
    "\n",
    "    def leta(self):\n",
    "        raise NotImplementedError(\"Neumí létat\")\n",
    "    \n",
    "    def plave(self):\n",
    "        print(\"Plave..\")"
   ]
  },
  {
   "cell_type": "code",
   "execution_count": null,
   "id": "afe89b2d-f7e4-470e-b63f-581fe671f434",
   "metadata": {
    "tags": []
   },
   "outputs": [],
   "source": [
    "kachna = Kachna()\n",
    "tucnak = Tucnak()"
   ]
  },
  {
   "cell_type": "code",
   "execution_count": null,
   "id": "7ea472c0-814a-448f-ba35-8fc7fa43c7fd",
   "metadata": {
    "tags": []
   },
   "outputs": [],
   "source": [
    "kachna.chodi()\n",
    "kachna.leta()\n",
    "kachna.plave()"
   ]
  },
  {
   "cell_type": "code",
   "execution_count": null,
   "id": "c3e8d33c-3994-44ff-8474-0373d5360523",
   "metadata": {
    "tags": []
   },
   "outputs": [],
   "source": [
    "tucnak.chodi()\n",
    "tucnak.leta()\n",
    "tucnak.plave()"
   ]
  },
  {
   "cell_type": "markdown",
   "id": "cd2d1160-a749-4002-b023-752654e6394b",
   "metadata": {},
   "source": [
    "<br>\n",
    "\n",
    "Díky poslední úpravě, můžeš pracovat jak s rodičovskou třídou `Ptak`, tak s podtřídou `Kachna` a `Tucnak`.\n",
    "\n",
    "Přitom jejich objekty neporušují Liskovu substituci.\n",
    "\n",
    "Dále objekty, které nelze logicky aplikovat obsahují defaultní výjimku `NotImplementedError`."
   ]
  },
  {
   "cell_type": "markdown",
   "id": "6c560307-9145-4bc7-bddc-68e453d6b885",
   "metadata": {},
   "source": [
    "<br>\n",
    "\n",
    "### 🧠 CVIČENÍ 14 🧠, Vyzkoušej si princip *interface segregation*:\n",
    "---"
   ]
  },
  {
   "cell_type": "markdown",
   "id": "6a72c166-83ec-4b54-bb7f-70ea6ec68543",
   "metadata": {},
   "source": [
    "1. Máš třídu `Zvire`\n",
    "2. vytvor instance `ptak` a `ryba`, pro obě uprav objekty tak, ať splňuje podmínky čtvrtého principu SOLID, tedy redukce jednotlivých metod."
   ]
  },
  {
   "cell_type": "code",
   "execution_count": null,
   "id": "e99aefd9-550b-4a84-9d3f-8ed8689a034c",
   "metadata": {
    "tags": []
   },
   "outputs": [],
   "source": [
    "class Zvire:\n",
    "    def zere(self):\n",
    "        pass\n",
    "\n",
    "    def leta(self):\n",
    "        pass\n",
    "\n",
    "    def plave(self):\n",
    "        pass"
   ]
  },
  {
   "cell_type": "code",
   "execution_count": null,
   "id": "56efdcc1-e37a-4d77-a111-9930ea5fef4b",
   "metadata": {
    "tags": []
   },
   "outputs": [],
   "source": [
    "ptak = Ptak()    # neplave\n",
    "ryba = Ryba()    # neleta"
   ]
  },
  {
   "cell_type": "markdown",
   "id": "c0488726-4ba8-4b25-b120-7e3efb0c3e05",
   "metadata": {},
   "source": [
    "<details>\n",
    "    <summary>▶️ Řešení</summary>\n",
    "    \n",
    "```python\n",
    "from abc import ABC, abstractmethod\n",
    "\n",
    "class Zvire(ABC):\n",
    "    \n",
    "    @abstractmethod\n",
    "    def zere(self):\n",
    "        pass\n",
    "    \n",
    "    @abstractmethod\n",
    "    def leta(self):\n",
    "        pass\n",
    "    \n",
    "    @abstractmethod\n",
    "    def plave(self):\n",
    "        pass\n",
    "        \n",
    "    \n",
    "class Ryba(Zvire):\n",
    "    def zere(self):\n",
    "        print(\"Zrovna žeru\")\n",
    "    \n",
    "    def leta(self):\n",
    "        raise NotImplementedError(\"Nelétám\")\n",
    "    \n",
    "    def plave(self):\n",
    "        print(\"Zrovna plavu\")\n",
    "\n",
    "    \n",
    "class Ptak(Zvire):\n",
    "    def zere(self):\n",
    "        print(\"Zrovna žeru\")\n",
    "    \n",
    "    def leta(self):\n",
    "        print(\"Zrovna letím\")\n",
    "        \n",
    "    def plave(self):\n",
    "        raise NotImplementedError(\"Neplavu\")\n",
    "```\n",
    "</details>"
   ]
  },
  {
   "cell_type": "markdown",
   "id": "cbe6bb22-9a5a-40ad-b310-00fb99096baf",
   "metadata": {},
   "source": [
    "### Dependency Inversion princip\n",
    "\n",
    "---"
   ]
  },
  {
   "cell_type": "markdown",
   "id": "9f112b62-cbfa-439e-b97f-15f211c3a66a",
   "metadata": {},
   "source": [
    "<img src=\"https://external-content.duckduckgo.com/iu/?u=https%3A%2F%2Ftse2.mm.bing.net%2Fth%3Fid%3DOIP.ElRuiSC0jD4U92GbKK7tKQHaHa%26pid%3DApi&f=1&ipt=c07283025cf1bdc16c1881fa5e49ce590b471ca9160ab4b26dddcbab30c28fe6&ipo=images\" width=\"200\" style=\"margin-left:auto; margin-right:auto\">"
   ]
  },
  {
   "cell_type": "markdown",
   "id": "96f1aafc-27c6-46cb-895a-d499fc053a61",
   "metadata": {},
   "source": [
    "Opět nejprve oficiální znění tohoto konceptu:\n",
    "*Abstractions should not depend upon details. Details should depend upon abstractions.*\n",
    "\n",
    "Tento popis ale dělá z pátého pravidla docela vágní terminologii.\n",
    "\n",
    "<br>\n",
    "\n",
    "Prakticky a lidsky můžeš konstantovat:<br>\n",
    "**Závislosti nebo také vztahy by se měly odvíjet od abstrakcí. Ne od konkrétních tříd či modulů**."
   ]
  },
  {
   "cell_type": "code",
   "execution_count": null,
   "id": "74779a3a-3fac-4887-bf08-0848de461d0a",
   "metadata": {
    "tags": []
   },
   "outputs": [],
   "source": [
    "import time"
   ]
  },
  {
   "cell_type": "code",
   "execution_count": null,
   "id": "7f333e03-ce70-4289-8110-b95fd58401e5",
   "metadata": {
    "tags": []
   },
   "outputs": [],
   "source": [
    "class Displej:\n",
    "    def zobraz_nactena_data(self):\n",
    "        moje_data = ZdrojDat()\n",
    "        hruba_data = moje_data.ziskej_data_ze_souboru()\n",
    "        print(f\"Display: {hruba_data.upper()}\")"
   ]
  },
  {
   "cell_type": "code",
   "execution_count": null,
   "id": "4ca079f1-0f93-408d-b553-ec211206c9ca",
   "metadata": {
    "tags": []
   },
   "outputs": [],
   "source": [
    "class ZdrojDat:\n",
    "    def ziskej_data_ze_souboru(self):\n",
    "        time.sleep(4)\n",
    "        return \"Data z mého lokálního souboru\""
   ]
  },
  {
   "cell_type": "code",
   "execution_count": null,
   "id": "14202b31-aaf5-433a-96c4-59e1a17062c1",
   "metadata": {
    "tags": []
   },
   "outputs": [],
   "source": [
    "muj_frontend = Displej()"
   ]
  },
  {
   "cell_type": "code",
   "execution_count": null,
   "id": "ed324f87-e2d9-41bf-b789-557c8ec5581a",
   "metadata": {
    "tags": []
   },
   "outputs": [],
   "source": [
    "muj_frontend.zobraz_nactena_data()"
   ]
  },
  {
   "cell_type": "markdown",
   "id": "b555b05c-a488-4f30-90e2-20c5705520e7",
   "metadata": {},
   "source": [
    "<br>\n",
    "\n",
    "V ukázce výše můžeš vidět prohřešek oproti principu *dependency inversion*.\n",
    "\n",
    "Na první pohled můžeš říct, že třídy `Displej` a `ZdrojDat` jsou úzce provázané.\n",
    "\n",
    "Takové chování může v budoucnu omezovat programátory v dalším škálováním (růstu projektu).\n",
    "\n",
    "Třeba pokud budeš potřebovat načíst data z relační databáze:"
   ]
  },
  {
   "cell_type": "code",
   "execution_count": null,
   "id": "df28a14a-255a-4d73-967e-913d6901bfc2",
   "metadata": {
    "tags": []
   },
   "outputs": [],
   "source": [
    "from abc import ABC, abstractmethod\n",
    "\n",
    "class Displej:\n",
    "    def __init__(self, nactena_data: ZdrojDat):\n",
    "        self.nactena_data = nactena_data\n",
    "\n",
    "    def zobraz_nactena_data(self):\n",
    "        data = self.nactena_data.ziskej_data()\n",
    "        print(f\"Display: {data.upper()}\")\n",
    "\n",
    "class ZdrojDat(ABC):\n",
    "    @abstractmethod\n",
    "    def ziskej_data(self):\n",
    "        pass\n",
    "\n",
    "class ZdrojDatJakoDatabaze(ZdrojDat):\n",
    "    def ziskej_data(self):\n",
    "        return \"Data z relační databáze.\"\n",
    "        \n",
    "class ZdrojDatJakoSoubor(ZdrojDat):\n",
    "    def ziskej_data(self):\n",
    "        return \"Data z mého lokálního souboru\""
   ]
  },
  {
   "cell_type": "markdown",
   "id": "5b1b98f7-fdf9-4292-94bf-25071755a5ea",
   "metadata": {},
   "source": [
    "<br>\n",
    "\n",
    "V takovém případě můžeš definovat různé zdroje.\n",
    "\n",
    "Pokud potřebuješ soubor, nebo pokud potřebuješ databázi.\n",
    "\n",
    "Důležité je, že závislosti nyní převádíš na abstrace.\n",
    "\n",
    "Nikoliv na konkrétní třídy a moduly:"
   ]
  },
  {
   "cell_type": "code",
   "execution_count": null,
   "id": "e344bd51-cfb6-4f36-a613-118436896ee6",
   "metadata": {
    "tags": []
   },
   "outputs": [],
   "source": [
    "data_z_db = ZdrojDatJakoDatabaze()\n",
    "data_z_so = ZdrojDatJakoSoubor()"
   ]
  },
  {
   "cell_type": "markdown",
   "id": "f858161e-8eba-4f4c-a7b0-8fe0bba7f86d",
   "metadata": {},
   "source": [
    "<br>\n",
    "\n",
    "Vytvořené instance mají nachystané data.\n",
    "\n",
    "Ta potom přenáším do třídy `Displej`:"
   ]
  },
  {
   "cell_type": "code",
   "execution_count": null,
   "id": "e21008fb-6150-44c2-8e63-0dee466f79a6",
   "metadata": {
    "tags": []
   },
   "outputs": [],
   "source": [
    "zobrazeni_1 = Displej(data_z_db)\n",
    "zobrazeni_2 = Displej(data_z_so)"
   ]
  },
  {
   "cell_type": "markdown",
   "id": "8975a1b1-210c-48d3-9b6e-448af4c8cf61",
   "metadata": {},
   "source": [
    "<br>\n",
    "\n",
    "Nyní třída `Displej` nezávísí na konkrétní třídě, ale pouze její abstrakci `ZdrojDat`:"
   ]
  },
  {
   "cell_type": "code",
   "execution_count": null,
   "id": "bf5538b8-bbd8-4b46-a23c-83fae7e21435",
   "metadata": {
    "tags": []
   },
   "outputs": [],
   "source": [
    "zobrazeni_1.zobraz_nactena_data()\n",
    "zobrazeni_2.zobraz_nactena_data()"
   ]
  },
  {
   "cell_type": "markdown",
   "id": "3af9da08-2c48-41f3-86a8-940cdb64fa7c",
   "metadata": {},
   "source": [
    "<br>\n",
    "\n",
    "### 🧠 CVIČENÍ 15 🧠, Vyzkoušej si princip *dependency inversion*:\n",
    "---"
   ]
  },
  {
   "cell_type": "markdown",
   "id": "8eddd086-fc27-41f1-9e06-6152a9e718da",
   "metadata": {},
   "source": [
    "1. Máš třídu `MySQLDatabaze` a třídu `MojeAplikace`,\n",
    "2. podívej se na řešení úlohy a zamysli se, jestli na něm není něco chybného,\n",
    "3. pokud ano, navrhi jak takovou situaci řešit."
   ]
  },
  {
   "cell_type": "code",
   "execution_count": null,
   "id": "8c1b04a0-9e48-4579-922b-0930c833572f",
   "metadata": {
    "tags": []
   },
   "outputs": [],
   "source": [
    "class MySQLDatabaze:\n",
    "    def vytvor_pripojovaci_object(self):\n",
    "        pass\n",
    "    def posli_dotaz(self):\n",
    "        pass\n",
    "\n",
    "class MojeAplikace:\n",
    "    def __init__(self):\n",
    "        self.databaze = MySQLDatabase()\n",
    "        self.databaze.vytvor_pripojovaci_object()"
   ]
  },
  {
   "cell_type": "code",
   "execution_count": null,
   "id": "6e1bb9bc-1b8a-424a-bc77-6060ff76aea1",
   "metadata": {
    "tags": []
   },
   "outputs": [],
   "source": [
    "class ZdrojDat(ABC):\n",
    "    @abstractmethod\n",
    "    def vytvor_pripojovaci_object(self):\n",
    "        pass\n",
    "\n",
    "class MySQLDatabaze(ZdrojDat):\n",
    "    def vytvor_pripojovaci_object(self):\n",
    "        pass\n",
    "    \n",
    "class MongoDatabaze(ZdrojDat):\n",
    "    def vytvor_pripojovaci_object(self):\n",
    "        pass\n",
    "\n",
    "class MojeAplikace:\n",
    "    def __init__(self, zdroj_dat: ZdrojDat): # dep. inversion\n",
    "        self.zdroj_dat = zdroj_dat\n",
    "        self.zdroj_dat.vytvor_pripojovaci_object()"
   ]
  },
  {
   "cell_type": "code",
   "execution_count": null,
   "id": "5d7513d2-e00e-40a8-8fc9-f8be06e08467",
   "metadata": {
    "tags": []
   },
   "outputs": [],
   "source": [
    "mongo_data = MongoDatabaze()"
   ]
  },
  {
   "cell_type": "code",
   "execution_count": null,
   "id": "506bc66c-430a-48c5-a660-7b86093a88dc",
   "metadata": {
    "tags": []
   },
   "outputs": [],
   "source": [
    "moje_app = MojeAplikace(mongo_data)"
   ]
  },
  {
   "cell_type": "markdown",
   "id": "d2879688-7bcf-47a1-b7b0-c94a3fd2109f",
   "metadata": {},
   "source": [
    "<details>\n",
    "    <summary>▶️ Řešení</summary>\n",
    "    \n",
    "```python\n",
    "from abc import ABC, abstractmethod\n",
    "\n",
    "class Databaze(ABC):\n",
    "    @abstractmethod\n",
    "    def pripojeni_db(self):\n",
    "        pass\n",
    "\n",
    "    @abstractmethod\n",
    "    def posli_dotaz(self):\n",
    "        pass\n",
    "\n",
    "class MySQLDatabase(Databaze):\n",
    "    def pripojeni_db(self):\n",
    "        pass\n",
    "    def posli_dotaz(self):\n",
    "        pass\n",
    "\n",
    "class MyApp:\n",
    "    def __init__(self, db: Databaze):\n",
    "        self.database = db\n",
    "        self.db.pripojeni_db()\n",
    "```\n",
    "</details>"
   ]
  },
  {
   "cell_type": "markdown",
   "id": "2a495fee-d075-4388-8fa3-8e2b32373654",
   "metadata": {},
   "source": [
    "<br>\n",
    "\n",
    "### Souhrn k SOLID principům\n",
    "\n",
    "---"
   ]
  },
  {
   "cell_type": "markdown",
   "id": "977dc49b-8a3a-4f99-8817-a2bdc0ef465b",
   "metadata": {},
   "source": [
    "Principy *SOLID* nejsou *dogma*.\n",
    "\n",
    "Patří k solidnímu **úvodu do návrhových vzorů**.\n",
    "\n",
    "Jedná se tedy o jednu z těch **náročnějších problematik**.\n",
    "\n",
    "Jedná se také ale o *cílovou rovinku* v pochopení **konceptů OOP** a současně začátků do koncepce **struktury softwaru**.\n",
    "\n",
    "Každý, kdo se podílí na kolektivním projektu by měl vědět, jak se tyto principy podepisují na zdrojovém kódu."
   ]
  },
  {
   "cell_type": "code",
   "execution_count": null,
   "id": "651ee9d5-da96-4665-a46c-6db79df69b8c",
   "metadata": {},
   "outputs": [],
   "source": []
  },
  {
   "cell_type": "markdown",
   "id": "d9a7be2e-1603-45fb-aac7-12100df5797d",
   "metadata": {},
   "source": [
    "<img src=\"https://external-content.duckduckgo.com/iu/?u=https%3A%2F%2Ftse1.mm.bing.net%2Fth%3Fid%3DOIP.8L82EmUdjOE90Qo6QQb-WgHaHa%26pid%3DApi&f=1&ipt=d4d10295cf26bb67d02a1b13a3d40bb141aa6a574f0f3ac1ea8c8f7a01e2d665&ipo=images\" width=\"250\" style=\"margin-left:auto; margin-right:auto\">"
   ]
  },
  {
   "cell_type": "markdown",
   "id": "451645f1-dce9-4e5b-b0a0-724ab40de390",
   "metadata": {
    "tags": []
   },
   "source": [
    "## ENUM, očíslované třídy\n",
    "\n",
    "---"
   ]
  },
  {
   "cell_type": "markdown",
   "id": "b29f0a25-236a-4c0f-bc8c-46ff2105a115",
   "metadata": {},
   "source": [
    "Jiné programovací jazyky podporují datový typ `Enum`.\n",
    "\n",
    "Jeho účel je vytvořit **množinu pojmenovaných konstant**.\n",
    "\n",
    "Python standardně takové chování nepovoluje, ale existuje elegantní řešení, pomocí dostupné knihovny:"
   ]
  },
  {
   "cell_type": "code",
   "execution_count": null,
   "id": "abb54da4-6c3b-484c-9df0-910bf3ef74bb",
   "metadata": {
    "tags": []
   },
   "outputs": [],
   "source": [
    "from enum import Enum"
   ]
  },
  {
   "cell_type": "markdown",
   "id": "3964170d-f0f9-42c1-ad02-ee6cf25ace53",
   "metadata": {},
   "source": [
    "Objekty typu `Enum` jsou nachystané na to, aby ti umožnili vytvořit **logicky související konstanty**."
   ]
  },
  {
   "cell_type": "markdown",
   "id": "a37a830d-7e18-4b43-b2df-da00394a62e6",
   "metadata": {},
   "source": [
    "<br>\n",
    "\n",
    "Pomocí knihovny `enum` můžeš nachystat Enum-like objekt také v Pythonu:"
   ]
  },
  {
   "cell_type": "code",
   "execution_count": null,
   "id": "7b729da8-c376-4d17-925f-090f5db40b3d",
   "metadata": {
    "tags": []
   },
   "outputs": [],
   "source": [
    "class HttpStatusCode(Enum):\n",
    "    INFORMATIONAL: int = 100\n",
    "    SUCCESSFUL: int    = 200\n",
    "    REDIRECTION: int   = 300\n",
    "    CLIENT_ERROR: int  = 400\n",
    "    SERVER_ERROR: int  = 500"
   ]
  },
  {
   "cell_type": "code",
   "execution_count": null,
   "id": "d9986da9-4c57-4a2e-bb2a-1c80be6da7d1",
   "metadata": {
    "tags": []
   },
   "outputs": [],
   "source": [
    "print(HttpStatusCode.INFORMATIONAL)"
   ]
  },
  {
   "cell_type": "code",
   "execution_count": null,
   "id": "44c5a488-28e3-4f6d-b553-51e1e924f516",
   "metadata": {
    "tags": []
   },
   "outputs": [],
   "source": [
    "print(HttpStatusCode.INFORMATIONAL.name)"
   ]
  },
  {
   "cell_type": "code",
   "execution_count": null,
   "id": "e3b83891-a11a-4bc2-ad06-b6305f5391ec",
   "metadata": {
    "tags": []
   },
   "outputs": [],
   "source": [
    "print(HttpStatusCode.INFORMATIONAL.value)"
   ]
  },
  {
   "cell_type": "markdown",
   "id": "43bea529-7d79-4619-b911-5727eab5e141",
   "metadata": {},
   "source": [
    "### Ukázka na datech\n",
    "\n",
    "---"
   ]
  },
  {
   "cell_type": "markdown",
   "id": "2ff488d0-507a-4c6b-abf8-a491883003d7",
   "metadata": {},
   "source": [
    "Představ si situaci, kdy organizuješ objednávky ve firmě:"
   ]
  },
  {
   "cell_type": "code",
   "execution_count": null,
   "id": "85c1d068-2d2b-4e29-9145-f78dcab23e4f",
   "metadata": {
    "tags": []
   },
   "outputs": [],
   "source": [
    "nahodna_id = [\n",
    "    '1000111',\n",
    "    '1000112',\n",
    "    '1000113',\n",
    "    '1000114',\n",
    "    '1000115',\n",
    "    '1000116',\n",
    "    '1000117',\n",
    "    '1000118',\n",
    "    '1000119',\n",
    "    '1000120',\n",
    "    '1000121',\n",
    "    '1000122',\n",
    "    '1000123',\n",
    "    '1000124',\n",
    "    '1000125',\n",
    "    '1000126',\n",
    "    '1000127',\n",
    "    '1000128',\n",
    "    '1000129',\n",
    "    '1000130'\n",
    "]"
   ]
  },
  {
   "cell_type": "code",
   "execution_count": null,
   "id": "c73c1986-4da2-411b-9bf6-7933264e9df5",
   "metadata": {
    "tags": []
   },
   "outputs": [],
   "source": [
    "nahodna_data = [\n",
    "    \"2023-01-05\",\n",
    "    \"2023-02-15\",\n",
    "    \"2023-03-20\",\n",
    "    \"2023-04-10\",\n",
    "    \"2023-05-25\",\n",
    "    \"2023-06-08\",\n",
    "    \"2023-07-12\",\n",
    "    \"2023-08-29\",\n",
    "    \"2023-09-18\",\n",
    "    \"2023-10-03\",\n",
    "    \"2023-11-21\",\n",
    "    \"2023-12-09\",\n",
    "    \"2023-01-29\",\n",
    "    \"2023-02-03\",\n",
    "    \"2023-03-14\",\n",
    "    \"2023-04-22\",\n",
    "    \"2023-05-09\",\n",
    "    \"2023-06-30\",\n",
    "    \"2023-07-24\",\n",
    "    \"2023-08-12\"\n",
    "]"
   ]
  },
  {
   "cell_type": "code",
   "execution_count": null,
   "id": "a3c34787-2b05-4db4-a274-72349d4edcf5",
   "metadata": {
    "tags": []
   },
   "outputs": [],
   "source": [
    "produkty = [\n",
    "    \"Mobilní telefon\",\n",
    "    \"Televize\",\n",
    "    \"Notebook\",\n",
    "    \"Kávovar\",\n",
    "    \"Chladnička\",\n",
    "    \"Mikrovlnná trouba\",\n",
    "    \"Rasový mixér\",\n",
    "    \"Žehlička\",\n",
    "    \"Vysavač\",\n",
    "    \"Herní konzole\",\n",
    "    \"Tablet\",\n",
    "    \"Sluchátka\",\n",
    "    \"Kniha\",\n",
    "    \"Pánská košile\",\n",
    "    \"Dámská sukni\",\n",
    "    \"Tenisová raketa\",\n",
    "    \"Fotokamera\",\n",
    "    \"Stůl\",\n",
    "    \"Židle\",\n",
    "    \"Laptop\"\n",
    "]"
   ]
  },
  {
   "cell_type": "code",
   "execution_count": null,
   "id": "d86234bb-6ce5-4f47-a4da-fecb7427bee5",
   "metadata": {
    "tags": []
   },
   "outputs": [],
   "source": [
    "stavy_objednavky = [5, 6, 4, 3, 6, 4, 4, 6, 6, 7, 5, 5, 1, 5, 1, 3, 2, 2, 5, 3]"
   ]
  },
  {
   "cell_type": "code",
   "execution_count": null,
   "id": "9725bcd3-14d7-4e63-8b63-940dd3c2c8bb",
   "metadata": {
    "tags": []
   },
   "outputs": [],
   "source": [
    "from pandas import DataFrame"
   ]
  },
  {
   "cell_type": "code",
   "execution_count": null,
   "id": "ce6030e4-dfcd-4ede-8925-84f64a5f9840",
   "metadata": {
    "tags": []
   },
   "outputs": [],
   "source": [
    "objednavky_df = DataFrame({\"ID\": nahodna_id, \"vytvořeno\": nahodna_data, \"produkt\": produkty, \"stav\": stavy_objednavky})"
   ]
  },
  {
   "cell_type": "code",
   "execution_count": null,
   "id": "72808e43-0a02-40c0-84a3-ae5bf48e95fb",
   "metadata": {
    "tags": []
   },
   "outputs": [],
   "source": [
    "objednavky_df.head(10)"
   ]
  },
  {
   "cell_type": "markdown",
   "id": "cb812585-3bce-4352-82aa-365689e12803",
   "metadata": {},
   "source": [
    "V tomto okamžiku je práce náročná, protože si *konstanty* **jednotlivých stavů objednávky** umíš jen s potížemi přiradit."
   ]
  },
  {
   "cell_type": "markdown",
   "id": "3a732ef4-69e1-4555-a37f-356388cf7aa4",
   "metadata": {},
   "source": [
    "V ukázce jde samozřejmě o zjednodušená data. Skutečná data mohou být ještě méně přehledná.\n",
    "\n",
    "Přesto lze v takové situaci globálně nahradit hodnoty pomocí datového typu `Enum`."
   ]
  },
  {
   "cell_type": "code",
   "execution_count": null,
   "id": "9e6b3363-bcc4-4469-87e3-d41b1f9a915c",
   "metadata": {
    "tags": []
   },
   "outputs": [],
   "source": [
    "class StavObjednavky(Enum):\n",
    "    NOVA = 1\n",
    "    ZPRACOVANA = 2\n",
    "    DOPLNENA = 3\n",
    "    STORNOVANA = 4\n",
    "    REKLAMACE = 5\n",
    "    ODESLANA = 6\n",
    "    PRIJATA = 7"
   ]
  },
  {
   "cell_type": "markdown",
   "id": "416fe945-0bd5-4937-93a5-b421e49eaa2b",
   "metadata": {},
   "source": [
    "Pomocí takového `Enum` objektu můžeš snadno stavy nahradit:"
   ]
  },
  {
   "cell_type": "code",
   "execution_count": null,
   "id": "6b147d27-5645-443b-9a4f-becbb292cfde",
   "metadata": {
    "tags": []
   },
   "outputs": [],
   "source": [
    "objednavky_df['stav'] = [StavObjednavky(cislo_obj) for cislo_obj in objednavky_df['stav']]"
   ]
  },
  {
   "cell_type": "code",
   "execution_count": null,
   "id": "9a550953-1793-4066-810f-697aa98e2fc3",
   "metadata": {
    "tags": []
   },
   "outputs": [],
   "source": [
    "objednavky_df.head(10)"
   ]
  },
  {
   "cell_type": "markdown",
   "id": "4d3c6fa7-eaba-45c2-9373-0390e9c519dc",
   "metadata": {},
   "source": [
    "*Seskupovat* a *filtrovat* můžeš také celočíselné hodnoty, ale v tomto případě okamžitě vidíš stav:"
   ]
  },
  {
   "cell_type": "code",
   "execution_count": null,
   "id": "aed13188-36e9-4574-9647-d52fc5b0dfb5",
   "metadata": {
    "tags": []
   },
   "outputs": [],
   "source": [
    "objednavky_df[objednavky_df['stav'] == StavObjednavky.NOVA]"
   ]
  },
  {
   "cell_type": "markdown",
   "id": "85ce40ee-9d25-45f7-b848-421fdb90aca1",
   "metadata": {},
   "source": [
    "Takhle se můžeš **rychleji a příjemněji** začít orientovat v datech."
   ]
  },
  {
   "cell_type": "markdown",
   "id": "f863b024-3d12-4171-a250-85605fad0c70",
   "metadata": {},
   "source": [
    "Nové očíslované objekty můžeš snadno vytvořit ihned pomocí celého čísla:"
   ]
  },
  {
   "cell_type": "code",
   "execution_count": null,
   "id": "fe603a7f-8a90-460d-af5c-7a4c5bd37a63",
   "metadata": {
    "tags": []
   },
   "outputs": [],
   "source": [
    "objednavka_111 = StavObjednavky(2)"
   ]
  },
  {
   "cell_type": "code",
   "execution_count": null,
   "id": "8b293d39-cb7a-456e-a5c0-9e0439375e56",
   "metadata": {
    "tags": []
   },
   "outputs": [],
   "source": [
    "print(objednavka_111)"
   ]
  },
  {
   "cell_type": "markdown",
   "id": "57993df3-cb00-4058-a2eb-b96e37114778",
   "metadata": {},
   "source": [
    "Pokud nepoužiješ validní hodnotu z definice `StavObjednavky`, dostaneš příslušnou výjimku:"
   ]
  },
  {
   "cell_type": "code",
   "execution_count": null,
   "id": "272c0865-d8d3-4c23-bfc0-749bf21e05b8",
   "metadata": {
    "tags": []
   },
   "outputs": [],
   "source": [
    "objednavka_112 = StavObjednavky(10)"
   ]
  },
  {
   "cell_type": "markdown",
   "id": "d59f3708-2269-4add-a7ef-4497a1e2e769",
   "metadata": {},
   "source": [
    "### Definice nového Enum objektu\n",
    "\n",
    "---"
   ]
  },
  {
   "cell_type": "markdown",
   "id": "4ce2ee50-b29d-48e6-9ee3-09882a2ea3cb",
   "metadata": {},
   "source": [
    "Kromě klasického zápisu pomocí třídních atributů pod sebou, můžeš vyzkoušet také variantu *vícenásobného přiřazování*:"
   ]
  },
  {
   "cell_type": "code",
   "execution_count": null,
   "id": "f7e53b63-9a9c-469d-9bbd-28498ae05c83",
   "metadata": {
    "tags": []
   },
   "outputs": [],
   "source": [
    "NOVA, ZPRACOVANA, DOPLNENA = range(1, 4)"
   ]
  },
  {
   "cell_type": "code",
   "execution_count": null,
   "id": "ea8e40b8-2cc5-4d79-bea1-b327a80bdc71",
   "metadata": {
    "tags": []
   },
   "outputs": [],
   "source": [
    "print(NOVA)"
   ]
  },
  {
   "cell_type": "code",
   "execution_count": null,
   "id": "a571daa4-5a26-4f17-8c78-b0d7bec267e9",
   "metadata": {
    "tags": []
   },
   "outputs": [],
   "source": [
    "print(DOPLNENA)"
   ]
  },
  {
   "cell_type": "markdown",
   "id": "ffdd1049-22df-4006-b6e9-910d585de6ae",
   "metadata": {},
   "source": [
    "Takto zadané konstanty by zůstali roztroušené ve tvém pracovním prostředí.\n",
    "\n",
    "Jejich dohledání, příp. rozšiřování by nebylo jednotné a efektivní.\n",
    "\n",
    "<br>\n",
    "\n",
    "Tento princip lze využít také při definici třídy:"
   ]
  },
  {
   "cell_type": "code",
   "execution_count": null,
   "id": "73bab8b0-049c-4b0f-bec8-2bce166d1c4a",
   "metadata": {
    "tags": []
   },
   "outputs": [],
   "source": [
    "class StavObjednavky(Enum):\n",
    "    NOVA, ZPRACOVANA, DOPLNENA = range(1, 4)"
   ]
  },
  {
   "cell_type": "code",
   "execution_count": null,
   "id": "0a301021-7282-4ca0-a538-6e071fc54962",
   "metadata": {
    "tags": []
   },
   "outputs": [],
   "source": [
    "objednavka_113 = StavObjednavky(3)"
   ]
  },
  {
   "cell_type": "code",
   "execution_count": null,
   "id": "8071772b-24e4-4cea-aa92-2c3491814434",
   "metadata": {
    "tags": []
   },
   "outputs": [],
   "source": [
    "print(type(objednavka_113))"
   ]
  },
  {
   "cell_type": "code",
   "execution_count": null,
   "id": "95c50608-6ad0-4c64-ad5b-824191174480",
   "metadata": {
    "tags": []
   },
   "outputs": [],
   "source": [
    "print(list(StavObjednavky))"
   ]
  },
  {
   "cell_type": "markdown",
   "id": "3e35cc92-73ab-4871-85ab-cf14afe8990e",
   "metadata": {},
   "source": [
    "Protože `Enum` je soubor konstant, po definici jej nemůžeš přepisovat:"
   ]
  },
  {
   "cell_type": "code",
   "execution_count": null,
   "id": "15d99b2e-0544-49f3-9295-153b24e9056c",
   "metadata": {
    "tags": []
   },
   "outputs": [],
   "source": [
    "StavObjednavky.NOVA = 4"
   ]
  },
  {
   "cell_type": "markdown",
   "id": "01deff84-60e0-43c5-bff7-e70068c9f284",
   "metadata": {},
   "source": [
    "Přesto, že jde o objekt definovaný pomocí slova `class`, nejde o *klasickou třídu*.\n",
    "\n",
    "`Enum` třídy nemají `__init__` metodu, takže je nelze *instancovat*.\n",
    "\n",
    "<br>\n",
    "\n",
    "Můžeš pracovat jak s hodnotami typu `int`, `str` a `bool`.\n",
    "\n",
    "<br>\n",
    "\n",
    "Případně pracovat **s automatickou hodnotou**:"
   ]
  },
  {
   "cell_type": "code",
   "execution_count": null,
   "id": "18064fdd-57e3-414e-81ae-f780d364820d",
   "metadata": {
    "tags": []
   },
   "outputs": [],
   "source": [
    "from enum import auto"
   ]
  },
  {
   "cell_type": "code",
   "execution_count": null,
   "id": "46ca015a-09a4-4268-aa05-800d61214010",
   "metadata": {
    "tags": []
   },
   "outputs": [],
   "source": [
    "class StavObjednavky(Enum):\n",
    "    NOVA = auto()\n",
    "    ZPRACOVANA = auto()\n",
    "    DOPLNENA = auto()\n",
    "    STORNOVANA = auto()\n",
    "    REKLAMACE = auto()\n",
    "    ODESLANA = auto()\n",
    "    PRIJATA = auto()"
   ]
  },
  {
   "cell_type": "code",
   "execution_count": null,
   "id": "78393334-d3af-439e-abc1-08f44a0f5917",
   "metadata": {
    "tags": []
   },
   "outputs": [],
   "source": [
    "print(list(StavObjednavky))"
   ]
  },
  {
   "cell_type": "markdown",
   "id": "8270ac74-d0df-48e6-bf5c-82f2d2c5d7e6",
   "metadata": {},
   "source": [
    "Pokud by ti ale takové defaultní chování nestačilo, můžeš si nastavit vlastní.\n",
    "\n",
    "Přepíšeš původní metodu `_generate_next_value_`:"
   ]
  },
  {
   "cell_type": "code",
   "execution_count": null,
   "id": "fb120d63-f9bf-410a-b2cb-36dfd3f76958",
   "metadata": {},
   "outputs": [],
   "source": [
    "class StavObjednavky(Enum):\n",
    "    def _generate_next_value_(name, start, count, last_values):\n",
    "        return name[0]\n",
    "    NOVA = auto()\n",
    "    ZPRACOVANA = auto()\n",
    "    DOPLNENA = auto()\n",
    "    STORNOVANA = auto()\n",
    "    REKLAMACE = auto()\n",
    "    ODESLANA = auto()\n",
    "    PRIJATA = auto()"
   ]
  },
  {
   "cell_type": "markdown",
   "id": "6ab2aed7-b929-4213-837b-71e70152240d",
   "metadata": {},
   "source": [
    "Pokud se do toho pustíš, musíš metodu přepsat **ihned pod definici třídy**."
   ]
  },
  {
   "cell_type": "code",
   "execution_count": null,
   "id": "297614e3-31b4-4fad-afe2-47c9b7e258fc",
   "metadata": {
    "tags": []
   },
   "outputs": [],
   "source": [
    "class StavObjednavky(Enum):\n",
    "    NOVA = auto()\n",
    "    ZPRACOVANA = auto()\n",
    "    DOPLNENA = auto()\n",
    "    STORNOVANA = auto()\n",
    "    REKLAMACE = auto()\n",
    "    ODESLANA = auto()\n",
    "    PRIJATA = auto()\n",
    "    \n",
    "    def _generate_next_value_(name, start, count, last_values):\n",
    "        return name[0]"
   ]
  },
  {
   "cell_type": "markdown",
   "id": "42568163-9b5a-4f76-9a22-5ac132ff3f39",
   "metadata": {},
   "source": [
    "Dále musíš **označit všechny parametry**."
   ]
  },
  {
   "cell_type": "code",
   "execution_count": null,
   "id": "7b182dc2-eedd-4b2c-826d-0b9fb2fbba9c",
   "metadata": {
    "tags": []
   },
   "outputs": [],
   "source": [
    "class StavObjednavky(Enum):\n",
    "    NOVA = auto()\n",
    "    ZPRACOVANA = auto()\n",
    "    DOPLNENA = auto()\n",
    "    STORNOVANA = auto()\n",
    "    REKLAMACE = auto()\n",
    "    ODESLANA = auto()\n",
    "    PRIJATA = auto()"
   ]
  },
  {
   "cell_type": "markdown",
   "id": "a5111435-c387-4d5f-9e8c-b6210f30897f",
   "metadata": {},
   "source": [
    "Stačí ovšem **pozičně**, nikoliv proměnnými."
   ]
  },
  {
   "cell_type": "code",
   "execution_count": null,
   "id": "19a5a021-381b-4e1c-8473-7726a2dd80d9",
   "metadata": {
    "tags": []
   },
   "outputs": [],
   "source": [
    "print(list(StavObjednavky))"
   ]
  },
  {
   "cell_type": "markdown",
   "id": "6f2f7c78-94d1-4d56-9c3d-fa43f0b996d2",
   "metadata": {},
   "source": [
    "Použití bez `Enum`:"
   ]
  },
  {
   "cell_type": "code",
   "execution_count": null,
   "id": "bf57f04d-7f29-4731-8be9-39826504c3e3",
   "metadata": {
    "tags": []
   },
   "outputs": [],
   "source": [
    "def doba_dodani(oznaceni: int) -> int:\n",
    "    \"\"\"\n",
    "    Vyhodnotí, jestli je objednávka stále aktivní nebo vyřešená.\n",
    "    \"\"\"\n",
    "    if oznaceni in {1, 2}:\n",
    "        result = 6\n",
    "    elif oznaceni == 3:\n",
    "        result = 3\n",
    "    elif oznaceni == 6:\n",
    "        result = 2\n",
    "    else:\n",
    "        result = 0\n",
    "    return result"
   ]
  },
  {
   "cell_type": "code",
   "execution_count": null,
   "id": "82f728a3-a957-4c94-bd7c-8767d6b927e0",
   "metadata": {
    "tags": []
   },
   "outputs": [],
   "source": [
    "doba_dodani(1)"
   ]
  },
  {
   "cell_type": "code",
   "execution_count": null,
   "id": "06a90811-13ee-4d66-a513-d322f11d547c",
   "metadata": {
    "tags": []
   },
   "outputs": [],
   "source": [
    "doba_dodani(5)"
   ]
  },
  {
   "cell_type": "code",
   "execution_count": null,
   "id": "ef51d731-663f-4a9a-9154-e1f998435995",
   "metadata": {
    "tags": []
   },
   "outputs": [],
   "source": [
    "def doba_dodani(oznaceni: int) -> int:\n",
    "    \"\"\"\n",
    "    Vyhodnotí, jestli je objednávka stále aktivní nebo vyřešená.\n",
    "    \"\"\"\n",
    "    if oznaceni.value in {1, 2}:\n",
    "        result = 6\n",
    "    elif oznaceni.value == 3:\n",
    "        result = 3\n",
    "    elif oznaceni.value == 6:\n",
    "        result = 2\n",
    "    else:\n",
    "        result = 0\n",
    "    return result"
   ]
  },
  {
   "cell_type": "code",
   "execution_count": null,
   "id": "1f356144-9e9f-45e7-bf87-fae129bf217a",
   "metadata": {
    "tags": []
   },
   "outputs": [],
   "source": [
    "objednavka_114 = StavObjednavky(2)"
   ]
  },
  {
   "cell_type": "code",
   "execution_count": null,
   "id": "8a5a45d8-3b19-4bad-a279-1a531cc38a1b",
   "metadata": {
    "tags": []
   },
   "outputs": [],
   "source": [
    "print(objednavka_114)"
   ]
  },
  {
   "cell_type": "code",
   "execution_count": null,
   "id": "344f972f-d0bb-436e-8874-4fe06d63653a",
   "metadata": {
    "tags": []
   },
   "outputs": [],
   "source": [
    "doba_dodani(objednavka_114)"
   ]
  },
  {
   "cell_type": "markdown",
   "id": "9f79e5fc-2a05-4460-99d3-8628e1bccbfa",
   "metadata": {},
   "source": [
    "Celý zápis ale lze doplnit řešením pomocí třídní metody `@classmethod`:"
   ]
  },
  {
   "cell_type": "code",
   "execution_count": null,
   "id": "6d9d0d96-c29d-4fa0-bbcd-7362a78b715e",
   "metadata": {
    "tags": []
   },
   "outputs": [],
   "source": [
    "class StavObjednavky(Enum):\n",
    "    NOVA = auto()\n",
    "    ZPRACOVANA = auto()\n",
    "    DOPLNENA = auto()\n",
    "    STORNOVANA = auto()\n",
    "    REKLAMACE = auto()\n",
    "    ODESLANA = auto()\n",
    "    PRIJATA = auto()\n",
    "    \n",
    "    @classmethod\n",
    "    def ziskej_dobu_dodani(cls, status: StavObjednavky) -> int:\n",
    "        if status == cls.NOVA:\n",
    "            return 6\n",
    "        elif status == cls.ZPRACOVANA:\n",
    "            return 3\n",
    "        elif status == cls.ODESLANA:\n",
    "            return 2\n",
    "        else:\n",
    "            return 0\n",
    "            # raise Exception('Objednavka není aktivní')"
   ]
  },
  {
   "cell_type": "code",
   "execution_count": null,
   "id": "53e1681d-0bfe-42d4-ae89-b6c854df4ac2",
   "metadata": {
    "tags": []
   },
   "outputs": [],
   "source": [
    "dodaci_doba = StavObjednavky.ziskej_dobu_dodani(StavObjednavky(2))"
   ]
  },
  {
   "cell_type": "code",
   "execution_count": null,
   "id": "87585164-1907-4eff-8681-aa03e7d52ae5",
   "metadata": {
    "tags": []
   },
   "outputs": [],
   "source": [
    "print(dodaci_doba)"
   ]
  },
  {
   "cell_type": "markdown",
   "id": "9ea8debe-fd5a-4e3b-9bdf-9321dc9df15f",
   "metadata": {},
   "source": [
    "Pokud chceš zadat do tabulky nový sloupeček:"
   ]
  },
  {
   "cell_type": "code",
   "execution_count": null,
   "id": "9323eaf7-1136-4728-93a1-91d1e417b611",
   "metadata": {
    "tags": []
   },
   "outputs": [],
   "source": [
    "objednavky_df.head()"
   ]
  },
  {
   "cell_type": "code",
   "execution_count": null,
   "id": "7ad52221-b35f-46d3-b213-b0012a819c83",
   "metadata": {
    "tags": []
   },
   "outputs": [],
   "source": [
    "objednavky_df['doba dodání'] = [\n",
    "    StavObjednavky.ziskej_dobu_dodani(\n",
    "        StavObjednavky(status)\n",
    "    )\n",
    "    for status in objednavky_df['stav']\n",
    "]"
   ]
  },
  {
   "cell_type": "code",
   "execution_count": null,
   "id": "748e7b4e-8461-4e33-ba60-90abe28b33c1",
   "metadata": {
    "tags": []
   },
   "outputs": [],
   "source": [
    "objednavky_df.head(10)"
   ]
  },
  {
   "cell_type": "markdown",
   "id": "bb7f9733-141c-4e54-9c16-d415f1ef5d55",
   "metadata": {},
   "source": [
    "<br>\n",
    "\n",
    "### 🧠 CVIČENÍ 🧠, Vyzkoušej si ENUM:\n",
    "---"
   ]
  },
  {
   "cell_type": "markdown",
   "id": "ee942902-7c88-4cb4-9ff5-7110daf3c1af",
   "metadata": {},
   "source": [
    "1. Vytvoř ENUM třídu `StavProduktu` s atributy: DOSTUPNY, VYPRODANO a SKLADEM_OMEZENO,\n",
    "2. vytvoř ENUM třídu `Produkt` s atributy: TELEVIZE, KAVOVAR a LEDNICKA,\n",
    "3. doplň metodu `_generate_next_value_` do třídy `Produkt`, tak ať generuje podle počtu atributů ID `1234<POCET + 1>` ,\n",
    "4. doplň metodu `ziskej_dostupnost`, která vrací `StavProduktu.DOSTUPNY`, pokud je skladem 5 produktů a více,\n",
    "    ...která vrací `StavProduktu.SKLADEM_OMEZENO`, pokud je skladem 1 až 5 produktů,\n",
    "    ...která vrací `StavProduktu.VYPRODANO`, pokud je skladem 0 produktů,\n",
    "5. ve stavající tabulce doplň sloupec 'status' tak, ať můžeš dynamicky přepočítat hodnoty ze sloupce **skladem**."
   ]
  },
  {
   "cell_type": "code",
   "execution_count": null,
   "id": "3949e476-97dc-4cbf-a231-856c58f65c4a",
   "metadata": {
    "tags": []
   },
   "outputs": [],
   "source": [
    "from pandas import DataFrame\n",
    "\n",
    "produkty_df = DataFrame({'ID': ['111', '112', '113', '114'], 'produkt': ['TELEVIZE', 'KAVOVAR', 'LEDNICKA', 'TELEFON'], 'skladem': [0, 10, 5, 2]})"
   ]
  },
  {
   "cell_type": "code",
   "execution_count": null,
   "id": "df38a54b-4817-4902-a5de-367cf08b4af2",
   "metadata": {
    "tags": []
   },
   "outputs": [],
   "source": [
    "from enum import Enum, auto\n",
    "\n",
    "class StavProduktu(Enum):\n",
    "    DOSTUPNY = auto()\n",
    "    VYPRODANO = auto()\n",
    "    SKLADEM_OMEZENO = auto()\n",
    "\n",
    "\n",
    "class Produkt(Enum):\n",
    "    def _generate_next_value_(name, start, count, last_values):\n",
    "        return f\"1234{count + 1}\"\n",
    "\n",
    "    TELEVIZE = auto()\n",
    "    KAVOVAR = auto()\n",
    "    LEDNICKA = auto()\n",
    "    \n",
    "    @classmethod\n",
    "    def ziskej_dostupnost(cls, stav):\n",
    "        if stav > 5:\n",
    "            return StavProduktu.DOSTUPNY\n",
    "        elif stav <= 5 and stav:\n",
    "            return StavProduktu.SKLADEM_OMEZENO\n",
    "        elif stav == 0:\n",
    "            return StavProduktu.VYPRODANO"
   ]
  },
  {
   "cell_type": "markdown",
   "id": "52609146-ebfa-445c-b014-a8d7a50586c5",
   "metadata": {},
   "source": [
    "<details>\n",
    "    <summary>▶️ Řešení</summary>\n",
    "    \n",
    "```python\n",
    "from enum import Enum, auto\n",
    "\n",
    "class StavProduktu(Enum):\n",
    "    DOSTUPNY = auto()\n",
    "    VYPRODANO = auto()\n",
    "    SKLADEM_OMEZENO = auto()\n",
    "\n",
    "\n",
    "class Produkt(Enum):\n",
    "    def _generate_next_value_(name, start, count, last_values):\n",
    "        return f\"1234{count + 1}\"\n",
    "\n",
    "    TELEVIZE = auto()\n",
    "    KAVOVAR = auto()\n",
    "    LEDNICKA = auto()\n",
    "    \n",
    "    @classmethod\n",
    "    def ziskej_dostupnost(cls, stav):\n",
    "        if stav <= 10 and stav > 5:\n",
    "            return StavProduktu.DOSTUPNY\n",
    "        elif stav <= 5 and stav:\n",
    "            return StavProduktu.SKLADEM_OMEZENO\n",
    "        elif stav == 0:\n",
    "            return StavProduktu.VYPRODANO\n",
    "```\n",
    "</details>"
   ]
  },
  {
   "cell_type": "code",
   "execution_count": null,
   "id": "7adbc88d-5f88-4d38-9504-9f6c62f27117",
   "metadata": {},
   "outputs": [],
   "source": []
  },
  {
   "cell_type": "markdown",
   "id": "786510e9-a0d4-4aaa-8148-da641e877ff1",
   "metadata": {},
   "source": [
    "<img src=\"https://external-content.duckduckgo.com/iu/?u=https%3A%2F%2Ftse1.mm.bing.net%2Fth%3Fid%3DOIP.WKBR9N9XJH6qDiPXiFyw-QHaFj%26pid%3DApi&f=1&ipt=8e3341c55dbb85d643a0e219c049741ccd948f68753bea2d38ed09f11f3db173&ipo=images\" width=\"250\" style=\"margin-left:auto; margin-right:auto\">"
   ]
  },
  {
   "cell_type": "markdown",
   "id": "5945b42a-76eb-403b-842b-7e27acbe39e1",
   "metadata": {},
   "source": [
    "## Protokol\n",
    "\n",
    "---"
   ]
  },
  {
   "cell_type": "markdown",
   "id": "be6da578-6b03-42e3-a3cd-11e0a1457e16",
   "metadata": {},
   "source": [
    "Představ si takovou situaci:"
   ]
  },
  {
   "cell_type": "code",
   "execution_count": null,
   "id": "63eb89c6-cc35-408c-89aa-19093ddd31b3",
   "metadata": {
    "tags": []
   },
   "outputs": [],
   "source": [
    "class Produkt:\n",
    "    \n",
    "    def __init__(self, jmeno: str, mnozstvi: int, cena: float) -> None:\n",
    "        self.jmeno = jmeno\n",
    "        self.mnozstvi = mnozstvi\n",
    "        self.cena = cena"
   ]
  },
  {
   "cell_type": "markdown",
   "id": "fba6f991-a2ce-42d7-b63d-3ce533241369",
   "metadata": {},
   "source": [
    "Máš obecnou třídu, která ti pomůže vytvořit *generický produkt*.\n",
    "\n",
    "Máš funkci, která ti umožní **vypočítat celkovou cenu**:"
   ]
  },
  {
   "cell_type": "code",
   "execution_count": null,
   "id": "32ecd3bd-e613-45e8-8456-a42503ee2450",
   "metadata": {
    "tags": []
   },
   "outputs": [],
   "source": [
    "from typing import List"
   ]
  },
  {
   "cell_type": "code",
   "execution_count": null,
   "id": "380f73ec-c9d3-445b-b549-737406dd6fe6",
   "metadata": {
    "tags": []
   },
   "outputs": [],
   "source": [
    "def celkova_cena(produkty: List[Produkt]) -> float:\n",
    "    return sum([produkt.mnozstvi * produkt.cena for produkt in produkty])"
   ]
  },
  {
   "cell_type": "code",
   "execution_count": null,
   "id": "00b63d4f-3ea4-45ae-9a81-da7cec219ecb",
   "metadata": {
    "tags": []
   },
   "outputs": [],
   "source": [
    "notebooky = Produkt(jmeno=\"notebook, Renovo\", mnozstvi=2, cena=30_000)\n",
    "chytre_telefony = Produkt(jmeno=\"chytry telefon, Zamzung\", mnozstvi=5, cena=15_000)"
   ]
  },
  {
   "cell_type": "code",
   "execution_count": null,
   "id": "29bca696-eee3-4843-8524-efeb3ffa6f06",
   "metadata": {
    "tags": []
   },
   "outputs": [],
   "source": [
    "celkem_cena = celkova_cena([notebooky, chytre_telefony])"
   ]
  },
  {
   "cell_type": "code",
   "execution_count": null,
   "id": "ddc7aad1-1143-44d2-8eb4-932b82816283",
   "metadata": {
    "tags": []
   },
   "outputs": [],
   "source": [
    "print(celkem_cena)"
   ]
  },
  {
   "cell_type": "markdown",
   "id": "49156b0f-a7f6-4698-8266-779b83e41304",
   "metadata": {},
   "source": [
    "Co, když ale použiješ nesprávnou instanci? Nebo instanci jiné třídy.\n",
    "\n",
    "Takový objekt může mít **odlišné atributy a metody**:"
   ]
  },
  {
   "cell_type": "code",
   "execution_count": null,
   "id": "d965d2aa-6a32-4124-b500-fb47d13e9d94",
   "metadata": {
    "tags": []
   },
   "outputs": [],
   "source": [
    "class ChybnyProdukt:\n",
    "    \n",
    "    def __init__(self, jmeno: str, cena: float) -> None:\n",
    "        self.jmeno = jmeno\n",
    "        self.cena = cena"
   ]
  },
  {
   "cell_type": "code",
   "execution_count": null,
   "id": "c89d76a0-5cf3-43ad-94b8-d0d2a866be20",
   "metadata": {
    "tags": []
   },
   "outputs": [],
   "source": [
    "televize = ChybnyProdukt(jmeno=\"televize, RG\", cena=45_000)"
   ]
  },
  {
   "cell_type": "code",
   "execution_count": null,
   "id": "900cdfbb-7f19-4466-92bc-435b764a5889",
   "metadata": {
    "tags": []
   },
   "outputs": [],
   "source": [
    "celkem_cena = celkova_cena([notebooky, chytre_telefony, televize])"
   ]
  },
  {
   "cell_type": "markdown",
   "id": "443b70f1-2398-44c5-b979-41e9371cd355",
   "metadata": {},
   "source": [
    "V takovém případě dostaneš výjimku, protože v rámci objektu `ChybnyProdukt` nemáš atribut `mnozstvi`.\n",
    "\n",
    "<br>\n",
    "\n",
    "Řešením v takovém případě může být tzv. *předpis*, nebo také **protokol**."
   ]
  },
  {
   "cell_type": "code",
   "execution_count": null,
   "id": "ee341819-c23f-46c1-87bf-d5ba1d5936a1",
   "metadata": {
    "tags": []
   },
   "outputs": [],
   "source": [
    "from typing import Protocol"
   ]
  },
  {
   "cell_type": "code",
   "execution_count": null,
   "id": "e82dde40-e3dc-4464-8d5a-6a51a4b00142",
   "metadata": {
    "tags": []
   },
   "outputs": [],
   "source": [
    "class Predmet(Protocol):\n",
    "    mnozstvi = int\n",
    "    cena = float"
   ]
  },
  {
   "cell_type": "markdown",
   "id": "bb397c23-bc19-441d-94c8-55d4adcff678",
   "metadata": {},
   "source": [
    "V tomto případě říkáš, že chceš obecně hlídat takový předpis, resp. protokol, kdy pokud pracuješ s rozhraním takovém objektu, **bude splňovat tyto parametry**."
   ]
  },
  {
   "cell_type": "code",
   "execution_count": null,
   "id": "527068c4-0129-4991-8cd0-43f9ee8a07c0",
   "metadata": {
    "tags": []
   },
   "outputs": [],
   "source": [
    "class Produkt(Predmet):\n",
    "    \n",
    "    def __init__(self, jmeno: str, mnozstvi: int, cena: float) -> None:\n",
    "        self.jmeno = jmeno\n",
    "        self.mnozstvi = mnozstvi\n",
    "        self.cena = cena"
   ]
  },
  {
   "cell_type": "code",
   "execution_count": null,
   "id": "7f3113b0-815b-4610-ad74-504c1ed8d62f",
   "metadata": {
    "tags": []
   },
   "outputs": [],
   "source": [
    "class ChybnyProdukt(Predmet):\n",
    "    \n",
    "    def __init__(self, jmeno: str, cena: float) -> None:\n",
    "        self.jmeno = jmeno\n",
    "        self.cena = cena"
   ]
  },
  {
   "cell_type": "markdown",
   "id": "370559aa-b59f-40a2-b330-0f74d7661e41",
   "metadata": {},
   "source": [
    "Prostředí Jupyteru v tomto rozdíl nedělá.\n",
    "\n",
    "Nicméně editory a IDE se statickou analýzou zápisu tě upozorní včas.\n",
    "\n",
    "**DEMO: Neovim**."
   ]
  },
  {
   "cell_type": "markdown",
   "id": "7d6957c6-9fe5-4dbc-be4f-9b5a592f2c8a",
   "metadata": {},
   "source": [
    "### Aplikace na metody u prokolů\n",
    "\n",
    "---"
   ]
  },
  {
   "cell_type": "markdown",
   "id": "29644602-c41a-420d-816d-da28ab3f63f1",
   "metadata": {},
   "source": [
    "Kromě atributů, můžeš od uživatele vyžadovat implicitně práci **s příslušnými metodami**."
   ]
  },
  {
   "cell_type": "code",
   "execution_count": null,
   "id": "b3d17013-c23b-4de8-8ea6-b047c54f2c78",
   "metadata": {
    "tags": []
   },
   "outputs": [],
   "source": [
    "class Zobrazitelny(Protocol):\n",
    "    nazev: str\n",
    "    cena: float\n",
    "\n",
    "    def popis(self) -> str:\n",
    "        ...\n",
    "\n",
    "    def zlevni(self, sleva: float) -> None:\n",
    "        ..."
   ]
  },
  {
   "cell_type": "code",
   "execution_count": null,
   "id": "5f1accf3-cc97-44be-9b20-26226f55e52f",
   "metadata": {},
   "outputs": [],
   "source": [
    "class Produkt:\n",
    "    def __init__(self, nazev: str, cena: float):\n",
    "        self.nazev = nazev\n",
    "        self.cena = cena\n",
    "\n",
    "    def popis(self) -> str:\n",
    "        return f\"{self.nazev} - Cena: {self.cena} Kč\"\n",
    "\n",
    "    def zlevni(self, sleva: float) -> None:\n",
    "        self.cena -= sleva"
   ]
  },
  {
   "cell_type": "markdown",
   "id": "388f8fcc-1706-4cc3-a8f1-5922ab5f7d91",
   "metadata": {},
   "source": [
    "Opět, takhle definovaná třída podle protokolu splňuje zádání.\n",
    "\n",
    "Ovšem pokud vytvoříš jinou třídu s tímto rozhraním:"
   ]
  },
  {
   "cell_type": "code",
   "execution_count": null,
   "id": "0809278b-ee88-4080-882d-e9a11d971089",
   "metadata": {},
   "outputs": [],
   "source": [
    "class ChybnyProdukt(Zobrazitelny):\n",
    "    def __init__(self, nazev: str, cena: float):\n",
    "        self.nazev = nazev\n",
    "        self.cena = cena\n",
    "\n",
    "    def zlevni(self, sleva: float) -> None:\n",
    "        self.cena -= sleva"
   ]
  },
  {
   "cell_type": "markdown",
   "id": "fc373b6a-c545-4273-bb29-4faa5f2887a3",
   "metadata": {},
   "source": [
    "**DEMO: Neovim.**\n",
    "\n",
    "Editor tě včas varuje, protože nepracuješ v souladu s protokolem `Zobrazitelny`.\n",
    "\n",
    "Protokol dokonce není nutné explicitně uvádět do závorek, třeba v případě pro statickou analýzu:"
   ]
  },
  {
   "cell_type": "code",
   "execution_count": null,
   "id": "1161f028-b6ee-4504-986f-8986822f300e",
   "metadata": {},
   "outputs": [],
   "source": [
    "class Produkt:\n",
    "    def __init__(self, nazev: str, cena: float):\n",
    "        self.nazev = nazev\n",
    "        self.cena = cena\n",
    "\n",
    "    def popis(self) -> str:\n",
    "        return f\"{self.nazev} - Cena: {self.cena} Kč\"\n",
    "\n",
    "    def zlevni(self, sleva: float) -> None:\n",
    "        self.cena -= sleva"
   ]
  },
  {
   "cell_type": "code",
   "execution_count": null,
   "id": "0927b347-e7fb-4447-a1f3-2bec9af71e53",
   "metadata": {},
   "outputs": [],
   "source": [
    "def zobraz_detaily_produktu(produkt: Zobrazitelny):\n",
    "    print(f\"{produkt.nazev}: {produkt.cena} Kč\")\n",
    "    print(f\"Popis: {produkt.popis()}\")"
   ]
  },
  {
   "cell_type": "markdown",
   "id": "e9f0c0a3-3be9-43f9-9fac-2c7fb941d6c3",
   "metadata": {},
   "source": [
    "V ukázce nyní chybí pro třídu `Produkt` patrná vazba na protokol `Zobrazitelny`.\n",
    "\n",
    "Přesto mi nástroje pro statickou kontrolu oznámí, pokud se argument oproti protokolu liší."
   ]
  },
  {
   "cell_type": "markdown",
   "id": "75190d0b-b57f-4380-aed3-990005aa4310",
   "metadata": {},
   "source": [
    "### Souhrn\n",
    "\n",
    "---"
   ]
  },
  {
   "cell_type": "markdown",
   "id": "e7ecdfac-9faf-4529-9ff1-a9e0a7fe88fa",
   "metadata": {},
   "source": [
    "V některých rysech ti může protokol připomenout **abstraktní třídu**.\n",
    "\n",
    "V zápise tak zásadní rozdíl není.\n",
    "\n",
    "Pomocí **abstraktní třídy** by možný zápis vypadal jako:"
   ]
  },
  {
   "cell_type": "code",
   "execution_count": null,
   "id": "df9042c4-93c9-4673-a9cb-ed82d8905942",
   "metadata": {
    "tags": []
   },
   "outputs": [],
   "source": [
    "from abc import ABC, abstractmethod"
   ]
  },
  {
   "cell_type": "code",
   "execution_count": null,
   "id": "7461d5c0-0644-4282-b3dd-8afceb5b47dd",
   "metadata": {
    "tags": []
   },
   "outputs": [],
   "source": [
    "class Soubor(ABC):\n",
    "    @abstractmethod\n",
    "    def otevri(self) -> str:\n",
    "        pass\n",
    "\n",
    "    @abstractmethod\n",
    "    def zavri(self, sleva: float) -> None:\n",
    "        pass"
   ]
  },
  {
   "cell_type": "code",
   "execution_count": null,
   "id": "99050db6-9f94-4909-ba13-78fa3d53124a",
   "metadata": {
    "tags": []
   },
   "outputs": [],
   "source": [
    "from pathlib import PurePath\n",
    "\n",
    "class TXTSoubor(Soubor):\n",
    "    def __init__(self, jmeno: str, pripona: float):\n",
    "        self.jmeno = jmeno\n",
    "        self.pripona = pripona\n",
    "\n",
    "    def otevri(self) -> str:\n",
    "        return f\"Otevírám textový soubor: {PurePath().join(self.jmeno, self.pripona)}\"\n",
    "\n",
    "    def zavri(self, sleva: float) -> None:\n",
    "        return f\"Zavírám textový soubor: {PurePath().join(self.jmeno, self.pripona)}\""
   ]
  },
  {
   "cell_type": "markdown",
   "id": "e928b195-6594-4095-b3b2-e50271328d54",
   "metadata": {
    "tags": []
   },
   "source": [
    "Použití *abstraktní třídy* se ale od *protokolu* zásadně liší.\n",
    "\n",
    "Účelem *abstraktní třídy* je zapsat jednoho rodiče (pomocí `ABC`).\n",
    "\n",
    "Tomu potom definovat **abstraktní metody**.\n",
    "\n",
    "Samotnou *abstraktní třídu* ale nepoužíváš, jenom aplikuješ její obsah pro třídy potomků a ty si upravuješ podle potřeb."
   ]
  },
  {
   "cell_type": "code",
   "execution_count": null,
   "id": "2e3de5d3-4bf7-4edd-9669-c3e8fdc2dedd",
   "metadata": {
    "tags": []
   },
   "outputs": [],
   "source": [
    "from pathlib import PurePath\n",
    "\n",
    "class JSONSoubor(Soubor):\n",
    "    def __init__(self, jmeno: str, pripona: float):\n",
    "        self.jmeno = jmeno\n",
    "        self.pripona = pripona\n",
    "\n",
    "    def otevri(self) -> str:\n",
    "        return f\"Otevírám JSON soubor: {PurePath().join(self.jmeno, self.pripona)}\"\n",
    "\n",
    "    def zavri(self, sleva: float) -> None:\n",
    "        return f\"Zavírám JSON soubor: {PurePath().join(self.jmeno, self.pripona)}\"\n",
    "    \n",
    "    def serializuj_na_string(self) -> None:  # rozšíření\n",
    "        return f\"Serializovaný objekt: {PurePath().join(self.jmeno, self.pripona)}\""
   ]
  },
  {
   "cell_type": "markdown",
   "id": "ff7bf7f2-bb95-4198-96ad-a708c4829563",
   "metadata": {},
   "source": [
    "Naopak *protokoly* použiješ obvykle tam, kam je napíšeš.\n",
    "\n",
    "Nepoužíváš je pro definici společné (defaultní funkcionality) mezi potomky, ale jako kontrolní předpis, který ti statické nástroje zkontrolují."
   ]
  },
  {
   "cell_type": "code",
   "execution_count": null,
   "id": "7f4bb57b-e147-472a-88ca-37f64e13ca68",
   "metadata": {
    "tags": []
   },
   "outputs": [],
   "source": [
    "class Soubor(Protocol):\n",
    "    umisteni: str\n",
    "\n",
    "    def zobraz_detail(self):\n",
    "        pass"
   ]
  },
  {
   "cell_type": "code",
   "execution_count": null,
   "id": "295caa18-c193-436e-a4fc-9bd49f68c7cc",
   "metadata": {
    "tags": []
   },
   "outputs": [],
   "source": [
    "class PNGObrazkovySoubor:\n",
    "    umisteni: str\n",
    "    \n",
    "    def __init__(self, jmeno):\n",
    "        self.jmeno = jmeno\n",
    "        \n",
    "    def zobraz_detail(self):\n",
    "        print(f'Detaily o souboru: {self.jmeno}')"
   ]
  },
  {
   "cell_type": "code",
   "execution_count": null,
   "id": "ed7c3ba2-772e-4c2c-bc4b-8d85e595f9d4",
   "metadata": {
    "tags": []
   },
   "outputs": [],
   "source": [
    "def zobraz_obrazek(obrazek: Soubor):\n",
    "    obrazek.zobraz_detail()"
   ]
  },
  {
   "cell_type": "code",
   "execution_count": null,
   "id": "839b2fbb-8e08-43db-9fbd-94b4b4fe0fbb",
   "metadata": {
    "tags": []
   },
   "outputs": [],
   "source": [
    "muj_obrazek_png = PNGObrazkovySoubor('moje_tapeta.png')"
   ]
  },
  {
   "cell_type": "code",
   "execution_count": null,
   "id": "d093fefd-23ca-4111-b3cb-897249d90ee0",
   "metadata": {
    "tags": []
   },
   "outputs": [],
   "source": [
    "zobraz_obrazek(muj_obrazek)"
   ]
  },
  {
   "cell_type": "code",
   "execution_count": null,
   "id": "1a4352bb-adb8-466b-ae2c-d544273eab79",
   "metadata": {
    "tags": []
   },
   "outputs": [],
   "source": [
    "class IMGObrazkovySoubor:\n",
    "    def __init__(self, jmeno):\n",
    "        self.jmeno = jmeno"
   ]
  },
  {
   "cell_type": "code",
   "execution_count": null,
   "id": "5cc8f5f4-2aa3-4dba-8041-ba859fd39e93",
   "metadata": {
    "tags": []
   },
   "outputs": [],
   "source": [
    "muj_obrazek_img = IMGObrazkovySoubor('muj_obr.img')"
   ]
  },
  {
   "cell_type": "code",
   "execution_count": null,
   "id": "14499b9d-f114-4fbc-ba1d-6aac66c6396a",
   "metadata": {
    "tags": []
   },
   "outputs": [],
   "source": [
    "zobraz_obrazek(muj_obrazek_img)"
   ]
  },
  {
   "cell_type": "markdown",
   "id": "cea26d9e-bb85-4427-a1d4-0658a44babca",
   "metadata": {},
   "source": [
    "[Formulář po páté lekci](https://forms.gle/4StnRmZPnRs8rBxw9)"
   ]
  },
  {
   "cell_type": "markdown",
   "id": "933b9ee3-833c-4b97-837b-4d5ce73da730",
   "metadata": {},
   "source": [
    "---"
   ]
  }
 ],
 "metadata": {
  "kernelspec": {
   "display_name": "Python 3 (ipykernel)",
   "language": "python",
   "name": "python3"
  },
  "language_info": {
   "codemirror_mode": {
    "name": "ipython",
    "version": 3
   },
   "file_extension": ".py",
   "mimetype": "text/x-python",
   "name": "python",
   "nbconvert_exporter": "python",
   "pygments_lexer": "ipython3",
   "version": "3.8.10"
  }
 },
 "nbformat": 4,
 "nbformat_minor": 5
}
