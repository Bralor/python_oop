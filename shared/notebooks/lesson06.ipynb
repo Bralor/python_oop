{
 "cells": [
  {
   "cell_type": "markdown",
   "id": "973d2f49-9b12-4b37-b622-f5b9ed6c53dd",
   "metadata": {},
   "source": [
    "# Python objektově orientované programování\n",
    "\n",
    "---"
   ]
  },
  {
   "cell_type": "markdown",
   "id": "3e27f997-c2d4-4a74-ae0d-356778449342",
   "metadata": {},
   "source": [
    "1. [Enum](#),\n",
    "2. [Protocol](#),\n",
    "3. [Projekt X](#)."
   ]
  },
  {
   "cell_type": "markdown",
   "id": "d9a7be2e-1603-45fb-aac7-12100df5797d",
   "metadata": {},
   "source": [
    "<img src=\"https://external-content.duckduckgo.com/iu/?u=https%3A%2F%2Ftse1.mm.bing.net%2Fth%3Fid%3DOIP.8L82EmUdjOE90Qo6QQb-WgHaHa%26pid%3DApi&f=1&ipt=d4d10295cf26bb67d02a1b13a3d40bb141aa6a574f0f3ac1ea8c8f7a01e2d665&ipo=images\" width=\"250\" style=\"margin-left:auto; margin-right:auto\">"
   ]
  },
  {
   "cell_type": "markdown",
   "id": "451645f1-dce9-4e5b-b0a0-724ab40de390",
   "metadata": {
    "tags": []
   },
   "source": [
    "## ENUM, očíslované třídy\n",
    "\n",
    "---"
   ]
  },
  {
   "cell_type": "markdown",
   "id": "b29f0a25-236a-4c0f-bc8c-46ff2105a115",
   "metadata": {},
   "source": [
    "Jiné programovací jazyky podporují datový typ `Enum`.\n",
    "\n",
    "Jeho účel je vytvořit **množinu pojmenovaných konstant**.\n",
    "\n",
    "Python standardně takové chování nepovoluje, ale existuje elegantní řešení, pomocí dostupné knihovny:"
   ]
  },
  {
   "cell_type": "code",
   "execution_count": 32,
   "id": "abb54da4-6c3b-484c-9df0-910bf3ef74bb",
   "metadata": {
    "tags": []
   },
   "outputs": [],
   "source": [
    "from enum import Enum"
   ]
  },
  {
   "cell_type": "markdown",
   "id": "3964170d-f0f9-42c1-ad02-ee6cf25ace53",
   "metadata": {},
   "source": [
    "Objekty typu `Enum` jsou nachystané na to, aby ti umožnili vytvořit **logicky související konstanty**."
   ]
  },
  {
   "cell_type": "markdown",
   "id": "a37a830d-7e18-4b43-b2df-da00394a62e6",
   "metadata": {},
   "source": [
    "<br>\n",
    "\n",
    "Pomocí knihovny `enum` můžeš nachystat Enum-like objekt také v Pythonu:"
   ]
  },
  {
   "cell_type": "code",
   "execution_count": 33,
   "id": "7b729da8-c376-4d17-925f-090f5db40b3d",
   "metadata": {
    "tags": []
   },
   "outputs": [],
   "source": [
    "class HttpStatusCode(Enum):\n",
    "    INFORMATIONAL: int = 100\n",
    "    SUCCESSFUL: int    = 200\n",
    "    REDIRECTION: int   = 300\n",
    "    CLIENT_ERROR: int  = 400\n",
    "    SERVER_ERROR: int  = 500"
   ]
  },
  {
   "cell_type": "code",
   "execution_count": 34,
   "id": "d9986da9-4c57-4a2e-bb2a-1c80be6da7d1",
   "metadata": {
    "tags": []
   },
   "outputs": [
    {
     "name": "stdout",
     "output_type": "stream",
     "text": [
      "HttpStatusCode.INFORMATIONAL\n"
     ]
    }
   ],
   "source": [
    "print(HttpStatusCode.INFORMATIONAL)"
   ]
  },
  {
   "cell_type": "code",
   "execution_count": 35,
   "id": "44c5a488-28e3-4f6d-b553-51e1e924f516",
   "metadata": {
    "tags": []
   },
   "outputs": [
    {
     "name": "stdout",
     "output_type": "stream",
     "text": [
      "INFORMATIONAL\n"
     ]
    }
   ],
   "source": [
    "print(HttpStatusCode.INFORMATIONAL.name)"
   ]
  },
  {
   "cell_type": "code",
   "execution_count": 36,
   "id": "e3b83891-a11a-4bc2-ad06-b6305f5391ec",
   "metadata": {
    "tags": []
   },
   "outputs": [
    {
     "name": "stdout",
     "output_type": "stream",
     "text": [
      "100\n"
     ]
    }
   ],
   "source": [
    "print(HttpStatusCode.INFORMATIONAL.value)"
   ]
  },
  {
   "cell_type": "markdown",
   "id": "43bea529-7d79-4619-b911-5727eab5e141",
   "metadata": {},
   "source": [
    "### Ukázka na datech\n",
    "\n",
    "---"
   ]
  },
  {
   "cell_type": "markdown",
   "id": "2ff488d0-507a-4c6b-abf8-a491883003d7",
   "metadata": {},
   "source": [
    "Představ si situaci, kdy organizuješ **objednávky ve firmě**:"
   ]
  },
  {
   "cell_type": "code",
   "execution_count": 37,
   "id": "85c1d068-2d2b-4e29-9145-f78dcab23e4f",
   "metadata": {
    "tags": []
   },
   "outputs": [],
   "source": [
    "nahodna_id = [\n",
    "    '1000111',\n",
    "    '1000112',\n",
    "    '1000113',\n",
    "    '1000114',\n",
    "    '1000115',\n",
    "    '1000116',\n",
    "    '1000117',\n",
    "    '1000118',\n",
    "    '1000119',\n",
    "    '1000120',\n",
    "    '1000121',\n",
    "    '1000122',\n",
    "    '1000123',\n",
    "    '1000124',\n",
    "    '1000125',\n",
    "    '1000126',\n",
    "    '1000127',\n",
    "    '1000128',\n",
    "    '1000129',\n",
    "    '1000130'\n",
    "]"
   ]
  },
  {
   "cell_type": "code",
   "execution_count": 38,
   "id": "c73c1986-4da2-411b-9bf6-7933264e9df5",
   "metadata": {
    "tags": []
   },
   "outputs": [],
   "source": [
    "nahodna_data = [\n",
    "    \"2023-01-05\",\n",
    "    \"2023-02-15\",\n",
    "    \"2023-03-20\",\n",
    "    \"2023-04-10\",\n",
    "    \"2023-05-25\",\n",
    "    \"2023-06-08\",\n",
    "    \"2023-07-12\",\n",
    "    \"2023-08-29\",\n",
    "    \"2023-09-18\",\n",
    "    \"2023-10-03\",\n",
    "    \"2023-11-21\",\n",
    "    \"2023-12-09\",\n",
    "    \"2023-01-29\",\n",
    "    \"2023-02-03\",\n",
    "    \"2023-03-14\",\n",
    "    \"2023-04-22\",\n",
    "    \"2023-05-09\",\n",
    "    \"2023-06-30\",\n",
    "    \"2023-07-24\",\n",
    "    \"2023-08-12\"\n",
    "]"
   ]
  },
  {
   "cell_type": "code",
   "execution_count": 39,
   "id": "a3c34787-2b05-4db4-a274-72349d4edcf5",
   "metadata": {
    "tags": []
   },
   "outputs": [],
   "source": [
    "produkty = [\n",
    "    \"Mobilní telefon\",\n",
    "    \"Televize\",\n",
    "    \"Notebook\",\n",
    "    \"Kávovar\",\n",
    "    \"Chladnička\",\n",
    "    \"Mikrovlnná trouba\",\n",
    "    \"Rasový mixér\",\n",
    "    \"Žehlička\",\n",
    "    \"Vysavač\",\n",
    "    \"Herní konzole\",\n",
    "    \"Tablet\",\n",
    "    \"Sluchátka\",\n",
    "    \"Kniha\",\n",
    "    \"Pánská košile\",\n",
    "    \"Dámská sukni\",\n",
    "    \"Tenisová raketa\",\n",
    "    \"Fotokamera\",\n",
    "    \"Stůl\",\n",
    "    \"Židle\",\n",
    "    \"Laptop\"\n",
    "]"
   ]
  },
  {
   "cell_type": "code",
   "execution_count": 40,
   "id": "d86234bb-6ce5-4f47-a4da-fecb7427bee5",
   "metadata": {
    "tags": []
   },
   "outputs": [],
   "source": [
    "stavy_objednavky = [5, 6, 4, 3, 6, 4, 4, 6, 6, 7, 5, 5, 1, 5, 1, 3, 2, 2, 5, 3]"
   ]
  },
  {
   "cell_type": "code",
   "execution_count": 41,
   "id": "9725bcd3-14d7-4e63-8b63-940dd3c2c8bb",
   "metadata": {
    "tags": []
   },
   "outputs": [],
   "source": [
    "from pandas import DataFrame"
   ]
  },
  {
   "cell_type": "code",
   "execution_count": 42,
   "id": "ce6030e4-dfcd-4ede-8925-84f64a5f9840",
   "metadata": {
    "tags": []
   },
   "outputs": [],
   "source": [
    "objednavky_df = DataFrame(\n",
    "    {\n",
    "        \"ID\": nahodna_id,\n",
    "        \"vytvořeno\": nahodna_data,\n",
    "        \"produkt\": produkty,\n",
    "        \"stav\": stavy_objednavky\n",
    "    }\n",
    ")"
   ]
  },
  {
   "cell_type": "code",
   "execution_count": 43,
   "id": "72808e43-0a02-40c0-84a3-ae5bf48e95fb",
   "metadata": {
    "tags": []
   },
   "outputs": [
    {
     "data": {
      "text/html": [
       "<div>\n",
       "<style scoped>\n",
       "    .dataframe tbody tr th:only-of-type {\n",
       "        vertical-align: middle;\n",
       "    }\n",
       "\n",
       "    .dataframe tbody tr th {\n",
       "        vertical-align: top;\n",
       "    }\n",
       "\n",
       "    .dataframe thead th {\n",
       "        text-align: right;\n",
       "    }\n",
       "</style>\n",
       "<table border=\"1\" class=\"dataframe\">\n",
       "  <thead>\n",
       "    <tr style=\"text-align: right;\">\n",
       "      <th></th>\n",
       "      <th>ID</th>\n",
       "      <th>vytvořeno</th>\n",
       "      <th>produkt</th>\n",
       "      <th>stav</th>\n",
       "    </tr>\n",
       "  </thead>\n",
       "  <tbody>\n",
       "    <tr>\n",
       "      <th>0</th>\n",
       "      <td>1000111</td>\n",
       "      <td>2023-01-05</td>\n",
       "      <td>Mobilní telefon</td>\n",
       "      <td>5</td>\n",
       "    </tr>\n",
       "    <tr>\n",
       "      <th>1</th>\n",
       "      <td>1000112</td>\n",
       "      <td>2023-02-15</td>\n",
       "      <td>Televize</td>\n",
       "      <td>6</td>\n",
       "    </tr>\n",
       "    <tr>\n",
       "      <th>2</th>\n",
       "      <td>1000113</td>\n",
       "      <td>2023-03-20</td>\n",
       "      <td>Notebook</td>\n",
       "      <td>4</td>\n",
       "    </tr>\n",
       "    <tr>\n",
       "      <th>3</th>\n",
       "      <td>1000114</td>\n",
       "      <td>2023-04-10</td>\n",
       "      <td>Kávovar</td>\n",
       "      <td>3</td>\n",
       "    </tr>\n",
       "    <tr>\n",
       "      <th>4</th>\n",
       "      <td>1000115</td>\n",
       "      <td>2023-05-25</td>\n",
       "      <td>Chladnička</td>\n",
       "      <td>6</td>\n",
       "    </tr>\n",
       "    <tr>\n",
       "      <th>5</th>\n",
       "      <td>1000116</td>\n",
       "      <td>2023-06-08</td>\n",
       "      <td>Mikrovlnná trouba</td>\n",
       "      <td>4</td>\n",
       "    </tr>\n",
       "    <tr>\n",
       "      <th>6</th>\n",
       "      <td>1000117</td>\n",
       "      <td>2023-07-12</td>\n",
       "      <td>Rasový mixér</td>\n",
       "      <td>4</td>\n",
       "    </tr>\n",
       "    <tr>\n",
       "      <th>7</th>\n",
       "      <td>1000118</td>\n",
       "      <td>2023-08-29</td>\n",
       "      <td>Žehlička</td>\n",
       "      <td>6</td>\n",
       "    </tr>\n",
       "    <tr>\n",
       "      <th>8</th>\n",
       "      <td>1000119</td>\n",
       "      <td>2023-09-18</td>\n",
       "      <td>Vysavač</td>\n",
       "      <td>6</td>\n",
       "    </tr>\n",
       "    <tr>\n",
       "      <th>9</th>\n",
       "      <td>1000120</td>\n",
       "      <td>2023-10-03</td>\n",
       "      <td>Herní konzole</td>\n",
       "      <td>7</td>\n",
       "    </tr>\n",
       "  </tbody>\n",
       "</table>\n",
       "</div>"
      ],
      "text/plain": [
       "        ID   vytvořeno            produkt  stav\n",
       "0  1000111  2023-01-05    Mobilní telefon     5\n",
       "1  1000112  2023-02-15           Televize     6\n",
       "2  1000113  2023-03-20           Notebook     4\n",
       "3  1000114  2023-04-10            Kávovar     3\n",
       "4  1000115  2023-05-25         Chladnička     6\n",
       "5  1000116  2023-06-08  Mikrovlnná trouba     4\n",
       "6  1000117  2023-07-12       Rasový mixér     4\n",
       "7  1000118  2023-08-29           Žehlička     6\n",
       "8  1000119  2023-09-18            Vysavač     6\n",
       "9  1000120  2023-10-03      Herní konzole     7"
      ]
     },
     "execution_count": 43,
     "metadata": {},
     "output_type": "execute_result"
    }
   ],
   "source": [
    "objednavky_df.head(10)"
   ]
  },
  {
   "cell_type": "markdown",
   "id": "cb812585-3bce-4352-82aa-365689e12803",
   "metadata": {},
   "source": [
    "V tomto okamžiku je práce náročná, protože si *konstanty* **jednotlivých stavů objednávky** umíš jen s potížemi přiradit."
   ]
  },
  {
   "cell_type": "markdown",
   "id": "3a732ef4-69e1-4555-a37f-356388cf7aa4",
   "metadata": {},
   "source": [
    "V ukázce jde samozřejmě **o zjednodušená data**. Skutečná data mohou být ještě méně přehledná.\n",
    "\n",
    "Přesto lze v takové situaci globálně nahradit hodnoty pomocí datového typu `Enum`."
   ]
  },
  {
   "cell_type": "code",
   "execution_count": 44,
   "id": "9e6b3363-bcc4-4469-87e3-d41b1f9a915c",
   "metadata": {
    "tags": []
   },
   "outputs": [],
   "source": [
    "class StavObjednavky(Enum):\n",
    "    NOVA = 1\n",
    "    ZPRACOVANA = 2\n",
    "    DOPLNENA = 3\n",
    "    STORNOVANA = 4\n",
    "    REKLAMACE = 5\n",
    "    ODESLANA = 6\n",
    "    PRIJATA = 7"
   ]
  },
  {
   "cell_type": "markdown",
   "id": "416fe945-0bd5-4937-93a5-b421e49eaa2b",
   "metadata": {},
   "source": [
    "Pomocí takového `Enum` objektu můžeš snadno stavy nahradit:"
   ]
  },
  {
   "cell_type": "code",
   "execution_count": 45,
   "id": "6b147d27-5645-443b-9a4f-becbb292cfde",
   "metadata": {
    "tags": []
   },
   "outputs": [],
   "source": [
    "objednavky_df['Nový stav'] = [StavObjednavky(cislo_obj) for cislo_obj in objednavky_df['stav']]"
   ]
  },
  {
   "cell_type": "code",
   "execution_count": 46,
   "id": "9a550953-1793-4066-810f-697aa98e2fc3",
   "metadata": {
    "tags": []
   },
   "outputs": [
    {
     "data": {
      "text/html": [
       "<div>\n",
       "<style scoped>\n",
       "    .dataframe tbody tr th:only-of-type {\n",
       "        vertical-align: middle;\n",
       "    }\n",
       "\n",
       "    .dataframe tbody tr th {\n",
       "        vertical-align: top;\n",
       "    }\n",
       "\n",
       "    .dataframe thead th {\n",
       "        text-align: right;\n",
       "    }\n",
       "</style>\n",
       "<table border=\"1\" class=\"dataframe\">\n",
       "  <thead>\n",
       "    <tr style=\"text-align: right;\">\n",
       "      <th></th>\n",
       "      <th>ID</th>\n",
       "      <th>vytvořeno</th>\n",
       "      <th>produkt</th>\n",
       "      <th>stav</th>\n",
       "      <th>Nový stav</th>\n",
       "    </tr>\n",
       "  </thead>\n",
       "  <tbody>\n",
       "    <tr>\n",
       "      <th>0</th>\n",
       "      <td>1000111</td>\n",
       "      <td>2023-01-05</td>\n",
       "      <td>Mobilní telefon</td>\n",
       "      <td>5</td>\n",
       "      <td>StavObjednavky.REKLAMACE</td>\n",
       "    </tr>\n",
       "    <tr>\n",
       "      <th>1</th>\n",
       "      <td>1000112</td>\n",
       "      <td>2023-02-15</td>\n",
       "      <td>Televize</td>\n",
       "      <td>6</td>\n",
       "      <td>StavObjednavky.ODESLANA</td>\n",
       "    </tr>\n",
       "    <tr>\n",
       "      <th>2</th>\n",
       "      <td>1000113</td>\n",
       "      <td>2023-03-20</td>\n",
       "      <td>Notebook</td>\n",
       "      <td>4</td>\n",
       "      <td>StavObjednavky.STORNOVANA</td>\n",
       "    </tr>\n",
       "    <tr>\n",
       "      <th>3</th>\n",
       "      <td>1000114</td>\n",
       "      <td>2023-04-10</td>\n",
       "      <td>Kávovar</td>\n",
       "      <td>3</td>\n",
       "      <td>StavObjednavky.DOPLNENA</td>\n",
       "    </tr>\n",
       "    <tr>\n",
       "      <th>4</th>\n",
       "      <td>1000115</td>\n",
       "      <td>2023-05-25</td>\n",
       "      <td>Chladnička</td>\n",
       "      <td>6</td>\n",
       "      <td>StavObjednavky.ODESLANA</td>\n",
       "    </tr>\n",
       "    <tr>\n",
       "      <th>5</th>\n",
       "      <td>1000116</td>\n",
       "      <td>2023-06-08</td>\n",
       "      <td>Mikrovlnná trouba</td>\n",
       "      <td>4</td>\n",
       "      <td>StavObjednavky.STORNOVANA</td>\n",
       "    </tr>\n",
       "    <tr>\n",
       "      <th>6</th>\n",
       "      <td>1000117</td>\n",
       "      <td>2023-07-12</td>\n",
       "      <td>Rasový mixér</td>\n",
       "      <td>4</td>\n",
       "      <td>StavObjednavky.STORNOVANA</td>\n",
       "    </tr>\n",
       "    <tr>\n",
       "      <th>7</th>\n",
       "      <td>1000118</td>\n",
       "      <td>2023-08-29</td>\n",
       "      <td>Žehlička</td>\n",
       "      <td>6</td>\n",
       "      <td>StavObjednavky.ODESLANA</td>\n",
       "    </tr>\n",
       "    <tr>\n",
       "      <th>8</th>\n",
       "      <td>1000119</td>\n",
       "      <td>2023-09-18</td>\n",
       "      <td>Vysavač</td>\n",
       "      <td>6</td>\n",
       "      <td>StavObjednavky.ODESLANA</td>\n",
       "    </tr>\n",
       "    <tr>\n",
       "      <th>9</th>\n",
       "      <td>1000120</td>\n",
       "      <td>2023-10-03</td>\n",
       "      <td>Herní konzole</td>\n",
       "      <td>7</td>\n",
       "      <td>StavObjednavky.PRIJATA</td>\n",
       "    </tr>\n",
       "  </tbody>\n",
       "</table>\n",
       "</div>"
      ],
      "text/plain": [
       "        ID   vytvořeno            produkt  stav                  Nový stav\n",
       "0  1000111  2023-01-05    Mobilní telefon     5   StavObjednavky.REKLAMACE\n",
       "1  1000112  2023-02-15           Televize     6    StavObjednavky.ODESLANA\n",
       "2  1000113  2023-03-20           Notebook     4  StavObjednavky.STORNOVANA\n",
       "3  1000114  2023-04-10            Kávovar     3    StavObjednavky.DOPLNENA\n",
       "4  1000115  2023-05-25         Chladnička     6    StavObjednavky.ODESLANA\n",
       "5  1000116  2023-06-08  Mikrovlnná trouba     4  StavObjednavky.STORNOVANA\n",
       "6  1000117  2023-07-12       Rasový mixér     4  StavObjednavky.STORNOVANA\n",
       "7  1000118  2023-08-29           Žehlička     6    StavObjednavky.ODESLANA\n",
       "8  1000119  2023-09-18            Vysavač     6    StavObjednavky.ODESLANA\n",
       "9  1000120  2023-10-03      Herní konzole     7     StavObjednavky.PRIJATA"
      ]
     },
     "execution_count": 46,
     "metadata": {},
     "output_type": "execute_result"
    }
   ],
   "source": [
    "objednavky_df.head(10)"
   ]
  },
  {
   "cell_type": "markdown",
   "id": "4d3c6fa7-eaba-45c2-9373-0390e9c519dc",
   "metadata": {},
   "source": [
    "*Seskupovat* a *filtrovat* můžeš také celočíselné hodnoty, ale v tomto případě okamžitě vidíš stav:"
   ]
  },
  {
   "cell_type": "code",
   "execution_count": 48,
   "id": "aed13188-36e9-4574-9647-d52fc5b0dfb5",
   "metadata": {
    "tags": []
   },
   "outputs": [
    {
     "data": {
      "text/html": [
       "<div>\n",
       "<style scoped>\n",
       "    .dataframe tbody tr th:only-of-type {\n",
       "        vertical-align: middle;\n",
       "    }\n",
       "\n",
       "    .dataframe tbody tr th {\n",
       "        vertical-align: top;\n",
       "    }\n",
       "\n",
       "    .dataframe thead th {\n",
       "        text-align: right;\n",
       "    }\n",
       "</style>\n",
       "<table border=\"1\" class=\"dataframe\">\n",
       "  <thead>\n",
       "    <tr style=\"text-align: right;\">\n",
       "      <th></th>\n",
       "      <th>ID</th>\n",
       "      <th>vytvořeno</th>\n",
       "      <th>produkt</th>\n",
       "      <th>stav</th>\n",
       "      <th>Nový stav</th>\n",
       "    </tr>\n",
       "  </thead>\n",
       "  <tbody>\n",
       "    <tr>\n",
       "      <th>12</th>\n",
       "      <td>1000123</td>\n",
       "      <td>2023-01-29</td>\n",
       "      <td>Kniha</td>\n",
       "      <td>1</td>\n",
       "      <td>StavObjednavky.NOVA</td>\n",
       "    </tr>\n",
       "    <tr>\n",
       "      <th>14</th>\n",
       "      <td>1000125</td>\n",
       "      <td>2023-03-14</td>\n",
       "      <td>Dámská sukni</td>\n",
       "      <td>1</td>\n",
       "      <td>StavObjednavky.NOVA</td>\n",
       "    </tr>\n",
       "  </tbody>\n",
       "</table>\n",
       "</div>"
      ],
      "text/plain": [
       "         ID   vytvořeno       produkt  stav            Nový stav\n",
       "12  1000123  2023-01-29         Kniha     1  StavObjednavky.NOVA\n",
       "14  1000125  2023-03-14  Dámská sukni     1  StavObjednavky.NOVA"
      ]
     },
     "execution_count": 48,
     "metadata": {},
     "output_type": "execute_result"
    }
   ],
   "source": [
    "objednavky_df[objednavky_df['Nový stav'] == StavObjednavky.NOVA]"
   ]
  },
  {
   "cell_type": "markdown",
   "id": "85ce40ee-9d25-45f7-b848-421fdb90aca1",
   "metadata": {},
   "source": [
    "Takhle se můžeš **rychleji a příjemněji** začít orientovat v datech."
   ]
  },
  {
   "cell_type": "markdown",
   "id": "f863b024-3d12-4171-a250-85605fad0c70",
   "metadata": {},
   "source": [
    "Nové očíslované objekty můžeš snadno vytvořit ihned pomocí celého čísla:"
   ]
  },
  {
   "cell_type": "code",
   "execution_count": 49,
   "id": "fe603a7f-8a90-460d-af5c-7a4c5bd37a63",
   "metadata": {
    "tags": []
   },
   "outputs": [],
   "source": [
    "objednavka_111 = StavObjednavky(2)"
   ]
  },
  {
   "cell_type": "code",
   "execution_count": 50,
   "id": "8b293d39-cb7a-456e-a5c0-9e0439375e56",
   "metadata": {
    "tags": []
   },
   "outputs": [
    {
     "name": "stdout",
     "output_type": "stream",
     "text": [
      "StavObjednavky.ZPRACOVANA\n"
     ]
    }
   ],
   "source": [
    "print(objednavka_111)"
   ]
  },
  {
   "cell_type": "markdown",
   "id": "57993df3-cb00-4058-a2eb-b96e37114778",
   "metadata": {},
   "source": [
    "Pokud nepoužiješ validní hodnotu z definice `StavObjednavky`, dostaneš příslušnou výjimku:"
   ]
  },
  {
   "cell_type": "code",
   "execution_count": 51,
   "id": "272c0865-d8d3-4c23-bfc0-749bf21e05b8",
   "metadata": {
    "tags": []
   },
   "outputs": [
    {
     "ename": "ValueError",
     "evalue": "10 is not a valid StavObjednavky",
     "output_type": "error",
     "traceback": [
      "\u001b[0;31m---------------------------------------------------------------------------\u001b[0m",
      "\u001b[0;31mValueError\u001b[0m                                Traceback (most recent call last)",
      "Cell \u001b[0;32mIn[51], line 1\u001b[0m\n\u001b[0;32m----> 1\u001b[0m objednavka_112 \u001b[38;5;241m=\u001b[39m \u001b[43mStavObjednavky\u001b[49m\u001b[43m(\u001b[49m\u001b[38;5;241;43m10\u001b[39;49m\u001b[43m)\u001b[49m\n",
      "File \u001b[0;32m/usr/lib/python3.8/enum.py:339\u001b[0m, in \u001b[0;36mEnumMeta.__call__\u001b[0;34m(cls, value, names, module, qualname, type, start)\u001b[0m\n\u001b[1;32m    314\u001b[0m \u001b[38;5;250m\u001b[39m\u001b[38;5;124;03m\"\"\"\u001b[39;00m\n\u001b[1;32m    315\u001b[0m \u001b[38;5;124;03mEither returns an existing member, or creates a new enum class.\u001b[39;00m\n\u001b[1;32m    316\u001b[0m \n\u001b[0;32m   (...)\u001b[0m\n\u001b[1;32m    336\u001b[0m \u001b[38;5;124;03m`type`, if set, will be mixed in as the first base class.\u001b[39;00m\n\u001b[1;32m    337\u001b[0m \u001b[38;5;124;03m\"\"\"\u001b[39;00m\n\u001b[1;32m    338\u001b[0m \u001b[38;5;28;01mif\u001b[39;00m names \u001b[38;5;129;01mis\u001b[39;00m \u001b[38;5;28;01mNone\u001b[39;00m:  \u001b[38;5;66;03m# simple value lookup\u001b[39;00m\n\u001b[0;32m--> 339\u001b[0m     \u001b[38;5;28;01mreturn\u001b[39;00m \u001b[38;5;28;43mcls\u001b[39;49m\u001b[38;5;241;43m.\u001b[39;49m\u001b[38;5;21;43m__new__\u001b[39;49m\u001b[43m(\u001b[49m\u001b[38;5;28;43mcls\u001b[39;49m\u001b[43m,\u001b[49m\u001b[43m \u001b[49m\u001b[43mvalue\u001b[49m\u001b[43m)\u001b[49m\n\u001b[1;32m    340\u001b[0m \u001b[38;5;66;03m# otherwise, functional API: we're creating a new Enum type\u001b[39;00m\n\u001b[1;32m    341\u001b[0m \u001b[38;5;28;01mreturn\u001b[39;00m \u001b[38;5;28mcls\u001b[39m\u001b[38;5;241m.\u001b[39m_create_(\n\u001b[1;32m    342\u001b[0m         value,\n\u001b[1;32m    343\u001b[0m         names,\n\u001b[0;32m   (...)\u001b[0m\n\u001b[1;32m    347\u001b[0m         start\u001b[38;5;241m=\u001b[39mstart,\n\u001b[1;32m    348\u001b[0m         )\n",
      "File \u001b[0;32m/usr/lib/python3.8/enum.py:663\u001b[0m, in \u001b[0;36mEnum.__new__\u001b[0;34m(cls, value)\u001b[0m\n\u001b[1;32m    661\u001b[0m ve_exc \u001b[38;5;241m=\u001b[39m \u001b[38;5;167;01mValueError\u001b[39;00m(\u001b[38;5;124m\"\u001b[39m\u001b[38;5;132;01m%r\u001b[39;00m\u001b[38;5;124m is not a valid \u001b[39m\u001b[38;5;132;01m%s\u001b[39;00m\u001b[38;5;124m\"\u001b[39m \u001b[38;5;241m%\u001b[39m (value, \u001b[38;5;28mcls\u001b[39m\u001b[38;5;241m.\u001b[39m\u001b[38;5;18m__name__\u001b[39m))\n\u001b[1;32m    662\u001b[0m \u001b[38;5;28;01mif\u001b[39;00m result \u001b[38;5;129;01mis\u001b[39;00m \u001b[38;5;28;01mNone\u001b[39;00m \u001b[38;5;129;01mand\u001b[39;00m exc \u001b[38;5;129;01mis\u001b[39;00m \u001b[38;5;28;01mNone\u001b[39;00m:\n\u001b[0;32m--> 663\u001b[0m     \u001b[38;5;28;01mraise\u001b[39;00m ve_exc\n\u001b[1;32m    664\u001b[0m \u001b[38;5;28;01melif\u001b[39;00m exc \u001b[38;5;129;01mis\u001b[39;00m \u001b[38;5;28;01mNone\u001b[39;00m:\n\u001b[1;32m    665\u001b[0m     exc \u001b[38;5;241m=\u001b[39m \u001b[38;5;167;01mTypeError\u001b[39;00m(\n\u001b[1;32m    666\u001b[0m             \u001b[38;5;124m'\u001b[39m\u001b[38;5;124merror in \u001b[39m\u001b[38;5;132;01m%s\u001b[39;00m\u001b[38;5;124m._missing_: returned \u001b[39m\u001b[38;5;132;01m%r\u001b[39;00m\u001b[38;5;124m instead of None or a valid member\u001b[39m\u001b[38;5;124m'\u001b[39m\n\u001b[1;32m    667\u001b[0m             \u001b[38;5;241m%\u001b[39m (\u001b[38;5;28mcls\u001b[39m\u001b[38;5;241m.\u001b[39m\u001b[38;5;18m__name__\u001b[39m, result)\n\u001b[1;32m    668\u001b[0m             )\n",
      "\u001b[0;31mValueError\u001b[0m: 10 is not a valid StavObjednavky"
     ]
    }
   ],
   "source": [
    "objednavka_112 = StavObjednavky(10)"
   ]
  },
  {
   "cell_type": "markdown",
   "id": "d59f3708-2269-4add-a7ef-4497a1e2e769",
   "metadata": {},
   "source": [
    "### Definice nového ENUM objektu\n",
    "\n",
    "---"
   ]
  },
  {
   "cell_type": "markdown",
   "id": "4ce2ee50-b29d-48e6-9ee3-09882a2ea3cb",
   "metadata": {},
   "source": [
    "Kromě klasického zápisu pomocí třídních atributů pod sebou, můžeš vyzkoušet také variantu *vícenásobného přiřazování*:"
   ]
  },
  {
   "cell_type": "code",
   "execution_count": 52,
   "id": "f7e53b63-9a9c-469d-9bbd-28498ae05c83",
   "metadata": {
    "tags": []
   },
   "outputs": [],
   "source": [
    "NOVA, ZPRACOVANA, DOPLNENA = range(1, 4)"
   ]
  },
  {
   "cell_type": "code",
   "execution_count": 53,
   "id": "ea8e40b8-2cc5-4d79-bea1-b327a80bdc71",
   "metadata": {
    "tags": []
   },
   "outputs": [
    {
     "name": "stdout",
     "output_type": "stream",
     "text": [
      "1\n"
     ]
    }
   ],
   "source": [
    "print(NOVA)"
   ]
  },
  {
   "cell_type": "code",
   "execution_count": 54,
   "id": "a571daa4-5a26-4f17-8c78-b0d7bec267e9",
   "metadata": {
    "tags": []
   },
   "outputs": [
    {
     "name": "stdout",
     "output_type": "stream",
     "text": [
      "3\n"
     ]
    }
   ],
   "source": [
    "print(DOPLNENA)"
   ]
  },
  {
   "cell_type": "markdown",
   "id": "ffdd1049-22df-4006-b6e9-910d585de6ae",
   "metadata": {},
   "source": [
    "Takto zadané konstanty by zůstali roztroušené ve tvém pracovním prostředí.\n",
    "\n",
    "Jejich dohledání, příp. rozšiřování by nebylo jednotné a efektivní.\n",
    "\n",
    "<br>\n",
    "\n",
    "Tento princip lze využít také při definici třídy:"
   ]
  },
  {
   "cell_type": "code",
   "execution_count": 55,
   "id": "73bab8b0-049c-4b0f-bec8-2bce166d1c4a",
   "metadata": {
    "tags": []
   },
   "outputs": [],
   "source": [
    "class StavObjednavky(Enum):\n",
    "    NOVA, ZPRACOVANA, DOPLNENA = range(1, 4)"
   ]
  },
  {
   "cell_type": "code",
   "execution_count": 56,
   "id": "0a301021-7282-4ca0-a538-6e071fc54962",
   "metadata": {
    "tags": []
   },
   "outputs": [],
   "source": [
    "objednavka_113 = StavObjednavky(3)"
   ]
  },
  {
   "cell_type": "code",
   "execution_count": 57,
   "id": "8071772b-24e4-4cea-aa92-2c3491814434",
   "metadata": {
    "tags": []
   },
   "outputs": [
    {
     "name": "stdout",
     "output_type": "stream",
     "text": [
      "<enum 'StavObjednavky'>\n"
     ]
    }
   ],
   "source": [
    "print(type(objednavka_113))"
   ]
  },
  {
   "cell_type": "code",
   "execution_count": 58,
   "id": "95c50608-6ad0-4c64-ad5b-824191174480",
   "metadata": {
    "tags": []
   },
   "outputs": [
    {
     "name": "stdout",
     "output_type": "stream",
     "text": [
      "[<StavObjednavky.NOVA: 1>, <StavObjednavky.ZPRACOVANA: 2>, <StavObjednavky.DOPLNENA: 3>]\n"
     ]
    }
   ],
   "source": [
    "print(list(StavObjednavky))"
   ]
  },
  {
   "cell_type": "markdown",
   "id": "3e35cc92-73ab-4871-85ab-cf14afe8990e",
   "metadata": {},
   "source": [
    "Protože `Enum` je soubor konstant, po definici jej nemůžeš přepisovat:"
   ]
  },
  {
   "cell_type": "code",
   "execution_count": 59,
   "id": "15d99b2e-0544-49f3-9295-153b24e9056c",
   "metadata": {
    "tags": []
   },
   "outputs": [
    {
     "ename": "AttributeError",
     "evalue": "Cannot reassign members.",
     "output_type": "error",
     "traceback": [
      "\u001b[0;31m---------------------------------------------------------------------------\u001b[0m",
      "\u001b[0;31mAttributeError\u001b[0m                            Traceback (most recent call last)",
      "Cell \u001b[0;32mIn[59], line 1\u001b[0m\n\u001b[0;32m----> 1\u001b[0m \u001b[43mStavObjednavky\u001b[49m\u001b[38;5;241;43m.\u001b[39;49m\u001b[43mNOVA\u001b[49m \u001b[38;5;241m=\u001b[39m \u001b[38;5;241m4\u001b[39m\n",
      "File \u001b[0;32m/usr/lib/python3.8/enum.py:427\u001b[0m, in \u001b[0;36mEnumMeta.__setattr__\u001b[0;34m(cls, name, value)\u001b[0m\n\u001b[1;32m    425\u001b[0m member_map \u001b[38;5;241m=\u001b[39m \u001b[38;5;28mcls\u001b[39m\u001b[38;5;241m.\u001b[39m\u001b[38;5;18m__dict__\u001b[39m\u001b[38;5;241m.\u001b[39mget(\u001b[38;5;124m'\u001b[39m\u001b[38;5;124m_member_map_\u001b[39m\u001b[38;5;124m'\u001b[39m, {})\n\u001b[1;32m    426\u001b[0m \u001b[38;5;28;01mif\u001b[39;00m name \u001b[38;5;129;01min\u001b[39;00m member_map:\n\u001b[0;32m--> 427\u001b[0m     \u001b[38;5;28;01mraise\u001b[39;00m \u001b[38;5;167;01mAttributeError\u001b[39;00m(\u001b[38;5;124m'\u001b[39m\u001b[38;5;124mCannot reassign members.\u001b[39m\u001b[38;5;124m'\u001b[39m)\n\u001b[1;32m    428\u001b[0m \u001b[38;5;28msuper\u001b[39m()\u001b[38;5;241m.\u001b[39m\u001b[38;5;21m__setattr__\u001b[39m(name, value)\n",
      "\u001b[0;31mAttributeError\u001b[0m: Cannot reassign members."
     ]
    }
   ],
   "source": [
    "StavObjednavky.NOVA = 4"
   ]
  },
  {
   "cell_type": "markdown",
   "id": "01deff84-60e0-43c5-bff7-e70068c9f284",
   "metadata": {},
   "source": [
    "Přesto, že jde o objekt definovaný pomocí slova `class`, nejde o *klasickou třídu*.\n",
    "\n",
    "`Enum` třídy nemají `__init__` metodu, takže je nelze *instancovat*.\n",
    "\n",
    "<br>\n",
    "\n",
    "Můžeš pracovat jak s hodnotami typu `int`, `str` a `bool`.\n",
    "\n",
    "<br>\n",
    "\n",
    "Případně pracovat **s automatickou hodnotou**:"
   ]
  },
  {
   "cell_type": "code",
   "execution_count": 60,
   "id": "18064fdd-57e3-414e-81ae-f780d364820d",
   "metadata": {
    "tags": []
   },
   "outputs": [],
   "source": [
    "from enum import auto"
   ]
  },
  {
   "cell_type": "code",
   "execution_count": 61,
   "id": "46ca015a-09a4-4268-aa05-800d61214010",
   "metadata": {
    "tags": []
   },
   "outputs": [],
   "source": [
    "class StavObjednavky(Enum):\n",
    "    NOVA = auto()\n",
    "    ZPRACOVANA = auto()\n",
    "    DOPLNENA = auto()\n",
    "    STORNOVANA = auto()\n",
    "    REKLAMACE = auto()\n",
    "    ODESLANA = auto()\n",
    "    PRIJATA = auto()"
   ]
  },
  {
   "cell_type": "code",
   "execution_count": 62,
   "id": "78393334-d3af-439e-abc1-08f44a0f5917",
   "metadata": {
    "tags": []
   },
   "outputs": [
    {
     "name": "stdout",
     "output_type": "stream",
     "text": [
      "[<StavObjednavky.NOVA: 1>, <StavObjednavky.ZPRACOVANA: 2>, <StavObjednavky.DOPLNENA: 3>, <StavObjednavky.STORNOVANA: 4>, <StavObjednavky.REKLAMACE: 5>, <StavObjednavky.ODESLANA: 6>, <StavObjednavky.PRIJATA: 7>]\n"
     ]
    }
   ],
   "source": [
    "print(list(StavObjednavky))"
   ]
  },
  {
   "cell_type": "markdown",
   "id": "8270ac74-d0df-48e6-bf5c-82f2d2c5d7e6",
   "metadata": {},
   "source": [
    "Pokud by ti ale takové defaultní chování nestačilo, můžeš si nastavit vlastní.\n",
    "\n",
    "Přepíšeš původní metodu `_generate_next_value_`:"
   ]
  },
  {
   "cell_type": "code",
   "execution_count": 64,
   "id": "fb120d63-f9bf-410a-b2cb-36dfd3f76958",
   "metadata": {},
   "outputs": [],
   "source": [
    "class StavObjednavky(Enum):\n",
    "    def _generate_next_value_(name, start, count, last_values):\n",
    "        return name[0]\n",
    "    \n",
    "    NOVA = auto()\n",
    "    ZPRACOVANA = auto()\n",
    "    DOPLNENA = auto()\n",
    "    STORNOVANA = auto()\n",
    "    REKLAMACE = auto()\n",
    "    ODESLANA = auto()\n",
    "    PRIJATA = auto()"
   ]
  },
  {
   "cell_type": "code",
   "execution_count": 65,
   "id": "6c44e053-f33a-46aa-a7ca-6b265281c384",
   "metadata": {
    "tags": []
   },
   "outputs": [
    {
     "name": "stdout",
     "output_type": "stream",
     "text": [
      "[<StavObjednavky.NOVA: 'N'>, <StavObjednavky.ZPRACOVANA: 'Z'>, <StavObjednavky.DOPLNENA: 'D'>, <StavObjednavky.STORNOVANA: 'S'>, <StavObjednavky.REKLAMACE: 'R'>, <StavObjednavky.ODESLANA: 'O'>, <StavObjednavky.PRIJATA: 'P'>]\n"
     ]
    }
   ],
   "source": [
    "print(list(StavObjednavky))"
   ]
  },
  {
   "cell_type": "markdown",
   "id": "6ab2aed7-b929-4213-837b-71e70152240d",
   "metadata": {},
   "source": [
    "Pokud se do toho pustíš, musíš metodu přepsat **ihned pod definici třídy**."
   ]
  },
  {
   "cell_type": "code",
   "execution_count": 63,
   "id": "297614e3-31b4-4fad-afe2-47c9b7e258fc",
   "metadata": {
    "tags": []
   },
   "outputs": [
    {
     "ename": "TypeError",
     "evalue": "_generate_next_value_ must be defined before members",
     "output_type": "error",
     "traceback": [
      "\u001b[0;31m---------------------------------------------------------------------------\u001b[0m",
      "\u001b[0;31mTypeError\u001b[0m                                 Traceback (most recent call last)",
      "Cell \u001b[0;32mIn[63], line 1\u001b[0m\n\u001b[0;32m----> 1\u001b[0m \u001b[38;5;28;01mclass\u001b[39;00m \u001b[38;5;21;01mStavObjednavky\u001b[39;00m(Enum):\n\u001b[1;32m      2\u001b[0m     NOVA \u001b[38;5;241m=\u001b[39m auto()\n\u001b[1;32m      3\u001b[0m     ZPRACOVANA \u001b[38;5;241m=\u001b[39m auto()\n",
      "Cell \u001b[0;32mIn[63], line 10\u001b[0m, in \u001b[0;36mStavObjednavky\u001b[0;34m()\u001b[0m\n\u001b[1;32m      7\u001b[0m ODESLANA \u001b[38;5;241m=\u001b[39m auto()\n\u001b[1;32m      8\u001b[0m PRIJATA \u001b[38;5;241m=\u001b[39m auto()\n\u001b[0;32m---> 10\u001b[0m \u001b[38;5;28;01mdef\u001b[39;00m \u001b[38;5;21m_generate_next_value_\u001b[39m(name, start, count, last_values):\n\u001b[1;32m     11\u001b[0m     \u001b[38;5;28;01mreturn\u001b[39;00m name[\u001b[38;5;241m0\u001b[39m]\n",
      "File \u001b[0;32m/usr/lib/python3.8/enum.py:93\u001b[0m, in \u001b[0;36m_EnumDict.__setitem__\u001b[0;34m(self, key, value)\u001b[0m\n\u001b[1;32m     90\u001b[0m \u001b[38;5;28;01mif\u001b[39;00m key \u001b[38;5;241m==\u001b[39m \u001b[38;5;124m'\u001b[39m\u001b[38;5;124m_generate_next_value_\u001b[39m\u001b[38;5;124m'\u001b[39m:\n\u001b[1;32m     91\u001b[0m     \u001b[38;5;66;03m# check if members already defined as auto()\u001b[39;00m\n\u001b[1;32m     92\u001b[0m     \u001b[38;5;28;01mif\u001b[39;00m \u001b[38;5;28mself\u001b[39m\u001b[38;5;241m.\u001b[39m_auto_called:\n\u001b[0;32m---> 93\u001b[0m         \u001b[38;5;28;01mraise\u001b[39;00m \u001b[38;5;167;01mTypeError\u001b[39;00m(\u001b[38;5;124m\"\u001b[39m\u001b[38;5;124m_generate_next_value_ must be defined before members\u001b[39m\u001b[38;5;124m\"\u001b[39m)\n\u001b[1;32m     94\u001b[0m     \u001b[38;5;28msetattr\u001b[39m(\u001b[38;5;28mself\u001b[39m, \u001b[38;5;124m'\u001b[39m\u001b[38;5;124m_generate_next_value\u001b[39m\u001b[38;5;124m'\u001b[39m, value)\n\u001b[1;32m     95\u001b[0m \u001b[38;5;28;01melif\u001b[39;00m key \u001b[38;5;241m==\u001b[39m \u001b[38;5;124m'\u001b[39m\u001b[38;5;124m_ignore_\u001b[39m\u001b[38;5;124m'\u001b[39m:\n",
      "\u001b[0;31mTypeError\u001b[0m: _generate_next_value_ must be defined before members"
     ]
    }
   ],
   "source": [
    "class StavObjednavky(Enum):\n",
    "    NOVA = auto()\n",
    "    ZPRACOVANA = auto()\n",
    "    DOPLNENA = auto()\n",
    "    STORNOVANA = auto()\n",
    "    REKLAMACE = auto()\n",
    "    ODESLANA = auto()\n",
    "    PRIJATA = auto()\n",
    "    \n",
    "    def _generate_next_value_(name, start, count, last_values):\n",
    "        return name[0]"
   ]
  },
  {
   "cell_type": "markdown",
   "id": "42568163-9b5a-4f76-9a22-5ac132ff3f39",
   "metadata": {},
   "source": [
    "Dále musíš **označit všechny parametry**."
   ]
  },
  {
   "cell_type": "code",
   "execution_count": 66,
   "id": "7b182dc2-eedd-4b2c-826d-0b9fb2fbba9c",
   "metadata": {
    "tags": []
   },
   "outputs": [],
   "source": [
    "class StavObjednavky(Enum):\n",
    "    NOVA = auto()\n",
    "    ZPRACOVANA = auto()\n",
    "    DOPLNENA = auto()\n",
    "    STORNOVANA = auto()\n",
    "    REKLAMACE = auto()\n",
    "    ODESLANA = auto()\n",
    "    PRIJATA = auto()"
   ]
  },
  {
   "cell_type": "markdown",
   "id": "a5111435-c387-4d5f-9e8c-b6210f30897f",
   "metadata": {},
   "source": [
    "Stačí ovšem **pozičně**, nikoliv proměnnými."
   ]
  },
  {
   "cell_type": "code",
   "execution_count": 67,
   "id": "19a5a021-381b-4e1c-8473-7726a2dd80d9",
   "metadata": {
    "tags": []
   },
   "outputs": [
    {
     "name": "stdout",
     "output_type": "stream",
     "text": [
      "[<StavObjednavky.NOVA: 1>, <StavObjednavky.ZPRACOVANA: 2>, <StavObjednavky.DOPLNENA: 3>, <StavObjednavky.STORNOVANA: 4>, <StavObjednavky.REKLAMACE: 5>, <StavObjednavky.ODESLANA: 6>, <StavObjednavky.PRIJATA: 7>]\n"
     ]
    }
   ],
   "source": [
    "print(list(StavObjednavky))"
   ]
  },
  {
   "cell_type": "markdown",
   "id": "6f2f7c78-94d1-4d56-9c3d-fa43f0b996d2",
   "metadata": {},
   "source": [
    "Použití bez `Enum`:"
   ]
  },
  {
   "cell_type": "code",
   "execution_count": 77,
   "id": "bf57f04d-7f29-4731-8be9-39826504c3e3",
   "metadata": {
    "tags": []
   },
   "outputs": [],
   "source": [
    "def doba_dodani(oznaceni: int) -> int:\n",
    "    \"\"\"\n",
    "    Vyhodnotí, jak dlouho bude objednávka trvat.\n",
    "    \"\"\"\n",
    "    if oznaceni in {1, 2}:\n",
    "        result = 6\n",
    "    elif oznaceni == 3:\n",
    "        result = 3\n",
    "    elif oznaceni == 6:\n",
    "        result = 2\n",
    "    else:\n",
    "        result = 0\n",
    "    return result"
   ]
  },
  {
   "cell_type": "code",
   "execution_count": 69,
   "id": "82f728a3-a957-4c94-bd7c-8767d6b927e0",
   "metadata": {
    "tags": []
   },
   "outputs": [
    {
     "data": {
      "text/plain": [
       "6"
      ]
     },
     "execution_count": 69,
     "metadata": {},
     "output_type": "execute_result"
    }
   ],
   "source": [
    "doba_dodani(1)"
   ]
  },
  {
   "cell_type": "code",
   "execution_count": 78,
   "id": "03c23088-56ea-4da2-a44f-c82e9e4f9328",
   "metadata": {
    "tags": []
   },
   "outputs": [
    {
     "data": {
      "text/plain": [
       "6"
      ]
     },
     "execution_count": 78,
     "metadata": {},
     "output_type": "execute_result"
    }
   ],
   "source": [
    "doba_dodani(2)"
   ]
  },
  {
   "cell_type": "code",
   "execution_count": 70,
   "id": "06a90811-13ee-4d66-a513-d322f11d547c",
   "metadata": {
    "tags": []
   },
   "outputs": [
    {
     "data": {
      "text/plain": [
       "0"
      ]
     },
     "execution_count": 70,
     "metadata": {},
     "output_type": "execute_result"
    }
   ],
   "source": [
    "doba_dodani(5)"
   ]
  },
  {
   "cell_type": "code",
   "execution_count": 72,
   "id": "ef51d731-663f-4a9a-9154-e1f998435995",
   "metadata": {
    "tags": []
   },
   "outputs": [],
   "source": [
    "def doba_dodani(oznaceni: Enum) -> int:\n",
    "    \"\"\"\n",
    "    Vyhodnotí, jak dlouho bude objednávka trvat.\n",
    "    \"\"\"\n",
    "    if oznaceni.value in {1, 2}:\n",
    "        result = 6\n",
    "    elif oznaceni.value == 3:\n",
    "        result = 3\n",
    "    elif oznaceni.value == 6:\n",
    "        result = 2\n",
    "    else:\n",
    "        result = 0\n",
    "    return result"
   ]
  },
  {
   "cell_type": "code",
   "execution_count": 73,
   "id": "1f356144-9e9f-45e7-bf87-fae129bf217a",
   "metadata": {
    "tags": []
   },
   "outputs": [],
   "source": [
    "objednavka_114 = StavObjednavky(2)"
   ]
  },
  {
   "cell_type": "code",
   "execution_count": 74,
   "id": "8a5a45d8-3b19-4bad-a279-1a531cc38a1b",
   "metadata": {
    "tags": []
   },
   "outputs": [
    {
     "name": "stdout",
     "output_type": "stream",
     "text": [
      "StavObjednavky.ZPRACOVANA\n"
     ]
    }
   ],
   "source": [
    "print(objednavka_114)"
   ]
  },
  {
   "cell_type": "code",
   "execution_count": 75,
   "id": "344f972f-d0bb-436e-8874-4fe06d63653a",
   "metadata": {
    "tags": []
   },
   "outputs": [
    {
     "data": {
      "text/plain": [
       "6"
      ]
     },
     "execution_count": 75,
     "metadata": {},
     "output_type": "execute_result"
    }
   ],
   "source": [
    "doba_dodani(objednavka_114)"
   ]
  },
  {
   "cell_type": "markdown",
   "id": "9f79e5fc-2a05-4460-99d3-8628e1bccbfa",
   "metadata": {},
   "source": [
    "Celý zápis ale lze doplnit řešením pomocí třídní metody `@classmethod`:"
   ]
  },
  {
   "cell_type": "code",
   "execution_count": 79,
   "id": "6d9d0d96-c29d-4fa0-bbcd-7362a78b715e",
   "metadata": {
    "tags": []
   },
   "outputs": [],
   "source": [
    "class StavObjednavky(Enum):\n",
    "    NOVA = auto()\n",
    "    ZPRACOVANA = auto()\n",
    "    DOPLNENA = auto()\n",
    "    STORNOVANA = auto()\n",
    "    REKLAMACE = auto()\n",
    "    ODESLANA = auto()\n",
    "    PRIJATA = auto()\n",
    "    \n",
    "    @classmethod\n",
    "    def ziskej_dobu_dodani(cls, status: StavObjednavky) -> int:\n",
    "        if status == cls.NOVA:\n",
    "            return 6\n",
    "        elif status == cls.ZPRACOVANA:\n",
    "            return 3\n",
    "        elif status == cls.ODESLANA:\n",
    "            return 2\n",
    "        else:\n",
    "            return 0\n",
    "            # raise Exception('Objednavka není aktivní')"
   ]
  },
  {
   "cell_type": "code",
   "execution_count": 80,
   "id": "53e1681d-0bfe-42d4-ae89-b6c854df4ac2",
   "metadata": {
    "tags": []
   },
   "outputs": [],
   "source": [
    "dodaci_doba = StavObjednavky.ziskej_dobu_dodani(StavObjednavky(2))"
   ]
  },
  {
   "cell_type": "code",
   "execution_count": 81,
   "id": "87585164-1907-4eff-8681-aa03e7d52ae5",
   "metadata": {
    "tags": []
   },
   "outputs": [
    {
     "name": "stdout",
     "output_type": "stream",
     "text": [
      "3\n"
     ]
    }
   ],
   "source": [
    "print(dodaci_doba)"
   ]
  },
  {
   "cell_type": "markdown",
   "id": "9ea8debe-fd5a-4e3b-9bdf-9321dc9df15f",
   "metadata": {},
   "source": [
    "Pokud chceš zadat do tabulky nový sloupeček:"
   ]
  },
  {
   "cell_type": "code",
   "execution_count": 82,
   "id": "9323eaf7-1136-4728-93a1-91d1e417b611",
   "metadata": {
    "tags": []
   },
   "outputs": [
    {
     "data": {
      "text/html": [
       "<div>\n",
       "<style scoped>\n",
       "    .dataframe tbody tr th:only-of-type {\n",
       "        vertical-align: middle;\n",
       "    }\n",
       "\n",
       "    .dataframe tbody tr th {\n",
       "        vertical-align: top;\n",
       "    }\n",
       "\n",
       "    .dataframe thead th {\n",
       "        text-align: right;\n",
       "    }\n",
       "</style>\n",
       "<table border=\"1\" class=\"dataframe\">\n",
       "  <thead>\n",
       "    <tr style=\"text-align: right;\">\n",
       "      <th></th>\n",
       "      <th>ID</th>\n",
       "      <th>vytvořeno</th>\n",
       "      <th>produkt</th>\n",
       "      <th>stav</th>\n",
       "      <th>Nový stav</th>\n",
       "    </tr>\n",
       "  </thead>\n",
       "  <tbody>\n",
       "    <tr>\n",
       "      <th>0</th>\n",
       "      <td>1000111</td>\n",
       "      <td>2023-01-05</td>\n",
       "      <td>Mobilní telefon</td>\n",
       "      <td>5</td>\n",
       "      <td>StavObjednavky.REKLAMACE</td>\n",
       "    </tr>\n",
       "    <tr>\n",
       "      <th>1</th>\n",
       "      <td>1000112</td>\n",
       "      <td>2023-02-15</td>\n",
       "      <td>Televize</td>\n",
       "      <td>6</td>\n",
       "      <td>StavObjednavky.ODESLANA</td>\n",
       "    </tr>\n",
       "    <tr>\n",
       "      <th>2</th>\n",
       "      <td>1000113</td>\n",
       "      <td>2023-03-20</td>\n",
       "      <td>Notebook</td>\n",
       "      <td>4</td>\n",
       "      <td>StavObjednavky.STORNOVANA</td>\n",
       "    </tr>\n",
       "    <tr>\n",
       "      <th>3</th>\n",
       "      <td>1000114</td>\n",
       "      <td>2023-04-10</td>\n",
       "      <td>Kávovar</td>\n",
       "      <td>3</td>\n",
       "      <td>StavObjednavky.DOPLNENA</td>\n",
       "    </tr>\n",
       "    <tr>\n",
       "      <th>4</th>\n",
       "      <td>1000115</td>\n",
       "      <td>2023-05-25</td>\n",
       "      <td>Chladnička</td>\n",
       "      <td>6</td>\n",
       "      <td>StavObjednavky.ODESLANA</td>\n",
       "    </tr>\n",
       "  </tbody>\n",
       "</table>\n",
       "</div>"
      ],
      "text/plain": [
       "        ID   vytvořeno          produkt  stav                  Nový stav\n",
       "0  1000111  2023-01-05  Mobilní telefon     5   StavObjednavky.REKLAMACE\n",
       "1  1000112  2023-02-15         Televize     6    StavObjednavky.ODESLANA\n",
       "2  1000113  2023-03-20         Notebook     4  StavObjednavky.STORNOVANA\n",
       "3  1000114  2023-04-10          Kávovar     3    StavObjednavky.DOPLNENA\n",
       "4  1000115  2023-05-25       Chladnička     6    StavObjednavky.ODESLANA"
      ]
     },
     "execution_count": 82,
     "metadata": {},
     "output_type": "execute_result"
    }
   ],
   "source": [
    "objednavky_df.head()"
   ]
  },
  {
   "cell_type": "code",
   "execution_count": 83,
   "id": "7ad52221-b35f-46d3-b213-b0012a819c83",
   "metadata": {
    "tags": []
   },
   "outputs": [],
   "source": [
    "objednavky_df['očekávana doba dodání'] = [\n",
    "    StavObjednavky.ziskej_dobu_dodani(\n",
    "        StavObjednavky(status)\n",
    "    )\n",
    "    for status in objednavky_df['stav']\n",
    "]"
   ]
  },
  {
   "cell_type": "code",
   "execution_count": 84,
   "id": "748e7b4e-8461-4e33-ba60-90abe28b33c1",
   "metadata": {
    "tags": []
   },
   "outputs": [
    {
     "data": {
      "text/html": [
       "<div>\n",
       "<style scoped>\n",
       "    .dataframe tbody tr th:only-of-type {\n",
       "        vertical-align: middle;\n",
       "    }\n",
       "\n",
       "    .dataframe tbody tr th {\n",
       "        vertical-align: top;\n",
       "    }\n",
       "\n",
       "    .dataframe thead th {\n",
       "        text-align: right;\n",
       "    }\n",
       "</style>\n",
       "<table border=\"1\" class=\"dataframe\">\n",
       "  <thead>\n",
       "    <tr style=\"text-align: right;\">\n",
       "      <th></th>\n",
       "      <th>ID</th>\n",
       "      <th>vytvořeno</th>\n",
       "      <th>produkt</th>\n",
       "      <th>stav</th>\n",
       "      <th>Nový stav</th>\n",
       "      <th>očekávana doba dodání</th>\n",
       "    </tr>\n",
       "  </thead>\n",
       "  <tbody>\n",
       "    <tr>\n",
       "      <th>0</th>\n",
       "      <td>1000111</td>\n",
       "      <td>2023-01-05</td>\n",
       "      <td>Mobilní telefon</td>\n",
       "      <td>5</td>\n",
       "      <td>StavObjednavky.REKLAMACE</td>\n",
       "      <td>0</td>\n",
       "    </tr>\n",
       "    <tr>\n",
       "      <th>1</th>\n",
       "      <td>1000112</td>\n",
       "      <td>2023-02-15</td>\n",
       "      <td>Televize</td>\n",
       "      <td>6</td>\n",
       "      <td>StavObjednavky.ODESLANA</td>\n",
       "      <td>2</td>\n",
       "    </tr>\n",
       "    <tr>\n",
       "      <th>2</th>\n",
       "      <td>1000113</td>\n",
       "      <td>2023-03-20</td>\n",
       "      <td>Notebook</td>\n",
       "      <td>4</td>\n",
       "      <td>StavObjednavky.STORNOVANA</td>\n",
       "      <td>0</td>\n",
       "    </tr>\n",
       "    <tr>\n",
       "      <th>3</th>\n",
       "      <td>1000114</td>\n",
       "      <td>2023-04-10</td>\n",
       "      <td>Kávovar</td>\n",
       "      <td>3</td>\n",
       "      <td>StavObjednavky.DOPLNENA</td>\n",
       "      <td>0</td>\n",
       "    </tr>\n",
       "    <tr>\n",
       "      <th>4</th>\n",
       "      <td>1000115</td>\n",
       "      <td>2023-05-25</td>\n",
       "      <td>Chladnička</td>\n",
       "      <td>6</td>\n",
       "      <td>StavObjednavky.ODESLANA</td>\n",
       "      <td>2</td>\n",
       "    </tr>\n",
       "    <tr>\n",
       "      <th>5</th>\n",
       "      <td>1000116</td>\n",
       "      <td>2023-06-08</td>\n",
       "      <td>Mikrovlnná trouba</td>\n",
       "      <td>4</td>\n",
       "      <td>StavObjednavky.STORNOVANA</td>\n",
       "      <td>0</td>\n",
       "    </tr>\n",
       "    <tr>\n",
       "      <th>6</th>\n",
       "      <td>1000117</td>\n",
       "      <td>2023-07-12</td>\n",
       "      <td>Rasový mixér</td>\n",
       "      <td>4</td>\n",
       "      <td>StavObjednavky.STORNOVANA</td>\n",
       "      <td>0</td>\n",
       "    </tr>\n",
       "    <tr>\n",
       "      <th>7</th>\n",
       "      <td>1000118</td>\n",
       "      <td>2023-08-29</td>\n",
       "      <td>Žehlička</td>\n",
       "      <td>6</td>\n",
       "      <td>StavObjednavky.ODESLANA</td>\n",
       "      <td>2</td>\n",
       "    </tr>\n",
       "    <tr>\n",
       "      <th>8</th>\n",
       "      <td>1000119</td>\n",
       "      <td>2023-09-18</td>\n",
       "      <td>Vysavač</td>\n",
       "      <td>6</td>\n",
       "      <td>StavObjednavky.ODESLANA</td>\n",
       "      <td>2</td>\n",
       "    </tr>\n",
       "    <tr>\n",
       "      <th>9</th>\n",
       "      <td>1000120</td>\n",
       "      <td>2023-10-03</td>\n",
       "      <td>Herní konzole</td>\n",
       "      <td>7</td>\n",
       "      <td>StavObjednavky.PRIJATA</td>\n",
       "      <td>0</td>\n",
       "    </tr>\n",
       "  </tbody>\n",
       "</table>\n",
       "</div>"
      ],
      "text/plain": [
       "        ID   vytvořeno            produkt  stav                  Nový stav   \n",
       "0  1000111  2023-01-05    Mobilní telefon     5   StavObjednavky.REKLAMACE  \\\n",
       "1  1000112  2023-02-15           Televize     6    StavObjednavky.ODESLANA   \n",
       "2  1000113  2023-03-20           Notebook     4  StavObjednavky.STORNOVANA   \n",
       "3  1000114  2023-04-10            Kávovar     3    StavObjednavky.DOPLNENA   \n",
       "4  1000115  2023-05-25         Chladnička     6    StavObjednavky.ODESLANA   \n",
       "5  1000116  2023-06-08  Mikrovlnná trouba     4  StavObjednavky.STORNOVANA   \n",
       "6  1000117  2023-07-12       Rasový mixér     4  StavObjednavky.STORNOVANA   \n",
       "7  1000118  2023-08-29           Žehlička     6    StavObjednavky.ODESLANA   \n",
       "8  1000119  2023-09-18            Vysavač     6    StavObjednavky.ODESLANA   \n",
       "9  1000120  2023-10-03      Herní konzole     7     StavObjednavky.PRIJATA   \n",
       "\n",
       "   očekávana doba dodání  \n",
       "0                      0  \n",
       "1                      2  \n",
       "2                      0  \n",
       "3                      0  \n",
       "4                      2  \n",
       "5                      0  \n",
       "6                      0  \n",
       "7                      2  \n",
       "8                      2  \n",
       "9                      0  "
      ]
     },
     "execution_count": 84,
     "metadata": {},
     "output_type": "execute_result"
    }
   ],
   "source": [
    "objednavky_df.head(10)"
   ]
  },
  {
   "cell_type": "markdown",
   "id": "bb7f9733-141c-4e54-9c16-d415f1ef5d55",
   "metadata": {},
   "source": [
    "<br>\n",
    "\n",
    "### 🧠 CVIČENÍ 🧠, Vyzkoušej si ENUM:\n",
    "---"
   ]
  },
  {
   "cell_type": "markdown",
   "id": "ee942902-7c88-4cb4-9ff5-7110daf3c1af",
   "metadata": {},
   "source": [
    "1. Vytvoř ENUM třídu `StavProduktu` s atributy: DOSTUPNY, VYPRODANO a SKLADEM_OMEZENO,\n",
    "2. vytvoř ENUM třídu `Produkt` s atributy: TELEVIZE, KAVOVAR a LEDNICKA,\n",
    "3. doplň metodu `_generate_next_value_` do třídy `Produkt`, tak ať generuje podle počtu atributů ID `1234<POCET + 1>` ,\n",
    "4. doplň metodu `ziskej_dostupnost`, která vrací `StavProduktu.DOSTUPNY`, pokud je skladem 5 produktů a více,\n",
    "    ...která vrací `StavProduktu.SKLADEM_OMEZENO`, pokud je skladem 1 až 5 produktů,\n",
    "    ...která vrací `StavProduktu.VYPRODANO`, pokud je skladem 0 produktů,\n",
    "5. ve stavající tabulce doplň sloupec 'status' tak, ať můžeš dynamicky přepočítat hodnoty ze sloupce **skladem**."
   ]
  },
  {
   "cell_type": "code",
   "execution_count": null,
   "id": "3949e476-97dc-4cbf-a231-856c58f65c4a",
   "metadata": {
    "tags": []
   },
   "outputs": [],
   "source": [
    "from pandas import DataFrame\n",
    "\n",
    "produkty_df = DataFrame(\n",
    "    {\n",
    "        'ID': ['111', '112', '113', '114'],\n",
    "         'produkt': ['TELEVIZE', 'KAVOVAR', 'LEDNICKA', 'TELEFON'],\n",
    "         'skladem': [0, 10, 5, 2]\n",
    "    }\n",
    ")\n",
    "\n",
    "class StavProduktu(Enum):\n",
    "    pass\n",
    "\n",
    "\n",
    "class Produkt(Enum):\n",
    "    def _generate_next_value_(name, start, count, last_values):\n",
    "        return f'1234{count + 1}'\n",
    "    \n",
    "    TELEVIZE = auto()\n",
    "    KAVOVAR = auto()\n",
    "    LEDNICKA = auto()"
   ]
  },
  {
   "cell_type": "code",
   "execution_count": null,
   "id": "df38a54b-4817-4902-a5de-367cf08b4af2",
   "metadata": {
    "tags": []
   },
   "outputs": [],
   "source": [
    "@dataclass\n",
    "class Auto:\n",
    "    znacka: str\n",
    "    typ_karoserie: str\n",
    "    int\n",
    "    bool\n",
    "    List[str]"
   ]
  },
  {
   "cell_type": "code",
   "execution_count": null,
   "id": "18d00a74-bcaf-4c74-b1ba-8d59c1a1782d",
   "metadata": {},
   "outputs": [],
   "source": [
    "class TypPohonuAuta(Enum):\n",
    "    PREDOKOLKA = auto()\n",
    "    ZADOKOLKA = auto()\n",
    "    CTYRKOLKA = auto()"
   ]
  },
  {
   "cell_type": "markdown",
   "id": "52609146-ebfa-445c-b014-a8d7a50586c5",
   "metadata": {},
   "source": [
    "<details>\n",
    "    <summary>▶️ Řešení</summary>\n",
    "    \n",
    "```python\n",
    "from enum import Enum, auto\n",
    "\n",
    "class StavProduktu(Enum):\n",
    "    DOSTUPNY = auto()\n",
    "    VYPRODANO = auto()\n",
    "    SKLADEM_OMEZENO = auto()\n",
    "\n",
    "\n",
    "class Produkt(Enum):\n",
    "    def _generate_next_value_(name, start, count, last_values):\n",
    "        return f\"1234{count + 1}\"\n",
    "\n",
    "    TELEVIZE = auto()\n",
    "    KAVOVAR = auto()\n",
    "    LEDNICKA = auto()\n",
    "    \n",
    "    @classmethod\n",
    "    def ziskej_dostupnost(cls, stav):\n",
    "        if stav <= 10 and stav > 5:\n",
    "            return StavProduktu.DOSTUPNY\n",
    "        elif stav <= 5 and stav:\n",
    "            return StavProduktu.SKLADEM_OMEZENO\n",
    "        elif stav == 0:\n",
    "            return StavProduktu.VYPRODANO\n",
    "```\n",
    "</details>"
   ]
  },
  {
   "cell_type": "markdown",
   "id": "786510e9-a0d4-4aaa-8148-da641e877ff1",
   "metadata": {},
   "source": [
    "<img src=\"https://external-content.duckduckgo.com/iu/?u=https%3A%2F%2Ftse1.mm.bing.net%2Fth%3Fid%3DOIP.WKBR9N9XJH6qDiPXiFyw-QHaFj%26pid%3DApi&f=1&ipt=8e3341c55dbb85d643a0e219c049741ccd948f68753bea2d38ed09f11f3db173&ipo=images\" width=\"250\" style=\"margin-left:auto; margin-right:auto\">"
   ]
  },
  {
   "cell_type": "markdown",
   "id": "5945b42a-76eb-403b-842b-7e27acbe39e1",
   "metadata": {},
   "source": [
    "## Protokol\n",
    "\n",
    "---"
   ]
  },
  {
   "cell_type": "markdown",
   "id": "be6da578-6b03-42e3-a3cd-11e0a1457e16",
   "metadata": {},
   "source": [
    "Představ si takovou situaci:"
   ]
  },
  {
   "cell_type": "code",
   "execution_count": 85,
   "id": "63eb89c6-cc35-408c-89aa-19093ddd31b3",
   "metadata": {
    "tags": []
   },
   "outputs": [],
   "source": [
    "class Produkt:\n",
    "    \n",
    "    def __init__(self, jmeno: str, mnozstvi: int, cena: float) -> None:\n",
    "        self.jmeno = jmeno\n",
    "        self.mnozstvi = mnozstvi\n",
    "        self.cena = cena"
   ]
  },
  {
   "cell_type": "markdown",
   "id": "fba6f991-a2ce-42d7-b63d-3ce533241369",
   "metadata": {},
   "source": [
    "Máš obecnou třídu, která ti pomůže vytvořit *generický produkt*.\n",
    "\n",
    "Máš funkci, která ti umožní **vypočítat celkovou cenu**:"
   ]
  },
  {
   "cell_type": "code",
   "execution_count": 86,
   "id": "32ecd3bd-e613-45e8-8456-a42503ee2450",
   "metadata": {
    "tags": []
   },
   "outputs": [],
   "source": [
    "from typing import List"
   ]
  },
  {
   "cell_type": "code",
   "execution_count": 87,
   "id": "380f73ec-c9d3-445b-b549-737406dd6fe6",
   "metadata": {
    "tags": []
   },
   "outputs": [],
   "source": [
    "def celkova_cena(produkty: List[Produkt]) -> float:\n",
    "    return sum([produkt.mnozstvi * produkt.cena for produkt in produkty])"
   ]
  },
  {
   "cell_type": "code",
   "execution_count": 88,
   "id": "00b63d4f-3ea4-45ae-9a81-da7cec219ecb",
   "metadata": {
    "tags": []
   },
   "outputs": [],
   "source": [
    "notebooky = Produkt(jmeno=\"notebook, Renovo\", mnozstvi=2, cena=30_000)\n",
    "chytre_telefony = Produkt(jmeno=\"chytry telefon, Zamzung\", mnozstvi=5, cena=15_000)"
   ]
  },
  {
   "cell_type": "code",
   "execution_count": 89,
   "id": "29bca696-eee3-4843-8524-efeb3ffa6f06",
   "metadata": {
    "tags": []
   },
   "outputs": [],
   "source": [
    "celkem_cena = celkova_cena([notebooky, chytre_telefony])"
   ]
  },
  {
   "cell_type": "code",
   "execution_count": 90,
   "id": "ddc7aad1-1143-44d2-8eb4-932b82816283",
   "metadata": {
    "tags": []
   },
   "outputs": [
    {
     "name": "stdout",
     "output_type": "stream",
     "text": [
      "135000\n"
     ]
    }
   ],
   "source": [
    "print(celkem_cena)"
   ]
  },
  {
   "cell_type": "markdown",
   "id": "49156b0f-a7f6-4698-8266-779b83e41304",
   "metadata": {},
   "source": [
    "Co, když ale použiješ nesprávnou instanci? Nebo instanci jiné třídy.\n",
    "\n",
    "Takový objekt může mít **odlišné atributy a metody**:"
   ]
  },
  {
   "cell_type": "code",
   "execution_count": 91,
   "id": "d965d2aa-6a32-4124-b500-fb47d13e9d94",
   "metadata": {
    "tags": []
   },
   "outputs": [],
   "source": [
    "class ChybnyProdukt:\n",
    "    \n",
    "    def __init__(self, jmeno: str, cena: float) -> None:\n",
    "        self.jmeno = jmeno\n",
    "        self.cena = cena"
   ]
  },
  {
   "cell_type": "code",
   "execution_count": 92,
   "id": "c89d76a0-5cf3-43ad-94b8-d0d2a866be20",
   "metadata": {
    "tags": []
   },
   "outputs": [],
   "source": [
    "televize = ChybnyProdukt(jmeno=\"televize, RG\", cena=45_000)"
   ]
  },
  {
   "cell_type": "code",
   "execution_count": 93,
   "id": "900cdfbb-7f19-4466-92bc-435b764a5889",
   "metadata": {
    "tags": []
   },
   "outputs": [
    {
     "ename": "AttributeError",
     "evalue": "'ChybnyProdukt' object has no attribute 'mnozstvi'",
     "output_type": "error",
     "traceback": [
      "\u001b[0;31m---------------------------------------------------------------------------\u001b[0m",
      "\u001b[0;31mAttributeError\u001b[0m                            Traceback (most recent call last)",
      "Cell \u001b[0;32mIn[93], line 1\u001b[0m\n\u001b[0;32m----> 1\u001b[0m celkem_cena \u001b[38;5;241m=\u001b[39m \u001b[43mcelkova_cena\u001b[49m\u001b[43m(\u001b[49m\u001b[43m[\u001b[49m\u001b[43mnotebooky\u001b[49m\u001b[43m,\u001b[49m\u001b[43m \u001b[49m\u001b[43mchytre_telefony\u001b[49m\u001b[43m,\u001b[49m\u001b[43m \u001b[49m\u001b[43mtelevize\u001b[49m\u001b[43m]\u001b[49m\u001b[43m)\u001b[49m\n",
      "Cell \u001b[0;32mIn[87], line 2\u001b[0m, in \u001b[0;36mcelkova_cena\u001b[0;34m(produkty)\u001b[0m\n\u001b[1;32m      1\u001b[0m \u001b[38;5;28;01mdef\u001b[39;00m \u001b[38;5;21mcelkova_cena\u001b[39m(produkty: List[Produkt]) \u001b[38;5;241m-\u001b[39m\u001b[38;5;241m>\u001b[39m \u001b[38;5;28mfloat\u001b[39m:\n\u001b[0;32m----> 2\u001b[0m     \u001b[38;5;28;01mreturn\u001b[39;00m \u001b[38;5;28msum\u001b[39m([produkt\u001b[38;5;241m.\u001b[39mmnozstvi \u001b[38;5;241m*\u001b[39m produkt\u001b[38;5;241m.\u001b[39mcena \u001b[38;5;28;01mfor\u001b[39;00m produkt \u001b[38;5;129;01min\u001b[39;00m produkty])\n",
      "Cell \u001b[0;32mIn[87], line 2\u001b[0m, in \u001b[0;36m<listcomp>\u001b[0;34m(.0)\u001b[0m\n\u001b[1;32m      1\u001b[0m \u001b[38;5;28;01mdef\u001b[39;00m \u001b[38;5;21mcelkova_cena\u001b[39m(produkty: List[Produkt]) \u001b[38;5;241m-\u001b[39m\u001b[38;5;241m>\u001b[39m \u001b[38;5;28mfloat\u001b[39m:\n\u001b[0;32m----> 2\u001b[0m     \u001b[38;5;28;01mreturn\u001b[39;00m \u001b[38;5;28msum\u001b[39m([\u001b[43mprodukt\u001b[49m\u001b[38;5;241;43m.\u001b[39;49m\u001b[43mmnozstvi\u001b[49m \u001b[38;5;241m*\u001b[39m produkt\u001b[38;5;241m.\u001b[39mcena \u001b[38;5;28;01mfor\u001b[39;00m produkt \u001b[38;5;129;01min\u001b[39;00m produkty])\n",
      "\u001b[0;31mAttributeError\u001b[0m: 'ChybnyProdukt' object has no attribute 'mnozstvi'"
     ]
    }
   ],
   "source": [
    "celkem_cena = celkova_cena([notebooky, chytre_telefony, televize])"
   ]
  },
  {
   "cell_type": "markdown",
   "id": "443b70f1-2398-44c5-b979-41e9371cd355",
   "metadata": {},
   "source": [
    "V takovém případě dostaneš výjimku, protože v rámci objektu `ChybnyProdukt` nemáš atribut `mnozstvi`.\n",
    "\n",
    "<br>\n",
    "\n",
    "Řešením v takovém případě může být tzv. *předpis*, nebo také **protokol**."
   ]
  },
  {
   "cell_type": "code",
   "execution_count": 94,
   "id": "ee341819-c23f-46c1-87bf-d5ba1d5936a1",
   "metadata": {
    "tags": []
   },
   "outputs": [],
   "source": [
    "from typing import Protocol"
   ]
  },
  {
   "cell_type": "code",
   "execution_count": 95,
   "id": "e82dde40-e3dc-4464-8d5a-6a51a4b00142",
   "metadata": {
    "tags": []
   },
   "outputs": [],
   "source": [
    "class Predmet(Protocol):\n",
    "    mnozstvi = int\n",
    "    cena = float"
   ]
  },
  {
   "cell_type": "markdown",
   "id": "bb397c23-bc19-441d-94c8-55d4adcff678",
   "metadata": {},
   "source": [
    "V tomto případě říkáš, že chceš obecně hlídat takový předpis, resp. protokol, kdy pokud pracuješ s rozhraním takovém objektu, **bude splňovat tyto parametry**."
   ]
  },
  {
   "cell_type": "code",
   "execution_count": 96,
   "id": "527068c4-0129-4991-8cd0-43f9ee8a07c0",
   "metadata": {
    "tags": []
   },
   "outputs": [],
   "source": [
    "class Produkt(Predmet):\n",
    "    \n",
    "    def __init__(self, jmeno: str, mnozstvi: int, cena: float) -> None:\n",
    "        self.jmeno = jmeno\n",
    "        self.mnozstvi = mnozstvi\n",
    "        self.cena = cena"
   ]
  },
  {
   "cell_type": "code",
   "execution_count": 97,
   "id": "7f3113b0-815b-4610-ad74-504c1ed8d62f",
   "metadata": {
    "tags": []
   },
   "outputs": [],
   "source": [
    "class ChybnyProdukt(Predmet):\n",
    "    \n",
    "    def __init__(self, jmeno: str, cena: float) -> None:\n",
    "        self.jmeno = jmeno\n",
    "        self.cena = cena"
   ]
  },
  {
   "cell_type": "markdown",
   "id": "370559aa-b59f-40a2-b330-0f74d7661e41",
   "metadata": {},
   "source": [
    "Prostředí Jupyteru **v tomto rozdíl nedělá**.\n",
    "\n",
    "Nicméně editory a IDE se statickou analýzou zápisu tě upozorní včas.\n",
    "\n",
    "**DEMO: Neovim**."
   ]
  },
  {
   "cell_type": "markdown",
   "id": "7d6957c6-9fe5-4dbc-be4f-9b5a592f2c8a",
   "metadata": {},
   "source": [
    "### Aplikace na metody u protokolů\n",
    "\n",
    "---"
   ]
  },
  {
   "cell_type": "markdown",
   "id": "29644602-c41a-420d-816d-da28ab3f63f1",
   "metadata": {},
   "source": [
    "Kromě atributů, můžeš od uživatele vyžadovat implicitně práci **s příslušnými metodami**."
   ]
  },
  {
   "cell_type": "code",
   "execution_count": null,
   "id": "b3d17013-c23b-4de8-8ea6-b047c54f2c78",
   "metadata": {
    "tags": []
   },
   "outputs": [],
   "source": [
    "class Zobrazitelny(Protocol):\n",
    "    nazev: str\n",
    "    cena: float\n",
    "\n",
    "    def popis(self) -> str:\n",
    "        ...\n",
    "\n",
    "    def zlevni(self, sleva: float) -> None:\n",
    "        ..."
   ]
  },
  {
   "cell_type": "code",
   "execution_count": null,
   "id": "5f1accf3-cc97-44be-9b20-26226f55e52f",
   "metadata": {},
   "outputs": [],
   "source": [
    "class Produkt(Zobrazitelny):\n",
    "    def __init__(self, nazev: str, cena: float):\n",
    "        self.nazev = nazev\n",
    "        self.cena = cena\n",
    "\n",
    "    def popis(self) -> str:\n",
    "        return f\"{self.nazev} - Cena: {self.cena} Kč\"\n",
    "\n",
    "    def zlevni(self, sleva: float) -> None:\n",
    "        self.cena -= sleva"
   ]
  },
  {
   "cell_type": "markdown",
   "id": "388f8fcc-1706-4cc3-a8f1-5922ab5f7d91",
   "metadata": {},
   "source": [
    "Opět, takhle definovaná třída podle protokolu splňuje zádání.\n",
    "\n",
    "Ovšem pokud vytvoříš jinou třídu s tímto rozhraním:"
   ]
  },
  {
   "cell_type": "code",
   "execution_count": null,
   "id": "0809278b-ee88-4080-882d-e9a11d971089",
   "metadata": {},
   "outputs": [],
   "source": [
    "class ChybnyProdukt(Zobrazitelny):\n",
    "    def __init__(self, nazev: str, cena: float):\n",
    "        self.nazev = nazev\n",
    "        self.cena = cena\n",
    "\n",
    "    def zlevni(self, sleva: float) -> None:\n",
    "        self.cena -= sleva"
   ]
  },
  {
   "cell_type": "markdown",
   "id": "fc373b6a-c545-4273-bb29-4faa5f2887a3",
   "metadata": {},
   "source": [
    "**DEMO: Neovim.**\n",
    "\n",
    "Editor tě včas varuje, protože nepracuješ v souladu s protokolem `Zobrazitelny`.\n",
    "\n",
    "Protokol dokonce není nutné explicitně uvádět do závorek, třeba v případě pro statickou analýzu:"
   ]
  },
  {
   "cell_type": "code",
   "execution_count": null,
   "id": "1161f028-b6ee-4504-986f-8986822f300e",
   "metadata": {},
   "outputs": [],
   "source": [
    "class Produkt:\n",
    "    def __init__(self, nazev: str, cena: float):\n",
    "        self.nazev = nazev\n",
    "        self.cena = cena\n",
    "\n",
    "    def popis(self) -> str:\n",
    "        return f\"{self.nazev} - Cena: {self.cena} Kč\"\n",
    "\n",
    "    def zlevni(self, sleva: float) -> None:\n",
    "        self.cena -= sleva"
   ]
  },
  {
   "cell_type": "code",
   "execution_count": null,
   "id": "0927b347-e7fb-4447-a1f3-2bec9af71e53",
   "metadata": {},
   "outputs": [],
   "source": [
    "def zobraz_detaily_produktu(produkt: Zobrazitelny):\n",
    "    print(f\"{produkt.nazev}: {produkt.cena} Kč\")\n",
    "    print(f\"Popis: {produkt.popis()}\")"
   ]
  },
  {
   "cell_type": "markdown",
   "id": "e9f0c0a3-3be9-43f9-9fac-2c7fb941d6c3",
   "metadata": {},
   "source": [
    "V ukázce nyní chybí pro třídu `Produkt` patrná vazba na protokol `Zobrazitelny`.\n",
    "\n",
    "Přesto mi nástroje pro statickou kontrolu oznámí, pokud se argument oproti protokolu liší."
   ]
  },
  {
   "cell_type": "markdown",
   "id": "75190d0b-b57f-4380-aed3-990005aa4310",
   "metadata": {},
   "source": [
    "### Souhrn\n",
    "\n",
    "---"
   ]
  },
  {
   "cell_type": "markdown",
   "id": "e7ecdfac-9faf-4529-9ff1-a9e0a7fe88fa",
   "metadata": {},
   "source": [
    "V některých rysech ti může protokol připomenout **abstraktní třídu**.\n",
    "\n",
    "V zápise tak zásadní rozdíl není.\n",
    "\n",
    "Pomocí **abstraktní třídy** by možný zápis vypadal jako:"
   ]
  },
  {
   "cell_type": "code",
   "execution_count": 98,
   "id": "df9042c4-93c9-4673-a9cb-ed82d8905942",
   "metadata": {
    "tags": []
   },
   "outputs": [],
   "source": [
    "from abc import ABC, abstractmethod"
   ]
  },
  {
   "cell_type": "code",
   "execution_count": 99,
   "id": "7461d5c0-0644-4282-b3dd-8afceb5b47dd",
   "metadata": {
    "tags": []
   },
   "outputs": [],
   "source": [
    "class Soubor(ABC):\n",
    "    @abstractmethod\n",
    "    def otevri(self) -> str:\n",
    "        pass\n",
    "\n",
    "    @abstractmethod\n",
    "    def zavri(self, sleva: float) -> None:\n",
    "        pass"
   ]
  },
  {
   "cell_type": "code",
   "execution_count": 100,
   "id": "99050db6-9f94-4909-ba13-78fa3d53124a",
   "metadata": {
    "tags": []
   },
   "outputs": [],
   "source": [
    "from pathlib import PurePath\n",
    "\n",
    "class TXTSoubor(Soubor):\n",
    "    def __init__(self, jmeno: str, pripona: float):\n",
    "        self.jmeno = jmeno\n",
    "        self.pripona = pripona\n",
    "\n",
    "    def otevri(self) -> str:\n",
    "        return f\"Otevírám textový soubor: {PurePath().join(self.jmeno, self.pripona)}\"\n",
    "\n",
    "    def zavri(self, sleva: float) -> None:\n",
    "        return f\"Zavírám textový soubor: {PurePath().join(self.jmeno, self.pripona)}\""
   ]
  },
  {
   "cell_type": "code",
   "execution_count": 101,
   "id": "494d7949-0c63-4fa2-af12-3b529ef67d46",
   "metadata": {
    "tags": []
   },
   "outputs": [],
   "source": [
    "txt_soubor_1 = TXTSoubor('muj_soubor', '.txt')"
   ]
  },
  {
   "cell_type": "code",
   "execution_count": null,
   "id": "47071189-ca2f-4360-b711-10d100304166",
   "metadata": {},
   "outputs": [],
   "source": []
  },
  {
   "cell_type": "markdown",
   "id": "e928b195-6594-4095-b3b2-e50271328d54",
   "metadata": {
    "tags": []
   },
   "source": [
    "Použití *abstraktní třídy* se ale od *protokolu* zásadně liší.\n",
    "\n",
    "Účelem *abstraktní třídy* je zapsat jednoho rodiče (pomocí `ABC`).\n",
    "\n",
    "Tomu potom definovat **abstraktní metody**.\n",
    "\n",
    "Samotnou *abstraktní třídu* ale nepoužíváš, jenom aplikuješ její obsah pro třídy potomků a ty si upravuješ podle potřeb."
   ]
  },
  {
   "cell_type": "code",
   "execution_count": null,
   "id": "2e3de5d3-4bf7-4edd-9669-c3e8fdc2dedd",
   "metadata": {
    "tags": []
   },
   "outputs": [],
   "source": [
    "from pathlib import PurePath\n",
    "\n",
    "class JSONSoubor(Soubor):\n",
    "    def __init__(self, jmeno: str, pripona: float):\n",
    "        self.jmeno = jmeno\n",
    "        self.pripona = pripona\n",
    "\n",
    "    def otevri(self) -> str:\n",
    "        return f\"Otevírám JSON soubor: {PurePath().join(self.jmeno, self.pripona)}\"\n",
    "\n",
    "    def zavri(self, sleva: float) -> None:\n",
    "        return f\"Zavírám JSON soubor: {PurePath().join(self.jmeno, self.pripona)}\"\n",
    "    \n",
    "    def serializuj_na_string(self) -> None:  # rozšíření\n",
    "        return f\"Serializovaný objekt: {PurePath().join(self.jmeno, self.pripona)}\""
   ]
  },
  {
   "cell_type": "markdown",
   "id": "ff7bf7f2-bb95-4198-96ad-a708c4829563",
   "metadata": {},
   "source": [
    "Naopak *protokoly* použiješ obvykle tam, kam je napíšeš.\n",
    "\n",
    "Nepoužíváš je pro definici společné (defaultní funkcionality) mezi potomky, ale jako kontrolní předpis, který ti statické nástroje zkontrolují."
   ]
  },
  {
   "cell_type": "code",
   "execution_count": null,
   "id": "7f4bb57b-e147-472a-88ca-37f64e13ca68",
   "metadata": {
    "tags": []
   },
   "outputs": [],
   "source": [
    "class Soubor(Protocol):\n",
    "    umisteni: str\n",
    "\n",
    "    def zobraz_detail(self):\n",
    "        pass"
   ]
  },
  {
   "cell_type": "code",
   "execution_count": null,
   "id": "295caa18-c193-436e-a4fc-9bd49f68c7cc",
   "metadata": {
    "tags": []
   },
   "outputs": [],
   "source": [
    "class PNGObrazkovySoubor:\n",
    "    umisteni: str\n",
    "    \n",
    "    def __init__(self, jmeno):\n",
    "        self.jmeno = jmeno\n",
    "        \n",
    "    def zobraz_detail(self):\n",
    "        print(f'Detaily o souboru: {self.jmeno}')"
   ]
  },
  {
   "cell_type": "code",
   "execution_count": null,
   "id": "ed7c3ba2-772e-4c2c-bc4b-8d85e595f9d4",
   "metadata": {
    "tags": []
   },
   "outputs": [],
   "source": [
    "def zobraz_obrazek(obrazek: Soubor):\n",
    "    obrazek.zobraz_detail()"
   ]
  },
  {
   "cell_type": "code",
   "execution_count": null,
   "id": "839b2fbb-8e08-43db-9fbd-94b4b4fe0fbb",
   "metadata": {
    "tags": []
   },
   "outputs": [],
   "source": [
    "muj_obrazek_png = PNGObrazkovySoubor('moje_tapeta.png')"
   ]
  },
  {
   "cell_type": "code",
   "execution_count": null,
   "id": "d093fefd-23ca-4111-b3cb-897249d90ee0",
   "metadata": {
    "tags": []
   },
   "outputs": [],
   "source": [
    "zobraz_obrazek(muj_obrazek)"
   ]
  },
  {
   "cell_type": "code",
   "execution_count": null,
   "id": "1a4352bb-adb8-466b-ae2c-d544273eab79",
   "metadata": {
    "tags": []
   },
   "outputs": [],
   "source": [
    "class IMGObrazkovySoubor:\n",
    "    def __init__(self, jmeno):\n",
    "        self.jmeno = jmeno"
   ]
  },
  {
   "cell_type": "code",
   "execution_count": null,
   "id": "5cc8f5f4-2aa3-4dba-8041-ba859fd39e93",
   "metadata": {
    "tags": []
   },
   "outputs": [],
   "source": [
    "muj_obrazek_img = IMGObrazkovySoubor('muj_obr.img')"
   ]
  },
  {
   "cell_type": "code",
   "execution_count": null,
   "id": "14499b9d-f114-4fbc-ba1d-6aac66c6396a",
   "metadata": {
    "tags": []
   },
   "outputs": [],
   "source": [
    "zobraz_obrazek(muj_obrazek_img)"
   ]
  },
  {
   "cell_type": "markdown",
   "id": "728c047e-8e38-4569-b576-42df3a7fc794",
   "metadata": {},
   "source": [
    "<img src=\"https://external-content.duckduckgo.com/iu/?u=https%3A%2F%2Ftse1.mm.bing.net%2Fth%3Fid%3DOIP.uM-VDY6W4NjBP5cFCwQx3wHaHa%26pid%3DApi&f=1&ipt=4cb80c78a9d6451f79055d29f7e81842224aec6bd02d4cd660c24f532bc1c61e&ipo=images\" width=\"300\" style=\"margin-left:auto; margin-right:auto\">"
   ]
  },
  {
   "cell_type": "markdown",
   "id": "84041922-7b7f-422a-950c-80b906253ac1",
   "metadata": {
    "tags": []
   },
   "source": [
    "## Projekt X\n",
    "\n",
    "---"
   ]
  },
  {
   "cell_type": "markdown",
   "id": "44b99363-fbd2-493d-9e7f-621c0d84a965",
   "metadata": {},
   "source": [
    "Jednotlivé kroky pro napsání projektu:\n",
    "1. **Nachystat pracovní prostředí**\n",
    "    - správná verze Pythonu,\n",
    "    - virtuální prostředí,\n",
    "    - potřebné knihovny,\n",
    "    - jak postupovat,\n",
    "2. **Vývoj**\n",
    "    - KindlePoznámka,\n",
    "    - ParserObjekt,\n",
    "        - TXTParser,\n",
    "        - CSVParser,\n",
    "        - XMLParser.\n",
    "    - KindleProcessor.\n",
    "3. **Závěrečná fáze**\n",
    "    - testy běží?\n",
    "    - dokumentace nechybí?"
   ]
  },
  {
   "cell_type": "markdown",
   "id": "a0422c52-a385-46ac-8b2b-393eb12b95a4",
   "metadata": {},
   "source": [
    "<img src=\"https://external-content.duckduckgo.com/iu/?u=https%3A%2F%2Ftse3.mm.bing.net%2Fth%3Fid%3DOIP.rFzOJZ8QzqSL20x3kcXbHAHaHa%26pid%3DApi&f=1&ipt=ccc1fe19867ef8005276ffdd23dc1964bcde9b4d51a4f1d4ae2ddfc5ee5f45da&ipo=images\" width=\"250\" style=\"margin-left:auto; margin-right:auto\">"
   ]
  },
  {
   "cell_type": "markdown",
   "id": "ccb97ae6-669d-45c1-a1b1-28d27cb7930e",
   "metadata": {},
   "source": [
    "### Manažer interpreta\n",
    "\n",
    "---"
   ]
  },
  {
   "cell_type": "markdown",
   "id": "b6a0dff1-eeae-4456-8b3d-ad1e8d3d86e0",
   "metadata": {},
   "source": [
    "V rámci vývoje ti práci opravdu usnadní, pokud můžeš dynamicky přeskakovat **mezi jednotlivými verzemi interpreta Pythonu**.\n",
    "\n",
    "Pokud potřebuješ, můžeš si vybrat ze dvou možností:\n",
    "1. `pyenv`, manažer verzí Pythonu,\n",
    "2. `docker` (pokročilejší)"
   ]
  },
  {
   "cell_type": "markdown",
   "id": "4408a4fe-a39d-48e4-98fb-82cc736510e7",
   "metadata": {},
   "source": [
    "<img src=\"../images/pyenv.png\" width=\"1000\" style=\"margin-left:auto; margin-right:auto\">"
   ]
  },
  {
   "cell_type": "markdown",
   "id": "a0f50110-bfa1-4211-8da1-7b0599eff379",
   "metadata": {},
   "source": [
    "Jeden nástroj ti následně umožní:\n",
    "1. *globální*, pro celý OS,\n",
    "2. *lokální*, pro jeden projekt (jednu složku).\n",
    "\n",
    ".. nastavení tebou požadované **verze interpreta**.\n",
    "\n",
    "Vzhledem k množství různých požadavků a verzí je mnohem přepínání mnohem praktičtější.\n",
    "\n",
    "**DEMO: Ukázka** `pyenv`"
   ]
  },
  {
   "cell_type": "code",
   "execution_count": null,
   "id": "fde3ad45-70a1-42ca-a89e-30bdb2403237",
   "metadata": {},
   "outputs": [],
   "source": []
  },
  {
   "cell_type": "markdown",
   "id": "a22397df-1f85-4687-9801-dedf42883293",
   "metadata": {},
   "source": [
    "<img src=\"https://external-content.duckduckgo.com/iu/?u=https%3A%2F%2Ftse2.mm.bing.net%2Fth%3Fid%3DOIP._hyb0EyuvT2FEhthWqEnDAHaHj%26pid%3DApi&f=1&ipt=2587eb63533c4c68c6e741bf7e4ce1392b6466be554d120b0782415dd7046fbf&ipo=images\" width=\"250\" style=\"margin-left:auto; margin-right:auto\">"
   ]
  },
  {
   "cell_type": "markdown",
   "id": "20153b69-b722-4bb7-9745-9297ff5e28b4",
   "metadata": {},
   "source": [
    "### Virtuální prostředí\n",
    "\n",
    "---"
   ]
  },
  {
   "cell_type": "markdown",
   "id": "1f4a70ae-3104-46fe-9256-c5dd4d2fcc55",
   "metadata": {},
   "source": [
    "Proč je výhodné, **oddělovat prostředí** pro jednotlivé projekty?\n",
    "\n",
    "Můžu přece všechny **knihovny nainstalovat na jedno místo**, a každý projekt bude moci využít společnou knihovnu.\n",
    "\n",
    "**Do jisté míry** ano, **ALE**... nese s sebou spoustu komplikací.\n",
    "\n",
    "<br>\n",
    "\n",
    "Ty nejdůležitější jsou:\n",
    "1. Problémy s OS,\n",
    "2. Rozdílné verze knihoven.\n",
    "\n",
    "<br>"
   ]
  },
  {
   "cell_type": "markdown",
   "id": "24524be6-d531-46df-88f4-cc35ec176b80",
   "metadata": {},
   "source": [
    "### Různé manažery virtuálních prostředí\n",
    "\n",
    "---\n",
    "\n",
    "Pro manipulaci s virtuálními prostředími a jejich používání potřebuješ manažera knihoven:\n",
    "1. `pip`,\n",
    "2. `pipenv`,\n",
    "3. `conda`,\n",
    "4. `poetry`.\n",
    "\n",
    "<br>\n",
    "\n",
    "Nejprve zkontroluj, jestli máš nainstalovaný základní manažer balíčků **pip**:\n",
    "```\n",
    "python3 -m pip --version  # novější zápis\n",
    "pip --version             # starší zápis\n",
    "```\n",
    "\n",
    "<br>\n",
    "\n",
    "Výstup ti vrátí číslo verze manažera a jeho umístění:\n",
    "```\n",
    "pip 21.0.1 from ...\n",
    "```"
   ]
  },
  {
   "cell_type": "markdown",
   "id": "f3dd74b6-8410-44a5-9f6b-a528bdac2ca2",
   "metadata": {},
   "source": [
    "**DEMO: Ukázka `pip`**"
   ]
  },
  {
   "cell_type": "markdown",
   "id": "a13fbe4b-2711-4542-86e4-13b341a57d75",
   "metadata": {},
   "source": [
    "### Potřebné knihovny\n",
    "\n",
    "---\n",
    "\n",
    "Pro každý svůj projekt budeš v zásadě potřebovat tyto knihovny:\n",
    "1. Související s **tvým projektem** (nutné),\n",
    "2. související s **tvým vývojem** (volitelné)."
   ]
  },
  {
   "cell_type": "markdown",
   "id": "6ff05958-95a3-4ca2-ae2a-20aafa900f76",
   "metadata": {},
   "source": [
    "Ty knihovny, které přímo souvisejí se tvým projektem je vhodné umístit do souboru `requirements.txt`:"
   ]
  },
  {
   "cell_type": "markdown",
   "id": "0f6dff32-879a-4b06-8f7f-fc9fea447aca",
   "metadata": {},
   "source": [
    "```bash\n",
    "drf-writable-nested==0.7.0\n",
    "google-cloud-appengine-logging==1.3.2\n",
    "google-cloud-audit-log==0.2.5\n",
    "google-cloud-core==2.3.3\n",
    "```\n",
    "\n",
    "Seznam těchto knihoven se bude měnit v závislosti na požadavcích projektu."
   ]
  },
  {
   "cell_type": "markdown",
   "id": "5bd148dd-5fc6-4944-9920-34531af28469",
   "metadata": {
    "tags": []
   },
   "source": [
    "Druhá skupina, která souvisí s vývojem je často vkládána do `requirements_dev.txt`:"
   ]
  },
  {
   "cell_type": "markdown",
   "id": "83c6d3af-0e87-467e-bce5-376a08759596",
   "metadata": {},
   "source": [
    "```bash\n",
    "flake8==3.9.2\n",
    "tox==3.24.3\n",
    "pytest==7.1.2\n",
    "pytest-cov==2.12.1\n",
    "mypy==0.910\n",
    "tomli==2.0.1\n",
    "```"
   ]
  },
  {
   "cell_type": "markdown",
   "id": "8f606a76-1d40-4ca1-b4a4-d9c282ffd74e",
   "metadata": {},
   "source": [
    "V tomto případě se můžeš snažit držet konzistentní paletu nástrojů, které ti vývoj usnadní."
   ]
  },
  {
   "cell_type": "markdown",
   "id": "d3d5c49a-a6ef-438e-8e96-ac7d0c509610",
   "metadata": {},
   "source": [
    "### Jak postupovat\n",
    "\n",
    "---"
   ]
  },
  {
   "cell_type": "markdown",
   "id": "7b7c4314-c6e1-4f2c-bb3f-ea241bbc1326",
   "metadata": {},
   "source": [
    "Nejprve se snažíš celou situaci popsat velmi jednodušše a hlavně bodově:"
   ]
  },
  {
   "cell_type": "markdown",
   "id": "0828ea87-2955-4a24-b14b-5d5980c039de",
   "metadata": {},
   "source": [
    "<img src=\"../images/project_layout.png\" width=\"2000\" style=\"margin-left:auto; margin-right:auto\">"
   ]
  },
  {
   "cell_type": "markdown",
   "id": "fba4d93c-a896-41d5-bce9-2da74318e78d",
   "metadata": {
    "tags": []
   },
   "source": [
    "Jakmile máš jednoduchou mapu pohromadě, můžeš se dát do práce.\n",
    "\n",
    "<br>\n",
    "\n",
    "Jakými způsoby postupovat:\n",
    "1. Test-Driven Development (TDD),\n",
    "2. Behavior-Driven Development (BDD)."
   ]
  },
  {
   "cell_type": "markdown",
   "id": "c560fca4-1430-4b59-839a-7b523cfd1de0",
   "metadata": {},
   "source": [
    "TDD je metodika, která kladie důraz na psaní testů před samotným kódem. Proces TDD obvykle následuje tři kroky: \"Red-Green-Refactor.\"\n",
    "\n",
    "* Nejprve se napíšou testy pro funkcionalitu, kterou chceme implementovat. Tyto testy budou selhávat, protože žádný kód ještě nebyl napsán.\n",
    "* Nyní se napíše minimální množství kódu, aby testy začaly procházet. Cílem je, aby testy byly úspěšné.\n",
    "* Poté, co jsou testy úspěšné, můžete provést refaktorování kódu, abyste jej vylepšili, zpřehlednili nebo zrychlili. Důležité je, že testy zůstávají zelené.\n",
    "\n",
    "<br>"
   ]
  },
  {
   "cell_type": "markdown",
   "id": "d4a3582e-fcdd-401c-bf4b-ba863823d0b0",
   "metadata": {},
   "source": [
    "Používají se \"specifikace\" (specifikace chování) napsané v naturalistickém jazyce, které popisují požadované chování systému.\n",
    "\n",
    "* Požadovaný scénář: Sečti dvě čísla.\n",
    "* Funkce přijme dva argumenty, 2, 3.\n",
    "* Funkce vrací výstup, 5."
   ]
  },
  {
   "cell_type": "markdown",
   "id": "8d19bfe2-c329-4156-b7c3-7ecb529299e2",
   "metadata": {},
   "source": [
    "<br>\n",
    "\n",
    "### 🧠 PROJEKT 🧠, část I., třída `KindlePoznamka`:\n",
    "---"
   ]
  },
  {
   "cell_type": "markdown",
   "id": "1332da37-0e97-4638-8b6c-d999b66ad059",
   "metadata": {},
   "source": [
    "1. Importuj knihovnu `dataclasses`, `string` a `random`,\n",
    "2. Definuj třídu `KindlePoznamka` jako datovou třídu s atributy `autor`, `popisek`, `titulek`, `umisteni`, `vytvoreno` a `id_popisku`,\n",
    "3. `id_popisku` bude pole automaticky generováno pomocí funkce `vytvor_identifikator`,\n",
    "4. vytvoř funkci vytvor_identifikator, která generuje unikátní identifikátor pro id_popisku.\n",
    "5. uprav funkci `vytvor_identifikator` tak, aby generovala identifikátor s následujícím formátem: `'AB1DE-FGH22-KLMNO'`.\n",
    "\n",
    "---"
   ]
  },
  {
   "cell_type": "code",
   "execution_count": 109,
   "id": "614cfc75-0eb0-44eb-a07b-3d1de229ad46",
   "metadata": {
    "tags": []
   },
   "outputs": [],
   "source": [
    "import string\n",
    "from random import choices\n",
    "from dataclasses import dataclass, field\n",
    "\n",
    "\n",
    "@dataclass\n",
    "class KindlePoznamka:\n",
    "    autor: str\n",
    "    popisek: str\n",
    "    titulek: str\n",
    "    umisteni: str\n",
    "    vytvoreno: str\n",
    "    id_popisku: str = field(default_factory=vytvor_identifikator)\n",
    "\n",
    "    \n",
    "def vytvor_identifikator() -> str:\n",
    "    nahodny_vyber = ''.join(choices(''.join(\n",
    "        (string.ascii_lowercase, string.ascii_uppercase, string.digits)), k=15))\n",
    "    return nahodny_vyber"
   ]
  },
  {
   "cell_type": "code",
   "execution_count": 110,
   "id": "8d1e3f0c-a312-4726-95a4-d91634dc3f08",
   "metadata": {
    "tags": []
   },
   "outputs": [],
   "source": [
    "p1 = KindlePoznamka('Matous', 'Toto je muj popisek', 'Moje kniha', '111', '11-11-2011')"
   ]
  },
  {
   "cell_type": "code",
   "execution_count": 111,
   "id": "a786ee05-6485-4a88-aff0-0516cb3bc363",
   "metadata": {
    "tags": []
   },
   "outputs": [
    {
     "data": {
      "text/plain": [
       "KindlePoznamka(autor='Matous', popisek='Toto je muj popisek', titulek='Moje kniha', umisteni='111', vytvoreno='11-11-2011', id_popisku='vsJlXw0qRHkaXSG')"
      ]
     },
     "execution_count": 111,
     "metadata": {},
     "output_type": "execute_result"
    }
   ],
   "source": [
    "p1"
   ]
  },
  {
   "cell_type": "markdown",
   "id": "d5ce99cb-a545-4014-a5fe-d2a66469605f",
   "metadata": {},
   "source": [
    "<br>\n",
    "\n",
    "### 🧠 PROJEKT 🧠, část II., třída `RozdelovacObsahu`:\n",
    "---"
   ]
  },
  {
   "cell_type": "markdown",
   "id": "5ed4dca2-a7b8-45f9-a815-b4a1d62e3245",
   "metadata": {},
   "source": [
    "1. Importuj knihovnu `abc` pro abstraktní třídy a metody,\n",
    "2. vytvořte abstraktní třídy `RozdelovacObsahu` tak, aby obsahovala tyto **abstraktní metody**:\n",
    "    - `oddelovac`,\n",
    "    - `nacti_obsah` (s parametrem `zdroj`),\n",
    "    - `rozdel_obsah` (s parametrem `obsah`),\n",
    "    - `prirad_atributy` (s parametrem `vsechny_poznamky`),\n",
    "    \n",
    "---"
   ]
  },
  {
   "cell_type": "code",
   "execution_count": 112,
   "id": "358b3e2f-dda2-4267-af6b-616a396a2348",
   "metadata": {
    "tags": []
   },
   "outputs": [],
   "source": [
    "from abc import ABC, abstractmethod\n",
    "\n",
    "class RozdelovacObsahu(ABC):\n",
    "    \n",
    "    @abstractmethod\n",
    "    def oddelovac(self):\n",
    "        pass\n",
    "    \n",
    "    @abstractmethod\n",
    "    def nacti_obsah(self, jmeno_souboru: str):\n",
    "        pass\n",
    "    \n",
    "    @abstractmethod\n",
    "    def rozdel_obsah(self, obsah: str):\n",
    "        pass\n",
    "    \n",
    "    @abstractmethod\n",
    "    def prirad_vsechny_atributy(self, vsechny_poznamky: list):\n",
    "        pass"
   ]
  },
  {
   "cell_type": "markdown",
   "id": "ac0376be-5e81-40ae-b9c3-cfed019165c4",
   "metadata": {},
   "source": [
    "<br>\n",
    "\n",
    "### 🧠 PROJEKT 🧠, část III., třída `TXTRozdelovacObsahu`:\n",
    "---"
   ]
  },
  {
   "cell_type": "markdown",
   "id": "a179fde7-402a-408e-b4d1-f3ed306b0f86",
   "metadata": {},
   "source": [
    "1. Vytvoř podle abstraktní třídy `TXTRozdelovacObsahu`, s instančním atributem `jmeno`,\n",
    "2. vytvoř **getter** a **setter** `oddelovac`,\n",
    "3. vytvoř povinnou metodu `nacti_obsah`, ta pracuje pouze s instančním atributem `jmeno`,\n",
    "4. vytvoř povinnou metodu `rozdel_obsah`, která pracuje s jedním parametrem `obsah`. Tato metoda rozdělí obsah podle atributu `oddelovac`,\n",
    "5. vytvoř povinnou statickou metodu `prirad_atributy`, která pracuje s jedním parametrem `obsah`. Tato metoda rozdělí poznámku podle řádků a nachystá atributy `titulek`, `autor`, `umisteni`, `datum`, `popisek`,\n",
    "6. vytvoř povinnou metodu `prirad_vsechny_atributy`, která pracuje s jedním parametrem `vsechny_poznamky`. Tato metoda projde všechny poznámky a z nich posbírá atributy.\n",
    "\n",
    "---"
   ]
  },
  {
   "cell_type": "code",
   "execution_count": 166,
   "id": "bf0b5767-5280-4641-99f3-5ec4cea722b5",
   "metadata": {
    "tags": []
   },
   "outputs": [],
   "source": [
    "from typing import List, Dict, Optional\n",
    "\n",
    "class TXTRozdelovacObsahu(RozdelovacObsahu):\n",
    "    \n",
    "    def __init__(self, jmeno_souboru: str):\n",
    "        self.jmeno_souboru = jmeno_souboru\n",
    "        \n",
    "    @property\n",
    "    def oddelovac(self):\n",
    "        return self._oddelovac\n",
    "    \n",
    "    @oddelovac.setter\n",
    "    def oddelovac(self, hodnota: str) -> None:\n",
    "        if not isinstance(hodnota, str):\n",
    "            raise Exception('Zadaná hodnota není string')\n",
    "        else:\n",
    "            self._oddelovac = hodnota\n",
    "            \n",
    "    def nacti_obsah(self) -> str:\n",
    "        with open(self.jmeno_souboru) as txt:\n",
    "            return txt.read()\n",
    "    \n",
    "    def rozdel_obsah(self, obsah: str) -> List[str]:\n",
    "        return obsah.rstrip(self.oddelovac).split(self.oddelovac)\n",
    "    \n",
    "    @staticmethod\n",
    "    def prirad_atributy(obsah: str) -> Dict[str, Optional[str]]:\n",
    "        try:\n",
    "            prvni_radek, druhy_radek, _, ctvrty_radek = obsah.splitlines()\n",
    "            \n",
    "        except Exception:\n",
    "            print(f'Obsah nelze rozdělit na 4 části: {obsah}')\n",
    "            titulek = autor = umisteni = vytvoreno = popisek = None \n",
    "        else:\n",
    "            titulek, autor = prvni_radek.split(' (')\n",
    "            autor = autor.rstrip(')')\n",
    "            umisteni, vytvoreno = druhy_radek.split(' | ')\n",
    "            umisteni = umisteni.strip('- ')\n",
    "            popisek = ctvrty_radek\n",
    "        finally:\n",
    "            return {\n",
    "                'titulek': titulek,\n",
    "                'autor': autor,\n",
    "                'umisteni': umisteni,\n",
    "                'vytvoreno': vytvoreno,\n",
    "                'popisek': popisek\n",
    "            }\n",
    "    \n",
    "    def prirad_vsechny_atributy(self, vsechny_poznamky: List[str]) -> list:\n",
    "        return [\n",
    "            self.prirad_atributy(poznamka)\n",
    "            for poznamka in vsechny_poznamky\n",
    "            if poznamka\n",
    "        ]"
   ]
  },
  {
   "cell_type": "code",
   "execution_count": 167,
   "id": "302e8660-5895-4617-ac46-d1e540125f86",
   "metadata": {
    "tags": []
   },
   "outputs": [],
   "source": [
    "muj_txt = TXTRozdelovacObsahu('../onsite/project_sample_3.txt')"
   ]
  },
  {
   "cell_type": "code",
   "execution_count": 168,
   "id": "64a3123a-4c52-4e11-9961-ebbd51ba1afc",
   "metadata": {
    "tags": []
   },
   "outputs": [],
   "source": [
    "muj_txt.oddelovac = '==========\\n'"
   ]
  },
  {
   "cell_type": "code",
   "execution_count": 169,
   "id": "62874da9-99aa-491a-b8da-f374281de017",
   "metadata": {
    "tags": []
   },
   "outputs": [],
   "source": [
    "obsah = muj_txt.nacti_obsah()\n",
    "rozdeleny_obsah = muj_txt.rozdel_obsah(obsah)"
   ]
  },
  {
   "cell_type": "code",
   "execution_count": 170,
   "id": "5e05756b-6158-4f54-a4f1-3d9734a26f06",
   "metadata": {
    "tags": []
   },
   "outputs": [],
   "source": [
    "vsechny_atributy = muj_txt.prirad_vsechny_atributy(rozdeleny_obsah)"
   ]
  },
  {
   "cell_type": "code",
   "execution_count": 171,
   "id": "93f46fc7-c1ee-4b8f-babe-6f0a2bfe92b8",
   "metadata": {
    "tags": []
   },
   "outputs": [
    {
     "data": {
      "text/plain": [
       "[{'titulek': 'Faktomluva',\n",
       "  'autor': 'Hans Rosling;Ola Rosling;Anna Roslingová Rönnlundová',\n",
       "  'umisteni': 'Your Highlight on Location 2724-2728',\n",
       "  'vytvoreno': 'Added on Wednesday, July 24, 2019 8:41:27 AM',\n",
       "  'popisek': 'Největším orgánem našeho těla je kůže. Před objevem moderních léků patřila k nejhorším kožním nemocem syfilis. Začínala jako svědivé vřídky a pak si prokousala cestu do kostí, až postihla celou kostru. Nemoc způsobující ohavný vzhled a nesnesitelnou bolest měla v různých zemích různá jména. V Rusku chorobě říkali „polská nemoc“. V Polsku to byla „německá nemoc“, v Německu „francouzská nemoc“ a ve Francii „italská nemoc“. Italové vinu házeli zpátky a nazývali ji „francouzská nemoc“.'},\n",
       " {'titulek': 'Life Is What You Make It',\n",
       "  'autor': 'Peter Buffett',\n",
       "  'umisteni': 'Your Highlight on Location 233-234',\n",
       "  'vytvoreno': 'Added on Monday, August 19, 2019 2:07:48 PM',\n",
       "  'popisek': 'The problem with honoring the rewards of work rather than the work itself is that the rewards can always be taken away.'}]"
      ]
     },
     "execution_count": 171,
     "metadata": {},
     "output_type": "execute_result"
    }
   ],
   "source": [
    "vsechny_atributy"
   ]
  },
  {
   "cell_type": "code",
   "execution_count": 172,
   "id": "0f8f4060-ddef-4749-9297-2289dfa1e750",
   "metadata": {
    "tags": []
   },
   "outputs": [],
   "source": [
    "poznamky_1 = KindlePoznamka(**vsechny_atributy[0])\n",
    "poznamky_2 = KindlePoznamka(**vsechny_atributy[1])"
   ]
  },
  {
   "cell_type": "code",
   "execution_count": 174,
   "id": "5f3c54f9-ab63-410f-adf4-8cdbce53d691",
   "metadata": {
    "tags": []
   },
   "outputs": [
    {
     "data": {
      "text/plain": [
       "KindlePoznamka(autor='Peter Buffett', popisek='The problem with honoring the rewards of work rather than the work itself is that the rewards can always be taken away.', titulek='Life Is What You Make It', umisteni='Your Highlight on Location 233-234', vytvoreno='Added on Monday, August 19, 2019 2:07:48 PM', id_popisku='9CU3YKmQLQGD9Bx')"
      ]
     },
     "execution_count": 174,
     "metadata": {},
     "output_type": "execute_result"
    }
   ],
   "source": [
    "poznamky_2"
   ]
  },
  {
   "cell_type": "markdown",
   "id": "c9c612c2-d45c-4b5a-847c-0e64655ab552",
   "metadata": {},
   "source": [
    "<br>\n",
    "\n",
    "### 🧠 PROJEKT 🧠, část IV., třída `PoznamkovyProcesor`:\n",
    "---"
   ]
  },
  {
   "cell_type": "markdown",
   "id": "3abf45d0-6b53-447b-ba7f-b56ec89980f9",
   "metadata": {},
   "source": [
    "1. Vytvoř třídu `PoznamkovyProcesor` tak, aby obsahovala instanční atributy `vsechny_poznamky` a `text_s_poznamkami`,\n",
    "2. vytvoř *getter* a *setter* pro `text_s_poznamkami`,\n",
    "3. vytvoř metodu `vytvor_poznamku`, která potřebuje parametry `detaily` a `poznamka`. Tato metoda založí nový objekt poznámky pomocí slovníku `detaily` a přidá jej do `vsechny_poznamky`,\n",
    "4. vytvoř metodu `vytvor_vsechny_poznamky` tak, aby procházela `text_s_poznamkami` s pro každou poznámku použila metody používala `vytvor_poznamku`.\n",
    "\n",
    "---"
   ]
  },
  {
   "cell_type": "code",
   "execution_count": 6,
   "id": "43d4aa5c-8121-45ef-ab8f-360221360267",
   "metadata": {
    "tags": []
   },
   "outputs": [],
   "source": []
  },
  {
   "cell_type": "markdown",
   "id": "cea26d9e-bb85-4427-a1d4-0658a44babca",
   "metadata": {},
   "source": [
    "</br>\n",
    "\n",
    "[Formulář po šesté lekci](https://forms.gle/4StnRmZPnRs8rBxw9)"
   ]
  },
  {
   "cell_type": "markdown",
   "id": "933b9ee3-833c-4b97-837b-4d5ce73da730",
   "metadata": {},
   "source": [
    "---"
   ]
  }
 ],
 "metadata": {
  "kernelspec": {
   "display_name": "Python 3 (ipykernel)",
   "language": "python",
   "name": "python3"
  },
  "language_info": {
   "codemirror_mode": {
    "name": "ipython",
    "version": 3
   },
   "file_extension": ".py",
   "mimetype": "text/x-python",
   "name": "python",
   "nbconvert_exporter": "python",
   "pygments_lexer": "ipython3",
   "version": "3.8.10"
  }
 },
 "nbformat": 4,
 "nbformat_minor": 5
}
