{
 "cells": [
  {
   "cell_type": "markdown",
   "metadata": {},
   "source": [
    "### Čtyři základní pilíře objektově-orientovaného programování\n",
    "\n",
    "---\n",
    "Ve skutečnosti jde o čtyři teoretické základy, kterých lze využívat v OOP, příp. na kterých OOP obecně stojí:\n",
    "\n",
    "1. **Zapouzdření** (*~encapsulation*),\n",
    "2. **abstrakce** (*~abstraction*),\n",
    "3. **dědičnost** (*~inheritance*),\n",
    "4. **polymorfismus** (*~polymorphism*).\n",
    "\n",
    "<br>\n",
    "\n",
    "#### Zapouzdření\n",
    "\n",
    "---\n",
    "\n",
    "Jde o omezení přístupu (nebo také schování) k **atributům** a **metodám** ve třídě. Tedy o takové atributy a metody, které se třídou logicky souvisejí.\n",
    "\n",
    "<br>\n",
    "\n",
    "Představ si fotoaparát na svém telefonu. Váš jak jej spustit a použít. Nepotřebuješ znát všechny potřebné atributy a metody, které pracují na pozadí.\n",
    "\n",
    "<br>\n",
    "\n",
    "Praktickou ukázkou může být samotný datový typ string:\n",
    "```python\n",
    "\"matous\".title()     # \"Matous\"\n",
    "\"1234\".isnumeric()   # True\n",
    "\"OOP\".isupper()      # True\n",
    "```\n",
    "\n",
    "<br>\n",
    "\n",
    "Pokud bychom definovali třídu, která bude mít pouze atributy ale nebude mít proměnné, jde prakticky o slovnik.\n",
    "\n",
    "<br>\n",
    "\n",
    "Proto třídám nepřiřazujeme pouze atributy, ale i logicky související metody.\n",
    "\n",
    "<br>\n",
    "\n"
   ]
  },
  {
   "cell_type": "code",
   "execution_count": 5,
   "metadata": {},
   "outputs": [],
   "source": [
    "class LinkScraper:\n",
    "    \"\"\"Scrape the links with specific title.\"\"\"\n",
    "    def __init__(self, url: str):\n",
    "        self.url = url\n",
    "    \n",
    "    def get_page_source(self):\n",
    "        print(f\"Returning source of the page:{self.url} ...\")\n",
    "        \n",
    "    def get_all_texts(self):\n",
    "        print(f\"Getting all texts from the:{self.url} ...\")\n",
    "        \n",
    "    def get_all_links(self):\n",
    "        print(f\"Getting all links from the:{self.url} ...\")"
   ]
  },
  {
   "cell_type": "code",
   "execution_count": 6,
   "metadata": {},
   "outputs": [
    {
     "name": "stdout",
     "output_type": "stream",
     "text": [
      "Returning source of the page:https://wikipedia.org ...\n",
      "Getting all texts from the:https://wikipedia.org ...\n",
      "Getting all links from the:https://wikipedia.org ...\n"
     ]
    }
   ],
   "source": [
    "scraper = LinkScraper(\"https://wikipedia.org\")\n",
    "scraper.get_page_source()\n",
    "scraper.get_all_texts()\n",
    "scraper.get_all_links()"
   ]
  },
  {
   "cell_type": "markdown",
   "metadata": {},
   "source": [
    "<br>\n",
    "\n",
    "Pomocí chráněných metod"
   ]
  },
  {
   "cell_type": "code",
   "execution_count": null,
   "metadata": {},
   "outputs": [],
   "source": []
  },
  {
   "cell_type": "code",
   "execution_count": null,
   "metadata": {},
   "outputs": [],
   "source": [
    "class WebTopic:\n",
    "    def __init__(self, url: str, path: str, title: str, text: str):\n",
    "        self.url = url\n",
    "        self.path = path\n",
    "        self.text = text\n",
    "        self.title = title\n",
    "        \n",
    "\n",
    "class LinkScraper:\n",
    "    \"\"\"Scrape the links with specific title.\"\"\"\n",
    "    \n",
    "    def __init__(self, url: str, title: str)\n",
    "        self.url = url\n",
    "        self.title = title\n",
    "        self.topics: list = []\n",
    "        \n",
    "    def get_all_articles(self):\n",
    "        \"\"\"Get all articles with the specific title.\"\"\"\n",
    "        print(f\"Gettin all articles with the name: {self.title}\")\n",
    "        \n",
    "    def create_new_record(self, record: WebTopic):\n",
    "        self.topics.append(\n",
    "            WebTopic(\n",
    "                self.url,\n",
    "                \n",
    "                self.title\n",
    "            )\n",
    "        )\n",
    "        \n",
    "        \n",
    "        \n",
    "scr = LinkScraper(\"https://wikipedia.org\", \"on_this_day\")"
   ]
  }
 ],
 "metadata": {
  "kernelspec": {
   "display_name": "Python 3",
   "language": "python",
   "name": "python3"
  },
  "language_info": {
   "codemirror_mode": {
    "name": "ipython",
    "version": 3
   },
   "file_extension": ".py",
   "mimetype": "text/x-python",
   "name": "python",
   "nbconvert_exporter": "python",
   "pygments_lexer": "ipython3",
   "version": "3.8.10"
  }
 },
 "nbformat": 4,
 "nbformat_minor": 4
}
