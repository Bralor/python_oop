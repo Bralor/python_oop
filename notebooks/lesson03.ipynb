{
 "cells": [
  {
   "cell_type": "markdown",
   "metadata": {},
   "source": [
    "### Čtyři základní pilíře objektově-orientovaného programování\n",
    "\n",
    "---\n",
    "Ve skutečnosti jde o čtyři teoretické základy, kterých lze využívat v OOP, příp. na kterých OOP obecně stojí:\n",
    "\n",
    "1. **Zapouzdření** (*~encapsulation*),\n",
    "2. **abstrakce** (*~abstraction*),\n",
    "3. **dědičnost** (*~inheritance*),\n",
    "4. **polymorfismus** (*~polymorphism*).\n",
    "\n",
    "<br>\n",
    "\n",
    "#### Zapouzdření\n",
    "\n",
    "---\n",
    "\n",
    "Jde o omezení přístupu (nebo také schování) k **atributům** a **metodám** ve třídě. Tedy o takové atributy a metody, které se třídou logicky souvisejí.\n",
    "\n",
    "<br>\n",
    "\n",
    "Pokud bychom definovali třídu, která bude mít pouze atributy ale nebude mít proměnné, jde prakticky o slovnik.\n",
    "\n",
    "<br>\n",
    "\n",
    "Proto třídám nepřiřazujeme pouze atributy, ale i logicky související metody.\n",
    "\n",
    "<br>\n",
    "\n"
   ]
  },
  {
   "cell_type": "code",
   "execution_count": 5,
   "metadata": {},
   "outputs": [],
   "source": [
    "class LinkScraper:\n",
    "    \"\"\"Scrape the links with specific title.\"\"\"\n",
    "    def __init__(self, url: str):\n",
    "        self.url = url\n",
    "    \n",
    "    def get_page_source(self):\n",
    "        print(f\"Returning source of the page:{self.url} ...\")\n",
    "        \n",
    "    def get_all_texts(self):\n",
    "        print(f\"Getting all texts from the:{self.url} ...\")\n",
    "        \n",
    "    def get_all_links(self):\n",
    "        print(f\"Getting all links from the:{self.url} ...\")"
   ]
  },
  {
   "cell_type": "code",
   "execution_count": 6,
   "metadata": {},
   "outputs": [
    {
     "name": "stdout",
     "output_type": "stream",
     "text": [
      "Returning source of the page:https://wikipedia.org ...\n",
      "Getting all texts from the:https://wikipedia.org ...\n",
      "Getting all links from the:https://wikipedia.org ...\n"
     ]
    }
   ],
   "source": [
    "scraper = LinkScraper(\"https://wikipedia.org\")\n",
    "scraper.get_page_source()\n",
    "scraper.get_all_texts()\n",
    "scraper.get_all_links()"
   ]
  },
  {
   "cell_type": "markdown",
   "metadata": {},
   "source": [
    "<br>\n",
    "\n",
    "Pomocí chráněných metod"
   ]
  },
  {
   "cell_type": "code",
   "execution_count": 2,
   "metadata": {},
   "outputs": [],
   "source": [
    "class BookRecommender:\n",
    "    \"\"\"Recommend the book to the user according to his assignment\"\"\"\n",
    "    \n",
    "    def __init__(self, title: str = None, author: str = None):\n",
    "        if self.__update_app():\n",
    "            self.title = title\n",
    "            self.author = author\n",
    "            self.run_app()\n",
    "\n",
    "    def __update_app(self):\n",
    "        print(\"Updating app..\")\n",
    "        return True\n",
    "        \n",
    "    def run_app(self):\n",
    "        print(\"Running app..\")"
   ]
  },
  {
   "cell_type": "code",
   "execution_count": 3,
   "metadata": {},
   "outputs": [
    {
     "name": "stdout",
     "output_type": "stream",
     "text": [
      "Updating app..\n",
      "Running app..\n"
     ]
    }
   ],
   "source": [
    "app = BookRecommender()"
   ]
  },
  {
   "cell_type": "markdown",
   "metadata": {},
   "source": [
    "<br>\n",
    "\n",
    "Zapouzdření brání v přístupu k atributům nebo metodám omylem ale ne záměrně.\n",
    "\n",
    "<br>\n",
    "\n",
    "#### Abstrakce\n",
    "\n",
    "---\n",
    "Tento pilíř se zaměřuje zejména na **skrývání interních implementací** procesu nebo metod před uživatelem.\n",
    "\n",
    "<br>\n",
    "\n",
    "Ve výsledku uživatel ví, co dělá, ale neví, jak celý proces pracuje.\n",
    "\n",
    "<br>\n",
    "\n",
    "Představ si fotoaparát na svém telefonu. Víš jak jej spustit a použít. Nepotřebuješ znát všechny potřebné atributy a metody, které pracují na pozadí.\n",
    "\n",
    "<br>\n",
    "\n",
    "Praktickou obecná ukázka abstrakce pro datový typ `str`:\n",
    "```python\n",
    "\"matous\".title()     # \"Matous\"\n",
    "\"1234\".isnumeric()   # True\n",
    "\"OOP\".isupper()      # True\n",
    "```\n",
    "\n",
    "<br>\n",
    "\n",
    "Abstrakce v OOP Pythonu:"
   ]
  },
  {
   "cell_type": "code",
   "execution_count": 16,
   "metadata": {},
   "outputs": [],
   "source": [
    "class GooglePaymentProcessor:\n",
    "    def pay(self):\n",
    "        print(\"Processing GooglePay..\")\n",
    "        print(\"Verifying security code..\")\n",
    "        print(\"Changing order status..\")\n",
    "        print(\"-\" * 25)"
   ]
  },
  {
   "cell_type": "code",
   "execution_count": 21,
   "metadata": {},
   "outputs": [
    {
     "name": "stdout",
     "output_type": "stream",
     "text": [
      "Processing GooglePay..\n",
      "Verifying security code..\n",
      "Changing order status..\n",
      "-------------------------\n"
     ]
    }
   ],
   "source": [
    "order_1 = GooglePaymentProcessor()\n",
    "order_1.pay()"
   ]
  },
  {
   "cell_type": "markdown",
   "metadata": {},
   "source": [
    "<br>\n",
    "\n",
    "Jako potenciální vývojář eshopu není tvojí náplní zpracovávat samotnou platbu, ale implementovat její spuštění.\n",
    "\n",
    "<br>\n",
    "\n",
    "Současně potřebuješ doplnit další způsoby platby. Třeba služba `ApplePay`, `Paypal`, aj.\n",
    "\n",
    "<br>\n",
    "\n",
    "V takovém okamžiku můžeš použít modul `abc`:"
   ]
  },
  {
   "cell_type": "code",
   "execution_count": 22,
   "metadata": {},
   "outputs": [],
   "source": [
    "from abc import ABC, abstractmethod  # abstraktní třída a metoda\n",
    "\n",
    "class PaymentProcessor(ABC):  # naše hlavní třída zdědí označení abstraktní třídy\n",
    "    \n",
    "    @abstractmethod           # označíme abstraktní metodu/metody\n",
    "    def pay(self):\n",
    "        \"\"\"Process, verify and change the status of the given order.\"\"\"\n",
    "        pass                  # nepíšeš žádné ohlášení, pouze 'pass'\n",
    "\n",
    "\n",
    "class GooglePaymentProcessor(PaymentProcessor):    # podtřídy zdědí od rodiče funkcionalitu\n",
    "    def pay(self):\n",
    "        print(\"Processing GooglePay..\")\n",
    "        print(\"Verifying security code..\")\n",
    "        print(\"Changing order status..\")\n",
    "        print(\"-\" * 25)\n",
    "        \n",
    "class ApplePaymentProcessor(PaPaymentProcessor):   # podtřídy zdědí od rodiče funkcionalitu\n",
    "    pass\n",
    "\n",
    "class PaypalPaymentProcessor(PaPaymentProcessor):  # podtřídy zdědí od rodiče funkcionalitu\n",
    "    pass"
   ]
  },
  {
   "cell_type": "code",
   "execution_count": 23,
   "metadata": {},
   "outputs": [
    {
     "name": "stdout",
     "output_type": "stream",
     "text": [
      "Processing GooglePay..\n",
      "Verifying security code..\n",
      "Changing order status..\n",
      "-------------------------\n"
     ]
    }
   ],
   "source": [
    "order_1 = GooglePaymentProcessor()\n",
    "\n",
    "order_1.pay()"
   ]
  },
  {
   "cell_type": "markdown",
   "metadata": {},
   "source": [
    "<br>\n",
    "\n",
    "`ABC` je metoda, kterou musíš zdědit z modulu `abc`. Python defaultně nepracuje s konceptem abstraktních tříd jako jiné jazyky.\n",
    "\n",
    "<br>\n",
    "\n",
    "Dále musíš označit metodu jako abstraktní metodu. Použij dekorátor `@abstractmethod`.\n",
    "\n",
    "<br>\n",
    "\n",
    "V abstraktní metodě nepíšeš žádné ohlášení, pouze dokumentaci abstraktní metody a ohlášení `pass`.\n",
    "\n",
    "<br>\n",
    "\n",
    "Výsledkem je potom abstraktní třída `PaymentProcessor`, kterou jako uživatel (programátor) vidíš.\n",
    " \n",
    "<br> \n",
    "\n",
    "Konkrátní metody v rámci ostatních dceřinných tříd jsou uživateli skryté (abstraktní metoda na ně odkazuje)."
   ]
  },
  {
   "cell_type": "markdown",
   "metadata": {},
   "source": [
    "<br>\n",
    "\n",
    "#### Dědičnost\n",
    "\n",
    "---"
   ]
  },
  {
   "cell_type": "code",
   "execution_count": null,
   "metadata": {},
   "outputs": [],
   "source": []
  }
 ],
 "metadata": {
  "kernelspec": {
   "display_name": "Python 3",
   "language": "python",
   "name": "python3"
  },
  "language_info": {
   "codemirror_mode": {
    "name": "ipython",
    "version": 3
   },
   "file_extension": ".py",
   "mimetype": "text/x-python",
   "name": "python",
   "nbconvert_exporter": "python",
   "pygments_lexer": "ipython3",
   "version": "3.8.10"
  }
 },
 "nbformat": 4,
 "nbformat_minor": 4
}
