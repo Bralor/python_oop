{
 "cells": [
  {
   "cell_type": "markdown",
   "metadata": {},
   "source": [
    "### Čtyři základní pilíře objektově-orientovaného programování\n",
    "\n",
    "---\n",
    "Ve skutečnosti jde o čtyři teoretické základy, kterých lze využívat v OOP, příp. na kterých OOP obecně stojí:\n",
    "\n",
    "1. **Zapouzdření** (*~encapsulation*),\n",
    "2. **abstrakce** (*~abstraction*),\n",
    "3. **dědičnost** (*~inheritance*),\n",
    "4. **polymorfismus** (*~polymorphism*).\n",
    "\n",
    "<br>\n",
    "\n",
    "#### Zapouzdření\n",
    "\n",
    "---\n",
    "\n",
    "Jde o omezení přístupu (nebo také schování) k **atributům** a **metodám** ve třídě. Tedy o takové atributy a metody, které se třídou logicky souvisejí.\n",
    "\n",
    "<br>\n",
    "\n",
    "Pokud bychom definovali třídu, která bude mít pouze atributy ale nebude mít proměnné, jde prakticky o slovnik.\n",
    "\n",
    "<br>\n",
    "\n",
    "Proto třídám nepřiřazujeme pouze atributy, ale i logicky související metody.\n",
    "\n",
    "<br>\n",
    "\n"
   ]
  },
  {
   "cell_type": "code",
   "execution_count": 5,
   "metadata": {},
   "outputs": [],
   "source": [
    "class LinkScraper:\n",
    "    \"\"\"Scrape the links with specific title.\"\"\"\n",
    "    def __init__(self, url: str):\n",
    "        self.url = url\n",
    "    \n",
    "    def get_page_source(self):\n",
    "        print(f\"Returning source of the page:{self.url} ...\")\n",
    "        \n",
    "    def get_all_texts(self):\n",
    "        print(f\"Getting all texts from the:{self.url} ...\")\n",
    "        \n",
    "    def get_all_links(self):\n",
    "        print(f\"Getting all links from the:{self.url} ...\")"
   ]
  },
  {
   "cell_type": "code",
   "execution_count": 6,
   "metadata": {},
   "outputs": [
    {
     "name": "stdout",
     "output_type": "stream",
     "text": [
      "Returning source of the page:https://wikipedia.org ...\n",
      "Getting all texts from the:https://wikipedia.org ...\n",
      "Getting all links from the:https://wikipedia.org ...\n"
     ]
    }
   ],
   "source": [
    "scraper = LinkScraper(\"https://wikipedia.org\")\n",
    "scraper.get_page_source()\n",
    "scraper.get_all_texts()\n",
    "scraper.get_all_links()"
   ]
  },
  {
   "cell_type": "markdown",
   "metadata": {},
   "source": [
    "<br>\n",
    "\n",
    "Co když ale někdo přepíše tvoji metodu a tím poškodí funkcionalitu tvého balíčku?\n",
    "\n",
    "<br>\n",
    "\n",
    "Pomocí chráněných metod, můžeš posílit abstrakci a zamezit nechtěnému přepsání:"
   ]
  },
  {
   "cell_type": "code",
   "execution_count": 2,
   "metadata": {},
   "outputs": [],
   "source": [
    "class BookRecommender:\n",
    "    \"\"\"Recommend the book to the user according to his assignment\"\"\"\n",
    "    \n",
    "    def __init__(self, title: str = None, author: str = None):\n",
    "        if self.__update_app():\n",
    "            self.title = title\n",
    "            self.author = author\n",
    "            self.run_app()\n",
    "\n",
    "    def __update_app(self):\n",
    "        print(\"Updating app..\")\n",
    "        return True\n",
    "        \n",
    "    def run_app(self):\n",
    "        print(\"Running app..\")"
   ]
  },
  {
   "cell_type": "code",
   "execution_count": 3,
   "metadata": {},
   "outputs": [
    {
     "name": "stdout",
     "output_type": "stream",
     "text": [
      "Updating app..\n",
      "Running app..\n"
     ]
    }
   ],
   "source": [
    "app = BookRecommender()"
   ]
  },
  {
   "cell_type": "markdown",
   "metadata": {},
   "source": [
    "<br>\n",
    "\n",
    "Zapouzdření brání v přístupu k atributům nebo metodám omylem ale ne záměrně.\n",
    "\n",
    "<br>\n",
    "\n",
    "#### Abstrakce\n",
    "\n",
    "---\n",
    "Tento pilíř se zaměřuje zejména na **skrývání interních implementací** procesu nebo metod před uživatelem.\n",
    "\n",
    "<br>\n",
    "\n",
    "Ve výsledku uživatel ví, co dělá, ale neví, jak celý proces pracuje.\n",
    "\n",
    "<br>\n",
    "\n",
    "Představ si fotoaparát na svém telefonu. Víš jak jej spustit a použít. Nepotřebuješ znát všechny potřebné atributy a metody, které pracují na pozadí.\n",
    "\n",
    "<br>\n",
    "\n",
    "Praktickou obecná ukázka abstrakce pro datový typ `str`:\n",
    "```python\n",
    "\"matous\".title()     # \"Matous\"\n",
    "\"1234\".isnumeric()   # True\n",
    "\"OOP\".isupper()      # True\n",
    "```\n",
    "\n",
    "<br>\n",
    "\n",
    "Abstrakce v OOP Pythonu:"
   ]
  },
  {
   "cell_type": "code",
   "execution_count": 16,
   "metadata": {},
   "outputs": [],
   "source": [
    "class GooglePaymentProcessor:\n",
    "    def pay(self):\n",
    "        print(\"Processing GooglePay..\")\n",
    "        print(\"Verifying security code..\")\n",
    "        print(\"Changing order status..\")\n",
    "        print(\"-\" * 25)"
   ]
  },
  {
   "cell_type": "code",
   "execution_count": 21,
   "metadata": {},
   "outputs": [
    {
     "name": "stdout",
     "output_type": "stream",
     "text": [
      "Processing GooglePay..\n",
      "Verifying security code..\n",
      "Changing order status..\n",
      "-------------------------\n"
     ]
    }
   ],
   "source": [
    "order_1 = GooglePaymentProcessor()\n",
    "order_1.pay()"
   ]
  },
  {
   "cell_type": "markdown",
   "metadata": {},
   "source": [
    "<br>\n",
    "\n",
    "Jako potenciální vývojář eshopu není tvojí náplní zpracovávat samotnou platbu, ale implementovat její spuštění.\n",
    "\n",
    "<br>\n",
    "\n",
    "Současně potřebuješ doplnit další způsoby platby. Třeba služba `ApplePay`, `Paypal`, aj.\n",
    "\n",
    "<br>\n",
    "\n",
    "V takovém okamžiku můžeš použít modul `abc`:"
   ]
  },
  {
   "cell_type": "code",
   "execution_count": 22,
   "metadata": {},
   "outputs": [],
   "source": [
    "from abc import ABC, abstractmethod  # abstraktní třída a metoda\n",
    "\n",
    "class PaymentProcessor(ABC):  # naše hlavní třída zdědí označení abstraktní třídy\n",
    "    \n",
    "    @abstractmethod           # označíme abstraktní metodu/metody\n",
    "    def pay(self):\n",
    "        \"\"\"Process, verify and change the status of the given order.\"\"\"\n",
    "        pass                  # nepíšeš žádné ohlášení, pouze 'pass'\n",
    "\n",
    "\n",
    "class GooglePaymentProcessor(PaymentProcessor):    # podtřídy zdědí od rodiče funkcionalitu\n",
    "    def pay(self):\n",
    "        print(\"Processing GooglePay..\")\n",
    "        print(\"Verifying security code..\")\n",
    "        print(\"Changing order status..\")\n",
    "        print(\"-\" * 25)\n",
    "        \n",
    "class ApplePaymentProcessor(PaPaymentProcessor):   # podtřídy zdědí od rodiče funkcionalitu\n",
    "    pass\n",
    "\n",
    "class PaypalPaymentProcessor(PaPaymentProcessor):  # podtřídy zdědí od rodiče funkcionalitu\n",
    "    pass"
   ]
  },
  {
   "cell_type": "code",
   "execution_count": 23,
   "metadata": {},
   "outputs": [
    {
     "name": "stdout",
     "output_type": "stream",
     "text": [
      "Processing GooglePay..\n",
      "Verifying security code..\n",
      "Changing order status..\n",
      "-------------------------\n"
     ]
    }
   ],
   "source": [
    "order_1 = GooglePaymentProcessor()\n",
    "\n",
    "order_1.pay()"
   ]
  },
  {
   "cell_type": "markdown",
   "metadata": {},
   "source": [
    "<br>\n",
    "\n",
    "`ABC` je metoda, kterou musíš zdědit z modulu `abc`. Python defaultně nepracuje s konceptem abstraktních tříd jako jiné jazyky.\n",
    "\n",
    "<br>\n",
    "\n",
    "Dále musíš označit metodu jako abstraktní metodu. Použij dekorátor `@abstractmethod`.\n",
    "\n",
    "<br>\n",
    "\n",
    "V abstraktní metodě nepíšeš žádné ohlášení, pouze dokumentaci abstraktní metody a ohlášení `pass`.\n",
    "\n",
    "<br>\n",
    "\n",
    "Výsledkem je potom abstraktní třída `PaymentProcessor`, kterou jako uživatel (programátor) vidíš.\n",
    " \n",
    "<br> \n",
    "\n",
    "Konkrátní metody v rámci ostatních dceřinných tříd jsou uživateli skryté (abstraktní metoda na ně odkazuje)."
   ]
  },
  {
   "cell_type": "markdown",
   "metadata": {},
   "source": [
    "<br>\n",
    "\n",
    "#### Dědičnost\n",
    "\n",
    "---\n",
    "\n",
    "Dědičnost je prvek OOP, díky kterému můžeme přenášet atributy příp. metody **rodičovské třídy** na její **potomky**:"
   ]
  },
  {
   "cell_type": "code",
   "execution_count": 30,
   "metadata": {},
   "outputs": [],
   "source": [
    "class Employee:\n",
    "    def __init__(self, name: str, age: int, wage: int):\n",
    "        self.age = age\n",
    "        self.name = name\n",
    "        self.wage = wage\n",
    "        self.access_db: bool = False\n",
    "        self.access_vcs: bool = False\n",
    "        self.email = self.__generate_email()\n",
    "\n",
    "    def __generate_email(self):\n",
    "        domain: str = \"@nic.cz\"\n",
    "        return f\"Email: {self.name.lower()}{domain}\""
   ]
  },
  {
   "cell_type": "code",
   "execution_count": 37,
   "metadata": {},
   "outputs": [
    {
     "name": "stdout",
     "output_type": "stream",
     "text": [
      "first_emp.name='Lukas'\n",
      "first_emp.age=28\n",
      "first_emp.email='Email: lukas@nic.cz'\n",
      "first_emp.access_vcs=False\n"
     ]
    }
   ],
   "source": [
    "first_emp = Employee(\"Lukas\", 28, 30_000)\n",
    "print(\n",
    "    f\"{first_emp.name=}\",\n",
    "    f\"{first_emp.age=}\",\n",
    "    f\"{first_emp.email=}\",\n",
    "    f\"{first_emp.access_vcs=}\",\n",
    "    sep=\"\\n\"\n",
    ")"
   ]
  },
  {
   "cell_type": "markdown",
   "metadata": {},
   "source": [
    "<br>\n",
    "\n",
    "Vytvořili jsme nového zaměstnance (jeho instanci). Jde o úvodní pozici bez zaměření, bez zaškolení.\n",
    "\n",
    "<br>\n",
    "\n",
    "Pokud budeš chtít do systému specifikovat novou pozici, která bude mít speciální privilegia, občas se dědičnost můžeš hodit jako základní (rodičovská) třída, která lze rozšířit potomky\n",
    "\n",
    "<br>\n",
    "\n",
    "Přidáme další pozici, *testera*:"
   ]
  },
  {
   "cell_type": "code",
   "execution_count": 44,
   "metadata": {},
   "outputs": [],
   "source": [
    "class Tester(Employee):\n",
    "    def get_access_to_vcs(self):\n",
    "        self.access_vcs: bool = True\n",
    "        print(\"Added to the repository as a tester\")        "
   ]
  },
  {
   "cell_type": "code",
   "execution_count": null,
   "metadata": {},
   "outputs": [],
   "source": [
    "tester_1 = Tester(\"Matous\", 30, 40_000)\n",
    "tester_1.get_access_to_vcs()"
   ]
  },
  {
   "cell_type": "markdown",
   "metadata": {},
   "source": [
    "<br>\n",
    "\n",
    "Vidíš, že třída `Tester` má svoji vlastní metodu `get_access_to_vcs`.\n",
    "\n",
    "<br>\n",
    "\n",
    "Současně ale zdědila základní instanční atributy ze třídy `Employee`:"
   ]
  },
  {
   "cell_type": "code",
   "execution_count": 45,
   "metadata": {},
   "outputs": [
    {
     "name": "stdout",
     "output_type": "stream",
     "text": [
      "Added to the repository as a tester\n",
      "tester_1.name='Matous'\n",
      "tester_1.age=30\n",
      "tester_1.email='Email: matous@nic.cz'\n",
      "tester_1.access_vcs=True\n"
     ]
    }
   ],
   "source": [
    "print(\n",
    "    f\"{tester_1.name=}\",\n",
    "    f\"{tester_1.age=}\",\n",
    "    f\"{tester_1.email=}\",\n",
    "    f\"{tester_1.access_vcs=}\",\n",
    "    sep=\"\\n\"\n",
    ")"
   ]
  },
  {
   "cell_type": "markdown",
   "metadata": {},
   "source": [
    "<br>\n",
    "\n",
    "V průběhu času budeš chtít přidat nový typ zaměstnance, který má opět zdědí stávající atributy a současně přístup k vlastním: "
   ]
  },
  {
   "cell_type": "code",
   "execution_count": 55,
   "metadata": {},
   "outputs": [],
   "source": [
    "class BigDataEngineer(Employee):\n",
    "\n",
    "    def get_access_to_vcs(self):\n",
    "        self.access_vcs: bool = True\n",
    "        print(\"Added to the repository..\")\n",
    "        \n",
    "    def get_access_to_db(self):\n",
    "        self.access_db: bool = True\n",
    "        print(\"Added to the dbs..\")"
   ]
  },
  {
   "cell_type": "code",
   "execution_count": null,
   "metadata": {},
   "outputs": [],
   "source": [
    "data_ai_1 = BigDataEngineer(\"Petr\", 31, 100_000)\n",
    "data_ai_1.get_access_to_vcs()\n",
    "data_ai_1.get_access_to_db()"
   ]
  },
  {
   "cell_type": "markdown",
   "metadata": {},
   "source": [
    "<br>\n",
    "\n",
    "Poslední třída `BigDataEngineer` je opět potomkem třídy `Employee`, takže pro ni platí stejná pravidla jako pro třídu `Tester`."
   ]
  },
  {
   "cell_type": "code",
   "execution_count": 52,
   "metadata": {},
   "outputs": [
    {
     "name": "stdout",
     "output_type": "stream",
     "text": [
      "Added to the repository..\n",
      "Added to the dbs..\n",
      "data_ai_1.name='Petr'\n",
      "data_ai_1.age=31\n",
      "data_ai_1.email='Email: petr@nic.cz'\n",
      "data_ai_1.access_vcs=True\n",
      "data_ai_1.access_db=True\n"
     ]
    }
   ],
   "source": [
    "print(\n",
    "    f\"{data_ai_1.name=}\",\n",
    "    f\"{data_ai_1.age=}\",\n",
    "    f\"{data_ai_1.email=}\",\n",
    "    f\"{data_ai_1.access_vcs=}\",\n",
    "    f\"{data_ai_1.access_db=}\",\n",
    "    sep=\"\\n\"\n",
    ")"
   ]
  },
  {
   "cell_type": "markdown",
   "metadata": {},
   "source": [
    "<br>\n",
    "\n",
    "Všimni si ale metody `get_access_to_vcs`. Obě třídy potomků mají tuto metodu společnou."
   ]
  },
  {
   "cell_type": "code",
   "execution_count": 56,
   "metadata": {},
   "outputs": [
    {
     "ename": "TypeError",
     "evalue": "Cannot create a consistent method resolution\norder (MRO) for bases Employee, Tester",
     "output_type": "error",
     "traceback": [
      "\u001b[0;31m---------------------------------------------------------------------------\u001b[0m",
      "\u001b[0;31mTypeError\u001b[0m                                 Traceback (most recent call last)",
      "\u001b[0;32m<ipython-input-56-bcc75e8d029b>\u001b[0m in \u001b[0;36m<module>\u001b[0;34m\u001b[0m\n\u001b[0;32m----> 1\u001b[0;31m \u001b[0;32mclass\u001b[0m \u001b[0mBigDataEngineer\u001b[0m\u001b[0;34m(\u001b[0m\u001b[0mEmployee\u001b[0m\u001b[0;34m,\u001b[0m \u001b[0mTester\u001b[0m\u001b[0;34m)\u001b[0m\u001b[0;34m:\u001b[0m\u001b[0;34m\u001b[0m\u001b[0;34m\u001b[0m\u001b[0m\n\u001b[0m\u001b[1;32m      2\u001b[0m \u001b[0;34m\u001b[0m\u001b[0m\n\u001b[1;32m      3\u001b[0m     \u001b[0;32mdef\u001b[0m \u001b[0mget_access_to_db\u001b[0m\u001b[0;34m(\u001b[0m\u001b[0mself\u001b[0m\u001b[0;34m)\u001b[0m\u001b[0;34m:\u001b[0m\u001b[0;34m\u001b[0m\u001b[0;34m\u001b[0m\u001b[0m\n\u001b[1;32m      4\u001b[0m         \u001b[0mself\u001b[0m\u001b[0;34m.\u001b[0m\u001b[0maccess_db\u001b[0m\u001b[0;34m:\u001b[0m \u001b[0mbool\u001b[0m \u001b[0;34m=\u001b[0m \u001b[0;32mTrue\u001b[0m\u001b[0;34m\u001b[0m\u001b[0;34m\u001b[0m\u001b[0m\n\u001b[1;32m      5\u001b[0m         \u001b[0mprint\u001b[0m\u001b[0;34m(\u001b[0m\u001b[0;34m\"Added to the dbs..\"\u001b[0m\u001b[0;34m)\u001b[0m\u001b[0;34m\u001b[0m\u001b[0;34m\u001b[0m\u001b[0m\n",
      "\u001b[0;31mTypeError\u001b[0m: Cannot create a consistent method resolution\norder (MRO) for bases Employee, Tester"
     ]
    }
   ],
   "source": [
    "class BigDataEngineer(Employee, Tester):\n",
    "        \n",
    "    def get_access_to_db(self):\n",
    "        self.access_db: bool = True\n",
    "        print(\"Added to the dbs..\")"
   ]
  },
  {
   "cell_type": "markdown",
   "metadata": {},
   "source": [
    "<br>\n",
    "\n",
    "Někdy se ale může začít proces dědičnost mírně zvrtávat:"
   ]
  },
  {
   "cell_type": "code",
   "execution_count": null,
   "metadata": {},
   "outputs": [],
   "source": [
    "class Employee:\n",
    "    pass\n",
    "\n",
    "class FrontendDev(Employee):\n",
    "    pass\n",
    "\n",
    "class BackendDev(Employee):\n",
    "    pass\n",
    "\n",
    "class FullstackDev(FrontendDev, BackendDev):\n",
    "    pass"
   ]
  },
  {
   "cell_type": "markdown",
   "metadata": {},
   "source": [
    "<br>\n",
    "\n",
    "Jednotlivé odkazování přestává být zřetelné a program se stává příliš komplexní.\n",
    "\n",
    "<br>\n",
    "\n",
    "Nejprve interpret vyhledává metody nebo atributy v aktuální třídě (potomkovi) a potom teprve začíná sledovat řád, který jsme nastavili pomocí dědičnosti.\n",
    "\n",
    "<br>\n",
    "\n",
    "Tento směr se nazývá jako **MRO** (*~method resolution order*), který je v podstatě sadou pravidel při dědění."
   ]
  },
  {
   "cell_type": "code",
   "execution_count": 85,
   "metadata": {},
   "outputs": [],
   "source": [
    "class Employee:\n",
    "    def me(self):\n",
    "        print(\"Třída 'Employee'\")\n",
    "\n",
    "class FrontendDev(Employee):\n",
    "    def me(self):\n",
    "        print(\"\\t --> Třída 'FrontendDev'\")\n",
    "\n",
    "class BackendDev(Employee):\n",
    "    def me(self):\n",
    "        print(\"\\t --> Třída 'BackendDev'\")\n",
    "\n",
    "class FullstackDev(FrontendDev, BackendDev):\n",
    "    pass"
   ]
  },
  {
   "cell_type": "code",
   "execution_count": 86,
   "metadata": {},
   "outputs": [],
   "source": [
    "emp = Employee()\n",
    "back = BackendDev()\n",
    "front = FrontendDev()\n",
    "full = FullstackDev()"
   ]
  },
  {
   "cell_type": "code",
   "execution_count": 87,
   "metadata": {},
   "outputs": [
    {
     "name": "stdout",
     "output_type": "stream",
     "text": [
      "Třída 'Employee'\n",
      "\t --> Třída 'BackendDev'\n",
      "\t --> Třída 'FrontendDev'\n",
      "\t --> Třída 'BackendDev'\n"
     ]
    }
   ],
   "source": [
    "emp.me()\n",
    "back.me()\n",
    "front.me()\n",
    "full.me()"
   ]
  },
  {
   "cell_type": "markdown",
   "metadata": {},
   "source": [
    "<br>\n",
    "\n",
    "Někdy se MRO označuje také jako linearizace procesu dědění.\n",
    "\n",
    "<br>\n",
    "\n",
    "Pokud mám toto \"diamanotové\" schéma dědění, potom si třída `FullstackDev` vezme stejnojmennou metodu z **prvního** zapsaného rodiče."
   ]
  },
  {
   "cell_type": "code",
   "execution_count": 101,
   "metadata": {},
   "outputs": [],
   "source": [
    "class Employee:\n",
    "    def __init__(self, name: str, email: str):\n",
    "        self.name = name\n",
    "        self.email = email\n",
    "\n",
    "class Developer(Employee):\n",
    "    def __init__(self, certificate):\n",
    "        self.certificate = certificate"
   ]
  },
  {
   "cell_type": "code",
   "execution_count": 102,
   "metadata": {},
   "outputs": [],
   "source": [
    "emp = Employee(\"Matous\", \"matous@nic.cz\")"
   ]
  },
  {
   "cell_type": "code",
   "execution_count": 103,
   "metadata": {},
   "outputs": [
    {
     "ename": "TypeError",
     "evalue": "__init__() takes 2 positional arguments but 4 were given",
     "output_type": "error",
     "traceback": [
      "\u001b[0;31m---------------------------------------------------------------------------\u001b[0m",
      "\u001b[0;31mTypeError\u001b[0m                                 Traceback (most recent call last)",
      "\u001b[0;32m<ipython-input-103-6488c042e6f0>\u001b[0m in \u001b[0;36m<module>\u001b[0;34m\u001b[0m\n\u001b[0;32m----> 1\u001b[0;31m \u001b[0mdev\u001b[0m \u001b[0;34m=\u001b[0m \u001b[0mDeveloper\u001b[0m\u001b[0;34m(\u001b[0m\u001b[0;34m\"Petr\"\u001b[0m\u001b[0;34m,\u001b[0m \u001b[0;34m\"petr@nic.cz\"\u001b[0m\u001b[0;34m,\u001b[0m \u001b[0;34m\"PythonEngetoCert\"\u001b[0m\u001b[0;34m)\u001b[0m\u001b[0;34m\u001b[0m\u001b[0;34m\u001b[0m\u001b[0m\n\u001b[0m",
      "\u001b[0;31mTypeError\u001b[0m: __init__() takes 2 positional arguments but 4 were given"
     ]
    }
   ],
   "source": [
    "dev = Developer(\"Petr\", \"petr@nic.cz\", \"PythonEngetoCert\")"
   ]
  },
  {
   "cell_type": "code",
   "execution_count": 106,
   "metadata": {},
   "outputs": [],
   "source": [
    "dev = Developer(\"PythonEngetoCert\")"
   ]
  },
  {
   "cell_type": "code",
   "execution_count": 107,
   "metadata": {},
   "outputs": [
    {
     "ename": "AttributeError",
     "evalue": "'Developer' object has no attribute 'name'",
     "output_type": "error",
     "traceback": [
      "\u001b[0;31m---------------------------------------------------------------------------\u001b[0m",
      "\u001b[0;31mAttributeError\u001b[0m                            Traceback (most recent call last)",
      "\u001b[0;32m<ipython-input-107-df4cfabb901e>\u001b[0m in \u001b[0;36m<module>\u001b[0;34m\u001b[0m\n\u001b[0;32m----> 1\u001b[0;31m \u001b[0mdev\u001b[0m\u001b[0;34m.\u001b[0m\u001b[0mname\u001b[0m\u001b[0;34m\u001b[0m\u001b[0;34m\u001b[0m\u001b[0m\n\u001b[0m",
      "\u001b[0;31mAttributeError\u001b[0m: 'Developer' object has no attribute 'name'"
     ]
    }
   ],
   "source": [
    "dev.name"
   ]
  },
  {
   "cell_type": "code",
   "execution_count": 108,
   "metadata": {},
   "outputs": [
    {
     "ename": "AttributeError",
     "evalue": "'Developer' object has no attribute 'email'",
     "output_type": "error",
     "traceback": [
      "\u001b[0;31m---------------------------------------------------------------------------\u001b[0m",
      "\u001b[0;31mAttributeError\u001b[0m                            Traceback (most recent call last)",
      "\u001b[0;32m<ipython-input-108-9f74075c8ea3>\u001b[0m in \u001b[0;36m<module>\u001b[0;34m\u001b[0m\n\u001b[0;32m----> 1\u001b[0;31m \u001b[0mdev\u001b[0m\u001b[0;34m.\u001b[0m\u001b[0memail\u001b[0m\u001b[0;34m\u001b[0m\u001b[0;34m\u001b[0m\u001b[0m\n\u001b[0m",
      "\u001b[0;31mAttributeError\u001b[0m: 'Developer' object has no attribute 'email'"
     ]
    }
   ],
   "source": [
    "dev.email"
   ]
  },
  {
   "cell_type": "code",
   "execution_count": 109,
   "metadata": {},
   "outputs": [
    {
     "data": {
      "text/plain": [
       "'PythonEngetoCert'"
      ]
     },
     "execution_count": 109,
     "metadata": {},
     "output_type": "execute_result"
    }
   ],
   "source": [
    "dev.certificate"
   ]
  },
  {
   "cell_type": "markdown",
   "metadata": {},
   "source": [
    "<br>\n",
    "\n",
    "Co dělat?\n",
    "- přidat **nový atribut** i do dceřinné třídy,\n",
    "- doplnit původní metodu `__init__`, (starší varianta),\n",
    "- doplnit `__super__` metodu,"
   ]
  },
  {
   "cell_type": "code",
   "execution_count": 111,
   "metadata": {},
   "outputs": [],
   "source": [
    "class Developer(Employee):\n",
    "    def __init__(self, name: str, email: str, certificate: str):\n",
    "        self.name = name\n",
    "        self.email = email\n",
    "        self.certificate = certificate"
   ]
  },
  {
   "cell_type": "code",
   "execution_count": 112,
   "metadata": {},
   "outputs": [],
   "source": [
    "dev = Developer(\"Petr\", \"petr@nic.cz\", \"PythonEngetoCert\")"
   ]
  },
  {
   "cell_type": "code",
   "execution_count": 113,
   "metadata": {},
   "outputs": [
    {
     "name": "stdout",
     "output_type": "stream",
     "text": [
      "Petr\n",
      "petr@nic.cz\n",
      "PythonEngetoCert\n"
     ]
    }
   ],
   "source": [
    "print(\n",
    "    dev.name,\n",
    "    dev.email,\n",
    "    dev.certificate,\n",
    "    sep=\"\\n\"\n",
    ")"
   ]
  },
  {
   "cell_type": "code",
   "execution_count": 114,
   "metadata": {},
   "outputs": [],
   "source": [
    "class Developer(Employee):\n",
    "    def __init__(self, name: str, email: str, certificate: str):\n",
    "        Employee.__init__(self, name, email)\n",
    "        self.certificate = certificate"
   ]
  },
  {
   "cell_type": "code",
   "execution_count": 115,
   "metadata": {},
   "outputs": [],
   "source": [
    "dev = Developer(\"Petr\", \"petr@nic.cz\", \"PythonEngetoCert\")"
   ]
  },
  {
   "cell_type": "code",
   "execution_count": 116,
   "metadata": {},
   "outputs": [
    {
     "name": "stdout",
     "output_type": "stream",
     "text": [
      "Petr\n",
      "petr@nic.cz\n",
      "PythonEngetoCert\n"
     ]
    }
   ],
   "source": [
    "print(\n",
    "    dev.name,\n",
    "    dev.email,\n",
    "    dev.certificate,\n",
    "    sep=\"\\n\"\n",
    ")"
   ]
  },
  {
   "cell_type": "code",
   "execution_count": 121,
   "metadata": {},
   "outputs": [],
   "source": [
    "class Developer(Employee):\n",
    "    def __init__(self, name: str, email: str, certificate: str):\n",
    "        super().__init__(name, email)\n",
    "        self.certificate = certificate"
   ]
  },
  {
   "cell_type": "code",
   "execution_count": 122,
   "metadata": {},
   "outputs": [],
   "source": [
    "dev = Developer(\"Petr\", \"petr@nic.cz\", \"PythonEngetoCert\")"
   ]
  },
  {
   "cell_type": "code",
   "execution_count": 123,
   "metadata": {},
   "outputs": [
    {
     "name": "stdout",
     "output_type": "stream",
     "text": [
      "Petr\n",
      "petr@nic.cz\n",
      "PythonEngetoCert\n"
     ]
    }
   ],
   "source": [
    "print(\n",
    "    dev.name,\n",
    "    dev.email,\n",
    "    dev.certificate,\n",
    "    sep=\"\\n\"\n",
    ")"
   ]
  },
  {
   "cell_type": "code",
   "execution_count": null,
   "metadata": {},
   "outputs": [],
   "source": []
  }
 ],
 "metadata": {
  "kernelspec": {
   "display_name": "Python 3",
   "language": "python",
   "name": "python3"
  },
  "language_info": {
   "codemirror_mode": {
    "name": "ipython",
    "version": 3
   },
   "file_extension": ".py",
   "mimetype": "text/x-python",
   "name": "python",
   "nbconvert_exporter": "python",
   "pygments_lexer": "ipython3",
   "version": "3.8.10"
  }
 },
 "nbformat": 4,
 "nbformat_minor": 4
}
