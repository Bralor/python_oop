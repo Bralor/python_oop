{
 "cells": [
  {
   "cell_type": "markdown",
   "metadata": {},
   "source": [
    "### Základní pilíře objektově-orientovaného programování\n",
    "\n",
    "---\n",
    "Ve skutečnosti jde o **čtyři teoretické základy**, kterých lze využívat v OOP, příp. na kterých obecně stojí:\n",
    "\n",
    "1. **Polymorfismus** (*~polymorphism*),\n",
    "2. **zapouzdření** (*~encapsulation*),\n",
    "3. **dědičnost** (*~inheritance*),\n",
    "4. **abstrakce** (*~abstraction*)."
   ]
  },
  {
   "cell_type": "markdown",
   "metadata": {},
   "source": [
    "<br>\n",
    "\n",
    "#### Polymorfismus ( ~polymorphism)\n",
    "\n",
    "---\n",
    "Polymorfismus je koncept, který stojí za efektivním (pěkným) pozadím OOP. Doslova znamená *mnohotvárnost*.\n",
    "\n",
    "<br>\n",
    "\n",
    "Příkladem může být zabudovaná funkce `len` (resp. magická metoda `__len__`"
   ]
  },
  {
   "cell_type": "code",
   "execution_count": null,
   "metadata": {},
   "outputs": [],
   "source": [
    "print(\n",
    "    len(\"Matous\"),                                                             # str\n",
    "    len([\"město\", \"moře\", \"kuře\", \"stavení\"]),                                 # list\n",
    "    len({\"jmeno\": \"Matous\", \"prijmeni\": \"Holinka\", \"email\": \"matous@nic.cz\"}), # dict\n",
    "    sep=\"\\n\"\n",
    ")"
   ]
  },
  {
   "cell_type": "markdown",
   "metadata": {},
   "source": [
    "<br>\n",
    "\n",
    "Vidíš, že funkce `len` umí pracovat s různými datovými typy.\n",
    "\n",
    "<br>\n",
    "\n",
    "Vrací specifickou hodnotu pro každý datový typ zvlášť.\n",
    "\n",
    "1. `str`, délka řetězce,\n",
    "2. `list`, počet údajů v sekvenci,\n",
    "3. `dict`, počet klíčů v objektu\n",
    "\n",
    "<br>\n",
    "\n",
    "Dále tento koncept umožňuje přepisovat jména a použití **metod**:"
   ]
  },
  {
   "cell_type": "code",
   "execution_count": null,
   "metadata": {},
   "outputs": [],
   "source": [
    "class IHnedTopicScraper:\n",
    "    \"\"\"Scrape links from the given url.\"\"\"\n",
    "    scraped_links: int = 0\n",
    "        \n",
    "    def __init__(self, url: str):\n",
    "        self.url = url\n",
    "        IHnedTopicScraper.add_link()\n",
    "    \n",
    "    def show_status(self) -> None:\n",
    "        print(f\"Already collected {self.scraped_links} topics..\")\n",
    "        \n",
    "    @classmethod\n",
    "    def add_link(cls) -> None:\n",
    "        cls.scraped_links += 1"
   ]
  },
  {
   "cell_type": "code",
   "execution_count": null,
   "metadata": {},
   "outputs": [],
   "source": [
    "IHnedTopicScraper.scraped_links"
   ]
  },
  {
   "cell_type": "code",
   "execution_count": null,
   "metadata": {},
   "outputs": [],
   "source": [
    "ihned_links = IHnedTopicScraper(\"zprava-1\")\n",
    "ihned_links.show_status()"
   ]
  },
  {
   "cell_type": "markdown",
   "metadata": {},
   "source": [
    "<br>\n",
    "\n",
    "V ukázce s třídou instancí `ihned_links` nám instanční metoda `show_status` zprostředkuje textový výstup."
   ]
  },
  {
   "cell_type": "code",
   "execution_count": null,
   "metadata": {},
   "outputs": [],
   "source": [
    "class DataFrameProcessor:\n",
    "    \"\"\"Process two given dataframes\"\"\"\n",
    "    \n",
    "    def __init__(self, df1, df2):\n",
    "        self.df1 = df1\n",
    "        self.df2 = df2\n",
    "        self.merged = False\n",
    "        \n",
    "    def merge_two_dfs(self):\n",
    "        # ...\n",
    "        self.merged = True\n",
    "        \n",
    "    def show_status(self) -> bool:\n",
    "        if self.merged:\n",
    "            print(\"DataFrames successfully merged..\")\n",
    "            return True\n",
    "        print(\"Cannot merge two dfs..\")\n",
    "        return False"
   ]
  },
  {
   "cell_type": "code",
   "execution_count": null,
   "metadata": {},
   "outputs": [],
   "source": [
    "proc_1 = DataFrameProcessor(\"df1\", \"df2\")"
   ]
  },
  {
   "cell_type": "code",
   "execution_count": null,
   "metadata": {},
   "outputs": [],
   "source": [
    "proc_1.merge_two_dfs()\n",
    "proc_1.show_status()"
   ]
  },
  {
   "cell_type": "markdown",
   "metadata": {},
   "source": [
    "<br>\n",
    "\n",
    "Ve druhé ukázce se třídou `DataFrameProcessor` nám stejnojmenná metoda `show_status` nejenom vypisuje text, ale současně vrací pomocnou `bool` hodnotu."
   ]
  },
  {
   "cell_type": "markdown",
   "metadata": {},
   "source": [
    "<br>\n",
    "\n",
    "#### Zapouzdření (~encapsulation)\n",
    "\n",
    "---\n",
    "\n",
    "V podstatě jde o omezení přístupu (nebo schování) **atributů** a **metod** ve třídě.\n",
    "\n",
    "<br>\n",
    "\n",
    "V kombinaci s **chráněnými objekty** chceme některé procesy zajistit a současně nekomplikovat uživatelské použití."
   ]
  },
  {
   "cell_type": "code",
   "execution_count": null,
   "metadata": {},
   "outputs": [],
   "source": [
    "class BookRecommender:\n",
    "    \"\"\"Recommend the book to the user according to his assignment\"\"\"\n",
    "    \n",
    "    def __init__(self, title: str, author: str):\n",
    "        self.title = title\n",
    "        self.author = author\n",
    "\n",
    "        if self.__update_app():\n",
    "            self.run_app()\n",
    "\n",
    "    def __update_app(self) -> bool:\n",
    "        print(\"Updating app..\")\n",
    "        return True\n",
    "        \n",
    "    def run_app(self):\n",
    "        print(\n",
    "            \"Running app..\",\n",
    "            f\"Adding book: {self.title}\",\n",
    "            sep=\"\\n\"\n",
    "        )"
   ]
  },
  {
   "cell_type": "code",
   "execution_count": null,
   "metadata": {},
   "outputs": [],
   "source": [
    "app = BookRecommender(\"Treason\", \"Timothy Zahn\")"
   ]
  },
  {
   "cell_type": "markdown",
   "metadata": {},
   "source": [
    "<br>\n",
    "\n",
    "Pomocí zapouzdření můžeme schovat procesy potřebné pro správný běh našeho modulu a zamezit jeho používání:"
   ]
  },
  {
   "cell_type": "code",
   "execution_count": null,
   "metadata": {},
   "outputs": [],
   "source": [
    "app.__update_app()"
   ]
  },
  {
   "cell_type": "markdown",
   "metadata": {},
   "source": [
    "<br>\n",
    "\n",
    "Zapouzdření brání v přístupu k atributům nebo metodám omylem ale ne záměrně."
   ]
  },
  {
   "cell_type": "markdown",
   "metadata": {},
   "source": [
    "<br>\n",
    "\n",
    "#### Dědičnost (~inheritence)\n",
    "\n",
    "---\n",
    "\n",
    "**Dědičnost** je prvek OOP, díky kterému můžeme přenášet **atributy** a **metody** jedné třídy (*rodičovské*) na její *potomky*:"
   ]
  },
  {
   "cell_type": "code",
   "execution_count": 1,
   "metadata": {},
   "outputs": [],
   "source": [
    "class Employee:\n",
    "    \"\"\"Create a new employee object.\"\"\"\n",
    "\n",
    "    def __init__(self, name: str, age: int, wage: int = 0):\n",
    "        self.age = age\n",
    "        self.name = name\n",
    "        self.wage = wage\n",
    "        self.access_db: bool = False\n",
    "        self.access_vcs: bool = False\n",
    "        self.email = self.__generate_email()\n",
    "\n",
    "    def __generate_email(self):\n",
    "        domain: str = \"@nic.cz\"\n",
    "        return f\"Email: {self.name.lower()}{domain}\""
   ]
  },
  {
   "cell_type": "code",
   "execution_count": null,
   "metadata": {},
   "outputs": [],
   "source": [
    "first_emp = Employee(\"Lukas\", 28, 30_000)"
   ]
  },
  {
   "cell_type": "code",
   "execution_count": null,
   "metadata": {},
   "outputs": [],
   "source": [
    "print(\n",
    "    first_emp.name,\n",
    "    first_emp.age,\n",
    "    first_emp.email,\n",
    "    first_emp.access_vcs,\n",
    "    sep=\"\\n\"\n",
    ")"
   ]
  },
  {
   "cell_type": "markdown",
   "metadata": {},
   "source": [
    "<br>\n",
    "\n",
    "Vytvořili jsme instanci nového zaměstnance. Jde o úvodní pozici bez zaměření, bez zaškolení.\n",
    "\n",
    "<br>\n",
    "\n",
    "Později potřebuješ do systému zaevidovat novou pozici, *tester*:"
   ]
  },
  {
   "cell_type": "code",
   "execution_count": null,
   "metadata": {},
   "outputs": [],
   "source": [
    "class Tester:\n",
    "    \"\"\"Create a new tester object.\"\"\"\n",
    "\n",
    "    def __init__(self, name: str, age: int, wage: int = 0):\n",
    "        self.age = age\n",
    "        self.name = name\n",
    "        self.wage = wage\n",
    "        self.access_db: bool = False\n",
    "        self.access_vcs: bool = False\n",
    "        self.email = self.__generate_email()\n",
    "\n",
    "    def __generate_email(self):\n",
    "        domain: str = \"@nic.cz\"\n",
    "        return f\"Email: {self.name.lower()}{domain}\"\n",
    "    \n",
    "    def get_access_to_vcs(self):\n",
    "        self.access_vcs: bool = True\n",
    "        print(\"Added to the repository as a tester\")"
   ]
  },
  {
   "cell_type": "code",
   "execution_count": null,
   "metadata": {},
   "outputs": [],
   "source": [
    "tester_1 = Tester(\"Matous\", 30, 40_000)\n",
    "tester_1.get_access_to_vcs()"
   ]
  },
  {
   "cell_type": "markdown",
   "metadata": {},
   "source": [
    "<br>\n",
    "\n",
    "Na první pohled ale vidíš, že mít dvě podobné třídy pod sebou není efektivní a oponuje to jednomu s principů vývoje softwaru (DRY).\n",
    "\n",
    "<br>\n",
    "\n",
    "Pokud budeš chtít do systému specifikovat novou třídu, která bude mít:\n",
    "1. Částečnou funkcionalitu nebo objekty existující třídy,\n",
    "2. novou funkcionalitu.\n",
    "\n",
    "<br>\n",
    "\n",
    ".. dědičnost můžeš můžeš použít právě pro rozšíření původní třídy:"
   ]
  },
  {
   "cell_type": "code",
   "execution_count": 2,
   "metadata": {},
   "outputs": [],
   "source": [
    "class Tester(Employee):\n",
    "    \"\"\"Create a new tester object.\"\"\"\n",
    "    \n",
    "    def get_access_to_vcs(self):\n",
    "        self.access_vcs: bool = True\n",
    "        print(\"Added to the repository as a tester\")"
   ]
  },
  {
   "cell_type": "code",
   "execution_count": 11,
   "metadata": {},
   "outputs": [
    {
     "name": "stdout",
     "output_type": "stream",
     "text": [
      "Added to the repository as a tester\n"
     ]
    }
   ],
   "source": [
    "tester_1 = Tester(\"Matous\", 30, 40_000)\n",
    "tester_1.get_access_to_vcs()"
   ]
  },
  {
   "cell_type": "markdown",
   "metadata": {},
   "source": [
    "<br>\n",
    "\n",
    "Vidíš, že třída `Tester` má svoji vlastní metodu `get_access_to_vcs`.\n",
    "\n",
    "<br>\n",
    "\n",
    "Současně ale zdědila základní instanční atributy ze třídy `Employee`:"
   ]
  },
  {
   "cell_type": "code",
   "execution_count": null,
   "metadata": {},
   "outputs": [],
   "source": [
    "print(\n",
    "    tester_1.name,\n",
    "    tester_1.age,\n",
    "    tester_1.email,\n",
    "    tester_1.access_vcs,\n",
    "    sep=\"\\n\"\n",
    ")"
   ]
  },
  {
   "cell_type": "markdown",
   "metadata": {},
   "source": [
    "<br>\n",
    "\n",
    "V průběhu času budeš chtít přidat nový typ zaměstnance, opět můžeš aplikovat dědičnost:"
   ]
  },
  {
   "cell_type": "code",
   "execution_count": 12,
   "metadata": {},
   "outputs": [],
   "source": [
    "class BigDataEngineer(Employee):\n",
    "    \"\"\"Create a new big data engineer object.\"\"\"\n",
    "\n",
    "    def get_access_to_vcs(self):\n",
    "        self.access_vcs: bool = True\n",
    "        print(\"Added to the repository..\")\n",
    "        \n",
    "    def get_access_to_db(self):\n",
    "        self.access_db: bool = True\n",
    "        print(\"Added to the dbs..\")"
   ]
  },
  {
   "cell_type": "code",
   "execution_count": 13,
   "metadata": {},
   "outputs": [
    {
     "name": "stdout",
     "output_type": "stream",
     "text": [
      "Added to the repository..\n",
      "Added to the dbs..\n"
     ]
    }
   ],
   "source": [
    "data_ai_1 = BigDataEngineer(\"Petr\", 31, 100_000)\n",
    "data_ai_1.get_access_to_vcs()\n",
    "data_ai_1.get_access_to_db()"
   ]
  },
  {
   "cell_type": "markdown",
   "metadata": {},
   "source": [
    "<br>\n",
    "\n",
    "Poslední třída `BigDataEngineer` je opět potomkem třídy `Employee`, takže pro ni platí stejná pravidla jako pro třídu `Tester`."
   ]
  },
  {
   "cell_type": "code",
   "execution_count": null,
   "metadata": {},
   "outputs": [],
   "source": [
    "print(\n",
    "    data_ai_1.name,\n",
    "    data_ai_1.age,\n",
    "    data_ai_1.email,\n",
    "    data_ai_1.access_vcs,\n",
    "    data_ai_1.access_db,\n",
    "    sep=\"\\n\"\n",
    ")"
   ]
  },
  {
   "cell_type": "markdown",
   "metadata": {},
   "source": [
    "<br>\n",
    "\n",
    "Všimni si ale metody `get_access_to_vcs`. Obě třídy potomků mají tuto metodu společnou. \n",
    "\n",
    "<br>\n",
    "\n",
    "Nebylo by výhodnější ji přesunout do původní třídy?"
   ]
  },
  {
   "cell_type": "code",
   "execution_count": 14,
   "metadata": {},
   "outputs": [
    {
     "ename": "TypeError",
     "evalue": "Cannot create a consistent method resolution\norder (MRO) for bases Employee, Tester",
     "output_type": "error",
     "traceback": [
      "\u001b[0;31m---------------------------------------------------------------------------\u001b[0m",
      "\u001b[0;31mTypeError\u001b[0m                                 Traceback (most recent call last)",
      "\u001b[0;32m<ipython-input-14-bcc75e8d029b>\u001b[0m in \u001b[0;36m<module>\u001b[0;34m\u001b[0m\n\u001b[0;32m----> 1\u001b[0;31m \u001b[0;32mclass\u001b[0m \u001b[0mBigDataEngineer\u001b[0m\u001b[0;34m(\u001b[0m\u001b[0mEmployee\u001b[0m\u001b[0;34m,\u001b[0m \u001b[0mTester\u001b[0m\u001b[0;34m)\u001b[0m\u001b[0;34m:\u001b[0m\u001b[0;34m\u001b[0m\u001b[0;34m\u001b[0m\u001b[0m\n\u001b[0m\u001b[1;32m      2\u001b[0m \u001b[0;34m\u001b[0m\u001b[0m\n\u001b[1;32m      3\u001b[0m     \u001b[0;32mdef\u001b[0m \u001b[0mget_access_to_db\u001b[0m\u001b[0;34m(\u001b[0m\u001b[0mself\u001b[0m\u001b[0;34m)\u001b[0m\u001b[0;34m:\u001b[0m\u001b[0;34m\u001b[0m\u001b[0;34m\u001b[0m\u001b[0m\n\u001b[1;32m      4\u001b[0m         \u001b[0mself\u001b[0m\u001b[0;34m.\u001b[0m\u001b[0maccess_db\u001b[0m\u001b[0;34m:\u001b[0m \u001b[0mbool\u001b[0m \u001b[0;34m=\u001b[0m \u001b[0;32mTrue\u001b[0m\u001b[0;34m\u001b[0m\u001b[0;34m\u001b[0m\u001b[0m\n\u001b[1;32m      5\u001b[0m         \u001b[0mprint\u001b[0m\u001b[0;34m(\u001b[0m\u001b[0;34m\"Added to the dbs..\"\u001b[0m\u001b[0;34m)\u001b[0m\u001b[0;34m\u001b[0m\u001b[0;34m\u001b[0m\u001b[0m\n",
      "\u001b[0;31mTypeError\u001b[0m: Cannot create a consistent method resolution\norder (MRO) for bases Employee, Tester"
     ]
    }
   ],
   "source": [
    "class BigDataEngineer(Employee, Tester):\n",
    "        \n",
    "    def get_access_to_db(self):\n",
    "        self.access_db: bool = True\n",
    "        print(\"Added to the dbs..\")"
   ]
  },
  {
   "cell_type": "markdown",
   "metadata": {},
   "source": [
    "<br>\n",
    "\n",
    "Při dědičnosti je potřeba dbát na pravidla, kdo od koho může dědit objekty.\n",
    "\n",
    "<br>\n",
    "\n",
    "Někdy se ale může začít proces dědičnost mírně zvrtávat:"
   ]
  },
  {
   "cell_type": "code",
   "execution_count": 15,
   "metadata": {},
   "outputs": [],
   "source": [
    "class Employee:\n",
    "    pass\n",
    "\n",
    "class FrontendDev(Employee):\n",
    "    pass\n",
    "\n",
    "class BackendDev(Employee):\n",
    "    pass\n",
    "\n",
    "class FullstackDev(FrontendDev, BackendDev):\n",
    "    pass"
   ]
  },
  {
   "cell_type": "markdown",
   "metadata": {},
   "source": [
    "<br>\n",
    "\n",
    "Jednotlivé odkazování přestává být zřetelné a program se stává příliš komplexní.\n",
    "\n",
    "<br>\n",
    "\n",
    "Nejprve interpret vyhledává metody nebo atributy v aktuální třídě (potomkovi) a potom teprve začíná sledovat řád, který jsme nastavili pomocí dědičnosti.\n",
    "\n",
    "<br>\n",
    "\n",
    "Tento směr se nazývá jako **MRO** (*~method resolution order*), který je v podstatě sadou pravidel při dědění."
   ]
  },
  {
   "cell_type": "code",
   "execution_count": 16,
   "metadata": {},
   "outputs": [],
   "source": [
    "class Employee:\n",
    "    def me(self):\n",
    "        print(\"Třída 'Employee'\")\n",
    "\n",
    "class FrontendDev(Employee):\n",
    "    def me(self):\n",
    "        print(\"\\t --> Třída 'FrontendDev'\")\n",
    "\n",
    "class BackendDev(Employee):\n",
    "    def me(self):\n",
    "        print(\"\\t --> Třída 'BackendDev'\")\n",
    "\n",
    "class FullstackDev(FrontendDev, BackendDev):\n",
    "    pass"
   ]
  },
  {
   "cell_type": "code",
   "execution_count": 17,
   "metadata": {},
   "outputs": [],
   "source": [
    "emp = Employee()\n",
    "back = BackendDev()\n",
    "front = FrontendDev()\n",
    "full = FullstackDev()"
   ]
  },
  {
   "cell_type": "code",
   "execution_count": 18,
   "metadata": {},
   "outputs": [
    {
     "name": "stdout",
     "output_type": "stream",
     "text": [
      "Třída 'Employee'\n",
      "\t --> Třída 'BackendDev'\n",
      "\t --> Třída 'FrontendDev'\n",
      "\t --> Třída 'FrontendDev'\n"
     ]
    }
   ],
   "source": [
    "emp.me()\n",
    "back.me()\n",
    "front.me()\n",
    "full.me()"
   ]
  },
  {
   "cell_type": "markdown",
   "metadata": {},
   "source": [
    "<br>\n",
    "\n",
    "Někdy se *MRO* označuje také jako linearizace procesu dědění.\n",
    "\n",
    "<br>\n",
    "\n",
    "Pokud mám toto *diamantové* schéma dědění, potom si třída `FullstackDev` vezme stejnojmennou metodu z **prvního** zapsaného rodiče."
   ]
  },
  {
   "cell_type": "code",
   "execution_count": 19,
   "metadata": {},
   "outputs": [],
   "source": [
    "class Employee:\n",
    "\n",
    "    def __init__(self, name: str, email: str):\n",
    "        self.name = name\n",
    "        self.email = email\n",
    "\n",
    "class Developer(Employee):\n",
    "\n",
    "    def __init__(self, certificate):\n",
    "        self.certificate = certificate"
   ]
  },
  {
   "cell_type": "code",
   "execution_count": 20,
   "metadata": {},
   "outputs": [],
   "source": [
    "emp = Employee(\"Matous\", \"matous@nic.cz\")"
   ]
  },
  {
   "cell_type": "code",
   "execution_count": 21,
   "metadata": {},
   "outputs": [
    {
     "ename": "TypeError",
     "evalue": "__init__() takes 2 positional arguments but 4 were given",
     "output_type": "error",
     "traceback": [
      "\u001b[0;31m---------------------------------------------------------------------------\u001b[0m",
      "\u001b[0;31mTypeError\u001b[0m                                 Traceback (most recent call last)",
      "\u001b[0;32m<ipython-input-21-6488c042e6f0>\u001b[0m in \u001b[0;36m<module>\u001b[0;34m\u001b[0m\n\u001b[0;32m----> 1\u001b[0;31m \u001b[0mdev\u001b[0m \u001b[0;34m=\u001b[0m \u001b[0mDeveloper\u001b[0m\u001b[0;34m(\u001b[0m\u001b[0;34m\"Petr\"\u001b[0m\u001b[0;34m,\u001b[0m \u001b[0;34m\"petr@nic.cz\"\u001b[0m\u001b[0;34m,\u001b[0m \u001b[0;34m\"PythonEngetoCert\"\u001b[0m\u001b[0;34m)\u001b[0m\u001b[0;34m\u001b[0m\u001b[0;34m\u001b[0m\u001b[0m\n\u001b[0m",
      "\u001b[0;31mTypeError\u001b[0m: __init__() takes 2 positional arguments but 4 were given"
     ]
    }
   ],
   "source": [
    "dev = Developer(\"Petr\", \"petr@nic.cz\", \"PythonEngetoCert\")"
   ]
  },
  {
   "cell_type": "code",
   "execution_count": 22,
   "metadata": {},
   "outputs": [],
   "source": [
    "dev = Developer(\"PythonEngetoCert\")"
   ]
  },
  {
   "cell_type": "code",
   "execution_count": 23,
   "metadata": {},
   "outputs": [
    {
     "ename": "AttributeError",
     "evalue": "'Developer' object has no attribute 'name'",
     "output_type": "error",
     "traceback": [
      "\u001b[0;31m---------------------------------------------------------------------------\u001b[0m",
      "\u001b[0;31mAttributeError\u001b[0m                            Traceback (most recent call last)",
      "\u001b[0;32m<ipython-input-23-df4cfabb901e>\u001b[0m in \u001b[0;36m<module>\u001b[0;34m\u001b[0m\n\u001b[0;32m----> 1\u001b[0;31m \u001b[0mdev\u001b[0m\u001b[0;34m.\u001b[0m\u001b[0mname\u001b[0m\u001b[0;34m\u001b[0m\u001b[0;34m\u001b[0m\u001b[0m\n\u001b[0m",
      "\u001b[0;31mAttributeError\u001b[0m: 'Developer' object has no attribute 'name'"
     ]
    }
   ],
   "source": [
    "dev.name"
   ]
  },
  {
   "cell_type": "code",
   "execution_count": 25,
   "metadata": {},
   "outputs": [
    {
     "data": {
      "text/plain": [
       "'PythonEngetoCert'"
      ]
     },
     "execution_count": 25,
     "metadata": {},
     "output_type": "execute_result"
    }
   ],
   "source": [
    "dev.certificate"
   ]
  },
  {
   "cell_type": "markdown",
   "metadata": {},
   "source": [
    "<br>\n",
    "\n",
    "Co dělat?\n",
    "1. Přidat **nový atribut** i do dceřinné třídy,\n",
    "2. doplnit původní metodu `__init__`, (starší varianta),\n",
    "3. doplnit `__super__` metodu.\n",
    "\n",
    "<br>\n",
    "\n",
    "###### Nové atributy"
   ]
  },
  {
   "cell_type": "code",
   "execution_count": null,
   "metadata": {},
   "outputs": [],
   "source": [
    "class Developer(Employee):\n",
    "    \n",
    "    def __init__(self, name: str, email: str, certificate: str):\n",
    "        self.name = name\n",
    "        self.email = email\n",
    "        self.certificate = certificate"
   ]
  },
  {
   "cell_type": "code",
   "execution_count": null,
   "metadata": {},
   "outputs": [],
   "source": [
    "dev = Developer(\"Petr\", \"petr@nic.cz\", \"PythonEngetoCert\")"
   ]
  },
  {
   "cell_type": "code",
   "execution_count": null,
   "metadata": {},
   "outputs": [],
   "source": [
    "print(\n",
    "    dev.name,\n",
    "    dev.email,\n",
    "    dev.certificate,\n",
    "    sep=\"\\n\"\n",
    ")"
   ]
  },
  {
   "cell_type": "markdown",
   "metadata": {},
   "source": [
    "<br>\n",
    "\n",
    "###### Přepsat metodu __init__()"
   ]
  },
  {
   "cell_type": "code",
   "execution_count": null,
   "metadata": {},
   "outputs": [],
   "source": [
    "class Developer(Employee):\n",
    "    def __init__(self, name: str, email: str, certificate: str):\n",
    "        Employee.__init__(self, name, email)\n",
    "        self.certificate = certificate"
   ]
  },
  {
   "cell_type": "code",
   "execution_count": null,
   "metadata": {},
   "outputs": [],
   "source": [
    "dev = Developer(\"Petr\", \"petr@nic.cz\", \"PythonEngetoCert\")"
   ]
  },
  {
   "cell_type": "code",
   "execution_count": null,
   "metadata": {},
   "outputs": [],
   "source": [
    "print(\n",
    "    dev.name,\n",
    "    dev.email,\n",
    "    dev.certificate,\n",
    "    sep=\"\\n\"\n",
    ")"
   ]
  },
  {
   "cell_type": "markdown",
   "metadata": {},
   "source": [
    "<br>\n",
    "\n",
    "###### Použít funkci super()"
   ]
  },
  {
   "cell_type": "code",
   "execution_count": null,
   "metadata": {},
   "outputs": [],
   "source": [
    "class Developer(Employee):\n",
    "    def __init__(self, name: str, email: str, certificate: str):\n",
    "        super().__init__(name, email)\n",
    "        self.certificate = certificate"
   ]
  },
  {
   "cell_type": "code",
   "execution_count": null,
   "metadata": {},
   "outputs": [],
   "source": [
    "dev = Developer(\"Petr\", \"petr@nic.cz\", \"PythonEngetoCert\")"
   ]
  },
  {
   "cell_type": "code",
   "execution_count": null,
   "metadata": {},
   "outputs": [],
   "source": [
    "print(\n",
    "    dev.name,\n",
    "    dev.email,\n",
    "    dev.certificate,\n",
    "    sep=\"\\n\"\n",
    ")"
   ]
  },
  {
   "cell_type": "markdown",
   "metadata": {},
   "source": [
    "<br>\n",
    "\n",
    "#### Abstrakce\n",
    "\n",
    "---\n",
    "Tento pilíř se zaměřuje zejména na **skrývání interních implementací** procesu nebo metod před uživatelem.\n",
    "\n",
    "<br>\n",
    "\n",
    "Ve výsledku uživatel ví, co dělá, ale neví, jak celý proces pracuje.\n",
    "\n",
    "<br>\n",
    "\n",
    "Představ si fotoaparát na svém telefonu. Víš jak jej spustit a použít. Nepotřebuješ znát všechny potřebné atributy a metody, které pracují na pozadí.\n",
    "\n",
    "<br>\n",
    "\n",
    "Praktickou obecná ukázka abstrakce pro datový typ `str`:\n",
    "```python\n",
    "\"matous\".title()     # \"Matous\"\n",
    "\"1234\".isnumeric()   # True\n",
    "\"OOP\".isupper()      # True\n",
    "```\n",
    "\n",
    "<br>\n",
    "\n",
    "Abstrakce v OOP Pythonu:"
   ]
  },
  {
   "cell_type": "code",
   "execution_count": null,
   "metadata": {},
   "outputs": [],
   "source": [
    "class GooglePaymentProcessor:\n",
    "    def pay(self):\n",
    "        print(\"Processing GooglePay..\")\n",
    "        print(\"Verifying security code..\")\n",
    "        print(\"Changing order status..\")\n",
    "        print(\"-\" * 25)"
   ]
  },
  {
   "cell_type": "code",
   "execution_count": null,
   "metadata": {},
   "outputs": [],
   "source": [
    "order_1 = GooglePaymentProcessor()\n",
    "order_1.pay()"
   ]
  },
  {
   "cell_type": "markdown",
   "metadata": {},
   "source": [
    "<br>\n",
    "\n",
    "Jako potenciální vývojář eshopu není tvojí náplní zpracovávat samotnou platbu, ale implementovat její spuštění.\n",
    "\n",
    "<br>\n",
    "\n",
    "Současně potřebuješ doplnit další způsoby platby. Třeba služba `ApplePay`, `Paypal`, aj.\n",
    "\n",
    "<br>\n",
    "\n",
    "V takovém okamžiku můžeš použít modul `abc`:"
   ]
  },
  {
   "cell_type": "code",
   "execution_count": null,
   "metadata": {},
   "outputs": [],
   "source": [
    "from abc import ABC, abstractmethod  # abstraktní třída a metoda\n",
    "\n",
    "class PaymentProcessor(ABC):  # naše hlavní třída zdědí označení abstraktní třídy\n",
    "    \n",
    "    @abstractmethod           # označíme abstraktní metodu/metody\n",
    "    def pay(self):\n",
    "        \"\"\"Process, verify and change the status of the given order.\"\"\"\n",
    "        pass                  # nepíšeš žádné ohlášení, pouze 'pass'\n",
    "\n",
    "\n",
    "class GooglePaymentProcessor(PaymentProcessor):    # podtřídy zdědí od rodiče funkcionalitu\n",
    "    def pay(self):\n",
    "        print(\"Processing GooglePay..\")\n",
    "        print(\"Verifying security code..\")\n",
    "        print(\"Changing order status..\")\n",
    "        print(\"-\" * 25)\n",
    "        \n",
    "class ApplePaymentProcessor(PaPaymentProcessor):   # podtřídy zdědí od rodiče funkcionalitu\n",
    "    pass\n",
    "\n",
    "class PaypalPaymentProcessor(PaPaymentProcessor):  # podtřídy zdědí od rodiče funkcionalitu\n",
    "    pass"
   ]
  },
  {
   "cell_type": "code",
   "execution_count": null,
   "metadata": {},
   "outputs": [],
   "source": [
    "order_1 = GooglePaymentProcessor()\n",
    "\n",
    "order_1.pay()"
   ]
  },
  {
   "cell_type": "markdown",
   "metadata": {},
   "source": [
    "<br>\n",
    "\n",
    "`ABC` je metoda, kterou musíš zdědit z modulu `abc`. Python defaultně nepracuje s konceptem abstraktních tříd jako jiné jazyky.\n",
    "\n",
    "<br>\n",
    "\n",
    "Dále musíš označit metodu jako abstraktní metodu. Použij dekorátor `@abstractmethod`.\n",
    "\n",
    "<br>\n",
    "\n",
    "V abstraktní metodě nepíšeš žádné ohlášení, pouze dokumentaci abstraktní metody a ohlášení `pass`.\n",
    "\n",
    "<br>\n",
    "\n",
    "Výsledkem je potom abstraktní třída `PaymentProcessor`, kterou jako uživatel (programátor) vidíš.\n",
    " \n",
    "<br> \n",
    "\n",
    "Konkrátní metody v rámci ostatních dceřinných tříd jsou uživateli skryté (abstraktní metoda na ně odkazuje)."
   ]
  },
  {
   "cell_type": "markdown",
   "metadata": {},
   "source": [
    "<br>\n",
    "\n",
    "#### Úloha\n",
    "\n",
    "---\n",
    "Třetí úlohou je scraper, který postahuje odkazy a zatřídí je.\n",
    "\n",
    "<br>\n",
    "\n",
    "Průběh modulu:\n",
    "\n",
    "<br>\n",
    "\n",
    "Následný výstup:"
   ]
  },
  {
   "cell_type": "code",
   "execution_count": null,
   "metadata": {},
   "outputs": [],
   "source": [
    "import datetime\n",
    "from urllib.parse import urlparse, urljoin\n",
    "\n",
    "import bs4\n",
    "import requests\n",
    "\n",
    "\n",
    "class ScraperInitializer:\n",
    "    \"\"\"Create session and return the bs4.BeautifulSoup object.\"\"\"\n",
    "    def __init__(self, url: str = \"\"):\n",
    "        self.url = url\n",
    "        \n",
    "    @property\n",
    "    def url(self):\n",
    "        return self._url = url\n",
    "    \n",
    "    @url.setter\n",
    "    def url(self, val: str):\n",
    "        if \n",
    "\n",
    "    def send_get_request(self) -> requests.models.Response:\n",
    "        return requests.get(self.url)\n",
    "\n",
    "    def parse_response(self, response) -> bs4.BeautifulSoup:\n",
    "        return bs4.BeautifulSoup(response.content, features=\"html.parser\")\n",
    "\n",
    "\n",
    "class LinkScraper:\n",
    "    \"\"\"Collects links of various types from a main url\"\"\"\n",
    "\n",
    "    def __init__(self, soup: bs4.BeautifulSoup, url: str, keyword: str):\n",
    "        self.soup = soup\n",
    "        self.netloc = url\n",
    "        self.keyword = keyword\n",
    "\n",
    "    def collect_all_links(self) -> set:\n",
    "        return {\n",
    "            urljoin(self.netloc, link.get(\"href\"))\n",
    "            for link in self.soup.find_all(\"a\")\n",
    "            if \"href\" in link.attrs and self.is_keyword(link.get(\"href\"))\n",
    "        }\n",
    "    \n",
    "    def is_keyword(self, link: str) -> bool:\n",
    "        return self.keyword in urlparse(link).path\n",
    "\n",
    "\n",
    "class LinkCollector:\n",
    "    fmt: str = \"%d/%m/%y, %H:%M:%S\"\n",
    "    number_of_links: int = 0\n",
    "    \n",
    "    def __init__(self, scheme, netloc, path):\n",
    "        self.scheme = scheme\n",
    "        self.netloc = netloc\n",
    "        self.path = path\n",
    "        self.date = datetime.datetime.now().strftime(self.fmt)\n",
    "        \n",
    "\n",
    "class LinkProcessor:\n",
    "    \n",
    "    def __init__(self, links: set):\n",
    "        self.links = links\n",
    "        self.results = list()\n",
    "        \n",
    "    def add_links(self):\n",
    "        for link in self.links:\n",
    "            self.results.append(\n",
    "                LinkCollector(\n",
    "                    scheme=urlparse(link).scheme,\n",
    "                    netloc=urlparse(link).netloc,\n",
    "                    path=urlparse(link).path,\n",
    "                )\n",
    "            )\n",
    "\n",
    "\n",
    "# iniciuj objekt pro scraper\n",
    "products = ScraperInitializer(\"https://engeto.cz\")     # \"product\"\n",
    "jobs = ScraperInitializer(\"https://junior.guru/jobs\")  # \"jobs\"\n",
    "news = ScraperInitializer(\"https://idnes.cz\")          # \"zpravy\"\n",
    "\n",
    "prod_links = LinkScraper(\n",
    "    products.parse_response(products.send_get_request()),\n",
    "    products.url,\n",
    "    \"product\",\n",
    ")\n",
    "\n",
    "saved = LinkProcessor(\n",
    "    prod_links.collect_all_links()\n",
    ")\n",
    "saved.add_links()\n",
    "# runner = LinkScraperInitializer()\n",
    "# parsed_html = runner.parse_html(runner.send_get_request(host))\n",
    "saved.results\n"
   ]
  },
  {
   "cell_type": "code",
   "execution_count": null,
   "metadata": {},
   "outputs": [],
   "source": [
    "saved.results[0].__dict__"
   ]
  },
  {
   "cell_type": "code",
   "execution_count": null,
   "metadata": {},
   "outputs": [],
   "source": [
    "main = \"https://engeto.cz\"\n",
    "path = 'https://engeto.cz/product/detail-terminu-online-python-akademie-17-1-4-4-2022/'\n",
    "new = urljoin(main, path)\n",
    "dict(urlparse(new))"
   ]
  },
  {
   "cell_type": "code",
   "execution_count": null,
   "metadata": {},
   "outputs": [],
   "source": []
  }
 ],
 "metadata": {
  "kernelspec": {
   "display_name": "Python 3",
   "language": "python",
   "name": "python3"
  },
  "language_info": {
   "codemirror_mode": {
    "name": "ipython",
    "version": 3
   },
   "file_extension": ".py",
   "mimetype": "text/x-python",
   "name": "python",
   "nbconvert_exporter": "python",
   "pygments_lexer": "ipython3",
   "version": "3.8.10"
  }
 },
 "nbformat": 4,
 "nbformat_minor": 4
}
