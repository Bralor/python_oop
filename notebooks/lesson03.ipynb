{
 "cells": [
  {
   "cell_type": "markdown",
   "metadata": {},
   "source": [
    "### Základní pilíře objektově-orientovaného programování\n",
    "\n",
    "---\n",
    "Ve skutečnosti jde o **čtyři teoretické základy**, kterých lze využívat v OOP, příp. na kterých obecně stojí:\n",
    "\n",
    "1. **Polymorfismus** (*~polymorphism*),\n",
    "2. **zapouzdření** (*~encapsulation*),\n",
    "3. **dědičnost** (*~inheritance*),\n",
    "4. **abstrakce** (*~abstraction*)."
   ]
  },
  {
   "cell_type": "markdown",
   "metadata": {},
   "source": [
    "<br>\n",
    "\n",
    "#### Polymorfismus ( ~polymorphism)\n",
    "\n",
    "---\n",
    "\n",
    "<br>\n",
    "\n",
    "<img src=\"https://i.imgur.com/COUOylr.png\" width=\"800\">\n",
    "\n",
    "<br>\n",
    "\n",
    "Polymorfismus je koncept, který stojí za efektivním (pěkným) pozadím OOP. Doslova znamená *mnohotvárnost*.\n",
    "\n",
    "<br>\n",
    "\n",
    "Příkladem může být zabudovaná funkce `len` (resp. magická metoda `__len__`"
   ]
  },
  {
   "cell_type": "code",
   "execution_count": null,
   "metadata": {},
   "outputs": [],
   "source": [
    "print(\n",
    "    len(\"Matous\"),                                                             # str\n",
    "    len([\"město\", \"moře\", \"kuře\", \"stavení\"]),                                 # list\n",
    "    len({\"jmeno\": \"Matous\", \"prijmeni\": \"Holinka\", \"email\": \"matous@nic.cz\"}), # dict\n",
    "    sep=\"\\n\"\n",
    ")"
   ]
  },
  {
   "cell_type": "markdown",
   "metadata": {},
   "source": [
    "<br>\n",
    "\n",
    "Vidíš, že funkce `len` umí pracovat s různými datovými typy.\n",
    "\n",
    "<br>\n",
    "\n",
    "Vrací specifickou hodnotu pro každý datový typ zvlášť.\n",
    "\n",
    "1. `str`, délka řetězce,\n",
    "2. `list`, počet údajů v sekvenci,\n",
    "3. `dict`, počet klíčů v objektu\n",
    "\n",
    "<br>\n",
    "\n",
    "Dále tento koncept umožňuje přepisovat jména a použití **metod**:"
   ]
  },
  {
   "cell_type": "code",
   "execution_count": null,
   "metadata": {},
   "outputs": [],
   "source": [
    "class IHnedTopicScraper:\n",
    "    \"\"\"Scrape links from the given url.\"\"\"\n",
    "    scraped_links: int = 0\n",
    "        \n",
    "    def __init__(self, url: str):\n",
    "        self.url = url\n",
    "        IHnedTopicScraper.add_link()\n",
    "    \n",
    "    def show_status(self) -> None:\n",
    "        print(f\"Already collected {self.scraped_links} topics..\")\n",
    "        \n",
    "    @classmethod\n",
    "    def add_link(cls) -> None:\n",
    "        cls.scraped_links += 1"
   ]
  },
  {
   "cell_type": "code",
   "execution_count": null,
   "metadata": {},
   "outputs": [],
   "source": [
    "IHnedTopicScraper.scraped_links"
   ]
  },
  {
   "cell_type": "code",
   "execution_count": null,
   "metadata": {},
   "outputs": [],
   "source": [
    "ihned_links = IHnedTopicScraper(\"zprava-1\")\n",
    "ihned_links.show_status()"
   ]
  },
  {
   "cell_type": "markdown",
   "metadata": {},
   "source": [
    "<br>\n",
    "\n",
    "V ukázce s třídou instancí `ihned_links` nám instanční metoda `show_status` zprostředkuje textový výstup."
   ]
  },
  {
   "cell_type": "code",
   "execution_count": null,
   "metadata": {},
   "outputs": [],
   "source": [
    "class DataFrameProcessor:\n",
    "    \"\"\"Process two given dataframes\"\"\"\n",
    "    \n",
    "    def __init__(self, df1, df2):\n",
    "        self.df1 = df1\n",
    "        self.df2 = df2\n",
    "        self.merged = False\n",
    "        \n",
    "    def merge_two_dfs(self):\n",
    "        # ...\n",
    "        self.merged = True\n",
    "        \n",
    "    def show_status(self) -> bool:\n",
    "        if self.merged:\n",
    "            print(\"DataFrames successfully merged..\")\n",
    "            return True\n",
    "        print(\"Cannot merge two dfs..\")\n",
    "        return False"
   ]
  },
  {
   "cell_type": "code",
   "execution_count": null,
   "metadata": {},
   "outputs": [],
   "source": [
    "proc_1 = DataFrameProcessor(\"df1\", \"df2\")"
   ]
  },
  {
   "cell_type": "code",
   "execution_count": null,
   "metadata": {},
   "outputs": [],
   "source": [
    "proc_1.merge_two_dfs()\n",
    "proc_1.show_status()"
   ]
  },
  {
   "cell_type": "markdown",
   "metadata": {},
   "source": [
    "<br>\n",
    "\n",
    "Ve druhé ukázce se třídou `DataFrameProcessor` nám stejnojmenná metoda `show_status` nejenom vypisuje text, ale současně vrací pomocnou `bool` hodnotu."
   ]
  },
  {
   "cell_type": "markdown",
   "metadata": {},
   "source": [
    "<br>\n",
    "\n",
    "#### Zapouzdření (~encapsulation)\n",
    "\n",
    "---\n",
    "\n",
    "V podstatě jde o omezení přístupu (nebo schování) **atributů** a **metod** ve třídě.\n",
    "\n",
    "<br>\n",
    "\n",
    "V kombinaci s **chráněnými objekty** chceme některé procesy zajistit a současně nekomplikovat uživatelské použití."
   ]
  },
  {
   "cell_type": "code",
   "execution_count": null,
   "metadata": {},
   "outputs": [],
   "source": [
    "class BookRecommender:\n",
    "    \"\"\"Recommend the book to the user according to his assignment\"\"\"\n",
    "    \n",
    "    def __init__(self, title: str, author: str):\n",
    "        self.title = title\n",
    "        self.author = author\n",
    "\n",
    "        if self.__update_app():\n",
    "            self.run_app()\n",
    "\n",
    "    def __update_app(self) -> bool:\n",
    "        print(\"Updating app..\")\n",
    "        return True\n",
    "        \n",
    "    def run_app(self):\n",
    "        print(\n",
    "            \"Running app..\",\n",
    "            f\"Adding book: {self.title}\",\n",
    "            sep=\"\\n\"\n",
    "        )"
   ]
  },
  {
   "cell_type": "code",
   "execution_count": null,
   "metadata": {},
   "outputs": [],
   "source": [
    "app = BookRecommender(\"Treason\", \"Timothy Zahn\")"
   ]
  },
  {
   "cell_type": "markdown",
   "metadata": {},
   "source": [
    "<br>\n",
    "\n",
    "Pomocí zapouzdření můžeme schovat procesy potřebné pro správný běh našeho modulu a zamezit jeho používání:"
   ]
  },
  {
   "cell_type": "code",
   "execution_count": null,
   "metadata": {},
   "outputs": [],
   "source": [
    "app.__update_app()"
   ]
  },
  {
   "cell_type": "markdown",
   "metadata": {},
   "source": [
    "<br>\n",
    "\n",
    "Zapouzdření brání v přístupu k atributům nebo metodám omylem ale ne záměrně."
   ]
  },
  {
   "cell_type": "markdown",
   "metadata": {},
   "source": [
    "<br>\n",
    "\n",
    "#### Dědičnost (~inheritence)\n",
    "\n",
    "---\n",
    "\n",
    "**Dědičnost** je prvek OOP, díky kterému můžeme přenášet **atributy** a **metody** jedné třídy (*rodičovské*) na její *potomky*:"
   ]
  },
  {
   "cell_type": "code",
   "execution_count": null,
   "metadata": {},
   "outputs": [],
   "source": [
    "class Employee:\n",
    "    \"\"\"Create a new employee object.\"\"\"\n",
    "\n",
    "    def __init__(self, name: str, age: int, wage: int = 0):\n",
    "        self.age = age\n",
    "        self.name = name\n",
    "        self.wage = wage\n",
    "        self.access_db: bool = False\n",
    "        self.access_vcs: bool = False\n",
    "        self.email = self.__generate_email()\n",
    "\n",
    "    def __generate_email(self):\n",
    "        domain: str = \"@nic.cz\"\n",
    "        return f\"Email: {self.name.lower()}{domain}\""
   ]
  },
  {
   "cell_type": "code",
   "execution_count": null,
   "metadata": {},
   "outputs": [],
   "source": [
    "first_emp = Employee(\"Lukas\", 28, 30_000)"
   ]
  },
  {
   "cell_type": "code",
   "execution_count": null,
   "metadata": {},
   "outputs": [],
   "source": [
    "print(\n",
    "    first_emp.name,\n",
    "    first_emp.age,\n",
    "    first_emp.email,\n",
    "    first_emp.access_vcs,\n",
    "    sep=\"\\n\"\n",
    ")"
   ]
  },
  {
   "cell_type": "markdown",
   "metadata": {},
   "source": [
    "<br>\n",
    "\n",
    "Vytvořili jsme instanci **nového zaměstnance**. Jde o úvodní pozici bez zaměření, bez zaškolení.\n",
    "\n",
    "<br>\n",
    "\n",
    "Později potřebuješ do systému zaevidovat novou pozici, *tester*:"
   ]
  },
  {
   "cell_type": "code",
   "execution_count": null,
   "metadata": {},
   "outputs": [],
   "source": [
    "class Tester:\n",
    "    \"\"\"Create a new tester object.\"\"\"\n",
    "\n",
    "    def __init__(self, name: str, age: int, wage: int = 0):\n",
    "        self.age = age\n",
    "        self.name = name\n",
    "        self.wage = wage\n",
    "        self.access_db: bool = False\n",
    "        self.access_vcs: bool = False\n",
    "        self.email = self.__generate_email()\n",
    "\n",
    "    def __generate_email(self):\n",
    "        domain: str = \"@nic.cz\"\n",
    "        return f\"Email: {self.name.lower()}{domain}\"\n",
    "    \n",
    "    def get_access_to_vcs(self):\n",
    "        self.access_vcs: bool = True\n",
    "        print(\"Added to the repository as a tester\")"
   ]
  },
  {
   "cell_type": "code",
   "execution_count": null,
   "metadata": {},
   "outputs": [],
   "source": [
    "tester_1 = Tester(\"Matous\", 30, 40_000)\n",
    "tester_1.get_access_to_vcs()"
   ]
  },
  {
   "cell_type": "markdown",
   "metadata": {},
   "source": [
    "<br>\n",
    "\n",
    "Na první pohled ale vidíš, že mít **dvě podobné třídy** pod sebou není efektivní a oponuje to princip vývoje softwaru (*DRY*).\n",
    "\n",
    "<br>\n",
    "\n",
    "Pokud budeš chtít do systému specifikovat novou třídu, která bude mít:\n",
    "1. **Částečnou** funkcionalitu nebo objekty **existující třídy**,\n",
    "2. **novou** funkcionalitu.\n",
    "\n",
    "<br>\n",
    "\n",
    ".. dědičnost můžeš můžeš použít právě pro rozšíření původní třídy:"
   ]
  },
  {
   "cell_type": "code",
   "execution_count": null,
   "metadata": {},
   "outputs": [],
   "source": [
    "class Tester(Employee):\n",
    "    \"\"\"Create a new tester object.\"\"\"\n",
    "    \n",
    "    def get_access_to_vcs(self):\n",
    "        self.access_vcs: bool = True\n",
    "        print(\"Added to the repository as a tester\")"
   ]
  },
  {
   "cell_type": "code",
   "execution_count": null,
   "metadata": {},
   "outputs": [],
   "source": [
    "tester_1 = Tester(\"Matous\", 30, 40_000)\n",
    "tester_1.get_access_to_vcs()\n",
    "tester_1.wage"
   ]
  },
  {
   "cell_type": "markdown",
   "metadata": {},
   "source": [
    "<br>\n",
    "\n",
    "#### Vícenásobné dědění\n",
    "\n",
    "---\n",
    "\n",
    "<br>\n",
    "\n",
    "<img src=\"https://i.imgur.com/bLeCRLD.png\" width=\"800\">\n",
    "\n",
    "<br>\n",
    "\n",
    "Vidíš, že třída `Tester` má svoji vlastní metodu `get_access_to_vcs`.\n",
    "\n",
    "<br>\n",
    "\n",
    "Současně ale zdědila základní instanční atributy ze třídy `Employee`:"
   ]
  },
  {
   "cell_type": "code",
   "execution_count": null,
   "metadata": {},
   "outputs": [],
   "source": [
    "print(\n",
    "    tester_1.name,\n",
    "    tester_1.age,\n",
    "    tester_1.email,\n",
    "    tester_1.access_vcs,\n",
    "    sep=\"\\n\"\n",
    ")"
   ]
  },
  {
   "cell_type": "markdown",
   "metadata": {},
   "source": [
    "<br>\n",
    "\n",
    "V průběhu času budeš chtít přidat nový typ zaměstnance, opět můžeš aplikovat dědičnost:"
   ]
  },
  {
   "cell_type": "code",
   "execution_count": null,
   "metadata": {},
   "outputs": [],
   "source": [
    "class BigDataEngineer(Employee):\n",
    "    \"\"\"Create a new big data engineer object.\"\"\"\n",
    "\n",
    "    def get_access_to_vcs(self):\n",
    "        self.access_vcs: bool = True\n",
    "        print(\"Added to the repository..\")\n",
    "        \n",
    "    def get_access_to_db(self):\n",
    "        self.access_db: bool = True\n",
    "        print(\"Added to the dbs..\")"
   ]
  },
  {
   "cell_type": "code",
   "execution_count": null,
   "metadata": {},
   "outputs": [],
   "source": [
    "data_ai_1 = BigDataEngineer(\"Petr\", 31, 100_000)\n",
    "data_ai_1.get_access_to_vcs()\n",
    "data_ai_1.get_access_to_db()"
   ]
  },
  {
   "cell_type": "markdown",
   "metadata": {},
   "source": [
    "<br>\n",
    "\n",
    "<img src=\"https://i.imgur.com/vC2hIWA.png\" width=\"800\">\n",
    "\n",
    "<br>\n",
    "\n",
    "Poslední třída `BigDataEngineer` je opět potomkem třídy `Employee`, takže pro ni platí stejná pravidla jako pro třídu `Tester`."
   ]
  },
  {
   "cell_type": "code",
   "execution_count": null,
   "metadata": {},
   "outputs": [],
   "source": [
    "print(\n",
    "    data_ai_1.name,\n",
    "    data_ai_1.age,\n",
    "    data_ai_1.email,\n",
    "    data_ai_1.access_vcs,\n",
    "    data_ai_1.access_db,\n",
    "    sep=\"\\n\"\n",
    ")"
   ]
  },
  {
   "cell_type": "markdown",
   "metadata": {},
   "source": [
    "<br>\n",
    "\n",
    "Všimni si ale metody `get_access_to_vcs`. Obě třídy potomků mají tuto metodu společnou. \n",
    "\n",
    "<br>\n",
    "\n",
    "Nebylo by výhodnější ji přesunout do původní třídy?"
   ]
  },
  {
   "cell_type": "code",
   "execution_count": null,
   "metadata": {},
   "outputs": [],
   "source": [
    "class Employee:\n",
    "    \"\"\"Create a new employee object.\"\"\"\n",
    "\n",
    "    def __init__(self, name: str, age: int, wage: int = 0):\n",
    "        self.age = age\n",
    "        self.name = name\n",
    "        self.wage = wage\n",
    "        self.access_db: bool = False\n",
    "        self.access_vcs: bool = False\n",
    "        self.email = self.__generate_email()\n",
    "            \n",
    "    def get_access_to_vcs(self):\n",
    "        self.access_vcs: bool = True\n",
    "        print(\"Added to the repository..\")\n",
    "\n",
    "    def __generate_email(self):\n",
    "        domain: str = \"@nic.cz\"\n",
    "        return f\"Email: {self.name.lower()}{domain}\""
   ]
  },
  {
   "cell_type": "code",
   "execution_count": null,
   "metadata": {},
   "outputs": [],
   "source": [
    "class Tester(Employee):\n",
    "    \"\"\"Create a new tester object.\"\"\""
   ]
  },
  {
   "cell_type": "code",
   "execution_count": null,
   "metadata": {},
   "outputs": [],
   "source": [
    "# doplň rodiče\n",
    "class BigDataEngineer(Tester):\n",
    "        \n",
    "    def get_access_to_db(self):\n",
    "        self.access_db: bool = True\n",
    "        print(\"Added to the dbs..\")"
   ]
  },
  {
   "cell_type": "code",
   "execution_count": null,
   "metadata": {},
   "outputs": [],
   "source": [
    "bd_eng_1 = BigDataEngineer(\"Marek\", 31, 60_000)\n",
    "bd_eng_1.get_access_to_vcs()\n",
    "bd_eng_1.get_access_to_db()"
   ]
  },
  {
   "cell_type": "markdown",
   "metadata": {},
   "source": [
    "<br>\n",
    "\n",
    "Při dědičnosti je potřeba dbát na **pravidla**, kdo od koho může dědit objekty a jejich pořádí.\n",
    "\n",
    "<br>\n",
    "\n",
    "Někdy se ale může začít proces dědičnost komplikovat:\n",
    "\n",
    "<br>\n",
    "\n",
    "<img src=\"https://i.imgur.com/HgQpT9I.png\" width=\"800\">\n",
    "\n",
    "<br>"
   ]
  },
  {
   "cell_type": "code",
   "execution_count": null,
   "metadata": {},
   "outputs": [],
   "source": [
    "class Employee:\n",
    "    pass\n",
    "\n",
    "class FrontendDev(Employee):\n",
    "    pass\n",
    "\n",
    "class BackendDev(Employee):\n",
    "    pass\n",
    "\n",
    "class FullstackDev(FrontendDev, BackendDev):\n",
    "    pass\n",
    "\n",
    "FullstackDev.__mro__"
   ]
  },
  {
   "cell_type": "markdown",
   "metadata": {},
   "source": [
    "<br>\n",
    "\n",
    "Dědičnost ale stejně jako ostatní koncepty nesmí být **zneužívána**.\n",
    "\n",
    "<br>\n",
    "\n",
    "Jednotlivé odkazování přestává být **zřetelné** a program se stává příliš komplexní.\n",
    "\n",
    "<br>\n",
    "\n",
    "Nejprve interpret vyhledává metody nebo atributy v aktuální třídě (potomkovi) a potom teprve začíná sledovat řád, který jsme nastavili pomocí dědičnosti.\n",
    "\n",
    "<br>\n",
    "\n",
    "Tento směr se nazývá jako **MRO** (*~method resolution order*), který je v podstatě sadou pravidel při dědění."
   ]
  },
  {
   "cell_type": "code",
   "execution_count": null,
   "metadata": {},
   "outputs": [],
   "source": [
    "class Employee:\n",
    "    def method_(self):\n",
    "        print(\"Třída 'Employee'\")\n",
    "\n",
    "class FrontendDev(Employee):\n",
    "    def method_(self):\n",
    "        print(\"\\t --> Třída 'FrontendDev'\")\n",
    "\n",
    "class BackendDev(Employee):\n",
    "    def method_(self):\n",
    "        print(\"\\t --> Třída 'BackendDev'\")\n",
    "\n",
    "class FullstackDev(FrontendDev, BackendDev):\n",
    "    pass\n",
    "\n",
    "employee_1 = Employee()\n",
    "backend_1 = FrontendDev()\n",
    "frontend_1 = BackendDev()\n",
    "fullstack_1 = FullstackDev()"
   ]
  },
  {
   "cell_type": "code",
   "execution_count": null,
   "metadata": {},
   "outputs": [],
   "source": [
    "employee_1.method_()\n",
    "backend_1.method_()\n",
    "frontend_1.method_()\n",
    "fullstack_1.method_()"
   ]
  },
  {
   "cell_type": "markdown",
   "metadata": {},
   "source": [
    "<br>\n",
    "\n",
    "Někdy se *MRO* označuje také jako linearizace procesu dědění.\n",
    "\n",
    "<br>\n",
    "\n",
    "Pokud mám toto *diamantové* schéma dědění, potom si třída `FullstackDev` vezme stejnojmennou metodu z **prvního** zapsaného rodiče.\n",
    "\n",
    "<br>\n",
    "\n",
    "##### Přepsání rodičovských objektů\n",
    "\n",
    "---"
   ]
  },
  {
   "cell_type": "code",
   "execution_count": null,
   "metadata": {},
   "outputs": [],
   "source": [
    "class Employee:\n",
    "\n",
    "    def __init__(self, name: str, email: str):\n",
    "        self.name = name\n",
    "        self.email = email\n",
    "\n",
    "class Developer(Employee):\n",
    "\n",
    "    def __init__(self, certificate: str):\n",
    "        self.certificate = certificate"
   ]
  },
  {
   "cell_type": "code",
   "execution_count": null,
   "metadata": {},
   "outputs": [],
   "source": [
    "emp = Employee(\"Matous\", \"matous@nic.cz\")"
   ]
  },
  {
   "cell_type": "code",
   "execution_count": null,
   "metadata": {},
   "outputs": [],
   "source": [
    "dev = Developer(\"Petr\", \"petr@nic.cz\", \"python_engeto_cert\")"
   ]
  },
  {
   "cell_type": "code",
   "execution_count": null,
   "metadata": {},
   "outputs": [],
   "source": [
    "dev = Developer(\"PythonEngetoCert\")"
   ]
  },
  {
   "cell_type": "code",
   "execution_count": null,
   "metadata": {},
   "outputs": [],
   "source": [
    "dev.name"
   ]
  },
  {
   "cell_type": "code",
   "execution_count": null,
   "metadata": {},
   "outputs": [],
   "source": [
    "dev.certificate"
   ]
  },
  {
   "cell_type": "markdown",
   "metadata": {},
   "source": [
    "<br>\n",
    "\n",
    "Co dělat?\n",
    "1. Přidat **nový atribut** i do dceřinné třídy, (*opět proti DRY*)\n",
    "2. doplnit původní metodu `__init__`, (starší varianta),\n",
    "3. doplnit `__super__` metodu.\n",
    "\n",
    "<br>\n",
    "\n",
    "###### Nové atributy"
   ]
  },
  {
   "cell_type": "code",
   "execution_count": null,
   "metadata": {},
   "outputs": [],
   "source": [
    "class Developer(Employee):\n",
    "    \n",
    "    def __init__(self, name: str, email: str, certificate: str):\n",
    "        self.name = name\n",
    "        self.email = email\n",
    "        self.certificate = certificate"
   ]
  },
  {
   "cell_type": "code",
   "execution_count": null,
   "metadata": {},
   "outputs": [],
   "source": [
    "dev = Developer(\"Petr\", \"petr@nic.cz\", \"PythonEngetoCert\")"
   ]
  },
  {
   "cell_type": "code",
   "execution_count": null,
   "metadata": {},
   "outputs": [],
   "source": [
    "print(\n",
    "    dev.name,\n",
    "    dev.email,\n",
    "    dev.certificate,\n",
    "    sep=\"\\n\"\n",
    ")"
   ]
  },
  {
   "cell_type": "markdown",
   "metadata": {},
   "source": [
    "<br>\n",
    "\n",
    "###### Přepsat metodu __init__()"
   ]
  },
  {
   "cell_type": "code",
   "execution_count": null,
   "metadata": {},
   "outputs": [],
   "source": [
    "class Developer(Employee):\n",
    "    def __init__(self, name: str, email: str, certificate: str):\n",
    "        Employee.__init__(self, name, email)  # přepis metody\n",
    "        self.certificate = certificate"
   ]
  },
  {
   "cell_type": "code",
   "execution_count": null,
   "metadata": {},
   "outputs": [],
   "source": [
    "dev = Developer(\"Petr\", \"petr@nic.cz\", \"PythonEngetoCert\")"
   ]
  },
  {
   "cell_type": "code",
   "execution_count": null,
   "metadata": {},
   "outputs": [],
   "source": [
    "print(\n",
    "    dev.name,\n",
    "    dev.email,\n",
    "    dev.certificate,\n",
    "    sep=\"\\n\"\n",
    ")"
   ]
  },
  {
   "cell_type": "markdown",
   "metadata": {},
   "source": [
    "<br>\n",
    "\n",
    "###### Použít funkci super()"
   ]
  },
  {
   "cell_type": "code",
   "execution_count": null,
   "metadata": {},
   "outputs": [],
   "source": [
    "class Developer(Employee):\n",
    "    def __init__(self, name: str, email: str, certificate: str):\n",
    "        super().__init__(name, email)  # obecně __init__(**kwargs)\n",
    "        self.certificate = certificate"
   ]
  },
  {
   "cell_type": "code",
   "execution_count": null,
   "metadata": {},
   "outputs": [],
   "source": [
    "dev = Developer(\"Petr\", \"petr@nic.cz\", \"PythonEngetoCert\")"
   ]
  },
  {
   "cell_type": "code",
   "execution_count": null,
   "metadata": {},
   "outputs": [],
   "source": [
    "print(\n",
    "    dev.name,\n",
    "    dev.email,\n",
    "    dev.certificate,\n",
    "    sep=\"\\n\"\n",
    ")"
   ]
  },
  {
   "cell_type": "markdown",
   "metadata": {},
   "source": [
    "<br>\n",
    "\n",
    "#### Abstrakce\n",
    "\n",
    "---\n",
    "Tento pilíř se zaměřuje zejména na **redukováním detailů** procesů (metod) před uživatelem.\n",
    "\n",
    "<br>\n",
    "\n",
    "Ve výsledku uživatel ví, co dělá, ale neví, jak **celý proces pracuje**.\n",
    "\n",
    "<br>\n",
    "\n",
    "Představ si **fotoaparát** na svém telefonu. Víš jak jej spustit a použít.\n",
    "\n",
    "<br>\n",
    "\n",
    "Nepotřebuješ znát všechny potřebné atributy a metody, které pracují na pozadí.\n",
    "\n",
    "<br>\n",
    "\n",
    "Praktickou obecná ukázka abstrakce pro datový typ `str`:\n",
    "```python\n",
    "\"matous\".title()     # \"Matous\"\n",
    "\"1234\".isnumeric()   # True\n",
    "\"OOP\".isupper()      # True\n",
    "```\n",
    "\n",
    "<br>\n",
    "\n",
    "Pokročilá abstrakce v OOP Pythonu:\n",
    "<!-- \n",
    "```python\n",
    "class GooglePaymentProcessor:\n",
    "    \n",
    "    def __init__(self, order: int):\n",
    "        self.order = order\n",
    "\n",
    "    def pay(self):\n",
    "        print(\n",
    "            f\"Nr.order: {self.order}\",\n",
    "            \"Processing GooglePay..\",\n",
    "            \"Verifying security code..\",\n",
    "            \"Changing order status..\",\n",
    "            \"-\" * 25,\n",
    "            sep=\"\\n\"\n",
    "        )\n",
    "```\n",
    "\n",
    "```python\n",
    "order_1 = GooglePaymentProcessor(\"1234567890\")\n",
    "order_1.pay()\n",
    "``` -->"
   ]
  },
  {
   "cell_type": "code",
   "execution_count": null,
   "metadata": {},
   "outputs": [],
   "source": [
    "class User():\n",
    "    \"\"\"Create a new user of web project.\"\"\"\n",
    "\n",
    "    def __init__(self, email: str, num_of_months: int):\n",
    "        self.email = email\n",
    "        self.num_of_months = num_of_months\n",
    "        \n",
    "    def show_message(self):\n",
    "        print(f\"User {self.email} subscribed for {self.num_of_months} months\")\n",
    "\n",
    "    def process_payment(self):\n",
    "        \"\"\"Process the final price to the user\"\"\"\n",
    "        pass"
   ]
  },
  {
   "cell_type": "code",
   "execution_count": null,
   "metadata": {},
   "outputs": [],
   "source": [
    "user_1 = User(\"matous@gmail.com\", 11)\n",
    "user_1.show_message()"
   ]
  },
  {
   "cell_type": "markdown",
   "metadata": {},
   "source": [
    "<br>\n",
    "\n",
    "Ale co když budeš jako programátor potřebovat vytvořit různé **typy účtů**?\n",
    "\n",
    "<br>\n",
    "\n",
    "Např. 3 různé předplatitelné scénaře typu:\n",
    "1. **Gold**, (100 CZK/mo)\n",
    "2. **platinum**, (150 CZK/mo),\n",
    "3. **diamond**, (290 CZK/mo).\n",
    "\n",
    "<br>\n",
    "\n",
    "V takovém okamžiku můžeš použít modul `abc`:\n",
    "<!-- \n",
    "```python\n",
    "from abc import ABC, abstractmethod  # abstraktní třída a metoda\n",
    "\n",
    "class PaymentProcessor(ABC):  # naše hlavní třída zdědí označení abstraktní třídy\n",
    "    \n",
    "    def __init__(self, order: int):\n",
    "        self.order = order\n",
    "\n",
    "    @abstractmethod           # označíme abstraktní metodu/metody\n",
    "    def pay(self):\n",
    "        \"\"\"Process, verify and change the status of the given order.\"\"\"\n",
    "        pass                  # nepíšeš žádné ohlášení, pouze 'pass'\n",
    "\n",
    "\n",
    "class GooglePaymentProcessor(PaymentProcessor):    # podtřídy zdědí od rodiče funkcionalitu\n",
    "    def pay(self):\n",
    "        print(\n",
    "            f\"Nr.order: {self.order}\",\n",
    "            \"Processing GooglePay..\",\n",
    "            \"Verifying security code..\",\n",
    "            \"Changing order status..\",\n",
    "            \"-\" * 25,\n",
    "            sep=\"\\n\"\n",
    "        )\n",
    "        \n",
    "class ApplePaymentProcessor(PaymentProcessor):   # podtřídy zdědí od rodiče funkcionalitu\n",
    "    def pay(self):\n",
    "        print(\n",
    "            f\"Nr.order: {self.order}\",\n",
    "            \"Processing ApplePay..\",\n",
    "            \"Verifying security code..\",\n",
    "            \"Changing order status..\",\n",
    "            \"-\" * 25,\n",
    "            sep=\"\\n\"\n",
    "        )\n",
    "\n",
    "class PaypalPaymentProcessor(PaymentProcessor):  # podtřídy zdědí od rodiče funkcionalitu\n",
    "    pass\n",
    "\n",
    "```\n",
    "\n",
    "```python\n",
    "order_1 = GooglePaymentProcessor(\"1234567890\")\n",
    "order_1.pay()\n",
    "```\n",
    "\n",
    "```python\n",
    "order_2 = ApplePaymentProcessor(\"0321654987\")\n",
    "order_2.pay()\n",
    "``` -->"
   ]
  },
  {
   "cell_type": "code",
   "execution_count": null,
   "metadata": {},
   "outputs": [],
   "source": [
    "from abc import ABC, abstractmethod  # abstraktní třída a metoda\n",
    "\n",
    "class User(ABC):                     # naše hlavní třída zdědí označení abstraktní třídy\n",
    "    \"\"\"Create a new user of web project.\"\"\"\n",
    "\n",
    "    def __init__(self, email: str, num_of_months: int):\n",
    "        self.email = email\n",
    "        self.num_of_months = num_of_months\n",
    "        \n",
    "    def show_message(self):\n",
    "        print(f\"User {self.email} subscribed for {self.num_of_months} months\")\n",
    "\n",
    "    @abstractmethod                  # označíme abstraktní metodu/metody\n",
    "    def process_payment(self):\n",
    "        \"\"\"Process the final price to the user\"\"\"\n",
    "        pass                         # nepíšeš žádné ohlášení, pouze 'pass'"
   ]
  },
  {
   "cell_type": "code",
   "execution_count": null,
   "metadata": {},
   "outputs": [],
   "source": [
    "class GoldMember(User):\n",
    "    GOLD_PLAN_PRICE: int = 100\n",
    "        \n",
    "    def process_payment(self):\n",
    "        return self.num_of_months * GoldMember.GOLD_PLAN_PRICE"
   ]
  },
  {
   "cell_type": "code",
   "execution_count": null,
   "metadata": {},
   "outputs": [],
   "source": [
    "class PlatinumMember(User):\n",
    "    PLATINUM_PLAN_PRICE: int = 150\n",
    "        \n",
    "    def process_payment(self):\n",
    "        return self.num_of_months * PlatinumMember.PLATINUM_PLAN_PRICE"
   ]
  },
  {
   "cell_type": "code",
   "execution_count": null,
   "metadata": {},
   "outputs": [],
   "source": [
    "class DiamondMember(User):\n",
    "    DIAMOND_PLAN_PRICE: int = 290\n",
    "        \n",
    "    def process_payment(self):\n",
    "        return self.num_of_months * DiamondMember.DIAMOND_PLAN_PRICE"
   ]
  },
  {
   "cell_type": "markdown",
   "metadata": {},
   "source": [
    "<br>\n",
    "\n",
    "`ABC` je metoda, kterou musíš zdědit z modulu `abc`. Python defaultně nepracuje s konceptem abstraktních tříd jako jiné jazyky.\n",
    "\n",
    "<br>\n",
    "\n",
    "Dále musíš označit metodu jako abstraktní metodu. Použij dekorátor `@abstractmethod`.\n",
    "\n",
    "<br>\n",
    "\n",
    "V abstraktní metodě nepíšeš žádné ohlášení, pouze dokumentaci abstraktní metody a ohlášení `pass`:"
   ]
  },
  {
   "cell_type": "code",
   "execution_count": null,
   "metadata": {},
   "outputs": [],
   "source": [
    "user_2 = GoldMember('lukas.gulas@email.cz', 12)\n",
    "user_2.show_message()\n",
    "user_2.process_payment()"
   ]
  },
  {
   "cell_type": "code",
   "execution_count": null,
   "metadata": {},
   "outputs": [],
   "source": [
    "user_3 = PlatinumMember('matous.svatous@gmail.com', 10)\n",
    "user_3.show_message()\n",
    "user_3.process_payment()"
   ]
  },
  {
   "cell_type": "code",
   "execution_count": null,
   "metadata": {},
   "outputs": [],
   "source": [
    "user_4 = DiamondMember('petr.svetr@petr.com', 7)\n",
    "user_4.show_message()\n",
    "user_4.process_payment()"
   ]
  },
  {
   "cell_type": "markdown",
   "metadata": {},
   "source": [
    "<br>\n",
    "\n",
    "#### Úloha\n",
    "\n",
    "---\n",
    "Třetí úlohou je scraper, který postahuje odkazy a zatřídí je.\n",
    "\n",
    "<br>\n",
    "\n",
    "Průběh souboru:\n",
    "```\n",
    "\"\"\"\n",
    "1. Vytvoř vlastní objekt s částmi odkazu a časem,\n",
    "2. procesor, který zpracovává seznam odkazů.\n",
    "3. iniciační třídu, která odesílá požadavky,\n",
    "4. sběrač odkazů, s klíčovým slovem uvnitř\n",
    "5. vlastní výjimku, pokud soubor postráda parametr.\n",
    "\"\"\"\n",
    "```\n",
    "\n",
    "<br>\n",
    "\n",
    "Následný výstup:\n",
    "```\n",
    "...\n",
    "06/12/21, 15:13:25: /zpravy/domaci/komentare-glosy-nazory.K307000,\n",
    "06/12/21, 15:13:25: /zpravy/zahranicni/rusko-su-30-su-35-sestreli,\n",
    "06/12/21, 15:13:25: /zpravy/domaci/kubek-ceska-lekarska-komora-oc,\n",
    "06/12/21, 15:13:25: /zpravy/domaci/prehledne-covid-opatreni-zpris,\n",
    "06/12/21, 15:13:25: /zpravy/zahranicni/koronavirus-nakaza-pandemi,\n",
    "...\n",
    "```"
   ]
  },
  {
   "cell_type": "code",
   "execution_count": 12,
   "metadata": {},
   "outputs": [
    {
     "data": {
      "text/plain": [
       "[06/12/21, 15:15:00: /zpravy/domaci/jednani-vlady-koronavirus-povi,\n",
       " 06/12/21, 15:15:00: /zpravy/domaci/vojtech-filip-komuniste-stroug,\n",
       " 06/12/21, 15:15:00: /ceske-budejovice/zpravy/oprava-nadrazi-tabor,\n",
       " 06/12/21, 15:15:00: /zpravy/domaci,\n",
       " 06/12/21, 15:15:00: /zpravy/domaci/cez-albanie-lobbisti-spinave-p,\n",
       " 06/12/21, 15:15:00: /zpravy/domaci/drogy-heroin-paseractvi-pakist,\n",
       " 06/12/21, 15:15:00: /zpravy/zahranicni/koronavirus-omikron-nachla,\n",
       " 06/12/21, 15:15:00: /zpravy/jan-hrebejk-covid-19-ockovani-neockov,\n",
       " 06/12/21, 15:15:00: /zpravy/zahranicni/koronavirus-omikron-nachla,\n",
       " 06/12/21, 15:15:00: /zpravy/domaci/vanoce-omezeni-pristup-lidi-pr,\n",
       " 06/12/21, 15:15:00: /zpravy/zahranicni,\n",
       " 06/12/21, 15:15:00: /zpravy/archiv,\n",
       " 06/12/21, 15:15:00: /zpravy/domaci/vit-rakusan-stan-koronavirus-p,\n",
       " 06/12/21, 15:15:00: /zpravy/domaci/dalnice-fiala-vlada-spolu-rych,\n",
       " 06/12/21, 15:15:00: /zpravy/mediahub,\n",
       " 06/12/21, 15:15:00: /liberec/zpravy/nehoda-ceska-lipa-sosnova-syp,\n",
       " 06/12/21, 15:15:00: /zpravy/zahranicni/rusko-covid-karantena-anti,\n",
       " 06/12/21, 15:15:00: /zpravy/cerna-kronika,\n",
       " 06/12/21, 15:15:00: /zpravy,\n",
       " 06/12/21, 15:15:00: /zpravy/domaci/komentare-glosy-nazory.K307000,\n",
       " 06/12/21, 15:15:00: /zpravy/zahranicni/rusko-su-30-su-35-sestreli,\n",
       " 06/12/21, 15:15:00: /zpravy/domaci/kubek-ceska-lekarska-komora-oc,\n",
       " 06/12/21, 15:15:00: /zpravy/domaci/prehledne-covid-opatreni-zpris,\n",
       " 06/12/21, 15:15:00: /ostrava/zpravy/koronavirus-dite-ostrava-chla,\n",
       " 06/12/21, 15:15:00: /zpravy/domaci/kritika-nemocnice-covid-lekar-,\n",
       " 06/12/21, 15:15:00: /zpravy/domaci/prezident-milos-zeman-izolace-,\n",
       " 06/12/21, 15:15:00: /zpravy,\n",
       " 06/12/21, 15:15:00: /praha/zpravy/stanky-demontace-vanocni-trhy-z,\n",
       " 06/12/21, 15:15:00: /olomouc/zpravy/nakladac-kamenolom-strojnik-e,\n",
       " 06/12/21, 15:15:00: /zpravy/domaci/fiala-spolu-nova-vlada-politol,\n",
       " 06/12/21, 15:15:00: /zpravy2,\n",
       " 06/12/21, 15:15:00: /zpravy/zahranicni/cina-olympiada-zimni-2022-]"
      ]
     },
     "execution_count": 12,
     "metadata": {},
     "output_type": "execute_result"
    }
   ],
   "source": [
    "import datetime\n",
    "from urllib.parse import urlparse, urljoin\n",
    "\n",
    "import bs4\n",
    "import requests\n",
    "\n",
    "\n",
    "class MissingURLError(Exception):\n",
    "    \"\"\"Create instance of our own exception.\"\"\"\n",
    "\n",
    "    def __init__(self, msg: str = \"Parameter 'url' is not string-like object.\"):\n",
    "        super().__init__(msg)\n",
    "\n",
    "\n",
    "class ScraperInitializer:\n",
    "    \"\"\"Create session and return the bs4.BeautifulSoup object.\"\"\"\n",
    "    \n",
    "    def __init__(self, url: str = \"\"):\n",
    "        self.url = url\n",
    "        \n",
    "    @property\n",
    "    def url(self):\n",
    "        return self._url\n",
    "    \n",
    "    @url.setter\n",
    "    def url(self, val: str):\n",
    "        if not isinstance(val, str):\n",
    "            raise MissingURLError()\n",
    "        self._url = val\n",
    "\n",
    "    def send_get_request(self) -> requests.models.Response:\n",
    "        return requests.get(self.url)\n",
    "\n",
    "    def parse_response(self, response) -> bs4.BeautifulSoup:\n",
    "        return bs4.BeautifulSoup(\n",
    "            response.content,\n",
    "            features=\"html.parser\"\n",
    "        )\n",
    "\n",
    "\n",
    "class LinkScraper:\n",
    "    \"\"\"Collects links of various types from a main url\"\"\"\n",
    "\n",
    "    def __init__(self, url: str, keyword: str, soup: bs4.BeautifulSoup):\n",
    "        self.url = url\n",
    "        self.soup = soup\n",
    "        self.keyword = keyword\n",
    "\n",
    "    def collect_all_links(self) -> set:\n",
    "        return {\n",
    "            urljoin(self.url, link.get(\"href\"))\n",
    "            for link in self.soup.find_all(\"a\")\n",
    "            if \"href\" in link.attrs \\\n",
    "            and self.is_keyword(link.get(\"href\"))\n",
    "        }\n",
    "    \n",
    "    def is_keyword(self, link: str) -> bool:\n",
    "        return self.keyword in urlparse(link).path\n",
    "\n",
    "\n",
    "class LinkCollector:\n",
    "    \"\"\"Create a new object from scheme, netloc, path and date.\"\"\"\n",
    "    fmt: str = \"%d/%m/%y, %H:%M:%S\"\n",
    "    number_of_links: int = 0\n",
    "    \n",
    "    def __init__(self, scheme, netloc, path):\n",
    "        self.path = path\n",
    "        self.scheme = scheme\n",
    "        self.netloc = netloc\n",
    "        self.date = datetime.datetime.now().strftime(self.fmt)\n",
    "        \n",
    "        LinkCollector.add_link()\n",
    "        \n",
    "    @classmethod\n",
    "    def add_link(cls):\n",
    "        cls.number_of_links += 1\n",
    "        \n",
    "    def __repr__(self):\n",
    "        return str(f\"{self.date}: {self.path[:45]}\")\n",
    "        \n",
    "\n",
    "class LinkProcessor:\n",
    "    \"\"\"Process the given list and create new object w/ attributes.\"\"\"\n",
    "    \n",
    "    def __init__(self, links: set):\n",
    "        self.links = links\n",
    "        self.results = list()\n",
    "        \n",
    "    def add_links(self):\n",
    "        for link in self.links:\n",
    "            self.results.append(\n",
    "                LinkCollector(\n",
    "                    scheme=urlparse(link).scheme,\n",
    "                    netloc=urlparse(link).netloc,\n",
    "                    path=urlparse(link).path,\n",
    "                )\n",
    "            )\n",
    "\n",
    "\n",
    "# iniciuj objekt pro scraper\n",
    "scraper = ScraperInitializer()     \n",
    "# scraper.url = \"https://engeto.cz\"         # \"product\"\n",
    "# scraper.url = \"https://junior.guru/jobs\"  # \"jobs\"\n",
    "scraper.url = \"https://idnes.cz\"          # \"zpravy\"\n",
    "\n",
    "# posbírej odkazy\n",
    "links = LinkScraper(\n",
    "    scraper.url,\n",
    "    \"zpravy\",    \n",
    "    scraper.parse_response(scraper.send_get_request()),\n",
    ")\n",
    "\n",
    "# ulož posbírané odkazy\n",
    "saved = LinkProcessor(links.collect_all_links())\n",
    "saved.add_links()\n",
    "\n",
    "# vypiš vyhledané\n",
    "saved.results"
   ]
  },
  {
   "cell_type": "code",
   "execution_count": 11,
   "metadata": {},
   "outputs": [
    {
     "data": {
      "text/plain": [
       "{'path': '/zpravy/domaci/vojtech-filip-komuniste-strougal-vajnar-obnova-stihani-soud-kscm-hranice.A211206_121946_domaci_pmk',\n",
       " 'scheme': 'https',\n",
       " 'netloc': 'www.idnes.cz',\n",
       " 'date': '06/12/21, 15:13:25'}"
      ]
     },
     "execution_count": 11,
     "metadata": {},
     "output_type": "execute_result"
    }
   ],
   "source": [
    "saved.results[1].__dict__"
   ]
  },
  {
   "cell_type": "markdown",
   "metadata": {},
   "source": [
    "---"
   ]
  }
 ],
 "metadata": {
  "kernelspec": {
   "display_name": "Python 3",
   "language": "python",
   "name": "python3"
  },
  "language_info": {
   "codemirror_mode": {
    "name": "ipython",
    "version": 3
   },
   "file_extension": ".py",
   "mimetype": "text/x-python",
   "name": "python",
   "nbconvert_exporter": "python",
   "pygments_lexer": "ipython3",
   "version": "3.8.10"
  }
 },
 "nbformat": 4,
 "nbformat_minor": 4
}
