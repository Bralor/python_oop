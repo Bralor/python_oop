{
 "cells": [
  {
   "cell_type": "markdown",
   "metadata": {},
   "source": [
    "### Projekt objektově orientovaného programování\n",
    "\n",
    "---\n",
    "\n",
    "Finální projekt kurzu Engeto, úvod do OOP.\n",
    "\n",
    "<br>\n",
    "\n",
    "Projekt **NENÍ** povinný. Každý, kdo má zájem, si jej může vyzkoušet.\n",
    "\n",
    "<br>\n",
    "\n",
    "Pokud budeš chtít zpětnou vazbou (konzultaci s lektorem), odevzdej, prosím, tvůj projekt jako repozitář přes *github* a na Slack pošli lektorovi url tohoto repozitáře.\n",
    "\n",
    "<br>\n",
    "\n",
    "Projekt bude mít tyto části:\n",
    "1. [Sběr dat (OOP),](#Sběr-dat,-OOP, **povinné**)\n",
    "    - [úvod k vlastnímu projektu,](#Úvod-k-vlastnímu-projektu)\n",
    "    - [knihovny & výstup,](#Importování-knihoven-&-výstupní-objekt)\n",
    "    - [vytvoření nového objektu,](#Vytvoření-objektu-pro-naše-data)\n",
    "    - [parsování vrácených dat,](#Parsování-vrácených-dat)\n",
    "    - [nové výstupní objekty,](#Vytvoření-pole-nových-objektů-typu-'BRRealEstateOffer')\n",
    "    - [úkol A,](#Úkol-A)\n",
    "\n",
    "\n",
    "2. [Analýza dat (pandas, volitelné),](#Analýza-data,-pandas)\n",
    "    - [úvod,](#Úvod-k-frameworku)\n",
    "    - [orientace,](#Zobrazení-údajů)\n",
    "    - [selekce a řazení,](#Výběr-sloupce-&-seřazení)\n",
    "    - [přidat & odstranit sloupec,](#Nové-sloupečky)\n",
    "    - [úkol B,](#Úkol-B)\n",
    "\n",
    "\n",
    "3. [Uložení dat (sqlite3, volitelné),](#Uložení-dat,-sqlite3,)\n",
    "    - [úvod,](#Úvod-do-SQL)\n",
    "    - [zápis testovacích hodnot,](#Tvorba-testovací-databáze-(orientace-v-DB))\n",
    "    - [čtení testovacích hodnot,](#Čtení-hodnot-v-existující-DB)\n",
    "    - [zápis skutečných hodnot,](#Zápis-hodnot-z-DataFramu-do-nové-tabulky)\n",
    "    - [úkol C,](#Úkol-C)\n",
    "\n",
    "\n",
    "4. [Interpretace dat (flask, ).](#Intepretace-pomocí-webového-frameworku)\n",
    "    - [úvod,](#Úvod-do-webového-frameworku)\n",
    "    - [views,hlavní stránka](#Hlavní-stránka,-první-část)\n",
    "    - [aplikace dat,]()\n",
    "    - [úkol D,](#Úkol-D)\n",
    "\n",
    "<br>"
   ]
  },
  {
   "cell_type": "markdown",
   "metadata": {},
   "source": [
    "#### Sběr dat, OOP\n",
    "\n",
    "---\n",
    "\n",
    "###### Úvod k vlastnímu projektu\n",
    "\n",
    "---\n",
    "\n",
    "Nachystání **virtuálního prostředí**:\n",
    "```\n",
    "$ python -m venv projekt04       # vytvořím virt. prostředí\n",
    "$ source projekt04/bin/activate  # aktivuji binárku virt. prostředí\n",
    "```\n",
    "\n",
    "<br>\n",
    "\n",
    "Instalace souvisejících **knihoven**:\n",
    "```\n",
    "$ pip --version  # kontrola manažeru\n",
    "$ pip install -r requirements.txt\n",
    "\n",
    "Collecting beautifulsoup4==4.10.0\n",
    "  Using cached beautifulsoup4-4.10.0-py3-none-any.whl (97 kB)\n",
    "Collecting certifi==2021.10.8\n",
    "...\n",
    "```\n",
    "\n",
    "<br>\n",
    "\n",
    "V rootovi projektu vytvoř soubor s dokumentací `README.md`.\n",
    "\n",
    "<br>\n",
    "\n",
    "Ten by měl obsahovat aspoň bodově **strukturu** tvého projektu, příklad objektů, se kterými bys chtěl pracovat a jednotlivé komponenty tvého projektu.\n",
    "\n",
    "<br>\n",
    "\n",
    "Vytvoř adresář pro nový balíček:\n",
    "```\n",
    "/<projekt04>\n",
    "    ├─requirements.txt\n",
    "    ├─README.md\n",
    "    └─<jmeno_balicku>\n",
    "       ├─__init__.py\n",
    "       ├─collector.py\n",
    "       ├─processor.py\n",
    "       ├─db.py\n",
    "       ├─tests/\n",
    "       └─flask_fe/\n",
    "          ├─static/\n",
    "          ├─templates/\n",
    "          ├─views.py\n",
    "          └─db.db\n",
    "```\n",
    "\n",
    "###### Importování knihoven & výstupní objekt\n",
    "\n",
    "---"
   ]
  },
  {
   "cell_type": "code",
   "execution_count": 24,
   "metadata": {},
   "outputs": [],
   "source": [
    "\"\"\"\n",
    "# náhled na údaj\n",
    "# --------------\n",
    "example: Dict[str, Union[str, float, int]] = \n",
    "{'gps': '{\"lat\":49.23727,\"lng\":16.58296}',\n",
    " 'price': 6499000,\n",
    " 'currency': 'CZK',\n",
    " 'key_offer_type': 'prodej',\n",
    " 'key_estate_type': 'byt',\n",
    " 'key_disposition': '2-1',\n",
    " 'surface': 60,\n",
    " 'surface_land': 0}\n",
    "\"\"\"\n",
    "\n",
    "import json\n",
    "from urllib.parse import urljoin\n",
    "from geopy.geocoders import Nominatim\n",
    "from typing import Dict, List, Union, Any\n",
    "\n",
    "import bs4\n",
    "import requests"
   ]
  },
  {
   "cell_type": "markdown",
   "metadata": {},
   "source": [
    "<br>\n",
    "\n",
    "###### Vytvoření objektu pro naše data\n",
    "\n",
    "---"
   ]
  },
  {
   "cell_type": "code",
   "execution_count": 60,
   "metadata": {},
   "outputs": [],
   "source": [
    "class BRRealEstateOffer:\n",
    "    \"\"\"Create a new object from the given attributes.\"\"\"\n",
    "    offer_count: int = 0\n",
    "    \n",
    "    def __init__(\n",
    "        self, details: Dict[str, Union[str, int, float]]\n",
    "    ):\n",
    "        self.id_ = details.get(\"id\")\n",
    "        self.url = details.get(\"url\")\n",
    "        self.gps = details.get(\"gps\")\n",
    "        self.price = details.get(\"price\")\n",
    "        self.surface = details.get(\"surface\")\n",
    "        self.currency = details.get(\"currency\")\n",
    "        self.surface_land = details.get(\"surfaceLand\")\n",
    "        self.key_offer_type = details.get(\"keyOfferType\")\n",
    "        self.key_estate_type = details.get(\"keyEstateType\")\n",
    "        self.key_disposition = details.get(\"keyDisposition\")\n",
    "\n",
    "    @classmethod\n",
    "    def add_offer(cls):\n",
    "        cls.offer_count += 1\n",
    "\n",
    "    def __repr__(self) -> str:\n",
    "        return str(f\"{self.url}\")\n",
    "    \n",
    "    # ...\n",
    "    def full_description(self) -> str:\n",
    "        return f\"{self.key_offer_type}; {self.key_estate_type}; {self.key_disposition}\""
   ]
  },
  {
   "cell_type": "markdown",
   "metadata": {},
   "source": [
    "###### Vzorový údaj po zapracování\n",
    "\n",
    "---"
   ]
  },
  {
   "cell_type": "code",
   "execution_count": 61,
   "metadata": {},
   "outputs": [],
   "source": [
    "example: Dict[str, Union[str, float, int]] = {\n",
    "    'id': 695305,\n",
    "    'surface': 60,\n",
    "    'price': 6499000,\n",
    "    'currency': 'CZK',\n",
    "    'surface_land': 0,\n",
    "    'keyEstateType': 'byt',\n",
    "    'keyDisposition': '2-1',\n",
    "    'keyOfferType': 'prodej',\n",
    "    'gps': '{\"lat\":49.23727,\"lng\":16.58296}',\n",
    "    'url': \"https://www.bezrealitky.cz/nemovitosti-byty-domy/695305-nabidka-prodej-bytu-ostruzinova-brno\",\n",
    "}"
   ]
  },
  {
   "cell_type": "code",
   "execution_count": 62,
   "metadata": {},
   "outputs": [],
   "source": [
    "offer_1 = BRRealEstateOffer(example)"
   ]
  },
  {
   "cell_type": "code",
   "execution_count": 63,
   "metadata": {
    "scrolled": true
   },
   "outputs": [
    {
     "data": {
      "text/plain": [
       "'prodej; byt; 2-1'"
      ]
     },
     "execution_count": 63,
     "metadata": {},
     "output_type": "execute_result"
    }
   ],
   "source": [
    "offer_1.full_description()"
   ]
  },
  {
   "cell_type": "markdown",
   "metadata": {},
   "source": [
    "###### Požadavek na API\n",
    "\n",
    "---"
   ]
  },
  {
   "cell_type": "code",
   "execution_count": 64,
   "metadata": {},
   "outputs": [],
   "source": [
    "class ScraperInitiator:\n",
    "    \"\"\"Initiate a new object for the data transfer.\"\"\"\n",
    "    \n",
    "    def __init__(self, url: str, params: Dict[str, str]):\n",
    "        self.url = url\n",
    "        self.params = params\n",
    "        \n",
    "    def send_post_request(self) -> requests.models.Response:\n",
    "        return requests.post(self.url, params=self.params)\n",
    "    \n",
    "    @staticmethod\n",
    "    def load_json(response: requests.models.Response) -> List[Dict[str, str]]:\n",
    "        \"\"\"Load the 'json' package and read the content from string.\"\"\"\n",
    "        return json.loads(response.text)"
   ]
  },
  {
   "cell_type": "code",
   "execution_count": 65,
   "metadata": {},
   "outputs": [],
   "source": [
    "session_1 = ScraperInitiator(\n",
    "    \"https://www.bezrealitky.cz/api/record/markers\",\n",
    "    {\n",
    "        'offerType': 'prodej',\n",
    "        'submit': '1',\n",
    "        'boundary': '[[[{\"lat\":52,\"lng\":12},{\"lat\":52,\"lng\":16},{\"lat\":50,\"lng\":16},{\"lat\":50,\"lng\":12},{\"lat\":52,\"lng\":12}]]]'\n",
    "    }\n",
    ")"
   ]
  },
  {
   "cell_type": "code",
   "execution_count": 66,
   "metadata": {},
   "outputs": [],
   "source": [
    "json_: List[Dict[str, Any]] = session_1.load_json(\n",
    "    session_1.send_post_request()\n",
    ")"
   ]
  },
  {
   "cell_type": "code",
   "execution_count": 67,
   "metadata": {},
   "outputs": [
    {
     "data": {
      "text/plain": [
       "list"
      ]
     },
     "execution_count": 67,
     "metadata": {},
     "output_type": "execute_result"
    }
   ],
   "source": [
    "type(json_)"
   ]
  },
  {
   "cell_type": "code",
   "execution_count": 68,
   "metadata": {},
   "outputs": [
    {
     "data": {
      "text/plain": [
       "{'id': '695659',\n",
       " 'uri': '695659-nabidka-prodej-garaze-stechovicka-hlavni-mesto-praha',\n",
       " 'keyAdvertType': 'estate_offer',\n",
       " 'type': '',\n",
       " 'timeOrder': {'date': '2021-12-09 11:02:45.000000',\n",
       "  'timezone_type': 3,\n",
       "  'timezone': 'Europe/Berlin'},\n",
       " 'orderPriority': 0,\n",
       " 'advertEstateOffer': [{'gps': '{\"lat\":50.07153,\"lng\":14.50459}',\n",
       "   'price': 790000,\n",
       "   'currency': 'CZK',\n",
       "   'keyOfferType': 'prodej',\n",
       "   'keyEstateType': 'garaz',\n",
       "   'keyDisposition': '',\n",
       "   'surface': 15,\n",
       "   'surfaceLand': 0,\n",
       "   'id': '695659'}]}"
      ]
     },
     "execution_count": 68,
     "metadata": {},
     "output_type": "execute_result"
    }
   ],
   "source": [
    "json_[0]"
   ]
  },
  {
   "cell_type": "markdown",
   "metadata": {},
   "source": [
    "<br>\n",
    "\n",
    "###### Parsování vrácených dat\n",
    "\n",
    "---"
   ]
  },
  {
   "cell_type": "code",
   "execution_count": 69,
   "metadata": {},
   "outputs": [],
   "source": [
    "class DataParser:\n",
    "    \"\"\"Parse the given data and create cleaner, non-nested python object.\"\"\"\n",
    "    \n",
    "    def __init__(self, data: List[Dict[str, Any]]):\n",
    "        self.data = data\n",
    "        self.url: str = \"https://www.bezrealitky.cz/nemovitosti-byty-domy/\"\n",
    "        \n",
    "    def iterate_through_data(self):\n",
    "        results: list = []\n",
    "        \n",
    "        for offer in self.data:\n",
    "            uri, details = self.parse_main_dict(offer)\n",
    "            results.append(\n",
    "                self.extend_dict(url=urljoin(self.url, uri), details=details)\n",
    "            )\n",
    "        \n",
    "        return results\n",
    "\n",
    "    @staticmethod\n",
    "    def parse_main_dict(offer: Dict[str, Any]) -> tuple:\n",
    "        \"\"\"Parse and return attributes uri, advertEstateOffer.\"\"\"\n",
    "        return offer.get(\"uri\"), offer.get(\"advertEstateOffer\")[0]\n",
    "\n",
    "    @staticmethod\n",
    "    def parse_nested_dict(details: Dict[str, Union[str, int]]):\n",
    "        \"\"\"Parse and return attributes from the given dictionary.\"\"\"\n",
    "        return {\n",
    "            \"gps\": details.get(\"gps\"),\n",
    "            \"price\": details.get(\"price\"),\n",
    "            \"currency\": details.get(\"currency\"),\n",
    "            \"key_offer_type\": details.get(\"keyOfferType\"),\n",
    "            \"key_estate_type\": details.get(\"keyEstateType\"),\n",
    "            \"key_disposition\": details.get(\"keyDisposition\"),\n",
    "            \"surface\": details.get(\"surface\"),\n",
    "            \"surface_land\": details.get(\"surfaceLand\"),\n",
    "            \"surface\": details.get(\"surface\"),\n",
    "        }\n",
    "    \n",
    "    @staticmethod\n",
    "    def extend_dict(**kwargs):\n",
    "        \"\"\"Create and update a new dictionary object with the given attrs.\"\"\"\n",
    "        attributes: Dict[str, str] = {}\n",
    "\n",
    "        for key, val in kwargs.items():\n",
    "            if key == \"url\":\n",
    "                attributes[key] = val \n",
    "            else:\n",
    "                attributes.update(val)\n",
    "                \n",
    "        return attributes"
   ]
  },
  {
   "cell_type": "code",
   "execution_count": 70,
   "metadata": {},
   "outputs": [],
   "source": [
    "parser_1 = DataParser(json_)"
   ]
  },
  {
   "cell_type": "code",
   "execution_count": 71,
   "metadata": {},
   "outputs": [],
   "source": [
    "testing_list = parser_1.iterate_through_data()"
   ]
  },
  {
   "cell_type": "code",
   "execution_count": 72,
   "metadata": {},
   "outputs": [
    {
     "data": {
      "text/plain": [
       "{'url': 'https://www.bezrealitky.cz/nemovitosti-byty-domy/695657-nabidka-prodej-bytu-v-lesicku-hlavni-mesto-praha',\n",
       " 'gps': '{\"lat\":50.07825,\"lng\":14.40628}',\n",
       " 'price': 12950000,\n",
       " 'currency': 'CZK',\n",
       " 'keyOfferType': 'prodej',\n",
       " 'keyEstateType': 'byt',\n",
       " 'keyDisposition': '3-kk',\n",
       " 'surface': 73,\n",
       " 'surfaceLand': 0,\n",
       " 'id': '695657'}"
      ]
     },
     "execution_count": 72,
     "metadata": {},
     "output_type": "execute_result"
    }
   ],
   "source": [
    "testing_list[1]"
   ]
  },
  {
   "cell_type": "markdown",
   "metadata": {},
   "source": [
    "###### Vytvoření pole nových objektů typu 'BRRealEstateOffer'\n",
    "\n",
    "---"
   ]
  },
  {
   "cell_type": "code",
   "execution_count": 73,
   "metadata": {},
   "outputs": [],
   "source": [
    "class BRRealEstateOfferProcessor:\n",
    "    \"\"\"Process the given attributes and a new object 'BRRealEstateOffer'.\"\"\"\n",
    "    \n",
    "    def __init__(self, parsed_data: List[Dict[str, Union[str, int]]]):\n",
    "        self.offers: list = []\n",
    "        self.parsed_data = parsed_data\n",
    "\n",
    "    def add_offer(self, dict_data: Dict[str, Union[str, int]]) -> None:\n",
    "        self.offers.append(\n",
    "            BRRealEstateOffer(dict_data)\n",
    "        )\n",
    "\n",
    "    def process_offers(self) -> None:\n",
    "        for offer in self.parsed_data:\n",
    "            self.add_offer(offer)"
   ]
  },
  {
   "cell_type": "code",
   "execution_count": 74,
   "metadata": {},
   "outputs": [],
   "source": [
    "proc_1 = BRRealEstateOfferProcessor(testing_list)\n",
    "proc_1.process_offers()"
   ]
  },
  {
   "cell_type": "code",
   "execution_count": 79,
   "metadata": {},
   "outputs": [
    {
     "data": {
      "text/plain": [
       "'prodej; dum; ostatni'"
      ]
     },
     "execution_count": 79,
     "metadata": {},
     "output_type": "execute_result"
    }
   ],
   "source": [
    "proc_1.offers[500].full_description()"
   ]
  },
  {
   "cell_type": "markdown",
   "metadata": {},
   "source": [
    "###### Úkol A\n",
    "\n",
    "---\n",
    "\n",
    "Zkus si třídy a instancování z předchozí sekce zapsat do jednoho spustitelného modulu.\n",
    "\n",
    "<br>\n",
    "\n",
    "Příklad spuštění v příkazovém řádku:\n",
    "```\n",
    ">>> from bezrealitky.collector import run_collector\n",
    ">>> offers = run_collector()\n",
    ">>> offers[0]\n",
    "https://www.bezrealitky.cz/nemovitosti-byty-domy/695659-nabidka-prodej-garaze-stechovicka-hlavni-mesto-praha\n",
    "```"
   ]
  },
  {
   "cell_type": "markdown",
   "metadata": {},
   "source": [
    "<br>\n",
    "\n",
    "#### Analýza data, pandas\n",
    "\n",
    "---\n",
    "\n",
    "<br>\n",
    "\n",
    "###### Úvod k frameworku\n",
    "\n",
    "---\n",
    "Obecný popisek [zde](https://pypi.org/project/pandas/)\n",
    "\n",
    "<br>\n",
    "\n",
    "Nahrátí knihovny:"
   ]
  },
  {
   "cell_type": "code",
   "execution_count": 83,
   "metadata": {},
   "outputs": [],
   "source": [
    "import pandas\n",
    "# import pandas as pd\n",
    "# from pandas import DataFrame"
   ]
  },
  {
   "cell_type": "markdown",
   "metadata": {},
   "source": [
    "<br>\n",
    "\n",
    "Vytvoření DataFrame:"
   ]
  },
  {
   "cell_type": "code",
   "execution_count": 87,
   "metadata": {},
   "outputs": [],
   "source": [
    "br_dataframe: pandas.core.frame.DataFrame = pandas.DataFrame(testing_list)"
   ]
  },
  {
   "cell_type": "markdown",
   "metadata": {},
   "source": [
    "<br>\n",
    "\n",
    "###### Zobrazení údajů\n",
    "\n",
    "---"
   ]
  },
  {
   "cell_type": "code",
   "execution_count": 88,
   "metadata": {},
   "outputs": [
    {
     "data": {
      "text/html": [
       "<div>\n",
       "<style scoped>\n",
       "    .dataframe tbody tr th:only-of-type {\n",
       "        vertical-align: middle;\n",
       "    }\n",
       "\n",
       "    .dataframe tbody tr th {\n",
       "        vertical-align: top;\n",
       "    }\n",
       "\n",
       "    .dataframe thead th {\n",
       "        text-align: right;\n",
       "    }\n",
       "</style>\n",
       "<table border=\"1\" class=\"dataframe\">\n",
       "  <thead>\n",
       "    <tr style=\"text-align: right;\">\n",
       "      <th></th>\n",
       "      <th>url</th>\n",
       "      <th>gps</th>\n",
       "      <th>price</th>\n",
       "      <th>currency</th>\n",
       "      <th>keyOfferType</th>\n",
       "      <th>keyEstateType</th>\n",
       "      <th>keyDisposition</th>\n",
       "      <th>surface</th>\n",
       "      <th>surfaceLand</th>\n",
       "      <th>id</th>\n",
       "    </tr>\n",
       "  </thead>\n",
       "  <tbody>\n",
       "    <tr>\n",
       "      <th>0</th>\n",
       "      <td>https://www.bezrealitky.cz/nemovitosti-byty-do...</td>\n",
       "      <td>{\"lat\":50.07153,\"lng\":14.50459}</td>\n",
       "      <td>790000</td>\n",
       "      <td>CZK</td>\n",
       "      <td>prodej</td>\n",
       "      <td>garaz</td>\n",
       "      <td></td>\n",
       "      <td>15</td>\n",
       "      <td>0</td>\n",
       "      <td>695659</td>\n",
       "    </tr>\n",
       "    <tr>\n",
       "      <th>1</th>\n",
       "      <td>https://www.bezrealitky.cz/nemovitosti-byty-do...</td>\n",
       "      <td>{\"lat\":50.07825,\"lng\":14.40628}</td>\n",
       "      <td>12950000</td>\n",
       "      <td>CZK</td>\n",
       "      <td>prodej</td>\n",
       "      <td>byt</td>\n",
       "      <td>3-kk</td>\n",
       "      <td>73</td>\n",
       "      <td>0</td>\n",
       "      <td>695657</td>\n",
       "    </tr>\n",
       "    <tr>\n",
       "      <th>2</th>\n",
       "      <td>https://www.bezrealitky.cz/nemovitosti-byty-do...</td>\n",
       "      <td>{\"lat\":50.143740650145524,\"lng\":15.15070511182...</td>\n",
       "      <td>4320000</td>\n",
       "      <td>CZK</td>\n",
       "      <td>prodej</td>\n",
       "      <td>pozemek</td>\n",
       "      <td></td>\n",
       "      <td>703</td>\n",
       "      <td>0</td>\n",
       "      <td>695646</td>\n",
       "    </tr>\n",
       "    <tr>\n",
       "      <th>3</th>\n",
       "      <td>https://www.bezrealitky.cz/nemovitosti-byty-do...</td>\n",
       "      <td>{\"lat\":50.025349500000004,\"lng\":14.43243270000...</td>\n",
       "      <td>6800000</td>\n",
       "      <td>CZK</td>\n",
       "      <td>prodej</td>\n",
       "      <td>byt</td>\n",
       "      <td>3-1</td>\n",
       "      <td>76</td>\n",
       "      <td>0</td>\n",
       "      <td>695629</td>\n",
       "    </tr>\n",
       "    <tr>\n",
       "      <th>4</th>\n",
       "      <td>https://www.bezrealitky.cz/nemovitosti-byty-do...</td>\n",
       "      <td>{\"lat\":50.02651,\"lng\":14.22488}</td>\n",
       "      <td>5600000</td>\n",
       "      <td>CZK</td>\n",
       "      <td>prodej</td>\n",
       "      <td>byt</td>\n",
       "      <td>3-kk</td>\n",
       "      <td>61</td>\n",
       "      <td>0</td>\n",
       "      <td>695618</td>\n",
       "    </tr>\n",
       "  </tbody>\n",
       "</table>\n",
       "</div>"
      ],
      "text/plain": [
       "                                                 url  \\\n",
       "0  https://www.bezrealitky.cz/nemovitosti-byty-do...   \n",
       "1  https://www.bezrealitky.cz/nemovitosti-byty-do...   \n",
       "2  https://www.bezrealitky.cz/nemovitosti-byty-do...   \n",
       "3  https://www.bezrealitky.cz/nemovitosti-byty-do...   \n",
       "4  https://www.bezrealitky.cz/nemovitosti-byty-do...   \n",
       "\n",
       "                                                 gps     price currency  \\\n",
       "0                    {\"lat\":50.07153,\"lng\":14.50459}    790000      CZK   \n",
       "1                    {\"lat\":50.07825,\"lng\":14.40628}  12950000      CZK   \n",
       "2  {\"lat\":50.143740650145524,\"lng\":15.15070511182...   4320000      CZK   \n",
       "3  {\"lat\":50.025349500000004,\"lng\":14.43243270000...   6800000      CZK   \n",
       "4                    {\"lat\":50.02651,\"lng\":14.22488}   5600000      CZK   \n",
       "\n",
       "  keyOfferType keyEstateType keyDisposition  surface  surfaceLand      id  \n",
       "0       prodej         garaz                      15            0  695659  \n",
       "1       prodej           byt           3-kk       73            0  695657  \n",
       "2       prodej       pozemek                     703            0  695646  \n",
       "3       prodej           byt            3-1       76            0  695629  \n",
       "4       prodej           byt           3-kk       61            0  695618  "
      ]
     },
     "execution_count": 88,
     "metadata": {},
     "output_type": "execute_result"
    }
   ],
   "source": [
    "br_dataframe.head()  # 5 prvni udaju"
   ]
  },
  {
   "cell_type": "code",
   "execution_count": 94,
   "metadata": {},
   "outputs": [
    {
     "data": {
      "text/html": [
       "<div>\n",
       "<style scoped>\n",
       "    .dataframe tbody tr th:only-of-type {\n",
       "        vertical-align: middle;\n",
       "    }\n",
       "\n",
       "    .dataframe tbody tr th {\n",
       "        vertical-align: top;\n",
       "    }\n",
       "\n",
       "    .dataframe thead th {\n",
       "        text-align: right;\n",
       "    }\n",
       "</style>\n",
       "<table border=\"1\" class=\"dataframe\">\n",
       "  <thead>\n",
       "    <tr style=\"text-align: right;\">\n",
       "      <th></th>\n",
       "      <th>price</th>\n",
       "      <th>surface</th>\n",
       "      <th>surfaceLand</th>\n",
       "    </tr>\n",
       "  </thead>\n",
       "  <tbody>\n",
       "    <tr>\n",
       "      <th>count</th>\n",
       "      <td>9.730000e+02</td>\n",
       "      <td>973.000000</td>\n",
       "      <td>973.000000</td>\n",
       "    </tr>\n",
       "    <tr>\n",
       "      <th>mean</th>\n",
       "      <td>7.498723e+06</td>\n",
       "      <td>941.105858</td>\n",
       "      <td>252.112025</td>\n",
       "    </tr>\n",
       "    <tr>\n",
       "      <th>std</th>\n",
       "      <td>6.592643e+06</td>\n",
       "      <td>8223.908034</td>\n",
       "      <td>909.838653</td>\n",
       "    </tr>\n",
       "    <tr>\n",
       "      <th>min</th>\n",
       "      <td>0.000000e+00</td>\n",
       "      <td>0.000000</td>\n",
       "      <td>0.000000</td>\n",
       "    </tr>\n",
       "    <tr>\n",
       "      <th>25%</th>\n",
       "      <td>3.549000e+06</td>\n",
       "      <td>50.000000</td>\n",
       "      <td>0.000000</td>\n",
       "    </tr>\n",
       "    <tr>\n",
       "      <th>50%</th>\n",
       "      <td>6.190000e+06</td>\n",
       "      <td>73.000000</td>\n",
       "      <td>0.000000</td>\n",
       "    </tr>\n",
       "    <tr>\n",
       "      <th>75%</th>\n",
       "      <td>9.200000e+06</td>\n",
       "      <td>143.000000</td>\n",
       "      <td>0.000000</td>\n",
       "    </tr>\n",
       "    <tr>\n",
       "      <th>max</th>\n",
       "      <td>8.366280e+07</td>\n",
       "      <td>196860.000000</td>\n",
       "      <td>11606.000000</td>\n",
       "    </tr>\n",
       "  </tbody>\n",
       "</table>\n",
       "</div>"
      ],
      "text/plain": [
       "              price        surface   surfaceLand\n",
       "count  9.730000e+02     973.000000    973.000000\n",
       "mean   7.498723e+06     941.105858    252.112025\n",
       "std    6.592643e+06    8223.908034    909.838653\n",
       "min    0.000000e+00       0.000000      0.000000\n",
       "25%    3.549000e+06      50.000000      0.000000\n",
       "50%    6.190000e+06      73.000000      0.000000\n",
       "75%    9.200000e+06     143.000000      0.000000\n",
       "max    8.366280e+07  196860.000000  11606.000000"
      ]
     },
     "execution_count": 94,
     "metadata": {},
     "output_type": "execute_result"
    }
   ],
   "source": [
    "br_dataframe.describe()"
   ]
  },
  {
   "cell_type": "code",
   "execution_count": null,
   "metadata": {},
   "outputs": [],
   "source": []
  },
  {
   "cell_type": "markdown",
   "metadata": {},
   "source": [
    "<br>\n",
    "\n",
    "###### Výběr sloupce & seřazení\n",
    "\n",
    "---"
   ]
  },
  {
   "cell_type": "code",
   "execution_count": 109,
   "metadata": {},
   "outputs": [
    {
     "data": {
      "text/html": [
       "<div>\n",
       "<style scoped>\n",
       "    .dataframe tbody tr th:only-of-type {\n",
       "        vertical-align: middle;\n",
       "    }\n",
       "\n",
       "    .dataframe tbody tr th {\n",
       "        vertical-align: top;\n",
       "    }\n",
       "\n",
       "    .dataframe thead th {\n",
       "        text-align: right;\n",
       "    }\n",
       "</style>\n",
       "<table border=\"1\" class=\"dataframe\">\n",
       "  <thead>\n",
       "    <tr style=\"text-align: right;\">\n",
       "      <th></th>\n",
       "      <th>url</th>\n",
       "      <th>price</th>\n",
       "    </tr>\n",
       "  </thead>\n",
       "  <tbody>\n",
       "    <tr>\n",
       "      <th>0</th>\n",
       "      <td>https://www.bezrealitky.cz/nemovitosti-byty-do...</td>\n",
       "      <td>790000</td>\n",
       "    </tr>\n",
       "    <tr>\n",
       "      <th>1</th>\n",
       "      <td>https://www.bezrealitky.cz/nemovitosti-byty-do...</td>\n",
       "      <td>12950000</td>\n",
       "    </tr>\n",
       "    <tr>\n",
       "      <th>2</th>\n",
       "      <td>https://www.bezrealitky.cz/nemovitosti-byty-do...</td>\n",
       "      <td>4320000</td>\n",
       "    </tr>\n",
       "    <tr>\n",
       "      <th>3</th>\n",
       "      <td>https://www.bezrealitky.cz/nemovitosti-byty-do...</td>\n",
       "      <td>6800000</td>\n",
       "    </tr>\n",
       "    <tr>\n",
       "      <th>4</th>\n",
       "      <td>https://www.bezrealitky.cz/nemovitosti-byty-do...</td>\n",
       "      <td>5600000</td>\n",
       "    </tr>\n",
       "    <tr>\n",
       "      <th>5</th>\n",
       "      <td>https://www.bezrealitky.cz/nemovitosti-byty-do...</td>\n",
       "      <td>6100000</td>\n",
       "    </tr>\n",
       "    <tr>\n",
       "      <th>6</th>\n",
       "      <td>https://www.bezrealitky.cz/nemovitosti-byty-do...</td>\n",
       "      <td>3850000</td>\n",
       "    </tr>\n",
       "    <tr>\n",
       "      <th>7</th>\n",
       "      <td>https://www.bezrealitky.cz/nemovitosti-byty-do...</td>\n",
       "      <td>6700000</td>\n",
       "    </tr>\n",
       "    <tr>\n",
       "      <th>8</th>\n",
       "      <td>https://www.bezrealitky.cz/nemovitosti-byty-do...</td>\n",
       "      <td>2980000</td>\n",
       "    </tr>\n",
       "    <tr>\n",
       "      <th>9</th>\n",
       "      <td>https://www.bezrealitky.cz/nemovitosti-byty-do...</td>\n",
       "      <td>2500000</td>\n",
       "    </tr>\n",
       "    <tr>\n",
       "      <th>10</th>\n",
       "      <td>https://www.bezrealitky.cz/nemovitosti-byty-do...</td>\n",
       "      <td>19600000</td>\n",
       "    </tr>\n",
       "  </tbody>\n",
       "</table>\n",
       "</div>"
      ],
      "text/plain": [
       "                                                  url     price\n",
       "0   https://www.bezrealitky.cz/nemovitosti-byty-do...    790000\n",
       "1   https://www.bezrealitky.cz/nemovitosti-byty-do...  12950000\n",
       "2   https://www.bezrealitky.cz/nemovitosti-byty-do...   4320000\n",
       "3   https://www.bezrealitky.cz/nemovitosti-byty-do...   6800000\n",
       "4   https://www.bezrealitky.cz/nemovitosti-byty-do...   5600000\n",
       "5   https://www.bezrealitky.cz/nemovitosti-byty-do...   6100000\n",
       "6   https://www.bezrealitky.cz/nemovitosti-byty-do...   3850000\n",
       "7   https://www.bezrealitky.cz/nemovitosti-byty-do...   6700000\n",
       "8   https://www.bezrealitky.cz/nemovitosti-byty-do...   2980000\n",
       "9   https://www.bezrealitky.cz/nemovitosti-byty-do...   2500000\n",
       "10  https://www.bezrealitky.cz/nemovitosti-byty-do...  19600000"
      ]
     },
     "execution_count": 109,
     "metadata": {},
     "output_type": "execute_result"
    }
   ],
   "source": [
    "br_dataframe.loc[:10, [\"url\", \"price\"]]  # selekce řádků a sloupců"
   ]
  },
  {
   "cell_type": "code",
   "execution_count": 111,
   "metadata": {},
   "outputs": [
    {
     "data": {
      "text/html": [
       "<div>\n",
       "<style scoped>\n",
       "    .dataframe tbody tr th:only-of-type {\n",
       "        vertical-align: middle;\n",
       "    }\n",
       "\n",
       "    .dataframe tbody tr th {\n",
       "        vertical-align: top;\n",
       "    }\n",
       "\n",
       "    .dataframe thead th {\n",
       "        text-align: right;\n",
       "    }\n",
       "</style>\n",
       "<table border=\"1\" class=\"dataframe\">\n",
       "  <thead>\n",
       "    <tr style=\"text-align: right;\">\n",
       "      <th></th>\n",
       "      <th>url</th>\n",
       "      <th>gps</th>\n",
       "      <th>price</th>\n",
       "    </tr>\n",
       "  </thead>\n",
       "  <tbody>\n",
       "    <tr>\n",
       "      <th>0</th>\n",
       "      <td>https://www.bezrealitky.cz/nemovitosti-byty-do...</td>\n",
       "      <td>{\"lat\":50.07153,\"lng\":14.50459}</td>\n",
       "      <td>790000</td>\n",
       "    </tr>\n",
       "    <tr>\n",
       "      <th>1</th>\n",
       "      <td>https://www.bezrealitky.cz/nemovitosti-byty-do...</td>\n",
       "      <td>{\"lat\":50.07825,\"lng\":14.40628}</td>\n",
       "      <td>12950000</td>\n",
       "    </tr>\n",
       "    <tr>\n",
       "      <th>2</th>\n",
       "      <td>https://www.bezrealitky.cz/nemovitosti-byty-do...</td>\n",
       "      <td>{\"lat\":50.143740650145524,\"lng\":15.15070511182...</td>\n",
       "      <td>4320000</td>\n",
       "    </tr>\n",
       "    <tr>\n",
       "      <th>3</th>\n",
       "      <td>https://www.bezrealitky.cz/nemovitosti-byty-do...</td>\n",
       "      <td>{\"lat\":50.025349500000004,\"lng\":14.43243270000...</td>\n",
       "      <td>6800000</td>\n",
       "    </tr>\n",
       "    <tr>\n",
       "      <th>4</th>\n",
       "      <td>https://www.bezrealitky.cz/nemovitosti-byty-do...</td>\n",
       "      <td>{\"lat\":50.02651,\"lng\":14.22488}</td>\n",
       "      <td>5600000</td>\n",
       "    </tr>\n",
       "    <tr>\n",
       "      <th>5</th>\n",
       "      <td>https://www.bezrealitky.cz/nemovitosti-byty-do...</td>\n",
       "      <td>{\"lat\":50.02914,\"lng\":14.53507}</td>\n",
       "      <td>6100000</td>\n",
       "    </tr>\n",
       "    <tr>\n",
       "      <th>6</th>\n",
       "      <td>https://www.bezrealitky.cz/nemovitosti-byty-do...</td>\n",
       "      <td>{\"lat\":50.6454,\"lng\":14.04379}</td>\n",
       "      <td>3850000</td>\n",
       "    </tr>\n",
       "    <tr>\n",
       "      <th>7</th>\n",
       "      <td>https://www.bezrealitky.cz/nemovitosti-byty-do...</td>\n",
       "      <td>{\"lat\":50.72607,\"lng\":15.17718}</td>\n",
       "      <td>6700000</td>\n",
       "    </tr>\n",
       "    <tr>\n",
       "      <th>8</th>\n",
       "      <td>https://www.bezrealitky.cz/nemovitosti-byty-do...</td>\n",
       "      <td>{\"lat\":50.25203579999999,\"lng\":14.5187024}</td>\n",
       "      <td>2980000</td>\n",
       "    </tr>\n",
       "    <tr>\n",
       "      <th>9</th>\n",
       "      <td>https://www.bezrealitky.cz/nemovitosti-byty-do...</td>\n",
       "      <td>{\"lat\":50.07845,\"lng\":12.37209}</td>\n",
       "      <td>2500000</td>\n",
       "    </tr>\n",
       "  </tbody>\n",
       "</table>\n",
       "</div>"
      ],
      "text/plain": [
       "                                                 url  \\\n",
       "0  https://www.bezrealitky.cz/nemovitosti-byty-do...   \n",
       "1  https://www.bezrealitky.cz/nemovitosti-byty-do...   \n",
       "2  https://www.bezrealitky.cz/nemovitosti-byty-do...   \n",
       "3  https://www.bezrealitky.cz/nemovitosti-byty-do...   \n",
       "4  https://www.bezrealitky.cz/nemovitosti-byty-do...   \n",
       "5  https://www.bezrealitky.cz/nemovitosti-byty-do...   \n",
       "6  https://www.bezrealitky.cz/nemovitosti-byty-do...   \n",
       "7  https://www.bezrealitky.cz/nemovitosti-byty-do...   \n",
       "8  https://www.bezrealitky.cz/nemovitosti-byty-do...   \n",
       "9  https://www.bezrealitky.cz/nemovitosti-byty-do...   \n",
       "\n",
       "                                                 gps     price  \n",
       "0                    {\"lat\":50.07153,\"lng\":14.50459}    790000  \n",
       "1                    {\"lat\":50.07825,\"lng\":14.40628}  12950000  \n",
       "2  {\"lat\":50.143740650145524,\"lng\":15.15070511182...   4320000  \n",
       "3  {\"lat\":50.025349500000004,\"lng\":14.43243270000...   6800000  \n",
       "4                    {\"lat\":50.02651,\"lng\":14.22488}   5600000  \n",
       "5                    {\"lat\":50.02914,\"lng\":14.53507}   6100000  \n",
       "6                     {\"lat\":50.6454,\"lng\":14.04379}   3850000  \n",
       "7                    {\"lat\":50.72607,\"lng\":15.17718}   6700000  \n",
       "8         {\"lat\":50.25203579999999,\"lng\":14.5187024}   2980000  \n",
       "9                    {\"lat\":50.07845,\"lng\":12.37209}   2500000  "
      ]
     },
     "execution_count": 111,
     "metadata": {},
     "output_type": "execute_result"
    }
   ],
   "source": [
    "br_dataframe.iloc[:10, 0:3]  # selekce řádků a sloupců"
   ]
  },
  {
   "cell_type": "code",
   "execution_count": 112,
   "metadata": {
    "scrolled": true
   },
   "outputs": [
    {
     "data": {
      "text/html": [
       "<div>\n",
       "<style scoped>\n",
       "    .dataframe tbody tr th:only-of-type {\n",
       "        vertical-align: middle;\n",
       "    }\n",
       "\n",
       "    .dataframe tbody tr th {\n",
       "        vertical-align: top;\n",
       "    }\n",
       "\n",
       "    .dataframe thead th {\n",
       "        text-align: right;\n",
       "    }\n",
       "</style>\n",
       "<table border=\"1\" class=\"dataframe\">\n",
       "  <thead>\n",
       "    <tr style=\"text-align: right;\">\n",
       "      <th></th>\n",
       "      <th>url</th>\n",
       "      <th>gps</th>\n",
       "      <th>price</th>\n",
       "      <th>currency</th>\n",
       "      <th>keyOfferType</th>\n",
       "      <th>keyEstateType</th>\n",
       "      <th>keyDisposition</th>\n",
       "      <th>surface</th>\n",
       "      <th>surfaceLand</th>\n",
       "      <th>id</th>\n",
       "    </tr>\n",
       "  </thead>\n",
       "  <tbody>\n",
       "    <tr>\n",
       "      <th>497</th>\n",
       "      <td>https://www.bezrealitky.cz/nemovitosti-byty-do...</td>\n",
       "      <td>{\"lat\":50.1264298,\"lng\":14.5766071}</td>\n",
       "      <td>0</td>\n",
       "      <td>CZK</td>\n",
       "      <td>prodej</td>\n",
       "      <td>dum</td>\n",
       "      <td>4-kk</td>\n",
       "      <td>140</td>\n",
       "      <td>222</td>\n",
       "      <td>690044</td>\n",
       "    </tr>\n",
       "    <tr>\n",
       "      <th>143</th>\n",
       "      <td>https://www.bezrealitky.cz/nemovitosti-byty-do...</td>\n",
       "      <td>{\"lat\":50.0563843,\"lng\":14.5144117}</td>\n",
       "      <td>0</td>\n",
       "      <td>CZK</td>\n",
       "      <td>prodej</td>\n",
       "      <td>byt</td>\n",
       "      <td>2-kk</td>\n",
       "      <td>77</td>\n",
       "      <td>0</td>\n",
       "      <td>694301</td>\n",
       "    </tr>\n",
       "    <tr>\n",
       "      <th>20</th>\n",
       "      <td>https://www.bezrealitky.cz/nemovitosti-byty-do...</td>\n",
       "      <td>{\"lat\":50.41872,\"lng\":12.9821}</td>\n",
       "      <td>1</td>\n",
       "      <td>CZK</td>\n",
       "      <td>prodej</td>\n",
       "      <td>pozemek</td>\n",
       "      <td></td>\n",
       "      <td>700</td>\n",
       "      <td>0</td>\n",
       "      <td>695445</td>\n",
       "    </tr>\n",
       "    <tr>\n",
       "      <th>131</th>\n",
       "      <td>https://www.bezrealitky.cz/nemovitosti-byty-do...</td>\n",
       "      <td>{\"lat\":50.07104,\"lng\":14.48376}</td>\n",
       "      <td>1</td>\n",
       "      <td>CZK</td>\n",
       "      <td>prodej</td>\n",
       "      <td>dum</td>\n",
       "      <td>ostatni</td>\n",
       "      <td>220</td>\n",
       "      <td>220</td>\n",
       "      <td>694411</td>\n",
       "    </tr>\n",
       "    <tr>\n",
       "      <th>725</th>\n",
       "      <td>https://www.bezrealitky.cz/nemovitosti-byty-do...</td>\n",
       "      <td>{\"lat\":50.2287795,\"lng\":14.3575719}</td>\n",
       "      <td>500</td>\n",
       "      <td>CZK</td>\n",
       "      <td>prodej</td>\n",
       "      <td>pozemek</td>\n",
       "      <td></td>\n",
       "      <td>9044</td>\n",
       "      <td>0</td>\n",
       "      <td>683328</td>\n",
       "    </tr>\n",
       "    <tr>\n",
       "      <th>...</th>\n",
       "      <td>...</td>\n",
       "      <td>...</td>\n",
       "      <td>...</td>\n",
       "      <td>...</td>\n",
       "      <td>...</td>\n",
       "      <td>...</td>\n",
       "      <td>...</td>\n",
       "      <td>...</td>\n",
       "      <td>...</td>\n",
       "      <td>...</td>\n",
       "    </tr>\n",
       "    <tr>\n",
       "      <th>480</th>\n",
       "      <td>https://www.bezrealitky.cz/nemovitosti-byty-do...</td>\n",
       "      <td>{\"lat\":50.1026307,\"lng\":14.3846884}</td>\n",
       "      <td>32000000</td>\n",
       "      <td>CZK</td>\n",
       "      <td>prodej</td>\n",
       "      <td>dum</td>\n",
       "      <td>ostatni</td>\n",
       "      <td>264</td>\n",
       "      <td>211</td>\n",
       "      <td>690282</td>\n",
       "    </tr>\n",
       "    <tr>\n",
       "      <th>249</th>\n",
       "      <td>https://www.bezrealitky.cz/nemovitosti-byty-do...</td>\n",
       "      <td>{\"lat\":50.07893,\"lng\":14.42453}</td>\n",
       "      <td>42900000</td>\n",
       "      <td>CZK</td>\n",
       "      <td>prodej</td>\n",
       "      <td>byt</td>\n",
       "      <td>ostatni</td>\n",
       "      <td>211</td>\n",
       "      <td>0</td>\n",
       "      <td>693124</td>\n",
       "    </tr>\n",
       "    <tr>\n",
       "      <th>780</th>\n",
       "      <td>https://www.bezrealitky.cz/nemovitosti-byty-do...</td>\n",
       "      <td>{\"lat\":50.7554272,\"lng\":15.0644769}</td>\n",
       "      <td>49440000</td>\n",
       "      <td>CZK</td>\n",
       "      <td>prodej</td>\n",
       "      <td>kancelar</td>\n",
       "      <td></td>\n",
       "      <td>1493</td>\n",
       "      <td>1720</td>\n",
       "      <td>678022</td>\n",
       "    </tr>\n",
       "    <tr>\n",
       "      <th>439</th>\n",
       "      <td>https://www.bezrealitky.cz/nemovitosti-byty-do...</td>\n",
       "      <td>{\"lat\":50.08084003981505,\"lng\":14.485899098217...</td>\n",
       "      <td>55000000</td>\n",
       "      <td>CZK</td>\n",
       "      <td>prodej</td>\n",
       "      <td>dum</td>\n",
       "      <td>ostatni</td>\n",
       "      <td>1000</td>\n",
       "      <td>6000</td>\n",
       "      <td>691157</td>\n",
       "    </tr>\n",
       "    <tr>\n",
       "      <th>670</th>\n",
       "      <td>https://www.bezrealitky.cz/nemovitosti-byty-do...</td>\n",
       "      <td>{\"lat\":50.1214475,\"lng\":12.3610505}</td>\n",
       "      <td>83662800</td>\n",
       "      <td>CZK</td>\n",
       "      <td>prodej</td>\n",
       "      <td>pozemek</td>\n",
       "      <td></td>\n",
       "      <td>53976</td>\n",
       "      <td>0</td>\n",
       "      <td>685677</td>\n",
       "    </tr>\n",
       "  </tbody>\n",
       "</table>\n",
       "<p>973 rows × 10 columns</p>\n",
       "</div>"
      ],
      "text/plain": [
       "                                                   url  \\\n",
       "497  https://www.bezrealitky.cz/nemovitosti-byty-do...   \n",
       "143  https://www.bezrealitky.cz/nemovitosti-byty-do...   \n",
       "20   https://www.bezrealitky.cz/nemovitosti-byty-do...   \n",
       "131  https://www.bezrealitky.cz/nemovitosti-byty-do...   \n",
       "725  https://www.bezrealitky.cz/nemovitosti-byty-do...   \n",
       "..                                                 ...   \n",
       "480  https://www.bezrealitky.cz/nemovitosti-byty-do...   \n",
       "249  https://www.bezrealitky.cz/nemovitosti-byty-do...   \n",
       "780  https://www.bezrealitky.cz/nemovitosti-byty-do...   \n",
       "439  https://www.bezrealitky.cz/nemovitosti-byty-do...   \n",
       "670  https://www.bezrealitky.cz/nemovitosti-byty-do...   \n",
       "\n",
       "                                                   gps     price currency  \\\n",
       "497                {\"lat\":50.1264298,\"lng\":14.5766071}         0      CZK   \n",
       "143                {\"lat\":50.0563843,\"lng\":14.5144117}         0      CZK   \n",
       "20                      {\"lat\":50.41872,\"lng\":12.9821}         1      CZK   \n",
       "131                    {\"lat\":50.07104,\"lng\":14.48376}         1      CZK   \n",
       "725                {\"lat\":50.2287795,\"lng\":14.3575719}       500      CZK   \n",
       "..                                                 ...       ...      ...   \n",
       "480                {\"lat\":50.1026307,\"lng\":14.3846884}  32000000      CZK   \n",
       "249                    {\"lat\":50.07893,\"lng\":14.42453}  42900000      CZK   \n",
       "780                {\"lat\":50.7554272,\"lng\":15.0644769}  49440000      CZK   \n",
       "439  {\"lat\":50.08084003981505,\"lng\":14.485899098217...  55000000      CZK   \n",
       "670                {\"lat\":50.1214475,\"lng\":12.3610505}  83662800      CZK   \n",
       "\n",
       "    keyOfferType keyEstateType keyDisposition  surface  surfaceLand      id  \n",
       "497       prodej           dum           4-kk      140          222  690044  \n",
       "143       prodej           byt           2-kk       77            0  694301  \n",
       "20        prodej       pozemek                     700            0  695445  \n",
       "131       prodej           dum        ostatni      220          220  694411  \n",
       "725       prodej       pozemek                    9044            0  683328  \n",
       "..           ...           ...            ...      ...          ...     ...  \n",
       "480       prodej           dum        ostatni      264          211  690282  \n",
       "249       prodej           byt        ostatni      211            0  693124  \n",
       "780       prodej      kancelar                    1493         1720  678022  \n",
       "439       prodej           dum        ostatni     1000         6000  691157  \n",
       "670       prodej       pozemek                   53976            0  685677  \n",
       "\n",
       "[973 rows x 10 columns]"
      ]
     },
     "execution_count": 112,
     "metadata": {},
     "output_type": "execute_result"
    }
   ],
   "source": [
    "br_dataframe.sort_values(by=\"price\", ascending=True)  # seřaď podle nejvyšší ceny"
   ]
  },
  {
   "cell_type": "code",
   "execution_count": 127,
   "metadata": {},
   "outputs": [
    {
     "data": {
      "text/html": [
       "<div>\n",
       "<style scoped>\n",
       "    .dataframe tbody tr th:only-of-type {\n",
       "        vertical-align: middle;\n",
       "    }\n",
       "\n",
       "    .dataframe tbody tr th {\n",
       "        vertical-align: top;\n",
       "    }\n",
       "\n",
       "    .dataframe thead th {\n",
       "        text-align: right;\n",
       "    }\n",
       "</style>\n",
       "<table border=\"1\" class=\"dataframe\">\n",
       "  <thead>\n",
       "    <tr style=\"text-align: right;\">\n",
       "      <th></th>\n",
       "      <th>url</th>\n",
       "      <th>gps</th>\n",
       "      <th>price</th>\n",
       "      <th>currency</th>\n",
       "      <th>keyOfferType</th>\n",
       "      <th>keyEstateType</th>\n",
       "      <th>keyDisposition</th>\n",
       "      <th>surface</th>\n",
       "      <th>surfaceLand</th>\n",
       "      <th>id</th>\n",
       "    </tr>\n",
       "  </thead>\n",
       "  <tbody>\n",
       "    <tr>\n",
       "      <th>143</th>\n",
       "      <td>https://www.bezrealitky.cz/nemovitosti-byty-domy/694301-nabidka-prodej-bytu-svehlova</td>\n",
       "      <td>{\"lat\":50.0563843,\"lng\":14.5144117}</td>\n",
       "      <td>0</td>\n",
       "      <td>CZK</td>\n",
       "      <td>prodej</td>\n",
       "      <td>byt</td>\n",
       "      <td>2-kk</td>\n",
       "      <td>77</td>\n",
       "      <td>0</td>\n",
       "      <td>694301</td>\n",
       "    </tr>\n",
       "    <tr>\n",
       "      <th>497</th>\n",
       "      <td>https://www.bezrealitky.cz/nemovitosti-byty-domy/690044-nabidka-prodej-domu</td>\n",
       "      <td>{\"lat\":50.1264298,\"lng\":14.5766071}</td>\n",
       "      <td>0</td>\n",
       "      <td>CZK</td>\n",
       "      <td>prodej</td>\n",
       "      <td>dum</td>\n",
       "      <td>4-kk</td>\n",
       "      <td>140</td>\n",
       "      <td>222</td>\n",
       "      <td>690044</td>\n",
       "    </tr>\n",
       "  </tbody>\n",
       "</table>\n",
       "</div>"
      ],
      "text/plain": [
       "                                                                                      url  \\\n",
       "143  https://www.bezrealitky.cz/nemovitosti-byty-domy/694301-nabidka-prodej-bytu-svehlova   \n",
       "497           https://www.bezrealitky.cz/nemovitosti-byty-domy/690044-nabidka-prodej-domu   \n",
       "\n",
       "                                     gps  price currency keyOfferType  \\\n",
       "143  {\"lat\":50.0563843,\"lng\":14.5144117}      0      CZK       prodej   \n",
       "497  {\"lat\":50.1264298,\"lng\":14.5766071}      0      CZK       prodej   \n",
       "\n",
       "    keyEstateType keyDisposition  surface  surfaceLand      id  \n",
       "143           byt           2-kk       77            0  694301  \n",
       "497           dum           4-kk      140          222  690044  "
      ]
     },
     "execution_count": 127,
     "metadata": {},
     "output_type": "execute_result"
    }
   ],
   "source": [
    "br_dataframe[br_dataframe[\"price\"] == 0]"
   ]
  },
  {
   "cell_type": "code",
   "execution_count": 116,
   "metadata": {},
   "outputs": [],
   "source": [
    "pandas.set_option('display.max_colwidth', 150)"
   ]
  },
  {
   "cell_type": "markdown",
   "metadata": {},
   "source": [
    "###### Nové sloupečky\n",
    "\n",
    "---"
   ]
  },
  {
   "cell_type": "code",
   "execution_count": 134,
   "metadata": {},
   "outputs": [],
   "source": [
    "br_dataframe[\"type_upper\"] = [offer.upper() for offer in br_dataframe[\"keyEstateType\"]]"
   ]
  },
  {
   "cell_type": "code",
   "execution_count": null,
   "metadata": {},
   "outputs": [],
   "source": [
    "br_dataframe.drop(\"type_upper\", axis=1, inplace=True)"
   ]
  },
  {
   "cell_type": "code",
   "execution_count": 59,
   "metadata": {},
   "outputs": [],
   "source": [
    "br_dataframe[\"formatted_price\"] = [f\"{x:.2f} mil.\" for x in br_dataframe['price'] / 1000000]"
   ]
  },
  {
   "cell_type": "markdown",
   "metadata": {},
   "source": [
    "<br>\n",
    "\n",
    "###### Naformátuj mi cenu na čitelnější hodnotu a ulož do nového sloupce\n",
    "\n",
    "---"
   ]
  },
  {
   "cell_type": "code",
   "execution_count": 66,
   "metadata": {},
   "outputs": [],
   "source": [
    "br_dataframe.drop(\"formatted_price[mil]\", axis=1, inplace=True)"
   ]
  },
  {
   "cell_type": "markdown",
   "metadata": {},
   "source": [
    "\n",
    "###### Vypiš všechny typy nabídek nemovitostí (unikátní hodnoty) a jejich výskyt\n",
    "\n",
    "---"
   ]
  },
  {
   "cell_type": "code",
   "execution_count": 71,
   "metadata": {},
   "outputs": [
    {
     "data": {
      "text/plain": [
       "array(['byt', 'dum', 'pozemek', 'nebytovy-prostor', 'garaz',\n",
       "       'rekreacni-objekt', 'kancelar'], dtype=object)"
      ]
     },
     "execution_count": 71,
     "metadata": {},
     "output_type": "execute_result"
    }
   ],
   "source": [
    "br_dataframe[\"keyEstateType\"].unique()"
   ]
  },
  {
   "cell_type": "code",
   "execution_count": 144,
   "metadata": {},
   "outputs": [
    {
     "name": "stdout",
     "output_type": "stream",
     "text": [
      "TYPE:      garaz      ; COUNT: 21\n",
      "TYPE:       byt       ; COUNT: 600\n",
      "TYPE:     pozemek     ; COUNT: 102\n",
      "TYPE:       dum       ; COUNT: 183\n",
      "TYPE: nebytovy-prostor; COUNT: 22\n",
      "TYPE: rekreacni-objekt; COUNT: 35\n",
      "TYPE:     kancelar    ; COUNT: 10\n"
     ]
    }
   ],
   "source": [
    "for estate_type in br_dataframe[\"keyEstateType\"].unique():\n",
    "    print(f\"TYPE: {estate_type:^16}; \\\n",
    "COUNT: {br_dataframe['keyEstateType'].eq(estate_type).sum()}\"\n",
    "    )"
   ]
  },
  {
   "cell_type": "code",
   "execution_count": 137,
   "metadata": {},
   "outputs": [],
   "source": [
    "estate_type = pandas.Series(br_dataframe[\"keyEstateType\"])"
   ]
  },
  {
   "cell_type": "code",
   "execution_count": 141,
   "metadata": {},
   "outputs": [
    {
     "data": {
      "text/plain": [
       "0        garaz\n",
       "1          byt\n",
       "2      pozemek\n",
       "3          byt\n",
       "4          byt\n",
       "        ...   \n",
       "968        byt\n",
       "969        dum\n",
       "970    pozemek\n",
       "971        byt\n",
       "972        byt\n",
       "Name: keyEstateType, Length: 973, dtype: object"
      ]
     },
     "execution_count": 141,
     "metadata": {},
     "output_type": "execute_result"
    }
   ],
   "source": [
    "estate_type"
   ]
  },
  {
   "cell_type": "code",
   "execution_count": 138,
   "metadata": {},
   "outputs": [
    {
     "data": {
      "text/plain": [
       "array(['garaz', 'byt', 'pozemek', 'dum', 'nebytovy-prostor',\n",
       "       'rekreacni-objekt', 'kancelar'], dtype=object)"
      ]
     },
     "execution_count": 138,
     "metadata": {},
     "output_type": "execute_result"
    }
   ],
   "source": [
    "estate_type.unique()"
   ]
  },
  {
   "cell_type": "markdown",
   "metadata": {},
   "source": [
    "\n",
    "###### Vypiš mi nejdražší a nejlevnější nemovitost\n",
    "\n",
    "---\n",
    "\n",
    "<br>\n",
    "\n",
    "Přilož detail z odkazem, ať můžeš nabídku zkontrolovat:"
   ]
  },
  {
   "cell_type": "code",
   "execution_count": 149,
   "metadata": {
    "scrolled": true
   },
   "outputs": [
    {
     "data": {
      "text/html": [
       "<div>\n",
       "<style scoped>\n",
       "    .dataframe tbody tr th:only-of-type {\n",
       "        vertical-align: middle;\n",
       "    }\n",
       "\n",
       "    .dataframe tbody tr th {\n",
       "        vertical-align: top;\n",
       "    }\n",
       "\n",
       "    .dataframe thead th {\n",
       "        text-align: right;\n",
       "    }\n",
       "</style>\n",
       "<table border=\"1\" class=\"dataframe\">\n",
       "  <thead>\n",
       "    <tr style=\"text-align: right;\">\n",
       "      <th></th>\n",
       "      <th>url</th>\n",
       "      <th>gps</th>\n",
       "      <th>price</th>\n",
       "      <th>currency</th>\n",
       "      <th>keyOfferType</th>\n",
       "      <th>keyEstateType</th>\n",
       "      <th>keyDisposition</th>\n",
       "      <th>surface</th>\n",
       "      <th>surfaceLand</th>\n",
       "      <th>id</th>\n",
       "      <th>JeByt</th>\n",
       "      <th>type_upper</th>\n",
       "    </tr>\n",
       "  </thead>\n",
       "  <tbody>\n",
       "    <tr>\n",
       "      <th>439</th>\n",
       "      <td>https://www.bezrealitky.cz/nemovitosti-byty-domy/691157-nabidka-prodej-domu-praha-10</td>\n",
       "      <td>{\"lat\":50.08084003981505,\"lng\":14.485899098217489}</td>\n",
       "      <td>55000000</td>\n",
       "      <td>CZK</td>\n",
       "      <td>prodej</td>\n",
       "      <td>dum</td>\n",
       "      <td>ostatni</td>\n",
       "      <td>1000</td>\n",
       "      <td>6000</td>\n",
       "      <td>691157</td>\n",
       "      <td>Dum</td>\n",
       "      <td>DUM</td>\n",
       "    </tr>\n",
       "    <tr>\n",
       "      <th>670</th>\n",
       "      <td>https://www.bezrealitky.cz/nemovitosti-byty-domy/685677-nabidka-prodej-pozemku-ruska-frantiskovy-lazne</td>\n",
       "      <td>{\"lat\":50.1214475,\"lng\":12.3610505}</td>\n",
       "      <td>83662800</td>\n",
       "      <td>CZK</td>\n",
       "      <td>prodej</td>\n",
       "      <td>pozemek</td>\n",
       "      <td></td>\n",
       "      <td>53976</td>\n",
       "      <td>0</td>\n",
       "      <td>685677</td>\n",
       "      <td>Pozemek</td>\n",
       "      <td>POZEMEK</td>\n",
       "    </tr>\n",
       "  </tbody>\n",
       "</table>\n",
       "</div>"
      ],
      "text/plain": [
       "                                                                                                        url  \\\n",
       "439                    https://www.bezrealitky.cz/nemovitosti-byty-domy/691157-nabidka-prodej-domu-praha-10   \n",
       "670  https://www.bezrealitky.cz/nemovitosti-byty-domy/685677-nabidka-prodej-pozemku-ruska-frantiskovy-lazne   \n",
       "\n",
       "                                                    gps     price currency  \\\n",
       "439  {\"lat\":50.08084003981505,\"lng\":14.485899098217489}  55000000      CZK   \n",
       "670                 {\"lat\":50.1214475,\"lng\":12.3610505}  83662800      CZK   \n",
       "\n",
       "    keyOfferType keyEstateType keyDisposition  surface  surfaceLand      id  \\\n",
       "439       prodej           dum        ostatni     1000         6000  691157   \n",
       "670       prodej       pozemek                   53976            0  685677   \n",
       "\n",
       "       JeByt type_upper  \n",
       "439      Dum        DUM  \n",
       "670  Pozemek    POZEMEK  "
      ]
     },
     "execution_count": 149,
     "metadata": {},
     "output_type": "execute_result"
    }
   ],
   "source": [
    "br_dataframe[\"price\"].max()\n",
    "# br_dataframe[br_dataframe[\"price\"] == 0]\n",
    "# br_dataframe[br_dataframe[\"price\"] > 50000000]"
   ]
  },
  {
   "cell_type": "markdown",
   "metadata": {},
   "source": [
    "\n",
    "###### Vytvoř sloupec, který bude obsahovat skutečnou adresu (podle GPS)\n",
    "\n",
    "---\n",
    "\n",
    "<br>\n",
    "\n",
    "Doplň sloupec do DataFramu, který bude obsahovat celou dostupnou adresu:"
   ]
  },
  {
   "cell_type": "code",
   "execution_count": 150,
   "metadata": {},
   "outputs": [],
   "source": [
    "def replace_gps(gps: str) -> str:\n",
    "    \"\"\"Find the address with the gps coordinates.\"\"\"\n",
    "    \n",
    "    lat, lng = json.loads(gps).values()\n",
    "    join_coords = \", \".join((str(lat), str(lng)))\n",
    "\n",
    "    geolocator = Nominatim(\n",
    "        user_agent=\"gps_convertor\"\n",
    "    )\n",
    "        \n",
    "    return geolocator.reverse(join_coords).address\n",
    "\n",
    "# address = replace_gps('{\"lat\":50.25203579999999,\"lng\":14.5187024}')"
   ]
  },
  {
   "cell_type": "code",
   "execution_count": 151,
   "metadata": {},
   "outputs": [
    {
     "data": {
      "text/plain": [
       "'1044, Kojetická, Neratovice, okres Mělník, Střední Čechy, 27711, Česko'"
      ]
     },
     "execution_count": 151,
     "metadata": {},
     "output_type": "execute_result"
    }
   ],
   "source": [
    "# address"
   ]
  },
  {
   "cell_type": "code",
   "execution_count": 158,
   "metadata": {
    "scrolled": false
   },
   "outputs": [
    {
     "data": {
      "text/html": [
       "<div>\n",
       "<style scoped>\n",
       "    .dataframe tbody tr th:only-of-type {\n",
       "        vertical-align: middle;\n",
       "    }\n",
       "\n",
       "    .dataframe tbody tr th {\n",
       "        vertical-align: top;\n",
       "    }\n",
       "\n",
       "    .dataframe thead th {\n",
       "        text-align: right;\n",
       "    }\n",
       "</style>\n",
       "<table border=\"1\" class=\"dataframe\">\n",
       "  <thead>\n",
       "    <tr style=\"text-align: right;\">\n",
       "      <th></th>\n",
       "      <th>url</th>\n",
       "      <th>gps</th>\n",
       "      <th>price</th>\n",
       "      <th>currency</th>\n",
       "      <th>keyOfferType</th>\n",
       "      <th>keyEstateType</th>\n",
       "      <th>keyDisposition</th>\n",
       "      <th>surface</th>\n",
       "      <th>surfaceLand</th>\n",
       "      <th>id</th>\n",
       "      <th>formatted_price</th>\n",
       "      <th>full_address</th>\n",
       "    </tr>\n",
       "  </thead>\n",
       "  <tbody>\n",
       "    <tr>\n",
       "      <th>0</th>\n",
       "      <td>https://www.bezrealitky.cz/nemovitosti-byty-domy/695563-nabidka-prodej-bytu-kojeticka</td>\n",
       "      <td>{\"lat\":50.25203579999999,\"lng\":14.5187024}</td>\n",
       "      <td>2980000</td>\n",
       "      <td>CZK</td>\n",
       "      <td>prodej</td>\n",
       "      <td>byt</td>\n",
       "      <td>2-kk</td>\n",
       "      <td>40</td>\n",
       "      <td>0</td>\n",
       "      <td>695563</td>\n",
       "      <td>2.98 mil.</td>\n",
       "      <td>1044, Kojetická, Neratovice, okres Mělník, Střední Čechy, 27711, Česko</td>\n",
       "    </tr>\n",
       "    <tr>\n",
       "      <th>1</th>\n",
       "      <td>https://www.bezrealitky.cz/nemovitosti-byty-domy/695544-nabidka-prodej-bytu-skolni-cheb</td>\n",
       "      <td>{\"lat\":50.07845,\"lng\":12.37209}</td>\n",
       "      <td>2500000</td>\n",
       "      <td>CZK</td>\n",
       "      <td>prodej</td>\n",
       "      <td>byt</td>\n",
       "      <td>2-1</td>\n",
       "      <td>55</td>\n",
       "      <td>0</td>\n",
       "      <td>695544</td>\n",
       "      <td>2.50 mil.</td>\n",
       "      <td>653/17, Školní, Cheb, okres Cheb, Karlovarský kraj, Severozápad, 35002, Česko</td>\n",
       "    </tr>\n",
       "    <tr>\n",
       "      <th>2</th>\n",
       "      <td>https://www.bezrealitky.cz/nemovitosti-byty-domy/695541-nabidka-prodej-domu</td>\n",
       "      <td>{\"lat\":50.0485532,\"lng\":14.5241392}</td>\n",
       "      <td>19600000</td>\n",
       "      <td>CZK</td>\n",
       "      <td>prodej</td>\n",
       "      <td>dum</td>\n",
       "      <td>5-kk</td>\n",
       "      <td>180</td>\n",
       "      <td>180</td>\n",
       "      <td>695541</td>\n",
       "      <td>19.60 mil.</td>\n",
       "      <td>50/15, Chalupnická, Na Košíku, Hostivař, Hlavní město Praha, Praha, 10200, Česko</td>\n",
       "    </tr>\n",
       "    <tr>\n",
       "      <th>3</th>\n",
       "      <td>https://www.bezrealitky.cz/nemovitosti-byty-domy/695540-nabidka-prodej-domu</td>\n",
       "      <td>{\"lat\":50.0853554,\"lng\":14.1300829}</td>\n",
       "      <td>13520000</td>\n",
       "      <td>CZK</td>\n",
       "      <td>prodej</td>\n",
       "      <td>dum</td>\n",
       "      <td></td>\n",
       "      <td>159</td>\n",
       "      <td>400</td>\n",
       "      <td>695540</td>\n",
       "      <td>13.52 mil.</td>\n",
       "      <td>108, nám. T. G. Masaryka, Unhošť, okres Kladno, Střední Čechy, 27351, Česko</td>\n",
       "    </tr>\n",
       "    <tr>\n",
       "      <th>4</th>\n",
       "      <td>https://www.bezrealitky.cz/nemovitosti-byty-domy/695535-nabidka-prodej-pozemku-usti-nad-labem</td>\n",
       "      <td>{\"lat\":50.7020975,\"lng\":14.0031103}</td>\n",
       "      <td>4098980</td>\n",
       "      <td>CZK</td>\n",
       "      <td>prodej</td>\n",
       "      <td>pozemek</td>\n",
       "      <td></td>\n",
       "      <td>1244</td>\n",
       "      <td>0</td>\n",
       "      <td>695535</td>\n",
       "      <td>4.10 mil.</td>\n",
       "      <td>Habrovice, Ústí nad Labem, okres Ústí nad Labem, Ústecký kraj, Severozápad, 40340, Česko</td>\n",
       "    </tr>\n",
       "  </tbody>\n",
       "</table>\n",
       "</div>"
      ],
      "text/plain": [
       "                                                                                             url  \\\n",
       "0          https://www.bezrealitky.cz/nemovitosti-byty-domy/695563-nabidka-prodej-bytu-kojeticka   \n",
       "1        https://www.bezrealitky.cz/nemovitosti-byty-domy/695544-nabidka-prodej-bytu-skolni-cheb   \n",
       "2                    https://www.bezrealitky.cz/nemovitosti-byty-domy/695541-nabidka-prodej-domu   \n",
       "3                    https://www.bezrealitky.cz/nemovitosti-byty-domy/695540-nabidka-prodej-domu   \n",
       "4  https://www.bezrealitky.cz/nemovitosti-byty-domy/695535-nabidka-prodej-pozemku-usti-nad-labem   \n",
       "\n",
       "                                          gps     price currency keyOfferType  \\\n",
       "0  {\"lat\":50.25203579999999,\"lng\":14.5187024}   2980000      CZK       prodej   \n",
       "1             {\"lat\":50.07845,\"lng\":12.37209}   2500000      CZK       prodej   \n",
       "2         {\"lat\":50.0485532,\"lng\":14.5241392}  19600000      CZK       prodej   \n",
       "3         {\"lat\":50.0853554,\"lng\":14.1300829}  13520000      CZK       prodej   \n",
       "4         {\"lat\":50.7020975,\"lng\":14.0031103}   4098980      CZK       prodej   \n",
       "\n",
       "  keyEstateType keyDisposition  surface  surfaceLand      id formatted_price  \\\n",
       "0           byt           2-kk       40            0  695563       2.98 mil.   \n",
       "1           byt            2-1       55            0  695544       2.50 mil.   \n",
       "2           dum           5-kk      180          180  695541      19.60 mil.   \n",
       "3           dum                     159          400  695540      13.52 mil.   \n",
       "4       pozemek                    1244            0  695535       4.10 mil.   \n",
       "\n",
       "                                                                               full_address  \n",
       "0                    1044, Kojetická, Neratovice, okres Mělník, Střední Čechy, 27711, Česko  \n",
       "1             653/17, Školní, Cheb, okres Cheb, Karlovarský kraj, Severozápad, 35002, Česko  \n",
       "2          50/15, Chalupnická, Na Košíku, Hostivař, Hlavní město Praha, Praha, 10200, Česko  \n",
       "3               108, nám. T. G. Masaryka, Unhošť, okres Kladno, Střední Čechy, 27351, Česko  \n",
       "4  Habrovice, Ústí nad Labem, okres Ústí nad Labem, Ústecký kraj, Severozápad, 40340, Česko  "
      ]
     },
     "execution_count": 158,
     "metadata": {},
     "output_type": "execute_result"
    }
   ],
   "source": [
    "br_dataframe.head()"
   ]
  },
  {
   "cell_type": "markdown",
   "metadata": {},
   "source": [
    "###### Úkol B\n",
    "\n",
    "---\n",
    "1. Zjistit typy nabízených nemovitostí & jejich výskyt, nejvyšší & nejnižší ceny,\n",
    "\n",
    "<br>\n",
    "\n",
    "2. Zkus přidat nový sloupeček `formatted_price`, který bude obsahovat naformátovanou cenu<br>\n",
    "    ```int64: 2980000 -> object: 2.98```\n",
    "\n",
    "<br>\n",
    "\n",
    "3. Zkus přidat nový sloupeček `full_address`, kde předáš DataFramu skutečnou adresu, na základě GPS."
   ]
  },
  {
   "cell_type": "markdown",
   "metadata": {},
   "source": [
    "<br>\n",
    "\n",
    "#### Uložení dat, sqlite3,\n",
    "\n",
    "---\n",
    "\n",
    "<br>\n",
    "\n",
    "###### Úvod do SQL\n",
    "\n",
    "---\n",
    "\n",
    "Oficiální dokumenta pro SQLite [zde](https://sqlite.org/docs.html).\n",
    "\n",
    "<br>\n",
    "\n",
    "**Ano**:\n",
    "- jednoduché, inituitivní,\n",
    "- zdarma (většinou),\n",
    "- serverless,\n",
    "- `null`, `integer`, `text`, `real`,\n",
    "\n",
    "**Ne**:\n",
    "- neefektivní práce s většími daty (1TB+ ukládat na centralizované db),\n",
    "- umožňuje, aby v daném okamžiku proběhla pouze jedna operace zápisu ,\n",
    "\n",
    "<br>\n",
    "\n",
    "\n",
    "\n",
    "###### Zápis do testovací databáze\n",
    "\n",
    "---"
   ]
  },
  {
   "cell_type": "code",
   "execution_count": 201,
   "metadata": {},
   "outputs": [],
   "source": [
    "import sqlite3"
   ]
  },
  {
   "cell_type": "code",
   "execution_count": 202,
   "metadata": {},
   "outputs": [],
   "source": [
    "# zajistím spojení s novým objektem db\n",
    "con = sqlite3.connect('testing_db.db')"
   ]
  },
  {
   "cell_type": "code",
   "execution_count": 203,
   "metadata": {},
   "outputs": [],
   "source": [
    "# vytvořím objekt kurzoru, skrze který provádím jednotlivé dotazy\n",
    "cur = con.cursor()"
   ]
  },
  {
   "cell_type": "code",
   "execution_count": 204,
   "metadata": {},
   "outputs": [
    {
     "data": {
      "text/plain": [
       "<sqlite3.Cursor at 0x7ff0c3342260>"
      ]
     },
     "execution_count": 204,
     "metadata": {},
     "output_type": "execute_result"
    }
   ],
   "source": [
    "# vytvořím novou testovací tabulku, v případě že žádná neexistuje\n",
    "cur.execute('''\n",
    "CREATE TABLE IF NOT EXISTS example (\n",
    "id INTEGER PRIMARY KEY,\n",
    "name TEXT,\n",
    "email TEXT)\n",
    "''')"
   ]
  },
  {
   "cell_type": "code",
   "execution_count": 205,
   "metadata": {},
   "outputs": [],
   "source": [
    "# Vložím tři různé řádky\n",
    "cur.execute(\"INSERT INTO example VALUES (NULL,'Matous','matous@matous.cz')\")\n",
    "cur.execute(\"INSERT INTO example VALUES (NULL,'Petr','petr@metr.cz')\")\n",
    "cur.execute(\"INSERT INTO example VALUES (NULL,'Lukas','luki@puky.cz')\")\n",
    "\n",
    "# commitnu změny do tabulky\n",
    "con.commit()\n",
    "\n",
    "# ukončím spojení\n",
    "con.close()"
   ]
  },
  {
   "cell_type": "code",
   "execution_count": 206,
   "metadata": {},
   "outputs": [
    {
     "name": "stdout",
     "output_type": "stream",
     "text": [
      "total 220\r\n",
      "-rw-rw-r-- 1 matous matous 20475 lis 30 18:43 lesson00.ipynb\r\n",
      "-rw-rw-r-- 1 matous matous 24891 pro  5 10:58 lesson01.ipynb\r\n",
      "-rw-rw-r-- 1 matous matous 41117 pro  6 12:05 lesson02.ipynb\r\n",
      "-rw-rw-r-- 1 matous matous 45374 pro  8 11:05 lesson03.ipynb\r\n",
      "-rw-rw-r-- 1 matous matous 73251 pro  9 14:06 lesson04.ipynb\r\n",
      "-rw-r--r-- 1 matous matous  8192 pro  9 14:07 testing_db.db\r\n"
     ]
    }
   ],
   "source": [
    "!ls -l"
   ]
  },
  {
   "cell_type": "markdown",
   "metadata": {},
   "source": [
    "###### Zápis pomocí sqlite\n",
    "\n",
    "---"
   ]
  },
  {
   "cell_type": "code",
   "execution_count": 208,
   "metadata": {},
   "outputs": [],
   "source": [
    "# zajistím spojení s novým objektem db\n",
    "con = sqlite3.connect('testing_db.db')\n",
    "cur = con.cursor()\n",
    "\n",
    "sl_ = {\n",
    "    \"name\": \"Marek\",\n",
    "    \"email\": \"marek.parek@email.cz\"\n",
    "}\n",
    "\n",
    "cur.execute(f\"\"\"INSERT INTO example ({','.join(sl_.keys())}) \\\n",
    "            VALUES ({','.join(['?'] * len(sl_))})\"\"\", tuple(sl_.values()))\n",
    "\n",
    "con.commit()\n",
    "\n",
    "# ukončím spojení\n",
    "con.close()"
   ]
  },
  {
   "cell_type": "markdown",
   "metadata": {},
   "source": [
    "###### Čtení hodnot v existující DB\n",
    "\n",
    "---"
   ]
  },
  {
   "cell_type": "code",
   "execution_count": 167,
   "metadata": {},
   "outputs": [
    {
     "name": "stdout",
     "output_type": "stream",
     "text": [
      "(1, 'Matous', 'matous@matous.cz')\n",
      "(2, 'Petr', 'petr@metr.cz')\n",
      "(3, 'Lukas', 'luki@puky.cz')\n"
     ]
    }
   ],
   "source": [
    "con = sqlite3.connect('testing_db.db')\n",
    "cur = con.cursor()\n",
    "\n",
    "# označím všechny sloupce v  tabulce 'testing_db.sql'\n",
    "cur.execute(\"SELECT * FROM example\")\n",
    "\n",
    "# nainicializuji je do proměnné 'data'\n",
    "data = cur.fetchall()\n",
    "\n",
    "# vypisuji řádek po řádku pomocí iterování skrze objekt\n",
    "for row in data:\n",
    "    print(row)\n",
    "\n",
    "con.close()"
   ]
  },
  {
   "cell_type": "markdown",
   "metadata": {},
   "source": [
    "###### Context manager\n",
    "\n",
    "---"
   ]
  },
  {
   "cell_type": "code",
   "execution_count": 168,
   "metadata": {
    "scrolled": true
   },
   "outputs": [
    {
     "name": "stdout",
     "output_type": "stream",
     "text": [
      "(1, 'Matous', 'matous@matous.cz')\n",
      "(2, 'Petr', 'petr@metr.cz')\n",
      "(3, 'Lukas', 'luki@puky.cz')\n"
     ]
    }
   ],
   "source": [
    "with sqlite3.connect('testing_db.sql') as con:\n",
    "    cur = con.cursor()\n",
    "    \n",
    "    cur.execute(\"SELECT * FROM example\")\n",
    "    data = cur.fetchall()\n",
    "    for row in data:\n",
    "        print(row)"
   ]
  },
  {
   "cell_type": "code",
   "execution_count": 170,
   "metadata": {},
   "outputs": [],
   "source": [
    "br_dataframe.rename(columns = {'id':'offer_id'}, inplace = True)"
   ]
  },
  {
   "cell_type": "code",
   "execution_count": 179,
   "metadata": {},
   "outputs": [
    {
     "data": {
      "text/plain": [
       "981"
      ]
     },
     "execution_count": 179,
     "metadata": {},
     "output_type": "execute_result"
    }
   ],
   "source": [
    "br_dataframe[\"offer_id\"].nunique()"
   ]
  },
  {
   "cell_type": "markdown",
   "metadata": {},
   "source": [
    "###### Zápis hodnot z DataFramu do nové tabulky\n",
    "\n",
    "---"
   ]
  },
  {
   "cell_type": "code",
   "execution_count": 210,
   "metadata": {},
   "outputs": [],
   "source": [
    "with sqlite3.connect('br_offers.db') as con:\n",
    "    cur = con.cursor()\n",
    "    cur.execute(\"\"\"\n",
    "    CREATE TABLE IF NOT EXISTS offers (\n",
    "    id INTEGER PRIMARY KEY,\n",
    "    url TEXT,\n",
    "    gps TEXT,\n",
    "    price INTEGER,\n",
    "    currency TEXT,\n",
    "    keyOfferType TEXT,\n",
    "    keyEstateType TEXT,\n",
    "    keyDisposition TEXT,\n",
    "    surface INTEGER,\n",
    "    surfaceLand INTEGER,\n",
    "    offer_id INTEGER,\n",
    "    formatted_price TEXT,\n",
    "    full_address TEXT\n",
    "    )\n",
    "    \"\"\"\n",
    "    )\n",
    "\n",
    "    con.commit()\n",
    "\n",
    "    br_dataframe.to_sql(\n",
    "        'offers', con, if_exists='replace',\n",
    "        index=True,\n",
    "#         index_label=\"id\"\n",
    "    )"
   ]
  },
  {
   "cell_type": "markdown",
   "metadata": {},
   "source": [
    "###### Úkol C\n",
    "\n",
    "---\n",
    "\n",
    "Zkus zapsat získaná data pomocí objektu v Pythonu jako databázový systém."
   ]
  },
  {
   "cell_type": "markdown",
   "metadata": {},
   "source": [
    "<br>\n",
    "\n",
    "#### Intepretace pomocí webového frameworku\n",
    "\n",
    "---\n",
    "\n",
    "<br>\n",
    "\n",
    "###### Úvod do webového frameworku\n",
    "\n",
    "---\n",
    "\n",
    "Dokumentaci lze najít [zde](https://flask.palletsprojects.com/en/2.0.x/)\n",
    "\n",
    "<br>\n",
    "\n"
   ]
  },
  {
   "cell_type": "markdown",
   "metadata": {},
   "source": [
    "###### Hlavní stránka\n",
    "\n",
    "---\n",
    "\n",
    "Výstup:\n",
    "```\n",
    "Ahoj, na moji hlavni strance!\n",
    "```"
   ]
  },
  {
   "cell_type": "code",
   "execution_count": 214,
   "metadata": {},
   "outputs": [],
   "source": [
    "# flask_app.py bez .html\n",
    "from flask import Flask  # naimportuj třídu 'Flask'\n",
    "\n",
    "app = Flask(__name__)    # vytvoříme instanci se jménem akt. souboru \n",
    "\n",
    "@app.route(\"/\")          # pomocí dekorátoru vytvořím cílové url\n",
    "def main_page():         # funkce pro úvodní stránku\n",
    "    return \"<p>Ahoj, na moji hlavni strance</p>\"\n",
    "\n",
    "# if __name__ == \"__main__\":\n",
    "#     app.run()"
   ]
  },
  {
   "cell_type": "code",
   "execution_count": 215,
   "metadata": {},
   "outputs": [],
   "source": [
    "# flask_app.py s templates/main_page.html\n",
    "from flask import Flask, render_template\n",
    "\n",
    "app = Flask(__name__)\n",
    "\n",
    "\n",
    "@app.route(\"/\")\n",
    "def main_page():\n",
    "    return render_template(\"main_page.html\")\n",
    "\n",
    "\n",
    "# if __name__ == \"__main__\":\n",
    "#     app.run(debug=True)    # po každé úpravě dojde na refresh"
   ]
  },
  {
   "cell_type": "markdown",
   "metadata": {},
   "source": [
    "###### HTML main_page\n",
    "\n",
    "---\n",
    "```html\n",
    "<!-- main_page.html -->\n",
    "<html>\n",
    "  <head>\n",
    "    <title>Main page</title>\n",
    "    <link rel=\"stylesheet\" href=\"https://stackpath.bootstrapcdn.com/bootstrap/4.3.1/css/bootstrap.min.css\" integrity=\"sha384-ggOyR0iXCbMQv3Xipma34MD+dH/1fQ784/j6cY/iJTQUOhcWr7x9JvoRxT2MZw1T\" crossorigin=\"anonymous\">\n",
    "  </head>\n",
    "<body>\n",
    "    <div class=\"row-3\" id=\"br_offers\">\n",
    "      <div class=\"row 4\">\n",
    "        <h1 id=\"title\">Ahoj na mojí hlavní stránce!</h1>\n",
    "      </div>\n",
    "    </div>\n",
    "</body\n",
    "```"
   ]
  },
  {
   "cell_type": "markdown",
   "metadata": {},
   "source": [
    "###### Stránka s výsledky\n",
    "\n",
    "---"
   ]
  },
  {
   "cell_type": "code",
   "execution_count": 216,
   "metadata": {},
   "outputs": [],
   "source": [
    "# main_page.py\n",
    "import os\n",
    "import sqlite3\n",
    "\n",
    "from flask import Flask, render_template, request\n",
    "\n",
    "app = Flask(__name__)\n",
    "\n",
    "\n",
    "@app.route(\"/\")\n",
    "def main_page():\n",
    "    return render_template(\"main_page.html\")\n",
    "\n",
    "\n",
    "@app.route(\"/results\")\n",
    "def results():\n",
    "    with sqlite3.connect(\"01_testing.db\") as con:\n",
    "        cur = con.cursor()\n",
    "\n",
    "        cur.execute(\"SELECT * FROM example\")\n",
    "        data = cur.fetchall()\n",
    "\n",
    "    return render_template(\"results.html\", result=data)"
   ]
  },
  {
   "cell_type": "markdown",
   "metadata": {},
   "source": [
    "###### HTML results.html\n",
    "---\n",
    "\n",
    "Výstup:\n",
    "```\n",
    "(1, 'Matous', 'matous@matous.cz')\n",
    "(2, 'Petr', 'petr@metr.cz')\n",
    "(3, 'Lukas', 'luki@puky.cz')\n",
    "(4, 'Marek', 'marek.parek@email.cz')\n",
    "```\n",
    "\n",
    "\n",
    "<br>\n",
    "\n",
    "```html\n",
    "<!-- results.html -->\n",
    "<html>\n",
    "  <head>\n",
    "    <title>Results</title>\n",
    "    <link rel=\"stylesheet\" href=\"https://stackpath.bootstrapcdn.com/bootstrap/4.3.1/css/bootstrap.min.css\" integrity=\"sha384-ggOyR0iXCbMQv3Xipma34MD+dH/1fQ784/j6cY/iJTQUOhcWr7x9JvoRxT2MZw1T\" crossorigin=\"anonymous\">\n",
    "  </head>\n",
    "<body>\n",
    "    <div class=\"container\" id=\"results\">\n",
    "\n",
    "      <div class=\"row 4\">\n",
    "        <h1 id=\"title\">Výsledky</h1>\n",
    "      </div>\n",
    "\n",
    "      <div class=\"row 3\">\n",
    "        <table id=\"ner-table\" data-test-id=\"ner-table\" class=\"table table-bordered\">\n",
    "          <thead class=\"thead-dark\">\n",
    "            <tr>\n",
    "              <th>id</th>\n",
    "              <th>jmeno</th>\n",
    "              <th>email</th>\n",
    "            </tr>\n",
    "          </thead>\n",
    "          <tbody>\n",
    "            {% for row in result %}\n",
    "            <tr>\n",
    "                <td>{{ row }}</td>\n",
    "            </tr>\n",
    "            {% endfor %}\n",
    "          </tbody>\n",
    "        </table>\n",
    "      </div>\n",
    "    </div>\n",
    "  </body>\n",
    "</html>\n",
    "```\n"
   ]
  },
  {
   "cell_type": "markdown",
   "metadata": {},
   "source": [
    "###### Doplníme indexy\n",
    "\n",
    "---\n",
    "\n",
    "Výstup:\n",
    "```\n",
    "1 \tMatous \tmatous@matous.cz\n",
    "2 \tPetr \tpetr@metr.cz\n",
    "3 \tLukas \tluki@puky.cz\n",
    "4 \tMarek \tmarek.parek@email.cz\n",
    "```\n",
    "\n",
    "<br>\n",
    "\n",
    "```html\n",
    "          <thead class=\"thead-dark\">\n",
    "            <tr>\n",
    "              <th>id</th>\n",
    "              <th>jmeno</th>\n",
    "              <th>email</th>\n",
    "            </tr>\n",
    "          </thead>\n",
    "          <tbody>\n",
    "            {% for row in result %}\n",
    "            <tr>\n",
    "                <td>{{ row[0] }}</td>\n",
    "                <td>{{ row[1] }}</td>\n",
    "                <td>{{ row[2] }}</td>\n",
    "            </tr>\n",
    "            {% endfor %}\n",
    "          </tbody>\n",
    "```"
   ]
  },
  {
   "cell_type": "markdown",
   "metadata": {},
   "source": [
    "```html\n",
    "<html>\n",
    "  <head>\n",
    "    <title>Results</title>\n",
    "    <link rel=\"stylesheet\" href=\"https://stackpath.bootstrapcdn.com/bootstrap/4.3.1/css/bootstrap.min.css\" integrity=\"sha384-ggOyR0iXCbMQv3Xipma34MD+dH/1fQ784/j6cY/iJTQUOhcWr7x9JvoRxT2MZw1T\" crossorigin=\"anonymous\">\n",
    "  </head>\n",
    "<body>\n",
    "    <div class=\"container p-3\" id=\"app\">\n",
    "\n",
    "      <div class=\"row my-4\">\n",
    "        <h1 id=\"app-title\">Results</h1>\n",
    "      </div>\n",
    "\n",
    "      <div class=\"row my-3\">\n",
    "        <table id=\"ner-table\" data-test-id=\"ner-table\" class=\"table table-bordered\">\n",
    "          <thead class=\"thead-dark\">\n",
    "            <tr>\n",
    "              <th>id</th>\n",
    "              <th>url</th>\n",
    "              <th>price</th>\n",
    "              <th>currency</th>\n",
    "              <th>type</th>\n",
    "              <th>surface</th>\n",
    "            </tr>\n",
    "          </thead>\n",
    "          <tbody>\n",
    "            {% for row in result %}\n",
    "            <tr>\n",
    "                <td>{{ row[10] }}</td>\n",
    "                <td>{{ row[1] }}</td>\n",
    "                <td>{{ row[3] }}</td>\n",
    "                <td>{{ row[4] }}</td>\n",
    "                <td>{{ row[6] }}</td>\n",
    "                <td>{{ row[8] }}</td>\n",
    "            </tr>\n",
    "            {% endfor %}\n",
    "          </tbody>\n",
    "        </table>\n",
    "      </div>\n",
    "    </div>\n",
    "  </body>\n",
    "</html>\n",
    "```"
   ]
  },
  {
   "cell_type": "markdown",
   "metadata": {},
   "source": [
    "###### Úkol D\n",
    "\n",
    "---\n",
    "\n",
    "Zkus zobrazit získaná data pomocí frameworku *Flask* na localhostu. Rozděl jednotlivé údaje do tabulky a vypiš některé hodnoty."
   ]
  },
  {
   "cell_type": "code",
   "execution_count": null,
   "metadata": {},
   "outputs": [],
   "source": []
  },
  {
   "cell_type": "markdown",
   "metadata": {},
   "source": [
    "---"
   ]
  }
 ],
 "metadata": {
  "kernelspec": {
   "display_name": "projekt04",
   "language": "python",
   "name": "projekt04"
  },
  "language_info": {
   "codemirror_mode": {
    "name": "ipython",
    "version": 3
   },
   "file_extension": ".py",
   "mimetype": "text/x-python",
   "name": "python",
   "nbconvert_exporter": "python",
   "pygments_lexer": "ipython3",
   "version": "3.8.10"
  }
 },
 "nbformat": 4,
 "nbformat_minor": 4
}
