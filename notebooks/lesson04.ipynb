{
 "cells": [
  {
   "cell_type": "markdown",
   "metadata": {},
   "source": [
    "### Projekt objektově orientovaného programování\n",
    "\n",
    "---\n",
    "\n",
    "Na závěr nás čeká ukázka z praktického projektu.\n",
    "\n",
    "<br>\n",
    "\n",
    "Projekt bude mít tyto části:\n",
    "1. [Sběr dat, OOP,](#Sběr-dat,-OOP)\n",
    "2. [Analýza dat, pandas,]()\n",
    "3. [Uložení dat, sqlite3,]()\n",
    "4. [Interpretace dat, flask.]()\n",
    "\n",
    "<br>"
   ]
  },
  {
   "cell_type": "markdown",
   "metadata": {},
   "source": [
    "#### Sběr dat, OOP\n",
    "\n",
    "---\n",
    "\n",
    "Nachystání virtuálního prostředí:\n",
    "```\n",
    "$ python -m venv projekt04       # vytvořím virt. prostředí\n",
    "$ source projekt04/bin/activate  # aktivuji binárku virt. prostředí\n",
    "```\n",
    "\n",
    "<br>\n",
    "\n",
    "Instalace souvisejících knihoven:\n",
    "```\n",
    "$ pip --version  # kontrola manažeru\n",
    "$ pip install -r requirements.txt\n",
    "\n",
    "Collecting beautifulsoup4==4.10.0\n",
    "  Using cached beautifulsoup4-4.10.0-py3-none-any.whl (97 kB)\n",
    "Collecting certifi==2021.10.8\n",
    "...\n",
    "```\n",
    "\n",
    "<br>\n",
    "\n",
    "V rootovi projektu vytvoř soubor s dokumentací `README.md`:\n",
    "```\n",
    "#### Projekt ze čtvrté lekce\n",
    "\n",
    "---\n",
    "\n",
    "Tento projekt je zaměřený na zopakování konceptů z kurzu Engeto, úvod do OOP.\n",
    "\n",
    "<br>\n",
    "\n",
    "#### Instalace\n",
    "\n",
    "---\n",
    "\n",
    "Vytvoř virtuální prostředí a nainstaluj manažerem související knihovny:\n",
    "\n",
    "<br>\n",
    "\n",
    "#### Spuštění\n",
    "Pro správnou inicializaci použij příkaz:\n",
    "\n",
    "---\n",
    "\n",
    "<br>\n",
    "\n",
    "#### Poznámky\n",
    "\n",
    "---\n",
    "\n",
    "```\n",
    "\n",
    "<br>\n",
    "\n",
    "Vytvoř adresář pro nový balíček:\n",
    "```\n",
    "/projekt04\n",
    "    ├─requirements.txt\n",
    "    ├─README.md\n",
    "    └─muj_balicek\n",
    "       ├─__init__.py\n",
    "       ├─collector.py\n",
    "       ├─processor.py\n",
    "       └─db.py\n",
    "```\n",
    "\n",
    "###### Importování knihoven\n",
    "\n",
    "---"
   ]
  },
  {
   "cell_type": "code",
   "execution_count": 4,
   "metadata": {},
   "outputs": [],
   "source": [
    "\"\"\"\n",
    "# náhled na údaj\n",
    "# --------------\n",
    "example: Dict[str, Union[str, float, int]] = \n",
    "{'gps': '{\"lat\":49.23727,\"lng\":16.58296}',\n",
    " 'price': 6499000,\n",
    " 'currency': 'CZK',\n",
    " 'key_offer_type': 'prodej',\n",
    " 'key_estate_type': 'byt',\n",
    " 'key_disposition': '2-1',\n",
    " 'surface': 60,\n",
    " 'surface_land': 0}\n",
    "\"\"\"\n",
    "\n",
    "import json\n",
    "from urllib.parse import urljoin\n",
    "from typing import Dict, List, Union\n",
    "\n",
    "import bs4\n",
    "import requests"
   ]
  },
  {
   "cell_type": "markdown",
   "metadata": {},
   "source": [
    "#### Vytvoření objektu pro naše data\n",
    "\n",
    "---"
   ]
  },
  {
   "cell_type": "code",
   "execution_count": 12,
   "metadata": {},
   "outputs": [],
   "source": [
    "class BRRealEstateOffer:\n",
    "    \"\"\"Create a new object from the given attributes.\"\"\"\n",
    "    offer_count: int = 0\n",
    "    \n",
    "    def __init__(\n",
    "        self, id_: int, url: str,\n",
    "        details: Dict[str, Union[str, int, float]]\n",
    "    ):\n",
    "        self.id_ = id_\n",
    "        self.url = url\n",
    "        self.details = details\n",
    "\n",
    "    @classmethod\n",
    "    def add_offer(cls):\n",
    "        cls.offer_count += 1\n",
    "        \n",
    "    def __repr__(self) -> str:\n",
    "        return str(f\"{self.url}\")"
   ]
  },
  {
   "cell_type": "code",
   "execution_count": 13,
   "metadata": {},
   "outputs": [],
   "source": [
    "example: Dict[str, Union[str, float, int]] = {\n",
    "    'id': 695305,\n",
    "    'url': \"https://www.bezrealitky.cz/nemovitosti-byty-domy/695305-nabidka-prodej-bytu-ostruzinova-brno\",\n",
    "    'gps': '{\"lat\":49.23727,\"lng\":16.58296}',\n",
    "    'price': 6499000,\n",
    "    'currency': 'CZK',\n",
    "    'key_offer_type': 'prodej',\n",
    "    'key_estate_type': 'byt',\n",
    "    'key_disposition': '2-1',\n",
    "    'surface': 60,\n",
    "    'surface_land': 0\n",
    "}\n",
    "\n",
    "offer_1 = BRRealEstateOffer(\n",
    "    id_=example.pop('id'),\n",
    "    url=example.pop('url'),\n",
    "    details=example,\n",
    ")"
   ]
  },
  {
   "cell_type": "code",
   "execution_count": 14,
   "metadata": {},
   "outputs": [
    {
     "data": {
      "text/plain": [
       "{'id_': 695305,\n",
       " 'url': 'https://www.bezrealitky.cz/nemovitosti-byty-domy/695305-nabidka-prodej-bytu-ostruzinova-brno',\n",
       " 'details': {'gps': '{\"lat\":49.23727,\"lng\":16.58296}',\n",
       "  'price': 6499000,\n",
       "  'currency': 'CZK',\n",
       "  'key_offer_type': 'prodej',\n",
       "  'key_estate_type': 'byt',\n",
       "  'key_disposition': '2-1',\n",
       "  'surface': 60,\n",
       "  'surface_land': 0}}"
      ]
     },
     "execution_count": 14,
     "metadata": {},
     "output_type": "execute_result"
    }
   ],
   "source": [
    "offer_1.__dict__"
   ]
  },
  {
   "cell_type": "code",
   "execution_count": 20,
   "metadata": {},
   "outputs": [],
   "source": [
    "class ScraperInitiator:\n",
    "    \"\"\"Initiate a new object for web-scraping.\"\"\"\n",
    "    \n",
    "    def __init__(self, url: str, params: Dict[str, str]):\n",
    "        self.url = url\n",
    "        self.params = params\n",
    "        \n",
    "    def send_post_request(self) -> requests.models.Response:\n",
    "        return requests.post(self.url, params=self.params)\n",
    "    \n",
    "    @staticmethod\n",
    "    def load_json(response: bs4.BeautifulSoup) -> List[Dict[str, str]]:\n",
    "        \"\"\"Load the 'json' package and read the content from string.\"\"\"\n",
    "        return json.loads(response.text)"
   ]
  },
  {
   "cell_type": "code",
   "execution_count": 21,
   "metadata": {},
   "outputs": [],
   "source": [
    "scraper_1 = ScraperInitiator(\n",
    "    \"https://www.bezrealitky.cz/api/record/markers\",\n",
    "    {\n",
    "        'offerType': 'prodej',\n",
    "        'submit': '1',\n",
    "        'boundary': '[[[{\"lat\":52,\"lng\":12},{\"lat\":52,\"lng\":16},{\"lat\":50,\"lng\":16},{\"lat\":50,\"lng\":12},{\"lat\":52,\"lng\":12}]]]'\n",
    "    }\n",
    ")"
   ]
  },
  {
   "cell_type": "code",
   "execution_count": 22,
   "metadata": {},
   "outputs": [],
   "source": [
    "json_file = scraper_1.load_json(\n",
    "    scraper_1.send_post_request()\n",
    ")"
   ]
  },
  {
   "cell_type": "code",
   "execution_count": 23,
   "metadata": {},
   "outputs": [
    {
     "data": {
      "text/plain": [
       "list"
      ]
     },
     "execution_count": 23,
     "metadata": {},
     "output_type": "execute_result"
    }
   ],
   "source": [
    "type(json_file)"
   ]
  },
  {
   "cell_type": "code",
   "execution_count": 24,
   "metadata": {},
   "outputs": [
    {
     "data": {
      "text/plain": [
       "{'id': '695544',\n",
       " 'uri': '695544-nabidka-prodej-bytu-skolni-cheb',\n",
       " 'keyAdvertType': 'estate_offer',\n",
       " 'type': '',\n",
       " 'timeOrder': {'date': '2021-12-08 11:00:04.000000',\n",
       "  'timezone_type': 3,\n",
       "  'timezone': 'Europe/Berlin'},\n",
       " 'orderPriority': 0,\n",
       " 'advertEstateOffer': [{'gps': '{\"lat\":50.07845,\"lng\":12.37209}',\n",
       "   'price': 2500000,\n",
       "   'currency': 'CZK',\n",
       "   'keyOfferType': 'prodej',\n",
       "   'keyEstateType': 'byt',\n",
       "   'keyDisposition': '2-1',\n",
       "   'surface': 55,\n",
       "   'surfaceLand': 0,\n",
       "   'id': '695544'}]}"
      ]
     },
     "execution_count": 24,
     "metadata": {},
     "output_type": "execute_result"
    }
   ],
   "source": [
    "json_file[0]"
   ]
  },
  {
   "cell_type": "code",
   "execution_count": 85,
   "metadata": {},
   "outputs": [],
   "source": [
    "\n",
    "# from geopy.geocoders import Nominatim\n",
    "\n",
    "# Získáme data z API\n",
    "url: str = \"https://www.bezrealitky.cz/api/record/markers\"\n",
    "params: Dict[str, str] = {\n",
    "    'offerType': 'prodej',\n",
    "    'submit': '1',\n",
    "    'boundary': '[[[{\"lat\":52,\"lng\":12},{\"lat\":52,\"lng\":16},{\"lat\":50,\"lng\":16},{\"lat\":50,\"lng\":12},{\"lat\":52,\"lng\":12}]]]'\n",
    "}\n",
    "    \n",
    "# Pošli požadavek\n",
    "response: requests.models.Response = requests.post(url, params)"
   ]
  },
  {
   "cell_type": "code",
   "execution_count": null,
   "metadata": {},
   "outputs": [],
   "source": []
  },
  {
   "cell_type": "code",
   "execution_count": 86,
   "metadata": {},
   "outputs": [],
   "source": [
    "# Zkontroluj data\n",
    "result: List[Dict[str, str]] = json.loads(response.text)"
   ]
  },
  {
   "cell_type": "code",
   "execution_count": 87,
   "metadata": {},
   "outputs": [],
   "source": [
    "# Parsuj data\n",
    "\n",
    "\n",
    "def iterate_through_data(data: List[Dict[str, str]]):\n",
    "    details = list()\n",
    "\n",
    "    for dict_ in data:\n",
    "        id_, uri, attrs = parse_dict_object(dict_)\n",
    "        values: Dict[str, str] = {\n",
    "            \"id\": id_,\n",
    "            \"url\": urljoin(\n",
    "                \"https://www.bezrealitky.cz/nemovitosti-byty-domy/695305-nabidka-prodej-bytu-ostruzinova-brno\",\n",
    "                uri\n",
    "            )\n",
    "        }\n",
    "        values.update(parse_nested_dict(attrs))\n",
    "        # values[\"complete_address\"] = find_complete_address(values.get(\"gps\"))\n",
    "        details.append(values)\n",
    "    \n",
    "    return details\n",
    "\n",
    "\n",
    "def parse_dict_object(auc: Dict[str, str]):\n",
    "    \"\"\"Parse the attributes from the given dictionary.\"\"\"\n",
    "    id_ = auc.get(\"id\")\n",
    "    uri = auc.get(\"uri\")\n",
    "    details = auc.get(\"advertEstateOffer\")[0]\n",
    "    \n",
    "    return id_, uri, details\n",
    "\n",
    "\n",
    "def parse_nested_dict(details: Dict[str, Union[int, str]]):\n",
    "    \"\"\"Insite the nested dictionary, get the keys and their values.\"\"\"\n",
    "\n",
    "    return {\n",
    "        \"gps\": details.get(\"gps\"),\n",
    "        \"price\": details.get(\"price\"),\n",
    "        \"currency\": details.get(\"currency\"),\n",
    "        \"key_offer_type\": details.get(\"keyOfferType\"),\n",
    "        \"key_estate_type\": details.get(\"keyEstateType\"),\n",
    "        \"key_disposition\": details.get(\"keyDisposition\"),\n",
    "        \"surface\": details.get(\"surface\"),\n",
    "        \"surface_land\": details.get(\"surfaceLand\"),\n",
    "        \"surface\": details.get(\"surface\"),\n",
    "    }\n",
    "\n",
    "\n",
    "def find_complete_address(key: str) -> str:\n",
    "    \"\"\"Find the address with the gps coordinates.\"\"\"\n",
    "    lat, lng = json.loads(key.values())\n",
    "    join_coords = \", \".join((str(lat), str(lng)))\n",
    "\n",
    "    geolocator = Nominatim(\n",
    "        user_agent=\"specify_your_app_name_here\"\n",
    "    )\n",
    "\n",
    "    return geolocator.reverse(join_coords)\n",
    "    \n",
    "\n",
    "results = iterate_through_data(result)"
   ]
  },
  {
   "cell_type": "code",
   "execution_count": 88,
   "metadata": {},
   "outputs": [
    {
     "data": {
      "text/plain": [
       "898"
      ]
     },
     "execution_count": 88,
     "metadata": {},
     "output_type": "execute_result"
    }
   ],
   "source": [
    "len(results)\n",
    "# results[10: 15]"
   ]
  },
  {
   "cell_type": "code",
   "execution_count": 36,
   "metadata": {},
   "outputs": [
    {
     "data": {
      "text/plain": [
       "'695305-nabidka-prodej-bytu-ostruzinova-brno'"
      ]
     },
     "execution_count": 36,
     "metadata": {},
     "output_type": "execute_result"
    }
   ],
   "source": [
    "uri"
   ]
  },
  {
   "cell_type": "code",
   "execution_count": 37,
   "metadata": {},
   "outputs": [
    {
     "data": {
      "text/plain": [
       "{'gps': '{\"lat\":49.23727,\"lng\":16.58296}',\n",
       " 'price': 6499000,\n",
       " 'currency': 'CZK',\n",
       " 'key_offer_type': 'prodej',\n",
       " 'key_estate_type': 'byt',\n",
       " 'key_disposition': '2-1',\n",
       " 'surface': 60,\n",
       " 'surface_land': 0}"
      ]
     },
     "execution_count": 37,
     "metadata": {},
     "output_type": "execute_result"
    }
   ],
   "source": [
    "details"
   ]
  },
  {
   "cell_type": "code",
   "execution_count": 71,
   "metadata": {},
   "outputs": [],
   "source": [
    "# from geopy.geocoders import Nominatim\n",
    "\n",
    "lat, lng = json.loads(values.get(\"gps\")).values()\n",
    "join_coords = \", \".join((str(lat), str(lng)))\n",
    "geolocator = Nominatim(user_agent=\"specify_your_app_name_here\")\n",
    "location = geolocator.reverse(join_coords)\n",
    "values[\"complete_address\"] = location"
   ]
  },
  {
   "cell_type": "markdown",
   "metadata": {},
   "source": [
    "---"
   ]
  }
 ],
 "metadata": {
  "kernelspec": {
   "display_name": "Python 3",
   "language": "python",
   "name": "python3"
  },
  "language_info": {
   "codemirror_mode": {
    "name": "ipython",
    "version": 3
   },
   "file_extension": ".py",
   "mimetype": "text/x-python",
   "name": "python",
   "nbconvert_exporter": "python",
   "pygments_lexer": "ipython3",
   "version": "3.8.10"
  }
 },
 "nbformat": 4,
 "nbformat_minor": 4
}
