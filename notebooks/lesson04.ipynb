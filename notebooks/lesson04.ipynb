{
 "cells": [
  {
   "cell_type": "markdown",
   "metadata": {},
   "source": [
    "### Projekt objektově orientovaného programování\n",
    "\n",
    "---\n",
    "\n",
    "Finální projekt kurzu Engeto, úvod do OOP.\n",
    "\n",
    "<br>\n",
    "\n",
    "**Zadání**\n",
    "\n",
    "---\n",
    "\n",
    "Účelem tohoto projektu je vytvořit produkt, který sbírá nabídky nemovitostí z portálu *bezrealitky*. Dále můžeš projekt rozšířit o tyto doplňky. Hotový projekt by měl mít strukturu klasického Pythoního balíčku:\n",
    "\n",
    "1. Validace & rozšíření dat,\n",
    "2. uložení dat do DB,\n",
    "3. vytvořit jednoduchý web s výpisem získaných dat.\n",
    "\n",
    "<br>\n",
    "\n",
    "* Projekt **NENÍ** povinný. Každý, kdo má zájem, si jej může vyzkoušet.\n",
    "\n",
    "<br>\n",
    "\n",
    "Pokud budeš chtít zpětnou vazbou (konzultaci s lektorem), odevzdej, prosím, tvůj projekt jako repozitář přes *github* a na Slack pošli lektorovi url tohoto repozitáře.\n",
    "\n",
    "<br>\n",
    "\n",
    "Projekt bude mít tyto části:\n",
    "1. [Sběr dat (OOP,  **povinné**),](#Sběr-dat,-OOP)\n",
    "    - [úvod k vlastnímu projektu,](#Úvod-k-vlastnímu-projektu)\n",
    "    - [knihovny & výstup,](#Importování-knihoven-&-výstupní-objekt)\n",
    "    - [vytvoření nového objektu,](#Vytvoření-objektu-pro-naše-data)\n",
    "    - [parsování vrácených dat,](#Parsování-vrácených-dat)\n",
    "    - [nové výstupní objekty,](#Vytvoření-pole-nových-objektů-typu-'BRRealEstateOffer')\n",
    "    - [úkol A,](#Úkol-A)\n",
    "\n",
    "\n",
    "2. [Analýza dat (pandas, volitelné),](#Analýza-data,-pandas)\n",
    "    - [úvod,](#Úvod-k-frameworku)\n",
    "    - [orientace,](#Zobrazení-údajů)\n",
    "    - [selekce a řazení,](#Výběr-sloupce-&-seřazení)\n",
    "    - [přidat & odstranit sloupec,](#Nové-sloupečky)\n",
    "    - [úkol B,](#Úkol-B)\n",
    "\n",
    "\n",
    "3. [Uložení dat (sqlite3, volitelné),](#Uložení-dat,-sqlite3,)\n",
    "    - [úvod,](#Úvod-do-SQL)\n",
    "    - [zápis testovacích hodnot,](#Zápis-do-testovací-databáze)\n",
    "    - [zápis testovacích hodnot, sqlite3,](#Zápis-pomocí-sqlite)\n",
    "    - [čtení testovacích hodnot,](#Čtení-hodnot-v-existující-DB)\n",
    "    - [zápis skutečných hodnot,](#Zápis-hodnot-z-DataFramu-do-nové-tabulky)\n",
    "    - [úkol C,](#Úkol-C)\n",
    "\n",
    "\n",
    "4. [Interpretace dat (flask, volitelné ),](#Intepretace-pomocí-webového-frameworku)\n",
    "    - [úvod,](#Úvod-do-webového-frameworku)\n",
    "    - [views,hlavní stránka](#Hlavní-stránka)\n",
    "    - [views,stránka s výsledky,](#Stránka-s-výsledky)\n",
    "    - [úkol D](#Úkol-D)\n",
    "\n",
    "<br>"
   ]
  },
  {
   "cell_type": "markdown",
   "metadata": {},
   "source": [
    "### Sběr dat, OOP\n",
    "\n",
    "---\n",
    "\n",
    "###### Úvod k vlastnímu projektu\n",
    "\n",
    "---\n",
    "\n",
    "Nachystání **virtuálního prostředí**:\n",
    "```\n",
    "$ python -m venv projekt04       # vytvořím virt. prostředí\n",
    "$ source projekt04/bin/activate  # aktivuji binárku virt. prostředí\n",
    "```\n",
    "\n",
    "<br>\n",
    "\n",
    "Instalace souvisejících **knihoven**:\n",
    "```\n",
    "$ pip --version  # kontrola manažeru\n",
    "$ pip install -r requirements.txt\n",
    "\n",
    "Collecting beautifulsoup4==4.10.0\n",
    "  Using cached beautifulsoup4-4.10.0-py3-none-any.whl (97 kB)\n",
    "Collecting certifi==2021.10.8\n",
    "...\n",
    "```\n",
    "\n",
    "<br>\n",
    "\n",
    "V rootovi projektu vytvoř soubor s dokumentací `README.md`.\n",
    "\n",
    "<br>\n",
    "\n",
    "Ten by měl obsahovat aspoň bodově **strukturu** tvého projektu, příklad objektů, se kterými bys chtěl pracovat a jednotlivé komponenty tvého projektu.\n",
    "\n",
    "<br>\n",
    "\n",
    "Vytvoř adresář pro nový balíček:\n",
    "```\n",
    "/<projekt04>\n",
    "    ├─requirements.txt\n",
    "    ├─README.md\n",
    "    └─<jmeno_balicku>\n",
    "       ├─__init__.py\n",
    "       ├─test_db.db\n",
    "       ├─prod_db.db\n",
    "       ├─collector.py\n",
    "       ├─processor.py\n",
    "       ├─db.py\n",
    "       ├─flask_app.py\n",
    "       ├─tests/\n",
    "       ├─static/\n",
    "       └─templates/\n",
    "```\n",
    "\n",
    "###### Importování knihoven & výstupní objekt\n",
    "\n",
    "---"
   ]
  },
  {
   "cell_type": "code",
   "execution_count": null,
   "metadata": {},
   "outputs": [],
   "source": [
    "\"\"\"\n",
    "# náhled na údaj\n",
    "# --------------\n",
    "example: Dict[str, Any] = \n",
    "{'gps': '{\"lat\":49.23727,\"lng\":16.58296}',\n",
    " 'price': 6499000,\n",
    " 'currency': 'CZK',\n",
    " 'key_offer_type': 'prodej',\n",
    " 'key_estate_type': 'byt',\n",
    " 'key_disposition': '2-1',\n",
    " 'surface': 60,\n",
    " 'surface_land': 0}\n",
    "\"\"\"\n",
    "\n",
    "import json\n",
    "from urllib.parse import urljoin\n",
    "from geopy.geocoders import Nominatim\n",
    "from typing import Dict, List, Union, Any\n",
    "\n",
    "import requests"
   ]
  },
  {
   "cell_type": "markdown",
   "metadata": {},
   "source": [
    "<br>\n",
    "\n",
    "###### Vytvoření objektu pro naše data\n",
    "\n",
    "---"
   ]
  },
  {
   "cell_type": "code",
   "execution_count": null,
   "metadata": {},
   "outputs": [],
   "source": [
    "class BRRealEstateOffer:\n",
    "    \"\"\"Create a new object from the given attributes.\"\"\"\n",
    "    offer_count: int = 0\n",
    "    \n",
    "    def __init__(self, details: Dict[str, Any]):\n",
    "        self.id_ = details.get(\"id\")\n",
    "        self.url = details.get(\"url\")\n",
    "        self.gps = details.get(\"gps\")\n",
    "        self.price = details.get(\"price\")\n",
    "        self.surface = details.get(\"surface\")\n",
    "        self.currency = details.get(\"currency\")\n",
    "        self.surface_land = details.get(\"surfaceLand\")\n",
    "        self.key_offer_type = details.get(\"keyOfferType\")\n",
    "        self.key_estate_type = details.get(\"keyEstateType\")\n",
    "        self.key_disposition = details.get(\"keyDisposition\")\n",
    "\n",
    "    @classmethod\n",
    "    def add_offer(cls):\n",
    "        cls.offer_count += 1\n",
    "\n",
    "    def __repr__(self) -> str:\n",
    "        return str(f\"{self.url}\")\n",
    "    \n",
    "    # ...\n",
    "    def full_description(self) -> str:\n",
    "        return f\"{self.key_offer_type}; {self.key_estate_type}; {self.key_disposition}\""
   ]
  },
  {
   "cell_type": "markdown",
   "metadata": {},
   "source": [
    "###### Vzorový údaj po zapracování\n",
    "\n",
    "---"
   ]
  },
  {
   "cell_type": "code",
   "execution_count": null,
   "metadata": {},
   "outputs": [],
   "source": [
    "example: Dict[str, Any] = {\n",
    "    'id': 695305,\n",
    "    'surface': 60,\n",
    "    'price': 6499000,\n",
    "    'currency': 'CZK',\n",
    "    'surface_land': 0,\n",
    "    'keyEstateType': 'byt',\n",
    "    'keyDisposition': '2-1',\n",
    "    'keyOfferType': 'prodej',\n",
    "    'gps': '{\"lat\":49.23727,\"lng\":16.58296}',\n",
    "    'url': \"https://www.bezrealitky.cz/nemovitosti-byty-domy/695305-nabidka-prodej-bytu-ostruzinova-brno\",\n",
    "}"
   ]
  },
  {
   "cell_type": "code",
   "execution_count": null,
   "metadata": {},
   "outputs": [],
   "source": [
    "offer_1 = BRRealEstateOffer(example)"
   ]
  },
  {
   "cell_type": "code",
   "execution_count": null,
   "metadata": {
    "scrolled": true
   },
   "outputs": [],
   "source": [
    "offer_1"
   ]
  },
  {
   "cell_type": "markdown",
   "metadata": {},
   "source": [
    "###### Požadavek na API\n",
    "\n",
    "---"
   ]
  },
  {
   "cell_type": "code",
   "execution_count": null,
   "metadata": {},
   "outputs": [],
   "source": [
    "class ScraperInitiator:\n",
    "    \"\"\"Initiate a new object for the data transfer.\"\"\"\n",
    "    \n",
    "    def __init__(self, url: str, params: Dict[str, str]):\n",
    "        self.url = url\n",
    "        self.params = params\n",
    "        \n",
    "    def send_post_request(self) -> requests.models.Response:\n",
    "        return requests.post(self.url, params=self.params)\n",
    "    \n",
    "    @staticmethod\n",
    "    def load_json(response: requests.models.Response) -> List[Dict[str, str]]:\n",
    "        \"\"\"Load the 'json' package and read the content from string.\"\"\"\n",
    "        return json.loads(response.text)"
   ]
  },
  {
   "cell_type": "code",
   "execution_count": null,
   "metadata": {},
   "outputs": [],
   "source": [
    "session_1 = ScraperInitiator(\n",
    "    \"https://www.bezrealitky.cz/api/record/markers\",\n",
    "    {\n",
    "        'offerType': 'prodej',\n",
    "        'submit': '1',\n",
    "        'boundary': '[[[{\"lat\":52,\"lng\":12},{\"lat\":52,\"lng\":16},{\"lat\":50,\"lng\":16},{\"lat\":50,\"lng\":12},{\"lat\":52,\"lng\":12}]]]'\n",
    "    }\n",
    ")"
   ]
  },
  {
   "cell_type": "code",
   "execution_count": null,
   "metadata": {},
   "outputs": [],
   "source": [
    "json_: List[Dict[str, Any]] = session_1.load_json(\n",
    "    session_1.send_post_request()\n",
    ")"
   ]
  },
  {
   "cell_type": "code",
   "execution_count": null,
   "metadata": {},
   "outputs": [],
   "source": [
    "type(json_)"
   ]
  },
  {
   "cell_type": "code",
   "execution_count": null,
   "metadata": {},
   "outputs": [],
   "source": [
    "json_[10]"
   ]
  },
  {
   "cell_type": "markdown",
   "metadata": {},
   "source": [
    "<br>\n",
    "\n",
    "###### Parsování vrácených dat\n",
    "\n",
    "---"
   ]
  },
  {
   "cell_type": "code",
   "execution_count": null,
   "metadata": {},
   "outputs": [],
   "source": [
    "class DataParser:\n",
    "    \"\"\"Parse the given data and create cleaner, non-nested python object.\"\"\"\n",
    "    \n",
    "    def __init__(self, data: List[Dict[str, Any]]):\n",
    "        self.data = data\n",
    "        self.url: str = \"https://www.bezrealitky.cz/nemovitosti-byty-domy/\"\n",
    "        \n",
    "    def iterate_through_data(self):\n",
    "        results: list = []\n",
    "        \n",
    "        for offer in self.data:\n",
    "            uri, details = self.parse_main_dict(offer)\n",
    "            results.append(\n",
    "                self.extend_dict(url=urljoin(self.url, uri), details=details)\n",
    "            )\n",
    "        \n",
    "        return results\n",
    "\n",
    "    @staticmethod\n",
    "    def parse_main_dict(offer: Dict[str, Any]) -> tuple:\n",
    "        \"\"\"Parse and return attributes uri, advertEstateOffer.\"\"\"\n",
    "        return offer.get(\"uri\"), offer.get(\"advertEstateOffer\")[0]\n",
    "    \n",
    "    @staticmethod\n",
    "    def extend_dict(**kwargs):\n",
    "        \"\"\"Create and update a new dictionary object with the given attrs.\"\"\"\n",
    "        attributes: Dict[str, str] = {}\n",
    "\n",
    "        for key, val in kwargs.items():\n",
    "            if key == \"url\":\n",
    "                attributes[key] = val \n",
    "            else:\n",
    "                attributes.update(val)\n",
    "                \n",
    "        return attributes"
   ]
  },
  {
   "cell_type": "code",
   "execution_count": null,
   "metadata": {},
   "outputs": [],
   "source": [
    "parser_1 = DataParser(json_)"
   ]
  },
  {
   "cell_type": "code",
   "execution_count": null,
   "metadata": {},
   "outputs": [],
   "source": [
    "testing_list = parser_1.iterate_through_data()"
   ]
  },
  {
   "cell_type": "code",
   "execution_count": null,
   "metadata": {},
   "outputs": [],
   "source": [
    "testing_list[1]"
   ]
  },
  {
   "cell_type": "markdown",
   "metadata": {},
   "source": [
    "###### Vytvoření pole nových objektů typu 'BRRealEstateOffer'\n",
    "\n",
    "---"
   ]
  },
  {
   "cell_type": "code",
   "execution_count": null,
   "metadata": {},
   "outputs": [],
   "source": [
    "class BRRealEstateOfferProcessor:\n",
    "    \"\"\"Process the given attributes and a new object 'BRRealEstateOffer'.\"\"\"\n",
    "    \n",
    "    def __init__(self, parsed_data: List[Dict[str, Union[str, int]]]):\n",
    "        self.offers: list = []\n",
    "        self.parsed_data = parsed_data\n",
    "\n",
    "    def add_offer(self, dict_data: Dict[str, Union[str, int]]) -> None:\n",
    "        self.offers.append(\n",
    "            BRRealEstateOffer(dict_data)\n",
    "        )\n",
    "\n",
    "    def process_offers(self) -> None:\n",
    "        for offer in self.parsed_data:\n",
    "            self.add_offer(offer)"
   ]
  },
  {
   "cell_type": "code",
   "execution_count": null,
   "metadata": {},
   "outputs": [],
   "source": [
    "proc_1 = BRRealEstateOfferProcessor(testing_list)\n",
    "proc_1.process_offers()"
   ]
  },
  {
   "cell_type": "code",
   "execution_count": null,
   "metadata": {},
   "outputs": [],
   "source": [
    "proc_1.offers[11].full_description()"
   ]
  },
  {
   "cell_type": "markdown",
   "metadata": {},
   "source": [
    "###### Úkol A\n",
    "\n",
    "---\n",
    "\n",
    "Zapiš si třídy a jejich instance z předchozí sekce do jednoho spustitelného modulu.\n",
    "\n",
    "<br>\n",
    "\n",
    "Příklad spuštění v příkazovém řádku:\n",
    "```\n",
    ">>> from bezrealitky.collector import run_collector\n",
    ">>> offers = run_collector()\n",
    ">>> offers[0]\n",
    "https://www.bezrealitky.cz/nemovitosti-byty-domy/695659-nabidka-prodej-garaze-stechovicka-hlavni-mesto-praha\n",
    "```"
   ]
  },
  {
   "cell_type": "markdown",
   "metadata": {},
   "source": [
    "<br>\n",
    "\n",
    "### Analýza data, pandas\n",
    "\n",
    "---\n",
    "\n",
    "<br>\n",
    "\n",
    "###### Úvod k frameworku\n",
    "\n",
    "---\n",
    "Obecný popisek [zde](https://pypi.org/project/pandas/)\n",
    "\n",
    "<br>\n",
    "\n",
    "Nahrátí knihovny:"
   ]
  },
  {
   "cell_type": "code",
   "execution_count": null,
   "metadata": {},
   "outputs": [],
   "source": [
    "import pandas\n",
    "# import pandas as pd\n",
    "# from pandas import DataFrame"
   ]
  },
  {
   "cell_type": "markdown",
   "metadata": {},
   "source": [
    "<br>\n",
    "\n",
    "Vytvoření `DataFrame`:"
   ]
  },
  {
   "cell_type": "code",
   "execution_count": null,
   "metadata": {},
   "outputs": [],
   "source": [
    "br_dataframe: pandas.core.frame.DataFrame = pandas.DataFrame(testing_list)"
   ]
  },
  {
   "cell_type": "markdown",
   "metadata": {},
   "source": [
    "<br>\n",
    "\n",
    "###### Zobrazení údajů\n",
    "\n",
    "---"
   ]
  },
  {
   "cell_type": "code",
   "execution_count": null,
   "metadata": {},
   "outputs": [],
   "source": [
    "br_dataframe.head()      # 5 prvních údajů"
   ]
  },
  {
   "cell_type": "code",
   "execution_count": null,
   "metadata": {},
   "outputs": [],
   "source": [
    "br_dataframe.describe()  # základní statistika"
   ]
  },
  {
   "cell_type": "markdown",
   "metadata": {},
   "source": [
    "<br>\n",
    "\n",
    "###### Výběr sloupce & seřazení\n",
    "\n",
    "---"
   ]
  },
  {
   "cell_type": "code",
   "execution_count": null,
   "metadata": {},
   "outputs": [],
   "source": [
    "br_dataframe.loc[:6, [\"price\", \"currency\", \"surface\"]]  # selekce řádků a sloupců (list)"
   ]
  },
  {
   "cell_type": "code",
   "execution_count": null,
   "metadata": {},
   "outputs": [],
   "source": [
    "br_dataframe.iloc[:10, 1:5]                             # selekce řádků a sloupců (rozsah)"
   ]
  },
  {
   "cell_type": "code",
   "execution_count": null,
   "metadata": {},
   "outputs": [],
   "source": [
    "br_dataframe.rename(columns={\"surface\": \"surface[m2]\"}, inplace=True)"
   ]
  },
  {
   "cell_type": "code",
   "execution_count": null,
   "metadata": {
    "scrolled": true
   },
   "outputs": [],
   "source": [
    "br_dataframe.sort_values(by=[\"price\"], ascending=False)  # seřaď podle nejvyšší ceny"
   ]
  },
  {
   "cell_type": "code",
   "execution_count": null,
   "metadata": {},
   "outputs": [],
   "source": [
    "pandas.set_option('display.max_colwidth', 150)           # nastav šířku buněk"
   ]
  },
  {
   "cell_type": "markdown",
   "metadata": {},
   "source": [
    "###### Nové sloupečky\n",
    "\n",
    "---"
   ]
  },
  {
   "cell_type": "code",
   "execution_count": null,
   "metadata": {},
   "outputs": [],
   "source": [
    "br_dataframe[\"type_upper\"] = [offer.upper() for offer in br_dataframe[\"keyEstateType\"]]"
   ]
  },
  {
   "cell_type": "code",
   "execution_count": null,
   "metadata": {},
   "outputs": [],
   "source": [
    "br_dataframe.head()"
   ]
  },
  {
   "cell_type": "code",
   "execution_count": null,
   "metadata": {},
   "outputs": [],
   "source": [
    "br_dataframe.drop(\"type_upper\", axis=1, inplace=True)"
   ]
  },
  {
   "cell_type": "code",
   "execution_count": null,
   "metadata": {},
   "outputs": [],
   "source": [
    "br_dataframe.head()"
   ]
  },
  {
   "cell_type": "markdown",
   "metadata": {},
   "source": [
    "<br>\n",
    "\n",
    "###### Naformátuj mi cenu na čitelnější hodnotu a ulož do nového sloupce\n",
    "\n",
    "---"
   ]
  },
  {
   "cell_type": "code",
   "execution_count": null,
   "metadata": {},
   "outputs": [],
   "source": [
    "br_dataframe[\"formatted_price\"] = [f\"{price:.2f} mil.\" for price in br_dataframe['price'] / 1000000]"
   ]
  },
  {
   "cell_type": "code",
   "execution_count": null,
   "metadata": {},
   "outputs": [],
   "source": [
    "br_dataframe.head()"
   ]
  },
  {
   "cell_type": "markdown",
   "metadata": {},
   "source": [
    "\n",
    "###### Vypiš všechny typy nabídek nemovitostí (unikátní hodnoty) a jejich výskyt\n",
    "\n",
    "---"
   ]
  },
  {
   "cell_type": "code",
   "execution_count": null,
   "metadata": {},
   "outputs": [],
   "source": [
    "br_dataframe[\"keyEstateType\"].unique()"
   ]
  },
  {
   "cell_type": "code",
   "execution_count": null,
   "metadata": {},
   "outputs": [],
   "source": [
    "for estate_type in br_dataframe[\"keyEstateType\"].unique():\n",
    "    print(f\"TYPE: {estate_type:^16}; \\\n",
    "COUNT: {br_dataframe['keyEstateType'].eq(estate_type).sum()}\"\n",
    "    )"
   ]
  },
  {
   "cell_type": "code",
   "execution_count": null,
   "metadata": {},
   "outputs": [],
   "source": [
    "br_dataframe['keyEstateType'].eq('kancelar').sum()"
   ]
  },
  {
   "cell_type": "code",
   "execution_count": null,
   "metadata": {},
   "outputs": [],
   "source": [
    "estate_type = pandas.Series(br_dataframe[\"keyEstateType\"])"
   ]
  },
  {
   "cell_type": "code",
   "execution_count": null,
   "metadata": {},
   "outputs": [],
   "source": [
    "estate_type"
   ]
  },
  {
   "cell_type": "code",
   "execution_count": null,
   "metadata": {},
   "outputs": [],
   "source": [
    "estate_type.unique()"
   ]
  },
  {
   "cell_type": "markdown",
   "metadata": {},
   "source": [
    "\n",
    "###### Vypiš mi nejdražší a nejlevnější nemovitost\n",
    "\n",
    "---\n",
    "\n",
    "<br>\n",
    "\n",
    "Přilož detail z odkazem, ať můžeš nabídku zkontrolovat:"
   ]
  },
  {
   "cell_type": "code",
   "execution_count": null,
   "metadata": {
    "scrolled": true
   },
   "outputs": [],
   "source": [
    "br_dataframe[\"price\"].max()                             # max. hodnota\n",
    "# br_dataframe[br_dataframe[\"price\"] == 0].url          # řádky s hodnotou = 0\n",
    "# br_dataframe[br_dataframe[\"price\"] > 40_000_000].url  # řádky s hodnotou > 40 M"
   ]
  },
  {
   "cell_type": "markdown",
   "metadata": {},
   "source": [
    "\n",
    "###### Vytvoř sloupec, který bude obsahovat skutečnou adresu (podle GPS)\n",
    "\n",
    "---\n",
    "\n",
    "<br>\n",
    "\n",
    "Doplň sloupec do DataFramu, který bude obsahovat celou dostupnou adresu:"
   ]
  },
  {
   "cell_type": "code",
   "execution_count": null,
   "metadata": {
    "scrolled": true
   },
   "outputs": [],
   "source": [
    "br_dataframe.head()"
   ]
  },
  {
   "cell_type": "code",
   "execution_count": null,
   "metadata": {},
   "outputs": [],
   "source": [
    "def replace_gps(gps: str) -> str:\n",
    "    \"\"\"Find the address with the gps coordinates.\"\"\"\n",
    "    lat, lng = json.loads(gps).values()\n",
    "    join_coords = \", \".join((str(lat), str(lng)))  # \"50.25, 14.51\"\n",
    "    geolocator = Nominatim(\n",
    "        user_agent=\"gps_convertor\"\n",
    "    )\n",
    "        \n",
    "    return geolocator.reverse(join_coords).address\n",
    "\n",
    "address = replace_gps('{\"lat\":50.25203579999999,\"lng\":14.5187024}')"
   ]
  },
  {
   "cell_type": "code",
   "execution_count": null,
   "metadata": {},
   "outputs": [],
   "source": [
    "address"
   ]
  },
  {
   "cell_type": "markdown",
   "metadata": {},
   "source": [
    "###### Úkol B\n",
    "\n",
    "---\n",
    "1. Zjistit typy nabízených nemovitostí & jejich výskyt, nejvyšší & nejnižší ceny,\n",
    "\n",
    "<br>\n",
    "\n",
    "2. Zkus přidat nový sloupeček `formatted_price`, který bude obsahovat naformátovanou cenu<br>\n",
    "    ```int64: 2980000 -> object: 2.98```\n",
    "\n",
    "<br>\n",
    "\n",
    "3. Zkus přidat nový sloupeček `full_address`, kde předáš DataFramu skutečnou adresu, na základě GPS."
   ]
  },
  {
   "cell_type": "markdown",
   "metadata": {},
   "source": [
    "<br>\n",
    "\n",
    "### Uložení dat, sqlite3,\n",
    "\n",
    "---\n",
    "\n",
    "<br>\n",
    "\n",
    "###### Úvod do SQL\n",
    "\n",
    "---\n",
    "\n",
    "Oficiální dokumentace pro SQLite [zde](https://sqlite.org/docs.html).\n",
    "\n",
    "<br>\n",
    "\n",
    "**Ano**:\n",
    "- jednoduché, inituitivní,\n",
    "- zdarma (většinou),\n",
    "- *serverless* řešení,\n",
    "- `null`, `integer`, `text`, `real`,\n",
    "\n",
    "**Ne**:\n",
    "- neefektivní práce s většími daty (1TB+ ukládat na centralizované db),\n",
    "- umožňuje, aby v daném okamžiku proběhla pouze jedna operace zápisu ,\n",
    "\n",
    "<br>\n",
    "\n",
    "\n",
    "\n",
    "###### Zápis do testovací databáze\n",
    "\n",
    "---"
   ]
  },
  {
   "cell_type": "code",
   "execution_count": null,
   "metadata": {},
   "outputs": [],
   "source": [
    "!ls -l"
   ]
  },
  {
   "cell_type": "code",
   "execution_count": null,
   "metadata": {},
   "outputs": [],
   "source": [
    "import sqlite3"
   ]
  },
  {
   "cell_type": "code",
   "execution_count": null,
   "metadata": {},
   "outputs": [],
   "source": [
    "# zajistím spojení s novým objektem db\n",
    "con = sqlite3.connect('testing_db.db')"
   ]
  },
  {
   "cell_type": "code",
   "execution_count": null,
   "metadata": {},
   "outputs": [],
   "source": [
    "# vytvořím objekt kurzoru, skrze který provádím jednotlivé dotazy\n",
    "cur = con.cursor()"
   ]
  },
  {
   "cell_type": "code",
   "execution_count": null,
   "metadata": {},
   "outputs": [],
   "source": [
    "# vytvořím novou testovací tabulku, v případě že žádná neexistuje\n",
    "cur.execute('''\n",
    "CREATE TABLE IF NOT EXISTS example (\n",
    "id INTEGER PRIMARY KEY,\n",
    "name TEXT,\n",
    "email TEXT)\n",
    "''')"
   ]
  },
  {
   "cell_type": "code",
   "execution_count": null,
   "metadata": {},
   "outputs": [],
   "source": [
    "# Vložím tři různé řádky\n",
    "cur.execute(\"INSERT INTO example VALUES (NULL,'Matous','matous@matous.cz')\")\n",
    "cur.execute(\"INSERT INTO example VALUES (NULL,'Petr','petr@metr.cz')\")\n",
    "cur.execute(\"INSERT INTO example VALUES (NULL,'Lukas','luki@puky.cz')\")\n",
    "\n",
    "# commitnu změny do tabulky\n",
    "con.commit()\n",
    "\n",
    "# ukončím spojení\n",
    "con.close()"
   ]
  },
  {
   "cell_type": "code",
   "execution_count": null,
   "metadata": {},
   "outputs": [],
   "source": [
    "!ls -l"
   ]
  },
  {
   "cell_type": "markdown",
   "metadata": {},
   "source": [
    "###### Zápis pomocí sqlite\n",
    "\n",
    "---"
   ]
  },
  {
   "cell_type": "code",
   "execution_count": null,
   "metadata": {},
   "outputs": [],
   "source": [
    "# zajistím spojení s novým objektem db\n",
    "con = sqlite3.connect('testing_db.db')\n",
    "cur = con.cursor()\n",
    "\n",
    "sl_ = {\n",
    "    \"name\": \"Marek\",\n",
    "    \"email\": \"marek.parek@email.cz\"\n",
    "}\n",
    "\n",
    "cur.execute(f\"\"\"INSERT INTO example ({','.join(sl_.keys())}) \\\n",
    "            VALUES ({','.join(['?'] * len(sl_))})\"\"\", tuple(sl_.values()))\n",
    "# 'INSERT INTO example (name,email) VALUES (?,?)', (\"Marek\",\"marek.parek@email.cz\")\n",
    "\n",
    "con.commit()\n",
    "\n",
    "# ukončím spojení\n",
    "con.close()"
   ]
  },
  {
   "cell_type": "markdown",
   "metadata": {},
   "source": [
    "###### Čtení hodnot v existující DB\n",
    "\n",
    "---"
   ]
  },
  {
   "cell_type": "code",
   "execution_count": null,
   "metadata": {},
   "outputs": [],
   "source": [
    "con = sqlite3.connect('testing_db.db')\n",
    "cur = con.cursor()\n",
    "\n",
    "# označím všechny sloupce v  tabulce 'testing_db.sql'\n",
    "cur.execute(\"SELECT * FROM example\")\n",
    "\n",
    "# nainicializuji je do proměnné 'data'\n",
    "data = cur.fetchall()\n",
    "\n",
    "# vypisuji řádek po řádku pomocí iterování skrze objekt\n",
    "for row in data:\n",
    "    print(row)\n",
    "\n",
    "con.close()"
   ]
  },
  {
   "cell_type": "markdown",
   "metadata": {},
   "source": [
    "###### Context manager\n",
    "\n",
    "---"
   ]
  },
  {
   "cell_type": "code",
   "execution_count": null,
   "metadata": {
    "scrolled": true
   },
   "outputs": [],
   "source": [
    "with sqlite3.connect('testing_db.db') as con:\n",
    "    cur = con.cursor()\n",
    "    \n",
    "    cur.execute(\"SELECT * FROM example\")\n",
    "    data = cur.fetchall()\n",
    "\n",
    "    for row in data:\n",
    "        print(row)"
   ]
  },
  {
   "cell_type": "markdown",
   "metadata": {},
   "source": [
    "###### Zápis hodnot z DataFramu do nové tabulky\n",
    "\n",
    "---"
   ]
  },
  {
   "cell_type": "code",
   "execution_count": null,
   "metadata": {},
   "outputs": [],
   "source": [
    "with sqlite3.connect('br_offers.db') as con:\n",
    "    cur = con.cursor()\n",
    "    cur.execute(\"\"\"\n",
    "    CREATE TABLE IF NOT EXISTS offers (\n",
    "    id INTEGER PRIMARY KEY,\n",
    "    url TEXT,\n",
    "    gps TEXT,\n",
    "    price INTEGER,\n",
    "    currency TEXT,\n",
    "    keyOfferType TEXT,\n",
    "    keyEstateType TEXT,\n",
    "    keyDisposition TEXT,\n",
    "    surface INTEGER,\n",
    "    surfaceLand INTEGER,\n",
    "    offer_id INTEGER,\n",
    "    formatted_price TEXT,\n",
    "    full_address TEXT\n",
    "    )\n",
    "    \"\"\"\n",
    "    )\n",
    "\n",
    "    con.commit()\n",
    "\n",
    "    br_dataframe.to_sql(\n",
    "        'offers', con, if_exists='replace',\n",
    "        index=True,\n",
    "    )"
   ]
  },
  {
   "cell_type": "markdown",
   "metadata": {},
   "source": [
    "###### Úkol C\n",
    "\n",
    "---\n",
    "\n",
    "Zkus zapsat získaná data pomocí objektu v Pythonu jako databázový systém."
   ]
  },
  {
   "cell_type": "markdown",
   "metadata": {},
   "source": [
    "<br>\n",
    "\n",
    "### Intepretace pomocí webového frameworku\n",
    "\n",
    "---\n",
    "\n",
    "<br>\n",
    "\n",
    "###### Úvod do webového frameworku\n",
    "\n",
    "---\n",
    "\n",
    "Dokumentaci lze najít [zde](https://flask.palletsprojects.com/en/2.0.x/)\n",
    "\n",
    "<br>\n",
    "\n"
   ]
  },
  {
   "cell_type": "markdown",
   "metadata": {},
   "source": [
    "###### Hlavní stránka\n",
    "\n",
    "---\n",
    "\n",
    "Výstup:\n",
    "```\n",
    "Ahoj, na moji hlavni strance!\n",
    "```"
   ]
  },
  {
   "cell_type": "code",
   "execution_count": null,
   "metadata": {},
   "outputs": [],
   "source": [
    "# flask_app.py bez .html\n",
    "from flask import Flask  # naimportuj třídu 'Flask'\n",
    "\n",
    "app = Flask(__name__)    # vytvoříme instanci se jménem akt. souboru \n",
    "\n",
    "@app.route(\"/\")          # pomocí dekorátoru vytvořím cílové url\n",
    "def main_page():         # funkce pro úvodní stránku\n",
    "    return \"<p>Ahoj, na moji hlavni strance</p>\"\n",
    "\n",
    "# if __name__ == \"__main__\":\n",
    "#     app.run()"
   ]
  },
  {
   "cell_type": "code",
   "execution_count": null,
   "metadata": {},
   "outputs": [],
   "source": [
    "# flask_app.py s templates/main_page.html\n",
    "from flask import Flask, render_template\n",
    "\n",
    "app = Flask(__name__)\n",
    "\n",
    "\n",
    "@app.route(\"/\")\n",
    "def main_page():\n",
    "    return render_template(\"main_page.html\")\n",
    "\n",
    "\n",
    "# if __name__ == \"__main__\":\n",
    "#     app.run(debug=True)    # po každé úpravě dojde na refresh"
   ]
  },
  {
   "cell_type": "markdown",
   "metadata": {},
   "source": [
    "###### HTML main_page\n",
    "\n",
    "---\n",
    "```html\n",
    "<!-- main_page.html -->\n",
    "<html>\n",
    "  <head>\n",
    "    <title>Main page</title>\n",
    "    <link rel=\"stylesheet\" href=\"https://stackpath.bootstrapcdn.com/bootstrap/4.3.1/css/bootstrap.min.css\" integrity=\"sha384-ggOyR0iXCbMQv3Xipma34MD+dH/1fQ784/j6cY/iJTQUOhcWr7x9JvoRxT2MZw1T\" crossorigin=\"anonymous\">\n",
    "  </head>\n",
    "<body>\n",
    "    <div class=\"row-3\" id=\"br_offers\">\n",
    "      <div class=\"row 4\">\n",
    "        <h1 id=\"title\">Ahoj na mojí hlavní stránce!</h1>\n",
    "      </div>\n",
    "    </div>\n",
    "</body\n",
    "```"
   ]
  },
  {
   "cell_type": "markdown",
   "metadata": {},
   "source": [
    "###### Stránka s výsledky\n",
    "\n",
    "---"
   ]
  },
  {
   "cell_type": "code",
   "execution_count": null,
   "metadata": {},
   "outputs": [],
   "source": [
    "# main_page.py\n",
    "import os\n",
    "import sqlite3\n",
    "\n",
    "from flask import Flask, render_template, request\n",
    "\n",
    "app = Flask(__name__)\n",
    "\n",
    "\n",
    "@app.route(\"/\")\n",
    "def main_page():\n",
    "    return render_template(\"main_page.html\")\n",
    "\n",
    "\n",
    "@app.route(\"/results\")\n",
    "def results():\n",
    "    with sqlite3.connect(\"01_testing.db\") as con:\n",
    "        cur = con.cursor()\n",
    "\n",
    "        cur.execute(\"SELECT * FROM example\")\n",
    "        data = cur.fetchall()\n",
    "\n",
    "    return render_template(\"results.html\", result=data)"
   ]
  },
  {
   "cell_type": "markdown",
   "metadata": {},
   "source": [
    "###### HTML results.html\n",
    "---\n",
    "\n",
    "Výstup:\n",
    "```\n",
    "(1, 'Matous', 'matous@matous.cz')\n",
    "(2, 'Petr', 'petr@metr.cz')\n",
    "(3, 'Lukas', 'luki@puky.cz')\n",
    "(4, 'Marek', 'marek.parek@email.cz')\n",
    "```\n",
    "\n",
    "\n",
    "<br>\n",
    "\n",
    "```html\n",
    "<!-- results.html -->\n",
    "<html>\n",
    "  <head>\n",
    "    <title>Results</title>\n",
    "    <link rel=\"stylesheet\" href=\"https://stackpath.bootstrapcdn.com/bootstrap/4.3.1/css/bootstrap.min.css\" integrity=\"sha384-ggOyR0iXCbMQv3Xipma34MD+dH/1fQ784/j6cY/iJTQUOhcWr7x9JvoRxT2MZw1T\" crossorigin=\"anonymous\">\n",
    "  </head>\n",
    "<body>\n",
    "    <div class=\"container\" id=\"results\">\n",
    "\n",
    "      <div class=\"row 4\">\n",
    "        <h1 id=\"title\">Výsledky</h1>\n",
    "      </div>\n",
    "\n",
    "      <div class=\"row 3\">\n",
    "        <table id=\"ner-table\" data-test-id=\"ner-table\" class=\"table table-bordered\">\n",
    "          <thead class=\"thead-dark\">\n",
    "            <tr>\n",
    "              <th>id</th>\n",
    "              <th>jmeno</th>\n",
    "              <th>email</th>\n",
    "            </tr>\n",
    "          </thead>\n",
    "          <tbody>\n",
    "            {% for row in result %}\n",
    "            <tr>\n",
    "                <td>{{ row }}</td>\n",
    "            </tr>\n",
    "            {% endfor %}\n",
    "          </tbody>\n",
    "        </table>\n",
    "      </div>\n",
    "    </div>\n",
    "  </body>\n",
    "</html>\n",
    "```\n"
   ]
  },
  {
   "cell_type": "markdown",
   "metadata": {},
   "source": [
    "###### Doplníme indexy\n",
    "\n",
    "---\n",
    "\n",
    "Výstup:\n",
    "```\n",
    "1 \tMatous \tmatous@matous.cz\n",
    "2 \tPetr \tpetr@metr.cz\n",
    "3 \tLukas \tluki@puky.cz\n",
    "4 \tMarek \tmarek.parek@email.cz\n",
    "```\n",
    "\n",
    "<br>\n",
    "\n",
    "```html\n",
    "          <thead class=\"thead-dark\">\n",
    "            <tr>\n",
    "              <th>id</th>\n",
    "              <th>jmeno</th>\n",
    "              <th>email</th>\n",
    "            </tr>\n",
    "          </thead>\n",
    "          <tbody>\n",
    "            {% for row in result %}\n",
    "            <tr>\n",
    "                <td>{{ row[0] }}</td>\n",
    "                <td>{{ row[1] }}</td>\n",
    "                <td>{{ row[2] }}</td>\n",
    "            </tr>\n",
    "            {% endfor %}\n",
    "          </tbody>\n",
    "```"
   ]
  },
  {
   "cell_type": "markdown",
   "metadata": {},
   "source": [
    "```html\n",
    "<html>\n",
    "  <head>\n",
    "    <title>Results</title>\n",
    "    <link rel=\"stylesheet\" href=\"https://stackpath.bootstrapcdn.com/bootstrap/4.3.1/css/bootstrap.min.css\" integrity=\"sha384-ggOyR0iXCbMQv3Xipma34MD+dH/1fQ784/j6cY/iJTQUOhcWr7x9JvoRxT2MZw1T\" crossorigin=\"anonymous\">\n",
    "  </head>\n",
    "<body>\n",
    "    <div class=\"container p-3\" id=\"app\">\n",
    "\n",
    "      <div class=\"row my-4\">\n",
    "        <h1 id=\"app-title\">Results</h1>\n",
    "      </div>\n",
    "\n",
    "      <div class=\"row my-3\">\n",
    "        <table id=\"ner-table\" data-test-id=\"ner-table\" class=\"table table-bordered\">\n",
    "          <thead class=\"thead-dark\">\n",
    "            <tr>\n",
    "              <th>id</th>\n",
    "              <th>url</th>\n",
    "              <th>price</th>\n",
    "              <th>currency</th>\n",
    "              <th>type</th>\n",
    "              <th>surface</th>\n",
    "            </tr>\n",
    "          </thead>\n",
    "          <tbody>\n",
    "            {% for row in result %}\n",
    "            <tr>\n",
    "                <td>{{ row[10] }}</td>\n",
    "                <td>{{ row[1] }}</td>\n",
    "                <td>{{ row[3] }}</td>\n",
    "                <td>{{ row[4] }}</td>\n",
    "                <td>{{ row[6] }}</td>\n",
    "                <td>{{ row[8] }}</td>\n",
    "            </tr>\n",
    "            {% endfor %}\n",
    "          </tbody>\n",
    "        </table>\n",
    "      </div>\n",
    "    </div>\n",
    "  </body>\n",
    "</html>\n",
    "```"
   ]
  },
  {
   "cell_type": "markdown",
   "metadata": {},
   "source": [
    "###### Úkol D\n",
    "\n",
    "---\n",
    "\n",
    "Zkus zobrazit získaná data pomocí frameworku *Flask* na localhostu. Rozděl jednotlivé údaje do tabulky a vypiš některé hodnoty."
   ]
  },
  {
   "cell_type": "code",
   "execution_count": null,
   "metadata": {},
   "outputs": [],
   "source": [
    "class Trida:\n",
    "    def __init__():\n",
    "    \n",
    "    def neco():"
   ]
  },
  {
   "cell_type": "markdown",
   "metadata": {},
   "source": [
    "---"
   ]
  }
 ],
 "metadata": {
  "kernelspec": {
   "display_name": "projekt04",
   "language": "python",
   "name": "projekt04"
  },
  "language_info": {
   "codemirror_mode": {
    "name": "ipython",
    "version": 3
   },
   "file_extension": ".py",
   "mimetype": "text/x-python",
   "name": "python",
   "nbconvert_exporter": "python",
   "pygments_lexer": "ipython3",
   "version": "3.8.10"
  }
 },
 "nbformat": 4,
 "nbformat_minor": 4
}
