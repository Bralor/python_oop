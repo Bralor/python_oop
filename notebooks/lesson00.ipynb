{
 "cells": [
  {
   "cell_type": "markdown",
   "metadata": {},
   "source": [
    "#### Úvodní sekce, pěkný Python\n",
    "\n",
    "---\n",
    "\n",
    "<br>\n",
    "\n",
    "Pokud už Python chvíli používáš určitě je dobré vyhnout se těmto **nesprávným návykům**.\n",
    "\n",
    "<br>\n",
    "\n",
    "Tvůj program bude fungovat stejně, pokud je použiješ, ale velice často, lze tímto zápisem identifikovat **nezkušeného programátora**.\n",
    "\n",
    "<br>\n",
    "\n",
    "##### Manuální formátování stringů\n",
    "\n",
    "---"
   ]
  },
  {
   "cell_type": "code",
   "execution_count": null,
   "metadata": {},
   "outputs": [],
   "source": [
    "def formatuj_str(jmeno: str, email: str) -> None:\n",
    "    if jmeno == \"Matous\":\n",
    "        print(\"Ahoj, \" + jmeno + \", napisu ti na tvuj skvely mail: \" + email + \"!\")\n",
    "    else:\n",
    "        print(\"Pockat,.. ty nejsi \" + jmeno + \".\")\n",
    "\n",
    "formatuj_str(\"Matous\", \"matous@nic.cz\")"
   ]
  },
  {
   "cell_type": "markdown",
   "metadata": {},
   "source": [
    "<details>\n",
    "    <summary>▶️  Jak to napsat lépe?</summary>\n",
    "\n",
    "```python\n",
    "def formatuj_str(jmeno: str, email: str) -> None:\n",
    "    if jmeno == \"Matous\":\n",
    "        print(f\"Ahoj, {jmeno}, napisu ti na tvuj skvely mail: {email}\")\n",
    "    else:\n",
    "        print(f\"Pockat,.. ty nejsi {jmeno}.\")\n",
    "\n",
    "formatuj_str(\"Matous\", \"matous@nic.cz\")\n",
    "```\n",
    "\n",
    "</details>"
   ]
  },
  {
   "cell_type": "code",
   "execution_count": null,
   "metadata": {},
   "outputs": [],
   "source": [
    "# clean-code\n",
    "def formatuj_str(jmeno: str, email: str) -> None:\n",
    "    if jmeno == \"Matous\":\n",
    "        print(f\"Ahoj, {jmeno}, napisu ti na tvuj skvely mail: {email}\")\n",
    "    else:\n",
    "        print(f\"Pockat,.. ty nejsi {jmeno}.\")\n",
    "\n",
    "formatuj_str(\"Matous\", \"matous@nic.cz\")"
   ]
  },
  {
   "cell_type": "markdown",
   "metadata": {},
   "source": [
    "<br>\n",
    "\n",
    "#### Manuální zavírání souborů\n",
    "\n",
    "---"
   ]
  },
  {
   "cell_type": "code",
   "execution_count": null,
   "metadata": {},
   "outputs": [],
   "source": [
    "def manualni_zavirani_souboru(jmeno_souboru: str) -> None:\n",
    "    txt = open(jmeno_souboru, mode=\"w\")\n",
    "    txt.write(\"Ahoj!\\n\")  # co když nastane chyba?\n",
    "    # ...\n",
    "    txt.close()"
   ]
  },
  {
   "cell_type": "markdown",
   "metadata": {},
   "source": [
    "<details>\n",
    "    <summary>▶️  Jak to napsat lépe?</summary>\n",
    "\n",
    "```python\n",
    "def manualni_zavirani_souboru(jmeno_souboru: str) -> None:\n",
    "    with open(jmeno_souboru, mode=\"w\") as txt:\n",
    "        txt.write(\"Ahoj!\\n\")\n",
    "```\n",
    "\n",
    "</details>"
   ]
  },
  {
   "cell_type": "code",
   "execution_count": null,
   "metadata": {
    "scrolled": true
   },
   "outputs": [],
   "source": [
    "# clean-code\n",
    "def manualni_zavirani_souboru(jmeno_souboru: str) -> None:\n",
    "    with open(jmeno_souboru, mode=\"w\") as txt:\n",
    "        txt.write(\"Ahoj!\\n\")"
   ]
  },
  {
   "cell_type": "markdown",
   "metadata": {},
   "source": [
    "<br>\n",
    "\n",
    "#### Inicializace a zavírání\n",
    "\n",
    "---"
   ]
  },
  {
   "cell_type": "code",
   "execution_count": null,
   "metadata": {},
   "outputs": [],
   "source": [
    "def otevri_novou_session():\n",
    "    s = requests.Session()\n",
    "    # ...\n",
    "    s.close()"
   ]
  },
  {
   "cell_type": "markdown",
   "metadata": {},
   "source": [
    "<details>\n",
    "    <summary>▶️  Jak to napsat lépe?</summary>\n",
    "\n",
    "```python\n",
    "def otevri_novou_session():\n",
    "    with requests.Session() as s:\n",
    "        # ...\n",
    "```\n",
    "\n",
    "</details>"
   ]
  },
  {
   "cell_type": "code",
   "execution_count": null,
   "metadata": {},
   "outputs": [],
   "source": [
    "def otevri_zavri_z_jinych_jazyku(host: str, port: int) -> None:\n",
    "    s = socket.socket(socket.AF_INET, socket.SOCK_STREAM)\n",
    "    try:\n",
    "        s.connect((host, port))\n",
    "        s.sendall(b\"Ahoj, vsem v mistnosti\")\n",
    "    finally:\n",
    "        s.close()"
   ]
  },
  {
   "cell_type": "markdown",
   "metadata": {},
   "source": [
    "<details>\n",
    "    <summary>▶️  Jak to napsat lépe?</summary>\n",
    "\n",
    "```python\n",
    "def neznalost_ucelu_kont_manazeru(host: str, port: int) -> None:\n",
    "    with socket.socket(socket.AF_INET, socket.SOCK_STREAM) as s:\n",
    "        s.connect((host, port))\n",
    "        s.sendall(b\"Ahoj, vsem v mistnosti\")\n",
    "```\n",
    "\n",
    "</details>"
   ]
  },
  {
   "cell_type": "markdown",
   "metadata": {},
   "source": [
    "<br>\n",
    "\n",
    "#### Nespecifikování klauzule výjimek\n",
    "\n",
    "---"
   ]
  },
  {
   "cell_type": "code",
   "execution_count": null,
   "metadata": {},
   "outputs": [],
   "source": [
    "def kdepak_je_vyjimka() -> None:\n",
    "    while True:\n",
    "        try:\n",
    "            number = input(\"Vloz cislo:\")\n",
    "            change_type = int(number)\n",
    "            break\n",
    "        except:\n",
    "            print(\"Neni cislo, zkus znovu!\")"
   ]
  },
  {
   "cell_type": "markdown",
   "metadata": {},
   "source": [
    "<details>\n",
    "    <summary>▶️  Jak to napsat lépe?</summary>\n",
    "\n",
    "```python\n",
    "def cista_klauzule_except() -> None:\n",
    "    while True:\n",
    "        try:\n",
    "            number = input(\"Vloz cislo:\")\n",
    "            change_type = int(number)\n",
    "            break\n",
    "        except Exception:\n",
    "            print(\"Neni cislo, zkus znovu!\")\n",
    "```\n",
    "\n",
    "</details>"
   ]
  },
  {
   "cell_type": "code",
   "execution_count": null,
   "metadata": {},
   "outputs": [],
   "source": [
    "# lazy solution\n",
    "def cista_klauzule_except() -> None:\n",
    "    while True:\n",
    "        try:\n",
    "            number = input(\"Vloz cislo:\")\n",
    "            change_type = int(number)\n",
    "            break\n",
    "        except Exception:\n",
    "            print(\"Neni cislo, zkus znovu!\")"
   ]
  },
  {
   "cell_type": "code",
   "execution_count": null,
   "metadata": {},
   "outputs": [],
   "source": [
    "# better solution\n",
    "def cista_klauzule_except() -> None:\n",
    "    while True:\n",
    "        try:\n",
    "            number = input(\"Vloz cislo:\")\n",
    "            change_type = int(number)\n",
    "            break\n",
    "        except ValueError:\n",
    "            print(\"Neni cislo, zkus znovu!\")"
   ]
  },
  {
   "cell_type": "markdown",
   "metadata": {},
   "source": [
    "<br>\n",
    "\n",
    "#### Změnitelný defaultní argument\n",
    "\n",
    "---"
   ]
  },
  {
   "cell_type": "code",
   "execution_count": null,
   "metadata": {},
   "outputs": [],
   "source": [
    "def defaultni_argument_list(val: int, res: list = []) -> list:\n",
    "    res.append(val)\n",
    "    return res\n",
    "\n",
    "# res_1 = defaultni_argument_list(11)  # -> [11]\n",
    "# res_2 = defaultni_argument_list(13)  # -> [11, 13]"
   ]
  },
  {
   "cell_type": "markdown",
   "metadata": {},
   "source": [
    "<details>\n",
    "    <summary>▶️  Jak to napsat lépe?</summary>\n",
    "\n",
    "```python\n",
    "def mutable_defaultni_argument(val: int, res=None) -> list:\n",
    "    if res is None:\n",
    "        res = []\n",
    "    res.append(val)\n",
    "    return res\n",
    "```\n",
    "\n",
    "</details>"
   ]
  },
  {
   "cell_type": "code",
   "execution_count": null,
   "metadata": {},
   "outputs": [],
   "source": [
    "# clean code\n",
    "def mutable_defaultni_argument(val: int, res=None) -> list:\n",
    "    if res is None:\n",
    "        res = []\n",
    "\n",
    "    res.append(val)\n",
    "    return res"
   ]
  },
  {
   "cell_type": "markdown",
   "metadata": {},
   "source": [
    "<br>\n",
    "\n",
    "#### Ignorování comprehensions\n",
    "\n",
    "---"
   ]
  },
  {
   "cell_type": "code",
   "execution_count": null,
   "metadata": {},
   "outputs": [],
   "source": [
    "def nepouzivani_komprehenci() -> None:\n",
    "    umocnene = {}\n",
    "    \n",
    "    for num in range(10):\n",
    "        umocnene[num] = num ** 3"
   ]
  },
  {
   "cell_type": "markdown",
   "metadata": {},
   "source": [
    "<details>\n",
    "    <summary>▶️  Jak to napsat lépe?</summary>\n",
    "\n",
    "```python\n",
    "def nepouzivam_komprehence():\n",
    "    sl_kompr = {num: num ** 2 for num in range(10)}\n",
    "    sezn_kompr = [num ** 2 for num in range(10)]\n",
    "    set_kompr = {num ** 2 for num in range(10)}\n",
    "    generator = (num ** 2 for num in range(10))\n",
    "```\n",
    "\n",
    "</details>"
   ]
  },
  {
   "cell_type": "code",
   "execution_count": null,
   "metadata": {},
   "outputs": [],
   "source": [
    "# clean-code"
   ]
  },
  {
   "cell_type": "markdown",
   "metadata": {},
   "source": [
    "<br>\n",
    "\n",
    "#### Overusing\n",
    "\n",
    "---"
   ]
  },
  {
   "cell_type": "code",
   "execution_count": null,
   "metadata": {},
   "outputs": [],
   "source": [
    "def porad_komprehence(m: int, n: int, x: int) -> list:\n",
    "    return [\n",
    "        sum(m * 10 * k + j - i + n for i in range(x))\n",
    "        for k in range(x)\n",
    "        for j in range(x)\n",
    "    ]\n",
    "\n",
    "# porad_komprehence(1, 2, 5)"
   ]
  },
  {
   "cell_type": "markdown",
   "metadata": {},
   "source": [
    "<details>\n",
    "    <summary>▶️  Jak to napsat lépe?</summary>\n",
    "\n",
    "```python\n",
    "def porad_komprehence(m: int, n: int, x: int) -> list:\n",
    "    result: list = []\n",
    "\n",
    "    for k in range(x):\n",
    "        for j in range(x):\n",
    "            partial = sum(m * 10 * k + j - i + n for i in range(x))\n",
    "            result.append(partial)\n",
    "\n",
    "    return result\n",
    "\n",
    "porad_komprehence(1, 2, 5)\n",
    "```\n",
    "\n",
    "</details>"
   ]
  },
  {
   "cell_type": "code",
   "execution_count": null,
   "metadata": {},
   "outputs": [],
   "source": [
    "# clean-code"
   ]
  },
  {
   "cell_type": "markdown",
   "metadata": {},
   "source": [
    "<br>\n",
    "\n",
    "#### Nesprávná kontrola datových typů\n",
    "\n",
    "---"
   ]
  },
  {
   "cell_type": "code",
   "execution_count": null,
   "metadata": {},
   "outputs": [],
   "source": [
    "def nespravna_kontrola(p: tuple) -> None:\n",
    "    if type(p) == tuple:\n",
    "        print(\"Je to tuple!\")\n",
    "    else:\n",
    "        print(\"Neni to tuple!\")"
   ]
  },
  {
   "cell_type": "markdown",
   "metadata": {},
   "source": [
    "<details>\n",
    "    <summary>▶️  Jak to napsat lépe?</summary>\n",
    "\n",
    "```python\n",
    "def nespravna_kontrola(p: tuple) -> None:\n",
    "    if isinstance(p, tuple):\n",
    "        print(\"Je to tuple!\")\n",
    "    else:\n",
    "        print(\"Neni to tuple!\")\n",
    "```\n",
    "\n",
    "</details>"
   ]
  },
  {
   "cell_type": "code",
   "execution_count": null,
   "metadata": {},
   "outputs": [],
   "source": [
    "# clean-code\n",
    "def nespravna_kontrola(p: tuple) -> None:\n",
    "    if isinstance(p, tuple):\n",
    "        print(\"Je to tuple!\")\n",
    "    else:\n",
    "        print(\"Neni to tuple!\")"
   ]
  },
  {
   "cell_type": "markdown",
   "metadata": {},
   "source": [
    "<br>\n",
    "\n",
    "#### Nesprávné porovnávání\n",
    "\n",
    "---"
   ]
  },
  {
   "cell_type": "code",
   "execution_count": 2,
   "metadata": {},
   "outputs": [
    {
     "name": "stdout",
     "output_type": "stream",
     "text": [
      "None\n"
     ]
    }
   ],
   "source": [
    "def nespravne_porovnavani(x) -> None:\n",
    "    if x == None:\n",
    "        pass\n",
    "    \n",
    "    if x == True:\n",
    "        pass\n",
    "    \n",
    "    if x == False:\n",
    "        pass"
   ]
  },
  {
   "cell_type": "markdown",
   "metadata": {},
   "source": [
    "<details>\n",
    "    <summary>▶️  Jak to napsat lépe?</summary>\n",
    "\n",
    "```python\n",
    "def nespravne_porovnavani(x) -> None:\n",
    "    if x is None:\n",
    "        pass\n",
    "    \n",
    "    if x is True:\n",
    "        pass\n",
    "    \n",
    "    if x is False:\n",
    "        pass\n",
    "```\n",
    "\n",
    "</details>"
   ]
  },
  {
   "cell_type": "code",
   "execution_count": null,
   "metadata": {},
   "outputs": [],
   "source": [
    "# clean-code"
   ]
  },
  {
   "cell_type": "markdown",
   "metadata": {},
   "source": [
    "<br>\n",
    "\n",
    "#### Nesprávné kontrolování funkcí\n",
    "\n",
    "---"
   ]
  },
  {
   "cell_type": "code",
   "execution_count": null,
   "metadata": {},
   "outputs": [],
   "source": [
    "def bool_nebo_len(m) -> None:\n",
    "    if bool(m):\n",
    "        pass\n",
    "    \n",
    "    if len(m) != 0:  # [], (), {}, \"\" -> False\n",
    "        pass"
   ]
  },
  {
   "cell_type": "markdown",
   "metadata": {},
   "source": [
    "<details>\n",
    "    <summary>▶️  Jak to napsat lépe?</summary>\n",
    "\n",
    "```python\n",
    "def kontrola_bool_nebo_len(m) -> None:\n",
    "    if m:\n",
    "        pass\n",
    "```\n",
    "\n",
    "</details>"
   ]
  },
  {
   "cell_type": "code",
   "execution_count": null,
   "metadata": {},
   "outputs": [],
   "source": [
    "# clean-code"
   ]
  },
  {
   "cell_type": "markdown",
   "metadata": {},
   "source": [
    "<br>\n",
    "\n",
    "#### Range+len vzor\n",
    "\n",
    "---"
   ]
  },
  {
   "cell_type": "code",
   "execution_count": null,
   "metadata": {},
   "outputs": [],
   "source": [
    "def range_len_vzor():\n",
    "    vzorovy_list = [1, 2, 3]\n",
    "    \n",
    "    for num in range(len(vzorovy_list)):\n",
    "        val = vzorovy_list[num]\n",
    "        # ..."
   ]
  },
  {
   "cell_type": "markdown",
   "metadata": {},
   "source": [
    "<details>\n",
    "    <summary>▶️  Jak to napsat lépe?</summary>\n",
    "\n",
    "```python\n",
    "def range_len_vzor():\n",
    "    vzorovy_list = [1, 2, 3]\n",
    "    \n",
    "    for num in vzorovy_list:\n",
    "        # ...\n",
    "\n",
    "```\n",
    "\n",
    "</details>"
   ]
  },
  {
   "cell_type": "code",
   "execution_count": null,
   "metadata": {},
   "outputs": [],
   "source": [
    "# clean-code"
   ]
  },
  {
   "cell_type": "markdown",
   "metadata": {},
   "source": [
    "<br>\n",
    "\n",
    "#### Range+len vzor, 2\n",
    "\n",
    "---"
   ]
  },
  {
   "cell_type": "code",
   "execution_count": null,
   "metadata": {},
   "outputs": [],
   "source": [
    "def range_len_vzor():\n",
    "    vzorovy_list_1 = [1, 2, 3]\n",
    "    vzorovy_list_2 = [9, 8, 7]\n",
    "    \n",
    "    for num in range(len(vzorovy_list_2)):\n",
    "        vl1 = vzorovy_list_1[num]\n",
    "        vl2 = vzorovy_list_1[num]\n",
    "        pass"
   ]
  },
  {
   "cell_type": "markdown",
   "metadata": {},
   "source": [
    "<details>\n",
    "    <summary>▶️  Jak to napsat lépe?</summary>\n",
    "\n",
    "```python\n",
    "def range_len_vzor():\n",
    "    vzorovy_list_1 = [1, 2, 3]\n",
    "    vzorovy_list_2 = [9, 8, 7]\n",
    "    \n",
    "    for val_1, val_2 in zip(vzorovy_list_1, vzorovy_list_2):\n",
    "        pass\n",
    "```\n",
    "\n",
    "</details>"
   ]
  },
  {
   "cell_type": "code",
   "execution_count": null,
   "metadata": {},
   "outputs": [],
   "source": [
    "# clean-code"
   ]
  },
  {
   "cell_type": "markdown",
   "metadata": {},
   "source": [
    "<br>\n",
    "\n",
    "#### For loop a index\n",
    "\n",
    "---"
   ]
  },
  {
   "cell_type": "code",
   "execution_count": null,
   "metadata": {},
   "outputs": [],
   "source": [
    "def index_a_for_loop():\n",
    "    vzorovy_list = [1, 2, 3]\n",
    "    \n",
    "    i = 0\n",
    "    for num in vzorovy_list:\n",
    "        pass\n",
    "        i += 1"
   ]
  },
  {
   "cell_type": "markdown",
   "metadata": {},
   "source": [
    "<details>\n",
    "    <summary>▶️  Jak to napsat lépe?</summary>\n",
    "\n",
    "```python\n",
    "def index_a_for_loop():\n",
    "    vzorovy_list = [1, 2, 3]\n",
    "\n",
    "    for ind, num in enumerate(vzorovy_list):\n",
    "        pass\n",
    "```\n",
    "\n",
    "</details>"
   ]
  },
  {
   "cell_type": "code",
   "execution_count": null,
   "metadata": {},
   "outputs": [],
   "source": [
    "# clean-code"
   ]
  },
  {
   "cell_type": "markdown",
   "metadata": {},
   "source": [
    "<br>\n",
    "\n",
    "#### Printovat nebo loggovat\n",
    "\n",
    "---"
   ]
  },
  {
   "cell_type": "code",
   "execution_count": null,
   "metadata": {},
   "outputs": [],
   "source": [
    "def print_nebo_logging():\n",
    "    print(\"informace o prubehu..\")\n",
    "    print(\"dalsi podrobne informace..\")\n",
    "    print(\"hups, takhle ne\")"
   ]
  },
  {
   "cell_type": "markdown",
   "metadata": {},
   "source": [
    "<details>\n",
    "    <summary>▶️  Jak to napsat lépe?</summary>\n",
    "\n",
    "```python\n",
    "import logging\n",
    "\n",
    "def print_nebo_logging():\n",
    "    fmt: str = \"[%(levelname)s] %(asctime)s - %(message)s\"\n",
    "    logging.basicConfig(\n",
    "        level=logging.DEBUG,\n",
    "        format=fmt\n",
    "    )\n",
    "    \n",
    "    logging.debug(\"informace o prubehu..\")\n",
    "    logging.info(\"dalsi podrobne informace..\")\n",
    "    logging.error(\"hups, takhle ne\")\n",
    "```\n",
    "\n",
    "</details>"
   ]
  },
  {
   "cell_type": "code",
   "execution_count": null,
   "metadata": {},
   "outputs": [],
   "source": [
    "# clean-code"
   ]
  },
  {
   "cell_type": "markdown",
   "metadata": {},
   "source": [
    "<br>\n",
    "\n",
    "#### Nespojování podmínkových větví\n",
    "\n",
    "---"
   ]
  },
  {
   "cell_type": "code",
   "execution_count": null,
   "metadata": {},
   "outputs": [],
   "source": [
    "def nemergovat_podminkove_vetve(a, b):\n",
    "    if a:\n",
    "        if b:\n",
    "            pass"
   ]
  },
  {
   "cell_type": "markdown",
   "metadata": {},
   "source": [
    "<details>\n",
    "    <summary>▶️  Jak to napsat lépe?</summary>\n",
    "\n",
    "```python\n",
    "def nemergovat_podminkove_vetve(a, b):\n",
    "    if a and b:\n",
    "        pass\n",
    "```\n",
    "\n",
    "</details>"
   ]
  },
  {
   "cell_type": "code",
   "execution_count": null,
   "metadata": {},
   "outputs": [],
   "source": [
    "# clean-code"
   ]
  },
  {
   "cell_type": "markdown",
   "metadata": {},
   "source": [
    "<br>\n",
    "\n",
    "#### Zápis zbytečné proměnné\n",
    "\n",
    "---"
   ]
  },
  {
   "cell_type": "code",
   "execution_count": null,
   "metadata": {},
   "outputs": [],
   "source": [
    "def vytvorim_zbytecnou_promennou() -> dict:\n",
    "    nova_promenna = {\"jmeno\": Matous, \"email\": \"matous@matous.cz\"}\n",
    "    return nova_promenna"
   ]
  },
  {
   "cell_type": "markdown",
   "metadata": {},
   "source": [
    "<details>\n",
    "    <summary>▶️  Jak to napsat lépe?</summary>\n",
    "\n",
    "```python\n",
    "def vytvorim_zbytecnou_promennou() -> dict:\n",
    "    return {\"jmeno\": Matous, \"email\": \"matous@matous.cz\"}\n",
    "```\n",
    "\n",
    "</details>"
   ]
  },
  {
   "cell_type": "code",
   "execution_count": null,
   "metadata": {},
   "outputs": [],
   "source": [
    "# clean-code"
   ]
  },
  {
   "cell_type": "markdown",
   "metadata": {},
   "source": [
    "---"
   ]
  }
 ],
 "metadata": {
  "kernelspec": {
   "display_name": "Python 3",
   "language": "python",
   "name": "python3"
  },
  "language_info": {
   "codemirror_mode": {
    "name": "ipython",
    "version": 3
   },
   "file_extension": ".py",
   "mimetype": "text/x-python",
   "name": "python",
   "nbconvert_exporter": "python",
   "pygments_lexer": "ipython3",
   "version": "3.8.10"
  }
 },
 "nbformat": 4,
 "nbformat_minor": 4
}
