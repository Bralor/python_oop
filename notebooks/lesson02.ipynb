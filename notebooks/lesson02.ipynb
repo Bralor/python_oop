{
 "cells": [
  {
   "cell_type": "markdown",
   "metadata": {},
   "source": [
    "### Další koncepty objektově-orientovaného programování\n",
    "---\n",
    "\n",
    "<br>\n",
    "\n",
    "#### Podtržítka v Pythonu\n",
    "\n",
    "---\n",
    "Podtržítko je **syntaktický znak** v Pythonu, který má nejeden důležitý význam:\n",
    "1. Přeskoč `_`,\n",
    "2. privátní proměnná  `_name`,\n",
    "3. chráněná proměnná `__name`,\n",
    "4. přepis klíčové slovo `class_`,\n",
    "5. magická metoda `__init__`.\n",
    "\n",
    "<br>\n",
    "\n",
    "##### Samotné podtržítko (*skip*)"
   ]
  },
  {
   "cell_type": "code",
   "execution_count": 1,
   "metadata": {},
   "outputs": [
    {
     "name": "stdout",
     "output_type": "stream",
     "text": [
      "Checking logging messages..\n",
      "Checking logging messages..\n",
      "Checking logging messages..\n",
      "Checking logging messages..\n",
      "Checking logging messages..\n"
     ]
    }
   ],
   "source": [
    "import time\n",
    "\n",
    "def check_logging_messages(limit: int) -> None:\n",
    "    \"\"\"Check the current logging messages.\"\"\"\n",
    "    \n",
    "    for sec in range(limit):\n",
    "        print(\"Checking logging messages..\")\n",
    "        time.sleep(1)\n",
    "        \n",
    "check_logging_messages(5)"
   ]
  },
  {
   "cell_type": "markdown",
   "metadata": {},
   "source": [
    "<br>\n",
    "\n",
    "Proměnná `sec`, kterou jsme vytvořili v rámci funkce `check_logging_messages` nemá žádné využití.\n",
    "\n",
    "<br>\n",
    "\n",
    "Proto v Pythonu existuje symbol `_` pro označení **nepoužívané** proměnné:\n",
    "```python\n",
    "    for _ in range(limit):\n",
    "        print(\"Checking logging messages..\")\n",
    "```\n",
    "\n",
    "<br>\n",
    "\n",
    "Případně je možné **přeskakovat** i u *vícenásobného* přiřazování:\n",
    "```python\n",
    "jmeno, domena = \"matous@gmail.com\".split(\"@\")\n",
    "\n",
    "# nepotřebuji proměnnou jméno\n",
    "_, domena = \"matous@gmail.com\".split(\"@\")\n",
    "print(domena)\n",
    "```\n",
    "\n",
    "<br>\n",
    "\n",
    "##### Privátní objekty (*weak private*)\n",
    "\n",
    "Některé jazyky umožňují práci s pomocí **privátních** (soukromých) proměnných (~Java).\n",
    "\n",
    "<br>\n",
    "\n",
    "Python tuto funkcionalitu **nepodporuje**:"
   ]
  },
  {
   "cell_type": "code",
   "execution_count": 2,
   "metadata": {},
   "outputs": [],
   "source": [
    "import time\n",
    "\n",
    "class ProtocolChecker:\n",
    "    \n",
    "    def __init__(self, limit: int, protocol: str):\n",
    "        self._limit = limit\n",
    "        self.protocol = protocol\n",
    "        \n",
    "    def check_protocol(self) -> None:\n",
    "        for _ in range(self._limit):\n",
    "            print(f\"Checking routing protocol:{self.protocol}...\")\n",
    "            time.sleep(1)"
   ]
  },
  {
   "cell_type": "code",
   "execution_count": 3,
   "metadata": {},
   "outputs": [
    {
     "name": "stdout",
     "output_type": "stream",
     "text": [
      "5\n"
     ]
    }
   ],
   "source": [
    "checker = ProtocolChecker(5, \"ospf\")\n",
    "print(checker._limit)"
   ]
  },
  {
   "cell_type": "code",
   "execution_count": 4,
   "metadata": {},
   "outputs": [
    {
     "name": "stdout",
     "output_type": "stream",
     "text": [
      "10\n"
     ]
    }
   ],
   "source": [
    "checker._limit = 10\n",
    "print(checker._limit)"
   ]
  },
  {
   "cell_type": "markdown",
   "metadata": {},
   "source": [
    "<br>\n",
    "\n",
    "Pokud metodu nebo proměnnou označíš pomocí **jednoho podtržítka**, naznačuješ ostatním programátorům, že tento objekt je **interní** a není *DOPORUČENÉ* jej přepisovat.\n",
    "\n",
    "<br>\n",
    "\n",
    "##### Chráněné proměnné (*strong private*)\n",
    "\n",
    "Pomocí **dvou podtržítek** může uživatel definovat **chráněné** proměnné, a tím předejít neúmyslnému přepsání nebo přetypování:"
   ]
  },
  {
   "cell_type": "code",
   "execution_count": 5,
   "metadata": {},
   "outputs": [],
   "source": [
    "import time\n",
    "\n",
    "class ProtocolChecker:\n",
    "    \n",
    "    def __init__(self, limit: int, protocol: str):\n",
    "        self._limit = limit\n",
    "        self.protocol = protocol\n",
    "        \n",
    "    def check_protocol(self) -> None:\n",
    "        for _ in range(self._limit):\n",
    "            print(f\"Checking routing protocol:{self.protocol}...\")\n",
    "            time.sleep(1)"
   ]
  },
  {
   "cell_type": "code",
   "execution_count": 6,
   "metadata": {},
   "outputs": [],
   "source": [
    "checker = ProtocolChecker(5, \"bgp\")"
   ]
  },
  {
   "cell_type": "code",
   "execution_count": 7,
   "metadata": {},
   "outputs": [
    {
     "ename": "AttributeError",
     "evalue": "'ProtocolChecker' object has no attribute '__limit'",
     "output_type": "error",
     "traceback": [
      "\u001b[0;31m---------------------------------------------------------------------------\u001b[0m",
      "\u001b[0;31mAttributeError\u001b[0m                            Traceback (most recent call last)",
      "\u001b[0;32m<ipython-input-7-56f2f98c3cd9>\u001b[0m in \u001b[0;36m<module>\u001b[0;34m\u001b[0m\n\u001b[0;32m----> 1\u001b[0;31m \u001b[0mprint\u001b[0m\u001b[0;34m(\u001b[0m\u001b[0;34mf\"{checker.__limit=}\"\u001b[0m\u001b[0;34m)\u001b[0m\u001b[0;34m\u001b[0m\u001b[0;34m\u001b[0m\u001b[0m\n\u001b[0m",
      "\u001b[0;31mAttributeError\u001b[0m: 'ProtocolChecker' object has no attribute '__limit'"
     ]
    }
   ],
   "source": [
    "print(f\"{checker.__limit=}\")"
   ]
  },
  {
   "cell_type": "code",
   "execution_count": 3,
   "metadata": {},
   "outputs": [
    {
     "name": "stdout",
     "output_type": "stream",
     "text": [
      "{'_ProtocolChecker__limit': 5}\n"
     ]
    }
   ],
   "source": [
    "print(checker.__dict__)"
   ]
  },
  {
   "cell_type": "code",
   "execution_count": 5,
   "metadata": {},
   "outputs": [
    {
     "name": "stdout",
     "output_type": "stream",
     "text": [
      "{'_ProtocolChecker__limit': 10}\n"
     ]
    }
   ],
   "source": [
    "checker._ProtocolChecker__limit = 10\n",
    "print(checker.__dict__)"
   ]
  },
  {
   "cell_type": "markdown",
   "metadata": {},
   "source": [
    "<br>\n",
    "\n",
    "Pomocí metody `__dict__` je možné zjistit, jaké **proměnné** (..a hodnoty) má instance k dispozici a dohledáme přejmenovanou proměnnou.\n",
    "\n",
    "<br>\n",
    "\n",
    "##### Vlastní jméno (*any*)\n",
    "\n",
    "Pokud se ti bude krýt **klíčové slovo** se jménem proměnné, interpret ti bude vracet **syntaktickou výjimku**:"
   ]
  },
  {
   "cell_type": "code",
   "execution_count": 10,
   "metadata": {},
   "outputs": [
    {
     "ename": "SyntaxError",
     "evalue": "invalid syntax (<ipython-input-10-9e5025b3f93d>, line 6)",
     "output_type": "error",
     "traceback": [
      "\u001b[0;36m  File \u001b[0;32m\"<ipython-input-10-9e5025b3f93d>\"\u001b[0;36m, line \u001b[0;32m6\u001b[0m\n\u001b[0;31m    class = Employer(\"Matous\", \"matous@gmail.com\")\u001b[0m\n\u001b[0m          ^\u001b[0m\n\u001b[0;31mSyntaxError\u001b[0m\u001b[0;31m:\u001b[0m invalid syntax\n"
     ]
    }
   ],
   "source": [
    "class Employer:\n",
    "    def __init__(self, name: str, email: str):\n",
    "        self.name = name\n",
    "        self.email = email\n",
    "\n",
    "class = Employer(\"Matous\", \"matous@gmail.com\")  # rezervovaný výraz"
   ]
  },
  {
   "cell_type": "markdown",
   "metadata": {},
   "source": [
    "<br>\n",
    "\n",
    "Pokud tomu chceš zabránit, můžeš použít podtržítko jako příponu za klíčovým výrazem:\n",
    "```python\n",
    "class_ = Employer(\"Matous\", \"matous@gmail.com\")\n",
    "```\n",
    "\n",
    "<br>\n",
    "\n",
    "##### Magické metody (double-underscore methods ~ dunder methods)\n",
    "\n",
    "Magické metody jsou **speciální metody** v Pythonu, na kterých stojí veškerá práce s objekty.\n",
    "\n",
    "<br>\n",
    "\n",
    "Oficiální dokumentace ale není příliš nápomocná a jejich používání není úplně nejčastější (výjimky typu `__init__` aj.)."
   ]
  },
  {
   "cell_type": "markdown",
   "metadata": {},
   "source": [
    "<br>\n",
    "\n",
    "#### Vlastnosti třídy\n",
    "\n",
    "---\n",
    "Kdy a kde používat privátní a chráněné proměnné a proč?\n",
    "\n",
    "<br>\n",
    "\n",
    "Představ si situaci, kdy máš napsat převodník jednotek objemu. Z **litrů** na **pinty**(UK):"
   ]
  },
  {
   "cell_type": "code",
   "execution_count": 8,
   "metadata": {},
   "outputs": [],
   "source": [
    "class LiterConvertor:\n",
    "    def __init__(self, liter: int = 0):\n",
    "        self.liter = liter\n",
    "        self.pint_uk_coef: float = 1.759754\n",
    "        self.to_pints: float = self.liter * self.pint_uk_coef"
   ]
  },
  {
   "cell_type": "code",
   "execution_count": 9,
   "metadata": {},
   "outputs": [
    {
     "name": "stdout",
     "output_type": "stream",
     "text": [
      "bottle_volume.liter=0.75\n"
     ]
    }
   ],
   "source": [
    "bottle_volume = LiterConvertor()\n",
    "bottle_volume.liter = 0.75\n",
    "print(f\"{bottle_volume.liter=}\")"
   ]
  },
  {
   "cell_type": "markdown",
   "metadata": {},
   "source": [
    "<br>\n",
    "\n",
    "Pokud hodnotu nastavíš jako defaultní, s tím že ji budeš měnit později, nastane tato situace:"
   ]
  },
  {
   "cell_type": "code",
   "execution_count": 3,
   "metadata": {},
   "outputs": [
    {
     "name": "stdout",
     "output_type": "stream",
     "text": [
      "bottle_volume.pints_uk=0.0\n"
     ]
    }
   ],
   "source": [
    "print(f\"{bottle_volume.to_pints=}\")"
   ]
  },
  {
   "cell_type": "markdown",
   "metadata": {},
   "source": [
    "<br>\n",
    "\n",
    "Interpret použil pro vytvoření hodnoty v proměnné `bottle_volume.pints_uk` původní **defaultní** hodnotu `0` a na přepsání nereaguje.\n",
    "\n",
    "<br>\n",
    "\n",
    "Celý proces můžeš zkontrolovat magickou metodou `__dict__`:"
   ]
  },
  {
   "cell_type": "code",
   "execution_count": 40,
   "metadata": {},
   "outputs": [
    {
     "name": "stdout",
     "output_type": "stream",
     "text": [
      "{'liter': 0.75, 'pint_uk_coef': 1.759754, 'pints_uk': 0.0}\n"
     ]
    }
   ],
   "source": [
    " print(bottle_volume.__dict__)"
   ]
  },
  {
   "cell_type": "markdown",
   "metadata": {},
   "source": [
    "<br>\n",
    "\n",
    "Kdykoliv se pokusíš tímto způsobem přepsat hodnotu, interpret pracuje stejně jako když přepisuješ hodnotu ve slovníku."
   ]
  },
  {
   "cell_type": "code",
   "execution_count": 6,
   "metadata": {},
   "outputs": [
    {
     "name": "stdout",
     "output_type": "stream",
     "text": [
      "bottle_volume.liter=0.75\n",
      "bottle_volume.__dict__['liter']=0.75\n"
     ]
    }
   ],
   "source": [
    "print(\n",
    "    f\"{bottle_volume.liter=}\",              # instační atribut\n",
    "    f\"{bottle_volume.__dict__['liter']=}\",  # slovníkový výběr podle klíče\n",
    "    sep=\"\\n\"\n",
    ")"
   ]
  },
  {
   "cell_type": "markdown",
   "metadata": {},
   "source": [
    "<br>\n",
    "\n",
    "Programátoři z jiných jazyků, např. Java, by napsali jiné řešení:"
   ]
  },
  {
   "cell_type": "code",
   "execution_count": 10,
   "metadata": {},
   "outputs": [],
   "source": [
    "class LiterConvertor:\n",
    "\n",
    "    def __init__(self, liter: int = 0):\n",
    "        self.set_volume_in_liter(liter)\n",
    "        self.pint_uk_coef: float = 1.759754\n",
    "        \n",
    "    def to_pints(self):\n",
    "        return self._liter * self.pint_uk_coef\n",
    "    \n",
    "    def get_volume_in_liter(self):\n",
    "        return self._liter\n",
    "    \n",
    "    def set_volume_in_liter(self, value: float):\n",
    "        if value < 0:        # doplňující podmínka\n",
    "            raise ValueError(\"Cannot process negative number\")\n",
    "        self._liter = value  # privátní proměnná"
   ]
  },
  {
   "cell_type": "code",
   "execution_count": 13,
   "metadata": {},
   "outputs": [],
   "source": [
    "bottle_volume_1 = LiterConvertor()"
   ]
  },
  {
   "cell_type": "code",
   "execution_count": 14,
   "metadata": {},
   "outputs": [
    {
     "name": "stdout",
     "output_type": "stream",
     "text": [
      "volume.get_volume_in_liter()=0.75\n",
      "volume.to_pints()=1.3198155\n"
     ]
    }
   ],
   "source": [
    "bottle_volume_2 = LiterConvertor(0.75)\n",
    "print(\n",
    "    f\"{volume.get_volume_in_liter()=}\",  # pro hodnotu musím použít metodu\n",
    "    f\"{volume.to_pints()=}\",\n",
    "    sep=\"\\n\"\n",
    ")"
   ]
  },
  {
   "cell_type": "markdown",
   "metadata": {},
   "source": [
    "<br>\n",
    "\n",
    "V tento moment pracujeme s **privátní** proměnnou, tak jak v jiných jazycích."
   ]
  },
  {
   "cell_type": "code",
   "execution_count": 15,
   "metadata": {},
   "outputs": [
    {
     "ename": "ValueError",
     "evalue": "Cannot process negative number",
     "output_type": "error",
     "traceback": [
      "\u001b[0;31m---------------------------------------------------------------------------\u001b[0m",
      "\u001b[0;31mValueError\u001b[0m                                Traceback (most recent call last)",
      "\u001b[0;32m<ipython-input-15-2d575f97a2c7>\u001b[0m in \u001b[0;36m<module>\u001b[0;34m\u001b[0m\n\u001b[0;32m----> 1\u001b[0;31m \u001b[0mvolume\u001b[0m\u001b[0;34m.\u001b[0m\u001b[0mset_volume_in_liter\u001b[0m\u001b[0;34m(\u001b[0m\u001b[0;34m-\u001b[0m\u001b[0;36m1\u001b[0m\u001b[0;34m)\u001b[0m\u001b[0;34m\u001b[0m\u001b[0;34m\u001b[0m\u001b[0m\n\u001b[0m",
      "\u001b[0;32m<ipython-input-10-f7b8bf882a1a>\u001b[0m in \u001b[0;36mset_volume_in_liter\u001b[0;34m(self, value)\u001b[0m\n\u001b[1;32m     13\u001b[0m     \u001b[0;32mdef\u001b[0m \u001b[0mset_volume_in_liter\u001b[0m\u001b[0;34m(\u001b[0m\u001b[0mself\u001b[0m\u001b[0;34m,\u001b[0m \u001b[0mvalue\u001b[0m\u001b[0;34m:\u001b[0m \u001b[0mfloat\u001b[0m\u001b[0;34m)\u001b[0m\u001b[0;34m:\u001b[0m\u001b[0;34m\u001b[0m\u001b[0;34m\u001b[0m\u001b[0m\n\u001b[1;32m     14\u001b[0m         \u001b[0;32mif\u001b[0m \u001b[0mvalue\u001b[0m \u001b[0;34m<\u001b[0m \u001b[0;36m0\u001b[0m\u001b[0;34m:\u001b[0m        \u001b[0;31m# doplňující podmínka\u001b[0m\u001b[0;34m\u001b[0m\u001b[0;34m\u001b[0m\u001b[0m\n\u001b[0;32m---> 15\u001b[0;31m             \u001b[0;32mraise\u001b[0m \u001b[0mValueError\u001b[0m\u001b[0;34m(\u001b[0m\u001b[0;34m\"Cannot process negative number\"\u001b[0m\u001b[0;34m)\u001b[0m\u001b[0;34m\u001b[0m\u001b[0;34m\u001b[0m\u001b[0m\n\u001b[0m\u001b[1;32m     16\u001b[0m         \u001b[0mself\u001b[0m\u001b[0;34m.\u001b[0m\u001b[0m_liter\u001b[0m \u001b[0;34m=\u001b[0m \u001b[0mvalue\u001b[0m  \u001b[0;31m# privátní proměnná\u001b[0m\u001b[0;34m\u001b[0m\u001b[0;34m\u001b[0m\u001b[0m\n",
      "\u001b[0;31mValueError\u001b[0m: Cannot process negative number"
     ]
    }
   ],
   "source": [
    "volume.set_volume_in_liter(-1)"
   ]
  },
  {
   "cell_type": "markdown",
   "metadata": {},
   "source": [
    "<br>\n",
    "\n",
    "Náš předpis má umožnit efektivní **přepsání** hodnoty ve stávajícím zápisu.\n",
    "\n",
    "<br>\n",
    "\n",
    "ale v tento moment bychom provedli příliš mnoho zásahů do původního zápisu.\n",
    "\n",
    "<br>\n",
    "\n",
    "U každého nového spuštění, bych potřeboval doplnit **kulatou** závorku.\n",
    "\n",
    "<br>\n",
    "\n",
    "Také se objevil problém s ohledem na implementaci našeho vylepšení.\n",
    "\n",
    "<br>\n",
    "\n",
    "Všechny ohlášení `obj.liter` je nutné přepsat na `obj.get_volume_in_liter()` a `obj.liter = val` na `obj.set_volume(val)`.\n",
    "\n",
    "<br>\n",
    "\n",
    "Taková úprava řešení může znamenat problémy na desítky, stovky řádků, protože přidáme nové metody, které je potřeba použít.\n",
    "\n",
    "<br>\n",
    "\n",
    "Naštěstí můžeme s vlastnostmi třídy nakládat lépe pomocí funkce `property`:"
   ]
  },
  {
   "cell_type": "code",
   "execution_count": 16,
   "metadata": {},
   "outputs": [],
   "source": [
    "class LiterConvertor:\n",
    "    def __init__(self, liter: float = 0.0):\n",
    "        self.liter = liter\n",
    "        self.pint_uk_coef: float = 1.759754\n",
    "        \n",
    "    def to_pints(self):\n",
    "        return self._liter * self.pint_uk_coef\n",
    "    \n",
    "    def get_volume_in_liter(self):\n",
    "        print(\"Getting..\")\n",
    "        return self._liter\n",
    "    \n",
    "    def set_volume_in_liter(self, value: float):\n",
    "        print(\"Setting..\")\n",
    "        if value < 0:\n",
    "            raise ValueError(\"Cannot process negative number\")\n",
    "        self._liter = value\n",
    "        \n",
    "    liter = property(get_volume_in_liter, set_volume_in_liter)"
   ]
  },
  {
   "cell_type": "code",
   "execution_count": 19,
   "metadata": {},
   "outputs": [
    {
     "name": "stdout",
     "output_type": "stream",
     "text": [
      "Setting..\n",
      "Getting..\n",
      "volume_1.liter=0.0\n"
     ]
    }
   ],
   "source": [
    "volume_1 = LiterConvertor()\n",
    "print(f\"{volume_1.liter=}\")"
   ]
  },
  {
   "cell_type": "code",
   "execution_count": 21,
   "metadata": {},
   "outputs": [
    {
     "name": "stdout",
     "output_type": "stream",
     "text": [
      "Setting..\n",
      "Getting..\n",
      "volume_2.liter=0.75\n",
      "volume_2.to_pints()=1.3198155\n"
     ]
    }
   ],
   "source": [
    "volume_2 = LiterConvertor(0.75)\n",
    "print(\n",
    "    f\"{volume_2.liter=}\",  # opět stačí aplikovat jen atribut metody (privátní atribut)\n",
    "    f\"{volume_2.to_pints()=}\",\n",
    "    sep=\"\\n\"\n",
    ")"
   ]
  },
  {
   "cell_type": "markdown",
   "metadata": {},
   "source": [
    "<br>\n",
    "\n",
    "Pokaždé co tentokrát použijeme proměnnou `liter` dojde automaticky k zavolání metody `get_volume_in_liter()`.\n",
    "\n",
    "<br>\n",
    "\n",
    "Stejně tak, pokud budeš chtít přepsat hodnotu v proměnné `liter`, tak dojde ke spuštění metody `set_volume_in_liter()`.\n",
    "\n",
    "<br>\n",
    "\n",
    "Takže pokud použiješ funkci `property()`, nemusíš se omezovat na potřebné úpravy tvého stávajícího skriptu na tolika místech.\n",
    "\n",
    "<br>\n",
    "\n",
    "\n",
    "#### Dekorátory setter, getter, deleter\n",
    "\n",
    "---\n",
    "\n",
    "<br>\n",
    "\n",
    "Zabudovaná funkce `property` při spuštění vytváří objekt `property`. V dokumentaci uvidíš syntaxi:\n",
    "```python\n",
    "property(fget=None, fset=None, fdel=None, doc=None)\n",
    "```\n",
    "\n",
    "<br>\n",
    "\n",
    "V předchozí ukázce jsme zapisovali ručně metody `set_volume` a `get_volume`, které odpovídají volitelným argumentém u funkce `property`.\n",
    "\n",
    "<br>\n",
    "\n",
    "Zkušenější programátoři s těmito atributy pracují pomocí **dekorátorů** `@property` a `@setter`.\n",
    "\n",
    "<br>\n",
    "\n",
    "Pokud **neznáš dekorátory**, nic si z toho nedělej. Pro skutečné použití tohoto řešení stačí pracovat s jejich abstrakcemi.\n",
    "\n",
    "<br>\n",
    "\n",
    "Původní zápis pomocí dekorátorů upravíme následovně:"
   ]
  },
  {
   "cell_type": "code",
   "execution_count": 22,
   "metadata": {},
   "outputs": [],
   "source": [
    "class LiterConvertor:\n",
    "    def __init__(self, liter: float = 0.0):\n",
    "        self.liter = liter\n",
    "        self.pint_uk_coef: float = 1.759754\n",
    "        \n",
    "    def to_pints(self):\n",
    "        return self._liter * self.pint_uk_coef\n",
    "    \n",
    "    @property         # označíme jako vlastnost pomocí dekorátoru\n",
    "    def liter(self):  # jméno metody nezačíná slovesem\n",
    "        print(\"Getting..\")\n",
    "        return self._liter\n",
    "    \n",
    "    @liter.setter     # dekorátor pro nastavení hodnoty \n",
    "    def liter(self, value: float):  # stejnojmenná metoda\n",
    "        print(\"Setting..\")\n",
    "        if value < 0:\n",
    "            raise ValueError(\"Cannot process negative number\")\n",
    "        self._liter = value"
   ]
  },
  {
   "cell_type": "code",
   "execution_count": 24,
   "metadata": {},
   "outputs": [
    {
     "name": "stdout",
     "output_type": "stream",
     "text": [
      "Setting..\n",
      "Getting..\n",
      "0.75\n",
      "volume.to_pints()=1.32\n"
     ]
    }
   ],
   "source": [
    "volume = LiterConvertor(0.75)\n",
    "print(volume.liter)\n",
    "print(f\"{volume.to_pints()=:.2f}\")"
   ]
  },
  {
   "cell_type": "markdown",
   "metadata": {},
   "source": [
    "<br>\n",
    "\n",
    "Dnes jde o nejrozšířenější implementaci nastavení **vlastostni třídy**, která vyplývá z funkce `property`. Výsledné řešení je poměrně jednoduché, přehledné a dá se pochopit bez podrobné znalosti dekorátorů."
   ]
  },
  {
   "cell_type": "markdown",
   "metadata": {},
   "source": [
    "<br>\n",
    "\n",
    "#### Metody v OOP\n",
    "\n",
    "---\n",
    "\n",
    "Jako ucelený seznam metod, které můžeme použít v rámci OOP se podívej na tyto metody:\n",
    "1. **Instanční** metoda,\n",
    "2. **třídní** metoda,\n",
    "3. **statická** metoda.\n",
    "\n",
    "<br>\n",
    "\n",
    "Celou situaci lze vysvětlit na teoretické ukázce:"
   ]
  },
  {
   "cell_type": "code",
   "execution_count": null,
   "metadata": {},
   "outputs": [],
   "source": [
    "class KindleNotesParser:\n",
    "    \"\"\"Parse the data in the .txt file\"\"\"\n",
    "    \n",
    "    def load_data(self):     # klasická metoda instance\n",
    "        return \"Calling instance method..\", self\n",
    "    \n",
    "    @classmethod\n",
    "    def parsing_files(cls):  # třídní metoda\n",
    "        return \"Calling class method..\", cls\n",
    "    \n",
    "    @staticmethod\n",
    "    def is_there_file():     # statická metoda\n",
    "        return \"Calling static method..\""
   ]
  },
  {
   "cell_type": "code",
   "execution_count": null,
   "metadata": {},
   "outputs": [],
   "source": [
    "reader = KindleNotesParser()"
   ]
  },
  {
   "cell_type": "markdown",
   "metadata": {},
   "source": [
    "<br>\n",
    "\n",
    "##### Instační metoda\n",
    "Metoda, která má mj. mezi parametry klíčový výraz `self`. Tím dovede zpřístupnit jak třídy (a její atributy), tak instance."
   ]
  },
  {
   "cell_type": "code",
   "execution_count": null,
   "metadata": {},
   "outputs": [],
   "source": [
    "print(\n",
    "    reader,              # adresa objektu instance 'reader'\n",
    "    reader.load_data,    # popis metody patřící instanci 'reader'\n",
    "    reader.load_data(),  # spuštění, opět adresa\n",
    "    sep=\"\\n\"\n",
    ")"
   ]
  },
  {
   "cell_type": "markdown",
   "metadata": {},
   "source": [
    "<br>\n",
    "\n",
    "Takže pomocí předchozí ukázky můžeme říct, že **instanční metoda** je schopna zpřístupnit *původní třídu* a případně pracovat s jejími *atributy*.\n",
    "\n",
    "<br>\n",
    "\n",
    "##### Třídní metoda\n",
    "Podobný zápis jako pro instační metodu, ale liší se dvěma zásadním rozdíly:\n",
    "1. Dekorátor `@classmethod`,\n",
    "2. parametr `cls`."
   ]
  },
  {
   "cell_type": "code",
   "execution_count": null,
   "metadata": {},
   "outputs": [],
   "source": [
    "print(\n",
    "    reader.parsing_files,    # adresa objektu instance nyní chybí\n",
    "    reader.parsing_files(),  # metodu spouští, třídy zpřístupní, ale instanci nezná\n",
    "    sep=\"\\n\"\n",
    ")"
   ]
  },
  {
   "cell_type": "markdown",
   "metadata": {},
   "source": [
    "<br>\n",
    "\n",
    "Jakmile použiješ **třídní metodu**, vidíš že máš přístup k objektu *původní třídy*, ale tentokrát není k dispozici odkaz (adresa) *instance*.\n",
    "\n",
    "```\n",
    "('Reading .txt file..', <__main__.KindleParser object at 0x7f0ed30782e0>)\n",
    "('Spoustim metodu tridy', <class '__main__.KindleParser'>)\n",
    "```\n",
    "\n",
    "<br>\n",
    "\n",
    "##### Statická metoda\n",
    "\n",
    "1. Dekorátor `@staticmethod`,\n",
    "2. chybí parametr `self`,\n",
    "3. chybí parametr `cls`."
   ]
  },
  {
   "cell_type": "code",
   "execution_count": null,
   "metadata": {},
   "outputs": [],
   "source": [
    "print(\n",
    "    reader.is_there_file,\n",
    "    reader.is_there_file(),\n",
    "    sep=\"\\n\"\n",
    ")"
   ]
  },
  {
   "cell_type": "code",
   "execution_count": null,
   "metadata": {},
   "outputs": [],
   "source": [
    "print(KindleNotesParser.load_data())"
   ]
  },
  {
   "cell_type": "code",
   "execution_count": null,
   "metadata": {},
   "outputs": [],
   "source": [
    "print(KindleNotesParser.parsing_files())"
   ]
  },
  {
   "cell_type": "code",
   "execution_count": null,
   "metadata": {},
   "outputs": [],
   "source": [
    "print(KindleNotesParser.is_there_file())"
   ]
  },
  {
   "cell_type": "markdown",
   "metadata": {},
   "source": [
    "<br>\n",
    "\n",
    "Pokud spustíš a prozkoumáš **statickou metodu**, můžeš si ověřit, že tato metoda nemá přístup ani k *původní třídě*, ani k její *instanci*.\n",
    "\n",
    "<br>\n",
    "\n",
    "##### Shrnutí k metodám\n",
    "\n",
    "---\n",
    "1. **instanční metoda** - může upravit nejenom objekty instance, ale i třídy (na začátku vidí jak třídu, tak instanci),\n",
    "2. **třídní metoda (@classmethod)** - může upravit objekty třídy, ale nemůže upravovat objekty instancí (vidí třídu, ale ne instanci),\n",
    "3. **statická metoda (@staticmethod)** - nemůže upravovat ani objekty instancí, ani objekty třídy (nevidí ani třídu, ani instanci).\n",
    "\n",
    "<br>\n",
    "\n",
    "##### Praktické ukázky\n",
    "\n",
    "---\n",
    "\n",
    "###### Instanční metoda"
   ]
  },
  {
   "cell_type": "code",
   "execution_count": null,
   "metadata": {},
   "outputs": [],
   "source": [
    "class KindleNotesParser:\n",
    "    \"\"\"Parse the data in the .txt file\"\"\"\n",
    "    notes: list = []  # upravení třídního atributu\n",
    "    \n",
    "    def __init__(self, file: str, data: str):\n",
    "        self.file = file\n",
    "        self.data = data\n",
    "#         self.notes = list()  # upravení instance atributu\n",
    "        \n",
    "    def load_data(self):\n",
    "        return self.notes.append(self.data)"
   ]
  },
  {
   "cell_type": "code",
   "execution_count": null,
   "metadata": {},
   "outputs": [],
   "source": [
    "first_note = KindleNotesParser(\"poznamky.txt\", \"Moje první poznámka k ...\")\n",
    "second_note = KindleNotesParser(\"poznamky_nove.txt\", \"Druhá poznámka ke knížce ...\")\n",
    "\n",
    "first_note.load_data()\n",
    "second_note.load_data()\n",
    "\n",
    "print(first_note.notes, second_note.notes, sep=\"\\n\")"
   ]
  },
  {
   "cell_type": "markdown",
   "metadata": {},
   "source": [
    "<br>\n",
    "\n",
    "Je jedno, který atribut budeš chtít upravit. Díky **instanční metodě** můžeš pracovat jak s třídními, tak s instančními objekty.\n",
    "<br>\n",
    "\n",
    "###### Třídní metoda"
   ]
  },
  {
   "cell_type": "code",
   "execution_count": null,
   "metadata": {},
   "outputs": [],
   "source": [
    "class KindleNotesParser:\n",
    "    \"\"\"Parse the data in the .txt file\"\"\"\n",
    "    readed_files: int = 0\n",
    "    \n",
    "    def __init__(self, file: str):\n",
    "        self.file = file\n",
    "    \n",
    "    @classmethod\n",
    "    def parsing_files(cls, name):\n",
    "        instance = cls(name)\n",
    "        cls.readed_files += 1  \n",
    "        print(f\"Parsing data from: {name}\")"
   ]
  },
  {
   "cell_type": "code",
   "execution_count": null,
   "metadata": {},
   "outputs": [],
   "source": [
    "print(f\"{KindleNotesParser.readed_files=}\")"
   ]
  },
  {
   "cell_type": "code",
   "execution_count": null,
   "metadata": {},
   "outputs": [],
   "source": [
    "KindleNotesParser.parsing_files(\"poznamky.txt\")\n",
    "KindleNotesParser.parsing_files(\"nove_poznamky.txt\")\n",
    "KindleNotesParser.parsing_files(\"poznpozn.txt\")"
   ]
  },
  {
   "cell_type": "code",
   "execution_count": null,
   "metadata": {},
   "outputs": [],
   "source": [
    "print(f\"{KindleNotesParser.readed_files=}\")"
   ]
  },
  {
   "cell_type": "markdown",
   "metadata": {},
   "source": [
    "<br>\n",
    "\n",
    "Pokud budeš chtít použít **třídní metody**, potom dávej pozor na to, že můžeš spravovat pouze třídní atributy.\n",
    "<br>\n",
    "\n",
    "###### Statická metoda"
   ]
  },
  {
   "cell_type": "code",
   "execution_count": null,
   "metadata": {},
   "outputs": [],
   "source": [
    "import os\n",
    "\n",
    "class KindleNotesParser:\n",
    "    \"\"\"Parse the data in the .txt file\"\"\"\n",
    "    \n",
    "    def __init__(self, file: str):\n",
    "        self.file = file\n",
    "    \n",
    "    @staticmethod\n",
    "    def is_there_file(name):\n",
    "        print(\"The file exists!\") if os.path.exists(name) else print(\"Does not exist!\")\n"
   ]
  },
  {
   "cell_type": "code",
   "execution_count": null,
   "metadata": {},
   "outputs": [],
   "source": [
    "parser = KindleNotesParser(\"\")\n",
    "parser.is_there_file(\"lesson01.ipynb\")"
   ]
  },
  {
   "cell_type": "code",
   "execution_count": null,
   "metadata": {},
   "outputs": [],
   "source": [
    "parser.is_there_file(\"lesson11.ipynb\")"
   ]
  },
  {
   "cell_type": "markdown",
   "metadata": {},
   "source": [
    "<br>\n",
    "\n",
    "**Statická metoda** nepotřebuje vědět nic ani o třídě, ani o instanci. Pracuje s parametrem jako klasická funkce. Ale svým účelem spadá jako nástroj ke konkrétní třídě.\n",
    "\n",
    "<br>\n",
    "\n",
    "#### Úloha\n",
    "----\n",
    "\n",
    "První úlohou bude napsat službu zpracovávající firemní tickety.\n",
    "\n",
    "Průběh celé aplikace:\n",
    "```\n",
    "\"\"\"\n",
    "1. Iniciace aplikace (zadáme škálu důležitosti priorit),\n",
    "2. zadáme několik nových ticketů (jméno, zpráva),\n",
    "3. zpracujeme tickety,\n",
    "\"\"\"\n",
    "```\n",
    "\n",
    "\n",
    "Následný výstup:\n",
    "```\n",
    "Created: 09/11/21, 08:37:09\n",
    "Processing ticket id: TPTUZSIY\n",
    "Issue: ...\n",
    "Customer: ...\n",
    "Importance: 9\n",
    "==================================\n",
    "Created: 09/11/21, 08:37:09\n",
    "Processing ticket id: DOGGOKZL\n",
    "Issue: ...\n",
    "Customer: ...\n",
    "Importance: 10\n",
    "==================================\n",
    "Created: 09/11/21, 08:37:09\n",
    "Processing ticket id: LUTAIXAS\n",
    "Issue: ...\n",
    "Customer: ...\n",
    "Importance: 4\n",
    "==================================\n",
    "```"
   ]
  },
  {
   "cell_type": "code",
   "execution_count": 25,
   "metadata": {},
   "outputs": [],
   "source": [
    "note = \\\n",
    "\"\"\"\n",
    "==========\n",
    "Faktomluva (Hans Rosling;Ola Rosling;Anna Roslingová Rönnlundová)\n",
    "- Your Highlight on Location 2724-2728 | Added on Wednesday, July 24, 2019 8:41:27 AM\n",
    "\n",
    "Největším orgánem našeho těla je kůže. Před objevem moderních léků patřila k nejhorším kožním nemocem syfilis. Začínala jako svědivé vřídky a pak si prokousala cestu do kostí, až postihla celou kostru. Nemoc způsobující ohavný vzhled a nesnesitelnou bolest měla v různých zemích různá jména. V Rusku chorobě říkali „polská nemoc“. V Polsku to byla „německá nemoc“, v Německu „francouzská nemoc“ a ve Francii „italská nemoc“. Italové vinu házeli zpátky a nazývali ji „francouzská nemoc“.\n",
    "==========\n",
    "Life Is What You Make It (Peter Buffett)\n",
    "- Your Highlight on Location 233-234 | Added on Monday, August 19, 2019 2:07:48 PM\n",
    "\n",
    "The problem with honoring the rewards of work rather than the work itself is that the rewards can always be taken away.\n",
    "==========\n",
    "\"\"\""
   ]
  },
  {
   "cell_type": "code",
   "execution_count": 34,
   "metadata": {},
   "outputs": [
    {
     "data": {
      "text/plain": [
       "['\\nFaktomluva (Hans Rosling;Ola Rosling;Anna Roslingová Rönnlundová)\\n- Your Highlight on Location 2724-2728 | Added on Wednesday, July 24, 2019 8:41:27 AM\\n\\nNejvětším orgánem našeho těla je kůže. Před objevem moderních léků patřila k\\xa0nejhorším kožním nemocem syfilis. Začínala jako svědivé vřídky a\\xa0pak si prokousala cestu do kostí, až postihla celou kostru. Nemoc způsobující ohavný vzhled a\\xa0nesnesitelnou bolest měla v\\xa0různých zemích různá jména. V\\xa0Rusku chorobě říkali „polská nemoc“. V\\xa0Polsku to byla „německá nemoc“, v\\xa0Německu „francouzská nemoc“ a\\xa0ve Francii „italská nemoc“. Italové vinu házeli zpátky a\\xa0nazývali ji „francouzská nemoc“.\\n',\n",
       " '\\nLife Is What You Make It (Peter Buffett)\\n- Your Highlight on Location 233-234 | Added on Monday, August 19, 2019 2:07:48 PM\\n\\nThe problem with honoring the rewards of work rather than the work itself is that the rewards can always be taken away.\\n']"
      ]
     },
     "execution_count": 34,
     "metadata": {},
     "output_type": "execute_result"
    }
   ],
   "source": [
    "note_atributes = note.split(\"==========\"); note_atributes\n",
    "notes = [note for note in note.split(\"==========\") if note != \"\\n\"]; notes"
   ]
  },
  {
   "cell_type": "code",
   "execution_count": 37,
   "metadata": {},
   "outputs": [],
   "source": [
    "clean_note: list = [item for item in notes[0].splitlines() if item]"
   ]
  },
  {
   "cell_type": "code",
   "execution_count": 38,
   "metadata": {},
   "outputs": [
    {
     "data": {
      "text/plain": [
       "['Faktomluva (Hans Rosling;Ola Rosling;Anna Roslingová Rönnlundová)',\n",
       " '- Your Highlight on Location 2724-2728 | Added on Wednesday, July 24, 2019 8:41:27 AM',\n",
       " 'Největším orgánem našeho těla je kůže. Před objevem moderních léků patřila k\\xa0nejhorším kožním nemocem syfilis. Začínala jako svědivé vřídky a\\xa0pak si prokousala cestu do kostí, až postihla celou kostru. Nemoc způsobující ohavný vzhled a\\xa0nesnesitelnou bolest měla v\\xa0různých zemích různá jména. V\\xa0Rusku chorobě říkali „polská nemoc“. V\\xa0Polsku to byla „německá nemoc“, v\\xa0Německu „francouzská nemoc“ a\\xa0ve Francii „italská nemoc“. Italové vinu házeli zpátky a\\xa0nazývali ji „francouzská nemoc“.']"
      ]
     },
     "execution_count": 38,
     "metadata": {},
     "output_type": "execute_result"
    }
   ],
   "source": [
    "clean_note"
   ]
  },
  {
   "cell_type": "code",
   "execution_count": 42,
   "metadata": {},
   "outputs": [],
   "source": [
    "title, author = clean_note[0].split(\" (\", maxsplit=1)  # titulek (autor) "
   ]
  },
  {
   "cell_type": "code",
   "execution_count": 43,
   "metadata": {},
   "outputs": [
    {
     "data": {
      "text/plain": [
       "'Faktomluva'"
      ]
     },
     "execution_count": 43,
     "metadata": {},
     "output_type": "execute_result"
    }
   ],
   "source": [
    "title"
   ]
  },
  {
   "cell_type": "code",
   "execution_count": 45,
   "metadata": {},
   "outputs": [
    {
     "data": {
      "text/plain": [
       "'Hans Rosling;Ola Rosling;Anna Roslingová Rönnlundová'"
      ]
     },
     "execution_count": 45,
     "metadata": {},
     "output_type": "execute_result"
    }
   ],
   "source": [
    "author.rstrip(\")\")"
   ]
  },
  {
   "cell_type": "code",
   "execution_count": 46,
   "metadata": {},
   "outputs": [],
   "source": [
    "location, datetime = clean_note[1].split(\"|\")  # umístění | datum, čas"
   ]
  },
  {
   "cell_type": "code",
   "execution_count": 51,
   "metadata": {},
   "outputs": [
    {
     "data": {
      "text/plain": [
       "'- Your Highlight on Location 2724-2728'"
      ]
     },
     "execution_count": 51,
     "metadata": {},
     "output_type": "execute_result"
    }
   ],
   "source": [
    "location.strip()"
   ]
  },
  {
   "cell_type": "code",
   "execution_count": 52,
   "metadata": {},
   "outputs": [
    {
     "data": {
      "text/plain": [
       "'Added on Wednesday, July 24, 2019 8:41:27 AM'"
      ]
     },
     "execution_count": 52,
     "metadata": {},
     "output_type": "execute_result"
    }
   ],
   "source": [
    "datetime.strip()"
   ]
  },
  {
   "cell_type": "code",
   "execution_count": 53,
   "metadata": {},
   "outputs": [
    {
     "data": {
      "text/plain": [
       "'Největším orgánem našeho těla je kůže. Před objevem moderních léků patřila k\\xa0nejhorším kožním nemocem syfilis. Začínala jako svědivé vřídky a\\xa0pak si prokousala cestu do kostí, až postihla celou kostru. Nemoc způsobující ohavný vzhled a\\xa0nesnesitelnou bolest měla v\\xa0různých zemích různá jména. V\\xa0Rusku chorobě říkali „polská nemoc“. V\\xa0Polsku to byla „německá nemoc“, v\\xa0Německu „francouzská nemoc“ a\\xa0ve Francii „italská nemoc“. Italové vinu házeli zpátky a\\xa0nazývali ji „francouzská nemoc“.'"
      ]
     },
     "execution_count": 53,
     "metadata": {},
     "output_type": "execute_result"
    }
   ],
   "source": [
    "clean_note[2]  # poznámka"
   ]
  },
  {
   "cell_type": "code",
   "execution_count": 116,
   "metadata": {},
   "outputs": [],
   "source": [
    "class ClippingParser:\n",
    "    \"\"\"Parse the text with clippings.\"\"\"\n",
    "    \n",
    "    def __init__(self, text: str, separator: str):\n",
    "        self.text = text\n",
    "        self.separator = separator\n",
    "        \n",
    "    def split_notes(self) -> list:\n",
    "        return self.text.split(self.separator)\n",
    "    \n",
    "    def filter_simple_newlines(self, clippings: list) -> list:\n",
    "        return [\n",
    "            clipping\n",
    "            for clipping in clippings\n",
    "            if clipping != \"\\n\" and clipping != \"\"\n",
    "        ]\n",
    "\n",
    "    def parse_specific_data(self, line: list, sep: str = \"\") -> tuple:\n",
    "        \"\"\"Select specific index in the clean clippings and parse the values.\"\"\"\n",
    "        try:\n",
    "            splitted_line: list = line.split(sep, maxsplit=1)\n",
    "\n",
    "        except AttributeError:\n",
    "            print(\"Error, huh!\")\n",
    "            before = None\n",
    "            after = None\n",
    "        else:\n",
    "            before, after = splitted_line\n",
    "        finally:\n",
    "            return before.strip(), after.strip()\n",
    "\n",
    "        \n",
    "class ClippingProcessor:\n",
    "    def __init__(self):\n",
    "        self.list_of_notes: list = []\n",
    "\n",
    "    def process_note(self, notes: KindleNote, *args):\n",
    "        self.list_of_notes.append(\n",
    "            notes(\n",
    "                title=args[0],\n",
    "                author=args[1],\n",
    "                location=args[2],\n",
    "                datetime=args[3],\n",
    "                note=args[4]   \n",
    "            )\n",
    "        )\n",
    "        "
   ]
  },
  {
   "cell_type": "code",
   "execution_count": 118,
   "metadata": {},
   "outputs": [
    {
     "ename": "IndexError",
     "evalue": "tuple index out of range",
     "output_type": "error",
     "traceback": [
      "\u001b[0;31m---------------------------------------------------------------------------\u001b[0m",
      "\u001b[0;31mIndexError\u001b[0m                                Traceback (most recent call last)",
      "\u001b[0;32m<ipython-input-118-33cf16079218>\u001b[0m in \u001b[0;36m<module>\u001b[0;34m\u001b[0m\n\u001b[1;32m     24\u001b[0m     )\n\u001b[1;32m     25\u001b[0m )\n\u001b[0;32m---> 26\u001b[0;31m \u001b[0mClippingProcessor\u001b[0m\u001b[0;34m(\u001b[0m\u001b[0;34m)\u001b[0m\u001b[0;34m.\u001b[0m\u001b[0mprocess_note\u001b[0m\u001b[0;34m(\u001b[0m\u001b[0mKindleNote\u001b[0m\u001b[0;34m,\u001b[0m \u001b[0mdata\u001b[0m\u001b[0;34m)\u001b[0m\u001b[0;34m\u001b[0m\u001b[0;34m\u001b[0m\u001b[0m\n\u001b[0m",
      "\u001b[0;32m<ipython-input-116-029ef79a066f>\u001b[0m in \u001b[0;36mprocess_note\u001b[0;34m(self, notes, *args)\u001b[0m\n\u001b[1;32m     39\u001b[0m             notes(\n\u001b[1;32m     40\u001b[0m                 \u001b[0mtitle\u001b[0m\u001b[0;34m=\u001b[0m\u001b[0margs\u001b[0m\u001b[0;34m[\u001b[0m\u001b[0;36m0\u001b[0m\u001b[0;34m]\u001b[0m\u001b[0;34m,\u001b[0m\u001b[0;34m\u001b[0m\u001b[0;34m\u001b[0m\u001b[0m\n\u001b[0;32m---> 41\u001b[0;31m                 \u001b[0mauthor\u001b[0m\u001b[0;34m=\u001b[0m\u001b[0margs\u001b[0m\u001b[0;34m[\u001b[0m\u001b[0;36m1\u001b[0m\u001b[0;34m]\u001b[0m\u001b[0;34m,\u001b[0m\u001b[0;34m\u001b[0m\u001b[0;34m\u001b[0m\u001b[0m\n\u001b[0m\u001b[1;32m     42\u001b[0m                 \u001b[0mlocation\u001b[0m\u001b[0;34m=\u001b[0m\u001b[0margs\u001b[0m\u001b[0;34m[\u001b[0m\u001b[0;36m2\u001b[0m\u001b[0;34m]\u001b[0m\u001b[0;34m,\u001b[0m\u001b[0;34m\u001b[0m\u001b[0;34m\u001b[0m\u001b[0m\n\u001b[1;32m     43\u001b[0m                 \u001b[0mdatetime\u001b[0m\u001b[0;34m=\u001b[0m\u001b[0margs\u001b[0m\u001b[0;34m[\u001b[0m\u001b[0;36m3\u001b[0m\u001b[0;34m]\u001b[0m\u001b[0;34m,\u001b[0m\u001b[0;34m\u001b[0m\u001b[0;34m\u001b[0m\u001b[0m\n",
      "\u001b[0;31mIndexError\u001b[0m: tuple index out of range"
     ]
    }
   ],
   "source": [
    "clips = ClippingParser(\n",
    "    \"\"\"\n",
    "==========\n",
    "Faktomluva (Hans Rosling;Ola Rosling;Anna Roslingová Rönnlundová)\n",
    "- Your Highlight on Location 2724-2728 | Added on Wednesday, July 24, 2019 8:41:27 AM\n",
    "\n",
    "Největším orgánem našeho těla je kůže. Před objevem moderních léků patřila k nejhorším kožním nemocem syfilis. Začínala jako svědivé vřídky a pak si prokousala cestu do kostí, až postihla celou kostru. Nemoc způsobující ohavný vzhled a nesnesitelnou bolest měla v různých zemích různá jména. V Rusku chorobě říkali „polská nemoc“. V Polsku to byla „německá nemoc“, v Německu „francouzská nemoc“ a ve Francii „italská nemoc“. Italové vinu házeli zpátky a nazývali ji „francouzská nemoc“.\n",
    "==========\n",
    "Life Is What You Make It (Peter Buffett)\n",
    "- Your Highlight on Location 233-234 | Added on Monday, August 19, 2019 2:07:48 PM\n",
    "\n",
    "The problem with honoring the rewards of work rather than the work itself is that the rewards can always be taken away.\n",
    "==========\n",
    "\"\"\",\n",
    "\"==========\\n\"\n",
    ")\n",
    "\n",
    "cc = clips.filter_simple_newlines(clips.split_notes())\n",
    "data = tuple(\n",
    "    (\n",
    "        clips.parse_specific_data(cc[0].splitlines()[0], \" (\"),\n",
    "        clips.parse_specific_data(cc[0].splitlines()[1], \"|\"),\n",
    "        cc[0].splitlines()[3]\n",
    "    )\n",
    ")\n",
    "ClippingProcessor().process_note(KindleNote, data)"
   ]
  },
  {
   "cell_type": "code",
   "execution_count": 108,
   "metadata": {},
   "outputs": [],
   "source": [
    "class KindleNote:\n",
    "    \"\"\"Create a new book note\"\"\"\n",
    "    \n",
    "    def __init__(self, title: str, author: str,\n",
    "                 location: str, datetime: str, note: str):\n",
    "        self.note = note\n",
    "        self.title = title\n",
    "        self.author = author\n",
    "        self.location = location\n",
    "        self.datetime = datetime\n",
    "        self.note = note\n",
    "        \n",
    "note1 = KindleNote(\n",
    "    title=title,\n",
    "    author=author,\n",
    "    location=location,\n",
    "    datetime=datetime,\n",
    "    note=note\n",
    ")"
   ]
  },
  {
   "cell_type": "code",
   "execution_count": 109,
   "metadata": {},
   "outputs": [
    {
     "data": {
      "text/plain": [
       "'Added on Wednesday, July 24, 2019 8:41:27 AM'"
      ]
     },
     "execution_count": 109,
     "metadata": {},
     "output_type": "execute_result"
    }
   ],
   "source": [
    "note1.datetime"
   ]
  },
  {
   "cell_type": "code",
   "execution_count": 24,
   "metadata": {},
   "outputs": [
    {
     "data": {
      "text/plain": [
       "('Faktomluva (Hans Rosling;Ola Rosling;Anna Roslingová Rönnlundová)',\n",
       " '- Your Highlight on Location 2724-2728 | Added on Wednesday, July 24, 2019 8:41:27 AM',\n",
       " 'Největším orgánem našeho těla je kůže. Před objevem moderních léků patřila k\\xa0nejhorším kožním nemocem syfilis. Začínala jako svědivé vřídky a\\xa0pak si prokousala cestu do kostí, až postihla celou kostru. Nemoc způsobující ohavný vzhled a\\xa0nesnesitelnou bolest měla v\\xa0různých zemích různá jména. V\\xa0Rusku chorobě říkali „polská nemoc“. V\\xa0Polsku to byla „německá nemoc“, v\\xa0Německu „francouzská nemoc“ a\\xa0ve Francii „italská nemoc“. Italové vinu házeli zpátky a\\xa0nazývali ji „francouzská nemoc“.')"
      ]
     },
     "execution_count": 24,
     "metadata": {},
     "output_type": "execute_result"
    }
   ],
   "source": [
    "tuple(filter(None, note_atributes))"
   ]
  },
  {
   "cell_type": "code",
   "execution_count": 20,
   "metadata": {},
   "outputs": [],
   "source": [
    "note = dict()\n",
    "\n",
    "note[\"name\"] = note_atributes[0]\n",
    "note[\"location\"] = note_atributes[1].split(\"|\")[0]\n",
    "note[\"date\"] = note_atributes[1].split(\"|\")[1]\n",
    "note[\"description\"] = note_atributes[-1]"
   ]
  },
  {
   "cell_type": "code",
   "execution_count": 22,
   "metadata": {},
   "outputs": [
    {
     "name": "stdout",
     "output_type": "stream",
     "text": [
      "{'date': ' Added on Wednesday, July 24, 2019 8:41:27 AM',\n",
      " 'description': 'Největším orgánem našeho těla je kůže. Před objevem moderních '\n",
      "                'léků patřila k\\xa0nejhorším kožním nemocem syfilis. Začínala '\n",
      "                'jako svědivé vřídky a\\xa0pak si prokousala cestu do kostí, až '\n",
      "                'postihla celou kostru. Nemoc způsobující ohavný vzhled a\\xa0'\n",
      "                'nesnesitelnou bolest měla v\\xa0různých zemích různá jména. '\n",
      "                'V\\xa0Rusku chorobě říkali „polská nemoc“. V\\xa0Polsku to byla '\n",
      "                '„německá nemoc“, v\\xa0Německu „francouzská nemoc“ a\\xa0ve '\n",
      "                'Francii „italská nemoc“. Italové vinu házeli zpátky a\\xa0'\n",
      "                'nazývali ji „francouzská nemoc“.',\n",
      " 'location': '- Your Highlight on Location 2724-2728 ',\n",
      " 'name': 'Faktomluva (Hans Rosling;Ola Rosling;Anna Roslingová Rönnlundová)'}\n"
     ]
    }
   ],
   "source": [
    "from pprint import pprint\n",
    "pprint(note)"
   ]
  },
  {
   "cell_type": "code",
   "execution_count": 64,
   "metadata": {},
   "outputs": [],
   "source": [
    "from typing import List\n",
    "\n",
    "\n",
    "class KindleNoteParser:\n",
    "    \"\"\"Process the .txt file and create new notes.\"\"\"\n",
    "    \n",
    "    def __init__(self, file = None):\n",
    "        self.file = file\n",
    "        self.notes: list = []\n",
    "        self.separator = \"==========\\n\"\n",
    "            \n",
    "    def process_txt_content(self, txt_cont: List[str]) -> List[str]:\n",
    "        \"\"\"Split the .txt file into individual notes.\"\"\"\n",
    "        return txt_cont.split(self.separator)\n",
    "    \n",
    "    def split_text_into_lines(self, all_notes: List[str]):\n",
    "        \"\"\"Split each note into individual attributes, process them and return all results.\"\"\"\n",
    "        return [\n",
    "            self.process_note_content(note.splitlines())\n",
    "            for note in all_notes\n",
    "            if note\n",
    "        ]\n",
    "                \n",
    "    def process_note_content(self, note: List[str]):\n",
    "        \"\"\"Try to select attributes title, date and description.\"\"\"\n",
    "        try:\n",
    "            title: str = note[0]\n",
    "            location, date = note[1].split(\"|\", maxsplit=1)\n",
    "            description: str = note[3]\n",
    "        \n",
    "        except IndexError:\n",
    "            results: dict = {}\n",
    "        else:\n",
    "            results: dict = {\n",
    "                \"date\": date,\n",
    "                \"name\": title,\n",
    "                \"location\": location,\n",
    "                \"description\": description\n",
    "            }\n",
    "        finally:\n",
    "            return results\n",
    "\n",
    "    def create_note(self, attrs: dict):\n",
    "        self.notes.append(\n",
    "            KindleNote(\n",
    "                attrs.get(\"name\"),\n",
    "                attrs.get(\"location\"),\n",
    "                attrs.get(\"description\"),\n",
    "                attrs.get(\"date\"),\n",
    "            )\n",
    "        )\n",
    "        \n",
    "    def create_all_notes(self, notes: List[dict]) -> None:\n",
    "        for note in notes:\n",
    "            if len(note.keys()) == 4:\n",
    "                self.create_note(note)\n",
    "\n",
    "class KindleNote:\n",
    "    \"\"\"Create a note with proper attributes.\"\"\"\n",
    "    \n",
    "    def __init__(self, name: str, location: str, desc: str, date: str):\n",
    "        self.name = name\n",
    "        self.desc = desc\n",
    "        self.date = date\n",
    "        self.location = location\n",
    "        \n",
    "    def __repr__(self):\n",
    "        return self.name"
   ]
  },
  {
   "cell_type": "code",
   "execution_count": 65,
   "metadata": {},
   "outputs": [
    {
     "data": {
      "text/plain": [
       "[Faktomluva (Hans Rosling;Ola Rosling;Anna Roslingová Rönnlundová),\n",
       " Life Is What You Make It (Peter Buffett)]"
      ]
     },
     "execution_count": 65,
     "metadata": {},
     "output_type": "execute_result"
    }
   ],
   "source": [
    "app = KindleNoteParser()\n",
    "text = \"\"\"\n",
    "==========\n",
    "Faktomluva (Hans Rosling;Ola Rosling;Anna Roslingová Rönnlundová)\n",
    "- Your Highlight on Location 2724-2728 | Added on Wednesday, July 24, 2019 8:41:27 AM\n",
    "\n",
    "Největším orgánem našeho těla je kůže. Před objevem moderních léků patřila k nejhorším kožním nemocem syfilis. Začínala jako svědivé vřídky a pak si prokousala cestu do kostí, až postihla celou kostru. Nemoc způsobující ohavný vzhled a nesnesitelnou bolest měla v různých zemích různá jména. V Rusku chorobě říkali „polská nemoc“. V Polsku to byla „německá nemoc“, v Německu „francouzská nemoc“ a ve Francii „italská nemoc“. Italové vinu házeli zpátky a nazývali ji „francouzská nemoc“.\n",
    "==========\n",
    "Life Is What You Make It (Peter Buffett)\n",
    "- Your Highlight on Location 233-234 | Added on Monday, August 19, 2019 2:07:48 PM\n",
    "\n",
    "The problem with honoring the rewards of work rather than the work itself is that the rewards can always be taken away.\n",
    "==========\n",
    "\"\"\"\n",
    "\n",
    "splitted = app.process_txt_content(text)\n",
    "data = app.split_text_into_lines(splitted)\n",
    "app.create_all_notes(data)\n",
    "app.notes"
   ]
  },
  {
   "cell_type": "markdown",
   "metadata": {},
   "source": [
    "---"
   ]
  }
 ],
 "metadata": {
  "kernelspec": {
   "display_name": "Python 3",
   "language": "python",
   "name": "python3"
  },
  "language_info": {
   "codemirror_mode": {
    "name": "ipython",
    "version": 3
   },
   "file_extension": ".py",
   "mimetype": "text/x-python",
   "name": "python",
   "nbconvert_exporter": "python",
   "pygments_lexer": "ipython3",
   "version": "3.8.10"
  }
 },
 "nbformat": 4,
 "nbformat_minor": 4
}
