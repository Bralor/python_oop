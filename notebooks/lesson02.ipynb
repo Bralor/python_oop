{
 "cells": [
  {
   "cell_type": "markdown",
   "metadata": {},
   "source": [
    "### Další koncepty objektově-orientovaného programování\n",
    "---\n",
    "\n",
    "<br>\n",
    "\n",
    "#### Podtržítka v Pythonu\n",
    "\n",
    "---\n",
    "Podtržítko je **syntaktický znak** v Pythonu, který má nejeden důležitý význam:\n",
    "1. Přeskoč `_`,\n",
    "2. privátní proměnná  `_name`,\n",
    "3. chráněná proměnná `__name`,\n",
    "4. přepis pro klíčové slovo `class_`,\n",
    "5. magická metoda `__init__`.\n",
    "\n",
    "<br>\n",
    "\n",
    "##### Samotné podtržítko (*skip*)"
   ]
  },
  {
   "cell_type": "code",
   "execution_count": null,
   "metadata": {},
   "outputs": [],
   "source": [
    "import time\n",
    "\n",
    "def check_logging_messages(limit: int) -> None:\n",
    "    \"\"\"Check the current logging messages.\"\"\"\n",
    "    \n",
    "    for _ in range(limit):\n",
    "        print(\"Checking logging messages..\")\n",
    "        time.sleep(1)\n",
    "        # ...\n",
    "        \n",
    "check_logging_messages(5)"
   ]
  },
  {
   "cell_type": "markdown",
   "metadata": {},
   "source": [
    "<br>\n",
    "\n",
    "Proměnná `sec`, kterou jsme vytvořili v rámci funkce `check_logging_messages` nemá žádné využití.\n",
    "\n",
    "<br>\n",
    "\n",
    "Proto v Pythonu existuje symbol `_` pro označení **nepoužívané** proměnné:"
   ]
  },
  {
   "cell_type": "code",
   "execution_count": null,
   "metadata": {},
   "outputs": [],
   "source": [
    "for _ in range(11):\n",
    "    print(\"Checking logging messages..\")"
   ]
  },
  {
   "cell_type": "markdown",
   "metadata": {},
   "source": [
    "<br>\n",
    "\n",
    "Případně je možné **přeskakovat** i u *vícenásobného* přiřazování:"
   ]
  },
  {
   "cell_type": "code",
   "execution_count": null,
   "metadata": {},
   "outputs": [],
   "source": [
    "jmeno, domena = \"matous@gmail.com\".split(\"@\")\n",
    "\n",
    "# nepotřebuji proměnnou jméno\n",
    "_, domena = \"matous@gmail.com\".split(\"@\")\n",
    "print(domena)\n",
    "# ..."
   ]
  },
  {
   "cell_type": "markdown",
   "metadata": {},
   "source": [
    "<br>\n",
    "\n",
    "##### Privátní objekty (*weak private*)\n",
    "\n",
    "Některé jazyky umožňují práci s pomocí **privátních** (*soukromých*) proměnných (~Java).\n",
    "\n",
    "<br>\n",
    "\n",
    "Python tuto funkcionalitu **nepodporuje**:"
   ]
  },
  {
   "cell_type": "code",
   "execution_count": null,
   "metadata": {},
   "outputs": [],
   "source": [
    "import time\n",
    "\n",
    "class ProtocolChecker:\n",
    "    \"\"\"Validate the routing protocols.\"\"\"\n",
    "    \n",
    "    def __init__(self, limit: int, protocol: str):\n",
    "        self._limit = limit\n",
    "        self.protocol = protocol\n",
    "        \n",
    "    def check_protocol(self) -> None:\n",
    "        for _ in range(self._limit):\n",
    "            print(f\"Checking routing protocol:{self.protocol}...\")\n",
    "            time.sleep(1)"
   ]
  },
  {
   "cell_type": "code",
   "execution_count": null,
   "metadata": {},
   "outputs": [],
   "source": [
    "ospf_checker = ProtocolChecker(5, \"ospf\")\n",
    "print(ospf_checker._limit)"
   ]
  },
  {
   "cell_type": "code",
   "execution_count": null,
   "metadata": {},
   "outputs": [],
   "source": [
    "ospf_checker._limit = 10\n",
    "print(ospf_checker._limit)"
   ]
  },
  {
   "cell_type": "markdown",
   "metadata": {},
   "source": [
    "<br>\n",
    "\n",
    "Pokud metodu nebo proměnnou označíš pomocí **jednoho podtržítka**, naznačuješ ostatním programátorům, že tento objekt je **interní** a není *DOPORUČENÉ* jej přepisovat.\n",
    "\n",
    "<br>\n",
    "\n",
    "Přesto však lze hodnotu takového objektu přepsat.\n",
    "\n",
    "<br>\n",
    "\n",
    "Jeho změna by znamenala případné **selhání** modulu.\n",
    "\n",
    "<br>\n",
    "\n",
    "##### Chráněné proměnné (*strong private*)\n",
    "\n",
    "Pomocí **dvou podtržítek** může uživatel definovat **chráněné** proměnné, a tím předejít neúmyslnému přepsání nebo přetypování:"
   ]
  },
  {
   "cell_type": "code",
   "execution_count": null,
   "metadata": {},
   "outputs": [],
   "source": [
    "import time\n",
    "\n",
    "class ProtocolChecker:\n",
    "    \"\"\"Validate the routing protocols.\"\"\"\n",
    "    \n",
    "    def __init__(self, limit: int, protocol: str):\n",
    "        self.__limit = limit\n",
    "        self.protocol = protocol\n",
    "        \n",
    "    def check_protocol(self) -> None:\n",
    "        for _ in range(self.__limit):\n",
    "            print(f\"Checking routing protocol:{self.protocol}...\")\n",
    "            time.sleep(1)"
   ]
  },
  {
   "cell_type": "code",
   "execution_count": null,
   "metadata": {},
   "outputs": [],
   "source": [
    "bgp_checker = ProtocolChecker(5, \"bgp\")"
   ]
  },
  {
   "cell_type": "code",
   "execution_count": null,
   "metadata": {},
   "outputs": [],
   "source": [
    "print(f\"{bgp_checker.__limit=}\")"
   ]
  },
  {
   "cell_type": "markdown",
   "metadata": {},
   "source": [
    "<br>\n",
    "\n",
    "Pokud budu chtít chráněný objekt zpřístupnit jako instanční atribut, interpret mi to nedovolí.\n",
    "\n",
    "<br>\n",
    "\n",
    "Nicméně si pořád můžeš vypsat slovník použitých proměnných v rámci instance:"
   ]
  },
  {
   "cell_type": "code",
   "execution_count": null,
   "metadata": {},
   "outputs": [],
   "source": [
    "print(bgp_checker.__dict__)"
   ]
  },
  {
   "cell_type": "markdown",
   "metadata": {},
   "source": [
    "<br>\n",
    "\n",
    "Tudíž **chráněný** objekt není možné zpřístupnit podle **odkazu**, protože jej interpret přejmenuje.\n",
    "\n",
    "<br>\n",
    "\n",
    "Metoda `__dict__` nám ale vrátí slovník všech dostupných atributů a potom můžeš přepsat i chráněnou proměnnou:"
   ]
  },
  {
   "cell_type": "code",
   "execution_count": null,
   "metadata": {},
   "outputs": [],
   "source": [
    "bgp_checker._ProtocolChecker__limit = 10\n",
    "print(bgp_checker.__dict__)"
   ]
  },
  {
   "cell_type": "markdown",
   "metadata": {},
   "source": [
    "<br>\n",
    "\n",
    "Pomocí metody `__dict__` je možné zjistit, jaké **proměnné** (..a hodnoty) má instance k dispozici a dohledáme přejmenovanou proměnnou.\n",
    "\n",
    "<br>\n",
    "\n",
    "##### Vlastní jméno (*any*)\n",
    "\n",
    "Pokud se ti bude krýt **klíčové slovo** se jménem proměnné, interpret ti bude vracet **syntaktickou výjimku**:"
   ]
  },
  {
   "cell_type": "code",
   "execution_count": null,
   "metadata": {},
   "outputs": [],
   "source": [
    "class Employee:\n",
    "    def __init__(self, name: str, email: str):\n",
    "        self.name = name\n",
    "        self.email = email\n",
    "\n",
    "class = Employee(\"Matous\", \"matous@gmail.com\")  # rezervovaný výraz"
   ]
  },
  {
   "cell_type": "markdown",
   "metadata": {},
   "source": [
    "<br>\n",
    "\n",
    "Pokud tomu chceš zabránit, můžeš použít podtržítko jako příponu za klíčovým výrazem:"
   ]
  },
  {
   "cell_type": "code",
   "execution_count": null,
   "metadata": {},
   "outputs": [],
   "source": [
    "class Employee:\n",
    "    def __init__(self, name: str, email: str):\n",
    "        self.name = name\n",
    "        self.email = email\n",
    "\n",
    "class_ = Employee(\"Matous\", \"matous@gmail.com\")"
   ]
  },
  {
   "cell_type": "markdown",
   "metadata": {},
   "source": [
    "<br>\n",
    "\n",
    "##### Magické metody (double-underscore methods ~ dunder methods)\n",
    "\n",
    "Magické metody jsou **speciální metody** v Pythonu, na kterých stojí veškerá práce s objekty.\n",
    "\n",
    "<br>\n",
    "\n",
    "Oficiální dokumentace ale není příliš nápomocná a jejich používání není úplně nejčastější (výjimky typu `__init__` aj.)."
   ]
  },
  {
   "cell_type": "code",
   "execution_count": null,
   "metadata": {},
   "outputs": [],
   "source": [
    "class Employee:\n",
    "    def __init__(self, name: str, email: str):\n",
    "        self.name = name\n",
    "        self.email = email\n",
    "\n",
    "empl_1 = Employee(\"Matous\", \"matous@gmail.com\")\n",
    "empl_2 = Employee(\"Lukas\", \"lukas@gmail.com\")\n",
    "\n",
    "list_ = list()\n",
    "list_.append(empl_1)\n",
    "list_.append(empl_2)"
   ]
  },
  {
   "cell_type": "code",
   "execution_count": null,
   "metadata": {
    "scrolled": true
   },
   "outputs": [],
   "source": [
    "list_"
   ]
  },
  {
   "cell_type": "markdown",
   "metadata": {},
   "source": [
    "<br>\n",
    "\n",
    "Použití magické metody `__repr__`:"
   ]
  },
  {
   "cell_type": "code",
   "execution_count": null,
   "metadata": {},
   "outputs": [],
   "source": [
    "class Employee:\n",
    "    def __init__(self, name: str, email: str):\n",
    "        self.name = name\n",
    "        self.email = email\n",
    "        \n",
    "    def __repr__(self):  # přepíše reprezentaci objektu metody\n",
    "        return f\"Employee: {self.name}\"\n",
    "\n",
    "empl_1 = Employee(\"Matous\", \"matous@gmail.com\")\n",
    "empl_2 = Employee(\"Lukas\", \"lukas@gmail.com\")\n",
    "\n",
    "list_ = list()\n",
    "list_.append(empl_1)\n",
    "list_.append(empl_2)\n",
    "list_"
   ]
  },
  {
   "cell_type": "markdown",
   "metadata": {},
   "source": [
    "<br>\n",
    "\n",
    "Použití magické metody `__call__`:"
   ]
  },
  {
   "cell_type": "code",
   "execution_count": null,
   "metadata": {},
   "outputs": [],
   "source": [
    "class Employee:\n",
    "    def __init__(self, name: str, email: str):\n",
    "        self.name = name\n",
    "        self.email = email\n",
    "        \n",
    "    def __repr__(self):  # přepíše reprezentaci objektu metody\n",
    "        return f\"Employee: {self.name}\"\n",
    "\n",
    "empl_1 = Employee(\"Matous\", \"matous@gmail.com\")\n",
    "print(empl_1())"
   ]
  },
  {
   "cell_type": "code",
   "execution_count": null,
   "metadata": {},
   "outputs": [],
   "source": [
    "class Employee:\n",
    "    def __init__(self, name: str, email: str):\n",
    "        self.name = name\n",
    "        self.email = email\n",
    "        \n",
    "    def __repr__(self) -> str:  # přepíše reprezentaci objektu metody\n",
    "        return f\"Employee: {self.name}\"\n",
    "\n",
    "    def __call__(self) -> str:  # přepíše reprezentaci volání objektu metody\n",
    "        return f\"Sending notificattion to: {self.email}\"\n",
    "\n",
    "empl_1 = Employee(\"Matous\", \"matous@gmail.com\")\n",
    "print(empl_1())"
   ]
  },
  {
   "cell_type": "markdown",
   "metadata": {},
   "source": [
    "<br>\n",
    "\n",
    "Použití **magických metod** je jeden z pokročilejších prvků OOP.\n",
    "\n",
    "<br>\n",
    "\n",
    "Na jejich použití by měla být brána zřetel, protože současně dochází k přepsání původní funkcionality.\n",
    "\n",
    "<br>\n",
    "\n",
    "\n",
    "#### Vlastnosti třídy\n",
    "\n",
    "---\n",
    "Kdy a kde používat **privátní** a **chráněné** proměnné a proč?\n",
    "\n",
    "<br>\n",
    "\n",
    "Představ si situaci, kdy máš napsat převodník jednotek objemu.\n",
    "\n",
    "<br>\n",
    "\n",
    "Z **litrů** na **pinty**(UK):"
   ]
  },
  {
   "cell_type": "code",
   "execution_count": null,
   "metadata": {},
   "outputs": [],
   "source": [
    "class LiterConvertor:\n",
    "\n",
    "    def __init__(self, liter: int = 0):\n",
    "        self.liter = liter\n",
    "        self.pint_uk_coef: float = 1.759754\n",
    "        self.to_pints: float = self.liter * self.pint_uk_coef"
   ]
  },
  {
   "cell_type": "code",
   "execution_count": null,
   "metadata": {},
   "outputs": [],
   "source": [
    "bottle_volume = LiterConvertor()"
   ]
  },
  {
   "cell_type": "markdown",
   "metadata": {},
   "source": [
    "<br>\n",
    "\n",
    "Hodnotu můžeš nastavit jako **defaultní**, s tím že její hodnotu si uživatel nastaví později sám:"
   ]
  },
  {
   "cell_type": "code",
   "execution_count": null,
   "metadata": {},
   "outputs": [],
   "source": [
    "bottle_volume.liter = 0.75\n",
    "print(f\"{bottle_volume.liter=}\")"
   ]
  },
  {
   "cell_type": "code",
   "execution_count": null,
   "metadata": {},
   "outputs": [],
   "source": [
    "print(f\"{bottle_volume.to_pints=}\")"
   ]
  },
  {
   "cell_type": "markdown",
   "metadata": {},
   "source": [
    "<br>\n",
    "\n",
    "Interpret použil pro vytvoření hodnoty v proměnné `bottle_volume.pints_uk` původní **defaultní** hodnotu `0` a na přepsání nereaguje.\n",
    "\n",
    "<br>\n",
    "\n",
    "Celý proces můžeš zkontrolovat magickou metodou `__dict__`:"
   ]
  },
  {
   "cell_type": "code",
   "execution_count": null,
   "metadata": {},
   "outputs": [],
   "source": [
    " print(bottle_volume.__dict__)"
   ]
  },
  {
   "cell_type": "markdown",
   "metadata": {},
   "source": [
    "<br>\n",
    "\n",
    "Momentálně uživatel změní hodnotu instančního atributu `liter`, ale to nemá vliv na výpočet, který je stále nulový.\n",
    "\n",
    "<br>\n",
    "\n",
    "Současně se podívej na ostatní atributy, která hodnota je pro tebe kritická?\n",
    "```python\n",
    "self.liter = liter\n",
    "self.pint_uk_coef: float = 1.759754\n",
    "self.to_pints: float = self.liter * self.pint_uk_coef\n",
    "```\n",
    "\n",
    "<br>\n",
    "\n",
    "Programátoři z jiných jazyků, např. Java, by napsali jiné řešení:"
   ]
  },
  {
   "cell_type": "code",
   "execution_count": null,
   "metadata": {},
   "outputs": [],
   "source": [
    "class LiterConvertor:\n",
    "\n",
    "    def __init__(self, liter: int = 0):\n",
    "        self.set_volume_in_liter(liter)\n",
    "        self.pint_uk_coef: float = 1.759754\n",
    "        \n",
    "    def to_pints(self):\n",
    "        return self._liter * self.pint_uk_coef\n",
    "    \n",
    "    def get_volume_in_liter(self):                # getter\n",
    "        return self._liter\n",
    "    \n",
    "    def set_volume_in_liter(self, value: float):  # setter\n",
    "        if value < 0:                             # doplňující podmínka (volitelné)\n",
    "            raise ValueError(\"Cannot process negative number\")\n",
    "        self._liter = value                       # privátní proměnná"
   ]
  },
  {
   "cell_type": "code",
   "execution_count": null,
   "metadata": {},
   "outputs": [],
   "source": [
    "bottle_volume_1 = LiterConvertor()"
   ]
  },
  {
   "cell_type": "code",
   "execution_count": null,
   "metadata": {},
   "outputs": [],
   "source": [
    "bottle_volume_2 = LiterConvertor(0.75)\n",
    "print(\n",
    "    f\"{bottle_volume_2.get_volume_in_liter()=}\",  # pro hodnotu musím použít metodu\n",
    "    f\"{bottle_volume_2.to_pints()=}\",\n",
    "    sep=\"\\n\"\n",
    ")"
   ]
  },
  {
   "cell_type": "markdown",
   "metadata": {},
   "source": [
    "<br>\n",
    "\n",
    "V tento moment pracujeme s **privátní** proměnnou, tak jak v jiných jazycích."
   ]
  },
  {
   "cell_type": "code",
   "execution_count": null,
   "metadata": {},
   "outputs": [],
   "source": [
    "print(bottle_volume_2.set_volume_in_liter(-1))"
   ]
  },
  {
   "cell_type": "markdown",
   "metadata": {},
   "source": [
    "<br>\n",
    "\n",
    "Podívej se na \"nePythonovské\" řešení a promysli, které objekty jsou pro funkci programu kritické.\n",
    "\n",
    "<br>\n",
    "\n",
    "V tento moment bychom provedli příliš mnoho zásahů do původního zápisu.\n",
    "\n",
    "<br>\n",
    "\n",
    "U každého nového spuštění, bych potřeboval doplnit **kulatou** závorku.\n",
    "\n",
    "<br>\n",
    "\n",
    "Všechny ohlášení `obj.liter` je nutné přepsat na `obj.get_volume_in_liter()` a `obj.liter = val` na `obj.set_volume(val)`.\n",
    "\n",
    "<br>\n",
    "\n",
    "Taková úprava řešení může znamenat problémy na desítky, stovky řádků, protože přidáme nové metody, které je potřeba použít.\n",
    "\n",
    "<br>\n",
    "\n",
    "Pro jednodušší manipulaci do budoucna vyzkoušej práci s **vlastnostmi třídy** pomocí funkce `property`:"
   ]
  },
  {
   "cell_type": "code",
   "execution_count": null,
   "metadata": {},
   "outputs": [],
   "source": [
    "class LiterConvertor:\n",
    "    def __init__(self, liter: float = 0.0):\n",
    "        self.liter = liter\n",
    "        self.pint_uk_coef: float = 1.759754\n",
    "        \n",
    "    def to_pints(self):\n",
    "        return self._liter * self.pint_uk_coef\n",
    "    \n",
    "    def get_volume_in_liter(self):\n",
    "        print(\"Getting..\")\n",
    "        return self._liter\n",
    "    \n",
    "    def set_volume_in_liter(self, value: float):\n",
    "        print(\"Setting..\")\n",
    "        if value < 0:\n",
    "            raise ValueError(\"Cannot process negative number\")\n",
    "        self._liter = value\n",
    "        \n",
    "    liter = property(get_volume_in_liter, set_volume_in_liter)"
   ]
  },
  {
   "cell_type": "code",
   "execution_count": null,
   "metadata": {},
   "outputs": [],
   "source": [
    "volume_1 = LiterConvertor()"
   ]
  },
  {
   "cell_type": "code",
   "execution_count": null,
   "metadata": {},
   "outputs": [],
   "source": [
    "print(f\"{volume_1.liter=}\")"
   ]
  },
  {
   "cell_type": "code",
   "execution_count": null,
   "metadata": {},
   "outputs": [],
   "source": [
    "volume_2 = LiterConvertor(0.75)\n",
    "print(\n",
    "    f\"{volume_2.liter=}\",  # opět stačí aplikovat jen atribut metody (privátní atribut)\n",
    "    f\"{volume_2.to_pints()=}\",\n",
    "    sep=\"\\n\"\n",
    ")"
   ]
  },
  {
   "cell_type": "markdown",
   "metadata": {},
   "source": [
    "<br>\n",
    "\n",
    "Pokaždé, co tentokrát použijeme proměnnou `liter` dojde automaticky k zavolání metody `get_volume_in_liter()`.\n",
    "\n",
    "<br>\n",
    "\n",
    "Stejně tak, pokud budeš chtít přepsat hodnotu v proměnné `liter`, tak dojde ke spuštění metody `set_volume_in_liter()`.\n",
    "\n",
    "<br>\n",
    "\n",
    "Takže pokud použiješ funkci `property()`, nemusíš se omezovat na potřebné úpravy tvého stávajícího skriptu na tolika místech.\n",
    "\n",
    "<br>\n",
    "\n",
    "\n",
    "#### Dekorátory setter, getter, deleter\n",
    "\n",
    "---\n",
    "\n",
    "<br>\n",
    "\n",
    "Zabudovaná funkce `property` při spuštění vytváří objekt `property`. V dokumentaci uvidíš syntaxi:\n",
    "```python\n",
    "property(fget=None, fset=None, fdel=None, doc=None)\n",
    "```\n",
    "\n",
    "<br>\n",
    "\n",
    "V předchozí ukázce jsme zapisovali ručně metody `set_volume` a `get_volume`, které odpovídají volitelným argumentém u funkce `property`.\n",
    "\n",
    "<br>\n",
    "\n",
    "Zkušenější programátoři s těmito atributy pracují pomocí **dekorátorů** `@property` a `@setter`.\n",
    "\n",
    "<br>\n",
    "\n",
    "Pokud **neznáš dekorátory**, nic si z toho nedělej. Pro použití dekorátoru pro `@property` není nutné znát tuto funkcionalitu:"
   ]
  },
  {
   "cell_type": "code",
   "execution_count": 3,
   "metadata": {},
   "outputs": [
    {
     "data": {
      "text/plain": [
       "'root is running cmd: apt update'"
      ]
     },
     "execution_count": 3,
     "metadata": {},
     "output_type": "execute_result"
    }
   ],
   "source": [
    "# možné použití dekorátoru\n",
    "def is_authorized(func):\n",
    "    \n",
    "    def wrapper(user, cmd):      \n",
    "        if user == \"root\":\n",
    "            return func(user, cmd)\n",
    "        else:\n",
    "            print(f\"{user} is not authorized!\")\n",
    "    return wrapper\n",
    "\n",
    "\n",
    "@is_authorized\n",
    "def run_cmd(user: str, cmd: str):\n",
    "    return f\"{user} is running cmd: {cmd}\"\n",
    "    \n",
    "run_cmd(\"root\", \"apt update\")"
   ]
  },
  {
   "cell_type": "markdown",
   "metadata": {},
   "source": [
    "<br>\n",
    "\n",
    "<!-- # def is_authorized(func):\n",
    "    \n",
    "#     def wrapper(user, cmd):      \n",
    "#         if user == \"root\":\n",
    "#             return func(user, cmd)\n",
    "#         else:\n",
    "#             print(f\"{user} is not authorized!\")\n",
    "#     return wrapper\n",
    "\n",
    "# @is_authorized\n",
    "# def run_cmd(user, cmd):\n",
    "#     return f\"{user} is running cmd: {cmd}\"\n",
    "\n",
    "# run_cmd(\"root\", \"apt update\") -->\n",
    "\n",
    "Původní zápis pomocí **dekorátorů** upravíme následovně:"
   ]
  },
  {
   "cell_type": "code",
   "execution_count": 11,
   "metadata": {},
   "outputs": [],
   "source": [
    "class LiterConvertor:\n",
    "    def __init__(self, liter: float = 0.0):\n",
    "        self.liter = liter\n",
    "        self.__pint_uk_coef: float = 1.759754\n",
    "        \n",
    "    def to_pints(self):\n",
    "        return self._liter * self.__pint_uk_coef\n",
    "    \n",
    "    @property                       # označíme jako vlastnost pomocí dekorátoru\n",
    "    def liter(self):                # jméno metody nezačíná slovesem\n",
    "        print(\"Getting..\")\n",
    "        return self._liter\n",
    "    \n",
    "    @liter.setter                   # dekorátor pro nastavení hodnoty \n",
    "    def liter(self, value: float):  # stejnojmenná metoda\n",
    "        print(\"Setting..\")\n",
    "        if value < 0:\n",
    "            raise ValueError(\"Cannot process negative number\")\n",
    "        self._liter = value"
   ]
  },
  {
   "cell_type": "code",
   "execution_count": 12,
   "metadata": {},
   "outputs": [
    {
     "name": "stdout",
     "output_type": "stream",
     "text": [
      "Setting..\n"
     ]
    }
   ],
   "source": [
    "volume_1 = LiterConvertor()"
   ]
  },
  {
   "cell_type": "code",
   "execution_count": 13,
   "metadata": {},
   "outputs": [
    {
     "name": "stdout",
     "output_type": "stream",
     "text": [
      "Setting..\n",
      "Getting..\n",
      "0.75\n",
      "volume_2.to_pints()=1.32\n"
     ]
    }
   ],
   "source": [
    "volume_2 = LiterConvertor(0.75)\n",
    "print(volume_2.liter)\n",
    "print(f\"{volume_2.to_pints()=:.2f}\")"
   ]
  },
  {
   "cell_type": "markdown",
   "metadata": {},
   "source": [
    "<br>\n",
    "\n",
    "Dnes jde o nejrozšířenější implementaci nastavení **vlastostni třídy**, která vyplývá z funkce `property`. Výsledné řešení je poměrně jednoduché, přehledné a dá se pochopit bez podrobné znalosti dekorátorů."
   ]
  },
  {
   "cell_type": "markdown",
   "metadata": {},
   "source": [
    "<br>\n",
    "\n",
    "#### Metody v OOP\n",
    "\n",
    "---\n",
    "\n",
    "Jako ucelený seznam metod, které můžeme použít v rámci OOP se podívej na tyto metody:\n",
    "1. **Instanční** metoda,\n",
    "2. **třídní** metoda,\n",
    "3. **statická** metoda.\n",
    "\n",
    "<br>\n",
    "\n",
    "Celou situaci lze vysvětlit na teoretické ukázce:"
   ]
  },
  {
   "cell_type": "code",
   "execution_count": 14,
   "metadata": {},
   "outputs": [],
   "source": [
    "class KindleNotesParser:\n",
    "    \"\"\"Parse the data in the .txt file\"\"\"\n",
    "    \n",
    "    def load_data(self):     # klasická metoda instance\n",
    "        return \"Calling instance method..\", self\n",
    "    \n",
    "    @classmethod\n",
    "    def parsing_files(cls):  # třídní metoda\n",
    "        return \"Calling class method..\", cls\n",
    "    \n",
    "    @staticmethod\n",
    "    def is_there_file():     # statická metoda\n",
    "        return \"Calling static method..\""
   ]
  },
  {
   "cell_type": "code",
   "execution_count": 15,
   "metadata": {},
   "outputs": [],
   "source": [
    "reader = KindleNotesParser()"
   ]
  },
  {
   "cell_type": "markdown",
   "metadata": {},
   "source": [
    "<br>\n",
    "\n",
    "##### Instační metoda\n",
    "Metoda, která má mj. mezi parametry klíčový výraz `self`. Tím dovede zpřístupnit jak třídu (a její atributy), tak instance."
   ]
  },
  {
   "cell_type": "code",
   "execution_count": 16,
   "metadata": {},
   "outputs": [
    {
     "name": "stdout",
     "output_type": "stream",
     "text": [
      "reader=<__main__.KindleNotesParser object at 0x7f8b40d518b0>\n",
      "reader.load_data=<bound method KindleNotesParser.load_data of <__main__.KindleNotesParser object at 0x7f8b40d518b0>>\n",
      "reader.load_data()=('Calling instance method..', <__main__.KindleNotesParser object at 0x7f8b40d518b0>)\n"
     ]
    }
   ],
   "source": [
    "print(\n",
    "    f\"{reader=}\",              # adresa objektu instance 'reader'\n",
    "    f\"{reader.load_data=}\",    # popis metody patřící instanci 'reader'\n",
    "    f\"{reader.load_data()=}\",  # spuštění, opět adresa\n",
    "    sep=\"\\n\"\n",
    ")"
   ]
  },
  {
   "cell_type": "markdown",
   "metadata": {},
   "source": [
    "<br>\n",
    "\n",
    "Takže pomocí předchozí ukázky můžeme říct, že **instanční metoda** je schopna zpřístupnit *původní třídu* a případně pracovat s jejími *atributy*.\n",
    "\n",
    "<br>\n",
    "\n",
    "##### Třídní metoda\n",
    "Podobný zápis jako pro instační metodu, ale liší se dvěma zásadním rozdíly:\n",
    "1. Dekorátor `@classmethod`,\n",
    "2. parametr `cls`."
   ]
  },
  {
   "cell_type": "code",
   "execution_count": 17,
   "metadata": {},
   "outputs": [
    {
     "name": "stdout",
     "output_type": "stream",
     "text": [
      "reader.parsing_files=<bound method KindleNotesParser.parsing_files of <class '__main__.KindleNotesParser'>>\n",
      "reader.parsing_files()=('Calling class method..', <class '__main__.KindleNotesParser'>)\n"
     ]
    }
   ],
   "source": [
    "print(\n",
    "    f\"{reader.parsing_files=}\",    # adresa objektu instance nyní chybí\n",
    "    f\"{reader.parsing_files()=}\",  # metodu spouští, třídy zpřístupní, ale instanci nezná\n",
    "    sep=\"\\n\"\n",
    ")"
   ]
  },
  {
   "cell_type": "markdown",
   "metadata": {},
   "source": [
    "<br>\n",
    "\n",
    "Jakmile použiješ **třídní metodu**, vidíš že máš přístup k objektu *původní třídy*, ale tentokrát není k dispozici odkaz (adresa) *instance*.\n",
    "\n",
    "```\n",
    "('Reading .txt file..', <__main__.KindleParser object at 0x7f0ed30782e0>)\n",
    "('Spoustim metodu tridy', <class '__main__.KindleParser'>)\n",
    "```\n",
    "\n",
    "<br>\n",
    "\n",
    "##### Statická metoda\n",
    "\n",
    "1. Dekorátor `@staticmethod`,\n",
    "2. chybí parametr `self`,\n",
    "3. chybí parametr `cls`."
   ]
  },
  {
   "cell_type": "code",
   "execution_count": 18,
   "metadata": {},
   "outputs": [
    {
     "name": "stdout",
     "output_type": "stream",
     "text": [
      "reader.is_there_file=<function KindleNotesParser.is_there_file at 0x7f8b3cc5ec10>\n",
      "reader.is_there_file()='Calling static method..'\n"
     ]
    }
   ],
   "source": [
    "print(\n",
    "    f\"{reader.is_there_file=}\",\n",
    "    f\"{reader.is_there_file()=}\",\n",
    "    sep=\"\\n\"\n",
    ")"
   ]
  },
  {
   "cell_type": "code",
   "execution_count": 20,
   "metadata": {},
   "outputs": [
    {
     "name": "stdout",
     "output_type": "stream",
     "text": [
      "Calling static method..\n"
     ]
    }
   ],
   "source": [
    "print(KindleNotesParser.is_there_file())"
   ]
  },
  {
   "cell_type": "code",
   "execution_count": 21,
   "metadata": {},
   "outputs": [
    {
     "name": "stdout",
     "output_type": "stream",
     "text": [
      "('Calling class method..', <class '__main__.KindleNotesParser'>)\n"
     ]
    }
   ],
   "source": [
    "print(KindleNotesParser.parsing_files())"
   ]
  },
  {
   "cell_type": "markdown",
   "metadata": {},
   "source": [
    "<br>\n",
    "\n",
    "Pokud spustíš a prozkoumáš **statickou metodu**, můžeš si ověřit, že tato metoda nemá přístup ani k *původní třídě*, ani k její *instanci*.\n",
    "\n",
    "<br>\n",
    "\n",
    "##### Shrnutí k metodám\n",
    "\n",
    "---\n",
    "1. **instanční metoda** - může upravit nejenom objekty instance, ale i třídy (na začátku vidí jak třídu, tak instanci),\n",
    "2. **třídní metoda (@classmethod)** - může upravit objekty třídy, ale nemůže upravovat objekty instancí (vidí třídu, ale ne instanci),\n",
    "3. **statická metoda (@staticmethod)** - nemůže upravovat ani objekty instancí, ani objekty třídy (nevidí ani třídu, ani instanci).\n",
    "\n",
    "<br>\n",
    "\n",
    "##### Praktické ukázky\n",
    "\n",
    "---\n",
    "\n",
    "###### Instanční metoda"
   ]
  },
  {
   "cell_type": "code",
   "execution_count": 22,
   "metadata": {},
   "outputs": [],
   "source": [
    "class KindleNotesParser:\n",
    "    \"\"\"Parse the data in the .txt file\"\"\"\n",
    "#     notes: list = []  # upravení třídního atributu\n",
    "    \n",
    "    def __init__(self, file: str, data: str):\n",
    "        self.file = file\n",
    "        self.data = data\n",
    "        self.notes = list()  # upravení instance atributu\n",
    "        \n",
    "    def load_data(self):\n",
    "        return self.notes.append(self.data)"
   ]
  },
  {
   "cell_type": "code",
   "execution_count": 23,
   "metadata": {},
   "outputs": [
    {
     "name": "stdout",
     "output_type": "stream",
     "text": [
      "['Moje první poznámka k ...']\n",
      "['Druhá poznámka ke knížce ...']\n"
     ]
    }
   ],
   "source": [
    "first_note = KindleNotesParser(\"poznamky.txt\", \"Moje první poznámka k ...\")\n",
    "second_note = KindleNotesParser(\"poznamky_nove.txt\", \"Druhá poznámka ke knížce ...\")\n",
    "\n",
    "first_note.load_data()\n",
    "second_note.load_data()\n",
    "\n",
    "print(first_note.notes, second_note.notes, sep=\"\\n\")"
   ]
  },
  {
   "cell_type": "markdown",
   "metadata": {},
   "source": [
    "<br>\n",
    "\n",
    "Je jedno, který atribut budeš chtít upravit. Díky **instanční metodě** můžeš pracovat jak s třídními, tak s instančními objekty.\n",
    "<br>\n",
    "\n",
    "###### Třídní metoda"
   ]
  },
  {
   "cell_type": "code",
   "execution_count": 24,
   "metadata": {},
   "outputs": [],
   "source": [
    "class KindleNotesParser:\n",
    "    \"\"\"Parse the data in the .txt file\"\"\"\n",
    "    readed_files: int = 0\n",
    "    \n",
    "    def __init__(self, filename: str):\n",
    "        self.filename = filename\n",
    "\n",
    "\n",
    "    @classmethod\n",
    "    def parsing_files(cls, filename: str):\n",
    "        instance = cls(filename)\n",
    "        cls.readed_files += 1  \n",
    "        print(f\"Parsing data from: {filename}\")"
   ]
  },
  {
   "cell_type": "code",
   "execution_count": 25,
   "metadata": {},
   "outputs": [
    {
     "name": "stdout",
     "output_type": "stream",
     "text": [
      "KindleNotesParser.readed_files=0\n"
     ]
    }
   ],
   "source": [
    "print(f\"{KindleNotesParser.readed_files=}\")"
   ]
  },
  {
   "cell_type": "code",
   "execution_count": 26,
   "metadata": {},
   "outputs": [
    {
     "name": "stdout",
     "output_type": "stream",
     "text": [
      "Parsing data from: poznamky.txt\n",
      "Parsing data from: nove_poznamky.txt\n",
      "Parsing data from: poznpozn.txt\n"
     ]
    }
   ],
   "source": [
    "KindleNotesParser.parsing_files(\"poznamky.txt\")\n",
    "KindleNotesParser.parsing_files(\"nove_poznamky.txt\")\n",
    "KindleNotesParser.parsing_files(\"poznpozn.txt\")"
   ]
  },
  {
   "cell_type": "code",
   "execution_count": 27,
   "metadata": {},
   "outputs": [
    {
     "name": "stdout",
     "output_type": "stream",
     "text": [
      "KindleNotesParser.readed_files=3\n"
     ]
    }
   ],
   "source": [
    "print(f\"{KindleNotesParser.readed_files=}\")"
   ]
  },
  {
   "cell_type": "markdown",
   "metadata": {},
   "source": [
    "<br>\n",
    "\n",
    "Pokud budeš chtít použít **třídní metody**, potom dávej pozor na to, že můžeš spravovat pouze třídní atributy.\n",
    "<br>\n",
    "\n",
    "###### Statická metoda"
   ]
  },
  {
   "cell_type": "code",
   "execution_count": 28,
   "metadata": {},
   "outputs": [],
   "source": [
    "import os\n",
    "\n",
    "class KindleNotesParser:\n",
    "    \"\"\"Parse the data in the .txt file\"\"\"\n",
    "    \n",
    "    def __init__(self, file: str):\n",
    "        self.file = file\n",
    "    \n",
    "    @staticmethod\n",
    "    def is_there_file(name):\n",
    "        print(\"The file exists!\") if os.path.exists(name) else print(\"Does not exist!\")"
   ]
  },
  {
   "cell_type": "code",
   "execution_count": 29,
   "metadata": {},
   "outputs": [
    {
     "name": "stdout",
     "output_type": "stream",
     "text": [
      "The file exists!\n"
     ]
    }
   ],
   "source": [
    "parser = KindleNotesParser(\"\")\n",
    "parser.is_there_file(\"lesson01.ipynb\")"
   ]
  },
  {
   "cell_type": "code",
   "execution_count": 31,
   "metadata": {},
   "outputs": [
    {
     "name": "stdout",
     "output_type": "stream",
     "text": [
      "The file exists!\n"
     ]
    }
   ],
   "source": [
    "KindleNotesParser.is_there_file(\"lesson01.ipynb\")"
   ]
  },
  {
   "cell_type": "code",
   "execution_count": 32,
   "metadata": {},
   "outputs": [
    {
     "ename": "NameError",
     "evalue": "name 'is_there_file' is not defined",
     "output_type": "error",
     "traceback": [
      "\u001b[0;31m---------------------------------------------------------------------------\u001b[0m",
      "\u001b[0;31mNameError\u001b[0m                                 Traceback (most recent call last)",
      "\u001b[0;32m<ipython-input-32-36ca2cec4b1a>\u001b[0m in \u001b[0;36m<module>\u001b[0;34m\u001b[0m\n\u001b[0;32m----> 1\u001b[0;31m \u001b[0mis_there_file\u001b[0m\u001b[0;34m(\u001b[0m\u001b[0;34m\"lesson01.ipynb\"\u001b[0m\u001b[0;34m)\u001b[0m\u001b[0;34m\u001b[0m\u001b[0;34m\u001b[0m\u001b[0m\n\u001b[0m",
      "\u001b[0;31mNameError\u001b[0m: name 'is_there_file' is not defined"
     ]
    }
   ],
   "source": [
    "is_there_file(\"lesson01.ipynb\")"
   ]
  },
  {
   "cell_type": "code",
   "execution_count": 33,
   "metadata": {},
   "outputs": [
    {
     "name": "stdout",
     "output_type": "stream",
     "text": [
      "Does not exist!\n"
     ]
    }
   ],
   "source": [
    "parser.is_there_file(\"lesson11.ipynb\")"
   ]
  },
  {
   "cell_type": "code",
   "execution_count": 34,
   "metadata": {},
   "outputs": [
    {
     "name": "stdout",
     "output_type": "stream",
     "text": [
      "Does not exist!\n"
     ]
    }
   ],
   "source": [
    "KindleNotesParser.is_there_file(\"lesson11.ipynb\")"
   ]
  },
  {
   "cell_type": "markdown",
   "metadata": {},
   "source": [
    "<br>\n",
    "\n",
    "**Statická metoda** nepotřebuje vědět nic ani o třídě, ani o instanci. Pracuje s parametrem jako klasická funkce. Ale svým účelem spadá jako nástroj ke konkrétní třídě.\n",
    "\n",
    "<br>\n",
    "\n",
    "Možná se ptáš, jestli je potom potřeba psát třídu a nenapsat **obyčejnou funkci**.\n",
    "\n",
    "<br>\n",
    "\n",
    "Je to často řešením, obzvlášť pokud je metoda obecná a může posloužit více objektům.\n",
    "\n",
    "<br>\n",
    "\n",
    "Pokud spadá funkcionalita statické metody k třídě, je vhodnější ji k ní přidružit.\n",
    "\n",
    "<br>\n",
    "\n",
    "#### Úloha\n",
    "----\n",
    "\n",
    "Druhou úlohou bude napsat skript, který zpracovává poznámky z Kindlu.\n",
    "\n",
    "<br>\n",
    "\n",
    "Průběh souboru:\n",
    "```\n",
    "\"\"\"\n",
    "1. Zpracuj zadaný objekt (text, string, soubor, ..),\n",
    "2. načti zpracovaná (rozdělená) data,\n",
    "3. vytvoř z nich nový objekt 'KindleNote',\n",
    "4. ulož nový objekt.\n",
    "\"\"\"\n",
    "```\n",
    "\n",
    "<br>\n",
    "\n",
    "Následný výstup:\n",
    "```\n",
    "[INFO] 2021-11-29 09:20:17,645 - Note added Faktomluva..\n",
    "[INFO] 2021-11-29 09:20:17,650 - Note added Life Is What You Make It..\n",
    "[INFO] 2021-11-29 09:20:17,653 - Note added Elon Musk..\n",
    "[INFO] 2021-11-29 09:20:17,655 - Note added Linux Pocket Guide, 3E..\n",
    "[INFO] 2021-11-29 09:20:17,657 - Note added Introducing Python..\n",
    "```"
   ]
  },
  {
   "cell_type": "code",
   "execution_count": 145,
   "metadata": {},
   "outputs": [
    {
     "name": "stdout",
     "output_type": "stream",
     "text": [
      "Note added Faktomluva\n",
      "Note added Life Is What You Make It\n",
      "Note added Elon Musk\n",
      "Note added Linux Pocket Guide, 3E\n",
      "Note added Introducing Python\n"
     ]
    },
    {
     "data": {
      "text/plain": [
       "[Faktomluva,\n",
       " Life Is What You Make It,\n",
       " Elon Musk,\n",
       " Linux Pocket Guide, 3E,\n",
       " Introducing Python]"
      ]
     },
     "execution_count": 145,
     "metadata": {},
     "output_type": "execute_result"
    }
   ],
   "source": [
    "from typing import List, Dict\n",
    "\n",
    "\n",
    "class  KindleNoteProcessor:\n",
    "    \"\"\"Process the .txt file and create new notes.\"\"\"\n",
    "    \n",
    "    def __init__(self, parsed_txt = None):\n",
    "        self.notes = list()\n",
    "        self.parsed_txt = parsed_txt\n",
    "    \n",
    "    @property\n",
    "    def parsed_txt(self):\n",
    "        return self._parsed_txt\n",
    "    \n",
    "    @parsed_txt.setter\n",
    "    def parsed_txt(self, text: str):\n",
    "        self._parsed_txt = text\n",
    "        \n",
    "    def create_note(self, attrs: dict):\n",
    "        self.notes.append(\n",
    "            KindleNote(\n",
    "                title=attrs.get(\"title\"),\n",
    "                author=attrs.get(\"author\"),\n",
    "                location=attrs.get(\"location\"),\n",
    "                date=attrs.get(\"date\"),\n",
    "                desc=attrs.get(\"description\"),    \n",
    "            )\n",
    "        )\n",
    "        \n",
    "    def iterate_through_notes(self) -> None:\n",
    "        for note in self.parsed_txt:\n",
    "            if len(note.keys()) == 5:\n",
    "                print(f\"Note added {note['title']}\")\n",
    "                self.create_note(note)\n",
    "        \n",
    "\n",
    "class TextParser:\n",
    "    \"\"\"Parse the data from the given .txt file.\"\"\"\n",
    "    \n",
    "    def __init__(self, text: str, separator = \"\"):\n",
    "        self.text = text\n",
    "        self.separator = separator\n",
    "        \n",
    "    @property\n",
    "    def separator(self):\n",
    "        return self._separator\n",
    "    \n",
    "    @separator.setter\n",
    "    def separator(self, sep: str):\n",
    "        if not isinstance(sep, str):\n",
    "            raise ValueError(\"Separator attribute has to be type 'str'\")\n",
    "        self._separator = sep\n",
    "        \n",
    "    def split_text_into_lines(self) -> List[str]:\n",
    "        \"\"\"Split .txt file into individual parsed notes\"\"\"\n",
    "        return [\n",
    "            self.process_note_content(note.splitlines())\n",
    "            for note in self.text.split(self.separator)\n",
    "            if note\n",
    "        ]\n",
    "    \n",
    "    def process_note_content(self, note: List[str]) -> Dict[str, str]:\n",
    "        \"\"\"Try select attributes title, date,...\"\"\"\n",
    "        try:\n",
    "            first_line: str = note[0]\n",
    "            second_line: str = note[1]\n",
    "            fourth_line: str = note[3]\n",
    "            \n",
    "        except IndexError:\n",
    "            result = dict()\n",
    "        else:\n",
    "            title, author = first_line.split(\" (\", maxsplit=1)\n",
    "            location, date = second_line.split(\" | \", maxsplit=1)\n",
    "            result: dict = {\n",
    "                \"date\": date,\n",
    "                \"title\": title,\n",
    "                \"author\": author,\n",
    "                \"location\": location,\n",
    "                \"description\": fourth_line\n",
    "            }\n",
    "        finally:\n",
    "            return result\n",
    "\n",
    "class KindleNote:\n",
    "    \"\"\"Create a note with proper attributes.\"\"\"\n",
    "    \n",
    "    def __init__(self, title: str, author: str, date: str, desc: str, location: str):\n",
    "        self.date = date\n",
    "        self.desc = desc\n",
    "        self.title = title\n",
    "        self.author = author\n",
    "        self.location = location\n",
    "        \n",
    "    def __repr__(self):\n",
    "        return str(self.title)\n",
    "        \n",
    "\n",
    "# 1. Zpracuj zadaný objekt (text, string, soubor, ..),\n",
    "text = \"\"\"\n",
    "==========\n",
    "Faktomluva (Hans Rosling;Ola Rosling;Anna Roslingová Rönnlundová)\n",
    "- Your Highlight on Location 2724-2728 | Added on Wednesday, July 24, 2019 8:41:27 AM\n",
    "\n",
    "Největším orgánem našeho těla je kůže. Před objevem moderních léků patřila k nejhorším kožním nemocem syfilis. Začínala jako svědivé vřídky a pak si prokousala cestu do kostí, až postihla celou kostru. Nemoc způsobující ohavný vzhled a nesnesitelnou bolest měla v různých zemích různá jména. V Rusku chorobě říkali „polská nemoc“. V Polsku to byla „německá nemoc“, v Německu „francouzská nemoc“ a ve Francii „italská nemoc“. Italové vinu házeli zpátky a nazývali ji „francouzská nemoc“.\n",
    "==========\n",
    "Life Is What You Make It (Peter Buffett)\n",
    "- Your Highlight on Location 233-234 | Added on Monday, August 19, 2019 2:07:48 PM\n",
    "\n",
    "The problem with honoring the rewards of work rather than the work itself is that the rewards can always be taken away.\n",
    "==========\n",
    "Elon Musk (Ashlee Vance)\n",
    "- Your Highlight on page 127 | location 1943-1944 | Added on Thursday, 31 May 2018 19:38:29\n",
    "\n",
    "v oblasti rovníku, kde se planeta otáčí rychleji a pomáhá raketám v letu.\n",
    "==========\n",
    "Linux Pocket Guide, 3E (Daniel J. Barrett)\n",
    "- Your Highlight on Location 2310-2314 | Added on Monday, February 18, 2019 10:09:26 AM\n",
    "\n",
    "Viewing Processes ps List process. uptime View the system load. w List active processes for all users. top Monitor resource-intensive processes interactively. free Display free memory.\n",
    "==========\n",
    "Introducing Python (Bill Lubanovic)\n",
    "- Your Highlight on Location 6170-6171 | Added on Wednesday, June 26, 2019 10:18:02 AM\n",
    "\n",
    "Do not set debug = True in production web servers. It exposes too much information about your server to potential intruders.\n",
    "==========\n",
    "\"\"\"\n",
    "parser = TextParser(text)\n",
    "parser.separator = \"==========\\n\"\n",
    "\n",
    "# 2. načti zpracovaná (rozdělená) data,\n",
    "app = KindleNoteProcessor()\n",
    "app.parsed_txt = parser.split_text_into_lines()\n",
    "\n",
    "# 3. vytvoř z nich nový objekt 'KindleNote',\n",
    "app.iterate_through_notes()\n",
    "\n",
    "#  4. ulož nový objekt\n",
    "app.notes"
   ]
  },
  {
   "cell_type": "code",
   "execution_count": 151,
   "metadata": {},
   "outputs": [],
   "source": [
    "import logging\n",
    "from typing import List, Dict\n",
    "\n",
    "\n",
    "class KindleNoteProcessor:\n",
    "    \"\"\"Process the .txt file and create new notes.\"\"\"\n",
    "    \n",
    "    def __init__(self, parsed_txt: list = []):\n",
    "        self.notes: list = []\n",
    "        self.parsed_txt = parsed_txt\n",
    "\n",
    "        fmt=\"[%(levelname)s] %(asctime)s - %(message)s\"\n",
    "        logging.basicConfig(level=logging.DEBUG, format=fmt)\n",
    "\n",
    "    @property\n",
    "    def parsed_txt(self) -> str:\n",
    "        return self._parsed_txt\n",
    "    \n",
    "    @parsed_txt.setter\n",
    "    def parsed_txt(self, text: str):\n",
    "        if not isinstance(text, list):\n",
    "            raise ValueError(\"Cannot process empty obj. str\")\n",
    "        self._parsed_txt = text\n",
    "    \n",
    "    def create_note(self, attrs: dict):\n",
    "        self.notes.append(\n",
    "            KindleNote(\n",
    "                title=attrs.get(\"title\"),\n",
    "                author=attrs.get(\"author\"),\n",
    "                loc=attrs.get(\"location\"),\n",
    "                desc=attrs.get(\"description\"),\n",
    "                date=attrs.get(\"date\"),\n",
    "            )\n",
    "        )\n",
    "        \n",
    "    def create_all_notes(self) -> None:\n",
    "        for note in self._parsed_txt:\n",
    "            if len(note.keys()) == 5:\n",
    "                logging.info(f\"Note added {note['title']}..\")\n",
    "                self.create_note(note)\n",
    "\n",
    "\n",
    "class TxtParser:\n",
    "    \"\"\"Parse the data from the given .txt file.\"\"\"\n",
    "    \n",
    "    def __init__(self, text, separator = \"\"):\n",
    "        self.text = text\n",
    "        self.separator = separator\n",
    "        \n",
    "    @property\n",
    "    def separator(self) -> str:\n",
    "        return self._separator\n",
    "    \n",
    "    @separator.setter\n",
    "    def separator(self, sep: str):\n",
    "        if not isinstance(sep, str):\n",
    "            raise ValueError(\"Separator attribute has to be type 'str'.\")\n",
    "        self._separator = sep\n",
    "           \n",
    "    def split_text_into_lines(self) -> List[str]:\n",
    "        \"\"\"Split .txt file into individual parsed notes.\"\"\"\n",
    "        return [\n",
    "            self.process_note_content(note.splitlines())\n",
    "            for note in self.text.split(self.separator)\n",
    "            if note\n",
    "        ]\n",
    "                \n",
    "    @staticmethod\n",
    "    def process_note_content(note: List[str]) -> Dict[str, str]:\n",
    "        \"\"\"Try to select attributes title, date and description.\"\"\"\n",
    "        try:\n",
    "            title_line: str = note[0]\n",
    "            location_line: str = note[1]\n",
    "            description: str = note[3]\n",
    "        \n",
    "        except IndexError:\n",
    "            results: dict = {}\n",
    "        else:\n",
    "            title, author = note[0].split(\" (\", maxsplit=1)\n",
    "            location, date = note[1].split(\"|\", maxsplit=1)\n",
    "            results: dict = {\n",
    "                \"date\": date,\n",
    "                \"title\": title,\n",
    "                \"location\": location,\n",
    "                \"description\": description,\n",
    "                \"author\": author.rstrip(\")\"),\n",
    "            }\n",
    "        finally:\n",
    "            return results\n",
    "\n",
    "\n",
    "class KindleNote:\n",
    "    \"\"\"Create a note with proper attributes.\"\"\"\n",
    "    \n",
    "    def __init__(self, title: str, loc: str, desc: str, date: str, author: str):\n",
    "        self.desc = desc\n",
    "        self.date = date\n",
    "        self.title = title\n",
    "        self.location = loc\n",
    "        self.author = author\n",
    "        \n",
    "    def __repr__(self) -> str:\n",
    "        return str(self.title)"
   ]
  },
  {
   "cell_type": "code",
   "execution_count": 150,
   "metadata": {},
   "outputs": [
    {
     "name": "stderr",
     "output_type": "stream",
     "text": [
      "[INFO] 2021-12-02 21:38:17,616 - Note added Faktomluva..\n",
      "[INFO] 2021-12-02 21:38:17,617 - Note added Life Is What You Make It..\n",
      "[INFO] 2021-12-02 21:38:17,618 - Note added Elon Musk..\n",
      "[INFO] 2021-12-02 21:38:17,618 - Note added Linux Pocket Guide, 3E..\n",
      "[INFO] 2021-12-02 21:38:17,619 - Note added Introducing Python..\n"
     ]
    }
   ],
   "source": [
    "text = \"\"\"\n",
    "==========\n",
    "Faktomluva (Hans Rosling;Ola Rosling;Anna Roslingová Rönnlundová)\n",
    "- Your Highlight on Location 2724-2728 | Added on Wednesday, July 24, 2019 8:41:27 AM\n",
    "\n",
    "Největším orgánem našeho těla je kůže. Před objevem moderních léků patřila k nejhorším kožním nemocem syfilis. Začínala jako svědivé vřídky a pak si prokousala cestu do kostí, až postihla celou kostru. Nemoc způsobující ohavný vzhled a nesnesitelnou bolest měla v různých zemích různá jména. V Rusku chorobě říkali „polská nemoc“. V Polsku to byla „německá nemoc“, v Německu „francouzská nemoc“ a ve Francii „italská nemoc“. Italové vinu házeli zpátky a nazývali ji „francouzská nemoc“.\n",
    "==========\n",
    "Life Is What You Make It (Peter Buffett)\n",
    "- Your Highlight on Location 233-234 | Added on Monday, August 19, 2019 2:07:48 PM\n",
    "\n",
    "The problem with honoring the rewards of work rather than the work itself is that the rewards can always be taken away.\n",
    "==========\n",
    "Elon Musk (Ashlee Vance)\n",
    "- Your Highlight on page 127 | location 1943-1944 | Added on Thursday, 31 May 2018 19:38:29\n",
    "\n",
    "v oblasti rovníku, kde se planeta otáčí rychleji a pomáhá raketám v letu.\n",
    "==========\n",
    "Linux Pocket Guide, 3E (Daniel J. Barrett)\n",
    "- Your Highlight on Location 2310-2314 | Added on Monday, February 18, 2019 10:09:26 AM\n",
    "\n",
    "Viewing Processes ps List process. uptime View the system load. w List active processes for all users. top Monitor resource-intensive processes interactively. free Display free memory.\n",
    "==========\n",
    "Introducing Python (Bill Lubanovic)\n",
    "- Your Highlight on Location 6170-6171 | Added on Wednesday, June 26, 2019 10:18:02 AM\n",
    "\n",
    "Do not set debug = True in production web servers. It exposes too much information about your server to potential intruders.\n",
    "==========\n",
    "\"\"\"\n",
    "\n",
    "# rozděl zadaný text pomocí definovaného oddělovače\n",
    "txt = TxtParser(text)\n",
    "txt.separator = \"==========\\n\"\n",
    "\n",
    "# zpracuj rozdělený text na jednotlivé atributy\n",
    "app = KindleNoteProcessor()\n",
    "app.parsed_txt = txt.split_text_into_lines()\n",
    "\n",
    "# zapiš všechny poznámky\n",
    "app.create_all_notes()"
   ]
  },
  {
   "cell_type": "markdown",
   "metadata": {},
   "source": [
    "---"
   ]
  }
 ],
 "metadata": {
  "kernelspec": {
   "display_name": "Python 3",
   "language": "python",
   "name": "python3"
  },
  "language_info": {
   "codemirror_mode": {
    "name": "ipython",
    "version": 3
   },
   "file_extension": ".py",
   "mimetype": "text/x-python",
   "name": "python",
   "nbconvert_exporter": "python",
   "pygments_lexer": "ipython3",
   "version": "3.8.10"
  }
 },
 "nbformat": 4,
 "nbformat_minor": 4
}
