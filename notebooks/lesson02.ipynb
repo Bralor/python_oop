{
 "cells": [
  {
   "cell_type": "markdown",
   "metadata": {},
   "source": [
    "### Pomocné třídní dekorátory\n",
    "---\n",
    "\n",
    "<br>\n",
    "\n",
    "#### Metody v OOP\n",
    "\n",
    "---\n",
    "\n",
    "Jako ucelený seznam metod, které můžeme použít v rámci OOP se podívej na tyto metody:\n",
    "1. **Instanční** metoda,\n",
    "2. **třídní** metoda,\n",
    "3. **statická** metoda.\n",
    "\n",
    "<br>\n",
    "\n",
    "Celou situaci lze vysvětlit na teoretické ukázce:"
   ]
  },
  {
   "cell_type": "code",
   "execution_count": 3,
   "metadata": {},
   "outputs": [],
   "source": [
    "class KindleNotesParser:\n",
    "    \"\"\"Parse the data in the .txt file\"\"\"\n",
    "    \n",
    "    def load_data(self):  # klasická metoda instance\n",
    "        return \"Calling instance method..\", self\n",
    "    \n",
    "    @classmethod\n",
    "    def parsing_files(cls):  # třídní metoda\n",
    "        return \"Calling class method..\", cls\n",
    "    \n",
    "    @staticmethod\n",
    "    def is_there_file():     # statická metoda\n",
    "        return \"Calling static method..\""
   ]
  },
  {
   "cell_type": "code",
   "execution_count": 4,
   "metadata": {},
   "outputs": [],
   "source": [
    "reader = KindleNotesParser()"
   ]
  },
  {
   "cell_type": "markdown",
   "metadata": {},
   "source": [
    "<br>\n",
    "\n",
    "##### Instační metoda\n",
    "Metoda, která má mj. mezi parametry klíčový výraz `self`. Tím dovede zpřístupnit jak třídy (a její atributy), tak instance."
   ]
  },
  {
   "cell_type": "code",
   "execution_count": 5,
   "metadata": {},
   "outputs": [
    {
     "name": "stdout",
     "output_type": "stream",
     "text": [
      "<__main__.KindleNotesParser object at 0x7ff0f648cf70>\n",
      "<bound method KindleNotesParser.load_data of <__main__.KindleNotesParser object at 0x7ff0f648cf70>>\n",
      "('Calling instance method..', <__main__.KindleNotesParser object at 0x7ff0f648cf70>)\n"
     ]
    }
   ],
   "source": [
    "print(\n",
    "    reader,              # adresa objektu instance 'reader'\n",
    "    reader.load_data,    # popis metody patřící instanci 'reader'\n",
    "    reader.load_data(),  # spuštění, opět adresa\n",
    "    sep=\"\\n\"\n",
    ")"
   ]
  },
  {
   "cell_type": "markdown",
   "metadata": {},
   "source": [
    "<br>\n",
    "\n",
    "Takže pomocí předchozí ukázky můžeme říct, že **instanční metoda** je schopna zpřístupnit *původní třídu* a případně pracovat s jejími *atributy*.\n",
    "\n",
    "<br>\n",
    "\n",
    "##### Třídní metoda\n",
    "Podobný zápis jako pro instační metodu, ale liší se dvěma zásadním rozdíly:\n",
    "1. Dekorátor `@classmethod`,\n",
    "2. parametr `cls`."
   ]
  },
  {
   "cell_type": "code",
   "execution_count": 6,
   "metadata": {},
   "outputs": [
    {
     "name": "stdout",
     "output_type": "stream",
     "text": [
      "<bound method KindleNotesParser.parsing_files of <class '__main__.KindleNotesParser'>>\n",
      "('Calling class method..', <class '__main__.KindleNotesParser'>)\n"
     ]
    }
   ],
   "source": [
    "print(\n",
    "    reader.parsing_files,    # adresa objektu instance nyní chybí\n",
    "    reader.parsing_files(),  # metodu spouští, třídy zpřístupní, ale instanci nezná\n",
    "    sep=\"\\n\"\n",
    ")"
   ]
  },
  {
   "cell_type": "markdown",
   "metadata": {},
   "source": [
    "<br>\n",
    "\n",
    "Jakmile použiješ **třídní metodu**, vidíš že máš přístup k objektu *původní třídy*, ale tentokrát není k dispozici odkaz (adresa) *instance*.\n",
    "\n",
    "```\n",
    "('Reading .txt file..', <__main__.KindleParser object at 0x7f0ed30782e0>)\n",
    "('Spoustim metodu tridy', <class '__main__.KindleParser'>)\n",
    "```\n",
    "\n",
    "<br>\n",
    "\n",
    "##### Statická metoda\n",
    "\n",
    "1. Dekorátor `@staticmethod`,\n",
    "2. chybí parametr `self`,\n",
    "3. chybí parametr `cls`."
   ]
  },
  {
   "cell_type": "code",
   "execution_count": 7,
   "metadata": {},
   "outputs": [
    {
     "name": "stdout",
     "output_type": "stream",
     "text": [
      "<function KindleNotesParser.is_there_file at 0x7ff0f43929d0>\n",
      "Calling static method..\n"
     ]
    }
   ],
   "source": [
    "print(\n",
    "    reader.is_there_file,\n",
    "    reader.is_there_file(),\n",
    "    sep=\"\\n\"\n",
    ")"
   ]
  },
  {
   "cell_type": "code",
   "execution_count": 8,
   "metadata": {},
   "outputs": [
    {
     "ename": "TypeError",
     "evalue": "load_data() missing 1 required positional argument: 'self'",
     "output_type": "error",
     "traceback": [
      "\u001b[0;31m---------------------------------------------------------------------------\u001b[0m",
      "\u001b[0;31mTypeError\u001b[0m                                 Traceback (most recent call last)",
      "\u001b[0;32m<ipython-input-8-89ed19ab003f>\u001b[0m in \u001b[0;36m<module>\u001b[0;34m\u001b[0m\n\u001b[0;32m----> 1\u001b[0;31m \u001b[0mprint\u001b[0m\u001b[0;34m(\u001b[0m\u001b[0mKindleNotesParser\u001b[0m\u001b[0;34m.\u001b[0m\u001b[0mload_data\u001b[0m\u001b[0;34m(\u001b[0m\u001b[0;34m)\u001b[0m\u001b[0;34m)\u001b[0m\u001b[0;34m\u001b[0m\u001b[0;34m\u001b[0m\u001b[0m\n\u001b[0m",
      "\u001b[0;31mTypeError\u001b[0m: load_data() missing 1 required positional argument: 'self'"
     ]
    }
   ],
   "source": [
    "print(KindleNotesParser.load_data())"
   ]
  },
  {
   "cell_type": "code",
   "execution_count": 9,
   "metadata": {},
   "outputs": [
    {
     "name": "stdout",
     "output_type": "stream",
     "text": [
      "('Calling class method..', <class '__main__.KindleNotesParser'>)\n"
     ]
    }
   ],
   "source": [
    "print(KindleNotesParser.parsing_files())"
   ]
  },
  {
   "cell_type": "code",
   "execution_count": 10,
   "metadata": {},
   "outputs": [
    {
     "name": "stdout",
     "output_type": "stream",
     "text": [
      "Calling static method..\n"
     ]
    }
   ],
   "source": [
    "print(KindleNotesParser.is_there_file())"
   ]
  },
  {
   "cell_type": "markdown",
   "metadata": {},
   "source": [
    "<br>\n",
    "\n",
    "Pokud spustíš a prozkoumáš **statickou metodu**, můžeš si ověřit, že tato metoda nemá přístup ani k *původní třídě*, ani k její *instanci*.\n",
    "\n",
    "<br>\n",
    "\n",
    "##### Shrnutí k metodám\n",
    "\n",
    "---\n",
    "1. **instanční metoda** - může upravit nejenom objekty instance, ale i třídy (na začátku vidí jak třídu, tak instanci),\n",
    "2. **třídní metoda (@classmethod)** - může upravit objekty třídy, ale nemůže upravovat objekty instancí (vidí třídu, ale ne instanci),\n",
    "3. **statická metoda (@staticmethod)** - nemůže upravovat ani objekty instancí, ani objekty třídy (nevidí ani třídu, ani instanci).\n",
    "\n",
    "<br>\n",
    "\n",
    "##### Praktické ukázky\n",
    "\n",
    "---\n",
    "\n",
    "###### Instanční metoda"
   ]
  },
  {
   "cell_type": "code",
   "execution_count": 11,
   "metadata": {},
   "outputs": [],
   "source": [
    "class KindleNotesParser:\n",
    "    \"\"\"Parse the data in the .txt file\"\"\"\n",
    "    notes: list = []  # upravení třídního atributu\n",
    "    \n",
    "    def __init__(self, file: str, data: str):\n",
    "        self.file = file\n",
    "        self.data = data\n",
    "#         self.notes = list()  # upravení instan. atributu\n",
    "        \n",
    "    def load_data(self):\n",
    "        return self.notes.append(self.data)"
   ]
  },
  {
   "cell_type": "code",
   "execution_count": 12,
   "metadata": {},
   "outputs": [
    {
     "name": "stdout",
     "output_type": "stream",
     "text": [
      "['Moje první poznámka k ...', 'Druhá poznámka ke knížce ...']\n",
      "['Moje první poznámka k ...', 'Druhá poznámka ke knížce ...']\n"
     ]
    }
   ],
   "source": [
    "first_note = KindleNotesParser(\"poznamky.txt\", \"Moje první poznámka k ...\")\n",
    "second_note = KindleNotesParser(\"poznamky_nove.txt\", \"Druhá poznámka ke knížce ...\")\n",
    "\n",
    "first_note.load_data()\n",
    "second_note.load_data()\n",
    "\n",
    "print(first_note.notes, second_note.notes, sep=\"\\n\")"
   ]
  },
  {
   "cell_type": "markdown",
   "metadata": {},
   "source": [
    "<br>\n",
    "\n",
    "Je jedno, který atribut budeš chtít upravit. Díky **instanční metodě** můžeš pracovat jak s třídními, tak s instančními objekty.\n",
    "<br>\n",
    "\n",
    "###### Třídní metoda"
   ]
  },
  {
   "cell_type": "code",
   "execution_count": 13,
   "metadata": {},
   "outputs": [],
   "source": [
    "class KindleNotesParser:\n",
    "    \"\"\"Parse the data in the .txt file\"\"\"\n",
    "    readed_files: int = 0\n",
    "    \n",
    "    def __init__(self, file: str):\n",
    "        self.file = file\n",
    "    \n",
    "    @classmethod\n",
    "    def parsing_files(cls, name):\n",
    "        instance = cls(name)\n",
    "        cls.readed_files += 1  \n",
    "        print(f\"Parsing data from: {name}\")"
   ]
  },
  {
   "cell_type": "code",
   "execution_count": 14,
   "metadata": {},
   "outputs": [
    {
     "name": "stdout",
     "output_type": "stream",
     "text": [
      "KindleNotesParser.readed_files=0\n"
     ]
    }
   ],
   "source": [
    "print(f\"{KindleNotesParser.readed_files=}\")"
   ]
  },
  {
   "cell_type": "code",
   "execution_count": 15,
   "metadata": {},
   "outputs": [
    {
     "name": "stdout",
     "output_type": "stream",
     "text": [
      "Parsing data from: poznamky.txt\n",
      "Parsing data from: nove_poznamky.txt\n",
      "Parsing data from: poznpozn.txt\n"
     ]
    }
   ],
   "source": [
    "KindleNotesParser.parsing_files(\"poznamky.txt\")\n",
    "KindleNotesParser.parsing_files(\"nove_poznamky.txt\")\n",
    "KindleNotesParser.parsing_files(\"poznpozn.txt\")"
   ]
  },
  {
   "cell_type": "code",
   "execution_count": 16,
   "metadata": {},
   "outputs": [
    {
     "name": "stdout",
     "output_type": "stream",
     "text": [
      "KindleNotesParser.readed_files=3\n"
     ]
    }
   ],
   "source": [
    "print(f\"{KindleNotesParser.readed_files=}\")"
   ]
  },
  {
   "cell_type": "markdown",
   "metadata": {},
   "source": [
    "<br>\n",
    "\n",
    "Pokud budeš chtít použít **třídní metody**, potom dávej pozor na to, že můžeš spravovat pouze třídní atributy.\n",
    "<br>\n",
    "\n",
    "###### Statická metoda"
   ]
  },
  {
   "cell_type": "code",
   "execution_count": 17,
   "metadata": {},
   "outputs": [],
   "source": [
    "import os\n",
    "\n",
    "class KindleNotesParser:\n",
    "    \"\"\"Parse the data in the .txt file\"\"\"\n",
    "    \n",
    "    def __init__(self, file: str):\n",
    "        self.file = file\n",
    "    \n",
    "    @staticmethod\n",
    "    def is_there_file(name):\n",
    "        print(\"The file exists!\") if os.path.exists(name) else print(\"Does not exist!\")\n"
   ]
  },
  {
   "cell_type": "code",
   "execution_count": 18,
   "metadata": {},
   "outputs": [
    {
     "name": "stdout",
     "output_type": "stream",
     "text": [
      "The file exists!\n"
     ]
    }
   ],
   "source": [
    "parser = KindleNotesParser(\"\")\n",
    "parser.is_there_file(\"lesson01.ipynb\")"
   ]
  },
  {
   "cell_type": "code",
   "execution_count": 19,
   "metadata": {},
   "outputs": [
    {
     "name": "stdout",
     "output_type": "stream",
     "text": [
      "Does not exist!\n"
     ]
    }
   ],
   "source": [
    "parser.is_there_file(\"lesson11.ipynb\")"
   ]
  },
  {
   "cell_type": "markdown",
   "metadata": {},
   "source": [
    "<br>\n",
    "\n",
    "**Statická metoda** nepotřebuje vědět nic ani o třídě, ani o instanci. Pracuje s parametrem jako klasická funkce. Ale svým účelem spadá jako nástroj ke konkrétní třídě.\n",
    "\n",
    "<br>\n",
    "\n",
    "#### Vlastnosti třídy\n",
    "\n",
    "---\n",
    "\n",
    "Představ si situaci, kdy máš napsat převodník jednotek objemu. Z **litrů** na **pinty**(UK):"
   ]
  },
  {
   "cell_type": "code",
   "execution_count": 50,
   "metadata": {},
   "outputs": [],
   "source": [
    "class LiterConvertor:\n",
    "    def __init__(self, liter: int = 0):\n",
    "        self.liter = liter\n",
    "        \n",
    "    def to_pints(self):\n",
    "        return self.liter * 1.759754"
   ]
  },
  {
   "cell_type": "code",
   "execution_count": 51,
   "metadata": {},
   "outputs": [
    {
     "name": "stdout",
     "output_type": "stream",
     "text": [
      "0.75\n",
      "1.3198155\n"
     ]
    }
   ],
   "source": [
    "bottle_volume = LiterConvertor()\n",
    "bottle_volume.liter = 0.75\n",
    "print(bottle_volume.liter)\n",
    "print(bottle_volume.to_pints())"
   ]
  },
  {
   "cell_type": "markdown",
   "metadata": {},
   "source": [
    "<br>\n",
    "\n",
    "Kdykoliv se pokusíš tímto způsobem přepsat hodnotu, interpret pracuje stejně jako když přepisuješ hodnotu ve slovníku:"
   ]
  },
  {
   "cell_type": "code",
   "execution_count": 55,
   "metadata": {},
   "outputs": [
    {
     "name": "stdout",
     "output_type": "stream",
     "text": [
      "{'liter': 0.75}\n"
     ]
    }
   ],
   "source": [
    " print(bottle_volume.__dict__)"
   ]
  },
  {
   "cell_type": "code",
   "execution_count": 54,
   "metadata": {},
   "outputs": [
    {
     "name": "stdout",
     "output_type": "stream",
     "text": [
      "0.75\n",
      "0.75\n"
     ]
    }
   ],
   "source": [
    "print(\n",
    "    bottle_volume.liter,              # instační atribut\n",
    "    bottle_volume.__dict__[\"liter\"],  # slovníkový výběr podle klíče\n",
    "    sep=\"\\n\"\n",
    ")"
   ]
  },
  {
   "cell_type": "markdown",
   "metadata": {},
   "source": [
    "<br>\n",
    "\n",
    "Lepší implementace (pythonovější) v rámci objektově-orientovaného programování by vypadala následovně:"
   ]
  },
  {
   "cell_type": "code",
   "execution_count": 39,
   "metadata": {},
   "outputs": [],
   "source": [
    "class LiterConvertor:\n",
    "    def __init__(self, liter: float = 0.0):\n",
    "        self.set_volume_in_liter(liter)\n",
    "        \n",
    "    def to_pints(self):\n",
    "        return self.get_volume_in_liter() * 1.759754\n",
    "    \n",
    "    def get_volume_in_liter(self):\n",
    "        return self._liter\n",
    "    \n",
    "    def set_volume_in_liter(self, value: float):\n",
    "        if value < 0:\n",
    "            raise ValueError(\"Cannot process negative number\")\n",
    "        self._liter = value"
   ]
  },
  {
   "cell_type": "code",
   "execution_count": 40,
   "metadata": {},
   "outputs": [
    {
     "name": "stdout",
     "output_type": "stream",
     "text": [
      "0.75\n",
      "1.3198155\n"
     ]
    }
   ],
   "source": [
    "volume = LiterConvertor(0.75)\n",
    "print(\n",
    "    volume.get_volume_in_liter(),\n",
    "    volume.to_pints(),\n",
    "    sep=\"\\n\"\n",
    ")"
   ]
  },
  {
   "cell_type": "code",
   "execution_count": 41,
   "metadata": {},
   "outputs": [
    {
     "ename": "ValueError",
     "evalue": "Cannot process negative number",
     "output_type": "error",
     "traceback": [
      "\u001b[0;31m---------------------------------------------------------------------------\u001b[0m",
      "\u001b[0;31mValueError\u001b[0m                                Traceback (most recent call last)",
      "\u001b[0;32m<ipython-input-41-2d575f97a2c7>\u001b[0m in \u001b[0;36m<module>\u001b[0;34m\u001b[0m\n\u001b[0;32m----> 1\u001b[0;31m \u001b[0mvolume\u001b[0m\u001b[0;34m.\u001b[0m\u001b[0mset_volume_in_liter\u001b[0m\u001b[0;34m(\u001b[0m\u001b[0;34m-\u001b[0m\u001b[0;36m1\u001b[0m\u001b[0;34m)\u001b[0m\u001b[0;34m\u001b[0m\u001b[0;34m\u001b[0m\u001b[0m\n\u001b[0m",
      "\u001b[0;32m<ipython-input-39-f560878ddb01>\u001b[0m in \u001b[0;36mset_volume_in_liter\u001b[0;34m(self, value)\u001b[0m\n\u001b[1;32m     11\u001b[0m     \u001b[0;32mdef\u001b[0m \u001b[0mset_volume_in_liter\u001b[0m\u001b[0;34m(\u001b[0m\u001b[0mself\u001b[0m\u001b[0;34m,\u001b[0m \u001b[0mvalue\u001b[0m\u001b[0;34m:\u001b[0m \u001b[0mfloat\u001b[0m\u001b[0;34m)\u001b[0m\u001b[0;34m:\u001b[0m\u001b[0;34m\u001b[0m\u001b[0;34m\u001b[0m\u001b[0m\n\u001b[1;32m     12\u001b[0m         \u001b[0;32mif\u001b[0m \u001b[0mvalue\u001b[0m \u001b[0;34m<\u001b[0m \u001b[0;36m0\u001b[0m\u001b[0;34m:\u001b[0m\u001b[0;34m\u001b[0m\u001b[0;34m\u001b[0m\u001b[0m\n\u001b[0;32m---> 13\u001b[0;31m             \u001b[0;32mraise\u001b[0m \u001b[0mValueError\u001b[0m\u001b[0;34m(\u001b[0m\u001b[0;34m\"Cannot process negative number\"\u001b[0m\u001b[0;34m)\u001b[0m\u001b[0;34m\u001b[0m\u001b[0;34m\u001b[0m\u001b[0m\n\u001b[0m\u001b[1;32m     14\u001b[0m         \u001b[0mself\u001b[0m\u001b[0;34m.\u001b[0m\u001b[0m_liter\u001b[0m \u001b[0;34m=\u001b[0m \u001b[0mvalue\u001b[0m\u001b[0;34m\u001b[0m\u001b[0;34m\u001b[0m\u001b[0m\n",
      "\u001b[0;31mValueError\u001b[0m: Cannot process negative number"
     ]
    }
   ],
   "source": [
    "volume.set_volume_in_liter(-1)"
   ]
  },
  {
   "cell_type": "markdown",
   "metadata": {},
   "source": [
    "<br>\n",
    "\n",
    "Toto řešení nám dovolilo přidat omezení, kdy nechceme počítat objem s negativní hodnotou.\n",
    "\n",
    "<br>\n",
    "\n",
    "Bohužel se také objevil problém s ohledem na implementaci našeho vylepšení. Všechny ohlášení `obj.liter` je nutné přepsat na `obj.get_volume_in_liter()` a `obj.liter = val` na `obj.set_volume(val)`.\n",
    "\n",
    "<br>\n",
    "\n",
    "Taková úprava řešení může znamenat problém na desítky, stovky řádků.\n",
    "\n",
    "<br>\n",
    "\n",
    "Naštěstí můžeme s vlastnostmi třídy nakládat lépe!"
   ]
  },
  {
   "cell_type": "code",
   "execution_count": 48,
   "metadata": {},
   "outputs": [],
   "source": [
    "class LiterConvertor:\n",
    "    def __init__(self, liter: float = 0.0):\n",
    "        self.liter = liter\n",
    "        \n",
    "    def to_pints(self):\n",
    "        return self.liter * 1.759754\n",
    "    \n",
    "    def get_volume_in_liter(self):\n",
    "        print(\"Getting..\")\n",
    "        return self._liter\n",
    "    \n",
    "    def set_volume_in_liter(self, value: float):\n",
    "        print(\"Setting..\")\n",
    "        if value < 0:\n",
    "            raise ValueError(\"Cannot process negative number\")\n",
    "        self._liter = value\n",
    "        \n",
    "    liter = property(get_volume_in_liter, set_volume_in_liter)"
   ]
  },
  {
   "cell_type": "code",
   "execution_count": 49,
   "metadata": {},
   "outputs": [
    {
     "name": "stdout",
     "output_type": "stream",
     "text": [
      "Setting..\n",
      "Getting..\n",
      "0.75\n",
      "Getting..\n",
      "1.3198155\n"
     ]
    }
   ],
   "source": [
    "volume = LiterConvertor(0.75)\n",
    "print(volume.liter)\n",
    "print(volume.to_pints())"
   ]
  },
  {
   "cell_type": "code",
   "execution_count": 47,
   "metadata": {},
   "outputs": [
    {
     "name": "stdout",
     "output_type": "stream",
     "text": [
      "Setting..\n"
     ]
    },
    {
     "ename": "ValueError",
     "evalue": "Cannot process negative number",
     "output_type": "error",
     "traceback": [
      "\u001b[0;31m---------------------------------------------------------------------------\u001b[0m",
      "\u001b[0;31mValueError\u001b[0m                                Traceback (most recent call last)",
      "\u001b[0;32m<ipython-input-47-c97036ceabcc>\u001b[0m in \u001b[0;36m<module>\u001b[0;34m\u001b[0m\n\u001b[0;32m----> 1\u001b[0;31m \u001b[0mvolume\u001b[0m\u001b[0;34m.\u001b[0m\u001b[0mliter\u001b[0m \u001b[0;34m=\u001b[0m \u001b[0;34m-\u001b[0m\u001b[0;36m1\u001b[0m\u001b[0;34m\u001b[0m\u001b[0;34m\u001b[0m\u001b[0m\n\u001b[0m",
      "\u001b[0;32m<ipython-input-45-d954e857e407>\u001b[0m in \u001b[0;36mset_volume_in_liter\u001b[0;34m(self, value)\u001b[0m\n\u001b[1;32m     13\u001b[0m         \u001b[0mprint\u001b[0m\u001b[0;34m(\u001b[0m\u001b[0;34m\"Setting..\"\u001b[0m\u001b[0;34m)\u001b[0m\u001b[0;34m\u001b[0m\u001b[0;34m\u001b[0m\u001b[0m\n\u001b[1;32m     14\u001b[0m         \u001b[0;32mif\u001b[0m \u001b[0mvalue\u001b[0m \u001b[0;34m<\u001b[0m \u001b[0;36m0\u001b[0m\u001b[0;34m:\u001b[0m\u001b[0;34m\u001b[0m\u001b[0;34m\u001b[0m\u001b[0m\n\u001b[0;32m---> 15\u001b[0;31m             \u001b[0;32mraise\u001b[0m \u001b[0mValueError\u001b[0m\u001b[0;34m(\u001b[0m\u001b[0;34m\"Cannot process negative number\"\u001b[0m\u001b[0;34m)\u001b[0m\u001b[0;34m\u001b[0m\u001b[0;34m\u001b[0m\u001b[0m\n\u001b[0m\u001b[1;32m     16\u001b[0m         \u001b[0mself\u001b[0m\u001b[0;34m.\u001b[0m\u001b[0m_liter\u001b[0m \u001b[0;34m=\u001b[0m \u001b[0mvalue\u001b[0m\u001b[0;34m\u001b[0m\u001b[0;34m\u001b[0m\u001b[0m\n\u001b[1;32m     17\u001b[0m \u001b[0;34m\u001b[0m\u001b[0m\n",
      "\u001b[0;31mValueError\u001b[0m: Cannot process negative number"
     ]
    }
   ],
   "source": [
    "volume.liter = -1"
   ]
  },
  {
   "cell_type": "markdown",
   "metadata": {},
   "source": [
    "<br>\n",
    "\n",
    "Pokaždé co tentokrát použijeme proměnnou `liter` dojde automaticky k zavolání metody `get_volume_in_liter()`.\n",
    "\n",
    "<br>\n",
    "\n",
    "Stejně tak, pokud budeš chtít přepast hodnotu v proměnnou `liter`, tak dojde ke spuštění metody `set_volume_in_liter()`.\n",
    "\n",
    "<br>\n",
    "\n",
    "Takže pokud použiješ funkci `property()`, nemusíš se omezovat na potřebné úpravy tvého stávajícího skriptu.\n",
    "\n",
    "<br>\n",
    "\n",
    "\n",
    "#### Dekorátory setter, getter, deleter\n",
    "\n",
    "---\n",
    "\n",
    "<br>"
   ]
  },
  {
   "cell_type": "code",
   "execution_count": null,
   "metadata": {},
   "outputs": [],
   "source": []
  }
 ],
 "metadata": {
  "kernelspec": {
   "display_name": "Python 3",
   "language": "python",
   "name": "python3"
  },
  "language_info": {
   "codemirror_mode": {
    "name": "ipython",
    "version": 3
   },
   "file_extension": ".py",
   "mimetype": "text/x-python",
   "name": "python",
   "nbconvert_exporter": "python",
   "pygments_lexer": "ipython3",
   "version": "3.8.10"
  }
 },
 "nbformat": 4,
 "nbformat_minor": 4
}
