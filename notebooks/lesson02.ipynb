{
 "cells": [
  {
   "cell_type": "markdown",
   "metadata": {},
   "source": [
    "### Pomocné třídní dekorátory\n",
    "---\n",
    "\n",
    "<br>\n",
    "\n",
    "#### Metody v OOP\n",
    "\n",
    "---\n",
    "\n",
    "Jako ucelený seznam metod, které můžeme použít v rámci OOP se podívej na tyto metody:\n",
    "1. **Instanční** metoda,\n",
    "2. **třídní** metoda,\n",
    "3. **statická** metoda.\n",
    "\n",
    "<br>\n",
    "\n",
    "Celou situaci lze vysvětlit na teoretické ukázce:"
   ]
  },
  {
   "cell_type": "code",
   "execution_count": 1,
   "metadata": {},
   "outputs": [],
   "source": [
    "class KindleParser:\n",
    "    \"\"\"Parse the data in the .txt file\"\"\"\n",
    "    \n",
    "    def read_text(self):     # klasická metoda instance\n",
    "        return \"Calling instance method..\", self\n",
    "    \n",
    "    @classmethod\n",
    "    def tridni_metoda(cls):  # třídní metoda\n",
    "        return \"Calling class method..\", cls\n",
    "    \n",
    "    @staticmethod\n",
    "    def parse_content():     # statická metoda\n",
    "        return \"Calling static method..\""
   ]
  },
  {
   "cell_type": "code",
   "execution_count": 2,
   "metadata": {},
   "outputs": [],
   "source": [
    "reader = KindleParser()"
   ]
  },
  {
   "cell_type": "markdown",
   "metadata": {},
   "source": [
    "##### Instační metoda\n",
    "Metoda, která má mj. mezi parametry klíčový výraz `self`. Tím dovede zpřístupnit jak třídy (a její atributy), tak instance."
   ]
  },
  {
   "cell_type": "code",
   "execution_count": 3,
   "metadata": {},
   "outputs": [
    {
     "name": "stdout",
     "output_type": "stream",
     "text": [
      "<__main__.KindleParser object at 0x7f3da85c2610>\n",
      "<bound method KindleParser.read_text of <__main__.KindleParser object at 0x7f3da85c2610>>\n",
      "('Calling instance method..', <__main__.KindleParser object at 0x7f3da85c2610>)\n"
     ]
    }
   ],
   "source": [
    "print(\n",
    "    reader,              # adresa objektu instance 'reader'\n",
    "    reader.read_text,    # popis metody patřící instanci 'reader'\n",
    "    reader.read_text(),  # spuštění, opět adresa\n",
    "    sep=\"\\n\"\n",
    ")"
   ]
  },
  {
   "cell_type": "markdown",
   "metadata": {},
   "source": [
    "<br>\n",
    "\n",
    "Takže pomocí předchozí ukázky můžeme říct, že **instanční metoda** je schopna zpřístupnit *původní třídu* a případně pracovat s jejími *atributy*.\n",
    "\n",
    "<br>\n",
    "\n",
    "##### Třídní metoda\n",
    "Podobný zápis jako pro instační metodu, ale liší se dvěma zásadním rozdíly:\n",
    "1. Dekorátor `@classmethod`,\n",
    "2. parametr `cls`."
   ]
  },
  {
   "cell_type": "code",
   "execution_count": 4,
   "metadata": {},
   "outputs": [
    {
     "name": "stdout",
     "output_type": "stream",
     "text": [
      "<bound method KindleParser.tridni_metoda of <class '__main__.KindleParser'>>\n",
      "('Calling class method..', <class '__main__.KindleParser'>)\n"
     ]
    }
   ],
   "source": [
    "print(\n",
    "    reader.tridni_metoda,    # adresa objektu instance nyní chybí\n",
    "    reader.tridni_metoda(),  # metodu spouští, třídy zpřístupní, ale instanci nezná\n",
    "    sep=\"\\n\"\n",
    ")"
   ]
  },
  {
   "cell_type": "markdown",
   "metadata": {},
   "source": [
    "<br>\n",
    "\n",
    "Jakmile použiješ **třídní metodu**, vidíš že máš přístup k objektu *původní třídy*, ale tentokrát není k dispozici odkaz (adresa) *instance*.\n",
    "\n",
    "```\n",
    "('Reading .txt file..', <__main__.KindleParser object at 0x7f0ed30782e0>)\n",
    "('Spoustim metodu tridy', <class '__main__.KindleParser'>)\n",
    "```\n",
    "\n",
    "<br>\n",
    "\n",
    "##### Statická metoda\n",
    "\n",
    "1. Dekorátor `@staticmethod`,\n",
    "2. chybí parametr `self`,\n",
    "3. chybí parametr `cls`."
   ]
  },
  {
   "cell_type": "code",
   "execution_count": 5,
   "metadata": {},
   "outputs": [
    {
     "name": "stdout",
     "output_type": "stream",
     "text": [
      "<function KindleParser.parse_content at 0x7f3da85cddc0>\n",
      "Calling static method..\n"
     ]
    }
   ],
   "source": [
    "print(\n",
    "    reader.parse_content,\n",
    "    reader.parse_content(),\n",
    "    sep=\"\\n\"\n",
    ")"
   ]
  },
  {
   "cell_type": "code",
   "execution_count": 6,
   "metadata": {},
   "outputs": [
    {
     "ename": "TypeError",
     "evalue": "read_text() missing 1 required positional argument: 'self'",
     "output_type": "error",
     "traceback": [
      "\u001b[0;31m---------------------------------------------------------------------------\u001b[0m",
      "\u001b[0;31mTypeError\u001b[0m                                 Traceback (most recent call last)",
      "\u001b[0;32m<ipython-input-6-1f624cc043e3>\u001b[0m in \u001b[0;36m<module>\u001b[0;34m\u001b[0m\n\u001b[0;32m----> 1\u001b[0;31m \u001b[0mprint\u001b[0m\u001b[0;34m(\u001b[0m\u001b[0mKindleParser\u001b[0m\u001b[0;34m.\u001b[0m\u001b[0mread_text\u001b[0m\u001b[0;34m(\u001b[0m\u001b[0;34m)\u001b[0m\u001b[0;34m)\u001b[0m\u001b[0;34m\u001b[0m\u001b[0;34m\u001b[0m\u001b[0m\n\u001b[0m",
      "\u001b[0;31mTypeError\u001b[0m: read_text() missing 1 required positional argument: 'self'"
     ]
    }
   ],
   "source": [
    "print(KindleParser.read_text())"
   ]
  },
  {
   "cell_type": "code",
   "execution_count": 7,
   "metadata": {},
   "outputs": [
    {
     "name": "stdout",
     "output_type": "stream",
     "text": [
      "('Calling class method..', <class '__main__.KindleParser'>)\n"
     ]
    }
   ],
   "source": [
    "print(KindleParser.tridni_metoda())"
   ]
  },
  {
   "cell_type": "code",
   "execution_count": 8,
   "metadata": {},
   "outputs": [
    {
     "name": "stdout",
     "output_type": "stream",
     "text": [
      "Calling static method..\n"
     ]
    }
   ],
   "source": [
    "print(KindleParser.parse_content())"
   ]
  },
  {
   "cell_type": "markdown",
   "metadata": {},
   "source": [
    "<br>\n",
    "\n",
    "Pokud spustíš a prozkoumáš **statickou metodu**, můžeš si ověřit, že tato metoda nemá přístup ani k *původní třídě*, ani k její *instanci*.\n",
    "\n",
    "<br>\n",
    "\n",
    "#### Shrnutí k metodám\n",
    "\n",
    "---\n",
    "1. **instanční metoda** - může upravit stav instance objektu a může upravit stav třídy (na začátku vidí jak třídu, tak instanci),\n",
    "2. **třídní metoda (@classmethod)** - nemůže upravovat stav instance ale může upravovat stav třídy (výše viděl třídu, ale ne instanci),\n",
    "3. **statická metoda (@staticmethod)** - nemůže upravovat ani stav instance, ani stav třídy (ve variantách níže neviděla ani třídu, ani její instanci)."
   ]
  },
  {
   "cell_type": "code",
   "execution_count": null,
   "metadata": {},
   "outputs": [],
   "source": []
  }
 ],
 "metadata": {
  "kernelspec": {
   "display_name": "Python 3",
   "language": "python",
   "name": "python3"
  },
  "language_info": {
   "codemirror_mode": {
    "name": "ipython",
    "version": 3
   },
   "file_extension": ".py",
   "mimetype": "text/x-python",
   "name": "python",
   "nbconvert_exporter": "python",
   "pygments_lexer": "ipython3",
   "version": "3.8.10"
  }
 },
 "nbformat": 4,
 "nbformat_minor": 4
}
