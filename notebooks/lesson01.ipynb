{
 "cells": [
  {
   "cell_type": "markdown",
   "metadata": {},
   "source": [
    "### Úvod do objektově-orientovaného programování\n",
    "---\n",
    "\n",
    "<br>\n",
    "\n",
    "#### Co je to objektově orientované programování (~OOP) ?\n",
    "\n",
    "---\n",
    "OOP rozumíme v obecném slova smyslu **způsobu myšlení** (-programování).\n",
    "<!-- filozofie, vzorec -->\n",
    "\n",
    "<br>\n",
    "\n",
    "Technicky vzato je to jedno z **programovacích paradigmat**:\n",
    "1. *Procedurální zápis* (od shora dolů, nyní udělej tohle, potom udělej tamto, ..),\n",
    "2. *funkcionální zápis* (problém rozložíme na jednotlivé části, funkce),\n",
    "3. *objektově-orientovaný zápis* (logicky související části sdružíme pomocí modelu).\n",
    "<!-- https://en.wikipedia.org/wiki/Programming_paradigm -->\n",
    "\n",
    "<br>\n",
    "\n",
    "#### Proč potřebujeme OOP?\n",
    "\n",
    "---\n",
    "\n",
    "Představ si situaci, že si píšeš vlastní **pomocný skript**.\n",
    "\n",
    "<br>\n",
    "\n",
    "##### I. Osobní skript\n",
    "\n",
    "- netřeba *testovat*,\n",
    "- netřeba *loggovat*,\n",
    "- netřeba *dokumentovat*,\n",
    "- netřeba *kooperace* s ostatními\n",
    "- spustím -> běží = ✅ / neběží = 🙏🏻\n",
    "\n",
    "```python\n",
    "import datetime\n",
    "\n",
    "import bs4\n",
    "import requests\n",
    "\n",
    "# zdrojové url a formát času\n",
    "url: str = \"https://markets.businessinsider.com/commodities/gold-price\"\n",
    "date_format: str = \"%d.%m.%Y;%H:%M:%S\"\n",
    "    \n",
    "# získání odpovědi serveru\n",
    "response: requests.models.Response = requests.get(url)\n",
    "soup: bs4.BeautifulSoup = bs4.BeautifulSoup(response.content)\n",
    "    \n",
    "# získání ceny zlata\n",
    "css_selector: str = \".price-section__current-value\"\n",
    "gold_price: bs4.element.ResultSet = soup.select_one(css_selector).get_text()\n",
    "    \n",
    "# vytvoření poznámky\n",
    "current_time: str = datetime.datetime.now().strftime(date_format)\n",
    "currect_gold_price: str = f\"{current_time}; {gold_price} CZK\"\n",
    "    \n",
    "# zápis do souboru\n",
    "print(currect_gold_price)\n",
    "```\n",
    "\n",
    "<br>\n",
    "\n",
    "##### II. Pracovní projekt\n",
    "Později si můžeš najít práci v menším startupu, kde budeš moct svůj předchozí **projekt používat**.\n",
    "\n",
    "<br>\n",
    "\n",
    "- potřeba *testovat*,\n",
    "- potřeba *dokumentovat*,\n",
    "- potřeba *verzovat* s více kolegy,\n",
    "- spustím -> běží = ✅ / neběží = 💀\n",
    "\n",
    "```python\n",
    "import datetime\n",
    "\n",
    "import bs4\n",
    "import requests\n",
    "\n",
    "\n",
    "def main() -> None:\n",
    "    url: str = \"https://markets.businessinsider.com/commodities/gold-price\"\n",
    "    save_current_price(url)\n",
    "\n",
    " \n",
    "def save_current_price(url: str) -> None:\n",
    "    soup: bs4.BeautifulSoup = get_response(url)\n",
    "    current_price: str = select_html_element(soup)\n",
    "    creating_timestamp(current_price)\n",
    "\n",
    "\n",
    "def send_get_request(url: str) -> bs4.BeautifulSoup:\n",
    "    response: requests.models.Response = requests.get(url)\n",
    "    return bs4.BeautifulSoup(response.content)\n",
    "\n",
    "\n",
    "def select_html_element(\n",
    "    source: str,\n",
    "    selector: str = \".price-section__current-value\") -> str:\n",
    "    \n",
    "    price: bs4.element.Tag = source.select_one(selector)\n",
    "    return price.get_text()\n",
    "\n",
    "\n",
    "def creating_timestamp(\n",
    "    price: str,\n",
    "    t_format: str = \"%d.%m.%Y;%H:%M:%S\") -> str:\n",
    "    \n",
    "    current_time: str = datetime.datetime.now().strftime(t_format)\n",
    "    return f\"{current_time}; {price} CZK\"\n",
    "    \n",
    "\n",
    "if __name__ == \"__main__\":\n",
    "    main()\n",
    "```\n",
    "\n",
    "<br>\n",
    "\n",
    "```python\n",
    "testing_html: str = \"\"\"\n",
    "<html><head><title>Price of gold</title></head>\n",
    "<body>\n",
    "<p class=\"title\"><b>Values</b></p>\n",
    "<p class=\"price-section__current-value\">1111.11</p>\n",
    "<p class=\"another_value\">...</p>\n",
    "\"\"\"\n",
    "testing_time: str = \"11.11.2011;11:11:11\"\n",
    "\n",
    "assert get_response(\"https://www.google.com\")\n",
    "assert select_html_element(bs4.BeautifulSoup(html_doc)) == \"1111.11\"\n",
    "assert creating_timestamp(\"1111.11\", testing_time) == f\"{testing_time}; 1111.11 CZK\"\n",
    "```\n",
    "\n",
    "<br>\n",
    "\n",
    "Tvůj původní malý projekt neustále narůstá a vyžaduje další doplňky a rozšíření.\n",
    "\n",
    "<br>\n",
    "\n",
    "##### III. Objem zápisu narůstá dál\n",
    "<!-- Po časem je nutné skript opět reorganizovat, protože řádky přibývají. -->\n",
    "<!-- Soubor se stává nepřehledný, abstrakce narůstá, počet závislostí narůstá. -->\n",
    "\n",
    "```python\n",
    "import os\n",
    "import sys\n",
    "import logging\n",
    "import datetime\n",
    "\n",
    "import bs4\n",
    "import requests\n",
    "from .. import ...\n",
    "from .. import ...\n",
    "\n",
    "\n",
    "def main() -> None:\n",
    "    pass\n",
    "\n",
    "\n",
    "def send_get_request() -> None:\n",
    "    pass\n",
    "\n",
    "def send_post_request() -> None:\n",
    "    pass\n",
    "\n",
    "def save_current_price() -> None:\n",
    "    pass\n",
    "\n",
    "def select_single_element(source: str, selector: str) -> str:\n",
    "    pass\n",
    "\n",
    "def select_all_elements(source: str, selector: str) -> str:\n",
    "    pass\n",
    "\n",
    "def create_timestamp() -> None:\n",
    "    pass\n",
    "\n",
    "def create_header() -> None:\n",
    "    pass\n",
    "\n",
    "def create_body() -> None:\n",
    "    pass\n",
    "\n",
    "def show_status_message() -> None:\n",
    "    pass\n",
    "\n",
    "if __name__ == \"__main__\":\n",
    "    main()\n",
    "```\n",
    "\n",
    "<br>\n",
    "\n",
    "Pro jednodušší správu takového zdrojového souboru můžeme provést následující:\n",
    "1. **Objektově-orientované programování** (rozdělit strukturu na jednotlivé spolu-související objekty),\n",
    "2. **modulární programování** (rozdělit soubor na několik logicky souvisejících modulů).\n",
    "\n",
    "```python\n",
    "import os\n",
    "import sys\n",
    "\n",
    "...\n",
    "\n",
    "class RequestHandler:\n",
    "    # get_response\n",
    "    # collect_data_from_server\n",
    "    # send_data_to_server\n",
    "    \n",
    "class ResponseParser(RequestHandler):\n",
    "    # select_html_element\n",
    "    # save_current_price\n",
    "    \n",
    "class DataCollector:\n",
    "    # create_cache\n",
    "    # create_timestamp\n",
    "```\n",
    "\n",
    "<br>\n",
    "\n",
    "#### OOP, obecně\n",
    "\n",
    "---\n",
    "Tento *způsob myšlení* je zaměřený na abstrakci.\n",
    "\n",
    "<br>\n",
    "\n",
    "Jde o *škatulkování* **konkrétních věcí** na **obecnější pojmy**. Příkladem mohou být předměty okolo nás.\n",
    "<!-- IPhone -> mobil, Logitech -> myš, ... -->\n",
    "<br>\n",
    "\n",
    "Základem je tedy nějaký **objekt** (monitor, strom, klávesnice, auto,..).\n",
    "\n",
    "<br>\n",
    "\n",
    "Každý objekt má nějaké **vlastnosti** a nějaké **použití**.\n",
    "<!-- výška, průměr, hustota, růst, fotosyntéze, hojení. -->\n",
    "\n",
    "<br>\n",
    "\n",
    "#### OOP v Pythonu\n",
    "\n",
    "---\n",
    "První setkání s OOP v Pythonu není úplně patrné:"
   ]
  },
  {
   "cell_type": "code",
   "execution_count": 1,
   "metadata": {},
   "outputs": [
    {
     "name": "stdout",
     "output_type": "stream",
     "text": [
      "<class 'int'>\n",
      "<class 'str'>\n",
      "<class 'list'>\n",
      "<class 'dict'>\n"
     ]
    }
   ],
   "source": [
    "print(\n",
    "    type(1),\n",
    "    type(\"\"),\n",
    "    type([]),\n",
    "    type({}),\n",
    "    sep=\"\\n\"\n",
    ")"
   ]
  },
  {
   "cell_type": "markdown",
   "metadata": {},
   "source": [
    "<br>\n",
    "\n",
    "Zabudovaná funkce `type()` nám vrací ve všech příkladech různé datové typy.\n",
    "\n",
    "<br>\n",
    "\n",
    "Současně všem těmto datovým typům předchází klíčový výraz `class`, tedy **třída**.\n",
    "\n",
    "<br>\n",
    "\n",
    "*Třída* je v podstatě vzor, která slouží k vytvoření nového objektu, tzv. **instance**.\n",
    "\n",
    "<br>\n",
    "\n",
    "<img src=\"https://i.imgur.com/hFOhwwV.png\" width=\"800\">\n",
    "\n",
    "<br>\n",
    "\n",
    "Jednotlivé objekty vytvořené při procesu *instancování* jsou potom produkty (*~instance*) konkrétní mateřské třídy:"
   ]
  },
  {
   "cell_type": "code",
   "execution_count": 2,
   "metadata": {},
   "outputs": [
    {
     "data": {
      "text/plain": [
       "str"
      ]
     },
     "execution_count": 2,
     "metadata": {},
     "output_type": "execute_result"
    }
   ],
   "source": [
    "name = \"Matous\"                              # instance třídy\n",
    "name.__class__                               # třída, ze které jsem instanci vytvořil"
   ]
  },
  {
   "cell_type": "code",
   "execution_count": 3,
   "metadata": {},
   "outputs": [
    {
     "data": {
      "text/plain": [
       "set"
      ]
     },
     "execution_count": 3,
     "metadata": {},
     "output_type": "execute_result"
    }
   ],
   "source": [
    "names = {\"Matous\", \"Marek\", \"Lukas\", \"Jan\"}  # instance\n",
    "names.__class__                              # původní třída"
   ]
  },
  {
   "cell_type": "markdown",
   "metadata": {},
   "source": [
    "<br>\n",
    "\n",
    "##### Vytvoření nové třídy\n",
    "Následující předpis je pouze ilustrativní (ne praktický):"
   ]
  },
  {
   "cell_type": "code",
   "execution_count": 4,
   "metadata": {},
   "outputs": [],
   "source": [
    "class LinkScraper:\n",
    "    \"\"\"Collects links of various types from a main url\"\"\"\n",
    "    pass"
   ]
  },
  {
   "cell_type": "markdown",
   "metadata": {},
   "source": [
    "Na předchozím zápisu si můžeš všimnout několika rysů:\n",
    "1. `class`, klíčový výraz pro definici nové třídy,\n",
    "2. `LinkScraper`, jméno třídy, formát *camelCase*, jednotné číslo,\n",
    "<!-- https://www.python.org/dev/peps/pep-0008/#naming-conventions -->\n",
    "3. `:` dvojtečka, ukončující předpis,\n",
    "4. `\"\"\"Collects links ...\"\"\"` dokumentace třídy,\n",
    "5. `pass`, prázdné ohlášení (např. pro budoucí účely)."
   ]
  },
  {
   "cell_type": "code",
   "execution_count": 5,
   "metadata": {},
   "outputs": [
    {
     "name": "stdout",
     "output_type": "stream",
     "text": [
      "<class 'type'>\n"
     ]
    }
   ],
   "source": [
    "class LinkScraper:\n",
    "    \"\"\"Collects links of various types from a main url\"\"\"\n",
    "    pass\n",
    "\n",
    "print(type(LinkScraper))"
   ]
  },
  {
   "cell_type": "markdown",
   "metadata": {},
   "source": [
    "<br>\n",
    "\n",
    "Pokud si budeš chtít ověřit o jaký datový typ v případě naší **vlastní třídy**, dostaneš netradiční výstup `<class 'type'>`.\n",
    "\n",
    "<br>\n",
    "\n",
    "Jak je neustále omíláno, *všechno v Pythonu je objekt* a třídy nejsou žádnou výjimkou.\n",
    "\n",
    "<br>\n",
    "\n",
    "Proto i třída musí mít nějaký svůj typ (~type):\n",
    "\n",
    "<br>\n",
    "\n",
    "<img src=\"https://i.imgur.com/z0XN2Gh.png\" width=\"800\">\n",
    "\n",
    "<br>\n",
    "\n",
    "#### Instance třídy\n",
    "\n",
    "---\n",
    "\n",
    "Tvorba instance je proces (instancování), kdy použiju **jméno třídy** (návod) a vytvořím **produkt** (instanci)."
   ]
  },
  {
   "cell_type": "code",
   "execution_count": 6,
   "metadata": {},
   "outputs": [
    {
     "name": "stdout",
     "output_type": "stream",
     "text": [
      "140374705617600\n",
      "140374705615008\n",
      "<class '__main__.LinkScraper'>\n",
      "<class '__main__.LinkScraper'>\n"
     ]
    }
   ],
   "source": [
    "class LinkScraper:\n",
    "    \"\"\"Collects links of various types from a main url\"\"\"\n",
    "    pass\n",
    "\n",
    "instance_1 = LinkScraper()  # diskuze\n",
    "instance_2 = LinkScraper()  # produkty\n",
    "\n",
    "print(\n",
    "    id(instance_1),\n",
    "    id(instance_2),\n",
    "    type(instance_1),\n",
    "    type(instance_2),\n",
    "    sep=\"\\n\"\n",
    ")"
   ]
  },
  {
   "cell_type": "markdown",
   "metadata": {},
   "source": [
    "<br>\n",
    "\n",
    "#### Atribut třídy\n",
    "\n",
    "---\n",
    "\n",
    "**Třídní atribut** nebo také **třídní proměnná** je proměnná (~vlastnost), která náleží třídě samotné.\n",
    "\n",
    "<br>\n",
    "\n",
    "Jednotlivé třídní instance si tuto hodnotu z mateřské třídy předávají(sdílí) a mohou ji dokonce **přepisovat**!\n",
    "\n",
    "<br>\n",
    "\n",
    "##### Vytvoření třídního atributu"
   ]
  },
  {
   "cell_type": "code",
   "execution_count": 7,
   "metadata": {},
   "outputs": [
    {
     "name": "stdout",
     "output_type": "stream",
     "text": [
      "EngetoLinkScraper.host='https://engeto.cz'\n",
      "courses_scraper.host='https://engeto.cz'\n",
      "blogs_scraper.host='https://engeto.cz'\n"
     ]
    }
   ],
   "source": [
    "class EngetoLinkScraper:\n",
    "    \"\"\"Collects links of various types from a main url\"\"\"\n",
    "    host: str = \"https://engeto.cz\"  # třídní atribut\n",
    "\n",
    "\n",
    "print(f\"{EngetoLinkScraper.host=}\")        # bez vytvoření instance třídy\n",
    "\n",
    "courses_scraper = EngetoLinkScraper()      # instance 1.\n",
    "blogs_scraper = EngetoLinkScraper()        # instance 2.\n",
    "\n",
    "print(f\"{courses_scraper.host=}\")    # instance získá třídní atribut\n",
    "print(f\"{blogs_scraper.host=}\")      # ..."
   ]
  },
  {
   "cell_type": "markdown",
   "metadata": {},
   "source": [
    "<br>\n",
    "\n",
    "##### Přepisování třídního atributu"
   ]
  },
  {
   "cell_type": "code",
   "execution_count": 8,
   "metadata": {},
   "outputs": [
    {
     "name": "stdout",
     "output_type": "stream",
     "text": [
      "EngetoLinkScraper.results=[]\n",
      "EngetoLinkScraper.results=['https://engeto.cz/product-1', 'https://engeto.cz/product-2']\n",
      "product_scraper.results=['https://engeto.cz/product-1', 'https://engeto.cz/product-2']\n",
      "discussion_scraper.results=['https://engeto.cz/product-1', 'https://engeto.cz/product-2']\n"
     ]
    }
   ],
   "source": [
    "class EngetoLinkScraper:\n",
    "    \"\"\"Collects links of various types from a main url\"\"\"\n",
    "    host: str = \"https://engeto.cz\"  # třídní atribut\n",
    "    results: list = []               # třídní atribut\n",
    "\n",
    "print(f\"{EngetoLinkScraper.results=}\")        # bez vytvoření instance třídy\n",
    "    \n",
    "product_scraper = EngetoLinkScraper()\n",
    "discussion_scraper = EngetoLinkScraper()\n",
    "\n",
    "product_scraper.results.append(\"https://engeto.cz/product-1\")\n",
    "product_scraper.results.append(\"https://engeto.cz/product-2\")\n",
    "\n",
    "print(f\"{EngetoLinkScraper.results=}\")        # upravený třídní atribut..\n",
    "print(f\"{product_scraper.results=}\")          # ..obsahuje stejné hodnoty..\n",
    "print(f\"{discussion_scraper.results=}\")       # ve všech instancích"
   ]
  },
  {
   "cell_type": "markdown",
   "metadata": {},
   "source": [
    "#### Atribut instance\n",
    "\n",
    "---\n",
    "\n",
    "Instanční atribut, na druhou stranu, je proměnná, která patří **pouze vytvořené instanci**. Samotná třída k nemá přístup\n",
    "\n",
    "<br>\n",
    "\n",
    "##### Vytvoření třídní instance\n",
    "\n",
    "Nejprve si musíme ukázat jak interpret vytvoří novou **třídní instanci**.\n",
    "\n",
    "<br>\n",
    "\n",
    "Pokud nezapíšeme příslušnou metodu (konstruktor), interpret vychází z (na pozadí) **prázdné metody**. Ta nám umožní vytvořit instanci:\n",
    "```python\n",
    "class EngetoLinkScraper:\n",
    "    \"\"\"Collects links of various types from a main url\"\"\"\n",
    "    host: str = \"https://engeto.cz\"\n",
    "\n",
    "courses_scraper = LinkScraper()\n",
    "```\n",
    "\n",
    "<br>\n",
    "\n",
    "Metody, které interpret potřebuje pro **vytvoření nové instance** jsou:\n",
    "1. `__new__`, *vytvoří* nový objekt (netřeba definovat),\n",
    "2. `__init__`, *inicializuje* nový objekt."
   ]
  },
  {
   "cell_type": "code",
   "execution_count": 9,
   "metadata": {},
   "outputs": [],
   "source": [
    "class EngetoLinkScraper:\n",
    "    \"\"\"Collects links of various types from a main url\"\"\"\n",
    "    host: str = \"https://engeto.cz\"  # třídní atribut\n",
    "        \n",
    "    def __init__(self, path: str):   # iniciátor nových instancí\n",
    "        self.path = path             # instanční atribut"
   ]
  },
  {
   "cell_type": "markdown",
   "metadata": {},
   "source": [
    "<br>\n",
    "\n",
    "Zkusíme vytvořit instanci jako doposud:"
   ]
  },
  {
   "cell_type": "code",
   "execution_count": 10,
   "metadata": {},
   "outputs": [
    {
     "ename": "TypeError",
     "evalue": "__init__() missing 1 required positional argument: 'path'",
     "output_type": "error",
     "traceback": [
      "\u001b[0;31m---------------------------------------------------------------------------\u001b[0m",
      "\u001b[0;31mTypeError\u001b[0m                                 Traceback (most recent call last)",
      "\u001b[0;32m<ipython-input-10-935e883251c1>\u001b[0m in \u001b[0;36m<module>\u001b[0;34m\u001b[0m\n\u001b[0;32m----> 1\u001b[0;31m \u001b[0mcourses_scraper\u001b[0m \u001b[0;34m=\u001b[0m \u001b[0mEngetoLinkScraper\u001b[0m\u001b[0;34m(\u001b[0m\u001b[0;34m)\u001b[0m\u001b[0;34m\u001b[0m\u001b[0;34m\u001b[0m\u001b[0m\n\u001b[0m",
      "\u001b[0;31mTypeError\u001b[0m: __init__() missing 1 required positional argument: 'path'"
     ]
    }
   ],
   "source": [
    "courses_scraper = EngetoLinkScraper()"
   ]
  },
  {
   "cell_type": "markdown",
   "metadata": {},
   "source": [
    "<br>\n",
    "\n",
    "Z ukázky je vidět, že pro vytvoření instance potřebuji argument `path`, což bude prozatím libovolný `str`:"
   ]
  },
  {
   "cell_type": "code",
   "execution_count": 11,
   "metadata": {},
   "outputs": [],
   "source": [
    "courses_scraper: EngetoLinkScraper = EngetoLinkScraper(\"product\")"
   ]
  },
  {
   "cell_type": "markdown",
   "metadata": {},
   "source": [
    "<br>\n",
    "\n",
    "Takže metoda `__init__` v definici třídy potřebuje parametry `self` a `path`, ale při inicializaci stačí zapsat jen argument pro `path`.\n",
    "\n",
    "<br>\n",
    "\n",
    "Co potom představuje *keyword* `self`?\n",
    "\n",
    "```python\n",
    "    def __init__(self, path: str):\n",
    "        self.path = path\n",
    "```\n",
    "\n",
    "`self` je v podstatě **pomocný odkaz**, který odkazuje na **budoucí vytvořené instance**, ke kterým přiřazuje instanční **atributy** a **metody**.\n",
    "\n",
    "<br>\n",
    "\n",
    "Díky němu můžeš přiřadit proměnné do instance, která ještě **nevznikla**.\n",
    "\n",
    "<br>\n",
    "\n",
    "**Použití**:\n",
    "1. Záměrně se zapisuje jako **první parametr**,\n",
    "2. vkládám jej jako parametr do každé metody, kde chci **zpřístupnit instanční atributy**."
   ]
  },
  {
   "cell_type": "code",
   "execution_count": 12,
   "metadata": {},
   "outputs": [
    {
     "name": "stdout",
     "output_type": "stream",
     "text": [
      "EngetoLinkScraper.host='https://engeto.cz'\n",
      "courses_scraper.host='https://engeto.cz'\n",
      "courses_scraper.path='product'\n",
      "blogs_scraper.path='blog'\n",
      "blogs_scraper.path='blog'\n"
     ]
    }
   ],
   "source": [
    "class EngetoLinkScraper:\n",
    "    \"\"\"Collects links of various types from a main url\"\"\"\n",
    "    host: str = \"https://engeto.cz\"  # třídní atribut\n",
    "        \n",
    "    def __init__(self, path: str):\n",
    "        self.path = path             # instanční atribut\n",
    "        \n",
    "\n",
    "print(f\"{EngetoLinkScraper.host=}\")  # dostanu na něj bez instance\n",
    "\n",
    "courses_scraper = EngetoLinkScraper(\"product\")\n",
    "blogs_scraper = EngetoLinkScraper(\"blog\")\n",
    "\n",
    "print(f\"{courses_scraper.host=}\")    # třídní atribut\n",
    "print(f\"{courses_scraper.path=}\")    # instanční atribut\n",
    "print(f\"{blogs_scraper.path=}\")      # třídní atribut\n",
    "print(f\"{blogs_scraper.path=}\")      # instanční atribut"
   ]
  },
  {
   "cell_type": "code",
   "execution_count": null,
   "metadata": {},
   "outputs": [],
   "source": [
    "print(f\"{EngetoLinkScraper.path=}\")        # třída se k instančnímu atributu nedostane"
   ]
  },
  {
   "cell_type": "markdown",
   "metadata": {},
   "source": [
    "<br>\n",
    "\n",
    "#### Úloha\n",
    "\n",
    "---\n",
    "První úlohou bude napsat scraper objekt, který umí posbírat všechny odkazy.\n",
    "\n",
    "<br>\n",
    "\n",
    "Na **zadaném webu** najdi všechny odkazy a vyfiltruj pouze takové, které obsahují určité **klíčové slovo**.\n",
    "\n",
    "<br>\n",
    "\n",
    "Příklad:\n",
    "1. host: `https://junior.guru/jobs/`, keyword: `jobs`,\n",
    "2. host: `https://engeto.cz`, keyword: `product`\n",
    "<br>\n"
   ]
  },
  {
   "cell_type": "code",
   "execution_count": 13,
   "metadata": {},
   "outputs": [],
   "source": [
    "from urllib.parse import urlparse\n",
    "\n",
    "import bs4\n",
    "import requests\n",
    "\n",
    "\n",
    "class LinkScraperInitializer:\n",
    "    \"\"\"Create session and return the bs4.BeautifulSoup object.\"\"\"\n",
    "\n",
    "    def send_get_request(self, host: str) -> requests.models.Response:\n",
    "        return requests.get(host)\n",
    "\n",
    "    def parse_html(self, response) -> bs4.BeautifulSoup:\n",
    "        return bs4.BeautifulSoup(response.content, features=\"html.parser\")\n",
    "\n",
    "\n",
    "class LinkScraper:\n",
    "    \"\"\"Collects links of various types from a main url\"\"\"\n",
    "\n",
    "    def __init__(self, soup: bs4.BeautifulSoup):\n",
    "        self.soup = soup\n",
    "\n",
    "    def collect_all_links(self) -> set:\n",
    "        return {\n",
    "            link.get(\"href\")\n",
    "            for link in self.soup.find_all(\"a\")\n",
    "            if \"href\" in link.attrs\n",
    "        }\n",
    "\n",
    "\n",
    "class LinkIterator:\n",
    "    \"\"\"Iterate through the given set of link.\"\"\"\n",
    "\n",
    "    def __init__(self, keyname: str, links: set):\n",
    "        self.links = links\n",
    "        self.keyname = keyname\n",
    "\n",
    "    def iterate_through_links(self) -> set:\n",
    "        \"\"\"\n",
    "        Iterate through the given set of links. Create 'parser' object\n",
    "        that break the url up in comments and check the attr. 'path'.\n",
    "        \"\"\"\n",
    "        result = set()\n",
    "        \n",
    "        for link in self.links:\n",
    "            parser = ComponentParser(link, self.keyname)\n",
    "            result.add(parser.add_verified_link())\n",
    "        \n",
    "        return result\n",
    "\n",
    "\n",
    "class ComponentParser:\n",
    "    \"\"\"Break the url strings up in components.\"\"\"\n",
    "\n",
    "    def __init__(self, link: str, keyname: str):\n",
    "        self.link = link\n",
    "        self.keyname = keyname\n",
    "\n",
    "    def parse_url(self):\n",
    "        return urlparse(self.link)\n",
    "    \n",
    "    def is_path_correct(self, components) -> bool:\n",
    "        return self.keyname in components.path\n",
    "    \n",
    "    def add_verified_link(self):\n",
    "        if self.is_path_correct(self.parse_url()):\n",
    "            return self.link\n",
    "\n",
    "\n",
    "class Application:\n",
    "    def run_scraper(self, host: str, keyword: str):\n",
    "        # initiate the scraper\n",
    "        runner = LinkScraperInitializer()\n",
    "        parsed_html = runner.parse_html(runner.send_get_request(host))\n",
    "\n",
    "        # collect the desirable links\n",
    "        scraper = LinkScraper(parsed_html)\n",
    "        links = scraper.collect_all_links()\n",
    "\n",
    "        # iterate through the links\n",
    "        iterator = LinkIterator(keyword, links)\n",
    "        return iterator.iterate_through_links()\n",
    "\n",
    "\n",
    "if __name__ == \"__main__\":\n",
    "    app = Application()\n",
    "    vals = app.run_scraper(\"https://Engeto.cz\", \"product\")"
   ]
  },
  {
   "cell_type": "code",
   "execution_count": 14,
   "metadata": {
    "scrolled": false
   },
   "outputs": [
    {
     "name": "stdout",
     "output_type": "stream",
     "text": [
      "{None,\n",
      " '/product/detail-terminu-objektove-orientovane-programovani-v-pythonu/',\n",
      " '/product/detail-terminu-online-datova-akademie-22-11-2021-21-2-2022/',\n",
      " '/product/detail-terminu-online-python-akademie-9-11-2021-1-2-2022/',\n",
      " '/product/detail-terminu-zaklady-projektoveho-managementu-v-it-23-11-2-12-2021/',\n",
      " 'https://engeto.cz/product/detail-terminu-zaklady-projektoveho-managementu-v-it-23-11--2-12-2021/'}\n"
     ]
    }
   ],
   "source": [
    "from pprint import pprint\n",
    "pprint(vals)"
   ]
  },
  {
   "cell_type": "markdown",
   "metadata": {},
   "source": [
    "---"
   ]
  }
 ],
 "metadata": {
  "kernelspec": {
   "display_name": "Python 3",
   "language": "python",
   "name": "python3"
  },
  "language_info": {
   "codemirror_mode": {
    "name": "ipython",
    "version": 3
   },
   "file_extension": ".py",
   "mimetype": "text/x-python",
   "name": "python",
   "nbconvert_exporter": "python",
   "pygments_lexer": "ipython3",
   "version": "3.8.10"
  }
 },
 "nbformat": 4,
 "nbformat_minor": 4
}
