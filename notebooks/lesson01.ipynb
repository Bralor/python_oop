{
 "cells": [
  {
   "cell_type": "markdown",
   "metadata": {},
   "source": [
    "### Úvod do objektově-orientovaného programování\n",
    "---\n",
    "\n",
    "<br>\n",
    "\n",
    "#### Co je to objektově orientované programování (~OOP) ?\n",
    "\n",
    "---\n",
    "OOP rozumíme v obecném slova smyslu **způsobu myšlení** (-programování).\n",
    "<!-- filozofie, vzorec -->\n",
    "\n",
    "<br>\n",
    "\n",
    "Technicky vzato je to jedno z **programovacích paradigmat**:\n",
    "1. *Procedurální zápis* (od shora dolů, nyní udělej tohle, potom udělej tamto, ..),\n",
    "2. *funkcionální zápis* (problém rozložíme na jednotlivé části, funkce),\n",
    "3. *objektově-orientovaný zápis* (logicky související části sdružíme pomocí modelu).\n",
    "<!-- https://en.wikipedia.org/wiki/Programming_paradigm -->\n",
    "\n",
    "<br>\n",
    "\n",
    "#### Proč potřebujeme OOP?\n",
    "\n",
    "---\n",
    "\n",
    "Představ si situaci, že si píšeš vlastní **pomocný skript**.\n",
    "\n",
    "<br>\n",
    "\n",
    "##### I. Osobní skript\n",
    "\n",
    "- netřeba *testovat*,\n",
    "- netřeba *loggovat*,\n",
    "- netřeba *dokumentovat*,\n",
    "- netřeba *kooperace* s ostatními\n",
    "- spustím -> běží = ✅ / neběží = 🙏🏻\n",
    "\n",
    "```python\n",
    "import datetime\n",
    "\n",
    "import bs4\n",
    "import requests\n",
    "\n",
    "# zdrojové url a formát času\n",
    "url: str = \"https://markets.businessinsider.com/commodities/gold-price\"\n",
    "date_format: str = \"%d.%m.%Y;%H:%M:%S\"\n",
    "    \n",
    "# získání odpovědi serveru\n",
    "response: requests.models.Response = requests.get(url)\n",
    "soup: bs4.BeautifulSoup = bs4.BeautifulSoup(response.content)\n",
    "    \n",
    "# získání ceny zlata\n",
    "css_selector: str = \".price-section__current-value\"\n",
    "gold_price: bs4.element.ResultSet = soup.select_one(css_selector).get_text()\n",
    "    \n",
    "# vytvoření poznámky\n",
    "current_time: str = datetime.datetime.now().strftime(date_format)\n",
    "currect_gold_price: str = f\"{current_time}; {gold_price} CZK\"\n",
    "    \n",
    "# zápis do souboru\n",
    "print(currect_gold_price)\n",
    "```\n",
    "\n",
    "<br>\n",
    "\n",
    "##### II. Pracovní projekt\n",
    "Později si můžeš najít práci v menším startupu, kde budeš moct svůj předchozí **projekt používat**.\n",
    "\n",
    "<br>\n",
    "\n",
    "- potřeba *testovat*,\n",
    "- potřeba *dokumentovat*,\n",
    "- potřeba *verzovat* s více kolegy,\n",
    "- spustím -> běží = ✅ / neběží = 💀\n",
    "\n",
    "```python\n",
    "import datetime\n",
    "\n",
    "import bs4\n",
    "import requests\n",
    "\n",
    "\n",
    "def main() -> None:\n",
    "    url: str = \"https://markets.businessinsider.com/commodities/gold-price\"\n",
    "    save_current_price(url)\n",
    "\n",
    " \n",
    "def save_current_price(url: str) -> None:\n",
    "    soup: bs4.BeautifulSoup = get_response(url)\n",
    "    current_price: str = select_html_element(soup)\n",
    "    creating_timestamp(current_price)\n",
    "\n",
    "\n",
    "def send_get_request(url: str) -> bs4.BeautifulSoup:\n",
    "    response: requests.models.Response = requests.get(url)\n",
    "    return bs4.BeautifulSoup(response.content)\n",
    "\n",
    "\n",
    "def select_html_element(\n",
    "    source: str,\n",
    "    selector: str = \".price-section__current-value\") -> str:\n",
    "    \n",
    "    price: bs4.element.Tag = source.select_one(selector)\n",
    "    return price.get_text()\n",
    "\n",
    "\n",
    "def creating_timestamp(\n",
    "    price: str,\n",
    "    t_format: str = \"%d.%m.%Y;%H:%M:%S\") -> str:\n",
    "    \n",
    "    current_time: str = datetime.datetime.now().strftime(t_format)\n",
    "    return f\"{current_time}; {price} CZK\"\n",
    "    \n",
    "\n",
    "if __name__ == \"__main__\":\n",
    "    main()\n",
    "```\n",
    "\n",
    "<br>\n",
    "\n",
    "```python\n",
    "testing_html: str = \"\"\"\n",
    "<html><head><title>Price of gold</title></head>\n",
    "<body>\n",
    "<p class=\"title\"><b>Values</b></p>\n",
    "<p class=\"price-section__current-value\">1111.11</p>\n",
    "<p class=\"another_value\">...</p>\n",
    "\"\"\"\n",
    "testing_time: str = \"11.11.2011;11:11:11\"\n",
    "\n",
    "assert get_response(\"https://www.google.com\")\n",
    "assert select_html_element(bs4.BeautifulSoup(html_doc)) == \"1111.11\"\n",
    "assert creating_timestamp(\"1111.11\", testing_time) == f\"{testing_time}; 1111.11 CZK\"\n",
    "```\n",
    "\n",
    "<br>\n",
    "\n",
    "Tvůj původní malý projekt neustále narůstá a vyžaduje další doplňky a rozšíření.\n",
    "\n",
    "<br>\n",
    "\n",
    "##### III. Objem zápisu narůstá dál\n",
    "<!-- Po časem je nutné skript opět reorganizovat, protože řádky přibývají. -->\n",
    "<!-- Soubor se stává nepřehledný, abstrakce narůstá, počet závislostí narůstá. -->\n",
    "\n",
    "```python\n",
    "import os\n",
    "import sys\n",
    "import logging\n",
    "import datetime\n",
    "\n",
    "import bs4\n",
    "import requests\n",
    "from .. import ...\n",
    "from .. import ...\n",
    "\n",
    "\n",
    "def main() -> None:\n",
    "    pass\n",
    "\n",
    "\n",
    "def send_get_request() -> None:\n",
    "    pass\n",
    "\n",
    "def send_post_request() -> None:\n",
    "    pass\n",
    "\n",
    "def save_current_price() -> None:\n",
    "    pass\n",
    "\n",
    "def select_single_element(source: str, selector: str) -> str:\n",
    "    pass\n",
    "\n",
    "def select_all_elements(source: str, selector: str) -> str:\n",
    "    pass\n",
    "\n",
    "def create_timestamp() -> None:\n",
    "    pass\n",
    "\n",
    "def create_header() -> None:\n",
    "    pass\n",
    "\n",
    "def create_body() -> None:\n",
    "    pass\n",
    "\n",
    "def show_status_message() -> None:\n",
    "    pass\n",
    "\n",
    "if __name__ == \"__main__\":\n",
    "    main()\n",
    "```\n",
    "\n",
    "<br>\n",
    "\n",
    "Pro jednodušší správu takového zdrojového souboru můžeme provést následující:\n",
    "1. **Objektově-orientované programování** (rozdělit strukturu na jednotlivé spolu-související objekty),\n",
    "2. **modulární programování** (rozdělit soubor na několik logicky souvisejících modulů).\n",
    "\n",
    "```python\n",
    "import os\n",
    "import sys\n",
    "\n",
    "...\n",
    "\n",
    "class RequestHandler:\n",
    "    # get_response\n",
    "    # collect_data_from_server\n",
    "    # send_data_to_server\n",
    "    \n",
    "class ResponseParser(RequestHandler):\n",
    "    # select_html_element\n",
    "    # save_current_price\n",
    "    \n",
    "class DataCollector:\n",
    "    # create_cache\n",
    "    # create_timestamp\n",
    "```\n",
    "\n",
    "<br>\n",
    "\n",
    "#### OOP, obecně\n",
    "\n",
    "---\n",
    "Tento *způsob myšlení* je zaměřený na abstrakci.\n",
    "\n",
    "<br>\n",
    "\n",
    "Jde o *škatulkování* **konkrétních věcí** na **obecnější pojmy**. Příkladem mohou být předměty okolo nás.\n",
    "<!-- IPhone -> mobil, Logitech -> myš, ... -->\n",
    "<br>\n",
    "\n",
    "Základem je tedy nějaký **objekt** (monitor, strom, klávesnice, auto,..).\n",
    "\n",
    "<br>\n",
    "\n",
    "Každý objekt má nějaké **vlastnosti** a nějaké **použití**.\n",
    "<!-- výška, průměr, hustota, růst, fotosyntéze, hojení. -->\n",
    "\n",
    "<br>\n",
    "\n",
    "#### OOP v Pythonu\n",
    "\n",
    "---\n",
    "První setkání s OOP v Pythonu není úplně patrné:"
   ]
  },
  {
   "cell_type": "code",
   "execution_count": 1,
   "metadata": {},
   "outputs": [
    {
     "name": "stdout",
     "output_type": "stream",
     "text": [
      "<class 'int'>\n",
      "<class 'str'>\n",
      "<class 'list'>\n",
      "<class 'dict'>\n"
     ]
    }
   ],
   "source": [
    "print(\n",
    "    type(1),\n",
    "    type(\"\"),\n",
    "    type([]),\n",
    "    type({}),\n",
    "    sep=\"\\n\"\n",
    ")"
   ]
  },
  {
   "cell_type": "markdown",
   "metadata": {},
   "source": [
    "<br>\n",
    "\n",
    "Zabudovaná funkce `type()` nám vrací ve všech příkladech různé datové typy.\n",
    "\n",
    "<br>\n",
    "\n",
    "Současně všem těmto datovým typům předchází klíčový výraz `class`, tedy **třída**.\n",
    "\n",
    "<br>\n",
    "\n",
    "*Třída* je v podstatě vzor, která slouží k vytvoření nového objektu, tzv. **instance**.\n",
    "\n",
    "<br>\n",
    "\n",
    "<img src=\"https://i.imgur.com/hFOhwwV.png\" width=\"800\">\n",
    "\n",
    "<br>\n",
    "\n",
    "Jednotlivé objekty vytvořené při procesu *instancování* jsou potom produkty (*~instance*) konkrétní mateřské třídy:"
   ]
  },
  {
   "cell_type": "code",
   "execution_count": 2,
   "metadata": {},
   "outputs": [
    {
     "data": {
      "text/plain": [
       "str"
      ]
     },
     "execution_count": 2,
     "metadata": {},
     "output_type": "execute_result"
    }
   ],
   "source": [
    "name = \"Matous\"                              # instance třídy\n",
    "name.__class__                               # třída, ze které jsem instanci vytvořil"
   ]
  },
  {
   "cell_type": "code",
   "execution_count": 3,
   "metadata": {},
   "outputs": [
    {
     "data": {
      "text/plain": [
       "set"
      ]
     },
     "execution_count": 3,
     "metadata": {},
     "output_type": "execute_result"
    }
   ],
   "source": [
    "names = {\"Matous\", \"Marek\", \"Lukas\", \"Jan\"}  # instance\n",
    "names.__class__                              # původní třída"
   ]
  },
  {
   "cell_type": "markdown",
   "metadata": {},
   "source": [
    "<br>\n",
    "\n",
    "##### Vytvoření nové třídy\n",
    "Následující předpis je pouze ilustrativní (ne praktický):"
   ]
  },
  {
   "cell_type": "code",
   "execution_count": 4,
   "metadata": {},
   "outputs": [],
   "source": [
    "class LinkScraper:\n",
    "    \"\"\"Collects links of various types from a main url\"\"\"\n",
    "    pass"
   ]
  },
  {
   "cell_type": "markdown",
   "metadata": {},
   "source": [
    "Na předchozím zápisu si můžeš všimnout několika rysů:\n",
    "1. `class`, klíčový výraz pro definici nové třídy,\n",
    "2. `LinkScraper`, jméno třídy, formát *CapWords* nebo také *CamelCase*, jednotné číslo,\n",
    "<!-- https://www.python.org/dev/peps/pep-0008/#naming-conventions -->\n",
    "3. `:` dvojtečka, ukončující předpis,\n",
    "4. `\"\"\"Collects links ...\"\"\"` dokumentace třídy,\n",
    "5. `pass`, prázdné ohlášení (např. pro budoucí účely)."
   ]
  },
  {
   "cell_type": "code",
   "execution_count": 5,
   "metadata": {},
   "outputs": [
    {
     "name": "stdout",
     "output_type": "stream",
     "text": [
      "<class 'type'>\n"
     ]
    }
   ],
   "source": [
    "class LinkScraper:\n",
    "    \"\"\"Collects links of various types from a main url\"\"\"\n",
    "    pass\n",
    "\n",
    "print(type(LinkScraper))"
   ]
  },
  {
   "cell_type": "markdown",
   "metadata": {},
   "source": [
    "<br>\n",
    "\n",
    "Pokud si budeš chtít ověřit o jaký datový typ v případě naší **vlastní třídy**, dostaneš netradiční výstup `<class 'type'>`.\n",
    "\n",
    "<br>\n",
    "\n",
    "Jak je neustále omíláno, *všechno v Pythonu je objekt* a třídy nejsou žádnou výjimkou.\n",
    "\n",
    "<br>\n",
    "\n",
    "Proto i třída musí mít nějaký svůj typ (~type):\n",
    "\n",
    "<br>\n",
    "\n",
    "<img src=\"https://i.imgur.com/z0XN2Gh.png\" width=\"800\">\n",
    "\n",
    "<br>\n",
    "\n",
    "#### Instance třídy\n",
    "\n",
    "---\n",
    "\n",
    "Tvorba instance je proces (instancování), kdy použiju **jméno třídy** (návod) a vytvořím **produkt** (instanci)."
   ]
  },
  {
   "cell_type": "code",
   "execution_count": 6,
   "metadata": {},
   "outputs": [
    {
     "name": "stdout",
     "output_type": "stream",
     "text": [
      "140374705617600\n",
      "140374705615008\n",
      "<class '__main__.LinkScraper'>\n",
      "<class '__main__.LinkScraper'>\n"
     ]
    }
   ],
   "source": [
    "class LinkScraper:\n",
    "    \"\"\"Collects links of various types from a main url\"\"\"\n",
    "    pass\n",
    "\n",
    "instance_1 = LinkScraper()  # diskuze\n",
    "instance_2 = LinkScraper()  # produkty\n",
    "\n",
    "print(\n",
    "    id(instance_1),\n",
    "    id(instance_2),\n",
    "    type(instance_1),\n",
    "    type(instance_2),\n",
    "    sep=\"\\n\"\n",
    ")"
   ]
  },
  {
   "cell_type": "markdown",
   "metadata": {},
   "source": [
    "<br>\n",
    "\n",
    "#### Atribut třídy\n",
    "\n",
    "---\n",
    "\n",
    "**Třídní atribut** nebo také **třídní proměnná** je proměnná (~vlastnost), která náleží třídě samotné.\n",
    "\n",
    "<br>\n",
    "\n",
    "Jednotlivé třídní instance si tuto hodnotu z mateřské třídy předávají(sdílí) a mohou ji dokonce **přepisovat**!\n",
    "\n",
    "<br>\n",
    "\n",
    "##### Vytvoření třídního atributu"
   ]
  },
  {
   "cell_type": "code",
   "execution_count": 7,
   "metadata": {},
   "outputs": [
    {
     "name": "stdout",
     "output_type": "stream",
     "text": [
      "EngetoLinkScraper.host='https://engeto.cz'\n",
      "courses_scraper.host='https://engeto.cz'\n",
      "blogs_scraper.host='https://engeto.cz'\n"
     ]
    }
   ],
   "source": [
    "class EngetoLinkScraper:\n",
    "    \"\"\"Collects links of various types from a main url\"\"\"\n",
    "    host: str = \"https://engeto.cz\"  # třídní atribut\n",
    "\n",
    "\n",
    "print(f\"{EngetoLinkScraper.host=}\")        # bez vytvoření instance třídy\n",
    "\n",
    "courses_scraper = EngetoLinkScraper()      # instance 1.\n",
    "blogs_scraper = EngetoLinkScraper()        # instance 2.\n",
    "\n",
    "print(f\"{courses_scraper.host=}\")    # instance získá třídní atribut\n",
    "print(f\"{blogs_scraper.host=}\")      # ..."
   ]
  },
  {
   "cell_type": "markdown",
   "metadata": {},
   "source": [
    "<br>\n",
    "\n",
    "##### Přepisování třídního atributu"
   ]
  },
  {
   "cell_type": "code",
   "execution_count": 8,
   "metadata": {},
   "outputs": [
    {
     "name": "stdout",
     "output_type": "stream",
     "text": [
      "EngetoLinkScraper.results=[]\n",
      "EngetoLinkScraper.results=['https://engeto.cz/product-1', 'https://engeto.cz/product-2']\n",
      "product_scraper.results=['https://engeto.cz/product-1', 'https://engeto.cz/product-2']\n",
      "discussion_scraper.results=['https://engeto.cz/product-1', 'https://engeto.cz/product-2']\n"
     ]
    }
   ],
   "source": [
    "class EngetoLinkScraper:\n",
    "    \"\"\"Collects links of various types from a main url\"\"\"\n",
    "    host: str = \"https://engeto.cz\"  # třídní atribut\n",
    "    results: list = []               # třídní atribut\n",
    "\n",
    "print(f\"{EngetoLinkScraper.results=}\")        # bez vytvoření instance třídy\n",
    "    \n",
    "product_scraper = EngetoLinkScraper()\n",
    "discussion_scraper = EngetoLinkScraper()\n",
    "\n",
    "product_scraper.results.append(\"https://engeto.cz/product-1\")\n",
    "product_scraper.results.append(\"https://engeto.cz/product-2\")\n",
    "\n",
    "print(f\"{EngetoLinkScraper.results=}\")        # upravený třídní atribut..\n",
    "print(f\"{product_scraper.results=}\")          # ..obsahuje stejné hodnoty..\n",
    "print(f\"{discussion_scraper.results=}\")       # ve všech instancích"
   ]
  },
  {
   "cell_type": "markdown",
   "metadata": {},
   "source": [
    "#### Atribut instance\n",
    "\n",
    "---\n",
    "\n",
    "Instanční atribut, na druhou stranu, je proměnná, která patří **pouze vytvořené instanci**. Samotná třída k nemá přístup\n",
    "\n",
    "<br>\n",
    "\n",
    "##### Vytvoření třídní instance\n",
    "\n",
    "Nejprve si musíme ukázat jak interpret vytvoří novou **třídní instanci**.\n",
    "\n",
    "<br>\n",
    "\n",
    "Pokud nezapíšeme příslušnou metodu (konstruktor), interpret vychází z (na pozadí) **prázdné metody**. Ta nám umožní vytvořit instanci:\n",
    "```python\n",
    "class EngetoLinkScraper:\n",
    "    \"\"\"Collects links of various types from a main url\"\"\"\n",
    "    host: str = \"https://engeto.cz\"\n",
    "\n",
    "courses_scraper = LinkScraper()\n",
    "```\n",
    "\n",
    "<br>\n",
    "\n",
    "Metody, které interpret potřebuje pro **vytvoření nové instance** jsou:\n",
    "1. `__new__`, *vytvoří* nový objekt (netřeba definovat),\n",
    "2. `__init__`, *inicializuje* nový objekt."
   ]
  },
  {
   "cell_type": "code",
   "execution_count": 9,
   "metadata": {},
   "outputs": [],
   "source": [
    "class EngetoLinkScraper:\n",
    "    \"\"\"Collects links of various types from a main url\"\"\"\n",
    "    host: str = \"https://engeto.cz\"  # třídní atribut\n",
    "        \n",
    "    def __init__(self, path: str):   # iniciátor nových instancí\n",
    "        self.path = path             # instanční atribut"
   ]
  },
  {
   "cell_type": "markdown",
   "metadata": {},
   "source": [
    "<br>\n",
    "\n",
    "Zkusíme vytvořit instanci jako doposud:"
   ]
  },
  {
   "cell_type": "code",
   "execution_count": 10,
   "metadata": {},
   "outputs": [
    {
     "ename": "TypeError",
     "evalue": "__init__() missing 1 required positional argument: 'path'",
     "output_type": "error",
     "traceback": [
      "\u001b[0;31m---------------------------------------------------------------------------\u001b[0m",
      "\u001b[0;31mTypeError\u001b[0m                                 Traceback (most recent call last)",
      "\u001b[0;32m<ipython-input-10-935e883251c1>\u001b[0m in \u001b[0;36m<module>\u001b[0;34m\u001b[0m\n\u001b[0;32m----> 1\u001b[0;31m \u001b[0mcourses_scraper\u001b[0m \u001b[0;34m=\u001b[0m \u001b[0mEngetoLinkScraper\u001b[0m\u001b[0;34m(\u001b[0m\u001b[0;34m)\u001b[0m\u001b[0;34m\u001b[0m\u001b[0;34m\u001b[0m\u001b[0m\n\u001b[0m",
      "\u001b[0;31mTypeError\u001b[0m: __init__() missing 1 required positional argument: 'path'"
     ]
    }
   ],
   "source": [
    "courses_scraper = EngetoLinkScraper()"
   ]
  },
  {
   "cell_type": "markdown",
   "metadata": {},
   "source": [
    "<br>\n",
    "\n",
    "Z ukázky je vidět, že pro vytvoření instance potřebuji argument `path`, což bude prozatím libovolný `str`:"
   ]
  },
  {
   "cell_type": "code",
   "execution_count": 11,
   "metadata": {},
   "outputs": [],
   "source": [
    "courses_scraper: EngetoLinkScraper = EngetoLinkScraper(\"product\")"
   ]
  },
  {
   "cell_type": "markdown",
   "metadata": {},
   "source": [
    "<br>\n",
    "\n",
    "Takže metoda `__init__` v definici třídy potřebuje parametry `self` a `path`, ale při inicializaci stačí zapsat jen argument pro `path`.\n",
    "\n",
    "<br>\n",
    "\n",
    "Co potom představuje *keyword* `self`?\n",
    "\n",
    "```python\n",
    "    def __init__(self, path: str):\n",
    "        self.path = path\n",
    "```\n",
    "\n",
    "`self` je v podstatě **pomocný odkaz**, který odkazuje na **budoucí vytvořené instance**, ke kterým přiřazuje instanční **atributy** a **metody**.\n",
    "\n",
    "<br>\n",
    "\n",
    "Díky němu můžeš přiřadit proměnné do instance, která ještě **nevznikla**.\n",
    "\n",
    "<br>\n",
    "\n",
    "**Použití**:\n",
    "1. Záměrně se zapisuje jako **první parametr**,\n",
    "2. vkládám jej jako parametr do každé metody, kde chci **zpřístupnit instanční atributy**."
   ]
  },
  {
   "cell_type": "code",
   "execution_count": 12,
   "metadata": {},
   "outputs": [
    {
     "name": "stdout",
     "output_type": "stream",
     "text": [
      "EngetoLinkScraper.host='https://engeto.cz'\n",
      "courses_scraper.host='https://engeto.cz'\n",
      "courses_scraper.path='product'\n",
      "blogs_scraper.path='blog'\n",
      "blogs_scraper.path='blog'\n"
     ]
    }
   ],
   "source": [
    "class EngetoLinkScraper:\n",
    "    \"\"\"Collects links of various types from a main url\"\"\"\n",
    "    host: str = \"https://engeto.cz\"  # třídní atribut\n",
    "        \n",
    "    def __init__(self, path: str):\n",
    "        self.path = path             # instanční atribut\n",
    "        \n",
    "\n",
    "print(f\"{EngetoLinkScraper.host=}\")  # dostanu na něj bez instance\n",
    "\n",
    "courses_scraper = EngetoLinkScraper(\"product\")\n",
    "blogs_scraper = EngetoLinkScraper(\"blog\")\n",
    "\n",
    "print(f\"{courses_scraper.host=}\")    # třídní atribut\n",
    "print(f\"{courses_scraper.path=}\")    # instanční atribut\n",
    "print(f\"{blogs_scraper.host=}\")      # třídní atribut\n",
    "print(f\"{blogs_scraper.path=}\")      # instanční atribut"
   ]
  },
  {
   "cell_type": "code",
   "execution_count": null,
   "metadata": {},
   "outputs": [],
   "source": [
    "print(f\"{EngetoLinkScraper.path=}\")        # třída se k instančnímu atributu nedostane"
   ]
  },
  {
   "cell_type": "markdown",
   "metadata": {},
   "source": [
    "<br>\n",
    "\n",
    "Pokud potřebuješ vytvořit novou instanci, ale **nevyžaduješ** od ní žádné konkrétní **instanční argumenty**, můžeš použít defaultní metodu `__init__` (nezapíšeš ji do třídy)."
   ]
  },
  {
   "cell_type": "code",
   "execution_count": 21,
   "metadata": {},
   "outputs": [],
   "source": [
    "class Image:\n",
    "    pass\n",
    "\n",
    "\n",
    "class ImageGenerator:\n",
    "    \"\"\"Generate images in specific resolutions.\"\"\"\n",
    "    \n",
    "    # Metoda '__init__' chybí\n",
    "    \n",
    "    def generate_low_resolution(self, content: Image, x: int = 320, y: int = 180):\n",
    "        print(f\"Generating picture (resolution:{x}x{y})\")\n",
    "    \n",
    "    def generate_medium_resolution(self, content: Image, x: int = 1200, y: int = 800):\n",
    "        print(f\"Generating picture (resolution:{x}x{y})\")\n",
    "        \n",
    "    def generate_high_resolution(self, content: Image, x: int = 3840, y: int = 2160):\n",
    "        print(f\"Generating picture (resolution:{x}x{y})\")"
   ]
  },
  {
   "cell_type": "code",
   "execution_count": 22,
   "metadata": {},
   "outputs": [
    {
     "name": "stdout",
     "output_type": "stream",
     "text": [
      "Generating picture (resolution:320x180)\n",
      "Generating picture (resolution:1200x800)\n"
     ]
    }
   ],
   "source": [
    "low_res_image = ImageGenerator()\n",
    "low_res_image.generate_low_resolution(Image())\n",
    "\n",
    "med_res_image = ImageGenerator()\n",
    "med_res_image.generate_medium_resolution(Image())"
   ]
  },
  {
   "cell_type": "markdown",
   "metadata": {},
   "source": [
    "#### Úloha\n",
    "\n",
    "---\n",
    "První úlohou bude napsat službu zpracovávající firemní tickety.\n",
    "\n",
    "<br>\n",
    "\n",
    "Průběh celé aplikace:\n",
    "```python\n",
    "\"\"\"\n",
    "1. Iniciace aplikace (zadáme škálu důležitosti priorit),\n",
    "2. zadáme několik nových ticketů (jméno, zpráva),\n",
    "3. zpracujeme tickety,\n",
    "\"\"\"\n",
    "```\n",
    "\n",
    "<br>\n",
    "\n",
    "Následný výstup:\n",
    "```\n",
    "Created: 09/11/21, 08:37:09\n",
    "Processing ticket id: TPTUZSIY\n",
    "Issue: ...\n",
    "Customer: ...\n",
    "Importance: 9\n",
    "==================================\n",
    "Created: 09/11/21, 08:37:09\n",
    "Processing ticket id: DOGGOKZL\n",
    "Issue: ...\n",
    "Customer: ...\n",
    "Importance: 10\n",
    "==================================\n",
    "Created: 09/11/21, 08:37:09\n",
    "Processing ticket id: LUTAIXAS\n",
    "Issue: ...\n",
    "Customer: ...\n",
    "Importance: 4\n",
    "==================================\n",
    "```"
   ]
  },
  {
   "cell_type": "code",
   "execution_count": 2,
   "metadata": {},
   "outputs": [
    {
     "name": "stdout",
     "output_type": "stream",
     "text": [
      "Created: 09/11/21, 15:48:44\n",
      "Processing ticket id: 5f194cb2-eaab-4e11-824a-08b5070ea53f\n",
      "Issue: Petr Svetr\n",
      "Customer: Klimatizace v kanceláři A123 je rozbitá!\n",
      "Importance: 10\n",
      "==================================\n",
      "Created: 09/11/21, 15:48:44\n",
      "Processing ticket id: 96cc3948-be7f-4bd1-a1e8-04f1c9c9258a\n",
      "Issue: Matouš Nepříjemný\n",
      "Customer: Na záchodě je pouze dvouvrstvý toaletní papír.\n",
      "Importance: 8\n",
      "==================================\n",
      "Created: 09/11/21, 15:48:44\n",
      "Processing ticket id: dbb00dfb-1f58-4e26-b43c-ef169c501f5a\n",
      "Issue: Tereza Netrpělivá\n",
      "Customer: Indexování v PyCharmu trvá hrozně dlouho\n",
      "Importance: 1\n",
      "==================================\n"
     ]
    }
   ],
   "source": [
    "import uuid\n",
    "import random\n",
    "import datetime\n",
    "from typing import List\n",
    "\n",
    "\n",
    "class SupportTicket:\n",
    "    \"\"\"Create new ticket\"\"\"\n",
    "    current_time: str = datetime.datetime.now()\n",
    "    time_format: str = \"%d/%m/%y, %H:%M:%S\"\n",
    "\n",
    "    def __init__(self, customer: str, issue: str):\n",
    "        self.issue = issue\n",
    "        self.customer = customer\n",
    "        self.ticket_id: uuid.UUID = self.generate_ticket_id()\n",
    "        self.timestamp: str = self.current_time.strftime(self.time_format)\n",
    "    \n",
    "    def generate_ticket_id(self) -> uuid.UUID:\n",
    "        \"\"\"Generate random uppercase string.\"\"\"\n",
    "        return uuid.uuid4()\n",
    "\n",
    "\n",
    "class CustomerSupport:\n",
    "    \"\"\"Process the ticket from the customers.\"\"\"\n",
    "    \n",
    "    def __init__(self, scale: range):\n",
    "        self.scale = scale\n",
    "        self.tickets: list = []\n",
    "\n",
    "    def create_ticket(self, customer: str, issue: str) -> None:\n",
    "        \"\"\"Adding a new ticket to the list. :)\"\"\"\n",
    "        self.tickets.append(SupportTicket(customer, issue))\n",
    "\n",
    "    def process_tickets(self) -> None:\n",
    "        \"\"\"Evaluate the importance of the ticket.\"\"\"\n",
    "        if not len(self.tickets):\n",
    "            print(\"There are no tickets to process. Well done!\")\n",
    "        elif self.scale:\n",
    "            for ticket in self.tickets:\n",
    "                importance: int = random.choice(self.scale)\n",
    "                self.process_ticket(ticket, importance)\n",
    "\n",
    "    def process_ticket(self, ticket: SupportTicket, importance: int) -> None:\n",
    "        print(\n",
    "            f\"Created: {ticket.timestamp}\",\n",
    "            f\"Processing ticket id: {ticket.ticket_id}\",\n",
    "            f\"Issue: {ticket.customer}\",\n",
    "            f\"Customer: {ticket.issue}\",\n",
    "            f\"Importance: {importance}\",\n",
    "            \"==================================\",\n",
    "            sep=\"\\n\"\n",
    "        )\n",
    "\n",
    "\n",
    "# vytvoření aplikace\n",
    "app = CustomerSupport(range(11))\n",
    "\n",
    "# registrace několika ticketů\n",
    "app.create_ticket(\"Petr Svetr\", \"Klimatizace v kanceláři A123 je rozbitá!\")\n",
    "app.create_ticket(\"Matouš Nepříjemný\", \"Na záchodě je pouze dvouvrstvý toaletní papír.\")\n",
    "app.create_ticket(\"Tereza Netrpělivá\", \"Indexování v PyCharmu trvá hrozně dlouho\")\n",
    "\n",
    "# zpracování ticketů\n",
    "app.process_tickets()"
   ]
  },
  {
   "cell_type": "markdown",
   "metadata": {},
   "source": [
    "---"
   ]
  }
 ],
 "metadata": {
  "kernelspec": {
   "display_name": "Python 3",
   "language": "python",
   "name": "python3"
  },
  "language_info": {
   "codemirror_mode": {
    "name": "ipython",
    "version": 3
   },
   "file_extension": ".py",
   "mimetype": "text/x-python",
   "name": "python",
   "nbconvert_exporter": "python",
   "pygments_lexer": "ipython3",
   "version": "3.8.10"
  }
 },
 "nbformat": 4,
 "nbformat_minor": 4
}
