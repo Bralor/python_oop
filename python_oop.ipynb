{
 "cells": [
  {
   "cell_type": "markdown",
   "metadata": {},
   "source": [
    "### Úvod do objektově-orientovaného programování v Pythonu\n",
    "---\n",
    "\n",
    "<br>\n",
    "\n",
    "#### 00. Intro\n",
    "\n",
    "<br>\n",
    "\n",
    "#### 01. [Lekce #01](notebooks/lesson01.ipynb)\n",
    "\n",
    "<br>\n",
    "\n",
    "#### 02. Lekce #02\n",
    "\n",
    "<br>\n",
    "\n",
    "#### 03. Lekce #03\n",
    "\n",
    "<br>\n",
    "\n",
    "#### 04. Lekce #03\n",
    "\n",
    "<br>\n",
    "\n",
    "#### 05. Outro\n",
    "\n",
    "<br>\n",
    "\n",
    "---"
   ]
  },
  {
   "cell_type": "code",
   "execution_count": null,
   "metadata": {},
   "outputs": [],
   "source": []
  }
 ],
 "metadata": {
  "kernelspec": {
   "display_name": "Python 3",
   "language": "python",
   "name": "python3"
  },
  "language_info": {
   "codemirror_mode": {
    "name": "ipython",
    "version": 3
   },
   "file_extension": ".py",
   "mimetype": "text/x-python",
   "name": "python",
   "nbconvert_exporter": "python",
   "pygments_lexer": "ipython3",
   "version": "3.8.10"
  }
 },
 "nbformat": 4,
 "nbformat_minor": 4
}
